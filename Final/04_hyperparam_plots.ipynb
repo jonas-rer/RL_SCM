{
 "cells": [
  {
   "cell_type": "code",
   "execution_count": 4,
   "metadata": {},
   "outputs": [],
   "source": [
    "# Import helpers\n",
    "import numpy as np\n",
    "import pandas as pd\n",
    "import random\n",
    "import os\n",
    "import json\n",
    "import csv\n",
    "import matplotlib.pyplot as plt\n",
    "import seaborn as sns\n",
    "import optuna\n",
    "import pickle\n",
    "\n",
    "from collections import deque\n",
    "\n",
    "# Import tensorflow\n",
    "import tensorflow as tf\n",
    "\n",
    "# Import custom classes\n",
    "from Environment.env_v9 import *\n",
    "from Functions.visualization_functions import *\n",
    "\n",
    "# Import custom functions\n",
    "from Functions.greedy_algorithm import *"
   ]
  },
  {
   "cell_type": "code",
   "execution_count": 5,
   "metadata": {},
   "outputs": [],
   "source": [
    "# Load the study from a file\n",
    "with open(\"./Training/Tuning/A2C_optuna_study_2024-12-04_01_54.pkl\", \"rb\") as f:\n",
    "    study = pickle.load(f)\n",
    "\n",
    "# print(\"Best parameters from loaded study:\", study.best_params)\n",
    "\n",
    "# # Load the study from a file\n",
    "# with open(\"./Training/Tuning/DDPG_optuna_study_2024-12-03_21_28.pkl\", \"rb\") as f:\n",
    "#     study = pickle.load(f)\n",
    "\n",
    "# print(\"Best parameters from loaded study:\", study.best_params)\n",
    "\n",
    "# # Load the study from a file\n",
    "# with open(\"./Training/Tuning/PPO_optuna_study_2024-12-03_21_28.pkl\", \"rb\") as f:\n",
    "#     study = pickle.load(f)\n",
    "\n",
    "# print(\"Best parameters from loaded study:\", study.best_params)"
   ]
  },
  {
   "cell_type": "markdown",
   "metadata": {},
   "source": [
    "**Plot Optimization History**\n",
    "\n",
    "This plot shows the best trial value at each step of the optimization process."
   ]
  },
  {
   "cell_type": "code",
   "execution_count": 6,
   "metadata": {},
   "outputs": [
    {
     "data": {
      "application/vnd.plotly.v1+json": {
       "config": {
        "plotlyServerURL": "https://plot.ly"
       },
       "data": [
        {
         "mode": "markers",
         "name": "Objective Value",
         "type": "scatter",
         "x": [
          0,
          1,
          2,
          3,
          4,
          5,
          6,
          7,
          8,
          9,
          10,
          11,
          12,
          13,
          14,
          15,
          16,
          17,
          18,
          19
         ],
         "y": [
          -1580196.552,
          -17358035.482,
          -12391805.092000002,
          -19814351.84,
          -18266311.002,
          -19637775,
          -19294582.597999997,
          -2005254.284,
          -55901.058000000005,
          -189204.658,
          -56120.873999999996,
          -158009.696,
          -58267.732,
          -16326286.925999999,
          -19702608.476,
          -11990231.954,
          -56911.81999999999,
          -14624574.513999999,
          -1816433.36,
          -19024235.002
         ]
        },
        {
         "mode": "lines",
         "name": "Best Value",
         "type": "scatter",
         "x": [
          0,
          1,
          2,
          3,
          4,
          5,
          6,
          7,
          8,
          9,
          10,
          11,
          12,
          13,
          14,
          15,
          16,
          17,
          18,
          19
         ],
         "y": [
          -1580196.552,
          -1580196.552,
          -1580196.552,
          -1580196.552,
          -1580196.552,
          -1580196.552,
          -1580196.552,
          -1580196.552,
          -55901.058000000005,
          -55901.058000000005,
          -55901.058000000005,
          -55901.058000000005,
          -55901.058000000005,
          -55901.058000000005,
          -55901.058000000005,
          -55901.058000000005,
          -55901.058000000005,
          -55901.058000000005,
          -55901.058000000005,
          -55901.058000000005
         ]
        },
        {
         "marker": {
          "color": "#cccccc"
         },
         "mode": "markers",
         "name": "Infeasible Trial",
         "showlegend": false,
         "type": "scatter",
         "x": [],
         "y": []
        }
       ],
       "layout": {
        "template": {
         "data": {
          "bar": [
           {
            "error_x": {
             "color": "#2a3f5f"
            },
            "error_y": {
             "color": "#2a3f5f"
            },
            "marker": {
             "line": {
              "color": "#E5ECF6",
              "width": 0.5
             },
             "pattern": {
              "fillmode": "overlay",
              "size": 10,
              "solidity": 0.2
             }
            },
            "type": "bar"
           }
          ],
          "barpolar": [
           {
            "marker": {
             "line": {
              "color": "#E5ECF6",
              "width": 0.5
             },
             "pattern": {
              "fillmode": "overlay",
              "size": 10,
              "solidity": 0.2
             }
            },
            "type": "barpolar"
           }
          ],
          "carpet": [
           {
            "aaxis": {
             "endlinecolor": "#2a3f5f",
             "gridcolor": "white",
             "linecolor": "white",
             "minorgridcolor": "white",
             "startlinecolor": "#2a3f5f"
            },
            "baxis": {
             "endlinecolor": "#2a3f5f",
             "gridcolor": "white",
             "linecolor": "white",
             "minorgridcolor": "white",
             "startlinecolor": "#2a3f5f"
            },
            "type": "carpet"
           }
          ],
          "choropleth": [
           {
            "colorbar": {
             "outlinewidth": 0,
             "ticks": ""
            },
            "type": "choropleth"
           }
          ],
          "contour": [
           {
            "colorbar": {
             "outlinewidth": 0,
             "ticks": ""
            },
            "colorscale": [
             [
              0,
              "#0d0887"
             ],
             [
              0.1111111111111111,
              "#46039f"
             ],
             [
              0.2222222222222222,
              "#7201a8"
             ],
             [
              0.3333333333333333,
              "#9c179e"
             ],
             [
              0.4444444444444444,
              "#bd3786"
             ],
             [
              0.5555555555555556,
              "#d8576b"
             ],
             [
              0.6666666666666666,
              "#ed7953"
             ],
             [
              0.7777777777777778,
              "#fb9f3a"
             ],
             [
              0.8888888888888888,
              "#fdca26"
             ],
             [
              1,
              "#f0f921"
             ]
            ],
            "type": "contour"
           }
          ],
          "contourcarpet": [
           {
            "colorbar": {
             "outlinewidth": 0,
             "ticks": ""
            },
            "type": "contourcarpet"
           }
          ],
          "heatmap": [
           {
            "colorbar": {
             "outlinewidth": 0,
             "ticks": ""
            },
            "colorscale": [
             [
              0,
              "#0d0887"
             ],
             [
              0.1111111111111111,
              "#46039f"
             ],
             [
              0.2222222222222222,
              "#7201a8"
             ],
             [
              0.3333333333333333,
              "#9c179e"
             ],
             [
              0.4444444444444444,
              "#bd3786"
             ],
             [
              0.5555555555555556,
              "#d8576b"
             ],
             [
              0.6666666666666666,
              "#ed7953"
             ],
             [
              0.7777777777777778,
              "#fb9f3a"
             ],
             [
              0.8888888888888888,
              "#fdca26"
             ],
             [
              1,
              "#f0f921"
             ]
            ],
            "type": "heatmap"
           }
          ],
          "heatmapgl": [
           {
            "colorbar": {
             "outlinewidth": 0,
             "ticks": ""
            },
            "colorscale": [
             [
              0,
              "#0d0887"
             ],
             [
              0.1111111111111111,
              "#46039f"
             ],
             [
              0.2222222222222222,
              "#7201a8"
             ],
             [
              0.3333333333333333,
              "#9c179e"
             ],
             [
              0.4444444444444444,
              "#bd3786"
             ],
             [
              0.5555555555555556,
              "#d8576b"
             ],
             [
              0.6666666666666666,
              "#ed7953"
             ],
             [
              0.7777777777777778,
              "#fb9f3a"
             ],
             [
              0.8888888888888888,
              "#fdca26"
             ],
             [
              1,
              "#f0f921"
             ]
            ],
            "type": "heatmapgl"
           }
          ],
          "histogram": [
           {
            "marker": {
             "pattern": {
              "fillmode": "overlay",
              "size": 10,
              "solidity": 0.2
             }
            },
            "type": "histogram"
           }
          ],
          "histogram2d": [
           {
            "colorbar": {
             "outlinewidth": 0,
             "ticks": ""
            },
            "colorscale": [
             [
              0,
              "#0d0887"
             ],
             [
              0.1111111111111111,
              "#46039f"
             ],
             [
              0.2222222222222222,
              "#7201a8"
             ],
             [
              0.3333333333333333,
              "#9c179e"
             ],
             [
              0.4444444444444444,
              "#bd3786"
             ],
             [
              0.5555555555555556,
              "#d8576b"
             ],
             [
              0.6666666666666666,
              "#ed7953"
             ],
             [
              0.7777777777777778,
              "#fb9f3a"
             ],
             [
              0.8888888888888888,
              "#fdca26"
             ],
             [
              1,
              "#f0f921"
             ]
            ],
            "type": "histogram2d"
           }
          ],
          "histogram2dcontour": [
           {
            "colorbar": {
             "outlinewidth": 0,
             "ticks": ""
            },
            "colorscale": [
             [
              0,
              "#0d0887"
             ],
             [
              0.1111111111111111,
              "#46039f"
             ],
             [
              0.2222222222222222,
              "#7201a8"
             ],
             [
              0.3333333333333333,
              "#9c179e"
             ],
             [
              0.4444444444444444,
              "#bd3786"
             ],
             [
              0.5555555555555556,
              "#d8576b"
             ],
             [
              0.6666666666666666,
              "#ed7953"
             ],
             [
              0.7777777777777778,
              "#fb9f3a"
             ],
             [
              0.8888888888888888,
              "#fdca26"
             ],
             [
              1,
              "#f0f921"
             ]
            ],
            "type": "histogram2dcontour"
           }
          ],
          "mesh3d": [
           {
            "colorbar": {
             "outlinewidth": 0,
             "ticks": ""
            },
            "type": "mesh3d"
           }
          ],
          "parcoords": [
           {
            "line": {
             "colorbar": {
              "outlinewidth": 0,
              "ticks": ""
             }
            },
            "type": "parcoords"
           }
          ],
          "pie": [
           {
            "automargin": true,
            "type": "pie"
           }
          ],
          "scatter": [
           {
            "fillpattern": {
             "fillmode": "overlay",
             "size": 10,
             "solidity": 0.2
            },
            "type": "scatter"
           }
          ],
          "scatter3d": [
           {
            "line": {
             "colorbar": {
              "outlinewidth": 0,
              "ticks": ""
             }
            },
            "marker": {
             "colorbar": {
              "outlinewidth": 0,
              "ticks": ""
             }
            },
            "type": "scatter3d"
           }
          ],
          "scattercarpet": [
           {
            "marker": {
             "colorbar": {
              "outlinewidth": 0,
              "ticks": ""
             }
            },
            "type": "scattercarpet"
           }
          ],
          "scattergeo": [
           {
            "marker": {
             "colorbar": {
              "outlinewidth": 0,
              "ticks": ""
             }
            },
            "type": "scattergeo"
           }
          ],
          "scattergl": [
           {
            "marker": {
             "colorbar": {
              "outlinewidth": 0,
              "ticks": ""
             }
            },
            "type": "scattergl"
           }
          ],
          "scattermapbox": [
           {
            "marker": {
             "colorbar": {
              "outlinewidth": 0,
              "ticks": ""
             }
            },
            "type": "scattermapbox"
           }
          ],
          "scatterpolar": [
           {
            "marker": {
             "colorbar": {
              "outlinewidth": 0,
              "ticks": ""
             }
            },
            "type": "scatterpolar"
           }
          ],
          "scatterpolargl": [
           {
            "marker": {
             "colorbar": {
              "outlinewidth": 0,
              "ticks": ""
             }
            },
            "type": "scatterpolargl"
           }
          ],
          "scatterternary": [
           {
            "marker": {
             "colorbar": {
              "outlinewidth": 0,
              "ticks": ""
             }
            },
            "type": "scatterternary"
           }
          ],
          "surface": [
           {
            "colorbar": {
             "outlinewidth": 0,
             "ticks": ""
            },
            "colorscale": [
             [
              0,
              "#0d0887"
             ],
             [
              0.1111111111111111,
              "#46039f"
             ],
             [
              0.2222222222222222,
              "#7201a8"
             ],
             [
              0.3333333333333333,
              "#9c179e"
             ],
             [
              0.4444444444444444,
              "#bd3786"
             ],
             [
              0.5555555555555556,
              "#d8576b"
             ],
             [
              0.6666666666666666,
              "#ed7953"
             ],
             [
              0.7777777777777778,
              "#fb9f3a"
             ],
             [
              0.8888888888888888,
              "#fdca26"
             ],
             [
              1,
              "#f0f921"
             ]
            ],
            "type": "surface"
           }
          ],
          "table": [
           {
            "cells": {
             "fill": {
              "color": "#EBF0F8"
             },
             "line": {
              "color": "white"
             }
            },
            "header": {
             "fill": {
              "color": "#C8D4E3"
             },
             "line": {
              "color": "white"
             }
            },
            "type": "table"
           }
          ]
         },
         "layout": {
          "annotationdefaults": {
           "arrowcolor": "#2a3f5f",
           "arrowhead": 0,
           "arrowwidth": 1
          },
          "autotypenumbers": "strict",
          "coloraxis": {
           "colorbar": {
            "outlinewidth": 0,
            "ticks": ""
           }
          },
          "colorscale": {
           "diverging": [
            [
             0,
             "#8e0152"
            ],
            [
             0.1,
             "#c51b7d"
            ],
            [
             0.2,
             "#de77ae"
            ],
            [
             0.3,
             "#f1b6da"
            ],
            [
             0.4,
             "#fde0ef"
            ],
            [
             0.5,
             "#f7f7f7"
            ],
            [
             0.6,
             "#e6f5d0"
            ],
            [
             0.7,
             "#b8e186"
            ],
            [
             0.8,
             "#7fbc41"
            ],
            [
             0.9,
             "#4d9221"
            ],
            [
             1,
             "#276419"
            ]
           ],
           "sequential": [
            [
             0,
             "#0d0887"
            ],
            [
             0.1111111111111111,
             "#46039f"
            ],
            [
             0.2222222222222222,
             "#7201a8"
            ],
            [
             0.3333333333333333,
             "#9c179e"
            ],
            [
             0.4444444444444444,
             "#bd3786"
            ],
            [
             0.5555555555555556,
             "#d8576b"
            ],
            [
             0.6666666666666666,
             "#ed7953"
            ],
            [
             0.7777777777777778,
             "#fb9f3a"
            ],
            [
             0.8888888888888888,
             "#fdca26"
            ],
            [
             1,
             "#f0f921"
            ]
           ],
           "sequentialminus": [
            [
             0,
             "#0d0887"
            ],
            [
             0.1111111111111111,
             "#46039f"
            ],
            [
             0.2222222222222222,
             "#7201a8"
            ],
            [
             0.3333333333333333,
             "#9c179e"
            ],
            [
             0.4444444444444444,
             "#bd3786"
            ],
            [
             0.5555555555555556,
             "#d8576b"
            ],
            [
             0.6666666666666666,
             "#ed7953"
            ],
            [
             0.7777777777777778,
             "#fb9f3a"
            ],
            [
             0.8888888888888888,
             "#fdca26"
            ],
            [
             1,
             "#f0f921"
            ]
           ]
          },
          "colorway": [
           "#636efa",
           "#EF553B",
           "#00cc96",
           "#ab63fa",
           "#FFA15A",
           "#19d3f3",
           "#FF6692",
           "#B6E880",
           "#FF97FF",
           "#FECB52"
          ],
          "font": {
           "color": "#2a3f5f"
          },
          "geo": {
           "bgcolor": "white",
           "lakecolor": "white",
           "landcolor": "#E5ECF6",
           "showlakes": true,
           "showland": true,
           "subunitcolor": "white"
          },
          "hoverlabel": {
           "align": "left"
          },
          "hovermode": "closest",
          "mapbox": {
           "style": "light"
          },
          "paper_bgcolor": "white",
          "plot_bgcolor": "#E5ECF6",
          "polar": {
           "angularaxis": {
            "gridcolor": "white",
            "linecolor": "white",
            "ticks": ""
           },
           "bgcolor": "#E5ECF6",
           "radialaxis": {
            "gridcolor": "white",
            "linecolor": "white",
            "ticks": ""
           }
          },
          "scene": {
           "xaxis": {
            "backgroundcolor": "#E5ECF6",
            "gridcolor": "white",
            "gridwidth": 2,
            "linecolor": "white",
            "showbackground": true,
            "ticks": "",
            "zerolinecolor": "white"
           },
           "yaxis": {
            "backgroundcolor": "#E5ECF6",
            "gridcolor": "white",
            "gridwidth": 2,
            "linecolor": "white",
            "showbackground": true,
            "ticks": "",
            "zerolinecolor": "white"
           },
           "zaxis": {
            "backgroundcolor": "#E5ECF6",
            "gridcolor": "white",
            "gridwidth": 2,
            "linecolor": "white",
            "showbackground": true,
            "ticks": "",
            "zerolinecolor": "white"
           }
          },
          "shapedefaults": {
           "line": {
            "color": "#2a3f5f"
           }
          },
          "ternary": {
           "aaxis": {
            "gridcolor": "white",
            "linecolor": "white",
            "ticks": ""
           },
           "baxis": {
            "gridcolor": "white",
            "linecolor": "white",
            "ticks": ""
           },
           "bgcolor": "#E5ECF6",
           "caxis": {
            "gridcolor": "white",
            "linecolor": "white",
            "ticks": ""
           }
          },
          "title": {
           "x": 0.05
          },
          "xaxis": {
           "automargin": true,
           "gridcolor": "white",
           "linecolor": "white",
           "ticks": "",
           "title": {
            "standoff": 15
           },
           "zerolinecolor": "white",
           "zerolinewidth": 2
          },
          "yaxis": {
           "automargin": true,
           "gridcolor": "white",
           "linecolor": "white",
           "ticks": "",
           "title": {
            "standoff": 15
           },
           "zerolinecolor": "white",
           "zerolinewidth": 2
          }
         }
        },
        "title": {
         "text": "Optimization History Plot"
        },
        "xaxis": {
         "title": {
          "text": "Trial"
         }
        },
        "yaxis": {
         "title": {
          "text": "Objective Value"
         }
        }
       }
      }
     },
     "metadata": {},
     "output_type": "display_data"
    }
   ],
   "source": [
    "from optuna.visualization import plot_optimization_history\n",
    "\n",
    "fig = plot_optimization_history(study)\n",
    "fig.show()"
   ]
  },
  {
   "cell_type": "markdown",
   "metadata": {},
   "source": [
    "**Plot Hyperparameter Importance**\n",
    "\n",
    "This plot estimates the relative importance of each hyperparameter based on how they affect the objective function."
   ]
  },
  {
   "cell_type": "code",
   "execution_count": 7,
   "metadata": {},
   "outputs": [
    {
     "data": {
      "application/vnd.plotly.v1+json": {
       "config": {
        "plotlyServerURL": "https://plot.ly"
       },
       "data": [
        {
         "cliponaxis": false,
         "hovertemplate": [
          "max_grad_norm (CategoricalDistribution): 0.003498577001129402<extra></extra>",
          "use_rms_prop (CategoricalDistribution): 0.005786521984291534<extra></extra>",
          "gamma (CategoricalDistribution): 0.015817672210810013<extra></extra>",
          "vf_coef (CategoricalDistribution): 0.0188600015857193<extra></extra>",
          "ent_coef (CategoricalDistribution): 0.07728271288323295<extra></extra>",
          "gae_lambda (CategoricalDistribution): 0.20916991914801616<extra></extra>",
          "learning_rate (CategoricalDistribution): 0.2522862877754146<extra></extra>",
          "n_steps (CategoricalDistribution): 0.417298307411386<extra></extra>"
         ],
         "name": "Objective Value",
         "orientation": "h",
         "text": [
          "<0.01",
          "<0.01",
          "0.02",
          "0.02",
          "0.08",
          "0.21",
          "0.25",
          "0.42"
         ],
         "textposition": "outside",
         "type": "bar",
         "x": [
          0.003498577001129402,
          0.005786521984291534,
          0.015817672210810013,
          0.0188600015857193,
          0.07728271288323295,
          0.20916991914801616,
          0.2522862877754146,
          0.417298307411386
         ],
         "y": [
          "max_grad_norm",
          "use_rms_prop",
          "gamma",
          "vf_coef",
          "ent_coef",
          "gae_lambda",
          "learning_rate",
          "n_steps"
         ]
        }
       ],
       "layout": {
        "template": {
         "data": {
          "bar": [
           {
            "error_x": {
             "color": "#2a3f5f"
            },
            "error_y": {
             "color": "#2a3f5f"
            },
            "marker": {
             "line": {
              "color": "#E5ECF6",
              "width": 0.5
             },
             "pattern": {
              "fillmode": "overlay",
              "size": 10,
              "solidity": 0.2
             }
            },
            "type": "bar"
           }
          ],
          "barpolar": [
           {
            "marker": {
             "line": {
              "color": "#E5ECF6",
              "width": 0.5
             },
             "pattern": {
              "fillmode": "overlay",
              "size": 10,
              "solidity": 0.2
             }
            },
            "type": "barpolar"
           }
          ],
          "carpet": [
           {
            "aaxis": {
             "endlinecolor": "#2a3f5f",
             "gridcolor": "white",
             "linecolor": "white",
             "minorgridcolor": "white",
             "startlinecolor": "#2a3f5f"
            },
            "baxis": {
             "endlinecolor": "#2a3f5f",
             "gridcolor": "white",
             "linecolor": "white",
             "minorgridcolor": "white",
             "startlinecolor": "#2a3f5f"
            },
            "type": "carpet"
           }
          ],
          "choropleth": [
           {
            "colorbar": {
             "outlinewidth": 0,
             "ticks": ""
            },
            "type": "choropleth"
           }
          ],
          "contour": [
           {
            "colorbar": {
             "outlinewidth": 0,
             "ticks": ""
            },
            "colorscale": [
             [
              0,
              "#0d0887"
             ],
             [
              0.1111111111111111,
              "#46039f"
             ],
             [
              0.2222222222222222,
              "#7201a8"
             ],
             [
              0.3333333333333333,
              "#9c179e"
             ],
             [
              0.4444444444444444,
              "#bd3786"
             ],
             [
              0.5555555555555556,
              "#d8576b"
             ],
             [
              0.6666666666666666,
              "#ed7953"
             ],
             [
              0.7777777777777778,
              "#fb9f3a"
             ],
             [
              0.8888888888888888,
              "#fdca26"
             ],
             [
              1,
              "#f0f921"
             ]
            ],
            "type": "contour"
           }
          ],
          "contourcarpet": [
           {
            "colorbar": {
             "outlinewidth": 0,
             "ticks": ""
            },
            "type": "contourcarpet"
           }
          ],
          "heatmap": [
           {
            "colorbar": {
             "outlinewidth": 0,
             "ticks": ""
            },
            "colorscale": [
             [
              0,
              "#0d0887"
             ],
             [
              0.1111111111111111,
              "#46039f"
             ],
             [
              0.2222222222222222,
              "#7201a8"
             ],
             [
              0.3333333333333333,
              "#9c179e"
             ],
             [
              0.4444444444444444,
              "#bd3786"
             ],
             [
              0.5555555555555556,
              "#d8576b"
             ],
             [
              0.6666666666666666,
              "#ed7953"
             ],
             [
              0.7777777777777778,
              "#fb9f3a"
             ],
             [
              0.8888888888888888,
              "#fdca26"
             ],
             [
              1,
              "#f0f921"
             ]
            ],
            "type": "heatmap"
           }
          ],
          "heatmapgl": [
           {
            "colorbar": {
             "outlinewidth": 0,
             "ticks": ""
            },
            "colorscale": [
             [
              0,
              "#0d0887"
             ],
             [
              0.1111111111111111,
              "#46039f"
             ],
             [
              0.2222222222222222,
              "#7201a8"
             ],
             [
              0.3333333333333333,
              "#9c179e"
             ],
             [
              0.4444444444444444,
              "#bd3786"
             ],
             [
              0.5555555555555556,
              "#d8576b"
             ],
             [
              0.6666666666666666,
              "#ed7953"
             ],
             [
              0.7777777777777778,
              "#fb9f3a"
             ],
             [
              0.8888888888888888,
              "#fdca26"
             ],
             [
              1,
              "#f0f921"
             ]
            ],
            "type": "heatmapgl"
           }
          ],
          "histogram": [
           {
            "marker": {
             "pattern": {
              "fillmode": "overlay",
              "size": 10,
              "solidity": 0.2
             }
            },
            "type": "histogram"
           }
          ],
          "histogram2d": [
           {
            "colorbar": {
             "outlinewidth": 0,
             "ticks": ""
            },
            "colorscale": [
             [
              0,
              "#0d0887"
             ],
             [
              0.1111111111111111,
              "#46039f"
             ],
             [
              0.2222222222222222,
              "#7201a8"
             ],
             [
              0.3333333333333333,
              "#9c179e"
             ],
             [
              0.4444444444444444,
              "#bd3786"
             ],
             [
              0.5555555555555556,
              "#d8576b"
             ],
             [
              0.6666666666666666,
              "#ed7953"
             ],
             [
              0.7777777777777778,
              "#fb9f3a"
             ],
             [
              0.8888888888888888,
              "#fdca26"
             ],
             [
              1,
              "#f0f921"
             ]
            ],
            "type": "histogram2d"
           }
          ],
          "histogram2dcontour": [
           {
            "colorbar": {
             "outlinewidth": 0,
             "ticks": ""
            },
            "colorscale": [
             [
              0,
              "#0d0887"
             ],
             [
              0.1111111111111111,
              "#46039f"
             ],
             [
              0.2222222222222222,
              "#7201a8"
             ],
             [
              0.3333333333333333,
              "#9c179e"
             ],
             [
              0.4444444444444444,
              "#bd3786"
             ],
             [
              0.5555555555555556,
              "#d8576b"
             ],
             [
              0.6666666666666666,
              "#ed7953"
             ],
             [
              0.7777777777777778,
              "#fb9f3a"
             ],
             [
              0.8888888888888888,
              "#fdca26"
             ],
             [
              1,
              "#f0f921"
             ]
            ],
            "type": "histogram2dcontour"
           }
          ],
          "mesh3d": [
           {
            "colorbar": {
             "outlinewidth": 0,
             "ticks": ""
            },
            "type": "mesh3d"
           }
          ],
          "parcoords": [
           {
            "line": {
             "colorbar": {
              "outlinewidth": 0,
              "ticks": ""
             }
            },
            "type": "parcoords"
           }
          ],
          "pie": [
           {
            "automargin": true,
            "type": "pie"
           }
          ],
          "scatter": [
           {
            "fillpattern": {
             "fillmode": "overlay",
             "size": 10,
             "solidity": 0.2
            },
            "type": "scatter"
           }
          ],
          "scatter3d": [
           {
            "line": {
             "colorbar": {
              "outlinewidth": 0,
              "ticks": ""
             }
            },
            "marker": {
             "colorbar": {
              "outlinewidth": 0,
              "ticks": ""
             }
            },
            "type": "scatter3d"
           }
          ],
          "scattercarpet": [
           {
            "marker": {
             "colorbar": {
              "outlinewidth": 0,
              "ticks": ""
             }
            },
            "type": "scattercarpet"
           }
          ],
          "scattergeo": [
           {
            "marker": {
             "colorbar": {
              "outlinewidth": 0,
              "ticks": ""
             }
            },
            "type": "scattergeo"
           }
          ],
          "scattergl": [
           {
            "marker": {
             "colorbar": {
              "outlinewidth": 0,
              "ticks": ""
             }
            },
            "type": "scattergl"
           }
          ],
          "scattermapbox": [
           {
            "marker": {
             "colorbar": {
              "outlinewidth": 0,
              "ticks": ""
             }
            },
            "type": "scattermapbox"
           }
          ],
          "scatterpolar": [
           {
            "marker": {
             "colorbar": {
              "outlinewidth": 0,
              "ticks": ""
             }
            },
            "type": "scatterpolar"
           }
          ],
          "scatterpolargl": [
           {
            "marker": {
             "colorbar": {
              "outlinewidth": 0,
              "ticks": ""
             }
            },
            "type": "scatterpolargl"
           }
          ],
          "scatterternary": [
           {
            "marker": {
             "colorbar": {
              "outlinewidth": 0,
              "ticks": ""
             }
            },
            "type": "scatterternary"
           }
          ],
          "surface": [
           {
            "colorbar": {
             "outlinewidth": 0,
             "ticks": ""
            },
            "colorscale": [
             [
              0,
              "#0d0887"
             ],
             [
              0.1111111111111111,
              "#46039f"
             ],
             [
              0.2222222222222222,
              "#7201a8"
             ],
             [
              0.3333333333333333,
              "#9c179e"
             ],
             [
              0.4444444444444444,
              "#bd3786"
             ],
             [
              0.5555555555555556,
              "#d8576b"
             ],
             [
              0.6666666666666666,
              "#ed7953"
             ],
             [
              0.7777777777777778,
              "#fb9f3a"
             ],
             [
              0.8888888888888888,
              "#fdca26"
             ],
             [
              1,
              "#f0f921"
             ]
            ],
            "type": "surface"
           }
          ],
          "table": [
           {
            "cells": {
             "fill": {
              "color": "#EBF0F8"
             },
             "line": {
              "color": "white"
             }
            },
            "header": {
             "fill": {
              "color": "#C8D4E3"
             },
             "line": {
              "color": "white"
             }
            },
            "type": "table"
           }
          ]
         },
         "layout": {
          "annotationdefaults": {
           "arrowcolor": "#2a3f5f",
           "arrowhead": 0,
           "arrowwidth": 1
          },
          "autotypenumbers": "strict",
          "coloraxis": {
           "colorbar": {
            "outlinewidth": 0,
            "ticks": ""
           }
          },
          "colorscale": {
           "diverging": [
            [
             0,
             "#8e0152"
            ],
            [
             0.1,
             "#c51b7d"
            ],
            [
             0.2,
             "#de77ae"
            ],
            [
             0.3,
             "#f1b6da"
            ],
            [
             0.4,
             "#fde0ef"
            ],
            [
             0.5,
             "#f7f7f7"
            ],
            [
             0.6,
             "#e6f5d0"
            ],
            [
             0.7,
             "#b8e186"
            ],
            [
             0.8,
             "#7fbc41"
            ],
            [
             0.9,
             "#4d9221"
            ],
            [
             1,
             "#276419"
            ]
           ],
           "sequential": [
            [
             0,
             "#0d0887"
            ],
            [
             0.1111111111111111,
             "#46039f"
            ],
            [
             0.2222222222222222,
             "#7201a8"
            ],
            [
             0.3333333333333333,
             "#9c179e"
            ],
            [
             0.4444444444444444,
             "#bd3786"
            ],
            [
             0.5555555555555556,
             "#d8576b"
            ],
            [
             0.6666666666666666,
             "#ed7953"
            ],
            [
             0.7777777777777778,
             "#fb9f3a"
            ],
            [
             0.8888888888888888,
             "#fdca26"
            ],
            [
             1,
             "#f0f921"
            ]
           ],
           "sequentialminus": [
            [
             0,
             "#0d0887"
            ],
            [
             0.1111111111111111,
             "#46039f"
            ],
            [
             0.2222222222222222,
             "#7201a8"
            ],
            [
             0.3333333333333333,
             "#9c179e"
            ],
            [
             0.4444444444444444,
             "#bd3786"
            ],
            [
             0.5555555555555556,
             "#d8576b"
            ],
            [
             0.6666666666666666,
             "#ed7953"
            ],
            [
             0.7777777777777778,
             "#fb9f3a"
            ],
            [
             0.8888888888888888,
             "#fdca26"
            ],
            [
             1,
             "#f0f921"
            ]
           ]
          },
          "colorway": [
           "#636efa",
           "#EF553B",
           "#00cc96",
           "#ab63fa",
           "#FFA15A",
           "#19d3f3",
           "#FF6692",
           "#B6E880",
           "#FF97FF",
           "#FECB52"
          ],
          "font": {
           "color": "#2a3f5f"
          },
          "geo": {
           "bgcolor": "white",
           "lakecolor": "white",
           "landcolor": "#E5ECF6",
           "showlakes": true,
           "showland": true,
           "subunitcolor": "white"
          },
          "hoverlabel": {
           "align": "left"
          },
          "hovermode": "closest",
          "mapbox": {
           "style": "light"
          },
          "paper_bgcolor": "white",
          "plot_bgcolor": "#E5ECF6",
          "polar": {
           "angularaxis": {
            "gridcolor": "white",
            "linecolor": "white",
            "ticks": ""
           },
           "bgcolor": "#E5ECF6",
           "radialaxis": {
            "gridcolor": "white",
            "linecolor": "white",
            "ticks": ""
           }
          },
          "scene": {
           "xaxis": {
            "backgroundcolor": "#E5ECF6",
            "gridcolor": "white",
            "gridwidth": 2,
            "linecolor": "white",
            "showbackground": true,
            "ticks": "",
            "zerolinecolor": "white"
           },
           "yaxis": {
            "backgroundcolor": "#E5ECF6",
            "gridcolor": "white",
            "gridwidth": 2,
            "linecolor": "white",
            "showbackground": true,
            "ticks": "",
            "zerolinecolor": "white"
           },
           "zaxis": {
            "backgroundcolor": "#E5ECF6",
            "gridcolor": "white",
            "gridwidth": 2,
            "linecolor": "white",
            "showbackground": true,
            "ticks": "",
            "zerolinecolor": "white"
           }
          },
          "shapedefaults": {
           "line": {
            "color": "#2a3f5f"
           }
          },
          "ternary": {
           "aaxis": {
            "gridcolor": "white",
            "linecolor": "white",
            "ticks": ""
           },
           "baxis": {
            "gridcolor": "white",
            "linecolor": "white",
            "ticks": ""
           },
           "bgcolor": "#E5ECF6",
           "caxis": {
            "gridcolor": "white",
            "linecolor": "white",
            "ticks": ""
           }
          },
          "title": {
           "x": 0.05
          },
          "xaxis": {
           "automargin": true,
           "gridcolor": "white",
           "linecolor": "white",
           "ticks": "",
           "title": {
            "standoff": 15
           },
           "zerolinecolor": "white",
           "zerolinewidth": 2
          },
          "yaxis": {
           "automargin": true,
           "gridcolor": "white",
           "linecolor": "white",
           "ticks": "",
           "title": {
            "standoff": 15
           },
           "zerolinecolor": "white",
           "zerolinewidth": 2
          }
         }
        },
        "title": {
         "text": "Hyperparameter Importances"
        },
        "xaxis": {
         "title": {
          "text": "Hyperparameter Importance"
         }
        },
        "yaxis": {
         "title": {
          "text": "Hyperparameter"
         }
        }
       }
      }
     },
     "metadata": {},
     "output_type": "display_data"
    }
   ],
   "source": [
    "from optuna.visualization import plot_param_importances\n",
    "\n",
    "fig = plot_param_importances(study)\n",
    "fig.show()"
   ]
  },
  {
   "cell_type": "markdown",
   "metadata": {},
   "source": [
    "**Parallel Coordinate Plot**\n",
    "\n",
    "This plot helps visualize the relationships between hyperparameters and the objective value. It’s useful for spotting trends or correlations."
   ]
  },
  {
   "cell_type": "code",
   "execution_count": 8,
   "metadata": {},
   "outputs": [
    {
     "data": {
      "application/vnd.plotly.v1+json": {
       "config": {
        "plotlyServerURL": "https://plot.ly"
       },
       "data": [
        {
         "dimensions": [
          {
           "label": "Objective Value",
           "range": [
            -19814351.84,
            -55901.058000000005
           ],
           "values": [
            -189204.658,
            -17358035.482,
            -12391805.092000002,
            -19637775,
            -18266311.002,
            -56120.873999999996,
            -158009.696,
            -58267.732,
            -16326286.925999999,
            -11990231.954,
            -2005254.284,
            -19814351.84,
            -55901.058000000005,
            -56911.81999999999,
            -1816433.36,
            -19024235.002,
            -19702608.476,
            -14624574.513999999,
            -19294582.597999997,
            -1580196.552
           ]
          },
          {
           "label": "ent_coef",
           "range": [
            0,
            2
           ],
           "ticktext": [
            "0.01",
            "0.05",
            "0.1"
           ],
           "tickvals": [
            0,
            1,
            2
           ],
           "values": [
            0,
            0,
            0,
            0,
            0,
            1,
            1,
            1,
            1,
            1,
            1,
            1,
            1,
            1,
            1,
            1,
            1,
            2,
            2,
            2
           ]
          },
          {
           "label": "gae_lambda",
           "range": [
            0,
            3
           ],
           "ticktext": [
            "0.8",
            "0.9",
            "0.95",
            "0.99"
           ],
           "tickvals": [
            0,
            1,
            2,
            3
           ],
           "values": [
            1,
            1,
            1,
            1,
            2,
            0,
            0,
            0,
            0,
            0,
            2,
            2,
            2,
            2,
            2,
            3,
            3,
            0,
            1,
            3
           ]
          },
          {
           "label": "gamma",
           "range": [
            0,
            1
           ],
           "ticktext": [
            "0.95",
            "0.99"
           ],
           "tickvals": [
            0,
            1
           ],
           "values": [
            0,
            0,
            0,
            1,
            0,
            1,
            1,
            1,
            1,
            1,
            0,
            1,
            1,
            1,
            1,
            1,
            1,
            1,
            1,
            0
           ]
          },
          {
           "label": "learning_rate",
           "range": [
            0,
            2
           ],
           "ticktext": [
            "0.0001",
            "0.0005",
            "0.001"
           ],
           "tickvals": [
            0,
            1,
            2
           ],
           "values": [
            0,
            1,
            2,
            0,
            1,
            2,
            2,
            2,
            2,
            2,
            0,
            0,
            2,
            2,
            2,
            1,
            2,
            2,
            1,
            2
           ]
          },
          {
           "label": "max_grad_norm",
           "range": [
            0,
            1
           ],
           "ticktext": [
            "0.5",
            "1.0"
           ],
           "tickvals": [
            0,
            1
           ],
           "values": [
            0,
            1,
            0,
            0,
            1,
            1,
            1,
            1,
            1,
            1,
            1,
            0,
            0,
            0,
            1,
            0,
            0,
            1,
            0,
            0
           ]
          },
          {
           "label": "n_steps",
           "range": [
            0,
            3
           ],
           "ticktext": [
            "5",
            "16",
            "32",
            "64"
           ],
           "tickvals": [
            0,
            1,
            2,
            3
           ],
           "values": [
            0,
            2,
            1,
            3,
            3,
            0,
            0,
            0,
            0,
            2,
            1,
            3,
            0,
            0,
            0,
            2,
            0,
            0,
            3,
            1
           ]
          },
          {
           "label": "use_rms_prop",
           "range": [
            0,
            1
           ],
           "ticktext": [
            "True",
            "False"
           ],
           "tickvals": [
            0,
            1
           ],
           "values": [
            1,
            1,
            0,
            0,
            1,
            1,
            1,
            1,
            1,
            1,
            0,
            1,
            1,
            1,
            1,
            1,
            1,
            1,
            0,
            0
           ]
          },
          {
           "label": "vf_coef",
           "range": [
            0,
            2
           ],
           "ticktext": [
            "0.5",
            "0.8",
            "1.0"
           ],
           "tickvals": [
            0,
            1,
            2
           ],
           "values": [
            0,
            2,
            0,
            2,
            1,
            2,
            2,
            2,
            2,
            2,
            2,
            1,
            2,
            2,
            1,
            0,
            2,
            2,
            1,
            0
           ]
          }
         ],
         "labelangle": 30,
         "labelside": "bottom",
         "line": {
          "color": [
           -189204.658,
           -17358035.482,
           -12391805.092000002,
           -19637775,
           -18266311.002,
           -56120.873999999996,
           -158009.696,
           -58267.732,
           -16326286.925999999,
           -11990231.954,
           -2005254.284,
           -19814351.84,
           -55901.058000000005,
           -56911.81999999999,
           -1816433.36,
           -19024235.002,
           -19702608.476,
           -14624574.513999999,
           -19294582.597999997,
           -1580196.552
          ],
          "colorbar": {
           "title": {
            "text": "Objective Value"
           }
          },
          "colorscale": [
           [
            0,
            "rgb(247,251,255)"
           ],
           [
            0.125,
            "rgb(222,235,247)"
           ],
           [
            0.25,
            "rgb(198,219,239)"
           ],
           [
            0.375,
            "rgb(158,202,225)"
           ],
           [
            0.5,
            "rgb(107,174,214)"
           ],
           [
            0.625,
            "rgb(66,146,198)"
           ],
           [
            0.75,
            "rgb(33,113,181)"
           ],
           [
            0.875,
            "rgb(8,81,156)"
           ],
           [
            1,
            "rgb(8,48,107)"
           ]
          ],
          "reversescale": false,
          "showscale": true
         },
         "type": "parcoords"
        }
       ],
       "layout": {
        "template": {
         "data": {
          "bar": [
           {
            "error_x": {
             "color": "#2a3f5f"
            },
            "error_y": {
             "color": "#2a3f5f"
            },
            "marker": {
             "line": {
              "color": "#E5ECF6",
              "width": 0.5
             },
             "pattern": {
              "fillmode": "overlay",
              "size": 10,
              "solidity": 0.2
             }
            },
            "type": "bar"
           }
          ],
          "barpolar": [
           {
            "marker": {
             "line": {
              "color": "#E5ECF6",
              "width": 0.5
             },
             "pattern": {
              "fillmode": "overlay",
              "size": 10,
              "solidity": 0.2
             }
            },
            "type": "barpolar"
           }
          ],
          "carpet": [
           {
            "aaxis": {
             "endlinecolor": "#2a3f5f",
             "gridcolor": "white",
             "linecolor": "white",
             "minorgridcolor": "white",
             "startlinecolor": "#2a3f5f"
            },
            "baxis": {
             "endlinecolor": "#2a3f5f",
             "gridcolor": "white",
             "linecolor": "white",
             "minorgridcolor": "white",
             "startlinecolor": "#2a3f5f"
            },
            "type": "carpet"
           }
          ],
          "choropleth": [
           {
            "colorbar": {
             "outlinewidth": 0,
             "ticks": ""
            },
            "type": "choropleth"
           }
          ],
          "contour": [
           {
            "colorbar": {
             "outlinewidth": 0,
             "ticks": ""
            },
            "colorscale": [
             [
              0,
              "#0d0887"
             ],
             [
              0.1111111111111111,
              "#46039f"
             ],
             [
              0.2222222222222222,
              "#7201a8"
             ],
             [
              0.3333333333333333,
              "#9c179e"
             ],
             [
              0.4444444444444444,
              "#bd3786"
             ],
             [
              0.5555555555555556,
              "#d8576b"
             ],
             [
              0.6666666666666666,
              "#ed7953"
             ],
             [
              0.7777777777777778,
              "#fb9f3a"
             ],
             [
              0.8888888888888888,
              "#fdca26"
             ],
             [
              1,
              "#f0f921"
             ]
            ],
            "type": "contour"
           }
          ],
          "contourcarpet": [
           {
            "colorbar": {
             "outlinewidth": 0,
             "ticks": ""
            },
            "type": "contourcarpet"
           }
          ],
          "heatmap": [
           {
            "colorbar": {
             "outlinewidth": 0,
             "ticks": ""
            },
            "colorscale": [
             [
              0,
              "#0d0887"
             ],
             [
              0.1111111111111111,
              "#46039f"
             ],
             [
              0.2222222222222222,
              "#7201a8"
             ],
             [
              0.3333333333333333,
              "#9c179e"
             ],
             [
              0.4444444444444444,
              "#bd3786"
             ],
             [
              0.5555555555555556,
              "#d8576b"
             ],
             [
              0.6666666666666666,
              "#ed7953"
             ],
             [
              0.7777777777777778,
              "#fb9f3a"
             ],
             [
              0.8888888888888888,
              "#fdca26"
             ],
             [
              1,
              "#f0f921"
             ]
            ],
            "type": "heatmap"
           }
          ],
          "heatmapgl": [
           {
            "colorbar": {
             "outlinewidth": 0,
             "ticks": ""
            },
            "colorscale": [
             [
              0,
              "#0d0887"
             ],
             [
              0.1111111111111111,
              "#46039f"
             ],
             [
              0.2222222222222222,
              "#7201a8"
             ],
             [
              0.3333333333333333,
              "#9c179e"
             ],
             [
              0.4444444444444444,
              "#bd3786"
             ],
             [
              0.5555555555555556,
              "#d8576b"
             ],
             [
              0.6666666666666666,
              "#ed7953"
             ],
             [
              0.7777777777777778,
              "#fb9f3a"
             ],
             [
              0.8888888888888888,
              "#fdca26"
             ],
             [
              1,
              "#f0f921"
             ]
            ],
            "type": "heatmapgl"
           }
          ],
          "histogram": [
           {
            "marker": {
             "pattern": {
              "fillmode": "overlay",
              "size": 10,
              "solidity": 0.2
             }
            },
            "type": "histogram"
           }
          ],
          "histogram2d": [
           {
            "colorbar": {
             "outlinewidth": 0,
             "ticks": ""
            },
            "colorscale": [
             [
              0,
              "#0d0887"
             ],
             [
              0.1111111111111111,
              "#46039f"
             ],
             [
              0.2222222222222222,
              "#7201a8"
             ],
             [
              0.3333333333333333,
              "#9c179e"
             ],
             [
              0.4444444444444444,
              "#bd3786"
             ],
             [
              0.5555555555555556,
              "#d8576b"
             ],
             [
              0.6666666666666666,
              "#ed7953"
             ],
             [
              0.7777777777777778,
              "#fb9f3a"
             ],
             [
              0.8888888888888888,
              "#fdca26"
             ],
             [
              1,
              "#f0f921"
             ]
            ],
            "type": "histogram2d"
           }
          ],
          "histogram2dcontour": [
           {
            "colorbar": {
             "outlinewidth": 0,
             "ticks": ""
            },
            "colorscale": [
             [
              0,
              "#0d0887"
             ],
             [
              0.1111111111111111,
              "#46039f"
             ],
             [
              0.2222222222222222,
              "#7201a8"
             ],
             [
              0.3333333333333333,
              "#9c179e"
             ],
             [
              0.4444444444444444,
              "#bd3786"
             ],
             [
              0.5555555555555556,
              "#d8576b"
             ],
             [
              0.6666666666666666,
              "#ed7953"
             ],
             [
              0.7777777777777778,
              "#fb9f3a"
             ],
             [
              0.8888888888888888,
              "#fdca26"
             ],
             [
              1,
              "#f0f921"
             ]
            ],
            "type": "histogram2dcontour"
           }
          ],
          "mesh3d": [
           {
            "colorbar": {
             "outlinewidth": 0,
             "ticks": ""
            },
            "type": "mesh3d"
           }
          ],
          "parcoords": [
           {
            "line": {
             "colorbar": {
              "outlinewidth": 0,
              "ticks": ""
             }
            },
            "type": "parcoords"
           }
          ],
          "pie": [
           {
            "automargin": true,
            "type": "pie"
           }
          ],
          "scatter": [
           {
            "fillpattern": {
             "fillmode": "overlay",
             "size": 10,
             "solidity": 0.2
            },
            "type": "scatter"
           }
          ],
          "scatter3d": [
           {
            "line": {
             "colorbar": {
              "outlinewidth": 0,
              "ticks": ""
             }
            },
            "marker": {
             "colorbar": {
              "outlinewidth": 0,
              "ticks": ""
             }
            },
            "type": "scatter3d"
           }
          ],
          "scattercarpet": [
           {
            "marker": {
             "colorbar": {
              "outlinewidth": 0,
              "ticks": ""
             }
            },
            "type": "scattercarpet"
           }
          ],
          "scattergeo": [
           {
            "marker": {
             "colorbar": {
              "outlinewidth": 0,
              "ticks": ""
             }
            },
            "type": "scattergeo"
           }
          ],
          "scattergl": [
           {
            "marker": {
             "colorbar": {
              "outlinewidth": 0,
              "ticks": ""
             }
            },
            "type": "scattergl"
           }
          ],
          "scattermapbox": [
           {
            "marker": {
             "colorbar": {
              "outlinewidth": 0,
              "ticks": ""
             }
            },
            "type": "scattermapbox"
           }
          ],
          "scatterpolar": [
           {
            "marker": {
             "colorbar": {
              "outlinewidth": 0,
              "ticks": ""
             }
            },
            "type": "scatterpolar"
           }
          ],
          "scatterpolargl": [
           {
            "marker": {
             "colorbar": {
              "outlinewidth": 0,
              "ticks": ""
             }
            },
            "type": "scatterpolargl"
           }
          ],
          "scatterternary": [
           {
            "marker": {
             "colorbar": {
              "outlinewidth": 0,
              "ticks": ""
             }
            },
            "type": "scatterternary"
           }
          ],
          "surface": [
           {
            "colorbar": {
             "outlinewidth": 0,
             "ticks": ""
            },
            "colorscale": [
             [
              0,
              "#0d0887"
             ],
             [
              0.1111111111111111,
              "#46039f"
             ],
             [
              0.2222222222222222,
              "#7201a8"
             ],
             [
              0.3333333333333333,
              "#9c179e"
             ],
             [
              0.4444444444444444,
              "#bd3786"
             ],
             [
              0.5555555555555556,
              "#d8576b"
             ],
             [
              0.6666666666666666,
              "#ed7953"
             ],
             [
              0.7777777777777778,
              "#fb9f3a"
             ],
             [
              0.8888888888888888,
              "#fdca26"
             ],
             [
              1,
              "#f0f921"
             ]
            ],
            "type": "surface"
           }
          ],
          "table": [
           {
            "cells": {
             "fill": {
              "color": "#EBF0F8"
             },
             "line": {
              "color": "white"
             }
            },
            "header": {
             "fill": {
              "color": "#C8D4E3"
             },
             "line": {
              "color": "white"
             }
            },
            "type": "table"
           }
          ]
         },
         "layout": {
          "annotationdefaults": {
           "arrowcolor": "#2a3f5f",
           "arrowhead": 0,
           "arrowwidth": 1
          },
          "autotypenumbers": "strict",
          "coloraxis": {
           "colorbar": {
            "outlinewidth": 0,
            "ticks": ""
           }
          },
          "colorscale": {
           "diverging": [
            [
             0,
             "#8e0152"
            ],
            [
             0.1,
             "#c51b7d"
            ],
            [
             0.2,
             "#de77ae"
            ],
            [
             0.3,
             "#f1b6da"
            ],
            [
             0.4,
             "#fde0ef"
            ],
            [
             0.5,
             "#f7f7f7"
            ],
            [
             0.6,
             "#e6f5d0"
            ],
            [
             0.7,
             "#b8e186"
            ],
            [
             0.8,
             "#7fbc41"
            ],
            [
             0.9,
             "#4d9221"
            ],
            [
             1,
             "#276419"
            ]
           ],
           "sequential": [
            [
             0,
             "#0d0887"
            ],
            [
             0.1111111111111111,
             "#46039f"
            ],
            [
             0.2222222222222222,
             "#7201a8"
            ],
            [
             0.3333333333333333,
             "#9c179e"
            ],
            [
             0.4444444444444444,
             "#bd3786"
            ],
            [
             0.5555555555555556,
             "#d8576b"
            ],
            [
             0.6666666666666666,
             "#ed7953"
            ],
            [
             0.7777777777777778,
             "#fb9f3a"
            ],
            [
             0.8888888888888888,
             "#fdca26"
            ],
            [
             1,
             "#f0f921"
            ]
           ],
           "sequentialminus": [
            [
             0,
             "#0d0887"
            ],
            [
             0.1111111111111111,
             "#46039f"
            ],
            [
             0.2222222222222222,
             "#7201a8"
            ],
            [
             0.3333333333333333,
             "#9c179e"
            ],
            [
             0.4444444444444444,
             "#bd3786"
            ],
            [
             0.5555555555555556,
             "#d8576b"
            ],
            [
             0.6666666666666666,
             "#ed7953"
            ],
            [
             0.7777777777777778,
             "#fb9f3a"
            ],
            [
             0.8888888888888888,
             "#fdca26"
            ],
            [
             1,
             "#f0f921"
            ]
           ]
          },
          "colorway": [
           "#636efa",
           "#EF553B",
           "#00cc96",
           "#ab63fa",
           "#FFA15A",
           "#19d3f3",
           "#FF6692",
           "#B6E880",
           "#FF97FF",
           "#FECB52"
          ],
          "font": {
           "color": "#2a3f5f"
          },
          "geo": {
           "bgcolor": "white",
           "lakecolor": "white",
           "landcolor": "#E5ECF6",
           "showlakes": true,
           "showland": true,
           "subunitcolor": "white"
          },
          "hoverlabel": {
           "align": "left"
          },
          "hovermode": "closest",
          "mapbox": {
           "style": "light"
          },
          "paper_bgcolor": "white",
          "plot_bgcolor": "#E5ECF6",
          "polar": {
           "angularaxis": {
            "gridcolor": "white",
            "linecolor": "white",
            "ticks": ""
           },
           "bgcolor": "#E5ECF6",
           "radialaxis": {
            "gridcolor": "white",
            "linecolor": "white",
            "ticks": ""
           }
          },
          "scene": {
           "xaxis": {
            "backgroundcolor": "#E5ECF6",
            "gridcolor": "white",
            "gridwidth": 2,
            "linecolor": "white",
            "showbackground": true,
            "ticks": "",
            "zerolinecolor": "white"
           },
           "yaxis": {
            "backgroundcolor": "#E5ECF6",
            "gridcolor": "white",
            "gridwidth": 2,
            "linecolor": "white",
            "showbackground": true,
            "ticks": "",
            "zerolinecolor": "white"
           },
           "zaxis": {
            "backgroundcolor": "#E5ECF6",
            "gridcolor": "white",
            "gridwidth": 2,
            "linecolor": "white",
            "showbackground": true,
            "ticks": "",
            "zerolinecolor": "white"
           }
          },
          "shapedefaults": {
           "line": {
            "color": "#2a3f5f"
           }
          },
          "ternary": {
           "aaxis": {
            "gridcolor": "white",
            "linecolor": "white",
            "ticks": ""
           },
           "baxis": {
            "gridcolor": "white",
            "linecolor": "white",
            "ticks": ""
           },
           "bgcolor": "#E5ECF6",
           "caxis": {
            "gridcolor": "white",
            "linecolor": "white",
            "ticks": ""
           }
          },
          "title": {
           "x": 0.05
          },
          "xaxis": {
           "automargin": true,
           "gridcolor": "white",
           "linecolor": "white",
           "ticks": "",
           "title": {
            "standoff": 15
           },
           "zerolinecolor": "white",
           "zerolinewidth": 2
          },
          "yaxis": {
           "automargin": true,
           "gridcolor": "white",
           "linecolor": "white",
           "ticks": "",
           "title": {
            "standoff": 15
           },
           "zerolinecolor": "white",
           "zerolinewidth": 2
          }
         }
        },
        "title": {
         "text": "Parallel Coordinate Plot"
        }
       }
      }
     },
     "metadata": {},
     "output_type": "display_data"
    }
   ],
   "source": [
    "from optuna.visualization import plot_parallel_coordinate\n",
    "\n",
    "fig = plot_parallel_coordinate(study)\n",
    "fig.show()"
   ]
  },
  {
   "cell_type": "markdown",
   "metadata": {},
   "source": [
    "**Slice Plot**\n",
    "\n",
    "This plot visualizes the objective value across the range of each hyperparameter, helping understand how each parameter influences the outcome."
   ]
  },
  {
   "cell_type": "code",
   "execution_count": 9,
   "metadata": {},
   "outputs": [
    {
     "data": {
      "application/vnd.plotly.v1+json": {
       "config": {
        "plotlyServerURL": "https://plot.ly"
       },
       "data": [
        {
         "marker": {
          "color": [
           0,
           1,
           2,
           3,
           4,
           5,
           6,
           7,
           8,
           9,
           10,
           11,
           12,
           13,
           14,
           15,
           16,
           17,
           18,
           19
          ],
          "colorbar": {
           "title": {
            "text": "Trial"
           },
           "x": 1,
           "xpad": 40
          },
          "colorscale": [
           [
            0,
            "rgb(247,251,255)"
           ],
           [
            0.125,
            "rgb(222,235,247)"
           ],
           [
            0.25,
            "rgb(198,219,239)"
           ],
           [
            0.375,
            "rgb(158,202,225)"
           ],
           [
            0.5,
            "rgb(107,174,214)"
           ],
           [
            0.625,
            "rgb(66,146,198)"
           ],
           [
            0.75,
            "rgb(33,113,181)"
           ],
           [
            0.875,
            "rgb(8,81,156)"
           ],
           [
            1,
            "rgb(8,48,107)"
           ]
          ],
          "line": {
           "color": "Grey",
           "width": 0.5
          },
          "showscale": true
         },
         "mode": "markers",
         "name": "Feasible Trial",
         "showlegend": false,
         "type": "scatter",
         "x": [
          0.1,
          0.01,
          0.01,
          0.05,
          0.01,
          0.01,
          0.1,
          0.05,
          0.05,
          0.01,
          0.05,
          0.05,
          0.05,
          0.05,
          0.05,
          0.05,
          0.05,
          0.1,
          0.05,
          0.05
         ],
         "xaxis": "x",
         "y": [
          -1580196.552,
          -17358035.482,
          -12391805.092000002,
          -19814351.84,
          -18266311.002,
          -19637775,
          -19294582.597999997,
          -2005254.284,
          -55901.058000000005,
          -189204.658,
          -56120.873999999996,
          -158009.696,
          -58267.732,
          -16326286.925999999,
          -19702608.476,
          -11990231.954,
          -56911.81999999999,
          -14624574.513999999,
          -1816433.36,
          -19024235.002
         ],
         "yaxis": "y"
        },
        {
         "marker": {
          "color": [
           0,
           1,
           2,
           3,
           4,
           5,
           6,
           7,
           8,
           9,
           10,
           11,
           12,
           13,
           14,
           15,
           16,
           17,
           18,
           19
          ],
          "colorbar": {
           "title": {
            "text": "Trial"
           },
           "x": 1,
           "xpad": 40
          },
          "colorscale": [
           [
            0,
            "rgb(247,251,255)"
           ],
           [
            0.125,
            "rgb(222,235,247)"
           ],
           [
            0.25,
            "rgb(198,219,239)"
           ],
           [
            0.375,
            "rgb(158,202,225)"
           ],
           [
            0.5,
            "rgb(107,174,214)"
           ],
           [
            0.625,
            "rgb(66,146,198)"
           ],
           [
            0.75,
            "rgb(33,113,181)"
           ],
           [
            0.875,
            "rgb(8,81,156)"
           ],
           [
            1,
            "rgb(8,48,107)"
           ]
          ],
          "line": {
           "color": "Grey",
           "width": 0.5
          },
          "showscale": false
         },
         "mode": "markers",
         "name": "Feasible Trial",
         "showlegend": false,
         "type": "scatter",
         "x": [
          0.99,
          0.9,
          0.9,
          0.95,
          0.95,
          0.9,
          0.9,
          0.95,
          0.95,
          0.9,
          0.8,
          0.8,
          0.8,
          0.8,
          0.99,
          0.8,
          0.95,
          0.8,
          0.95,
          0.99
         ],
         "xaxis": "x2",
         "y": [
          -1580196.552,
          -17358035.482,
          -12391805.092000002,
          -19814351.84,
          -18266311.002,
          -19637775,
          -19294582.597999997,
          -2005254.284,
          -55901.058000000005,
          -189204.658,
          -56120.873999999996,
          -158009.696,
          -58267.732,
          -16326286.925999999,
          -19702608.476,
          -11990231.954,
          -56911.81999999999,
          -14624574.513999999,
          -1816433.36,
          -19024235.002
         ],
         "yaxis": "y2"
        },
        {
         "marker": {
          "color": [
           0,
           1,
           2,
           3,
           4,
           5,
           6,
           7,
           8,
           9,
           10,
           11,
           12,
           13,
           14,
           15,
           16,
           17,
           18,
           19
          ],
          "colorbar": {
           "title": {
            "text": "Trial"
           },
           "x": 1,
           "xpad": 40
          },
          "colorscale": [
           [
            0,
            "rgb(247,251,255)"
           ],
           [
            0.125,
            "rgb(222,235,247)"
           ],
           [
            0.25,
            "rgb(198,219,239)"
           ],
           [
            0.375,
            "rgb(158,202,225)"
           ],
           [
            0.5,
            "rgb(107,174,214)"
           ],
           [
            0.625,
            "rgb(66,146,198)"
           ],
           [
            0.75,
            "rgb(33,113,181)"
           ],
           [
            0.875,
            "rgb(8,81,156)"
           ],
           [
            1,
            "rgb(8,48,107)"
           ]
          ],
          "line": {
           "color": "Grey",
           "width": 0.5
          },
          "showscale": false
         },
         "mode": "markers",
         "name": "Feasible Trial",
         "showlegend": false,
         "type": "scatter",
         "x": [
          0.95,
          0.95,
          0.95,
          0.99,
          0.95,
          0.99,
          0.99,
          0.95,
          0.99,
          0.95,
          0.99,
          0.99,
          0.99,
          0.99,
          0.99,
          0.99,
          0.99,
          0.99,
          0.99,
          0.99
         ],
         "xaxis": "x3",
         "y": [
          -1580196.552,
          -17358035.482,
          -12391805.092000002,
          -19814351.84,
          -18266311.002,
          -19637775,
          -19294582.597999997,
          -2005254.284,
          -55901.058000000005,
          -189204.658,
          -56120.873999999996,
          -158009.696,
          -58267.732,
          -16326286.925999999,
          -19702608.476,
          -11990231.954,
          -56911.81999999999,
          -14624574.513999999,
          -1816433.36,
          -19024235.002
         ],
         "yaxis": "y3"
        },
        {
         "marker": {
          "color": [
           0,
           1,
           2,
           3,
           4,
           5,
           6,
           7,
           8,
           9,
           10,
           11,
           12,
           13,
           14,
           15,
           16,
           17,
           18,
           19
          ],
          "colorbar": {
           "title": {
            "text": "Trial"
           },
           "x": 1,
           "xpad": 40
          },
          "colorscale": [
           [
            0,
            "rgb(247,251,255)"
           ],
           [
            0.125,
            "rgb(222,235,247)"
           ],
           [
            0.25,
            "rgb(198,219,239)"
           ],
           [
            0.375,
            "rgb(158,202,225)"
           ],
           [
            0.5,
            "rgb(107,174,214)"
           ],
           [
            0.625,
            "rgb(66,146,198)"
           ],
           [
            0.75,
            "rgb(33,113,181)"
           ],
           [
            0.875,
            "rgb(8,81,156)"
           ],
           [
            1,
            "rgb(8,48,107)"
           ]
          ],
          "line": {
           "color": "Grey",
           "width": 0.5
          },
          "showscale": false
         },
         "mode": "markers",
         "name": "Feasible Trial",
         "showlegend": false,
         "type": "scatter",
         "x": [
          0.001,
          0.0005,
          0.001,
          0.0001,
          0.0005,
          0.0001,
          0.0005,
          0.0001,
          0.001,
          0.0001,
          0.001,
          0.001,
          0.001,
          0.001,
          0.001,
          0.001,
          0.001,
          0.001,
          0.001,
          0.0005
         ],
         "xaxis": "x4",
         "y": [
          -1580196.552,
          -17358035.482,
          -12391805.092000002,
          -19814351.84,
          -18266311.002,
          -19637775,
          -19294582.597999997,
          -2005254.284,
          -55901.058000000005,
          -189204.658,
          -56120.873999999996,
          -158009.696,
          -58267.732,
          -16326286.925999999,
          -19702608.476,
          -11990231.954,
          -56911.81999999999,
          -14624574.513999999,
          -1816433.36,
          -19024235.002
         ],
         "yaxis": "y4"
        },
        {
         "marker": {
          "color": [
           0,
           1,
           2,
           3,
           4,
           5,
           6,
           7,
           8,
           9,
           10,
           11,
           12,
           13,
           14,
           15,
           16,
           17,
           18,
           19
          ],
          "colorbar": {
           "title": {
            "text": "Trial"
           },
           "x": 1,
           "xpad": 40
          },
          "colorscale": [
           [
            0,
            "rgb(247,251,255)"
           ],
           [
            0.125,
            "rgb(222,235,247)"
           ],
           [
            0.25,
            "rgb(198,219,239)"
           ],
           [
            0.375,
            "rgb(158,202,225)"
           ],
           [
            0.5,
            "rgb(107,174,214)"
           ],
           [
            0.625,
            "rgb(66,146,198)"
           ],
           [
            0.75,
            "rgb(33,113,181)"
           ],
           [
            0.875,
            "rgb(8,81,156)"
           ],
           [
            1,
            "rgb(8,48,107)"
           ]
          ],
          "line": {
           "color": "Grey",
           "width": 0.5
          },
          "showscale": false
         },
         "mode": "markers",
         "name": "Feasible Trial",
         "showlegend": false,
         "type": "scatter",
         "x": [
          0.5,
          1,
          0.5,
          0.5,
          1,
          0.5,
          0.5,
          1,
          0.5,
          0.5,
          1,
          1,
          1,
          1,
          0.5,
          1,
          0.5,
          1,
          1,
          0.5
         ],
         "xaxis": "x5",
         "y": [
          -1580196.552,
          -17358035.482,
          -12391805.092000002,
          -19814351.84,
          -18266311.002,
          -19637775,
          -19294582.597999997,
          -2005254.284,
          -55901.058000000005,
          -189204.658,
          -56120.873999999996,
          -158009.696,
          -58267.732,
          -16326286.925999999,
          -19702608.476,
          -11990231.954,
          -56911.81999999999,
          -14624574.513999999,
          -1816433.36,
          -19024235.002
         ],
         "yaxis": "y5"
        },
        {
         "marker": {
          "color": [
           0,
           1,
           2,
           3,
           4,
           5,
           6,
           7,
           8,
           9,
           10,
           11,
           12,
           13,
           14,
           15,
           16,
           17,
           18,
           19
          ],
          "colorbar": {
           "title": {
            "text": "Trial"
           },
           "x": 1,
           "xpad": 40
          },
          "colorscale": [
           [
            0,
            "rgb(247,251,255)"
           ],
           [
            0.125,
            "rgb(222,235,247)"
           ],
           [
            0.25,
            "rgb(198,219,239)"
           ],
           [
            0.375,
            "rgb(158,202,225)"
           ],
           [
            0.5,
            "rgb(107,174,214)"
           ],
           [
            0.625,
            "rgb(66,146,198)"
           ],
           [
            0.75,
            "rgb(33,113,181)"
           ],
           [
            0.875,
            "rgb(8,81,156)"
           ],
           [
            1,
            "rgb(8,48,107)"
           ]
          ],
          "line": {
           "color": "Grey",
           "width": 0.5
          },
          "showscale": false
         },
         "mode": "markers",
         "name": "Feasible Trial",
         "showlegend": false,
         "type": "scatter",
         "x": [
          16,
          32,
          16,
          64,
          64,
          64,
          64,
          16,
          5,
          5,
          5,
          5,
          5,
          5,
          5,
          32,
          5,
          5,
          5,
          32
         ],
         "xaxis": "x6",
         "y": [
          -1580196.552,
          -17358035.482,
          -12391805.092000002,
          -19814351.84,
          -18266311.002,
          -19637775,
          -19294582.597999997,
          -2005254.284,
          -55901.058000000005,
          -189204.658,
          -56120.873999999996,
          -158009.696,
          -58267.732,
          -16326286.925999999,
          -19702608.476,
          -11990231.954,
          -56911.81999999999,
          -14624574.513999999,
          -1816433.36,
          -19024235.002
         ],
         "yaxis": "y6"
        },
        {
         "marker": {
          "color": [
           0,
           1,
           2,
           3,
           4,
           5,
           6,
           7,
           8,
           9,
           10,
           11,
           12,
           13,
           14,
           15,
           16,
           17,
           18,
           19
          ],
          "colorbar": {
           "title": {
            "text": "Trial"
           },
           "x": 1,
           "xpad": 40
          },
          "colorscale": [
           [
            0,
            "rgb(247,251,255)"
           ],
           [
            0.125,
            "rgb(222,235,247)"
           ],
           [
            0.25,
            "rgb(198,219,239)"
           ],
           [
            0.375,
            "rgb(158,202,225)"
           ],
           [
            0.5,
            "rgb(107,174,214)"
           ],
           [
            0.625,
            "rgb(66,146,198)"
           ],
           [
            0.75,
            "rgb(33,113,181)"
           ],
           [
            0.875,
            "rgb(8,81,156)"
           ],
           [
            1,
            "rgb(8,48,107)"
           ]
          ],
          "line": {
           "color": "Grey",
           "width": 0.5
          },
          "showscale": false
         },
         "mode": "markers",
         "name": "Feasible Trial",
         "showlegend": false,
         "type": "scatter",
         "x": [
          true,
          false,
          true,
          false,
          false,
          true,
          true,
          true,
          false,
          false,
          false,
          false,
          false,
          false,
          false,
          false,
          false,
          false,
          false,
          false
         ],
         "xaxis": "x7",
         "y": [
          -1580196.552,
          -17358035.482,
          -12391805.092000002,
          -19814351.84,
          -18266311.002,
          -19637775,
          -19294582.597999997,
          -2005254.284,
          -55901.058000000005,
          -189204.658,
          -56120.873999999996,
          -158009.696,
          -58267.732,
          -16326286.925999999,
          -19702608.476,
          -11990231.954,
          -56911.81999999999,
          -14624574.513999999,
          -1816433.36,
          -19024235.002
         ],
         "yaxis": "y7"
        },
        {
         "marker": {
          "color": [
           0,
           1,
           2,
           3,
           4,
           5,
           6,
           7,
           8,
           9,
           10,
           11,
           12,
           13,
           14,
           15,
           16,
           17,
           18,
           19
          ],
          "colorbar": {
           "title": {
            "text": "Trial"
           },
           "x": 1,
           "xpad": 40
          },
          "colorscale": [
           [
            0,
            "rgb(247,251,255)"
           ],
           [
            0.125,
            "rgb(222,235,247)"
           ],
           [
            0.25,
            "rgb(198,219,239)"
           ],
           [
            0.375,
            "rgb(158,202,225)"
           ],
           [
            0.5,
            "rgb(107,174,214)"
           ],
           [
            0.625,
            "rgb(66,146,198)"
           ],
           [
            0.75,
            "rgb(33,113,181)"
           ],
           [
            0.875,
            "rgb(8,81,156)"
           ],
           [
            1,
            "rgb(8,48,107)"
           ]
          ],
          "line": {
           "color": "Grey",
           "width": 0.5
          },
          "showscale": false
         },
         "mode": "markers",
         "name": "Feasible Trial",
         "showlegend": false,
         "type": "scatter",
         "x": [
          0.5,
          1,
          0.5,
          0.8,
          0.8,
          1,
          0.8,
          1,
          1,
          0.5,
          1,
          1,
          1,
          1,
          1,
          1,
          1,
          1,
          0.8,
          0.5
         ],
         "xaxis": "x8",
         "y": [
          -1580196.552,
          -17358035.482,
          -12391805.092000002,
          -19814351.84,
          -18266311.002,
          -19637775,
          -19294582.597999997,
          -2005254.284,
          -55901.058000000005,
          -189204.658,
          -56120.873999999996,
          -158009.696,
          -58267.732,
          -16326286.925999999,
          -19702608.476,
          -11990231.954,
          -56911.81999999999,
          -14624574.513999999,
          -1816433.36,
          -19024235.002
         ],
         "yaxis": "y8"
        }
       ],
       "layout": {
        "template": {
         "data": {
          "bar": [
           {
            "error_x": {
             "color": "#2a3f5f"
            },
            "error_y": {
             "color": "#2a3f5f"
            },
            "marker": {
             "line": {
              "color": "#E5ECF6",
              "width": 0.5
             },
             "pattern": {
              "fillmode": "overlay",
              "size": 10,
              "solidity": 0.2
             }
            },
            "type": "bar"
           }
          ],
          "barpolar": [
           {
            "marker": {
             "line": {
              "color": "#E5ECF6",
              "width": 0.5
             },
             "pattern": {
              "fillmode": "overlay",
              "size": 10,
              "solidity": 0.2
             }
            },
            "type": "barpolar"
           }
          ],
          "carpet": [
           {
            "aaxis": {
             "endlinecolor": "#2a3f5f",
             "gridcolor": "white",
             "linecolor": "white",
             "minorgridcolor": "white",
             "startlinecolor": "#2a3f5f"
            },
            "baxis": {
             "endlinecolor": "#2a3f5f",
             "gridcolor": "white",
             "linecolor": "white",
             "minorgridcolor": "white",
             "startlinecolor": "#2a3f5f"
            },
            "type": "carpet"
           }
          ],
          "choropleth": [
           {
            "colorbar": {
             "outlinewidth": 0,
             "ticks": ""
            },
            "type": "choropleth"
           }
          ],
          "contour": [
           {
            "colorbar": {
             "outlinewidth": 0,
             "ticks": ""
            },
            "colorscale": [
             [
              0,
              "#0d0887"
             ],
             [
              0.1111111111111111,
              "#46039f"
             ],
             [
              0.2222222222222222,
              "#7201a8"
             ],
             [
              0.3333333333333333,
              "#9c179e"
             ],
             [
              0.4444444444444444,
              "#bd3786"
             ],
             [
              0.5555555555555556,
              "#d8576b"
             ],
             [
              0.6666666666666666,
              "#ed7953"
             ],
             [
              0.7777777777777778,
              "#fb9f3a"
             ],
             [
              0.8888888888888888,
              "#fdca26"
             ],
             [
              1,
              "#f0f921"
             ]
            ],
            "type": "contour"
           }
          ],
          "contourcarpet": [
           {
            "colorbar": {
             "outlinewidth": 0,
             "ticks": ""
            },
            "type": "contourcarpet"
           }
          ],
          "heatmap": [
           {
            "colorbar": {
             "outlinewidth": 0,
             "ticks": ""
            },
            "colorscale": [
             [
              0,
              "#0d0887"
             ],
             [
              0.1111111111111111,
              "#46039f"
             ],
             [
              0.2222222222222222,
              "#7201a8"
             ],
             [
              0.3333333333333333,
              "#9c179e"
             ],
             [
              0.4444444444444444,
              "#bd3786"
             ],
             [
              0.5555555555555556,
              "#d8576b"
             ],
             [
              0.6666666666666666,
              "#ed7953"
             ],
             [
              0.7777777777777778,
              "#fb9f3a"
             ],
             [
              0.8888888888888888,
              "#fdca26"
             ],
             [
              1,
              "#f0f921"
             ]
            ],
            "type": "heatmap"
           }
          ],
          "heatmapgl": [
           {
            "colorbar": {
             "outlinewidth": 0,
             "ticks": ""
            },
            "colorscale": [
             [
              0,
              "#0d0887"
             ],
             [
              0.1111111111111111,
              "#46039f"
             ],
             [
              0.2222222222222222,
              "#7201a8"
             ],
             [
              0.3333333333333333,
              "#9c179e"
             ],
             [
              0.4444444444444444,
              "#bd3786"
             ],
             [
              0.5555555555555556,
              "#d8576b"
             ],
             [
              0.6666666666666666,
              "#ed7953"
             ],
             [
              0.7777777777777778,
              "#fb9f3a"
             ],
             [
              0.8888888888888888,
              "#fdca26"
             ],
             [
              1,
              "#f0f921"
             ]
            ],
            "type": "heatmapgl"
           }
          ],
          "histogram": [
           {
            "marker": {
             "pattern": {
              "fillmode": "overlay",
              "size": 10,
              "solidity": 0.2
             }
            },
            "type": "histogram"
           }
          ],
          "histogram2d": [
           {
            "colorbar": {
             "outlinewidth": 0,
             "ticks": ""
            },
            "colorscale": [
             [
              0,
              "#0d0887"
             ],
             [
              0.1111111111111111,
              "#46039f"
             ],
             [
              0.2222222222222222,
              "#7201a8"
             ],
             [
              0.3333333333333333,
              "#9c179e"
             ],
             [
              0.4444444444444444,
              "#bd3786"
             ],
             [
              0.5555555555555556,
              "#d8576b"
             ],
             [
              0.6666666666666666,
              "#ed7953"
             ],
             [
              0.7777777777777778,
              "#fb9f3a"
             ],
             [
              0.8888888888888888,
              "#fdca26"
             ],
             [
              1,
              "#f0f921"
             ]
            ],
            "type": "histogram2d"
           }
          ],
          "histogram2dcontour": [
           {
            "colorbar": {
             "outlinewidth": 0,
             "ticks": ""
            },
            "colorscale": [
             [
              0,
              "#0d0887"
             ],
             [
              0.1111111111111111,
              "#46039f"
             ],
             [
              0.2222222222222222,
              "#7201a8"
             ],
             [
              0.3333333333333333,
              "#9c179e"
             ],
             [
              0.4444444444444444,
              "#bd3786"
             ],
             [
              0.5555555555555556,
              "#d8576b"
             ],
             [
              0.6666666666666666,
              "#ed7953"
             ],
             [
              0.7777777777777778,
              "#fb9f3a"
             ],
             [
              0.8888888888888888,
              "#fdca26"
             ],
             [
              1,
              "#f0f921"
             ]
            ],
            "type": "histogram2dcontour"
           }
          ],
          "mesh3d": [
           {
            "colorbar": {
             "outlinewidth": 0,
             "ticks": ""
            },
            "type": "mesh3d"
           }
          ],
          "parcoords": [
           {
            "line": {
             "colorbar": {
              "outlinewidth": 0,
              "ticks": ""
             }
            },
            "type": "parcoords"
           }
          ],
          "pie": [
           {
            "automargin": true,
            "type": "pie"
           }
          ],
          "scatter": [
           {
            "fillpattern": {
             "fillmode": "overlay",
             "size": 10,
             "solidity": 0.2
            },
            "type": "scatter"
           }
          ],
          "scatter3d": [
           {
            "line": {
             "colorbar": {
              "outlinewidth": 0,
              "ticks": ""
             }
            },
            "marker": {
             "colorbar": {
              "outlinewidth": 0,
              "ticks": ""
             }
            },
            "type": "scatter3d"
           }
          ],
          "scattercarpet": [
           {
            "marker": {
             "colorbar": {
              "outlinewidth": 0,
              "ticks": ""
             }
            },
            "type": "scattercarpet"
           }
          ],
          "scattergeo": [
           {
            "marker": {
             "colorbar": {
              "outlinewidth": 0,
              "ticks": ""
             }
            },
            "type": "scattergeo"
           }
          ],
          "scattergl": [
           {
            "marker": {
             "colorbar": {
              "outlinewidth": 0,
              "ticks": ""
             }
            },
            "type": "scattergl"
           }
          ],
          "scattermapbox": [
           {
            "marker": {
             "colorbar": {
              "outlinewidth": 0,
              "ticks": ""
             }
            },
            "type": "scattermapbox"
           }
          ],
          "scatterpolar": [
           {
            "marker": {
             "colorbar": {
              "outlinewidth": 0,
              "ticks": ""
             }
            },
            "type": "scatterpolar"
           }
          ],
          "scatterpolargl": [
           {
            "marker": {
             "colorbar": {
              "outlinewidth": 0,
              "ticks": ""
             }
            },
            "type": "scatterpolargl"
           }
          ],
          "scatterternary": [
           {
            "marker": {
             "colorbar": {
              "outlinewidth": 0,
              "ticks": ""
             }
            },
            "type": "scatterternary"
           }
          ],
          "surface": [
           {
            "colorbar": {
             "outlinewidth": 0,
             "ticks": ""
            },
            "colorscale": [
             [
              0,
              "#0d0887"
             ],
             [
              0.1111111111111111,
              "#46039f"
             ],
             [
              0.2222222222222222,
              "#7201a8"
             ],
             [
              0.3333333333333333,
              "#9c179e"
             ],
             [
              0.4444444444444444,
              "#bd3786"
             ],
             [
              0.5555555555555556,
              "#d8576b"
             ],
             [
              0.6666666666666666,
              "#ed7953"
             ],
             [
              0.7777777777777778,
              "#fb9f3a"
             ],
             [
              0.8888888888888888,
              "#fdca26"
             ],
             [
              1,
              "#f0f921"
             ]
            ],
            "type": "surface"
           }
          ],
          "table": [
           {
            "cells": {
             "fill": {
              "color": "#EBF0F8"
             },
             "line": {
              "color": "white"
             }
            },
            "header": {
             "fill": {
              "color": "#C8D4E3"
             },
             "line": {
              "color": "white"
             }
            },
            "type": "table"
           }
          ]
         },
         "layout": {
          "annotationdefaults": {
           "arrowcolor": "#2a3f5f",
           "arrowhead": 0,
           "arrowwidth": 1
          },
          "autotypenumbers": "strict",
          "coloraxis": {
           "colorbar": {
            "outlinewidth": 0,
            "ticks": ""
           }
          },
          "colorscale": {
           "diverging": [
            [
             0,
             "#8e0152"
            ],
            [
             0.1,
             "#c51b7d"
            ],
            [
             0.2,
             "#de77ae"
            ],
            [
             0.3,
             "#f1b6da"
            ],
            [
             0.4,
             "#fde0ef"
            ],
            [
             0.5,
             "#f7f7f7"
            ],
            [
             0.6,
             "#e6f5d0"
            ],
            [
             0.7,
             "#b8e186"
            ],
            [
             0.8,
             "#7fbc41"
            ],
            [
             0.9,
             "#4d9221"
            ],
            [
             1,
             "#276419"
            ]
           ],
           "sequential": [
            [
             0,
             "#0d0887"
            ],
            [
             0.1111111111111111,
             "#46039f"
            ],
            [
             0.2222222222222222,
             "#7201a8"
            ],
            [
             0.3333333333333333,
             "#9c179e"
            ],
            [
             0.4444444444444444,
             "#bd3786"
            ],
            [
             0.5555555555555556,
             "#d8576b"
            ],
            [
             0.6666666666666666,
             "#ed7953"
            ],
            [
             0.7777777777777778,
             "#fb9f3a"
            ],
            [
             0.8888888888888888,
             "#fdca26"
            ],
            [
             1,
             "#f0f921"
            ]
           ],
           "sequentialminus": [
            [
             0,
             "#0d0887"
            ],
            [
             0.1111111111111111,
             "#46039f"
            ],
            [
             0.2222222222222222,
             "#7201a8"
            ],
            [
             0.3333333333333333,
             "#9c179e"
            ],
            [
             0.4444444444444444,
             "#bd3786"
            ],
            [
             0.5555555555555556,
             "#d8576b"
            ],
            [
             0.6666666666666666,
             "#ed7953"
            ],
            [
             0.7777777777777778,
             "#fb9f3a"
            ],
            [
             0.8888888888888888,
             "#fdca26"
            ],
            [
             1,
             "#f0f921"
            ]
           ]
          },
          "colorway": [
           "#636efa",
           "#EF553B",
           "#00cc96",
           "#ab63fa",
           "#FFA15A",
           "#19d3f3",
           "#FF6692",
           "#B6E880",
           "#FF97FF",
           "#FECB52"
          ],
          "font": {
           "color": "#2a3f5f"
          },
          "geo": {
           "bgcolor": "white",
           "lakecolor": "white",
           "landcolor": "#E5ECF6",
           "showlakes": true,
           "showland": true,
           "subunitcolor": "white"
          },
          "hoverlabel": {
           "align": "left"
          },
          "hovermode": "closest",
          "mapbox": {
           "style": "light"
          },
          "paper_bgcolor": "white",
          "plot_bgcolor": "#E5ECF6",
          "polar": {
           "angularaxis": {
            "gridcolor": "white",
            "linecolor": "white",
            "ticks": ""
           },
           "bgcolor": "#E5ECF6",
           "radialaxis": {
            "gridcolor": "white",
            "linecolor": "white",
            "ticks": ""
           }
          },
          "scene": {
           "xaxis": {
            "backgroundcolor": "#E5ECF6",
            "gridcolor": "white",
            "gridwidth": 2,
            "linecolor": "white",
            "showbackground": true,
            "ticks": "",
            "zerolinecolor": "white"
           },
           "yaxis": {
            "backgroundcolor": "#E5ECF6",
            "gridcolor": "white",
            "gridwidth": 2,
            "linecolor": "white",
            "showbackground": true,
            "ticks": "",
            "zerolinecolor": "white"
           },
           "zaxis": {
            "backgroundcolor": "#E5ECF6",
            "gridcolor": "white",
            "gridwidth": 2,
            "linecolor": "white",
            "showbackground": true,
            "ticks": "",
            "zerolinecolor": "white"
           }
          },
          "shapedefaults": {
           "line": {
            "color": "#2a3f5f"
           }
          },
          "ternary": {
           "aaxis": {
            "gridcolor": "white",
            "linecolor": "white",
            "ticks": ""
           },
           "baxis": {
            "gridcolor": "white",
            "linecolor": "white",
            "ticks": ""
           },
           "bgcolor": "#E5ECF6",
           "caxis": {
            "gridcolor": "white",
            "linecolor": "white",
            "ticks": ""
           }
          },
          "title": {
           "x": 0.05
          },
          "xaxis": {
           "automargin": true,
           "gridcolor": "white",
           "linecolor": "white",
           "ticks": "",
           "title": {
            "standoff": 15
           },
           "zerolinecolor": "white",
           "zerolinewidth": 2
          },
          "yaxis": {
           "automargin": true,
           "gridcolor": "white",
           "linecolor": "white",
           "ticks": "",
           "title": {
            "standoff": 15
           },
           "zerolinecolor": "white",
           "zerolinewidth": 2
          }
         }
        },
        "title": {
         "text": "Slice Plot"
        },
        "width": 2400,
        "xaxis": {
         "anchor": "y",
         "categoryarray": [
          0.01,
          0.05,
          0.1
         ],
         "categoryorder": "array",
         "domain": [
          0,
          0.103125
         ],
         "title": {
          "text": "ent_coef"
         },
         "type": "category"
        },
        "xaxis2": {
         "anchor": "y2",
         "categoryarray": [
          0.8,
          0.9,
          0.95,
          0.99
         ],
         "categoryorder": "array",
         "domain": [
          0.128125,
          0.23124999999999998
         ],
         "title": {
          "text": "gae_lambda"
         },
         "type": "category"
        },
        "xaxis3": {
         "anchor": "y3",
         "categoryarray": [
          0.95,
          0.99
         ],
         "categoryorder": "array",
         "domain": [
          0.25625,
          0.359375
         ],
         "title": {
          "text": "gamma"
         },
         "type": "category"
        },
        "xaxis4": {
         "anchor": "y4",
         "categoryarray": [
          0.0001,
          0.0005,
          0.001
         ],
         "categoryorder": "array",
         "domain": [
          0.38437499999999997,
          0.48749999999999993
         ],
         "title": {
          "text": "learning_rate"
         },
         "type": "category"
        },
        "xaxis5": {
         "anchor": "y5",
         "categoryarray": [
          0.5,
          1
         ],
         "categoryorder": "array",
         "domain": [
          0.5125,
          0.615625
         ],
         "title": {
          "text": "max_grad_norm"
         },
         "type": "category"
        },
        "xaxis6": {
         "anchor": "y6",
         "categoryarray": [
          5,
          16,
          32,
          64
         ],
         "categoryorder": "array",
         "domain": [
          0.640625,
          0.74375
         ],
         "title": {
          "text": "n_steps"
         },
         "type": "category"
        },
        "xaxis7": {
         "anchor": "y7",
         "categoryarray": [
          true,
          false
         ],
         "categoryorder": "array",
         "domain": [
          0.7687499999999999,
          0.871875
         ],
         "title": {
          "text": "use_rms_prop"
         },
         "type": "category"
        },
        "xaxis8": {
         "anchor": "y8",
         "categoryarray": [
          0.5,
          0.8,
          1
         ],
         "categoryorder": "array",
         "domain": [
          0.896875,
          1
         ],
         "title": {
          "text": "vf_coef"
         },
         "type": "category"
        },
        "yaxis": {
         "anchor": "x",
         "domain": [
          0,
          1
         ],
         "title": {
          "text": "Objective Value"
         }
        },
        "yaxis2": {
         "anchor": "x2",
         "domain": [
          0,
          1
         ],
         "matches": "y",
         "showticklabels": false
        },
        "yaxis3": {
         "anchor": "x3",
         "domain": [
          0,
          1
         ],
         "matches": "y",
         "showticklabels": false
        },
        "yaxis4": {
         "anchor": "x4",
         "domain": [
          0,
          1
         ],
         "matches": "y",
         "showticklabels": false
        },
        "yaxis5": {
         "anchor": "x5",
         "domain": [
          0,
          1
         ],
         "matches": "y",
         "showticklabels": false
        },
        "yaxis6": {
         "anchor": "x6",
         "domain": [
          0,
          1
         ],
         "matches": "y",
         "showticklabels": false
        },
        "yaxis7": {
         "anchor": "x7",
         "domain": [
          0,
          1
         ],
         "matches": "y",
         "showticklabels": false
        },
        "yaxis8": {
         "anchor": "x8",
         "domain": [
          0,
          1
         ],
         "matches": "y",
         "showticklabels": false
        }
       }
      }
     },
     "metadata": {},
     "output_type": "display_data"
    }
   ],
   "source": [
    "from optuna.visualization import plot_slice\n",
    "\n",
    "fig = plot_slice(study)\n",
    "fig.show()"
   ]
  },
  {
   "cell_type": "markdown",
   "metadata": {},
   "source": [
    "**Contour Plot**\n",
    "\n",
    "This plot shows the relationship between two hyperparameters and their influence on the objective value."
   ]
  },
  {
   "cell_type": "code",
   "execution_count": 10,
   "metadata": {},
   "outputs": [
    {
     "data": {
      "application/vnd.plotly.v1+json": {
       "config": {
        "plotlyServerURL": "https://plot.ly"
       },
       "data": [
        {
         "type": "scatter",
         "xaxis": "x",
         "yaxis": "y"
        },
        {
         "colorbar": {
          "title": {
           "text": "Objective Value"
          }
         },
         "colorscale": [
          [
           0,
           "rgb(247,251,255)"
          ],
          [
           0.125,
           "rgb(222,235,247)"
          ],
          [
           0.25,
           "rgb(198,219,239)"
          ],
          [
           0.375,
           "rgb(158,202,225)"
          ],
          [
           0.5,
           "rgb(107,174,214)"
          ],
          [
           0.625,
           "rgb(66,146,198)"
          ],
          [
           0.75,
           "rgb(33,113,181)"
          ],
          [
           0.875,
           "rgb(8,81,156)"
          ],
          [
           1,
           "rgb(8,48,107)"
          ]
         ],
         "connectgaps": true,
         "contours": {
          "coloring": "heatmap"
         },
         "hoverinfo": "none",
         "line": {
          "smoothing": 1.3
         },
         "reversescale": false,
         "showscale": true,
         "type": "contour",
         "x": [
          0.0055,
          0.01,
          0.05,
          0.1,
          0.10450000000000001
         ],
         "xaxis": "x9",
         "y": [
          0.7905000000000001,
          0.8,
          0.9,
          0.95,
          0.99,
          0.9994999999999999
         ],
         "yaxis": "y9",
         "z": [
          [
           null,
           null,
           null,
           null,
           null
          ],
          [
           null,
           null,
           -56120.873999999996,
           -14624574.513999999,
           null
          ],
          [
           null,
           -189204.658,
           null,
           -19294582.597999997,
           null
          ],
          [
           null,
           -18266311.002,
           -55901.058000000005,
           null,
           null
          ],
          [
           null,
           null,
           -19024235.002,
           -1580196.552,
           null
          ],
          [
           null,
           null,
           null,
           null,
           null
          ]
         ]
        },
        {
         "marker": {
          "color": "black",
          "line": {
           "color": "Gray",
           "width": 2
          }
         },
         "mode": "markers",
         "name": "Feasible Trial",
         "showlegend": false,
         "type": "scatter",
         "x": [
          0.1,
          0.01,
          0.01,
          0.05,
          0.01,
          0.01,
          0.1,
          0.05,
          0.05,
          0.01,
          0.05,
          0.05,
          0.05,
          0.05,
          0.05,
          0.05,
          0.05,
          0.1,
          0.05,
          0.05
         ],
         "xaxis": "x9",
         "y": [
          0.99,
          0.9,
          0.9,
          0.95,
          0.95,
          0.9,
          0.9,
          0.95,
          0.95,
          0.9,
          0.8,
          0.8,
          0.8,
          0.8,
          0.99,
          0.8,
          0.95,
          0.8,
          0.95,
          0.99
         ],
         "yaxis": "y9"
        },
        {
         "colorbar": {
          "title": {
           "text": "Objective Value"
          }
         },
         "colorscale": [
          [
           0,
           "rgb(247,251,255)"
          ],
          [
           0.125,
           "rgb(222,235,247)"
          ],
          [
           0.25,
           "rgb(198,219,239)"
          ],
          [
           0.375,
           "rgb(158,202,225)"
          ],
          [
           0.5,
           "rgb(107,174,214)"
          ],
          [
           0.625,
           "rgb(66,146,198)"
          ],
          [
           0.75,
           "rgb(33,113,181)"
          ],
          [
           0.875,
           "rgb(8,81,156)"
          ],
          [
           1,
           "rgb(8,48,107)"
          ]
         ],
         "connectgaps": true,
         "contours": {
          "coloring": "heatmap"
         },
         "hoverinfo": "none",
         "line": {
          "smoothing": 1.3
         },
         "reversescale": false,
         "showscale": false,
         "type": "contour",
         "x": [
          0.0055,
          0.01,
          0.05,
          0.1,
          0.10450000000000001
         ],
         "xaxis": "x17",
         "y": [
          0.948,
          0.95,
          0.99,
          0.992
         ],
         "yaxis": "y17",
         "z": [
          [
           null,
           null,
           null,
           null,
           null
          ],
          [
           null,
           -189204.658,
           -2005254.284,
           -1580196.552,
           null
          ],
          [
           null,
           -19637775,
           -55901.058000000005,
           -14624574.513999999,
           null
          ],
          [
           null,
           null,
           null,
           null,
           null
          ]
         ]
        },
        {
         "marker": {
          "color": "black",
          "line": {
           "color": "Gray",
           "width": 2
          }
         },
         "mode": "markers",
         "name": "Feasible Trial",
         "showlegend": false,
         "type": "scatter",
         "x": [
          0.1,
          0.01,
          0.01,
          0.05,
          0.01,
          0.01,
          0.1,
          0.05,
          0.05,
          0.01,
          0.05,
          0.05,
          0.05,
          0.05,
          0.05,
          0.05,
          0.05,
          0.1,
          0.05,
          0.05
         ],
         "xaxis": "x17",
         "y": [
          0.95,
          0.95,
          0.95,
          0.99,
          0.95,
          0.99,
          0.99,
          0.95,
          0.99,
          0.95,
          0.99,
          0.99,
          0.99,
          0.99,
          0.99,
          0.99,
          0.99,
          0.99,
          0.99,
          0.99
         ],
         "yaxis": "y17"
        },
        {
         "colorbar": {
          "title": {
           "text": "Objective Value"
          }
         },
         "colorscale": [
          [
           0,
           "rgb(247,251,255)"
          ],
          [
           0.125,
           "rgb(222,235,247)"
          ],
          [
           0.25,
           "rgb(198,219,239)"
          ],
          [
           0.375,
           "rgb(158,202,225)"
          ],
          [
           0.5,
           "rgb(107,174,214)"
          ],
          [
           0.625,
           "rgb(66,146,198)"
          ],
          [
           0.75,
           "rgb(33,113,181)"
          ],
          [
           0.875,
           "rgb(8,81,156)"
          ],
          [
           1,
           "rgb(8,48,107)"
          ]
         ],
         "connectgaps": true,
         "contours": {
          "coloring": "heatmap"
         },
         "hoverinfo": "none",
         "line": {
          "smoothing": 1.3
         },
         "reversescale": false,
         "showscale": false,
         "type": "contour",
         "x": [
          0.0055,
          0.01,
          0.05,
          0.1,
          0.10450000000000001
         ],
         "xaxis": "x25",
         "y": [
          0.000055,
          0.0001,
          0.0005,
          0.001,
          0.001045
         ],
         "yaxis": "y25",
         "z": [
          [
           null,
           null,
           null,
           null,
           null
          ],
          [
           null,
           -189204.658,
           -2005254.284,
           null,
           null
          ],
          [
           null,
           -17358035.482,
           -19024235.002,
           -19294582.597999997,
           null
          ],
          [
           null,
           -12391805.092000002,
           -55901.058000000005,
           -1580196.552,
           null
          ],
          [
           null,
           null,
           null,
           null,
           null
          ]
         ]
        },
        {
         "marker": {
          "color": "black",
          "line": {
           "color": "Gray",
           "width": 2
          }
         },
         "mode": "markers",
         "name": "Feasible Trial",
         "showlegend": false,
         "type": "scatter",
         "x": [
          0.1,
          0.01,
          0.01,
          0.05,
          0.01,
          0.01,
          0.1,
          0.05,
          0.05,
          0.01,
          0.05,
          0.05,
          0.05,
          0.05,
          0.05,
          0.05,
          0.05,
          0.1,
          0.05,
          0.05
         ],
         "xaxis": "x25",
         "y": [
          0.001,
          0.0005,
          0.001,
          0.0001,
          0.0005,
          0.0001,
          0.0005,
          0.0001,
          0.001,
          0.0001,
          0.001,
          0.001,
          0.001,
          0.001,
          0.001,
          0.001,
          0.001,
          0.001,
          0.001,
          0.0005
         ],
         "yaxis": "y25"
        },
        {
         "colorbar": {
          "title": {
           "text": "Objective Value"
          }
         },
         "colorscale": [
          [
           0,
           "rgb(247,251,255)"
          ],
          [
           0.125,
           "rgb(222,235,247)"
          ],
          [
           0.25,
           "rgb(198,219,239)"
          ],
          [
           0.375,
           "rgb(158,202,225)"
          ],
          [
           0.5,
           "rgb(107,174,214)"
          ],
          [
           0.625,
           "rgb(66,146,198)"
          ],
          [
           0.75,
           "rgb(33,113,181)"
          ],
          [
           0.875,
           "rgb(8,81,156)"
          ],
          [
           1,
           "rgb(8,48,107)"
          ]
         ],
         "connectgaps": true,
         "contours": {
          "coloring": "heatmap"
         },
         "hoverinfo": "none",
         "line": {
          "smoothing": 1.3
         },
         "reversescale": false,
         "showscale": false,
         "type": "contour",
         "x": [
          0.0055,
          0.01,
          0.05,
          0.1,
          0.10450000000000001
         ],
         "xaxis": "x33",
         "y": [
          0.475,
          0.5,
          1,
          1.025
         ],
         "yaxis": "y33",
         "z": [
          [
           null,
           null,
           null,
           null,
           null
          ],
          [
           null,
           -189204.658,
           -55901.058000000005,
           -1580196.552,
           null
          ],
          [
           null,
           -17358035.482,
           -56120.873999999996,
           -14624574.513999999,
           null
          ],
          [
           null,
           null,
           null,
           null,
           null
          ]
         ]
        },
        {
         "marker": {
          "color": "black",
          "line": {
           "color": "Gray",
           "width": 2
          }
         },
         "mode": "markers",
         "name": "Feasible Trial",
         "showlegend": false,
         "type": "scatter",
         "x": [
          0.1,
          0.01,
          0.01,
          0.05,
          0.01,
          0.01,
          0.1,
          0.05,
          0.05,
          0.01,
          0.05,
          0.05,
          0.05,
          0.05,
          0.05,
          0.05,
          0.05,
          0.1,
          0.05,
          0.05
         ],
         "xaxis": "x33",
         "y": [
          0.5,
          1,
          0.5,
          0.5,
          1,
          0.5,
          0.5,
          1,
          0.5,
          0.5,
          1,
          1,
          1,
          1,
          0.5,
          1,
          0.5,
          1,
          1,
          0.5
         ],
         "yaxis": "y33"
        },
        {
         "colorbar": {
          "title": {
           "text": "Objective Value"
          }
         },
         "colorscale": [
          [
           0,
           "rgb(247,251,255)"
          ],
          [
           0.125,
           "rgb(222,235,247)"
          ],
          [
           0.25,
           "rgb(198,219,239)"
          ],
          [
           0.375,
           "rgb(158,202,225)"
          ],
          [
           0.5,
           "rgb(107,174,214)"
          ],
          [
           0.625,
           "rgb(66,146,198)"
          ],
          [
           0.75,
           "rgb(33,113,181)"
          ],
          [
           0.875,
           "rgb(8,81,156)"
          ],
          [
           1,
           "rgb(8,48,107)"
          ]
         ],
         "connectgaps": true,
         "contours": {
          "coloring": "heatmap"
         },
         "hoverinfo": "none",
         "line": {
          "smoothing": 1.3
         },
         "reversescale": false,
         "showscale": false,
         "type": "contour",
         "x": [
          0.0055,
          0.01,
          0.05,
          0.1,
          0.10450000000000001
         ],
         "xaxis": "x41",
         "y": [
          2.05,
          5,
          16,
          32,
          64,
          66.95
         ],
         "yaxis": "y41",
         "z": [
          [
           null,
           null,
           null,
           null,
           null
          ],
          [
           null,
           -189204.658,
           -55901.058000000005,
           -14624574.513999999,
           null
          ],
          [
           null,
           -12391805.092000002,
           -2005254.284,
           -1580196.552,
           null
          ],
          [
           null,
           -17358035.482,
           -11990231.954,
           null,
           null
          ],
          [
           null,
           -18266311.002,
           -19814351.84,
           -19294582.597999997,
           null
          ],
          [
           null,
           null,
           null,
           null,
           null
          ]
         ]
        },
        {
         "marker": {
          "color": "black",
          "line": {
           "color": "Gray",
           "width": 2
          }
         },
         "mode": "markers",
         "name": "Feasible Trial",
         "showlegend": false,
         "type": "scatter",
         "x": [
          0.1,
          0.01,
          0.01,
          0.05,
          0.01,
          0.01,
          0.1,
          0.05,
          0.05,
          0.01,
          0.05,
          0.05,
          0.05,
          0.05,
          0.05,
          0.05,
          0.05,
          0.1,
          0.05,
          0.05
         ],
         "xaxis": "x41",
         "y": [
          16,
          32,
          16,
          64,
          64,
          64,
          64,
          16,
          5,
          5,
          5,
          5,
          5,
          5,
          5,
          32,
          5,
          5,
          5,
          32
         ],
         "yaxis": "y41"
        },
        {
         "colorbar": {
          "title": {
           "text": "Objective Value"
          }
         },
         "colorscale": [
          [
           0,
           "rgb(247,251,255)"
          ],
          [
           0.125,
           "rgb(222,235,247)"
          ],
          [
           0.25,
           "rgb(198,219,239)"
          ],
          [
           0.375,
           "rgb(158,202,225)"
          ],
          [
           0.5,
           "rgb(107,174,214)"
          ],
          [
           0.625,
           "rgb(66,146,198)"
          ],
          [
           0.75,
           "rgb(33,113,181)"
          ],
          [
           0.875,
           "rgb(8,81,156)"
          ],
          [
           1,
           "rgb(8,48,107)"
          ]
         ],
         "connectgaps": true,
         "contours": {
          "coloring": "heatmap"
         },
         "hoverinfo": "none",
         "line": {
          "smoothing": 1.3
         },
         "reversescale": false,
         "showscale": false,
         "type": "contour",
         "x": [
          0.0055,
          0.01,
          0.05,
          0.1,
          0.10450000000000001
         ],
         "xaxis": "x49",
         "y": [
          "False",
          "True"
         ],
         "yaxis": "y49",
         "z": [
          [
           null,
           -189204.658,
           -55901.058000000005,
           -14624574.513999999,
           null
          ],
          [
           null,
           -12391805.092000002,
           -2005254.284,
           -1580196.552,
           null
          ]
         ]
        },
        {
         "marker": {
          "color": "black",
          "line": {
           "color": "Gray",
           "width": 2
          }
         },
         "mode": "markers",
         "name": "Feasible Trial",
         "showlegend": false,
         "type": "scatter",
         "x": [
          0.1,
          0.01,
          0.01,
          0.05,
          0.01,
          0.01,
          0.1,
          0.05,
          0.05,
          0.01,
          0.05,
          0.05,
          0.05,
          0.05,
          0.05,
          0.05,
          0.05,
          0.1,
          0.05,
          0.05
         ],
         "xaxis": "x49",
         "y": [
          "True",
          "False",
          "True",
          "False",
          "False",
          "True",
          "True",
          "True",
          "False",
          "False",
          "False",
          "False",
          "False",
          "False",
          "False",
          "False",
          "False",
          "False",
          "False",
          "False"
         ],
         "yaxis": "y49"
        },
        {
         "colorbar": {
          "title": {
           "text": "Objective Value"
          }
         },
         "colorscale": [
          [
           0,
           "rgb(247,251,255)"
          ],
          [
           0.125,
           "rgb(222,235,247)"
          ],
          [
           0.25,
           "rgb(198,219,239)"
          ],
          [
           0.375,
           "rgb(158,202,225)"
          ],
          [
           0.5,
           "rgb(107,174,214)"
          ],
          [
           0.625,
           "rgb(66,146,198)"
          ],
          [
           0.75,
           "rgb(33,113,181)"
          ],
          [
           0.875,
           "rgb(8,81,156)"
          ],
          [
           1,
           "rgb(8,48,107)"
          ]
         ],
         "connectgaps": true,
         "contours": {
          "coloring": "heatmap"
         },
         "hoverinfo": "none",
         "line": {
          "smoothing": 1.3
         },
         "reversescale": false,
         "showscale": false,
         "type": "contour",
         "x": [
          0.0055,
          0.01,
          0.05,
          0.1,
          0.10450000000000001
         ],
         "xaxis": "x57",
         "y": [
          0.475,
          0.5,
          0.8,
          1,
          1.025
         ],
         "yaxis": "y57",
         "z": [
          [
           null,
           null,
           null,
           null,
           null
          ],
          [
           null,
           -189204.658,
           -19024235.002,
           -1580196.552,
           null
          ],
          [
           null,
           -18266311.002,
           -1816433.36,
           -19294582.597999997,
           null
          ],
          [
           null,
           -17358035.482,
           -55901.058000000005,
           -14624574.513999999,
           null
          ],
          [
           null,
           null,
           null,
           null,
           null
          ]
         ]
        },
        {
         "marker": {
          "color": "black",
          "line": {
           "color": "Gray",
           "width": 2
          }
         },
         "mode": "markers",
         "name": "Feasible Trial",
         "showlegend": false,
         "type": "scatter",
         "x": [
          0.1,
          0.01,
          0.01,
          0.05,
          0.01,
          0.01,
          0.1,
          0.05,
          0.05,
          0.01,
          0.05,
          0.05,
          0.05,
          0.05,
          0.05,
          0.05,
          0.05,
          0.1,
          0.05,
          0.05
         ],
         "xaxis": "x57",
         "y": [
          0.5,
          1,
          0.5,
          0.8,
          0.8,
          1,
          0.8,
          1,
          1,
          0.5,
          1,
          1,
          1,
          1,
          1,
          1,
          1,
          1,
          0.8,
          0.5
         ],
         "yaxis": "y57"
        },
        {
         "colorbar": {
          "title": {
           "text": "Objective Value"
          }
         },
         "colorscale": [
          [
           0,
           "rgb(247,251,255)"
          ],
          [
           0.125,
           "rgb(222,235,247)"
          ],
          [
           0.25,
           "rgb(198,219,239)"
          ],
          [
           0.375,
           "rgb(158,202,225)"
          ],
          [
           0.5,
           "rgb(107,174,214)"
          ],
          [
           0.625,
           "rgb(66,146,198)"
          ],
          [
           0.75,
           "rgb(33,113,181)"
          ],
          [
           0.875,
           "rgb(8,81,156)"
          ],
          [
           1,
           "rgb(8,48,107)"
          ]
         ],
         "connectgaps": true,
         "contours": {
          "coloring": "heatmap"
         },
         "hoverinfo": "none",
         "line": {
          "smoothing": 1.3
         },
         "reversescale": false,
         "showscale": false,
         "type": "contour",
         "x": [
          0.7905000000000001,
          0.8,
          0.9,
          0.95,
          0.99,
          0.9994999999999999
         ],
         "xaxis": "x2",
         "y": [
          0.0055,
          0.01,
          0.05,
          0.1,
          0.10450000000000001
         ],
         "yaxis": "y2",
         "z": [
          [
           null,
           null,
           null,
           null,
           null,
           null
          ],
          [
           null,
           null,
           -189204.658,
           -18266311.002,
           null,
           null
          ],
          [
           null,
           -56120.873999999996,
           null,
           -55901.058000000005,
           -19024235.002,
           null
          ],
          [
           null,
           -14624574.513999999,
           -19294582.597999997,
           null,
           -1580196.552,
           null
          ],
          [
           null,
           null,
           null,
           null,
           null,
           null
          ]
         ]
        },
        {
         "marker": {
          "color": "black",
          "line": {
           "color": "Gray",
           "width": 2
          }
         },
         "mode": "markers",
         "name": "Feasible Trial",
         "showlegend": false,
         "type": "scatter",
         "x": [
          0.99,
          0.9,
          0.9,
          0.95,
          0.95,
          0.9,
          0.9,
          0.95,
          0.95,
          0.9,
          0.8,
          0.8,
          0.8,
          0.8,
          0.99,
          0.8,
          0.95,
          0.8,
          0.95,
          0.99
         ],
         "xaxis": "x2",
         "y": [
          0.1,
          0.01,
          0.01,
          0.05,
          0.01,
          0.01,
          0.1,
          0.05,
          0.05,
          0.01,
          0.05,
          0.05,
          0.05,
          0.05,
          0.05,
          0.05,
          0.05,
          0.1,
          0.05,
          0.05
         ],
         "yaxis": "y2"
        },
        {
         "type": "scatter",
         "xaxis": "x10",
         "yaxis": "y10"
        },
        {
         "colorbar": {
          "title": {
           "text": "Objective Value"
          }
         },
         "colorscale": [
          [
           0,
           "rgb(247,251,255)"
          ],
          [
           0.125,
           "rgb(222,235,247)"
          ],
          [
           0.25,
           "rgb(198,219,239)"
          ],
          [
           0.375,
           "rgb(158,202,225)"
          ],
          [
           0.5,
           "rgb(107,174,214)"
          ],
          [
           0.625,
           "rgb(66,146,198)"
          ],
          [
           0.75,
           "rgb(33,113,181)"
          ],
          [
           0.875,
           "rgb(8,81,156)"
          ],
          [
           1,
           "rgb(8,48,107)"
          ]
         ],
         "connectgaps": true,
         "contours": {
          "coloring": "heatmap"
         },
         "hoverinfo": "none",
         "line": {
          "smoothing": 1.3
         },
         "reversescale": false,
         "showscale": false,
         "type": "contour",
         "x": [
          0.7905000000000001,
          0.8,
          0.9,
          0.95,
          0.99,
          0.9994999999999999
         ],
         "xaxis": "x18",
         "y": [
          0.948,
          0.95,
          0.99,
          0.992
         ],
         "yaxis": "y18",
         "z": [
          [
           null,
           null,
           null,
           null,
           null,
           null
          ],
          [
           null,
           null,
           -189204.658,
           -2005254.284,
           -1580196.552,
           null
          ],
          [
           null,
           -56120.873999999996,
           -19294582.597999997,
           -55901.058000000005,
           -19024235.002,
           null
          ],
          [
           null,
           null,
           null,
           null,
           null,
           null
          ]
         ]
        },
        {
         "marker": {
          "color": "black",
          "line": {
           "color": "Gray",
           "width": 2
          }
         },
         "mode": "markers",
         "name": "Feasible Trial",
         "showlegend": false,
         "type": "scatter",
         "x": [
          0.99,
          0.9,
          0.9,
          0.95,
          0.95,
          0.9,
          0.9,
          0.95,
          0.95,
          0.9,
          0.8,
          0.8,
          0.8,
          0.8,
          0.99,
          0.8,
          0.95,
          0.8,
          0.95,
          0.99
         ],
         "xaxis": "x18",
         "y": [
          0.95,
          0.95,
          0.95,
          0.99,
          0.95,
          0.99,
          0.99,
          0.95,
          0.99,
          0.95,
          0.99,
          0.99,
          0.99,
          0.99,
          0.99,
          0.99,
          0.99,
          0.99,
          0.99,
          0.99
         ],
         "yaxis": "y18"
        },
        {
         "colorbar": {
          "title": {
           "text": "Objective Value"
          }
         },
         "colorscale": [
          [
           0,
           "rgb(247,251,255)"
          ],
          [
           0.125,
           "rgb(222,235,247)"
          ],
          [
           0.25,
           "rgb(198,219,239)"
          ],
          [
           0.375,
           "rgb(158,202,225)"
          ],
          [
           0.5,
           "rgb(107,174,214)"
          ],
          [
           0.625,
           "rgb(66,146,198)"
          ],
          [
           0.75,
           "rgb(33,113,181)"
          ],
          [
           0.875,
           "rgb(8,81,156)"
          ],
          [
           1,
           "rgb(8,48,107)"
          ]
         ],
         "connectgaps": true,
         "contours": {
          "coloring": "heatmap"
         },
         "hoverinfo": "none",
         "line": {
          "smoothing": 1.3
         },
         "reversescale": false,
         "showscale": false,
         "type": "contour",
         "x": [
          0.7905000000000001,
          0.8,
          0.9,
          0.95,
          0.99,
          0.9994999999999999
         ],
         "xaxis": "x26",
         "y": [
          0.000055,
          0.0001,
          0.0005,
          0.001,
          0.001045
         ],
         "yaxis": "y26",
         "z": [
          [
           null,
           null,
           null,
           null,
           null,
           null
          ],
          [
           null,
           null,
           -189204.658,
           -2005254.284,
           null,
           null
          ],
          [
           null,
           null,
           -17358035.482,
           -18266311.002,
           -19024235.002,
           null
          ],
          [
           null,
           -56120.873999999996,
           -12391805.092000002,
           -55901.058000000005,
           -1580196.552,
           null
          ],
          [
           null,
           null,
           null,
           null,
           null,
           null
          ]
         ]
        },
        {
         "marker": {
          "color": "black",
          "line": {
           "color": "Gray",
           "width": 2
          }
         },
         "mode": "markers",
         "name": "Feasible Trial",
         "showlegend": false,
         "type": "scatter",
         "x": [
          0.99,
          0.9,
          0.9,
          0.95,
          0.95,
          0.9,
          0.9,
          0.95,
          0.95,
          0.9,
          0.8,
          0.8,
          0.8,
          0.8,
          0.99,
          0.8,
          0.95,
          0.8,
          0.95,
          0.99
         ],
         "xaxis": "x26",
         "y": [
          0.001,
          0.0005,
          0.001,
          0.0001,
          0.0005,
          0.0001,
          0.0005,
          0.0001,
          0.001,
          0.0001,
          0.001,
          0.001,
          0.001,
          0.001,
          0.001,
          0.001,
          0.001,
          0.001,
          0.001,
          0.0005
         ],
         "yaxis": "y26"
        },
        {
         "colorbar": {
          "title": {
           "text": "Objective Value"
          }
         },
         "colorscale": [
          [
           0,
           "rgb(247,251,255)"
          ],
          [
           0.125,
           "rgb(222,235,247)"
          ],
          [
           0.25,
           "rgb(198,219,239)"
          ],
          [
           0.375,
           "rgb(158,202,225)"
          ],
          [
           0.5,
           "rgb(107,174,214)"
          ],
          [
           0.625,
           "rgb(66,146,198)"
          ],
          [
           0.75,
           "rgb(33,113,181)"
          ],
          [
           0.875,
           "rgb(8,81,156)"
          ],
          [
           1,
           "rgb(8,48,107)"
          ]
         ],
         "connectgaps": true,
         "contours": {
          "coloring": "heatmap"
         },
         "hoverinfo": "none",
         "line": {
          "smoothing": 1.3
         },
         "reversescale": false,
         "showscale": false,
         "type": "contour",
         "x": [
          0.7905000000000001,
          0.8,
          0.9,
          0.95,
          0.99,
          0.9994999999999999
         ],
         "xaxis": "x34",
         "y": [
          0.475,
          0.5,
          1,
          1.025
         ],
         "yaxis": "y34",
         "z": [
          [
           null,
           null,
           null,
           null,
           null,
           null
          ],
          [
           null,
           null,
           -189204.658,
           -55901.058000000005,
           -1580196.552,
           null
          ],
          [
           null,
           -56120.873999999996,
           -17358035.482,
           -1816433.36,
           null,
           null
          ],
          [
           null,
           null,
           null,
           null,
           null,
           null
          ]
         ]
        },
        {
         "marker": {
          "color": "black",
          "line": {
           "color": "Gray",
           "width": 2
          }
         },
         "mode": "markers",
         "name": "Feasible Trial",
         "showlegend": false,
         "type": "scatter",
         "x": [
          0.99,
          0.9,
          0.9,
          0.95,
          0.95,
          0.9,
          0.9,
          0.95,
          0.95,
          0.9,
          0.8,
          0.8,
          0.8,
          0.8,
          0.99,
          0.8,
          0.95,
          0.8,
          0.95,
          0.99
         ],
         "xaxis": "x34",
         "y": [
          0.5,
          1,
          0.5,
          0.5,
          1,
          0.5,
          0.5,
          1,
          0.5,
          0.5,
          1,
          1,
          1,
          1,
          0.5,
          1,
          0.5,
          1,
          1,
          0.5
         ],
         "yaxis": "y34"
        },
        {
         "colorbar": {
          "title": {
           "text": "Objective Value"
          }
         },
         "colorscale": [
          [
           0,
           "rgb(247,251,255)"
          ],
          [
           0.125,
           "rgb(222,235,247)"
          ],
          [
           0.25,
           "rgb(198,219,239)"
          ],
          [
           0.375,
           "rgb(158,202,225)"
          ],
          [
           0.5,
           "rgb(107,174,214)"
          ],
          [
           0.625,
           "rgb(66,146,198)"
          ],
          [
           0.75,
           "rgb(33,113,181)"
          ],
          [
           0.875,
           "rgb(8,81,156)"
          ],
          [
           1,
           "rgb(8,48,107)"
          ]
         ],
         "connectgaps": true,
         "contours": {
          "coloring": "heatmap"
         },
         "hoverinfo": "none",
         "line": {
          "smoothing": 1.3
         },
         "reversescale": false,
         "showscale": false,
         "type": "contour",
         "x": [
          0.7905000000000001,
          0.8,
          0.9,
          0.95,
          0.99,
          0.9994999999999999
         ],
         "xaxis": "x42",
         "y": [
          2.05,
          5,
          16,
          32,
          64,
          66.95
         ],
         "yaxis": "y42",
         "z": [
          [
           null,
           null,
           null,
           null,
           null,
           null
          ],
          [
           null,
           -56120.873999999996,
           -189204.658,
           -55901.058000000005,
           -19702608.476,
           null
          ],
          [
           null,
           null,
           -12391805.092000002,
           -2005254.284,
           -1580196.552,
           null
          ],
          [
           null,
           -11990231.954,
           -17358035.482,
           null,
           -19024235.002,
           null
          ],
          [
           null,
           null,
           -19294582.597999997,
           -18266311.002,
           null,
           null
          ],
          [
           null,
           null,
           null,
           null,
           null,
           null
          ]
         ]
        },
        {
         "marker": {
          "color": "black",
          "line": {
           "color": "Gray",
           "width": 2
          }
         },
         "mode": "markers",
         "name": "Feasible Trial",
         "showlegend": false,
         "type": "scatter",
         "x": [
          0.99,
          0.9,
          0.9,
          0.95,
          0.95,
          0.9,
          0.9,
          0.95,
          0.95,
          0.9,
          0.8,
          0.8,
          0.8,
          0.8,
          0.99,
          0.8,
          0.95,
          0.8,
          0.95,
          0.99
         ],
         "xaxis": "x42",
         "y": [
          16,
          32,
          16,
          64,
          64,
          64,
          64,
          16,
          5,
          5,
          5,
          5,
          5,
          5,
          5,
          32,
          5,
          5,
          5,
          32
         ],
         "yaxis": "y42"
        },
        {
         "colorbar": {
          "title": {
           "text": "Objective Value"
          }
         },
         "colorscale": [
          [
           0,
           "rgb(247,251,255)"
          ],
          [
           0.125,
           "rgb(222,235,247)"
          ],
          [
           0.25,
           "rgb(198,219,239)"
          ],
          [
           0.375,
           "rgb(158,202,225)"
          ],
          [
           0.5,
           "rgb(107,174,214)"
          ],
          [
           0.625,
           "rgb(66,146,198)"
          ],
          [
           0.75,
           "rgb(33,113,181)"
          ],
          [
           0.875,
           "rgb(8,81,156)"
          ],
          [
           1,
           "rgb(8,48,107)"
          ]
         ],
         "connectgaps": true,
         "contours": {
          "coloring": "heatmap"
         },
         "hoverinfo": "none",
         "line": {
          "smoothing": 1.3
         },
         "reversescale": false,
         "showscale": false,
         "type": "contour",
         "x": [
          0.7905000000000001,
          0.8,
          0.9,
          0.95,
          0.99,
          0.9994999999999999
         ],
         "xaxis": "x50",
         "y": [
          "False",
          "True"
         ],
         "yaxis": "y50",
         "z": [
          [
           null,
           -56120.873999999996,
           -189204.658,
           -55901.058000000005,
           -19024235.002,
           null
          ],
          [
           null,
           null,
           -12391805.092000002,
           -2005254.284,
           -1580196.552,
           null
          ]
         ]
        },
        {
         "marker": {
          "color": "black",
          "line": {
           "color": "Gray",
           "width": 2
          }
         },
         "mode": "markers",
         "name": "Feasible Trial",
         "showlegend": false,
         "type": "scatter",
         "x": [
          0.99,
          0.9,
          0.9,
          0.95,
          0.95,
          0.9,
          0.9,
          0.95,
          0.95,
          0.9,
          0.8,
          0.8,
          0.8,
          0.8,
          0.99,
          0.8,
          0.95,
          0.8,
          0.95,
          0.99
         ],
         "xaxis": "x50",
         "y": [
          "True",
          "False",
          "True",
          "False",
          "False",
          "True",
          "True",
          "True",
          "False",
          "False",
          "False",
          "False",
          "False",
          "False",
          "False",
          "False",
          "False",
          "False",
          "False",
          "False"
         ],
         "yaxis": "y50"
        },
        {
         "colorbar": {
          "title": {
           "text": "Objective Value"
          }
         },
         "colorscale": [
          [
           0,
           "rgb(247,251,255)"
          ],
          [
           0.125,
           "rgb(222,235,247)"
          ],
          [
           0.25,
           "rgb(198,219,239)"
          ],
          [
           0.375,
           "rgb(158,202,225)"
          ],
          [
           0.5,
           "rgb(107,174,214)"
          ],
          [
           0.625,
           "rgb(66,146,198)"
          ],
          [
           0.75,
           "rgb(33,113,181)"
          ],
          [
           0.875,
           "rgb(8,81,156)"
          ],
          [
           1,
           "rgb(8,48,107)"
          ]
         ],
         "connectgaps": true,
         "contours": {
          "coloring": "heatmap"
         },
         "hoverinfo": "none",
         "line": {
          "smoothing": 1.3
         },
         "reversescale": false,
         "showscale": false,
         "type": "contour",
         "x": [
          0.7905000000000001,
          0.8,
          0.9,
          0.95,
          0.99,
          0.9994999999999999
         ],
         "xaxis": "x58",
         "y": [
          0.475,
          0.5,
          0.8,
          1,
          1.025
         ],
         "yaxis": "y58",
         "z": [
          [
           null,
           null,
           null,
           null,
           null,
           null
          ],
          [
           null,
           null,
           -189204.658,
           null,
           -1580196.552,
           null
          ],
          [
           null,
           null,
           -19294582.597999997,
           -1816433.36,
           null,
           null
          ],
          [
           null,
           -56120.873999999996,
           -17358035.482,
           -55901.058000000005,
           -19702608.476,
           null
          ],
          [
           null,
           null,
           null,
           null,
           null,
           null
          ]
         ]
        },
        {
         "marker": {
          "color": "black",
          "line": {
           "color": "Gray",
           "width": 2
          }
         },
         "mode": "markers",
         "name": "Feasible Trial",
         "showlegend": false,
         "type": "scatter",
         "x": [
          0.99,
          0.9,
          0.9,
          0.95,
          0.95,
          0.9,
          0.9,
          0.95,
          0.95,
          0.9,
          0.8,
          0.8,
          0.8,
          0.8,
          0.99,
          0.8,
          0.95,
          0.8,
          0.95,
          0.99
         ],
         "xaxis": "x58",
         "y": [
          0.5,
          1,
          0.5,
          0.8,
          0.8,
          1,
          0.8,
          1,
          1,
          0.5,
          1,
          1,
          1,
          1,
          1,
          1,
          1,
          1,
          0.8,
          0.5
         ],
         "yaxis": "y58"
        },
        {
         "colorbar": {
          "title": {
           "text": "Objective Value"
          }
         },
         "colorscale": [
          [
           0,
           "rgb(247,251,255)"
          ],
          [
           0.125,
           "rgb(222,235,247)"
          ],
          [
           0.25,
           "rgb(198,219,239)"
          ],
          [
           0.375,
           "rgb(158,202,225)"
          ],
          [
           0.5,
           "rgb(107,174,214)"
          ],
          [
           0.625,
           "rgb(66,146,198)"
          ],
          [
           0.75,
           "rgb(33,113,181)"
          ],
          [
           0.875,
           "rgb(8,81,156)"
          ],
          [
           1,
           "rgb(8,48,107)"
          ]
         ],
         "connectgaps": true,
         "contours": {
          "coloring": "heatmap"
         },
         "hoverinfo": "none",
         "line": {
          "smoothing": 1.3
         },
         "reversescale": false,
         "showscale": false,
         "type": "contour",
         "x": [
          0.948,
          0.95,
          0.99,
          0.992
         ],
         "xaxis": "x3",
         "y": [
          0.0055,
          0.01,
          0.05,
          0.1,
          0.10450000000000001
         ],
         "yaxis": "y3",
         "z": [
          [
           null,
           null,
           null,
           null
          ],
          [
           null,
           -189204.658,
           -19637775,
           null
          ],
          [
           null,
           -2005254.284,
           -55901.058000000005,
           null
          ],
          [
           null,
           -1580196.552,
           -14624574.513999999,
           null
          ],
          [
           null,
           null,
           null,
           null
          ]
         ]
        },
        {
         "marker": {
          "color": "black",
          "line": {
           "color": "Gray",
           "width": 2
          }
         },
         "mode": "markers",
         "name": "Feasible Trial",
         "showlegend": false,
         "type": "scatter",
         "x": [
          0.95,
          0.95,
          0.95,
          0.99,
          0.95,
          0.99,
          0.99,
          0.95,
          0.99,
          0.95,
          0.99,
          0.99,
          0.99,
          0.99,
          0.99,
          0.99,
          0.99,
          0.99,
          0.99,
          0.99
         ],
         "xaxis": "x3",
         "y": [
          0.1,
          0.01,
          0.01,
          0.05,
          0.01,
          0.01,
          0.1,
          0.05,
          0.05,
          0.01,
          0.05,
          0.05,
          0.05,
          0.05,
          0.05,
          0.05,
          0.05,
          0.1,
          0.05,
          0.05
         ],
         "yaxis": "y3"
        },
        {
         "colorbar": {
          "title": {
           "text": "Objective Value"
          }
         },
         "colorscale": [
          [
           0,
           "rgb(247,251,255)"
          ],
          [
           0.125,
           "rgb(222,235,247)"
          ],
          [
           0.25,
           "rgb(198,219,239)"
          ],
          [
           0.375,
           "rgb(158,202,225)"
          ],
          [
           0.5,
           "rgb(107,174,214)"
          ],
          [
           0.625,
           "rgb(66,146,198)"
          ],
          [
           0.75,
           "rgb(33,113,181)"
          ],
          [
           0.875,
           "rgb(8,81,156)"
          ],
          [
           1,
           "rgb(8,48,107)"
          ]
         ],
         "connectgaps": true,
         "contours": {
          "coloring": "heatmap"
         },
         "hoverinfo": "none",
         "line": {
          "smoothing": 1.3
         },
         "reversescale": false,
         "showscale": false,
         "type": "contour",
         "x": [
          0.948,
          0.95,
          0.99,
          0.992
         ],
         "xaxis": "x11",
         "y": [
          0.7905000000000001,
          0.8,
          0.9,
          0.95,
          0.99,
          0.9994999999999999
         ],
         "yaxis": "y11",
         "z": [
          [
           null,
           null,
           null,
           null
          ],
          [
           null,
           null,
           -56120.873999999996,
           null
          ],
          [
           null,
           -189204.658,
           -19294582.597999997,
           null
          ],
          [
           null,
           -2005254.284,
           -55901.058000000005,
           null
          ],
          [
           null,
           -1580196.552,
           -19024235.002,
           null
          ],
          [
           null,
           null,
           null,
           null
          ]
         ]
        },
        {
         "marker": {
          "color": "black",
          "line": {
           "color": "Gray",
           "width": 2
          }
         },
         "mode": "markers",
         "name": "Feasible Trial",
         "showlegend": false,
         "type": "scatter",
         "x": [
          0.95,
          0.95,
          0.95,
          0.99,
          0.95,
          0.99,
          0.99,
          0.95,
          0.99,
          0.95,
          0.99,
          0.99,
          0.99,
          0.99,
          0.99,
          0.99,
          0.99,
          0.99,
          0.99,
          0.99
         ],
         "xaxis": "x11",
         "y": [
          0.99,
          0.9,
          0.9,
          0.95,
          0.95,
          0.9,
          0.9,
          0.95,
          0.95,
          0.9,
          0.8,
          0.8,
          0.8,
          0.8,
          0.99,
          0.8,
          0.95,
          0.8,
          0.95,
          0.99
         ],
         "yaxis": "y11"
        },
        {
         "type": "scatter",
         "xaxis": "x19",
         "yaxis": "y19"
        },
        {
         "colorbar": {
          "title": {
           "text": "Objective Value"
          }
         },
         "colorscale": [
          [
           0,
           "rgb(247,251,255)"
          ],
          [
           0.125,
           "rgb(222,235,247)"
          ],
          [
           0.25,
           "rgb(198,219,239)"
          ],
          [
           0.375,
           "rgb(158,202,225)"
          ],
          [
           0.5,
           "rgb(107,174,214)"
          ],
          [
           0.625,
           "rgb(66,146,198)"
          ],
          [
           0.75,
           "rgb(33,113,181)"
          ],
          [
           0.875,
           "rgb(8,81,156)"
          ],
          [
           1,
           "rgb(8,48,107)"
          ]
         ],
         "connectgaps": true,
         "contours": {
          "coloring": "heatmap"
         },
         "hoverinfo": "none",
         "line": {
          "smoothing": 1.3
         },
         "reversescale": false,
         "showscale": false,
         "type": "contour",
         "x": [
          0.948,
          0.95,
          0.99,
          0.992
         ],
         "xaxis": "x27",
         "y": [
          0.000055,
          0.0001,
          0.0005,
          0.001,
          0.001045
         ],
         "yaxis": "y27",
         "z": [
          [
           null,
           null,
           null,
           null
          ],
          [
           null,
           -189204.658,
           -19637775,
           null
          ],
          [
           null,
           -17358035.482,
           -19024235.002,
           null
          ],
          [
           null,
           -1580196.552,
           -55901.058000000005,
           null
          ],
          [
           null,
           null,
           null,
           null
          ]
         ]
        },
        {
         "marker": {
          "color": "black",
          "line": {
           "color": "Gray",
           "width": 2
          }
         },
         "mode": "markers",
         "name": "Feasible Trial",
         "showlegend": false,
         "type": "scatter",
         "x": [
          0.95,
          0.95,
          0.95,
          0.99,
          0.95,
          0.99,
          0.99,
          0.95,
          0.99,
          0.95,
          0.99,
          0.99,
          0.99,
          0.99,
          0.99,
          0.99,
          0.99,
          0.99,
          0.99,
          0.99
         ],
         "xaxis": "x27",
         "y": [
          0.001,
          0.0005,
          0.001,
          0.0001,
          0.0005,
          0.0001,
          0.0005,
          0.0001,
          0.001,
          0.0001,
          0.001,
          0.001,
          0.001,
          0.001,
          0.001,
          0.001,
          0.001,
          0.001,
          0.001,
          0.0005
         ],
         "yaxis": "y27"
        },
        {
         "colorbar": {
          "title": {
           "text": "Objective Value"
          }
         },
         "colorscale": [
          [
           0,
           "rgb(247,251,255)"
          ],
          [
           0.125,
           "rgb(222,235,247)"
          ],
          [
           0.25,
           "rgb(198,219,239)"
          ],
          [
           0.375,
           "rgb(158,202,225)"
          ],
          [
           0.5,
           "rgb(107,174,214)"
          ],
          [
           0.625,
           "rgb(66,146,198)"
          ],
          [
           0.75,
           "rgb(33,113,181)"
          ],
          [
           0.875,
           "rgb(8,81,156)"
          ],
          [
           1,
           "rgb(8,48,107)"
          ]
         ],
         "connectgaps": true,
         "contours": {
          "coloring": "heatmap"
         },
         "hoverinfo": "none",
         "line": {
          "smoothing": 1.3
         },
         "reversescale": false,
         "showscale": false,
         "type": "contour",
         "x": [
          0.948,
          0.95,
          0.99,
          0.992
         ],
         "xaxis": "x35",
         "y": [
          0.475,
          0.5,
          1,
          1.025
         ],
         "yaxis": "y35",
         "z": [
          [
           null,
           null,
           null,
           null
          ],
          [
           null,
           -189204.658,
           -55901.058000000005,
           null
          ],
          [
           null,
           -2005254.284,
           -56120.873999999996,
           null
          ],
          [
           null,
           null,
           null,
           null
          ]
         ]
        },
        {
         "marker": {
          "color": "black",
          "line": {
           "color": "Gray",
           "width": 2
          }
         },
         "mode": "markers",
         "name": "Feasible Trial",
         "showlegend": false,
         "type": "scatter",
         "x": [
          0.95,
          0.95,
          0.95,
          0.99,
          0.95,
          0.99,
          0.99,
          0.95,
          0.99,
          0.95,
          0.99,
          0.99,
          0.99,
          0.99,
          0.99,
          0.99,
          0.99,
          0.99,
          0.99,
          0.99
         ],
         "xaxis": "x35",
         "y": [
          0.5,
          1,
          0.5,
          0.5,
          1,
          0.5,
          0.5,
          1,
          0.5,
          0.5,
          1,
          1,
          1,
          1,
          0.5,
          1,
          0.5,
          1,
          1,
          0.5
         ],
         "yaxis": "y35"
        },
        {
         "colorbar": {
          "title": {
           "text": "Objective Value"
          }
         },
         "colorscale": [
          [
           0,
           "rgb(247,251,255)"
          ],
          [
           0.125,
           "rgb(222,235,247)"
          ],
          [
           0.25,
           "rgb(198,219,239)"
          ],
          [
           0.375,
           "rgb(158,202,225)"
          ],
          [
           0.5,
           "rgb(107,174,214)"
          ],
          [
           0.625,
           "rgb(66,146,198)"
          ],
          [
           0.75,
           "rgb(33,113,181)"
          ],
          [
           0.875,
           "rgb(8,81,156)"
          ],
          [
           1,
           "rgb(8,48,107)"
          ]
         ],
         "connectgaps": true,
         "contours": {
          "coloring": "heatmap"
         },
         "hoverinfo": "none",
         "line": {
          "smoothing": 1.3
         },
         "reversescale": false,
         "showscale": false,
         "type": "contour",
         "x": [
          0.948,
          0.95,
          0.99,
          0.992
         ],
         "xaxis": "x43",
         "y": [
          2.05,
          5,
          16,
          32,
          64,
          66.95
         ],
         "yaxis": "y43",
         "z": [
          [
           null,
           null,
           null,
           null
          ],
          [
           null,
           -189204.658,
           -55901.058000000005,
           null
          ],
          [
           null,
           -1580196.552,
           null,
           null
          ],
          [
           null,
           -17358035.482,
           -11990231.954,
           null
          ],
          [
           null,
           -18266311.002,
           -19294582.597999997,
           null
          ],
          [
           null,
           null,
           null,
           null
          ]
         ]
        },
        {
         "marker": {
          "color": "black",
          "line": {
           "color": "Gray",
           "width": 2
          }
         },
         "mode": "markers",
         "name": "Feasible Trial",
         "showlegend": false,
         "type": "scatter",
         "x": [
          0.95,
          0.95,
          0.95,
          0.99,
          0.95,
          0.99,
          0.99,
          0.95,
          0.99,
          0.95,
          0.99,
          0.99,
          0.99,
          0.99,
          0.99,
          0.99,
          0.99,
          0.99,
          0.99,
          0.99
         ],
         "xaxis": "x43",
         "y": [
          16,
          32,
          16,
          64,
          64,
          64,
          64,
          16,
          5,
          5,
          5,
          5,
          5,
          5,
          5,
          32,
          5,
          5,
          5,
          32
         ],
         "yaxis": "y43"
        },
        {
         "colorbar": {
          "title": {
           "text": "Objective Value"
          }
         },
         "colorscale": [
          [
           0,
           "rgb(247,251,255)"
          ],
          [
           0.125,
           "rgb(222,235,247)"
          ],
          [
           0.25,
           "rgb(198,219,239)"
          ],
          [
           0.375,
           "rgb(158,202,225)"
          ],
          [
           0.5,
           "rgb(107,174,214)"
          ],
          [
           0.625,
           "rgb(66,146,198)"
          ],
          [
           0.75,
           "rgb(33,113,181)"
          ],
          [
           0.875,
           "rgb(8,81,156)"
          ],
          [
           1,
           "rgb(8,48,107)"
          ]
         ],
         "connectgaps": true,
         "contours": {
          "coloring": "heatmap"
         },
         "hoverinfo": "none",
         "line": {
          "smoothing": 1.3
         },
         "reversescale": false,
         "showscale": false,
         "type": "contour",
         "x": [
          0.948,
          0.95,
          0.99,
          0.992
         ],
         "xaxis": "x51",
         "y": [
          "False",
          "True"
         ],
         "yaxis": "y51",
         "z": [
          [
           null,
           -189204.658,
           -55901.058000000005,
           null
          ],
          [
           null,
           -1580196.552,
           -19294582.597999997,
           null
          ]
         ]
        },
        {
         "marker": {
          "color": "black",
          "line": {
           "color": "Gray",
           "width": 2
          }
         },
         "mode": "markers",
         "name": "Feasible Trial",
         "showlegend": false,
         "type": "scatter",
         "x": [
          0.95,
          0.95,
          0.95,
          0.99,
          0.95,
          0.99,
          0.99,
          0.95,
          0.99,
          0.95,
          0.99,
          0.99,
          0.99,
          0.99,
          0.99,
          0.99,
          0.99,
          0.99,
          0.99,
          0.99
         ],
         "xaxis": "x51",
         "y": [
          "True",
          "False",
          "True",
          "False",
          "False",
          "True",
          "True",
          "True",
          "False",
          "False",
          "False",
          "False",
          "False",
          "False",
          "False",
          "False",
          "False",
          "False",
          "False",
          "False"
         ],
         "yaxis": "y51"
        },
        {
         "colorbar": {
          "title": {
           "text": "Objective Value"
          }
         },
         "colorscale": [
          [
           0,
           "rgb(247,251,255)"
          ],
          [
           0.125,
           "rgb(222,235,247)"
          ],
          [
           0.25,
           "rgb(198,219,239)"
          ],
          [
           0.375,
           "rgb(158,202,225)"
          ],
          [
           0.5,
           "rgb(107,174,214)"
          ],
          [
           0.625,
           "rgb(66,146,198)"
          ],
          [
           0.75,
           "rgb(33,113,181)"
          ],
          [
           0.875,
           "rgb(8,81,156)"
          ],
          [
           1,
           "rgb(8,48,107)"
          ]
         ],
         "connectgaps": true,
         "contours": {
          "coloring": "heatmap"
         },
         "hoverinfo": "none",
         "line": {
          "smoothing": 1.3
         },
         "reversescale": false,
         "showscale": false,
         "type": "contour",
         "x": [
          0.948,
          0.95,
          0.99,
          0.992
         ],
         "xaxis": "x59",
         "y": [
          0.475,
          0.5,
          0.8,
          1,
          1.025
         ],
         "yaxis": "y59",
         "z": [
          [
           null,
           null,
           null,
           null
          ],
          [
           null,
           -189204.658,
           -19024235.002,
           null
          ],
          [
           null,
           -18266311.002,
           -1816433.36,
           null
          ],
          [
           null,
           -2005254.284,
           -55901.058000000005,
           null
          ],
          [
           null,
           null,
           null,
           null
          ]
         ]
        },
        {
         "marker": {
          "color": "black",
          "line": {
           "color": "Gray",
           "width": 2
          }
         },
         "mode": "markers",
         "name": "Feasible Trial",
         "showlegend": false,
         "type": "scatter",
         "x": [
          0.95,
          0.95,
          0.95,
          0.99,
          0.95,
          0.99,
          0.99,
          0.95,
          0.99,
          0.95,
          0.99,
          0.99,
          0.99,
          0.99,
          0.99,
          0.99,
          0.99,
          0.99,
          0.99,
          0.99
         ],
         "xaxis": "x59",
         "y": [
          0.5,
          1,
          0.5,
          0.8,
          0.8,
          1,
          0.8,
          1,
          1,
          0.5,
          1,
          1,
          1,
          1,
          1,
          1,
          1,
          1,
          0.8,
          0.5
         ],
         "yaxis": "y59"
        },
        {
         "colorbar": {
          "title": {
           "text": "Objective Value"
          }
         },
         "colorscale": [
          [
           0,
           "rgb(247,251,255)"
          ],
          [
           0.125,
           "rgb(222,235,247)"
          ],
          [
           0.25,
           "rgb(198,219,239)"
          ],
          [
           0.375,
           "rgb(158,202,225)"
          ],
          [
           0.5,
           "rgb(107,174,214)"
          ],
          [
           0.625,
           "rgb(66,146,198)"
          ],
          [
           0.75,
           "rgb(33,113,181)"
          ],
          [
           0.875,
           "rgb(8,81,156)"
          ],
          [
           1,
           "rgb(8,48,107)"
          ]
         ],
         "connectgaps": true,
         "contours": {
          "coloring": "heatmap"
         },
         "hoverinfo": "none",
         "line": {
          "smoothing": 1.3
         },
         "reversescale": false,
         "showscale": false,
         "type": "contour",
         "x": [
          0.000055,
          0.0001,
          0.0005,
          0.001,
          0.001045
         ],
         "xaxis": "x4",
         "y": [
          0.0055,
          0.01,
          0.05,
          0.1,
          0.10450000000000001
         ],
         "yaxis": "y4",
         "z": [
          [
           null,
           null,
           null,
           null,
           null
          ],
          [
           null,
           -189204.658,
           -17358035.482,
           -12391805.092000002,
           null
          ],
          [
           null,
           -2005254.284,
           -19024235.002,
           -55901.058000000005,
           null
          ],
          [
           null,
           null,
           -19294582.597999997,
           -1580196.552,
           null
          ],
          [
           null,
           null,
           null,
           null,
           null
          ]
         ]
        },
        {
         "marker": {
          "color": "black",
          "line": {
           "color": "Gray",
           "width": 2
          }
         },
         "mode": "markers",
         "name": "Feasible Trial",
         "showlegend": false,
         "type": "scatter",
         "x": [
          0.001,
          0.0005,
          0.001,
          0.0001,
          0.0005,
          0.0001,
          0.0005,
          0.0001,
          0.001,
          0.0001,
          0.001,
          0.001,
          0.001,
          0.001,
          0.001,
          0.001,
          0.001,
          0.001,
          0.001,
          0.0005
         ],
         "xaxis": "x4",
         "y": [
          0.1,
          0.01,
          0.01,
          0.05,
          0.01,
          0.01,
          0.1,
          0.05,
          0.05,
          0.01,
          0.05,
          0.05,
          0.05,
          0.05,
          0.05,
          0.05,
          0.05,
          0.1,
          0.05,
          0.05
         ],
         "yaxis": "y4"
        },
        {
         "colorbar": {
          "title": {
           "text": "Objective Value"
          }
         },
         "colorscale": [
          [
           0,
           "rgb(247,251,255)"
          ],
          [
           0.125,
           "rgb(222,235,247)"
          ],
          [
           0.25,
           "rgb(198,219,239)"
          ],
          [
           0.375,
           "rgb(158,202,225)"
          ],
          [
           0.5,
           "rgb(107,174,214)"
          ],
          [
           0.625,
           "rgb(66,146,198)"
          ],
          [
           0.75,
           "rgb(33,113,181)"
          ],
          [
           0.875,
           "rgb(8,81,156)"
          ],
          [
           1,
           "rgb(8,48,107)"
          ]
         ],
         "connectgaps": true,
         "contours": {
          "coloring": "heatmap"
         },
         "hoverinfo": "none",
         "line": {
          "smoothing": 1.3
         },
         "reversescale": false,
         "showscale": false,
         "type": "contour",
         "x": [
          0.000055,
          0.0001,
          0.0005,
          0.001,
          0.001045
         ],
         "xaxis": "x12",
         "y": [
          0.7905000000000001,
          0.8,
          0.9,
          0.95,
          0.99,
          0.9994999999999999
         ],
         "yaxis": "y12",
         "z": [
          [
           null,
           null,
           null,
           null,
           null
          ],
          [
           null,
           null,
           null,
           -56120.873999999996,
           null
          ],
          [
           null,
           -189204.658,
           -17358035.482,
           -12391805.092000002,
           null
          ],
          [
           null,
           -2005254.284,
           -18266311.002,
           -55901.058000000005,
           null
          ],
          [
           null,
           null,
           -19024235.002,
           -1580196.552,
           null
          ],
          [
           null,
           null,
           null,
           null,
           null
          ]
         ]
        },
        {
         "marker": {
          "color": "black",
          "line": {
           "color": "Gray",
           "width": 2
          }
         },
         "mode": "markers",
         "name": "Feasible Trial",
         "showlegend": false,
         "type": "scatter",
         "x": [
          0.001,
          0.0005,
          0.001,
          0.0001,
          0.0005,
          0.0001,
          0.0005,
          0.0001,
          0.001,
          0.0001,
          0.001,
          0.001,
          0.001,
          0.001,
          0.001,
          0.001,
          0.001,
          0.001,
          0.001,
          0.0005
         ],
         "xaxis": "x12",
         "y": [
          0.99,
          0.9,
          0.9,
          0.95,
          0.95,
          0.9,
          0.9,
          0.95,
          0.95,
          0.9,
          0.8,
          0.8,
          0.8,
          0.8,
          0.99,
          0.8,
          0.95,
          0.8,
          0.95,
          0.99
         ],
         "yaxis": "y12"
        },
        {
         "colorbar": {
          "title": {
           "text": "Objective Value"
          }
         },
         "colorscale": [
          [
           0,
           "rgb(247,251,255)"
          ],
          [
           0.125,
           "rgb(222,235,247)"
          ],
          [
           0.25,
           "rgb(198,219,239)"
          ],
          [
           0.375,
           "rgb(158,202,225)"
          ],
          [
           0.5,
           "rgb(107,174,214)"
          ],
          [
           0.625,
           "rgb(66,146,198)"
          ],
          [
           0.75,
           "rgb(33,113,181)"
          ],
          [
           0.875,
           "rgb(8,81,156)"
          ],
          [
           1,
           "rgb(8,48,107)"
          ]
         ],
         "connectgaps": true,
         "contours": {
          "coloring": "heatmap"
         },
         "hoverinfo": "none",
         "line": {
          "smoothing": 1.3
         },
         "reversescale": false,
         "showscale": false,
         "type": "contour",
         "x": [
          0.000055,
          0.0001,
          0.0005,
          0.001,
          0.001045
         ],
         "xaxis": "x20",
         "y": [
          0.948,
          0.95,
          0.99,
          0.992
         ],
         "yaxis": "y20",
         "z": [
          [
           null,
           null,
           null,
           null,
           null
          ],
          [
           null,
           -189204.658,
           -17358035.482,
           -1580196.552,
           null
          ],
          [
           null,
           -19637775,
           -19024235.002,
           -55901.058000000005,
           null
          ],
          [
           null,
           null,
           null,
           null,
           null
          ]
         ]
        },
        {
         "marker": {
          "color": "black",
          "line": {
           "color": "Gray",
           "width": 2
          }
         },
         "mode": "markers",
         "name": "Feasible Trial",
         "showlegend": false,
         "type": "scatter",
         "x": [
          0.001,
          0.0005,
          0.001,
          0.0001,
          0.0005,
          0.0001,
          0.0005,
          0.0001,
          0.001,
          0.0001,
          0.001,
          0.001,
          0.001,
          0.001,
          0.001,
          0.001,
          0.001,
          0.001,
          0.001,
          0.0005
         ],
         "xaxis": "x20",
         "y": [
          0.95,
          0.95,
          0.95,
          0.99,
          0.95,
          0.99,
          0.99,
          0.95,
          0.99,
          0.95,
          0.99,
          0.99,
          0.99,
          0.99,
          0.99,
          0.99,
          0.99,
          0.99,
          0.99,
          0.99
         ],
         "yaxis": "y20"
        },
        {
         "type": "scatter",
         "xaxis": "x28",
         "yaxis": "y28"
        },
        {
         "colorbar": {
          "title": {
           "text": "Objective Value"
          }
         },
         "colorscale": [
          [
           0,
           "rgb(247,251,255)"
          ],
          [
           0.125,
           "rgb(222,235,247)"
          ],
          [
           0.25,
           "rgb(198,219,239)"
          ],
          [
           0.375,
           "rgb(158,202,225)"
          ],
          [
           0.5,
           "rgb(107,174,214)"
          ],
          [
           0.625,
           "rgb(66,146,198)"
          ],
          [
           0.75,
           "rgb(33,113,181)"
          ],
          [
           0.875,
           "rgb(8,81,156)"
          ],
          [
           1,
           "rgb(8,48,107)"
          ]
         ],
         "connectgaps": true,
         "contours": {
          "coloring": "heatmap"
         },
         "hoverinfo": "none",
         "line": {
          "smoothing": 1.3
         },
         "reversescale": false,
         "showscale": false,
         "type": "contour",
         "x": [
          0.000055,
          0.0001,
          0.0005,
          0.001,
          0.001045
         ],
         "xaxis": "x36",
         "y": [
          0.475,
          0.5,
          1,
          1.025
         ],
         "yaxis": "y36",
         "z": [
          [
           null,
           null,
           null,
           null,
           null
          ],
          [
           null,
           -189204.658,
           -19024235.002,
           -55901.058000000005,
           null
          ],
          [
           null,
           -2005254.284,
           -17358035.482,
           -56120.873999999996,
           null
          ],
          [
           null,
           null,
           null,
           null,
           null
          ]
         ]
        },
        {
         "marker": {
          "color": "black",
          "line": {
           "color": "Gray",
           "width": 2
          }
         },
         "mode": "markers",
         "name": "Feasible Trial",
         "showlegend": false,
         "type": "scatter",
         "x": [
          0.001,
          0.0005,
          0.001,
          0.0001,
          0.0005,
          0.0001,
          0.0005,
          0.0001,
          0.001,
          0.0001,
          0.001,
          0.001,
          0.001,
          0.001,
          0.001,
          0.001,
          0.001,
          0.001,
          0.001,
          0.0005
         ],
         "xaxis": "x36",
         "y": [
          0.5,
          1,
          0.5,
          0.5,
          1,
          0.5,
          0.5,
          1,
          0.5,
          0.5,
          1,
          1,
          1,
          1,
          0.5,
          1,
          0.5,
          1,
          1,
          0.5
         ],
         "yaxis": "y36"
        },
        {
         "colorbar": {
          "title": {
           "text": "Objective Value"
          }
         },
         "colorscale": [
          [
           0,
           "rgb(247,251,255)"
          ],
          [
           0.125,
           "rgb(222,235,247)"
          ],
          [
           0.25,
           "rgb(198,219,239)"
          ],
          [
           0.375,
           "rgb(158,202,225)"
          ],
          [
           0.5,
           "rgb(107,174,214)"
          ],
          [
           0.625,
           "rgb(66,146,198)"
          ],
          [
           0.75,
           "rgb(33,113,181)"
          ],
          [
           0.875,
           "rgb(8,81,156)"
          ],
          [
           1,
           "rgb(8,48,107)"
          ]
         ],
         "connectgaps": true,
         "contours": {
          "coloring": "heatmap"
         },
         "hoverinfo": "none",
         "line": {
          "smoothing": 1.3
         },
         "reversescale": false,
         "showscale": false,
         "type": "contour",
         "x": [
          0.000055,
          0.0001,
          0.0005,
          0.001,
          0.001045
         ],
         "xaxis": "x44",
         "y": [
          2.05,
          5,
          16,
          32,
          64,
          66.95
         ],
         "yaxis": "y44",
         "z": [
          [
           null,
           null,
           null,
           null,
           null
          ],
          [
           null,
           -189204.658,
           null,
           -55901.058000000005,
           null
          ],
          [
           null,
           -2005254.284,
           null,
           -1580196.552,
           null
          ],
          [
           null,
           null,
           -17358035.482,
           -11990231.954,
           null
          ],
          [
           null,
           -19637775,
           -18266311.002,
           null,
           null
          ],
          [
           null,
           null,
           null,
           null,
           null
          ]
         ]
        },
        {
         "marker": {
          "color": "black",
          "line": {
           "color": "Gray",
           "width": 2
          }
         },
         "mode": "markers",
         "name": "Feasible Trial",
         "showlegend": false,
         "type": "scatter",
         "x": [
          0.001,
          0.0005,
          0.001,
          0.0001,
          0.0005,
          0.0001,
          0.0005,
          0.0001,
          0.001,
          0.0001,
          0.001,
          0.001,
          0.001,
          0.001,
          0.001,
          0.001,
          0.001,
          0.001,
          0.001,
          0.0005
         ],
         "xaxis": "x44",
         "y": [
          16,
          32,
          16,
          64,
          64,
          64,
          64,
          16,
          5,
          5,
          5,
          5,
          5,
          5,
          5,
          32,
          5,
          5,
          5,
          32
         ],
         "yaxis": "y44"
        },
        {
         "colorbar": {
          "title": {
           "text": "Objective Value"
          }
         },
         "colorscale": [
          [
           0,
           "rgb(247,251,255)"
          ],
          [
           0.125,
           "rgb(222,235,247)"
          ],
          [
           0.25,
           "rgb(198,219,239)"
          ],
          [
           0.375,
           "rgb(158,202,225)"
          ],
          [
           0.5,
           "rgb(107,174,214)"
          ],
          [
           0.625,
           "rgb(66,146,198)"
          ],
          [
           0.75,
           "rgb(33,113,181)"
          ],
          [
           0.875,
           "rgb(8,81,156)"
          ],
          [
           1,
           "rgb(8,48,107)"
          ]
         ],
         "connectgaps": true,
         "contours": {
          "coloring": "heatmap"
         },
         "hoverinfo": "none",
         "line": {
          "smoothing": 1.3
         },
         "reversescale": false,
         "showscale": false,
         "type": "contour",
         "x": [
          0.000055,
          0.0001,
          0.0005,
          0.001,
          0.001045
         ],
         "xaxis": "x52",
         "y": [
          "False",
          "True"
         ],
         "yaxis": "y52",
         "z": [
          [
           null,
           -189204.658,
           -17358035.482,
           -55901.058000000005,
           null
          ],
          [
           null,
           -2005254.284,
           -19294582.597999997,
           -1580196.552,
           null
          ]
         ]
        },
        {
         "marker": {
          "color": "black",
          "line": {
           "color": "Gray",
           "width": 2
          }
         },
         "mode": "markers",
         "name": "Feasible Trial",
         "showlegend": false,
         "type": "scatter",
         "x": [
          0.001,
          0.0005,
          0.001,
          0.0001,
          0.0005,
          0.0001,
          0.0005,
          0.0001,
          0.001,
          0.0001,
          0.001,
          0.001,
          0.001,
          0.001,
          0.001,
          0.001,
          0.001,
          0.001,
          0.001,
          0.0005
         ],
         "xaxis": "x52",
         "y": [
          "True",
          "False",
          "True",
          "False",
          "False",
          "True",
          "True",
          "True",
          "False",
          "False",
          "False",
          "False",
          "False",
          "False",
          "False",
          "False",
          "False",
          "False",
          "False",
          "False"
         ],
         "yaxis": "y52"
        },
        {
         "colorbar": {
          "title": {
           "text": "Objective Value"
          }
         },
         "colorscale": [
          [
           0,
           "rgb(247,251,255)"
          ],
          [
           0.125,
           "rgb(222,235,247)"
          ],
          [
           0.25,
           "rgb(198,219,239)"
          ],
          [
           0.375,
           "rgb(158,202,225)"
          ],
          [
           0.5,
           "rgb(107,174,214)"
          ],
          [
           0.625,
           "rgb(66,146,198)"
          ],
          [
           0.75,
           "rgb(33,113,181)"
          ],
          [
           0.875,
           "rgb(8,81,156)"
          ],
          [
           1,
           "rgb(8,48,107)"
          ]
         ],
         "connectgaps": true,
         "contours": {
          "coloring": "heatmap"
         },
         "hoverinfo": "none",
         "line": {
          "smoothing": 1.3
         },
         "reversescale": false,
         "showscale": false,
         "type": "contour",
         "x": [
          0.000055,
          0.0001,
          0.0005,
          0.001,
          0.001045
         ],
         "xaxis": "x60",
         "y": [
          0.475,
          0.5,
          0.8,
          1,
          1.025
         ],
         "yaxis": "y60",
         "z": [
          [
           null,
           null,
           null,
           null,
           null
          ],
          [
           null,
           -189204.658,
           -19024235.002,
           -1580196.552,
           null
          ],
          [
           null,
           -19814351.84,
           -18266311.002,
           -1816433.36,
           null
          ],
          [
           null,
           -2005254.284,
           -17358035.482,
           -55901.058000000005,
           null
          ],
          [
           null,
           null,
           null,
           null,
           null
          ]
         ]
        },
        {
         "marker": {
          "color": "black",
          "line": {
           "color": "Gray",
           "width": 2
          }
         },
         "mode": "markers",
         "name": "Feasible Trial",
         "showlegend": false,
         "type": "scatter",
         "x": [
          0.001,
          0.0005,
          0.001,
          0.0001,
          0.0005,
          0.0001,
          0.0005,
          0.0001,
          0.001,
          0.0001,
          0.001,
          0.001,
          0.001,
          0.001,
          0.001,
          0.001,
          0.001,
          0.001,
          0.001,
          0.0005
         ],
         "xaxis": "x60",
         "y": [
          0.5,
          1,
          0.5,
          0.8,
          0.8,
          1,
          0.8,
          1,
          1,
          0.5,
          1,
          1,
          1,
          1,
          1,
          1,
          1,
          1,
          0.8,
          0.5
         ],
         "yaxis": "y60"
        },
        {
         "colorbar": {
          "title": {
           "text": "Objective Value"
          }
         },
         "colorscale": [
          [
           0,
           "rgb(247,251,255)"
          ],
          [
           0.125,
           "rgb(222,235,247)"
          ],
          [
           0.25,
           "rgb(198,219,239)"
          ],
          [
           0.375,
           "rgb(158,202,225)"
          ],
          [
           0.5,
           "rgb(107,174,214)"
          ],
          [
           0.625,
           "rgb(66,146,198)"
          ],
          [
           0.75,
           "rgb(33,113,181)"
          ],
          [
           0.875,
           "rgb(8,81,156)"
          ],
          [
           1,
           "rgb(8,48,107)"
          ]
         ],
         "connectgaps": true,
         "contours": {
          "coloring": "heatmap"
         },
         "hoverinfo": "none",
         "line": {
          "smoothing": 1.3
         },
         "reversescale": false,
         "showscale": false,
         "type": "contour",
         "x": [
          0.475,
          0.5,
          1,
          1.025
         ],
         "xaxis": "x5",
         "y": [
          0.0055,
          0.01,
          0.05,
          0.1,
          0.10450000000000001
         ],
         "yaxis": "y5",
         "z": [
          [
           null,
           null,
           null,
           null
          ],
          [
           null,
           -189204.658,
           -17358035.482,
           null
          ],
          [
           null,
           -55901.058000000005,
           -56120.873999999996,
           null
          ],
          [
           null,
           -1580196.552,
           -14624574.513999999,
           null
          ],
          [
           null,
           null,
           null,
           null
          ]
         ]
        },
        {
         "marker": {
          "color": "black",
          "line": {
           "color": "Gray",
           "width": 2
          }
         },
         "mode": "markers",
         "name": "Feasible Trial",
         "showlegend": false,
         "type": "scatter",
         "x": [
          0.5,
          1,
          0.5,
          0.5,
          1,
          0.5,
          0.5,
          1,
          0.5,
          0.5,
          1,
          1,
          1,
          1,
          0.5,
          1,
          0.5,
          1,
          1,
          0.5
         ],
         "xaxis": "x5",
         "y": [
          0.1,
          0.01,
          0.01,
          0.05,
          0.01,
          0.01,
          0.1,
          0.05,
          0.05,
          0.01,
          0.05,
          0.05,
          0.05,
          0.05,
          0.05,
          0.05,
          0.05,
          0.1,
          0.05,
          0.05
         ],
         "yaxis": "y5"
        },
        {
         "colorbar": {
          "title": {
           "text": "Objective Value"
          }
         },
         "colorscale": [
          [
           0,
           "rgb(247,251,255)"
          ],
          [
           0.125,
           "rgb(222,235,247)"
          ],
          [
           0.25,
           "rgb(198,219,239)"
          ],
          [
           0.375,
           "rgb(158,202,225)"
          ],
          [
           0.5,
           "rgb(107,174,214)"
          ],
          [
           0.625,
           "rgb(66,146,198)"
          ],
          [
           0.75,
           "rgb(33,113,181)"
          ],
          [
           0.875,
           "rgb(8,81,156)"
          ],
          [
           1,
           "rgb(8,48,107)"
          ]
         ],
         "connectgaps": true,
         "contours": {
          "coloring": "heatmap"
         },
         "hoverinfo": "none",
         "line": {
          "smoothing": 1.3
         },
         "reversescale": false,
         "showscale": false,
         "type": "contour",
         "x": [
          0.475,
          0.5,
          1,
          1.025
         ],
         "xaxis": "x13",
         "y": [
          0.7905000000000001,
          0.8,
          0.9,
          0.95,
          0.99,
          0.9994999999999999
         ],
         "yaxis": "y13",
         "z": [
          [
           null,
           null,
           null,
           null
          ],
          [
           null,
           null,
           -56120.873999999996,
           null
          ],
          [
           null,
           -189204.658,
           -17358035.482,
           null
          ],
          [
           null,
           -55901.058000000005,
           -1816433.36,
           null
          ],
          [
           null,
           -1580196.552,
           null,
           null
          ],
          [
           null,
           null,
           null,
           null
          ]
         ]
        },
        {
         "marker": {
          "color": "black",
          "line": {
           "color": "Gray",
           "width": 2
          }
         },
         "mode": "markers",
         "name": "Feasible Trial",
         "showlegend": false,
         "type": "scatter",
         "x": [
          0.5,
          1,
          0.5,
          0.5,
          1,
          0.5,
          0.5,
          1,
          0.5,
          0.5,
          1,
          1,
          1,
          1,
          0.5,
          1,
          0.5,
          1,
          1,
          0.5
         ],
         "xaxis": "x13",
         "y": [
          0.99,
          0.9,
          0.9,
          0.95,
          0.95,
          0.9,
          0.9,
          0.95,
          0.95,
          0.9,
          0.8,
          0.8,
          0.8,
          0.8,
          0.99,
          0.8,
          0.95,
          0.8,
          0.95,
          0.99
         ],
         "yaxis": "y13"
        },
        {
         "colorbar": {
          "title": {
           "text": "Objective Value"
          }
         },
         "colorscale": [
          [
           0,
           "rgb(247,251,255)"
          ],
          [
           0.125,
           "rgb(222,235,247)"
          ],
          [
           0.25,
           "rgb(198,219,239)"
          ],
          [
           0.375,
           "rgb(158,202,225)"
          ],
          [
           0.5,
           "rgb(107,174,214)"
          ],
          [
           0.625,
           "rgb(66,146,198)"
          ],
          [
           0.75,
           "rgb(33,113,181)"
          ],
          [
           0.875,
           "rgb(8,81,156)"
          ],
          [
           1,
           "rgb(8,48,107)"
          ]
         ],
         "connectgaps": true,
         "contours": {
          "coloring": "heatmap"
         },
         "hoverinfo": "none",
         "line": {
          "smoothing": 1.3
         },
         "reversescale": false,
         "showscale": false,
         "type": "contour",
         "x": [
          0.475,
          0.5,
          1,
          1.025
         ],
         "xaxis": "x21",
         "y": [
          0.948,
          0.95,
          0.99,
          0.992
         ],
         "yaxis": "y21",
         "z": [
          [
           null,
           null,
           null,
           null
          ],
          [
           null,
           -189204.658,
           -2005254.284,
           null
          ],
          [
           null,
           -55901.058000000005,
           -56120.873999999996,
           null
          ],
          [
           null,
           null,
           null,
           null
          ]
         ]
        },
        {
         "marker": {
          "color": "black",
          "line": {
           "color": "Gray",
           "width": 2
          }
         },
         "mode": "markers",
         "name": "Feasible Trial",
         "showlegend": false,
         "type": "scatter",
         "x": [
          0.5,
          1,
          0.5,
          0.5,
          1,
          0.5,
          0.5,
          1,
          0.5,
          0.5,
          1,
          1,
          1,
          1,
          0.5,
          1,
          0.5,
          1,
          1,
          0.5
         ],
         "xaxis": "x21",
         "y": [
          0.95,
          0.95,
          0.95,
          0.99,
          0.95,
          0.99,
          0.99,
          0.95,
          0.99,
          0.95,
          0.99,
          0.99,
          0.99,
          0.99,
          0.99,
          0.99,
          0.99,
          0.99,
          0.99,
          0.99
         ],
         "yaxis": "y21"
        },
        {
         "colorbar": {
          "title": {
           "text": "Objective Value"
          }
         },
         "colorscale": [
          [
           0,
           "rgb(247,251,255)"
          ],
          [
           0.125,
           "rgb(222,235,247)"
          ],
          [
           0.25,
           "rgb(198,219,239)"
          ],
          [
           0.375,
           "rgb(158,202,225)"
          ],
          [
           0.5,
           "rgb(107,174,214)"
          ],
          [
           0.625,
           "rgb(66,146,198)"
          ],
          [
           0.75,
           "rgb(33,113,181)"
          ],
          [
           0.875,
           "rgb(8,81,156)"
          ],
          [
           1,
           "rgb(8,48,107)"
          ]
         ],
         "connectgaps": true,
         "contours": {
          "coloring": "heatmap"
         },
         "hoverinfo": "none",
         "line": {
          "smoothing": 1.3
         },
         "reversescale": false,
         "showscale": false,
         "type": "contour",
         "x": [
          0.475,
          0.5,
          1,
          1.025
         ],
         "xaxis": "x29",
         "y": [
          0.000055,
          0.0001,
          0.0005,
          0.001,
          0.001045
         ],
         "yaxis": "y29",
         "z": [
          [
           null,
           null,
           null,
           null
          ],
          [
           null,
           -189204.658,
           -2005254.284,
           null
          ],
          [
           null,
           -19024235.002,
           -17358035.482,
           null
          ],
          [
           null,
           -55901.058000000005,
           -56120.873999999996,
           null
          ],
          [
           null,
           null,
           null,
           null
          ]
         ]
        },
        {
         "marker": {
          "color": "black",
          "line": {
           "color": "Gray",
           "width": 2
          }
         },
         "mode": "markers",
         "name": "Feasible Trial",
         "showlegend": false,
         "type": "scatter",
         "x": [
          0.5,
          1,
          0.5,
          0.5,
          1,
          0.5,
          0.5,
          1,
          0.5,
          0.5,
          1,
          1,
          1,
          1,
          0.5,
          1,
          0.5,
          1,
          1,
          0.5
         ],
         "xaxis": "x29",
         "y": [
          0.001,
          0.0005,
          0.001,
          0.0001,
          0.0005,
          0.0001,
          0.0005,
          0.0001,
          0.001,
          0.0001,
          0.001,
          0.001,
          0.001,
          0.001,
          0.001,
          0.001,
          0.001,
          0.001,
          0.001,
          0.0005
         ],
         "yaxis": "y29"
        },
        {
         "type": "scatter",
         "xaxis": "x37",
         "yaxis": "y37"
        },
        {
         "colorbar": {
          "title": {
           "text": "Objective Value"
          }
         },
         "colorscale": [
          [
           0,
           "rgb(247,251,255)"
          ],
          [
           0.125,
           "rgb(222,235,247)"
          ],
          [
           0.25,
           "rgb(198,219,239)"
          ],
          [
           0.375,
           "rgb(158,202,225)"
          ],
          [
           0.5,
           "rgb(107,174,214)"
          ],
          [
           0.625,
           "rgb(66,146,198)"
          ],
          [
           0.75,
           "rgb(33,113,181)"
          ],
          [
           0.875,
           "rgb(8,81,156)"
          ],
          [
           1,
           "rgb(8,48,107)"
          ]
         ],
         "connectgaps": true,
         "contours": {
          "coloring": "heatmap"
         },
         "hoverinfo": "none",
         "line": {
          "smoothing": 1.3
         },
         "reversescale": false,
         "showscale": false,
         "type": "contour",
         "x": [
          0.475,
          0.5,
          1,
          1.025
         ],
         "xaxis": "x45",
         "y": [
          2.05,
          5,
          16,
          32,
          64,
          66.95
         ],
         "yaxis": "y45",
         "z": [
          [
           null,
           null,
           null,
           null
          ],
          [
           null,
           -55901.058000000005,
           -56120.873999999996,
           null
          ],
          [
           null,
           -1580196.552,
           -2005254.284,
           null
          ],
          [
           null,
           -19024235.002,
           -11990231.954,
           null
          ],
          [
           null,
           -19294582.597999997,
           -18266311.002,
           null
          ],
          [
           null,
           null,
           null,
           null
          ]
         ]
        },
        {
         "marker": {
          "color": "black",
          "line": {
           "color": "Gray",
           "width": 2
          }
         },
         "mode": "markers",
         "name": "Feasible Trial",
         "showlegend": false,
         "type": "scatter",
         "x": [
          0.5,
          1,
          0.5,
          0.5,
          1,
          0.5,
          0.5,
          1,
          0.5,
          0.5,
          1,
          1,
          1,
          1,
          0.5,
          1,
          0.5,
          1,
          1,
          0.5
         ],
         "xaxis": "x45",
         "y": [
          16,
          32,
          16,
          64,
          64,
          64,
          64,
          16,
          5,
          5,
          5,
          5,
          5,
          5,
          5,
          32,
          5,
          5,
          5,
          32
         ],
         "yaxis": "y45"
        },
        {
         "colorbar": {
          "title": {
           "text": "Objective Value"
          }
         },
         "colorscale": [
          [
           0,
           "rgb(247,251,255)"
          ],
          [
           0.125,
           "rgb(222,235,247)"
          ],
          [
           0.25,
           "rgb(198,219,239)"
          ],
          [
           0.375,
           "rgb(158,202,225)"
          ],
          [
           0.5,
           "rgb(107,174,214)"
          ],
          [
           0.625,
           "rgb(66,146,198)"
          ],
          [
           0.75,
           "rgb(33,113,181)"
          ],
          [
           0.875,
           "rgb(8,81,156)"
          ],
          [
           1,
           "rgb(8,48,107)"
          ]
         ],
         "connectgaps": true,
         "contours": {
          "coloring": "heatmap"
         },
         "hoverinfo": "none",
         "line": {
          "smoothing": 1.3
         },
         "reversescale": false,
         "showscale": false,
         "type": "contour",
         "x": [
          0.475,
          0.5,
          1,
          1.025
         ],
         "xaxis": "x53",
         "y": [
          "False",
          "True"
         ],
         "yaxis": "y53",
         "z": [
          [
           null,
           -55901.058000000005,
           -56120.873999999996,
           null
          ],
          [
           null,
           -1580196.552,
           -2005254.284,
           null
          ]
         ]
        },
        {
         "marker": {
          "color": "black",
          "line": {
           "color": "Gray",
           "width": 2
          }
         },
         "mode": "markers",
         "name": "Feasible Trial",
         "showlegend": false,
         "type": "scatter",
         "x": [
          0.5,
          1,
          0.5,
          0.5,
          1,
          0.5,
          0.5,
          1,
          0.5,
          0.5,
          1,
          1,
          1,
          1,
          0.5,
          1,
          0.5,
          1,
          1,
          0.5
         ],
         "xaxis": "x53",
         "y": [
          "True",
          "False",
          "True",
          "False",
          "False",
          "True",
          "True",
          "True",
          "False",
          "False",
          "False",
          "False",
          "False",
          "False",
          "False",
          "False",
          "False",
          "False",
          "False",
          "False"
         ],
         "yaxis": "y53"
        },
        {
         "colorbar": {
          "title": {
           "text": "Objective Value"
          }
         },
         "colorscale": [
          [
           0,
           "rgb(247,251,255)"
          ],
          [
           0.125,
           "rgb(222,235,247)"
          ],
          [
           0.25,
           "rgb(198,219,239)"
          ],
          [
           0.375,
           "rgb(158,202,225)"
          ],
          [
           0.5,
           "rgb(107,174,214)"
          ],
          [
           0.625,
           "rgb(66,146,198)"
          ],
          [
           0.75,
           "rgb(33,113,181)"
          ],
          [
           0.875,
           "rgb(8,81,156)"
          ],
          [
           1,
           "rgb(8,48,107)"
          ]
         ],
         "connectgaps": true,
         "contours": {
          "coloring": "heatmap"
         },
         "hoverinfo": "none",
         "line": {
          "smoothing": 1.3
         },
         "reversescale": false,
         "showscale": false,
         "type": "contour",
         "x": [
          0.475,
          0.5,
          1,
          1.025
         ],
         "xaxis": "x61",
         "y": [
          0.475,
          0.5,
          0.8,
          1,
          1.025
         ],
         "yaxis": "y61",
         "z": [
          [
           null,
           null,
           null,
           null
          ],
          [
           null,
           -189204.658,
           null,
           null
          ],
          [
           null,
           -19294582.597999997,
           -1816433.36,
           null
          ],
          [
           null,
           -55901.058000000005,
           -56120.873999999996,
           null
          ],
          [
           null,
           null,
           null,
           null
          ]
         ]
        },
        {
         "marker": {
          "color": "black",
          "line": {
           "color": "Gray",
           "width": 2
          }
         },
         "mode": "markers",
         "name": "Feasible Trial",
         "showlegend": false,
         "type": "scatter",
         "x": [
          0.5,
          1,
          0.5,
          0.5,
          1,
          0.5,
          0.5,
          1,
          0.5,
          0.5,
          1,
          1,
          1,
          1,
          0.5,
          1,
          0.5,
          1,
          1,
          0.5
         ],
         "xaxis": "x61",
         "y": [
          0.5,
          1,
          0.5,
          0.8,
          0.8,
          1,
          0.8,
          1,
          1,
          0.5,
          1,
          1,
          1,
          1,
          1,
          1,
          1,
          1,
          0.8,
          0.5
         ],
         "yaxis": "y61"
        },
        {
         "colorbar": {
          "title": {
           "text": "Objective Value"
          }
         },
         "colorscale": [
          [
           0,
           "rgb(247,251,255)"
          ],
          [
           0.125,
           "rgb(222,235,247)"
          ],
          [
           0.25,
           "rgb(198,219,239)"
          ],
          [
           0.375,
           "rgb(158,202,225)"
          ],
          [
           0.5,
           "rgb(107,174,214)"
          ],
          [
           0.625,
           "rgb(66,146,198)"
          ],
          [
           0.75,
           "rgb(33,113,181)"
          ],
          [
           0.875,
           "rgb(8,81,156)"
          ],
          [
           1,
           "rgb(8,48,107)"
          ]
         ],
         "connectgaps": true,
         "contours": {
          "coloring": "heatmap"
         },
         "hoverinfo": "none",
         "line": {
          "smoothing": 1.3
         },
         "reversescale": false,
         "showscale": false,
         "type": "contour",
         "x": [
          2.05,
          5,
          16,
          32,
          64,
          66.95
         ],
         "xaxis": "x6",
         "y": [
          0.0055,
          0.01,
          0.05,
          0.1,
          0.10450000000000001
         ],
         "yaxis": "y6",
         "z": [
          [
           null,
           null,
           null,
           null,
           null,
           null
          ],
          [
           null,
           -189204.658,
           -12391805.092000002,
           -17358035.482,
           -18266311.002,
           null
          ],
          [
           null,
           -55901.058000000005,
           -2005254.284,
           -11990231.954,
           -19814351.84,
           null
          ],
          [
           null,
           -14624574.513999999,
           -1580196.552,
           null,
           -19294582.597999997,
           null
          ],
          [
           null,
           null,
           null,
           null,
           null,
           null
          ]
         ]
        },
        {
         "marker": {
          "color": "black",
          "line": {
           "color": "Gray",
           "width": 2
          }
         },
         "mode": "markers",
         "name": "Feasible Trial",
         "showlegend": false,
         "type": "scatter",
         "x": [
          16,
          32,
          16,
          64,
          64,
          64,
          64,
          16,
          5,
          5,
          5,
          5,
          5,
          5,
          5,
          32,
          5,
          5,
          5,
          32
         ],
         "xaxis": "x6",
         "y": [
          0.1,
          0.01,
          0.01,
          0.05,
          0.01,
          0.01,
          0.1,
          0.05,
          0.05,
          0.01,
          0.05,
          0.05,
          0.05,
          0.05,
          0.05,
          0.05,
          0.05,
          0.1,
          0.05,
          0.05
         ],
         "yaxis": "y6"
        },
        {
         "colorbar": {
          "title": {
           "text": "Objective Value"
          }
         },
         "colorscale": [
          [
           0,
           "rgb(247,251,255)"
          ],
          [
           0.125,
           "rgb(222,235,247)"
          ],
          [
           0.25,
           "rgb(198,219,239)"
          ],
          [
           0.375,
           "rgb(158,202,225)"
          ],
          [
           0.5,
           "rgb(107,174,214)"
          ],
          [
           0.625,
           "rgb(66,146,198)"
          ],
          [
           0.75,
           "rgb(33,113,181)"
          ],
          [
           0.875,
           "rgb(8,81,156)"
          ],
          [
           1,
           "rgb(8,48,107)"
          ]
         ],
         "connectgaps": true,
         "contours": {
          "coloring": "heatmap"
         },
         "hoverinfo": "none",
         "line": {
          "smoothing": 1.3
         },
         "reversescale": false,
         "showscale": false,
         "type": "contour",
         "x": [
          2.05,
          5,
          16,
          32,
          64,
          66.95
         ],
         "xaxis": "x14",
         "y": [
          0.7905000000000001,
          0.8,
          0.9,
          0.95,
          0.99,
          0.9994999999999999
         ],
         "yaxis": "y14",
         "z": [
          [
           null,
           null,
           null,
           null,
           null,
           null
          ],
          [
           null,
           -56120.873999999996,
           null,
           -11990231.954,
           null,
           null
          ],
          [
           null,
           -189204.658,
           -12391805.092000002,
           -17358035.482,
           -19294582.597999997,
           null
          ],
          [
           null,
           -55901.058000000005,
           -2005254.284,
           null,
           -18266311.002,
           null
          ],
          [
           null,
           -19702608.476,
           -1580196.552,
           -19024235.002,
           null,
           null
          ],
          [
           null,
           null,
           null,
           null,
           null,
           null
          ]
         ]
        },
        {
         "marker": {
          "color": "black",
          "line": {
           "color": "Gray",
           "width": 2
          }
         },
         "mode": "markers",
         "name": "Feasible Trial",
         "showlegend": false,
         "type": "scatter",
         "x": [
          16,
          32,
          16,
          64,
          64,
          64,
          64,
          16,
          5,
          5,
          5,
          5,
          5,
          5,
          5,
          32,
          5,
          5,
          5,
          32
         ],
         "xaxis": "x14",
         "y": [
          0.99,
          0.9,
          0.9,
          0.95,
          0.95,
          0.9,
          0.9,
          0.95,
          0.95,
          0.9,
          0.8,
          0.8,
          0.8,
          0.8,
          0.99,
          0.8,
          0.95,
          0.8,
          0.95,
          0.99
         ],
         "yaxis": "y14"
        },
        {
         "colorbar": {
          "title": {
           "text": "Objective Value"
          }
         },
         "colorscale": [
          [
           0,
           "rgb(247,251,255)"
          ],
          [
           0.125,
           "rgb(222,235,247)"
          ],
          [
           0.25,
           "rgb(198,219,239)"
          ],
          [
           0.375,
           "rgb(158,202,225)"
          ],
          [
           0.5,
           "rgb(107,174,214)"
          ],
          [
           0.625,
           "rgb(66,146,198)"
          ],
          [
           0.75,
           "rgb(33,113,181)"
          ],
          [
           0.875,
           "rgb(8,81,156)"
          ],
          [
           1,
           "rgb(8,48,107)"
          ]
         ],
         "connectgaps": true,
         "contours": {
          "coloring": "heatmap"
         },
         "hoverinfo": "none",
         "line": {
          "smoothing": 1.3
         },
         "reversescale": false,
         "showscale": false,
         "type": "contour",
         "x": [
          2.05,
          5,
          16,
          32,
          64,
          66.95
         ],
         "xaxis": "x22",
         "y": [
          0.948,
          0.95,
          0.99,
          0.992
         ],
         "yaxis": "y22",
         "z": [
          [
           null,
           null,
           null,
           null,
           null,
           null
          ],
          [
           null,
           -189204.658,
           -1580196.552,
           -17358035.482,
           -18266311.002,
           null
          ],
          [
           null,
           -55901.058000000005,
           null,
           -11990231.954,
           -19294582.597999997,
           null
          ],
          [
           null,
           null,
           null,
           null,
           null,
           null
          ]
         ]
        },
        {
         "marker": {
          "color": "black",
          "line": {
           "color": "Gray",
           "width": 2
          }
         },
         "mode": "markers",
         "name": "Feasible Trial",
         "showlegend": false,
         "type": "scatter",
         "x": [
          16,
          32,
          16,
          64,
          64,
          64,
          64,
          16,
          5,
          5,
          5,
          5,
          5,
          5,
          5,
          32,
          5,
          5,
          5,
          32
         ],
         "xaxis": "x22",
         "y": [
          0.95,
          0.95,
          0.95,
          0.99,
          0.95,
          0.99,
          0.99,
          0.95,
          0.99,
          0.95,
          0.99,
          0.99,
          0.99,
          0.99,
          0.99,
          0.99,
          0.99,
          0.99,
          0.99,
          0.99
         ],
         "yaxis": "y22"
        },
        {
         "colorbar": {
          "title": {
           "text": "Objective Value"
          }
         },
         "colorscale": [
          [
           0,
           "rgb(247,251,255)"
          ],
          [
           0.125,
           "rgb(222,235,247)"
          ],
          [
           0.25,
           "rgb(198,219,239)"
          ],
          [
           0.375,
           "rgb(158,202,225)"
          ],
          [
           0.5,
           "rgb(107,174,214)"
          ],
          [
           0.625,
           "rgb(66,146,198)"
          ],
          [
           0.75,
           "rgb(33,113,181)"
          ],
          [
           0.875,
           "rgb(8,81,156)"
          ],
          [
           1,
           "rgb(8,48,107)"
          ]
         ],
         "connectgaps": true,
         "contours": {
          "coloring": "heatmap"
         },
         "hoverinfo": "none",
         "line": {
          "smoothing": 1.3
         },
         "reversescale": false,
         "showscale": false,
         "type": "contour",
         "x": [
          2.05,
          5,
          16,
          32,
          64,
          66.95
         ],
         "xaxis": "x30",
         "y": [
          0.000055,
          0.0001,
          0.0005,
          0.001,
          0.001045
         ],
         "yaxis": "y30",
         "z": [
          [
           null,
           null,
           null,
           null,
           null,
           null
          ],
          [
           null,
           -189204.658,
           -2005254.284,
           null,
           -19637775,
           null
          ],
          [
           null,
           null,
           null,
           -17358035.482,
           -18266311.002,
           null
          ],
          [
           null,
           -55901.058000000005,
           -1580196.552,
           -11990231.954,
           null,
           null
          ],
          [
           null,
           null,
           null,
           null,
           null,
           null
          ]
         ]
        },
        {
         "marker": {
          "color": "black",
          "line": {
           "color": "Gray",
           "width": 2
          }
         },
         "mode": "markers",
         "name": "Feasible Trial",
         "showlegend": false,
         "type": "scatter",
         "x": [
          16,
          32,
          16,
          64,
          64,
          64,
          64,
          16,
          5,
          5,
          5,
          5,
          5,
          5,
          5,
          32,
          5,
          5,
          5,
          32
         ],
         "xaxis": "x30",
         "y": [
          0.001,
          0.0005,
          0.001,
          0.0001,
          0.0005,
          0.0001,
          0.0005,
          0.0001,
          0.001,
          0.0001,
          0.001,
          0.001,
          0.001,
          0.001,
          0.001,
          0.001,
          0.001,
          0.001,
          0.001,
          0.0005
         ],
         "yaxis": "y30"
        },
        {
         "colorbar": {
          "title": {
           "text": "Objective Value"
          }
         },
         "colorscale": [
          [
           0,
           "rgb(247,251,255)"
          ],
          [
           0.125,
           "rgb(222,235,247)"
          ],
          [
           0.25,
           "rgb(198,219,239)"
          ],
          [
           0.375,
           "rgb(158,202,225)"
          ],
          [
           0.5,
           "rgb(107,174,214)"
          ],
          [
           0.625,
           "rgb(66,146,198)"
          ],
          [
           0.75,
           "rgb(33,113,181)"
          ],
          [
           0.875,
           "rgb(8,81,156)"
          ],
          [
           1,
           "rgb(8,48,107)"
          ]
         ],
         "connectgaps": true,
         "contours": {
          "coloring": "heatmap"
         },
         "hoverinfo": "none",
         "line": {
          "smoothing": 1.3
         },
         "reversescale": false,
         "showscale": false,
         "type": "contour",
         "x": [
          2.05,
          5,
          16,
          32,
          64,
          66.95
         ],
         "xaxis": "x38",
         "y": [
          0.475,
          0.5,
          1,
          1.025
         ],
         "yaxis": "y38",
         "z": [
          [
           null,
           null,
           null,
           null,
           null,
           null
          ],
          [
           null,
           -55901.058000000005,
           -1580196.552,
           -19024235.002,
           -19294582.597999997,
           null
          ],
          [
           null,
           -56120.873999999996,
           -2005254.284,
           -11990231.954,
           -18266311.002,
           null
          ],
          [
           null,
           null,
           null,
           null,
           null,
           null
          ]
         ]
        },
        {
         "marker": {
          "color": "black",
          "line": {
           "color": "Gray",
           "width": 2
          }
         },
         "mode": "markers",
         "name": "Feasible Trial",
         "showlegend": false,
         "type": "scatter",
         "x": [
          16,
          32,
          16,
          64,
          64,
          64,
          64,
          16,
          5,
          5,
          5,
          5,
          5,
          5,
          5,
          32,
          5,
          5,
          5,
          32
         ],
         "xaxis": "x38",
         "y": [
          0.5,
          1,
          0.5,
          0.5,
          1,
          0.5,
          0.5,
          1,
          0.5,
          0.5,
          1,
          1,
          1,
          1,
          0.5,
          1,
          0.5,
          1,
          1,
          0.5
         ],
         "yaxis": "y38"
        },
        {
         "type": "scatter",
         "xaxis": "x46",
         "yaxis": "y46"
        },
        {
         "colorbar": {
          "title": {
           "text": "Objective Value"
          }
         },
         "colorscale": [
          [
           0,
           "rgb(247,251,255)"
          ],
          [
           0.125,
           "rgb(222,235,247)"
          ],
          [
           0.25,
           "rgb(198,219,239)"
          ],
          [
           0.375,
           "rgb(158,202,225)"
          ],
          [
           0.5,
           "rgb(107,174,214)"
          ],
          [
           0.625,
           "rgb(66,146,198)"
          ],
          [
           0.75,
           "rgb(33,113,181)"
          ],
          [
           0.875,
           "rgb(8,81,156)"
          ],
          [
           1,
           "rgb(8,48,107)"
          ]
         ],
         "connectgaps": true,
         "contours": {
          "coloring": "heatmap"
         },
         "hoverinfo": "none",
         "line": {
          "smoothing": 1.3
         },
         "reversescale": false,
         "showscale": false,
         "type": "contour",
         "x": [
          2.05,
          5,
          16,
          32,
          64,
          66.95
         ],
         "xaxis": "x54",
         "y": [
          "False",
          "True"
         ],
         "yaxis": "y54",
         "z": [
          [
           null,
           -55901.058000000005,
           null,
           -11990231.954,
           -18266311.002,
           null
          ],
          [
           null,
           null,
           -1580196.552,
           null,
           -19294582.597999997,
           null
          ]
         ]
        },
        {
         "marker": {
          "color": "black",
          "line": {
           "color": "Gray",
           "width": 2
          }
         },
         "mode": "markers",
         "name": "Feasible Trial",
         "showlegend": false,
         "type": "scatter",
         "x": [
          16,
          32,
          16,
          64,
          64,
          64,
          64,
          16,
          5,
          5,
          5,
          5,
          5,
          5,
          5,
          32,
          5,
          5,
          5,
          32
         ],
         "xaxis": "x54",
         "y": [
          "True",
          "False",
          "True",
          "False",
          "False",
          "True",
          "True",
          "True",
          "False",
          "False",
          "False",
          "False",
          "False",
          "False",
          "False",
          "False",
          "False",
          "False",
          "False",
          "False"
         ],
         "yaxis": "y54"
        },
        {
         "colorbar": {
          "title": {
           "text": "Objective Value"
          }
         },
         "colorscale": [
          [
           0,
           "rgb(247,251,255)"
          ],
          [
           0.125,
           "rgb(222,235,247)"
          ],
          [
           0.25,
           "rgb(198,219,239)"
          ],
          [
           0.375,
           "rgb(158,202,225)"
          ],
          [
           0.5,
           "rgb(107,174,214)"
          ],
          [
           0.625,
           "rgb(66,146,198)"
          ],
          [
           0.75,
           "rgb(33,113,181)"
          ],
          [
           0.875,
           "rgb(8,81,156)"
          ],
          [
           1,
           "rgb(8,48,107)"
          ]
         ],
         "connectgaps": true,
         "contours": {
          "coloring": "heatmap"
         },
         "hoverinfo": "none",
         "line": {
          "smoothing": 1.3
         },
         "reversescale": false,
         "showscale": false,
         "type": "contour",
         "x": [
          2.05,
          5,
          16,
          32,
          64,
          66.95
         ],
         "xaxis": "x62",
         "y": [
          0.475,
          0.5,
          0.8,
          1,
          1.025
         ],
         "yaxis": "y62",
         "z": [
          [
           null,
           null,
           null,
           null,
           null,
           null
          ],
          [
           null,
           -189204.658,
           -1580196.552,
           -19024235.002,
           null,
           null
          ],
          [
           null,
           -1816433.36,
           null,
           null,
           -18266311.002,
           null
          ],
          [
           null,
           -55901.058000000005,
           -2005254.284,
           -11990231.954,
           -19637775,
           null
          ],
          [
           null,
           null,
           null,
           null,
           null,
           null
          ]
         ]
        },
        {
         "marker": {
          "color": "black",
          "line": {
           "color": "Gray",
           "width": 2
          }
         },
         "mode": "markers",
         "name": "Feasible Trial",
         "showlegend": false,
         "type": "scatter",
         "x": [
          16,
          32,
          16,
          64,
          64,
          64,
          64,
          16,
          5,
          5,
          5,
          5,
          5,
          5,
          5,
          32,
          5,
          5,
          5,
          32
         ],
         "xaxis": "x62",
         "y": [
          0.5,
          1,
          0.5,
          0.8,
          0.8,
          1,
          0.8,
          1,
          1,
          0.5,
          1,
          1,
          1,
          1,
          1,
          1,
          1,
          1,
          0.8,
          0.5
         ],
         "yaxis": "y62"
        },
        {
         "colorbar": {
          "title": {
           "text": "Objective Value"
          }
         },
         "colorscale": [
          [
           0,
           "rgb(247,251,255)"
          ],
          [
           0.125,
           "rgb(222,235,247)"
          ],
          [
           0.25,
           "rgb(198,219,239)"
          ],
          [
           0.375,
           "rgb(158,202,225)"
          ],
          [
           0.5,
           "rgb(107,174,214)"
          ],
          [
           0.625,
           "rgb(66,146,198)"
          ],
          [
           0.75,
           "rgb(33,113,181)"
          ],
          [
           0.875,
           "rgb(8,81,156)"
          ],
          [
           1,
           "rgb(8,48,107)"
          ]
         ],
         "connectgaps": true,
         "contours": {
          "coloring": "heatmap"
         },
         "hoverinfo": "none",
         "line": {
          "smoothing": 1.3
         },
         "reversescale": false,
         "showscale": false,
         "type": "contour",
         "x": [
          "False",
          "True"
         ],
         "xaxis": "x7",
         "y": [
          0.0055,
          0.01,
          0.05,
          0.1,
          0.10450000000000001
         ],
         "yaxis": "y7",
         "z": [
          [
           null,
           null
          ],
          [
           -189204.658,
           -12391805.092000002
          ],
          [
           -55901.058000000005,
           -2005254.284
          ],
          [
           -14624574.513999999,
           -1580196.552
          ],
          [
           null,
           null
          ]
         ]
        },
        {
         "marker": {
          "color": "black",
          "line": {
           "color": "Gray",
           "width": 2
          }
         },
         "mode": "markers",
         "name": "Feasible Trial",
         "showlegend": false,
         "type": "scatter",
         "x": [
          "True",
          "False",
          "True",
          "False",
          "False",
          "True",
          "True",
          "True",
          "False",
          "False",
          "False",
          "False",
          "False",
          "False",
          "False",
          "False",
          "False",
          "False",
          "False",
          "False"
         ],
         "xaxis": "x7",
         "y": [
          0.1,
          0.01,
          0.01,
          0.05,
          0.01,
          0.01,
          0.1,
          0.05,
          0.05,
          0.01,
          0.05,
          0.05,
          0.05,
          0.05,
          0.05,
          0.05,
          0.05,
          0.1,
          0.05,
          0.05
         ],
         "yaxis": "y7"
        },
        {
         "colorbar": {
          "title": {
           "text": "Objective Value"
          }
         },
         "colorscale": [
          [
           0,
           "rgb(247,251,255)"
          ],
          [
           0.125,
           "rgb(222,235,247)"
          ],
          [
           0.25,
           "rgb(198,219,239)"
          ],
          [
           0.375,
           "rgb(158,202,225)"
          ],
          [
           0.5,
           "rgb(107,174,214)"
          ],
          [
           0.625,
           "rgb(66,146,198)"
          ],
          [
           0.75,
           "rgb(33,113,181)"
          ],
          [
           0.875,
           "rgb(8,81,156)"
          ],
          [
           1,
           "rgb(8,48,107)"
          ]
         ],
         "connectgaps": true,
         "contours": {
          "coloring": "heatmap"
         },
         "hoverinfo": "none",
         "line": {
          "smoothing": 1.3
         },
         "reversescale": false,
         "showscale": false,
         "type": "contour",
         "x": [
          "False",
          "True"
         ],
         "xaxis": "x15",
         "y": [
          0.7905000000000001,
          0.8,
          0.9,
          0.95,
          0.99,
          0.9994999999999999
         ],
         "yaxis": "y15",
         "z": [
          [
           null,
           null
          ],
          [
           -56120.873999999996,
           null
          ],
          [
           -189204.658,
           -12391805.092000002
          ],
          [
           -55901.058000000005,
           -2005254.284
          ],
          [
           -19024235.002,
           -1580196.552
          ],
          [
           null,
           null
          ]
         ]
        },
        {
         "marker": {
          "color": "black",
          "line": {
           "color": "Gray",
           "width": 2
          }
         },
         "mode": "markers",
         "name": "Feasible Trial",
         "showlegend": false,
         "type": "scatter",
         "x": [
          "True",
          "False",
          "True",
          "False",
          "False",
          "True",
          "True",
          "True",
          "False",
          "False",
          "False",
          "False",
          "False",
          "False",
          "False",
          "False",
          "False",
          "False",
          "False",
          "False"
         ],
         "xaxis": "x15",
         "y": [
          0.99,
          0.9,
          0.9,
          0.95,
          0.95,
          0.9,
          0.9,
          0.95,
          0.95,
          0.9,
          0.8,
          0.8,
          0.8,
          0.8,
          0.99,
          0.8,
          0.95,
          0.8,
          0.95,
          0.99
         ],
         "yaxis": "y15"
        },
        {
         "colorbar": {
          "title": {
           "text": "Objective Value"
          }
         },
         "colorscale": [
          [
           0,
           "rgb(247,251,255)"
          ],
          [
           0.125,
           "rgb(222,235,247)"
          ],
          [
           0.25,
           "rgb(198,219,239)"
          ],
          [
           0.375,
           "rgb(158,202,225)"
          ],
          [
           0.5,
           "rgb(107,174,214)"
          ],
          [
           0.625,
           "rgb(66,146,198)"
          ],
          [
           0.75,
           "rgb(33,113,181)"
          ],
          [
           0.875,
           "rgb(8,81,156)"
          ],
          [
           1,
           "rgb(8,48,107)"
          ]
         ],
         "connectgaps": true,
         "contours": {
          "coloring": "heatmap"
         },
         "hoverinfo": "none",
         "line": {
          "smoothing": 1.3
         },
         "reversescale": false,
         "showscale": false,
         "type": "contour",
         "x": [
          "False",
          "True"
         ],
         "xaxis": "x23",
         "y": [
          0.948,
          0.95,
          0.99,
          0.992
         ],
         "yaxis": "y23",
         "z": [
          [
           null,
           null
          ],
          [
           -189204.658,
           -1580196.552
          ],
          [
           -55901.058000000005,
           -19294582.597999997
          ],
          [
           null,
           null
          ]
         ]
        },
        {
         "marker": {
          "color": "black",
          "line": {
           "color": "Gray",
           "width": 2
          }
         },
         "mode": "markers",
         "name": "Feasible Trial",
         "showlegend": false,
         "type": "scatter",
         "x": [
          "True",
          "False",
          "True",
          "False",
          "False",
          "True",
          "True",
          "True",
          "False",
          "False",
          "False",
          "False",
          "False",
          "False",
          "False",
          "False",
          "False",
          "False",
          "False",
          "False"
         ],
         "xaxis": "x23",
         "y": [
          0.95,
          0.95,
          0.95,
          0.99,
          0.95,
          0.99,
          0.99,
          0.95,
          0.99,
          0.95,
          0.99,
          0.99,
          0.99,
          0.99,
          0.99,
          0.99,
          0.99,
          0.99,
          0.99,
          0.99
         ],
         "yaxis": "y23"
        },
        {
         "colorbar": {
          "title": {
           "text": "Objective Value"
          }
         },
         "colorscale": [
          [
           0,
           "rgb(247,251,255)"
          ],
          [
           0.125,
           "rgb(222,235,247)"
          ],
          [
           0.25,
           "rgb(198,219,239)"
          ],
          [
           0.375,
           "rgb(158,202,225)"
          ],
          [
           0.5,
           "rgb(107,174,214)"
          ],
          [
           0.625,
           "rgb(66,146,198)"
          ],
          [
           0.75,
           "rgb(33,113,181)"
          ],
          [
           0.875,
           "rgb(8,81,156)"
          ],
          [
           1,
           "rgb(8,48,107)"
          ]
         ],
         "connectgaps": true,
         "contours": {
          "coloring": "heatmap"
         },
         "hoverinfo": "none",
         "line": {
          "smoothing": 1.3
         },
         "reversescale": false,
         "showscale": false,
         "type": "contour",
         "x": [
          "False",
          "True"
         ],
         "xaxis": "x31",
         "y": [
          0.000055,
          0.0001,
          0.0005,
          0.001,
          0.001045
         ],
         "yaxis": "y31",
         "z": [
          [
           null,
           null
          ],
          [
           -189204.658,
           -2005254.284
          ],
          [
           -17358035.482,
           -19294582.597999997
          ],
          [
           -55901.058000000005,
           -1580196.552
          ],
          [
           null,
           null
          ]
         ]
        },
        {
         "marker": {
          "color": "black",
          "line": {
           "color": "Gray",
           "width": 2
          }
         },
         "mode": "markers",
         "name": "Feasible Trial",
         "showlegend": false,
         "type": "scatter",
         "x": [
          "True",
          "False",
          "True",
          "False",
          "False",
          "True",
          "True",
          "True",
          "False",
          "False",
          "False",
          "False",
          "False",
          "False",
          "False",
          "False",
          "False",
          "False",
          "False",
          "False"
         ],
         "xaxis": "x31",
         "y": [
          0.001,
          0.0005,
          0.001,
          0.0001,
          0.0005,
          0.0001,
          0.0005,
          0.0001,
          0.001,
          0.0001,
          0.001,
          0.001,
          0.001,
          0.001,
          0.001,
          0.001,
          0.001,
          0.001,
          0.001,
          0.0005
         ],
         "yaxis": "y31"
        },
        {
         "colorbar": {
          "title": {
           "text": "Objective Value"
          }
         },
         "colorscale": [
          [
           0,
           "rgb(247,251,255)"
          ],
          [
           0.125,
           "rgb(222,235,247)"
          ],
          [
           0.25,
           "rgb(198,219,239)"
          ],
          [
           0.375,
           "rgb(158,202,225)"
          ],
          [
           0.5,
           "rgb(107,174,214)"
          ],
          [
           0.625,
           "rgb(66,146,198)"
          ],
          [
           0.75,
           "rgb(33,113,181)"
          ],
          [
           0.875,
           "rgb(8,81,156)"
          ],
          [
           1,
           "rgb(8,48,107)"
          ]
         ],
         "connectgaps": true,
         "contours": {
          "coloring": "heatmap"
         },
         "hoverinfo": "none",
         "line": {
          "smoothing": 1.3
         },
         "reversescale": false,
         "showscale": false,
         "type": "contour",
         "x": [
          "False",
          "True"
         ],
         "xaxis": "x39",
         "y": [
          0.475,
          0.5,
          1,
          1.025
         ],
         "yaxis": "y39",
         "z": [
          [
           null,
           null
          ],
          [
           -55901.058000000005,
           -1580196.552
          ],
          [
           -56120.873999999996,
           -2005254.284
          ],
          [
           null,
           null
          ]
         ]
        },
        {
         "marker": {
          "color": "black",
          "line": {
           "color": "Gray",
           "width": 2
          }
         },
         "mode": "markers",
         "name": "Feasible Trial",
         "showlegend": false,
         "type": "scatter",
         "x": [
          "True",
          "False",
          "True",
          "False",
          "False",
          "True",
          "True",
          "True",
          "False",
          "False",
          "False",
          "False",
          "False",
          "False",
          "False",
          "False",
          "False",
          "False",
          "False",
          "False"
         ],
         "xaxis": "x39",
         "y": [
          0.5,
          1,
          0.5,
          0.5,
          1,
          0.5,
          0.5,
          1,
          0.5,
          0.5,
          1,
          1,
          1,
          1,
          0.5,
          1,
          0.5,
          1,
          1,
          0.5
         ],
         "yaxis": "y39"
        },
        {
         "colorbar": {
          "title": {
           "text": "Objective Value"
          }
         },
         "colorscale": [
          [
           0,
           "rgb(247,251,255)"
          ],
          [
           0.125,
           "rgb(222,235,247)"
          ],
          [
           0.25,
           "rgb(198,219,239)"
          ],
          [
           0.375,
           "rgb(158,202,225)"
          ],
          [
           0.5,
           "rgb(107,174,214)"
          ],
          [
           0.625,
           "rgb(66,146,198)"
          ],
          [
           0.75,
           "rgb(33,113,181)"
          ],
          [
           0.875,
           "rgb(8,81,156)"
          ],
          [
           1,
           "rgb(8,48,107)"
          ]
         ],
         "connectgaps": true,
         "contours": {
          "coloring": "heatmap"
         },
         "hoverinfo": "none",
         "line": {
          "smoothing": 1.3
         },
         "reversescale": false,
         "showscale": false,
         "type": "contour",
         "x": [
          "False",
          "True"
         ],
         "xaxis": "x47",
         "y": [
          2.05,
          5,
          16,
          32,
          64,
          66.95
         ],
         "yaxis": "y47",
         "z": [
          [
           null,
           null
          ],
          [
           -55901.058000000005,
           null
          ],
          [
           null,
           -1580196.552
          ],
          [
           -11990231.954,
           null
          ],
          [
           -18266311.002,
           -19294582.597999997
          ],
          [
           null,
           null
          ]
         ]
        },
        {
         "marker": {
          "color": "black",
          "line": {
           "color": "Gray",
           "width": 2
          }
         },
         "mode": "markers",
         "name": "Feasible Trial",
         "showlegend": false,
         "type": "scatter",
         "x": [
          "True",
          "False",
          "True",
          "False",
          "False",
          "True",
          "True",
          "True",
          "False",
          "False",
          "False",
          "False",
          "False",
          "False",
          "False",
          "False",
          "False",
          "False",
          "False",
          "False"
         ],
         "xaxis": "x47",
         "y": [
          16,
          32,
          16,
          64,
          64,
          64,
          64,
          16,
          5,
          5,
          5,
          5,
          5,
          5,
          5,
          32,
          5,
          5,
          5,
          32
         ],
         "yaxis": "y47"
        },
        {
         "type": "scatter",
         "xaxis": "x55",
         "yaxis": "y55"
        },
        {
         "colorbar": {
          "title": {
           "text": "Objective Value"
          }
         },
         "colorscale": [
          [
           0,
           "rgb(247,251,255)"
          ],
          [
           0.125,
           "rgb(222,235,247)"
          ],
          [
           0.25,
           "rgb(198,219,239)"
          ],
          [
           0.375,
           "rgb(158,202,225)"
          ],
          [
           0.5,
           "rgb(107,174,214)"
          ],
          [
           0.625,
           "rgb(66,146,198)"
          ],
          [
           0.75,
           "rgb(33,113,181)"
          ],
          [
           0.875,
           "rgb(8,81,156)"
          ],
          [
           1,
           "rgb(8,48,107)"
          ]
         ],
         "connectgaps": true,
         "contours": {
          "coloring": "heatmap"
         },
         "hoverinfo": "none",
         "line": {
          "smoothing": 1.3
         },
         "reversescale": false,
         "showscale": false,
         "type": "contour",
         "x": [
          "False",
          "True"
         ],
         "xaxis": "x63",
         "y": [
          0.475,
          0.5,
          0.8,
          1,
          1.025
         ],
         "yaxis": "y63",
         "z": [
          [
           null,
           null
          ],
          [
           -189204.658,
           -1580196.552
          ],
          [
           -1816433.36,
           -19294582.597999997
          ],
          [
           -55901.058000000005,
           -2005254.284
          ],
          [
           null,
           null
          ]
         ]
        },
        {
         "marker": {
          "color": "black",
          "line": {
           "color": "Gray",
           "width": 2
          }
         },
         "mode": "markers",
         "name": "Feasible Trial",
         "showlegend": false,
         "type": "scatter",
         "x": [
          "True",
          "False",
          "True",
          "False",
          "False",
          "True",
          "True",
          "True",
          "False",
          "False",
          "False",
          "False",
          "False",
          "False",
          "False",
          "False",
          "False",
          "False",
          "False",
          "False"
         ],
         "xaxis": "x63",
         "y": [
          0.5,
          1,
          0.5,
          0.8,
          0.8,
          1,
          0.8,
          1,
          1,
          0.5,
          1,
          1,
          1,
          1,
          1,
          1,
          1,
          1,
          0.8,
          0.5
         ],
         "yaxis": "y63"
        },
        {
         "colorbar": {
          "title": {
           "text": "Objective Value"
          }
         },
         "colorscale": [
          [
           0,
           "rgb(247,251,255)"
          ],
          [
           0.125,
           "rgb(222,235,247)"
          ],
          [
           0.25,
           "rgb(198,219,239)"
          ],
          [
           0.375,
           "rgb(158,202,225)"
          ],
          [
           0.5,
           "rgb(107,174,214)"
          ],
          [
           0.625,
           "rgb(66,146,198)"
          ],
          [
           0.75,
           "rgb(33,113,181)"
          ],
          [
           0.875,
           "rgb(8,81,156)"
          ],
          [
           1,
           "rgb(8,48,107)"
          ]
         ],
         "connectgaps": true,
         "contours": {
          "coloring": "heatmap"
         },
         "hoverinfo": "none",
         "line": {
          "smoothing": 1.3
         },
         "reversescale": false,
         "showscale": false,
         "type": "contour",
         "x": [
          0.475,
          0.5,
          0.8,
          1,
          1.025
         ],
         "xaxis": "x8",
         "y": [
          0.0055,
          0.01,
          0.05,
          0.1,
          0.10450000000000001
         ],
         "yaxis": "y8",
         "z": [
          [
           null,
           null,
           null,
           null,
           null
          ],
          [
           null,
           -189204.658,
           -18266311.002,
           -17358035.482,
           null
          ],
          [
           null,
           -19024235.002,
           -1816433.36,
           -55901.058000000005,
           null
          ],
          [
           null,
           -1580196.552,
           -19294582.597999997,
           -14624574.513999999,
           null
          ],
          [
           null,
           null,
           null,
           null,
           null
          ]
         ]
        },
        {
         "marker": {
          "color": "black",
          "line": {
           "color": "Gray",
           "width": 2
          }
         },
         "mode": "markers",
         "name": "Feasible Trial",
         "showlegend": false,
         "type": "scatter",
         "x": [
          0.5,
          1,
          0.5,
          0.8,
          0.8,
          1,
          0.8,
          1,
          1,
          0.5,
          1,
          1,
          1,
          1,
          1,
          1,
          1,
          1,
          0.8,
          0.5
         ],
         "xaxis": "x8",
         "y": [
          0.1,
          0.01,
          0.01,
          0.05,
          0.01,
          0.01,
          0.1,
          0.05,
          0.05,
          0.01,
          0.05,
          0.05,
          0.05,
          0.05,
          0.05,
          0.05,
          0.05,
          0.1,
          0.05,
          0.05
         ],
         "yaxis": "y8"
        },
        {
         "colorbar": {
          "title": {
           "text": "Objective Value"
          }
         },
         "colorscale": [
          [
           0,
           "rgb(247,251,255)"
          ],
          [
           0.125,
           "rgb(222,235,247)"
          ],
          [
           0.25,
           "rgb(198,219,239)"
          ],
          [
           0.375,
           "rgb(158,202,225)"
          ],
          [
           0.5,
           "rgb(107,174,214)"
          ],
          [
           0.625,
           "rgb(66,146,198)"
          ],
          [
           0.75,
           "rgb(33,113,181)"
          ],
          [
           0.875,
           "rgb(8,81,156)"
          ],
          [
           1,
           "rgb(8,48,107)"
          ]
         ],
         "connectgaps": true,
         "contours": {
          "coloring": "heatmap"
         },
         "hoverinfo": "none",
         "line": {
          "smoothing": 1.3
         },
         "reversescale": false,
         "showscale": false,
         "type": "contour",
         "x": [
          0.475,
          0.5,
          0.8,
          1,
          1.025
         ],
         "xaxis": "x16",
         "y": [
          0.7905000000000001,
          0.8,
          0.9,
          0.95,
          0.99,
          0.9994999999999999
         ],
         "yaxis": "y16",
         "z": [
          [
           null,
           null,
           null,
           null,
           null
          ],
          [
           null,
           null,
           null,
           -56120.873999999996,
           null
          ],
          [
           null,
           -189204.658,
           -19294582.597999997,
           -17358035.482,
           null
          ],
          [
           null,
           null,
           -1816433.36,
           -55901.058000000005,
           null
          ],
          [
           null,
           -1580196.552,
           null,
           -19702608.476,
           null
          ],
          [
           null,
           null,
           null,
           null,
           null
          ]
         ]
        },
        {
         "marker": {
          "color": "black",
          "line": {
           "color": "Gray",
           "width": 2
          }
         },
         "mode": "markers",
         "name": "Feasible Trial",
         "showlegend": false,
         "type": "scatter",
         "x": [
          0.5,
          1,
          0.5,
          0.8,
          0.8,
          1,
          0.8,
          1,
          1,
          0.5,
          1,
          1,
          1,
          1,
          1,
          1,
          1,
          1,
          0.8,
          0.5
         ],
         "xaxis": "x16",
         "y": [
          0.99,
          0.9,
          0.9,
          0.95,
          0.95,
          0.9,
          0.9,
          0.95,
          0.95,
          0.9,
          0.8,
          0.8,
          0.8,
          0.8,
          0.99,
          0.8,
          0.95,
          0.8,
          0.95,
          0.99
         ],
         "yaxis": "y16"
        },
        {
         "colorbar": {
          "title": {
           "text": "Objective Value"
          }
         },
         "colorscale": [
          [
           0,
           "rgb(247,251,255)"
          ],
          [
           0.125,
           "rgb(222,235,247)"
          ],
          [
           0.25,
           "rgb(198,219,239)"
          ],
          [
           0.375,
           "rgb(158,202,225)"
          ],
          [
           0.5,
           "rgb(107,174,214)"
          ],
          [
           0.625,
           "rgb(66,146,198)"
          ],
          [
           0.75,
           "rgb(33,113,181)"
          ],
          [
           0.875,
           "rgb(8,81,156)"
          ],
          [
           1,
           "rgb(8,48,107)"
          ]
         ],
         "connectgaps": true,
         "contours": {
          "coloring": "heatmap"
         },
         "hoverinfo": "none",
         "line": {
          "smoothing": 1.3
         },
         "reversescale": false,
         "showscale": false,
         "type": "contour",
         "x": [
          0.475,
          0.5,
          0.8,
          1,
          1.025
         ],
         "xaxis": "x24",
         "y": [
          0.948,
          0.95,
          0.99,
          0.992
         ],
         "yaxis": "y24",
         "z": [
          [
           null,
           null,
           null,
           null,
           null
          ],
          [
           null,
           -189204.658,
           -18266311.002,
           -2005254.284,
           null
          ],
          [
           null,
           -19024235.002,
           -1816433.36,
           -55901.058000000005,
           null
          ],
          [
           null,
           null,
           null,
           null,
           null
          ]
         ]
        },
        {
         "marker": {
          "color": "black",
          "line": {
           "color": "Gray",
           "width": 2
          }
         },
         "mode": "markers",
         "name": "Feasible Trial",
         "showlegend": false,
         "type": "scatter",
         "x": [
          0.5,
          1,
          0.5,
          0.8,
          0.8,
          1,
          0.8,
          1,
          1,
          0.5,
          1,
          1,
          1,
          1,
          1,
          1,
          1,
          1,
          0.8,
          0.5
         ],
         "xaxis": "x24",
         "y": [
          0.95,
          0.95,
          0.95,
          0.99,
          0.95,
          0.99,
          0.99,
          0.95,
          0.99,
          0.95,
          0.99,
          0.99,
          0.99,
          0.99,
          0.99,
          0.99,
          0.99,
          0.99,
          0.99,
          0.99
         ],
         "yaxis": "y24"
        },
        {
         "colorbar": {
          "title": {
           "text": "Objective Value"
          }
         },
         "colorscale": [
          [
           0,
           "rgb(247,251,255)"
          ],
          [
           0.125,
           "rgb(222,235,247)"
          ],
          [
           0.25,
           "rgb(198,219,239)"
          ],
          [
           0.375,
           "rgb(158,202,225)"
          ],
          [
           0.5,
           "rgb(107,174,214)"
          ],
          [
           0.625,
           "rgb(66,146,198)"
          ],
          [
           0.75,
           "rgb(33,113,181)"
          ],
          [
           0.875,
           "rgb(8,81,156)"
          ],
          [
           1,
           "rgb(8,48,107)"
          ]
         ],
         "connectgaps": true,
         "contours": {
          "coloring": "heatmap"
         },
         "hoverinfo": "none",
         "line": {
          "smoothing": 1.3
         },
         "reversescale": false,
         "showscale": false,
         "type": "contour",
         "x": [
          0.475,
          0.5,
          0.8,
          1,
          1.025
         ],
         "xaxis": "x32",
         "y": [
          0.000055,
          0.0001,
          0.0005,
          0.001,
          0.001045
         ],
         "yaxis": "y32",
         "z": [
          [
           null,
           null,
           null,
           null,
           null
          ],
          [
           null,
           -189204.658,
           -19814351.84,
           -2005254.284,
           null
          ],
          [
           null,
           -19024235.002,
           -18266311.002,
           -17358035.482,
           null
          ],
          [
           null,
           -1580196.552,
           -1816433.36,
           -55901.058000000005,
           null
          ],
          [
           null,
           null,
           null,
           null,
           null
          ]
         ]
        },
        {
         "marker": {
          "color": "black",
          "line": {
           "color": "Gray",
           "width": 2
          }
         },
         "mode": "markers",
         "name": "Feasible Trial",
         "showlegend": false,
         "type": "scatter",
         "x": [
          0.5,
          1,
          0.5,
          0.8,
          0.8,
          1,
          0.8,
          1,
          1,
          0.5,
          1,
          1,
          1,
          1,
          1,
          1,
          1,
          1,
          0.8,
          0.5
         ],
         "xaxis": "x32",
         "y": [
          0.001,
          0.0005,
          0.001,
          0.0001,
          0.0005,
          0.0001,
          0.0005,
          0.0001,
          0.001,
          0.0001,
          0.001,
          0.001,
          0.001,
          0.001,
          0.001,
          0.001,
          0.001,
          0.001,
          0.001,
          0.0005
         ],
         "yaxis": "y32"
        },
        {
         "colorbar": {
          "title": {
           "text": "Objective Value"
          }
         },
         "colorscale": [
          [
           0,
           "rgb(247,251,255)"
          ],
          [
           0.125,
           "rgb(222,235,247)"
          ],
          [
           0.25,
           "rgb(198,219,239)"
          ],
          [
           0.375,
           "rgb(158,202,225)"
          ],
          [
           0.5,
           "rgb(107,174,214)"
          ],
          [
           0.625,
           "rgb(66,146,198)"
          ],
          [
           0.75,
           "rgb(33,113,181)"
          ],
          [
           0.875,
           "rgb(8,81,156)"
          ],
          [
           1,
           "rgb(8,48,107)"
          ]
         ],
         "connectgaps": true,
         "contours": {
          "coloring": "heatmap"
         },
         "hoverinfo": "none",
         "line": {
          "smoothing": 1.3
         },
         "reversescale": false,
         "showscale": false,
         "type": "contour",
         "x": [
          0.475,
          0.5,
          0.8,
          1,
          1.025
         ],
         "xaxis": "x40",
         "y": [
          0.475,
          0.5,
          1,
          1.025
         ],
         "yaxis": "y40",
         "z": [
          [
           null,
           null,
           null,
           null,
           null
          ],
          [
           null,
           -189204.658,
           -19294582.597999997,
           -55901.058000000005,
           null
          ],
          [
           null,
           null,
           -1816433.36,
           -56120.873999999996,
           null
          ],
          [
           null,
           null,
           null,
           null,
           null
          ]
         ]
        },
        {
         "marker": {
          "color": "black",
          "line": {
           "color": "Gray",
           "width": 2
          }
         },
         "mode": "markers",
         "name": "Feasible Trial",
         "showlegend": false,
         "type": "scatter",
         "x": [
          0.5,
          1,
          0.5,
          0.8,
          0.8,
          1,
          0.8,
          1,
          1,
          0.5,
          1,
          1,
          1,
          1,
          1,
          1,
          1,
          1,
          0.8,
          0.5
         ],
         "xaxis": "x40",
         "y": [
          0.5,
          1,
          0.5,
          0.5,
          1,
          0.5,
          0.5,
          1,
          0.5,
          0.5,
          1,
          1,
          1,
          1,
          0.5,
          1,
          0.5,
          1,
          1,
          0.5
         ],
         "yaxis": "y40"
        },
        {
         "colorbar": {
          "title": {
           "text": "Objective Value"
          }
         },
         "colorscale": [
          [
           0,
           "rgb(247,251,255)"
          ],
          [
           0.125,
           "rgb(222,235,247)"
          ],
          [
           0.25,
           "rgb(198,219,239)"
          ],
          [
           0.375,
           "rgb(158,202,225)"
          ],
          [
           0.5,
           "rgb(107,174,214)"
          ],
          [
           0.625,
           "rgb(66,146,198)"
          ],
          [
           0.75,
           "rgb(33,113,181)"
          ],
          [
           0.875,
           "rgb(8,81,156)"
          ],
          [
           1,
           "rgb(8,48,107)"
          ]
         ],
         "connectgaps": true,
         "contours": {
          "coloring": "heatmap"
         },
         "hoverinfo": "none",
         "line": {
          "smoothing": 1.3
         },
         "reversescale": false,
         "showscale": false,
         "type": "contour",
         "x": [
          0.475,
          0.5,
          0.8,
          1,
          1.025
         ],
         "xaxis": "x48",
         "y": [
          2.05,
          5,
          16,
          32,
          64,
          66.95
         ],
         "yaxis": "y48",
         "z": [
          [
           null,
           null,
           null,
           null,
           null
          ],
          [
           null,
           -189204.658,
           -1816433.36,
           -55901.058000000005,
           null
          ],
          [
           null,
           -1580196.552,
           null,
           -2005254.284,
           null
          ],
          [
           null,
           -19024235.002,
           null,
           -11990231.954,
           null
          ],
          [
           null,
           null,
           -18266311.002,
           -19637775,
           null
          ],
          [
           null,
           null,
           null,
           null,
           null
          ]
         ]
        },
        {
         "marker": {
          "color": "black",
          "line": {
           "color": "Gray",
           "width": 2
          }
         },
         "mode": "markers",
         "name": "Feasible Trial",
         "showlegend": false,
         "type": "scatter",
         "x": [
          0.5,
          1,
          0.5,
          0.8,
          0.8,
          1,
          0.8,
          1,
          1,
          0.5,
          1,
          1,
          1,
          1,
          1,
          1,
          1,
          1,
          0.8,
          0.5
         ],
         "xaxis": "x48",
         "y": [
          16,
          32,
          16,
          64,
          64,
          64,
          64,
          16,
          5,
          5,
          5,
          5,
          5,
          5,
          5,
          32,
          5,
          5,
          5,
          32
         ],
         "yaxis": "y48"
        },
        {
         "colorbar": {
          "title": {
           "text": "Objective Value"
          }
         },
         "colorscale": [
          [
           0,
           "rgb(247,251,255)"
          ],
          [
           0.125,
           "rgb(222,235,247)"
          ],
          [
           0.25,
           "rgb(198,219,239)"
          ],
          [
           0.375,
           "rgb(158,202,225)"
          ],
          [
           0.5,
           "rgb(107,174,214)"
          ],
          [
           0.625,
           "rgb(66,146,198)"
          ],
          [
           0.75,
           "rgb(33,113,181)"
          ],
          [
           0.875,
           "rgb(8,81,156)"
          ],
          [
           1,
           "rgb(8,48,107)"
          ]
         ],
         "connectgaps": true,
         "contours": {
          "coloring": "heatmap"
         },
         "hoverinfo": "none",
         "line": {
          "smoothing": 1.3
         },
         "reversescale": false,
         "showscale": false,
         "type": "contour",
         "x": [
          0.475,
          0.5,
          0.8,
          1,
          1.025
         ],
         "xaxis": "x56",
         "y": [
          "False",
          "True"
         ],
         "yaxis": "y56",
         "z": [
          [
           null,
           -189204.658,
           -1816433.36,
           -55901.058000000005,
           null
          ],
          [
           null,
           -1580196.552,
           -19294582.597999997,
           -2005254.284,
           null
          ]
         ]
        },
        {
         "marker": {
          "color": "black",
          "line": {
           "color": "Gray",
           "width": 2
          }
         },
         "mode": "markers",
         "name": "Feasible Trial",
         "showlegend": false,
         "type": "scatter",
         "x": [
          0.5,
          1,
          0.5,
          0.8,
          0.8,
          1,
          0.8,
          1,
          1,
          0.5,
          1,
          1,
          1,
          1,
          1,
          1,
          1,
          1,
          0.8,
          0.5
         ],
         "xaxis": "x56",
         "y": [
          "True",
          "False",
          "True",
          "False",
          "False",
          "True",
          "True",
          "True",
          "False",
          "False",
          "False",
          "False",
          "False",
          "False",
          "False",
          "False",
          "False",
          "False",
          "False",
          "False"
         ],
         "yaxis": "y56"
        },
        {
         "type": "scatter",
         "xaxis": "x64",
         "yaxis": "y64"
        }
       ],
       "layout": {
        "template": {
         "data": {
          "bar": [
           {
            "error_x": {
             "color": "#2a3f5f"
            },
            "error_y": {
             "color": "#2a3f5f"
            },
            "marker": {
             "line": {
              "color": "#E5ECF6",
              "width": 0.5
             },
             "pattern": {
              "fillmode": "overlay",
              "size": 10,
              "solidity": 0.2
             }
            },
            "type": "bar"
           }
          ],
          "barpolar": [
           {
            "marker": {
             "line": {
              "color": "#E5ECF6",
              "width": 0.5
             },
             "pattern": {
              "fillmode": "overlay",
              "size": 10,
              "solidity": 0.2
             }
            },
            "type": "barpolar"
           }
          ],
          "carpet": [
           {
            "aaxis": {
             "endlinecolor": "#2a3f5f",
             "gridcolor": "white",
             "linecolor": "white",
             "minorgridcolor": "white",
             "startlinecolor": "#2a3f5f"
            },
            "baxis": {
             "endlinecolor": "#2a3f5f",
             "gridcolor": "white",
             "linecolor": "white",
             "minorgridcolor": "white",
             "startlinecolor": "#2a3f5f"
            },
            "type": "carpet"
           }
          ],
          "choropleth": [
           {
            "colorbar": {
             "outlinewidth": 0,
             "ticks": ""
            },
            "type": "choropleth"
           }
          ],
          "contour": [
           {
            "colorbar": {
             "outlinewidth": 0,
             "ticks": ""
            },
            "colorscale": [
             [
              0,
              "#0d0887"
             ],
             [
              0.1111111111111111,
              "#46039f"
             ],
             [
              0.2222222222222222,
              "#7201a8"
             ],
             [
              0.3333333333333333,
              "#9c179e"
             ],
             [
              0.4444444444444444,
              "#bd3786"
             ],
             [
              0.5555555555555556,
              "#d8576b"
             ],
             [
              0.6666666666666666,
              "#ed7953"
             ],
             [
              0.7777777777777778,
              "#fb9f3a"
             ],
             [
              0.8888888888888888,
              "#fdca26"
             ],
             [
              1,
              "#f0f921"
             ]
            ],
            "type": "contour"
           }
          ],
          "contourcarpet": [
           {
            "colorbar": {
             "outlinewidth": 0,
             "ticks": ""
            },
            "type": "contourcarpet"
           }
          ],
          "heatmap": [
           {
            "colorbar": {
             "outlinewidth": 0,
             "ticks": ""
            },
            "colorscale": [
             [
              0,
              "#0d0887"
             ],
             [
              0.1111111111111111,
              "#46039f"
             ],
             [
              0.2222222222222222,
              "#7201a8"
             ],
             [
              0.3333333333333333,
              "#9c179e"
             ],
             [
              0.4444444444444444,
              "#bd3786"
             ],
             [
              0.5555555555555556,
              "#d8576b"
             ],
             [
              0.6666666666666666,
              "#ed7953"
             ],
             [
              0.7777777777777778,
              "#fb9f3a"
             ],
             [
              0.8888888888888888,
              "#fdca26"
             ],
             [
              1,
              "#f0f921"
             ]
            ],
            "type": "heatmap"
           }
          ],
          "heatmapgl": [
           {
            "colorbar": {
             "outlinewidth": 0,
             "ticks": ""
            },
            "colorscale": [
             [
              0,
              "#0d0887"
             ],
             [
              0.1111111111111111,
              "#46039f"
             ],
             [
              0.2222222222222222,
              "#7201a8"
             ],
             [
              0.3333333333333333,
              "#9c179e"
             ],
             [
              0.4444444444444444,
              "#bd3786"
             ],
             [
              0.5555555555555556,
              "#d8576b"
             ],
             [
              0.6666666666666666,
              "#ed7953"
             ],
             [
              0.7777777777777778,
              "#fb9f3a"
             ],
             [
              0.8888888888888888,
              "#fdca26"
             ],
             [
              1,
              "#f0f921"
             ]
            ],
            "type": "heatmapgl"
           }
          ],
          "histogram": [
           {
            "marker": {
             "pattern": {
              "fillmode": "overlay",
              "size": 10,
              "solidity": 0.2
             }
            },
            "type": "histogram"
           }
          ],
          "histogram2d": [
           {
            "colorbar": {
             "outlinewidth": 0,
             "ticks": ""
            },
            "colorscale": [
             [
              0,
              "#0d0887"
             ],
             [
              0.1111111111111111,
              "#46039f"
             ],
             [
              0.2222222222222222,
              "#7201a8"
             ],
             [
              0.3333333333333333,
              "#9c179e"
             ],
             [
              0.4444444444444444,
              "#bd3786"
             ],
             [
              0.5555555555555556,
              "#d8576b"
             ],
             [
              0.6666666666666666,
              "#ed7953"
             ],
             [
              0.7777777777777778,
              "#fb9f3a"
             ],
             [
              0.8888888888888888,
              "#fdca26"
             ],
             [
              1,
              "#f0f921"
             ]
            ],
            "type": "histogram2d"
           }
          ],
          "histogram2dcontour": [
           {
            "colorbar": {
             "outlinewidth": 0,
             "ticks": ""
            },
            "colorscale": [
             [
              0,
              "#0d0887"
             ],
             [
              0.1111111111111111,
              "#46039f"
             ],
             [
              0.2222222222222222,
              "#7201a8"
             ],
             [
              0.3333333333333333,
              "#9c179e"
             ],
             [
              0.4444444444444444,
              "#bd3786"
             ],
             [
              0.5555555555555556,
              "#d8576b"
             ],
             [
              0.6666666666666666,
              "#ed7953"
             ],
             [
              0.7777777777777778,
              "#fb9f3a"
             ],
             [
              0.8888888888888888,
              "#fdca26"
             ],
             [
              1,
              "#f0f921"
             ]
            ],
            "type": "histogram2dcontour"
           }
          ],
          "mesh3d": [
           {
            "colorbar": {
             "outlinewidth": 0,
             "ticks": ""
            },
            "type": "mesh3d"
           }
          ],
          "parcoords": [
           {
            "line": {
             "colorbar": {
              "outlinewidth": 0,
              "ticks": ""
             }
            },
            "type": "parcoords"
           }
          ],
          "pie": [
           {
            "automargin": true,
            "type": "pie"
           }
          ],
          "scatter": [
           {
            "fillpattern": {
             "fillmode": "overlay",
             "size": 10,
             "solidity": 0.2
            },
            "type": "scatter"
           }
          ],
          "scatter3d": [
           {
            "line": {
             "colorbar": {
              "outlinewidth": 0,
              "ticks": ""
             }
            },
            "marker": {
             "colorbar": {
              "outlinewidth": 0,
              "ticks": ""
             }
            },
            "type": "scatter3d"
           }
          ],
          "scattercarpet": [
           {
            "marker": {
             "colorbar": {
              "outlinewidth": 0,
              "ticks": ""
             }
            },
            "type": "scattercarpet"
           }
          ],
          "scattergeo": [
           {
            "marker": {
             "colorbar": {
              "outlinewidth": 0,
              "ticks": ""
             }
            },
            "type": "scattergeo"
           }
          ],
          "scattergl": [
           {
            "marker": {
             "colorbar": {
              "outlinewidth": 0,
              "ticks": ""
             }
            },
            "type": "scattergl"
           }
          ],
          "scattermapbox": [
           {
            "marker": {
             "colorbar": {
              "outlinewidth": 0,
              "ticks": ""
             }
            },
            "type": "scattermapbox"
           }
          ],
          "scatterpolar": [
           {
            "marker": {
             "colorbar": {
              "outlinewidth": 0,
              "ticks": ""
             }
            },
            "type": "scatterpolar"
           }
          ],
          "scatterpolargl": [
           {
            "marker": {
             "colorbar": {
              "outlinewidth": 0,
              "ticks": ""
             }
            },
            "type": "scatterpolargl"
           }
          ],
          "scatterternary": [
           {
            "marker": {
             "colorbar": {
              "outlinewidth": 0,
              "ticks": ""
             }
            },
            "type": "scatterternary"
           }
          ],
          "surface": [
           {
            "colorbar": {
             "outlinewidth": 0,
             "ticks": ""
            },
            "colorscale": [
             [
              0,
              "#0d0887"
             ],
             [
              0.1111111111111111,
              "#46039f"
             ],
             [
              0.2222222222222222,
              "#7201a8"
             ],
             [
              0.3333333333333333,
              "#9c179e"
             ],
             [
              0.4444444444444444,
              "#bd3786"
             ],
             [
              0.5555555555555556,
              "#d8576b"
             ],
             [
              0.6666666666666666,
              "#ed7953"
             ],
             [
              0.7777777777777778,
              "#fb9f3a"
             ],
             [
              0.8888888888888888,
              "#fdca26"
             ],
             [
              1,
              "#f0f921"
             ]
            ],
            "type": "surface"
           }
          ],
          "table": [
           {
            "cells": {
             "fill": {
              "color": "#EBF0F8"
             },
             "line": {
              "color": "white"
             }
            },
            "header": {
             "fill": {
              "color": "#C8D4E3"
             },
             "line": {
              "color": "white"
             }
            },
            "type": "table"
           }
          ]
         },
         "layout": {
          "annotationdefaults": {
           "arrowcolor": "#2a3f5f",
           "arrowhead": 0,
           "arrowwidth": 1
          },
          "autotypenumbers": "strict",
          "coloraxis": {
           "colorbar": {
            "outlinewidth": 0,
            "ticks": ""
           }
          },
          "colorscale": {
           "diverging": [
            [
             0,
             "#8e0152"
            ],
            [
             0.1,
             "#c51b7d"
            ],
            [
             0.2,
             "#de77ae"
            ],
            [
             0.3,
             "#f1b6da"
            ],
            [
             0.4,
             "#fde0ef"
            ],
            [
             0.5,
             "#f7f7f7"
            ],
            [
             0.6,
             "#e6f5d0"
            ],
            [
             0.7,
             "#b8e186"
            ],
            [
             0.8,
             "#7fbc41"
            ],
            [
             0.9,
             "#4d9221"
            ],
            [
             1,
             "#276419"
            ]
           ],
           "sequential": [
            [
             0,
             "#0d0887"
            ],
            [
             0.1111111111111111,
             "#46039f"
            ],
            [
             0.2222222222222222,
             "#7201a8"
            ],
            [
             0.3333333333333333,
             "#9c179e"
            ],
            [
             0.4444444444444444,
             "#bd3786"
            ],
            [
             0.5555555555555556,
             "#d8576b"
            ],
            [
             0.6666666666666666,
             "#ed7953"
            ],
            [
             0.7777777777777778,
             "#fb9f3a"
            ],
            [
             0.8888888888888888,
             "#fdca26"
            ],
            [
             1,
             "#f0f921"
            ]
           ],
           "sequentialminus": [
            [
             0,
             "#0d0887"
            ],
            [
             0.1111111111111111,
             "#46039f"
            ],
            [
             0.2222222222222222,
             "#7201a8"
            ],
            [
             0.3333333333333333,
             "#9c179e"
            ],
            [
             0.4444444444444444,
             "#bd3786"
            ],
            [
             0.5555555555555556,
             "#d8576b"
            ],
            [
             0.6666666666666666,
             "#ed7953"
            ],
            [
             0.7777777777777778,
             "#fb9f3a"
            ],
            [
             0.8888888888888888,
             "#fdca26"
            ],
            [
             1,
             "#f0f921"
            ]
           ]
          },
          "colorway": [
           "#636efa",
           "#EF553B",
           "#00cc96",
           "#ab63fa",
           "#FFA15A",
           "#19d3f3",
           "#FF6692",
           "#B6E880",
           "#FF97FF",
           "#FECB52"
          ],
          "font": {
           "color": "#2a3f5f"
          },
          "geo": {
           "bgcolor": "white",
           "lakecolor": "white",
           "landcolor": "#E5ECF6",
           "showlakes": true,
           "showland": true,
           "subunitcolor": "white"
          },
          "hoverlabel": {
           "align": "left"
          },
          "hovermode": "closest",
          "mapbox": {
           "style": "light"
          },
          "paper_bgcolor": "white",
          "plot_bgcolor": "#E5ECF6",
          "polar": {
           "angularaxis": {
            "gridcolor": "white",
            "linecolor": "white",
            "ticks": ""
           },
           "bgcolor": "#E5ECF6",
           "radialaxis": {
            "gridcolor": "white",
            "linecolor": "white",
            "ticks": ""
           }
          },
          "scene": {
           "xaxis": {
            "backgroundcolor": "#E5ECF6",
            "gridcolor": "white",
            "gridwidth": 2,
            "linecolor": "white",
            "showbackground": true,
            "ticks": "",
            "zerolinecolor": "white"
           },
           "yaxis": {
            "backgroundcolor": "#E5ECF6",
            "gridcolor": "white",
            "gridwidth": 2,
            "linecolor": "white",
            "showbackground": true,
            "ticks": "",
            "zerolinecolor": "white"
           },
           "zaxis": {
            "backgroundcolor": "#E5ECF6",
            "gridcolor": "white",
            "gridwidth": 2,
            "linecolor": "white",
            "showbackground": true,
            "ticks": "",
            "zerolinecolor": "white"
           }
          },
          "shapedefaults": {
           "line": {
            "color": "#2a3f5f"
           }
          },
          "ternary": {
           "aaxis": {
            "gridcolor": "white",
            "linecolor": "white",
            "ticks": ""
           },
           "baxis": {
            "gridcolor": "white",
            "linecolor": "white",
            "ticks": ""
           },
           "bgcolor": "#E5ECF6",
           "caxis": {
            "gridcolor": "white",
            "linecolor": "white",
            "ticks": ""
           }
          },
          "title": {
           "x": 0.05
          },
          "xaxis": {
           "automargin": true,
           "gridcolor": "white",
           "linecolor": "white",
           "ticks": "",
           "title": {
            "standoff": 15
           },
           "zerolinecolor": "white",
           "zerolinewidth": 2
          },
          "yaxis": {
           "automargin": true,
           "gridcolor": "white",
           "linecolor": "white",
           "ticks": "",
           "title": {
            "standoff": 15
           },
           "zerolinecolor": "white",
           "zerolinewidth": 2
          }
         }
        },
        "title": {
         "text": "Contour Plot"
        },
        "xaxis": {
         "anchor": "y",
         "domain": [
          0,
          0.103125
         ],
         "matches": "x57",
         "range": [
          0.0055,
          0.10450000000000001
         ],
         "showticklabels": false
        },
        "xaxis10": {
         "anchor": "y10",
         "domain": [
          0.128125,
          0.23124999999999998
         ],
         "matches": "x58",
         "range": [
          0.7905000000000001,
          0.9994999999999999
         ],
         "showticklabels": false
        },
        "xaxis11": {
         "anchor": "y11",
         "domain": [
          0.25625,
          0.359375
         ],
         "matches": "x59",
         "range": [
          0.948,
          0.992
         ],
         "showticklabels": false
        },
        "xaxis12": {
         "anchor": "y12",
         "domain": [
          0.38437499999999997,
          0.48749999999999993
         ],
         "matches": "x60",
         "range": [
          0.000055,
          0.001045
         ],
         "showticklabels": false
        },
        "xaxis13": {
         "anchor": "y13",
         "domain": [
          0.5125,
          0.615625
         ],
         "matches": "x61",
         "range": [
          0.475,
          1.025
         ],
         "showticklabels": false
        },
        "xaxis14": {
         "anchor": "y14",
         "domain": [
          0.640625,
          0.74375
         ],
         "matches": "x62",
         "range": [
          2.05,
          66.95
         ],
         "showticklabels": false
        },
        "xaxis15": {
         "anchor": "y15",
         "domain": [
          0.7687499999999999,
          0.871875
         ],
         "matches": "x63",
         "range": [
          -0.05,
          1.05
         ],
         "showticklabels": false,
         "type": "category"
        },
        "xaxis16": {
         "anchor": "y16",
         "domain": [
          0.896875,
          1
         ],
         "matches": "x64",
         "range": [
          0.475,
          1.025
         ],
         "showticklabels": false
        },
        "xaxis17": {
         "anchor": "y17",
         "domain": [
          0,
          0.103125
         ],
         "matches": "x57",
         "range": [
          0.0055,
          0.10450000000000001
         ],
         "showticklabels": false
        },
        "xaxis18": {
         "anchor": "y18",
         "domain": [
          0.128125,
          0.23124999999999998
         ],
         "matches": "x58",
         "range": [
          0.7905000000000001,
          0.9994999999999999
         ],
         "showticklabels": false
        },
        "xaxis19": {
         "anchor": "y19",
         "domain": [
          0.25625,
          0.359375
         ],
         "matches": "x59",
         "range": [
          0.948,
          0.992
         ],
         "showticklabels": false
        },
        "xaxis2": {
         "anchor": "y2",
         "domain": [
          0.128125,
          0.23124999999999998
         ],
         "matches": "x58",
         "range": [
          0.7905000000000001,
          0.9994999999999999
         ],
         "showticklabels": false
        },
        "xaxis20": {
         "anchor": "y20",
         "domain": [
          0.38437499999999997,
          0.48749999999999993
         ],
         "matches": "x60",
         "range": [
          0.000055,
          0.001045
         ],
         "showticklabels": false
        },
        "xaxis21": {
         "anchor": "y21",
         "domain": [
          0.5125,
          0.615625
         ],
         "matches": "x61",
         "range": [
          0.475,
          1.025
         ],
         "showticklabels": false
        },
        "xaxis22": {
         "anchor": "y22",
         "domain": [
          0.640625,
          0.74375
         ],
         "matches": "x62",
         "range": [
          2.05,
          66.95
         ],
         "showticklabels": false
        },
        "xaxis23": {
         "anchor": "y23",
         "domain": [
          0.7687499999999999,
          0.871875
         ],
         "matches": "x63",
         "range": [
          -0.05,
          1.05
         ],
         "showticklabels": false,
         "type": "category"
        },
        "xaxis24": {
         "anchor": "y24",
         "domain": [
          0.896875,
          1
         ],
         "matches": "x64",
         "range": [
          0.475,
          1.025
         ],
         "showticklabels": false
        },
        "xaxis25": {
         "anchor": "y25",
         "domain": [
          0,
          0.103125
         ],
         "matches": "x57",
         "range": [
          0.0055,
          0.10450000000000001
         ],
         "showticklabels": false
        },
        "xaxis26": {
         "anchor": "y26",
         "domain": [
          0.128125,
          0.23124999999999998
         ],
         "matches": "x58",
         "range": [
          0.7905000000000001,
          0.9994999999999999
         ],
         "showticklabels": false
        },
        "xaxis27": {
         "anchor": "y27",
         "domain": [
          0.25625,
          0.359375
         ],
         "matches": "x59",
         "range": [
          0.948,
          0.992
         ],
         "showticklabels": false
        },
        "xaxis28": {
         "anchor": "y28",
         "domain": [
          0.38437499999999997,
          0.48749999999999993
         ],
         "matches": "x60",
         "range": [
          0.000055,
          0.001045
         ],
         "showticklabels": false
        },
        "xaxis29": {
         "anchor": "y29",
         "domain": [
          0.5125,
          0.615625
         ],
         "matches": "x61",
         "range": [
          0.475,
          1.025
         ],
         "showticklabels": false
        },
        "xaxis3": {
         "anchor": "y3",
         "domain": [
          0.25625,
          0.359375
         ],
         "matches": "x59",
         "range": [
          0.948,
          0.992
         ],
         "showticklabels": false
        },
        "xaxis30": {
         "anchor": "y30",
         "domain": [
          0.640625,
          0.74375
         ],
         "matches": "x62",
         "range": [
          2.05,
          66.95
         ],
         "showticklabels": false
        },
        "xaxis31": {
         "anchor": "y31",
         "domain": [
          0.7687499999999999,
          0.871875
         ],
         "matches": "x63",
         "range": [
          -0.05,
          1.05
         ],
         "showticklabels": false,
         "type": "category"
        },
        "xaxis32": {
         "anchor": "y32",
         "domain": [
          0.896875,
          1
         ],
         "matches": "x64",
         "range": [
          0.475,
          1.025
         ],
         "showticklabels": false
        },
        "xaxis33": {
         "anchor": "y33",
         "domain": [
          0,
          0.103125
         ],
         "matches": "x57",
         "range": [
          0.0055,
          0.10450000000000001
         ],
         "showticklabels": false
        },
        "xaxis34": {
         "anchor": "y34",
         "domain": [
          0.128125,
          0.23124999999999998
         ],
         "matches": "x58",
         "range": [
          0.7905000000000001,
          0.9994999999999999
         ],
         "showticklabels": false
        },
        "xaxis35": {
         "anchor": "y35",
         "domain": [
          0.25625,
          0.359375
         ],
         "matches": "x59",
         "range": [
          0.948,
          0.992
         ],
         "showticklabels": false
        },
        "xaxis36": {
         "anchor": "y36",
         "domain": [
          0.38437499999999997,
          0.48749999999999993
         ],
         "matches": "x60",
         "range": [
          0.000055,
          0.001045
         ],
         "showticklabels": false
        },
        "xaxis37": {
         "anchor": "y37",
         "domain": [
          0.5125,
          0.615625
         ],
         "matches": "x61",
         "range": [
          0.475,
          1.025
         ],
         "showticklabels": false
        },
        "xaxis38": {
         "anchor": "y38",
         "domain": [
          0.640625,
          0.74375
         ],
         "matches": "x62",
         "range": [
          2.05,
          66.95
         ],
         "showticklabels": false
        },
        "xaxis39": {
         "anchor": "y39",
         "domain": [
          0.7687499999999999,
          0.871875
         ],
         "matches": "x63",
         "range": [
          -0.05,
          1.05
         ],
         "showticklabels": false,
         "type": "category"
        },
        "xaxis4": {
         "anchor": "y4",
         "domain": [
          0.38437499999999997,
          0.48749999999999993
         ],
         "matches": "x60",
         "range": [
          0.000055,
          0.001045
         ],
         "showticklabels": false
        },
        "xaxis40": {
         "anchor": "y40",
         "domain": [
          0.896875,
          1
         ],
         "matches": "x64",
         "range": [
          0.475,
          1.025
         ],
         "showticklabels": false
        },
        "xaxis41": {
         "anchor": "y41",
         "domain": [
          0,
          0.103125
         ],
         "matches": "x57",
         "range": [
          0.0055,
          0.10450000000000001
         ],
         "showticklabels": false
        },
        "xaxis42": {
         "anchor": "y42",
         "domain": [
          0.128125,
          0.23124999999999998
         ],
         "matches": "x58",
         "range": [
          0.7905000000000001,
          0.9994999999999999
         ],
         "showticklabels": false
        },
        "xaxis43": {
         "anchor": "y43",
         "domain": [
          0.25625,
          0.359375
         ],
         "matches": "x59",
         "range": [
          0.948,
          0.992
         ],
         "showticklabels": false
        },
        "xaxis44": {
         "anchor": "y44",
         "domain": [
          0.38437499999999997,
          0.48749999999999993
         ],
         "matches": "x60",
         "range": [
          0.000055,
          0.001045
         ],
         "showticklabels": false
        },
        "xaxis45": {
         "anchor": "y45",
         "domain": [
          0.5125,
          0.615625
         ],
         "matches": "x61",
         "range": [
          0.475,
          1.025
         ],
         "showticklabels": false
        },
        "xaxis46": {
         "anchor": "y46",
         "domain": [
          0.640625,
          0.74375
         ],
         "matches": "x62",
         "range": [
          2.05,
          66.95
         ],
         "showticklabels": false
        },
        "xaxis47": {
         "anchor": "y47",
         "domain": [
          0.7687499999999999,
          0.871875
         ],
         "matches": "x63",
         "range": [
          -0.05,
          1.05
         ],
         "showticklabels": false,
         "type": "category"
        },
        "xaxis48": {
         "anchor": "y48",
         "domain": [
          0.896875,
          1
         ],
         "matches": "x64",
         "range": [
          0.475,
          1.025
         ],
         "showticklabels": false
        },
        "xaxis49": {
         "anchor": "y49",
         "domain": [
          0,
          0.103125
         ],
         "matches": "x57",
         "range": [
          0.0055,
          0.10450000000000001
         ],
         "showticklabels": false
        },
        "xaxis5": {
         "anchor": "y5",
         "domain": [
          0.5125,
          0.615625
         ],
         "matches": "x61",
         "range": [
          0.475,
          1.025
         ],
         "showticklabels": false
        },
        "xaxis50": {
         "anchor": "y50",
         "domain": [
          0.128125,
          0.23124999999999998
         ],
         "matches": "x58",
         "range": [
          0.7905000000000001,
          0.9994999999999999
         ],
         "showticklabels": false
        },
        "xaxis51": {
         "anchor": "y51",
         "domain": [
          0.25625,
          0.359375
         ],
         "matches": "x59",
         "range": [
          0.948,
          0.992
         ],
         "showticklabels": false
        },
        "xaxis52": {
         "anchor": "y52",
         "domain": [
          0.38437499999999997,
          0.48749999999999993
         ],
         "matches": "x60",
         "range": [
          0.000055,
          0.001045
         ],
         "showticklabels": false
        },
        "xaxis53": {
         "anchor": "y53",
         "domain": [
          0.5125,
          0.615625
         ],
         "matches": "x61",
         "range": [
          0.475,
          1.025
         ],
         "showticklabels": false
        },
        "xaxis54": {
         "anchor": "y54",
         "domain": [
          0.640625,
          0.74375
         ],
         "matches": "x62",
         "range": [
          2.05,
          66.95
         ],
         "showticklabels": false
        },
        "xaxis55": {
         "anchor": "y55",
         "domain": [
          0.7687499999999999,
          0.871875
         ],
         "matches": "x63",
         "range": [
          -0.05,
          1.05
         ],
         "showticklabels": false,
         "type": "category"
        },
        "xaxis56": {
         "anchor": "y56",
         "domain": [
          0.896875,
          1
         ],
         "matches": "x64",
         "range": [
          0.475,
          1.025
         ],
         "showticklabels": false
        },
        "xaxis57": {
         "anchor": "y57",
         "domain": [
          0,
          0.103125
         ],
         "range": [
          0.0055,
          0.10450000000000001
         ],
         "title": {
          "text": "ent_coef"
         }
        },
        "xaxis58": {
         "anchor": "y58",
         "domain": [
          0.128125,
          0.23124999999999998
         ],
         "range": [
          0.7905000000000001,
          0.9994999999999999
         ],
         "title": {
          "text": "gae_lambda"
         }
        },
        "xaxis59": {
         "anchor": "y59",
         "domain": [
          0.25625,
          0.359375
         ],
         "range": [
          0.948,
          0.992
         ],
         "title": {
          "text": "gamma"
         }
        },
        "xaxis6": {
         "anchor": "y6",
         "domain": [
          0.640625,
          0.74375
         ],
         "matches": "x62",
         "range": [
          2.05,
          66.95
         ],
         "showticklabels": false
        },
        "xaxis60": {
         "anchor": "y60",
         "domain": [
          0.38437499999999997,
          0.48749999999999993
         ],
         "range": [
          0.000055,
          0.001045
         ],
         "title": {
          "text": "learning_rate"
         }
        },
        "xaxis61": {
         "anchor": "y61",
         "domain": [
          0.5125,
          0.615625
         ],
         "range": [
          0.475,
          1.025
         ],
         "title": {
          "text": "max_grad_norm"
         }
        },
        "xaxis62": {
         "anchor": "y62",
         "domain": [
          0.640625,
          0.74375
         ],
         "range": [
          2.05,
          66.95
         ],
         "title": {
          "text": "n_steps"
         }
        },
        "xaxis63": {
         "anchor": "y63",
         "domain": [
          0.7687499999999999,
          0.871875
         ],
         "range": [
          -0.05,
          1.05
         ],
         "title": {
          "text": "use_rms_prop"
         },
         "type": "category"
        },
        "xaxis64": {
         "anchor": "y64",
         "domain": [
          0.896875,
          1
         ],
         "range": [
          0.475,
          1.025
         ],
         "title": {
          "text": "vf_coef"
         }
        },
        "xaxis7": {
         "anchor": "y7",
         "domain": [
          0.7687499999999999,
          0.871875
         ],
         "matches": "x63",
         "range": [
          -0.05,
          1.05
         ],
         "showticklabels": false,
         "type": "category"
        },
        "xaxis8": {
         "anchor": "y8",
         "domain": [
          0.896875,
          1
         ],
         "matches": "x64",
         "range": [
          0.475,
          1.025
         ],
         "showticklabels": false
        },
        "xaxis9": {
         "anchor": "y9",
         "domain": [
          0,
          0.103125
         ],
         "matches": "x57",
         "range": [
          0.0055,
          0.10450000000000001
         ],
         "showticklabels": false
        },
        "yaxis": {
         "anchor": "x",
         "domain": [
          0.9078125000000001,
          1
         ],
         "range": [
          0.0055,
          0.10450000000000001
         ],
         "title": {
          "text": "ent_coef"
         }
        },
        "yaxis10": {
         "anchor": "x10",
         "domain": [
          0.7781250000000001,
          0.8703125
         ],
         "matches": "y9",
         "range": [
          0.7905000000000001,
          0.9994999999999999
         ],
         "showticklabels": false
        },
        "yaxis11": {
         "anchor": "x11",
         "domain": [
          0.7781250000000001,
          0.8703125
         ],
         "matches": "y9",
         "range": [
          0.7905000000000001,
          0.9994999999999999
         ],
         "showticklabels": false
        },
        "yaxis12": {
         "anchor": "x12",
         "domain": [
          0.7781250000000001,
          0.8703125
         ],
         "matches": "y9",
         "range": [
          0.7905000000000001,
          0.9994999999999999
         ],
         "showticklabels": false
        },
        "yaxis13": {
         "anchor": "x13",
         "domain": [
          0.7781250000000001,
          0.8703125
         ],
         "matches": "y9",
         "range": [
          0.7905000000000001,
          0.9994999999999999
         ],
         "showticklabels": false
        },
        "yaxis14": {
         "anchor": "x14",
         "domain": [
          0.7781250000000001,
          0.8703125
         ],
         "matches": "y9",
         "range": [
          0.7905000000000001,
          0.9994999999999999
         ],
         "showticklabels": false
        },
        "yaxis15": {
         "anchor": "x15",
         "domain": [
          0.7781250000000001,
          0.8703125
         ],
         "matches": "y9",
         "range": [
          0.7905000000000001,
          0.9994999999999999
         ],
         "showticklabels": false
        },
        "yaxis16": {
         "anchor": "x16",
         "domain": [
          0.7781250000000001,
          0.8703125
         ],
         "matches": "y9",
         "range": [
          0.7905000000000001,
          0.9994999999999999
         ],
         "showticklabels": false
        },
        "yaxis17": {
         "anchor": "x17",
         "domain": [
          0.6484375,
          0.740625
         ],
         "range": [
          0.948,
          0.992
         ],
         "title": {
          "text": "gamma"
         }
        },
        "yaxis18": {
         "anchor": "x18",
         "domain": [
          0.6484375,
          0.740625
         ],
         "matches": "y17",
         "range": [
          0.948,
          0.992
         ],
         "showticklabels": false
        },
        "yaxis19": {
         "anchor": "x19",
         "domain": [
          0.6484375,
          0.740625
         ],
         "matches": "y17",
         "range": [
          0.948,
          0.992
         ],
         "showticklabels": false
        },
        "yaxis2": {
         "anchor": "x2",
         "domain": [
          0.9078125000000001,
          1
         ],
         "matches": "y",
         "range": [
          0.0055,
          0.10450000000000001
         ],
         "showticklabels": false
        },
        "yaxis20": {
         "anchor": "x20",
         "domain": [
          0.6484375,
          0.740625
         ],
         "matches": "y17",
         "range": [
          0.948,
          0.992
         ],
         "showticklabels": false
        },
        "yaxis21": {
         "anchor": "x21",
         "domain": [
          0.6484375,
          0.740625
         ],
         "matches": "y17",
         "range": [
          0.948,
          0.992
         ],
         "showticklabels": false
        },
        "yaxis22": {
         "anchor": "x22",
         "domain": [
          0.6484375,
          0.740625
         ],
         "matches": "y17",
         "range": [
          0.948,
          0.992
         ],
         "showticklabels": false
        },
        "yaxis23": {
         "anchor": "x23",
         "domain": [
          0.6484375,
          0.740625
         ],
         "matches": "y17",
         "range": [
          0.948,
          0.992
         ],
         "showticklabels": false
        },
        "yaxis24": {
         "anchor": "x24",
         "domain": [
          0.6484375,
          0.740625
         ],
         "matches": "y17",
         "range": [
          0.948,
          0.992
         ],
         "showticklabels": false
        },
        "yaxis25": {
         "anchor": "x25",
         "domain": [
          0.51875,
          0.6109375
         ],
         "range": [
          0.000055,
          0.001045
         ],
         "title": {
          "text": "learning_rate"
         }
        },
        "yaxis26": {
         "anchor": "x26",
         "domain": [
          0.51875,
          0.6109375
         ],
         "matches": "y25",
         "range": [
          0.000055,
          0.001045
         ],
         "showticklabels": false
        },
        "yaxis27": {
         "anchor": "x27",
         "domain": [
          0.51875,
          0.6109375
         ],
         "matches": "y25",
         "range": [
          0.000055,
          0.001045
         ],
         "showticklabels": false
        },
        "yaxis28": {
         "anchor": "x28",
         "domain": [
          0.51875,
          0.6109375
         ],
         "matches": "y25",
         "range": [
          0.000055,
          0.001045
         ],
         "showticklabels": false
        },
        "yaxis29": {
         "anchor": "x29",
         "domain": [
          0.51875,
          0.6109375
         ],
         "matches": "y25",
         "range": [
          0.000055,
          0.001045
         ],
         "showticklabels": false
        },
        "yaxis3": {
         "anchor": "x3",
         "domain": [
          0.9078125000000001,
          1
         ],
         "matches": "y",
         "range": [
          0.0055,
          0.10450000000000001
         ],
         "showticklabels": false
        },
        "yaxis30": {
         "anchor": "x30",
         "domain": [
          0.51875,
          0.6109375
         ],
         "matches": "y25",
         "range": [
          0.000055,
          0.001045
         ],
         "showticklabels": false
        },
        "yaxis31": {
         "anchor": "x31",
         "domain": [
          0.51875,
          0.6109375
         ],
         "matches": "y25",
         "range": [
          0.000055,
          0.001045
         ],
         "showticklabels": false
        },
        "yaxis32": {
         "anchor": "x32",
         "domain": [
          0.51875,
          0.6109375
         ],
         "matches": "y25",
         "range": [
          0.000055,
          0.001045
         ],
         "showticklabels": false
        },
        "yaxis33": {
         "anchor": "x33",
         "domain": [
          0.38906250000000003,
          0.48125000000000007
         ],
         "range": [
          0.475,
          1.025
         ],
         "title": {
          "text": "max_grad_norm"
         }
        },
        "yaxis34": {
         "anchor": "x34",
         "domain": [
          0.38906250000000003,
          0.48125000000000007
         ],
         "matches": "y33",
         "range": [
          0.475,
          1.025
         ],
         "showticklabels": false
        },
        "yaxis35": {
         "anchor": "x35",
         "domain": [
          0.38906250000000003,
          0.48125000000000007
         ],
         "matches": "y33",
         "range": [
          0.475,
          1.025
         ],
         "showticklabels": false
        },
        "yaxis36": {
         "anchor": "x36",
         "domain": [
          0.38906250000000003,
          0.48125000000000007
         ],
         "matches": "y33",
         "range": [
          0.475,
          1.025
         ],
         "showticklabels": false
        },
        "yaxis37": {
         "anchor": "x37",
         "domain": [
          0.38906250000000003,
          0.48125000000000007
         ],
         "matches": "y33",
         "range": [
          0.475,
          1.025
         ],
         "showticklabels": false
        },
        "yaxis38": {
         "anchor": "x38",
         "domain": [
          0.38906250000000003,
          0.48125000000000007
         ],
         "matches": "y33",
         "range": [
          0.475,
          1.025
         ],
         "showticklabels": false
        },
        "yaxis39": {
         "anchor": "x39",
         "domain": [
          0.38906250000000003,
          0.48125000000000007
         ],
         "matches": "y33",
         "range": [
          0.475,
          1.025
         ],
         "showticklabels": false
        },
        "yaxis4": {
         "anchor": "x4",
         "domain": [
          0.9078125000000001,
          1
         ],
         "matches": "y",
         "range": [
          0.0055,
          0.10450000000000001
         ],
         "showticklabels": false
        },
        "yaxis40": {
         "anchor": "x40",
         "domain": [
          0.38906250000000003,
          0.48125000000000007
         ],
         "matches": "y33",
         "range": [
          0.475,
          1.025
         ],
         "showticklabels": false
        },
        "yaxis41": {
         "anchor": "x41",
         "domain": [
          0.259375,
          0.3515625
         ],
         "range": [
          2.05,
          66.95
         ],
         "title": {
          "text": "n_steps"
         }
        },
        "yaxis42": {
         "anchor": "x42",
         "domain": [
          0.259375,
          0.3515625
         ],
         "matches": "y41",
         "range": [
          2.05,
          66.95
         ],
         "showticklabels": false
        },
        "yaxis43": {
         "anchor": "x43",
         "domain": [
          0.259375,
          0.3515625
         ],
         "matches": "y41",
         "range": [
          2.05,
          66.95
         ],
         "showticklabels": false
        },
        "yaxis44": {
         "anchor": "x44",
         "domain": [
          0.259375,
          0.3515625
         ],
         "matches": "y41",
         "range": [
          2.05,
          66.95
         ],
         "showticklabels": false
        },
        "yaxis45": {
         "anchor": "x45",
         "domain": [
          0.259375,
          0.3515625
         ],
         "matches": "y41",
         "range": [
          2.05,
          66.95
         ],
         "showticklabels": false
        },
        "yaxis46": {
         "anchor": "x46",
         "domain": [
          0.259375,
          0.3515625
         ],
         "matches": "y41",
         "range": [
          2.05,
          66.95
         ],
         "showticklabels": false
        },
        "yaxis47": {
         "anchor": "x47",
         "domain": [
          0.259375,
          0.3515625
         ],
         "matches": "y41",
         "range": [
          2.05,
          66.95
         ],
         "showticklabels": false
        },
        "yaxis48": {
         "anchor": "x48",
         "domain": [
          0.259375,
          0.3515625
         ],
         "matches": "y41",
         "range": [
          2.05,
          66.95
         ],
         "showticklabels": false
        },
        "yaxis49": {
         "anchor": "x49",
         "domain": [
          0.1296875,
          0.22187500000000002
         ],
         "range": [
          -0.05,
          1.05
         ],
         "title": {
          "text": "use_rms_prop"
         },
         "type": "category"
        },
        "yaxis5": {
         "anchor": "x5",
         "domain": [
          0.9078125000000001,
          1
         ],
         "matches": "y",
         "range": [
          0.0055,
          0.10450000000000001
         ],
         "showticklabels": false
        },
        "yaxis50": {
         "anchor": "x50",
         "domain": [
          0.1296875,
          0.22187500000000002
         ],
         "matches": "y49",
         "range": [
          -0.05,
          1.05
         ],
         "showticklabels": false,
         "type": "category"
        },
        "yaxis51": {
         "anchor": "x51",
         "domain": [
          0.1296875,
          0.22187500000000002
         ],
         "matches": "y49",
         "range": [
          -0.05,
          1.05
         ],
         "showticklabels": false,
         "type": "category"
        },
        "yaxis52": {
         "anchor": "x52",
         "domain": [
          0.1296875,
          0.22187500000000002
         ],
         "matches": "y49",
         "range": [
          -0.05,
          1.05
         ],
         "showticklabels": false,
         "type": "category"
        },
        "yaxis53": {
         "anchor": "x53",
         "domain": [
          0.1296875,
          0.22187500000000002
         ],
         "matches": "y49",
         "range": [
          -0.05,
          1.05
         ],
         "showticklabels": false,
         "type": "category"
        },
        "yaxis54": {
         "anchor": "x54",
         "domain": [
          0.1296875,
          0.22187500000000002
         ],
         "matches": "y49",
         "range": [
          -0.05,
          1.05
         ],
         "showticklabels": false,
         "type": "category"
        },
        "yaxis55": {
         "anchor": "x55",
         "domain": [
          0.1296875,
          0.22187500000000002
         ],
         "matches": "y49",
         "range": [
          -0.05,
          1.05
         ],
         "showticklabels": false,
         "type": "category"
        },
        "yaxis56": {
         "anchor": "x56",
         "domain": [
          0.1296875,
          0.22187500000000002
         ],
         "matches": "y49",
         "range": [
          -0.05,
          1.05
         ],
         "showticklabels": false,
         "type": "category"
        },
        "yaxis57": {
         "anchor": "x57",
         "domain": [
          0,
          0.0921875
         ],
         "range": [
          0.475,
          1.025
         ],
         "title": {
          "text": "vf_coef"
         }
        },
        "yaxis58": {
         "anchor": "x58",
         "domain": [
          0,
          0.0921875
         ],
         "matches": "y57",
         "range": [
          0.475,
          1.025
         ],
         "showticklabels": false
        },
        "yaxis59": {
         "anchor": "x59",
         "domain": [
          0,
          0.0921875
         ],
         "matches": "y57",
         "range": [
          0.475,
          1.025
         ],
         "showticklabels": false
        },
        "yaxis6": {
         "anchor": "x6",
         "domain": [
          0.9078125000000001,
          1
         ],
         "matches": "y",
         "range": [
          0.0055,
          0.10450000000000001
         ],
         "showticklabels": false
        },
        "yaxis60": {
         "anchor": "x60",
         "domain": [
          0,
          0.0921875
         ],
         "matches": "y57",
         "range": [
          0.475,
          1.025
         ],
         "showticklabels": false
        },
        "yaxis61": {
         "anchor": "x61",
         "domain": [
          0,
          0.0921875
         ],
         "matches": "y57",
         "range": [
          0.475,
          1.025
         ],
         "showticklabels": false
        },
        "yaxis62": {
         "anchor": "x62",
         "domain": [
          0,
          0.0921875
         ],
         "matches": "y57",
         "range": [
          0.475,
          1.025
         ],
         "showticklabels": false
        },
        "yaxis63": {
         "anchor": "x63",
         "domain": [
          0,
          0.0921875
         ],
         "matches": "y57",
         "range": [
          0.475,
          1.025
         ],
         "showticklabels": false
        },
        "yaxis64": {
         "anchor": "x64",
         "domain": [
          0,
          0.0921875
         ],
         "matches": "y57",
         "range": [
          0.475,
          1.025
         ],
         "showticklabels": false
        },
        "yaxis7": {
         "anchor": "x7",
         "domain": [
          0.9078125000000001,
          1
         ],
         "matches": "y",
         "range": [
          0.0055,
          0.10450000000000001
         ],
         "showticklabels": false
        },
        "yaxis8": {
         "anchor": "x8",
         "domain": [
          0.9078125000000001,
          1
         ],
         "matches": "y",
         "range": [
          0.0055,
          0.10450000000000001
         ],
         "showticklabels": false
        },
        "yaxis9": {
         "anchor": "x9",
         "domain": [
          0.7781250000000001,
          0.8703125
         ],
         "range": [
          0.7905000000000001,
          0.9994999999999999
         ],
         "title": {
          "text": "gae_lambda"
         }
        }
       }
      }
     },
     "metadata": {},
     "output_type": "display_data"
    }
   ],
   "source": [
    "from optuna.visualization import plot_contour\n",
    "\n",
    "fig = plot_contour(study)\n",
    "fig.show()"
   ]
  }
 ],
 "metadata": {
  "kernelspec": {
   "display_name": "rl-scm",
   "language": "python",
   "name": "python3"
  },
  "language_info": {
   "codemirror_mode": {
    "name": "ipython",
    "version": 3
   },
   "file_extension": ".py",
   "mimetype": "text/x-python",
   "name": "python",
   "nbconvert_exporter": "python",
   "pygments_lexer": "ipython3",
   "version": "3.12.3"
  }
 },
 "nbformat": 4,
 "nbformat_minor": 2
}
