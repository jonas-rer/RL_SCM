{
 "cells": [
  {
   "cell_type": "code",
   "execution_count": 16,
   "metadata": {},
   "outputs": [],
   "source": [
    "# Import helpers\n",
    "import numpy as np\n",
    "import pandas as pd\n",
    "import random\n",
    "import os\n",
    "import json\n",
    "import csv\n",
    "import matplotlib.pyplot as plt\n",
    "import seaborn as sns\n",
    "import optuna\n",
    "import pickle\n",
    "\n",
    "from collections import deque\n",
    "\n",
    "# Import tensorflow\n",
    "import tensorflow as tf\n",
    "\n",
    "# Import custom classes\n",
    "from Environment.env_v9 import *\n",
    "from Functions.visualization_functions import *\n",
    "\n",
    "# Import custom functions\n",
    "from Functions.greedy_algorithm import *"
   ]
  },
  {
   "cell_type": "code",
   "execution_count": 17,
   "metadata": {},
   "outputs": [
    {
     "name": "stdout",
     "output_type": "stream",
     "text": [
      "Best parameters from loaded study: {'learning_rate': 5.343712740537448e-05, 'tau': 0.0019967482118355855, 'gamma': 0.9635749641192399, 'buffer_size': 250000, 'batch_size': 32, 'noise_std': 0.18720161137015176}\n"
     ]
    }
   ],
   "source": [
    "# # Load the study from a file\n",
    "# with open(\"./Training/A2C_optuna_study_2024-12-03_15_00.pkl\", \"rb\") as f:\n",
    "#     study = pickle.load(f)\n",
    "\n",
    "# print(\"Best parameters from loaded study:\", study.best_params)\n",
    "\n",
    "# Load the study from a file\n",
    "with open(\"./Training/DDPG_optuna_study_2024-12-03_21_28.pkl\", \"rb\") as f:\n",
    "    study = pickle.load(f)\n",
    "\n",
    "print(\"Best parameters from loaded study:\", study.best_params)"
   ]
  },
  {
   "cell_type": "markdown",
   "metadata": {},
   "source": [
    "**Plot Optimization History**\n",
    "\n",
    "This plot shows the best trial value at each step of the optimization process."
   ]
  },
  {
   "cell_type": "code",
   "execution_count": 18,
   "metadata": {},
   "outputs": [
    {
     "data": {
      "application/vnd.plotly.v1+json": {
       "config": {
        "plotlyServerURL": "https://plot.ly"
       },
       "data": [
        {
         "mode": "markers",
         "name": "Objective Value",
         "type": "scatter",
         "x": [
          0,
          1,
          2,
          3,
          4,
          5,
          6,
          7,
          8,
          9,
          10,
          11,
          12,
          13,
          14,
          15,
          16,
          17,
          18,
          19,
          20,
          21,
          22,
          23,
          24
         ],
         "y": [
          -57028.94600000001,
          -56869.409999999996,
          -57692.2,
          -54626.590000000004,
          -57017.11,
          -56894.962,
          -57957.740000000005,
          -54319.630000000005,
          -56369.626000000004,
          -57692.490000000005,
          -63909.490000000005,
          -56306.902,
          -56235.48,
          -57134.58,
          -56636.922,
          -57585.958,
          -57176.716,
          -57662.407999999996,
          -56457.295999999995,
          -19549814.73,
          -55815.621999999996,
          -55304.654,
          -56246.052,
          -56172.68200000001,
          -62513.752
         ]
        },
        {
         "mode": "lines",
         "name": "Best Value",
         "type": "scatter",
         "x": [
          0,
          1,
          2,
          3,
          4,
          5,
          6,
          7,
          8,
          9,
          10,
          11,
          12,
          13,
          14,
          15,
          16,
          17,
          18,
          19,
          20,
          21,
          22,
          23,
          24
         ],
         "y": [
          -57028.94600000001,
          -56869.409999999996,
          -56869.409999999996,
          -54626.590000000004,
          -54626.590000000004,
          -54626.590000000004,
          -54626.590000000004,
          -54319.630000000005,
          -54319.630000000005,
          -54319.630000000005,
          -54319.630000000005,
          -54319.630000000005,
          -54319.630000000005,
          -54319.630000000005,
          -54319.630000000005,
          -54319.630000000005,
          -54319.630000000005,
          -54319.630000000005,
          -54319.630000000005,
          -54319.630000000005,
          -54319.630000000005,
          -54319.630000000005,
          -54319.630000000005,
          -54319.630000000005,
          -54319.630000000005
         ]
        },
        {
         "marker": {
          "color": "#cccccc"
         },
         "mode": "markers",
         "name": "Infeasible Trial",
         "showlegend": false,
         "type": "scatter",
         "x": [],
         "y": []
        }
       ],
       "layout": {
        "template": {
         "data": {
          "bar": [
           {
            "error_x": {
             "color": "#2a3f5f"
            },
            "error_y": {
             "color": "#2a3f5f"
            },
            "marker": {
             "line": {
              "color": "#E5ECF6",
              "width": 0.5
             },
             "pattern": {
              "fillmode": "overlay",
              "size": 10,
              "solidity": 0.2
             }
            },
            "type": "bar"
           }
          ],
          "barpolar": [
           {
            "marker": {
             "line": {
              "color": "#E5ECF6",
              "width": 0.5
             },
             "pattern": {
              "fillmode": "overlay",
              "size": 10,
              "solidity": 0.2
             }
            },
            "type": "barpolar"
           }
          ],
          "carpet": [
           {
            "aaxis": {
             "endlinecolor": "#2a3f5f",
             "gridcolor": "white",
             "linecolor": "white",
             "minorgridcolor": "white",
             "startlinecolor": "#2a3f5f"
            },
            "baxis": {
             "endlinecolor": "#2a3f5f",
             "gridcolor": "white",
             "linecolor": "white",
             "minorgridcolor": "white",
             "startlinecolor": "#2a3f5f"
            },
            "type": "carpet"
           }
          ],
          "choropleth": [
           {
            "colorbar": {
             "outlinewidth": 0,
             "ticks": ""
            },
            "type": "choropleth"
           }
          ],
          "contour": [
           {
            "colorbar": {
             "outlinewidth": 0,
             "ticks": ""
            },
            "colorscale": [
             [
              0,
              "#0d0887"
             ],
             [
              0.1111111111111111,
              "#46039f"
             ],
             [
              0.2222222222222222,
              "#7201a8"
             ],
             [
              0.3333333333333333,
              "#9c179e"
             ],
             [
              0.4444444444444444,
              "#bd3786"
             ],
             [
              0.5555555555555556,
              "#d8576b"
             ],
             [
              0.6666666666666666,
              "#ed7953"
             ],
             [
              0.7777777777777778,
              "#fb9f3a"
             ],
             [
              0.8888888888888888,
              "#fdca26"
             ],
             [
              1,
              "#f0f921"
             ]
            ],
            "type": "contour"
           }
          ],
          "contourcarpet": [
           {
            "colorbar": {
             "outlinewidth": 0,
             "ticks": ""
            },
            "type": "contourcarpet"
           }
          ],
          "heatmap": [
           {
            "colorbar": {
             "outlinewidth": 0,
             "ticks": ""
            },
            "colorscale": [
             [
              0,
              "#0d0887"
             ],
             [
              0.1111111111111111,
              "#46039f"
             ],
             [
              0.2222222222222222,
              "#7201a8"
             ],
             [
              0.3333333333333333,
              "#9c179e"
             ],
             [
              0.4444444444444444,
              "#bd3786"
             ],
             [
              0.5555555555555556,
              "#d8576b"
             ],
             [
              0.6666666666666666,
              "#ed7953"
             ],
             [
              0.7777777777777778,
              "#fb9f3a"
             ],
             [
              0.8888888888888888,
              "#fdca26"
             ],
             [
              1,
              "#f0f921"
             ]
            ],
            "type": "heatmap"
           }
          ],
          "heatmapgl": [
           {
            "colorbar": {
             "outlinewidth": 0,
             "ticks": ""
            },
            "colorscale": [
             [
              0,
              "#0d0887"
             ],
             [
              0.1111111111111111,
              "#46039f"
             ],
             [
              0.2222222222222222,
              "#7201a8"
             ],
             [
              0.3333333333333333,
              "#9c179e"
             ],
             [
              0.4444444444444444,
              "#bd3786"
             ],
             [
              0.5555555555555556,
              "#d8576b"
             ],
             [
              0.6666666666666666,
              "#ed7953"
             ],
             [
              0.7777777777777778,
              "#fb9f3a"
             ],
             [
              0.8888888888888888,
              "#fdca26"
             ],
             [
              1,
              "#f0f921"
             ]
            ],
            "type": "heatmapgl"
           }
          ],
          "histogram": [
           {
            "marker": {
             "pattern": {
              "fillmode": "overlay",
              "size": 10,
              "solidity": 0.2
             }
            },
            "type": "histogram"
           }
          ],
          "histogram2d": [
           {
            "colorbar": {
             "outlinewidth": 0,
             "ticks": ""
            },
            "colorscale": [
             [
              0,
              "#0d0887"
             ],
             [
              0.1111111111111111,
              "#46039f"
             ],
             [
              0.2222222222222222,
              "#7201a8"
             ],
             [
              0.3333333333333333,
              "#9c179e"
             ],
             [
              0.4444444444444444,
              "#bd3786"
             ],
             [
              0.5555555555555556,
              "#d8576b"
             ],
             [
              0.6666666666666666,
              "#ed7953"
             ],
             [
              0.7777777777777778,
              "#fb9f3a"
             ],
             [
              0.8888888888888888,
              "#fdca26"
             ],
             [
              1,
              "#f0f921"
             ]
            ],
            "type": "histogram2d"
           }
          ],
          "histogram2dcontour": [
           {
            "colorbar": {
             "outlinewidth": 0,
             "ticks": ""
            },
            "colorscale": [
             [
              0,
              "#0d0887"
             ],
             [
              0.1111111111111111,
              "#46039f"
             ],
             [
              0.2222222222222222,
              "#7201a8"
             ],
             [
              0.3333333333333333,
              "#9c179e"
             ],
             [
              0.4444444444444444,
              "#bd3786"
             ],
             [
              0.5555555555555556,
              "#d8576b"
             ],
             [
              0.6666666666666666,
              "#ed7953"
             ],
             [
              0.7777777777777778,
              "#fb9f3a"
             ],
             [
              0.8888888888888888,
              "#fdca26"
             ],
             [
              1,
              "#f0f921"
             ]
            ],
            "type": "histogram2dcontour"
           }
          ],
          "mesh3d": [
           {
            "colorbar": {
             "outlinewidth": 0,
             "ticks": ""
            },
            "type": "mesh3d"
           }
          ],
          "parcoords": [
           {
            "line": {
             "colorbar": {
              "outlinewidth": 0,
              "ticks": ""
             }
            },
            "type": "parcoords"
           }
          ],
          "pie": [
           {
            "automargin": true,
            "type": "pie"
           }
          ],
          "scatter": [
           {
            "fillpattern": {
             "fillmode": "overlay",
             "size": 10,
             "solidity": 0.2
            },
            "type": "scatter"
           }
          ],
          "scatter3d": [
           {
            "line": {
             "colorbar": {
              "outlinewidth": 0,
              "ticks": ""
             }
            },
            "marker": {
             "colorbar": {
              "outlinewidth": 0,
              "ticks": ""
             }
            },
            "type": "scatter3d"
           }
          ],
          "scattercarpet": [
           {
            "marker": {
             "colorbar": {
              "outlinewidth": 0,
              "ticks": ""
             }
            },
            "type": "scattercarpet"
           }
          ],
          "scattergeo": [
           {
            "marker": {
             "colorbar": {
              "outlinewidth": 0,
              "ticks": ""
             }
            },
            "type": "scattergeo"
           }
          ],
          "scattergl": [
           {
            "marker": {
             "colorbar": {
              "outlinewidth": 0,
              "ticks": ""
             }
            },
            "type": "scattergl"
           }
          ],
          "scattermapbox": [
           {
            "marker": {
             "colorbar": {
              "outlinewidth": 0,
              "ticks": ""
             }
            },
            "type": "scattermapbox"
           }
          ],
          "scatterpolar": [
           {
            "marker": {
             "colorbar": {
              "outlinewidth": 0,
              "ticks": ""
             }
            },
            "type": "scatterpolar"
           }
          ],
          "scatterpolargl": [
           {
            "marker": {
             "colorbar": {
              "outlinewidth": 0,
              "ticks": ""
             }
            },
            "type": "scatterpolargl"
           }
          ],
          "scatterternary": [
           {
            "marker": {
             "colorbar": {
              "outlinewidth": 0,
              "ticks": ""
             }
            },
            "type": "scatterternary"
           }
          ],
          "surface": [
           {
            "colorbar": {
             "outlinewidth": 0,
             "ticks": ""
            },
            "colorscale": [
             [
              0,
              "#0d0887"
             ],
             [
              0.1111111111111111,
              "#46039f"
             ],
             [
              0.2222222222222222,
              "#7201a8"
             ],
             [
              0.3333333333333333,
              "#9c179e"
             ],
             [
              0.4444444444444444,
              "#bd3786"
             ],
             [
              0.5555555555555556,
              "#d8576b"
             ],
             [
              0.6666666666666666,
              "#ed7953"
             ],
             [
              0.7777777777777778,
              "#fb9f3a"
             ],
             [
              0.8888888888888888,
              "#fdca26"
             ],
             [
              1,
              "#f0f921"
             ]
            ],
            "type": "surface"
           }
          ],
          "table": [
           {
            "cells": {
             "fill": {
              "color": "#EBF0F8"
             },
             "line": {
              "color": "white"
             }
            },
            "header": {
             "fill": {
              "color": "#C8D4E3"
             },
             "line": {
              "color": "white"
             }
            },
            "type": "table"
           }
          ]
         },
         "layout": {
          "annotationdefaults": {
           "arrowcolor": "#2a3f5f",
           "arrowhead": 0,
           "arrowwidth": 1
          },
          "autotypenumbers": "strict",
          "coloraxis": {
           "colorbar": {
            "outlinewidth": 0,
            "ticks": ""
           }
          },
          "colorscale": {
           "diverging": [
            [
             0,
             "#8e0152"
            ],
            [
             0.1,
             "#c51b7d"
            ],
            [
             0.2,
             "#de77ae"
            ],
            [
             0.3,
             "#f1b6da"
            ],
            [
             0.4,
             "#fde0ef"
            ],
            [
             0.5,
             "#f7f7f7"
            ],
            [
             0.6,
             "#e6f5d0"
            ],
            [
             0.7,
             "#b8e186"
            ],
            [
             0.8,
             "#7fbc41"
            ],
            [
             0.9,
             "#4d9221"
            ],
            [
             1,
             "#276419"
            ]
           ],
           "sequential": [
            [
             0,
             "#0d0887"
            ],
            [
             0.1111111111111111,
             "#46039f"
            ],
            [
             0.2222222222222222,
             "#7201a8"
            ],
            [
             0.3333333333333333,
             "#9c179e"
            ],
            [
             0.4444444444444444,
             "#bd3786"
            ],
            [
             0.5555555555555556,
             "#d8576b"
            ],
            [
             0.6666666666666666,
             "#ed7953"
            ],
            [
             0.7777777777777778,
             "#fb9f3a"
            ],
            [
             0.8888888888888888,
             "#fdca26"
            ],
            [
             1,
             "#f0f921"
            ]
           ],
           "sequentialminus": [
            [
             0,
             "#0d0887"
            ],
            [
             0.1111111111111111,
             "#46039f"
            ],
            [
             0.2222222222222222,
             "#7201a8"
            ],
            [
             0.3333333333333333,
             "#9c179e"
            ],
            [
             0.4444444444444444,
             "#bd3786"
            ],
            [
             0.5555555555555556,
             "#d8576b"
            ],
            [
             0.6666666666666666,
             "#ed7953"
            ],
            [
             0.7777777777777778,
             "#fb9f3a"
            ],
            [
             0.8888888888888888,
             "#fdca26"
            ],
            [
             1,
             "#f0f921"
            ]
           ]
          },
          "colorway": [
           "#636efa",
           "#EF553B",
           "#00cc96",
           "#ab63fa",
           "#FFA15A",
           "#19d3f3",
           "#FF6692",
           "#B6E880",
           "#FF97FF",
           "#FECB52"
          ],
          "font": {
           "color": "#2a3f5f"
          },
          "geo": {
           "bgcolor": "white",
           "lakecolor": "white",
           "landcolor": "#E5ECF6",
           "showlakes": true,
           "showland": true,
           "subunitcolor": "white"
          },
          "hoverlabel": {
           "align": "left"
          },
          "hovermode": "closest",
          "mapbox": {
           "style": "light"
          },
          "paper_bgcolor": "white",
          "plot_bgcolor": "#E5ECF6",
          "polar": {
           "angularaxis": {
            "gridcolor": "white",
            "linecolor": "white",
            "ticks": ""
           },
           "bgcolor": "#E5ECF6",
           "radialaxis": {
            "gridcolor": "white",
            "linecolor": "white",
            "ticks": ""
           }
          },
          "scene": {
           "xaxis": {
            "backgroundcolor": "#E5ECF6",
            "gridcolor": "white",
            "gridwidth": 2,
            "linecolor": "white",
            "showbackground": true,
            "ticks": "",
            "zerolinecolor": "white"
           },
           "yaxis": {
            "backgroundcolor": "#E5ECF6",
            "gridcolor": "white",
            "gridwidth": 2,
            "linecolor": "white",
            "showbackground": true,
            "ticks": "",
            "zerolinecolor": "white"
           },
           "zaxis": {
            "backgroundcolor": "#E5ECF6",
            "gridcolor": "white",
            "gridwidth": 2,
            "linecolor": "white",
            "showbackground": true,
            "ticks": "",
            "zerolinecolor": "white"
           }
          },
          "shapedefaults": {
           "line": {
            "color": "#2a3f5f"
           }
          },
          "ternary": {
           "aaxis": {
            "gridcolor": "white",
            "linecolor": "white",
            "ticks": ""
           },
           "baxis": {
            "gridcolor": "white",
            "linecolor": "white",
            "ticks": ""
           },
           "bgcolor": "#E5ECF6",
           "caxis": {
            "gridcolor": "white",
            "linecolor": "white",
            "ticks": ""
           }
          },
          "title": {
           "x": 0.05
          },
          "xaxis": {
           "automargin": true,
           "gridcolor": "white",
           "linecolor": "white",
           "ticks": "",
           "title": {
            "standoff": 15
           },
           "zerolinecolor": "white",
           "zerolinewidth": 2
          },
          "yaxis": {
           "automargin": true,
           "gridcolor": "white",
           "linecolor": "white",
           "ticks": "",
           "title": {
            "standoff": 15
           },
           "zerolinecolor": "white",
           "zerolinewidth": 2
          }
         }
        },
        "title": {
         "text": "Optimization History Plot"
        },
        "xaxis": {
         "title": {
          "text": "Trial"
         }
        },
        "yaxis": {
         "title": {
          "text": "Objective Value"
         }
        }
       }
      }
     },
     "metadata": {},
     "output_type": "display_data"
    }
   ],
   "source": [
    "from optuna.visualization import plot_optimization_history\n",
    "\n",
    "fig = plot_optimization_history(study)\n",
    "fig.show()"
   ]
  },
  {
   "cell_type": "markdown",
   "metadata": {},
   "source": [
    "**Plot Hyperparameter Importance**\n",
    "\n",
    "This plot estimates the relative importance of each hyperparameter based on how they affect the objective function."
   ]
  },
  {
   "cell_type": "code",
   "execution_count": 23,
   "metadata": {},
   "outputs": [
    {
     "data": {
      "application/vnd.plotly.v1+json": {
       "config": {
        "plotlyServerURL": "https://plot.ly"
       },
       "data": [
        {
         "cliponaxis": false,
         "hovertemplate": [
          "learning_rate (FloatDistribution): 0.028838950121281688<extra></extra>",
          "batch_size (CategoricalDistribution): 0.037440874109867475<extra></extra>",
          "buffer_size (IntDistribution): 0.06652659752438332<extra></extra>",
          "noise_std (FloatDistribution): 0.13945340150769128<extra></extra>",
          "gamma (FloatDistribution): 0.2063049079245282<extra></extra>",
          "tau (FloatDistribution): 0.5214352688122479<extra></extra>"
         ],
         "name": "Objective Value",
         "orientation": "h",
         "text": [
          "0.03",
          "0.04",
          "0.07",
          "0.14",
          "0.21",
          "0.52"
         ],
         "textposition": "outside",
         "type": "bar",
         "x": [
          0.028838950121281688,
          0.037440874109867475,
          0.06652659752438332,
          0.13945340150769128,
          0.2063049079245282,
          0.5214352688122479
         ],
         "y": [
          "learning_rate",
          "batch_size",
          "buffer_size",
          "noise_std",
          "gamma",
          "tau"
         ]
        }
       ],
       "layout": {
        "template": {
         "data": {
          "bar": [
           {
            "error_x": {
             "color": "#2a3f5f"
            },
            "error_y": {
             "color": "#2a3f5f"
            },
            "marker": {
             "line": {
              "color": "#E5ECF6",
              "width": 0.5
             },
             "pattern": {
              "fillmode": "overlay",
              "size": 10,
              "solidity": 0.2
             }
            },
            "type": "bar"
           }
          ],
          "barpolar": [
           {
            "marker": {
             "line": {
              "color": "#E5ECF6",
              "width": 0.5
             },
             "pattern": {
              "fillmode": "overlay",
              "size": 10,
              "solidity": 0.2
             }
            },
            "type": "barpolar"
           }
          ],
          "carpet": [
           {
            "aaxis": {
             "endlinecolor": "#2a3f5f",
             "gridcolor": "white",
             "linecolor": "white",
             "minorgridcolor": "white",
             "startlinecolor": "#2a3f5f"
            },
            "baxis": {
             "endlinecolor": "#2a3f5f",
             "gridcolor": "white",
             "linecolor": "white",
             "minorgridcolor": "white",
             "startlinecolor": "#2a3f5f"
            },
            "type": "carpet"
           }
          ],
          "choropleth": [
           {
            "colorbar": {
             "outlinewidth": 0,
             "ticks": ""
            },
            "type": "choropleth"
           }
          ],
          "contour": [
           {
            "colorbar": {
             "outlinewidth": 0,
             "ticks": ""
            },
            "colorscale": [
             [
              0,
              "#0d0887"
             ],
             [
              0.1111111111111111,
              "#46039f"
             ],
             [
              0.2222222222222222,
              "#7201a8"
             ],
             [
              0.3333333333333333,
              "#9c179e"
             ],
             [
              0.4444444444444444,
              "#bd3786"
             ],
             [
              0.5555555555555556,
              "#d8576b"
             ],
             [
              0.6666666666666666,
              "#ed7953"
             ],
             [
              0.7777777777777778,
              "#fb9f3a"
             ],
             [
              0.8888888888888888,
              "#fdca26"
             ],
             [
              1,
              "#f0f921"
             ]
            ],
            "type": "contour"
           }
          ],
          "contourcarpet": [
           {
            "colorbar": {
             "outlinewidth": 0,
             "ticks": ""
            },
            "type": "contourcarpet"
           }
          ],
          "heatmap": [
           {
            "colorbar": {
             "outlinewidth": 0,
             "ticks": ""
            },
            "colorscale": [
             [
              0,
              "#0d0887"
             ],
             [
              0.1111111111111111,
              "#46039f"
             ],
             [
              0.2222222222222222,
              "#7201a8"
             ],
             [
              0.3333333333333333,
              "#9c179e"
             ],
             [
              0.4444444444444444,
              "#bd3786"
             ],
             [
              0.5555555555555556,
              "#d8576b"
             ],
             [
              0.6666666666666666,
              "#ed7953"
             ],
             [
              0.7777777777777778,
              "#fb9f3a"
             ],
             [
              0.8888888888888888,
              "#fdca26"
             ],
             [
              1,
              "#f0f921"
             ]
            ],
            "type": "heatmap"
           }
          ],
          "heatmapgl": [
           {
            "colorbar": {
             "outlinewidth": 0,
             "ticks": ""
            },
            "colorscale": [
             [
              0,
              "#0d0887"
             ],
             [
              0.1111111111111111,
              "#46039f"
             ],
             [
              0.2222222222222222,
              "#7201a8"
             ],
             [
              0.3333333333333333,
              "#9c179e"
             ],
             [
              0.4444444444444444,
              "#bd3786"
             ],
             [
              0.5555555555555556,
              "#d8576b"
             ],
             [
              0.6666666666666666,
              "#ed7953"
             ],
             [
              0.7777777777777778,
              "#fb9f3a"
             ],
             [
              0.8888888888888888,
              "#fdca26"
             ],
             [
              1,
              "#f0f921"
             ]
            ],
            "type": "heatmapgl"
           }
          ],
          "histogram": [
           {
            "marker": {
             "pattern": {
              "fillmode": "overlay",
              "size": 10,
              "solidity": 0.2
             }
            },
            "type": "histogram"
           }
          ],
          "histogram2d": [
           {
            "colorbar": {
             "outlinewidth": 0,
             "ticks": ""
            },
            "colorscale": [
             [
              0,
              "#0d0887"
             ],
             [
              0.1111111111111111,
              "#46039f"
             ],
             [
              0.2222222222222222,
              "#7201a8"
             ],
             [
              0.3333333333333333,
              "#9c179e"
             ],
             [
              0.4444444444444444,
              "#bd3786"
             ],
             [
              0.5555555555555556,
              "#d8576b"
             ],
             [
              0.6666666666666666,
              "#ed7953"
             ],
             [
              0.7777777777777778,
              "#fb9f3a"
             ],
             [
              0.8888888888888888,
              "#fdca26"
             ],
             [
              1,
              "#f0f921"
             ]
            ],
            "type": "histogram2d"
           }
          ],
          "histogram2dcontour": [
           {
            "colorbar": {
             "outlinewidth": 0,
             "ticks": ""
            },
            "colorscale": [
             [
              0,
              "#0d0887"
             ],
             [
              0.1111111111111111,
              "#46039f"
             ],
             [
              0.2222222222222222,
              "#7201a8"
             ],
             [
              0.3333333333333333,
              "#9c179e"
             ],
             [
              0.4444444444444444,
              "#bd3786"
             ],
             [
              0.5555555555555556,
              "#d8576b"
             ],
             [
              0.6666666666666666,
              "#ed7953"
             ],
             [
              0.7777777777777778,
              "#fb9f3a"
             ],
             [
              0.8888888888888888,
              "#fdca26"
             ],
             [
              1,
              "#f0f921"
             ]
            ],
            "type": "histogram2dcontour"
           }
          ],
          "mesh3d": [
           {
            "colorbar": {
             "outlinewidth": 0,
             "ticks": ""
            },
            "type": "mesh3d"
           }
          ],
          "parcoords": [
           {
            "line": {
             "colorbar": {
              "outlinewidth": 0,
              "ticks": ""
             }
            },
            "type": "parcoords"
           }
          ],
          "pie": [
           {
            "automargin": true,
            "type": "pie"
           }
          ],
          "scatter": [
           {
            "fillpattern": {
             "fillmode": "overlay",
             "size": 10,
             "solidity": 0.2
            },
            "type": "scatter"
           }
          ],
          "scatter3d": [
           {
            "line": {
             "colorbar": {
              "outlinewidth": 0,
              "ticks": ""
             }
            },
            "marker": {
             "colorbar": {
              "outlinewidth": 0,
              "ticks": ""
             }
            },
            "type": "scatter3d"
           }
          ],
          "scattercarpet": [
           {
            "marker": {
             "colorbar": {
              "outlinewidth": 0,
              "ticks": ""
             }
            },
            "type": "scattercarpet"
           }
          ],
          "scattergeo": [
           {
            "marker": {
             "colorbar": {
              "outlinewidth": 0,
              "ticks": ""
             }
            },
            "type": "scattergeo"
           }
          ],
          "scattergl": [
           {
            "marker": {
             "colorbar": {
              "outlinewidth": 0,
              "ticks": ""
             }
            },
            "type": "scattergl"
           }
          ],
          "scattermapbox": [
           {
            "marker": {
             "colorbar": {
              "outlinewidth": 0,
              "ticks": ""
             }
            },
            "type": "scattermapbox"
           }
          ],
          "scatterpolar": [
           {
            "marker": {
             "colorbar": {
              "outlinewidth": 0,
              "ticks": ""
             }
            },
            "type": "scatterpolar"
           }
          ],
          "scatterpolargl": [
           {
            "marker": {
             "colorbar": {
              "outlinewidth": 0,
              "ticks": ""
             }
            },
            "type": "scatterpolargl"
           }
          ],
          "scatterternary": [
           {
            "marker": {
             "colorbar": {
              "outlinewidth": 0,
              "ticks": ""
             }
            },
            "type": "scatterternary"
           }
          ],
          "surface": [
           {
            "colorbar": {
             "outlinewidth": 0,
             "ticks": ""
            },
            "colorscale": [
             [
              0,
              "#0d0887"
             ],
             [
              0.1111111111111111,
              "#46039f"
             ],
             [
              0.2222222222222222,
              "#7201a8"
             ],
             [
              0.3333333333333333,
              "#9c179e"
             ],
             [
              0.4444444444444444,
              "#bd3786"
             ],
             [
              0.5555555555555556,
              "#d8576b"
             ],
             [
              0.6666666666666666,
              "#ed7953"
             ],
             [
              0.7777777777777778,
              "#fb9f3a"
             ],
             [
              0.8888888888888888,
              "#fdca26"
             ],
             [
              1,
              "#f0f921"
             ]
            ],
            "type": "surface"
           }
          ],
          "table": [
           {
            "cells": {
             "fill": {
              "color": "#EBF0F8"
             },
             "line": {
              "color": "white"
             }
            },
            "header": {
             "fill": {
              "color": "#C8D4E3"
             },
             "line": {
              "color": "white"
             }
            },
            "type": "table"
           }
          ]
         },
         "layout": {
          "annotationdefaults": {
           "arrowcolor": "#2a3f5f",
           "arrowhead": 0,
           "arrowwidth": 1
          },
          "autotypenumbers": "strict",
          "coloraxis": {
           "colorbar": {
            "outlinewidth": 0,
            "ticks": ""
           }
          },
          "colorscale": {
           "diverging": [
            [
             0,
             "#8e0152"
            ],
            [
             0.1,
             "#c51b7d"
            ],
            [
             0.2,
             "#de77ae"
            ],
            [
             0.3,
             "#f1b6da"
            ],
            [
             0.4,
             "#fde0ef"
            ],
            [
             0.5,
             "#f7f7f7"
            ],
            [
             0.6,
             "#e6f5d0"
            ],
            [
             0.7,
             "#b8e186"
            ],
            [
             0.8,
             "#7fbc41"
            ],
            [
             0.9,
             "#4d9221"
            ],
            [
             1,
             "#276419"
            ]
           ],
           "sequential": [
            [
             0,
             "#0d0887"
            ],
            [
             0.1111111111111111,
             "#46039f"
            ],
            [
             0.2222222222222222,
             "#7201a8"
            ],
            [
             0.3333333333333333,
             "#9c179e"
            ],
            [
             0.4444444444444444,
             "#bd3786"
            ],
            [
             0.5555555555555556,
             "#d8576b"
            ],
            [
             0.6666666666666666,
             "#ed7953"
            ],
            [
             0.7777777777777778,
             "#fb9f3a"
            ],
            [
             0.8888888888888888,
             "#fdca26"
            ],
            [
             1,
             "#f0f921"
            ]
           ],
           "sequentialminus": [
            [
             0,
             "#0d0887"
            ],
            [
             0.1111111111111111,
             "#46039f"
            ],
            [
             0.2222222222222222,
             "#7201a8"
            ],
            [
             0.3333333333333333,
             "#9c179e"
            ],
            [
             0.4444444444444444,
             "#bd3786"
            ],
            [
             0.5555555555555556,
             "#d8576b"
            ],
            [
             0.6666666666666666,
             "#ed7953"
            ],
            [
             0.7777777777777778,
             "#fb9f3a"
            ],
            [
             0.8888888888888888,
             "#fdca26"
            ],
            [
             1,
             "#f0f921"
            ]
           ]
          },
          "colorway": [
           "#636efa",
           "#EF553B",
           "#00cc96",
           "#ab63fa",
           "#FFA15A",
           "#19d3f3",
           "#FF6692",
           "#B6E880",
           "#FF97FF",
           "#FECB52"
          ],
          "font": {
           "color": "#2a3f5f"
          },
          "geo": {
           "bgcolor": "white",
           "lakecolor": "white",
           "landcolor": "#E5ECF6",
           "showlakes": true,
           "showland": true,
           "subunitcolor": "white"
          },
          "hoverlabel": {
           "align": "left"
          },
          "hovermode": "closest",
          "mapbox": {
           "style": "light"
          },
          "paper_bgcolor": "white",
          "plot_bgcolor": "#E5ECF6",
          "polar": {
           "angularaxis": {
            "gridcolor": "white",
            "linecolor": "white",
            "ticks": ""
           },
           "bgcolor": "#E5ECF6",
           "radialaxis": {
            "gridcolor": "white",
            "linecolor": "white",
            "ticks": ""
           }
          },
          "scene": {
           "xaxis": {
            "backgroundcolor": "#E5ECF6",
            "gridcolor": "white",
            "gridwidth": 2,
            "linecolor": "white",
            "showbackground": true,
            "ticks": "",
            "zerolinecolor": "white"
           },
           "yaxis": {
            "backgroundcolor": "#E5ECF6",
            "gridcolor": "white",
            "gridwidth": 2,
            "linecolor": "white",
            "showbackground": true,
            "ticks": "",
            "zerolinecolor": "white"
           },
           "zaxis": {
            "backgroundcolor": "#E5ECF6",
            "gridcolor": "white",
            "gridwidth": 2,
            "linecolor": "white",
            "showbackground": true,
            "ticks": "",
            "zerolinecolor": "white"
           }
          },
          "shapedefaults": {
           "line": {
            "color": "#2a3f5f"
           }
          },
          "ternary": {
           "aaxis": {
            "gridcolor": "white",
            "linecolor": "white",
            "ticks": ""
           },
           "baxis": {
            "gridcolor": "white",
            "linecolor": "white",
            "ticks": ""
           },
           "bgcolor": "#E5ECF6",
           "caxis": {
            "gridcolor": "white",
            "linecolor": "white",
            "ticks": ""
           }
          },
          "title": {
           "x": 0.05
          },
          "xaxis": {
           "automargin": true,
           "gridcolor": "white",
           "linecolor": "white",
           "ticks": "",
           "title": {
            "standoff": 15
           },
           "zerolinecolor": "white",
           "zerolinewidth": 2
          },
          "yaxis": {
           "automargin": true,
           "gridcolor": "white",
           "linecolor": "white",
           "ticks": "",
           "title": {
            "standoff": 15
           },
           "zerolinecolor": "white",
           "zerolinewidth": 2
          }
         }
        },
        "title": {
         "text": "Hyperparameter Importances"
        },
        "xaxis": {
         "title": {
          "text": "Hyperparameter Importance"
         }
        },
        "yaxis": {
         "title": {
          "text": "Hyperparameter"
         }
        }
       }
      }
     },
     "metadata": {},
     "output_type": "display_data"
    }
   ],
   "source": [
    "from optuna.visualization import plot_param_importances\n",
    "\n",
    "fig = plot_param_importances(study)\n",
    "fig.show()"
   ]
  },
  {
   "cell_type": "markdown",
   "metadata": {},
   "source": [
    "**Parallel Coordinate Plot**\n",
    "\n",
    "This plot helps visualize the relationships between hyperparameters and the objective value. It’s useful for spotting trends or correlations."
   ]
  },
  {
   "cell_type": "code",
   "execution_count": 20,
   "metadata": {},
   "outputs": [
    {
     "data": {
      "application/vnd.plotly.v1+json": {
       "config": {
        "plotlyServerURL": "https://plot.ly"
       },
       "data": [
        {
         "dimensions": [
          {
           "label": "Objective Value",
           "range": [
            -19549814.73,
            -54319.630000000005
           ],
           "values": [
            -56869.409999999996,
            -57017.11,
            -54319.630000000005,
            -57692.490000000005,
            -63909.490000000005,
            -56636.922,
            -56457.295999999995,
            -57692.2,
            -57957.740000000005,
            -57176.716,
            -56894.962,
            -56369.626000000004,
            -57662.407999999996,
            -57028.94600000001,
            -54626.590000000004,
            -56306.902,
            -56235.48,
            -57134.58,
            -57585.958,
            -19549814.73,
            -55815.621999999996,
            -55304.654,
            -56246.052,
            -56172.68200000001,
            -62513.752
           ]
          },
          {
           "label": "batch_size",
           "range": [
            0,
            3
           ],
           "ticktext": [
            "32",
            "64",
            "128",
            "256"
           ],
           "tickvals": [
            0,
            1,
            2,
            3
           ],
           "values": [
            0,
            0,
            0,
            0,
            0,
            0,
            0,
            1,
            1,
            1,
            2,
            2,
            2,
            3,
            3,
            3,
            3,
            3,
            3,
            3,
            3,
            3,
            3,
            3,
            3
           ]
          },
          {
           "label": "buffer_size",
           "range": [
            50000,
            500000
           ],
           "values": [
            350000,
            450000,
            250000,
            400000,
            150000,
            200000,
            300000,
            250000,
            250000,
            150000,
            400000,
            500000,
            200000,
            50000,
            100000,
            100000,
            150000,
            300000,
            50000,
            100000,
            200000,
            200000,
            100000,
            250000,
            200000
           ]
          },
          {
           "label": "gamma",
           "range": [
            0.9019352825221195,
            0.991734064392131
           ],
           "values": [
            0.9206097195855281,
            0.9557228564582686,
            0.9635749641192399,
            0.9826048292201849,
            0.935028002418254,
            0.9019352825221195,
            0.9604047030602296,
            0.9704343706710925,
            0.9893001327119111,
            0.9551415511242626,
            0.991734064392131,
            0.920468262220192,
            0.9737426144945708,
            0.9631174579822008,
            0.9497968235255966,
            0.9426452609614562,
            0.9461070376872395,
            0.9725514776636865,
            0.9306844399486447,
            0.9400781671181636,
            0.926364134131323,
            0.9216484011486659,
            0.9096140750982753,
            0.9483505657961858,
            0.9123476930941506
           ]
          },
          {
           "label": "learning_rate",
           "range": [
            -4.89246900747607,
            -3.069218433135079
           ],
           "ticktext": [
            "1.28e-05",
            "0.0001",
            "0.000853"
           ],
           "tickvals": [
            -4.89246900747607,
            -4,
            -3.069218433135079
           ],
           "values": [
            -3.5457707388710924,
            -3.884449994054773,
            -4.272156896070049,
            -4.376336541022443,
            -4.364926847028864,
            -4.8634307491677635,
            -3.7397785070805543,
            -4.434139069232654,
            -3.4471522346242542,
            -4.081413143171824,
            -4.89246900747607,
            -3.830302189791528,
            -3.2895725499445505,
            -3.549780714019655,
            -3.45550865707136,
            -3.1029742026631233,
            -3.069218433135079,
            -4.202078088770541,
            -4.62988544244299,
            -4.088335264355351,
            -4.681515681162233,
            -4.641764746988243,
            -4.611965268046152,
            -4.2556352435507065,
            -4.513275706676149
           ]
          },
          {
           "label": "noise_std",
           "range": [
            0.10044825719284384,
            0.4883902693609067
           ],
           "values": [
            0.15862163909933125,
            0.2540150568313335,
            0.18720161137015176,
            0.3617339115399135,
            0.10209472718990625,
            0.10044825719284384,
            0.20652291135947348,
            0.3545390930971707,
            0.4347943637537365,
            0.30063316972951354,
            0.4883902693609067,
            0.3497946626632852,
            0.1558134306050329,
            0.20951677991709033,
            0.2473782787839689,
            0.2510889857943497,
            0.17552967526098973,
            0.2810514833732746,
            0.20781340636946707,
            0.30752924323583264,
            0.24916479341312883,
            0.24354150134350885,
            0.1851320757830969,
            0.13903253090622913,
            0.23494929016068264
           ]
          },
          {
           "label": "tau",
           "range": [
            -2.98491215548488,
            -1.0111672585865488
           ],
           "ticktext": [
            "0.00104",
            "0.01",
            "0.0975"
           ],
           "tickvals": [
            -2.98491215548488,
            -2,
            -1.0111672585865488
           ],
           "values": [
            -2.141502858537795,
            -2.925191149692683,
            -2.6996766958226406,
            -2.1644426575753104,
            -2.98491215548488,
            -2.534951940735574,
            -1.2979100947156905,
            -2.0141604298768296,
            -1.664179654462512,
            -2.653794803093386,
            -2.2775334820483963,
            -1.5044556768994457,
            -1.8936068646186277,
            -2.5314860288001033,
            -1.3404074346659436,
            -1.033505330510961,
            -1.0111672585865488,
            -1.616328554235302,
            -1.305950941441465,
            -2.7795199422020254,
            -2.4307730423794567,
            -2.3363950257711363,
            -2.340298927051887,
            -1.8910215398194516,
            -2.71650062635709
           ]
          }
         ],
         "labelangle": 30,
         "labelside": "bottom",
         "line": {
          "color": [
           -56869.409999999996,
           -57017.11,
           -54319.630000000005,
           -57692.490000000005,
           -63909.490000000005,
           -56636.922,
           -56457.295999999995,
           -57692.2,
           -57957.740000000005,
           -57176.716,
           -56894.962,
           -56369.626000000004,
           -57662.407999999996,
           -57028.94600000001,
           -54626.590000000004,
           -56306.902,
           -56235.48,
           -57134.58,
           -57585.958,
           -19549814.73,
           -55815.621999999996,
           -55304.654,
           -56246.052,
           -56172.68200000001,
           -62513.752
          ],
          "colorbar": {
           "title": {
            "text": "Objective Value"
           }
          },
          "colorscale": [
           [
            0,
            "rgb(247,251,255)"
           ],
           [
            0.125,
            "rgb(222,235,247)"
           ],
           [
            0.25,
            "rgb(198,219,239)"
           ],
           [
            0.375,
            "rgb(158,202,225)"
           ],
           [
            0.5,
            "rgb(107,174,214)"
           ],
           [
            0.625,
            "rgb(66,146,198)"
           ],
           [
            0.75,
            "rgb(33,113,181)"
           ],
           [
            0.875,
            "rgb(8,81,156)"
           ],
           [
            1,
            "rgb(8,48,107)"
           ]
          ],
          "reversescale": false,
          "showscale": true
         },
         "type": "parcoords"
        }
       ],
       "layout": {
        "template": {
         "data": {
          "bar": [
           {
            "error_x": {
             "color": "#2a3f5f"
            },
            "error_y": {
             "color": "#2a3f5f"
            },
            "marker": {
             "line": {
              "color": "#E5ECF6",
              "width": 0.5
             },
             "pattern": {
              "fillmode": "overlay",
              "size": 10,
              "solidity": 0.2
             }
            },
            "type": "bar"
           }
          ],
          "barpolar": [
           {
            "marker": {
             "line": {
              "color": "#E5ECF6",
              "width": 0.5
             },
             "pattern": {
              "fillmode": "overlay",
              "size": 10,
              "solidity": 0.2
             }
            },
            "type": "barpolar"
           }
          ],
          "carpet": [
           {
            "aaxis": {
             "endlinecolor": "#2a3f5f",
             "gridcolor": "white",
             "linecolor": "white",
             "minorgridcolor": "white",
             "startlinecolor": "#2a3f5f"
            },
            "baxis": {
             "endlinecolor": "#2a3f5f",
             "gridcolor": "white",
             "linecolor": "white",
             "minorgridcolor": "white",
             "startlinecolor": "#2a3f5f"
            },
            "type": "carpet"
           }
          ],
          "choropleth": [
           {
            "colorbar": {
             "outlinewidth": 0,
             "ticks": ""
            },
            "type": "choropleth"
           }
          ],
          "contour": [
           {
            "colorbar": {
             "outlinewidth": 0,
             "ticks": ""
            },
            "colorscale": [
             [
              0,
              "#0d0887"
             ],
             [
              0.1111111111111111,
              "#46039f"
             ],
             [
              0.2222222222222222,
              "#7201a8"
             ],
             [
              0.3333333333333333,
              "#9c179e"
             ],
             [
              0.4444444444444444,
              "#bd3786"
             ],
             [
              0.5555555555555556,
              "#d8576b"
             ],
             [
              0.6666666666666666,
              "#ed7953"
             ],
             [
              0.7777777777777778,
              "#fb9f3a"
             ],
             [
              0.8888888888888888,
              "#fdca26"
             ],
             [
              1,
              "#f0f921"
             ]
            ],
            "type": "contour"
           }
          ],
          "contourcarpet": [
           {
            "colorbar": {
             "outlinewidth": 0,
             "ticks": ""
            },
            "type": "contourcarpet"
           }
          ],
          "heatmap": [
           {
            "colorbar": {
             "outlinewidth": 0,
             "ticks": ""
            },
            "colorscale": [
             [
              0,
              "#0d0887"
             ],
             [
              0.1111111111111111,
              "#46039f"
             ],
             [
              0.2222222222222222,
              "#7201a8"
             ],
             [
              0.3333333333333333,
              "#9c179e"
             ],
             [
              0.4444444444444444,
              "#bd3786"
             ],
             [
              0.5555555555555556,
              "#d8576b"
             ],
             [
              0.6666666666666666,
              "#ed7953"
             ],
             [
              0.7777777777777778,
              "#fb9f3a"
             ],
             [
              0.8888888888888888,
              "#fdca26"
             ],
             [
              1,
              "#f0f921"
             ]
            ],
            "type": "heatmap"
           }
          ],
          "heatmapgl": [
           {
            "colorbar": {
             "outlinewidth": 0,
             "ticks": ""
            },
            "colorscale": [
             [
              0,
              "#0d0887"
             ],
             [
              0.1111111111111111,
              "#46039f"
             ],
             [
              0.2222222222222222,
              "#7201a8"
             ],
             [
              0.3333333333333333,
              "#9c179e"
             ],
             [
              0.4444444444444444,
              "#bd3786"
             ],
             [
              0.5555555555555556,
              "#d8576b"
             ],
             [
              0.6666666666666666,
              "#ed7953"
             ],
             [
              0.7777777777777778,
              "#fb9f3a"
             ],
             [
              0.8888888888888888,
              "#fdca26"
             ],
             [
              1,
              "#f0f921"
             ]
            ],
            "type": "heatmapgl"
           }
          ],
          "histogram": [
           {
            "marker": {
             "pattern": {
              "fillmode": "overlay",
              "size": 10,
              "solidity": 0.2
             }
            },
            "type": "histogram"
           }
          ],
          "histogram2d": [
           {
            "colorbar": {
             "outlinewidth": 0,
             "ticks": ""
            },
            "colorscale": [
             [
              0,
              "#0d0887"
             ],
             [
              0.1111111111111111,
              "#46039f"
             ],
             [
              0.2222222222222222,
              "#7201a8"
             ],
             [
              0.3333333333333333,
              "#9c179e"
             ],
             [
              0.4444444444444444,
              "#bd3786"
             ],
             [
              0.5555555555555556,
              "#d8576b"
             ],
             [
              0.6666666666666666,
              "#ed7953"
             ],
             [
              0.7777777777777778,
              "#fb9f3a"
             ],
             [
              0.8888888888888888,
              "#fdca26"
             ],
             [
              1,
              "#f0f921"
             ]
            ],
            "type": "histogram2d"
           }
          ],
          "histogram2dcontour": [
           {
            "colorbar": {
             "outlinewidth": 0,
             "ticks": ""
            },
            "colorscale": [
             [
              0,
              "#0d0887"
             ],
             [
              0.1111111111111111,
              "#46039f"
             ],
             [
              0.2222222222222222,
              "#7201a8"
             ],
             [
              0.3333333333333333,
              "#9c179e"
             ],
             [
              0.4444444444444444,
              "#bd3786"
             ],
             [
              0.5555555555555556,
              "#d8576b"
             ],
             [
              0.6666666666666666,
              "#ed7953"
             ],
             [
              0.7777777777777778,
              "#fb9f3a"
             ],
             [
              0.8888888888888888,
              "#fdca26"
             ],
             [
              1,
              "#f0f921"
             ]
            ],
            "type": "histogram2dcontour"
           }
          ],
          "mesh3d": [
           {
            "colorbar": {
             "outlinewidth": 0,
             "ticks": ""
            },
            "type": "mesh3d"
           }
          ],
          "parcoords": [
           {
            "line": {
             "colorbar": {
              "outlinewidth": 0,
              "ticks": ""
             }
            },
            "type": "parcoords"
           }
          ],
          "pie": [
           {
            "automargin": true,
            "type": "pie"
           }
          ],
          "scatter": [
           {
            "fillpattern": {
             "fillmode": "overlay",
             "size": 10,
             "solidity": 0.2
            },
            "type": "scatter"
           }
          ],
          "scatter3d": [
           {
            "line": {
             "colorbar": {
              "outlinewidth": 0,
              "ticks": ""
             }
            },
            "marker": {
             "colorbar": {
              "outlinewidth": 0,
              "ticks": ""
             }
            },
            "type": "scatter3d"
           }
          ],
          "scattercarpet": [
           {
            "marker": {
             "colorbar": {
              "outlinewidth": 0,
              "ticks": ""
             }
            },
            "type": "scattercarpet"
           }
          ],
          "scattergeo": [
           {
            "marker": {
             "colorbar": {
              "outlinewidth": 0,
              "ticks": ""
             }
            },
            "type": "scattergeo"
           }
          ],
          "scattergl": [
           {
            "marker": {
             "colorbar": {
              "outlinewidth": 0,
              "ticks": ""
             }
            },
            "type": "scattergl"
           }
          ],
          "scattermapbox": [
           {
            "marker": {
             "colorbar": {
              "outlinewidth": 0,
              "ticks": ""
             }
            },
            "type": "scattermapbox"
           }
          ],
          "scatterpolar": [
           {
            "marker": {
             "colorbar": {
              "outlinewidth": 0,
              "ticks": ""
             }
            },
            "type": "scatterpolar"
           }
          ],
          "scatterpolargl": [
           {
            "marker": {
             "colorbar": {
              "outlinewidth": 0,
              "ticks": ""
             }
            },
            "type": "scatterpolargl"
           }
          ],
          "scatterternary": [
           {
            "marker": {
             "colorbar": {
              "outlinewidth": 0,
              "ticks": ""
             }
            },
            "type": "scatterternary"
           }
          ],
          "surface": [
           {
            "colorbar": {
             "outlinewidth": 0,
             "ticks": ""
            },
            "colorscale": [
             [
              0,
              "#0d0887"
             ],
             [
              0.1111111111111111,
              "#46039f"
             ],
             [
              0.2222222222222222,
              "#7201a8"
             ],
             [
              0.3333333333333333,
              "#9c179e"
             ],
             [
              0.4444444444444444,
              "#bd3786"
             ],
             [
              0.5555555555555556,
              "#d8576b"
             ],
             [
              0.6666666666666666,
              "#ed7953"
             ],
             [
              0.7777777777777778,
              "#fb9f3a"
             ],
             [
              0.8888888888888888,
              "#fdca26"
             ],
             [
              1,
              "#f0f921"
             ]
            ],
            "type": "surface"
           }
          ],
          "table": [
           {
            "cells": {
             "fill": {
              "color": "#EBF0F8"
             },
             "line": {
              "color": "white"
             }
            },
            "header": {
             "fill": {
              "color": "#C8D4E3"
             },
             "line": {
              "color": "white"
             }
            },
            "type": "table"
           }
          ]
         },
         "layout": {
          "annotationdefaults": {
           "arrowcolor": "#2a3f5f",
           "arrowhead": 0,
           "arrowwidth": 1
          },
          "autotypenumbers": "strict",
          "coloraxis": {
           "colorbar": {
            "outlinewidth": 0,
            "ticks": ""
           }
          },
          "colorscale": {
           "diverging": [
            [
             0,
             "#8e0152"
            ],
            [
             0.1,
             "#c51b7d"
            ],
            [
             0.2,
             "#de77ae"
            ],
            [
             0.3,
             "#f1b6da"
            ],
            [
             0.4,
             "#fde0ef"
            ],
            [
             0.5,
             "#f7f7f7"
            ],
            [
             0.6,
             "#e6f5d0"
            ],
            [
             0.7,
             "#b8e186"
            ],
            [
             0.8,
             "#7fbc41"
            ],
            [
             0.9,
             "#4d9221"
            ],
            [
             1,
             "#276419"
            ]
           ],
           "sequential": [
            [
             0,
             "#0d0887"
            ],
            [
             0.1111111111111111,
             "#46039f"
            ],
            [
             0.2222222222222222,
             "#7201a8"
            ],
            [
             0.3333333333333333,
             "#9c179e"
            ],
            [
             0.4444444444444444,
             "#bd3786"
            ],
            [
             0.5555555555555556,
             "#d8576b"
            ],
            [
             0.6666666666666666,
             "#ed7953"
            ],
            [
             0.7777777777777778,
             "#fb9f3a"
            ],
            [
             0.8888888888888888,
             "#fdca26"
            ],
            [
             1,
             "#f0f921"
            ]
           ],
           "sequentialminus": [
            [
             0,
             "#0d0887"
            ],
            [
             0.1111111111111111,
             "#46039f"
            ],
            [
             0.2222222222222222,
             "#7201a8"
            ],
            [
             0.3333333333333333,
             "#9c179e"
            ],
            [
             0.4444444444444444,
             "#bd3786"
            ],
            [
             0.5555555555555556,
             "#d8576b"
            ],
            [
             0.6666666666666666,
             "#ed7953"
            ],
            [
             0.7777777777777778,
             "#fb9f3a"
            ],
            [
             0.8888888888888888,
             "#fdca26"
            ],
            [
             1,
             "#f0f921"
            ]
           ]
          },
          "colorway": [
           "#636efa",
           "#EF553B",
           "#00cc96",
           "#ab63fa",
           "#FFA15A",
           "#19d3f3",
           "#FF6692",
           "#B6E880",
           "#FF97FF",
           "#FECB52"
          ],
          "font": {
           "color": "#2a3f5f"
          },
          "geo": {
           "bgcolor": "white",
           "lakecolor": "white",
           "landcolor": "#E5ECF6",
           "showlakes": true,
           "showland": true,
           "subunitcolor": "white"
          },
          "hoverlabel": {
           "align": "left"
          },
          "hovermode": "closest",
          "mapbox": {
           "style": "light"
          },
          "paper_bgcolor": "white",
          "plot_bgcolor": "#E5ECF6",
          "polar": {
           "angularaxis": {
            "gridcolor": "white",
            "linecolor": "white",
            "ticks": ""
           },
           "bgcolor": "#E5ECF6",
           "radialaxis": {
            "gridcolor": "white",
            "linecolor": "white",
            "ticks": ""
           }
          },
          "scene": {
           "xaxis": {
            "backgroundcolor": "#E5ECF6",
            "gridcolor": "white",
            "gridwidth": 2,
            "linecolor": "white",
            "showbackground": true,
            "ticks": "",
            "zerolinecolor": "white"
           },
           "yaxis": {
            "backgroundcolor": "#E5ECF6",
            "gridcolor": "white",
            "gridwidth": 2,
            "linecolor": "white",
            "showbackground": true,
            "ticks": "",
            "zerolinecolor": "white"
           },
           "zaxis": {
            "backgroundcolor": "#E5ECF6",
            "gridcolor": "white",
            "gridwidth": 2,
            "linecolor": "white",
            "showbackground": true,
            "ticks": "",
            "zerolinecolor": "white"
           }
          },
          "shapedefaults": {
           "line": {
            "color": "#2a3f5f"
           }
          },
          "ternary": {
           "aaxis": {
            "gridcolor": "white",
            "linecolor": "white",
            "ticks": ""
           },
           "baxis": {
            "gridcolor": "white",
            "linecolor": "white",
            "ticks": ""
           },
           "bgcolor": "#E5ECF6",
           "caxis": {
            "gridcolor": "white",
            "linecolor": "white",
            "ticks": ""
           }
          },
          "title": {
           "x": 0.05
          },
          "xaxis": {
           "automargin": true,
           "gridcolor": "white",
           "linecolor": "white",
           "ticks": "",
           "title": {
            "standoff": 15
           },
           "zerolinecolor": "white",
           "zerolinewidth": 2
          },
          "yaxis": {
           "automargin": true,
           "gridcolor": "white",
           "linecolor": "white",
           "ticks": "",
           "title": {
            "standoff": 15
           },
           "zerolinecolor": "white",
           "zerolinewidth": 2
          }
         }
        },
        "title": {
         "text": "Parallel Coordinate Plot"
        }
       }
      }
     },
     "metadata": {},
     "output_type": "display_data"
    }
   ],
   "source": [
    "from optuna.visualization import plot_parallel_coordinate\n",
    "\n",
    "fig = plot_parallel_coordinate(study)\n",
    "fig.show()"
   ]
  },
  {
   "cell_type": "markdown",
   "metadata": {},
   "source": [
    "**Slice Plot**\n",
    "\n",
    "This plot visualizes the objective value across the range of each hyperparameter, helping understand how each parameter influences the outcome."
   ]
  },
  {
   "cell_type": "code",
   "execution_count": 21,
   "metadata": {},
   "outputs": [
    {
     "data": {
      "application/vnd.plotly.v1+json": {
       "config": {
        "plotlyServerURL": "https://plot.ly"
       },
       "data": [
        {
         "marker": {
          "color": [
           0,
           1,
           2,
           3,
           4,
           5,
           6,
           7,
           8,
           9,
           10,
           11,
           12,
           13,
           14,
           15,
           16,
           17,
           18,
           19,
           20,
           21,
           22,
           23,
           24
          ],
          "colorbar": {
           "title": {
            "text": "Trial"
           },
           "x": 1,
           "xpad": 40
          },
          "colorscale": [
           [
            0,
            "rgb(247,251,255)"
           ],
           [
            0.125,
            "rgb(222,235,247)"
           ],
           [
            0.25,
            "rgb(198,219,239)"
           ],
           [
            0.375,
            "rgb(158,202,225)"
           ],
           [
            0.5,
            "rgb(107,174,214)"
           ],
           [
            0.625,
            "rgb(66,146,198)"
           ],
           [
            0.75,
            "rgb(33,113,181)"
           ],
           [
            0.875,
            "rgb(8,81,156)"
           ],
           [
            1,
            "rgb(8,48,107)"
           ]
          ],
          "line": {
           "color": "Grey",
           "width": 0.5
          },
          "showscale": true
         },
         "mode": "markers",
         "name": "Feasible Trial",
         "showlegend": false,
         "type": "scatter",
         "x": [
          256,
          32,
          64,
          256,
          32,
          128,
          64,
          32,
          128,
          32,
          32,
          256,
          256,
          256,
          32,
          256,
          64,
          128,
          32,
          256,
          256,
          256,
          256,
          256,
          256
         ],
         "xaxis": "x",
         "y": [
          -57028.94600000001,
          -56869.409999999996,
          -57692.2,
          -54626.590000000004,
          -57017.11,
          -56894.962,
          -57957.740000000005,
          -54319.630000000005,
          -56369.626000000004,
          -57692.490000000005,
          -63909.490000000005,
          -56306.902,
          -56235.48,
          -57134.58,
          -56636.922,
          -57585.958,
          -57176.716,
          -57662.407999999996,
          -56457.295999999995,
          -19549814.73,
          -55815.621999999996,
          -55304.654,
          -56246.052,
          -56172.68200000001,
          -62513.752
         ],
         "yaxis": "y"
        },
        {
         "marker": {
          "color": [
           0,
           1,
           2,
           3,
           4,
           5,
           6,
           7,
           8,
           9,
           10,
           11,
           12,
           13,
           14,
           15,
           16,
           17,
           18,
           19,
           20,
           21,
           22,
           23,
           24
          ],
          "colorbar": {
           "title": {
            "text": "Trial"
           },
           "x": 1,
           "xpad": 40
          },
          "colorscale": [
           [
            0,
            "rgb(247,251,255)"
           ],
           [
            0.125,
            "rgb(222,235,247)"
           ],
           [
            0.25,
            "rgb(198,219,239)"
           ],
           [
            0.375,
            "rgb(158,202,225)"
           ],
           [
            0.5,
            "rgb(107,174,214)"
           ],
           [
            0.625,
            "rgb(66,146,198)"
           ],
           [
            0.75,
            "rgb(33,113,181)"
           ],
           [
            0.875,
            "rgb(8,81,156)"
           ],
           [
            1,
            "rgb(8,48,107)"
           ]
          ],
          "line": {
           "color": "Grey",
           "width": 0.5
          },
          "showscale": false
         },
         "mode": "markers",
         "name": "Feasible Trial",
         "showlegend": false,
         "type": "scatter",
         "x": [
          50000,
          350000,
          250000,
          100000,
          450000,
          400000,
          250000,
          250000,
          500000,
          400000,
          150000,
          100000,
          150000,
          300000,
          200000,
          50000,
          150000,
          200000,
          300000,
          100000,
          200000,
          200000,
          100000,
          250000,
          200000
         ],
         "xaxis": "x2",
         "y": [
          -57028.94600000001,
          -56869.409999999996,
          -57692.2,
          -54626.590000000004,
          -57017.11,
          -56894.962,
          -57957.740000000005,
          -54319.630000000005,
          -56369.626000000004,
          -57692.490000000005,
          -63909.490000000005,
          -56306.902,
          -56235.48,
          -57134.58,
          -56636.922,
          -57585.958,
          -57176.716,
          -57662.407999999996,
          -56457.295999999995,
          -19549814.73,
          -55815.621999999996,
          -55304.654,
          -56246.052,
          -56172.68200000001,
          -62513.752
         ],
         "yaxis": "y2"
        },
        {
         "marker": {
          "color": [
           0,
           1,
           2,
           3,
           4,
           5,
           6,
           7,
           8,
           9,
           10,
           11,
           12,
           13,
           14,
           15,
           16,
           17,
           18,
           19,
           20,
           21,
           22,
           23,
           24
          ],
          "colorbar": {
           "title": {
            "text": "Trial"
           },
           "x": 1,
           "xpad": 40
          },
          "colorscale": [
           [
            0,
            "rgb(247,251,255)"
           ],
           [
            0.125,
            "rgb(222,235,247)"
           ],
           [
            0.25,
            "rgb(198,219,239)"
           ],
           [
            0.375,
            "rgb(158,202,225)"
           ],
           [
            0.5,
            "rgb(107,174,214)"
           ],
           [
            0.625,
            "rgb(66,146,198)"
           ],
           [
            0.75,
            "rgb(33,113,181)"
           ],
           [
            0.875,
            "rgb(8,81,156)"
           ],
           [
            1,
            "rgb(8,48,107)"
           ]
          ],
          "line": {
           "color": "Grey",
           "width": 0.5
          },
          "showscale": false
         },
         "mode": "markers",
         "name": "Feasible Trial",
         "showlegend": false,
         "type": "scatter",
         "x": [
          0.9631174579822008,
          0.9206097195855281,
          0.9704343706710925,
          0.9497968235255966,
          0.9557228564582686,
          0.991734064392131,
          0.9893001327119111,
          0.9635749641192399,
          0.920468262220192,
          0.9826048292201849,
          0.935028002418254,
          0.9426452609614562,
          0.9461070376872395,
          0.9725514776636865,
          0.9019352825221195,
          0.9306844399486447,
          0.9551415511242626,
          0.9737426144945708,
          0.9604047030602296,
          0.9400781671181636,
          0.926364134131323,
          0.9216484011486659,
          0.9096140750982753,
          0.9483505657961858,
          0.9123476930941506
         ],
         "xaxis": "x3",
         "y": [
          -57028.94600000001,
          -56869.409999999996,
          -57692.2,
          -54626.590000000004,
          -57017.11,
          -56894.962,
          -57957.740000000005,
          -54319.630000000005,
          -56369.626000000004,
          -57692.490000000005,
          -63909.490000000005,
          -56306.902,
          -56235.48,
          -57134.58,
          -56636.922,
          -57585.958,
          -57176.716,
          -57662.407999999996,
          -56457.295999999995,
          -19549814.73,
          -55815.621999999996,
          -55304.654,
          -56246.052,
          -56172.68200000001,
          -62513.752
         ],
         "yaxis": "y3"
        },
        {
         "marker": {
          "color": [
           0,
           1,
           2,
           3,
           4,
           5,
           6,
           7,
           8,
           9,
           10,
           11,
           12,
           13,
           14,
           15,
           16,
           17,
           18,
           19,
           20,
           21,
           22,
           23,
           24
          ],
          "colorbar": {
           "title": {
            "text": "Trial"
           },
           "x": 1,
           "xpad": 40
          },
          "colorscale": [
           [
            0,
            "rgb(247,251,255)"
           ],
           [
            0.125,
            "rgb(222,235,247)"
           ],
           [
            0.25,
            "rgb(198,219,239)"
           ],
           [
            0.375,
            "rgb(158,202,225)"
           ],
           [
            0.5,
            "rgb(107,174,214)"
           ],
           [
            0.625,
            "rgb(66,146,198)"
           ],
           [
            0.75,
            "rgb(33,113,181)"
           ],
           [
            0.875,
            "rgb(8,81,156)"
           ],
           [
            1,
            "rgb(8,48,107)"
           ]
          ],
          "line": {
           "color": "Grey",
           "width": 0.5
          },
          "showscale": false
         },
         "mode": "markers",
         "name": "Feasible Trial",
         "showlegend": false,
         "type": "scatter",
         "x": [
          0.0002819806361553919,
          0.00028459630756932615,
          0.000036801111071766234,
          0.0003503413046533094,
          0.0001304818200599708,
          0.000012809465033620892,
          0.00035714762411623297,
          0.00005343712740537448,
          0.00014780795563390663,
          0.00004204007275751892,
          0.00004315917684290081,
          0.0007889069777456757,
          0.0008526711459190907,
          0.00006279454402795933,
          0.000013695227495103939,
          0.000023448472540963925,
          0.00008290617080872125,
          0.0005133664112376705,
          0.00018206291542001923,
          0.00008159522336783198,
          0.000020820172280287977,
          0.000022815776452938465,
          0.00002443625969661686,
          0.00005550917292060962,
          0.000030670742746636123
         ],
         "xaxis": "x4",
         "y": [
          -57028.94600000001,
          -56869.409999999996,
          -57692.2,
          -54626.590000000004,
          -57017.11,
          -56894.962,
          -57957.740000000005,
          -54319.630000000005,
          -56369.626000000004,
          -57692.490000000005,
          -63909.490000000005,
          -56306.902,
          -56235.48,
          -57134.58,
          -56636.922,
          -57585.958,
          -57176.716,
          -57662.407999999996,
          -56457.295999999995,
          -19549814.73,
          -55815.621999999996,
          -55304.654,
          -56246.052,
          -56172.68200000001,
          -62513.752
         ],
         "yaxis": "y4"
        },
        {
         "marker": {
          "color": [
           0,
           1,
           2,
           3,
           4,
           5,
           6,
           7,
           8,
           9,
           10,
           11,
           12,
           13,
           14,
           15,
           16,
           17,
           18,
           19,
           20,
           21,
           22,
           23,
           24
          ],
          "colorbar": {
           "title": {
            "text": "Trial"
           },
           "x": 1,
           "xpad": 40
          },
          "colorscale": [
           [
            0,
            "rgb(247,251,255)"
           ],
           [
            0.125,
            "rgb(222,235,247)"
           ],
           [
            0.25,
            "rgb(198,219,239)"
           ],
           [
            0.375,
            "rgb(158,202,225)"
           ],
           [
            0.5,
            "rgb(107,174,214)"
           ],
           [
            0.625,
            "rgb(66,146,198)"
           ],
           [
            0.75,
            "rgb(33,113,181)"
           ],
           [
            0.875,
            "rgb(8,81,156)"
           ],
           [
            1,
            "rgb(8,48,107)"
           ]
          ],
          "line": {
           "color": "Grey",
           "width": 0.5
          },
          "showscale": false
         },
         "mode": "markers",
         "name": "Feasible Trial",
         "showlegend": false,
         "type": "scatter",
         "x": [
          0.20951677991709033,
          0.15862163909933125,
          0.3545390930971707,
          0.2473782787839689,
          0.2540150568313335,
          0.4883902693609067,
          0.4347943637537365,
          0.18720161137015176,
          0.3497946626632852,
          0.3617339115399135,
          0.10209472718990625,
          0.2510889857943497,
          0.17552967526098973,
          0.2810514833732746,
          0.10044825719284384,
          0.20781340636946707,
          0.30063316972951354,
          0.1558134306050329,
          0.20652291135947348,
          0.30752924323583264,
          0.24916479341312883,
          0.24354150134350885,
          0.1851320757830969,
          0.13903253090622913,
          0.23494929016068264
         ],
         "xaxis": "x5",
         "y": [
          -57028.94600000001,
          -56869.409999999996,
          -57692.2,
          -54626.590000000004,
          -57017.11,
          -56894.962,
          -57957.740000000005,
          -54319.630000000005,
          -56369.626000000004,
          -57692.490000000005,
          -63909.490000000005,
          -56306.902,
          -56235.48,
          -57134.58,
          -56636.922,
          -57585.958,
          -57176.716,
          -57662.407999999996,
          -56457.295999999995,
          -19549814.73,
          -55815.621999999996,
          -55304.654,
          -56246.052,
          -56172.68200000001,
          -62513.752
         ],
         "yaxis": "y5"
        },
        {
         "marker": {
          "color": [
           0,
           1,
           2,
           3,
           4,
           5,
           6,
           7,
           8,
           9,
           10,
           11,
           12,
           13,
           14,
           15,
           16,
           17,
           18,
           19,
           20,
           21,
           22,
           23,
           24
          ],
          "colorbar": {
           "title": {
            "text": "Trial"
           },
           "x": 1,
           "xpad": 40
          },
          "colorscale": [
           [
            0,
            "rgb(247,251,255)"
           ],
           [
            0.125,
            "rgb(222,235,247)"
           ],
           [
            0.25,
            "rgb(198,219,239)"
           ],
           [
            0.375,
            "rgb(158,202,225)"
           ],
           [
            0.5,
            "rgb(107,174,214)"
           ],
           [
            0.625,
            "rgb(66,146,198)"
           ],
           [
            0.75,
            "rgb(33,113,181)"
           ],
           [
            0.875,
            "rgb(8,81,156)"
           ],
           [
            1,
            "rgb(8,48,107)"
           ]
          ],
          "line": {
           "color": "Grey",
           "width": 0.5
          },
          "showscale": false
         },
         "mode": "markers",
         "name": "Feasible Trial",
         "showlegend": false,
         "type": "scatter",
         "x": [
          0.0029411283079602067,
          0.007219334111366669,
          0.00967920237144436,
          0.045665957204979166,
          0.001187979237031665,
          0.005277965146005758,
          0.021668075767865797,
          0.0019967482118355855,
          0.03129999895887123,
          0.0068478989391215685,
          0.0010353515655146064,
          0.09257520224123574,
          0.09746142150556884,
          0.02419198172590692,
          0.0029177498759307167,
          0.049436652822015065,
          0.0022192447282842905,
          0.01277594799676972,
          0.05036048515381466,
          0.0016614223857966755,
          0.00370874486162138,
          0.0046089815988702085,
          0.004567736817916702,
          0.012852229148185504,
          0.0019208761913845824
         ],
         "xaxis": "x6",
         "y": [
          -57028.94600000001,
          -56869.409999999996,
          -57692.2,
          -54626.590000000004,
          -57017.11,
          -56894.962,
          -57957.740000000005,
          -54319.630000000005,
          -56369.626000000004,
          -57692.490000000005,
          -63909.490000000005,
          -56306.902,
          -56235.48,
          -57134.58,
          -56636.922,
          -57585.958,
          -57176.716,
          -57662.407999999996,
          -56457.295999999995,
          -19549814.73,
          -55815.621999999996,
          -55304.654,
          -56246.052,
          -56172.68200000001,
          -62513.752
         ],
         "yaxis": "y6"
        }
       ],
       "layout": {
        "template": {
         "data": {
          "bar": [
           {
            "error_x": {
             "color": "#2a3f5f"
            },
            "error_y": {
             "color": "#2a3f5f"
            },
            "marker": {
             "line": {
              "color": "#E5ECF6",
              "width": 0.5
             },
             "pattern": {
              "fillmode": "overlay",
              "size": 10,
              "solidity": 0.2
             }
            },
            "type": "bar"
           }
          ],
          "barpolar": [
           {
            "marker": {
             "line": {
              "color": "#E5ECF6",
              "width": 0.5
             },
             "pattern": {
              "fillmode": "overlay",
              "size": 10,
              "solidity": 0.2
             }
            },
            "type": "barpolar"
           }
          ],
          "carpet": [
           {
            "aaxis": {
             "endlinecolor": "#2a3f5f",
             "gridcolor": "white",
             "linecolor": "white",
             "minorgridcolor": "white",
             "startlinecolor": "#2a3f5f"
            },
            "baxis": {
             "endlinecolor": "#2a3f5f",
             "gridcolor": "white",
             "linecolor": "white",
             "minorgridcolor": "white",
             "startlinecolor": "#2a3f5f"
            },
            "type": "carpet"
           }
          ],
          "choropleth": [
           {
            "colorbar": {
             "outlinewidth": 0,
             "ticks": ""
            },
            "type": "choropleth"
           }
          ],
          "contour": [
           {
            "colorbar": {
             "outlinewidth": 0,
             "ticks": ""
            },
            "colorscale": [
             [
              0,
              "#0d0887"
             ],
             [
              0.1111111111111111,
              "#46039f"
             ],
             [
              0.2222222222222222,
              "#7201a8"
             ],
             [
              0.3333333333333333,
              "#9c179e"
             ],
             [
              0.4444444444444444,
              "#bd3786"
             ],
             [
              0.5555555555555556,
              "#d8576b"
             ],
             [
              0.6666666666666666,
              "#ed7953"
             ],
             [
              0.7777777777777778,
              "#fb9f3a"
             ],
             [
              0.8888888888888888,
              "#fdca26"
             ],
             [
              1,
              "#f0f921"
             ]
            ],
            "type": "contour"
           }
          ],
          "contourcarpet": [
           {
            "colorbar": {
             "outlinewidth": 0,
             "ticks": ""
            },
            "type": "contourcarpet"
           }
          ],
          "heatmap": [
           {
            "colorbar": {
             "outlinewidth": 0,
             "ticks": ""
            },
            "colorscale": [
             [
              0,
              "#0d0887"
             ],
             [
              0.1111111111111111,
              "#46039f"
             ],
             [
              0.2222222222222222,
              "#7201a8"
             ],
             [
              0.3333333333333333,
              "#9c179e"
             ],
             [
              0.4444444444444444,
              "#bd3786"
             ],
             [
              0.5555555555555556,
              "#d8576b"
             ],
             [
              0.6666666666666666,
              "#ed7953"
             ],
             [
              0.7777777777777778,
              "#fb9f3a"
             ],
             [
              0.8888888888888888,
              "#fdca26"
             ],
             [
              1,
              "#f0f921"
             ]
            ],
            "type": "heatmap"
           }
          ],
          "heatmapgl": [
           {
            "colorbar": {
             "outlinewidth": 0,
             "ticks": ""
            },
            "colorscale": [
             [
              0,
              "#0d0887"
             ],
             [
              0.1111111111111111,
              "#46039f"
             ],
             [
              0.2222222222222222,
              "#7201a8"
             ],
             [
              0.3333333333333333,
              "#9c179e"
             ],
             [
              0.4444444444444444,
              "#bd3786"
             ],
             [
              0.5555555555555556,
              "#d8576b"
             ],
             [
              0.6666666666666666,
              "#ed7953"
             ],
             [
              0.7777777777777778,
              "#fb9f3a"
             ],
             [
              0.8888888888888888,
              "#fdca26"
             ],
             [
              1,
              "#f0f921"
             ]
            ],
            "type": "heatmapgl"
           }
          ],
          "histogram": [
           {
            "marker": {
             "pattern": {
              "fillmode": "overlay",
              "size": 10,
              "solidity": 0.2
             }
            },
            "type": "histogram"
           }
          ],
          "histogram2d": [
           {
            "colorbar": {
             "outlinewidth": 0,
             "ticks": ""
            },
            "colorscale": [
             [
              0,
              "#0d0887"
             ],
             [
              0.1111111111111111,
              "#46039f"
             ],
             [
              0.2222222222222222,
              "#7201a8"
             ],
             [
              0.3333333333333333,
              "#9c179e"
             ],
             [
              0.4444444444444444,
              "#bd3786"
             ],
             [
              0.5555555555555556,
              "#d8576b"
             ],
             [
              0.6666666666666666,
              "#ed7953"
             ],
             [
              0.7777777777777778,
              "#fb9f3a"
             ],
             [
              0.8888888888888888,
              "#fdca26"
             ],
             [
              1,
              "#f0f921"
             ]
            ],
            "type": "histogram2d"
           }
          ],
          "histogram2dcontour": [
           {
            "colorbar": {
             "outlinewidth": 0,
             "ticks": ""
            },
            "colorscale": [
             [
              0,
              "#0d0887"
             ],
             [
              0.1111111111111111,
              "#46039f"
             ],
             [
              0.2222222222222222,
              "#7201a8"
             ],
             [
              0.3333333333333333,
              "#9c179e"
             ],
             [
              0.4444444444444444,
              "#bd3786"
             ],
             [
              0.5555555555555556,
              "#d8576b"
             ],
             [
              0.6666666666666666,
              "#ed7953"
             ],
             [
              0.7777777777777778,
              "#fb9f3a"
             ],
             [
              0.8888888888888888,
              "#fdca26"
             ],
             [
              1,
              "#f0f921"
             ]
            ],
            "type": "histogram2dcontour"
           }
          ],
          "mesh3d": [
           {
            "colorbar": {
             "outlinewidth": 0,
             "ticks": ""
            },
            "type": "mesh3d"
           }
          ],
          "parcoords": [
           {
            "line": {
             "colorbar": {
              "outlinewidth": 0,
              "ticks": ""
             }
            },
            "type": "parcoords"
           }
          ],
          "pie": [
           {
            "automargin": true,
            "type": "pie"
           }
          ],
          "scatter": [
           {
            "fillpattern": {
             "fillmode": "overlay",
             "size": 10,
             "solidity": 0.2
            },
            "type": "scatter"
           }
          ],
          "scatter3d": [
           {
            "line": {
             "colorbar": {
              "outlinewidth": 0,
              "ticks": ""
             }
            },
            "marker": {
             "colorbar": {
              "outlinewidth": 0,
              "ticks": ""
             }
            },
            "type": "scatter3d"
           }
          ],
          "scattercarpet": [
           {
            "marker": {
             "colorbar": {
              "outlinewidth": 0,
              "ticks": ""
             }
            },
            "type": "scattercarpet"
           }
          ],
          "scattergeo": [
           {
            "marker": {
             "colorbar": {
              "outlinewidth": 0,
              "ticks": ""
             }
            },
            "type": "scattergeo"
           }
          ],
          "scattergl": [
           {
            "marker": {
             "colorbar": {
              "outlinewidth": 0,
              "ticks": ""
             }
            },
            "type": "scattergl"
           }
          ],
          "scattermapbox": [
           {
            "marker": {
             "colorbar": {
              "outlinewidth": 0,
              "ticks": ""
             }
            },
            "type": "scattermapbox"
           }
          ],
          "scatterpolar": [
           {
            "marker": {
             "colorbar": {
              "outlinewidth": 0,
              "ticks": ""
             }
            },
            "type": "scatterpolar"
           }
          ],
          "scatterpolargl": [
           {
            "marker": {
             "colorbar": {
              "outlinewidth": 0,
              "ticks": ""
             }
            },
            "type": "scatterpolargl"
           }
          ],
          "scatterternary": [
           {
            "marker": {
             "colorbar": {
              "outlinewidth": 0,
              "ticks": ""
             }
            },
            "type": "scatterternary"
           }
          ],
          "surface": [
           {
            "colorbar": {
             "outlinewidth": 0,
             "ticks": ""
            },
            "colorscale": [
             [
              0,
              "#0d0887"
             ],
             [
              0.1111111111111111,
              "#46039f"
             ],
             [
              0.2222222222222222,
              "#7201a8"
             ],
             [
              0.3333333333333333,
              "#9c179e"
             ],
             [
              0.4444444444444444,
              "#bd3786"
             ],
             [
              0.5555555555555556,
              "#d8576b"
             ],
             [
              0.6666666666666666,
              "#ed7953"
             ],
             [
              0.7777777777777778,
              "#fb9f3a"
             ],
             [
              0.8888888888888888,
              "#fdca26"
             ],
             [
              1,
              "#f0f921"
             ]
            ],
            "type": "surface"
           }
          ],
          "table": [
           {
            "cells": {
             "fill": {
              "color": "#EBF0F8"
             },
             "line": {
              "color": "white"
             }
            },
            "header": {
             "fill": {
              "color": "#C8D4E3"
             },
             "line": {
              "color": "white"
             }
            },
            "type": "table"
           }
          ]
         },
         "layout": {
          "annotationdefaults": {
           "arrowcolor": "#2a3f5f",
           "arrowhead": 0,
           "arrowwidth": 1
          },
          "autotypenumbers": "strict",
          "coloraxis": {
           "colorbar": {
            "outlinewidth": 0,
            "ticks": ""
           }
          },
          "colorscale": {
           "diverging": [
            [
             0,
             "#8e0152"
            ],
            [
             0.1,
             "#c51b7d"
            ],
            [
             0.2,
             "#de77ae"
            ],
            [
             0.3,
             "#f1b6da"
            ],
            [
             0.4,
             "#fde0ef"
            ],
            [
             0.5,
             "#f7f7f7"
            ],
            [
             0.6,
             "#e6f5d0"
            ],
            [
             0.7,
             "#b8e186"
            ],
            [
             0.8,
             "#7fbc41"
            ],
            [
             0.9,
             "#4d9221"
            ],
            [
             1,
             "#276419"
            ]
           ],
           "sequential": [
            [
             0,
             "#0d0887"
            ],
            [
             0.1111111111111111,
             "#46039f"
            ],
            [
             0.2222222222222222,
             "#7201a8"
            ],
            [
             0.3333333333333333,
             "#9c179e"
            ],
            [
             0.4444444444444444,
             "#bd3786"
            ],
            [
             0.5555555555555556,
             "#d8576b"
            ],
            [
             0.6666666666666666,
             "#ed7953"
            ],
            [
             0.7777777777777778,
             "#fb9f3a"
            ],
            [
             0.8888888888888888,
             "#fdca26"
            ],
            [
             1,
             "#f0f921"
            ]
           ],
           "sequentialminus": [
            [
             0,
             "#0d0887"
            ],
            [
             0.1111111111111111,
             "#46039f"
            ],
            [
             0.2222222222222222,
             "#7201a8"
            ],
            [
             0.3333333333333333,
             "#9c179e"
            ],
            [
             0.4444444444444444,
             "#bd3786"
            ],
            [
             0.5555555555555556,
             "#d8576b"
            ],
            [
             0.6666666666666666,
             "#ed7953"
            ],
            [
             0.7777777777777778,
             "#fb9f3a"
            ],
            [
             0.8888888888888888,
             "#fdca26"
            ],
            [
             1,
             "#f0f921"
            ]
           ]
          },
          "colorway": [
           "#636efa",
           "#EF553B",
           "#00cc96",
           "#ab63fa",
           "#FFA15A",
           "#19d3f3",
           "#FF6692",
           "#B6E880",
           "#FF97FF",
           "#FECB52"
          ],
          "font": {
           "color": "#2a3f5f"
          },
          "geo": {
           "bgcolor": "white",
           "lakecolor": "white",
           "landcolor": "#E5ECF6",
           "showlakes": true,
           "showland": true,
           "subunitcolor": "white"
          },
          "hoverlabel": {
           "align": "left"
          },
          "hovermode": "closest",
          "mapbox": {
           "style": "light"
          },
          "paper_bgcolor": "white",
          "plot_bgcolor": "#E5ECF6",
          "polar": {
           "angularaxis": {
            "gridcolor": "white",
            "linecolor": "white",
            "ticks": ""
           },
           "bgcolor": "#E5ECF6",
           "radialaxis": {
            "gridcolor": "white",
            "linecolor": "white",
            "ticks": ""
           }
          },
          "scene": {
           "xaxis": {
            "backgroundcolor": "#E5ECF6",
            "gridcolor": "white",
            "gridwidth": 2,
            "linecolor": "white",
            "showbackground": true,
            "ticks": "",
            "zerolinecolor": "white"
           },
           "yaxis": {
            "backgroundcolor": "#E5ECF6",
            "gridcolor": "white",
            "gridwidth": 2,
            "linecolor": "white",
            "showbackground": true,
            "ticks": "",
            "zerolinecolor": "white"
           },
           "zaxis": {
            "backgroundcolor": "#E5ECF6",
            "gridcolor": "white",
            "gridwidth": 2,
            "linecolor": "white",
            "showbackground": true,
            "ticks": "",
            "zerolinecolor": "white"
           }
          },
          "shapedefaults": {
           "line": {
            "color": "#2a3f5f"
           }
          },
          "ternary": {
           "aaxis": {
            "gridcolor": "white",
            "linecolor": "white",
            "ticks": ""
           },
           "baxis": {
            "gridcolor": "white",
            "linecolor": "white",
            "ticks": ""
           },
           "bgcolor": "#E5ECF6",
           "caxis": {
            "gridcolor": "white",
            "linecolor": "white",
            "ticks": ""
           }
          },
          "title": {
           "x": 0.05
          },
          "xaxis": {
           "automargin": true,
           "gridcolor": "white",
           "linecolor": "white",
           "ticks": "",
           "title": {
            "standoff": 15
           },
           "zerolinecolor": "white",
           "zerolinewidth": 2
          },
          "yaxis": {
           "automargin": true,
           "gridcolor": "white",
           "linecolor": "white",
           "ticks": "",
           "title": {
            "standoff": 15
           },
           "zerolinecolor": "white",
           "zerolinewidth": 2
          }
         }
        },
        "title": {
         "text": "Slice Plot"
        },
        "width": 1800,
        "xaxis": {
         "anchor": "y",
         "categoryarray": [
          32,
          64,
          128,
          256
         ],
         "categoryorder": "array",
         "domain": [
          0,
          0.1388888888888889
         ],
         "title": {
          "text": "batch_size"
         },
         "type": "category"
        },
        "xaxis2": {
         "anchor": "y2",
         "domain": [
          0.17222222222222222,
          0.3111111111111111
         ],
         "title": {
          "text": "buffer_size"
         }
        },
        "xaxis3": {
         "anchor": "y3",
         "domain": [
          0.34444444444444444,
          0.48333333333333334
         ],
         "title": {
          "text": "gamma"
         }
        },
        "xaxis4": {
         "anchor": "y4",
         "domain": [
          0.5166666666666667,
          0.6555555555555557
         ],
         "title": {
          "text": "learning_rate"
         },
         "type": "log"
        },
        "xaxis5": {
         "anchor": "y5",
         "domain": [
          0.6888888888888889,
          0.8277777777777777
         ],
         "title": {
          "text": "noise_std"
         }
        },
        "xaxis6": {
         "anchor": "y6",
         "domain": [
          0.861111111111111,
          1
         ],
         "title": {
          "text": "tau"
         },
         "type": "log"
        },
        "yaxis": {
         "anchor": "x",
         "domain": [
          0,
          1
         ],
         "title": {
          "text": "Objective Value"
         }
        },
        "yaxis2": {
         "anchor": "x2",
         "domain": [
          0,
          1
         ],
         "matches": "y",
         "showticklabels": false
        },
        "yaxis3": {
         "anchor": "x3",
         "domain": [
          0,
          1
         ],
         "matches": "y",
         "showticklabels": false
        },
        "yaxis4": {
         "anchor": "x4",
         "domain": [
          0,
          1
         ],
         "matches": "y",
         "showticklabels": false
        },
        "yaxis5": {
         "anchor": "x5",
         "domain": [
          0,
          1
         ],
         "matches": "y",
         "showticklabels": false
        },
        "yaxis6": {
         "anchor": "x6",
         "domain": [
          0,
          1
         ],
         "matches": "y",
         "showticklabels": false
        }
       }
      }
     },
     "metadata": {},
     "output_type": "display_data"
    }
   ],
   "source": [
    "from optuna.visualization import plot_slice\n",
    "\n",
    "fig = plot_slice(study)\n",
    "fig.show()"
   ]
  },
  {
   "cell_type": "markdown",
   "metadata": {},
   "source": [
    "**Contour Plot**\n",
    "\n",
    "This plot shows the relationship between two hyperparameters and their influence on the objective value."
   ]
  },
  {
   "cell_type": "code",
   "execution_count": 22,
   "metadata": {},
   "outputs": [
    {
     "data": {
      "application/vnd.plotly.v1+json": {
       "config": {
        "plotlyServerURL": "https://plot.ly"
       },
       "data": [
        {
         "type": "scatter",
         "xaxis": "x",
         "yaxis": "y"
        },
        {
         "colorbar": {
          "title": {
           "text": "Objective Value"
          }
         },
         "colorscale": [
          [
           0,
           "rgb(247,251,255)"
          ],
          [
           0.125,
           "rgb(222,235,247)"
          ],
          [
           0.25,
           "rgb(198,219,239)"
          ],
          [
           0.375,
           "rgb(158,202,225)"
          ],
          [
           0.5,
           "rgb(107,174,214)"
          ],
          [
           0.625,
           "rgb(66,146,198)"
          ],
          [
           0.75,
           "rgb(33,113,181)"
          ],
          [
           0.875,
           "rgb(8,81,156)"
          ],
          [
           1,
           "rgb(8,48,107)"
          ]
         ],
         "connectgaps": true,
         "contours": {
          "coloring": "heatmap"
         },
         "hoverinfo": "none",
         "line": {
          "smoothing": 1.3
         },
         "reversescale": false,
         "showscale": true,
         "type": "contour",
         "x": [
          20.799999999999997,
          32,
          64,
          128,
          256,
          267.2
         ],
         "xaxis": "x7",
         "y": [
          27500,
          50000,
          100000,
          150000,
          200000,
          250000,
          300000,
          350000,
          400000,
          450000,
          500000,
          522500
         ],
         "yaxis": "y7",
         "z": [
          [
           null,
           null,
           null,
           null,
           null,
           null
          ],
          [
           null,
           null,
           null,
           null,
           -57028.94600000001,
           null
          ],
          [
           null,
           null,
           null,
           null,
           -54626.590000000004,
           null
          ],
          [
           null,
           -63909.490000000005,
           -57176.716,
           null,
           -56235.48,
           null
          ],
          [
           null,
           -56636.922,
           null,
           -57662.407999999996,
           -55304.654,
           null
          ],
          [
           null,
           -54319.630000000005,
           -57692.2,
           null,
           -56172.68200000001,
           null
          ],
          [
           null,
           -56457.295999999995,
           null,
           null,
           -57134.58,
           null
          ],
          [
           null,
           -56869.409999999996,
           null,
           null,
           null,
           null
          ],
          [
           null,
           -57692.490000000005,
           null,
           -56894.962,
           null,
           null
          ],
          [
           null,
           -57017.11,
           null,
           null,
           null,
           null
          ],
          [
           null,
           null,
           null,
           -56369.626000000004,
           null,
           null
          ],
          [
           null,
           null,
           null,
           null,
           null,
           null
          ]
         ]
        },
        {
         "marker": {
          "color": "black",
          "line": {
           "color": "Gray",
           "width": 2
          }
         },
         "mode": "markers",
         "name": "Feasible Trial",
         "showlegend": false,
         "type": "scatter",
         "x": [
          256,
          32,
          64,
          256,
          32,
          128,
          64,
          32,
          128,
          32,
          32,
          256,
          256,
          256,
          32,
          256,
          64,
          128,
          32,
          256,
          256,
          256,
          256,
          256,
          256
         ],
         "xaxis": "x7",
         "y": [
          50000,
          350000,
          250000,
          100000,
          450000,
          400000,
          250000,
          250000,
          500000,
          400000,
          150000,
          100000,
          150000,
          300000,
          200000,
          50000,
          150000,
          200000,
          300000,
          100000,
          200000,
          200000,
          100000,
          250000,
          200000
         ],
         "yaxis": "y7"
        },
        {
         "colorbar": {
          "title": {
           "text": "Objective Value"
          }
         },
         "colorscale": [
          [
           0,
           "rgb(247,251,255)"
          ],
          [
           0.125,
           "rgb(222,235,247)"
          ],
          [
           0.25,
           "rgb(198,219,239)"
          ],
          [
           0.375,
           "rgb(158,202,225)"
          ],
          [
           0.5,
           "rgb(107,174,214)"
          ],
          [
           0.625,
           "rgb(66,146,198)"
          ],
          [
           0.75,
           "rgb(33,113,181)"
          ],
          [
           0.875,
           "rgb(8,81,156)"
          ],
          [
           1,
           "rgb(8,48,107)"
          ]
         ],
         "connectgaps": true,
         "contours": {
          "coloring": "heatmap"
         },
         "hoverinfo": "none",
         "line": {
          "smoothing": 1.3
         },
         "reversescale": false,
         "showscale": false,
         "type": "contour",
         "x": [
          20.799999999999997,
          32,
          64,
          128,
          256,
          267.2
         ],
         "xaxis": "x13",
         "y": [
          0.8974453434286189,
          0.9019352825221195,
          0.9096140750982753,
          0.9123476930941506,
          0.920468262220192,
          0.9206097195855281,
          0.9216484011486659,
          0.926364134131323,
          0.9306844399486447,
          0.935028002418254,
          0.9400781671181636,
          0.9426452609614562,
          0.9461070376872395,
          0.9483505657961858,
          0.9497968235255966,
          0.9551415511242626,
          0.9557228564582686,
          0.9604047030602296,
          0.9631174579822008,
          0.9635749641192399,
          0.9704343706710925,
          0.9725514776636865,
          0.9737426144945708,
          0.9826048292201849,
          0.9893001327119111,
          0.991734064392131,
          0.9962240034856316
         ],
         "yaxis": "y13",
         "z": [
          [
           null,
           null,
           null,
           null,
           null,
           null
          ],
          [
           null,
           -56636.922,
           null,
           null,
           null,
           null
          ],
          [
           null,
           null,
           null,
           null,
           -56246.052,
           null
          ],
          [
           null,
           null,
           null,
           null,
           -62513.752,
           null
          ],
          [
           null,
           null,
           null,
           -56369.626000000004,
           null,
           null
          ],
          [
           null,
           -56869.409999999996,
           null,
           null,
           null,
           null
          ],
          [
           null,
           null,
           null,
           null,
           -55304.654,
           null
          ],
          [
           null,
           null,
           null,
           null,
           -55815.621999999996,
           null
          ],
          [
           null,
           null,
           null,
           null,
           -57585.958,
           null
          ],
          [
           null,
           -63909.490000000005,
           null,
           null,
           null,
           null
          ],
          [
           null,
           null,
           null,
           null,
           -19549814.73,
           null
          ],
          [
           null,
           null,
           null,
           null,
           -56306.902,
           null
          ],
          [
           null,
           null,
           null,
           null,
           -56235.48,
           null
          ],
          [
           null,
           null,
           null,
           null,
           -56172.68200000001,
           null
          ],
          [
           null,
           null,
           null,
           null,
           -54626.590000000004,
           null
          ],
          [
           null,
           null,
           -57176.716,
           null,
           null,
           null
          ],
          [
           null,
           -57017.11,
           null,
           null,
           null,
           null
          ],
          [
           null,
           -56457.295999999995,
           null,
           null,
           null,
           null
          ],
          [
           null,
           null,
           null,
           null,
           -57028.94600000001,
           null
          ],
          [
           null,
           -54319.630000000005,
           null,
           null,
           null,
           null
          ],
          [
           null,
           null,
           -57692.2,
           null,
           null,
           null
          ],
          [
           null,
           null,
           null,
           null,
           -57134.58,
           null
          ],
          [
           null,
           null,
           null,
           -57662.407999999996,
           null,
           null
          ],
          [
           null,
           -57692.490000000005,
           null,
           null,
           null,
           null
          ],
          [
           null,
           null,
           -57957.740000000005,
           null,
           null,
           null
          ],
          [
           null,
           null,
           null,
           -56894.962,
           null,
           null
          ],
          [
           null,
           null,
           null,
           null,
           null,
           null
          ]
         ]
        },
        {
         "marker": {
          "color": "black",
          "line": {
           "color": "Gray",
           "width": 2
          }
         },
         "mode": "markers",
         "name": "Feasible Trial",
         "showlegend": false,
         "type": "scatter",
         "x": [
          256,
          32,
          64,
          256,
          32,
          128,
          64,
          32,
          128,
          32,
          32,
          256,
          256,
          256,
          32,
          256,
          64,
          128,
          32,
          256,
          256,
          256,
          256,
          256,
          256
         ],
         "xaxis": "x13",
         "y": [
          0.9631174579822008,
          0.9206097195855281,
          0.9704343706710925,
          0.9497968235255966,
          0.9557228564582686,
          0.991734064392131,
          0.9893001327119111,
          0.9635749641192399,
          0.920468262220192,
          0.9826048292201849,
          0.935028002418254,
          0.9426452609614562,
          0.9461070376872395,
          0.9725514776636865,
          0.9019352825221195,
          0.9306844399486447,
          0.9551415511242626,
          0.9737426144945708,
          0.9604047030602296,
          0.9400781671181636,
          0.926364134131323,
          0.9216484011486659,
          0.9096140750982753,
          0.9483505657961858,
          0.9123476930941506
         ],
         "yaxis": "y13"
        },
        {
         "colorbar": {
          "title": {
           "text": "Objective Value"
          }
         },
         "colorscale": [
          [
           0,
           "rgb(247,251,255)"
          ],
          [
           0.125,
           "rgb(222,235,247)"
          ],
          [
           0.25,
           "rgb(198,219,239)"
          ],
          [
           0.375,
           "rgb(158,202,225)"
          ],
          [
           0.5,
           "rgb(107,174,214)"
          ],
          [
           0.625,
           "rgb(66,146,198)"
          ],
          [
           0.75,
           "rgb(33,113,181)"
          ],
          [
           0.875,
           "rgb(8,81,156)"
          ],
          [
           1,
           "rgb(8,48,107)"
          ]
         ],
         "connectgaps": true,
         "contours": {
          "coloring": "heatmap"
         },
         "hoverinfo": "none",
         "line": {
          "smoothing": 1.3
         },
         "reversescale": false,
         "showscale": false,
         "type": "contour",
         "x": [
          20.799999999999997,
          32,
          64,
          128,
          256,
          267.2
         ],
         "xaxis": "x19",
         "y": [
          0.00001038409048438178,
          0.000012809465033620892,
          0.000013695227495103939,
          0.000020820172280287977,
          0.000022815776452938465,
          0.000023448472540963925,
          0.00002443625969661686,
          0.000030670742746636123,
          0.000036801111071766234,
          0.00004204007275751892,
          0.00004315917684290081,
          0.00005343712740537448,
          0.00005550917292060962,
          0.00006279454402795933,
          0.00008159522336783198,
          0.00008290617080872125,
          0.0001304818200599708,
          0.00014780795563390663,
          0.00018206291542001923,
          0.0002819806361553919,
          0.00028459630756932615,
          0.0003503413046533094,
          0.00035714762411623297,
          0.0005133664112376705,
          0.0007889069777456757,
          0.0008526711459190907,
          0.0010518264690832294
         ],
         "yaxis": "y19",
         "z": [
          [
           null,
           null,
           null,
           null,
           null,
           null
          ],
          [
           null,
           null,
           null,
           -56894.962,
           null,
           null
          ],
          [
           null,
           -56636.922,
           null,
           null,
           null,
           null
          ],
          [
           null,
           null,
           null,
           null,
           -55815.621999999996,
           null
          ],
          [
           null,
           null,
           null,
           null,
           -55304.654,
           null
          ],
          [
           null,
           null,
           null,
           null,
           -57585.958,
           null
          ],
          [
           null,
           null,
           null,
           null,
           -56246.052,
           null
          ],
          [
           null,
           null,
           null,
           null,
           -62513.752,
           null
          ],
          [
           null,
           null,
           -57692.2,
           null,
           null,
           null
          ],
          [
           null,
           -57692.490000000005,
           null,
           null,
           null,
           null
          ],
          [
           null,
           -63909.490000000005,
           null,
           null,
           null,
           null
          ],
          [
           null,
           -54319.630000000005,
           null,
           null,
           null,
           null
          ],
          [
           null,
           null,
           null,
           null,
           -56172.68200000001,
           null
          ],
          [
           null,
           null,
           null,
           null,
           -57134.58,
           null
          ],
          [
           null,
           null,
           null,
           null,
           -19549814.73,
           null
          ],
          [
           null,
           null,
           -57176.716,
           null,
           null,
           null
          ],
          [
           null,
           -57017.11,
           null,
           null,
           null,
           null
          ],
          [
           null,
           null,
           null,
           -56369.626000000004,
           null,
           null
          ],
          [
           null,
           -56457.295999999995,
           null,
           null,
           null,
           null
          ],
          [
           null,
           null,
           null,
           null,
           -57028.94600000001,
           null
          ],
          [
           null,
           -56869.409999999996,
           null,
           null,
           null,
           null
          ],
          [
           null,
           null,
           null,
           null,
           -54626.590000000004,
           null
          ],
          [
           null,
           null,
           -57957.740000000005,
           null,
           null,
           null
          ],
          [
           null,
           null,
           null,
           -57662.407999999996,
           null,
           null
          ],
          [
           null,
           null,
           null,
           null,
           -56306.902,
           null
          ],
          [
           null,
           null,
           null,
           null,
           -56235.48,
           null
          ],
          [
           null,
           null,
           null,
           null,
           null,
           null
          ]
         ]
        },
        {
         "marker": {
          "color": "black",
          "line": {
           "color": "Gray",
           "width": 2
          }
         },
         "mode": "markers",
         "name": "Feasible Trial",
         "showlegend": false,
         "type": "scatter",
         "x": [
          256,
          32,
          64,
          256,
          32,
          128,
          64,
          32,
          128,
          32,
          32,
          256,
          256,
          256,
          32,
          256,
          64,
          128,
          32,
          256,
          256,
          256,
          256,
          256,
          256
         ],
         "xaxis": "x19",
         "y": [
          0.0002819806361553919,
          0.00028459630756932615,
          0.000036801111071766234,
          0.0003503413046533094,
          0.0001304818200599708,
          0.000012809465033620892,
          0.00035714762411623297,
          0.00005343712740537448,
          0.00014780795563390663,
          0.00004204007275751892,
          0.00004315917684290081,
          0.0007889069777456757,
          0.0008526711459190907,
          0.00006279454402795933,
          0.000013695227495103939,
          0.000023448472540963925,
          0.00008290617080872125,
          0.0005133664112376705,
          0.00018206291542001923,
          0.00008159522336783198,
          0.000020820172280287977,
          0.000022815776452938465,
          0.00002443625969661686,
          0.00005550917292060962,
          0.000030670742746636123
         ],
         "yaxis": "y19"
        },
        {
         "colorbar": {
          "title": {
           "text": "Objective Value"
          }
         },
         "colorscale": [
          [
           0,
           "rgb(247,251,255)"
          ],
          [
           0.125,
           "rgb(222,235,247)"
          ],
          [
           0.25,
           "rgb(198,219,239)"
          ],
          [
           0.375,
           "rgb(158,202,225)"
          ],
          [
           0.5,
           "rgb(107,174,214)"
          ],
          [
           0.625,
           "rgb(66,146,198)"
          ],
          [
           0.75,
           "rgb(33,113,181)"
          ],
          [
           0.875,
           "rgb(8,81,156)"
          ],
          [
           1,
           "rgb(8,48,107)"
          ]
         ],
         "connectgaps": true,
         "contours": {
          "coloring": "heatmap"
         },
         "hoverinfo": "none",
         "line": {
          "smoothing": 1.3
         },
         "reversescale": false,
         "showscale": false,
         "type": "contour",
         "x": [
          20.799999999999997,
          32,
          64,
          128,
          256,
          267.2
         ],
         "xaxis": "x25",
         "y": [
          0.08105115658444069,
          0.10044825719284384,
          0.10209472718990625,
          0.13903253090622913,
          0.1558134306050329,
          0.15862163909933125,
          0.17552967526098973,
          0.1851320757830969,
          0.18720161137015176,
          0.20652291135947348,
          0.20781340636946707,
          0.20951677991709033,
          0.23494929016068264,
          0.24354150134350885,
          0.2473782787839689,
          0.24916479341312883,
          0.2510889857943497,
          0.2540150568313335,
          0.2810514833732746,
          0.30063316972951354,
          0.30752924323583264,
          0.3497946626632852,
          0.3545390930971707,
          0.3617339115399135,
          0.4347943637537365,
          0.4883902693609067,
          0.5077873699693098
         ],
         "yaxis": "y25",
         "z": [
          [
           null,
           null,
           null,
           null,
           null,
           null
          ],
          [
           null,
           -56636.922,
           null,
           null,
           null,
           null
          ],
          [
           null,
           -63909.490000000005,
           null,
           null,
           null,
           null
          ],
          [
           null,
           null,
           null,
           null,
           -56172.68200000001,
           null
          ],
          [
           null,
           null,
           null,
           -57662.407999999996,
           null,
           null
          ],
          [
           null,
           -56869.409999999996,
           null,
           null,
           null,
           null
          ],
          [
           null,
           null,
           null,
           null,
           -56235.48,
           null
          ],
          [
           null,
           null,
           null,
           null,
           -56246.052,
           null
          ],
          [
           null,
           -54319.630000000005,
           null,
           null,
           null,
           null
          ],
          [
           null,
           -56457.295999999995,
           null,
           null,
           null,
           null
          ],
          [
           null,
           null,
           null,
           null,
           -57585.958,
           null
          ],
          [
           null,
           null,
           null,
           null,
           -57028.94600000001,
           null
          ],
          [
           null,
           null,
           null,
           null,
           -62513.752,
           null
          ],
          [
           null,
           null,
           null,
           null,
           -55304.654,
           null
          ],
          [
           null,
           null,
           null,
           null,
           -54626.590000000004,
           null
          ],
          [
           null,
           null,
           null,
           null,
           -55815.621999999996,
           null
          ],
          [
           null,
           null,
           null,
           null,
           -56306.902,
           null
          ],
          [
           null,
           -57017.11,
           null,
           null,
           null,
           null
          ],
          [
           null,
           null,
           null,
           null,
           -57134.58,
           null
          ],
          [
           null,
           null,
           -57176.716,
           null,
           null,
           null
          ],
          [
           null,
           null,
           null,
           null,
           -19549814.73,
           null
          ],
          [
           null,
           null,
           null,
           -56369.626000000004,
           null,
           null
          ],
          [
           null,
           null,
           -57692.2,
           null,
           null,
           null
          ],
          [
           null,
           -57692.490000000005,
           null,
           null,
           null,
           null
          ],
          [
           null,
           null,
           -57957.740000000005,
           null,
           null,
           null
          ],
          [
           null,
           null,
           null,
           -56894.962,
           null,
           null
          ],
          [
           null,
           null,
           null,
           null,
           null,
           null
          ]
         ]
        },
        {
         "marker": {
          "color": "black",
          "line": {
           "color": "Gray",
           "width": 2
          }
         },
         "mode": "markers",
         "name": "Feasible Trial",
         "showlegend": false,
         "type": "scatter",
         "x": [
          256,
          32,
          64,
          256,
          32,
          128,
          64,
          32,
          128,
          32,
          32,
          256,
          256,
          256,
          32,
          256,
          64,
          128,
          32,
          256,
          256,
          256,
          256,
          256,
          256
         ],
         "xaxis": "x25",
         "y": [
          0.20951677991709033,
          0.15862163909933125,
          0.3545390930971707,
          0.2473782787839689,
          0.2540150568313335,
          0.4883902693609067,
          0.4347943637537365,
          0.18720161137015176,
          0.3497946626632852,
          0.3617339115399135,
          0.10209472718990625,
          0.2510889857943497,
          0.17552967526098973,
          0.2810514833732746,
          0.10044825719284384,
          0.20781340636946707,
          0.30063316972951354,
          0.1558134306050329,
          0.20652291135947348,
          0.30752924323583264,
          0.24916479341312883,
          0.24354150134350885,
          0.1851320757830969,
          0.13903253090622913,
          0.23494929016068264
         ],
         "yaxis": "y25"
        },
        {
         "colorbar": {
          "title": {
           "text": "Objective Value"
          }
         },
         "colorscale": [
          [
           0,
           "rgb(247,251,255)"
          ],
          [
           0.125,
           "rgb(222,235,247)"
          ],
          [
           0.25,
           "rgb(198,219,239)"
          ],
          [
           0.375,
           "rgb(158,202,225)"
          ],
          [
           0.5,
           "rgb(107,174,214)"
          ],
          [
           0.625,
           "rgb(66,146,198)"
          ],
          [
           0.75,
           "rgb(33,113,181)"
          ],
          [
           0.875,
           "rgb(8,81,156)"
          ],
          [
           1,
           "rgb(8,48,107)"
          ]
         ],
         "connectgaps": true,
         "contours": {
          "coloring": "heatmap"
         },
         "hoverinfo": "none",
         "line": {
          "smoothing": 1.3
         },
         "reversescale": false,
         "showscale": false,
         "type": "contour",
         "x": [
          20.799999999999997,
          32,
          64,
          128,
          256,
          267.2
         ],
         "xaxis": "x31",
         "y": [
          0.0008248986629477462,
          0.0010353515655146064,
          0.001187979237031665,
          0.0016614223857966755,
          0.0019208761913845824,
          0.0019967482118355855,
          0.0022192447282842905,
          0.0029177498759307167,
          0.0029411283079602067,
          0.00370874486162138,
          0.004567736817916702,
          0.0046089815988702085,
          0.005277965146005758,
          0.0068478989391215685,
          0.007219334111366669,
          0.00967920237144436,
          0.01277594799676972,
          0.012852229148185504,
          0.021668075767865797,
          0.02419198172590692,
          0.03129999895887123,
          0.045665957204979166,
          0.049436652822015065,
          0.05036048515381466,
          0.09257520224123574,
          0.09746142150556884,
          0.1223263412410957
         ],
         "yaxis": "y31",
         "z": [
          [
           null,
           null,
           null,
           null,
           null,
           null
          ],
          [
           null,
           -63909.490000000005,
           null,
           null,
           null,
           null
          ],
          [
           null,
           -57017.11,
           null,
           null,
           null,
           null
          ],
          [
           null,
           null,
           null,
           null,
           -19549814.73,
           null
          ],
          [
           null,
           null,
           null,
           null,
           -62513.752,
           null
          ],
          [
           null,
           -54319.630000000005,
           null,
           null,
           null,
           null
          ],
          [
           null,
           null,
           -57176.716,
           null,
           null,
           null
          ],
          [
           null,
           -56636.922,
           null,
           null,
           null,
           null
          ],
          [
           null,
           null,
           null,
           null,
           -57028.94600000001,
           null
          ],
          [
           null,
           null,
           null,
           null,
           -55815.621999999996,
           null
          ],
          [
           null,
           null,
           null,
           null,
           -56246.052,
           null
          ],
          [
           null,
           null,
           null,
           null,
           -55304.654,
           null
          ],
          [
           null,
           null,
           null,
           -56894.962,
           null,
           null
          ],
          [
           null,
           -57692.490000000005,
           null,
           null,
           null,
           null
          ],
          [
           null,
           -56869.409999999996,
           null,
           null,
           null,
           null
          ],
          [
           null,
           null,
           -57692.2,
           null,
           null,
           null
          ],
          [
           null,
           null,
           null,
           -57662.407999999996,
           null,
           null
          ],
          [
           null,
           null,
           null,
           null,
           -56172.68200000001,
           null
          ],
          [
           null,
           null,
           -57957.740000000005,
           null,
           null,
           null
          ],
          [
           null,
           null,
           null,
           null,
           -57134.58,
           null
          ],
          [
           null,
           null,
           null,
           -56369.626000000004,
           null,
           null
          ],
          [
           null,
           null,
           null,
           null,
           -54626.590000000004,
           null
          ],
          [
           null,
           null,
           null,
           null,
           -57585.958,
           null
          ],
          [
           null,
           -56457.295999999995,
           null,
           null,
           null,
           null
          ],
          [
           null,
           null,
           null,
           null,
           -56306.902,
           null
          ],
          [
           null,
           null,
           null,
           null,
           -56235.48,
           null
          ],
          [
           null,
           null,
           null,
           null,
           null,
           null
          ]
         ]
        },
        {
         "marker": {
          "color": "black",
          "line": {
           "color": "Gray",
           "width": 2
          }
         },
         "mode": "markers",
         "name": "Feasible Trial",
         "showlegend": false,
         "type": "scatter",
         "x": [
          256,
          32,
          64,
          256,
          32,
          128,
          64,
          32,
          128,
          32,
          32,
          256,
          256,
          256,
          32,
          256,
          64,
          128,
          32,
          256,
          256,
          256,
          256,
          256,
          256
         ],
         "xaxis": "x31",
         "y": [
          0.0029411283079602067,
          0.007219334111366669,
          0.00967920237144436,
          0.045665957204979166,
          0.001187979237031665,
          0.005277965146005758,
          0.021668075767865797,
          0.0019967482118355855,
          0.03129999895887123,
          0.0068478989391215685,
          0.0010353515655146064,
          0.09257520224123574,
          0.09746142150556884,
          0.02419198172590692,
          0.0029177498759307167,
          0.049436652822015065,
          0.0022192447282842905,
          0.01277594799676972,
          0.05036048515381466,
          0.0016614223857966755,
          0.00370874486162138,
          0.0046089815988702085,
          0.004567736817916702,
          0.012852229148185504,
          0.0019208761913845824
         ],
         "yaxis": "y31"
        },
        {
         "colorbar": {
          "title": {
           "text": "Objective Value"
          }
         },
         "colorscale": [
          [
           0,
           "rgb(247,251,255)"
          ],
          [
           0.125,
           "rgb(222,235,247)"
          ],
          [
           0.25,
           "rgb(198,219,239)"
          ],
          [
           0.375,
           "rgb(158,202,225)"
          ],
          [
           0.5,
           "rgb(107,174,214)"
          ],
          [
           0.625,
           "rgb(66,146,198)"
          ],
          [
           0.75,
           "rgb(33,113,181)"
          ],
          [
           0.875,
           "rgb(8,81,156)"
          ],
          [
           1,
           "rgb(8,48,107)"
          ]
         ],
         "connectgaps": true,
         "contours": {
          "coloring": "heatmap"
         },
         "hoverinfo": "none",
         "line": {
          "smoothing": 1.3
         },
         "reversescale": false,
         "showscale": false,
         "type": "contour",
         "x": [
          27500,
          50000,
          100000,
          150000,
          200000,
          250000,
          300000,
          350000,
          400000,
          450000,
          500000,
          522500
         ],
         "xaxis": "x2",
         "y": [
          20.799999999999997,
          32,
          64,
          128,
          256,
          267.2
         ],
         "yaxis": "y2",
         "z": [
          [
           null,
           null,
           null,
           null,
           null,
           null,
           null,
           null,
           null,
           null,
           null,
           null
          ],
          [
           null,
           null,
           null,
           -63909.490000000005,
           -56636.922,
           -54319.630000000005,
           -56457.295999999995,
           -56869.409999999996,
           -57692.490000000005,
           -57017.11,
           null,
           null
          ],
          [
           null,
           null,
           null,
           -57176.716,
           null,
           -57692.2,
           null,
           null,
           null,
           null,
           null,
           null
          ],
          [
           null,
           null,
           null,
           null,
           -57662.407999999996,
           null,
           null,
           null,
           -56894.962,
           null,
           -56369.626000000004,
           null
          ],
          [
           null,
           -57028.94600000001,
           -54626.590000000004,
           -56235.48,
           -55304.654,
           -56172.68200000001,
           -57134.58,
           null,
           null,
           null,
           null,
           null
          ],
          [
           null,
           null,
           null,
           null,
           null,
           null,
           null,
           null,
           null,
           null,
           null,
           null
          ]
         ]
        },
        {
         "marker": {
          "color": "black",
          "line": {
           "color": "Gray",
           "width": 2
          }
         },
         "mode": "markers",
         "name": "Feasible Trial",
         "showlegend": false,
         "type": "scatter",
         "x": [
          50000,
          350000,
          250000,
          100000,
          450000,
          400000,
          250000,
          250000,
          500000,
          400000,
          150000,
          100000,
          150000,
          300000,
          200000,
          50000,
          150000,
          200000,
          300000,
          100000,
          200000,
          200000,
          100000,
          250000,
          200000
         ],
         "xaxis": "x2",
         "y": [
          256,
          32,
          64,
          256,
          32,
          128,
          64,
          32,
          128,
          32,
          32,
          256,
          256,
          256,
          32,
          256,
          64,
          128,
          32,
          256,
          256,
          256,
          256,
          256,
          256
         ],
         "yaxis": "y2"
        },
        {
         "type": "scatter",
         "xaxis": "x8",
         "yaxis": "y8"
        },
        {
         "colorbar": {
          "title": {
           "text": "Objective Value"
          }
         },
         "colorscale": [
          [
           0,
           "rgb(247,251,255)"
          ],
          [
           0.125,
           "rgb(222,235,247)"
          ],
          [
           0.25,
           "rgb(198,219,239)"
          ],
          [
           0.375,
           "rgb(158,202,225)"
          ],
          [
           0.5,
           "rgb(107,174,214)"
          ],
          [
           0.625,
           "rgb(66,146,198)"
          ],
          [
           0.75,
           "rgb(33,113,181)"
          ],
          [
           0.875,
           "rgb(8,81,156)"
          ],
          [
           1,
           "rgb(8,48,107)"
          ]
         ],
         "connectgaps": true,
         "contours": {
          "coloring": "heatmap"
         },
         "hoverinfo": "none",
         "line": {
          "smoothing": 1.3
         },
         "reversescale": false,
         "showscale": false,
         "type": "contour",
         "x": [
          27500,
          50000,
          100000,
          150000,
          200000,
          250000,
          300000,
          350000,
          400000,
          450000,
          500000,
          522500
         ],
         "xaxis": "x14",
         "y": [
          0.8974453434286189,
          0.9019352825221195,
          0.9096140750982753,
          0.9123476930941506,
          0.920468262220192,
          0.9206097195855281,
          0.9216484011486659,
          0.926364134131323,
          0.9306844399486447,
          0.935028002418254,
          0.9400781671181636,
          0.9426452609614562,
          0.9461070376872395,
          0.9483505657961858,
          0.9497968235255966,
          0.9551415511242626,
          0.9557228564582686,
          0.9604047030602296,
          0.9631174579822008,
          0.9635749641192399,
          0.9704343706710925,
          0.9725514776636865,
          0.9737426144945708,
          0.9826048292201849,
          0.9893001327119111,
          0.991734064392131,
          0.9962240034856316
         ],
         "yaxis": "y14",
         "z": [
          [
           null,
           null,
           null,
           null,
           null,
           null,
           null,
           null,
           null,
           null,
           null,
           null
          ],
          [
           null,
           null,
           null,
           null,
           -56636.922,
           null,
           null,
           null,
           null,
           null,
           null,
           null
          ],
          [
           null,
           null,
           -56246.052,
           null,
           null,
           null,
           null,
           null,
           null,
           null,
           null,
           null
          ],
          [
           null,
           null,
           null,
           null,
           -62513.752,
           null,
           null,
           null,
           null,
           null,
           null,
           null
          ],
          [
           null,
           null,
           null,
           null,
           null,
           null,
           null,
           null,
           null,
           null,
           -56369.626000000004,
           null
          ],
          [
           null,
           null,
           null,
           null,
           null,
           null,
           null,
           -56869.409999999996,
           null,
           null,
           null,
           null
          ],
          [
           null,
           null,
           null,
           null,
           -55304.654,
           null,
           null,
           null,
           null,
           null,
           null,
           null
          ],
          [
           null,
           null,
           null,
           null,
           -55815.621999999996,
           null,
           null,
           null,
           null,
           null,
           null,
           null
          ],
          [
           null,
           -57585.958,
           null,
           null,
           null,
           null,
           null,
           null,
           null,
           null,
           null,
           null
          ],
          [
           null,
           null,
           null,
           -63909.490000000005,
           null,
           null,
           null,
           null,
           null,
           null,
           null,
           null
          ],
          [
           null,
           null,
           -19549814.73,
           null,
           null,
           null,
           null,
           null,
           null,
           null,
           null,
           null
          ],
          [
           null,
           null,
           -56306.902,
           null,
           null,
           null,
           null,
           null,
           null,
           null,
           null,
           null
          ],
          [
           null,
           null,
           null,
           -56235.48,
           null,
           null,
           null,
           null,
           null,
           null,
           null,
           null
          ],
          [
           null,
           null,
           null,
           null,
           null,
           -56172.68200000001,
           null,
           null,
           null,
           null,
           null,
           null
          ],
          [
           null,
           null,
           -54626.590000000004,
           null,
           null,
           null,
           null,
           null,
           null,
           null,
           null,
           null
          ],
          [
           null,
           null,
           null,
           -57176.716,
           null,
           null,
           null,
           null,
           null,
           null,
           null,
           null
          ],
          [
           null,
           null,
           null,
           null,
           null,
           null,
           null,
           null,
           null,
           -57017.11,
           null,
           null
          ],
          [
           null,
           null,
           null,
           null,
           null,
           null,
           -56457.295999999995,
           null,
           null,
           null,
           null,
           null
          ],
          [
           null,
           -57028.94600000001,
           null,
           null,
           null,
           null,
           null,
           null,
           null,
           null,
           null,
           null
          ],
          [
           null,
           null,
           null,
           null,
           null,
           -54319.630000000005,
           null,
           null,
           null,
           null,
           null,
           null
          ],
          [
           null,
           null,
           null,
           null,
           null,
           -57692.2,
           null,
           null,
           null,
           null,
           null,
           null
          ],
          [
           null,
           null,
           null,
           null,
           null,
           null,
           -57134.58,
           null,
           null,
           null,
           null,
           null
          ],
          [
           null,
           null,
           null,
           null,
           -57662.407999999996,
           null,
           null,
           null,
           null,
           null,
           null,
           null
          ],
          [
           null,
           null,
           null,
           null,
           null,
           null,
           null,
           null,
           -57692.490000000005,
           null,
           null,
           null
          ],
          [
           null,
           null,
           null,
           null,
           null,
           -57957.740000000005,
           null,
           null,
           null,
           null,
           null,
           null
          ],
          [
           null,
           null,
           null,
           null,
           null,
           null,
           null,
           null,
           -56894.962,
           null,
           null,
           null
          ],
          [
           null,
           null,
           null,
           null,
           null,
           null,
           null,
           null,
           null,
           null,
           null,
           null
          ]
         ]
        },
        {
         "marker": {
          "color": "black",
          "line": {
           "color": "Gray",
           "width": 2
          }
         },
         "mode": "markers",
         "name": "Feasible Trial",
         "showlegend": false,
         "type": "scatter",
         "x": [
          50000,
          350000,
          250000,
          100000,
          450000,
          400000,
          250000,
          250000,
          500000,
          400000,
          150000,
          100000,
          150000,
          300000,
          200000,
          50000,
          150000,
          200000,
          300000,
          100000,
          200000,
          200000,
          100000,
          250000,
          200000
         ],
         "xaxis": "x14",
         "y": [
          0.9631174579822008,
          0.9206097195855281,
          0.9704343706710925,
          0.9497968235255966,
          0.9557228564582686,
          0.991734064392131,
          0.9893001327119111,
          0.9635749641192399,
          0.920468262220192,
          0.9826048292201849,
          0.935028002418254,
          0.9426452609614562,
          0.9461070376872395,
          0.9725514776636865,
          0.9019352825221195,
          0.9306844399486447,
          0.9551415511242626,
          0.9737426144945708,
          0.9604047030602296,
          0.9400781671181636,
          0.926364134131323,
          0.9216484011486659,
          0.9096140750982753,
          0.9483505657961858,
          0.9123476930941506
         ],
         "yaxis": "y14"
        },
        {
         "colorbar": {
          "title": {
           "text": "Objective Value"
          }
         },
         "colorscale": [
          [
           0,
           "rgb(247,251,255)"
          ],
          [
           0.125,
           "rgb(222,235,247)"
          ],
          [
           0.25,
           "rgb(198,219,239)"
          ],
          [
           0.375,
           "rgb(158,202,225)"
          ],
          [
           0.5,
           "rgb(107,174,214)"
          ],
          [
           0.625,
           "rgb(66,146,198)"
          ],
          [
           0.75,
           "rgb(33,113,181)"
          ],
          [
           0.875,
           "rgb(8,81,156)"
          ],
          [
           1,
           "rgb(8,48,107)"
          ]
         ],
         "connectgaps": true,
         "contours": {
          "coloring": "heatmap"
         },
         "hoverinfo": "none",
         "line": {
          "smoothing": 1.3
         },
         "reversescale": false,
         "showscale": false,
         "type": "contour",
         "x": [
          27500,
          50000,
          100000,
          150000,
          200000,
          250000,
          300000,
          350000,
          400000,
          450000,
          500000,
          522500
         ],
         "xaxis": "x20",
         "y": [
          0.00001038409048438178,
          0.000012809465033620892,
          0.000013695227495103939,
          0.000020820172280287977,
          0.000022815776452938465,
          0.000023448472540963925,
          0.00002443625969661686,
          0.000030670742746636123,
          0.000036801111071766234,
          0.00004204007275751892,
          0.00004315917684290081,
          0.00005343712740537448,
          0.00005550917292060962,
          0.00006279454402795933,
          0.00008159522336783198,
          0.00008290617080872125,
          0.0001304818200599708,
          0.00014780795563390663,
          0.00018206291542001923,
          0.0002819806361553919,
          0.00028459630756932615,
          0.0003503413046533094,
          0.00035714762411623297,
          0.0005133664112376705,
          0.0007889069777456757,
          0.0008526711459190907,
          0.0010518264690832294
         ],
         "yaxis": "y20",
         "z": [
          [
           null,
           null,
           null,
           null,
           null,
           null,
           null,
           null,
           null,
           null,
           null,
           null
          ],
          [
           null,
           null,
           null,
           null,
           null,
           null,
           null,
           null,
           -56894.962,
           null,
           null,
           null
          ],
          [
           null,
           null,
           null,
           null,
           -56636.922,
           null,
           null,
           null,
           null,
           null,
           null,
           null
          ],
          [
           null,
           null,
           null,
           null,
           -55815.621999999996,
           null,
           null,
           null,
           null,
           null,
           null,
           null
          ],
          [
           null,
           null,
           null,
           null,
           -55304.654,
           null,
           null,
           null,
           null,
           null,
           null,
           null
          ],
          [
           null,
           -57585.958,
           null,
           null,
           null,
           null,
           null,
           null,
           null,
           null,
           null,
           null
          ],
          [
           null,
           null,
           -56246.052,
           null,
           null,
           null,
           null,
           null,
           null,
           null,
           null,
           null
          ],
          [
           null,
           null,
           null,
           null,
           -62513.752,
           null,
           null,
           null,
           null,
           null,
           null,
           null
          ],
          [
           null,
           null,
           null,
           null,
           null,
           -57692.2,
           null,
           null,
           null,
           null,
           null,
           null
          ],
          [
           null,
           null,
           null,
           null,
           null,
           null,
           null,
           null,
           -57692.490000000005,
           null,
           null,
           null
          ],
          [
           null,
           null,
           null,
           -63909.490000000005,
           null,
           null,
           null,
           null,
           null,
           null,
           null,
           null
          ],
          [
           null,
           null,
           null,
           null,
           null,
           -54319.630000000005,
           null,
           null,
           null,
           null,
           null,
           null
          ],
          [
           null,
           null,
           null,
           null,
           null,
           -56172.68200000001,
           null,
           null,
           null,
           null,
           null,
           null
          ],
          [
           null,
           null,
           null,
           null,
           null,
           null,
           -57134.58,
           null,
           null,
           null,
           null,
           null
          ],
          [
           null,
           null,
           -19549814.73,
           null,
           null,
           null,
           null,
           null,
           null,
           null,
           null,
           null
          ],
          [
           null,
           null,
           null,
           -57176.716,
           null,
           null,
           null,
           null,
           null,
           null,
           null,
           null
          ],
          [
           null,
           null,
           null,
           null,
           null,
           null,
           null,
           null,
           null,
           -57017.11,
           null,
           null
          ],
          [
           null,
           null,
           null,
           null,
           null,
           null,
           null,
           null,
           null,
           null,
           -56369.626000000004,
           null
          ],
          [
           null,
           null,
           null,
           null,
           null,
           null,
           -56457.295999999995,
           null,
           null,
           null,
           null,
           null
          ],
          [
           null,
           -57028.94600000001,
           null,
           null,
           null,
           null,
           null,
           null,
           null,
           null,
           null,
           null
          ],
          [
           null,
           null,
           null,
           null,
           null,
           null,
           null,
           -56869.409999999996,
           null,
           null,
           null,
           null
          ],
          [
           null,
           null,
           -54626.590000000004,
           null,
           null,
           null,
           null,
           null,
           null,
           null,
           null,
           null
          ],
          [
           null,
           null,
           null,
           null,
           null,
           -57957.740000000005,
           null,
           null,
           null,
           null,
           null,
           null
          ],
          [
           null,
           null,
           null,
           null,
           -57662.407999999996,
           null,
           null,
           null,
           null,
           null,
           null,
           null
          ],
          [
           null,
           null,
           -56306.902,
           null,
           null,
           null,
           null,
           null,
           null,
           null,
           null,
           null
          ],
          [
           null,
           null,
           null,
           -56235.48,
           null,
           null,
           null,
           null,
           null,
           null,
           null,
           null
          ],
          [
           null,
           null,
           null,
           null,
           null,
           null,
           null,
           null,
           null,
           null,
           null,
           null
          ]
         ]
        },
        {
         "marker": {
          "color": "black",
          "line": {
           "color": "Gray",
           "width": 2
          }
         },
         "mode": "markers",
         "name": "Feasible Trial",
         "showlegend": false,
         "type": "scatter",
         "x": [
          50000,
          350000,
          250000,
          100000,
          450000,
          400000,
          250000,
          250000,
          500000,
          400000,
          150000,
          100000,
          150000,
          300000,
          200000,
          50000,
          150000,
          200000,
          300000,
          100000,
          200000,
          200000,
          100000,
          250000,
          200000
         ],
         "xaxis": "x20",
         "y": [
          0.0002819806361553919,
          0.00028459630756932615,
          0.000036801111071766234,
          0.0003503413046533094,
          0.0001304818200599708,
          0.000012809465033620892,
          0.00035714762411623297,
          0.00005343712740537448,
          0.00014780795563390663,
          0.00004204007275751892,
          0.00004315917684290081,
          0.0007889069777456757,
          0.0008526711459190907,
          0.00006279454402795933,
          0.000013695227495103939,
          0.000023448472540963925,
          0.00008290617080872125,
          0.0005133664112376705,
          0.00018206291542001923,
          0.00008159522336783198,
          0.000020820172280287977,
          0.000022815776452938465,
          0.00002443625969661686,
          0.00005550917292060962,
          0.000030670742746636123
         ],
         "yaxis": "y20"
        },
        {
         "colorbar": {
          "title": {
           "text": "Objective Value"
          }
         },
         "colorscale": [
          [
           0,
           "rgb(247,251,255)"
          ],
          [
           0.125,
           "rgb(222,235,247)"
          ],
          [
           0.25,
           "rgb(198,219,239)"
          ],
          [
           0.375,
           "rgb(158,202,225)"
          ],
          [
           0.5,
           "rgb(107,174,214)"
          ],
          [
           0.625,
           "rgb(66,146,198)"
          ],
          [
           0.75,
           "rgb(33,113,181)"
          ],
          [
           0.875,
           "rgb(8,81,156)"
          ],
          [
           1,
           "rgb(8,48,107)"
          ]
         ],
         "connectgaps": true,
         "contours": {
          "coloring": "heatmap"
         },
         "hoverinfo": "none",
         "line": {
          "smoothing": 1.3
         },
         "reversescale": false,
         "showscale": false,
         "type": "contour",
         "x": [
          27500,
          50000,
          100000,
          150000,
          200000,
          250000,
          300000,
          350000,
          400000,
          450000,
          500000,
          522500
         ],
         "xaxis": "x26",
         "y": [
          0.08105115658444069,
          0.10044825719284384,
          0.10209472718990625,
          0.13903253090622913,
          0.1558134306050329,
          0.15862163909933125,
          0.17552967526098973,
          0.1851320757830969,
          0.18720161137015176,
          0.20652291135947348,
          0.20781340636946707,
          0.20951677991709033,
          0.23494929016068264,
          0.24354150134350885,
          0.2473782787839689,
          0.24916479341312883,
          0.2510889857943497,
          0.2540150568313335,
          0.2810514833732746,
          0.30063316972951354,
          0.30752924323583264,
          0.3497946626632852,
          0.3545390930971707,
          0.3617339115399135,
          0.4347943637537365,
          0.4883902693609067,
          0.5077873699693098
         ],
         "yaxis": "y26",
         "z": [
          [
           null,
           null,
           null,
           null,
           null,
           null,
           null,
           null,
           null,
           null,
           null,
           null
          ],
          [
           null,
           null,
           null,
           null,
           -56636.922,
           null,
           null,
           null,
           null,
           null,
           null,
           null
          ],
          [
           null,
           null,
           null,
           -63909.490000000005,
           null,
           null,
           null,
           null,
           null,
           null,
           null,
           null
          ],
          [
           null,
           null,
           null,
           null,
           null,
           -56172.68200000001,
           null,
           null,
           null,
           null,
           null,
           null
          ],
          [
           null,
           null,
           null,
           null,
           -57662.407999999996,
           null,
           null,
           null,
           null,
           null,
           null,
           null
          ],
          [
           null,
           null,
           null,
           null,
           null,
           null,
           null,
           -56869.409999999996,
           null,
           null,
           null,
           null
          ],
          [
           null,
           null,
           null,
           -56235.48,
           null,
           null,
           null,
           null,
           null,
           null,
           null,
           null
          ],
          [
           null,
           null,
           -56246.052,
           null,
           null,
           null,
           null,
           null,
           null,
           null,
           null,
           null
          ],
          [
           null,
           null,
           null,
           null,
           null,
           -54319.630000000005,
           null,
           null,
           null,
           null,
           null,
           null
          ],
          [
           null,
           null,
           null,
           null,
           null,
           null,
           -56457.295999999995,
           null,
           null,
           null,
           null,
           null
          ],
          [
           null,
           -57585.958,
           null,
           null,
           null,
           null,
           null,
           null,
           null,
           null,
           null,
           null
          ],
          [
           null,
           -57028.94600000001,
           null,
           null,
           null,
           null,
           null,
           null,
           null,
           null,
           null,
           null
          ],
          [
           null,
           null,
           null,
           null,
           -62513.752,
           null,
           null,
           null,
           null,
           null,
           null,
           null
          ],
          [
           null,
           null,
           null,
           null,
           -55304.654,
           null,
           null,
           null,
           null,
           null,
           null,
           null
          ],
          [
           null,
           null,
           -54626.590000000004,
           null,
           null,
           null,
           null,
           null,
           null,
           null,
           null,
           null
          ],
          [
           null,
           null,
           null,
           null,
           -55815.621999999996,
           null,
           null,
           null,
           null,
           null,
           null,
           null
          ],
          [
           null,
           null,
           -56306.902,
           null,
           null,
           null,
           null,
           null,
           null,
           null,
           null,
           null
          ],
          [
           null,
           null,
           null,
           null,
           null,
           null,
           null,
           null,
           null,
           -57017.11,
           null,
           null
          ],
          [
           null,
           null,
           null,
           null,
           null,
           null,
           -57134.58,
           null,
           null,
           null,
           null,
           null
          ],
          [
           null,
           null,
           null,
           -57176.716,
           null,
           null,
           null,
           null,
           null,
           null,
           null,
           null
          ],
          [
           null,
           null,
           -19549814.73,
           null,
           null,
           null,
           null,
           null,
           null,
           null,
           null,
           null
          ],
          [
           null,
           null,
           null,
           null,
           null,
           null,
           null,
           null,
           null,
           null,
           -56369.626000000004,
           null
          ],
          [
           null,
           null,
           null,
           null,
           null,
           -57692.2,
           null,
           null,
           null,
           null,
           null,
           null
          ],
          [
           null,
           null,
           null,
           null,
           null,
           null,
           null,
           null,
           -57692.490000000005,
           null,
           null,
           null
          ],
          [
           null,
           null,
           null,
           null,
           null,
           -57957.740000000005,
           null,
           null,
           null,
           null,
           null,
           null
          ],
          [
           null,
           null,
           null,
           null,
           null,
           null,
           null,
           null,
           -56894.962,
           null,
           null,
           null
          ],
          [
           null,
           null,
           null,
           null,
           null,
           null,
           null,
           null,
           null,
           null,
           null,
           null
          ]
         ]
        },
        {
         "marker": {
          "color": "black",
          "line": {
           "color": "Gray",
           "width": 2
          }
         },
         "mode": "markers",
         "name": "Feasible Trial",
         "showlegend": false,
         "type": "scatter",
         "x": [
          50000,
          350000,
          250000,
          100000,
          450000,
          400000,
          250000,
          250000,
          500000,
          400000,
          150000,
          100000,
          150000,
          300000,
          200000,
          50000,
          150000,
          200000,
          300000,
          100000,
          200000,
          200000,
          100000,
          250000,
          200000
         ],
         "xaxis": "x26",
         "y": [
          0.20951677991709033,
          0.15862163909933125,
          0.3545390930971707,
          0.2473782787839689,
          0.2540150568313335,
          0.4883902693609067,
          0.4347943637537365,
          0.18720161137015176,
          0.3497946626632852,
          0.3617339115399135,
          0.10209472718990625,
          0.2510889857943497,
          0.17552967526098973,
          0.2810514833732746,
          0.10044825719284384,
          0.20781340636946707,
          0.30063316972951354,
          0.1558134306050329,
          0.20652291135947348,
          0.30752924323583264,
          0.24916479341312883,
          0.24354150134350885,
          0.1851320757830969,
          0.13903253090622913,
          0.23494929016068264
         ],
         "yaxis": "y26"
        },
        {
         "colorbar": {
          "title": {
           "text": "Objective Value"
          }
         },
         "colorscale": [
          [
           0,
           "rgb(247,251,255)"
          ],
          [
           0.125,
           "rgb(222,235,247)"
          ],
          [
           0.25,
           "rgb(198,219,239)"
          ],
          [
           0.375,
           "rgb(158,202,225)"
          ],
          [
           0.5,
           "rgb(107,174,214)"
          ],
          [
           0.625,
           "rgb(66,146,198)"
          ],
          [
           0.75,
           "rgb(33,113,181)"
          ],
          [
           0.875,
           "rgb(8,81,156)"
          ],
          [
           1,
           "rgb(8,48,107)"
          ]
         ],
         "connectgaps": true,
         "contours": {
          "coloring": "heatmap"
         },
         "hoverinfo": "none",
         "line": {
          "smoothing": 1.3
         },
         "reversescale": false,
         "showscale": false,
         "type": "contour",
         "x": [
          27500,
          50000,
          100000,
          150000,
          200000,
          250000,
          300000,
          350000,
          400000,
          450000,
          500000,
          522500
         ],
         "xaxis": "x32",
         "y": [
          0.0008248986629477462,
          0.0010353515655146064,
          0.001187979237031665,
          0.0016614223857966755,
          0.0019208761913845824,
          0.0019967482118355855,
          0.0022192447282842905,
          0.0029177498759307167,
          0.0029411283079602067,
          0.00370874486162138,
          0.004567736817916702,
          0.0046089815988702085,
          0.005277965146005758,
          0.0068478989391215685,
          0.007219334111366669,
          0.00967920237144436,
          0.01277594799676972,
          0.012852229148185504,
          0.021668075767865797,
          0.02419198172590692,
          0.03129999895887123,
          0.045665957204979166,
          0.049436652822015065,
          0.05036048515381466,
          0.09257520224123574,
          0.09746142150556884,
          0.1223263412410957
         ],
         "yaxis": "y32",
         "z": [
          [
           null,
           null,
           null,
           null,
           null,
           null,
           null,
           null,
           null,
           null,
           null,
           null
          ],
          [
           null,
           null,
           null,
           -63909.490000000005,
           null,
           null,
           null,
           null,
           null,
           null,
           null,
           null
          ],
          [
           null,
           null,
           null,
           null,
           null,
           null,
           null,
           null,
           null,
           -57017.11,
           null,
           null
          ],
          [
           null,
           null,
           -19549814.73,
           null,
           null,
           null,
           null,
           null,
           null,
           null,
           null,
           null
          ],
          [
           null,
           null,
           null,
           null,
           -62513.752,
           null,
           null,
           null,
           null,
           null,
           null,
           null
          ],
          [
           null,
           null,
           null,
           null,
           null,
           -54319.630000000005,
           null,
           null,
           null,
           null,
           null,
           null
          ],
          [
           null,
           null,
           null,
           -57176.716,
           null,
           null,
           null,
           null,
           null,
           null,
           null,
           null
          ],
          [
           null,
           null,
           null,
           null,
           -56636.922,
           null,
           null,
           null,
           null,
           null,
           null,
           null
          ],
          [
           null,
           -57028.94600000001,
           null,
           null,
           null,
           null,
           null,
           null,
           null,
           null,
           null,
           null
          ],
          [
           null,
           null,
           null,
           null,
           -55815.621999999996,
           null,
           null,
           null,
           null,
           null,
           null,
           null
          ],
          [
           null,
           null,
           -56246.052,
           null,
           null,
           null,
           null,
           null,
           null,
           null,
           null,
           null
          ],
          [
           null,
           null,
           null,
           null,
           -55304.654,
           null,
           null,
           null,
           null,
           null,
           null,
           null
          ],
          [
           null,
           null,
           null,
           null,
           null,
           null,
           null,
           null,
           -56894.962,
           null,
           null,
           null
          ],
          [
           null,
           null,
           null,
           null,
           null,
           null,
           null,
           null,
           -57692.490000000005,
           null,
           null,
           null
          ],
          [
           null,
           null,
           null,
           null,
           null,
           null,
           null,
           -56869.409999999996,
           null,
           null,
           null,
           null
          ],
          [
           null,
           null,
           null,
           null,
           null,
           -57692.2,
           null,
           null,
           null,
           null,
           null,
           null
          ],
          [
           null,
           null,
           null,
           null,
           -57662.407999999996,
           null,
           null,
           null,
           null,
           null,
           null,
           null
          ],
          [
           null,
           null,
           null,
           null,
           null,
           -56172.68200000001,
           null,
           null,
           null,
           null,
           null,
           null
          ],
          [
           null,
           null,
           null,
           null,
           null,
           -57957.740000000005,
           null,
           null,
           null,
           null,
           null,
           null
          ],
          [
           null,
           null,
           null,
           null,
           null,
           null,
           -57134.58,
           null,
           null,
           null,
           null,
           null
          ],
          [
           null,
           null,
           null,
           null,
           null,
           null,
           null,
           null,
           null,
           null,
           -56369.626000000004,
           null
          ],
          [
           null,
           null,
           -54626.590000000004,
           null,
           null,
           null,
           null,
           null,
           null,
           null,
           null,
           null
          ],
          [
           null,
           -57585.958,
           null,
           null,
           null,
           null,
           null,
           null,
           null,
           null,
           null,
           null
          ],
          [
           null,
           null,
           null,
           null,
           null,
           null,
           -56457.295999999995,
           null,
           null,
           null,
           null,
           null
          ],
          [
           null,
           null,
           -56306.902,
           null,
           null,
           null,
           null,
           null,
           null,
           null,
           null,
           null
          ],
          [
           null,
           null,
           null,
           -56235.48,
           null,
           null,
           null,
           null,
           null,
           null,
           null,
           null
          ],
          [
           null,
           null,
           null,
           null,
           null,
           null,
           null,
           null,
           null,
           null,
           null,
           null
          ]
         ]
        },
        {
         "marker": {
          "color": "black",
          "line": {
           "color": "Gray",
           "width": 2
          }
         },
         "mode": "markers",
         "name": "Feasible Trial",
         "showlegend": false,
         "type": "scatter",
         "x": [
          50000,
          350000,
          250000,
          100000,
          450000,
          400000,
          250000,
          250000,
          500000,
          400000,
          150000,
          100000,
          150000,
          300000,
          200000,
          50000,
          150000,
          200000,
          300000,
          100000,
          200000,
          200000,
          100000,
          250000,
          200000
         ],
         "xaxis": "x32",
         "y": [
          0.0029411283079602067,
          0.007219334111366669,
          0.00967920237144436,
          0.045665957204979166,
          0.001187979237031665,
          0.005277965146005758,
          0.021668075767865797,
          0.0019967482118355855,
          0.03129999895887123,
          0.0068478989391215685,
          0.0010353515655146064,
          0.09257520224123574,
          0.09746142150556884,
          0.02419198172590692,
          0.0029177498759307167,
          0.049436652822015065,
          0.0022192447282842905,
          0.01277594799676972,
          0.05036048515381466,
          0.0016614223857966755,
          0.00370874486162138,
          0.0046089815988702085,
          0.004567736817916702,
          0.012852229148185504,
          0.0019208761913845824
         ],
         "yaxis": "y32"
        },
        {
         "colorbar": {
          "title": {
           "text": "Objective Value"
          }
         },
         "colorscale": [
          [
           0,
           "rgb(247,251,255)"
          ],
          [
           0.125,
           "rgb(222,235,247)"
          ],
          [
           0.25,
           "rgb(198,219,239)"
          ],
          [
           0.375,
           "rgb(158,202,225)"
          ],
          [
           0.5,
           "rgb(107,174,214)"
          ],
          [
           0.625,
           "rgb(66,146,198)"
          ],
          [
           0.75,
           "rgb(33,113,181)"
          ],
          [
           0.875,
           "rgb(8,81,156)"
          ],
          [
           1,
           "rgb(8,48,107)"
          ]
         ],
         "connectgaps": true,
         "contours": {
          "coloring": "heatmap"
         },
         "hoverinfo": "none",
         "line": {
          "smoothing": 1.3
         },
         "reversescale": false,
         "showscale": false,
         "type": "contour",
         "x": [
          0.8974453434286189,
          0.9019352825221195,
          0.9096140750982753,
          0.9123476930941506,
          0.920468262220192,
          0.9206097195855281,
          0.9216484011486659,
          0.926364134131323,
          0.9306844399486447,
          0.935028002418254,
          0.9400781671181636,
          0.9426452609614562,
          0.9461070376872395,
          0.9483505657961858,
          0.9497968235255966,
          0.9551415511242626,
          0.9557228564582686,
          0.9604047030602296,
          0.9631174579822008,
          0.9635749641192399,
          0.9704343706710925,
          0.9725514776636865,
          0.9737426144945708,
          0.9826048292201849,
          0.9893001327119111,
          0.991734064392131,
          0.9962240034856316
         ],
         "xaxis": "x3",
         "y": [
          20.799999999999997,
          32,
          64,
          128,
          256,
          267.2
         ],
         "yaxis": "y3",
         "z": [
          [
           null,
           null,
           null,
           null,
           null,
           null,
           null,
           null,
           null,
           null,
           null,
           null,
           null,
           null,
           null,
           null,
           null,
           null,
           null,
           null,
           null,
           null,
           null,
           null,
           null,
           null,
           null
          ],
          [
           null,
           -56636.922,
           null,
           null,
           null,
           -56869.409999999996,
           null,
           null,
           null,
           -63909.490000000005,
           null,
           null,
           null,
           null,
           null,
           null,
           -57017.11,
           -56457.295999999995,
           null,
           -54319.630000000005,
           null,
           null,
           null,
           -57692.490000000005,
           null,
           null,
           null
          ],
          [
           null,
           null,
           null,
           null,
           null,
           null,
           null,
           null,
           null,
           null,
           null,
           null,
           null,
           null,
           null,
           -57176.716,
           null,
           null,
           null,
           null,
           -57692.2,
           null,
           null,
           null,
           -57957.740000000005,
           null,
           null
          ],
          [
           null,
           null,
           null,
           null,
           -56369.626000000004,
           null,
           null,
           null,
           null,
           null,
           null,
           null,
           null,
           null,
           null,
           null,
           null,
           null,
           null,
           null,
           null,
           null,
           -57662.407999999996,
           null,
           null,
           -56894.962,
           null
          ],
          [
           null,
           null,
           -56246.052,
           -62513.752,
           null,
           null,
           -55304.654,
           -55815.621999999996,
           -57585.958,
           null,
           -19549814.73,
           -56306.902,
           -56235.48,
           -56172.68200000001,
           -54626.590000000004,
           null,
           null,
           null,
           -57028.94600000001,
           null,
           null,
           -57134.58,
           null,
           null,
           null,
           null,
           null
          ],
          [
           null,
           null,
           null,
           null,
           null,
           null,
           null,
           null,
           null,
           null,
           null,
           null,
           null,
           null,
           null,
           null,
           null,
           null,
           null,
           null,
           null,
           null,
           null,
           null,
           null,
           null,
           null
          ]
         ]
        },
        {
         "marker": {
          "color": "black",
          "line": {
           "color": "Gray",
           "width": 2
          }
         },
         "mode": "markers",
         "name": "Feasible Trial",
         "showlegend": false,
         "type": "scatter",
         "x": [
          0.9631174579822008,
          0.9206097195855281,
          0.9704343706710925,
          0.9497968235255966,
          0.9557228564582686,
          0.991734064392131,
          0.9893001327119111,
          0.9635749641192399,
          0.920468262220192,
          0.9826048292201849,
          0.935028002418254,
          0.9426452609614562,
          0.9461070376872395,
          0.9725514776636865,
          0.9019352825221195,
          0.9306844399486447,
          0.9551415511242626,
          0.9737426144945708,
          0.9604047030602296,
          0.9400781671181636,
          0.926364134131323,
          0.9216484011486659,
          0.9096140750982753,
          0.9483505657961858,
          0.9123476930941506
         ],
         "xaxis": "x3",
         "y": [
          256,
          32,
          64,
          256,
          32,
          128,
          64,
          32,
          128,
          32,
          32,
          256,
          256,
          256,
          32,
          256,
          64,
          128,
          32,
          256,
          256,
          256,
          256,
          256,
          256
         ],
         "yaxis": "y3"
        },
        {
         "colorbar": {
          "title": {
           "text": "Objective Value"
          }
         },
         "colorscale": [
          [
           0,
           "rgb(247,251,255)"
          ],
          [
           0.125,
           "rgb(222,235,247)"
          ],
          [
           0.25,
           "rgb(198,219,239)"
          ],
          [
           0.375,
           "rgb(158,202,225)"
          ],
          [
           0.5,
           "rgb(107,174,214)"
          ],
          [
           0.625,
           "rgb(66,146,198)"
          ],
          [
           0.75,
           "rgb(33,113,181)"
          ],
          [
           0.875,
           "rgb(8,81,156)"
          ],
          [
           1,
           "rgb(8,48,107)"
          ]
         ],
         "connectgaps": true,
         "contours": {
          "coloring": "heatmap"
         },
         "hoverinfo": "none",
         "line": {
          "smoothing": 1.3
         },
         "reversescale": false,
         "showscale": false,
         "type": "contour",
         "x": [
          0.8974453434286189,
          0.9019352825221195,
          0.9096140750982753,
          0.9123476930941506,
          0.920468262220192,
          0.9206097195855281,
          0.9216484011486659,
          0.926364134131323,
          0.9306844399486447,
          0.935028002418254,
          0.9400781671181636,
          0.9426452609614562,
          0.9461070376872395,
          0.9483505657961858,
          0.9497968235255966,
          0.9551415511242626,
          0.9557228564582686,
          0.9604047030602296,
          0.9631174579822008,
          0.9635749641192399,
          0.9704343706710925,
          0.9725514776636865,
          0.9737426144945708,
          0.9826048292201849,
          0.9893001327119111,
          0.991734064392131,
          0.9962240034856316
         ],
         "xaxis": "x9",
         "y": [
          27500,
          50000,
          100000,
          150000,
          200000,
          250000,
          300000,
          350000,
          400000,
          450000,
          500000,
          522500
         ],
         "yaxis": "y9",
         "z": [
          [
           null,
           null,
           null,
           null,
           null,
           null,
           null,
           null,
           null,
           null,
           null,
           null,
           null,
           null,
           null,
           null,
           null,
           null,
           null,
           null,
           null,
           null,
           null,
           null,
           null,
           null,
           null
          ],
          [
           null,
           null,
           null,
           null,
           null,
           null,
           null,
           null,
           -57585.958,
           null,
           null,
           null,
           null,
           null,
           null,
           null,
           null,
           null,
           -57028.94600000001,
           null,
           null,
           null,
           null,
           null,
           null,
           null,
           null
          ],
          [
           null,
           null,
           -56246.052,
           null,
           null,
           null,
           null,
           null,
           null,
           null,
           -19549814.73,
           -56306.902,
           null,
           null,
           -54626.590000000004,
           null,
           null,
           null,
           null,
           null,
           null,
           null,
           null,
           null,
           null,
           null,
           null
          ],
          [
           null,
           null,
           null,
           null,
           null,
           null,
           null,
           null,
           null,
           -63909.490000000005,
           null,
           null,
           -56235.48,
           null,
           null,
           -57176.716,
           null,
           null,
           null,
           null,
           null,
           null,
           null,
           null,
           null,
           null,
           null
          ],
          [
           null,
           -56636.922,
           null,
           -62513.752,
           null,
           null,
           -55304.654,
           -55815.621999999996,
           null,
           null,
           null,
           null,
           null,
           null,
           null,
           null,
           null,
           null,
           null,
           null,
           null,
           null,
           -57662.407999999996,
           null,
           null,
           null,
           null
          ],
          [
           null,
           null,
           null,
           null,
           null,
           null,
           null,
           null,
           null,
           null,
           null,
           null,
           null,
           -56172.68200000001,
           null,
           null,
           null,
           null,
           null,
           -54319.630000000005,
           -57692.2,
           null,
           null,
           null,
           -57957.740000000005,
           null,
           null
          ],
          [
           null,
           null,
           null,
           null,
           null,
           null,
           null,
           null,
           null,
           null,
           null,
           null,
           null,
           null,
           null,
           null,
           null,
           -56457.295999999995,
           null,
           null,
           null,
           -57134.58,
           null,
           null,
           null,
           null,
           null
          ],
          [
           null,
           null,
           null,
           null,
           null,
           -56869.409999999996,
           null,
           null,
           null,
           null,
           null,
           null,
           null,
           null,
           null,
           null,
           null,
           null,
           null,
           null,
           null,
           null,
           null,
           null,
           null,
           null,
           null
          ],
          [
           null,
           null,
           null,
           null,
           null,
           null,
           null,
           null,
           null,
           null,
           null,
           null,
           null,
           null,
           null,
           null,
           null,
           null,
           null,
           null,
           null,
           null,
           null,
           -57692.490000000005,
           null,
           -56894.962,
           null
          ],
          [
           null,
           null,
           null,
           null,
           null,
           null,
           null,
           null,
           null,
           null,
           null,
           null,
           null,
           null,
           null,
           null,
           -57017.11,
           null,
           null,
           null,
           null,
           null,
           null,
           null,
           null,
           null,
           null
          ],
          [
           null,
           null,
           null,
           null,
           -56369.626000000004,
           null,
           null,
           null,
           null,
           null,
           null,
           null,
           null,
           null,
           null,
           null,
           null,
           null,
           null,
           null,
           null,
           null,
           null,
           null,
           null,
           null,
           null
          ],
          [
           null,
           null,
           null,
           null,
           null,
           null,
           null,
           null,
           null,
           null,
           null,
           null,
           null,
           null,
           null,
           null,
           null,
           null,
           null,
           null,
           null,
           null,
           null,
           null,
           null,
           null,
           null
          ]
         ]
        },
        {
         "marker": {
          "color": "black",
          "line": {
           "color": "Gray",
           "width": 2
          }
         },
         "mode": "markers",
         "name": "Feasible Trial",
         "showlegend": false,
         "type": "scatter",
         "x": [
          0.9631174579822008,
          0.9206097195855281,
          0.9704343706710925,
          0.9497968235255966,
          0.9557228564582686,
          0.991734064392131,
          0.9893001327119111,
          0.9635749641192399,
          0.920468262220192,
          0.9826048292201849,
          0.935028002418254,
          0.9426452609614562,
          0.9461070376872395,
          0.9725514776636865,
          0.9019352825221195,
          0.9306844399486447,
          0.9551415511242626,
          0.9737426144945708,
          0.9604047030602296,
          0.9400781671181636,
          0.926364134131323,
          0.9216484011486659,
          0.9096140750982753,
          0.9483505657961858,
          0.9123476930941506
         ],
         "xaxis": "x9",
         "y": [
          50000,
          350000,
          250000,
          100000,
          450000,
          400000,
          250000,
          250000,
          500000,
          400000,
          150000,
          100000,
          150000,
          300000,
          200000,
          50000,
          150000,
          200000,
          300000,
          100000,
          200000,
          200000,
          100000,
          250000,
          200000
         ],
         "yaxis": "y9"
        },
        {
         "type": "scatter",
         "xaxis": "x15",
         "yaxis": "y15"
        },
        {
         "colorbar": {
          "title": {
           "text": "Objective Value"
          }
         },
         "colorscale": [
          [
           0,
           "rgb(247,251,255)"
          ],
          [
           0.125,
           "rgb(222,235,247)"
          ],
          [
           0.25,
           "rgb(198,219,239)"
          ],
          [
           0.375,
           "rgb(158,202,225)"
          ],
          [
           0.5,
           "rgb(107,174,214)"
          ],
          [
           0.625,
           "rgb(66,146,198)"
          ],
          [
           0.75,
           "rgb(33,113,181)"
          ],
          [
           0.875,
           "rgb(8,81,156)"
          ],
          [
           1,
           "rgb(8,48,107)"
          ]
         ],
         "connectgaps": true,
         "contours": {
          "coloring": "heatmap"
         },
         "hoverinfo": "none",
         "line": {
          "smoothing": 1.3
         },
         "reversescale": false,
         "showscale": false,
         "type": "contour",
         "x": [
          0.8974453434286189,
          0.9019352825221195,
          0.9096140750982753,
          0.9123476930941506,
          0.920468262220192,
          0.9206097195855281,
          0.9216484011486659,
          0.926364134131323,
          0.9306844399486447,
          0.935028002418254,
          0.9400781671181636,
          0.9426452609614562,
          0.9461070376872395,
          0.9483505657961858,
          0.9497968235255966,
          0.9551415511242626,
          0.9557228564582686,
          0.9604047030602296,
          0.9631174579822008,
          0.9635749641192399,
          0.9704343706710925,
          0.9725514776636865,
          0.9737426144945708,
          0.9826048292201849,
          0.9893001327119111,
          0.991734064392131,
          0.9962240034856316
         ],
         "xaxis": "x21",
         "y": [
          0.00001038409048438178,
          0.000012809465033620892,
          0.000013695227495103939,
          0.000020820172280287977,
          0.000022815776452938465,
          0.000023448472540963925,
          0.00002443625969661686,
          0.000030670742746636123,
          0.000036801111071766234,
          0.00004204007275751892,
          0.00004315917684290081,
          0.00005343712740537448,
          0.00005550917292060962,
          0.00006279454402795933,
          0.00008159522336783198,
          0.00008290617080872125,
          0.0001304818200599708,
          0.00014780795563390663,
          0.00018206291542001923,
          0.0002819806361553919,
          0.00028459630756932615,
          0.0003503413046533094,
          0.00035714762411623297,
          0.0005133664112376705,
          0.0007889069777456757,
          0.0008526711459190907,
          0.0010518264690832294
         ],
         "yaxis": "y21",
         "z": [
          [
           null,
           null,
           null,
           null,
           null,
           null,
           null,
           null,
           null,
           null,
           null,
           null,
           null,
           null,
           null,
           null,
           null,
           null,
           null,
           null,
           null,
           null,
           null,
           null,
           null,
           null,
           null
          ],
          [
           null,
           null,
           null,
           null,
           null,
           null,
           null,
           null,
           null,
           null,
           null,
           null,
           null,
           null,
           null,
           null,
           null,
           null,
           null,
           null,
           null,
           null,
           null,
           null,
           null,
           -56894.962,
           null
          ],
          [
           null,
           -56636.922,
           null,
           null,
           null,
           null,
           null,
           null,
           null,
           null,
           null,
           null,
           null,
           null,
           null,
           null,
           null,
           null,
           null,
           null,
           null,
           null,
           null,
           null,
           null,
           null,
           null
          ],
          [
           null,
           null,
           null,
           null,
           null,
           null,
           null,
           -55815.621999999996,
           null,
           null,
           null,
           null,
           null,
           null,
           null,
           null,
           null,
           null,
           null,
           null,
           null,
           null,
           null,
           null,
           null,
           null,
           null
          ],
          [
           null,
           null,
           null,
           null,
           null,
           null,
           -55304.654,
           null,
           null,
           null,
           null,
           null,
           null,
           null,
           null,
           null,
           null,
           null,
           null,
           null,
           null,
           null,
           null,
           null,
           null,
           null,
           null
          ],
          [
           null,
           null,
           null,
           null,
           null,
           null,
           null,
           null,
           -57585.958,
           null,
           null,
           null,
           null,
           null,
           null,
           null,
           null,
           null,
           null,
           null,
           null,
           null,
           null,
           null,
           null,
           null,
           null
          ],
          [
           null,
           null,
           -56246.052,
           null,
           null,
           null,
           null,
           null,
           null,
           null,
           null,
           null,
           null,
           null,
           null,
           null,
           null,
           null,
           null,
           null,
           null,
           null,
           null,
           null,
           null,
           null,
           null
          ],
          [
           null,
           null,
           null,
           -62513.752,
           null,
           null,
           null,
           null,
           null,
           null,
           null,
           null,
           null,
           null,
           null,
           null,
           null,
           null,
           null,
           null,
           null,
           null,
           null,
           null,
           null,
           null,
           null
          ],
          [
           null,
           null,
           null,
           null,
           null,
           null,
           null,
           null,
           null,
           null,
           null,
           null,
           null,
           null,
           null,
           null,
           null,
           null,
           null,
           null,
           -57692.2,
           null,
           null,
           null,
           null,
           null,
           null
          ],
          [
           null,
           null,
           null,
           null,
           null,
           null,
           null,
           null,
           null,
           null,
           null,
           null,
           null,
           null,
           null,
           null,
           null,
           null,
           null,
           null,
           null,
           null,
           null,
           -57692.490000000005,
           null,
           null,
           null
          ],
          [
           null,
           null,
           null,
           null,
           null,
           null,
           null,
           null,
           null,
           -63909.490000000005,
           null,
           null,
           null,
           null,
           null,
           null,
           null,
           null,
           null,
           null,
           null,
           null,
           null,
           null,
           null,
           null,
           null
          ],
          [
           null,
           null,
           null,
           null,
           null,
           null,
           null,
           null,
           null,
           null,
           null,
           null,
           null,
           null,
           null,
           null,
           null,
           null,
           null,
           -54319.630000000005,
           null,
           null,
           null,
           null,
           null,
           null,
           null
          ],
          [
           null,
           null,
           null,
           null,
           null,
           null,
           null,
           null,
           null,
           null,
           null,
           null,
           null,
           -56172.68200000001,
           null,
           null,
           null,
           null,
           null,
           null,
           null,
           null,
           null,
           null,
           null,
           null,
           null
          ],
          [
           null,
           null,
           null,
           null,
           null,
           null,
           null,
           null,
           null,
           null,
           null,
           null,
           null,
           null,
           null,
           null,
           null,
           null,
           null,
           null,
           null,
           -57134.58,
           null,
           null,
           null,
           null,
           null
          ],
          [
           null,
           null,
           null,
           null,
           null,
           null,
           null,
           null,
           null,
           null,
           -19549814.73,
           null,
           null,
           null,
           null,
           null,
           null,
           null,
           null,
           null,
           null,
           null,
           null,
           null,
           null,
           null,
           null
          ],
          [
           null,
           null,
           null,
           null,
           null,
           null,
           null,
           null,
           null,
           null,
           null,
           null,
           null,
           null,
           null,
           -57176.716,
           null,
           null,
           null,
           null,
           null,
           null,
           null,
           null,
           null,
           null,
           null
          ],
          [
           null,
           null,
           null,
           null,
           null,
           null,
           null,
           null,
           null,
           null,
           null,
           null,
           null,
           null,
           null,
           null,
           -57017.11,
           null,
           null,
           null,
           null,
           null,
           null,
           null,
           null,
           null,
           null
          ],
          [
           null,
           null,
           null,
           null,
           -56369.626000000004,
           null,
           null,
           null,
           null,
           null,
           null,
           null,
           null,
           null,
           null,
           null,
           null,
           null,
           null,
           null,
           null,
           null,
           null,
           null,
           null,
           null,
           null
          ],
          [
           null,
           null,
           null,
           null,
           null,
           null,
           null,
           null,
           null,
           null,
           null,
           null,
           null,
           null,
           null,
           null,
           null,
           -56457.295999999995,
           null,
           null,
           null,
           null,
           null,
           null,
           null,
           null,
           null
          ],
          [
           null,
           null,
           null,
           null,
           null,
           null,
           null,
           null,
           null,
           null,
           null,
           null,
           null,
           null,
           null,
           null,
           null,
           null,
           -57028.94600000001,
           null,
           null,
           null,
           null,
           null,
           null,
           null,
           null
          ],
          [
           null,
           null,
           null,
           null,
           null,
           -56869.409999999996,
           null,
           null,
           null,
           null,
           null,
           null,
           null,
           null,
           null,
           null,
           null,
           null,
           null,
           null,
           null,
           null,
           null,
           null,
           null,
           null,
           null
          ],
          [
           null,
           null,
           null,
           null,
           null,
           null,
           null,
           null,
           null,
           null,
           null,
           null,
           null,
           null,
           -54626.590000000004,
           null,
           null,
           null,
           null,
           null,
           null,
           null,
           null,
           null,
           null,
           null,
           null
          ],
          [
           null,
           null,
           null,
           null,
           null,
           null,
           null,
           null,
           null,
           null,
           null,
           null,
           null,
           null,
           null,
           null,
           null,
           null,
           null,
           null,
           null,
           null,
           null,
           null,
           -57957.740000000005,
           null,
           null
          ],
          [
           null,
           null,
           null,
           null,
           null,
           null,
           null,
           null,
           null,
           null,
           null,
           null,
           null,
           null,
           null,
           null,
           null,
           null,
           null,
           null,
           null,
           null,
           -57662.407999999996,
           null,
           null,
           null,
           null
          ],
          [
           null,
           null,
           null,
           null,
           null,
           null,
           null,
           null,
           null,
           null,
           null,
           -56306.902,
           null,
           null,
           null,
           null,
           null,
           null,
           null,
           null,
           null,
           null,
           null,
           null,
           null,
           null,
           null
          ],
          [
           null,
           null,
           null,
           null,
           null,
           null,
           null,
           null,
           null,
           null,
           null,
           null,
           -56235.48,
           null,
           null,
           null,
           null,
           null,
           null,
           null,
           null,
           null,
           null,
           null,
           null,
           null,
           null
          ],
          [
           null,
           null,
           null,
           null,
           null,
           null,
           null,
           null,
           null,
           null,
           null,
           null,
           null,
           null,
           null,
           null,
           null,
           null,
           null,
           null,
           null,
           null,
           null,
           null,
           null,
           null,
           null
          ]
         ]
        },
        {
         "marker": {
          "color": "black",
          "line": {
           "color": "Gray",
           "width": 2
          }
         },
         "mode": "markers",
         "name": "Feasible Trial",
         "showlegend": false,
         "type": "scatter",
         "x": [
          0.9631174579822008,
          0.9206097195855281,
          0.9704343706710925,
          0.9497968235255966,
          0.9557228564582686,
          0.991734064392131,
          0.9893001327119111,
          0.9635749641192399,
          0.920468262220192,
          0.9826048292201849,
          0.935028002418254,
          0.9426452609614562,
          0.9461070376872395,
          0.9725514776636865,
          0.9019352825221195,
          0.9306844399486447,
          0.9551415511242626,
          0.9737426144945708,
          0.9604047030602296,
          0.9400781671181636,
          0.926364134131323,
          0.9216484011486659,
          0.9096140750982753,
          0.9483505657961858,
          0.9123476930941506
         ],
         "xaxis": "x21",
         "y": [
          0.0002819806361553919,
          0.00028459630756932615,
          0.000036801111071766234,
          0.0003503413046533094,
          0.0001304818200599708,
          0.000012809465033620892,
          0.00035714762411623297,
          0.00005343712740537448,
          0.00014780795563390663,
          0.00004204007275751892,
          0.00004315917684290081,
          0.0007889069777456757,
          0.0008526711459190907,
          0.00006279454402795933,
          0.000013695227495103939,
          0.000023448472540963925,
          0.00008290617080872125,
          0.0005133664112376705,
          0.00018206291542001923,
          0.00008159522336783198,
          0.000020820172280287977,
          0.000022815776452938465,
          0.00002443625969661686,
          0.00005550917292060962,
          0.000030670742746636123
         ],
         "yaxis": "y21"
        },
        {
         "colorbar": {
          "title": {
           "text": "Objective Value"
          }
         },
         "colorscale": [
          [
           0,
           "rgb(247,251,255)"
          ],
          [
           0.125,
           "rgb(222,235,247)"
          ],
          [
           0.25,
           "rgb(198,219,239)"
          ],
          [
           0.375,
           "rgb(158,202,225)"
          ],
          [
           0.5,
           "rgb(107,174,214)"
          ],
          [
           0.625,
           "rgb(66,146,198)"
          ],
          [
           0.75,
           "rgb(33,113,181)"
          ],
          [
           0.875,
           "rgb(8,81,156)"
          ],
          [
           1,
           "rgb(8,48,107)"
          ]
         ],
         "connectgaps": true,
         "contours": {
          "coloring": "heatmap"
         },
         "hoverinfo": "none",
         "line": {
          "smoothing": 1.3
         },
         "reversescale": false,
         "showscale": false,
         "type": "contour",
         "x": [
          0.8974453434286189,
          0.9019352825221195,
          0.9096140750982753,
          0.9123476930941506,
          0.920468262220192,
          0.9206097195855281,
          0.9216484011486659,
          0.926364134131323,
          0.9306844399486447,
          0.935028002418254,
          0.9400781671181636,
          0.9426452609614562,
          0.9461070376872395,
          0.9483505657961858,
          0.9497968235255966,
          0.9551415511242626,
          0.9557228564582686,
          0.9604047030602296,
          0.9631174579822008,
          0.9635749641192399,
          0.9704343706710925,
          0.9725514776636865,
          0.9737426144945708,
          0.9826048292201849,
          0.9893001327119111,
          0.991734064392131,
          0.9962240034856316
         ],
         "xaxis": "x27",
         "y": [
          0.08105115658444069,
          0.10044825719284384,
          0.10209472718990625,
          0.13903253090622913,
          0.1558134306050329,
          0.15862163909933125,
          0.17552967526098973,
          0.1851320757830969,
          0.18720161137015176,
          0.20652291135947348,
          0.20781340636946707,
          0.20951677991709033,
          0.23494929016068264,
          0.24354150134350885,
          0.2473782787839689,
          0.24916479341312883,
          0.2510889857943497,
          0.2540150568313335,
          0.2810514833732746,
          0.30063316972951354,
          0.30752924323583264,
          0.3497946626632852,
          0.3545390930971707,
          0.3617339115399135,
          0.4347943637537365,
          0.4883902693609067,
          0.5077873699693098
         ],
         "yaxis": "y27",
         "z": [
          [
           null,
           null,
           null,
           null,
           null,
           null,
           null,
           null,
           null,
           null,
           null,
           null,
           null,
           null,
           null,
           null,
           null,
           null,
           null,
           null,
           null,
           null,
           null,
           null,
           null,
           null,
           null
          ],
          [
           null,
           -56636.922,
           null,
           null,
           null,
           null,
           null,
           null,
           null,
           null,
           null,
           null,
           null,
           null,
           null,
           null,
           null,
           null,
           null,
           null,
           null,
           null,
           null,
           null,
           null,
           null,
           null
          ],
          [
           null,
           null,
           null,
           null,
           null,
           null,
           null,
           null,
           null,
           -63909.490000000005,
           null,
           null,
           null,
           null,
           null,
           null,
           null,
           null,
           null,
           null,
           null,
           null,
           null,
           null,
           null,
           null,
           null
          ],
          [
           null,
           null,
           null,
           null,
           null,
           null,
           null,
           null,
           null,
           null,
           null,
           null,
           null,
           -56172.68200000001,
           null,
           null,
           null,
           null,
           null,
           null,
           null,
           null,
           null,
           null,
           null,
           null,
           null
          ],
          [
           null,
           null,
           null,
           null,
           null,
           null,
           null,
           null,
           null,
           null,
           null,
           null,
           null,
           null,
           null,
           null,
           null,
           null,
           null,
           null,
           null,
           null,
           -57662.407999999996,
           null,
           null,
           null,
           null
          ],
          [
           null,
           null,
           null,
           null,
           null,
           -56869.409999999996,
           null,
           null,
           null,
           null,
           null,
           null,
           null,
           null,
           null,
           null,
           null,
           null,
           null,
           null,
           null,
           null,
           null,
           null,
           null,
           null,
           null
          ],
          [
           null,
           null,
           null,
           null,
           null,
           null,
           null,
           null,
           null,
           null,
           null,
           null,
           -56235.48,
           null,
           null,
           null,
           null,
           null,
           null,
           null,
           null,
           null,
           null,
           null,
           null,
           null,
           null
          ],
          [
           null,
           null,
           -56246.052,
           null,
           null,
           null,
           null,
           null,
           null,
           null,
           null,
           null,
           null,
           null,
           null,
           null,
           null,
           null,
           null,
           null,
           null,
           null,
           null,
           null,
           null,
           null,
           null
          ],
          [
           null,
           null,
           null,
           null,
           null,
           null,
           null,
           null,
           null,
           null,
           null,
           null,
           null,
           null,
           null,
           null,
           null,
           null,
           null,
           -54319.630000000005,
           null,
           null,
           null,
           null,
           null,
           null,
           null
          ],
          [
           null,
           null,
           null,
           null,
           null,
           null,
           null,
           null,
           null,
           null,
           null,
           null,
           null,
           null,
           null,
           null,
           null,
           -56457.295999999995,
           null,
           null,
           null,
           null,
           null,
           null,
           null,
           null,
           null
          ],
          [
           null,
           null,
           null,
           null,
           null,
           null,
           null,
           null,
           -57585.958,
           null,
           null,
           null,
           null,
           null,
           null,
           null,
           null,
           null,
           null,
           null,
           null,
           null,
           null,
           null,
           null,
           null,
           null
          ],
          [
           null,
           null,
           null,
           null,
           null,
           null,
           null,
           null,
           null,
           null,
           null,
           null,
           null,
           null,
           null,
           null,
           null,
           null,
           -57028.94600000001,
           null,
           null,
           null,
           null,
           null,
           null,
           null,
           null
          ],
          [
           null,
           null,
           null,
           -62513.752,
           null,
           null,
           null,
           null,
           null,
           null,
           null,
           null,
           null,
           null,
           null,
           null,
           null,
           null,
           null,
           null,
           null,
           null,
           null,
           null,
           null,
           null,
           null
          ],
          [
           null,
           null,
           null,
           null,
           null,
           null,
           -55304.654,
           null,
           null,
           null,
           null,
           null,
           null,
           null,
           null,
           null,
           null,
           null,
           null,
           null,
           null,
           null,
           null,
           null,
           null,
           null,
           null
          ],
          [
           null,
           null,
           null,
           null,
           null,
           null,
           null,
           null,
           null,
           null,
           null,
           null,
           null,
           null,
           -54626.590000000004,
           null,
           null,
           null,
           null,
           null,
           null,
           null,
           null,
           null,
           null,
           null,
           null
          ],
          [
           null,
           null,
           null,
           null,
           null,
           null,
           null,
           -55815.621999999996,
           null,
           null,
           null,
           null,
           null,
           null,
           null,
           null,
           null,
           null,
           null,
           null,
           null,
           null,
           null,
           null,
           null,
           null,
           null
          ],
          [
           null,
           null,
           null,
           null,
           null,
           null,
           null,
           null,
           null,
           null,
           null,
           -56306.902,
           null,
           null,
           null,
           null,
           null,
           null,
           null,
           null,
           null,
           null,
           null,
           null,
           null,
           null,
           null
          ],
          [
           null,
           null,
           null,
           null,
           null,
           null,
           null,
           null,
           null,
           null,
           null,
           null,
           null,
           null,
           null,
           null,
           -57017.11,
           null,
           null,
           null,
           null,
           null,
           null,
           null,
           null,
           null,
           null
          ],
          [
           null,
           null,
           null,
           null,
           null,
           null,
           null,
           null,
           null,
           null,
           null,
           null,
           null,
           null,
           null,
           null,
           null,
           null,
           null,
           null,
           null,
           -57134.58,
           null,
           null,
           null,
           null,
           null
          ],
          [
           null,
           null,
           null,
           null,
           null,
           null,
           null,
           null,
           null,
           null,
           null,
           null,
           null,
           null,
           null,
           -57176.716,
           null,
           null,
           null,
           null,
           null,
           null,
           null,
           null,
           null,
           null,
           null
          ],
          [
           null,
           null,
           null,
           null,
           null,
           null,
           null,
           null,
           null,
           null,
           -19549814.73,
           null,
           null,
           null,
           null,
           null,
           null,
           null,
           null,
           null,
           null,
           null,
           null,
           null,
           null,
           null,
           null
          ],
          [
           null,
           null,
           null,
           null,
           -56369.626000000004,
           null,
           null,
           null,
           null,
           null,
           null,
           null,
           null,
           null,
           null,
           null,
           null,
           null,
           null,
           null,
           null,
           null,
           null,
           null,
           null,
           null,
           null
          ],
          [
           null,
           null,
           null,
           null,
           null,
           null,
           null,
           null,
           null,
           null,
           null,
           null,
           null,
           null,
           null,
           null,
           null,
           null,
           null,
           null,
           -57692.2,
           null,
           null,
           null,
           null,
           null,
           null
          ],
          [
           null,
           null,
           null,
           null,
           null,
           null,
           null,
           null,
           null,
           null,
           null,
           null,
           null,
           null,
           null,
           null,
           null,
           null,
           null,
           null,
           null,
           null,
           null,
           -57692.490000000005,
           null,
           null,
           null
          ],
          [
           null,
           null,
           null,
           null,
           null,
           null,
           null,
           null,
           null,
           null,
           null,
           null,
           null,
           null,
           null,
           null,
           null,
           null,
           null,
           null,
           null,
           null,
           null,
           null,
           -57957.740000000005,
           null,
           null
          ],
          [
           null,
           null,
           null,
           null,
           null,
           null,
           null,
           null,
           null,
           null,
           null,
           null,
           null,
           null,
           null,
           null,
           null,
           null,
           null,
           null,
           null,
           null,
           null,
           null,
           null,
           -56894.962,
           null
          ],
          [
           null,
           null,
           null,
           null,
           null,
           null,
           null,
           null,
           null,
           null,
           null,
           null,
           null,
           null,
           null,
           null,
           null,
           null,
           null,
           null,
           null,
           null,
           null,
           null,
           null,
           null,
           null
          ]
         ]
        },
        {
         "marker": {
          "color": "black",
          "line": {
           "color": "Gray",
           "width": 2
          }
         },
         "mode": "markers",
         "name": "Feasible Trial",
         "showlegend": false,
         "type": "scatter",
         "x": [
          0.9631174579822008,
          0.9206097195855281,
          0.9704343706710925,
          0.9497968235255966,
          0.9557228564582686,
          0.991734064392131,
          0.9893001327119111,
          0.9635749641192399,
          0.920468262220192,
          0.9826048292201849,
          0.935028002418254,
          0.9426452609614562,
          0.9461070376872395,
          0.9725514776636865,
          0.9019352825221195,
          0.9306844399486447,
          0.9551415511242626,
          0.9737426144945708,
          0.9604047030602296,
          0.9400781671181636,
          0.926364134131323,
          0.9216484011486659,
          0.9096140750982753,
          0.9483505657961858,
          0.9123476930941506
         ],
         "xaxis": "x27",
         "y": [
          0.20951677991709033,
          0.15862163909933125,
          0.3545390930971707,
          0.2473782787839689,
          0.2540150568313335,
          0.4883902693609067,
          0.4347943637537365,
          0.18720161137015176,
          0.3497946626632852,
          0.3617339115399135,
          0.10209472718990625,
          0.2510889857943497,
          0.17552967526098973,
          0.2810514833732746,
          0.10044825719284384,
          0.20781340636946707,
          0.30063316972951354,
          0.1558134306050329,
          0.20652291135947348,
          0.30752924323583264,
          0.24916479341312883,
          0.24354150134350885,
          0.1851320757830969,
          0.13903253090622913,
          0.23494929016068264
         ],
         "yaxis": "y27"
        },
        {
         "colorbar": {
          "title": {
           "text": "Objective Value"
          }
         },
         "colorscale": [
          [
           0,
           "rgb(247,251,255)"
          ],
          [
           0.125,
           "rgb(222,235,247)"
          ],
          [
           0.25,
           "rgb(198,219,239)"
          ],
          [
           0.375,
           "rgb(158,202,225)"
          ],
          [
           0.5,
           "rgb(107,174,214)"
          ],
          [
           0.625,
           "rgb(66,146,198)"
          ],
          [
           0.75,
           "rgb(33,113,181)"
          ],
          [
           0.875,
           "rgb(8,81,156)"
          ],
          [
           1,
           "rgb(8,48,107)"
          ]
         ],
         "connectgaps": true,
         "contours": {
          "coloring": "heatmap"
         },
         "hoverinfo": "none",
         "line": {
          "smoothing": 1.3
         },
         "reversescale": false,
         "showscale": false,
         "type": "contour",
         "x": [
          0.8974453434286189,
          0.9019352825221195,
          0.9096140750982753,
          0.9123476930941506,
          0.920468262220192,
          0.9206097195855281,
          0.9216484011486659,
          0.926364134131323,
          0.9306844399486447,
          0.935028002418254,
          0.9400781671181636,
          0.9426452609614562,
          0.9461070376872395,
          0.9483505657961858,
          0.9497968235255966,
          0.9551415511242626,
          0.9557228564582686,
          0.9604047030602296,
          0.9631174579822008,
          0.9635749641192399,
          0.9704343706710925,
          0.9725514776636865,
          0.9737426144945708,
          0.9826048292201849,
          0.9893001327119111,
          0.991734064392131,
          0.9962240034856316
         ],
         "xaxis": "x33",
         "y": [
          0.0008248986629477462,
          0.0010353515655146064,
          0.001187979237031665,
          0.0016614223857966755,
          0.0019208761913845824,
          0.0019967482118355855,
          0.0022192447282842905,
          0.0029177498759307167,
          0.0029411283079602067,
          0.00370874486162138,
          0.004567736817916702,
          0.0046089815988702085,
          0.005277965146005758,
          0.0068478989391215685,
          0.007219334111366669,
          0.00967920237144436,
          0.01277594799676972,
          0.012852229148185504,
          0.021668075767865797,
          0.02419198172590692,
          0.03129999895887123,
          0.045665957204979166,
          0.049436652822015065,
          0.05036048515381466,
          0.09257520224123574,
          0.09746142150556884,
          0.1223263412410957
         ],
         "yaxis": "y33",
         "z": [
          [
           null,
           null,
           null,
           null,
           null,
           null,
           null,
           null,
           null,
           null,
           null,
           null,
           null,
           null,
           null,
           null,
           null,
           null,
           null,
           null,
           null,
           null,
           null,
           null,
           null,
           null,
           null
          ],
          [
           null,
           null,
           null,
           null,
           null,
           null,
           null,
           null,
           null,
           -63909.490000000005,
           null,
           null,
           null,
           null,
           null,
           null,
           null,
           null,
           null,
           null,
           null,
           null,
           null,
           null,
           null,
           null,
           null
          ],
          [
           null,
           null,
           null,
           null,
           null,
           null,
           null,
           null,
           null,
           null,
           null,
           null,
           null,
           null,
           null,
           null,
           -57017.11,
           null,
           null,
           null,
           null,
           null,
           null,
           null,
           null,
           null,
           null
          ],
          [
           null,
           null,
           null,
           null,
           null,
           null,
           null,
           null,
           null,
           null,
           -19549814.73,
           null,
           null,
           null,
           null,
           null,
           null,
           null,
           null,
           null,
           null,
           null,
           null,
           null,
           null,
           null,
           null
          ],
          [
           null,
           null,
           null,
           -62513.752,
           null,
           null,
           null,
           null,
           null,
           null,
           null,
           null,
           null,
           null,
           null,
           null,
           null,
           null,
           null,
           null,
           null,
           null,
           null,
           null,
           null,
           null,
           null
          ],
          [
           null,
           null,
           null,
           null,
           null,
           null,
           null,
           null,
           null,
           null,
           null,
           null,
           null,
           null,
           null,
           null,
           null,
           null,
           null,
           -54319.630000000005,
           null,
           null,
           null,
           null,
           null,
           null,
           null
          ],
          [
           null,
           null,
           null,
           null,
           null,
           null,
           null,
           null,
           null,
           null,
           null,
           null,
           null,
           null,
           null,
           -57176.716,
           null,
           null,
           null,
           null,
           null,
           null,
           null,
           null,
           null,
           null,
           null
          ],
          [
           null,
           -56636.922,
           null,
           null,
           null,
           null,
           null,
           null,
           null,
           null,
           null,
           null,
           null,
           null,
           null,
           null,
           null,
           null,
           null,
           null,
           null,
           null,
           null,
           null,
           null,
           null,
           null
          ],
          [
           null,
           null,
           null,
           null,
           null,
           null,
           null,
           null,
           null,
           null,
           null,
           null,
           null,
           null,
           null,
           null,
           null,
           null,
           -57028.94600000001,
           null,
           null,
           null,
           null,
           null,
           null,
           null,
           null
          ],
          [
           null,
           null,
           null,
           null,
           null,
           null,
           null,
           -55815.621999999996,
           null,
           null,
           null,
           null,
           null,
           null,
           null,
           null,
           null,
           null,
           null,
           null,
           null,
           null,
           null,
           null,
           null,
           null,
           null
          ],
          [
           null,
           null,
           -56246.052,
           null,
           null,
           null,
           null,
           null,
           null,
           null,
           null,
           null,
           null,
           null,
           null,
           null,
           null,
           null,
           null,
           null,
           null,
           null,
           null,
           null,
           null,
           null,
           null
          ],
          [
           null,
           null,
           null,
           null,
           null,
           null,
           -55304.654,
           null,
           null,
           null,
           null,
           null,
           null,
           null,
           null,
           null,
           null,
           null,
           null,
           null,
           null,
           null,
           null,
           null,
           null,
           null,
           null
          ],
          [
           null,
           null,
           null,
           null,
           null,
           null,
           null,
           null,
           null,
           null,
           null,
           null,
           null,
           null,
           null,
           null,
           null,
           null,
           null,
           null,
           null,
           null,
           null,
           null,
           null,
           -56894.962,
           null
          ],
          [
           null,
           null,
           null,
           null,
           null,
           null,
           null,
           null,
           null,
           null,
           null,
           null,
           null,
           null,
           null,
           null,
           null,
           null,
           null,
           null,
           null,
           null,
           null,
           -57692.490000000005,
           null,
           null,
           null
          ],
          [
           null,
           null,
           null,
           null,
           null,
           -56869.409999999996,
           null,
           null,
           null,
           null,
           null,
           null,
           null,
           null,
           null,
           null,
           null,
           null,
           null,
           null,
           null,
           null,
           null,
           null,
           null,
           null,
           null
          ],
          [
           null,
           null,
           null,
           null,
           null,
           null,
           null,
           null,
           null,
           null,
           null,
           null,
           null,
           null,
           null,
           null,
           null,
           null,
           null,
           null,
           -57692.2,
           null,
           null,
           null,
           null,
           null,
           null
          ],
          [
           null,
           null,
           null,
           null,
           null,
           null,
           null,
           null,
           null,
           null,
           null,
           null,
           null,
           null,
           null,
           null,
           null,
           null,
           null,
           null,
           null,
           null,
           -57662.407999999996,
           null,
           null,
           null,
           null
          ],
          [
           null,
           null,
           null,
           null,
           null,
           null,
           null,
           null,
           null,
           null,
           null,
           null,
           null,
           -56172.68200000001,
           null,
           null,
           null,
           null,
           null,
           null,
           null,
           null,
           null,
           null,
           null,
           null,
           null
          ],
          [
           null,
           null,
           null,
           null,
           null,
           null,
           null,
           null,
           null,
           null,
           null,
           null,
           null,
           null,
           null,
           null,
           null,
           null,
           null,
           null,
           null,
           null,
           null,
           null,
           -57957.740000000005,
           null,
           null
          ],
          [
           null,
           null,
           null,
           null,
           null,
           null,
           null,
           null,
           null,
           null,
           null,
           null,
           null,
           null,
           null,
           null,
           null,
           null,
           null,
           null,
           null,
           -57134.58,
           null,
           null,
           null,
           null,
           null
          ],
          [
           null,
           null,
           null,
           null,
           -56369.626000000004,
           null,
           null,
           null,
           null,
           null,
           null,
           null,
           null,
           null,
           null,
           null,
           null,
           null,
           null,
           null,
           null,
           null,
           null,
           null,
           null,
           null,
           null
          ],
          [
           null,
           null,
           null,
           null,
           null,
           null,
           null,
           null,
           null,
           null,
           null,
           null,
           null,
           null,
           -54626.590000000004,
           null,
           null,
           null,
           null,
           null,
           null,
           null,
           null,
           null,
           null,
           null,
           null
          ],
          [
           null,
           null,
           null,
           null,
           null,
           null,
           null,
           null,
           -57585.958,
           null,
           null,
           null,
           null,
           null,
           null,
           null,
           null,
           null,
           null,
           null,
           null,
           null,
           null,
           null,
           null,
           null,
           null
          ],
          [
           null,
           null,
           null,
           null,
           null,
           null,
           null,
           null,
           null,
           null,
           null,
           null,
           null,
           null,
           null,
           null,
           null,
           -56457.295999999995,
           null,
           null,
           null,
           null,
           null,
           null,
           null,
           null,
           null
          ],
          [
           null,
           null,
           null,
           null,
           null,
           null,
           null,
           null,
           null,
           null,
           null,
           -56306.902,
           null,
           null,
           null,
           null,
           null,
           null,
           null,
           null,
           null,
           null,
           null,
           null,
           null,
           null,
           null
          ],
          [
           null,
           null,
           null,
           null,
           null,
           null,
           null,
           null,
           null,
           null,
           null,
           null,
           -56235.48,
           null,
           null,
           null,
           null,
           null,
           null,
           null,
           null,
           null,
           null,
           null,
           null,
           null,
           null
          ],
          [
           null,
           null,
           null,
           null,
           null,
           null,
           null,
           null,
           null,
           null,
           null,
           null,
           null,
           null,
           null,
           null,
           null,
           null,
           null,
           null,
           null,
           null,
           null,
           null,
           null,
           null,
           null
          ]
         ]
        },
        {
         "marker": {
          "color": "black",
          "line": {
           "color": "Gray",
           "width": 2
          }
         },
         "mode": "markers",
         "name": "Feasible Trial",
         "showlegend": false,
         "type": "scatter",
         "x": [
          0.9631174579822008,
          0.9206097195855281,
          0.9704343706710925,
          0.9497968235255966,
          0.9557228564582686,
          0.991734064392131,
          0.9893001327119111,
          0.9635749641192399,
          0.920468262220192,
          0.9826048292201849,
          0.935028002418254,
          0.9426452609614562,
          0.9461070376872395,
          0.9725514776636865,
          0.9019352825221195,
          0.9306844399486447,
          0.9551415511242626,
          0.9737426144945708,
          0.9604047030602296,
          0.9400781671181636,
          0.926364134131323,
          0.9216484011486659,
          0.9096140750982753,
          0.9483505657961858,
          0.9123476930941506
         ],
         "xaxis": "x33",
         "y": [
          0.0029411283079602067,
          0.007219334111366669,
          0.00967920237144436,
          0.045665957204979166,
          0.001187979237031665,
          0.005277965146005758,
          0.021668075767865797,
          0.0019967482118355855,
          0.03129999895887123,
          0.0068478989391215685,
          0.0010353515655146064,
          0.09257520224123574,
          0.09746142150556884,
          0.02419198172590692,
          0.0029177498759307167,
          0.049436652822015065,
          0.0022192447282842905,
          0.01277594799676972,
          0.05036048515381466,
          0.0016614223857966755,
          0.00370874486162138,
          0.0046089815988702085,
          0.004567736817916702,
          0.012852229148185504,
          0.0019208761913845824
         ],
         "yaxis": "y33"
        },
        {
         "colorbar": {
          "title": {
           "text": "Objective Value"
          }
         },
         "colorscale": [
          [
           0,
           "rgb(247,251,255)"
          ],
          [
           0.125,
           "rgb(222,235,247)"
          ],
          [
           0.25,
           "rgb(198,219,239)"
          ],
          [
           0.375,
           "rgb(158,202,225)"
          ],
          [
           0.5,
           "rgb(107,174,214)"
          ],
          [
           0.625,
           "rgb(66,146,198)"
          ],
          [
           0.75,
           "rgb(33,113,181)"
          ],
          [
           0.875,
           "rgb(8,81,156)"
          ],
          [
           1,
           "rgb(8,48,107)"
          ]
         ],
         "connectgaps": true,
         "contours": {
          "coloring": "heatmap"
         },
         "hoverinfo": "none",
         "line": {
          "smoothing": 1.3
         },
         "reversescale": false,
         "showscale": false,
         "type": "contour",
         "x": [
          0.00001038409048438178,
          0.000012809465033620892,
          0.000013695227495103939,
          0.000020820172280287977,
          0.000022815776452938465,
          0.000023448472540963925,
          0.00002443625969661686,
          0.000030670742746636123,
          0.000036801111071766234,
          0.00004204007275751892,
          0.00004315917684290081,
          0.00005343712740537448,
          0.00005550917292060962,
          0.00006279454402795933,
          0.00008159522336783198,
          0.00008290617080872125,
          0.0001304818200599708,
          0.00014780795563390663,
          0.00018206291542001923,
          0.0002819806361553919,
          0.00028459630756932615,
          0.0003503413046533094,
          0.00035714762411623297,
          0.0005133664112376705,
          0.0007889069777456757,
          0.0008526711459190907,
          0.0010518264690832294
         ],
         "xaxis": "x4",
         "y": [
          20.799999999999997,
          32,
          64,
          128,
          256,
          267.2
         ],
         "yaxis": "y4",
         "z": [
          [
           null,
           null,
           null,
           null,
           null,
           null,
           null,
           null,
           null,
           null,
           null,
           null,
           null,
           null,
           null,
           null,
           null,
           null,
           null,
           null,
           null,
           null,
           null,
           null,
           null,
           null,
           null
          ],
          [
           null,
           null,
           -56636.922,
           null,
           null,
           null,
           null,
           null,
           null,
           -57692.490000000005,
           -63909.490000000005,
           -54319.630000000005,
           null,
           null,
           null,
           null,
           -57017.11,
           null,
           -56457.295999999995,
           null,
           -56869.409999999996,
           null,
           null,
           null,
           null,
           null,
           null
          ],
          [
           null,
           null,
           null,
           null,
           null,
           null,
           null,
           null,
           -57692.2,
           null,
           null,
           null,
           null,
           null,
           null,
           -57176.716,
           null,
           null,
           null,
           null,
           null,
           null,
           -57957.740000000005,
           null,
           null,
           null,
           null
          ],
          [
           null,
           -56894.962,
           null,
           null,
           null,
           null,
           null,
           null,
           null,
           null,
           null,
           null,
           null,
           null,
           null,
           null,
           null,
           -56369.626000000004,
           null,
           null,
           null,
           null,
           null,
           -57662.407999999996,
           null,
           null,
           null
          ],
          [
           null,
           null,
           null,
           -55815.621999999996,
           -55304.654,
           -57585.958,
           -56246.052,
           -62513.752,
           null,
           null,
           null,
           null,
           -56172.68200000001,
           -57134.58,
           -19549814.73,
           null,
           null,
           null,
           null,
           -57028.94600000001,
           null,
           -54626.590000000004,
           null,
           null,
           -56306.902,
           -56235.48,
           null
          ],
          [
           null,
           null,
           null,
           null,
           null,
           null,
           null,
           null,
           null,
           null,
           null,
           null,
           null,
           null,
           null,
           null,
           null,
           null,
           null,
           null,
           null,
           null,
           null,
           null,
           null,
           null,
           null
          ]
         ]
        },
        {
         "marker": {
          "color": "black",
          "line": {
           "color": "Gray",
           "width": 2
          }
         },
         "mode": "markers",
         "name": "Feasible Trial",
         "showlegend": false,
         "type": "scatter",
         "x": [
          0.0002819806361553919,
          0.00028459630756932615,
          0.000036801111071766234,
          0.0003503413046533094,
          0.0001304818200599708,
          0.000012809465033620892,
          0.00035714762411623297,
          0.00005343712740537448,
          0.00014780795563390663,
          0.00004204007275751892,
          0.00004315917684290081,
          0.0007889069777456757,
          0.0008526711459190907,
          0.00006279454402795933,
          0.000013695227495103939,
          0.000023448472540963925,
          0.00008290617080872125,
          0.0005133664112376705,
          0.00018206291542001923,
          0.00008159522336783198,
          0.000020820172280287977,
          0.000022815776452938465,
          0.00002443625969661686,
          0.00005550917292060962,
          0.000030670742746636123
         ],
         "xaxis": "x4",
         "y": [
          256,
          32,
          64,
          256,
          32,
          128,
          64,
          32,
          128,
          32,
          32,
          256,
          256,
          256,
          32,
          256,
          64,
          128,
          32,
          256,
          256,
          256,
          256,
          256,
          256
         ],
         "yaxis": "y4"
        },
        {
         "colorbar": {
          "title": {
           "text": "Objective Value"
          }
         },
         "colorscale": [
          [
           0,
           "rgb(247,251,255)"
          ],
          [
           0.125,
           "rgb(222,235,247)"
          ],
          [
           0.25,
           "rgb(198,219,239)"
          ],
          [
           0.375,
           "rgb(158,202,225)"
          ],
          [
           0.5,
           "rgb(107,174,214)"
          ],
          [
           0.625,
           "rgb(66,146,198)"
          ],
          [
           0.75,
           "rgb(33,113,181)"
          ],
          [
           0.875,
           "rgb(8,81,156)"
          ],
          [
           1,
           "rgb(8,48,107)"
          ]
         ],
         "connectgaps": true,
         "contours": {
          "coloring": "heatmap"
         },
         "hoverinfo": "none",
         "line": {
          "smoothing": 1.3
         },
         "reversescale": false,
         "showscale": false,
         "type": "contour",
         "x": [
          0.00001038409048438178,
          0.000012809465033620892,
          0.000013695227495103939,
          0.000020820172280287977,
          0.000022815776452938465,
          0.000023448472540963925,
          0.00002443625969661686,
          0.000030670742746636123,
          0.000036801111071766234,
          0.00004204007275751892,
          0.00004315917684290081,
          0.00005343712740537448,
          0.00005550917292060962,
          0.00006279454402795933,
          0.00008159522336783198,
          0.00008290617080872125,
          0.0001304818200599708,
          0.00014780795563390663,
          0.00018206291542001923,
          0.0002819806361553919,
          0.00028459630756932615,
          0.0003503413046533094,
          0.00035714762411623297,
          0.0005133664112376705,
          0.0007889069777456757,
          0.0008526711459190907,
          0.0010518264690832294
         ],
         "xaxis": "x10",
         "y": [
          27500,
          50000,
          100000,
          150000,
          200000,
          250000,
          300000,
          350000,
          400000,
          450000,
          500000,
          522500
         ],
         "yaxis": "y10",
         "z": [
          [
           null,
           null,
           null,
           null,
           null,
           null,
           null,
           null,
           null,
           null,
           null,
           null,
           null,
           null,
           null,
           null,
           null,
           null,
           null,
           null,
           null,
           null,
           null,
           null,
           null,
           null,
           null
          ],
          [
           null,
           null,
           null,
           null,
           null,
           -57585.958,
           null,
           null,
           null,
           null,
           null,
           null,
           null,
           null,
           null,
           null,
           null,
           null,
           null,
           -57028.94600000001,
           null,
           null,
           null,
           null,
           null,
           null,
           null
          ],
          [
           null,
           null,
           null,
           null,
           null,
           null,
           -56246.052,
           null,
           null,
           null,
           null,
           null,
           null,
           null,
           -19549814.73,
           null,
           null,
           null,
           null,
           null,
           null,
           -54626.590000000004,
           null,
           null,
           -56306.902,
           null,
           null
          ],
          [
           null,
           null,
           null,
           null,
           null,
           null,
           null,
           null,
           null,
           null,
           -63909.490000000005,
           null,
           null,
           null,
           null,
           -57176.716,
           null,
           null,
           null,
           null,
           null,
           null,
           null,
           null,
           null,
           -56235.48,
           null
          ],
          [
           null,
           null,
           -56636.922,
           -55815.621999999996,
           -55304.654,
           null,
           null,
           -62513.752,
           null,
           null,
           null,
           null,
           null,
           null,
           null,
           null,
           null,
           null,
           null,
           null,
           null,
           null,
           null,
           -57662.407999999996,
           null,
           null,
           null
          ],
          [
           null,
           null,
           null,
           null,
           null,
           null,
           null,
           null,
           -57692.2,
           null,
           null,
           -54319.630000000005,
           -56172.68200000001,
           null,
           null,
           null,
           null,
           null,
           null,
           null,
           null,
           null,
           -57957.740000000005,
           null,
           null,
           null,
           null
          ],
          [
           null,
           null,
           null,
           null,
           null,
           null,
           null,
           null,
           null,
           null,
           null,
           null,
           null,
           -57134.58,
           null,
           null,
           null,
           null,
           -56457.295999999995,
           null,
           null,
           null,
           null,
           null,
           null,
           null,
           null
          ],
          [
           null,
           null,
           null,
           null,
           null,
           null,
           null,
           null,
           null,
           null,
           null,
           null,
           null,
           null,
           null,
           null,
           null,
           null,
           null,
           null,
           -56869.409999999996,
           null,
           null,
           null,
           null,
           null,
           null
          ],
          [
           null,
           -56894.962,
           null,
           null,
           null,
           null,
           null,
           null,
           null,
           -57692.490000000005,
           null,
           null,
           null,
           null,
           null,
           null,
           null,
           null,
           null,
           null,
           null,
           null,
           null,
           null,
           null,
           null,
           null
          ],
          [
           null,
           null,
           null,
           null,
           null,
           null,
           null,
           null,
           null,
           null,
           null,
           null,
           null,
           null,
           null,
           null,
           -57017.11,
           null,
           null,
           null,
           null,
           null,
           null,
           null,
           null,
           null,
           null
          ],
          [
           null,
           null,
           null,
           null,
           null,
           null,
           null,
           null,
           null,
           null,
           null,
           null,
           null,
           null,
           null,
           null,
           null,
           -56369.626000000004,
           null,
           null,
           null,
           null,
           null,
           null,
           null,
           null,
           null
          ],
          [
           null,
           null,
           null,
           null,
           null,
           null,
           null,
           null,
           null,
           null,
           null,
           null,
           null,
           null,
           null,
           null,
           null,
           null,
           null,
           null,
           null,
           null,
           null,
           null,
           null,
           null,
           null
          ]
         ]
        },
        {
         "marker": {
          "color": "black",
          "line": {
           "color": "Gray",
           "width": 2
          }
         },
         "mode": "markers",
         "name": "Feasible Trial",
         "showlegend": false,
         "type": "scatter",
         "x": [
          0.0002819806361553919,
          0.00028459630756932615,
          0.000036801111071766234,
          0.0003503413046533094,
          0.0001304818200599708,
          0.000012809465033620892,
          0.00035714762411623297,
          0.00005343712740537448,
          0.00014780795563390663,
          0.00004204007275751892,
          0.00004315917684290081,
          0.0007889069777456757,
          0.0008526711459190907,
          0.00006279454402795933,
          0.000013695227495103939,
          0.000023448472540963925,
          0.00008290617080872125,
          0.0005133664112376705,
          0.00018206291542001923,
          0.00008159522336783198,
          0.000020820172280287977,
          0.000022815776452938465,
          0.00002443625969661686,
          0.00005550917292060962,
          0.000030670742746636123
         ],
         "xaxis": "x10",
         "y": [
          50000,
          350000,
          250000,
          100000,
          450000,
          400000,
          250000,
          250000,
          500000,
          400000,
          150000,
          100000,
          150000,
          300000,
          200000,
          50000,
          150000,
          200000,
          300000,
          100000,
          200000,
          200000,
          100000,
          250000,
          200000
         ],
         "yaxis": "y10"
        },
        {
         "colorbar": {
          "title": {
           "text": "Objective Value"
          }
         },
         "colorscale": [
          [
           0,
           "rgb(247,251,255)"
          ],
          [
           0.125,
           "rgb(222,235,247)"
          ],
          [
           0.25,
           "rgb(198,219,239)"
          ],
          [
           0.375,
           "rgb(158,202,225)"
          ],
          [
           0.5,
           "rgb(107,174,214)"
          ],
          [
           0.625,
           "rgb(66,146,198)"
          ],
          [
           0.75,
           "rgb(33,113,181)"
          ],
          [
           0.875,
           "rgb(8,81,156)"
          ],
          [
           1,
           "rgb(8,48,107)"
          ]
         ],
         "connectgaps": true,
         "contours": {
          "coloring": "heatmap"
         },
         "hoverinfo": "none",
         "line": {
          "smoothing": 1.3
         },
         "reversescale": false,
         "showscale": false,
         "type": "contour",
         "x": [
          0.00001038409048438178,
          0.000012809465033620892,
          0.000013695227495103939,
          0.000020820172280287977,
          0.000022815776452938465,
          0.000023448472540963925,
          0.00002443625969661686,
          0.000030670742746636123,
          0.000036801111071766234,
          0.00004204007275751892,
          0.00004315917684290081,
          0.00005343712740537448,
          0.00005550917292060962,
          0.00006279454402795933,
          0.00008159522336783198,
          0.00008290617080872125,
          0.0001304818200599708,
          0.00014780795563390663,
          0.00018206291542001923,
          0.0002819806361553919,
          0.00028459630756932615,
          0.0003503413046533094,
          0.00035714762411623297,
          0.0005133664112376705,
          0.0007889069777456757,
          0.0008526711459190907,
          0.0010518264690832294
         ],
         "xaxis": "x16",
         "y": [
          0.8974453434286189,
          0.9019352825221195,
          0.9096140750982753,
          0.9123476930941506,
          0.920468262220192,
          0.9206097195855281,
          0.9216484011486659,
          0.926364134131323,
          0.9306844399486447,
          0.935028002418254,
          0.9400781671181636,
          0.9426452609614562,
          0.9461070376872395,
          0.9483505657961858,
          0.9497968235255966,
          0.9551415511242626,
          0.9557228564582686,
          0.9604047030602296,
          0.9631174579822008,
          0.9635749641192399,
          0.9704343706710925,
          0.9725514776636865,
          0.9737426144945708,
          0.9826048292201849,
          0.9893001327119111,
          0.991734064392131,
          0.9962240034856316
         ],
         "yaxis": "y16",
         "z": [
          [
           null,
           null,
           null,
           null,
           null,
           null,
           null,
           null,
           null,
           null,
           null,
           null,
           null,
           null,
           null,
           null,
           null,
           null,
           null,
           null,
           null,
           null,
           null,
           null,
           null,
           null,
           null
          ],
          [
           null,
           null,
           -56636.922,
           null,
           null,
           null,
           null,
           null,
           null,
           null,
           null,
           null,
           null,
           null,
           null,
           null,
           null,
           null,
           null,
           null,
           null,
           null,
           null,
           null,
           null,
           null,
           null
          ],
          [
           null,
           null,
           null,
           null,
           null,
           null,
           -56246.052,
           null,
           null,
           null,
           null,
           null,
           null,
           null,
           null,
           null,
           null,
           null,
           null,
           null,
           null,
           null,
           null,
           null,
           null,
           null,
           null
          ],
          [
           null,
           null,
           null,
           null,
           null,
           null,
           null,
           -62513.752,
           null,
           null,
           null,
           null,
           null,
           null,
           null,
           null,
           null,
           null,
           null,
           null,
           null,
           null,
           null,
           null,
           null,
           null,
           null
          ],
          [
           null,
           null,
           null,
           null,
           null,
           null,
           null,
           null,
           null,
           null,
           null,
           null,
           null,
           null,
           null,
           null,
           null,
           -56369.626000000004,
           null,
           null,
           null,
           null,
           null,
           null,
           null,
           null,
           null
          ],
          [
           null,
           null,
           null,
           null,
           null,
           null,
           null,
           null,
           null,
           null,
           null,
           null,
           null,
           null,
           null,
           null,
           null,
           null,
           null,
           null,
           -56869.409999999996,
           null,
           null,
           null,
           null,
           null,
           null
          ],
          [
           null,
           null,
           null,
           null,
           -55304.654,
           null,
           null,
           null,
           null,
           null,
           null,
           null,
           null,
           null,
           null,
           null,
           null,
           null,
           null,
           null,
           null,
           null,
           null,
           null,
           null,
           null,
           null
          ],
          [
           null,
           null,
           null,
           -55815.621999999996,
           null,
           null,
           null,
           null,
           null,
           null,
           null,
           null,
           null,
           null,
           null,
           null,
           null,
           null,
           null,
           null,
           null,
           null,
           null,
           null,
           null,
           null,
           null
          ],
          [
           null,
           null,
           null,
           null,
           null,
           -57585.958,
           null,
           null,
           null,
           null,
           null,
           null,
           null,
           null,
           null,
           null,
           null,
           null,
           null,
           null,
           null,
           null,
           null,
           null,
           null,
           null,
           null
          ],
          [
           null,
           null,
           null,
           null,
           null,
           null,
           null,
           null,
           null,
           null,
           -63909.490000000005,
           null,
           null,
           null,
           null,
           null,
           null,
           null,
           null,
           null,
           null,
           null,
           null,
           null,
           null,
           null,
           null
          ],
          [
           null,
           null,
           null,
           null,
           null,
           null,
           null,
           null,
           null,
           null,
           null,
           null,
           null,
           null,
           -19549814.73,
           null,
           null,
           null,
           null,
           null,
           null,
           null,
           null,
           null,
           null,
           null,
           null
          ],
          [
           null,
           null,
           null,
           null,
           null,
           null,
           null,
           null,
           null,
           null,
           null,
           null,
           null,
           null,
           null,
           null,
           null,
           null,
           null,
           null,
           null,
           null,
           null,
           null,
           -56306.902,
           null,
           null
          ],
          [
           null,
           null,
           null,
           null,
           null,
           null,
           null,
           null,
           null,
           null,
           null,
           null,
           null,
           null,
           null,
           null,
           null,
           null,
           null,
           null,
           null,
           null,
           null,
           null,
           null,
           -56235.48,
           null
          ],
          [
           null,
           null,
           null,
           null,
           null,
           null,
           null,
           null,
           null,
           null,
           null,
           null,
           -56172.68200000001,
           null,
           null,
           null,
           null,
           null,
           null,
           null,
           null,
           null,
           null,
           null,
           null,
           null,
           null
          ],
          [
           null,
           null,
           null,
           null,
           null,
           null,
           null,
           null,
           null,
           null,
           null,
           null,
           null,
           null,
           null,
           null,
           null,
           null,
           null,
           null,
           null,
           -54626.590000000004,
           null,
           null,
           null,
           null,
           null
          ],
          [
           null,
           null,
           null,
           null,
           null,
           null,
           null,
           null,
           null,
           null,
           null,
           null,
           null,
           null,
           null,
           -57176.716,
           null,
           null,
           null,
           null,
           null,
           null,
           null,
           null,
           null,
           null,
           null
          ],
          [
           null,
           null,
           null,
           null,
           null,
           null,
           null,
           null,
           null,
           null,
           null,
           null,
           null,
           null,
           null,
           null,
           -57017.11,
           null,
           null,
           null,
           null,
           null,
           null,
           null,
           null,
           null,
           null
          ],
          [
           null,
           null,
           null,
           null,
           null,
           null,
           null,
           null,
           null,
           null,
           null,
           null,
           null,
           null,
           null,
           null,
           null,
           null,
           -56457.295999999995,
           null,
           null,
           null,
           null,
           null,
           null,
           null,
           null
          ],
          [
           null,
           null,
           null,
           null,
           null,
           null,
           null,
           null,
           null,
           null,
           null,
           null,
           null,
           null,
           null,
           null,
           null,
           null,
           null,
           -57028.94600000001,
           null,
           null,
           null,
           null,
           null,
           null,
           null
          ],
          [
           null,
           null,
           null,
           null,
           null,
           null,
           null,
           null,
           null,
           null,
           null,
           -54319.630000000005,
           null,
           null,
           null,
           null,
           null,
           null,
           null,
           null,
           null,
           null,
           null,
           null,
           null,
           null,
           null
          ],
          [
           null,
           null,
           null,
           null,
           null,
           null,
           null,
           null,
           -57692.2,
           null,
           null,
           null,
           null,
           null,
           null,
           null,
           null,
           null,
           null,
           null,
           null,
           null,
           null,
           null,
           null,
           null,
           null
          ],
          [
           null,
           null,
           null,
           null,
           null,
           null,
           null,
           null,
           null,
           null,
           null,
           null,
           null,
           -57134.58,
           null,
           null,
           null,
           null,
           null,
           null,
           null,
           null,
           null,
           null,
           null,
           null,
           null
          ],
          [
           null,
           null,
           null,
           null,
           null,
           null,
           null,
           null,
           null,
           null,
           null,
           null,
           null,
           null,
           null,
           null,
           null,
           null,
           null,
           null,
           null,
           null,
           null,
           -57662.407999999996,
           null,
           null,
           null
          ],
          [
           null,
           null,
           null,
           null,
           null,
           null,
           null,
           null,
           null,
           -57692.490000000005,
           null,
           null,
           null,
           null,
           null,
           null,
           null,
           null,
           null,
           null,
           null,
           null,
           null,
           null,
           null,
           null,
           null
          ],
          [
           null,
           null,
           null,
           null,
           null,
           null,
           null,
           null,
           null,
           null,
           null,
           null,
           null,
           null,
           null,
           null,
           null,
           null,
           null,
           null,
           null,
           null,
           -57957.740000000005,
           null,
           null,
           null,
           null
          ],
          [
           null,
           -56894.962,
           null,
           null,
           null,
           null,
           null,
           null,
           null,
           null,
           null,
           null,
           null,
           null,
           null,
           null,
           null,
           null,
           null,
           null,
           null,
           null,
           null,
           null,
           null,
           null,
           null
          ],
          [
           null,
           null,
           null,
           null,
           null,
           null,
           null,
           null,
           null,
           null,
           null,
           null,
           null,
           null,
           null,
           null,
           null,
           null,
           null,
           null,
           null,
           null,
           null,
           null,
           null,
           null,
           null
          ]
         ]
        },
        {
         "marker": {
          "color": "black",
          "line": {
           "color": "Gray",
           "width": 2
          }
         },
         "mode": "markers",
         "name": "Feasible Trial",
         "showlegend": false,
         "type": "scatter",
         "x": [
          0.0002819806361553919,
          0.00028459630756932615,
          0.000036801111071766234,
          0.0003503413046533094,
          0.0001304818200599708,
          0.000012809465033620892,
          0.00035714762411623297,
          0.00005343712740537448,
          0.00014780795563390663,
          0.00004204007275751892,
          0.00004315917684290081,
          0.0007889069777456757,
          0.0008526711459190907,
          0.00006279454402795933,
          0.000013695227495103939,
          0.000023448472540963925,
          0.00008290617080872125,
          0.0005133664112376705,
          0.00018206291542001923,
          0.00008159522336783198,
          0.000020820172280287977,
          0.000022815776452938465,
          0.00002443625969661686,
          0.00005550917292060962,
          0.000030670742746636123
         ],
         "xaxis": "x16",
         "y": [
          0.9631174579822008,
          0.9206097195855281,
          0.9704343706710925,
          0.9497968235255966,
          0.9557228564582686,
          0.991734064392131,
          0.9893001327119111,
          0.9635749641192399,
          0.920468262220192,
          0.9826048292201849,
          0.935028002418254,
          0.9426452609614562,
          0.9461070376872395,
          0.9725514776636865,
          0.9019352825221195,
          0.9306844399486447,
          0.9551415511242626,
          0.9737426144945708,
          0.9604047030602296,
          0.9400781671181636,
          0.926364134131323,
          0.9216484011486659,
          0.9096140750982753,
          0.9483505657961858,
          0.9123476930941506
         ],
         "yaxis": "y16"
        },
        {
         "type": "scatter",
         "xaxis": "x22",
         "yaxis": "y22"
        },
        {
         "colorbar": {
          "title": {
           "text": "Objective Value"
          }
         },
         "colorscale": [
          [
           0,
           "rgb(247,251,255)"
          ],
          [
           0.125,
           "rgb(222,235,247)"
          ],
          [
           0.25,
           "rgb(198,219,239)"
          ],
          [
           0.375,
           "rgb(158,202,225)"
          ],
          [
           0.5,
           "rgb(107,174,214)"
          ],
          [
           0.625,
           "rgb(66,146,198)"
          ],
          [
           0.75,
           "rgb(33,113,181)"
          ],
          [
           0.875,
           "rgb(8,81,156)"
          ],
          [
           1,
           "rgb(8,48,107)"
          ]
         ],
         "connectgaps": true,
         "contours": {
          "coloring": "heatmap"
         },
         "hoverinfo": "none",
         "line": {
          "smoothing": 1.3
         },
         "reversescale": false,
         "showscale": false,
         "type": "contour",
         "x": [
          0.00001038409048438178,
          0.000012809465033620892,
          0.000013695227495103939,
          0.000020820172280287977,
          0.000022815776452938465,
          0.000023448472540963925,
          0.00002443625969661686,
          0.000030670742746636123,
          0.000036801111071766234,
          0.00004204007275751892,
          0.00004315917684290081,
          0.00005343712740537448,
          0.00005550917292060962,
          0.00006279454402795933,
          0.00008159522336783198,
          0.00008290617080872125,
          0.0001304818200599708,
          0.00014780795563390663,
          0.00018206291542001923,
          0.0002819806361553919,
          0.00028459630756932615,
          0.0003503413046533094,
          0.00035714762411623297,
          0.0005133664112376705,
          0.0007889069777456757,
          0.0008526711459190907,
          0.0010518264690832294
         ],
         "xaxis": "x28",
         "y": [
          0.08105115658444069,
          0.10044825719284384,
          0.10209472718990625,
          0.13903253090622913,
          0.1558134306050329,
          0.15862163909933125,
          0.17552967526098973,
          0.1851320757830969,
          0.18720161137015176,
          0.20652291135947348,
          0.20781340636946707,
          0.20951677991709033,
          0.23494929016068264,
          0.24354150134350885,
          0.2473782787839689,
          0.24916479341312883,
          0.2510889857943497,
          0.2540150568313335,
          0.2810514833732746,
          0.30063316972951354,
          0.30752924323583264,
          0.3497946626632852,
          0.3545390930971707,
          0.3617339115399135,
          0.4347943637537365,
          0.4883902693609067,
          0.5077873699693098
         ],
         "yaxis": "y28",
         "z": [
          [
           null,
           null,
           null,
           null,
           null,
           null,
           null,
           null,
           null,
           null,
           null,
           null,
           null,
           null,
           null,
           null,
           null,
           null,
           null,
           null,
           null,
           null,
           null,
           null,
           null,
           null,
           null
          ],
          [
           null,
           null,
           -56636.922,
           null,
           null,
           null,
           null,
           null,
           null,
           null,
           null,
           null,
           null,
           null,
           null,
           null,
           null,
           null,
           null,
           null,
           null,
           null,
           null,
           null,
           null,
           null,
           null
          ],
          [
           null,
           null,
           null,
           null,
           null,
           null,
           null,
           null,
           null,
           null,
           -63909.490000000005,
           null,
           null,
           null,
           null,
           null,
           null,
           null,
           null,
           null,
           null,
           null,
           null,
           null,
           null,
           null,
           null
          ],
          [
           null,
           null,
           null,
           null,
           null,
           null,
           null,
           null,
           null,
           null,
           null,
           null,
           -56172.68200000001,
           null,
           null,
           null,
           null,
           null,
           null,
           null,
           null,
           null,
           null,
           null,
           null,
           null,
           null
          ],
          [
           null,
           null,
           null,
           null,
           null,
           null,
           null,
           null,
           null,
           null,
           null,
           null,
           null,
           null,
           null,
           null,
           null,
           null,
           null,
           null,
           null,
           null,
           null,
           -57662.407999999996,
           null,
           null,
           null
          ],
          [
           null,
           null,
           null,
           null,
           null,
           null,
           null,
           null,
           null,
           null,
           null,
           null,
           null,
           null,
           null,
           null,
           null,
           null,
           null,
           null,
           -56869.409999999996,
           null,
           null,
           null,
           null,
           null,
           null
          ],
          [
           null,
           null,
           null,
           null,
           null,
           null,
           null,
           null,
           null,
           null,
           null,
           null,
           null,
           null,
           null,
           null,
           null,
           null,
           null,
           null,
           null,
           null,
           null,
           null,
           null,
           -56235.48,
           null
          ],
          [
           null,
           null,
           null,
           null,
           null,
           null,
           -56246.052,
           null,
           null,
           null,
           null,
           null,
           null,
           null,
           null,
           null,
           null,
           null,
           null,
           null,
           null,
           null,
           null,
           null,
           null,
           null,
           null
          ],
          [
           null,
           null,
           null,
           null,
           null,
           null,
           null,
           null,
           null,
           null,
           null,
           -54319.630000000005,
           null,
           null,
           null,
           null,
           null,
           null,
           null,
           null,
           null,
           null,
           null,
           null,
           null,
           null,
           null
          ],
          [
           null,
           null,
           null,
           null,
           null,
           null,
           null,
           null,
           null,
           null,
           null,
           null,
           null,
           null,
           null,
           null,
           null,
           null,
           -56457.295999999995,
           null,
           null,
           null,
           null,
           null,
           null,
           null,
           null
          ],
          [
           null,
           null,
           null,
           null,
           null,
           -57585.958,
           null,
           null,
           null,
           null,
           null,
           null,
           null,
           null,
           null,
           null,
           null,
           null,
           null,
           null,
           null,
           null,
           null,
           null,
           null,
           null,
           null
          ],
          [
           null,
           null,
           null,
           null,
           null,
           null,
           null,
           null,
           null,
           null,
           null,
           null,
           null,
           null,
           null,
           null,
           null,
           null,
           null,
           -57028.94600000001,
           null,
           null,
           null,
           null,
           null,
           null,
           null
          ],
          [
           null,
           null,
           null,
           null,
           null,
           null,
           null,
           -62513.752,
           null,
           null,
           null,
           null,
           null,
           null,
           null,
           null,
           null,
           null,
           null,
           null,
           null,
           null,
           null,
           null,
           null,
           null,
           null
          ],
          [
           null,
           null,
           null,
           null,
           -55304.654,
           null,
           null,
           null,
           null,
           null,
           null,
           null,
           null,
           null,
           null,
           null,
           null,
           null,
           null,
           null,
           null,
           null,
           null,
           null,
           null,
           null,
           null
          ],
          [
           null,
           null,
           null,
           null,
           null,
           null,
           null,
           null,
           null,
           null,
           null,
           null,
           null,
           null,
           null,
           null,
           null,
           null,
           null,
           null,
           null,
           -54626.590000000004,
           null,
           null,
           null,
           null,
           null
          ],
          [
           null,
           null,
           null,
           -55815.621999999996,
           null,
           null,
           null,
           null,
           null,
           null,
           null,
           null,
           null,
           null,
           null,
           null,
           null,
           null,
           null,
           null,
           null,
           null,
           null,
           null,
           null,
           null,
           null
          ],
          [
           null,
           null,
           null,
           null,
           null,
           null,
           null,
           null,
           null,
           null,
           null,
           null,
           null,
           null,
           null,
           null,
           null,
           null,
           null,
           null,
           null,
           null,
           null,
           null,
           -56306.902,
           null,
           null
          ],
          [
           null,
           null,
           null,
           null,
           null,
           null,
           null,
           null,
           null,
           null,
           null,
           null,
           null,
           null,
           null,
           null,
           -57017.11,
           null,
           null,
           null,
           null,
           null,
           null,
           null,
           null,
           null,
           null
          ],
          [
           null,
           null,
           null,
           null,
           null,
           null,
           null,
           null,
           null,
           null,
           null,
           null,
           null,
           -57134.58,
           null,
           null,
           null,
           null,
           null,
           null,
           null,
           null,
           null,
           null,
           null,
           null,
           null
          ],
          [
           null,
           null,
           null,
           null,
           null,
           null,
           null,
           null,
           null,
           null,
           null,
           null,
           null,
           null,
           null,
           -57176.716,
           null,
           null,
           null,
           null,
           null,
           null,
           null,
           null,
           null,
           null,
           null
          ],
          [
           null,
           null,
           null,
           null,
           null,
           null,
           null,
           null,
           null,
           null,
           null,
           null,
           null,
           null,
           -19549814.73,
           null,
           null,
           null,
           null,
           null,
           null,
           null,
           null,
           null,
           null,
           null,
           null
          ],
          [
           null,
           null,
           null,
           null,
           null,
           null,
           null,
           null,
           null,
           null,
           null,
           null,
           null,
           null,
           null,
           null,
           null,
           -56369.626000000004,
           null,
           null,
           null,
           null,
           null,
           null,
           null,
           null,
           null
          ],
          [
           null,
           null,
           null,
           null,
           null,
           null,
           null,
           null,
           -57692.2,
           null,
           null,
           null,
           null,
           null,
           null,
           null,
           null,
           null,
           null,
           null,
           null,
           null,
           null,
           null,
           null,
           null,
           null
          ],
          [
           null,
           null,
           null,
           null,
           null,
           null,
           null,
           null,
           null,
           -57692.490000000005,
           null,
           null,
           null,
           null,
           null,
           null,
           null,
           null,
           null,
           null,
           null,
           null,
           null,
           null,
           null,
           null,
           null
          ],
          [
           null,
           null,
           null,
           null,
           null,
           null,
           null,
           null,
           null,
           null,
           null,
           null,
           null,
           null,
           null,
           null,
           null,
           null,
           null,
           null,
           null,
           null,
           -57957.740000000005,
           null,
           null,
           null,
           null
          ],
          [
           null,
           -56894.962,
           null,
           null,
           null,
           null,
           null,
           null,
           null,
           null,
           null,
           null,
           null,
           null,
           null,
           null,
           null,
           null,
           null,
           null,
           null,
           null,
           null,
           null,
           null,
           null,
           null
          ],
          [
           null,
           null,
           null,
           null,
           null,
           null,
           null,
           null,
           null,
           null,
           null,
           null,
           null,
           null,
           null,
           null,
           null,
           null,
           null,
           null,
           null,
           null,
           null,
           null,
           null,
           null,
           null
          ]
         ]
        },
        {
         "marker": {
          "color": "black",
          "line": {
           "color": "Gray",
           "width": 2
          }
         },
         "mode": "markers",
         "name": "Feasible Trial",
         "showlegend": false,
         "type": "scatter",
         "x": [
          0.0002819806361553919,
          0.00028459630756932615,
          0.000036801111071766234,
          0.0003503413046533094,
          0.0001304818200599708,
          0.000012809465033620892,
          0.00035714762411623297,
          0.00005343712740537448,
          0.00014780795563390663,
          0.00004204007275751892,
          0.00004315917684290081,
          0.0007889069777456757,
          0.0008526711459190907,
          0.00006279454402795933,
          0.000013695227495103939,
          0.000023448472540963925,
          0.00008290617080872125,
          0.0005133664112376705,
          0.00018206291542001923,
          0.00008159522336783198,
          0.000020820172280287977,
          0.000022815776452938465,
          0.00002443625969661686,
          0.00005550917292060962,
          0.000030670742746636123
         ],
         "xaxis": "x28",
         "y": [
          0.20951677991709033,
          0.15862163909933125,
          0.3545390930971707,
          0.2473782787839689,
          0.2540150568313335,
          0.4883902693609067,
          0.4347943637537365,
          0.18720161137015176,
          0.3497946626632852,
          0.3617339115399135,
          0.10209472718990625,
          0.2510889857943497,
          0.17552967526098973,
          0.2810514833732746,
          0.10044825719284384,
          0.20781340636946707,
          0.30063316972951354,
          0.1558134306050329,
          0.20652291135947348,
          0.30752924323583264,
          0.24916479341312883,
          0.24354150134350885,
          0.1851320757830969,
          0.13903253090622913,
          0.23494929016068264
         ],
         "yaxis": "y28"
        },
        {
         "colorbar": {
          "title": {
           "text": "Objective Value"
          }
         },
         "colorscale": [
          [
           0,
           "rgb(247,251,255)"
          ],
          [
           0.125,
           "rgb(222,235,247)"
          ],
          [
           0.25,
           "rgb(198,219,239)"
          ],
          [
           0.375,
           "rgb(158,202,225)"
          ],
          [
           0.5,
           "rgb(107,174,214)"
          ],
          [
           0.625,
           "rgb(66,146,198)"
          ],
          [
           0.75,
           "rgb(33,113,181)"
          ],
          [
           0.875,
           "rgb(8,81,156)"
          ],
          [
           1,
           "rgb(8,48,107)"
          ]
         ],
         "connectgaps": true,
         "contours": {
          "coloring": "heatmap"
         },
         "hoverinfo": "none",
         "line": {
          "smoothing": 1.3
         },
         "reversescale": false,
         "showscale": false,
         "type": "contour",
         "x": [
          0.00001038409048438178,
          0.000012809465033620892,
          0.000013695227495103939,
          0.000020820172280287977,
          0.000022815776452938465,
          0.000023448472540963925,
          0.00002443625969661686,
          0.000030670742746636123,
          0.000036801111071766234,
          0.00004204007275751892,
          0.00004315917684290081,
          0.00005343712740537448,
          0.00005550917292060962,
          0.00006279454402795933,
          0.00008159522336783198,
          0.00008290617080872125,
          0.0001304818200599708,
          0.00014780795563390663,
          0.00018206291542001923,
          0.0002819806361553919,
          0.00028459630756932615,
          0.0003503413046533094,
          0.00035714762411623297,
          0.0005133664112376705,
          0.0007889069777456757,
          0.0008526711459190907,
          0.0010518264690832294
         ],
         "xaxis": "x34",
         "y": [
          0.0008248986629477462,
          0.0010353515655146064,
          0.001187979237031665,
          0.0016614223857966755,
          0.0019208761913845824,
          0.0019967482118355855,
          0.0022192447282842905,
          0.0029177498759307167,
          0.0029411283079602067,
          0.00370874486162138,
          0.004567736817916702,
          0.0046089815988702085,
          0.005277965146005758,
          0.0068478989391215685,
          0.007219334111366669,
          0.00967920237144436,
          0.01277594799676972,
          0.012852229148185504,
          0.021668075767865797,
          0.02419198172590692,
          0.03129999895887123,
          0.045665957204979166,
          0.049436652822015065,
          0.05036048515381466,
          0.09257520224123574,
          0.09746142150556884,
          0.1223263412410957
         ],
         "yaxis": "y34",
         "z": [
          [
           null,
           null,
           null,
           null,
           null,
           null,
           null,
           null,
           null,
           null,
           null,
           null,
           null,
           null,
           null,
           null,
           null,
           null,
           null,
           null,
           null,
           null,
           null,
           null,
           null,
           null,
           null
          ],
          [
           null,
           null,
           null,
           null,
           null,
           null,
           null,
           null,
           null,
           null,
           -63909.490000000005,
           null,
           null,
           null,
           null,
           null,
           null,
           null,
           null,
           null,
           null,
           null,
           null,
           null,
           null,
           null,
           null
          ],
          [
           null,
           null,
           null,
           null,
           null,
           null,
           null,
           null,
           null,
           null,
           null,
           null,
           null,
           null,
           null,
           null,
           -57017.11,
           null,
           null,
           null,
           null,
           null,
           null,
           null,
           null,
           null,
           null
          ],
          [
           null,
           null,
           null,
           null,
           null,
           null,
           null,
           null,
           null,
           null,
           null,
           null,
           null,
           null,
           -19549814.73,
           null,
           null,
           null,
           null,
           null,
           null,
           null,
           null,
           null,
           null,
           null,
           null
          ],
          [
           null,
           null,
           null,
           null,
           null,
           null,
           null,
           -62513.752,
           null,
           null,
           null,
           null,
           null,
           null,
           null,
           null,
           null,
           null,
           null,
           null,
           null,
           null,
           null,
           null,
           null,
           null,
           null
          ],
          [
           null,
           null,
           null,
           null,
           null,
           null,
           null,
           null,
           null,
           null,
           null,
           -54319.630000000005,
           null,
           null,
           null,
           null,
           null,
           null,
           null,
           null,
           null,
           null,
           null,
           null,
           null,
           null,
           null
          ],
          [
           null,
           null,
           null,
           null,
           null,
           null,
           null,
           null,
           null,
           null,
           null,
           null,
           null,
           null,
           null,
           -57176.716,
           null,
           null,
           null,
           null,
           null,
           null,
           null,
           null,
           null,
           null,
           null
          ],
          [
           null,
           null,
           -56636.922,
           null,
           null,
           null,
           null,
           null,
           null,
           null,
           null,
           null,
           null,
           null,
           null,
           null,
           null,
           null,
           null,
           null,
           null,
           null,
           null,
           null,
           null,
           null,
           null
          ],
          [
           null,
           null,
           null,
           null,
           null,
           null,
           null,
           null,
           null,
           null,
           null,
           null,
           null,
           null,
           null,
           null,
           null,
           null,
           null,
           -57028.94600000001,
           null,
           null,
           null,
           null,
           null,
           null,
           null
          ],
          [
           null,
           null,
           null,
           -55815.621999999996,
           null,
           null,
           null,
           null,
           null,
           null,
           null,
           null,
           null,
           null,
           null,
           null,
           null,
           null,
           null,
           null,
           null,
           null,
           null,
           null,
           null,
           null,
           null
          ],
          [
           null,
           null,
           null,
           null,
           null,
           null,
           -56246.052,
           null,
           null,
           null,
           null,
           null,
           null,
           null,
           null,
           null,
           null,
           null,
           null,
           null,
           null,
           null,
           null,
           null,
           null,
           null,
           null
          ],
          [
           null,
           null,
           null,
           null,
           -55304.654,
           null,
           null,
           null,
           null,
           null,
           null,
           null,
           null,
           null,
           null,
           null,
           null,
           null,
           null,
           null,
           null,
           null,
           null,
           null,
           null,
           null,
           null
          ],
          [
           null,
           -56894.962,
           null,
           null,
           null,
           null,
           null,
           null,
           null,
           null,
           null,
           null,
           null,
           null,
           null,
           null,
           null,
           null,
           null,
           null,
           null,
           null,
           null,
           null,
           null,
           null,
           null
          ],
          [
           null,
           null,
           null,
           null,
           null,
           null,
           null,
           null,
           null,
           -57692.490000000005,
           null,
           null,
           null,
           null,
           null,
           null,
           null,
           null,
           null,
           null,
           null,
           null,
           null,
           null,
           null,
           null,
           null
          ],
          [
           null,
           null,
           null,
           null,
           null,
           null,
           null,
           null,
           null,
           null,
           null,
           null,
           null,
           null,
           null,
           null,
           null,
           null,
           null,
           null,
           -56869.409999999996,
           null,
           null,
           null,
           null,
           null,
           null
          ],
          [
           null,
           null,
           null,
           null,
           null,
           null,
           null,
           null,
           -57692.2,
           null,
           null,
           null,
           null,
           null,
           null,
           null,
           null,
           null,
           null,
           null,
           null,
           null,
           null,
           null,
           null,
           null,
           null
          ],
          [
           null,
           null,
           null,
           null,
           null,
           null,
           null,
           null,
           null,
           null,
           null,
           null,
           null,
           null,
           null,
           null,
           null,
           null,
           null,
           null,
           null,
           null,
           null,
           -57662.407999999996,
           null,
           null,
           null
          ],
          [
           null,
           null,
           null,
           null,
           null,
           null,
           null,
           null,
           null,
           null,
           null,
           null,
           -56172.68200000001,
           null,
           null,
           null,
           null,
           null,
           null,
           null,
           null,
           null,
           null,
           null,
           null,
           null,
           null
          ],
          [
           null,
           null,
           null,
           null,
           null,
           null,
           null,
           null,
           null,
           null,
           null,
           null,
           null,
           null,
           null,
           null,
           null,
           null,
           null,
           null,
           null,
           null,
           -57957.740000000005,
           null,
           null,
           null,
           null
          ],
          [
           null,
           null,
           null,
           null,
           null,
           null,
           null,
           null,
           null,
           null,
           null,
           null,
           null,
           -57134.58,
           null,
           null,
           null,
           null,
           null,
           null,
           null,
           null,
           null,
           null,
           null,
           null,
           null
          ],
          [
           null,
           null,
           null,
           null,
           null,
           null,
           null,
           null,
           null,
           null,
           null,
           null,
           null,
           null,
           null,
           null,
           null,
           -56369.626000000004,
           null,
           null,
           null,
           null,
           null,
           null,
           null,
           null,
           null
          ],
          [
           null,
           null,
           null,
           null,
           null,
           null,
           null,
           null,
           null,
           null,
           null,
           null,
           null,
           null,
           null,
           null,
           null,
           null,
           null,
           null,
           null,
           -54626.590000000004,
           null,
           null,
           null,
           null,
           null
          ],
          [
           null,
           null,
           null,
           null,
           null,
           -57585.958,
           null,
           null,
           null,
           null,
           null,
           null,
           null,
           null,
           null,
           null,
           null,
           null,
           null,
           null,
           null,
           null,
           null,
           null,
           null,
           null,
           null
          ],
          [
           null,
           null,
           null,
           null,
           null,
           null,
           null,
           null,
           null,
           null,
           null,
           null,
           null,
           null,
           null,
           null,
           null,
           null,
           -56457.295999999995,
           null,
           null,
           null,
           null,
           null,
           null,
           null,
           null
          ],
          [
           null,
           null,
           null,
           null,
           null,
           null,
           null,
           null,
           null,
           null,
           null,
           null,
           null,
           null,
           null,
           null,
           null,
           null,
           null,
           null,
           null,
           null,
           null,
           null,
           -56306.902,
           null,
           null
          ],
          [
           null,
           null,
           null,
           null,
           null,
           null,
           null,
           null,
           null,
           null,
           null,
           null,
           null,
           null,
           null,
           null,
           null,
           null,
           null,
           null,
           null,
           null,
           null,
           null,
           null,
           -56235.48,
           null
          ],
          [
           null,
           null,
           null,
           null,
           null,
           null,
           null,
           null,
           null,
           null,
           null,
           null,
           null,
           null,
           null,
           null,
           null,
           null,
           null,
           null,
           null,
           null,
           null,
           null,
           null,
           null,
           null
          ]
         ]
        },
        {
         "marker": {
          "color": "black",
          "line": {
           "color": "Gray",
           "width": 2
          }
         },
         "mode": "markers",
         "name": "Feasible Trial",
         "showlegend": false,
         "type": "scatter",
         "x": [
          0.0002819806361553919,
          0.00028459630756932615,
          0.000036801111071766234,
          0.0003503413046533094,
          0.0001304818200599708,
          0.000012809465033620892,
          0.00035714762411623297,
          0.00005343712740537448,
          0.00014780795563390663,
          0.00004204007275751892,
          0.00004315917684290081,
          0.0007889069777456757,
          0.0008526711459190907,
          0.00006279454402795933,
          0.000013695227495103939,
          0.000023448472540963925,
          0.00008290617080872125,
          0.0005133664112376705,
          0.00018206291542001923,
          0.00008159522336783198,
          0.000020820172280287977,
          0.000022815776452938465,
          0.00002443625969661686,
          0.00005550917292060962,
          0.000030670742746636123
         ],
         "xaxis": "x34",
         "y": [
          0.0029411283079602067,
          0.007219334111366669,
          0.00967920237144436,
          0.045665957204979166,
          0.001187979237031665,
          0.005277965146005758,
          0.021668075767865797,
          0.0019967482118355855,
          0.03129999895887123,
          0.0068478989391215685,
          0.0010353515655146064,
          0.09257520224123574,
          0.09746142150556884,
          0.02419198172590692,
          0.0029177498759307167,
          0.049436652822015065,
          0.0022192447282842905,
          0.01277594799676972,
          0.05036048515381466,
          0.0016614223857966755,
          0.00370874486162138,
          0.0046089815988702085,
          0.004567736817916702,
          0.012852229148185504,
          0.0019208761913845824
         ],
         "yaxis": "y34"
        },
        {
         "colorbar": {
          "title": {
           "text": "Objective Value"
          }
         },
         "colorscale": [
          [
           0,
           "rgb(247,251,255)"
          ],
          [
           0.125,
           "rgb(222,235,247)"
          ],
          [
           0.25,
           "rgb(198,219,239)"
          ],
          [
           0.375,
           "rgb(158,202,225)"
          ],
          [
           0.5,
           "rgb(107,174,214)"
          ],
          [
           0.625,
           "rgb(66,146,198)"
          ],
          [
           0.75,
           "rgb(33,113,181)"
          ],
          [
           0.875,
           "rgb(8,81,156)"
          ],
          [
           1,
           "rgb(8,48,107)"
          ]
         ],
         "connectgaps": true,
         "contours": {
          "coloring": "heatmap"
         },
         "hoverinfo": "none",
         "line": {
          "smoothing": 1.3
         },
         "reversescale": false,
         "showscale": false,
         "type": "contour",
         "x": [
          0.08105115658444069,
          0.10044825719284384,
          0.10209472718990625,
          0.13903253090622913,
          0.1558134306050329,
          0.15862163909933125,
          0.17552967526098973,
          0.1851320757830969,
          0.18720161137015176,
          0.20652291135947348,
          0.20781340636946707,
          0.20951677991709033,
          0.23494929016068264,
          0.24354150134350885,
          0.2473782787839689,
          0.24916479341312883,
          0.2510889857943497,
          0.2540150568313335,
          0.2810514833732746,
          0.30063316972951354,
          0.30752924323583264,
          0.3497946626632852,
          0.3545390930971707,
          0.3617339115399135,
          0.4347943637537365,
          0.4883902693609067,
          0.5077873699693098
         ],
         "xaxis": "x5",
         "y": [
          20.799999999999997,
          32,
          64,
          128,
          256,
          267.2
         ],
         "yaxis": "y5",
         "z": [
          [
           null,
           null,
           null,
           null,
           null,
           null,
           null,
           null,
           null,
           null,
           null,
           null,
           null,
           null,
           null,
           null,
           null,
           null,
           null,
           null,
           null,
           null,
           null,
           null,
           null,
           null,
           null
          ],
          [
           null,
           -56636.922,
           -63909.490000000005,
           null,
           null,
           -56869.409999999996,
           null,
           null,
           -54319.630000000005,
           -56457.295999999995,
           null,
           null,
           null,
           null,
           null,
           null,
           null,
           -57017.11,
           null,
           null,
           null,
           null,
           null,
           -57692.490000000005,
           null,
           null,
           null
          ],
          [
           null,
           null,
           null,
           null,
           null,
           null,
           null,
           null,
           null,
           null,
           null,
           null,
           null,
           null,
           null,
           null,
           null,
           null,
           null,
           -57176.716,
           null,
           null,
           -57692.2,
           null,
           -57957.740000000005,
           null,
           null
          ],
          [
           null,
           null,
           null,
           null,
           -57662.407999999996,
           null,
           null,
           null,
           null,
           null,
           null,
           null,
           null,
           null,
           null,
           null,
           null,
           null,
           null,
           null,
           null,
           -56369.626000000004,
           null,
           null,
           null,
           -56894.962,
           null
          ],
          [
           null,
           null,
           null,
           -56172.68200000001,
           null,
           null,
           -56235.48,
           -56246.052,
           null,
           null,
           -57585.958,
           -57028.94600000001,
           -62513.752,
           -55304.654,
           -54626.590000000004,
           -55815.621999999996,
           -56306.902,
           null,
           -57134.58,
           null,
           -19549814.73,
           null,
           null,
           null,
           null,
           null,
           null
          ],
          [
           null,
           null,
           null,
           null,
           null,
           null,
           null,
           null,
           null,
           null,
           null,
           null,
           null,
           null,
           null,
           null,
           null,
           null,
           null,
           null,
           null,
           null,
           null,
           null,
           null,
           null,
           null
          ]
         ]
        },
        {
         "marker": {
          "color": "black",
          "line": {
           "color": "Gray",
           "width": 2
          }
         },
         "mode": "markers",
         "name": "Feasible Trial",
         "showlegend": false,
         "type": "scatter",
         "x": [
          0.20951677991709033,
          0.15862163909933125,
          0.3545390930971707,
          0.2473782787839689,
          0.2540150568313335,
          0.4883902693609067,
          0.4347943637537365,
          0.18720161137015176,
          0.3497946626632852,
          0.3617339115399135,
          0.10209472718990625,
          0.2510889857943497,
          0.17552967526098973,
          0.2810514833732746,
          0.10044825719284384,
          0.20781340636946707,
          0.30063316972951354,
          0.1558134306050329,
          0.20652291135947348,
          0.30752924323583264,
          0.24916479341312883,
          0.24354150134350885,
          0.1851320757830969,
          0.13903253090622913,
          0.23494929016068264
         ],
         "xaxis": "x5",
         "y": [
          256,
          32,
          64,
          256,
          32,
          128,
          64,
          32,
          128,
          32,
          32,
          256,
          256,
          256,
          32,
          256,
          64,
          128,
          32,
          256,
          256,
          256,
          256,
          256,
          256
         ],
         "yaxis": "y5"
        },
        {
         "colorbar": {
          "title": {
           "text": "Objective Value"
          }
         },
         "colorscale": [
          [
           0,
           "rgb(247,251,255)"
          ],
          [
           0.125,
           "rgb(222,235,247)"
          ],
          [
           0.25,
           "rgb(198,219,239)"
          ],
          [
           0.375,
           "rgb(158,202,225)"
          ],
          [
           0.5,
           "rgb(107,174,214)"
          ],
          [
           0.625,
           "rgb(66,146,198)"
          ],
          [
           0.75,
           "rgb(33,113,181)"
          ],
          [
           0.875,
           "rgb(8,81,156)"
          ],
          [
           1,
           "rgb(8,48,107)"
          ]
         ],
         "connectgaps": true,
         "contours": {
          "coloring": "heatmap"
         },
         "hoverinfo": "none",
         "line": {
          "smoothing": 1.3
         },
         "reversescale": false,
         "showscale": false,
         "type": "contour",
         "x": [
          0.08105115658444069,
          0.10044825719284384,
          0.10209472718990625,
          0.13903253090622913,
          0.1558134306050329,
          0.15862163909933125,
          0.17552967526098973,
          0.1851320757830969,
          0.18720161137015176,
          0.20652291135947348,
          0.20781340636946707,
          0.20951677991709033,
          0.23494929016068264,
          0.24354150134350885,
          0.2473782787839689,
          0.24916479341312883,
          0.2510889857943497,
          0.2540150568313335,
          0.2810514833732746,
          0.30063316972951354,
          0.30752924323583264,
          0.3497946626632852,
          0.3545390930971707,
          0.3617339115399135,
          0.4347943637537365,
          0.4883902693609067,
          0.5077873699693098
         ],
         "xaxis": "x11",
         "y": [
          27500,
          50000,
          100000,
          150000,
          200000,
          250000,
          300000,
          350000,
          400000,
          450000,
          500000,
          522500
         ],
         "yaxis": "y11",
         "z": [
          [
           null,
           null,
           null,
           null,
           null,
           null,
           null,
           null,
           null,
           null,
           null,
           null,
           null,
           null,
           null,
           null,
           null,
           null,
           null,
           null,
           null,
           null,
           null,
           null,
           null,
           null,
           null
          ],
          [
           null,
           null,
           null,
           null,
           null,
           null,
           null,
           null,
           null,
           null,
           -57585.958,
           -57028.94600000001,
           null,
           null,
           null,
           null,
           null,
           null,
           null,
           null,
           null,
           null,
           null,
           null,
           null,
           null,
           null
          ],
          [
           null,
           null,
           null,
           null,
           null,
           null,
           null,
           -56246.052,
           null,
           null,
           null,
           null,
           null,
           null,
           -54626.590000000004,
           null,
           -56306.902,
           null,
           null,
           null,
           -19549814.73,
           null,
           null,
           null,
           null,
           null,
           null
          ],
          [
           null,
           null,
           -63909.490000000005,
           null,
           null,
           null,
           -56235.48,
           null,
           null,
           null,
           null,
           null,
           null,
           null,
           null,
           null,
           null,
           null,
           null,
           -57176.716,
           null,
           null,
           null,
           null,
           null,
           null,
           null
          ],
          [
           null,
           -56636.922,
           null,
           null,
           -57662.407999999996,
           null,
           null,
           null,
           null,
           null,
           null,
           null,
           -62513.752,
           -55304.654,
           null,
           -55815.621999999996,
           null,
           null,
           null,
           null,
           null,
           null,
           null,
           null,
           null,
           null,
           null
          ],
          [
           null,
           null,
           null,
           -56172.68200000001,
           null,
           null,
           null,
           null,
           -54319.630000000005,
           null,
           null,
           null,
           null,
           null,
           null,
           null,
           null,
           null,
           null,
           null,
           null,
           null,
           -57692.2,
           null,
           -57957.740000000005,
           null,
           null
          ],
          [
           null,
           null,
           null,
           null,
           null,
           null,
           null,
           null,
           null,
           -56457.295999999995,
           null,
           null,
           null,
           null,
           null,
           null,
           null,
           null,
           -57134.58,
           null,
           null,
           null,
           null,
           null,
           null,
           null,
           null
          ],
          [
           null,
           null,
           null,
           null,
           null,
           -56869.409999999996,
           null,
           null,
           null,
           null,
           null,
           null,
           null,
           null,
           null,
           null,
           null,
           null,
           null,
           null,
           null,
           null,
           null,
           null,
           null,
           null,
           null
          ],
          [
           null,
           null,
           null,
           null,
           null,
           null,
           null,
           null,
           null,
           null,
           null,
           null,
           null,
           null,
           null,
           null,
           null,
           null,
           null,
           null,
           null,
           null,
           null,
           -57692.490000000005,
           null,
           -56894.962,
           null
          ],
          [
           null,
           null,
           null,
           null,
           null,
           null,
           null,
           null,
           null,
           null,
           null,
           null,
           null,
           null,
           null,
           null,
           null,
           -57017.11,
           null,
           null,
           null,
           null,
           null,
           null,
           null,
           null,
           null
          ],
          [
           null,
           null,
           null,
           null,
           null,
           null,
           null,
           null,
           null,
           null,
           null,
           null,
           null,
           null,
           null,
           null,
           null,
           null,
           null,
           null,
           null,
           -56369.626000000004,
           null,
           null,
           null,
           null,
           null
          ],
          [
           null,
           null,
           null,
           null,
           null,
           null,
           null,
           null,
           null,
           null,
           null,
           null,
           null,
           null,
           null,
           null,
           null,
           null,
           null,
           null,
           null,
           null,
           null,
           null,
           null,
           null,
           null
          ]
         ]
        },
        {
         "marker": {
          "color": "black",
          "line": {
           "color": "Gray",
           "width": 2
          }
         },
         "mode": "markers",
         "name": "Feasible Trial",
         "showlegend": false,
         "type": "scatter",
         "x": [
          0.20951677991709033,
          0.15862163909933125,
          0.3545390930971707,
          0.2473782787839689,
          0.2540150568313335,
          0.4883902693609067,
          0.4347943637537365,
          0.18720161137015176,
          0.3497946626632852,
          0.3617339115399135,
          0.10209472718990625,
          0.2510889857943497,
          0.17552967526098973,
          0.2810514833732746,
          0.10044825719284384,
          0.20781340636946707,
          0.30063316972951354,
          0.1558134306050329,
          0.20652291135947348,
          0.30752924323583264,
          0.24916479341312883,
          0.24354150134350885,
          0.1851320757830969,
          0.13903253090622913,
          0.23494929016068264
         ],
         "xaxis": "x11",
         "y": [
          50000,
          350000,
          250000,
          100000,
          450000,
          400000,
          250000,
          250000,
          500000,
          400000,
          150000,
          100000,
          150000,
          300000,
          200000,
          50000,
          150000,
          200000,
          300000,
          100000,
          200000,
          200000,
          100000,
          250000,
          200000
         ],
         "yaxis": "y11"
        },
        {
         "colorbar": {
          "title": {
           "text": "Objective Value"
          }
         },
         "colorscale": [
          [
           0,
           "rgb(247,251,255)"
          ],
          [
           0.125,
           "rgb(222,235,247)"
          ],
          [
           0.25,
           "rgb(198,219,239)"
          ],
          [
           0.375,
           "rgb(158,202,225)"
          ],
          [
           0.5,
           "rgb(107,174,214)"
          ],
          [
           0.625,
           "rgb(66,146,198)"
          ],
          [
           0.75,
           "rgb(33,113,181)"
          ],
          [
           0.875,
           "rgb(8,81,156)"
          ],
          [
           1,
           "rgb(8,48,107)"
          ]
         ],
         "connectgaps": true,
         "contours": {
          "coloring": "heatmap"
         },
         "hoverinfo": "none",
         "line": {
          "smoothing": 1.3
         },
         "reversescale": false,
         "showscale": false,
         "type": "contour",
         "x": [
          0.08105115658444069,
          0.10044825719284384,
          0.10209472718990625,
          0.13903253090622913,
          0.1558134306050329,
          0.15862163909933125,
          0.17552967526098973,
          0.1851320757830969,
          0.18720161137015176,
          0.20652291135947348,
          0.20781340636946707,
          0.20951677991709033,
          0.23494929016068264,
          0.24354150134350885,
          0.2473782787839689,
          0.24916479341312883,
          0.2510889857943497,
          0.2540150568313335,
          0.2810514833732746,
          0.30063316972951354,
          0.30752924323583264,
          0.3497946626632852,
          0.3545390930971707,
          0.3617339115399135,
          0.4347943637537365,
          0.4883902693609067,
          0.5077873699693098
         ],
         "xaxis": "x17",
         "y": [
          0.8974453434286189,
          0.9019352825221195,
          0.9096140750982753,
          0.9123476930941506,
          0.920468262220192,
          0.9206097195855281,
          0.9216484011486659,
          0.926364134131323,
          0.9306844399486447,
          0.935028002418254,
          0.9400781671181636,
          0.9426452609614562,
          0.9461070376872395,
          0.9483505657961858,
          0.9497968235255966,
          0.9551415511242626,
          0.9557228564582686,
          0.9604047030602296,
          0.9631174579822008,
          0.9635749641192399,
          0.9704343706710925,
          0.9725514776636865,
          0.9737426144945708,
          0.9826048292201849,
          0.9893001327119111,
          0.991734064392131,
          0.9962240034856316
         ],
         "yaxis": "y17",
         "z": [
          [
           null,
           null,
           null,
           null,
           null,
           null,
           null,
           null,
           null,
           null,
           null,
           null,
           null,
           null,
           null,
           null,
           null,
           null,
           null,
           null,
           null,
           null,
           null,
           null,
           null,
           null,
           null
          ],
          [
           null,
           -56636.922,
           null,
           null,
           null,
           null,
           null,
           null,
           null,
           null,
           null,
           null,
           null,
           null,
           null,
           null,
           null,
           null,
           null,
           null,
           null,
           null,
           null,
           null,
           null,
           null,
           null
          ],
          [
           null,
           null,
           null,
           null,
           null,
           null,
           null,
           -56246.052,
           null,
           null,
           null,
           null,
           null,
           null,
           null,
           null,
           null,
           null,
           null,
           null,
           null,
           null,
           null,
           null,
           null,
           null,
           null
          ],
          [
           null,
           null,
           null,
           null,
           null,
           null,
           null,
           null,
           null,
           null,
           null,
           null,
           -62513.752,
           null,
           null,
           null,
           null,
           null,
           null,
           null,
           null,
           null,
           null,
           null,
           null,
           null,
           null
          ],
          [
           null,
           null,
           null,
           null,
           null,
           null,
           null,
           null,
           null,
           null,
           null,
           null,
           null,
           null,
           null,
           null,
           null,
           null,
           null,
           null,
           null,
           -56369.626000000004,
           null,
           null,
           null,
           null,
           null
          ],
          [
           null,
           null,
           null,
           null,
           null,
           -56869.409999999996,
           null,
           null,
           null,
           null,
           null,
           null,
           null,
           null,
           null,
           null,
           null,
           null,
           null,
           null,
           null,
           null,
           null,
           null,
           null,
           null,
           null
          ],
          [
           null,
           null,
           null,
           null,
           null,
           null,
           null,
           null,
           null,
           null,
           null,
           null,
           null,
           -55304.654,
           null,
           null,
           null,
           null,
           null,
           null,
           null,
           null,
           null,
           null,
           null,
           null,
           null
          ],
          [
           null,
           null,
           null,
           null,
           null,
           null,
           null,
           null,
           null,
           null,
           null,
           null,
           null,
           null,
           null,
           -55815.621999999996,
           null,
           null,
           null,
           null,
           null,
           null,
           null,
           null,
           null,
           null,
           null
          ],
          [
           null,
           null,
           null,
           null,
           null,
           null,
           null,
           null,
           null,
           null,
           -57585.958,
           null,
           null,
           null,
           null,
           null,
           null,
           null,
           null,
           null,
           null,
           null,
           null,
           null,
           null,
           null,
           null
          ],
          [
           null,
           null,
           -63909.490000000005,
           null,
           null,
           null,
           null,
           null,
           null,
           null,
           null,
           null,
           null,
           null,
           null,
           null,
           null,
           null,
           null,
           null,
           null,
           null,
           null,
           null,
           null,
           null,
           null
          ],
          [
           null,
           null,
           null,
           null,
           null,
           null,
           null,
           null,
           null,
           null,
           null,
           null,
           null,
           null,
           null,
           null,
           null,
           null,
           null,
           null,
           -19549814.73,
           null,
           null,
           null,
           null,
           null,
           null
          ],
          [
           null,
           null,
           null,
           null,
           null,
           null,
           null,
           null,
           null,
           null,
           null,
           null,
           null,
           null,
           null,
           null,
           -56306.902,
           null,
           null,
           null,
           null,
           null,
           null,
           null,
           null,
           null,
           null
          ],
          [
           null,
           null,
           null,
           null,
           null,
           null,
           -56235.48,
           null,
           null,
           null,
           null,
           null,
           null,
           null,
           null,
           null,
           null,
           null,
           null,
           null,
           null,
           null,
           null,
           null,
           null,
           null,
           null
          ],
          [
           null,
           null,
           null,
           -56172.68200000001,
           null,
           null,
           null,
           null,
           null,
           null,
           null,
           null,
           null,
           null,
           null,
           null,
           null,
           null,
           null,
           null,
           null,
           null,
           null,
           null,
           null,
           null,
           null
          ],
          [
           null,
           null,
           null,
           null,
           null,
           null,
           null,
           null,
           null,
           null,
           null,
           null,
           null,
           null,
           -54626.590000000004,
           null,
           null,
           null,
           null,
           null,
           null,
           null,
           null,
           null,
           null,
           null,
           null
          ],
          [
           null,
           null,
           null,
           null,
           null,
           null,
           null,
           null,
           null,
           null,
           null,
           null,
           null,
           null,
           null,
           null,
           null,
           null,
           null,
           -57176.716,
           null,
           null,
           null,
           null,
           null,
           null,
           null
          ],
          [
           null,
           null,
           null,
           null,
           null,
           null,
           null,
           null,
           null,
           null,
           null,
           null,
           null,
           null,
           null,
           null,
           null,
           -57017.11,
           null,
           null,
           null,
           null,
           null,
           null,
           null,
           null,
           null
          ],
          [
           null,
           null,
           null,
           null,
           null,
           null,
           null,
           null,
           null,
           -56457.295999999995,
           null,
           null,
           null,
           null,
           null,
           null,
           null,
           null,
           null,
           null,
           null,
           null,
           null,
           null,
           null,
           null,
           null
          ],
          [
           null,
           null,
           null,
           null,
           null,
           null,
           null,
           null,
           null,
           null,
           null,
           -57028.94600000001,
           null,
           null,
           null,
           null,
           null,
           null,
           null,
           null,
           null,
           null,
           null,
           null,
           null,
           null,
           null
          ],
          [
           null,
           null,
           null,
           null,
           null,
           null,
           null,
           null,
           -54319.630000000005,
           null,
           null,
           null,
           null,
           null,
           null,
           null,
           null,
           null,
           null,
           null,
           null,
           null,
           null,
           null,
           null,
           null,
           null
          ],
          [
           null,
           null,
           null,
           null,
           null,
           null,
           null,
           null,
           null,
           null,
           null,
           null,
           null,
           null,
           null,
           null,
           null,
           null,
           null,
           null,
           null,
           null,
           -57692.2,
           null,
           null,
           null,
           null
          ],
          [
           null,
           null,
           null,
           null,
           null,
           null,
           null,
           null,
           null,
           null,
           null,
           null,
           null,
           null,
           null,
           null,
           null,
           null,
           -57134.58,
           null,
           null,
           null,
           null,
           null,
           null,
           null,
           null
          ],
          [
           null,
           null,
           null,
           null,
           -57662.407999999996,
           null,
           null,
           null,
           null,
           null,
           null,
           null,
           null,
           null,
           null,
           null,
           null,
           null,
           null,
           null,
           null,
           null,
           null,
           null,
           null,
           null,
           null
          ],
          [
           null,
           null,
           null,
           null,
           null,
           null,
           null,
           null,
           null,
           null,
           null,
           null,
           null,
           null,
           null,
           null,
           null,
           null,
           null,
           null,
           null,
           null,
           null,
           -57692.490000000005,
           null,
           null,
           null
          ],
          [
           null,
           null,
           null,
           null,
           null,
           null,
           null,
           null,
           null,
           null,
           null,
           null,
           null,
           null,
           null,
           null,
           null,
           null,
           null,
           null,
           null,
           null,
           null,
           null,
           -57957.740000000005,
           null,
           null
          ],
          [
           null,
           null,
           null,
           null,
           null,
           null,
           null,
           null,
           null,
           null,
           null,
           null,
           null,
           null,
           null,
           null,
           null,
           null,
           null,
           null,
           null,
           null,
           null,
           null,
           null,
           -56894.962,
           null
          ],
          [
           null,
           null,
           null,
           null,
           null,
           null,
           null,
           null,
           null,
           null,
           null,
           null,
           null,
           null,
           null,
           null,
           null,
           null,
           null,
           null,
           null,
           null,
           null,
           null,
           null,
           null,
           null
          ]
         ]
        },
        {
         "marker": {
          "color": "black",
          "line": {
           "color": "Gray",
           "width": 2
          }
         },
         "mode": "markers",
         "name": "Feasible Trial",
         "showlegend": false,
         "type": "scatter",
         "x": [
          0.20951677991709033,
          0.15862163909933125,
          0.3545390930971707,
          0.2473782787839689,
          0.2540150568313335,
          0.4883902693609067,
          0.4347943637537365,
          0.18720161137015176,
          0.3497946626632852,
          0.3617339115399135,
          0.10209472718990625,
          0.2510889857943497,
          0.17552967526098973,
          0.2810514833732746,
          0.10044825719284384,
          0.20781340636946707,
          0.30063316972951354,
          0.1558134306050329,
          0.20652291135947348,
          0.30752924323583264,
          0.24916479341312883,
          0.24354150134350885,
          0.1851320757830969,
          0.13903253090622913,
          0.23494929016068264
         ],
         "xaxis": "x17",
         "y": [
          0.9631174579822008,
          0.9206097195855281,
          0.9704343706710925,
          0.9497968235255966,
          0.9557228564582686,
          0.991734064392131,
          0.9893001327119111,
          0.9635749641192399,
          0.920468262220192,
          0.9826048292201849,
          0.935028002418254,
          0.9426452609614562,
          0.9461070376872395,
          0.9725514776636865,
          0.9019352825221195,
          0.9306844399486447,
          0.9551415511242626,
          0.9737426144945708,
          0.9604047030602296,
          0.9400781671181636,
          0.926364134131323,
          0.9216484011486659,
          0.9096140750982753,
          0.9483505657961858,
          0.9123476930941506
         ],
         "yaxis": "y17"
        },
        {
         "colorbar": {
          "title": {
           "text": "Objective Value"
          }
         },
         "colorscale": [
          [
           0,
           "rgb(247,251,255)"
          ],
          [
           0.125,
           "rgb(222,235,247)"
          ],
          [
           0.25,
           "rgb(198,219,239)"
          ],
          [
           0.375,
           "rgb(158,202,225)"
          ],
          [
           0.5,
           "rgb(107,174,214)"
          ],
          [
           0.625,
           "rgb(66,146,198)"
          ],
          [
           0.75,
           "rgb(33,113,181)"
          ],
          [
           0.875,
           "rgb(8,81,156)"
          ],
          [
           1,
           "rgb(8,48,107)"
          ]
         ],
         "connectgaps": true,
         "contours": {
          "coloring": "heatmap"
         },
         "hoverinfo": "none",
         "line": {
          "smoothing": 1.3
         },
         "reversescale": false,
         "showscale": false,
         "type": "contour",
         "x": [
          0.08105115658444069,
          0.10044825719284384,
          0.10209472718990625,
          0.13903253090622913,
          0.1558134306050329,
          0.15862163909933125,
          0.17552967526098973,
          0.1851320757830969,
          0.18720161137015176,
          0.20652291135947348,
          0.20781340636946707,
          0.20951677991709033,
          0.23494929016068264,
          0.24354150134350885,
          0.2473782787839689,
          0.24916479341312883,
          0.2510889857943497,
          0.2540150568313335,
          0.2810514833732746,
          0.30063316972951354,
          0.30752924323583264,
          0.3497946626632852,
          0.3545390930971707,
          0.3617339115399135,
          0.4347943637537365,
          0.4883902693609067,
          0.5077873699693098
         ],
         "xaxis": "x23",
         "y": [
          0.00001038409048438178,
          0.000012809465033620892,
          0.000013695227495103939,
          0.000020820172280287977,
          0.000022815776452938465,
          0.000023448472540963925,
          0.00002443625969661686,
          0.000030670742746636123,
          0.000036801111071766234,
          0.00004204007275751892,
          0.00004315917684290081,
          0.00005343712740537448,
          0.00005550917292060962,
          0.00006279454402795933,
          0.00008159522336783198,
          0.00008290617080872125,
          0.0001304818200599708,
          0.00014780795563390663,
          0.00018206291542001923,
          0.0002819806361553919,
          0.00028459630756932615,
          0.0003503413046533094,
          0.00035714762411623297,
          0.0005133664112376705,
          0.0007889069777456757,
          0.0008526711459190907,
          0.0010518264690832294
         ],
         "yaxis": "y23",
         "z": [
          [
           null,
           null,
           null,
           null,
           null,
           null,
           null,
           null,
           null,
           null,
           null,
           null,
           null,
           null,
           null,
           null,
           null,
           null,
           null,
           null,
           null,
           null,
           null,
           null,
           null,
           null,
           null
          ],
          [
           null,
           null,
           null,
           null,
           null,
           null,
           null,
           null,
           null,
           null,
           null,
           null,
           null,
           null,
           null,
           null,
           null,
           null,
           null,
           null,
           null,
           null,
           null,
           null,
           null,
           -56894.962,
           null
          ],
          [
           null,
           -56636.922,
           null,
           null,
           null,
           null,
           null,
           null,
           null,
           null,
           null,
           null,
           null,
           null,
           null,
           null,
           null,
           null,
           null,
           null,
           null,
           null,
           null,
           null,
           null,
           null,
           null
          ],
          [
           null,
           null,
           null,
           null,
           null,
           null,
           null,
           null,
           null,
           null,
           null,
           null,
           null,
           null,
           null,
           -55815.621999999996,
           null,
           null,
           null,
           null,
           null,
           null,
           null,
           null,
           null,
           null,
           null
          ],
          [
           null,
           null,
           null,
           null,
           null,
           null,
           null,
           null,
           null,
           null,
           null,
           null,
           null,
           -55304.654,
           null,
           null,
           null,
           null,
           null,
           null,
           null,
           null,
           null,
           null,
           null,
           null,
           null
          ],
          [
           null,
           null,
           null,
           null,
           null,
           null,
           null,
           null,
           null,
           null,
           -57585.958,
           null,
           null,
           null,
           null,
           null,
           null,
           null,
           null,
           null,
           null,
           null,
           null,
           null,
           null,
           null,
           null
          ],
          [
           null,
           null,
           null,
           null,
           null,
           null,
           null,
           -56246.052,
           null,
           null,
           null,
           null,
           null,
           null,
           null,
           null,
           null,
           null,
           null,
           null,
           null,
           null,
           null,
           null,
           null,
           null,
           null
          ],
          [
           null,
           null,
           null,
           null,
           null,
           null,
           null,
           null,
           null,
           null,
           null,
           null,
           -62513.752,
           null,
           null,
           null,
           null,
           null,
           null,
           null,
           null,
           null,
           null,
           null,
           null,
           null,
           null
          ],
          [
           null,
           null,
           null,
           null,
           null,
           null,
           null,
           null,
           null,
           null,
           null,
           null,
           null,
           null,
           null,
           null,
           null,
           null,
           null,
           null,
           null,
           null,
           -57692.2,
           null,
           null,
           null,
           null
          ],
          [
           null,
           null,
           null,
           null,
           null,
           null,
           null,
           null,
           null,
           null,
           null,
           null,
           null,
           null,
           null,
           null,
           null,
           null,
           null,
           null,
           null,
           null,
           null,
           -57692.490000000005,
           null,
           null,
           null
          ],
          [
           null,
           null,
           -63909.490000000005,
           null,
           null,
           null,
           null,
           null,
           null,
           null,
           null,
           null,
           null,
           null,
           null,
           null,
           null,
           null,
           null,
           null,
           null,
           null,
           null,
           null,
           null,
           null,
           null
          ],
          [
           null,
           null,
           null,
           null,
           null,
           null,
           null,
           null,
           -54319.630000000005,
           null,
           null,
           null,
           null,
           null,
           null,
           null,
           null,
           null,
           null,
           null,
           null,
           null,
           null,
           null,
           null,
           null,
           null
          ],
          [
           null,
           null,
           null,
           -56172.68200000001,
           null,
           null,
           null,
           null,
           null,
           null,
           null,
           null,
           null,
           null,
           null,
           null,
           null,
           null,
           null,
           null,
           null,
           null,
           null,
           null,
           null,
           null,
           null
          ],
          [
           null,
           null,
           null,
           null,
           null,
           null,
           null,
           null,
           null,
           null,
           null,
           null,
           null,
           null,
           null,
           null,
           null,
           null,
           -57134.58,
           null,
           null,
           null,
           null,
           null,
           null,
           null,
           null
          ],
          [
           null,
           null,
           null,
           null,
           null,
           null,
           null,
           null,
           null,
           null,
           null,
           null,
           null,
           null,
           null,
           null,
           null,
           null,
           null,
           null,
           -19549814.73,
           null,
           null,
           null,
           null,
           null,
           null
          ],
          [
           null,
           null,
           null,
           null,
           null,
           null,
           null,
           null,
           null,
           null,
           null,
           null,
           null,
           null,
           null,
           null,
           null,
           null,
           null,
           -57176.716,
           null,
           null,
           null,
           null,
           null,
           null,
           null
          ],
          [
           null,
           null,
           null,
           null,
           null,
           null,
           null,
           null,
           null,
           null,
           null,
           null,
           null,
           null,
           null,
           null,
           null,
           -57017.11,
           null,
           null,
           null,
           null,
           null,
           null,
           null,
           null,
           null
          ],
          [
           null,
           null,
           null,
           null,
           null,
           null,
           null,
           null,
           null,
           null,
           null,
           null,
           null,
           null,
           null,
           null,
           null,
           null,
           null,
           null,
           null,
           -56369.626000000004,
           null,
           null,
           null,
           null,
           null
          ],
          [
           null,
           null,
           null,
           null,
           null,
           null,
           null,
           null,
           null,
           -56457.295999999995,
           null,
           null,
           null,
           null,
           null,
           null,
           null,
           null,
           null,
           null,
           null,
           null,
           null,
           null,
           null,
           null,
           null
          ],
          [
           null,
           null,
           null,
           null,
           null,
           null,
           null,
           null,
           null,
           null,
           null,
           -57028.94600000001,
           null,
           null,
           null,
           null,
           null,
           null,
           null,
           null,
           null,
           null,
           null,
           null,
           null,
           null,
           null
          ],
          [
           null,
           null,
           null,
           null,
           null,
           -56869.409999999996,
           null,
           null,
           null,
           null,
           null,
           null,
           null,
           null,
           null,
           null,
           null,
           null,
           null,
           null,
           null,
           null,
           null,
           null,
           null,
           null,
           null
          ],
          [
           null,
           null,
           null,
           null,
           null,
           null,
           null,
           null,
           null,
           null,
           null,
           null,
           null,
           null,
           -54626.590000000004,
           null,
           null,
           null,
           null,
           null,
           null,
           null,
           null,
           null,
           null,
           null,
           null
          ],
          [
           null,
           null,
           null,
           null,
           null,
           null,
           null,
           null,
           null,
           null,
           null,
           null,
           null,
           null,
           null,
           null,
           null,
           null,
           null,
           null,
           null,
           null,
           null,
           null,
           -57957.740000000005,
           null,
           null
          ],
          [
           null,
           null,
           null,
           null,
           -57662.407999999996,
           null,
           null,
           null,
           null,
           null,
           null,
           null,
           null,
           null,
           null,
           null,
           null,
           null,
           null,
           null,
           null,
           null,
           null,
           null,
           null,
           null,
           null
          ],
          [
           null,
           null,
           null,
           null,
           null,
           null,
           null,
           null,
           null,
           null,
           null,
           null,
           null,
           null,
           null,
           null,
           -56306.902,
           null,
           null,
           null,
           null,
           null,
           null,
           null,
           null,
           null,
           null
          ],
          [
           null,
           null,
           null,
           null,
           null,
           null,
           -56235.48,
           null,
           null,
           null,
           null,
           null,
           null,
           null,
           null,
           null,
           null,
           null,
           null,
           null,
           null,
           null,
           null,
           null,
           null,
           null,
           null
          ],
          [
           null,
           null,
           null,
           null,
           null,
           null,
           null,
           null,
           null,
           null,
           null,
           null,
           null,
           null,
           null,
           null,
           null,
           null,
           null,
           null,
           null,
           null,
           null,
           null,
           null,
           null,
           null
          ]
         ]
        },
        {
         "marker": {
          "color": "black",
          "line": {
           "color": "Gray",
           "width": 2
          }
         },
         "mode": "markers",
         "name": "Feasible Trial",
         "showlegend": false,
         "type": "scatter",
         "x": [
          0.20951677991709033,
          0.15862163909933125,
          0.3545390930971707,
          0.2473782787839689,
          0.2540150568313335,
          0.4883902693609067,
          0.4347943637537365,
          0.18720161137015176,
          0.3497946626632852,
          0.3617339115399135,
          0.10209472718990625,
          0.2510889857943497,
          0.17552967526098973,
          0.2810514833732746,
          0.10044825719284384,
          0.20781340636946707,
          0.30063316972951354,
          0.1558134306050329,
          0.20652291135947348,
          0.30752924323583264,
          0.24916479341312883,
          0.24354150134350885,
          0.1851320757830969,
          0.13903253090622913,
          0.23494929016068264
         ],
         "xaxis": "x23",
         "y": [
          0.0002819806361553919,
          0.00028459630756932615,
          0.000036801111071766234,
          0.0003503413046533094,
          0.0001304818200599708,
          0.000012809465033620892,
          0.00035714762411623297,
          0.00005343712740537448,
          0.00014780795563390663,
          0.00004204007275751892,
          0.00004315917684290081,
          0.0007889069777456757,
          0.0008526711459190907,
          0.00006279454402795933,
          0.000013695227495103939,
          0.000023448472540963925,
          0.00008290617080872125,
          0.0005133664112376705,
          0.00018206291542001923,
          0.00008159522336783198,
          0.000020820172280287977,
          0.000022815776452938465,
          0.00002443625969661686,
          0.00005550917292060962,
          0.000030670742746636123
         ],
         "yaxis": "y23"
        },
        {
         "type": "scatter",
         "xaxis": "x29",
         "yaxis": "y29"
        },
        {
         "colorbar": {
          "title": {
           "text": "Objective Value"
          }
         },
         "colorscale": [
          [
           0,
           "rgb(247,251,255)"
          ],
          [
           0.125,
           "rgb(222,235,247)"
          ],
          [
           0.25,
           "rgb(198,219,239)"
          ],
          [
           0.375,
           "rgb(158,202,225)"
          ],
          [
           0.5,
           "rgb(107,174,214)"
          ],
          [
           0.625,
           "rgb(66,146,198)"
          ],
          [
           0.75,
           "rgb(33,113,181)"
          ],
          [
           0.875,
           "rgb(8,81,156)"
          ],
          [
           1,
           "rgb(8,48,107)"
          ]
         ],
         "connectgaps": true,
         "contours": {
          "coloring": "heatmap"
         },
         "hoverinfo": "none",
         "line": {
          "smoothing": 1.3
         },
         "reversescale": false,
         "showscale": false,
         "type": "contour",
         "x": [
          0.08105115658444069,
          0.10044825719284384,
          0.10209472718990625,
          0.13903253090622913,
          0.1558134306050329,
          0.15862163909933125,
          0.17552967526098973,
          0.1851320757830969,
          0.18720161137015176,
          0.20652291135947348,
          0.20781340636946707,
          0.20951677991709033,
          0.23494929016068264,
          0.24354150134350885,
          0.2473782787839689,
          0.24916479341312883,
          0.2510889857943497,
          0.2540150568313335,
          0.2810514833732746,
          0.30063316972951354,
          0.30752924323583264,
          0.3497946626632852,
          0.3545390930971707,
          0.3617339115399135,
          0.4347943637537365,
          0.4883902693609067,
          0.5077873699693098
         ],
         "xaxis": "x35",
         "y": [
          0.0008248986629477462,
          0.0010353515655146064,
          0.001187979237031665,
          0.0016614223857966755,
          0.0019208761913845824,
          0.0019967482118355855,
          0.0022192447282842905,
          0.0029177498759307167,
          0.0029411283079602067,
          0.00370874486162138,
          0.004567736817916702,
          0.0046089815988702085,
          0.005277965146005758,
          0.0068478989391215685,
          0.007219334111366669,
          0.00967920237144436,
          0.01277594799676972,
          0.012852229148185504,
          0.021668075767865797,
          0.02419198172590692,
          0.03129999895887123,
          0.045665957204979166,
          0.049436652822015065,
          0.05036048515381466,
          0.09257520224123574,
          0.09746142150556884,
          0.1223263412410957
         ],
         "yaxis": "y35",
         "z": [
          [
           null,
           null,
           null,
           null,
           null,
           null,
           null,
           null,
           null,
           null,
           null,
           null,
           null,
           null,
           null,
           null,
           null,
           null,
           null,
           null,
           null,
           null,
           null,
           null,
           null,
           null,
           null
          ],
          [
           null,
           null,
           -63909.490000000005,
           null,
           null,
           null,
           null,
           null,
           null,
           null,
           null,
           null,
           null,
           null,
           null,
           null,
           null,
           null,
           null,
           null,
           null,
           null,
           null,
           null,
           null,
           null,
           null
          ],
          [
           null,
           null,
           null,
           null,
           null,
           null,
           null,
           null,
           null,
           null,
           null,
           null,
           null,
           null,
           null,
           null,
           null,
           -57017.11,
           null,
           null,
           null,
           null,
           null,
           null,
           null,
           null,
           null
          ],
          [
           null,
           null,
           null,
           null,
           null,
           null,
           null,
           null,
           null,
           null,
           null,
           null,
           null,
           null,
           null,
           null,
           null,
           null,
           null,
           null,
           -19549814.73,
           null,
           null,
           null,
           null,
           null,
           null
          ],
          [
           null,
           null,
           null,
           null,
           null,
           null,
           null,
           null,
           null,
           null,
           null,
           null,
           -62513.752,
           null,
           null,
           null,
           null,
           null,
           null,
           null,
           null,
           null,
           null,
           null,
           null,
           null,
           null
          ],
          [
           null,
           null,
           null,
           null,
           null,
           null,
           null,
           null,
           -54319.630000000005,
           null,
           null,
           null,
           null,
           null,
           null,
           null,
           null,
           null,
           null,
           null,
           null,
           null,
           null,
           null,
           null,
           null,
           null
          ],
          [
           null,
           null,
           null,
           null,
           null,
           null,
           null,
           null,
           null,
           null,
           null,
           null,
           null,
           null,
           null,
           null,
           null,
           null,
           null,
           -57176.716,
           null,
           null,
           null,
           null,
           null,
           null,
           null
          ],
          [
           null,
           -56636.922,
           null,
           null,
           null,
           null,
           null,
           null,
           null,
           null,
           null,
           null,
           null,
           null,
           null,
           null,
           null,
           null,
           null,
           null,
           null,
           null,
           null,
           null,
           null,
           null,
           null
          ],
          [
           null,
           null,
           null,
           null,
           null,
           null,
           null,
           null,
           null,
           null,
           null,
           -57028.94600000001,
           null,
           null,
           null,
           null,
           null,
           null,
           null,
           null,
           null,
           null,
           null,
           null,
           null,
           null,
           null
          ],
          [
           null,
           null,
           null,
           null,
           null,
           null,
           null,
           null,
           null,
           null,
           null,
           null,
           null,
           null,
           null,
           -55815.621999999996,
           null,
           null,
           null,
           null,
           null,
           null,
           null,
           null,
           null,
           null,
           null
          ],
          [
           null,
           null,
           null,
           null,
           null,
           null,
           null,
           -56246.052,
           null,
           null,
           null,
           null,
           null,
           null,
           null,
           null,
           null,
           null,
           null,
           null,
           null,
           null,
           null,
           null,
           null,
           null,
           null
          ],
          [
           null,
           null,
           null,
           null,
           null,
           null,
           null,
           null,
           null,
           null,
           null,
           null,
           null,
           -55304.654,
           null,
           null,
           null,
           null,
           null,
           null,
           null,
           null,
           null,
           null,
           null,
           null,
           null
          ],
          [
           null,
           null,
           null,
           null,
           null,
           null,
           null,
           null,
           null,
           null,
           null,
           null,
           null,
           null,
           null,
           null,
           null,
           null,
           null,
           null,
           null,
           null,
           null,
           null,
           null,
           -56894.962,
           null
          ],
          [
           null,
           null,
           null,
           null,
           null,
           null,
           null,
           null,
           null,
           null,
           null,
           null,
           null,
           null,
           null,
           null,
           null,
           null,
           null,
           null,
           null,
           null,
           null,
           -57692.490000000005,
           null,
           null,
           null
          ],
          [
           null,
           null,
           null,
           null,
           null,
           -56869.409999999996,
           null,
           null,
           null,
           null,
           null,
           null,
           null,
           null,
           null,
           null,
           null,
           null,
           null,
           null,
           null,
           null,
           null,
           null,
           null,
           null,
           null
          ],
          [
           null,
           null,
           null,
           null,
           null,
           null,
           null,
           null,
           null,
           null,
           null,
           null,
           null,
           null,
           null,
           null,
           null,
           null,
           null,
           null,
           null,
           null,
           -57692.2,
           null,
           null,
           null,
           null
          ],
          [
           null,
           null,
           null,
           null,
           -57662.407999999996,
           null,
           null,
           null,
           null,
           null,
           null,
           null,
           null,
           null,
           null,
           null,
           null,
           null,
           null,
           null,
           null,
           null,
           null,
           null,
           null,
           null,
           null
          ],
          [
           null,
           null,
           null,
           -56172.68200000001,
           null,
           null,
           null,
           null,
           null,
           null,
           null,
           null,
           null,
           null,
           null,
           null,
           null,
           null,
           null,
           null,
           null,
           null,
           null,
           null,
           null,
           null,
           null
          ],
          [
           null,
           null,
           null,
           null,
           null,
           null,
           null,
           null,
           null,
           null,
           null,
           null,
           null,
           null,
           null,
           null,
           null,
           null,
           null,
           null,
           null,
           null,
           null,
           null,
           -57957.740000000005,
           null,
           null
          ],
          [
           null,
           null,
           null,
           null,
           null,
           null,
           null,
           null,
           null,
           null,
           null,
           null,
           null,
           null,
           null,
           null,
           null,
           null,
           -57134.58,
           null,
           null,
           null,
           null,
           null,
           null,
           null,
           null
          ],
          [
           null,
           null,
           null,
           null,
           null,
           null,
           null,
           null,
           null,
           null,
           null,
           null,
           null,
           null,
           null,
           null,
           null,
           null,
           null,
           null,
           null,
           -56369.626000000004,
           null,
           null,
           null,
           null,
           null
          ],
          [
           null,
           null,
           null,
           null,
           null,
           null,
           null,
           null,
           null,
           null,
           null,
           null,
           null,
           null,
           -54626.590000000004,
           null,
           null,
           null,
           null,
           null,
           null,
           null,
           null,
           null,
           null,
           null,
           null
          ],
          [
           null,
           null,
           null,
           null,
           null,
           null,
           null,
           null,
           null,
           null,
           -57585.958,
           null,
           null,
           null,
           null,
           null,
           null,
           null,
           null,
           null,
           null,
           null,
           null,
           null,
           null,
           null,
           null
          ],
          [
           null,
           null,
           null,
           null,
           null,
           null,
           null,
           null,
           null,
           -56457.295999999995,
           null,
           null,
           null,
           null,
           null,
           null,
           null,
           null,
           null,
           null,
           null,
           null,
           null,
           null,
           null,
           null,
           null
          ],
          [
           null,
           null,
           null,
           null,
           null,
           null,
           null,
           null,
           null,
           null,
           null,
           null,
           null,
           null,
           null,
           null,
           -56306.902,
           null,
           null,
           null,
           null,
           null,
           null,
           null,
           null,
           null,
           null
          ],
          [
           null,
           null,
           null,
           null,
           null,
           null,
           -56235.48,
           null,
           null,
           null,
           null,
           null,
           null,
           null,
           null,
           null,
           null,
           null,
           null,
           null,
           null,
           null,
           null,
           null,
           null,
           null,
           null
          ],
          [
           null,
           null,
           null,
           null,
           null,
           null,
           null,
           null,
           null,
           null,
           null,
           null,
           null,
           null,
           null,
           null,
           null,
           null,
           null,
           null,
           null,
           null,
           null,
           null,
           null,
           null,
           null
          ]
         ]
        },
        {
         "marker": {
          "color": "black",
          "line": {
           "color": "Gray",
           "width": 2
          }
         },
         "mode": "markers",
         "name": "Feasible Trial",
         "showlegend": false,
         "type": "scatter",
         "x": [
          0.20951677991709033,
          0.15862163909933125,
          0.3545390930971707,
          0.2473782787839689,
          0.2540150568313335,
          0.4883902693609067,
          0.4347943637537365,
          0.18720161137015176,
          0.3497946626632852,
          0.3617339115399135,
          0.10209472718990625,
          0.2510889857943497,
          0.17552967526098973,
          0.2810514833732746,
          0.10044825719284384,
          0.20781340636946707,
          0.30063316972951354,
          0.1558134306050329,
          0.20652291135947348,
          0.30752924323583264,
          0.24916479341312883,
          0.24354150134350885,
          0.1851320757830969,
          0.13903253090622913,
          0.23494929016068264
         ],
         "xaxis": "x35",
         "y": [
          0.0029411283079602067,
          0.007219334111366669,
          0.00967920237144436,
          0.045665957204979166,
          0.001187979237031665,
          0.005277965146005758,
          0.021668075767865797,
          0.0019967482118355855,
          0.03129999895887123,
          0.0068478989391215685,
          0.0010353515655146064,
          0.09257520224123574,
          0.09746142150556884,
          0.02419198172590692,
          0.0029177498759307167,
          0.049436652822015065,
          0.0022192447282842905,
          0.01277594799676972,
          0.05036048515381466,
          0.0016614223857966755,
          0.00370874486162138,
          0.0046089815988702085,
          0.004567736817916702,
          0.012852229148185504,
          0.0019208761913845824
         ],
         "yaxis": "y35"
        },
        {
         "colorbar": {
          "title": {
           "text": "Objective Value"
          }
         },
         "colorscale": [
          [
           0,
           "rgb(247,251,255)"
          ],
          [
           0.125,
           "rgb(222,235,247)"
          ],
          [
           0.25,
           "rgb(198,219,239)"
          ],
          [
           0.375,
           "rgb(158,202,225)"
          ],
          [
           0.5,
           "rgb(107,174,214)"
          ],
          [
           0.625,
           "rgb(66,146,198)"
          ],
          [
           0.75,
           "rgb(33,113,181)"
          ],
          [
           0.875,
           "rgb(8,81,156)"
          ],
          [
           1,
           "rgb(8,48,107)"
          ]
         ],
         "connectgaps": true,
         "contours": {
          "coloring": "heatmap"
         },
         "hoverinfo": "none",
         "line": {
          "smoothing": 1.3
         },
         "reversescale": false,
         "showscale": false,
         "type": "contour",
         "x": [
          0.0008248986629477462,
          0.0010353515655146064,
          0.001187979237031665,
          0.0016614223857966755,
          0.0019208761913845824,
          0.0019967482118355855,
          0.0022192447282842905,
          0.0029177498759307167,
          0.0029411283079602067,
          0.00370874486162138,
          0.004567736817916702,
          0.0046089815988702085,
          0.005277965146005758,
          0.0068478989391215685,
          0.007219334111366669,
          0.00967920237144436,
          0.01277594799676972,
          0.012852229148185504,
          0.021668075767865797,
          0.02419198172590692,
          0.03129999895887123,
          0.045665957204979166,
          0.049436652822015065,
          0.05036048515381466,
          0.09257520224123574,
          0.09746142150556884,
          0.1223263412410957
         ],
         "xaxis": "x6",
         "y": [
          20.799999999999997,
          32,
          64,
          128,
          256,
          267.2
         ],
         "yaxis": "y6",
         "z": [
          [
           null,
           null,
           null,
           null,
           null,
           null,
           null,
           null,
           null,
           null,
           null,
           null,
           null,
           null,
           null,
           null,
           null,
           null,
           null,
           null,
           null,
           null,
           null,
           null,
           null,
           null,
           null
          ],
          [
           null,
           -63909.490000000005,
           -57017.11,
           null,
           null,
           -54319.630000000005,
           null,
           -56636.922,
           null,
           null,
           null,
           null,
           null,
           -57692.490000000005,
           -56869.409999999996,
           null,
           null,
           null,
           null,
           null,
           null,
           null,
           null,
           -56457.295999999995,
           null,
           null,
           null
          ],
          [
           null,
           null,
           null,
           null,
           null,
           null,
           -57176.716,
           null,
           null,
           null,
           null,
           null,
           null,
           null,
           null,
           -57692.2,
           null,
           null,
           -57957.740000000005,
           null,
           null,
           null,
           null,
           null,
           null,
           null,
           null
          ],
          [
           null,
           null,
           null,
           null,
           null,
           null,
           null,
           null,
           null,
           null,
           null,
           null,
           -56894.962,
           null,
           null,
           null,
           -57662.407999999996,
           null,
           null,
           null,
           -56369.626000000004,
           null,
           null,
           null,
           null,
           null,
           null
          ],
          [
           null,
           null,
           null,
           -19549814.73,
           -62513.752,
           null,
           null,
           null,
           -57028.94600000001,
           -55815.621999999996,
           -56246.052,
           -55304.654,
           null,
           null,
           null,
           null,
           null,
           -56172.68200000001,
           null,
           -57134.58,
           null,
           -54626.590000000004,
           -57585.958,
           null,
           -56306.902,
           -56235.48,
           null
          ],
          [
           null,
           null,
           null,
           null,
           null,
           null,
           null,
           null,
           null,
           null,
           null,
           null,
           null,
           null,
           null,
           null,
           null,
           null,
           null,
           null,
           null,
           null,
           null,
           null,
           null,
           null,
           null
          ]
         ]
        },
        {
         "marker": {
          "color": "black",
          "line": {
           "color": "Gray",
           "width": 2
          }
         },
         "mode": "markers",
         "name": "Feasible Trial",
         "showlegend": false,
         "type": "scatter",
         "x": [
          0.0029411283079602067,
          0.007219334111366669,
          0.00967920237144436,
          0.045665957204979166,
          0.001187979237031665,
          0.005277965146005758,
          0.021668075767865797,
          0.0019967482118355855,
          0.03129999895887123,
          0.0068478989391215685,
          0.0010353515655146064,
          0.09257520224123574,
          0.09746142150556884,
          0.02419198172590692,
          0.0029177498759307167,
          0.049436652822015065,
          0.0022192447282842905,
          0.01277594799676972,
          0.05036048515381466,
          0.0016614223857966755,
          0.00370874486162138,
          0.0046089815988702085,
          0.004567736817916702,
          0.012852229148185504,
          0.0019208761913845824
         ],
         "xaxis": "x6",
         "y": [
          256,
          32,
          64,
          256,
          32,
          128,
          64,
          32,
          128,
          32,
          32,
          256,
          256,
          256,
          32,
          256,
          64,
          128,
          32,
          256,
          256,
          256,
          256,
          256,
          256
         ],
         "yaxis": "y6"
        },
        {
         "colorbar": {
          "title": {
           "text": "Objective Value"
          }
         },
         "colorscale": [
          [
           0,
           "rgb(247,251,255)"
          ],
          [
           0.125,
           "rgb(222,235,247)"
          ],
          [
           0.25,
           "rgb(198,219,239)"
          ],
          [
           0.375,
           "rgb(158,202,225)"
          ],
          [
           0.5,
           "rgb(107,174,214)"
          ],
          [
           0.625,
           "rgb(66,146,198)"
          ],
          [
           0.75,
           "rgb(33,113,181)"
          ],
          [
           0.875,
           "rgb(8,81,156)"
          ],
          [
           1,
           "rgb(8,48,107)"
          ]
         ],
         "connectgaps": true,
         "contours": {
          "coloring": "heatmap"
         },
         "hoverinfo": "none",
         "line": {
          "smoothing": 1.3
         },
         "reversescale": false,
         "showscale": false,
         "type": "contour",
         "x": [
          0.0008248986629477462,
          0.0010353515655146064,
          0.001187979237031665,
          0.0016614223857966755,
          0.0019208761913845824,
          0.0019967482118355855,
          0.0022192447282842905,
          0.0029177498759307167,
          0.0029411283079602067,
          0.00370874486162138,
          0.004567736817916702,
          0.0046089815988702085,
          0.005277965146005758,
          0.0068478989391215685,
          0.007219334111366669,
          0.00967920237144436,
          0.01277594799676972,
          0.012852229148185504,
          0.021668075767865797,
          0.02419198172590692,
          0.03129999895887123,
          0.045665957204979166,
          0.049436652822015065,
          0.05036048515381466,
          0.09257520224123574,
          0.09746142150556884,
          0.1223263412410957
         ],
         "xaxis": "x12",
         "y": [
          27500,
          50000,
          100000,
          150000,
          200000,
          250000,
          300000,
          350000,
          400000,
          450000,
          500000,
          522500
         ],
         "yaxis": "y12",
         "z": [
          [
           null,
           null,
           null,
           null,
           null,
           null,
           null,
           null,
           null,
           null,
           null,
           null,
           null,
           null,
           null,
           null,
           null,
           null,
           null,
           null,
           null,
           null,
           null,
           null,
           null,
           null,
           null
          ],
          [
           null,
           null,
           null,
           null,
           null,
           null,
           null,
           null,
           -57028.94600000001,
           null,
           null,
           null,
           null,
           null,
           null,
           null,
           null,
           null,
           null,
           null,
           null,
           null,
           -57585.958,
           null,
           null,
           null,
           null
          ],
          [
           null,
           null,
           null,
           -19549814.73,
           null,
           null,
           null,
           null,
           null,
           null,
           -56246.052,
           null,
           null,
           null,
           null,
           null,
           null,
           null,
           null,
           null,
           null,
           -54626.590000000004,
           null,
           null,
           -56306.902,
           null,
           null
          ],
          [
           null,
           -63909.490000000005,
           null,
           null,
           null,
           null,
           -57176.716,
           null,
           null,
           null,
           null,
           null,
           null,
           null,
           null,
           null,
           null,
           null,
           null,
           null,
           null,
           null,
           null,
           null,
           null,
           -56235.48,
           null
          ],
          [
           null,
           null,
           null,
           null,
           -62513.752,
           null,
           null,
           -56636.922,
           null,
           -55815.621999999996,
           null,
           -55304.654,
           null,
           null,
           null,
           null,
           -57662.407999999996,
           null,
           null,
           null,
           null,
           null,
           null,
           null,
           null,
           null,
           null
          ],
          [
           null,
           null,
           null,
           null,
           null,
           -54319.630000000005,
           null,
           null,
           null,
           null,
           null,
           null,
           null,
           null,
           null,
           -57692.2,
           null,
           -56172.68200000001,
           -57957.740000000005,
           null,
           null,
           null,
           null,
           null,
           null,
           null,
           null
          ],
          [
           null,
           null,
           null,
           null,
           null,
           null,
           null,
           null,
           null,
           null,
           null,
           null,
           null,
           null,
           null,
           null,
           null,
           null,
           null,
           -57134.58,
           null,
           null,
           null,
           -56457.295999999995,
           null,
           null,
           null
          ],
          [
           null,
           null,
           null,
           null,
           null,
           null,
           null,
           null,
           null,
           null,
           null,
           null,
           null,
           null,
           -56869.409999999996,
           null,
           null,
           null,
           null,
           null,
           null,
           null,
           null,
           null,
           null,
           null,
           null
          ],
          [
           null,
           null,
           null,
           null,
           null,
           null,
           null,
           null,
           null,
           null,
           null,
           null,
           -56894.962,
           -57692.490000000005,
           null,
           null,
           null,
           null,
           null,
           null,
           null,
           null,
           null,
           null,
           null,
           null,
           null
          ],
          [
           null,
           null,
           -57017.11,
           null,
           null,
           null,
           null,
           null,
           null,
           null,
           null,
           null,
           null,
           null,
           null,
           null,
           null,
           null,
           null,
           null,
           null,
           null,
           null,
           null,
           null,
           null,
           null
          ],
          [
           null,
           null,
           null,
           null,
           null,
           null,
           null,
           null,
           null,
           null,
           null,
           null,
           null,
           null,
           null,
           null,
           null,
           null,
           null,
           null,
           -56369.626000000004,
           null,
           null,
           null,
           null,
           null,
           null
          ],
          [
           null,
           null,
           null,
           null,
           null,
           null,
           null,
           null,
           null,
           null,
           null,
           null,
           null,
           null,
           null,
           null,
           null,
           null,
           null,
           null,
           null,
           null,
           null,
           null,
           null,
           null,
           null
          ]
         ]
        },
        {
         "marker": {
          "color": "black",
          "line": {
           "color": "Gray",
           "width": 2
          }
         },
         "mode": "markers",
         "name": "Feasible Trial",
         "showlegend": false,
         "type": "scatter",
         "x": [
          0.0029411283079602067,
          0.007219334111366669,
          0.00967920237144436,
          0.045665957204979166,
          0.001187979237031665,
          0.005277965146005758,
          0.021668075767865797,
          0.0019967482118355855,
          0.03129999895887123,
          0.0068478989391215685,
          0.0010353515655146064,
          0.09257520224123574,
          0.09746142150556884,
          0.02419198172590692,
          0.0029177498759307167,
          0.049436652822015065,
          0.0022192447282842905,
          0.01277594799676972,
          0.05036048515381466,
          0.0016614223857966755,
          0.00370874486162138,
          0.0046089815988702085,
          0.004567736817916702,
          0.012852229148185504,
          0.0019208761913845824
         ],
         "xaxis": "x12",
         "y": [
          50000,
          350000,
          250000,
          100000,
          450000,
          400000,
          250000,
          250000,
          500000,
          400000,
          150000,
          100000,
          150000,
          300000,
          200000,
          50000,
          150000,
          200000,
          300000,
          100000,
          200000,
          200000,
          100000,
          250000,
          200000
         ],
         "yaxis": "y12"
        },
        {
         "colorbar": {
          "title": {
           "text": "Objective Value"
          }
         },
         "colorscale": [
          [
           0,
           "rgb(247,251,255)"
          ],
          [
           0.125,
           "rgb(222,235,247)"
          ],
          [
           0.25,
           "rgb(198,219,239)"
          ],
          [
           0.375,
           "rgb(158,202,225)"
          ],
          [
           0.5,
           "rgb(107,174,214)"
          ],
          [
           0.625,
           "rgb(66,146,198)"
          ],
          [
           0.75,
           "rgb(33,113,181)"
          ],
          [
           0.875,
           "rgb(8,81,156)"
          ],
          [
           1,
           "rgb(8,48,107)"
          ]
         ],
         "connectgaps": true,
         "contours": {
          "coloring": "heatmap"
         },
         "hoverinfo": "none",
         "line": {
          "smoothing": 1.3
         },
         "reversescale": false,
         "showscale": false,
         "type": "contour",
         "x": [
          0.0008248986629477462,
          0.0010353515655146064,
          0.001187979237031665,
          0.0016614223857966755,
          0.0019208761913845824,
          0.0019967482118355855,
          0.0022192447282842905,
          0.0029177498759307167,
          0.0029411283079602067,
          0.00370874486162138,
          0.004567736817916702,
          0.0046089815988702085,
          0.005277965146005758,
          0.0068478989391215685,
          0.007219334111366669,
          0.00967920237144436,
          0.01277594799676972,
          0.012852229148185504,
          0.021668075767865797,
          0.02419198172590692,
          0.03129999895887123,
          0.045665957204979166,
          0.049436652822015065,
          0.05036048515381466,
          0.09257520224123574,
          0.09746142150556884,
          0.1223263412410957
         ],
         "xaxis": "x18",
         "y": [
          0.8974453434286189,
          0.9019352825221195,
          0.9096140750982753,
          0.9123476930941506,
          0.920468262220192,
          0.9206097195855281,
          0.9216484011486659,
          0.926364134131323,
          0.9306844399486447,
          0.935028002418254,
          0.9400781671181636,
          0.9426452609614562,
          0.9461070376872395,
          0.9483505657961858,
          0.9497968235255966,
          0.9551415511242626,
          0.9557228564582686,
          0.9604047030602296,
          0.9631174579822008,
          0.9635749641192399,
          0.9704343706710925,
          0.9725514776636865,
          0.9737426144945708,
          0.9826048292201849,
          0.9893001327119111,
          0.991734064392131,
          0.9962240034856316
         ],
         "yaxis": "y18",
         "z": [
          [
           null,
           null,
           null,
           null,
           null,
           null,
           null,
           null,
           null,
           null,
           null,
           null,
           null,
           null,
           null,
           null,
           null,
           null,
           null,
           null,
           null,
           null,
           null,
           null,
           null,
           null,
           null
          ],
          [
           null,
           null,
           null,
           null,
           null,
           null,
           null,
           -56636.922,
           null,
           null,
           null,
           null,
           null,
           null,
           null,
           null,
           null,
           null,
           null,
           null,
           null,
           null,
           null,
           null,
           null,
           null,
           null
          ],
          [
           null,
           null,
           null,
           null,
           null,
           null,
           null,
           null,
           null,
           null,
           -56246.052,
           null,
           null,
           null,
           null,
           null,
           null,
           null,
           null,
           null,
           null,
           null,
           null,
           null,
           null,
           null,
           null
          ],
          [
           null,
           null,
           null,
           null,
           -62513.752,
           null,
           null,
           null,
           null,
           null,
           null,
           null,
           null,
           null,
           null,
           null,
           null,
           null,
           null,
           null,
           null,
           null,
           null,
           null,
           null,
           null,
           null
          ],
          [
           null,
           null,
           null,
           null,
           null,
           null,
           null,
           null,
           null,
           null,
           null,
           null,
           null,
           null,
           null,
           null,
           null,
           null,
           null,
           null,
           -56369.626000000004,
           null,
           null,
           null,
           null,
           null,
           null
          ],
          [
           null,
           null,
           null,
           null,
           null,
           null,
           null,
           null,
           null,
           null,
           null,
           null,
           null,
           null,
           -56869.409999999996,
           null,
           null,
           null,
           null,
           null,
           null,
           null,
           null,
           null,
           null,
           null,
           null
          ],
          [
           null,
           null,
           null,
           null,
           null,
           null,
           null,
           null,
           null,
           null,
           null,
           -55304.654,
           null,
           null,
           null,
           null,
           null,
           null,
           null,
           null,
           null,
           null,
           null,
           null,
           null,
           null,
           null
          ],
          [
           null,
           null,
           null,
           null,
           null,
           null,
           null,
           null,
           null,
           -55815.621999999996,
           null,
           null,
           null,
           null,
           null,
           null,
           null,
           null,
           null,
           null,
           null,
           null,
           null,
           null,
           null,
           null,
           null
          ],
          [
           null,
           null,
           null,
           null,
           null,
           null,
           null,
           null,
           null,
           null,
           null,
           null,
           null,
           null,
           null,
           null,
           null,
           null,
           null,
           null,
           null,
           null,
           -57585.958,
           null,
           null,
           null,
           null
          ],
          [
           null,
           -63909.490000000005,
           null,
           null,
           null,
           null,
           null,
           null,
           null,
           null,
           null,
           null,
           null,
           null,
           null,
           null,
           null,
           null,
           null,
           null,
           null,
           null,
           null,
           null,
           null,
           null,
           null
          ],
          [
           null,
           null,
           null,
           -19549814.73,
           null,
           null,
           null,
           null,
           null,
           null,
           null,
           null,
           null,
           null,
           null,
           null,
           null,
           null,
           null,
           null,
           null,
           null,
           null,
           null,
           null,
           null,
           null
          ],
          [
           null,
           null,
           null,
           null,
           null,
           null,
           null,
           null,
           null,
           null,
           null,
           null,
           null,
           null,
           null,
           null,
           null,
           null,
           null,
           null,
           null,
           null,
           null,
           null,
           -56306.902,
           null,
           null
          ],
          [
           null,
           null,
           null,
           null,
           null,
           null,
           null,
           null,
           null,
           null,
           null,
           null,
           null,
           null,
           null,
           null,
           null,
           null,
           null,
           null,
           null,
           null,
           null,
           null,
           null,
           -56235.48,
           null
          ],
          [
           null,
           null,
           null,
           null,
           null,
           null,
           null,
           null,
           null,
           null,
           null,
           null,
           null,
           null,
           null,
           null,
           null,
           -56172.68200000001,
           null,
           null,
           null,
           null,
           null,
           null,
           null,
           null,
           null
          ],
          [
           null,
           null,
           null,
           null,
           null,
           null,
           null,
           null,
           null,
           null,
           null,
           null,
           null,
           null,
           null,
           null,
           null,
           null,
           null,
           null,
           null,
           -54626.590000000004,
           null,
           null,
           null,
           null,
           null
          ],
          [
           null,
           null,
           null,
           null,
           null,
           null,
           -57176.716,
           null,
           null,
           null,
           null,
           null,
           null,
           null,
           null,
           null,
           null,
           null,
           null,
           null,
           null,
           null,
           null,
           null,
           null,
           null,
           null
          ],
          [
           null,
           null,
           -57017.11,
           null,
           null,
           null,
           null,
           null,
           null,
           null,
           null,
           null,
           null,
           null,
           null,
           null,
           null,
           null,
           null,
           null,
           null,
           null,
           null,
           null,
           null,
           null,
           null
          ],
          [
           null,
           null,
           null,
           null,
           null,
           null,
           null,
           null,
           null,
           null,
           null,
           null,
           null,
           null,
           null,
           null,
           null,
           null,
           null,
           null,
           null,
           null,
           null,
           -56457.295999999995,
           null,
           null,
           null
          ],
          [
           null,
           null,
           null,
           null,
           null,
           null,
           null,
           null,
           -57028.94600000001,
           null,
           null,
           null,
           null,
           null,
           null,
           null,
           null,
           null,
           null,
           null,
           null,
           null,
           null,
           null,
           null,
           null,
           null
          ],
          [
           null,
           null,
           null,
           null,
           null,
           -54319.630000000005,
           null,
           null,
           null,
           null,
           null,
           null,
           null,
           null,
           null,
           null,
           null,
           null,
           null,
           null,
           null,
           null,
           null,
           null,
           null,
           null,
           null
          ],
          [
           null,
           null,
           null,
           null,
           null,
           null,
           null,
           null,
           null,
           null,
           null,
           null,
           null,
           null,
           null,
           -57692.2,
           null,
           null,
           null,
           null,
           null,
           null,
           null,
           null,
           null,
           null,
           null
          ],
          [
           null,
           null,
           null,
           null,
           null,
           null,
           null,
           null,
           null,
           null,
           null,
           null,
           null,
           null,
           null,
           null,
           null,
           null,
           null,
           -57134.58,
           null,
           null,
           null,
           null,
           null,
           null,
           null
          ],
          [
           null,
           null,
           null,
           null,
           null,
           null,
           null,
           null,
           null,
           null,
           null,
           null,
           null,
           null,
           null,
           null,
           -57662.407999999996,
           null,
           null,
           null,
           null,
           null,
           null,
           null,
           null,
           null,
           null
          ],
          [
           null,
           null,
           null,
           null,
           null,
           null,
           null,
           null,
           null,
           null,
           null,
           null,
           null,
           -57692.490000000005,
           null,
           null,
           null,
           null,
           null,
           null,
           null,
           null,
           null,
           null,
           null,
           null,
           null
          ],
          [
           null,
           null,
           null,
           null,
           null,
           null,
           null,
           null,
           null,
           null,
           null,
           null,
           null,
           null,
           null,
           null,
           null,
           null,
           -57957.740000000005,
           null,
           null,
           null,
           null,
           null,
           null,
           null,
           null
          ],
          [
           null,
           null,
           null,
           null,
           null,
           null,
           null,
           null,
           null,
           null,
           null,
           null,
           -56894.962,
           null,
           null,
           null,
           null,
           null,
           null,
           null,
           null,
           null,
           null,
           null,
           null,
           null,
           null
          ],
          [
           null,
           null,
           null,
           null,
           null,
           null,
           null,
           null,
           null,
           null,
           null,
           null,
           null,
           null,
           null,
           null,
           null,
           null,
           null,
           null,
           null,
           null,
           null,
           null,
           null,
           null,
           null
          ]
         ]
        },
        {
         "marker": {
          "color": "black",
          "line": {
           "color": "Gray",
           "width": 2
          }
         },
         "mode": "markers",
         "name": "Feasible Trial",
         "showlegend": false,
         "type": "scatter",
         "x": [
          0.0029411283079602067,
          0.007219334111366669,
          0.00967920237144436,
          0.045665957204979166,
          0.001187979237031665,
          0.005277965146005758,
          0.021668075767865797,
          0.0019967482118355855,
          0.03129999895887123,
          0.0068478989391215685,
          0.0010353515655146064,
          0.09257520224123574,
          0.09746142150556884,
          0.02419198172590692,
          0.0029177498759307167,
          0.049436652822015065,
          0.0022192447282842905,
          0.01277594799676972,
          0.05036048515381466,
          0.0016614223857966755,
          0.00370874486162138,
          0.0046089815988702085,
          0.004567736817916702,
          0.012852229148185504,
          0.0019208761913845824
         ],
         "xaxis": "x18",
         "y": [
          0.9631174579822008,
          0.9206097195855281,
          0.9704343706710925,
          0.9497968235255966,
          0.9557228564582686,
          0.991734064392131,
          0.9893001327119111,
          0.9635749641192399,
          0.920468262220192,
          0.9826048292201849,
          0.935028002418254,
          0.9426452609614562,
          0.9461070376872395,
          0.9725514776636865,
          0.9019352825221195,
          0.9306844399486447,
          0.9551415511242626,
          0.9737426144945708,
          0.9604047030602296,
          0.9400781671181636,
          0.926364134131323,
          0.9216484011486659,
          0.9096140750982753,
          0.9483505657961858,
          0.9123476930941506
         ],
         "yaxis": "y18"
        },
        {
         "colorbar": {
          "title": {
           "text": "Objective Value"
          }
         },
         "colorscale": [
          [
           0,
           "rgb(247,251,255)"
          ],
          [
           0.125,
           "rgb(222,235,247)"
          ],
          [
           0.25,
           "rgb(198,219,239)"
          ],
          [
           0.375,
           "rgb(158,202,225)"
          ],
          [
           0.5,
           "rgb(107,174,214)"
          ],
          [
           0.625,
           "rgb(66,146,198)"
          ],
          [
           0.75,
           "rgb(33,113,181)"
          ],
          [
           0.875,
           "rgb(8,81,156)"
          ],
          [
           1,
           "rgb(8,48,107)"
          ]
         ],
         "connectgaps": true,
         "contours": {
          "coloring": "heatmap"
         },
         "hoverinfo": "none",
         "line": {
          "smoothing": 1.3
         },
         "reversescale": false,
         "showscale": false,
         "type": "contour",
         "x": [
          0.0008248986629477462,
          0.0010353515655146064,
          0.001187979237031665,
          0.0016614223857966755,
          0.0019208761913845824,
          0.0019967482118355855,
          0.0022192447282842905,
          0.0029177498759307167,
          0.0029411283079602067,
          0.00370874486162138,
          0.004567736817916702,
          0.0046089815988702085,
          0.005277965146005758,
          0.0068478989391215685,
          0.007219334111366669,
          0.00967920237144436,
          0.01277594799676972,
          0.012852229148185504,
          0.021668075767865797,
          0.02419198172590692,
          0.03129999895887123,
          0.045665957204979166,
          0.049436652822015065,
          0.05036048515381466,
          0.09257520224123574,
          0.09746142150556884,
          0.1223263412410957
         ],
         "xaxis": "x24",
         "y": [
          0.00001038409048438178,
          0.000012809465033620892,
          0.000013695227495103939,
          0.000020820172280287977,
          0.000022815776452938465,
          0.000023448472540963925,
          0.00002443625969661686,
          0.000030670742746636123,
          0.000036801111071766234,
          0.00004204007275751892,
          0.00004315917684290081,
          0.00005343712740537448,
          0.00005550917292060962,
          0.00006279454402795933,
          0.00008159522336783198,
          0.00008290617080872125,
          0.0001304818200599708,
          0.00014780795563390663,
          0.00018206291542001923,
          0.0002819806361553919,
          0.00028459630756932615,
          0.0003503413046533094,
          0.00035714762411623297,
          0.0005133664112376705,
          0.0007889069777456757,
          0.0008526711459190907,
          0.0010518264690832294
         ],
         "yaxis": "y24",
         "z": [
          [
           null,
           null,
           null,
           null,
           null,
           null,
           null,
           null,
           null,
           null,
           null,
           null,
           null,
           null,
           null,
           null,
           null,
           null,
           null,
           null,
           null,
           null,
           null,
           null,
           null,
           null,
           null
          ],
          [
           null,
           null,
           null,
           null,
           null,
           null,
           null,
           null,
           null,
           null,
           null,
           null,
           -56894.962,
           null,
           null,
           null,
           null,
           null,
           null,
           null,
           null,
           null,
           null,
           null,
           null,
           null,
           null
          ],
          [
           null,
           null,
           null,
           null,
           null,
           null,
           null,
           -56636.922,
           null,
           null,
           null,
           null,
           null,
           null,
           null,
           null,
           null,
           null,
           null,
           null,
           null,
           null,
           null,
           null,
           null,
           null,
           null
          ],
          [
           null,
           null,
           null,
           null,
           null,
           null,
           null,
           null,
           null,
           -55815.621999999996,
           null,
           null,
           null,
           null,
           null,
           null,
           null,
           null,
           null,
           null,
           null,
           null,
           null,
           null,
           null,
           null,
           null
          ],
          [
           null,
           null,
           null,
           null,
           null,
           null,
           null,
           null,
           null,
           null,
           null,
           -55304.654,
           null,
           null,
           null,
           null,
           null,
           null,
           null,
           null,
           null,
           null,
           null,
           null,
           null,
           null,
           null
          ],
          [
           null,
           null,
           null,
           null,
           null,
           null,
           null,
           null,
           null,
           null,
           null,
           null,
           null,
           null,
           null,
           null,
           null,
           null,
           null,
           null,
           null,
           null,
           -57585.958,
           null,
           null,
           null,
           null
          ],
          [
           null,
           null,
           null,
           null,
           null,
           null,
           null,
           null,
           null,
           null,
           -56246.052,
           null,
           null,
           null,
           null,
           null,
           null,
           null,
           null,
           null,
           null,
           null,
           null,
           null,
           null,
           null,
           null
          ],
          [
           null,
           null,
           null,
           null,
           -62513.752,
           null,
           null,
           null,
           null,
           null,
           null,
           null,
           null,
           null,
           null,
           null,
           null,
           null,
           null,
           null,
           null,
           null,
           null,
           null,
           null,
           null,
           null
          ],
          [
           null,
           null,
           null,
           null,
           null,
           null,
           null,
           null,
           null,
           null,
           null,
           null,
           null,
           null,
           null,
           -57692.2,
           null,
           null,
           null,
           null,
           null,
           null,
           null,
           null,
           null,
           null,
           null
          ],
          [
           null,
           null,
           null,
           null,
           null,
           null,
           null,
           null,
           null,
           null,
           null,
           null,
           null,
           -57692.490000000005,
           null,
           null,
           null,
           null,
           null,
           null,
           null,
           null,
           null,
           null,
           null,
           null,
           null
          ],
          [
           null,
           -63909.490000000005,
           null,
           null,
           null,
           null,
           null,
           null,
           null,
           null,
           null,
           null,
           null,
           null,
           null,
           null,
           null,
           null,
           null,
           null,
           null,
           null,
           null,
           null,
           null,
           null,
           null
          ],
          [
           null,
           null,
           null,
           null,
           null,
           -54319.630000000005,
           null,
           null,
           null,
           null,
           null,
           null,
           null,
           null,
           null,
           null,
           null,
           null,
           null,
           null,
           null,
           null,
           null,
           null,
           null,
           null,
           null
          ],
          [
           null,
           null,
           null,
           null,
           null,
           null,
           null,
           null,
           null,
           null,
           null,
           null,
           null,
           null,
           null,
           null,
           null,
           -56172.68200000001,
           null,
           null,
           null,
           null,
           null,
           null,
           null,
           null,
           null
          ],
          [
           null,
           null,
           null,
           null,
           null,
           null,
           null,
           null,
           null,
           null,
           null,
           null,
           null,
           null,
           null,
           null,
           null,
           null,
           null,
           -57134.58,
           null,
           null,
           null,
           null,
           null,
           null,
           null
          ],
          [
           null,
           null,
           null,
           -19549814.73,
           null,
           null,
           null,
           null,
           null,
           null,
           null,
           null,
           null,
           null,
           null,
           null,
           null,
           null,
           null,
           null,
           null,
           null,
           null,
           null,
           null,
           null,
           null
          ],
          [
           null,
           null,
           null,
           null,
           null,
           null,
           -57176.716,
           null,
           null,
           null,
           null,
           null,
           null,
           null,
           null,
           null,
           null,
           null,
           null,
           null,
           null,
           null,
           null,
           null,
           null,
           null,
           null
          ],
          [
           null,
           null,
           -57017.11,
           null,
           null,
           null,
           null,
           null,
           null,
           null,
           null,
           null,
           null,
           null,
           null,
           null,
           null,
           null,
           null,
           null,
           null,
           null,
           null,
           null,
           null,
           null,
           null
          ],
          [
           null,
           null,
           null,
           null,
           null,
           null,
           null,
           null,
           null,
           null,
           null,
           null,
           null,
           null,
           null,
           null,
           null,
           null,
           null,
           null,
           -56369.626000000004,
           null,
           null,
           null,
           null,
           null,
           null
          ],
          [
           null,
           null,
           null,
           null,
           null,
           null,
           null,
           null,
           null,
           null,
           null,
           null,
           null,
           null,
           null,
           null,
           null,
           null,
           null,
           null,
           null,
           null,
           null,
           -56457.295999999995,
           null,
           null,
           null
          ],
          [
           null,
           null,
           null,
           null,
           null,
           null,
           null,
           null,
           -57028.94600000001,
           null,
           null,
           null,
           null,
           null,
           null,
           null,
           null,
           null,
           null,
           null,
           null,
           null,
           null,
           null,
           null,
           null,
           null
          ],
          [
           null,
           null,
           null,
           null,
           null,
           null,
           null,
           null,
           null,
           null,
           null,
           null,
           null,
           null,
           -56869.409999999996,
           null,
           null,
           null,
           null,
           null,
           null,
           null,
           null,
           null,
           null,
           null,
           null
          ],
          [
           null,
           null,
           null,
           null,
           null,
           null,
           null,
           null,
           null,
           null,
           null,
           null,
           null,
           null,
           null,
           null,
           null,
           null,
           null,
           null,
           null,
           -54626.590000000004,
           null,
           null,
           null,
           null,
           null
          ],
          [
           null,
           null,
           null,
           null,
           null,
           null,
           null,
           null,
           null,
           null,
           null,
           null,
           null,
           null,
           null,
           null,
           null,
           null,
           -57957.740000000005,
           null,
           null,
           null,
           null,
           null,
           null,
           null,
           null
          ],
          [
           null,
           null,
           null,
           null,
           null,
           null,
           null,
           null,
           null,
           null,
           null,
           null,
           null,
           null,
           null,
           null,
           -57662.407999999996,
           null,
           null,
           null,
           null,
           null,
           null,
           null,
           null,
           null,
           null
          ],
          [
           null,
           null,
           null,
           null,
           null,
           null,
           null,
           null,
           null,
           null,
           null,
           null,
           null,
           null,
           null,
           null,
           null,
           null,
           null,
           null,
           null,
           null,
           null,
           null,
           -56306.902,
           null,
           null
          ],
          [
           null,
           null,
           null,
           null,
           null,
           null,
           null,
           null,
           null,
           null,
           null,
           null,
           null,
           null,
           null,
           null,
           null,
           null,
           null,
           null,
           null,
           null,
           null,
           null,
           null,
           -56235.48,
           null
          ],
          [
           null,
           null,
           null,
           null,
           null,
           null,
           null,
           null,
           null,
           null,
           null,
           null,
           null,
           null,
           null,
           null,
           null,
           null,
           null,
           null,
           null,
           null,
           null,
           null,
           null,
           null,
           null
          ]
         ]
        },
        {
         "marker": {
          "color": "black",
          "line": {
           "color": "Gray",
           "width": 2
          }
         },
         "mode": "markers",
         "name": "Feasible Trial",
         "showlegend": false,
         "type": "scatter",
         "x": [
          0.0029411283079602067,
          0.007219334111366669,
          0.00967920237144436,
          0.045665957204979166,
          0.001187979237031665,
          0.005277965146005758,
          0.021668075767865797,
          0.0019967482118355855,
          0.03129999895887123,
          0.0068478989391215685,
          0.0010353515655146064,
          0.09257520224123574,
          0.09746142150556884,
          0.02419198172590692,
          0.0029177498759307167,
          0.049436652822015065,
          0.0022192447282842905,
          0.01277594799676972,
          0.05036048515381466,
          0.0016614223857966755,
          0.00370874486162138,
          0.0046089815988702085,
          0.004567736817916702,
          0.012852229148185504,
          0.0019208761913845824
         ],
         "xaxis": "x24",
         "y": [
          0.0002819806361553919,
          0.00028459630756932615,
          0.000036801111071766234,
          0.0003503413046533094,
          0.0001304818200599708,
          0.000012809465033620892,
          0.00035714762411623297,
          0.00005343712740537448,
          0.00014780795563390663,
          0.00004204007275751892,
          0.00004315917684290081,
          0.0007889069777456757,
          0.0008526711459190907,
          0.00006279454402795933,
          0.000013695227495103939,
          0.000023448472540963925,
          0.00008290617080872125,
          0.0005133664112376705,
          0.00018206291542001923,
          0.00008159522336783198,
          0.000020820172280287977,
          0.000022815776452938465,
          0.00002443625969661686,
          0.00005550917292060962,
          0.000030670742746636123
         ],
         "yaxis": "y24"
        },
        {
         "colorbar": {
          "title": {
           "text": "Objective Value"
          }
         },
         "colorscale": [
          [
           0,
           "rgb(247,251,255)"
          ],
          [
           0.125,
           "rgb(222,235,247)"
          ],
          [
           0.25,
           "rgb(198,219,239)"
          ],
          [
           0.375,
           "rgb(158,202,225)"
          ],
          [
           0.5,
           "rgb(107,174,214)"
          ],
          [
           0.625,
           "rgb(66,146,198)"
          ],
          [
           0.75,
           "rgb(33,113,181)"
          ],
          [
           0.875,
           "rgb(8,81,156)"
          ],
          [
           1,
           "rgb(8,48,107)"
          ]
         ],
         "connectgaps": true,
         "contours": {
          "coloring": "heatmap"
         },
         "hoverinfo": "none",
         "line": {
          "smoothing": 1.3
         },
         "reversescale": false,
         "showscale": false,
         "type": "contour",
         "x": [
          0.0008248986629477462,
          0.0010353515655146064,
          0.001187979237031665,
          0.0016614223857966755,
          0.0019208761913845824,
          0.0019967482118355855,
          0.0022192447282842905,
          0.0029177498759307167,
          0.0029411283079602067,
          0.00370874486162138,
          0.004567736817916702,
          0.0046089815988702085,
          0.005277965146005758,
          0.0068478989391215685,
          0.007219334111366669,
          0.00967920237144436,
          0.01277594799676972,
          0.012852229148185504,
          0.021668075767865797,
          0.02419198172590692,
          0.03129999895887123,
          0.045665957204979166,
          0.049436652822015065,
          0.05036048515381466,
          0.09257520224123574,
          0.09746142150556884,
          0.1223263412410957
         ],
         "xaxis": "x30",
         "y": [
          0.08105115658444069,
          0.10044825719284384,
          0.10209472718990625,
          0.13903253090622913,
          0.1558134306050329,
          0.15862163909933125,
          0.17552967526098973,
          0.1851320757830969,
          0.18720161137015176,
          0.20652291135947348,
          0.20781340636946707,
          0.20951677991709033,
          0.23494929016068264,
          0.24354150134350885,
          0.2473782787839689,
          0.24916479341312883,
          0.2510889857943497,
          0.2540150568313335,
          0.2810514833732746,
          0.30063316972951354,
          0.30752924323583264,
          0.3497946626632852,
          0.3545390930971707,
          0.3617339115399135,
          0.4347943637537365,
          0.4883902693609067,
          0.5077873699693098
         ],
         "yaxis": "y30",
         "z": [
          [
           null,
           null,
           null,
           null,
           null,
           null,
           null,
           null,
           null,
           null,
           null,
           null,
           null,
           null,
           null,
           null,
           null,
           null,
           null,
           null,
           null,
           null,
           null,
           null,
           null,
           null,
           null
          ],
          [
           null,
           null,
           null,
           null,
           null,
           null,
           null,
           -56636.922,
           null,
           null,
           null,
           null,
           null,
           null,
           null,
           null,
           null,
           null,
           null,
           null,
           null,
           null,
           null,
           null,
           null,
           null,
           null
          ],
          [
           null,
           -63909.490000000005,
           null,
           null,
           null,
           null,
           null,
           null,
           null,
           null,
           null,
           null,
           null,
           null,
           null,
           null,
           null,
           null,
           null,
           null,
           null,
           null,
           null,
           null,
           null,
           null,
           null
          ],
          [
           null,
           null,
           null,
           null,
           null,
           null,
           null,
           null,
           null,
           null,
           null,
           null,
           null,
           null,
           null,
           null,
           null,
           -56172.68200000001,
           null,
           null,
           null,
           null,
           null,
           null,
           null,
           null,
           null
          ],
          [
           null,
           null,
           null,
           null,
           null,
           null,
           null,
           null,
           null,
           null,
           null,
           null,
           null,
           null,
           null,
           null,
           -57662.407999999996,
           null,
           null,
           null,
           null,
           null,
           null,
           null,
           null,
           null,
           null
          ],
          [
           null,
           null,
           null,
           null,
           null,
           null,
           null,
           null,
           null,
           null,
           null,
           null,
           null,
           null,
           -56869.409999999996,
           null,
           null,
           null,
           null,
           null,
           null,
           null,
           null,
           null,
           null,
           null,
           null
          ],
          [
           null,
           null,
           null,
           null,
           null,
           null,
           null,
           null,
           null,
           null,
           null,
           null,
           null,
           null,
           null,
           null,
           null,
           null,
           null,
           null,
           null,
           null,
           null,
           null,
           null,
           -56235.48,
           null
          ],
          [
           null,
           null,
           null,
           null,
           null,
           null,
           null,
           null,
           null,
           null,
           -56246.052,
           null,
           null,
           null,
           null,
           null,
           null,
           null,
           null,
           null,
           null,
           null,
           null,
           null,
           null,
           null,
           null
          ],
          [
           null,
           null,
           null,
           null,
           null,
           -54319.630000000005,
           null,
           null,
           null,
           null,
           null,
           null,
           null,
           null,
           null,
           null,
           null,
           null,
           null,
           null,
           null,
           null,
           null,
           null,
           null,
           null,
           null
          ],
          [
           null,
           null,
           null,
           null,
           null,
           null,
           null,
           null,
           null,
           null,
           null,
           null,
           null,
           null,
           null,
           null,
           null,
           null,
           null,
           null,
           null,
           null,
           null,
           -56457.295999999995,
           null,
           null,
           null
          ],
          [
           null,
           null,
           null,
           null,
           null,
           null,
           null,
           null,
           null,
           null,
           null,
           null,
           null,
           null,
           null,
           null,
           null,
           null,
           null,
           null,
           null,
           null,
           -57585.958,
           null,
           null,
           null,
           null
          ],
          [
           null,
           null,
           null,
           null,
           null,
           null,
           null,
           null,
           -57028.94600000001,
           null,
           null,
           null,
           null,
           null,
           null,
           null,
           null,
           null,
           null,
           null,
           null,
           null,
           null,
           null,
           null,
           null,
           null
          ],
          [
           null,
           null,
           null,
           null,
           -62513.752,
           null,
           null,
           null,
           null,
           null,
           null,
           null,
           null,
           null,
           null,
           null,
           null,
           null,
           null,
           null,
           null,
           null,
           null,
           null,
           null,
           null,
           null
          ],
          [
           null,
           null,
           null,
           null,
           null,
           null,
           null,
           null,
           null,
           null,
           null,
           -55304.654,
           null,
           null,
           null,
           null,
           null,
           null,
           null,
           null,
           null,
           null,
           null,
           null,
           null,
           null,
           null
          ],
          [
           null,
           null,
           null,
           null,
           null,
           null,
           null,
           null,
           null,
           null,
           null,
           null,
           null,
           null,
           null,
           null,
           null,
           null,
           null,
           null,
           null,
           -54626.590000000004,
           null,
           null,
           null,
           null,
           null
          ],
          [
           null,
           null,
           null,
           null,
           null,
           null,
           null,
           null,
           null,
           -55815.621999999996,
           null,
           null,
           null,
           null,
           null,
           null,
           null,
           null,
           null,
           null,
           null,
           null,
           null,
           null,
           null,
           null,
           null
          ],
          [
           null,
           null,
           null,
           null,
           null,
           null,
           null,
           null,
           null,
           null,
           null,
           null,
           null,
           null,
           null,
           null,
           null,
           null,
           null,
           null,
           null,
           null,
           null,
           null,
           -56306.902,
           null,
           null
          ],
          [
           null,
           null,
           -57017.11,
           null,
           null,
           null,
           null,
           null,
           null,
           null,
           null,
           null,
           null,
           null,
           null,
           null,
           null,
           null,
           null,
           null,
           null,
           null,
           null,
           null,
           null,
           null,
           null
          ],
          [
           null,
           null,
           null,
           null,
           null,
           null,
           null,
           null,
           null,
           null,
           null,
           null,
           null,
           null,
           null,
           null,
           null,
           null,
           null,
           -57134.58,
           null,
           null,
           null,
           null,
           null,
           null,
           null
          ],
          [
           null,
           null,
           null,
           null,
           null,
           null,
           -57176.716,
           null,
           null,
           null,
           null,
           null,
           null,
           null,
           null,
           null,
           null,
           null,
           null,
           null,
           null,
           null,
           null,
           null,
           null,
           null,
           null
          ],
          [
           null,
           null,
           null,
           -19549814.73,
           null,
           null,
           null,
           null,
           null,
           null,
           null,
           null,
           null,
           null,
           null,
           null,
           null,
           null,
           null,
           null,
           null,
           null,
           null,
           null,
           null,
           null,
           null
          ],
          [
           null,
           null,
           null,
           null,
           null,
           null,
           null,
           null,
           null,
           null,
           null,
           null,
           null,
           null,
           null,
           null,
           null,
           null,
           null,
           null,
           -56369.626000000004,
           null,
           null,
           null,
           null,
           null,
           null
          ],
          [
           null,
           null,
           null,
           null,
           null,
           null,
           null,
           null,
           null,
           null,
           null,
           null,
           null,
           null,
           null,
           -57692.2,
           null,
           null,
           null,
           null,
           null,
           null,
           null,
           null,
           null,
           null,
           null
          ],
          [
           null,
           null,
           null,
           null,
           null,
           null,
           null,
           null,
           null,
           null,
           null,
           null,
           null,
           -57692.490000000005,
           null,
           null,
           null,
           null,
           null,
           null,
           null,
           null,
           null,
           null,
           null,
           null,
           null
          ],
          [
           null,
           null,
           null,
           null,
           null,
           null,
           null,
           null,
           null,
           null,
           null,
           null,
           null,
           null,
           null,
           null,
           null,
           null,
           -57957.740000000005,
           null,
           null,
           null,
           null,
           null,
           null,
           null,
           null
          ],
          [
           null,
           null,
           null,
           null,
           null,
           null,
           null,
           null,
           null,
           null,
           null,
           null,
           -56894.962,
           null,
           null,
           null,
           null,
           null,
           null,
           null,
           null,
           null,
           null,
           null,
           null,
           null,
           null
          ],
          [
           null,
           null,
           null,
           null,
           null,
           null,
           null,
           null,
           null,
           null,
           null,
           null,
           null,
           null,
           null,
           null,
           null,
           null,
           null,
           null,
           null,
           null,
           null,
           null,
           null,
           null,
           null
          ]
         ]
        },
        {
         "marker": {
          "color": "black",
          "line": {
           "color": "Gray",
           "width": 2
          }
         },
         "mode": "markers",
         "name": "Feasible Trial",
         "showlegend": false,
         "type": "scatter",
         "x": [
          0.0029411283079602067,
          0.007219334111366669,
          0.00967920237144436,
          0.045665957204979166,
          0.001187979237031665,
          0.005277965146005758,
          0.021668075767865797,
          0.0019967482118355855,
          0.03129999895887123,
          0.0068478989391215685,
          0.0010353515655146064,
          0.09257520224123574,
          0.09746142150556884,
          0.02419198172590692,
          0.0029177498759307167,
          0.049436652822015065,
          0.0022192447282842905,
          0.01277594799676972,
          0.05036048515381466,
          0.0016614223857966755,
          0.00370874486162138,
          0.0046089815988702085,
          0.004567736817916702,
          0.012852229148185504,
          0.0019208761913845824
         ],
         "xaxis": "x30",
         "y": [
          0.20951677991709033,
          0.15862163909933125,
          0.3545390930971707,
          0.2473782787839689,
          0.2540150568313335,
          0.4883902693609067,
          0.4347943637537365,
          0.18720161137015176,
          0.3497946626632852,
          0.3617339115399135,
          0.10209472718990625,
          0.2510889857943497,
          0.17552967526098973,
          0.2810514833732746,
          0.10044825719284384,
          0.20781340636946707,
          0.30063316972951354,
          0.1558134306050329,
          0.20652291135947348,
          0.30752924323583264,
          0.24916479341312883,
          0.24354150134350885,
          0.1851320757830969,
          0.13903253090622913,
          0.23494929016068264
         ],
         "yaxis": "y30"
        },
        {
         "type": "scatter",
         "xaxis": "x36",
         "yaxis": "y36"
        }
       ],
       "layout": {
        "template": {
         "data": {
          "bar": [
           {
            "error_x": {
             "color": "#2a3f5f"
            },
            "error_y": {
             "color": "#2a3f5f"
            },
            "marker": {
             "line": {
              "color": "#E5ECF6",
              "width": 0.5
             },
             "pattern": {
              "fillmode": "overlay",
              "size": 10,
              "solidity": 0.2
             }
            },
            "type": "bar"
           }
          ],
          "barpolar": [
           {
            "marker": {
             "line": {
              "color": "#E5ECF6",
              "width": 0.5
             },
             "pattern": {
              "fillmode": "overlay",
              "size": 10,
              "solidity": 0.2
             }
            },
            "type": "barpolar"
           }
          ],
          "carpet": [
           {
            "aaxis": {
             "endlinecolor": "#2a3f5f",
             "gridcolor": "white",
             "linecolor": "white",
             "minorgridcolor": "white",
             "startlinecolor": "#2a3f5f"
            },
            "baxis": {
             "endlinecolor": "#2a3f5f",
             "gridcolor": "white",
             "linecolor": "white",
             "minorgridcolor": "white",
             "startlinecolor": "#2a3f5f"
            },
            "type": "carpet"
           }
          ],
          "choropleth": [
           {
            "colorbar": {
             "outlinewidth": 0,
             "ticks": ""
            },
            "type": "choropleth"
           }
          ],
          "contour": [
           {
            "colorbar": {
             "outlinewidth": 0,
             "ticks": ""
            },
            "colorscale": [
             [
              0,
              "#0d0887"
             ],
             [
              0.1111111111111111,
              "#46039f"
             ],
             [
              0.2222222222222222,
              "#7201a8"
             ],
             [
              0.3333333333333333,
              "#9c179e"
             ],
             [
              0.4444444444444444,
              "#bd3786"
             ],
             [
              0.5555555555555556,
              "#d8576b"
             ],
             [
              0.6666666666666666,
              "#ed7953"
             ],
             [
              0.7777777777777778,
              "#fb9f3a"
             ],
             [
              0.8888888888888888,
              "#fdca26"
             ],
             [
              1,
              "#f0f921"
             ]
            ],
            "type": "contour"
           }
          ],
          "contourcarpet": [
           {
            "colorbar": {
             "outlinewidth": 0,
             "ticks": ""
            },
            "type": "contourcarpet"
           }
          ],
          "heatmap": [
           {
            "colorbar": {
             "outlinewidth": 0,
             "ticks": ""
            },
            "colorscale": [
             [
              0,
              "#0d0887"
             ],
             [
              0.1111111111111111,
              "#46039f"
             ],
             [
              0.2222222222222222,
              "#7201a8"
             ],
             [
              0.3333333333333333,
              "#9c179e"
             ],
             [
              0.4444444444444444,
              "#bd3786"
             ],
             [
              0.5555555555555556,
              "#d8576b"
             ],
             [
              0.6666666666666666,
              "#ed7953"
             ],
             [
              0.7777777777777778,
              "#fb9f3a"
             ],
             [
              0.8888888888888888,
              "#fdca26"
             ],
             [
              1,
              "#f0f921"
             ]
            ],
            "type": "heatmap"
           }
          ],
          "heatmapgl": [
           {
            "colorbar": {
             "outlinewidth": 0,
             "ticks": ""
            },
            "colorscale": [
             [
              0,
              "#0d0887"
             ],
             [
              0.1111111111111111,
              "#46039f"
             ],
             [
              0.2222222222222222,
              "#7201a8"
             ],
             [
              0.3333333333333333,
              "#9c179e"
             ],
             [
              0.4444444444444444,
              "#bd3786"
             ],
             [
              0.5555555555555556,
              "#d8576b"
             ],
             [
              0.6666666666666666,
              "#ed7953"
             ],
             [
              0.7777777777777778,
              "#fb9f3a"
             ],
             [
              0.8888888888888888,
              "#fdca26"
             ],
             [
              1,
              "#f0f921"
             ]
            ],
            "type": "heatmapgl"
           }
          ],
          "histogram": [
           {
            "marker": {
             "pattern": {
              "fillmode": "overlay",
              "size": 10,
              "solidity": 0.2
             }
            },
            "type": "histogram"
           }
          ],
          "histogram2d": [
           {
            "colorbar": {
             "outlinewidth": 0,
             "ticks": ""
            },
            "colorscale": [
             [
              0,
              "#0d0887"
             ],
             [
              0.1111111111111111,
              "#46039f"
             ],
             [
              0.2222222222222222,
              "#7201a8"
             ],
             [
              0.3333333333333333,
              "#9c179e"
             ],
             [
              0.4444444444444444,
              "#bd3786"
             ],
             [
              0.5555555555555556,
              "#d8576b"
             ],
             [
              0.6666666666666666,
              "#ed7953"
             ],
             [
              0.7777777777777778,
              "#fb9f3a"
             ],
             [
              0.8888888888888888,
              "#fdca26"
             ],
             [
              1,
              "#f0f921"
             ]
            ],
            "type": "histogram2d"
           }
          ],
          "histogram2dcontour": [
           {
            "colorbar": {
             "outlinewidth": 0,
             "ticks": ""
            },
            "colorscale": [
             [
              0,
              "#0d0887"
             ],
             [
              0.1111111111111111,
              "#46039f"
             ],
             [
              0.2222222222222222,
              "#7201a8"
             ],
             [
              0.3333333333333333,
              "#9c179e"
             ],
             [
              0.4444444444444444,
              "#bd3786"
             ],
             [
              0.5555555555555556,
              "#d8576b"
             ],
             [
              0.6666666666666666,
              "#ed7953"
             ],
             [
              0.7777777777777778,
              "#fb9f3a"
             ],
             [
              0.8888888888888888,
              "#fdca26"
             ],
             [
              1,
              "#f0f921"
             ]
            ],
            "type": "histogram2dcontour"
           }
          ],
          "mesh3d": [
           {
            "colorbar": {
             "outlinewidth": 0,
             "ticks": ""
            },
            "type": "mesh3d"
           }
          ],
          "parcoords": [
           {
            "line": {
             "colorbar": {
              "outlinewidth": 0,
              "ticks": ""
             }
            },
            "type": "parcoords"
           }
          ],
          "pie": [
           {
            "automargin": true,
            "type": "pie"
           }
          ],
          "scatter": [
           {
            "fillpattern": {
             "fillmode": "overlay",
             "size": 10,
             "solidity": 0.2
            },
            "type": "scatter"
           }
          ],
          "scatter3d": [
           {
            "line": {
             "colorbar": {
              "outlinewidth": 0,
              "ticks": ""
             }
            },
            "marker": {
             "colorbar": {
              "outlinewidth": 0,
              "ticks": ""
             }
            },
            "type": "scatter3d"
           }
          ],
          "scattercarpet": [
           {
            "marker": {
             "colorbar": {
              "outlinewidth": 0,
              "ticks": ""
             }
            },
            "type": "scattercarpet"
           }
          ],
          "scattergeo": [
           {
            "marker": {
             "colorbar": {
              "outlinewidth": 0,
              "ticks": ""
             }
            },
            "type": "scattergeo"
           }
          ],
          "scattergl": [
           {
            "marker": {
             "colorbar": {
              "outlinewidth": 0,
              "ticks": ""
             }
            },
            "type": "scattergl"
           }
          ],
          "scattermapbox": [
           {
            "marker": {
             "colorbar": {
              "outlinewidth": 0,
              "ticks": ""
             }
            },
            "type": "scattermapbox"
           }
          ],
          "scatterpolar": [
           {
            "marker": {
             "colorbar": {
              "outlinewidth": 0,
              "ticks": ""
             }
            },
            "type": "scatterpolar"
           }
          ],
          "scatterpolargl": [
           {
            "marker": {
             "colorbar": {
              "outlinewidth": 0,
              "ticks": ""
             }
            },
            "type": "scatterpolargl"
           }
          ],
          "scatterternary": [
           {
            "marker": {
             "colorbar": {
              "outlinewidth": 0,
              "ticks": ""
             }
            },
            "type": "scatterternary"
           }
          ],
          "surface": [
           {
            "colorbar": {
             "outlinewidth": 0,
             "ticks": ""
            },
            "colorscale": [
             [
              0,
              "#0d0887"
             ],
             [
              0.1111111111111111,
              "#46039f"
             ],
             [
              0.2222222222222222,
              "#7201a8"
             ],
             [
              0.3333333333333333,
              "#9c179e"
             ],
             [
              0.4444444444444444,
              "#bd3786"
             ],
             [
              0.5555555555555556,
              "#d8576b"
             ],
             [
              0.6666666666666666,
              "#ed7953"
             ],
             [
              0.7777777777777778,
              "#fb9f3a"
             ],
             [
              0.8888888888888888,
              "#fdca26"
             ],
             [
              1,
              "#f0f921"
             ]
            ],
            "type": "surface"
           }
          ],
          "table": [
           {
            "cells": {
             "fill": {
              "color": "#EBF0F8"
             },
             "line": {
              "color": "white"
             }
            },
            "header": {
             "fill": {
              "color": "#C8D4E3"
             },
             "line": {
              "color": "white"
             }
            },
            "type": "table"
           }
          ]
         },
         "layout": {
          "annotationdefaults": {
           "arrowcolor": "#2a3f5f",
           "arrowhead": 0,
           "arrowwidth": 1
          },
          "autotypenumbers": "strict",
          "coloraxis": {
           "colorbar": {
            "outlinewidth": 0,
            "ticks": ""
           }
          },
          "colorscale": {
           "diverging": [
            [
             0,
             "#8e0152"
            ],
            [
             0.1,
             "#c51b7d"
            ],
            [
             0.2,
             "#de77ae"
            ],
            [
             0.3,
             "#f1b6da"
            ],
            [
             0.4,
             "#fde0ef"
            ],
            [
             0.5,
             "#f7f7f7"
            ],
            [
             0.6,
             "#e6f5d0"
            ],
            [
             0.7,
             "#b8e186"
            ],
            [
             0.8,
             "#7fbc41"
            ],
            [
             0.9,
             "#4d9221"
            ],
            [
             1,
             "#276419"
            ]
           ],
           "sequential": [
            [
             0,
             "#0d0887"
            ],
            [
             0.1111111111111111,
             "#46039f"
            ],
            [
             0.2222222222222222,
             "#7201a8"
            ],
            [
             0.3333333333333333,
             "#9c179e"
            ],
            [
             0.4444444444444444,
             "#bd3786"
            ],
            [
             0.5555555555555556,
             "#d8576b"
            ],
            [
             0.6666666666666666,
             "#ed7953"
            ],
            [
             0.7777777777777778,
             "#fb9f3a"
            ],
            [
             0.8888888888888888,
             "#fdca26"
            ],
            [
             1,
             "#f0f921"
            ]
           ],
           "sequentialminus": [
            [
             0,
             "#0d0887"
            ],
            [
             0.1111111111111111,
             "#46039f"
            ],
            [
             0.2222222222222222,
             "#7201a8"
            ],
            [
             0.3333333333333333,
             "#9c179e"
            ],
            [
             0.4444444444444444,
             "#bd3786"
            ],
            [
             0.5555555555555556,
             "#d8576b"
            ],
            [
             0.6666666666666666,
             "#ed7953"
            ],
            [
             0.7777777777777778,
             "#fb9f3a"
            ],
            [
             0.8888888888888888,
             "#fdca26"
            ],
            [
             1,
             "#f0f921"
            ]
           ]
          },
          "colorway": [
           "#636efa",
           "#EF553B",
           "#00cc96",
           "#ab63fa",
           "#FFA15A",
           "#19d3f3",
           "#FF6692",
           "#B6E880",
           "#FF97FF",
           "#FECB52"
          ],
          "font": {
           "color": "#2a3f5f"
          },
          "geo": {
           "bgcolor": "white",
           "lakecolor": "white",
           "landcolor": "#E5ECF6",
           "showlakes": true,
           "showland": true,
           "subunitcolor": "white"
          },
          "hoverlabel": {
           "align": "left"
          },
          "hovermode": "closest",
          "mapbox": {
           "style": "light"
          },
          "paper_bgcolor": "white",
          "plot_bgcolor": "#E5ECF6",
          "polar": {
           "angularaxis": {
            "gridcolor": "white",
            "linecolor": "white",
            "ticks": ""
           },
           "bgcolor": "#E5ECF6",
           "radialaxis": {
            "gridcolor": "white",
            "linecolor": "white",
            "ticks": ""
           }
          },
          "scene": {
           "xaxis": {
            "backgroundcolor": "#E5ECF6",
            "gridcolor": "white",
            "gridwidth": 2,
            "linecolor": "white",
            "showbackground": true,
            "ticks": "",
            "zerolinecolor": "white"
           },
           "yaxis": {
            "backgroundcolor": "#E5ECF6",
            "gridcolor": "white",
            "gridwidth": 2,
            "linecolor": "white",
            "showbackground": true,
            "ticks": "",
            "zerolinecolor": "white"
           },
           "zaxis": {
            "backgroundcolor": "#E5ECF6",
            "gridcolor": "white",
            "gridwidth": 2,
            "linecolor": "white",
            "showbackground": true,
            "ticks": "",
            "zerolinecolor": "white"
           }
          },
          "shapedefaults": {
           "line": {
            "color": "#2a3f5f"
           }
          },
          "ternary": {
           "aaxis": {
            "gridcolor": "white",
            "linecolor": "white",
            "ticks": ""
           },
           "baxis": {
            "gridcolor": "white",
            "linecolor": "white",
            "ticks": ""
           },
           "bgcolor": "#E5ECF6",
           "caxis": {
            "gridcolor": "white",
            "linecolor": "white",
            "ticks": ""
           }
          },
          "title": {
           "x": 0.05
          },
          "xaxis": {
           "automargin": true,
           "gridcolor": "white",
           "linecolor": "white",
           "ticks": "",
           "title": {
            "standoff": 15
           },
           "zerolinecolor": "white",
           "zerolinewidth": 2
          },
          "yaxis": {
           "automargin": true,
           "gridcolor": "white",
           "linecolor": "white",
           "ticks": "",
           "title": {
            "standoff": 15
           },
           "zerolinecolor": "white",
           "zerolinewidth": 2
          }
         }
        },
        "title": {
         "text": "Contour Plot"
        },
        "xaxis": {
         "anchor": "y",
         "domain": [
          0,
          0.1388888888888889
         ],
         "matches": "x31",
         "range": [
          20.799999999999997,
          267.2
         ],
         "showticklabels": false
        },
        "xaxis10": {
         "anchor": "y10",
         "domain": [
          0.5166666666666667,
          0.6555555555555557
         ],
         "matches": "x34",
         "range": [
          -4.983631536193119,
          -2.9780559044180297
         ],
         "showticklabels": false,
         "type": "log"
        },
        "xaxis11": {
         "anchor": "y11",
         "domain": [
          0.6888888888888889,
          0.8277777777777777
         ],
         "matches": "x35",
         "range": [
          0.08105115658444069,
          0.5077873699693098
         ],
         "showticklabels": false
        },
        "xaxis12": {
         "anchor": "y12",
         "domain": [
          0.861111111111111,
          1
         ],
         "matches": "x36",
         "range": [
          -3.083599400329797,
          -0.9124800137416322
         ],
         "showticklabels": false,
         "type": "log"
        },
        "xaxis13": {
         "anchor": "y13",
         "domain": [
          0,
          0.1388888888888889
         ],
         "matches": "x31",
         "range": [
          20.799999999999997,
          267.2
         ],
         "showticklabels": false
        },
        "xaxis14": {
         "anchor": "y14",
         "domain": [
          0.17222222222222222,
          0.3111111111111111
         ],
         "matches": "x32",
         "range": [
          27500,
          522500
         ],
         "showticklabels": false
        },
        "xaxis15": {
         "anchor": "y15",
         "domain": [
          0.34444444444444444,
          0.48333333333333334
         ],
         "matches": "x33",
         "range": [
          0.8974453434286189,
          0.9962240034856316
         ],
         "showticklabels": false
        },
        "xaxis16": {
         "anchor": "y16",
         "domain": [
          0.5166666666666667,
          0.6555555555555557
         ],
         "matches": "x34",
         "range": [
          -4.983631536193119,
          -2.9780559044180297
         ],
         "showticklabels": false,
         "type": "log"
        },
        "xaxis17": {
         "anchor": "y17",
         "domain": [
          0.6888888888888889,
          0.8277777777777777
         ],
         "matches": "x35",
         "range": [
          0.08105115658444069,
          0.5077873699693098
         ],
         "showticklabels": false
        },
        "xaxis18": {
         "anchor": "y18",
         "domain": [
          0.861111111111111,
          1
         ],
         "matches": "x36",
         "range": [
          -3.083599400329797,
          -0.9124800137416322
         ],
         "showticklabels": false,
         "type": "log"
        },
        "xaxis19": {
         "anchor": "y19",
         "domain": [
          0,
          0.1388888888888889
         ],
         "matches": "x31",
         "range": [
          20.799999999999997,
          267.2
         ],
         "showticklabels": false
        },
        "xaxis2": {
         "anchor": "y2",
         "domain": [
          0.17222222222222222,
          0.3111111111111111
         ],
         "matches": "x32",
         "range": [
          27500,
          522500
         ],
         "showticklabels": false
        },
        "xaxis20": {
         "anchor": "y20",
         "domain": [
          0.17222222222222222,
          0.3111111111111111
         ],
         "matches": "x32",
         "range": [
          27500,
          522500
         ],
         "showticklabels": false
        },
        "xaxis21": {
         "anchor": "y21",
         "domain": [
          0.34444444444444444,
          0.48333333333333334
         ],
         "matches": "x33",
         "range": [
          0.8974453434286189,
          0.9962240034856316
         ],
         "showticklabels": false
        },
        "xaxis22": {
         "anchor": "y22",
         "domain": [
          0.5166666666666667,
          0.6555555555555557
         ],
         "matches": "x34",
         "range": [
          -4.983631536193119,
          -2.9780559044180297
         ],
         "showticklabels": false,
         "type": "log"
        },
        "xaxis23": {
         "anchor": "y23",
         "domain": [
          0.6888888888888889,
          0.8277777777777777
         ],
         "matches": "x35",
         "range": [
          0.08105115658444069,
          0.5077873699693098
         ],
         "showticklabels": false
        },
        "xaxis24": {
         "anchor": "y24",
         "domain": [
          0.861111111111111,
          1
         ],
         "matches": "x36",
         "range": [
          -3.083599400329797,
          -0.9124800137416322
         ],
         "showticklabels": false,
         "type": "log"
        },
        "xaxis25": {
         "anchor": "y25",
         "domain": [
          0,
          0.1388888888888889
         ],
         "matches": "x31",
         "range": [
          20.799999999999997,
          267.2
         ],
         "showticklabels": false
        },
        "xaxis26": {
         "anchor": "y26",
         "domain": [
          0.17222222222222222,
          0.3111111111111111
         ],
         "matches": "x32",
         "range": [
          27500,
          522500
         ],
         "showticklabels": false
        },
        "xaxis27": {
         "anchor": "y27",
         "domain": [
          0.34444444444444444,
          0.48333333333333334
         ],
         "matches": "x33",
         "range": [
          0.8974453434286189,
          0.9962240034856316
         ],
         "showticklabels": false
        },
        "xaxis28": {
         "anchor": "y28",
         "domain": [
          0.5166666666666667,
          0.6555555555555557
         ],
         "matches": "x34",
         "range": [
          -4.983631536193119,
          -2.9780559044180297
         ],
         "showticklabels": false,
         "type": "log"
        },
        "xaxis29": {
         "anchor": "y29",
         "domain": [
          0.6888888888888889,
          0.8277777777777777
         ],
         "matches": "x35",
         "range": [
          0.08105115658444069,
          0.5077873699693098
         ],
         "showticklabels": false
        },
        "xaxis3": {
         "anchor": "y3",
         "domain": [
          0.34444444444444444,
          0.48333333333333334
         ],
         "matches": "x33",
         "range": [
          0.8974453434286189,
          0.9962240034856316
         ],
         "showticklabels": false
        },
        "xaxis30": {
         "anchor": "y30",
         "domain": [
          0.861111111111111,
          1
         ],
         "matches": "x36",
         "range": [
          -3.083599400329797,
          -0.9124800137416322
         ],
         "showticklabels": false,
         "type": "log"
        },
        "xaxis31": {
         "anchor": "y31",
         "domain": [
          0,
          0.1388888888888889
         ],
         "range": [
          20.799999999999997,
          267.2
         ],
         "title": {
          "text": "batch_size"
         }
        },
        "xaxis32": {
         "anchor": "y32",
         "domain": [
          0.17222222222222222,
          0.3111111111111111
         ],
         "range": [
          27500,
          522500
         ],
         "title": {
          "text": "buffer_size"
         }
        },
        "xaxis33": {
         "anchor": "y33",
         "domain": [
          0.34444444444444444,
          0.48333333333333334
         ],
         "range": [
          0.8974453434286189,
          0.9962240034856316
         ],
         "title": {
          "text": "gamma"
         }
        },
        "xaxis34": {
         "anchor": "y34",
         "domain": [
          0.5166666666666667,
          0.6555555555555557
         ],
         "range": [
          -4.983631536193119,
          -2.9780559044180297
         ],
         "title": {
          "text": "learning_rate"
         },
         "type": "log"
        },
        "xaxis35": {
         "anchor": "y35",
         "domain": [
          0.6888888888888889,
          0.8277777777777777
         ],
         "range": [
          0.08105115658444069,
          0.5077873699693098
         ],
         "title": {
          "text": "noise_std"
         }
        },
        "xaxis36": {
         "anchor": "y36",
         "domain": [
          0.861111111111111,
          1
         ],
         "range": [
          -3.083599400329797,
          -0.9124800137416322
         ],
         "title": {
          "text": "tau"
         },
         "type": "log"
        },
        "xaxis4": {
         "anchor": "y4",
         "domain": [
          0.5166666666666667,
          0.6555555555555557
         ],
         "matches": "x34",
         "range": [
          -4.983631536193119,
          -2.9780559044180297
         ],
         "showticklabels": false,
         "type": "log"
        },
        "xaxis5": {
         "anchor": "y5",
         "domain": [
          0.6888888888888889,
          0.8277777777777777
         ],
         "matches": "x35",
         "range": [
          0.08105115658444069,
          0.5077873699693098
         ],
         "showticklabels": false
        },
        "xaxis6": {
         "anchor": "y6",
         "domain": [
          0.861111111111111,
          1
         ],
         "matches": "x36",
         "range": [
          -3.083599400329797,
          -0.9124800137416322
         ],
         "showticklabels": false,
         "type": "log"
        },
        "xaxis7": {
         "anchor": "y7",
         "domain": [
          0,
          0.1388888888888889
         ],
         "matches": "x31",
         "range": [
          20.799999999999997,
          267.2
         ],
         "showticklabels": false
        },
        "xaxis8": {
         "anchor": "y8",
         "domain": [
          0.17222222222222222,
          0.3111111111111111
         ],
         "matches": "x32",
         "range": [
          27500,
          522500
         ],
         "showticklabels": false
        },
        "xaxis9": {
         "anchor": "y9",
         "domain": [
          0.34444444444444444,
          0.48333333333333334
         ],
         "matches": "x33",
         "range": [
          0.8974453434286189,
          0.9962240034856316
         ],
         "showticklabels": false
        },
        "yaxis": {
         "anchor": "x",
         "domain": [
          0.875,
          1
         ],
         "range": [
          20.799999999999997,
          267.2
         ],
         "title": {
          "text": "batch_size"
         }
        },
        "yaxis10": {
         "anchor": "x10",
         "domain": [
          0.7,
          0.825
         ],
         "matches": "y7",
         "range": [
          27500,
          522500
         ],
         "showticklabels": false
        },
        "yaxis11": {
         "anchor": "x11",
         "domain": [
          0.7,
          0.825
         ],
         "matches": "y7",
         "range": [
          27500,
          522500
         ],
         "showticklabels": false
        },
        "yaxis12": {
         "anchor": "x12",
         "domain": [
          0.7,
          0.825
         ],
         "matches": "y7",
         "range": [
          27500,
          522500
         ],
         "showticklabels": false
        },
        "yaxis13": {
         "anchor": "x13",
         "domain": [
          0.525,
          0.65
         ],
         "range": [
          0.8974453434286189,
          0.9962240034856316
         ],
         "title": {
          "text": "gamma"
         }
        },
        "yaxis14": {
         "anchor": "x14",
         "domain": [
          0.525,
          0.65
         ],
         "matches": "y13",
         "range": [
          0.8974453434286189,
          0.9962240034856316
         ],
         "showticklabels": false
        },
        "yaxis15": {
         "anchor": "x15",
         "domain": [
          0.525,
          0.65
         ],
         "matches": "y13",
         "range": [
          0.8974453434286189,
          0.9962240034856316
         ],
         "showticklabels": false
        },
        "yaxis16": {
         "anchor": "x16",
         "domain": [
          0.525,
          0.65
         ],
         "matches": "y13",
         "range": [
          0.8974453434286189,
          0.9962240034856316
         ],
         "showticklabels": false
        },
        "yaxis17": {
         "anchor": "x17",
         "domain": [
          0.525,
          0.65
         ],
         "matches": "y13",
         "range": [
          0.8974453434286189,
          0.9962240034856316
         ],
         "showticklabels": false
        },
        "yaxis18": {
         "anchor": "x18",
         "domain": [
          0.525,
          0.65
         ],
         "matches": "y13",
         "range": [
          0.8974453434286189,
          0.9962240034856316
         ],
         "showticklabels": false
        },
        "yaxis19": {
         "anchor": "x19",
         "domain": [
          0.35,
          0.475
         ],
         "range": [
          -4.983631536193119,
          -2.9780559044180297
         ],
         "title": {
          "text": "learning_rate"
         },
         "type": "log"
        },
        "yaxis2": {
         "anchor": "x2",
         "domain": [
          0.875,
          1
         ],
         "matches": "y",
         "range": [
          20.799999999999997,
          267.2
         ],
         "showticklabels": false
        },
        "yaxis20": {
         "anchor": "x20",
         "domain": [
          0.35,
          0.475
         ],
         "matches": "y19",
         "range": [
          -4.983631536193119,
          -2.9780559044180297
         ],
         "showticklabels": false,
         "type": "log"
        },
        "yaxis21": {
         "anchor": "x21",
         "domain": [
          0.35,
          0.475
         ],
         "matches": "y19",
         "range": [
          -4.983631536193119,
          -2.9780559044180297
         ],
         "showticklabels": false,
         "type": "log"
        },
        "yaxis22": {
         "anchor": "x22",
         "domain": [
          0.35,
          0.475
         ],
         "matches": "y19",
         "range": [
          -4.983631536193119,
          -2.9780559044180297
         ],
         "showticklabels": false,
         "type": "log"
        },
        "yaxis23": {
         "anchor": "x23",
         "domain": [
          0.35,
          0.475
         ],
         "matches": "y19",
         "range": [
          -4.983631536193119,
          -2.9780559044180297
         ],
         "showticklabels": false,
         "type": "log"
        },
        "yaxis24": {
         "anchor": "x24",
         "domain": [
          0.35,
          0.475
         ],
         "matches": "y19",
         "range": [
          -4.983631536193119,
          -2.9780559044180297
         ],
         "showticklabels": false,
         "type": "log"
        },
        "yaxis25": {
         "anchor": "x25",
         "domain": [
          0.175,
          0.3
         ],
         "range": [
          0.08105115658444069,
          0.5077873699693098
         ],
         "title": {
          "text": "noise_std"
         }
        },
        "yaxis26": {
         "anchor": "x26",
         "domain": [
          0.175,
          0.3
         ],
         "matches": "y25",
         "range": [
          0.08105115658444069,
          0.5077873699693098
         ],
         "showticklabels": false
        },
        "yaxis27": {
         "anchor": "x27",
         "domain": [
          0.175,
          0.3
         ],
         "matches": "y25",
         "range": [
          0.08105115658444069,
          0.5077873699693098
         ],
         "showticklabels": false
        },
        "yaxis28": {
         "anchor": "x28",
         "domain": [
          0.175,
          0.3
         ],
         "matches": "y25",
         "range": [
          0.08105115658444069,
          0.5077873699693098
         ],
         "showticklabels": false
        },
        "yaxis29": {
         "anchor": "x29",
         "domain": [
          0.175,
          0.3
         ],
         "matches": "y25",
         "range": [
          0.08105115658444069,
          0.5077873699693098
         ],
         "showticklabels": false
        },
        "yaxis3": {
         "anchor": "x3",
         "domain": [
          0.875,
          1
         ],
         "matches": "y",
         "range": [
          20.799999999999997,
          267.2
         ],
         "showticklabels": false
        },
        "yaxis30": {
         "anchor": "x30",
         "domain": [
          0.175,
          0.3
         ],
         "matches": "y25",
         "range": [
          0.08105115658444069,
          0.5077873699693098
         ],
         "showticklabels": false
        },
        "yaxis31": {
         "anchor": "x31",
         "domain": [
          0,
          0.125
         ],
         "range": [
          -3.083599400329797,
          -0.9124800137416322
         ],
         "title": {
          "text": "tau"
         },
         "type": "log"
        },
        "yaxis32": {
         "anchor": "x32",
         "domain": [
          0,
          0.125
         ],
         "matches": "y31",
         "range": [
          -3.083599400329797,
          -0.9124800137416322
         ],
         "showticklabels": false,
         "type": "log"
        },
        "yaxis33": {
         "anchor": "x33",
         "domain": [
          0,
          0.125
         ],
         "matches": "y31",
         "range": [
          -3.083599400329797,
          -0.9124800137416322
         ],
         "showticklabels": false,
         "type": "log"
        },
        "yaxis34": {
         "anchor": "x34",
         "domain": [
          0,
          0.125
         ],
         "matches": "y31",
         "range": [
          -3.083599400329797,
          -0.9124800137416322
         ],
         "showticklabels": false,
         "type": "log"
        },
        "yaxis35": {
         "anchor": "x35",
         "domain": [
          0,
          0.125
         ],
         "matches": "y31",
         "range": [
          -3.083599400329797,
          -0.9124800137416322
         ],
         "showticklabels": false,
         "type": "log"
        },
        "yaxis36": {
         "anchor": "x36",
         "domain": [
          0,
          0.125
         ],
         "matches": "y31",
         "range": [
          -3.083599400329797,
          -0.9124800137416322
         ],
         "showticklabels": false,
         "type": "log"
        },
        "yaxis4": {
         "anchor": "x4",
         "domain": [
          0.875,
          1
         ],
         "matches": "y",
         "range": [
          20.799999999999997,
          267.2
         ],
         "showticklabels": false
        },
        "yaxis5": {
         "anchor": "x5",
         "domain": [
          0.875,
          1
         ],
         "matches": "y",
         "range": [
          20.799999999999997,
          267.2
         ],
         "showticklabels": false
        },
        "yaxis6": {
         "anchor": "x6",
         "domain": [
          0.875,
          1
         ],
         "matches": "y",
         "range": [
          20.799999999999997,
          267.2
         ],
         "showticklabels": false
        },
        "yaxis7": {
         "anchor": "x7",
         "domain": [
          0.7,
          0.825
         ],
         "range": [
          27500,
          522500
         ],
         "title": {
          "text": "buffer_size"
         }
        },
        "yaxis8": {
         "anchor": "x8",
         "domain": [
          0.7,
          0.825
         ],
         "matches": "y7",
         "range": [
          27500,
          522500
         ],
         "showticklabels": false
        },
        "yaxis9": {
         "anchor": "x9",
         "domain": [
          0.7,
          0.825
         ],
         "matches": "y7",
         "range": [
          27500,
          522500
         ],
         "showticklabels": false
        }
       }
      }
     },
     "metadata": {},
     "output_type": "display_data"
    }
   ],
   "source": [
    "from optuna.visualization import plot_contour\n",
    "\n",
    "fig = plot_contour(study)\n",
    "fig.show()"
   ]
  }
 ],
 "metadata": {
  "kernelspec": {
   "display_name": "rl-scm",
   "language": "python",
   "name": "python3"
  },
  "language_info": {
   "codemirror_mode": {
    "name": "ipython",
    "version": 3
   },
   "file_extension": ".py",
   "mimetype": "text/x-python",
   "name": "python",
   "nbconvert_exporter": "python",
   "pygments_lexer": "ipython3",
   "version": "3.12.3"
  }
 },
 "nbformat": 4,
 "nbformat_minor": 2
}
