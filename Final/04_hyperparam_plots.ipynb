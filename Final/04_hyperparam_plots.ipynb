{
 "cells": [
  {
   "cell_type": "code",
   "execution_count": 1,
   "metadata": {},
   "outputs": [
    {
     "name": "stderr",
     "output_type": "stream",
     "text": [
      "/Users/jonasrenfer/miniconda3/envs/rl-scm/lib/python3.12/site-packages/tqdm/auto.py:21: TqdmWarning: IProgress not found. Please update jupyter and ipywidgets. See https://ipywidgets.readthedocs.io/en/stable/user_install.html\n",
      "  from .autonotebook import tqdm as notebook_tqdm\n"
     ]
    }
   ],
   "source": [
    "# Import helpers\n",
    "import numpy as np\n",
    "import pandas as pd\n",
    "import random\n",
    "import os\n",
    "import json\n",
    "import csv\n",
    "import matplotlib.pyplot as plt\n",
    "import seaborn as sns\n",
    "import optuna\n",
    "import pickle\n",
    "\n",
    "from collections import deque\n",
    "\n",
    "# Import tensorflow\n",
    "import tensorflow as tf\n",
    "\n",
    "# Import custom classes\n",
    "from Environment.env_v9 import *\n",
    "from Functions.visualization_functions import *\n",
    "\n",
    "# Import custom functions\n",
    "from Functions.greedy_algorithm import *"
   ]
  },
  {
   "cell_type": "code",
   "execution_count": 2,
   "metadata": {},
   "outputs": [],
   "source": [
    "# # Load the study from a file\n",
    "# with open(\"./Training/Tuning/A2C_optuna_study_2024-12-04_01_54.pkl\", \"rb\") as f:\n",
    "#     study = pickle.load(f)\n",
    "\n",
    "# print(\"Best parameters from loaded study:\", study.best_params)\n",
    "\n",
    "# # Load the study from a file\n",
    "with open(\"./Training/Tuning/DDPG_optuna_study_2024-12-04_23_35.pkl\", \"rb\") as f:\n",
    "    study = pickle.load(f)\n",
    "\n",
    "# print(\"Best parameters from loaded study:\", study.best_params)\n",
    "\n",
    "# # Load the study from a file\n",
    "# with open(\"./Training/Tuning/PPO_optuna_study_2024-12-03_21_28.pkl\", \"rb\") as f:\n",
    "#     study = pickle.load(f)\n",
    "\n",
    "# print(\"Best parameters from loaded study:\", study.best_params)"
   ]
  },
  {
   "cell_type": "markdown",
   "metadata": {},
   "source": [
    "**Plot Optimization History**\n",
    "\n",
    "This plot shows the best trial value at each step of the optimization process."
   ]
  },
  {
   "cell_type": "code",
   "execution_count": 3,
   "metadata": {},
   "outputs": [
    {
     "data": {
      "application/vnd.plotly.v1+json": {
       "config": {
        "plotlyServerURL": "https://plot.ly"
       },
       "data": [
        {
         "mode": "markers",
         "name": "Objective Value",
         "type": "scatter",
         "x": [
          0,
          1,
          2,
          3,
          4,
          5,
          6,
          7,
          8,
          9,
          10,
          11,
          12,
          13,
          14,
          15,
          16,
          17,
          18,
          19,
          20,
          21,
          22,
          23,
          24
         ],
         "y": [
          -56008.922,
          -57631.78400000001,
          -57037.62999999999,
          -55168.012,
          -57185.664000000004,
          -54697.085999999996,
          -55592.636,
          -56958.224,
          -57628.757999999994,
          -56978.46800000001,
          -55144.46,
          -56055.846,
          -56952.996,
          -55981.33999999999,
          -57882.712,
          -56538.89200000001,
          -56271.886,
          -50682.386000000006,
          -56057.909999999996,
          -55503.768000000004,
          -19807164.772000004,
          -56822.038,
          -56492.34000000001,
          -57591.476,
          -55051.342000000004
         ]
        },
        {
         "mode": "lines",
         "name": "Best Value",
         "type": "scatter",
         "x": [
          0,
          1,
          2,
          3,
          4,
          5,
          6,
          7,
          8,
          9,
          10,
          11,
          12,
          13,
          14,
          15,
          16,
          17,
          18,
          19,
          20,
          21,
          22,
          23,
          24
         ],
         "y": [
          -56008.922,
          -56008.922,
          -56008.922,
          -55168.012,
          -55168.012,
          -54697.085999999996,
          -54697.085999999996,
          -54697.085999999996,
          -54697.085999999996,
          -54697.085999999996,
          -54697.085999999996,
          -54697.085999999996,
          -54697.085999999996,
          -54697.085999999996,
          -54697.085999999996,
          -54697.085999999996,
          -54697.085999999996,
          -50682.386000000006,
          -50682.386000000006,
          -50682.386000000006,
          -50682.386000000006,
          -50682.386000000006,
          -50682.386000000006,
          -50682.386000000006,
          -50682.386000000006
         ]
        },
        {
         "marker": {
          "color": "#cccccc"
         },
         "mode": "markers",
         "name": "Infeasible Trial",
         "showlegend": false,
         "type": "scatter",
         "x": [],
         "y": []
        }
       ],
       "layout": {
        "template": {
         "data": {
          "bar": [
           {
            "error_x": {
             "color": "#2a3f5f"
            },
            "error_y": {
             "color": "#2a3f5f"
            },
            "marker": {
             "line": {
              "color": "#E5ECF6",
              "width": 0.5
             },
             "pattern": {
              "fillmode": "overlay",
              "size": 10,
              "solidity": 0.2
             }
            },
            "type": "bar"
           }
          ],
          "barpolar": [
           {
            "marker": {
             "line": {
              "color": "#E5ECF6",
              "width": 0.5
             },
             "pattern": {
              "fillmode": "overlay",
              "size": 10,
              "solidity": 0.2
             }
            },
            "type": "barpolar"
           }
          ],
          "carpet": [
           {
            "aaxis": {
             "endlinecolor": "#2a3f5f",
             "gridcolor": "white",
             "linecolor": "white",
             "minorgridcolor": "white",
             "startlinecolor": "#2a3f5f"
            },
            "baxis": {
             "endlinecolor": "#2a3f5f",
             "gridcolor": "white",
             "linecolor": "white",
             "minorgridcolor": "white",
             "startlinecolor": "#2a3f5f"
            },
            "type": "carpet"
           }
          ],
          "choropleth": [
           {
            "colorbar": {
             "outlinewidth": 0,
             "ticks": ""
            },
            "type": "choropleth"
           }
          ],
          "contour": [
           {
            "colorbar": {
             "outlinewidth": 0,
             "ticks": ""
            },
            "colorscale": [
             [
              0,
              "#0d0887"
             ],
             [
              0.1111111111111111,
              "#46039f"
             ],
             [
              0.2222222222222222,
              "#7201a8"
             ],
             [
              0.3333333333333333,
              "#9c179e"
             ],
             [
              0.4444444444444444,
              "#bd3786"
             ],
             [
              0.5555555555555556,
              "#d8576b"
             ],
             [
              0.6666666666666666,
              "#ed7953"
             ],
             [
              0.7777777777777778,
              "#fb9f3a"
             ],
             [
              0.8888888888888888,
              "#fdca26"
             ],
             [
              1,
              "#f0f921"
             ]
            ],
            "type": "contour"
           }
          ],
          "contourcarpet": [
           {
            "colorbar": {
             "outlinewidth": 0,
             "ticks": ""
            },
            "type": "contourcarpet"
           }
          ],
          "heatmap": [
           {
            "colorbar": {
             "outlinewidth": 0,
             "ticks": ""
            },
            "colorscale": [
             [
              0,
              "#0d0887"
             ],
             [
              0.1111111111111111,
              "#46039f"
             ],
             [
              0.2222222222222222,
              "#7201a8"
             ],
             [
              0.3333333333333333,
              "#9c179e"
             ],
             [
              0.4444444444444444,
              "#bd3786"
             ],
             [
              0.5555555555555556,
              "#d8576b"
             ],
             [
              0.6666666666666666,
              "#ed7953"
             ],
             [
              0.7777777777777778,
              "#fb9f3a"
             ],
             [
              0.8888888888888888,
              "#fdca26"
             ],
             [
              1,
              "#f0f921"
             ]
            ],
            "type": "heatmap"
           }
          ],
          "heatmapgl": [
           {
            "colorbar": {
             "outlinewidth": 0,
             "ticks": ""
            },
            "colorscale": [
             [
              0,
              "#0d0887"
             ],
             [
              0.1111111111111111,
              "#46039f"
             ],
             [
              0.2222222222222222,
              "#7201a8"
             ],
             [
              0.3333333333333333,
              "#9c179e"
             ],
             [
              0.4444444444444444,
              "#bd3786"
             ],
             [
              0.5555555555555556,
              "#d8576b"
             ],
             [
              0.6666666666666666,
              "#ed7953"
             ],
             [
              0.7777777777777778,
              "#fb9f3a"
             ],
             [
              0.8888888888888888,
              "#fdca26"
             ],
             [
              1,
              "#f0f921"
             ]
            ],
            "type": "heatmapgl"
           }
          ],
          "histogram": [
           {
            "marker": {
             "pattern": {
              "fillmode": "overlay",
              "size": 10,
              "solidity": 0.2
             }
            },
            "type": "histogram"
           }
          ],
          "histogram2d": [
           {
            "colorbar": {
             "outlinewidth": 0,
             "ticks": ""
            },
            "colorscale": [
             [
              0,
              "#0d0887"
             ],
             [
              0.1111111111111111,
              "#46039f"
             ],
             [
              0.2222222222222222,
              "#7201a8"
             ],
             [
              0.3333333333333333,
              "#9c179e"
             ],
             [
              0.4444444444444444,
              "#bd3786"
             ],
             [
              0.5555555555555556,
              "#d8576b"
             ],
             [
              0.6666666666666666,
              "#ed7953"
             ],
             [
              0.7777777777777778,
              "#fb9f3a"
             ],
             [
              0.8888888888888888,
              "#fdca26"
             ],
             [
              1,
              "#f0f921"
             ]
            ],
            "type": "histogram2d"
           }
          ],
          "histogram2dcontour": [
           {
            "colorbar": {
             "outlinewidth": 0,
             "ticks": ""
            },
            "colorscale": [
             [
              0,
              "#0d0887"
             ],
             [
              0.1111111111111111,
              "#46039f"
             ],
             [
              0.2222222222222222,
              "#7201a8"
             ],
             [
              0.3333333333333333,
              "#9c179e"
             ],
             [
              0.4444444444444444,
              "#bd3786"
             ],
             [
              0.5555555555555556,
              "#d8576b"
             ],
             [
              0.6666666666666666,
              "#ed7953"
             ],
             [
              0.7777777777777778,
              "#fb9f3a"
             ],
             [
              0.8888888888888888,
              "#fdca26"
             ],
             [
              1,
              "#f0f921"
             ]
            ],
            "type": "histogram2dcontour"
           }
          ],
          "mesh3d": [
           {
            "colorbar": {
             "outlinewidth": 0,
             "ticks": ""
            },
            "type": "mesh3d"
           }
          ],
          "parcoords": [
           {
            "line": {
             "colorbar": {
              "outlinewidth": 0,
              "ticks": ""
             }
            },
            "type": "parcoords"
           }
          ],
          "pie": [
           {
            "automargin": true,
            "type": "pie"
           }
          ],
          "scatter": [
           {
            "fillpattern": {
             "fillmode": "overlay",
             "size": 10,
             "solidity": 0.2
            },
            "type": "scatter"
           }
          ],
          "scatter3d": [
           {
            "line": {
             "colorbar": {
              "outlinewidth": 0,
              "ticks": ""
             }
            },
            "marker": {
             "colorbar": {
              "outlinewidth": 0,
              "ticks": ""
             }
            },
            "type": "scatter3d"
           }
          ],
          "scattercarpet": [
           {
            "marker": {
             "colorbar": {
              "outlinewidth": 0,
              "ticks": ""
             }
            },
            "type": "scattercarpet"
           }
          ],
          "scattergeo": [
           {
            "marker": {
             "colorbar": {
              "outlinewidth": 0,
              "ticks": ""
             }
            },
            "type": "scattergeo"
           }
          ],
          "scattergl": [
           {
            "marker": {
             "colorbar": {
              "outlinewidth": 0,
              "ticks": ""
             }
            },
            "type": "scattergl"
           }
          ],
          "scattermapbox": [
           {
            "marker": {
             "colorbar": {
              "outlinewidth": 0,
              "ticks": ""
             }
            },
            "type": "scattermapbox"
           }
          ],
          "scatterpolar": [
           {
            "marker": {
             "colorbar": {
              "outlinewidth": 0,
              "ticks": ""
             }
            },
            "type": "scatterpolar"
           }
          ],
          "scatterpolargl": [
           {
            "marker": {
             "colorbar": {
              "outlinewidth": 0,
              "ticks": ""
             }
            },
            "type": "scatterpolargl"
           }
          ],
          "scatterternary": [
           {
            "marker": {
             "colorbar": {
              "outlinewidth": 0,
              "ticks": ""
             }
            },
            "type": "scatterternary"
           }
          ],
          "surface": [
           {
            "colorbar": {
             "outlinewidth": 0,
             "ticks": ""
            },
            "colorscale": [
             [
              0,
              "#0d0887"
             ],
             [
              0.1111111111111111,
              "#46039f"
             ],
             [
              0.2222222222222222,
              "#7201a8"
             ],
             [
              0.3333333333333333,
              "#9c179e"
             ],
             [
              0.4444444444444444,
              "#bd3786"
             ],
             [
              0.5555555555555556,
              "#d8576b"
             ],
             [
              0.6666666666666666,
              "#ed7953"
             ],
             [
              0.7777777777777778,
              "#fb9f3a"
             ],
             [
              0.8888888888888888,
              "#fdca26"
             ],
             [
              1,
              "#f0f921"
             ]
            ],
            "type": "surface"
           }
          ],
          "table": [
           {
            "cells": {
             "fill": {
              "color": "#EBF0F8"
             },
             "line": {
              "color": "white"
             }
            },
            "header": {
             "fill": {
              "color": "#C8D4E3"
             },
             "line": {
              "color": "white"
             }
            },
            "type": "table"
           }
          ]
         },
         "layout": {
          "annotationdefaults": {
           "arrowcolor": "#2a3f5f",
           "arrowhead": 0,
           "arrowwidth": 1
          },
          "autotypenumbers": "strict",
          "coloraxis": {
           "colorbar": {
            "outlinewidth": 0,
            "ticks": ""
           }
          },
          "colorscale": {
           "diverging": [
            [
             0,
             "#8e0152"
            ],
            [
             0.1,
             "#c51b7d"
            ],
            [
             0.2,
             "#de77ae"
            ],
            [
             0.3,
             "#f1b6da"
            ],
            [
             0.4,
             "#fde0ef"
            ],
            [
             0.5,
             "#f7f7f7"
            ],
            [
             0.6,
             "#e6f5d0"
            ],
            [
             0.7,
             "#b8e186"
            ],
            [
             0.8,
             "#7fbc41"
            ],
            [
             0.9,
             "#4d9221"
            ],
            [
             1,
             "#276419"
            ]
           ],
           "sequential": [
            [
             0,
             "#0d0887"
            ],
            [
             0.1111111111111111,
             "#46039f"
            ],
            [
             0.2222222222222222,
             "#7201a8"
            ],
            [
             0.3333333333333333,
             "#9c179e"
            ],
            [
             0.4444444444444444,
             "#bd3786"
            ],
            [
             0.5555555555555556,
             "#d8576b"
            ],
            [
             0.6666666666666666,
             "#ed7953"
            ],
            [
             0.7777777777777778,
             "#fb9f3a"
            ],
            [
             0.8888888888888888,
             "#fdca26"
            ],
            [
             1,
             "#f0f921"
            ]
           ],
           "sequentialminus": [
            [
             0,
             "#0d0887"
            ],
            [
             0.1111111111111111,
             "#46039f"
            ],
            [
             0.2222222222222222,
             "#7201a8"
            ],
            [
             0.3333333333333333,
             "#9c179e"
            ],
            [
             0.4444444444444444,
             "#bd3786"
            ],
            [
             0.5555555555555556,
             "#d8576b"
            ],
            [
             0.6666666666666666,
             "#ed7953"
            ],
            [
             0.7777777777777778,
             "#fb9f3a"
            ],
            [
             0.8888888888888888,
             "#fdca26"
            ],
            [
             1,
             "#f0f921"
            ]
           ]
          },
          "colorway": [
           "#636efa",
           "#EF553B",
           "#00cc96",
           "#ab63fa",
           "#FFA15A",
           "#19d3f3",
           "#FF6692",
           "#B6E880",
           "#FF97FF",
           "#FECB52"
          ],
          "font": {
           "color": "#2a3f5f"
          },
          "geo": {
           "bgcolor": "white",
           "lakecolor": "white",
           "landcolor": "#E5ECF6",
           "showlakes": true,
           "showland": true,
           "subunitcolor": "white"
          },
          "hoverlabel": {
           "align": "left"
          },
          "hovermode": "closest",
          "mapbox": {
           "style": "light"
          },
          "paper_bgcolor": "white",
          "plot_bgcolor": "#E5ECF6",
          "polar": {
           "angularaxis": {
            "gridcolor": "white",
            "linecolor": "white",
            "ticks": ""
           },
           "bgcolor": "#E5ECF6",
           "radialaxis": {
            "gridcolor": "white",
            "linecolor": "white",
            "ticks": ""
           }
          },
          "scene": {
           "xaxis": {
            "backgroundcolor": "#E5ECF6",
            "gridcolor": "white",
            "gridwidth": 2,
            "linecolor": "white",
            "showbackground": true,
            "ticks": "",
            "zerolinecolor": "white"
           },
           "yaxis": {
            "backgroundcolor": "#E5ECF6",
            "gridcolor": "white",
            "gridwidth": 2,
            "linecolor": "white",
            "showbackground": true,
            "ticks": "",
            "zerolinecolor": "white"
           },
           "zaxis": {
            "backgroundcolor": "#E5ECF6",
            "gridcolor": "white",
            "gridwidth": 2,
            "linecolor": "white",
            "showbackground": true,
            "ticks": "",
            "zerolinecolor": "white"
           }
          },
          "shapedefaults": {
           "line": {
            "color": "#2a3f5f"
           }
          },
          "ternary": {
           "aaxis": {
            "gridcolor": "white",
            "linecolor": "white",
            "ticks": ""
           },
           "baxis": {
            "gridcolor": "white",
            "linecolor": "white",
            "ticks": ""
           },
           "bgcolor": "#E5ECF6",
           "caxis": {
            "gridcolor": "white",
            "linecolor": "white",
            "ticks": ""
           }
          },
          "title": {
           "x": 0.05
          },
          "xaxis": {
           "automargin": true,
           "gridcolor": "white",
           "linecolor": "white",
           "ticks": "",
           "title": {
            "standoff": 15
           },
           "zerolinecolor": "white",
           "zerolinewidth": 2
          },
          "yaxis": {
           "automargin": true,
           "gridcolor": "white",
           "linecolor": "white",
           "ticks": "",
           "title": {
            "standoff": 15
           },
           "zerolinecolor": "white",
           "zerolinewidth": 2
          }
         }
        },
        "title": {
         "text": "Optimization History Plot"
        },
        "xaxis": {
         "title": {
          "text": "Trial"
         }
        },
        "yaxis": {
         "title": {
          "text": "Objective Value"
         }
        }
       }
      }
     },
     "metadata": {},
     "output_type": "display_data"
    }
   ],
   "source": [
    "from optuna.visualization import plot_optimization_history\n",
    "\n",
    "fig = plot_optimization_history(study)\n",
    "fig.show()"
   ]
  },
  {
   "cell_type": "markdown",
   "metadata": {},
   "source": [
    "**Plot Hyperparameter Importance**\n",
    "\n",
    "This plot estimates the relative importance of each hyperparameter based on how they affect the objective function."
   ]
  },
  {
   "cell_type": "code",
   "execution_count": 4,
   "metadata": {},
   "outputs": [
    {
     "data": {
      "application/vnd.plotly.v1+json": {
       "config": {
        "plotlyServerURL": "https://plot.ly"
       },
       "data": [
        {
         "cliponaxis": false,
         "hovertemplate": [
          "batch_size (CategoricalDistribution): 0.030775870981571<extra></extra>",
          "buffer_size (IntDistribution): 0.03953423227778932<extra></extra>",
          "tau (FloatDistribution): 0.08812286748314664<extra></extra>",
          "gamma (FloatDistribution): 0.15946240530127873<extra></extra>",
          "noise_std (FloatDistribution): 0.18032063613506527<extra></extra>",
          "learning_rate (FloatDistribution): 0.501783987821149<extra></extra>"
         ],
         "name": "Objective Value",
         "orientation": "h",
         "text": [
          "0.03",
          "0.04",
          "0.09",
          "0.16",
          "0.18",
          "0.50"
         ],
         "textposition": "outside",
         "type": "bar",
         "x": [
          0.030775870981571,
          0.03953423227778932,
          0.08812286748314664,
          0.15946240530127873,
          0.18032063613506527,
          0.501783987821149
         ],
         "y": [
          "batch_size",
          "buffer_size",
          "tau",
          "gamma",
          "noise_std",
          "learning_rate"
         ]
        }
       ],
       "layout": {
        "template": {
         "data": {
          "bar": [
           {
            "error_x": {
             "color": "#2a3f5f"
            },
            "error_y": {
             "color": "#2a3f5f"
            },
            "marker": {
             "line": {
              "color": "#E5ECF6",
              "width": 0.5
             },
             "pattern": {
              "fillmode": "overlay",
              "size": 10,
              "solidity": 0.2
             }
            },
            "type": "bar"
           }
          ],
          "barpolar": [
           {
            "marker": {
             "line": {
              "color": "#E5ECF6",
              "width": 0.5
             },
             "pattern": {
              "fillmode": "overlay",
              "size": 10,
              "solidity": 0.2
             }
            },
            "type": "barpolar"
           }
          ],
          "carpet": [
           {
            "aaxis": {
             "endlinecolor": "#2a3f5f",
             "gridcolor": "white",
             "linecolor": "white",
             "minorgridcolor": "white",
             "startlinecolor": "#2a3f5f"
            },
            "baxis": {
             "endlinecolor": "#2a3f5f",
             "gridcolor": "white",
             "linecolor": "white",
             "minorgridcolor": "white",
             "startlinecolor": "#2a3f5f"
            },
            "type": "carpet"
           }
          ],
          "choropleth": [
           {
            "colorbar": {
             "outlinewidth": 0,
             "ticks": ""
            },
            "type": "choropleth"
           }
          ],
          "contour": [
           {
            "colorbar": {
             "outlinewidth": 0,
             "ticks": ""
            },
            "colorscale": [
             [
              0,
              "#0d0887"
             ],
             [
              0.1111111111111111,
              "#46039f"
             ],
             [
              0.2222222222222222,
              "#7201a8"
             ],
             [
              0.3333333333333333,
              "#9c179e"
             ],
             [
              0.4444444444444444,
              "#bd3786"
             ],
             [
              0.5555555555555556,
              "#d8576b"
             ],
             [
              0.6666666666666666,
              "#ed7953"
             ],
             [
              0.7777777777777778,
              "#fb9f3a"
             ],
             [
              0.8888888888888888,
              "#fdca26"
             ],
             [
              1,
              "#f0f921"
             ]
            ],
            "type": "contour"
           }
          ],
          "contourcarpet": [
           {
            "colorbar": {
             "outlinewidth": 0,
             "ticks": ""
            },
            "type": "contourcarpet"
           }
          ],
          "heatmap": [
           {
            "colorbar": {
             "outlinewidth": 0,
             "ticks": ""
            },
            "colorscale": [
             [
              0,
              "#0d0887"
             ],
             [
              0.1111111111111111,
              "#46039f"
             ],
             [
              0.2222222222222222,
              "#7201a8"
             ],
             [
              0.3333333333333333,
              "#9c179e"
             ],
             [
              0.4444444444444444,
              "#bd3786"
             ],
             [
              0.5555555555555556,
              "#d8576b"
             ],
             [
              0.6666666666666666,
              "#ed7953"
             ],
             [
              0.7777777777777778,
              "#fb9f3a"
             ],
             [
              0.8888888888888888,
              "#fdca26"
             ],
             [
              1,
              "#f0f921"
             ]
            ],
            "type": "heatmap"
           }
          ],
          "heatmapgl": [
           {
            "colorbar": {
             "outlinewidth": 0,
             "ticks": ""
            },
            "colorscale": [
             [
              0,
              "#0d0887"
             ],
             [
              0.1111111111111111,
              "#46039f"
             ],
             [
              0.2222222222222222,
              "#7201a8"
             ],
             [
              0.3333333333333333,
              "#9c179e"
             ],
             [
              0.4444444444444444,
              "#bd3786"
             ],
             [
              0.5555555555555556,
              "#d8576b"
             ],
             [
              0.6666666666666666,
              "#ed7953"
             ],
             [
              0.7777777777777778,
              "#fb9f3a"
             ],
             [
              0.8888888888888888,
              "#fdca26"
             ],
             [
              1,
              "#f0f921"
             ]
            ],
            "type": "heatmapgl"
           }
          ],
          "histogram": [
           {
            "marker": {
             "pattern": {
              "fillmode": "overlay",
              "size": 10,
              "solidity": 0.2
             }
            },
            "type": "histogram"
           }
          ],
          "histogram2d": [
           {
            "colorbar": {
             "outlinewidth": 0,
             "ticks": ""
            },
            "colorscale": [
             [
              0,
              "#0d0887"
             ],
             [
              0.1111111111111111,
              "#46039f"
             ],
             [
              0.2222222222222222,
              "#7201a8"
             ],
             [
              0.3333333333333333,
              "#9c179e"
             ],
             [
              0.4444444444444444,
              "#bd3786"
             ],
             [
              0.5555555555555556,
              "#d8576b"
             ],
             [
              0.6666666666666666,
              "#ed7953"
             ],
             [
              0.7777777777777778,
              "#fb9f3a"
             ],
             [
              0.8888888888888888,
              "#fdca26"
             ],
             [
              1,
              "#f0f921"
             ]
            ],
            "type": "histogram2d"
           }
          ],
          "histogram2dcontour": [
           {
            "colorbar": {
             "outlinewidth": 0,
             "ticks": ""
            },
            "colorscale": [
             [
              0,
              "#0d0887"
             ],
             [
              0.1111111111111111,
              "#46039f"
             ],
             [
              0.2222222222222222,
              "#7201a8"
             ],
             [
              0.3333333333333333,
              "#9c179e"
             ],
             [
              0.4444444444444444,
              "#bd3786"
             ],
             [
              0.5555555555555556,
              "#d8576b"
             ],
             [
              0.6666666666666666,
              "#ed7953"
             ],
             [
              0.7777777777777778,
              "#fb9f3a"
             ],
             [
              0.8888888888888888,
              "#fdca26"
             ],
             [
              1,
              "#f0f921"
             ]
            ],
            "type": "histogram2dcontour"
           }
          ],
          "mesh3d": [
           {
            "colorbar": {
             "outlinewidth": 0,
             "ticks": ""
            },
            "type": "mesh3d"
           }
          ],
          "parcoords": [
           {
            "line": {
             "colorbar": {
              "outlinewidth": 0,
              "ticks": ""
             }
            },
            "type": "parcoords"
           }
          ],
          "pie": [
           {
            "automargin": true,
            "type": "pie"
           }
          ],
          "scatter": [
           {
            "fillpattern": {
             "fillmode": "overlay",
             "size": 10,
             "solidity": 0.2
            },
            "type": "scatter"
           }
          ],
          "scatter3d": [
           {
            "line": {
             "colorbar": {
              "outlinewidth": 0,
              "ticks": ""
             }
            },
            "marker": {
             "colorbar": {
              "outlinewidth": 0,
              "ticks": ""
             }
            },
            "type": "scatter3d"
           }
          ],
          "scattercarpet": [
           {
            "marker": {
             "colorbar": {
              "outlinewidth": 0,
              "ticks": ""
             }
            },
            "type": "scattercarpet"
           }
          ],
          "scattergeo": [
           {
            "marker": {
             "colorbar": {
              "outlinewidth": 0,
              "ticks": ""
             }
            },
            "type": "scattergeo"
           }
          ],
          "scattergl": [
           {
            "marker": {
             "colorbar": {
              "outlinewidth": 0,
              "ticks": ""
             }
            },
            "type": "scattergl"
           }
          ],
          "scattermapbox": [
           {
            "marker": {
             "colorbar": {
              "outlinewidth": 0,
              "ticks": ""
             }
            },
            "type": "scattermapbox"
           }
          ],
          "scatterpolar": [
           {
            "marker": {
             "colorbar": {
              "outlinewidth": 0,
              "ticks": ""
             }
            },
            "type": "scatterpolar"
           }
          ],
          "scatterpolargl": [
           {
            "marker": {
             "colorbar": {
              "outlinewidth": 0,
              "ticks": ""
             }
            },
            "type": "scatterpolargl"
           }
          ],
          "scatterternary": [
           {
            "marker": {
             "colorbar": {
              "outlinewidth": 0,
              "ticks": ""
             }
            },
            "type": "scatterternary"
           }
          ],
          "surface": [
           {
            "colorbar": {
             "outlinewidth": 0,
             "ticks": ""
            },
            "colorscale": [
             [
              0,
              "#0d0887"
             ],
             [
              0.1111111111111111,
              "#46039f"
             ],
             [
              0.2222222222222222,
              "#7201a8"
             ],
             [
              0.3333333333333333,
              "#9c179e"
             ],
             [
              0.4444444444444444,
              "#bd3786"
             ],
             [
              0.5555555555555556,
              "#d8576b"
             ],
             [
              0.6666666666666666,
              "#ed7953"
             ],
             [
              0.7777777777777778,
              "#fb9f3a"
             ],
             [
              0.8888888888888888,
              "#fdca26"
             ],
             [
              1,
              "#f0f921"
             ]
            ],
            "type": "surface"
           }
          ],
          "table": [
           {
            "cells": {
             "fill": {
              "color": "#EBF0F8"
             },
             "line": {
              "color": "white"
             }
            },
            "header": {
             "fill": {
              "color": "#C8D4E3"
             },
             "line": {
              "color": "white"
             }
            },
            "type": "table"
           }
          ]
         },
         "layout": {
          "annotationdefaults": {
           "arrowcolor": "#2a3f5f",
           "arrowhead": 0,
           "arrowwidth": 1
          },
          "autotypenumbers": "strict",
          "coloraxis": {
           "colorbar": {
            "outlinewidth": 0,
            "ticks": ""
           }
          },
          "colorscale": {
           "diverging": [
            [
             0,
             "#8e0152"
            ],
            [
             0.1,
             "#c51b7d"
            ],
            [
             0.2,
             "#de77ae"
            ],
            [
             0.3,
             "#f1b6da"
            ],
            [
             0.4,
             "#fde0ef"
            ],
            [
             0.5,
             "#f7f7f7"
            ],
            [
             0.6,
             "#e6f5d0"
            ],
            [
             0.7,
             "#b8e186"
            ],
            [
             0.8,
             "#7fbc41"
            ],
            [
             0.9,
             "#4d9221"
            ],
            [
             1,
             "#276419"
            ]
           ],
           "sequential": [
            [
             0,
             "#0d0887"
            ],
            [
             0.1111111111111111,
             "#46039f"
            ],
            [
             0.2222222222222222,
             "#7201a8"
            ],
            [
             0.3333333333333333,
             "#9c179e"
            ],
            [
             0.4444444444444444,
             "#bd3786"
            ],
            [
             0.5555555555555556,
             "#d8576b"
            ],
            [
             0.6666666666666666,
             "#ed7953"
            ],
            [
             0.7777777777777778,
             "#fb9f3a"
            ],
            [
             0.8888888888888888,
             "#fdca26"
            ],
            [
             1,
             "#f0f921"
            ]
           ],
           "sequentialminus": [
            [
             0,
             "#0d0887"
            ],
            [
             0.1111111111111111,
             "#46039f"
            ],
            [
             0.2222222222222222,
             "#7201a8"
            ],
            [
             0.3333333333333333,
             "#9c179e"
            ],
            [
             0.4444444444444444,
             "#bd3786"
            ],
            [
             0.5555555555555556,
             "#d8576b"
            ],
            [
             0.6666666666666666,
             "#ed7953"
            ],
            [
             0.7777777777777778,
             "#fb9f3a"
            ],
            [
             0.8888888888888888,
             "#fdca26"
            ],
            [
             1,
             "#f0f921"
            ]
           ]
          },
          "colorway": [
           "#636efa",
           "#EF553B",
           "#00cc96",
           "#ab63fa",
           "#FFA15A",
           "#19d3f3",
           "#FF6692",
           "#B6E880",
           "#FF97FF",
           "#FECB52"
          ],
          "font": {
           "color": "#2a3f5f"
          },
          "geo": {
           "bgcolor": "white",
           "lakecolor": "white",
           "landcolor": "#E5ECF6",
           "showlakes": true,
           "showland": true,
           "subunitcolor": "white"
          },
          "hoverlabel": {
           "align": "left"
          },
          "hovermode": "closest",
          "mapbox": {
           "style": "light"
          },
          "paper_bgcolor": "white",
          "plot_bgcolor": "#E5ECF6",
          "polar": {
           "angularaxis": {
            "gridcolor": "white",
            "linecolor": "white",
            "ticks": ""
           },
           "bgcolor": "#E5ECF6",
           "radialaxis": {
            "gridcolor": "white",
            "linecolor": "white",
            "ticks": ""
           }
          },
          "scene": {
           "xaxis": {
            "backgroundcolor": "#E5ECF6",
            "gridcolor": "white",
            "gridwidth": 2,
            "linecolor": "white",
            "showbackground": true,
            "ticks": "",
            "zerolinecolor": "white"
           },
           "yaxis": {
            "backgroundcolor": "#E5ECF6",
            "gridcolor": "white",
            "gridwidth": 2,
            "linecolor": "white",
            "showbackground": true,
            "ticks": "",
            "zerolinecolor": "white"
           },
           "zaxis": {
            "backgroundcolor": "#E5ECF6",
            "gridcolor": "white",
            "gridwidth": 2,
            "linecolor": "white",
            "showbackground": true,
            "ticks": "",
            "zerolinecolor": "white"
           }
          },
          "shapedefaults": {
           "line": {
            "color": "#2a3f5f"
           }
          },
          "ternary": {
           "aaxis": {
            "gridcolor": "white",
            "linecolor": "white",
            "ticks": ""
           },
           "baxis": {
            "gridcolor": "white",
            "linecolor": "white",
            "ticks": ""
           },
           "bgcolor": "#E5ECF6",
           "caxis": {
            "gridcolor": "white",
            "linecolor": "white",
            "ticks": ""
           }
          },
          "title": {
           "x": 0.05
          },
          "xaxis": {
           "automargin": true,
           "gridcolor": "white",
           "linecolor": "white",
           "ticks": "",
           "title": {
            "standoff": 15
           },
           "zerolinecolor": "white",
           "zerolinewidth": 2
          },
          "yaxis": {
           "automargin": true,
           "gridcolor": "white",
           "linecolor": "white",
           "ticks": "",
           "title": {
            "standoff": 15
           },
           "zerolinecolor": "white",
           "zerolinewidth": 2
          }
         }
        },
        "title": {
         "text": "Hyperparameter Importances"
        },
        "xaxis": {
         "title": {
          "text": "Hyperparameter Importance"
         }
        },
        "yaxis": {
         "title": {
          "text": "Hyperparameter"
         }
        }
       }
      }
     },
     "metadata": {},
     "output_type": "display_data"
    }
   ],
   "source": [
    "from optuna.visualization import plot_param_importances\n",
    "\n",
    "fig = plot_param_importances(study)\n",
    "fig.show()"
   ]
  },
  {
   "cell_type": "markdown",
   "metadata": {},
   "source": [
    "**Parallel Coordinate Plot**\n",
    "\n",
    "This plot helps visualize the relationships between hyperparameters and the objective value. It’s useful for spotting trends or correlations."
   ]
  },
  {
   "cell_type": "code",
   "execution_count": 5,
   "metadata": {},
   "outputs": [
    {
     "data": {
      "application/vnd.plotly.v1+json": {
       "config": {
        "plotlyServerURL": "https://plot.ly"
       },
       "data": [
        {
         "dimensions": [
          {
           "label": "Objective Value",
           "range": [
            -19807164.772000004,
            -50682.386000000006
           ],
           "values": [
            -57037.62999999999,
            -55168.012,
            -57185.664000000004,
            -55592.636,
            -56978.46800000001,
            -55144.46,
            -56055.846,
            -56952.996,
            -55981.33999999999,
            -56538.89200000001,
            -50682.386000000006,
            -19807164.772000004,
            -56822.038,
            -56492.34000000001,
            -57591.476,
            -57631.78400000001,
            -54697.085999999996,
            -56958.224,
            -57882.712,
            -56271.886,
            -56057.909999999996,
            -55051.342000000004,
            -56008.922,
            -57628.757999999994,
            -55503.768000000004
           ]
          },
          {
           "label": "batch_size",
           "range": [
            0,
            3
           ],
           "ticktext": [
            "32",
            "64",
            "128",
            "256"
           ],
           "tickvals": [
            0,
            1,
            2,
            3
           ],
           "values": [
            0,
            0,
            0,
            0,
            0,
            1,
            1,
            1,
            1,
            1,
            1,
            1,
            1,
            1,
            1,
            2,
            2,
            2,
            2,
            2,
            2,
            2,
            3,
            3,
            3
           ]
          },
          {
           "label": "buffer_size",
           "range": [
            50000,
            1000000
           ],
           "values": [
            200000,
            150000,
            400000,
            350000,
            250000,
            300000,
            300000,
            250000,
            50000,
            300000,
            350000,
            200000,
            350000,
            300000,
            250000,
            100000,
            250000,
            500000,
            500000,
            200000,
            450000,
            400000,
            1000000,
            400000,
            350000
           ]
          },
          {
           "label": "gamma",
           "range": [
            0.9015332924589152,
            0.9977640402487132
           ],
           "values": [
            0.9235802548081983,
            0.9672812275108122,
            0.9135549843660378,
            0.9621466953758586,
            0.92885650612723,
            0.944717636907831,
            0.9425865440966986,
            0.9528706435979579,
            0.9744324353443722,
            0.9524456507336426,
            0.9041181747731538,
            0.9344907511949925,
            0.9132761126176273,
            0.962212074959442,
            0.9407264655316708,
            0.9267518483044083,
            0.9551137737400753,
            0.9942072840510408,
            0.9432979930735299,
            0.9788684016478556,
            0.9023110447959488,
            0.9184950584749083,
            0.99,
            0.9977640402487132,
            0.9015332924589152
           ]
          },
          {
           "label": "learning_rate",
           "range": [
            -4.932418011567503,
            -3
           ],
           "ticktext": [
            "1.17e-05",
            "0.0001",
            "0.001"
           ],
           "tickvals": [
            -4.932418011567503,
            -4,
            -3
           ],
           "values": [
            -4.93088028265195,
            -3.8131278127892765,
            -3.979971781685128,
            -3.997289261564526,
            -3.430260907270684,
            -4.496374464664139,
            -4.5305653352968545,
            -4.5221599403348325,
            -4.522536518212393,
            -4.424161915459601,
            -4.250896515303208,
            -3.2547786502562235,
            -4.343802595405846,
            -4.71306996142144,
            -4.296877596716497,
            -4.15636704164432,
            -4.140916306655224,
            -4.191088995366439,
            -3.6576323217951208,
            -4.733824946378748,
            -3.586825802017901,
            -3.8761216388844453,
            -3,
            -4.932418011567503,
            -4.207236867664455
           ]
          },
          {
           "label": "noise_std",
           "range": [
            0.1,
            0.49355086769746864
           ],
           "values": [
            0.3089102531195254,
            0.2336509516388875,
            0.1846254107627201,
            0.43377033478622673,
            0.1654154641690807,
            0.38142026193522827,
            0.3944172007358767,
            0.3685526207563853,
            0.35253555109892754,
            0.29982729752599724,
            0.3384563312235688,
            0.44451684148788306,
            0.3872212330741873,
            0.33230321497675425,
            0.25999463686631985,
            0.29520782619802766,
            0.3626713081468701,
            0.4761675059645748,
            0.49355086769746864,
            0.41240050168747416,
            0.25223977462615943,
            0.37760012541074667,
            0.1,
            0.1824965480742499,
            0.33570162160966355
           ]
          },
          {
           "label": "tau",
           "range": [
            -2.9470180376488027,
            -1.0264466334825797
           ],
           "ticktext": [
            "0.00113",
            "0.01",
            "0.0941"
           ],
           "tickvals": [
            -2.9470180376488027,
            -2,
            -1.0264466334825797
           ],
           "values": [
            -1.9401408900338197,
            -1.7077381222909334,
            -1.1205802518455195,
            -1.0264466334825797,
            -2.581532954069916,
            -1.599690972667513,
            -1.5821718520046215,
            -1.5899727517722761,
            -1.8862577710985633,
            -2.411641782149354,
            -2.089836733877058,
            -2.4679457050544436,
            -1.7391536278139148,
            -2.075947973801423,
            -1.8792908637653984,
            -2.9470180376488027,
            -2.113488176564329,
            -1.0728921823959592,
            -1.391588050529887,
            -1.3642579787326667,
            -2.677256695519958,
            -2.1599462157327802,
            -2.3010299956639813,
            -2.175555538619405,
            -2.1053363473627553
           ]
          }
         ],
         "labelangle": 30,
         "labelside": "bottom",
         "line": {
          "color": [
           -57037.62999999999,
           -55168.012,
           -57185.664000000004,
           -55592.636,
           -56978.46800000001,
           -55144.46,
           -56055.846,
           -56952.996,
           -55981.33999999999,
           -56538.89200000001,
           -50682.386000000006,
           -19807164.772000004,
           -56822.038,
           -56492.34000000001,
           -57591.476,
           -57631.78400000001,
           -54697.085999999996,
           -56958.224,
           -57882.712,
           -56271.886,
           -56057.909999999996,
           -55051.342000000004,
           -56008.922,
           -57628.757999999994,
           -55503.768000000004
          ],
          "colorbar": {
           "title": {
            "text": "Objective Value"
           }
          },
          "colorscale": [
           [
            0,
            "rgb(247,251,255)"
           ],
           [
            0.125,
            "rgb(222,235,247)"
           ],
           [
            0.25,
            "rgb(198,219,239)"
           ],
           [
            0.375,
            "rgb(158,202,225)"
           ],
           [
            0.5,
            "rgb(107,174,214)"
           ],
           [
            0.625,
            "rgb(66,146,198)"
           ],
           [
            0.75,
            "rgb(33,113,181)"
           ],
           [
            0.875,
            "rgb(8,81,156)"
           ],
           [
            1,
            "rgb(8,48,107)"
           ]
          ],
          "reversescale": false,
          "showscale": true
         },
         "type": "parcoords"
        }
       ],
       "layout": {
        "template": {
         "data": {
          "bar": [
           {
            "error_x": {
             "color": "#2a3f5f"
            },
            "error_y": {
             "color": "#2a3f5f"
            },
            "marker": {
             "line": {
              "color": "#E5ECF6",
              "width": 0.5
             },
             "pattern": {
              "fillmode": "overlay",
              "size": 10,
              "solidity": 0.2
             }
            },
            "type": "bar"
           }
          ],
          "barpolar": [
           {
            "marker": {
             "line": {
              "color": "#E5ECF6",
              "width": 0.5
             },
             "pattern": {
              "fillmode": "overlay",
              "size": 10,
              "solidity": 0.2
             }
            },
            "type": "barpolar"
           }
          ],
          "carpet": [
           {
            "aaxis": {
             "endlinecolor": "#2a3f5f",
             "gridcolor": "white",
             "linecolor": "white",
             "minorgridcolor": "white",
             "startlinecolor": "#2a3f5f"
            },
            "baxis": {
             "endlinecolor": "#2a3f5f",
             "gridcolor": "white",
             "linecolor": "white",
             "minorgridcolor": "white",
             "startlinecolor": "#2a3f5f"
            },
            "type": "carpet"
           }
          ],
          "choropleth": [
           {
            "colorbar": {
             "outlinewidth": 0,
             "ticks": ""
            },
            "type": "choropleth"
           }
          ],
          "contour": [
           {
            "colorbar": {
             "outlinewidth": 0,
             "ticks": ""
            },
            "colorscale": [
             [
              0,
              "#0d0887"
             ],
             [
              0.1111111111111111,
              "#46039f"
             ],
             [
              0.2222222222222222,
              "#7201a8"
             ],
             [
              0.3333333333333333,
              "#9c179e"
             ],
             [
              0.4444444444444444,
              "#bd3786"
             ],
             [
              0.5555555555555556,
              "#d8576b"
             ],
             [
              0.6666666666666666,
              "#ed7953"
             ],
             [
              0.7777777777777778,
              "#fb9f3a"
             ],
             [
              0.8888888888888888,
              "#fdca26"
             ],
             [
              1,
              "#f0f921"
             ]
            ],
            "type": "contour"
           }
          ],
          "contourcarpet": [
           {
            "colorbar": {
             "outlinewidth": 0,
             "ticks": ""
            },
            "type": "contourcarpet"
           }
          ],
          "heatmap": [
           {
            "colorbar": {
             "outlinewidth": 0,
             "ticks": ""
            },
            "colorscale": [
             [
              0,
              "#0d0887"
             ],
             [
              0.1111111111111111,
              "#46039f"
             ],
             [
              0.2222222222222222,
              "#7201a8"
             ],
             [
              0.3333333333333333,
              "#9c179e"
             ],
             [
              0.4444444444444444,
              "#bd3786"
             ],
             [
              0.5555555555555556,
              "#d8576b"
             ],
             [
              0.6666666666666666,
              "#ed7953"
             ],
             [
              0.7777777777777778,
              "#fb9f3a"
             ],
             [
              0.8888888888888888,
              "#fdca26"
             ],
             [
              1,
              "#f0f921"
             ]
            ],
            "type": "heatmap"
           }
          ],
          "heatmapgl": [
           {
            "colorbar": {
             "outlinewidth": 0,
             "ticks": ""
            },
            "colorscale": [
             [
              0,
              "#0d0887"
             ],
             [
              0.1111111111111111,
              "#46039f"
             ],
             [
              0.2222222222222222,
              "#7201a8"
             ],
             [
              0.3333333333333333,
              "#9c179e"
             ],
             [
              0.4444444444444444,
              "#bd3786"
             ],
             [
              0.5555555555555556,
              "#d8576b"
             ],
             [
              0.6666666666666666,
              "#ed7953"
             ],
             [
              0.7777777777777778,
              "#fb9f3a"
             ],
             [
              0.8888888888888888,
              "#fdca26"
             ],
             [
              1,
              "#f0f921"
             ]
            ],
            "type": "heatmapgl"
           }
          ],
          "histogram": [
           {
            "marker": {
             "pattern": {
              "fillmode": "overlay",
              "size": 10,
              "solidity": 0.2
             }
            },
            "type": "histogram"
           }
          ],
          "histogram2d": [
           {
            "colorbar": {
             "outlinewidth": 0,
             "ticks": ""
            },
            "colorscale": [
             [
              0,
              "#0d0887"
             ],
             [
              0.1111111111111111,
              "#46039f"
             ],
             [
              0.2222222222222222,
              "#7201a8"
             ],
             [
              0.3333333333333333,
              "#9c179e"
             ],
             [
              0.4444444444444444,
              "#bd3786"
             ],
             [
              0.5555555555555556,
              "#d8576b"
             ],
             [
              0.6666666666666666,
              "#ed7953"
             ],
             [
              0.7777777777777778,
              "#fb9f3a"
             ],
             [
              0.8888888888888888,
              "#fdca26"
             ],
             [
              1,
              "#f0f921"
             ]
            ],
            "type": "histogram2d"
           }
          ],
          "histogram2dcontour": [
           {
            "colorbar": {
             "outlinewidth": 0,
             "ticks": ""
            },
            "colorscale": [
             [
              0,
              "#0d0887"
             ],
             [
              0.1111111111111111,
              "#46039f"
             ],
             [
              0.2222222222222222,
              "#7201a8"
             ],
             [
              0.3333333333333333,
              "#9c179e"
             ],
             [
              0.4444444444444444,
              "#bd3786"
             ],
             [
              0.5555555555555556,
              "#d8576b"
             ],
             [
              0.6666666666666666,
              "#ed7953"
             ],
             [
              0.7777777777777778,
              "#fb9f3a"
             ],
             [
              0.8888888888888888,
              "#fdca26"
             ],
             [
              1,
              "#f0f921"
             ]
            ],
            "type": "histogram2dcontour"
           }
          ],
          "mesh3d": [
           {
            "colorbar": {
             "outlinewidth": 0,
             "ticks": ""
            },
            "type": "mesh3d"
           }
          ],
          "parcoords": [
           {
            "line": {
             "colorbar": {
              "outlinewidth": 0,
              "ticks": ""
             }
            },
            "type": "parcoords"
           }
          ],
          "pie": [
           {
            "automargin": true,
            "type": "pie"
           }
          ],
          "scatter": [
           {
            "fillpattern": {
             "fillmode": "overlay",
             "size": 10,
             "solidity": 0.2
            },
            "type": "scatter"
           }
          ],
          "scatter3d": [
           {
            "line": {
             "colorbar": {
              "outlinewidth": 0,
              "ticks": ""
             }
            },
            "marker": {
             "colorbar": {
              "outlinewidth": 0,
              "ticks": ""
             }
            },
            "type": "scatter3d"
           }
          ],
          "scattercarpet": [
           {
            "marker": {
             "colorbar": {
              "outlinewidth": 0,
              "ticks": ""
             }
            },
            "type": "scattercarpet"
           }
          ],
          "scattergeo": [
           {
            "marker": {
             "colorbar": {
              "outlinewidth": 0,
              "ticks": ""
             }
            },
            "type": "scattergeo"
           }
          ],
          "scattergl": [
           {
            "marker": {
             "colorbar": {
              "outlinewidth": 0,
              "ticks": ""
             }
            },
            "type": "scattergl"
           }
          ],
          "scattermapbox": [
           {
            "marker": {
             "colorbar": {
              "outlinewidth": 0,
              "ticks": ""
             }
            },
            "type": "scattermapbox"
           }
          ],
          "scatterpolar": [
           {
            "marker": {
             "colorbar": {
              "outlinewidth": 0,
              "ticks": ""
             }
            },
            "type": "scatterpolar"
           }
          ],
          "scatterpolargl": [
           {
            "marker": {
             "colorbar": {
              "outlinewidth": 0,
              "ticks": ""
             }
            },
            "type": "scatterpolargl"
           }
          ],
          "scatterternary": [
           {
            "marker": {
             "colorbar": {
              "outlinewidth": 0,
              "ticks": ""
             }
            },
            "type": "scatterternary"
           }
          ],
          "surface": [
           {
            "colorbar": {
             "outlinewidth": 0,
             "ticks": ""
            },
            "colorscale": [
             [
              0,
              "#0d0887"
             ],
             [
              0.1111111111111111,
              "#46039f"
             ],
             [
              0.2222222222222222,
              "#7201a8"
             ],
             [
              0.3333333333333333,
              "#9c179e"
             ],
             [
              0.4444444444444444,
              "#bd3786"
             ],
             [
              0.5555555555555556,
              "#d8576b"
             ],
             [
              0.6666666666666666,
              "#ed7953"
             ],
             [
              0.7777777777777778,
              "#fb9f3a"
             ],
             [
              0.8888888888888888,
              "#fdca26"
             ],
             [
              1,
              "#f0f921"
             ]
            ],
            "type": "surface"
           }
          ],
          "table": [
           {
            "cells": {
             "fill": {
              "color": "#EBF0F8"
             },
             "line": {
              "color": "white"
             }
            },
            "header": {
             "fill": {
              "color": "#C8D4E3"
             },
             "line": {
              "color": "white"
             }
            },
            "type": "table"
           }
          ]
         },
         "layout": {
          "annotationdefaults": {
           "arrowcolor": "#2a3f5f",
           "arrowhead": 0,
           "arrowwidth": 1
          },
          "autotypenumbers": "strict",
          "coloraxis": {
           "colorbar": {
            "outlinewidth": 0,
            "ticks": ""
           }
          },
          "colorscale": {
           "diverging": [
            [
             0,
             "#8e0152"
            ],
            [
             0.1,
             "#c51b7d"
            ],
            [
             0.2,
             "#de77ae"
            ],
            [
             0.3,
             "#f1b6da"
            ],
            [
             0.4,
             "#fde0ef"
            ],
            [
             0.5,
             "#f7f7f7"
            ],
            [
             0.6,
             "#e6f5d0"
            ],
            [
             0.7,
             "#b8e186"
            ],
            [
             0.8,
             "#7fbc41"
            ],
            [
             0.9,
             "#4d9221"
            ],
            [
             1,
             "#276419"
            ]
           ],
           "sequential": [
            [
             0,
             "#0d0887"
            ],
            [
             0.1111111111111111,
             "#46039f"
            ],
            [
             0.2222222222222222,
             "#7201a8"
            ],
            [
             0.3333333333333333,
             "#9c179e"
            ],
            [
             0.4444444444444444,
             "#bd3786"
            ],
            [
             0.5555555555555556,
             "#d8576b"
            ],
            [
             0.6666666666666666,
             "#ed7953"
            ],
            [
             0.7777777777777778,
             "#fb9f3a"
            ],
            [
             0.8888888888888888,
             "#fdca26"
            ],
            [
             1,
             "#f0f921"
            ]
           ],
           "sequentialminus": [
            [
             0,
             "#0d0887"
            ],
            [
             0.1111111111111111,
             "#46039f"
            ],
            [
             0.2222222222222222,
             "#7201a8"
            ],
            [
             0.3333333333333333,
             "#9c179e"
            ],
            [
             0.4444444444444444,
             "#bd3786"
            ],
            [
             0.5555555555555556,
             "#d8576b"
            ],
            [
             0.6666666666666666,
             "#ed7953"
            ],
            [
             0.7777777777777778,
             "#fb9f3a"
            ],
            [
             0.8888888888888888,
             "#fdca26"
            ],
            [
             1,
             "#f0f921"
            ]
           ]
          },
          "colorway": [
           "#636efa",
           "#EF553B",
           "#00cc96",
           "#ab63fa",
           "#FFA15A",
           "#19d3f3",
           "#FF6692",
           "#B6E880",
           "#FF97FF",
           "#FECB52"
          ],
          "font": {
           "color": "#2a3f5f"
          },
          "geo": {
           "bgcolor": "white",
           "lakecolor": "white",
           "landcolor": "#E5ECF6",
           "showlakes": true,
           "showland": true,
           "subunitcolor": "white"
          },
          "hoverlabel": {
           "align": "left"
          },
          "hovermode": "closest",
          "mapbox": {
           "style": "light"
          },
          "paper_bgcolor": "white",
          "plot_bgcolor": "#E5ECF6",
          "polar": {
           "angularaxis": {
            "gridcolor": "white",
            "linecolor": "white",
            "ticks": ""
           },
           "bgcolor": "#E5ECF6",
           "radialaxis": {
            "gridcolor": "white",
            "linecolor": "white",
            "ticks": ""
           }
          },
          "scene": {
           "xaxis": {
            "backgroundcolor": "#E5ECF6",
            "gridcolor": "white",
            "gridwidth": 2,
            "linecolor": "white",
            "showbackground": true,
            "ticks": "",
            "zerolinecolor": "white"
           },
           "yaxis": {
            "backgroundcolor": "#E5ECF6",
            "gridcolor": "white",
            "gridwidth": 2,
            "linecolor": "white",
            "showbackground": true,
            "ticks": "",
            "zerolinecolor": "white"
           },
           "zaxis": {
            "backgroundcolor": "#E5ECF6",
            "gridcolor": "white",
            "gridwidth": 2,
            "linecolor": "white",
            "showbackground": true,
            "ticks": "",
            "zerolinecolor": "white"
           }
          },
          "shapedefaults": {
           "line": {
            "color": "#2a3f5f"
           }
          },
          "ternary": {
           "aaxis": {
            "gridcolor": "white",
            "linecolor": "white",
            "ticks": ""
           },
           "baxis": {
            "gridcolor": "white",
            "linecolor": "white",
            "ticks": ""
           },
           "bgcolor": "#E5ECF6",
           "caxis": {
            "gridcolor": "white",
            "linecolor": "white",
            "ticks": ""
           }
          },
          "title": {
           "x": 0.05
          },
          "xaxis": {
           "automargin": true,
           "gridcolor": "white",
           "linecolor": "white",
           "ticks": "",
           "title": {
            "standoff": 15
           },
           "zerolinecolor": "white",
           "zerolinewidth": 2
          },
          "yaxis": {
           "automargin": true,
           "gridcolor": "white",
           "linecolor": "white",
           "ticks": "",
           "title": {
            "standoff": 15
           },
           "zerolinecolor": "white",
           "zerolinewidth": 2
          }
         }
        },
        "title": {
         "text": "Parallel Coordinate Plot"
        }
       }
      }
     },
     "metadata": {},
     "output_type": "display_data"
    }
   ],
   "source": [
    "from optuna.visualization import plot_parallel_coordinate\n",
    "\n",
    "fig = plot_parallel_coordinate(study)\n",
    "fig.show()"
   ]
  },
  {
   "cell_type": "markdown",
   "metadata": {},
   "source": [
    "**Slice Plot**\n",
    "\n",
    "This plot visualizes the objective value across the range of each hyperparameter, helping understand how each parameter influences the outcome."
   ]
  },
  {
   "cell_type": "code",
   "execution_count": 6,
   "metadata": {},
   "outputs": [
    {
     "data": {
      "application/vnd.plotly.v1+json": {
       "config": {
        "plotlyServerURL": "https://plot.ly"
       },
       "data": [
        {
         "marker": {
          "color": [
           0,
           1,
           2,
           3,
           4,
           5,
           6,
           7,
           8,
           9,
           10,
           11,
           12,
           13,
           14,
           15,
           16,
           17,
           18,
           19,
           20,
           21,
           22,
           23,
           24
          ],
          "colorbar": {
           "title": {
            "text": "Trial"
           },
           "x": 1,
           "xpad": 40
          },
          "colorscale": [
           [
            0,
            "rgb(247,251,255)"
           ],
           [
            0.125,
            "rgb(222,235,247)"
           ],
           [
            0.25,
            "rgb(198,219,239)"
           ],
           [
            0.375,
            "rgb(158,202,225)"
           ],
           [
            0.5,
            "rgb(107,174,214)"
           ],
           [
            0.625,
            "rgb(66,146,198)"
           ],
           [
            0.75,
            "rgb(33,113,181)"
           ],
           [
            0.875,
            "rgb(8,81,156)"
           ],
           [
            1,
            "rgb(8,48,107)"
           ]
          ],
          "line": {
           "color": "Grey",
           "width": 0.5
          },
          "showscale": true
         },
         "mode": "markers",
         "name": "Feasible Trial",
         "showlegend": false,
         "type": "scatter",
         "x": [
          256,
          128,
          32,
          32,
          32,
          128,
          32,
          128,
          256,
          32,
          64,
          64,
          64,
          64,
          128,
          64,
          128,
          64,
          128,
          256,
          64,
          64,
          64,
          64,
          128
         ],
         "xaxis": "x",
         "y": [
          -56008.922,
          -57631.78400000001,
          -57037.62999999999,
          -55168.012,
          -57185.664000000004,
          -54697.085999999996,
          -55592.636,
          -56958.224,
          -57628.757999999994,
          -56978.46800000001,
          -55144.46,
          -56055.846,
          -56952.996,
          -55981.33999999999,
          -57882.712,
          -56538.89200000001,
          -56271.886,
          -50682.386000000006,
          -56057.909999999996,
          -55503.768000000004,
          -19807164.772000004,
          -56822.038,
          -56492.34000000001,
          -57591.476,
          -55051.342000000004
         ],
         "yaxis": "y"
        },
        {
         "marker": {
          "color": [
           0,
           1,
           2,
           3,
           4,
           5,
           6,
           7,
           8,
           9,
           10,
           11,
           12,
           13,
           14,
           15,
           16,
           17,
           18,
           19,
           20,
           21,
           22,
           23,
           24
          ],
          "colorbar": {
           "title": {
            "text": "Trial"
           },
           "x": 1,
           "xpad": 40
          },
          "colorscale": [
           [
            0,
            "rgb(247,251,255)"
           ],
           [
            0.125,
            "rgb(222,235,247)"
           ],
           [
            0.25,
            "rgb(198,219,239)"
           ],
           [
            0.375,
            "rgb(158,202,225)"
           ],
           [
            0.5,
            "rgb(107,174,214)"
           ],
           [
            0.625,
            "rgb(66,146,198)"
           ],
           [
            0.75,
            "rgb(33,113,181)"
           ],
           [
            0.875,
            "rgb(8,81,156)"
           ],
           [
            1,
            "rgb(8,48,107)"
           ]
          ],
          "line": {
           "color": "Grey",
           "width": 0.5
          },
          "showscale": false
         },
         "mode": "markers",
         "name": "Feasible Trial",
         "showlegend": false,
         "type": "scatter",
         "x": [
          1000000,
          100000,
          200000,
          150000,
          400000,
          250000,
          350000,
          500000,
          400000,
          250000,
          300000,
          300000,
          250000,
          50000,
          500000,
          300000,
          200000,
          350000,
          450000,
          350000,
          200000,
          350000,
          300000,
          250000,
          400000
         ],
         "xaxis": "x2",
         "y": [
          -56008.922,
          -57631.78400000001,
          -57037.62999999999,
          -55168.012,
          -57185.664000000004,
          -54697.085999999996,
          -55592.636,
          -56958.224,
          -57628.757999999994,
          -56978.46800000001,
          -55144.46,
          -56055.846,
          -56952.996,
          -55981.33999999999,
          -57882.712,
          -56538.89200000001,
          -56271.886,
          -50682.386000000006,
          -56057.909999999996,
          -55503.768000000004,
          -19807164.772000004,
          -56822.038,
          -56492.34000000001,
          -57591.476,
          -55051.342000000004
         ],
         "yaxis": "y2"
        },
        {
         "marker": {
          "color": [
           0,
           1,
           2,
           3,
           4,
           5,
           6,
           7,
           8,
           9,
           10,
           11,
           12,
           13,
           14,
           15,
           16,
           17,
           18,
           19,
           20,
           21,
           22,
           23,
           24
          ],
          "colorbar": {
           "title": {
            "text": "Trial"
           },
           "x": 1,
           "xpad": 40
          },
          "colorscale": [
           [
            0,
            "rgb(247,251,255)"
           ],
           [
            0.125,
            "rgb(222,235,247)"
           ],
           [
            0.25,
            "rgb(198,219,239)"
           ],
           [
            0.375,
            "rgb(158,202,225)"
           ],
           [
            0.5,
            "rgb(107,174,214)"
           ],
           [
            0.625,
            "rgb(66,146,198)"
           ],
           [
            0.75,
            "rgb(33,113,181)"
           ],
           [
            0.875,
            "rgb(8,81,156)"
           ],
           [
            1,
            "rgb(8,48,107)"
           ]
          ],
          "line": {
           "color": "Grey",
           "width": 0.5
          },
          "showscale": false
         },
         "mode": "markers",
         "name": "Feasible Trial",
         "showlegend": false,
         "type": "scatter",
         "x": [
          0.99,
          0.9267518483044083,
          0.9235802548081983,
          0.9672812275108122,
          0.9135549843660378,
          0.9551137737400753,
          0.9621466953758586,
          0.9942072840510408,
          0.9977640402487132,
          0.92885650612723,
          0.944717636907831,
          0.9425865440966986,
          0.9528706435979579,
          0.9744324353443722,
          0.9432979930735299,
          0.9524456507336426,
          0.9788684016478556,
          0.9041181747731538,
          0.9023110447959488,
          0.9015332924589152,
          0.9344907511949925,
          0.9132761126176273,
          0.962212074959442,
          0.9407264655316708,
          0.9184950584749083
         ],
         "xaxis": "x3",
         "y": [
          -56008.922,
          -57631.78400000001,
          -57037.62999999999,
          -55168.012,
          -57185.664000000004,
          -54697.085999999996,
          -55592.636,
          -56958.224,
          -57628.757999999994,
          -56978.46800000001,
          -55144.46,
          -56055.846,
          -56952.996,
          -55981.33999999999,
          -57882.712,
          -56538.89200000001,
          -56271.886,
          -50682.386000000006,
          -56057.909999999996,
          -55503.768000000004,
          -19807164.772000004,
          -56822.038,
          -56492.34000000001,
          -57591.476,
          -55051.342000000004
         ],
         "yaxis": "y3"
        },
        {
         "marker": {
          "color": [
           0,
           1,
           2,
           3,
           4,
           5,
           6,
           7,
           8,
           9,
           10,
           11,
           12,
           13,
           14,
           15,
           16,
           17,
           18,
           19,
           20,
           21,
           22,
           23,
           24
          ],
          "colorbar": {
           "title": {
            "text": "Trial"
           },
           "x": 1,
           "xpad": 40
          },
          "colorscale": [
           [
            0,
            "rgb(247,251,255)"
           ],
           [
            0.125,
            "rgb(222,235,247)"
           ],
           [
            0.25,
            "rgb(198,219,239)"
           ],
           [
            0.375,
            "rgb(158,202,225)"
           ],
           [
            0.5,
            "rgb(107,174,214)"
           ],
           [
            0.625,
            "rgb(66,146,198)"
           ],
           [
            0.75,
            "rgb(33,113,181)"
           ],
           [
            0.875,
            "rgb(8,81,156)"
           ],
           [
            1,
            "rgb(8,48,107)"
           ]
          ],
          "line": {
           "color": "Grey",
           "width": 0.5
          },
          "showscale": false
         },
         "mode": "markers",
         "name": "Feasible Trial",
         "showlegend": false,
         "type": "scatter",
         "x": [
          0.001,
          0.00006976425460110442,
          0.000011725185367375389,
          0.00015377020282693002,
          0.0001047196587513247,
          0.00007229091027503433,
          0.00010062612259505235,
          0.0000644037276257185,
          0.00001168374280981023,
          0.0003713120921827322,
          0.000031887871798989554,
          0.000029473700406656617,
          0.00003004969440006251,
          0.000030023649525123333,
          0.00021997213915881885,
          0.000037656338089744616,
          0.000018457592502541072,
          0.00005611816797749212,
          0.00025892512702773,
          0.00006205304996490255,
          0.0005561876608894562,
          0.00004531034871593193,
          0.000019361100467397984,
          0.00005048035533561577,
          0.00013300818313200042
         ],
         "xaxis": "x4",
         "y": [
          -56008.922,
          -57631.78400000001,
          -57037.62999999999,
          -55168.012,
          -57185.664000000004,
          -54697.085999999996,
          -55592.636,
          -56958.224,
          -57628.757999999994,
          -56978.46800000001,
          -55144.46,
          -56055.846,
          -56952.996,
          -55981.33999999999,
          -57882.712,
          -56538.89200000001,
          -56271.886,
          -50682.386000000006,
          -56057.909999999996,
          -55503.768000000004,
          -19807164.772000004,
          -56822.038,
          -56492.34000000001,
          -57591.476,
          -55051.342000000004
         ],
         "yaxis": "y4"
        },
        {
         "marker": {
          "color": [
           0,
           1,
           2,
           3,
           4,
           5,
           6,
           7,
           8,
           9,
           10,
           11,
           12,
           13,
           14,
           15,
           16,
           17,
           18,
           19,
           20,
           21,
           22,
           23,
           24
          ],
          "colorbar": {
           "title": {
            "text": "Trial"
           },
           "x": 1,
           "xpad": 40
          },
          "colorscale": [
           [
            0,
            "rgb(247,251,255)"
           ],
           [
            0.125,
            "rgb(222,235,247)"
           ],
           [
            0.25,
            "rgb(198,219,239)"
           ],
           [
            0.375,
            "rgb(158,202,225)"
           ],
           [
            0.5,
            "rgb(107,174,214)"
           ],
           [
            0.625,
            "rgb(66,146,198)"
           ],
           [
            0.75,
            "rgb(33,113,181)"
           ],
           [
            0.875,
            "rgb(8,81,156)"
           ],
           [
            1,
            "rgb(8,48,107)"
           ]
          ],
          "line": {
           "color": "Grey",
           "width": 0.5
          },
          "showscale": false
         },
         "mode": "markers",
         "name": "Feasible Trial",
         "showlegend": false,
         "type": "scatter",
         "x": [
          0.1,
          0.29520782619802766,
          0.3089102531195254,
          0.2336509516388875,
          0.1846254107627201,
          0.3626713081468701,
          0.43377033478622673,
          0.4761675059645748,
          0.1824965480742499,
          0.1654154641690807,
          0.38142026193522827,
          0.3944172007358767,
          0.3685526207563853,
          0.35253555109892754,
          0.49355086769746864,
          0.29982729752599724,
          0.41240050168747416,
          0.3384563312235688,
          0.25223977462615943,
          0.33570162160966355,
          0.44451684148788306,
          0.3872212330741873,
          0.33230321497675425,
          0.25999463686631985,
          0.37760012541074667
         ],
         "xaxis": "x5",
         "y": [
          -56008.922,
          -57631.78400000001,
          -57037.62999999999,
          -55168.012,
          -57185.664000000004,
          -54697.085999999996,
          -55592.636,
          -56958.224,
          -57628.757999999994,
          -56978.46800000001,
          -55144.46,
          -56055.846,
          -56952.996,
          -55981.33999999999,
          -57882.712,
          -56538.89200000001,
          -56271.886,
          -50682.386000000006,
          -56057.909999999996,
          -55503.768000000004,
          -19807164.772000004,
          -56822.038,
          -56492.34000000001,
          -57591.476,
          -55051.342000000004
         ],
         "yaxis": "y5"
        },
        {
         "marker": {
          "color": [
           0,
           1,
           2,
           3,
           4,
           5,
           6,
           7,
           8,
           9,
           10,
           11,
           12,
           13,
           14,
           15,
           16,
           17,
           18,
           19,
           20,
           21,
           22,
           23,
           24
          ],
          "colorbar": {
           "title": {
            "text": "Trial"
           },
           "x": 1,
           "xpad": 40
          },
          "colorscale": [
           [
            0,
            "rgb(247,251,255)"
           ],
           [
            0.125,
            "rgb(222,235,247)"
           ],
           [
            0.25,
            "rgb(198,219,239)"
           ],
           [
            0.375,
            "rgb(158,202,225)"
           ],
           [
            0.5,
            "rgb(107,174,214)"
           ],
           [
            0.625,
            "rgb(66,146,198)"
           ],
           [
            0.75,
            "rgb(33,113,181)"
           ],
           [
            0.875,
            "rgb(8,81,156)"
           ],
           [
            1,
            "rgb(8,48,107)"
           ]
          ],
          "line": {
           "color": "Grey",
           "width": 0.5
          },
          "showscale": false
         },
         "mode": "markers",
         "name": "Feasible Trial",
         "showlegend": false,
         "type": "scatter",
         "x": [
          0.005,
          0.001129748991583551,
          0.01147781207908402,
          0.019600262046321752,
          0.07575647320418369,
          0.007700374079292978,
          0.09409214442516224,
          0.08454887194673188,
          0.00667489535344205,
          0.002621000150777214,
          0.025136744298222623,
          0.026171471880384028,
          0.025705570579629,
          0.012993981044991262,
          0.04058933625309135,
          0.0038757719728482955,
          0.04322569863337195,
          0.008131361443503082,
          0.002102535340997532,
          0.00784627729837932,
          0.0034045074976167614,
          0.018232506295228452,
          0.008395605554417146,
          0.01320411007804864,
          0.00691916654544977
         ],
         "xaxis": "x6",
         "y": [
          -56008.922,
          -57631.78400000001,
          -57037.62999999999,
          -55168.012,
          -57185.664000000004,
          -54697.085999999996,
          -55592.636,
          -56958.224,
          -57628.757999999994,
          -56978.46800000001,
          -55144.46,
          -56055.846,
          -56952.996,
          -55981.33999999999,
          -57882.712,
          -56538.89200000001,
          -56271.886,
          -50682.386000000006,
          -56057.909999999996,
          -55503.768000000004,
          -19807164.772000004,
          -56822.038,
          -56492.34000000001,
          -57591.476,
          -55051.342000000004
         ],
         "yaxis": "y6"
        }
       ],
       "layout": {
        "template": {
         "data": {
          "bar": [
           {
            "error_x": {
             "color": "#2a3f5f"
            },
            "error_y": {
             "color": "#2a3f5f"
            },
            "marker": {
             "line": {
              "color": "#E5ECF6",
              "width": 0.5
             },
             "pattern": {
              "fillmode": "overlay",
              "size": 10,
              "solidity": 0.2
             }
            },
            "type": "bar"
           }
          ],
          "barpolar": [
           {
            "marker": {
             "line": {
              "color": "#E5ECF6",
              "width": 0.5
             },
             "pattern": {
              "fillmode": "overlay",
              "size": 10,
              "solidity": 0.2
             }
            },
            "type": "barpolar"
           }
          ],
          "carpet": [
           {
            "aaxis": {
             "endlinecolor": "#2a3f5f",
             "gridcolor": "white",
             "linecolor": "white",
             "minorgridcolor": "white",
             "startlinecolor": "#2a3f5f"
            },
            "baxis": {
             "endlinecolor": "#2a3f5f",
             "gridcolor": "white",
             "linecolor": "white",
             "minorgridcolor": "white",
             "startlinecolor": "#2a3f5f"
            },
            "type": "carpet"
           }
          ],
          "choropleth": [
           {
            "colorbar": {
             "outlinewidth": 0,
             "ticks": ""
            },
            "type": "choropleth"
           }
          ],
          "contour": [
           {
            "colorbar": {
             "outlinewidth": 0,
             "ticks": ""
            },
            "colorscale": [
             [
              0,
              "#0d0887"
             ],
             [
              0.1111111111111111,
              "#46039f"
             ],
             [
              0.2222222222222222,
              "#7201a8"
             ],
             [
              0.3333333333333333,
              "#9c179e"
             ],
             [
              0.4444444444444444,
              "#bd3786"
             ],
             [
              0.5555555555555556,
              "#d8576b"
             ],
             [
              0.6666666666666666,
              "#ed7953"
             ],
             [
              0.7777777777777778,
              "#fb9f3a"
             ],
             [
              0.8888888888888888,
              "#fdca26"
             ],
             [
              1,
              "#f0f921"
             ]
            ],
            "type": "contour"
           }
          ],
          "contourcarpet": [
           {
            "colorbar": {
             "outlinewidth": 0,
             "ticks": ""
            },
            "type": "contourcarpet"
           }
          ],
          "heatmap": [
           {
            "colorbar": {
             "outlinewidth": 0,
             "ticks": ""
            },
            "colorscale": [
             [
              0,
              "#0d0887"
             ],
             [
              0.1111111111111111,
              "#46039f"
             ],
             [
              0.2222222222222222,
              "#7201a8"
             ],
             [
              0.3333333333333333,
              "#9c179e"
             ],
             [
              0.4444444444444444,
              "#bd3786"
             ],
             [
              0.5555555555555556,
              "#d8576b"
             ],
             [
              0.6666666666666666,
              "#ed7953"
             ],
             [
              0.7777777777777778,
              "#fb9f3a"
             ],
             [
              0.8888888888888888,
              "#fdca26"
             ],
             [
              1,
              "#f0f921"
             ]
            ],
            "type": "heatmap"
           }
          ],
          "heatmapgl": [
           {
            "colorbar": {
             "outlinewidth": 0,
             "ticks": ""
            },
            "colorscale": [
             [
              0,
              "#0d0887"
             ],
             [
              0.1111111111111111,
              "#46039f"
             ],
             [
              0.2222222222222222,
              "#7201a8"
             ],
             [
              0.3333333333333333,
              "#9c179e"
             ],
             [
              0.4444444444444444,
              "#bd3786"
             ],
             [
              0.5555555555555556,
              "#d8576b"
             ],
             [
              0.6666666666666666,
              "#ed7953"
             ],
             [
              0.7777777777777778,
              "#fb9f3a"
             ],
             [
              0.8888888888888888,
              "#fdca26"
             ],
             [
              1,
              "#f0f921"
             ]
            ],
            "type": "heatmapgl"
           }
          ],
          "histogram": [
           {
            "marker": {
             "pattern": {
              "fillmode": "overlay",
              "size": 10,
              "solidity": 0.2
             }
            },
            "type": "histogram"
           }
          ],
          "histogram2d": [
           {
            "colorbar": {
             "outlinewidth": 0,
             "ticks": ""
            },
            "colorscale": [
             [
              0,
              "#0d0887"
             ],
             [
              0.1111111111111111,
              "#46039f"
             ],
             [
              0.2222222222222222,
              "#7201a8"
             ],
             [
              0.3333333333333333,
              "#9c179e"
             ],
             [
              0.4444444444444444,
              "#bd3786"
             ],
             [
              0.5555555555555556,
              "#d8576b"
             ],
             [
              0.6666666666666666,
              "#ed7953"
             ],
             [
              0.7777777777777778,
              "#fb9f3a"
             ],
             [
              0.8888888888888888,
              "#fdca26"
             ],
             [
              1,
              "#f0f921"
             ]
            ],
            "type": "histogram2d"
           }
          ],
          "histogram2dcontour": [
           {
            "colorbar": {
             "outlinewidth": 0,
             "ticks": ""
            },
            "colorscale": [
             [
              0,
              "#0d0887"
             ],
             [
              0.1111111111111111,
              "#46039f"
             ],
             [
              0.2222222222222222,
              "#7201a8"
             ],
             [
              0.3333333333333333,
              "#9c179e"
             ],
             [
              0.4444444444444444,
              "#bd3786"
             ],
             [
              0.5555555555555556,
              "#d8576b"
             ],
             [
              0.6666666666666666,
              "#ed7953"
             ],
             [
              0.7777777777777778,
              "#fb9f3a"
             ],
             [
              0.8888888888888888,
              "#fdca26"
             ],
             [
              1,
              "#f0f921"
             ]
            ],
            "type": "histogram2dcontour"
           }
          ],
          "mesh3d": [
           {
            "colorbar": {
             "outlinewidth": 0,
             "ticks": ""
            },
            "type": "mesh3d"
           }
          ],
          "parcoords": [
           {
            "line": {
             "colorbar": {
              "outlinewidth": 0,
              "ticks": ""
             }
            },
            "type": "parcoords"
           }
          ],
          "pie": [
           {
            "automargin": true,
            "type": "pie"
           }
          ],
          "scatter": [
           {
            "fillpattern": {
             "fillmode": "overlay",
             "size": 10,
             "solidity": 0.2
            },
            "type": "scatter"
           }
          ],
          "scatter3d": [
           {
            "line": {
             "colorbar": {
              "outlinewidth": 0,
              "ticks": ""
             }
            },
            "marker": {
             "colorbar": {
              "outlinewidth": 0,
              "ticks": ""
             }
            },
            "type": "scatter3d"
           }
          ],
          "scattercarpet": [
           {
            "marker": {
             "colorbar": {
              "outlinewidth": 0,
              "ticks": ""
             }
            },
            "type": "scattercarpet"
           }
          ],
          "scattergeo": [
           {
            "marker": {
             "colorbar": {
              "outlinewidth": 0,
              "ticks": ""
             }
            },
            "type": "scattergeo"
           }
          ],
          "scattergl": [
           {
            "marker": {
             "colorbar": {
              "outlinewidth": 0,
              "ticks": ""
             }
            },
            "type": "scattergl"
           }
          ],
          "scattermapbox": [
           {
            "marker": {
             "colorbar": {
              "outlinewidth": 0,
              "ticks": ""
             }
            },
            "type": "scattermapbox"
           }
          ],
          "scatterpolar": [
           {
            "marker": {
             "colorbar": {
              "outlinewidth": 0,
              "ticks": ""
             }
            },
            "type": "scatterpolar"
           }
          ],
          "scatterpolargl": [
           {
            "marker": {
             "colorbar": {
              "outlinewidth": 0,
              "ticks": ""
             }
            },
            "type": "scatterpolargl"
           }
          ],
          "scatterternary": [
           {
            "marker": {
             "colorbar": {
              "outlinewidth": 0,
              "ticks": ""
             }
            },
            "type": "scatterternary"
           }
          ],
          "surface": [
           {
            "colorbar": {
             "outlinewidth": 0,
             "ticks": ""
            },
            "colorscale": [
             [
              0,
              "#0d0887"
             ],
             [
              0.1111111111111111,
              "#46039f"
             ],
             [
              0.2222222222222222,
              "#7201a8"
             ],
             [
              0.3333333333333333,
              "#9c179e"
             ],
             [
              0.4444444444444444,
              "#bd3786"
             ],
             [
              0.5555555555555556,
              "#d8576b"
             ],
             [
              0.6666666666666666,
              "#ed7953"
             ],
             [
              0.7777777777777778,
              "#fb9f3a"
             ],
             [
              0.8888888888888888,
              "#fdca26"
             ],
             [
              1,
              "#f0f921"
             ]
            ],
            "type": "surface"
           }
          ],
          "table": [
           {
            "cells": {
             "fill": {
              "color": "#EBF0F8"
             },
             "line": {
              "color": "white"
             }
            },
            "header": {
             "fill": {
              "color": "#C8D4E3"
             },
             "line": {
              "color": "white"
             }
            },
            "type": "table"
           }
          ]
         },
         "layout": {
          "annotationdefaults": {
           "arrowcolor": "#2a3f5f",
           "arrowhead": 0,
           "arrowwidth": 1
          },
          "autotypenumbers": "strict",
          "coloraxis": {
           "colorbar": {
            "outlinewidth": 0,
            "ticks": ""
           }
          },
          "colorscale": {
           "diverging": [
            [
             0,
             "#8e0152"
            ],
            [
             0.1,
             "#c51b7d"
            ],
            [
             0.2,
             "#de77ae"
            ],
            [
             0.3,
             "#f1b6da"
            ],
            [
             0.4,
             "#fde0ef"
            ],
            [
             0.5,
             "#f7f7f7"
            ],
            [
             0.6,
             "#e6f5d0"
            ],
            [
             0.7,
             "#b8e186"
            ],
            [
             0.8,
             "#7fbc41"
            ],
            [
             0.9,
             "#4d9221"
            ],
            [
             1,
             "#276419"
            ]
           ],
           "sequential": [
            [
             0,
             "#0d0887"
            ],
            [
             0.1111111111111111,
             "#46039f"
            ],
            [
             0.2222222222222222,
             "#7201a8"
            ],
            [
             0.3333333333333333,
             "#9c179e"
            ],
            [
             0.4444444444444444,
             "#bd3786"
            ],
            [
             0.5555555555555556,
             "#d8576b"
            ],
            [
             0.6666666666666666,
             "#ed7953"
            ],
            [
             0.7777777777777778,
             "#fb9f3a"
            ],
            [
             0.8888888888888888,
             "#fdca26"
            ],
            [
             1,
             "#f0f921"
            ]
           ],
           "sequentialminus": [
            [
             0,
             "#0d0887"
            ],
            [
             0.1111111111111111,
             "#46039f"
            ],
            [
             0.2222222222222222,
             "#7201a8"
            ],
            [
             0.3333333333333333,
             "#9c179e"
            ],
            [
             0.4444444444444444,
             "#bd3786"
            ],
            [
             0.5555555555555556,
             "#d8576b"
            ],
            [
             0.6666666666666666,
             "#ed7953"
            ],
            [
             0.7777777777777778,
             "#fb9f3a"
            ],
            [
             0.8888888888888888,
             "#fdca26"
            ],
            [
             1,
             "#f0f921"
            ]
           ]
          },
          "colorway": [
           "#636efa",
           "#EF553B",
           "#00cc96",
           "#ab63fa",
           "#FFA15A",
           "#19d3f3",
           "#FF6692",
           "#B6E880",
           "#FF97FF",
           "#FECB52"
          ],
          "font": {
           "color": "#2a3f5f"
          },
          "geo": {
           "bgcolor": "white",
           "lakecolor": "white",
           "landcolor": "#E5ECF6",
           "showlakes": true,
           "showland": true,
           "subunitcolor": "white"
          },
          "hoverlabel": {
           "align": "left"
          },
          "hovermode": "closest",
          "mapbox": {
           "style": "light"
          },
          "paper_bgcolor": "white",
          "plot_bgcolor": "#E5ECF6",
          "polar": {
           "angularaxis": {
            "gridcolor": "white",
            "linecolor": "white",
            "ticks": ""
           },
           "bgcolor": "#E5ECF6",
           "radialaxis": {
            "gridcolor": "white",
            "linecolor": "white",
            "ticks": ""
           }
          },
          "scene": {
           "xaxis": {
            "backgroundcolor": "#E5ECF6",
            "gridcolor": "white",
            "gridwidth": 2,
            "linecolor": "white",
            "showbackground": true,
            "ticks": "",
            "zerolinecolor": "white"
           },
           "yaxis": {
            "backgroundcolor": "#E5ECF6",
            "gridcolor": "white",
            "gridwidth": 2,
            "linecolor": "white",
            "showbackground": true,
            "ticks": "",
            "zerolinecolor": "white"
           },
           "zaxis": {
            "backgroundcolor": "#E5ECF6",
            "gridcolor": "white",
            "gridwidth": 2,
            "linecolor": "white",
            "showbackground": true,
            "ticks": "",
            "zerolinecolor": "white"
           }
          },
          "shapedefaults": {
           "line": {
            "color": "#2a3f5f"
           }
          },
          "ternary": {
           "aaxis": {
            "gridcolor": "white",
            "linecolor": "white",
            "ticks": ""
           },
           "baxis": {
            "gridcolor": "white",
            "linecolor": "white",
            "ticks": ""
           },
           "bgcolor": "#E5ECF6",
           "caxis": {
            "gridcolor": "white",
            "linecolor": "white",
            "ticks": ""
           }
          },
          "title": {
           "x": 0.05
          },
          "xaxis": {
           "automargin": true,
           "gridcolor": "white",
           "linecolor": "white",
           "ticks": "",
           "title": {
            "standoff": 15
           },
           "zerolinecolor": "white",
           "zerolinewidth": 2
          },
          "yaxis": {
           "automargin": true,
           "gridcolor": "white",
           "linecolor": "white",
           "ticks": "",
           "title": {
            "standoff": 15
           },
           "zerolinecolor": "white",
           "zerolinewidth": 2
          }
         }
        },
        "title": {
         "text": "Slice Plot"
        },
        "width": 1800,
        "xaxis": {
         "anchor": "y",
         "categoryarray": [
          32,
          64,
          128,
          256
         ],
         "categoryorder": "array",
         "domain": [
          0,
          0.1388888888888889
         ],
         "title": {
          "text": "batch_size"
         },
         "type": "category"
        },
        "xaxis2": {
         "anchor": "y2",
         "domain": [
          0.17222222222222222,
          0.3111111111111111
         ],
         "title": {
          "text": "buffer_size"
         }
        },
        "xaxis3": {
         "anchor": "y3",
         "domain": [
          0.34444444444444444,
          0.48333333333333334
         ],
         "title": {
          "text": "gamma"
         }
        },
        "xaxis4": {
         "anchor": "y4",
         "domain": [
          0.5166666666666667,
          0.6555555555555557
         ],
         "title": {
          "text": "learning_rate"
         },
         "type": "log"
        },
        "xaxis5": {
         "anchor": "y5",
         "domain": [
          0.6888888888888889,
          0.8277777777777777
         ],
         "title": {
          "text": "noise_std"
         }
        },
        "xaxis6": {
         "anchor": "y6",
         "domain": [
          0.861111111111111,
          1
         ],
         "title": {
          "text": "tau"
         },
         "type": "log"
        },
        "yaxis": {
         "anchor": "x",
         "domain": [
          0,
          1
         ],
         "title": {
          "text": "Objective Value"
         }
        },
        "yaxis2": {
         "anchor": "x2",
         "domain": [
          0,
          1
         ],
         "matches": "y",
         "showticklabels": false
        },
        "yaxis3": {
         "anchor": "x3",
         "domain": [
          0,
          1
         ],
         "matches": "y",
         "showticklabels": false
        },
        "yaxis4": {
         "anchor": "x4",
         "domain": [
          0,
          1
         ],
         "matches": "y",
         "showticklabels": false
        },
        "yaxis5": {
         "anchor": "x5",
         "domain": [
          0,
          1
         ],
         "matches": "y",
         "showticklabels": false
        },
        "yaxis6": {
         "anchor": "x6",
         "domain": [
          0,
          1
         ],
         "matches": "y",
         "showticklabels": false
        }
       }
      }
     },
     "metadata": {},
     "output_type": "display_data"
    }
   ],
   "source": [
    "from optuna.visualization import plot_slice\n",
    "\n",
    "fig = plot_slice(study)\n",
    "fig.show()"
   ]
  },
  {
   "cell_type": "markdown",
   "metadata": {},
   "source": [
    "**Contour Plot**\n",
    "\n",
    "This plot shows the relationship between two hyperparameters and their influence on the objective value."
   ]
  },
  {
   "cell_type": "code",
   "execution_count": 7,
   "metadata": {},
   "outputs": [
    {
     "data": {
      "application/vnd.plotly.v1+json": {
       "config": {
        "plotlyServerURL": "https://plot.ly"
       },
       "data": [
        {
         "type": "scatter",
         "xaxis": "x",
         "yaxis": "y"
        },
        {
         "colorbar": {
          "title": {
           "text": "Objective Value"
          }
         },
         "colorscale": [
          [
           0,
           "rgb(247,251,255)"
          ],
          [
           0.125,
           "rgb(222,235,247)"
          ],
          [
           0.25,
           "rgb(198,219,239)"
          ],
          [
           0.375,
           "rgb(158,202,225)"
          ],
          [
           0.5,
           "rgb(107,174,214)"
          ],
          [
           0.625,
           "rgb(66,146,198)"
          ],
          [
           0.75,
           "rgb(33,113,181)"
          ],
          [
           0.875,
           "rgb(8,81,156)"
          ],
          [
           1,
           "rgb(8,48,107)"
          ]
         ],
         "connectgaps": true,
         "contours": {
          "coloring": "heatmap"
         },
         "hoverinfo": "none",
         "line": {
          "smoothing": 1.3
         },
         "reversescale": false,
         "showscale": true,
         "type": "contour",
         "x": [
          20.799999999999997,
          32,
          64,
          128,
          256,
          267.2
         ],
         "xaxis": "x7",
         "y": [
          2500,
          50000,
          100000,
          150000,
          200000,
          250000,
          300000,
          350000,
          400000,
          450000,
          500000,
          1000000,
          1047500
         ],
         "yaxis": "y7",
         "z": [
          [
           null,
           null,
           null,
           null,
           null,
           null
          ],
          [
           null,
           null,
           -55981.33999999999,
           null,
           null,
           null
          ],
          [
           null,
           null,
           null,
           -57631.78400000001,
           null,
           null
          ],
          [
           null,
           -55168.012,
           null,
           null,
           null,
           null
          ],
          [
           null,
           -57037.62999999999,
           -19807164.772000004,
           -56271.886,
           null,
           null
          ],
          [
           null,
           -56978.46800000001,
           -56952.996,
           -54697.085999999996,
           null,
           null
          ],
          [
           null,
           null,
           -55144.46,
           null,
           null,
           null
          ],
          [
           null,
           -55592.636,
           -50682.386000000006,
           null,
           -55503.768000000004,
           null
          ],
          [
           null,
           -57185.664000000004,
           null,
           -55051.342000000004,
           -57628.757999999994,
           null
          ],
          [
           null,
           null,
           null,
           -56057.909999999996,
           null,
           null
          ],
          [
           null,
           null,
           null,
           -56958.224,
           null,
           null
          ],
          [
           null,
           null,
           null,
           null,
           -56008.922,
           null
          ],
          [
           null,
           null,
           null,
           null,
           null,
           null
          ]
         ]
        },
        {
         "marker": {
          "color": "black",
          "line": {
           "color": "Gray",
           "width": 2
          }
         },
         "mode": "markers",
         "name": "Feasible Trial",
         "showlegend": false,
         "type": "scatter",
         "x": [
          256,
          128,
          32,
          32,
          32,
          128,
          32,
          128,
          256,
          32,
          64,
          64,
          64,
          64,
          128,
          64,
          128,
          64,
          128,
          256,
          64,
          64,
          64,
          64,
          128
         ],
         "xaxis": "x7",
         "y": [
          1000000,
          100000,
          200000,
          150000,
          400000,
          250000,
          350000,
          500000,
          400000,
          250000,
          300000,
          300000,
          250000,
          50000,
          500000,
          300000,
          200000,
          350000,
          450000,
          350000,
          200000,
          350000,
          300000,
          250000,
          400000
         ],
         "yaxis": "y7"
        },
        {
         "colorbar": {
          "title": {
           "text": "Objective Value"
          }
         },
         "colorscale": [
          [
           0,
           "rgb(247,251,255)"
          ],
          [
           0.125,
           "rgb(222,235,247)"
          ],
          [
           0.25,
           "rgb(198,219,239)"
          ],
          [
           0.375,
           "rgb(158,202,225)"
          ],
          [
           0.5,
           "rgb(107,174,214)"
          ],
          [
           0.625,
           "rgb(66,146,198)"
          ],
          [
           0.75,
           "rgb(33,113,181)"
          ],
          [
           0.875,
           "rgb(8,81,156)"
          ],
          [
           1,
           "rgb(8,48,107)"
          ]
         ],
         "connectgaps": true,
         "contours": {
          "coloring": "heatmap"
         },
         "hoverinfo": "none",
         "line": {
          "smoothing": 1.3
         },
         "reversescale": false,
         "showscale": false,
         "type": "contour",
         "x": [
          20.799999999999997,
          32,
          64,
          128,
          256,
          267.2
         ],
         "xaxis": "x13",
         "y": [
          0.8967217550694253,
          0.9015332924589152,
          0.9023110447959488,
          0.9041181747731538,
          0.9132761126176273,
          0.9135549843660378,
          0.9184950584749083,
          0.9235802548081983,
          0.9267518483044083,
          0.92885650612723,
          0.9344907511949925,
          0.9407264655316708,
          0.9425865440966986,
          0.9432979930735299,
          0.944717636907831,
          0.9524456507336426,
          0.9528706435979579,
          0.9551137737400753,
          0.9621466953758586,
          0.962212074959442,
          0.9672812275108122,
          0.9744324353443722,
          0.9788684016478556,
          0.99,
          0.9942072840510408,
          0.9977640402487132,
          1.002575577638203
         ],
         "yaxis": "y13",
         "z": [
          [
           null,
           null,
           null,
           null,
           null,
           null
          ],
          [
           null,
           null,
           null,
           null,
           -55503.768000000004,
           null
          ],
          [
           null,
           null,
           null,
           -56057.909999999996,
           null,
           null
          ],
          [
           null,
           null,
           -50682.386000000006,
           null,
           null,
           null
          ],
          [
           null,
           null,
           -56822.038,
           null,
           null,
           null
          ],
          [
           null,
           -57185.664000000004,
           null,
           null,
           null,
           null
          ],
          [
           null,
           null,
           null,
           -55051.342000000004,
           null,
           null
          ],
          [
           null,
           -57037.62999999999,
           null,
           null,
           null,
           null
          ],
          [
           null,
           null,
           null,
           -57631.78400000001,
           null,
           null
          ],
          [
           null,
           -56978.46800000001,
           null,
           null,
           null,
           null
          ],
          [
           null,
           null,
           -19807164.772000004,
           null,
           null,
           null
          ],
          [
           null,
           null,
           -57591.476,
           null,
           null,
           null
          ],
          [
           null,
           null,
           -56055.846,
           null,
           null,
           null
          ],
          [
           null,
           null,
           null,
           -57882.712,
           null,
           null
          ],
          [
           null,
           null,
           -55144.46,
           null,
           null,
           null
          ],
          [
           null,
           null,
           -56538.89200000001,
           null,
           null,
           null
          ],
          [
           null,
           null,
           -56952.996,
           null,
           null,
           null
          ],
          [
           null,
           null,
           null,
           -54697.085999999996,
           null,
           null
          ],
          [
           null,
           -55592.636,
           null,
           null,
           null,
           null
          ],
          [
           null,
           null,
           -56492.34000000001,
           null,
           null,
           null
          ],
          [
           null,
           -55168.012,
           null,
           null,
           null,
           null
          ],
          [
           null,
           null,
           -55981.33999999999,
           null,
           null,
           null
          ],
          [
           null,
           null,
           null,
           -56271.886,
           null,
           null
          ],
          [
           null,
           null,
           null,
           null,
           -56008.922,
           null
          ],
          [
           null,
           null,
           null,
           -56958.224,
           null,
           null
          ],
          [
           null,
           null,
           null,
           null,
           -57628.757999999994,
           null
          ],
          [
           null,
           null,
           null,
           null,
           null,
           null
          ]
         ]
        },
        {
         "marker": {
          "color": "black",
          "line": {
           "color": "Gray",
           "width": 2
          }
         },
         "mode": "markers",
         "name": "Feasible Trial",
         "showlegend": false,
         "type": "scatter",
         "x": [
          256,
          128,
          32,
          32,
          32,
          128,
          32,
          128,
          256,
          32,
          64,
          64,
          64,
          64,
          128,
          64,
          128,
          64,
          128,
          256,
          64,
          64,
          64,
          64,
          128
         ],
         "xaxis": "x13",
         "y": [
          0.99,
          0.9267518483044083,
          0.9235802548081983,
          0.9672812275108122,
          0.9135549843660378,
          0.9551137737400753,
          0.9621466953758586,
          0.9942072840510408,
          0.9977640402487132,
          0.92885650612723,
          0.944717636907831,
          0.9425865440966986,
          0.9528706435979579,
          0.9744324353443722,
          0.9432979930735299,
          0.9524456507336426,
          0.9788684016478556,
          0.9041181747731538,
          0.9023110447959488,
          0.9015332924589152,
          0.9344907511949925,
          0.9132761126176273,
          0.962212074959442,
          0.9407264655316708,
          0.9184950584749083
         ],
         "yaxis": "y13"
        },
        {
         "colorbar": {
          "title": {
           "text": "Objective Value"
          }
         },
         "colorscale": [
          [
           0,
           "rgb(247,251,255)"
          ],
          [
           0.125,
           "rgb(222,235,247)"
          ],
          [
           0.25,
           "rgb(198,219,239)"
          ],
          [
           0.375,
           "rgb(158,202,225)"
          ],
          [
           0.5,
           "rgb(107,174,214)"
          ],
          [
           0.625,
           "rgb(66,146,198)"
          ],
          [
           0.75,
           "rgb(33,113,181)"
          ],
          [
           0.875,
           "rgb(8,81,156)"
          ],
          [
           1,
           "rgb(8,48,107)"
          ]
         ],
         "connectgaps": true,
         "contours": {
          "coloring": "heatmap"
         },
         "hoverinfo": "none",
         "line": {
          "smoothing": 1.3
         },
         "reversescale": false,
         "showscale": false,
         "type": "contour",
         "x": [
          20.799999999999997,
          32,
          64,
          128,
          256,
          267.2
         ],
         "xaxis": "x19",
         "y": [
          0.00000935321866931526,
          0.00001168374280981023,
          0.000011725185367375389,
          0.000018457592502541072,
          0.000019361100467397984,
          0.000029473700406656617,
          0.000030023649525123333,
          0.00003004969440006251,
          0.000031887871798989554,
          0.000037656338089744616,
          0.00004531034871593193,
          0.00005048035533561577,
          0.00005611816797749212,
          0.00006205304996490255,
          0.0000644037276257185,
          0.00006976425460110442,
          0.00007229091027503433,
          0.00010062612259505235,
          0.0001047196587513247,
          0.00013300818313200042,
          0.00015377020282693002,
          0.00021997213915881885,
          0.00025892512702773,
          0.0003713120921827322,
          0.0005561876608894562,
          0.001,
          0.0012491681444528437
         ],
         "yaxis": "y19",
         "z": [
          [
           null,
           null,
           null,
           null,
           null,
           null
          ],
          [
           null,
           null,
           null,
           null,
           -57628.757999999994,
           null
          ],
          [
           null,
           -57037.62999999999,
           null,
           null,
           null,
           null
          ],
          [
           null,
           null,
           null,
           -56271.886,
           null,
           null
          ],
          [
           null,
           null,
           -56492.34000000001,
           null,
           null,
           null
          ],
          [
           null,
           null,
           -56055.846,
           null,
           null,
           null
          ],
          [
           null,
           null,
           -55981.33999999999,
           null,
           null,
           null
          ],
          [
           null,
           null,
           -56952.996,
           null,
           null,
           null
          ],
          [
           null,
           null,
           -55144.46,
           null,
           null,
           null
          ],
          [
           null,
           null,
           -56538.89200000001,
           null,
           null,
           null
          ],
          [
           null,
           null,
           -56822.038,
           null,
           null,
           null
          ],
          [
           null,
           null,
           -57591.476,
           null,
           null,
           null
          ],
          [
           null,
           null,
           -50682.386000000006,
           null,
           null,
           null
          ],
          [
           null,
           null,
           null,
           null,
           -55503.768000000004,
           null
          ],
          [
           null,
           null,
           null,
           -56958.224,
           null,
           null
          ],
          [
           null,
           null,
           null,
           -57631.78400000001,
           null,
           null
          ],
          [
           null,
           null,
           null,
           -54697.085999999996,
           null,
           null
          ],
          [
           null,
           -55592.636,
           null,
           null,
           null,
           null
          ],
          [
           null,
           -57185.664000000004,
           null,
           null,
           null,
           null
          ],
          [
           null,
           null,
           null,
           -55051.342000000004,
           null,
           null
          ],
          [
           null,
           -55168.012,
           null,
           null,
           null,
           null
          ],
          [
           null,
           null,
           null,
           -57882.712,
           null,
           null
          ],
          [
           null,
           null,
           null,
           -56057.909999999996,
           null,
           null
          ],
          [
           null,
           -56978.46800000001,
           null,
           null,
           null,
           null
          ],
          [
           null,
           null,
           -19807164.772000004,
           null,
           null,
           null
          ],
          [
           null,
           null,
           null,
           null,
           -56008.922,
           null
          ],
          [
           null,
           null,
           null,
           null,
           null,
           null
          ]
         ]
        },
        {
         "marker": {
          "color": "black",
          "line": {
           "color": "Gray",
           "width": 2
          }
         },
         "mode": "markers",
         "name": "Feasible Trial",
         "showlegend": false,
         "type": "scatter",
         "x": [
          256,
          128,
          32,
          32,
          32,
          128,
          32,
          128,
          256,
          32,
          64,
          64,
          64,
          64,
          128,
          64,
          128,
          64,
          128,
          256,
          64,
          64,
          64,
          64,
          128
         ],
         "xaxis": "x19",
         "y": [
          0.001,
          0.00006976425460110442,
          0.000011725185367375389,
          0.00015377020282693002,
          0.0001047196587513247,
          0.00007229091027503433,
          0.00010062612259505235,
          0.0000644037276257185,
          0.00001168374280981023,
          0.0003713120921827322,
          0.000031887871798989554,
          0.000029473700406656617,
          0.00003004969440006251,
          0.000030023649525123333,
          0.00021997213915881885,
          0.000037656338089744616,
          0.000018457592502541072,
          0.00005611816797749212,
          0.00025892512702773,
          0.00006205304996490255,
          0.0005561876608894562,
          0.00004531034871593193,
          0.000019361100467397984,
          0.00005048035533561577,
          0.00013300818313200042
         ],
         "yaxis": "y19"
        },
        {
         "colorbar": {
          "title": {
           "text": "Objective Value"
          }
         },
         "colorscale": [
          [
           0,
           "rgb(247,251,255)"
          ],
          [
           0.125,
           "rgb(222,235,247)"
          ],
          [
           0.25,
           "rgb(198,219,239)"
          ],
          [
           0.375,
           "rgb(158,202,225)"
          ],
          [
           0.5,
           "rgb(107,174,214)"
          ],
          [
           0.625,
           "rgb(66,146,198)"
          ],
          [
           0.75,
           "rgb(33,113,181)"
          ],
          [
           0.875,
           "rgb(8,81,156)"
          ],
          [
           1,
           "rgb(8,48,107)"
          ]
         ],
         "connectgaps": true,
         "contours": {
          "coloring": "heatmap"
         },
         "hoverinfo": "none",
         "line": {
          "smoothing": 1.3
         },
         "reversescale": false,
         "showscale": false,
         "type": "contour",
         "x": [
          20.799999999999997,
          32,
          64,
          128,
          256,
          267.2
         ],
         "xaxis": "x25",
         "y": [
          0.08032245661512658,
          0.1,
          0.1654154641690807,
          0.1824965480742499,
          0.1846254107627201,
          0.2336509516388875,
          0.25223977462615943,
          0.25999463686631985,
          0.29520782619802766,
          0.29982729752599724,
          0.3089102531195254,
          0.33230321497675425,
          0.33570162160966355,
          0.3384563312235688,
          0.35253555109892754,
          0.3626713081468701,
          0.3685526207563853,
          0.37760012541074667,
          0.38142026193522827,
          0.3872212330741873,
          0.3944172007358767,
          0.41240050168747416,
          0.43377033478622673,
          0.44451684148788306,
          0.4761675059645748,
          0.49355086769746864,
          0.5132284110823421
         ],
         "yaxis": "y25",
         "z": [
          [
           null,
           null,
           null,
           null,
           null,
           null
          ],
          [
           null,
           null,
           null,
           null,
           -56008.922,
           null
          ],
          [
           null,
           -56978.46800000001,
           null,
           null,
           null,
           null
          ],
          [
           null,
           null,
           null,
           null,
           -57628.757999999994,
           null
          ],
          [
           null,
           -57185.664000000004,
           null,
           null,
           null,
           null
          ],
          [
           null,
           -55168.012,
           null,
           null,
           null,
           null
          ],
          [
           null,
           null,
           null,
           -56057.909999999996,
           null,
           null
          ],
          [
           null,
           null,
           -57591.476,
           null,
           null,
           null
          ],
          [
           null,
           null,
           null,
           -57631.78400000001,
           null,
           null
          ],
          [
           null,
           null,
           -56538.89200000001,
           null,
           null,
           null
          ],
          [
           null,
           -57037.62999999999,
           null,
           null,
           null,
           null
          ],
          [
           null,
           null,
           -56492.34000000001,
           null,
           null,
           null
          ],
          [
           null,
           null,
           null,
           null,
           -55503.768000000004,
           null
          ],
          [
           null,
           null,
           -50682.386000000006,
           null,
           null,
           null
          ],
          [
           null,
           null,
           -55981.33999999999,
           null,
           null,
           null
          ],
          [
           null,
           null,
           null,
           -54697.085999999996,
           null,
           null
          ],
          [
           null,
           null,
           -56952.996,
           null,
           null,
           null
          ],
          [
           null,
           null,
           null,
           -55051.342000000004,
           null,
           null
          ],
          [
           null,
           null,
           -55144.46,
           null,
           null,
           null
          ],
          [
           null,
           null,
           -56822.038,
           null,
           null,
           null
          ],
          [
           null,
           null,
           -56055.846,
           null,
           null,
           null
          ],
          [
           null,
           null,
           null,
           -56271.886,
           null,
           null
          ],
          [
           null,
           -55592.636,
           null,
           null,
           null,
           null
          ],
          [
           null,
           null,
           -19807164.772000004,
           null,
           null,
           null
          ],
          [
           null,
           null,
           null,
           -56958.224,
           null,
           null
          ],
          [
           null,
           null,
           null,
           -57882.712,
           null,
           null
          ],
          [
           null,
           null,
           null,
           null,
           null,
           null
          ]
         ]
        },
        {
         "marker": {
          "color": "black",
          "line": {
           "color": "Gray",
           "width": 2
          }
         },
         "mode": "markers",
         "name": "Feasible Trial",
         "showlegend": false,
         "type": "scatter",
         "x": [
          256,
          128,
          32,
          32,
          32,
          128,
          32,
          128,
          256,
          32,
          64,
          64,
          64,
          64,
          128,
          64,
          128,
          64,
          128,
          256,
          64,
          64,
          64,
          64,
          128
         ],
         "xaxis": "x25",
         "y": [
          0.1,
          0.29520782619802766,
          0.3089102531195254,
          0.2336509516388875,
          0.1846254107627201,
          0.3626713081468701,
          0.43377033478622673,
          0.4761675059645748,
          0.1824965480742499,
          0.1654154641690807,
          0.38142026193522827,
          0.3944172007358767,
          0.3685526207563853,
          0.35253555109892754,
          0.49355086769746864,
          0.29982729752599724,
          0.41240050168747416,
          0.3384563312235688,
          0.25223977462615943,
          0.33570162160966355,
          0.44451684148788306,
          0.3872212330741873,
          0.33230321497675425,
          0.25999463686631985,
          0.37760012541074667
         ],
         "yaxis": "y25"
        },
        {
         "colorbar": {
          "title": {
           "text": "Objective Value"
          }
         },
         "colorscale": [
          [
           0,
           "rgb(247,251,255)"
          ],
          [
           0.125,
           "rgb(222,235,247)"
          ],
          [
           0.25,
           "rgb(198,219,239)"
          ],
          [
           0.375,
           "rgb(158,202,225)"
          ],
          [
           0.5,
           "rgb(107,174,214)"
          ],
          [
           0.625,
           "rgb(66,146,198)"
          ],
          [
           0.75,
           "rgb(33,113,181)"
          ],
          [
           0.875,
           "rgb(8,81,156)"
          ],
          [
           1,
           "rgb(8,48,107)"
          ]
         ],
         "connectgaps": true,
         "contours": {
          "coloring": "heatmap"
         },
         "hoverinfo": "none",
         "line": {
          "smoothing": 1.3
         },
         "reversescale": false,
         "showscale": false,
         "type": "contour",
         "x": [
          20.799999999999997,
          32,
          64,
          128,
          256,
          267.2
         ],
         "xaxis": "x31",
         "y": [
          0.0009056354041980357,
          0.001129748991583551,
          0.002102535340997532,
          0.002621000150777214,
          0.0034045074976167614,
          0.0038757719728482955,
          0.005,
          0.00667489535344205,
          0.00691916654544977,
          0.007700374079292978,
          0.00784627729837932,
          0.008131361443503082,
          0.008395605554417146,
          0.01147781207908402,
          0.012993981044991262,
          0.01320411007804864,
          0.018232506295228452,
          0.019600262046321752,
          0.025136744298222623,
          0.025705570579629,
          0.026171471880384028,
          0.04058933625309135,
          0.04322569863337195,
          0.07575647320418369,
          0.08454887194673188,
          0.09409214442516224,
          0.11737671118808882
         ],
         "yaxis": "y31",
         "z": [
          [
           null,
           null,
           null,
           null,
           null,
           null
          ],
          [
           null,
           null,
           null,
           -57631.78400000001,
           null,
           null
          ],
          [
           null,
           null,
           null,
           -56057.909999999996,
           null,
           null
          ],
          [
           null,
           -56978.46800000001,
           null,
           null,
           null,
           null
          ],
          [
           null,
           null,
           -19807164.772000004,
           null,
           null,
           null
          ],
          [
           null,
           null,
           -56538.89200000001,
           null,
           null,
           null
          ],
          [
           null,
           null,
           null,
           null,
           -56008.922,
           null
          ],
          [
           null,
           null,
           null,
           null,
           -57628.757999999994,
           null
          ],
          [
           null,
           null,
           null,
           -55051.342000000004,
           null,
           null
          ],
          [
           null,
           null,
           null,
           -54697.085999999996,
           null,
           null
          ],
          [
           null,
           null,
           null,
           null,
           -55503.768000000004,
           null
          ],
          [
           null,
           null,
           -50682.386000000006,
           null,
           null,
           null
          ],
          [
           null,
           null,
           -56492.34000000001,
           null,
           null,
           null
          ],
          [
           null,
           -57037.62999999999,
           null,
           null,
           null,
           null
          ],
          [
           null,
           null,
           -55981.33999999999,
           null,
           null,
           null
          ],
          [
           null,
           null,
           -57591.476,
           null,
           null,
           null
          ],
          [
           null,
           null,
           -56822.038,
           null,
           null,
           null
          ],
          [
           null,
           -55168.012,
           null,
           null,
           null,
           null
          ],
          [
           null,
           null,
           -55144.46,
           null,
           null,
           null
          ],
          [
           null,
           null,
           -56952.996,
           null,
           null,
           null
          ],
          [
           null,
           null,
           -56055.846,
           null,
           null,
           null
          ],
          [
           null,
           null,
           null,
           -57882.712,
           null,
           null
          ],
          [
           null,
           null,
           null,
           -56271.886,
           null,
           null
          ],
          [
           null,
           -57185.664000000004,
           null,
           null,
           null,
           null
          ],
          [
           null,
           null,
           null,
           -56958.224,
           null,
           null
          ],
          [
           null,
           -55592.636,
           null,
           null,
           null,
           null
          ],
          [
           null,
           null,
           null,
           null,
           null,
           null
          ]
         ]
        },
        {
         "marker": {
          "color": "black",
          "line": {
           "color": "Gray",
           "width": 2
          }
         },
         "mode": "markers",
         "name": "Feasible Trial",
         "showlegend": false,
         "type": "scatter",
         "x": [
          256,
          128,
          32,
          32,
          32,
          128,
          32,
          128,
          256,
          32,
          64,
          64,
          64,
          64,
          128,
          64,
          128,
          64,
          128,
          256,
          64,
          64,
          64,
          64,
          128
         ],
         "xaxis": "x31",
         "y": [
          0.005,
          0.001129748991583551,
          0.01147781207908402,
          0.019600262046321752,
          0.07575647320418369,
          0.007700374079292978,
          0.09409214442516224,
          0.08454887194673188,
          0.00667489535344205,
          0.002621000150777214,
          0.025136744298222623,
          0.026171471880384028,
          0.025705570579629,
          0.012993981044991262,
          0.04058933625309135,
          0.0038757719728482955,
          0.04322569863337195,
          0.008131361443503082,
          0.002102535340997532,
          0.00784627729837932,
          0.0034045074976167614,
          0.018232506295228452,
          0.008395605554417146,
          0.01320411007804864,
          0.00691916654544977
         ],
         "yaxis": "y31"
        },
        {
         "colorbar": {
          "title": {
           "text": "Objective Value"
          }
         },
         "colorscale": [
          [
           0,
           "rgb(247,251,255)"
          ],
          [
           0.125,
           "rgb(222,235,247)"
          ],
          [
           0.25,
           "rgb(198,219,239)"
          ],
          [
           0.375,
           "rgb(158,202,225)"
          ],
          [
           0.5,
           "rgb(107,174,214)"
          ],
          [
           0.625,
           "rgb(66,146,198)"
          ],
          [
           0.75,
           "rgb(33,113,181)"
          ],
          [
           0.875,
           "rgb(8,81,156)"
          ],
          [
           1,
           "rgb(8,48,107)"
          ]
         ],
         "connectgaps": true,
         "contours": {
          "coloring": "heatmap"
         },
         "hoverinfo": "none",
         "line": {
          "smoothing": 1.3
         },
         "reversescale": false,
         "showscale": false,
         "type": "contour",
         "x": [
          2500,
          50000,
          100000,
          150000,
          200000,
          250000,
          300000,
          350000,
          400000,
          450000,
          500000,
          1000000,
          1047500
         ],
         "xaxis": "x2",
         "y": [
          20.799999999999997,
          32,
          64,
          128,
          256,
          267.2
         ],
         "yaxis": "y2",
         "z": [
          [
           null,
           null,
           null,
           null,
           null,
           null,
           null,
           null,
           null,
           null,
           null,
           null,
           null
          ],
          [
           null,
           null,
           null,
           -55168.012,
           -57037.62999999999,
           -56978.46800000001,
           null,
           -55592.636,
           -57185.664000000004,
           null,
           null,
           null,
           null
          ],
          [
           null,
           -55981.33999999999,
           null,
           null,
           -19807164.772000004,
           -56952.996,
           -55144.46,
           -50682.386000000006,
           null,
           null,
           null,
           null,
           null
          ],
          [
           null,
           null,
           -57631.78400000001,
           null,
           -56271.886,
           -54697.085999999996,
           null,
           null,
           -55051.342000000004,
           -56057.909999999996,
           -56958.224,
           null,
           null
          ],
          [
           null,
           null,
           null,
           null,
           null,
           null,
           null,
           -55503.768000000004,
           -57628.757999999994,
           null,
           null,
           -56008.922,
           null
          ],
          [
           null,
           null,
           null,
           null,
           null,
           null,
           null,
           null,
           null,
           null,
           null,
           null,
           null
          ]
         ]
        },
        {
         "marker": {
          "color": "black",
          "line": {
           "color": "Gray",
           "width": 2
          }
         },
         "mode": "markers",
         "name": "Feasible Trial",
         "showlegend": false,
         "type": "scatter",
         "x": [
          1000000,
          100000,
          200000,
          150000,
          400000,
          250000,
          350000,
          500000,
          400000,
          250000,
          300000,
          300000,
          250000,
          50000,
          500000,
          300000,
          200000,
          350000,
          450000,
          350000,
          200000,
          350000,
          300000,
          250000,
          400000
         ],
         "xaxis": "x2",
         "y": [
          256,
          128,
          32,
          32,
          32,
          128,
          32,
          128,
          256,
          32,
          64,
          64,
          64,
          64,
          128,
          64,
          128,
          64,
          128,
          256,
          64,
          64,
          64,
          64,
          128
         ],
         "yaxis": "y2"
        },
        {
         "type": "scatter",
         "xaxis": "x8",
         "yaxis": "y8"
        },
        {
         "colorbar": {
          "title": {
           "text": "Objective Value"
          }
         },
         "colorscale": [
          [
           0,
           "rgb(247,251,255)"
          ],
          [
           0.125,
           "rgb(222,235,247)"
          ],
          [
           0.25,
           "rgb(198,219,239)"
          ],
          [
           0.375,
           "rgb(158,202,225)"
          ],
          [
           0.5,
           "rgb(107,174,214)"
          ],
          [
           0.625,
           "rgb(66,146,198)"
          ],
          [
           0.75,
           "rgb(33,113,181)"
          ],
          [
           0.875,
           "rgb(8,81,156)"
          ],
          [
           1,
           "rgb(8,48,107)"
          ]
         ],
         "connectgaps": true,
         "contours": {
          "coloring": "heatmap"
         },
         "hoverinfo": "none",
         "line": {
          "smoothing": 1.3
         },
         "reversescale": false,
         "showscale": false,
         "type": "contour",
         "x": [
          2500,
          50000,
          100000,
          150000,
          200000,
          250000,
          300000,
          350000,
          400000,
          450000,
          500000,
          1000000,
          1047500
         ],
         "xaxis": "x14",
         "y": [
          0.8967217550694253,
          0.9015332924589152,
          0.9023110447959488,
          0.9041181747731538,
          0.9132761126176273,
          0.9135549843660378,
          0.9184950584749083,
          0.9235802548081983,
          0.9267518483044083,
          0.92885650612723,
          0.9344907511949925,
          0.9407264655316708,
          0.9425865440966986,
          0.9432979930735299,
          0.944717636907831,
          0.9524456507336426,
          0.9528706435979579,
          0.9551137737400753,
          0.9621466953758586,
          0.962212074959442,
          0.9672812275108122,
          0.9744324353443722,
          0.9788684016478556,
          0.99,
          0.9942072840510408,
          0.9977640402487132,
          1.002575577638203
         ],
         "yaxis": "y14",
         "z": [
          [
           null,
           null,
           null,
           null,
           null,
           null,
           null,
           null,
           null,
           null,
           null,
           null,
           null
          ],
          [
           null,
           null,
           null,
           null,
           null,
           null,
           null,
           -55503.768000000004,
           null,
           null,
           null,
           null,
           null
          ],
          [
           null,
           null,
           null,
           null,
           null,
           null,
           null,
           null,
           null,
           -56057.909999999996,
           null,
           null,
           null
          ],
          [
           null,
           null,
           null,
           null,
           null,
           null,
           null,
           -50682.386000000006,
           null,
           null,
           null,
           null,
           null
          ],
          [
           null,
           null,
           null,
           null,
           null,
           null,
           null,
           -56822.038,
           null,
           null,
           null,
           null,
           null
          ],
          [
           null,
           null,
           null,
           null,
           null,
           null,
           null,
           null,
           -57185.664000000004,
           null,
           null,
           null,
           null
          ],
          [
           null,
           null,
           null,
           null,
           null,
           null,
           null,
           null,
           -55051.342000000004,
           null,
           null,
           null,
           null
          ],
          [
           null,
           null,
           null,
           null,
           -57037.62999999999,
           null,
           null,
           null,
           null,
           null,
           null,
           null,
           null
          ],
          [
           null,
           null,
           -57631.78400000001,
           null,
           null,
           null,
           null,
           null,
           null,
           null,
           null,
           null,
           null
          ],
          [
           null,
           null,
           null,
           null,
           null,
           -56978.46800000001,
           null,
           null,
           null,
           null,
           null,
           null,
           null
          ],
          [
           null,
           null,
           null,
           null,
           -19807164.772000004,
           null,
           null,
           null,
           null,
           null,
           null,
           null,
           null
          ],
          [
           null,
           null,
           null,
           null,
           null,
           -57591.476,
           null,
           null,
           null,
           null,
           null,
           null,
           null
          ],
          [
           null,
           null,
           null,
           null,
           null,
           null,
           -56055.846,
           null,
           null,
           null,
           null,
           null,
           null
          ],
          [
           null,
           null,
           null,
           null,
           null,
           null,
           null,
           null,
           null,
           null,
           -57882.712,
           null,
           null
          ],
          [
           null,
           null,
           null,
           null,
           null,
           null,
           -55144.46,
           null,
           null,
           null,
           null,
           null,
           null
          ],
          [
           null,
           null,
           null,
           null,
           null,
           null,
           -56538.89200000001,
           null,
           null,
           null,
           null,
           null,
           null
          ],
          [
           null,
           null,
           null,
           null,
           null,
           -56952.996,
           null,
           null,
           null,
           null,
           null,
           null,
           null
          ],
          [
           null,
           null,
           null,
           null,
           null,
           -54697.085999999996,
           null,
           null,
           null,
           null,
           null,
           null,
           null
          ],
          [
           null,
           null,
           null,
           null,
           null,
           null,
           null,
           -55592.636,
           null,
           null,
           null,
           null,
           null
          ],
          [
           null,
           null,
           null,
           null,
           null,
           null,
           -56492.34000000001,
           null,
           null,
           null,
           null,
           null,
           null
          ],
          [
           null,
           null,
           null,
           -55168.012,
           null,
           null,
           null,
           null,
           null,
           null,
           null,
           null,
           null
          ],
          [
           null,
           -55981.33999999999,
           null,
           null,
           null,
           null,
           null,
           null,
           null,
           null,
           null,
           null,
           null
          ],
          [
           null,
           null,
           null,
           null,
           -56271.886,
           null,
           null,
           null,
           null,
           null,
           null,
           null,
           null
          ],
          [
           null,
           null,
           null,
           null,
           null,
           null,
           null,
           null,
           null,
           null,
           null,
           -56008.922,
           null
          ],
          [
           null,
           null,
           null,
           null,
           null,
           null,
           null,
           null,
           null,
           null,
           -56958.224,
           null,
           null
          ],
          [
           null,
           null,
           null,
           null,
           null,
           null,
           null,
           null,
           -57628.757999999994,
           null,
           null,
           null,
           null
          ],
          [
           null,
           null,
           null,
           null,
           null,
           null,
           null,
           null,
           null,
           null,
           null,
           null,
           null
          ]
         ]
        },
        {
         "marker": {
          "color": "black",
          "line": {
           "color": "Gray",
           "width": 2
          }
         },
         "mode": "markers",
         "name": "Feasible Trial",
         "showlegend": false,
         "type": "scatter",
         "x": [
          1000000,
          100000,
          200000,
          150000,
          400000,
          250000,
          350000,
          500000,
          400000,
          250000,
          300000,
          300000,
          250000,
          50000,
          500000,
          300000,
          200000,
          350000,
          450000,
          350000,
          200000,
          350000,
          300000,
          250000,
          400000
         ],
         "xaxis": "x14",
         "y": [
          0.99,
          0.9267518483044083,
          0.9235802548081983,
          0.9672812275108122,
          0.9135549843660378,
          0.9551137737400753,
          0.9621466953758586,
          0.9942072840510408,
          0.9977640402487132,
          0.92885650612723,
          0.944717636907831,
          0.9425865440966986,
          0.9528706435979579,
          0.9744324353443722,
          0.9432979930735299,
          0.9524456507336426,
          0.9788684016478556,
          0.9041181747731538,
          0.9023110447959488,
          0.9015332924589152,
          0.9344907511949925,
          0.9132761126176273,
          0.962212074959442,
          0.9407264655316708,
          0.9184950584749083
         ],
         "yaxis": "y14"
        },
        {
         "colorbar": {
          "title": {
           "text": "Objective Value"
          }
         },
         "colorscale": [
          [
           0,
           "rgb(247,251,255)"
          ],
          [
           0.125,
           "rgb(222,235,247)"
          ],
          [
           0.25,
           "rgb(198,219,239)"
          ],
          [
           0.375,
           "rgb(158,202,225)"
          ],
          [
           0.5,
           "rgb(107,174,214)"
          ],
          [
           0.625,
           "rgb(66,146,198)"
          ],
          [
           0.75,
           "rgb(33,113,181)"
          ],
          [
           0.875,
           "rgb(8,81,156)"
          ],
          [
           1,
           "rgb(8,48,107)"
          ]
         ],
         "connectgaps": true,
         "contours": {
          "coloring": "heatmap"
         },
         "hoverinfo": "none",
         "line": {
          "smoothing": 1.3
         },
         "reversescale": false,
         "showscale": false,
         "type": "contour",
         "x": [
          2500,
          50000,
          100000,
          150000,
          200000,
          250000,
          300000,
          350000,
          400000,
          450000,
          500000,
          1000000,
          1047500
         ],
         "xaxis": "x20",
         "y": [
          0.00000935321866931526,
          0.00001168374280981023,
          0.000011725185367375389,
          0.000018457592502541072,
          0.000019361100467397984,
          0.000029473700406656617,
          0.000030023649525123333,
          0.00003004969440006251,
          0.000031887871798989554,
          0.000037656338089744616,
          0.00004531034871593193,
          0.00005048035533561577,
          0.00005611816797749212,
          0.00006205304996490255,
          0.0000644037276257185,
          0.00006976425460110442,
          0.00007229091027503433,
          0.00010062612259505235,
          0.0001047196587513247,
          0.00013300818313200042,
          0.00015377020282693002,
          0.00021997213915881885,
          0.00025892512702773,
          0.0003713120921827322,
          0.0005561876608894562,
          0.001,
          0.0012491681444528437
         ],
         "yaxis": "y20",
         "z": [
          [
           null,
           null,
           null,
           null,
           null,
           null,
           null,
           null,
           null,
           null,
           null,
           null,
           null
          ],
          [
           null,
           null,
           null,
           null,
           null,
           null,
           null,
           null,
           -57628.757999999994,
           null,
           null,
           null,
           null
          ],
          [
           null,
           null,
           null,
           null,
           -57037.62999999999,
           null,
           null,
           null,
           null,
           null,
           null,
           null,
           null
          ],
          [
           null,
           null,
           null,
           null,
           -56271.886,
           null,
           null,
           null,
           null,
           null,
           null,
           null,
           null
          ],
          [
           null,
           null,
           null,
           null,
           null,
           null,
           -56492.34000000001,
           null,
           null,
           null,
           null,
           null,
           null
          ],
          [
           null,
           null,
           null,
           null,
           null,
           null,
           -56055.846,
           null,
           null,
           null,
           null,
           null,
           null
          ],
          [
           null,
           -55981.33999999999,
           null,
           null,
           null,
           null,
           null,
           null,
           null,
           null,
           null,
           null,
           null
          ],
          [
           null,
           null,
           null,
           null,
           null,
           -56952.996,
           null,
           null,
           null,
           null,
           null,
           null,
           null
          ],
          [
           null,
           null,
           null,
           null,
           null,
           null,
           -55144.46,
           null,
           null,
           null,
           null,
           null,
           null
          ],
          [
           null,
           null,
           null,
           null,
           null,
           null,
           -56538.89200000001,
           null,
           null,
           null,
           null,
           null,
           null
          ],
          [
           null,
           null,
           null,
           null,
           null,
           null,
           null,
           -56822.038,
           null,
           null,
           null,
           null,
           null
          ],
          [
           null,
           null,
           null,
           null,
           null,
           -57591.476,
           null,
           null,
           null,
           null,
           null,
           null,
           null
          ],
          [
           null,
           null,
           null,
           null,
           null,
           null,
           null,
           -50682.386000000006,
           null,
           null,
           null,
           null,
           null
          ],
          [
           null,
           null,
           null,
           null,
           null,
           null,
           null,
           -55503.768000000004,
           null,
           null,
           null,
           null,
           null
          ],
          [
           null,
           null,
           null,
           null,
           null,
           null,
           null,
           null,
           null,
           null,
           -56958.224,
           null,
           null
          ],
          [
           null,
           null,
           -57631.78400000001,
           null,
           null,
           null,
           null,
           null,
           null,
           null,
           null,
           null,
           null
          ],
          [
           null,
           null,
           null,
           null,
           null,
           -54697.085999999996,
           null,
           null,
           null,
           null,
           null,
           null,
           null
          ],
          [
           null,
           null,
           null,
           null,
           null,
           null,
           null,
           -55592.636,
           null,
           null,
           null,
           null,
           null
          ],
          [
           null,
           null,
           null,
           null,
           null,
           null,
           null,
           null,
           -57185.664000000004,
           null,
           null,
           null,
           null
          ],
          [
           null,
           null,
           null,
           null,
           null,
           null,
           null,
           null,
           -55051.342000000004,
           null,
           null,
           null,
           null
          ],
          [
           null,
           null,
           null,
           -55168.012,
           null,
           null,
           null,
           null,
           null,
           null,
           null,
           null,
           null
          ],
          [
           null,
           null,
           null,
           null,
           null,
           null,
           null,
           null,
           null,
           null,
           -57882.712,
           null,
           null
          ],
          [
           null,
           null,
           null,
           null,
           null,
           null,
           null,
           null,
           null,
           -56057.909999999996,
           null,
           null,
           null
          ],
          [
           null,
           null,
           null,
           null,
           null,
           -56978.46800000001,
           null,
           null,
           null,
           null,
           null,
           null,
           null
          ],
          [
           null,
           null,
           null,
           null,
           -19807164.772000004,
           null,
           null,
           null,
           null,
           null,
           null,
           null,
           null
          ],
          [
           null,
           null,
           null,
           null,
           null,
           null,
           null,
           null,
           null,
           null,
           null,
           -56008.922,
           null
          ],
          [
           null,
           null,
           null,
           null,
           null,
           null,
           null,
           null,
           null,
           null,
           null,
           null,
           null
          ]
         ]
        },
        {
         "marker": {
          "color": "black",
          "line": {
           "color": "Gray",
           "width": 2
          }
         },
         "mode": "markers",
         "name": "Feasible Trial",
         "showlegend": false,
         "type": "scatter",
         "x": [
          1000000,
          100000,
          200000,
          150000,
          400000,
          250000,
          350000,
          500000,
          400000,
          250000,
          300000,
          300000,
          250000,
          50000,
          500000,
          300000,
          200000,
          350000,
          450000,
          350000,
          200000,
          350000,
          300000,
          250000,
          400000
         ],
         "xaxis": "x20",
         "y": [
          0.001,
          0.00006976425460110442,
          0.000011725185367375389,
          0.00015377020282693002,
          0.0001047196587513247,
          0.00007229091027503433,
          0.00010062612259505235,
          0.0000644037276257185,
          0.00001168374280981023,
          0.0003713120921827322,
          0.000031887871798989554,
          0.000029473700406656617,
          0.00003004969440006251,
          0.000030023649525123333,
          0.00021997213915881885,
          0.000037656338089744616,
          0.000018457592502541072,
          0.00005611816797749212,
          0.00025892512702773,
          0.00006205304996490255,
          0.0005561876608894562,
          0.00004531034871593193,
          0.000019361100467397984,
          0.00005048035533561577,
          0.00013300818313200042
         ],
         "yaxis": "y20"
        },
        {
         "colorbar": {
          "title": {
           "text": "Objective Value"
          }
         },
         "colorscale": [
          [
           0,
           "rgb(247,251,255)"
          ],
          [
           0.125,
           "rgb(222,235,247)"
          ],
          [
           0.25,
           "rgb(198,219,239)"
          ],
          [
           0.375,
           "rgb(158,202,225)"
          ],
          [
           0.5,
           "rgb(107,174,214)"
          ],
          [
           0.625,
           "rgb(66,146,198)"
          ],
          [
           0.75,
           "rgb(33,113,181)"
          ],
          [
           0.875,
           "rgb(8,81,156)"
          ],
          [
           1,
           "rgb(8,48,107)"
          ]
         ],
         "connectgaps": true,
         "contours": {
          "coloring": "heatmap"
         },
         "hoverinfo": "none",
         "line": {
          "smoothing": 1.3
         },
         "reversescale": false,
         "showscale": false,
         "type": "contour",
         "x": [
          2500,
          50000,
          100000,
          150000,
          200000,
          250000,
          300000,
          350000,
          400000,
          450000,
          500000,
          1000000,
          1047500
         ],
         "xaxis": "x26",
         "y": [
          0.08032245661512658,
          0.1,
          0.1654154641690807,
          0.1824965480742499,
          0.1846254107627201,
          0.2336509516388875,
          0.25223977462615943,
          0.25999463686631985,
          0.29520782619802766,
          0.29982729752599724,
          0.3089102531195254,
          0.33230321497675425,
          0.33570162160966355,
          0.3384563312235688,
          0.35253555109892754,
          0.3626713081468701,
          0.3685526207563853,
          0.37760012541074667,
          0.38142026193522827,
          0.3872212330741873,
          0.3944172007358767,
          0.41240050168747416,
          0.43377033478622673,
          0.44451684148788306,
          0.4761675059645748,
          0.49355086769746864,
          0.5132284110823421
         ],
         "yaxis": "y26",
         "z": [
          [
           null,
           null,
           null,
           null,
           null,
           null,
           null,
           null,
           null,
           null,
           null,
           null,
           null
          ],
          [
           null,
           null,
           null,
           null,
           null,
           null,
           null,
           null,
           null,
           null,
           null,
           -56008.922,
           null
          ],
          [
           null,
           null,
           null,
           null,
           null,
           -56978.46800000001,
           null,
           null,
           null,
           null,
           null,
           null,
           null
          ],
          [
           null,
           null,
           null,
           null,
           null,
           null,
           null,
           null,
           -57628.757999999994,
           null,
           null,
           null,
           null
          ],
          [
           null,
           null,
           null,
           null,
           null,
           null,
           null,
           null,
           -57185.664000000004,
           null,
           null,
           null,
           null
          ],
          [
           null,
           null,
           null,
           -55168.012,
           null,
           null,
           null,
           null,
           null,
           null,
           null,
           null,
           null
          ],
          [
           null,
           null,
           null,
           null,
           null,
           null,
           null,
           null,
           null,
           -56057.909999999996,
           null,
           null,
           null
          ],
          [
           null,
           null,
           null,
           null,
           null,
           -57591.476,
           null,
           null,
           null,
           null,
           null,
           null,
           null
          ],
          [
           null,
           null,
           -57631.78400000001,
           null,
           null,
           null,
           null,
           null,
           null,
           null,
           null,
           null,
           null
          ],
          [
           null,
           null,
           null,
           null,
           null,
           null,
           -56538.89200000001,
           null,
           null,
           null,
           null,
           null,
           null
          ],
          [
           null,
           null,
           null,
           null,
           -57037.62999999999,
           null,
           null,
           null,
           null,
           null,
           null,
           null,
           null
          ],
          [
           null,
           null,
           null,
           null,
           null,
           null,
           -56492.34000000001,
           null,
           null,
           null,
           null,
           null,
           null
          ],
          [
           null,
           null,
           null,
           null,
           null,
           null,
           null,
           -55503.768000000004,
           null,
           null,
           null,
           null,
           null
          ],
          [
           null,
           null,
           null,
           null,
           null,
           null,
           null,
           -50682.386000000006,
           null,
           null,
           null,
           null,
           null
          ],
          [
           null,
           -55981.33999999999,
           null,
           null,
           null,
           null,
           null,
           null,
           null,
           null,
           null,
           null,
           null
          ],
          [
           null,
           null,
           null,
           null,
           null,
           -54697.085999999996,
           null,
           null,
           null,
           null,
           null,
           null,
           null
          ],
          [
           null,
           null,
           null,
           null,
           null,
           -56952.996,
           null,
           null,
           null,
           null,
           null,
           null,
           null
          ],
          [
           null,
           null,
           null,
           null,
           null,
           null,
           null,
           null,
           -55051.342000000004,
           null,
           null,
           null,
           null
          ],
          [
           null,
           null,
           null,
           null,
           null,
           null,
           -55144.46,
           null,
           null,
           null,
           null,
           null,
           null
          ],
          [
           null,
           null,
           null,
           null,
           null,
           null,
           null,
           -56822.038,
           null,
           null,
           null,
           null,
           null
          ],
          [
           null,
           null,
           null,
           null,
           null,
           null,
           -56055.846,
           null,
           null,
           null,
           null,
           null,
           null
          ],
          [
           null,
           null,
           null,
           null,
           -56271.886,
           null,
           null,
           null,
           null,
           null,
           null,
           null,
           null
          ],
          [
           null,
           null,
           null,
           null,
           null,
           null,
           null,
           -55592.636,
           null,
           null,
           null,
           null,
           null
          ],
          [
           null,
           null,
           null,
           null,
           -19807164.772000004,
           null,
           null,
           null,
           null,
           null,
           null,
           null,
           null
          ],
          [
           null,
           null,
           null,
           null,
           null,
           null,
           null,
           null,
           null,
           null,
           -56958.224,
           null,
           null
          ],
          [
           null,
           null,
           null,
           null,
           null,
           null,
           null,
           null,
           null,
           null,
           -57882.712,
           null,
           null
          ],
          [
           null,
           null,
           null,
           null,
           null,
           null,
           null,
           null,
           null,
           null,
           null,
           null,
           null
          ]
         ]
        },
        {
         "marker": {
          "color": "black",
          "line": {
           "color": "Gray",
           "width": 2
          }
         },
         "mode": "markers",
         "name": "Feasible Trial",
         "showlegend": false,
         "type": "scatter",
         "x": [
          1000000,
          100000,
          200000,
          150000,
          400000,
          250000,
          350000,
          500000,
          400000,
          250000,
          300000,
          300000,
          250000,
          50000,
          500000,
          300000,
          200000,
          350000,
          450000,
          350000,
          200000,
          350000,
          300000,
          250000,
          400000
         ],
         "xaxis": "x26",
         "y": [
          0.1,
          0.29520782619802766,
          0.3089102531195254,
          0.2336509516388875,
          0.1846254107627201,
          0.3626713081468701,
          0.43377033478622673,
          0.4761675059645748,
          0.1824965480742499,
          0.1654154641690807,
          0.38142026193522827,
          0.3944172007358767,
          0.3685526207563853,
          0.35253555109892754,
          0.49355086769746864,
          0.29982729752599724,
          0.41240050168747416,
          0.3384563312235688,
          0.25223977462615943,
          0.33570162160966355,
          0.44451684148788306,
          0.3872212330741873,
          0.33230321497675425,
          0.25999463686631985,
          0.37760012541074667
         ],
         "yaxis": "y26"
        },
        {
         "colorbar": {
          "title": {
           "text": "Objective Value"
          }
         },
         "colorscale": [
          [
           0,
           "rgb(247,251,255)"
          ],
          [
           0.125,
           "rgb(222,235,247)"
          ],
          [
           0.25,
           "rgb(198,219,239)"
          ],
          [
           0.375,
           "rgb(158,202,225)"
          ],
          [
           0.5,
           "rgb(107,174,214)"
          ],
          [
           0.625,
           "rgb(66,146,198)"
          ],
          [
           0.75,
           "rgb(33,113,181)"
          ],
          [
           0.875,
           "rgb(8,81,156)"
          ],
          [
           1,
           "rgb(8,48,107)"
          ]
         ],
         "connectgaps": true,
         "contours": {
          "coloring": "heatmap"
         },
         "hoverinfo": "none",
         "line": {
          "smoothing": 1.3
         },
         "reversescale": false,
         "showscale": false,
         "type": "contour",
         "x": [
          2500,
          50000,
          100000,
          150000,
          200000,
          250000,
          300000,
          350000,
          400000,
          450000,
          500000,
          1000000,
          1047500
         ],
         "xaxis": "x32",
         "y": [
          0.0009056354041980357,
          0.001129748991583551,
          0.002102535340997532,
          0.002621000150777214,
          0.0034045074976167614,
          0.0038757719728482955,
          0.005,
          0.00667489535344205,
          0.00691916654544977,
          0.007700374079292978,
          0.00784627729837932,
          0.008131361443503082,
          0.008395605554417146,
          0.01147781207908402,
          0.012993981044991262,
          0.01320411007804864,
          0.018232506295228452,
          0.019600262046321752,
          0.025136744298222623,
          0.025705570579629,
          0.026171471880384028,
          0.04058933625309135,
          0.04322569863337195,
          0.07575647320418369,
          0.08454887194673188,
          0.09409214442516224,
          0.11737671118808882
         ],
         "yaxis": "y32",
         "z": [
          [
           null,
           null,
           null,
           null,
           null,
           null,
           null,
           null,
           null,
           null,
           null,
           null,
           null
          ],
          [
           null,
           null,
           -57631.78400000001,
           null,
           null,
           null,
           null,
           null,
           null,
           null,
           null,
           null,
           null
          ],
          [
           null,
           null,
           null,
           null,
           null,
           null,
           null,
           null,
           null,
           -56057.909999999996,
           null,
           null,
           null
          ],
          [
           null,
           null,
           null,
           null,
           null,
           -56978.46800000001,
           null,
           null,
           null,
           null,
           null,
           null,
           null
          ],
          [
           null,
           null,
           null,
           null,
           -19807164.772000004,
           null,
           null,
           null,
           null,
           null,
           null,
           null,
           null
          ],
          [
           null,
           null,
           null,
           null,
           null,
           null,
           -56538.89200000001,
           null,
           null,
           null,
           null,
           null,
           null
          ],
          [
           null,
           null,
           null,
           null,
           null,
           null,
           null,
           null,
           null,
           null,
           null,
           -56008.922,
           null
          ],
          [
           null,
           null,
           null,
           null,
           null,
           null,
           null,
           null,
           -57628.757999999994,
           null,
           null,
           null,
           null
          ],
          [
           null,
           null,
           null,
           null,
           null,
           null,
           null,
           null,
           -55051.342000000004,
           null,
           null,
           null,
           null
          ],
          [
           null,
           null,
           null,
           null,
           null,
           -54697.085999999996,
           null,
           null,
           null,
           null,
           null,
           null,
           null
          ],
          [
           null,
           null,
           null,
           null,
           null,
           null,
           null,
           -55503.768000000004,
           null,
           null,
           null,
           null,
           null
          ],
          [
           null,
           null,
           null,
           null,
           null,
           null,
           null,
           -50682.386000000006,
           null,
           null,
           null,
           null,
           null
          ],
          [
           null,
           null,
           null,
           null,
           null,
           null,
           -56492.34000000001,
           null,
           null,
           null,
           null,
           null,
           null
          ],
          [
           null,
           null,
           null,
           null,
           -57037.62999999999,
           null,
           null,
           null,
           null,
           null,
           null,
           null,
           null
          ],
          [
           null,
           -55981.33999999999,
           null,
           null,
           null,
           null,
           null,
           null,
           null,
           null,
           null,
           null,
           null
          ],
          [
           null,
           null,
           null,
           null,
           null,
           -57591.476,
           null,
           null,
           null,
           null,
           null,
           null,
           null
          ],
          [
           null,
           null,
           null,
           null,
           null,
           null,
           null,
           -56822.038,
           null,
           null,
           null,
           null,
           null
          ],
          [
           null,
           null,
           null,
           -55168.012,
           null,
           null,
           null,
           null,
           null,
           null,
           null,
           null,
           null
          ],
          [
           null,
           null,
           null,
           null,
           null,
           null,
           -55144.46,
           null,
           null,
           null,
           null,
           null,
           null
          ],
          [
           null,
           null,
           null,
           null,
           null,
           -56952.996,
           null,
           null,
           null,
           null,
           null,
           null,
           null
          ],
          [
           null,
           null,
           null,
           null,
           null,
           null,
           -56055.846,
           null,
           null,
           null,
           null,
           null,
           null
          ],
          [
           null,
           null,
           null,
           null,
           null,
           null,
           null,
           null,
           null,
           null,
           -57882.712,
           null,
           null
          ],
          [
           null,
           null,
           null,
           null,
           -56271.886,
           null,
           null,
           null,
           null,
           null,
           null,
           null,
           null
          ],
          [
           null,
           null,
           null,
           null,
           null,
           null,
           null,
           null,
           -57185.664000000004,
           null,
           null,
           null,
           null
          ],
          [
           null,
           null,
           null,
           null,
           null,
           null,
           null,
           null,
           null,
           null,
           -56958.224,
           null,
           null
          ],
          [
           null,
           null,
           null,
           null,
           null,
           null,
           null,
           -55592.636,
           null,
           null,
           null,
           null,
           null
          ],
          [
           null,
           null,
           null,
           null,
           null,
           null,
           null,
           null,
           null,
           null,
           null,
           null,
           null
          ]
         ]
        },
        {
         "marker": {
          "color": "black",
          "line": {
           "color": "Gray",
           "width": 2
          }
         },
         "mode": "markers",
         "name": "Feasible Trial",
         "showlegend": false,
         "type": "scatter",
         "x": [
          1000000,
          100000,
          200000,
          150000,
          400000,
          250000,
          350000,
          500000,
          400000,
          250000,
          300000,
          300000,
          250000,
          50000,
          500000,
          300000,
          200000,
          350000,
          450000,
          350000,
          200000,
          350000,
          300000,
          250000,
          400000
         ],
         "xaxis": "x32",
         "y": [
          0.005,
          0.001129748991583551,
          0.01147781207908402,
          0.019600262046321752,
          0.07575647320418369,
          0.007700374079292978,
          0.09409214442516224,
          0.08454887194673188,
          0.00667489535344205,
          0.002621000150777214,
          0.025136744298222623,
          0.026171471880384028,
          0.025705570579629,
          0.012993981044991262,
          0.04058933625309135,
          0.0038757719728482955,
          0.04322569863337195,
          0.008131361443503082,
          0.002102535340997532,
          0.00784627729837932,
          0.0034045074976167614,
          0.018232506295228452,
          0.008395605554417146,
          0.01320411007804864,
          0.00691916654544977
         ],
         "yaxis": "y32"
        },
        {
         "colorbar": {
          "title": {
           "text": "Objective Value"
          }
         },
         "colorscale": [
          [
           0,
           "rgb(247,251,255)"
          ],
          [
           0.125,
           "rgb(222,235,247)"
          ],
          [
           0.25,
           "rgb(198,219,239)"
          ],
          [
           0.375,
           "rgb(158,202,225)"
          ],
          [
           0.5,
           "rgb(107,174,214)"
          ],
          [
           0.625,
           "rgb(66,146,198)"
          ],
          [
           0.75,
           "rgb(33,113,181)"
          ],
          [
           0.875,
           "rgb(8,81,156)"
          ],
          [
           1,
           "rgb(8,48,107)"
          ]
         ],
         "connectgaps": true,
         "contours": {
          "coloring": "heatmap"
         },
         "hoverinfo": "none",
         "line": {
          "smoothing": 1.3
         },
         "reversescale": false,
         "showscale": false,
         "type": "contour",
         "x": [
          0.8967217550694253,
          0.9015332924589152,
          0.9023110447959488,
          0.9041181747731538,
          0.9132761126176273,
          0.9135549843660378,
          0.9184950584749083,
          0.9235802548081983,
          0.9267518483044083,
          0.92885650612723,
          0.9344907511949925,
          0.9407264655316708,
          0.9425865440966986,
          0.9432979930735299,
          0.944717636907831,
          0.9524456507336426,
          0.9528706435979579,
          0.9551137737400753,
          0.9621466953758586,
          0.962212074959442,
          0.9672812275108122,
          0.9744324353443722,
          0.9788684016478556,
          0.99,
          0.9942072840510408,
          0.9977640402487132,
          1.002575577638203
         ],
         "xaxis": "x3",
         "y": [
          20.799999999999997,
          32,
          64,
          128,
          256,
          267.2
         ],
         "yaxis": "y3",
         "z": [
          [
           null,
           null,
           null,
           null,
           null,
           null,
           null,
           null,
           null,
           null,
           null,
           null,
           null,
           null,
           null,
           null,
           null,
           null,
           null,
           null,
           null,
           null,
           null,
           null,
           null,
           null,
           null
          ],
          [
           null,
           null,
           null,
           null,
           null,
           -57185.664000000004,
           null,
           -57037.62999999999,
           null,
           -56978.46800000001,
           null,
           null,
           null,
           null,
           null,
           null,
           null,
           null,
           -55592.636,
           null,
           -55168.012,
           null,
           null,
           null,
           null,
           null,
           null
          ],
          [
           null,
           null,
           null,
           -50682.386000000006,
           -56822.038,
           null,
           null,
           null,
           null,
           null,
           -19807164.772000004,
           -57591.476,
           -56055.846,
           null,
           -55144.46,
           -56538.89200000001,
           -56952.996,
           null,
           null,
           -56492.34000000001,
           null,
           -55981.33999999999,
           null,
           null,
           null,
           null,
           null
          ],
          [
           null,
           null,
           -56057.909999999996,
           null,
           null,
           null,
           -55051.342000000004,
           null,
           -57631.78400000001,
           null,
           null,
           null,
           null,
           -57882.712,
           null,
           null,
           null,
           -54697.085999999996,
           null,
           null,
           null,
           null,
           -56271.886,
           null,
           -56958.224,
           null,
           null
          ],
          [
           null,
           -55503.768000000004,
           null,
           null,
           null,
           null,
           null,
           null,
           null,
           null,
           null,
           null,
           null,
           null,
           null,
           null,
           null,
           null,
           null,
           null,
           null,
           null,
           null,
           -56008.922,
           null,
           -57628.757999999994,
           null
          ],
          [
           null,
           null,
           null,
           null,
           null,
           null,
           null,
           null,
           null,
           null,
           null,
           null,
           null,
           null,
           null,
           null,
           null,
           null,
           null,
           null,
           null,
           null,
           null,
           null,
           null,
           null,
           null
          ]
         ]
        },
        {
         "marker": {
          "color": "black",
          "line": {
           "color": "Gray",
           "width": 2
          }
         },
         "mode": "markers",
         "name": "Feasible Trial",
         "showlegend": false,
         "type": "scatter",
         "x": [
          0.99,
          0.9267518483044083,
          0.9235802548081983,
          0.9672812275108122,
          0.9135549843660378,
          0.9551137737400753,
          0.9621466953758586,
          0.9942072840510408,
          0.9977640402487132,
          0.92885650612723,
          0.944717636907831,
          0.9425865440966986,
          0.9528706435979579,
          0.9744324353443722,
          0.9432979930735299,
          0.9524456507336426,
          0.9788684016478556,
          0.9041181747731538,
          0.9023110447959488,
          0.9015332924589152,
          0.9344907511949925,
          0.9132761126176273,
          0.962212074959442,
          0.9407264655316708,
          0.9184950584749083
         ],
         "xaxis": "x3",
         "y": [
          256,
          128,
          32,
          32,
          32,
          128,
          32,
          128,
          256,
          32,
          64,
          64,
          64,
          64,
          128,
          64,
          128,
          64,
          128,
          256,
          64,
          64,
          64,
          64,
          128
         ],
         "yaxis": "y3"
        },
        {
         "colorbar": {
          "title": {
           "text": "Objective Value"
          }
         },
         "colorscale": [
          [
           0,
           "rgb(247,251,255)"
          ],
          [
           0.125,
           "rgb(222,235,247)"
          ],
          [
           0.25,
           "rgb(198,219,239)"
          ],
          [
           0.375,
           "rgb(158,202,225)"
          ],
          [
           0.5,
           "rgb(107,174,214)"
          ],
          [
           0.625,
           "rgb(66,146,198)"
          ],
          [
           0.75,
           "rgb(33,113,181)"
          ],
          [
           0.875,
           "rgb(8,81,156)"
          ],
          [
           1,
           "rgb(8,48,107)"
          ]
         ],
         "connectgaps": true,
         "contours": {
          "coloring": "heatmap"
         },
         "hoverinfo": "none",
         "line": {
          "smoothing": 1.3
         },
         "reversescale": false,
         "showscale": false,
         "type": "contour",
         "x": [
          0.8967217550694253,
          0.9015332924589152,
          0.9023110447959488,
          0.9041181747731538,
          0.9132761126176273,
          0.9135549843660378,
          0.9184950584749083,
          0.9235802548081983,
          0.9267518483044083,
          0.92885650612723,
          0.9344907511949925,
          0.9407264655316708,
          0.9425865440966986,
          0.9432979930735299,
          0.944717636907831,
          0.9524456507336426,
          0.9528706435979579,
          0.9551137737400753,
          0.9621466953758586,
          0.962212074959442,
          0.9672812275108122,
          0.9744324353443722,
          0.9788684016478556,
          0.99,
          0.9942072840510408,
          0.9977640402487132,
          1.002575577638203
         ],
         "xaxis": "x9",
         "y": [
          2500,
          50000,
          100000,
          150000,
          200000,
          250000,
          300000,
          350000,
          400000,
          450000,
          500000,
          1000000,
          1047500
         ],
         "yaxis": "y9",
         "z": [
          [
           null,
           null,
           null,
           null,
           null,
           null,
           null,
           null,
           null,
           null,
           null,
           null,
           null,
           null,
           null,
           null,
           null,
           null,
           null,
           null,
           null,
           null,
           null,
           null,
           null,
           null,
           null
          ],
          [
           null,
           null,
           null,
           null,
           null,
           null,
           null,
           null,
           null,
           null,
           null,
           null,
           null,
           null,
           null,
           null,
           null,
           null,
           null,
           null,
           null,
           -55981.33999999999,
           null,
           null,
           null,
           null,
           null
          ],
          [
           null,
           null,
           null,
           null,
           null,
           null,
           null,
           null,
           -57631.78400000001,
           null,
           null,
           null,
           null,
           null,
           null,
           null,
           null,
           null,
           null,
           null,
           null,
           null,
           null,
           null,
           null,
           null,
           null
          ],
          [
           null,
           null,
           null,
           null,
           null,
           null,
           null,
           null,
           null,
           null,
           null,
           null,
           null,
           null,
           null,
           null,
           null,
           null,
           null,
           null,
           -55168.012,
           null,
           null,
           null,
           null,
           null,
           null
          ],
          [
           null,
           null,
           null,
           null,
           null,
           null,
           null,
           -57037.62999999999,
           null,
           null,
           -19807164.772000004,
           null,
           null,
           null,
           null,
           null,
           null,
           null,
           null,
           null,
           null,
           null,
           -56271.886,
           null,
           null,
           null,
           null
          ],
          [
           null,
           null,
           null,
           null,
           null,
           null,
           null,
           null,
           null,
           -56978.46800000001,
           null,
           -57591.476,
           null,
           null,
           null,
           null,
           -56952.996,
           -54697.085999999996,
           null,
           null,
           null,
           null,
           null,
           null,
           null,
           null,
           null
          ],
          [
           null,
           null,
           null,
           null,
           null,
           null,
           null,
           null,
           null,
           null,
           null,
           null,
           -56055.846,
           null,
           -55144.46,
           -56538.89200000001,
           null,
           null,
           null,
           -56492.34000000001,
           null,
           null,
           null,
           null,
           null,
           null,
           null
          ],
          [
           null,
           -55503.768000000004,
           null,
           -50682.386000000006,
           -56822.038,
           null,
           null,
           null,
           null,
           null,
           null,
           null,
           null,
           null,
           null,
           null,
           null,
           null,
           -55592.636,
           null,
           null,
           null,
           null,
           null,
           null,
           null,
           null
          ],
          [
           null,
           null,
           null,
           null,
           null,
           -57185.664000000004,
           -55051.342000000004,
           null,
           null,
           null,
           null,
           null,
           null,
           null,
           null,
           null,
           null,
           null,
           null,
           null,
           null,
           null,
           null,
           null,
           null,
           -57628.757999999994,
           null
          ],
          [
           null,
           null,
           -56057.909999999996,
           null,
           null,
           null,
           null,
           null,
           null,
           null,
           null,
           null,
           null,
           null,
           null,
           null,
           null,
           null,
           null,
           null,
           null,
           null,
           null,
           null,
           null,
           null,
           null
          ],
          [
           null,
           null,
           null,
           null,
           null,
           null,
           null,
           null,
           null,
           null,
           null,
           null,
           null,
           -57882.712,
           null,
           null,
           null,
           null,
           null,
           null,
           null,
           null,
           null,
           null,
           -56958.224,
           null,
           null
          ],
          [
           null,
           null,
           null,
           null,
           null,
           null,
           null,
           null,
           null,
           null,
           null,
           null,
           null,
           null,
           null,
           null,
           null,
           null,
           null,
           null,
           null,
           null,
           null,
           -56008.922,
           null,
           null,
           null
          ],
          [
           null,
           null,
           null,
           null,
           null,
           null,
           null,
           null,
           null,
           null,
           null,
           null,
           null,
           null,
           null,
           null,
           null,
           null,
           null,
           null,
           null,
           null,
           null,
           null,
           null,
           null,
           null
          ]
         ]
        },
        {
         "marker": {
          "color": "black",
          "line": {
           "color": "Gray",
           "width": 2
          }
         },
         "mode": "markers",
         "name": "Feasible Trial",
         "showlegend": false,
         "type": "scatter",
         "x": [
          0.99,
          0.9267518483044083,
          0.9235802548081983,
          0.9672812275108122,
          0.9135549843660378,
          0.9551137737400753,
          0.9621466953758586,
          0.9942072840510408,
          0.9977640402487132,
          0.92885650612723,
          0.944717636907831,
          0.9425865440966986,
          0.9528706435979579,
          0.9744324353443722,
          0.9432979930735299,
          0.9524456507336426,
          0.9788684016478556,
          0.9041181747731538,
          0.9023110447959488,
          0.9015332924589152,
          0.9344907511949925,
          0.9132761126176273,
          0.962212074959442,
          0.9407264655316708,
          0.9184950584749083
         ],
         "xaxis": "x9",
         "y": [
          1000000,
          100000,
          200000,
          150000,
          400000,
          250000,
          350000,
          500000,
          400000,
          250000,
          300000,
          300000,
          250000,
          50000,
          500000,
          300000,
          200000,
          350000,
          450000,
          350000,
          200000,
          350000,
          300000,
          250000,
          400000
         ],
         "yaxis": "y9"
        },
        {
         "type": "scatter",
         "xaxis": "x15",
         "yaxis": "y15"
        },
        {
         "colorbar": {
          "title": {
           "text": "Objective Value"
          }
         },
         "colorscale": [
          [
           0,
           "rgb(247,251,255)"
          ],
          [
           0.125,
           "rgb(222,235,247)"
          ],
          [
           0.25,
           "rgb(198,219,239)"
          ],
          [
           0.375,
           "rgb(158,202,225)"
          ],
          [
           0.5,
           "rgb(107,174,214)"
          ],
          [
           0.625,
           "rgb(66,146,198)"
          ],
          [
           0.75,
           "rgb(33,113,181)"
          ],
          [
           0.875,
           "rgb(8,81,156)"
          ],
          [
           1,
           "rgb(8,48,107)"
          ]
         ],
         "connectgaps": true,
         "contours": {
          "coloring": "heatmap"
         },
         "hoverinfo": "none",
         "line": {
          "smoothing": 1.3
         },
         "reversescale": false,
         "showscale": false,
         "type": "contour",
         "x": [
          0.8967217550694253,
          0.9015332924589152,
          0.9023110447959488,
          0.9041181747731538,
          0.9132761126176273,
          0.9135549843660378,
          0.9184950584749083,
          0.9235802548081983,
          0.9267518483044083,
          0.92885650612723,
          0.9344907511949925,
          0.9407264655316708,
          0.9425865440966986,
          0.9432979930735299,
          0.944717636907831,
          0.9524456507336426,
          0.9528706435979579,
          0.9551137737400753,
          0.9621466953758586,
          0.962212074959442,
          0.9672812275108122,
          0.9744324353443722,
          0.9788684016478556,
          0.99,
          0.9942072840510408,
          0.9977640402487132,
          1.002575577638203
         ],
         "xaxis": "x21",
         "y": [
          0.00000935321866931526,
          0.00001168374280981023,
          0.000011725185367375389,
          0.000018457592502541072,
          0.000019361100467397984,
          0.000029473700406656617,
          0.000030023649525123333,
          0.00003004969440006251,
          0.000031887871798989554,
          0.000037656338089744616,
          0.00004531034871593193,
          0.00005048035533561577,
          0.00005611816797749212,
          0.00006205304996490255,
          0.0000644037276257185,
          0.00006976425460110442,
          0.00007229091027503433,
          0.00010062612259505235,
          0.0001047196587513247,
          0.00013300818313200042,
          0.00015377020282693002,
          0.00021997213915881885,
          0.00025892512702773,
          0.0003713120921827322,
          0.0005561876608894562,
          0.001,
          0.0012491681444528437
         ],
         "yaxis": "y21",
         "z": [
          [
           null,
           null,
           null,
           null,
           null,
           null,
           null,
           null,
           null,
           null,
           null,
           null,
           null,
           null,
           null,
           null,
           null,
           null,
           null,
           null,
           null,
           null,
           null,
           null,
           null,
           null,
           null
          ],
          [
           null,
           null,
           null,
           null,
           null,
           null,
           null,
           null,
           null,
           null,
           null,
           null,
           null,
           null,
           null,
           null,
           null,
           null,
           null,
           null,
           null,
           null,
           null,
           null,
           null,
           -57628.757999999994,
           null
          ],
          [
           null,
           null,
           null,
           null,
           null,
           null,
           null,
           -57037.62999999999,
           null,
           null,
           null,
           null,
           null,
           null,
           null,
           null,
           null,
           null,
           null,
           null,
           null,
           null,
           null,
           null,
           null,
           null,
           null
          ],
          [
           null,
           null,
           null,
           null,
           null,
           null,
           null,
           null,
           null,
           null,
           null,
           null,
           null,
           null,
           null,
           null,
           null,
           null,
           null,
           null,
           null,
           null,
           -56271.886,
           null,
           null,
           null,
           null
          ],
          [
           null,
           null,
           null,
           null,
           null,
           null,
           null,
           null,
           null,
           null,
           null,
           null,
           null,
           null,
           null,
           null,
           null,
           null,
           null,
           -56492.34000000001,
           null,
           null,
           null,
           null,
           null,
           null,
           null
          ],
          [
           null,
           null,
           null,
           null,
           null,
           null,
           null,
           null,
           null,
           null,
           null,
           null,
           -56055.846,
           null,
           null,
           null,
           null,
           null,
           null,
           null,
           null,
           null,
           null,
           null,
           null,
           null,
           null
          ],
          [
           null,
           null,
           null,
           null,
           null,
           null,
           null,
           null,
           null,
           null,
           null,
           null,
           null,
           null,
           null,
           null,
           null,
           null,
           null,
           null,
           null,
           -55981.33999999999,
           null,
           null,
           null,
           null,
           null
          ],
          [
           null,
           null,
           null,
           null,
           null,
           null,
           null,
           null,
           null,
           null,
           null,
           null,
           null,
           null,
           null,
           null,
           -56952.996,
           null,
           null,
           null,
           null,
           null,
           null,
           null,
           null,
           null,
           null
          ],
          [
           null,
           null,
           null,
           null,
           null,
           null,
           null,
           null,
           null,
           null,
           null,
           null,
           null,
           null,
           -55144.46,
           null,
           null,
           null,
           null,
           null,
           null,
           null,
           null,
           null,
           null,
           null,
           null
          ],
          [
           null,
           null,
           null,
           null,
           null,
           null,
           null,
           null,
           null,
           null,
           null,
           null,
           null,
           null,
           null,
           -56538.89200000001,
           null,
           null,
           null,
           null,
           null,
           null,
           null,
           null,
           null,
           null,
           null
          ],
          [
           null,
           null,
           null,
           null,
           -56822.038,
           null,
           null,
           null,
           null,
           null,
           null,
           null,
           null,
           null,
           null,
           null,
           null,
           null,
           null,
           null,
           null,
           null,
           null,
           null,
           null,
           null,
           null
          ],
          [
           null,
           null,
           null,
           null,
           null,
           null,
           null,
           null,
           null,
           null,
           null,
           -57591.476,
           null,
           null,
           null,
           null,
           null,
           null,
           null,
           null,
           null,
           null,
           null,
           null,
           null,
           null,
           null
          ],
          [
           null,
           null,
           null,
           -50682.386000000006,
           null,
           null,
           null,
           null,
           null,
           null,
           null,
           null,
           null,
           null,
           null,
           null,
           null,
           null,
           null,
           null,
           null,
           null,
           null,
           null,
           null,
           null,
           null
          ],
          [
           null,
           -55503.768000000004,
           null,
           null,
           null,
           null,
           null,
           null,
           null,
           null,
           null,
           null,
           null,
           null,
           null,
           null,
           null,
           null,
           null,
           null,
           null,
           null,
           null,
           null,
           null,
           null,
           null
          ],
          [
           null,
           null,
           null,
           null,
           null,
           null,
           null,
           null,
           null,
           null,
           null,
           null,
           null,
           null,
           null,
           null,
           null,
           null,
           null,
           null,
           null,
           null,
           null,
           null,
           -56958.224,
           null,
           null
          ],
          [
           null,
           null,
           null,
           null,
           null,
           null,
           null,
           null,
           -57631.78400000001,
           null,
           null,
           null,
           null,
           null,
           null,
           null,
           null,
           null,
           null,
           null,
           null,
           null,
           null,
           null,
           null,
           null,
           null
          ],
          [
           null,
           null,
           null,
           null,
           null,
           null,
           null,
           null,
           null,
           null,
           null,
           null,
           null,
           null,
           null,
           null,
           null,
           -54697.085999999996,
           null,
           null,
           null,
           null,
           null,
           null,
           null,
           null,
           null
          ],
          [
           null,
           null,
           null,
           null,
           null,
           null,
           null,
           null,
           null,
           null,
           null,
           null,
           null,
           null,
           null,
           null,
           null,
           null,
           -55592.636,
           null,
           null,
           null,
           null,
           null,
           null,
           null,
           null
          ],
          [
           null,
           null,
           null,
           null,
           null,
           -57185.664000000004,
           null,
           null,
           null,
           null,
           null,
           null,
           null,
           null,
           null,
           null,
           null,
           null,
           null,
           null,
           null,
           null,
           null,
           null,
           null,
           null,
           null
          ],
          [
           null,
           null,
           null,
           null,
           null,
           null,
           -55051.342000000004,
           null,
           null,
           null,
           null,
           null,
           null,
           null,
           null,
           null,
           null,
           null,
           null,
           null,
           null,
           null,
           null,
           null,
           null,
           null,
           null
          ],
          [
           null,
           null,
           null,
           null,
           null,
           null,
           null,
           null,
           null,
           null,
           null,
           null,
           null,
           null,
           null,
           null,
           null,
           null,
           null,
           null,
           -55168.012,
           null,
           null,
           null,
           null,
           null,
           null
          ],
          [
           null,
           null,
           null,
           null,
           null,
           null,
           null,
           null,
           null,
           null,
           null,
           null,
           null,
           -57882.712,
           null,
           null,
           null,
           null,
           null,
           null,
           null,
           null,
           null,
           null,
           null,
           null,
           null
          ],
          [
           null,
           null,
           -56057.909999999996,
           null,
           null,
           null,
           null,
           null,
           null,
           null,
           null,
           null,
           null,
           null,
           null,
           null,
           null,
           null,
           null,
           null,
           null,
           null,
           null,
           null,
           null,
           null,
           null
          ],
          [
           null,
           null,
           null,
           null,
           null,
           null,
           null,
           null,
           null,
           -56978.46800000001,
           null,
           null,
           null,
           null,
           null,
           null,
           null,
           null,
           null,
           null,
           null,
           null,
           null,
           null,
           null,
           null,
           null
          ],
          [
           null,
           null,
           null,
           null,
           null,
           null,
           null,
           null,
           null,
           null,
           -19807164.772000004,
           null,
           null,
           null,
           null,
           null,
           null,
           null,
           null,
           null,
           null,
           null,
           null,
           null,
           null,
           null,
           null
          ],
          [
           null,
           null,
           null,
           null,
           null,
           null,
           null,
           null,
           null,
           null,
           null,
           null,
           null,
           null,
           null,
           null,
           null,
           null,
           null,
           null,
           null,
           null,
           null,
           -56008.922,
           null,
           null,
           null
          ],
          [
           null,
           null,
           null,
           null,
           null,
           null,
           null,
           null,
           null,
           null,
           null,
           null,
           null,
           null,
           null,
           null,
           null,
           null,
           null,
           null,
           null,
           null,
           null,
           null,
           null,
           null,
           null
          ]
         ]
        },
        {
         "marker": {
          "color": "black",
          "line": {
           "color": "Gray",
           "width": 2
          }
         },
         "mode": "markers",
         "name": "Feasible Trial",
         "showlegend": false,
         "type": "scatter",
         "x": [
          0.99,
          0.9267518483044083,
          0.9235802548081983,
          0.9672812275108122,
          0.9135549843660378,
          0.9551137737400753,
          0.9621466953758586,
          0.9942072840510408,
          0.9977640402487132,
          0.92885650612723,
          0.944717636907831,
          0.9425865440966986,
          0.9528706435979579,
          0.9744324353443722,
          0.9432979930735299,
          0.9524456507336426,
          0.9788684016478556,
          0.9041181747731538,
          0.9023110447959488,
          0.9015332924589152,
          0.9344907511949925,
          0.9132761126176273,
          0.962212074959442,
          0.9407264655316708,
          0.9184950584749083
         ],
         "xaxis": "x21",
         "y": [
          0.001,
          0.00006976425460110442,
          0.000011725185367375389,
          0.00015377020282693002,
          0.0001047196587513247,
          0.00007229091027503433,
          0.00010062612259505235,
          0.0000644037276257185,
          0.00001168374280981023,
          0.0003713120921827322,
          0.000031887871798989554,
          0.000029473700406656617,
          0.00003004969440006251,
          0.000030023649525123333,
          0.00021997213915881885,
          0.000037656338089744616,
          0.000018457592502541072,
          0.00005611816797749212,
          0.00025892512702773,
          0.00006205304996490255,
          0.0005561876608894562,
          0.00004531034871593193,
          0.000019361100467397984,
          0.00005048035533561577,
          0.00013300818313200042
         ],
         "yaxis": "y21"
        },
        {
         "colorbar": {
          "title": {
           "text": "Objective Value"
          }
         },
         "colorscale": [
          [
           0,
           "rgb(247,251,255)"
          ],
          [
           0.125,
           "rgb(222,235,247)"
          ],
          [
           0.25,
           "rgb(198,219,239)"
          ],
          [
           0.375,
           "rgb(158,202,225)"
          ],
          [
           0.5,
           "rgb(107,174,214)"
          ],
          [
           0.625,
           "rgb(66,146,198)"
          ],
          [
           0.75,
           "rgb(33,113,181)"
          ],
          [
           0.875,
           "rgb(8,81,156)"
          ],
          [
           1,
           "rgb(8,48,107)"
          ]
         ],
         "connectgaps": true,
         "contours": {
          "coloring": "heatmap"
         },
         "hoverinfo": "none",
         "line": {
          "smoothing": 1.3
         },
         "reversescale": false,
         "showscale": false,
         "type": "contour",
         "x": [
          0.8967217550694253,
          0.9015332924589152,
          0.9023110447959488,
          0.9041181747731538,
          0.9132761126176273,
          0.9135549843660378,
          0.9184950584749083,
          0.9235802548081983,
          0.9267518483044083,
          0.92885650612723,
          0.9344907511949925,
          0.9407264655316708,
          0.9425865440966986,
          0.9432979930735299,
          0.944717636907831,
          0.9524456507336426,
          0.9528706435979579,
          0.9551137737400753,
          0.9621466953758586,
          0.962212074959442,
          0.9672812275108122,
          0.9744324353443722,
          0.9788684016478556,
          0.99,
          0.9942072840510408,
          0.9977640402487132,
          1.002575577638203
         ],
         "xaxis": "x27",
         "y": [
          0.08032245661512658,
          0.1,
          0.1654154641690807,
          0.1824965480742499,
          0.1846254107627201,
          0.2336509516388875,
          0.25223977462615943,
          0.25999463686631985,
          0.29520782619802766,
          0.29982729752599724,
          0.3089102531195254,
          0.33230321497675425,
          0.33570162160966355,
          0.3384563312235688,
          0.35253555109892754,
          0.3626713081468701,
          0.3685526207563853,
          0.37760012541074667,
          0.38142026193522827,
          0.3872212330741873,
          0.3944172007358767,
          0.41240050168747416,
          0.43377033478622673,
          0.44451684148788306,
          0.4761675059645748,
          0.49355086769746864,
          0.5132284110823421
         ],
         "yaxis": "y27",
         "z": [
          [
           null,
           null,
           null,
           null,
           null,
           null,
           null,
           null,
           null,
           null,
           null,
           null,
           null,
           null,
           null,
           null,
           null,
           null,
           null,
           null,
           null,
           null,
           null,
           null,
           null,
           null,
           null
          ],
          [
           null,
           null,
           null,
           null,
           null,
           null,
           null,
           null,
           null,
           null,
           null,
           null,
           null,
           null,
           null,
           null,
           null,
           null,
           null,
           null,
           null,
           null,
           null,
           -56008.922,
           null,
           null,
           null
          ],
          [
           null,
           null,
           null,
           null,
           null,
           null,
           null,
           null,
           null,
           -56978.46800000001,
           null,
           null,
           null,
           null,
           null,
           null,
           null,
           null,
           null,
           null,
           null,
           null,
           null,
           null,
           null,
           null,
           null
          ],
          [
           null,
           null,
           null,
           null,
           null,
           null,
           null,
           null,
           null,
           null,
           null,
           null,
           null,
           null,
           null,
           null,
           null,
           null,
           null,
           null,
           null,
           null,
           null,
           null,
           null,
           -57628.757999999994,
           null
          ],
          [
           null,
           null,
           null,
           null,
           null,
           -57185.664000000004,
           null,
           null,
           null,
           null,
           null,
           null,
           null,
           null,
           null,
           null,
           null,
           null,
           null,
           null,
           null,
           null,
           null,
           null,
           null,
           null,
           null
          ],
          [
           null,
           null,
           null,
           null,
           null,
           null,
           null,
           null,
           null,
           null,
           null,
           null,
           null,
           null,
           null,
           null,
           null,
           null,
           null,
           null,
           -55168.012,
           null,
           null,
           null,
           null,
           null,
           null
          ],
          [
           null,
           null,
           -56057.909999999996,
           null,
           null,
           null,
           null,
           null,
           null,
           null,
           null,
           null,
           null,
           null,
           null,
           null,
           null,
           null,
           null,
           null,
           null,
           null,
           null,
           null,
           null,
           null,
           null
          ],
          [
           null,
           null,
           null,
           null,
           null,
           null,
           null,
           null,
           null,
           null,
           null,
           -57591.476,
           null,
           null,
           null,
           null,
           null,
           null,
           null,
           null,
           null,
           null,
           null,
           null,
           null,
           null,
           null
          ],
          [
           null,
           null,
           null,
           null,
           null,
           null,
           null,
           null,
           -57631.78400000001,
           null,
           null,
           null,
           null,
           null,
           null,
           null,
           null,
           null,
           null,
           null,
           null,
           null,
           null,
           null,
           null,
           null,
           null
          ],
          [
           null,
           null,
           null,
           null,
           null,
           null,
           null,
           null,
           null,
           null,
           null,
           null,
           null,
           null,
           null,
           -56538.89200000001,
           null,
           null,
           null,
           null,
           null,
           null,
           null,
           null,
           null,
           null,
           null
          ],
          [
           null,
           null,
           null,
           null,
           null,
           null,
           null,
           -57037.62999999999,
           null,
           null,
           null,
           null,
           null,
           null,
           null,
           null,
           null,
           null,
           null,
           null,
           null,
           null,
           null,
           null,
           null,
           null,
           null
          ],
          [
           null,
           null,
           null,
           null,
           null,
           null,
           null,
           null,
           null,
           null,
           null,
           null,
           null,
           null,
           null,
           null,
           null,
           null,
           null,
           -56492.34000000001,
           null,
           null,
           null,
           null,
           null,
           null,
           null
          ],
          [
           null,
           -55503.768000000004,
           null,
           null,
           null,
           null,
           null,
           null,
           null,
           null,
           null,
           null,
           null,
           null,
           null,
           null,
           null,
           null,
           null,
           null,
           null,
           null,
           null,
           null,
           null,
           null,
           null
          ],
          [
           null,
           null,
           null,
           -50682.386000000006,
           null,
           null,
           null,
           null,
           null,
           null,
           null,
           null,
           null,
           null,
           null,
           null,
           null,
           null,
           null,
           null,
           null,
           null,
           null,
           null,
           null,
           null,
           null
          ],
          [
           null,
           null,
           null,
           null,
           null,
           null,
           null,
           null,
           null,
           null,
           null,
           null,
           null,
           null,
           null,
           null,
           null,
           null,
           null,
           null,
           null,
           -55981.33999999999,
           null,
           null,
           null,
           null,
           null
          ],
          [
           null,
           null,
           null,
           null,
           null,
           null,
           null,
           null,
           null,
           null,
           null,
           null,
           null,
           null,
           null,
           null,
           null,
           -54697.085999999996,
           null,
           null,
           null,
           null,
           null,
           null,
           null,
           null,
           null
          ],
          [
           null,
           null,
           null,
           null,
           null,
           null,
           null,
           null,
           null,
           null,
           null,
           null,
           null,
           null,
           null,
           null,
           -56952.996,
           null,
           null,
           null,
           null,
           null,
           null,
           null,
           null,
           null,
           null
          ],
          [
           null,
           null,
           null,
           null,
           null,
           null,
           -55051.342000000004,
           null,
           null,
           null,
           null,
           null,
           null,
           null,
           null,
           null,
           null,
           null,
           null,
           null,
           null,
           null,
           null,
           null,
           null,
           null,
           null
          ],
          [
           null,
           null,
           null,
           null,
           null,
           null,
           null,
           null,
           null,
           null,
           null,
           null,
           null,
           null,
           -55144.46,
           null,
           null,
           null,
           null,
           null,
           null,
           null,
           null,
           null,
           null,
           null,
           null
          ],
          [
           null,
           null,
           null,
           null,
           -56822.038,
           null,
           null,
           null,
           null,
           null,
           null,
           null,
           null,
           null,
           null,
           null,
           null,
           null,
           null,
           null,
           null,
           null,
           null,
           null,
           null,
           null,
           null
          ],
          [
           null,
           null,
           null,
           null,
           null,
           null,
           null,
           null,
           null,
           null,
           null,
           null,
           -56055.846,
           null,
           null,
           null,
           null,
           null,
           null,
           null,
           null,
           null,
           null,
           null,
           null,
           null,
           null
          ],
          [
           null,
           null,
           null,
           null,
           null,
           null,
           null,
           null,
           null,
           null,
           null,
           null,
           null,
           null,
           null,
           null,
           null,
           null,
           null,
           null,
           null,
           null,
           -56271.886,
           null,
           null,
           null,
           null
          ],
          [
           null,
           null,
           null,
           null,
           null,
           null,
           null,
           null,
           null,
           null,
           null,
           null,
           null,
           null,
           null,
           null,
           null,
           null,
           -55592.636,
           null,
           null,
           null,
           null,
           null,
           null,
           null,
           null
          ],
          [
           null,
           null,
           null,
           null,
           null,
           null,
           null,
           null,
           null,
           null,
           -19807164.772000004,
           null,
           null,
           null,
           null,
           null,
           null,
           null,
           null,
           null,
           null,
           null,
           null,
           null,
           null,
           null,
           null
          ],
          [
           null,
           null,
           null,
           null,
           null,
           null,
           null,
           null,
           null,
           null,
           null,
           null,
           null,
           null,
           null,
           null,
           null,
           null,
           null,
           null,
           null,
           null,
           null,
           null,
           -56958.224,
           null,
           null
          ],
          [
           null,
           null,
           null,
           null,
           null,
           null,
           null,
           null,
           null,
           null,
           null,
           null,
           null,
           -57882.712,
           null,
           null,
           null,
           null,
           null,
           null,
           null,
           null,
           null,
           null,
           null,
           null,
           null
          ],
          [
           null,
           null,
           null,
           null,
           null,
           null,
           null,
           null,
           null,
           null,
           null,
           null,
           null,
           null,
           null,
           null,
           null,
           null,
           null,
           null,
           null,
           null,
           null,
           null,
           null,
           null,
           null
          ]
         ]
        },
        {
         "marker": {
          "color": "black",
          "line": {
           "color": "Gray",
           "width": 2
          }
         },
         "mode": "markers",
         "name": "Feasible Trial",
         "showlegend": false,
         "type": "scatter",
         "x": [
          0.99,
          0.9267518483044083,
          0.9235802548081983,
          0.9672812275108122,
          0.9135549843660378,
          0.9551137737400753,
          0.9621466953758586,
          0.9942072840510408,
          0.9977640402487132,
          0.92885650612723,
          0.944717636907831,
          0.9425865440966986,
          0.9528706435979579,
          0.9744324353443722,
          0.9432979930735299,
          0.9524456507336426,
          0.9788684016478556,
          0.9041181747731538,
          0.9023110447959488,
          0.9015332924589152,
          0.9344907511949925,
          0.9132761126176273,
          0.962212074959442,
          0.9407264655316708,
          0.9184950584749083
         ],
         "xaxis": "x27",
         "y": [
          0.1,
          0.29520782619802766,
          0.3089102531195254,
          0.2336509516388875,
          0.1846254107627201,
          0.3626713081468701,
          0.43377033478622673,
          0.4761675059645748,
          0.1824965480742499,
          0.1654154641690807,
          0.38142026193522827,
          0.3944172007358767,
          0.3685526207563853,
          0.35253555109892754,
          0.49355086769746864,
          0.29982729752599724,
          0.41240050168747416,
          0.3384563312235688,
          0.25223977462615943,
          0.33570162160966355,
          0.44451684148788306,
          0.3872212330741873,
          0.33230321497675425,
          0.25999463686631985,
          0.37760012541074667
         ],
         "yaxis": "y27"
        },
        {
         "colorbar": {
          "title": {
           "text": "Objective Value"
          }
         },
         "colorscale": [
          [
           0,
           "rgb(247,251,255)"
          ],
          [
           0.125,
           "rgb(222,235,247)"
          ],
          [
           0.25,
           "rgb(198,219,239)"
          ],
          [
           0.375,
           "rgb(158,202,225)"
          ],
          [
           0.5,
           "rgb(107,174,214)"
          ],
          [
           0.625,
           "rgb(66,146,198)"
          ],
          [
           0.75,
           "rgb(33,113,181)"
          ],
          [
           0.875,
           "rgb(8,81,156)"
          ],
          [
           1,
           "rgb(8,48,107)"
          ]
         ],
         "connectgaps": true,
         "contours": {
          "coloring": "heatmap"
         },
         "hoverinfo": "none",
         "line": {
          "smoothing": 1.3
         },
         "reversescale": false,
         "showscale": false,
         "type": "contour",
         "x": [
          0.8967217550694253,
          0.9015332924589152,
          0.9023110447959488,
          0.9041181747731538,
          0.9132761126176273,
          0.9135549843660378,
          0.9184950584749083,
          0.9235802548081983,
          0.9267518483044083,
          0.92885650612723,
          0.9344907511949925,
          0.9407264655316708,
          0.9425865440966986,
          0.9432979930735299,
          0.944717636907831,
          0.9524456507336426,
          0.9528706435979579,
          0.9551137737400753,
          0.9621466953758586,
          0.962212074959442,
          0.9672812275108122,
          0.9744324353443722,
          0.9788684016478556,
          0.99,
          0.9942072840510408,
          0.9977640402487132,
          1.002575577638203
         ],
         "xaxis": "x33",
         "y": [
          0.0009056354041980357,
          0.001129748991583551,
          0.002102535340997532,
          0.002621000150777214,
          0.0034045074976167614,
          0.0038757719728482955,
          0.005,
          0.00667489535344205,
          0.00691916654544977,
          0.007700374079292978,
          0.00784627729837932,
          0.008131361443503082,
          0.008395605554417146,
          0.01147781207908402,
          0.012993981044991262,
          0.01320411007804864,
          0.018232506295228452,
          0.019600262046321752,
          0.025136744298222623,
          0.025705570579629,
          0.026171471880384028,
          0.04058933625309135,
          0.04322569863337195,
          0.07575647320418369,
          0.08454887194673188,
          0.09409214442516224,
          0.11737671118808882
         ],
         "yaxis": "y33",
         "z": [
          [
           null,
           null,
           null,
           null,
           null,
           null,
           null,
           null,
           null,
           null,
           null,
           null,
           null,
           null,
           null,
           null,
           null,
           null,
           null,
           null,
           null,
           null,
           null,
           null,
           null,
           null,
           null
          ],
          [
           null,
           null,
           null,
           null,
           null,
           null,
           null,
           null,
           -57631.78400000001,
           null,
           null,
           null,
           null,
           null,
           null,
           null,
           null,
           null,
           null,
           null,
           null,
           null,
           null,
           null,
           null,
           null,
           null
          ],
          [
           null,
           null,
           -56057.909999999996,
           null,
           null,
           null,
           null,
           null,
           null,
           null,
           null,
           null,
           null,
           null,
           null,
           null,
           null,
           null,
           null,
           null,
           null,
           null,
           null,
           null,
           null,
           null,
           null
          ],
          [
           null,
           null,
           null,
           null,
           null,
           null,
           null,
           null,
           null,
           -56978.46800000001,
           null,
           null,
           null,
           null,
           null,
           null,
           null,
           null,
           null,
           null,
           null,
           null,
           null,
           null,
           null,
           null,
           null
          ],
          [
           null,
           null,
           null,
           null,
           null,
           null,
           null,
           null,
           null,
           null,
           -19807164.772000004,
           null,
           null,
           null,
           null,
           null,
           null,
           null,
           null,
           null,
           null,
           null,
           null,
           null,
           null,
           null,
           null
          ],
          [
           null,
           null,
           null,
           null,
           null,
           null,
           null,
           null,
           null,
           null,
           null,
           null,
           null,
           null,
           null,
           -56538.89200000001,
           null,
           null,
           null,
           null,
           null,
           null,
           null,
           null,
           null,
           null,
           null
          ],
          [
           null,
           null,
           null,
           null,
           null,
           null,
           null,
           null,
           null,
           null,
           null,
           null,
           null,
           null,
           null,
           null,
           null,
           null,
           null,
           null,
           null,
           null,
           null,
           -56008.922,
           null,
           null,
           null
          ],
          [
           null,
           null,
           null,
           null,
           null,
           null,
           null,
           null,
           null,
           null,
           null,
           null,
           null,
           null,
           null,
           null,
           null,
           null,
           null,
           null,
           null,
           null,
           null,
           null,
           null,
           -57628.757999999994,
           null
          ],
          [
           null,
           null,
           null,
           null,
           null,
           null,
           -55051.342000000004,
           null,
           null,
           null,
           null,
           null,
           null,
           null,
           null,
           null,
           null,
           null,
           null,
           null,
           null,
           null,
           null,
           null,
           null,
           null,
           null
          ],
          [
           null,
           null,
           null,
           null,
           null,
           null,
           null,
           null,
           null,
           null,
           null,
           null,
           null,
           null,
           null,
           null,
           null,
           -54697.085999999996,
           null,
           null,
           null,
           null,
           null,
           null,
           null,
           null,
           null
          ],
          [
           null,
           -55503.768000000004,
           null,
           null,
           null,
           null,
           null,
           null,
           null,
           null,
           null,
           null,
           null,
           null,
           null,
           null,
           null,
           null,
           null,
           null,
           null,
           null,
           null,
           null,
           null,
           null,
           null
          ],
          [
           null,
           null,
           null,
           -50682.386000000006,
           null,
           null,
           null,
           null,
           null,
           null,
           null,
           null,
           null,
           null,
           null,
           null,
           null,
           null,
           null,
           null,
           null,
           null,
           null,
           null,
           null,
           null,
           null
          ],
          [
           null,
           null,
           null,
           null,
           null,
           null,
           null,
           null,
           null,
           null,
           null,
           null,
           null,
           null,
           null,
           null,
           null,
           null,
           null,
           -56492.34000000001,
           null,
           null,
           null,
           null,
           null,
           null,
           null
          ],
          [
           null,
           null,
           null,
           null,
           null,
           null,
           null,
           -57037.62999999999,
           null,
           null,
           null,
           null,
           null,
           null,
           null,
           null,
           null,
           null,
           null,
           null,
           null,
           null,
           null,
           null,
           null,
           null,
           null
          ],
          [
           null,
           null,
           null,
           null,
           null,
           null,
           null,
           null,
           null,
           null,
           null,
           null,
           null,
           null,
           null,
           null,
           null,
           null,
           null,
           null,
           null,
           -55981.33999999999,
           null,
           null,
           null,
           null,
           null
          ],
          [
           null,
           null,
           null,
           null,
           null,
           null,
           null,
           null,
           null,
           null,
           null,
           -57591.476,
           null,
           null,
           null,
           null,
           null,
           null,
           null,
           null,
           null,
           null,
           null,
           null,
           null,
           null,
           null
          ],
          [
           null,
           null,
           null,
           null,
           -56822.038,
           null,
           null,
           null,
           null,
           null,
           null,
           null,
           null,
           null,
           null,
           null,
           null,
           null,
           null,
           null,
           null,
           null,
           null,
           null,
           null,
           null,
           null
          ],
          [
           null,
           null,
           null,
           null,
           null,
           null,
           null,
           null,
           null,
           null,
           null,
           null,
           null,
           null,
           null,
           null,
           null,
           null,
           null,
           null,
           -55168.012,
           null,
           null,
           null,
           null,
           null,
           null
          ],
          [
           null,
           null,
           null,
           null,
           null,
           null,
           null,
           null,
           null,
           null,
           null,
           null,
           null,
           null,
           -55144.46,
           null,
           null,
           null,
           null,
           null,
           null,
           null,
           null,
           null,
           null,
           null,
           null
          ],
          [
           null,
           null,
           null,
           null,
           null,
           null,
           null,
           null,
           null,
           null,
           null,
           null,
           null,
           null,
           null,
           null,
           -56952.996,
           null,
           null,
           null,
           null,
           null,
           null,
           null,
           null,
           null,
           null
          ],
          [
           null,
           null,
           null,
           null,
           null,
           null,
           null,
           null,
           null,
           null,
           null,
           null,
           -56055.846,
           null,
           null,
           null,
           null,
           null,
           null,
           null,
           null,
           null,
           null,
           null,
           null,
           null,
           null
          ],
          [
           null,
           null,
           null,
           null,
           null,
           null,
           null,
           null,
           null,
           null,
           null,
           null,
           null,
           -57882.712,
           null,
           null,
           null,
           null,
           null,
           null,
           null,
           null,
           null,
           null,
           null,
           null,
           null
          ],
          [
           null,
           null,
           null,
           null,
           null,
           null,
           null,
           null,
           null,
           null,
           null,
           null,
           null,
           null,
           null,
           null,
           null,
           null,
           null,
           null,
           null,
           null,
           -56271.886,
           null,
           null,
           null,
           null
          ],
          [
           null,
           null,
           null,
           null,
           null,
           -57185.664000000004,
           null,
           null,
           null,
           null,
           null,
           null,
           null,
           null,
           null,
           null,
           null,
           null,
           null,
           null,
           null,
           null,
           null,
           null,
           null,
           null,
           null
          ],
          [
           null,
           null,
           null,
           null,
           null,
           null,
           null,
           null,
           null,
           null,
           null,
           null,
           null,
           null,
           null,
           null,
           null,
           null,
           null,
           null,
           null,
           null,
           null,
           null,
           -56958.224,
           null,
           null
          ],
          [
           null,
           null,
           null,
           null,
           null,
           null,
           null,
           null,
           null,
           null,
           null,
           null,
           null,
           null,
           null,
           null,
           null,
           null,
           -55592.636,
           null,
           null,
           null,
           null,
           null,
           null,
           null,
           null
          ],
          [
           null,
           null,
           null,
           null,
           null,
           null,
           null,
           null,
           null,
           null,
           null,
           null,
           null,
           null,
           null,
           null,
           null,
           null,
           null,
           null,
           null,
           null,
           null,
           null,
           null,
           null,
           null
          ]
         ]
        },
        {
         "marker": {
          "color": "black",
          "line": {
           "color": "Gray",
           "width": 2
          }
         },
         "mode": "markers",
         "name": "Feasible Trial",
         "showlegend": false,
         "type": "scatter",
         "x": [
          0.99,
          0.9267518483044083,
          0.9235802548081983,
          0.9672812275108122,
          0.9135549843660378,
          0.9551137737400753,
          0.9621466953758586,
          0.9942072840510408,
          0.9977640402487132,
          0.92885650612723,
          0.944717636907831,
          0.9425865440966986,
          0.9528706435979579,
          0.9744324353443722,
          0.9432979930735299,
          0.9524456507336426,
          0.9788684016478556,
          0.9041181747731538,
          0.9023110447959488,
          0.9015332924589152,
          0.9344907511949925,
          0.9132761126176273,
          0.962212074959442,
          0.9407264655316708,
          0.9184950584749083
         ],
         "xaxis": "x33",
         "y": [
          0.005,
          0.001129748991583551,
          0.01147781207908402,
          0.019600262046321752,
          0.07575647320418369,
          0.007700374079292978,
          0.09409214442516224,
          0.08454887194673188,
          0.00667489535344205,
          0.002621000150777214,
          0.025136744298222623,
          0.026171471880384028,
          0.025705570579629,
          0.012993981044991262,
          0.04058933625309135,
          0.0038757719728482955,
          0.04322569863337195,
          0.008131361443503082,
          0.002102535340997532,
          0.00784627729837932,
          0.0034045074976167614,
          0.018232506295228452,
          0.008395605554417146,
          0.01320411007804864,
          0.00691916654544977
         ],
         "yaxis": "y33"
        },
        {
         "colorbar": {
          "title": {
           "text": "Objective Value"
          }
         },
         "colorscale": [
          [
           0,
           "rgb(247,251,255)"
          ],
          [
           0.125,
           "rgb(222,235,247)"
          ],
          [
           0.25,
           "rgb(198,219,239)"
          ],
          [
           0.375,
           "rgb(158,202,225)"
          ],
          [
           0.5,
           "rgb(107,174,214)"
          ],
          [
           0.625,
           "rgb(66,146,198)"
          ],
          [
           0.75,
           "rgb(33,113,181)"
          ],
          [
           0.875,
           "rgb(8,81,156)"
          ],
          [
           1,
           "rgb(8,48,107)"
          ]
         ],
         "connectgaps": true,
         "contours": {
          "coloring": "heatmap"
         },
         "hoverinfo": "none",
         "line": {
          "smoothing": 1.3
         },
         "reversescale": false,
         "showscale": false,
         "type": "contour",
         "x": [
          0.00000935321866931526,
          0.00001168374280981023,
          0.000011725185367375389,
          0.000018457592502541072,
          0.000019361100467397984,
          0.000029473700406656617,
          0.000030023649525123333,
          0.00003004969440006251,
          0.000031887871798989554,
          0.000037656338089744616,
          0.00004531034871593193,
          0.00005048035533561577,
          0.00005611816797749212,
          0.00006205304996490255,
          0.0000644037276257185,
          0.00006976425460110442,
          0.00007229091027503433,
          0.00010062612259505235,
          0.0001047196587513247,
          0.00013300818313200042,
          0.00015377020282693002,
          0.00021997213915881885,
          0.00025892512702773,
          0.0003713120921827322,
          0.0005561876608894562,
          0.001,
          0.0012491681444528437
         ],
         "xaxis": "x4",
         "y": [
          20.799999999999997,
          32,
          64,
          128,
          256,
          267.2
         ],
         "yaxis": "y4",
         "z": [
          [
           null,
           null,
           null,
           null,
           null,
           null,
           null,
           null,
           null,
           null,
           null,
           null,
           null,
           null,
           null,
           null,
           null,
           null,
           null,
           null,
           null,
           null,
           null,
           null,
           null,
           null,
           null
          ],
          [
           null,
           null,
           -57037.62999999999,
           null,
           null,
           null,
           null,
           null,
           null,
           null,
           null,
           null,
           null,
           null,
           null,
           null,
           null,
           -55592.636,
           -57185.664000000004,
           null,
           -55168.012,
           null,
           null,
           -56978.46800000001,
           null,
           null,
           null
          ],
          [
           null,
           null,
           null,
           null,
           -56492.34000000001,
           -56055.846,
           -55981.33999999999,
           -56952.996,
           -55144.46,
           -56538.89200000001,
           -56822.038,
           -57591.476,
           -50682.386000000006,
           null,
           null,
           null,
           null,
           null,
           null,
           null,
           null,
           null,
           null,
           null,
           -19807164.772000004,
           null,
           null
          ],
          [
           null,
           null,
           null,
           -56271.886,
           null,
           null,
           null,
           null,
           null,
           null,
           null,
           null,
           null,
           null,
           -56958.224,
           -57631.78400000001,
           -54697.085999999996,
           null,
           null,
           -55051.342000000004,
           null,
           -57882.712,
           -56057.909999999996,
           null,
           null,
           null,
           null
          ],
          [
           null,
           -57628.757999999994,
           null,
           null,
           null,
           null,
           null,
           null,
           null,
           null,
           null,
           null,
           null,
           -55503.768000000004,
           null,
           null,
           null,
           null,
           null,
           null,
           null,
           null,
           null,
           null,
           null,
           -56008.922,
           null
          ],
          [
           null,
           null,
           null,
           null,
           null,
           null,
           null,
           null,
           null,
           null,
           null,
           null,
           null,
           null,
           null,
           null,
           null,
           null,
           null,
           null,
           null,
           null,
           null,
           null,
           null,
           null,
           null
          ]
         ]
        },
        {
         "marker": {
          "color": "black",
          "line": {
           "color": "Gray",
           "width": 2
          }
         },
         "mode": "markers",
         "name": "Feasible Trial",
         "showlegend": false,
         "type": "scatter",
         "x": [
          0.001,
          0.00006976425460110442,
          0.000011725185367375389,
          0.00015377020282693002,
          0.0001047196587513247,
          0.00007229091027503433,
          0.00010062612259505235,
          0.0000644037276257185,
          0.00001168374280981023,
          0.0003713120921827322,
          0.000031887871798989554,
          0.000029473700406656617,
          0.00003004969440006251,
          0.000030023649525123333,
          0.00021997213915881885,
          0.000037656338089744616,
          0.000018457592502541072,
          0.00005611816797749212,
          0.00025892512702773,
          0.00006205304996490255,
          0.0005561876608894562,
          0.00004531034871593193,
          0.000019361100467397984,
          0.00005048035533561577,
          0.00013300818313200042
         ],
         "xaxis": "x4",
         "y": [
          256,
          128,
          32,
          32,
          32,
          128,
          32,
          128,
          256,
          32,
          64,
          64,
          64,
          64,
          128,
          64,
          128,
          64,
          128,
          256,
          64,
          64,
          64,
          64,
          128
         ],
         "yaxis": "y4"
        },
        {
         "colorbar": {
          "title": {
           "text": "Objective Value"
          }
         },
         "colorscale": [
          [
           0,
           "rgb(247,251,255)"
          ],
          [
           0.125,
           "rgb(222,235,247)"
          ],
          [
           0.25,
           "rgb(198,219,239)"
          ],
          [
           0.375,
           "rgb(158,202,225)"
          ],
          [
           0.5,
           "rgb(107,174,214)"
          ],
          [
           0.625,
           "rgb(66,146,198)"
          ],
          [
           0.75,
           "rgb(33,113,181)"
          ],
          [
           0.875,
           "rgb(8,81,156)"
          ],
          [
           1,
           "rgb(8,48,107)"
          ]
         ],
         "connectgaps": true,
         "contours": {
          "coloring": "heatmap"
         },
         "hoverinfo": "none",
         "line": {
          "smoothing": 1.3
         },
         "reversescale": false,
         "showscale": false,
         "type": "contour",
         "x": [
          0.00000935321866931526,
          0.00001168374280981023,
          0.000011725185367375389,
          0.000018457592502541072,
          0.000019361100467397984,
          0.000029473700406656617,
          0.000030023649525123333,
          0.00003004969440006251,
          0.000031887871798989554,
          0.000037656338089744616,
          0.00004531034871593193,
          0.00005048035533561577,
          0.00005611816797749212,
          0.00006205304996490255,
          0.0000644037276257185,
          0.00006976425460110442,
          0.00007229091027503433,
          0.00010062612259505235,
          0.0001047196587513247,
          0.00013300818313200042,
          0.00015377020282693002,
          0.00021997213915881885,
          0.00025892512702773,
          0.0003713120921827322,
          0.0005561876608894562,
          0.001,
          0.0012491681444528437
         ],
         "xaxis": "x10",
         "y": [
          2500,
          50000,
          100000,
          150000,
          200000,
          250000,
          300000,
          350000,
          400000,
          450000,
          500000,
          1000000,
          1047500
         ],
         "yaxis": "y10",
         "z": [
          [
           null,
           null,
           null,
           null,
           null,
           null,
           null,
           null,
           null,
           null,
           null,
           null,
           null,
           null,
           null,
           null,
           null,
           null,
           null,
           null,
           null,
           null,
           null,
           null,
           null,
           null,
           null
          ],
          [
           null,
           null,
           null,
           null,
           null,
           null,
           -55981.33999999999,
           null,
           null,
           null,
           null,
           null,
           null,
           null,
           null,
           null,
           null,
           null,
           null,
           null,
           null,
           null,
           null,
           null,
           null,
           null,
           null
          ],
          [
           null,
           null,
           null,
           null,
           null,
           null,
           null,
           null,
           null,
           null,
           null,
           null,
           null,
           null,
           null,
           -57631.78400000001,
           null,
           null,
           null,
           null,
           null,
           null,
           null,
           null,
           null,
           null,
           null
          ],
          [
           null,
           null,
           null,
           null,
           null,
           null,
           null,
           null,
           null,
           null,
           null,
           null,
           null,
           null,
           null,
           null,
           null,
           null,
           null,
           null,
           -55168.012,
           null,
           null,
           null,
           null,
           null,
           null
          ],
          [
           null,
           null,
           -57037.62999999999,
           -56271.886,
           null,
           null,
           null,
           null,
           null,
           null,
           null,
           null,
           null,
           null,
           null,
           null,
           null,
           null,
           null,
           null,
           null,
           null,
           null,
           null,
           -19807164.772000004,
           null,
           null
          ],
          [
           null,
           null,
           null,
           null,
           null,
           null,
           null,
           -56952.996,
           null,
           null,
           null,
           -57591.476,
           null,
           null,
           null,
           null,
           -54697.085999999996,
           null,
           null,
           null,
           null,
           null,
           null,
           -56978.46800000001,
           null,
           null,
           null
          ],
          [
           null,
           null,
           null,
           null,
           -56492.34000000001,
           -56055.846,
           null,
           null,
           -55144.46,
           -56538.89200000001,
           null,
           null,
           null,
           null,
           null,
           null,
           null,
           null,
           null,
           null,
           null,
           null,
           null,
           null,
           null,
           null,
           null
          ],
          [
           null,
           null,
           null,
           null,
           null,
           null,
           null,
           null,
           null,
           null,
           -56822.038,
           null,
           -50682.386000000006,
           -55503.768000000004,
           null,
           null,
           null,
           -55592.636,
           null,
           null,
           null,
           null,
           null,
           null,
           null,
           null,
           null
          ],
          [
           null,
           -57628.757999999994,
           null,
           null,
           null,
           null,
           null,
           null,
           null,
           null,
           null,
           null,
           null,
           null,
           null,
           null,
           null,
           null,
           -57185.664000000004,
           -55051.342000000004,
           null,
           null,
           null,
           null,
           null,
           null,
           null
          ],
          [
           null,
           null,
           null,
           null,
           null,
           null,
           null,
           null,
           null,
           null,
           null,
           null,
           null,
           null,
           null,
           null,
           null,
           null,
           null,
           null,
           null,
           null,
           -56057.909999999996,
           null,
           null,
           null,
           null
          ],
          [
           null,
           null,
           null,
           null,
           null,
           null,
           null,
           null,
           null,
           null,
           null,
           null,
           null,
           null,
           -56958.224,
           null,
           null,
           null,
           null,
           null,
           null,
           -57882.712,
           null,
           null,
           null,
           null,
           null
          ],
          [
           null,
           null,
           null,
           null,
           null,
           null,
           null,
           null,
           null,
           null,
           null,
           null,
           null,
           null,
           null,
           null,
           null,
           null,
           null,
           null,
           null,
           null,
           null,
           null,
           null,
           -56008.922,
           null
          ],
          [
           null,
           null,
           null,
           null,
           null,
           null,
           null,
           null,
           null,
           null,
           null,
           null,
           null,
           null,
           null,
           null,
           null,
           null,
           null,
           null,
           null,
           null,
           null,
           null,
           null,
           null,
           null
          ]
         ]
        },
        {
         "marker": {
          "color": "black",
          "line": {
           "color": "Gray",
           "width": 2
          }
         },
         "mode": "markers",
         "name": "Feasible Trial",
         "showlegend": false,
         "type": "scatter",
         "x": [
          0.001,
          0.00006976425460110442,
          0.000011725185367375389,
          0.00015377020282693002,
          0.0001047196587513247,
          0.00007229091027503433,
          0.00010062612259505235,
          0.0000644037276257185,
          0.00001168374280981023,
          0.0003713120921827322,
          0.000031887871798989554,
          0.000029473700406656617,
          0.00003004969440006251,
          0.000030023649525123333,
          0.00021997213915881885,
          0.000037656338089744616,
          0.000018457592502541072,
          0.00005611816797749212,
          0.00025892512702773,
          0.00006205304996490255,
          0.0005561876608894562,
          0.00004531034871593193,
          0.000019361100467397984,
          0.00005048035533561577,
          0.00013300818313200042
         ],
         "xaxis": "x10",
         "y": [
          1000000,
          100000,
          200000,
          150000,
          400000,
          250000,
          350000,
          500000,
          400000,
          250000,
          300000,
          300000,
          250000,
          50000,
          500000,
          300000,
          200000,
          350000,
          450000,
          350000,
          200000,
          350000,
          300000,
          250000,
          400000
         ],
         "yaxis": "y10"
        },
        {
         "colorbar": {
          "title": {
           "text": "Objective Value"
          }
         },
         "colorscale": [
          [
           0,
           "rgb(247,251,255)"
          ],
          [
           0.125,
           "rgb(222,235,247)"
          ],
          [
           0.25,
           "rgb(198,219,239)"
          ],
          [
           0.375,
           "rgb(158,202,225)"
          ],
          [
           0.5,
           "rgb(107,174,214)"
          ],
          [
           0.625,
           "rgb(66,146,198)"
          ],
          [
           0.75,
           "rgb(33,113,181)"
          ],
          [
           0.875,
           "rgb(8,81,156)"
          ],
          [
           1,
           "rgb(8,48,107)"
          ]
         ],
         "connectgaps": true,
         "contours": {
          "coloring": "heatmap"
         },
         "hoverinfo": "none",
         "line": {
          "smoothing": 1.3
         },
         "reversescale": false,
         "showscale": false,
         "type": "contour",
         "x": [
          0.00000935321866931526,
          0.00001168374280981023,
          0.000011725185367375389,
          0.000018457592502541072,
          0.000019361100467397984,
          0.000029473700406656617,
          0.000030023649525123333,
          0.00003004969440006251,
          0.000031887871798989554,
          0.000037656338089744616,
          0.00004531034871593193,
          0.00005048035533561577,
          0.00005611816797749212,
          0.00006205304996490255,
          0.0000644037276257185,
          0.00006976425460110442,
          0.00007229091027503433,
          0.00010062612259505235,
          0.0001047196587513247,
          0.00013300818313200042,
          0.00015377020282693002,
          0.00021997213915881885,
          0.00025892512702773,
          0.0003713120921827322,
          0.0005561876608894562,
          0.001,
          0.0012491681444528437
         ],
         "xaxis": "x16",
         "y": [
          0.8967217550694253,
          0.9015332924589152,
          0.9023110447959488,
          0.9041181747731538,
          0.9132761126176273,
          0.9135549843660378,
          0.9184950584749083,
          0.9235802548081983,
          0.9267518483044083,
          0.92885650612723,
          0.9344907511949925,
          0.9407264655316708,
          0.9425865440966986,
          0.9432979930735299,
          0.944717636907831,
          0.9524456507336426,
          0.9528706435979579,
          0.9551137737400753,
          0.9621466953758586,
          0.962212074959442,
          0.9672812275108122,
          0.9744324353443722,
          0.9788684016478556,
          0.99,
          0.9942072840510408,
          0.9977640402487132,
          1.002575577638203
         ],
         "yaxis": "y16",
         "z": [
          [
           null,
           null,
           null,
           null,
           null,
           null,
           null,
           null,
           null,
           null,
           null,
           null,
           null,
           null,
           null,
           null,
           null,
           null,
           null,
           null,
           null,
           null,
           null,
           null,
           null,
           null,
           null
          ],
          [
           null,
           null,
           null,
           null,
           null,
           null,
           null,
           null,
           null,
           null,
           null,
           null,
           null,
           -55503.768000000004,
           null,
           null,
           null,
           null,
           null,
           null,
           null,
           null,
           null,
           null,
           null,
           null,
           null
          ],
          [
           null,
           null,
           null,
           null,
           null,
           null,
           null,
           null,
           null,
           null,
           null,
           null,
           null,
           null,
           null,
           null,
           null,
           null,
           null,
           null,
           null,
           null,
           -56057.909999999996,
           null,
           null,
           null,
           null
          ],
          [
           null,
           null,
           null,
           null,
           null,
           null,
           null,
           null,
           null,
           null,
           null,
           null,
           -50682.386000000006,
           null,
           null,
           null,
           null,
           null,
           null,
           null,
           null,
           null,
           null,
           null,
           null,
           null,
           null
          ],
          [
           null,
           null,
           null,
           null,
           null,
           null,
           null,
           null,
           null,
           null,
           -56822.038,
           null,
           null,
           null,
           null,
           null,
           null,
           null,
           null,
           null,
           null,
           null,
           null,
           null,
           null,
           null,
           null
          ],
          [
           null,
           null,
           null,
           null,
           null,
           null,
           null,
           null,
           null,
           null,
           null,
           null,
           null,
           null,
           null,
           null,
           null,
           null,
           -57185.664000000004,
           null,
           null,
           null,
           null,
           null,
           null,
           null,
           null
          ],
          [
           null,
           null,
           null,
           null,
           null,
           null,
           null,
           null,
           null,
           null,
           null,
           null,
           null,
           null,
           null,
           null,
           null,
           null,
           null,
           -55051.342000000004,
           null,
           null,
           null,
           null,
           null,
           null,
           null
          ],
          [
           null,
           null,
           -57037.62999999999,
           null,
           null,
           null,
           null,
           null,
           null,
           null,
           null,
           null,
           null,
           null,
           null,
           null,
           null,
           null,
           null,
           null,
           null,
           null,
           null,
           null,
           null,
           null,
           null
          ],
          [
           null,
           null,
           null,
           null,
           null,
           null,
           null,
           null,
           null,
           null,
           null,
           null,
           null,
           null,
           null,
           -57631.78400000001,
           null,
           null,
           null,
           null,
           null,
           null,
           null,
           null,
           null,
           null,
           null
          ],
          [
           null,
           null,
           null,
           null,
           null,
           null,
           null,
           null,
           null,
           null,
           null,
           null,
           null,
           null,
           null,
           null,
           null,
           null,
           null,
           null,
           null,
           null,
           null,
           -56978.46800000001,
           null,
           null,
           null
          ],
          [
           null,
           null,
           null,
           null,
           null,
           null,
           null,
           null,
           null,
           null,
           null,
           null,
           null,
           null,
           null,
           null,
           null,
           null,
           null,
           null,
           null,
           null,
           null,
           null,
           -19807164.772000004,
           null,
           null
          ],
          [
           null,
           null,
           null,
           null,
           null,
           null,
           null,
           null,
           null,
           null,
           null,
           -57591.476,
           null,
           null,
           null,
           null,
           null,
           null,
           null,
           null,
           null,
           null,
           null,
           null,
           null,
           null,
           null
          ],
          [
           null,
           null,
           null,
           null,
           null,
           -56055.846,
           null,
           null,
           null,
           null,
           null,
           null,
           null,
           null,
           null,
           null,
           null,
           null,
           null,
           null,
           null,
           null,
           null,
           null,
           null,
           null,
           null
          ],
          [
           null,
           null,
           null,
           null,
           null,
           null,
           null,
           null,
           null,
           null,
           null,
           null,
           null,
           null,
           null,
           null,
           null,
           null,
           null,
           null,
           null,
           -57882.712,
           null,
           null,
           null,
           null,
           null
          ],
          [
           null,
           null,
           null,
           null,
           null,
           null,
           null,
           null,
           -55144.46,
           null,
           null,
           null,
           null,
           null,
           null,
           null,
           null,
           null,
           null,
           null,
           null,
           null,
           null,
           null,
           null,
           null,
           null
          ],
          [
           null,
           null,
           null,
           null,
           null,
           null,
           null,
           null,
           null,
           -56538.89200000001,
           null,
           null,
           null,
           null,
           null,
           null,
           null,
           null,
           null,
           null,
           null,
           null,
           null,
           null,
           null,
           null,
           null
          ],
          [
           null,
           null,
           null,
           null,
           null,
           null,
           null,
           -56952.996,
           null,
           null,
           null,
           null,
           null,
           null,
           null,
           null,
           null,
           null,
           null,
           null,
           null,
           null,
           null,
           null,
           null,
           null,
           null
          ],
          [
           null,
           null,
           null,
           null,
           null,
           null,
           null,
           null,
           null,
           null,
           null,
           null,
           null,
           null,
           null,
           null,
           -54697.085999999996,
           null,
           null,
           null,
           null,
           null,
           null,
           null,
           null,
           null,
           null
          ],
          [
           null,
           null,
           null,
           null,
           null,
           null,
           null,
           null,
           null,
           null,
           null,
           null,
           null,
           null,
           null,
           null,
           null,
           -55592.636,
           null,
           null,
           null,
           null,
           null,
           null,
           null,
           null,
           null
          ],
          [
           null,
           null,
           null,
           null,
           -56492.34000000001,
           null,
           null,
           null,
           null,
           null,
           null,
           null,
           null,
           null,
           null,
           null,
           null,
           null,
           null,
           null,
           null,
           null,
           null,
           null,
           null,
           null,
           null
          ],
          [
           null,
           null,
           null,
           null,
           null,
           null,
           null,
           null,
           null,
           null,
           null,
           null,
           null,
           null,
           null,
           null,
           null,
           null,
           null,
           null,
           -55168.012,
           null,
           null,
           null,
           null,
           null,
           null
          ],
          [
           null,
           null,
           null,
           null,
           null,
           null,
           -55981.33999999999,
           null,
           null,
           null,
           null,
           null,
           null,
           null,
           null,
           null,
           null,
           null,
           null,
           null,
           null,
           null,
           null,
           null,
           null,
           null,
           null
          ],
          [
           null,
           null,
           null,
           -56271.886,
           null,
           null,
           null,
           null,
           null,
           null,
           null,
           null,
           null,
           null,
           null,
           null,
           null,
           null,
           null,
           null,
           null,
           null,
           null,
           null,
           null,
           null,
           null
          ],
          [
           null,
           null,
           null,
           null,
           null,
           null,
           null,
           null,
           null,
           null,
           null,
           null,
           null,
           null,
           null,
           null,
           null,
           null,
           null,
           null,
           null,
           null,
           null,
           null,
           null,
           -56008.922,
           null
          ],
          [
           null,
           null,
           null,
           null,
           null,
           null,
           null,
           null,
           null,
           null,
           null,
           null,
           null,
           null,
           -56958.224,
           null,
           null,
           null,
           null,
           null,
           null,
           null,
           null,
           null,
           null,
           null,
           null
          ],
          [
           null,
           -57628.757999999994,
           null,
           null,
           null,
           null,
           null,
           null,
           null,
           null,
           null,
           null,
           null,
           null,
           null,
           null,
           null,
           null,
           null,
           null,
           null,
           null,
           null,
           null,
           null,
           null,
           null
          ],
          [
           null,
           null,
           null,
           null,
           null,
           null,
           null,
           null,
           null,
           null,
           null,
           null,
           null,
           null,
           null,
           null,
           null,
           null,
           null,
           null,
           null,
           null,
           null,
           null,
           null,
           null,
           null
          ]
         ]
        },
        {
         "marker": {
          "color": "black",
          "line": {
           "color": "Gray",
           "width": 2
          }
         },
         "mode": "markers",
         "name": "Feasible Trial",
         "showlegend": false,
         "type": "scatter",
         "x": [
          0.001,
          0.00006976425460110442,
          0.000011725185367375389,
          0.00015377020282693002,
          0.0001047196587513247,
          0.00007229091027503433,
          0.00010062612259505235,
          0.0000644037276257185,
          0.00001168374280981023,
          0.0003713120921827322,
          0.000031887871798989554,
          0.000029473700406656617,
          0.00003004969440006251,
          0.000030023649525123333,
          0.00021997213915881885,
          0.000037656338089744616,
          0.000018457592502541072,
          0.00005611816797749212,
          0.00025892512702773,
          0.00006205304996490255,
          0.0005561876608894562,
          0.00004531034871593193,
          0.000019361100467397984,
          0.00005048035533561577,
          0.00013300818313200042
         ],
         "xaxis": "x16",
         "y": [
          0.99,
          0.9267518483044083,
          0.9235802548081983,
          0.9672812275108122,
          0.9135549843660378,
          0.9551137737400753,
          0.9621466953758586,
          0.9942072840510408,
          0.9977640402487132,
          0.92885650612723,
          0.944717636907831,
          0.9425865440966986,
          0.9528706435979579,
          0.9744324353443722,
          0.9432979930735299,
          0.9524456507336426,
          0.9788684016478556,
          0.9041181747731538,
          0.9023110447959488,
          0.9015332924589152,
          0.9344907511949925,
          0.9132761126176273,
          0.962212074959442,
          0.9407264655316708,
          0.9184950584749083
         ],
         "yaxis": "y16"
        },
        {
         "type": "scatter",
         "xaxis": "x22",
         "yaxis": "y22"
        },
        {
         "colorbar": {
          "title": {
           "text": "Objective Value"
          }
         },
         "colorscale": [
          [
           0,
           "rgb(247,251,255)"
          ],
          [
           0.125,
           "rgb(222,235,247)"
          ],
          [
           0.25,
           "rgb(198,219,239)"
          ],
          [
           0.375,
           "rgb(158,202,225)"
          ],
          [
           0.5,
           "rgb(107,174,214)"
          ],
          [
           0.625,
           "rgb(66,146,198)"
          ],
          [
           0.75,
           "rgb(33,113,181)"
          ],
          [
           0.875,
           "rgb(8,81,156)"
          ],
          [
           1,
           "rgb(8,48,107)"
          ]
         ],
         "connectgaps": true,
         "contours": {
          "coloring": "heatmap"
         },
         "hoverinfo": "none",
         "line": {
          "smoothing": 1.3
         },
         "reversescale": false,
         "showscale": false,
         "type": "contour",
         "x": [
          0.00000935321866931526,
          0.00001168374280981023,
          0.000011725185367375389,
          0.000018457592502541072,
          0.000019361100467397984,
          0.000029473700406656617,
          0.000030023649525123333,
          0.00003004969440006251,
          0.000031887871798989554,
          0.000037656338089744616,
          0.00004531034871593193,
          0.00005048035533561577,
          0.00005611816797749212,
          0.00006205304996490255,
          0.0000644037276257185,
          0.00006976425460110442,
          0.00007229091027503433,
          0.00010062612259505235,
          0.0001047196587513247,
          0.00013300818313200042,
          0.00015377020282693002,
          0.00021997213915881885,
          0.00025892512702773,
          0.0003713120921827322,
          0.0005561876608894562,
          0.001,
          0.0012491681444528437
         ],
         "xaxis": "x28",
         "y": [
          0.08032245661512658,
          0.1,
          0.1654154641690807,
          0.1824965480742499,
          0.1846254107627201,
          0.2336509516388875,
          0.25223977462615943,
          0.25999463686631985,
          0.29520782619802766,
          0.29982729752599724,
          0.3089102531195254,
          0.33230321497675425,
          0.33570162160966355,
          0.3384563312235688,
          0.35253555109892754,
          0.3626713081468701,
          0.3685526207563853,
          0.37760012541074667,
          0.38142026193522827,
          0.3872212330741873,
          0.3944172007358767,
          0.41240050168747416,
          0.43377033478622673,
          0.44451684148788306,
          0.4761675059645748,
          0.49355086769746864,
          0.5132284110823421
         ],
         "yaxis": "y28",
         "z": [
          [
           null,
           null,
           null,
           null,
           null,
           null,
           null,
           null,
           null,
           null,
           null,
           null,
           null,
           null,
           null,
           null,
           null,
           null,
           null,
           null,
           null,
           null,
           null,
           null,
           null,
           null,
           null
          ],
          [
           null,
           null,
           null,
           null,
           null,
           null,
           null,
           null,
           null,
           null,
           null,
           null,
           null,
           null,
           null,
           null,
           null,
           null,
           null,
           null,
           null,
           null,
           null,
           null,
           null,
           -56008.922,
           null
          ],
          [
           null,
           null,
           null,
           null,
           null,
           null,
           null,
           null,
           null,
           null,
           null,
           null,
           null,
           null,
           null,
           null,
           null,
           null,
           null,
           null,
           null,
           null,
           null,
           -56978.46800000001,
           null,
           null,
           null
          ],
          [
           null,
           -57628.757999999994,
           null,
           null,
           null,
           null,
           null,
           null,
           null,
           null,
           null,
           null,
           null,
           null,
           null,
           null,
           null,
           null,
           null,
           null,
           null,
           null,
           null,
           null,
           null,
           null,
           null
          ],
          [
           null,
           null,
           null,
           null,
           null,
           null,
           null,
           null,
           null,
           null,
           null,
           null,
           null,
           null,
           null,
           null,
           null,
           null,
           -57185.664000000004,
           null,
           null,
           null,
           null,
           null,
           null,
           null,
           null
          ],
          [
           null,
           null,
           null,
           null,
           null,
           null,
           null,
           null,
           null,
           null,
           null,
           null,
           null,
           null,
           null,
           null,
           null,
           null,
           null,
           null,
           -55168.012,
           null,
           null,
           null,
           null,
           null,
           null
          ],
          [
           null,
           null,
           null,
           null,
           null,
           null,
           null,
           null,
           null,
           null,
           null,
           null,
           null,
           null,
           null,
           null,
           null,
           null,
           null,
           null,
           null,
           null,
           -56057.909999999996,
           null,
           null,
           null,
           null
          ],
          [
           null,
           null,
           null,
           null,
           null,
           null,
           null,
           null,
           null,
           null,
           null,
           -57591.476,
           null,
           null,
           null,
           null,
           null,
           null,
           null,
           null,
           null,
           null,
           null,
           null,
           null,
           null,
           null
          ],
          [
           null,
           null,
           null,
           null,
           null,
           null,
           null,
           null,
           null,
           null,
           null,
           null,
           null,
           null,
           null,
           -57631.78400000001,
           null,
           null,
           null,
           null,
           null,
           null,
           null,
           null,
           null,
           null,
           null
          ],
          [
           null,
           null,
           null,
           null,
           null,
           null,
           null,
           null,
           null,
           -56538.89200000001,
           null,
           null,
           null,
           null,
           null,
           null,
           null,
           null,
           null,
           null,
           null,
           null,
           null,
           null,
           null,
           null,
           null
          ],
          [
           null,
           null,
           -57037.62999999999,
           null,
           null,
           null,
           null,
           null,
           null,
           null,
           null,
           null,
           null,
           null,
           null,
           null,
           null,
           null,
           null,
           null,
           null,
           null,
           null,
           null,
           null,
           null,
           null
          ],
          [
           null,
           null,
           null,
           null,
           -56492.34000000001,
           null,
           null,
           null,
           null,
           null,
           null,
           null,
           null,
           null,
           null,
           null,
           null,
           null,
           null,
           null,
           null,
           null,
           null,
           null,
           null,
           null,
           null
          ],
          [
           null,
           null,
           null,
           null,
           null,
           null,
           null,
           null,
           null,
           null,
           null,
           null,
           null,
           -55503.768000000004,
           null,
           null,
           null,
           null,
           null,
           null,
           null,
           null,
           null,
           null,
           null,
           null,
           null
          ],
          [
           null,
           null,
           null,
           null,
           null,
           null,
           null,
           null,
           null,
           null,
           null,
           null,
           -50682.386000000006,
           null,
           null,
           null,
           null,
           null,
           null,
           null,
           null,
           null,
           null,
           null,
           null,
           null,
           null
          ],
          [
           null,
           null,
           null,
           null,
           null,
           null,
           -55981.33999999999,
           null,
           null,
           null,
           null,
           null,
           null,
           null,
           null,
           null,
           null,
           null,
           null,
           null,
           null,
           null,
           null,
           null,
           null,
           null,
           null
          ],
          [
           null,
           null,
           null,
           null,
           null,
           null,
           null,
           null,
           null,
           null,
           null,
           null,
           null,
           null,
           null,
           null,
           -54697.085999999996,
           null,
           null,
           null,
           null,
           null,
           null,
           null,
           null,
           null,
           null
          ],
          [
           null,
           null,
           null,
           null,
           null,
           null,
           null,
           -56952.996,
           null,
           null,
           null,
           null,
           null,
           null,
           null,
           null,
           null,
           null,
           null,
           null,
           null,
           null,
           null,
           null,
           null,
           null,
           null
          ],
          [
           null,
           null,
           null,
           null,
           null,
           null,
           null,
           null,
           null,
           null,
           null,
           null,
           null,
           null,
           null,
           null,
           null,
           null,
           null,
           -55051.342000000004,
           null,
           null,
           null,
           null,
           null,
           null,
           null
          ],
          [
           null,
           null,
           null,
           null,
           null,
           null,
           null,
           null,
           -55144.46,
           null,
           null,
           null,
           null,
           null,
           null,
           null,
           null,
           null,
           null,
           null,
           null,
           null,
           null,
           null,
           null,
           null,
           null
          ],
          [
           null,
           null,
           null,
           null,
           null,
           null,
           null,
           null,
           null,
           null,
           -56822.038,
           null,
           null,
           null,
           null,
           null,
           null,
           null,
           null,
           null,
           null,
           null,
           null,
           null,
           null,
           null,
           null
          ],
          [
           null,
           null,
           null,
           null,
           null,
           -56055.846,
           null,
           null,
           null,
           null,
           null,
           null,
           null,
           null,
           null,
           null,
           null,
           null,
           null,
           null,
           null,
           null,
           null,
           null,
           null,
           null,
           null
          ],
          [
           null,
           null,
           null,
           -56271.886,
           null,
           null,
           null,
           null,
           null,
           null,
           null,
           null,
           null,
           null,
           null,
           null,
           null,
           null,
           null,
           null,
           null,
           null,
           null,
           null,
           null,
           null,
           null
          ],
          [
           null,
           null,
           null,
           null,
           null,
           null,
           null,
           null,
           null,
           null,
           null,
           null,
           null,
           null,
           null,
           null,
           null,
           -55592.636,
           null,
           null,
           null,
           null,
           null,
           null,
           null,
           null,
           null
          ],
          [
           null,
           null,
           null,
           null,
           null,
           null,
           null,
           null,
           null,
           null,
           null,
           null,
           null,
           null,
           null,
           null,
           null,
           null,
           null,
           null,
           null,
           null,
           null,
           null,
           -19807164.772000004,
           null,
           null
          ],
          [
           null,
           null,
           null,
           null,
           null,
           null,
           null,
           null,
           null,
           null,
           null,
           null,
           null,
           null,
           -56958.224,
           null,
           null,
           null,
           null,
           null,
           null,
           null,
           null,
           null,
           null,
           null,
           null
          ],
          [
           null,
           null,
           null,
           null,
           null,
           null,
           null,
           null,
           null,
           null,
           null,
           null,
           null,
           null,
           null,
           null,
           null,
           null,
           null,
           null,
           null,
           -57882.712,
           null,
           null,
           null,
           null,
           null
          ],
          [
           null,
           null,
           null,
           null,
           null,
           null,
           null,
           null,
           null,
           null,
           null,
           null,
           null,
           null,
           null,
           null,
           null,
           null,
           null,
           null,
           null,
           null,
           null,
           null,
           null,
           null,
           null
          ]
         ]
        },
        {
         "marker": {
          "color": "black",
          "line": {
           "color": "Gray",
           "width": 2
          }
         },
         "mode": "markers",
         "name": "Feasible Trial",
         "showlegend": false,
         "type": "scatter",
         "x": [
          0.001,
          0.00006976425460110442,
          0.000011725185367375389,
          0.00015377020282693002,
          0.0001047196587513247,
          0.00007229091027503433,
          0.00010062612259505235,
          0.0000644037276257185,
          0.00001168374280981023,
          0.0003713120921827322,
          0.000031887871798989554,
          0.000029473700406656617,
          0.00003004969440006251,
          0.000030023649525123333,
          0.00021997213915881885,
          0.000037656338089744616,
          0.000018457592502541072,
          0.00005611816797749212,
          0.00025892512702773,
          0.00006205304996490255,
          0.0005561876608894562,
          0.00004531034871593193,
          0.000019361100467397984,
          0.00005048035533561577,
          0.00013300818313200042
         ],
         "xaxis": "x28",
         "y": [
          0.1,
          0.29520782619802766,
          0.3089102531195254,
          0.2336509516388875,
          0.1846254107627201,
          0.3626713081468701,
          0.43377033478622673,
          0.4761675059645748,
          0.1824965480742499,
          0.1654154641690807,
          0.38142026193522827,
          0.3944172007358767,
          0.3685526207563853,
          0.35253555109892754,
          0.49355086769746864,
          0.29982729752599724,
          0.41240050168747416,
          0.3384563312235688,
          0.25223977462615943,
          0.33570162160966355,
          0.44451684148788306,
          0.3872212330741873,
          0.33230321497675425,
          0.25999463686631985,
          0.37760012541074667
         ],
         "yaxis": "y28"
        },
        {
         "colorbar": {
          "title": {
           "text": "Objective Value"
          }
         },
         "colorscale": [
          [
           0,
           "rgb(247,251,255)"
          ],
          [
           0.125,
           "rgb(222,235,247)"
          ],
          [
           0.25,
           "rgb(198,219,239)"
          ],
          [
           0.375,
           "rgb(158,202,225)"
          ],
          [
           0.5,
           "rgb(107,174,214)"
          ],
          [
           0.625,
           "rgb(66,146,198)"
          ],
          [
           0.75,
           "rgb(33,113,181)"
          ],
          [
           0.875,
           "rgb(8,81,156)"
          ],
          [
           1,
           "rgb(8,48,107)"
          ]
         ],
         "connectgaps": true,
         "contours": {
          "coloring": "heatmap"
         },
         "hoverinfo": "none",
         "line": {
          "smoothing": 1.3
         },
         "reversescale": false,
         "showscale": false,
         "type": "contour",
         "x": [
          0.00000935321866931526,
          0.00001168374280981023,
          0.000011725185367375389,
          0.000018457592502541072,
          0.000019361100467397984,
          0.000029473700406656617,
          0.000030023649525123333,
          0.00003004969440006251,
          0.000031887871798989554,
          0.000037656338089744616,
          0.00004531034871593193,
          0.00005048035533561577,
          0.00005611816797749212,
          0.00006205304996490255,
          0.0000644037276257185,
          0.00006976425460110442,
          0.00007229091027503433,
          0.00010062612259505235,
          0.0001047196587513247,
          0.00013300818313200042,
          0.00015377020282693002,
          0.00021997213915881885,
          0.00025892512702773,
          0.0003713120921827322,
          0.0005561876608894562,
          0.001,
          0.0012491681444528437
         ],
         "xaxis": "x34",
         "y": [
          0.0009056354041980357,
          0.001129748991583551,
          0.002102535340997532,
          0.002621000150777214,
          0.0034045074976167614,
          0.0038757719728482955,
          0.005,
          0.00667489535344205,
          0.00691916654544977,
          0.007700374079292978,
          0.00784627729837932,
          0.008131361443503082,
          0.008395605554417146,
          0.01147781207908402,
          0.012993981044991262,
          0.01320411007804864,
          0.018232506295228452,
          0.019600262046321752,
          0.025136744298222623,
          0.025705570579629,
          0.026171471880384028,
          0.04058933625309135,
          0.04322569863337195,
          0.07575647320418369,
          0.08454887194673188,
          0.09409214442516224,
          0.11737671118808882
         ],
         "yaxis": "y34",
         "z": [
          [
           null,
           null,
           null,
           null,
           null,
           null,
           null,
           null,
           null,
           null,
           null,
           null,
           null,
           null,
           null,
           null,
           null,
           null,
           null,
           null,
           null,
           null,
           null,
           null,
           null,
           null,
           null
          ],
          [
           null,
           null,
           null,
           null,
           null,
           null,
           null,
           null,
           null,
           null,
           null,
           null,
           null,
           null,
           null,
           -57631.78400000001,
           null,
           null,
           null,
           null,
           null,
           null,
           null,
           null,
           null,
           null,
           null
          ],
          [
           null,
           null,
           null,
           null,
           null,
           null,
           null,
           null,
           null,
           null,
           null,
           null,
           null,
           null,
           null,
           null,
           null,
           null,
           null,
           null,
           null,
           null,
           -56057.909999999996,
           null,
           null,
           null,
           null
          ],
          [
           null,
           null,
           null,
           null,
           null,
           null,
           null,
           null,
           null,
           null,
           null,
           null,
           null,
           null,
           null,
           null,
           null,
           null,
           null,
           null,
           null,
           null,
           null,
           -56978.46800000001,
           null,
           null,
           null
          ],
          [
           null,
           null,
           null,
           null,
           null,
           null,
           null,
           null,
           null,
           null,
           null,
           null,
           null,
           null,
           null,
           null,
           null,
           null,
           null,
           null,
           null,
           null,
           null,
           null,
           -19807164.772000004,
           null,
           null
          ],
          [
           null,
           null,
           null,
           null,
           null,
           null,
           null,
           null,
           null,
           -56538.89200000001,
           null,
           null,
           null,
           null,
           null,
           null,
           null,
           null,
           null,
           null,
           null,
           null,
           null,
           null,
           null,
           null,
           null
          ],
          [
           null,
           null,
           null,
           null,
           null,
           null,
           null,
           null,
           null,
           null,
           null,
           null,
           null,
           null,
           null,
           null,
           null,
           null,
           null,
           null,
           null,
           null,
           null,
           null,
           null,
           -56008.922,
           null
          ],
          [
           null,
           -57628.757999999994,
           null,
           null,
           null,
           null,
           null,
           null,
           null,
           null,
           null,
           null,
           null,
           null,
           null,
           null,
           null,
           null,
           null,
           null,
           null,
           null,
           null,
           null,
           null,
           null,
           null
          ],
          [
           null,
           null,
           null,
           null,
           null,
           null,
           null,
           null,
           null,
           null,
           null,
           null,
           null,
           null,
           null,
           null,
           null,
           null,
           null,
           -55051.342000000004,
           null,
           null,
           null,
           null,
           null,
           null,
           null
          ],
          [
           null,
           null,
           null,
           null,
           null,
           null,
           null,
           null,
           null,
           null,
           null,
           null,
           null,
           null,
           null,
           null,
           -54697.085999999996,
           null,
           null,
           null,
           null,
           null,
           null,
           null,
           null,
           null,
           null
          ],
          [
           null,
           null,
           null,
           null,
           null,
           null,
           null,
           null,
           null,
           null,
           null,
           null,
           null,
           -55503.768000000004,
           null,
           null,
           null,
           null,
           null,
           null,
           null,
           null,
           null,
           null,
           null,
           null,
           null
          ],
          [
           null,
           null,
           null,
           null,
           null,
           null,
           null,
           null,
           null,
           null,
           null,
           null,
           -50682.386000000006,
           null,
           null,
           null,
           null,
           null,
           null,
           null,
           null,
           null,
           null,
           null,
           null,
           null,
           null
          ],
          [
           null,
           null,
           null,
           null,
           -56492.34000000001,
           null,
           null,
           null,
           null,
           null,
           null,
           null,
           null,
           null,
           null,
           null,
           null,
           null,
           null,
           null,
           null,
           null,
           null,
           null,
           null,
           null,
           null
          ],
          [
           null,
           null,
           -57037.62999999999,
           null,
           null,
           null,
           null,
           null,
           null,
           null,
           null,
           null,
           null,
           null,
           null,
           null,
           null,
           null,
           null,
           null,
           null,
           null,
           null,
           null,
           null,
           null,
           null
          ],
          [
           null,
           null,
           null,
           null,
           null,
           null,
           -55981.33999999999,
           null,
           null,
           null,
           null,
           null,
           null,
           null,
           null,
           null,
           null,
           null,
           null,
           null,
           null,
           null,
           null,
           null,
           null,
           null,
           null
          ],
          [
           null,
           null,
           null,
           null,
           null,
           null,
           null,
           null,
           null,
           null,
           null,
           -57591.476,
           null,
           null,
           null,
           null,
           null,
           null,
           null,
           null,
           null,
           null,
           null,
           null,
           null,
           null,
           null
          ],
          [
           null,
           null,
           null,
           null,
           null,
           null,
           null,
           null,
           null,
           null,
           -56822.038,
           null,
           null,
           null,
           null,
           null,
           null,
           null,
           null,
           null,
           null,
           null,
           null,
           null,
           null,
           null,
           null
          ],
          [
           null,
           null,
           null,
           null,
           null,
           null,
           null,
           null,
           null,
           null,
           null,
           null,
           null,
           null,
           null,
           null,
           null,
           null,
           null,
           null,
           -55168.012,
           null,
           null,
           null,
           null,
           null,
           null
          ],
          [
           null,
           null,
           null,
           null,
           null,
           null,
           null,
           null,
           -55144.46,
           null,
           null,
           null,
           null,
           null,
           null,
           null,
           null,
           null,
           null,
           null,
           null,
           null,
           null,
           null,
           null,
           null,
           null
          ],
          [
           null,
           null,
           null,
           null,
           null,
           null,
           null,
           -56952.996,
           null,
           null,
           null,
           null,
           null,
           null,
           null,
           null,
           null,
           null,
           null,
           null,
           null,
           null,
           null,
           null,
           null,
           null,
           null
          ],
          [
           null,
           null,
           null,
           null,
           null,
           -56055.846,
           null,
           null,
           null,
           null,
           null,
           null,
           null,
           null,
           null,
           null,
           null,
           null,
           null,
           null,
           null,
           null,
           null,
           null,
           null,
           null,
           null
          ],
          [
           null,
           null,
           null,
           null,
           null,
           null,
           null,
           null,
           null,
           null,
           null,
           null,
           null,
           null,
           null,
           null,
           null,
           null,
           null,
           null,
           null,
           -57882.712,
           null,
           null,
           null,
           null,
           null
          ],
          [
           null,
           null,
           null,
           -56271.886,
           null,
           null,
           null,
           null,
           null,
           null,
           null,
           null,
           null,
           null,
           null,
           null,
           null,
           null,
           null,
           null,
           null,
           null,
           null,
           null,
           null,
           null,
           null
          ],
          [
           null,
           null,
           null,
           null,
           null,
           null,
           null,
           null,
           null,
           null,
           null,
           null,
           null,
           null,
           null,
           null,
           null,
           null,
           -57185.664000000004,
           null,
           null,
           null,
           null,
           null,
           null,
           null,
           null
          ],
          [
           null,
           null,
           null,
           null,
           null,
           null,
           null,
           null,
           null,
           null,
           null,
           null,
           null,
           null,
           -56958.224,
           null,
           null,
           null,
           null,
           null,
           null,
           null,
           null,
           null,
           null,
           null,
           null
          ],
          [
           null,
           null,
           null,
           null,
           null,
           null,
           null,
           null,
           null,
           null,
           null,
           null,
           null,
           null,
           null,
           null,
           null,
           -55592.636,
           null,
           null,
           null,
           null,
           null,
           null,
           null,
           null,
           null
          ],
          [
           null,
           null,
           null,
           null,
           null,
           null,
           null,
           null,
           null,
           null,
           null,
           null,
           null,
           null,
           null,
           null,
           null,
           null,
           null,
           null,
           null,
           null,
           null,
           null,
           null,
           null,
           null
          ]
         ]
        },
        {
         "marker": {
          "color": "black",
          "line": {
           "color": "Gray",
           "width": 2
          }
         },
         "mode": "markers",
         "name": "Feasible Trial",
         "showlegend": false,
         "type": "scatter",
         "x": [
          0.001,
          0.00006976425460110442,
          0.000011725185367375389,
          0.00015377020282693002,
          0.0001047196587513247,
          0.00007229091027503433,
          0.00010062612259505235,
          0.0000644037276257185,
          0.00001168374280981023,
          0.0003713120921827322,
          0.000031887871798989554,
          0.000029473700406656617,
          0.00003004969440006251,
          0.000030023649525123333,
          0.00021997213915881885,
          0.000037656338089744616,
          0.000018457592502541072,
          0.00005611816797749212,
          0.00025892512702773,
          0.00006205304996490255,
          0.0005561876608894562,
          0.00004531034871593193,
          0.000019361100467397984,
          0.00005048035533561577,
          0.00013300818313200042
         ],
         "xaxis": "x34",
         "y": [
          0.005,
          0.001129748991583551,
          0.01147781207908402,
          0.019600262046321752,
          0.07575647320418369,
          0.007700374079292978,
          0.09409214442516224,
          0.08454887194673188,
          0.00667489535344205,
          0.002621000150777214,
          0.025136744298222623,
          0.026171471880384028,
          0.025705570579629,
          0.012993981044991262,
          0.04058933625309135,
          0.0038757719728482955,
          0.04322569863337195,
          0.008131361443503082,
          0.002102535340997532,
          0.00784627729837932,
          0.0034045074976167614,
          0.018232506295228452,
          0.008395605554417146,
          0.01320411007804864,
          0.00691916654544977
         ],
         "yaxis": "y34"
        },
        {
         "colorbar": {
          "title": {
           "text": "Objective Value"
          }
         },
         "colorscale": [
          [
           0,
           "rgb(247,251,255)"
          ],
          [
           0.125,
           "rgb(222,235,247)"
          ],
          [
           0.25,
           "rgb(198,219,239)"
          ],
          [
           0.375,
           "rgb(158,202,225)"
          ],
          [
           0.5,
           "rgb(107,174,214)"
          ],
          [
           0.625,
           "rgb(66,146,198)"
          ],
          [
           0.75,
           "rgb(33,113,181)"
          ],
          [
           0.875,
           "rgb(8,81,156)"
          ],
          [
           1,
           "rgb(8,48,107)"
          ]
         ],
         "connectgaps": true,
         "contours": {
          "coloring": "heatmap"
         },
         "hoverinfo": "none",
         "line": {
          "smoothing": 1.3
         },
         "reversescale": false,
         "showscale": false,
         "type": "contour",
         "x": [
          0.08032245661512658,
          0.1,
          0.1654154641690807,
          0.1824965480742499,
          0.1846254107627201,
          0.2336509516388875,
          0.25223977462615943,
          0.25999463686631985,
          0.29520782619802766,
          0.29982729752599724,
          0.3089102531195254,
          0.33230321497675425,
          0.33570162160966355,
          0.3384563312235688,
          0.35253555109892754,
          0.3626713081468701,
          0.3685526207563853,
          0.37760012541074667,
          0.38142026193522827,
          0.3872212330741873,
          0.3944172007358767,
          0.41240050168747416,
          0.43377033478622673,
          0.44451684148788306,
          0.4761675059645748,
          0.49355086769746864,
          0.5132284110823421
         ],
         "xaxis": "x5",
         "y": [
          20.799999999999997,
          32,
          64,
          128,
          256,
          267.2
         ],
         "yaxis": "y5",
         "z": [
          [
           null,
           null,
           null,
           null,
           null,
           null,
           null,
           null,
           null,
           null,
           null,
           null,
           null,
           null,
           null,
           null,
           null,
           null,
           null,
           null,
           null,
           null,
           null,
           null,
           null,
           null,
           null
          ],
          [
           null,
           null,
           -56978.46800000001,
           null,
           -57185.664000000004,
           -55168.012,
           null,
           null,
           null,
           null,
           -57037.62999999999,
           null,
           null,
           null,
           null,
           null,
           null,
           null,
           null,
           null,
           null,
           null,
           -55592.636,
           null,
           null,
           null,
           null
          ],
          [
           null,
           null,
           null,
           null,
           null,
           null,
           null,
           -57591.476,
           null,
           -56538.89200000001,
           null,
           -56492.34000000001,
           null,
           -50682.386000000006,
           -55981.33999999999,
           null,
           -56952.996,
           null,
           -55144.46,
           -56822.038,
           -56055.846,
           null,
           null,
           -19807164.772000004,
           null,
           null,
           null
          ],
          [
           null,
           null,
           null,
           null,
           null,
           null,
           -56057.909999999996,
           null,
           -57631.78400000001,
           null,
           null,
           null,
           null,
           null,
           null,
           -54697.085999999996,
           null,
           -55051.342000000004,
           null,
           null,
           null,
           -56271.886,
           null,
           null,
           -56958.224,
           -57882.712,
           null
          ],
          [
           null,
           -56008.922,
           null,
           -57628.757999999994,
           null,
           null,
           null,
           null,
           null,
           null,
           null,
           null,
           -55503.768000000004,
           null,
           null,
           null,
           null,
           null,
           null,
           null,
           null,
           null,
           null,
           null,
           null,
           null,
           null
          ],
          [
           null,
           null,
           null,
           null,
           null,
           null,
           null,
           null,
           null,
           null,
           null,
           null,
           null,
           null,
           null,
           null,
           null,
           null,
           null,
           null,
           null,
           null,
           null,
           null,
           null,
           null,
           null
          ]
         ]
        },
        {
         "marker": {
          "color": "black",
          "line": {
           "color": "Gray",
           "width": 2
          }
         },
         "mode": "markers",
         "name": "Feasible Trial",
         "showlegend": false,
         "type": "scatter",
         "x": [
          0.1,
          0.29520782619802766,
          0.3089102531195254,
          0.2336509516388875,
          0.1846254107627201,
          0.3626713081468701,
          0.43377033478622673,
          0.4761675059645748,
          0.1824965480742499,
          0.1654154641690807,
          0.38142026193522827,
          0.3944172007358767,
          0.3685526207563853,
          0.35253555109892754,
          0.49355086769746864,
          0.29982729752599724,
          0.41240050168747416,
          0.3384563312235688,
          0.25223977462615943,
          0.33570162160966355,
          0.44451684148788306,
          0.3872212330741873,
          0.33230321497675425,
          0.25999463686631985,
          0.37760012541074667
         ],
         "xaxis": "x5",
         "y": [
          256,
          128,
          32,
          32,
          32,
          128,
          32,
          128,
          256,
          32,
          64,
          64,
          64,
          64,
          128,
          64,
          128,
          64,
          128,
          256,
          64,
          64,
          64,
          64,
          128
         ],
         "yaxis": "y5"
        },
        {
         "colorbar": {
          "title": {
           "text": "Objective Value"
          }
         },
         "colorscale": [
          [
           0,
           "rgb(247,251,255)"
          ],
          [
           0.125,
           "rgb(222,235,247)"
          ],
          [
           0.25,
           "rgb(198,219,239)"
          ],
          [
           0.375,
           "rgb(158,202,225)"
          ],
          [
           0.5,
           "rgb(107,174,214)"
          ],
          [
           0.625,
           "rgb(66,146,198)"
          ],
          [
           0.75,
           "rgb(33,113,181)"
          ],
          [
           0.875,
           "rgb(8,81,156)"
          ],
          [
           1,
           "rgb(8,48,107)"
          ]
         ],
         "connectgaps": true,
         "contours": {
          "coloring": "heatmap"
         },
         "hoverinfo": "none",
         "line": {
          "smoothing": 1.3
         },
         "reversescale": false,
         "showscale": false,
         "type": "contour",
         "x": [
          0.08032245661512658,
          0.1,
          0.1654154641690807,
          0.1824965480742499,
          0.1846254107627201,
          0.2336509516388875,
          0.25223977462615943,
          0.25999463686631985,
          0.29520782619802766,
          0.29982729752599724,
          0.3089102531195254,
          0.33230321497675425,
          0.33570162160966355,
          0.3384563312235688,
          0.35253555109892754,
          0.3626713081468701,
          0.3685526207563853,
          0.37760012541074667,
          0.38142026193522827,
          0.3872212330741873,
          0.3944172007358767,
          0.41240050168747416,
          0.43377033478622673,
          0.44451684148788306,
          0.4761675059645748,
          0.49355086769746864,
          0.5132284110823421
         ],
         "xaxis": "x11",
         "y": [
          2500,
          50000,
          100000,
          150000,
          200000,
          250000,
          300000,
          350000,
          400000,
          450000,
          500000,
          1000000,
          1047500
         ],
         "yaxis": "y11",
         "z": [
          [
           null,
           null,
           null,
           null,
           null,
           null,
           null,
           null,
           null,
           null,
           null,
           null,
           null,
           null,
           null,
           null,
           null,
           null,
           null,
           null,
           null,
           null,
           null,
           null,
           null,
           null,
           null
          ],
          [
           null,
           null,
           null,
           null,
           null,
           null,
           null,
           null,
           null,
           null,
           null,
           null,
           null,
           null,
           -55981.33999999999,
           null,
           null,
           null,
           null,
           null,
           null,
           null,
           null,
           null,
           null,
           null,
           null
          ],
          [
           null,
           null,
           null,
           null,
           null,
           null,
           null,
           null,
           -57631.78400000001,
           null,
           null,
           null,
           null,
           null,
           null,
           null,
           null,
           null,
           null,
           null,
           null,
           null,
           null,
           null,
           null,
           null,
           null
          ],
          [
           null,
           null,
           null,
           null,
           null,
           -55168.012,
           null,
           null,
           null,
           null,
           null,
           null,
           null,
           null,
           null,
           null,
           null,
           null,
           null,
           null,
           null,
           null,
           null,
           null,
           null,
           null,
           null
          ],
          [
           null,
           null,
           null,
           null,
           null,
           null,
           null,
           null,
           null,
           null,
           -57037.62999999999,
           null,
           null,
           null,
           null,
           null,
           null,
           null,
           null,
           null,
           null,
           -56271.886,
           null,
           -19807164.772000004,
           null,
           null,
           null
          ],
          [
           null,
           null,
           -56978.46800000001,
           null,
           null,
           null,
           null,
           -57591.476,
           null,
           null,
           null,
           null,
           null,
           null,
           null,
           -54697.085999999996,
           -56952.996,
           null,
           null,
           null,
           null,
           null,
           null,
           null,
           null,
           null,
           null
          ],
          [
           null,
           null,
           null,
           null,
           null,
           null,
           null,
           null,
           null,
           -56538.89200000001,
           null,
           -56492.34000000001,
           null,
           null,
           null,
           null,
           null,
           null,
           -55144.46,
           null,
           -56055.846,
           null,
           null,
           null,
           null,
           null,
           null
          ],
          [
           null,
           null,
           null,
           null,
           null,
           null,
           null,
           null,
           null,
           null,
           null,
           null,
           -55503.768000000004,
           -50682.386000000006,
           null,
           null,
           null,
           null,
           null,
           -56822.038,
           null,
           null,
           -55592.636,
           null,
           null,
           null,
           null
          ],
          [
           null,
           null,
           null,
           -57628.757999999994,
           -57185.664000000004,
           null,
           null,
           null,
           null,
           null,
           null,
           null,
           null,
           null,
           null,
           null,
           null,
           -55051.342000000004,
           null,
           null,
           null,
           null,
           null,
           null,
           null,
           null,
           null
          ],
          [
           null,
           null,
           null,
           null,
           null,
           null,
           -56057.909999999996,
           null,
           null,
           null,
           null,
           null,
           null,
           null,
           null,
           null,
           null,
           null,
           null,
           null,
           null,
           null,
           null,
           null,
           null,
           null,
           null
          ],
          [
           null,
           null,
           null,
           null,
           null,
           null,
           null,
           null,
           null,
           null,
           null,
           null,
           null,
           null,
           null,
           null,
           null,
           null,
           null,
           null,
           null,
           null,
           null,
           null,
           -56958.224,
           -57882.712,
           null
          ],
          [
           null,
           -56008.922,
           null,
           null,
           null,
           null,
           null,
           null,
           null,
           null,
           null,
           null,
           null,
           null,
           null,
           null,
           null,
           null,
           null,
           null,
           null,
           null,
           null,
           null,
           null,
           null,
           null
          ],
          [
           null,
           null,
           null,
           null,
           null,
           null,
           null,
           null,
           null,
           null,
           null,
           null,
           null,
           null,
           null,
           null,
           null,
           null,
           null,
           null,
           null,
           null,
           null,
           null,
           null,
           null,
           null
          ]
         ]
        },
        {
         "marker": {
          "color": "black",
          "line": {
           "color": "Gray",
           "width": 2
          }
         },
         "mode": "markers",
         "name": "Feasible Trial",
         "showlegend": false,
         "type": "scatter",
         "x": [
          0.1,
          0.29520782619802766,
          0.3089102531195254,
          0.2336509516388875,
          0.1846254107627201,
          0.3626713081468701,
          0.43377033478622673,
          0.4761675059645748,
          0.1824965480742499,
          0.1654154641690807,
          0.38142026193522827,
          0.3944172007358767,
          0.3685526207563853,
          0.35253555109892754,
          0.49355086769746864,
          0.29982729752599724,
          0.41240050168747416,
          0.3384563312235688,
          0.25223977462615943,
          0.33570162160966355,
          0.44451684148788306,
          0.3872212330741873,
          0.33230321497675425,
          0.25999463686631985,
          0.37760012541074667
         ],
         "xaxis": "x11",
         "y": [
          1000000,
          100000,
          200000,
          150000,
          400000,
          250000,
          350000,
          500000,
          400000,
          250000,
          300000,
          300000,
          250000,
          50000,
          500000,
          300000,
          200000,
          350000,
          450000,
          350000,
          200000,
          350000,
          300000,
          250000,
          400000
         ],
         "yaxis": "y11"
        },
        {
         "colorbar": {
          "title": {
           "text": "Objective Value"
          }
         },
         "colorscale": [
          [
           0,
           "rgb(247,251,255)"
          ],
          [
           0.125,
           "rgb(222,235,247)"
          ],
          [
           0.25,
           "rgb(198,219,239)"
          ],
          [
           0.375,
           "rgb(158,202,225)"
          ],
          [
           0.5,
           "rgb(107,174,214)"
          ],
          [
           0.625,
           "rgb(66,146,198)"
          ],
          [
           0.75,
           "rgb(33,113,181)"
          ],
          [
           0.875,
           "rgb(8,81,156)"
          ],
          [
           1,
           "rgb(8,48,107)"
          ]
         ],
         "connectgaps": true,
         "contours": {
          "coloring": "heatmap"
         },
         "hoverinfo": "none",
         "line": {
          "smoothing": 1.3
         },
         "reversescale": false,
         "showscale": false,
         "type": "contour",
         "x": [
          0.08032245661512658,
          0.1,
          0.1654154641690807,
          0.1824965480742499,
          0.1846254107627201,
          0.2336509516388875,
          0.25223977462615943,
          0.25999463686631985,
          0.29520782619802766,
          0.29982729752599724,
          0.3089102531195254,
          0.33230321497675425,
          0.33570162160966355,
          0.3384563312235688,
          0.35253555109892754,
          0.3626713081468701,
          0.3685526207563853,
          0.37760012541074667,
          0.38142026193522827,
          0.3872212330741873,
          0.3944172007358767,
          0.41240050168747416,
          0.43377033478622673,
          0.44451684148788306,
          0.4761675059645748,
          0.49355086769746864,
          0.5132284110823421
         ],
         "xaxis": "x17",
         "y": [
          0.8967217550694253,
          0.9015332924589152,
          0.9023110447959488,
          0.9041181747731538,
          0.9132761126176273,
          0.9135549843660378,
          0.9184950584749083,
          0.9235802548081983,
          0.9267518483044083,
          0.92885650612723,
          0.9344907511949925,
          0.9407264655316708,
          0.9425865440966986,
          0.9432979930735299,
          0.944717636907831,
          0.9524456507336426,
          0.9528706435979579,
          0.9551137737400753,
          0.9621466953758586,
          0.962212074959442,
          0.9672812275108122,
          0.9744324353443722,
          0.9788684016478556,
          0.99,
          0.9942072840510408,
          0.9977640402487132,
          1.002575577638203
         ],
         "yaxis": "y17",
         "z": [
          [
           null,
           null,
           null,
           null,
           null,
           null,
           null,
           null,
           null,
           null,
           null,
           null,
           null,
           null,
           null,
           null,
           null,
           null,
           null,
           null,
           null,
           null,
           null,
           null,
           null,
           null,
           null
          ],
          [
           null,
           null,
           null,
           null,
           null,
           null,
           null,
           null,
           null,
           null,
           null,
           null,
           -55503.768000000004,
           null,
           null,
           null,
           null,
           null,
           null,
           null,
           null,
           null,
           null,
           null,
           null,
           null,
           null
          ],
          [
           null,
           null,
           null,
           null,
           null,
           null,
           -56057.909999999996,
           null,
           null,
           null,
           null,
           null,
           null,
           null,
           null,
           null,
           null,
           null,
           null,
           null,
           null,
           null,
           null,
           null,
           null,
           null,
           null
          ],
          [
           null,
           null,
           null,
           null,
           null,
           null,
           null,
           null,
           null,
           null,
           null,
           null,
           null,
           -50682.386000000006,
           null,
           null,
           null,
           null,
           null,
           null,
           null,
           null,
           null,
           null,
           null,
           null,
           null
          ],
          [
           null,
           null,
           null,
           null,
           null,
           null,
           null,
           null,
           null,
           null,
           null,
           null,
           null,
           null,
           null,
           null,
           null,
           null,
           null,
           -56822.038,
           null,
           null,
           null,
           null,
           null,
           null,
           null
          ],
          [
           null,
           null,
           null,
           null,
           -57185.664000000004,
           null,
           null,
           null,
           null,
           null,
           null,
           null,
           null,
           null,
           null,
           null,
           null,
           null,
           null,
           null,
           null,
           null,
           null,
           null,
           null,
           null,
           null
          ],
          [
           null,
           null,
           null,
           null,
           null,
           null,
           null,
           null,
           null,
           null,
           null,
           null,
           null,
           null,
           null,
           null,
           null,
           -55051.342000000004,
           null,
           null,
           null,
           null,
           null,
           null,
           null,
           null,
           null
          ],
          [
           null,
           null,
           null,
           null,
           null,
           null,
           null,
           null,
           null,
           null,
           -57037.62999999999,
           null,
           null,
           null,
           null,
           null,
           null,
           null,
           null,
           null,
           null,
           null,
           null,
           null,
           null,
           null,
           null
          ],
          [
           null,
           null,
           null,
           null,
           null,
           null,
           null,
           null,
           -57631.78400000001,
           null,
           null,
           null,
           null,
           null,
           null,
           null,
           null,
           null,
           null,
           null,
           null,
           null,
           null,
           null,
           null,
           null,
           null
          ],
          [
           null,
           null,
           -56978.46800000001,
           null,
           null,
           null,
           null,
           null,
           null,
           null,
           null,
           null,
           null,
           null,
           null,
           null,
           null,
           null,
           null,
           null,
           null,
           null,
           null,
           null,
           null,
           null,
           null
          ],
          [
           null,
           null,
           null,
           null,
           null,
           null,
           null,
           null,
           null,
           null,
           null,
           null,
           null,
           null,
           null,
           null,
           null,
           null,
           null,
           null,
           null,
           null,
           null,
           -19807164.772000004,
           null,
           null,
           null
          ],
          [
           null,
           null,
           null,
           null,
           null,
           null,
           null,
           -57591.476,
           null,
           null,
           null,
           null,
           null,
           null,
           null,
           null,
           null,
           null,
           null,
           null,
           null,
           null,
           null,
           null,
           null,
           null,
           null
          ],
          [
           null,
           null,
           null,
           null,
           null,
           null,
           null,
           null,
           null,
           null,
           null,
           null,
           null,
           null,
           null,
           null,
           null,
           null,
           null,
           null,
           -56055.846,
           null,
           null,
           null,
           null,
           null,
           null
          ],
          [
           null,
           null,
           null,
           null,
           null,
           null,
           null,
           null,
           null,
           null,
           null,
           null,
           null,
           null,
           null,
           null,
           null,
           null,
           null,
           null,
           null,
           null,
           null,
           null,
           null,
           -57882.712,
           null
          ],
          [
           null,
           null,
           null,
           null,
           null,
           null,
           null,
           null,
           null,
           null,
           null,
           null,
           null,
           null,
           null,
           null,
           null,
           null,
           -55144.46,
           null,
           null,
           null,
           null,
           null,
           null,
           null,
           null
          ],
          [
           null,
           null,
           null,
           null,
           null,
           null,
           null,
           null,
           null,
           -56538.89200000001,
           null,
           null,
           null,
           null,
           null,
           null,
           null,
           null,
           null,
           null,
           null,
           null,
           null,
           null,
           null,
           null,
           null
          ],
          [
           null,
           null,
           null,
           null,
           null,
           null,
           null,
           null,
           null,
           null,
           null,
           null,
           null,
           null,
           null,
           null,
           -56952.996,
           null,
           null,
           null,
           null,
           null,
           null,
           null,
           null,
           null,
           null
          ],
          [
           null,
           null,
           null,
           null,
           null,
           null,
           null,
           null,
           null,
           null,
           null,
           null,
           null,
           null,
           null,
           -54697.085999999996,
           null,
           null,
           null,
           null,
           null,
           null,
           null,
           null,
           null,
           null,
           null
          ],
          [
           null,
           null,
           null,
           null,
           null,
           null,
           null,
           null,
           null,
           null,
           null,
           null,
           null,
           null,
           null,
           null,
           null,
           null,
           null,
           null,
           null,
           null,
           -55592.636,
           null,
           null,
           null,
           null
          ],
          [
           null,
           null,
           null,
           null,
           null,
           null,
           null,
           null,
           null,
           null,
           null,
           -56492.34000000001,
           null,
           null,
           null,
           null,
           null,
           null,
           null,
           null,
           null,
           null,
           null,
           null,
           null,
           null,
           null
          ],
          [
           null,
           null,
           null,
           null,
           null,
           -55168.012,
           null,
           null,
           null,
           null,
           null,
           null,
           null,
           null,
           null,
           null,
           null,
           null,
           null,
           null,
           null,
           null,
           null,
           null,
           null,
           null,
           null
          ],
          [
           null,
           null,
           null,
           null,
           null,
           null,
           null,
           null,
           null,
           null,
           null,
           null,
           null,
           null,
           -55981.33999999999,
           null,
           null,
           null,
           null,
           null,
           null,
           null,
           null,
           null,
           null,
           null,
           null
          ],
          [
           null,
           null,
           null,
           null,
           null,
           null,
           null,
           null,
           null,
           null,
           null,
           null,
           null,
           null,
           null,
           null,
           null,
           null,
           null,
           null,
           null,
           -56271.886,
           null,
           null,
           null,
           null,
           null
          ],
          [
           null,
           -56008.922,
           null,
           null,
           null,
           null,
           null,
           null,
           null,
           null,
           null,
           null,
           null,
           null,
           null,
           null,
           null,
           null,
           null,
           null,
           null,
           null,
           null,
           null,
           null,
           null,
           null
          ],
          [
           null,
           null,
           null,
           null,
           null,
           null,
           null,
           null,
           null,
           null,
           null,
           null,
           null,
           null,
           null,
           null,
           null,
           null,
           null,
           null,
           null,
           null,
           null,
           null,
           -56958.224,
           null,
           null
          ],
          [
           null,
           null,
           null,
           -57628.757999999994,
           null,
           null,
           null,
           null,
           null,
           null,
           null,
           null,
           null,
           null,
           null,
           null,
           null,
           null,
           null,
           null,
           null,
           null,
           null,
           null,
           null,
           null,
           null
          ],
          [
           null,
           null,
           null,
           null,
           null,
           null,
           null,
           null,
           null,
           null,
           null,
           null,
           null,
           null,
           null,
           null,
           null,
           null,
           null,
           null,
           null,
           null,
           null,
           null,
           null,
           null,
           null
          ]
         ]
        },
        {
         "marker": {
          "color": "black",
          "line": {
           "color": "Gray",
           "width": 2
          }
         },
         "mode": "markers",
         "name": "Feasible Trial",
         "showlegend": false,
         "type": "scatter",
         "x": [
          0.1,
          0.29520782619802766,
          0.3089102531195254,
          0.2336509516388875,
          0.1846254107627201,
          0.3626713081468701,
          0.43377033478622673,
          0.4761675059645748,
          0.1824965480742499,
          0.1654154641690807,
          0.38142026193522827,
          0.3944172007358767,
          0.3685526207563853,
          0.35253555109892754,
          0.49355086769746864,
          0.29982729752599724,
          0.41240050168747416,
          0.3384563312235688,
          0.25223977462615943,
          0.33570162160966355,
          0.44451684148788306,
          0.3872212330741873,
          0.33230321497675425,
          0.25999463686631985,
          0.37760012541074667
         ],
         "xaxis": "x17",
         "y": [
          0.99,
          0.9267518483044083,
          0.9235802548081983,
          0.9672812275108122,
          0.9135549843660378,
          0.9551137737400753,
          0.9621466953758586,
          0.9942072840510408,
          0.9977640402487132,
          0.92885650612723,
          0.944717636907831,
          0.9425865440966986,
          0.9528706435979579,
          0.9744324353443722,
          0.9432979930735299,
          0.9524456507336426,
          0.9788684016478556,
          0.9041181747731538,
          0.9023110447959488,
          0.9015332924589152,
          0.9344907511949925,
          0.9132761126176273,
          0.962212074959442,
          0.9407264655316708,
          0.9184950584749083
         ],
         "yaxis": "y17"
        },
        {
         "colorbar": {
          "title": {
           "text": "Objective Value"
          }
         },
         "colorscale": [
          [
           0,
           "rgb(247,251,255)"
          ],
          [
           0.125,
           "rgb(222,235,247)"
          ],
          [
           0.25,
           "rgb(198,219,239)"
          ],
          [
           0.375,
           "rgb(158,202,225)"
          ],
          [
           0.5,
           "rgb(107,174,214)"
          ],
          [
           0.625,
           "rgb(66,146,198)"
          ],
          [
           0.75,
           "rgb(33,113,181)"
          ],
          [
           0.875,
           "rgb(8,81,156)"
          ],
          [
           1,
           "rgb(8,48,107)"
          ]
         ],
         "connectgaps": true,
         "contours": {
          "coloring": "heatmap"
         },
         "hoverinfo": "none",
         "line": {
          "smoothing": 1.3
         },
         "reversescale": false,
         "showscale": false,
         "type": "contour",
         "x": [
          0.08032245661512658,
          0.1,
          0.1654154641690807,
          0.1824965480742499,
          0.1846254107627201,
          0.2336509516388875,
          0.25223977462615943,
          0.25999463686631985,
          0.29520782619802766,
          0.29982729752599724,
          0.3089102531195254,
          0.33230321497675425,
          0.33570162160966355,
          0.3384563312235688,
          0.35253555109892754,
          0.3626713081468701,
          0.3685526207563853,
          0.37760012541074667,
          0.38142026193522827,
          0.3872212330741873,
          0.3944172007358767,
          0.41240050168747416,
          0.43377033478622673,
          0.44451684148788306,
          0.4761675059645748,
          0.49355086769746864,
          0.5132284110823421
         ],
         "xaxis": "x23",
         "y": [
          0.00000935321866931526,
          0.00001168374280981023,
          0.000011725185367375389,
          0.000018457592502541072,
          0.000019361100467397984,
          0.000029473700406656617,
          0.000030023649525123333,
          0.00003004969440006251,
          0.000031887871798989554,
          0.000037656338089744616,
          0.00004531034871593193,
          0.00005048035533561577,
          0.00005611816797749212,
          0.00006205304996490255,
          0.0000644037276257185,
          0.00006976425460110442,
          0.00007229091027503433,
          0.00010062612259505235,
          0.0001047196587513247,
          0.00013300818313200042,
          0.00015377020282693002,
          0.00021997213915881885,
          0.00025892512702773,
          0.0003713120921827322,
          0.0005561876608894562,
          0.001,
          0.0012491681444528437
         ],
         "yaxis": "y23",
         "z": [
          [
           null,
           null,
           null,
           null,
           null,
           null,
           null,
           null,
           null,
           null,
           null,
           null,
           null,
           null,
           null,
           null,
           null,
           null,
           null,
           null,
           null,
           null,
           null,
           null,
           null,
           null,
           null
          ],
          [
           null,
           null,
           null,
           -57628.757999999994,
           null,
           null,
           null,
           null,
           null,
           null,
           null,
           null,
           null,
           null,
           null,
           null,
           null,
           null,
           null,
           null,
           null,
           null,
           null,
           null,
           null,
           null,
           null
          ],
          [
           null,
           null,
           null,
           null,
           null,
           null,
           null,
           null,
           null,
           null,
           -57037.62999999999,
           null,
           null,
           null,
           null,
           null,
           null,
           null,
           null,
           null,
           null,
           null,
           null,
           null,
           null,
           null,
           null
          ],
          [
           null,
           null,
           null,
           null,
           null,
           null,
           null,
           null,
           null,
           null,
           null,
           null,
           null,
           null,
           null,
           null,
           null,
           null,
           null,
           null,
           null,
           -56271.886,
           null,
           null,
           null,
           null,
           null
          ],
          [
           null,
           null,
           null,
           null,
           null,
           null,
           null,
           null,
           null,
           null,
           null,
           -56492.34000000001,
           null,
           null,
           null,
           null,
           null,
           null,
           null,
           null,
           null,
           null,
           null,
           null,
           null,
           null,
           null
          ],
          [
           null,
           null,
           null,
           null,
           null,
           null,
           null,
           null,
           null,
           null,
           null,
           null,
           null,
           null,
           null,
           null,
           null,
           null,
           null,
           null,
           -56055.846,
           null,
           null,
           null,
           null,
           null,
           null
          ],
          [
           null,
           null,
           null,
           null,
           null,
           null,
           null,
           null,
           null,
           null,
           null,
           null,
           null,
           null,
           -55981.33999999999,
           null,
           null,
           null,
           null,
           null,
           null,
           null,
           null,
           null,
           null,
           null,
           null
          ],
          [
           null,
           null,
           null,
           null,
           null,
           null,
           null,
           null,
           null,
           null,
           null,
           null,
           null,
           null,
           null,
           null,
           -56952.996,
           null,
           null,
           null,
           null,
           null,
           null,
           null,
           null,
           null,
           null
          ],
          [
           null,
           null,
           null,
           null,
           null,
           null,
           null,
           null,
           null,
           null,
           null,
           null,
           null,
           null,
           null,
           null,
           null,
           null,
           -55144.46,
           null,
           null,
           null,
           null,
           null,
           null,
           null,
           null
          ],
          [
           null,
           null,
           null,
           null,
           null,
           null,
           null,
           null,
           null,
           -56538.89200000001,
           null,
           null,
           null,
           null,
           null,
           null,
           null,
           null,
           null,
           null,
           null,
           null,
           null,
           null,
           null,
           null,
           null
          ],
          [
           null,
           null,
           null,
           null,
           null,
           null,
           null,
           null,
           null,
           null,
           null,
           null,
           null,
           null,
           null,
           null,
           null,
           null,
           null,
           -56822.038,
           null,
           null,
           null,
           null,
           null,
           null,
           null
          ],
          [
           null,
           null,
           null,
           null,
           null,
           null,
           null,
           -57591.476,
           null,
           null,
           null,
           null,
           null,
           null,
           null,
           null,
           null,
           null,
           null,
           null,
           null,
           null,
           null,
           null,
           null,
           null,
           null
          ],
          [
           null,
           null,
           null,
           null,
           null,
           null,
           null,
           null,
           null,
           null,
           null,
           null,
           null,
           -50682.386000000006,
           null,
           null,
           null,
           null,
           null,
           null,
           null,
           null,
           null,
           null,
           null,
           null,
           null
          ],
          [
           null,
           null,
           null,
           null,
           null,
           null,
           null,
           null,
           null,
           null,
           null,
           null,
           -55503.768000000004,
           null,
           null,
           null,
           null,
           null,
           null,
           null,
           null,
           null,
           null,
           null,
           null,
           null,
           null
          ],
          [
           null,
           null,
           null,
           null,
           null,
           null,
           null,
           null,
           null,
           null,
           null,
           null,
           null,
           null,
           null,
           null,
           null,
           null,
           null,
           null,
           null,
           null,
           null,
           null,
           -56958.224,
           null,
           null
          ],
          [
           null,
           null,
           null,
           null,
           null,
           null,
           null,
           null,
           -57631.78400000001,
           null,
           null,
           null,
           null,
           null,
           null,
           null,
           null,
           null,
           null,
           null,
           null,
           null,
           null,
           null,
           null,
           null,
           null
          ],
          [
           null,
           null,
           null,
           null,
           null,
           null,
           null,
           null,
           null,
           null,
           null,
           null,
           null,
           null,
           null,
           -54697.085999999996,
           null,
           null,
           null,
           null,
           null,
           null,
           null,
           null,
           null,
           null,
           null
          ],
          [
           null,
           null,
           null,
           null,
           null,
           null,
           null,
           null,
           null,
           null,
           null,
           null,
           null,
           null,
           null,
           null,
           null,
           null,
           null,
           null,
           null,
           null,
           -55592.636,
           null,
           null,
           null,
           null
          ],
          [
           null,
           null,
           null,
           null,
           -57185.664000000004,
           null,
           null,
           null,
           null,
           null,
           null,
           null,
           null,
           null,
           null,
           null,
           null,
           null,
           null,
           null,
           null,
           null,
           null,
           null,
           null,
           null,
           null
          ],
          [
           null,
           null,
           null,
           null,
           null,
           null,
           null,
           null,
           null,
           null,
           null,
           null,
           null,
           null,
           null,
           null,
           null,
           -55051.342000000004,
           null,
           null,
           null,
           null,
           null,
           null,
           null,
           null,
           null
          ],
          [
           null,
           null,
           null,
           null,
           null,
           -55168.012,
           null,
           null,
           null,
           null,
           null,
           null,
           null,
           null,
           null,
           null,
           null,
           null,
           null,
           null,
           null,
           null,
           null,
           null,
           null,
           null,
           null
          ],
          [
           null,
           null,
           null,
           null,
           null,
           null,
           null,
           null,
           null,
           null,
           null,
           null,
           null,
           null,
           null,
           null,
           null,
           null,
           null,
           null,
           null,
           null,
           null,
           null,
           null,
           -57882.712,
           null
          ],
          [
           null,
           null,
           null,
           null,
           null,
           null,
           -56057.909999999996,
           null,
           null,
           null,
           null,
           null,
           null,
           null,
           null,
           null,
           null,
           null,
           null,
           null,
           null,
           null,
           null,
           null,
           null,
           null,
           null
          ],
          [
           null,
           null,
           -56978.46800000001,
           null,
           null,
           null,
           null,
           null,
           null,
           null,
           null,
           null,
           null,
           null,
           null,
           null,
           null,
           null,
           null,
           null,
           null,
           null,
           null,
           null,
           null,
           null,
           null
          ],
          [
           null,
           null,
           null,
           null,
           null,
           null,
           null,
           null,
           null,
           null,
           null,
           null,
           null,
           null,
           null,
           null,
           null,
           null,
           null,
           null,
           null,
           null,
           null,
           -19807164.772000004,
           null,
           null,
           null
          ],
          [
           null,
           -56008.922,
           null,
           null,
           null,
           null,
           null,
           null,
           null,
           null,
           null,
           null,
           null,
           null,
           null,
           null,
           null,
           null,
           null,
           null,
           null,
           null,
           null,
           null,
           null,
           null,
           null
          ],
          [
           null,
           null,
           null,
           null,
           null,
           null,
           null,
           null,
           null,
           null,
           null,
           null,
           null,
           null,
           null,
           null,
           null,
           null,
           null,
           null,
           null,
           null,
           null,
           null,
           null,
           null,
           null
          ]
         ]
        },
        {
         "marker": {
          "color": "black",
          "line": {
           "color": "Gray",
           "width": 2
          }
         },
         "mode": "markers",
         "name": "Feasible Trial",
         "showlegend": false,
         "type": "scatter",
         "x": [
          0.1,
          0.29520782619802766,
          0.3089102531195254,
          0.2336509516388875,
          0.1846254107627201,
          0.3626713081468701,
          0.43377033478622673,
          0.4761675059645748,
          0.1824965480742499,
          0.1654154641690807,
          0.38142026193522827,
          0.3944172007358767,
          0.3685526207563853,
          0.35253555109892754,
          0.49355086769746864,
          0.29982729752599724,
          0.41240050168747416,
          0.3384563312235688,
          0.25223977462615943,
          0.33570162160966355,
          0.44451684148788306,
          0.3872212330741873,
          0.33230321497675425,
          0.25999463686631985,
          0.37760012541074667
         ],
         "xaxis": "x23",
         "y": [
          0.001,
          0.00006976425460110442,
          0.000011725185367375389,
          0.00015377020282693002,
          0.0001047196587513247,
          0.00007229091027503433,
          0.00010062612259505235,
          0.0000644037276257185,
          0.00001168374280981023,
          0.0003713120921827322,
          0.000031887871798989554,
          0.000029473700406656617,
          0.00003004969440006251,
          0.000030023649525123333,
          0.00021997213915881885,
          0.000037656338089744616,
          0.000018457592502541072,
          0.00005611816797749212,
          0.00025892512702773,
          0.00006205304996490255,
          0.0005561876608894562,
          0.00004531034871593193,
          0.000019361100467397984,
          0.00005048035533561577,
          0.00013300818313200042
         ],
         "yaxis": "y23"
        },
        {
         "type": "scatter",
         "xaxis": "x29",
         "yaxis": "y29"
        },
        {
         "colorbar": {
          "title": {
           "text": "Objective Value"
          }
         },
         "colorscale": [
          [
           0,
           "rgb(247,251,255)"
          ],
          [
           0.125,
           "rgb(222,235,247)"
          ],
          [
           0.25,
           "rgb(198,219,239)"
          ],
          [
           0.375,
           "rgb(158,202,225)"
          ],
          [
           0.5,
           "rgb(107,174,214)"
          ],
          [
           0.625,
           "rgb(66,146,198)"
          ],
          [
           0.75,
           "rgb(33,113,181)"
          ],
          [
           0.875,
           "rgb(8,81,156)"
          ],
          [
           1,
           "rgb(8,48,107)"
          ]
         ],
         "connectgaps": true,
         "contours": {
          "coloring": "heatmap"
         },
         "hoverinfo": "none",
         "line": {
          "smoothing": 1.3
         },
         "reversescale": false,
         "showscale": false,
         "type": "contour",
         "x": [
          0.08032245661512658,
          0.1,
          0.1654154641690807,
          0.1824965480742499,
          0.1846254107627201,
          0.2336509516388875,
          0.25223977462615943,
          0.25999463686631985,
          0.29520782619802766,
          0.29982729752599724,
          0.3089102531195254,
          0.33230321497675425,
          0.33570162160966355,
          0.3384563312235688,
          0.35253555109892754,
          0.3626713081468701,
          0.3685526207563853,
          0.37760012541074667,
          0.38142026193522827,
          0.3872212330741873,
          0.3944172007358767,
          0.41240050168747416,
          0.43377033478622673,
          0.44451684148788306,
          0.4761675059645748,
          0.49355086769746864,
          0.5132284110823421
         ],
         "xaxis": "x35",
         "y": [
          0.0009056354041980357,
          0.001129748991583551,
          0.002102535340997532,
          0.002621000150777214,
          0.0034045074976167614,
          0.0038757719728482955,
          0.005,
          0.00667489535344205,
          0.00691916654544977,
          0.007700374079292978,
          0.00784627729837932,
          0.008131361443503082,
          0.008395605554417146,
          0.01147781207908402,
          0.012993981044991262,
          0.01320411007804864,
          0.018232506295228452,
          0.019600262046321752,
          0.025136744298222623,
          0.025705570579629,
          0.026171471880384028,
          0.04058933625309135,
          0.04322569863337195,
          0.07575647320418369,
          0.08454887194673188,
          0.09409214442516224,
          0.11737671118808882
         ],
         "yaxis": "y35",
         "z": [
          [
           null,
           null,
           null,
           null,
           null,
           null,
           null,
           null,
           null,
           null,
           null,
           null,
           null,
           null,
           null,
           null,
           null,
           null,
           null,
           null,
           null,
           null,
           null,
           null,
           null,
           null,
           null
          ],
          [
           null,
           null,
           null,
           null,
           null,
           null,
           null,
           null,
           -57631.78400000001,
           null,
           null,
           null,
           null,
           null,
           null,
           null,
           null,
           null,
           null,
           null,
           null,
           null,
           null,
           null,
           null,
           null,
           null
          ],
          [
           null,
           null,
           null,
           null,
           null,
           null,
           -56057.909999999996,
           null,
           null,
           null,
           null,
           null,
           null,
           null,
           null,
           null,
           null,
           null,
           null,
           null,
           null,
           null,
           null,
           null,
           null,
           null,
           null
          ],
          [
           null,
           null,
           -56978.46800000001,
           null,
           null,
           null,
           null,
           null,
           null,
           null,
           null,
           null,
           null,
           null,
           null,
           null,
           null,
           null,
           null,
           null,
           null,
           null,
           null,
           null,
           null,
           null,
           null
          ],
          [
           null,
           null,
           null,
           null,
           null,
           null,
           null,
           null,
           null,
           null,
           null,
           null,
           null,
           null,
           null,
           null,
           null,
           null,
           null,
           null,
           null,
           null,
           null,
           -19807164.772000004,
           null,
           null,
           null
          ],
          [
           null,
           null,
           null,
           null,
           null,
           null,
           null,
           null,
           null,
           -56538.89200000001,
           null,
           null,
           null,
           null,
           null,
           null,
           null,
           null,
           null,
           null,
           null,
           null,
           null,
           null,
           null,
           null,
           null
          ],
          [
           null,
           -56008.922,
           null,
           null,
           null,
           null,
           null,
           null,
           null,
           null,
           null,
           null,
           null,
           null,
           null,
           null,
           null,
           null,
           null,
           null,
           null,
           null,
           null,
           null,
           null,
           null,
           null
          ],
          [
           null,
           null,
           null,
           -57628.757999999994,
           null,
           null,
           null,
           null,
           null,
           null,
           null,
           null,
           null,
           null,
           null,
           null,
           null,
           null,
           null,
           null,
           null,
           null,
           null,
           null,
           null,
           null,
           null
          ],
          [
           null,
           null,
           null,
           null,
           null,
           null,
           null,
           null,
           null,
           null,
           null,
           null,
           null,
           null,
           null,
           null,
           null,
           -55051.342000000004,
           null,
           null,
           null,
           null,
           null,
           null,
           null,
           null,
           null
          ],
          [
           null,
           null,
           null,
           null,
           null,
           null,
           null,
           null,
           null,
           null,
           null,
           null,
           null,
           null,
           null,
           -54697.085999999996,
           null,
           null,
           null,
           null,
           null,
           null,
           null,
           null,
           null,
           null,
           null
          ],
          [
           null,
           null,
           null,
           null,
           null,
           null,
           null,
           null,
           null,
           null,
           null,
           null,
           -55503.768000000004,
           null,
           null,
           null,
           null,
           null,
           null,
           null,
           null,
           null,
           null,
           null,
           null,
           null,
           null
          ],
          [
           null,
           null,
           null,
           null,
           null,
           null,
           null,
           null,
           null,
           null,
           null,
           null,
           null,
           -50682.386000000006,
           null,
           null,
           null,
           null,
           null,
           null,
           null,
           null,
           null,
           null,
           null,
           null,
           null
          ],
          [
           null,
           null,
           null,
           null,
           null,
           null,
           null,
           null,
           null,
           null,
           null,
           -56492.34000000001,
           null,
           null,
           null,
           null,
           null,
           null,
           null,
           null,
           null,
           null,
           null,
           null,
           null,
           null,
           null
          ],
          [
           null,
           null,
           null,
           null,
           null,
           null,
           null,
           null,
           null,
           null,
           -57037.62999999999,
           null,
           null,
           null,
           null,
           null,
           null,
           null,
           null,
           null,
           null,
           null,
           null,
           null,
           null,
           null,
           null
          ],
          [
           null,
           null,
           null,
           null,
           null,
           null,
           null,
           null,
           null,
           null,
           null,
           null,
           null,
           null,
           -55981.33999999999,
           null,
           null,
           null,
           null,
           null,
           null,
           null,
           null,
           null,
           null,
           null,
           null
          ],
          [
           null,
           null,
           null,
           null,
           null,
           null,
           null,
           -57591.476,
           null,
           null,
           null,
           null,
           null,
           null,
           null,
           null,
           null,
           null,
           null,
           null,
           null,
           null,
           null,
           null,
           null,
           null,
           null
          ],
          [
           null,
           null,
           null,
           null,
           null,
           null,
           null,
           null,
           null,
           null,
           null,
           null,
           null,
           null,
           null,
           null,
           null,
           null,
           null,
           -56822.038,
           null,
           null,
           null,
           null,
           null,
           null,
           null
          ],
          [
           null,
           null,
           null,
           null,
           null,
           -55168.012,
           null,
           null,
           null,
           null,
           null,
           null,
           null,
           null,
           null,
           null,
           null,
           null,
           null,
           null,
           null,
           null,
           null,
           null,
           null,
           null,
           null
          ],
          [
           null,
           null,
           null,
           null,
           null,
           null,
           null,
           null,
           null,
           null,
           null,
           null,
           null,
           null,
           null,
           null,
           null,
           null,
           -55144.46,
           null,
           null,
           null,
           null,
           null,
           null,
           null,
           null
          ],
          [
           null,
           null,
           null,
           null,
           null,
           null,
           null,
           null,
           null,
           null,
           null,
           null,
           null,
           null,
           null,
           null,
           -56952.996,
           null,
           null,
           null,
           null,
           null,
           null,
           null,
           null,
           null,
           null
          ],
          [
           null,
           null,
           null,
           null,
           null,
           null,
           null,
           null,
           null,
           null,
           null,
           null,
           null,
           null,
           null,
           null,
           null,
           null,
           null,
           null,
           -56055.846,
           null,
           null,
           null,
           null,
           null,
           null
          ],
          [
           null,
           null,
           null,
           null,
           null,
           null,
           null,
           null,
           null,
           null,
           null,
           null,
           null,
           null,
           null,
           null,
           null,
           null,
           null,
           null,
           null,
           null,
           null,
           null,
           null,
           -57882.712,
           null
          ],
          [
           null,
           null,
           null,
           null,
           null,
           null,
           null,
           null,
           null,
           null,
           null,
           null,
           null,
           null,
           null,
           null,
           null,
           null,
           null,
           null,
           null,
           -56271.886,
           null,
           null,
           null,
           null,
           null
          ],
          [
           null,
           null,
           null,
           null,
           -57185.664000000004,
           null,
           null,
           null,
           null,
           null,
           null,
           null,
           null,
           null,
           null,
           null,
           null,
           null,
           null,
           null,
           null,
           null,
           null,
           null,
           null,
           null,
           null
          ],
          [
           null,
           null,
           null,
           null,
           null,
           null,
           null,
           null,
           null,
           null,
           null,
           null,
           null,
           null,
           null,
           null,
           null,
           null,
           null,
           null,
           null,
           null,
           null,
           null,
           -56958.224,
           null,
           null
          ],
          [
           null,
           null,
           null,
           null,
           null,
           null,
           null,
           null,
           null,
           null,
           null,
           null,
           null,
           null,
           null,
           null,
           null,
           null,
           null,
           null,
           null,
           null,
           -55592.636,
           null,
           null,
           null,
           null
          ],
          [
           null,
           null,
           null,
           null,
           null,
           null,
           null,
           null,
           null,
           null,
           null,
           null,
           null,
           null,
           null,
           null,
           null,
           null,
           null,
           null,
           null,
           null,
           null,
           null,
           null,
           null,
           null
          ]
         ]
        },
        {
         "marker": {
          "color": "black",
          "line": {
           "color": "Gray",
           "width": 2
          }
         },
         "mode": "markers",
         "name": "Feasible Trial",
         "showlegend": false,
         "type": "scatter",
         "x": [
          0.1,
          0.29520782619802766,
          0.3089102531195254,
          0.2336509516388875,
          0.1846254107627201,
          0.3626713081468701,
          0.43377033478622673,
          0.4761675059645748,
          0.1824965480742499,
          0.1654154641690807,
          0.38142026193522827,
          0.3944172007358767,
          0.3685526207563853,
          0.35253555109892754,
          0.49355086769746864,
          0.29982729752599724,
          0.41240050168747416,
          0.3384563312235688,
          0.25223977462615943,
          0.33570162160966355,
          0.44451684148788306,
          0.3872212330741873,
          0.33230321497675425,
          0.25999463686631985,
          0.37760012541074667
         ],
         "xaxis": "x35",
         "y": [
          0.005,
          0.001129748991583551,
          0.01147781207908402,
          0.019600262046321752,
          0.07575647320418369,
          0.007700374079292978,
          0.09409214442516224,
          0.08454887194673188,
          0.00667489535344205,
          0.002621000150777214,
          0.025136744298222623,
          0.026171471880384028,
          0.025705570579629,
          0.012993981044991262,
          0.04058933625309135,
          0.0038757719728482955,
          0.04322569863337195,
          0.008131361443503082,
          0.002102535340997532,
          0.00784627729837932,
          0.0034045074976167614,
          0.018232506295228452,
          0.008395605554417146,
          0.01320411007804864,
          0.00691916654544977
         ],
         "yaxis": "y35"
        },
        {
         "colorbar": {
          "title": {
           "text": "Objective Value"
          }
         },
         "colorscale": [
          [
           0,
           "rgb(247,251,255)"
          ],
          [
           0.125,
           "rgb(222,235,247)"
          ],
          [
           0.25,
           "rgb(198,219,239)"
          ],
          [
           0.375,
           "rgb(158,202,225)"
          ],
          [
           0.5,
           "rgb(107,174,214)"
          ],
          [
           0.625,
           "rgb(66,146,198)"
          ],
          [
           0.75,
           "rgb(33,113,181)"
          ],
          [
           0.875,
           "rgb(8,81,156)"
          ],
          [
           1,
           "rgb(8,48,107)"
          ]
         ],
         "connectgaps": true,
         "contours": {
          "coloring": "heatmap"
         },
         "hoverinfo": "none",
         "line": {
          "smoothing": 1.3
         },
         "reversescale": false,
         "showscale": false,
         "type": "contour",
         "x": [
          0.0009056354041980357,
          0.001129748991583551,
          0.002102535340997532,
          0.002621000150777214,
          0.0034045074976167614,
          0.0038757719728482955,
          0.005,
          0.00667489535344205,
          0.00691916654544977,
          0.007700374079292978,
          0.00784627729837932,
          0.008131361443503082,
          0.008395605554417146,
          0.01147781207908402,
          0.012993981044991262,
          0.01320411007804864,
          0.018232506295228452,
          0.019600262046321752,
          0.025136744298222623,
          0.025705570579629,
          0.026171471880384028,
          0.04058933625309135,
          0.04322569863337195,
          0.07575647320418369,
          0.08454887194673188,
          0.09409214442516224,
          0.11737671118808882
         ],
         "xaxis": "x6",
         "y": [
          20.799999999999997,
          32,
          64,
          128,
          256,
          267.2
         ],
         "yaxis": "y6",
         "z": [
          [
           null,
           null,
           null,
           null,
           null,
           null,
           null,
           null,
           null,
           null,
           null,
           null,
           null,
           null,
           null,
           null,
           null,
           null,
           null,
           null,
           null,
           null,
           null,
           null,
           null,
           null,
           null
          ],
          [
           null,
           null,
           null,
           -56978.46800000001,
           null,
           null,
           null,
           null,
           null,
           null,
           null,
           null,
           null,
           -57037.62999999999,
           null,
           null,
           null,
           -55168.012,
           null,
           null,
           null,
           null,
           null,
           -57185.664000000004,
           null,
           -55592.636,
           null
          ],
          [
           null,
           null,
           null,
           null,
           -19807164.772000004,
           -56538.89200000001,
           null,
           null,
           null,
           null,
           null,
           -50682.386000000006,
           -56492.34000000001,
           null,
           -55981.33999999999,
           -57591.476,
           -56822.038,
           null,
           -55144.46,
           -56952.996,
           -56055.846,
           null,
           null,
           null,
           null,
           null,
           null
          ],
          [
           null,
           -57631.78400000001,
           -56057.909999999996,
           null,
           null,
           null,
           null,
           null,
           -55051.342000000004,
           -54697.085999999996,
           null,
           null,
           null,
           null,
           null,
           null,
           null,
           null,
           null,
           null,
           null,
           -57882.712,
           -56271.886,
           null,
           -56958.224,
           null,
           null
          ],
          [
           null,
           null,
           null,
           null,
           null,
           null,
           -56008.922,
           -57628.757999999994,
           null,
           null,
           -55503.768000000004,
           null,
           null,
           null,
           null,
           null,
           null,
           null,
           null,
           null,
           null,
           null,
           null,
           null,
           null,
           null,
           null
          ],
          [
           null,
           null,
           null,
           null,
           null,
           null,
           null,
           null,
           null,
           null,
           null,
           null,
           null,
           null,
           null,
           null,
           null,
           null,
           null,
           null,
           null,
           null,
           null,
           null,
           null,
           null,
           null
          ]
         ]
        },
        {
         "marker": {
          "color": "black",
          "line": {
           "color": "Gray",
           "width": 2
          }
         },
         "mode": "markers",
         "name": "Feasible Trial",
         "showlegend": false,
         "type": "scatter",
         "x": [
          0.005,
          0.001129748991583551,
          0.01147781207908402,
          0.019600262046321752,
          0.07575647320418369,
          0.007700374079292978,
          0.09409214442516224,
          0.08454887194673188,
          0.00667489535344205,
          0.002621000150777214,
          0.025136744298222623,
          0.026171471880384028,
          0.025705570579629,
          0.012993981044991262,
          0.04058933625309135,
          0.0038757719728482955,
          0.04322569863337195,
          0.008131361443503082,
          0.002102535340997532,
          0.00784627729837932,
          0.0034045074976167614,
          0.018232506295228452,
          0.008395605554417146,
          0.01320411007804864,
          0.00691916654544977
         ],
         "xaxis": "x6",
         "y": [
          256,
          128,
          32,
          32,
          32,
          128,
          32,
          128,
          256,
          32,
          64,
          64,
          64,
          64,
          128,
          64,
          128,
          64,
          128,
          256,
          64,
          64,
          64,
          64,
          128
         ],
         "yaxis": "y6"
        },
        {
         "colorbar": {
          "title": {
           "text": "Objective Value"
          }
         },
         "colorscale": [
          [
           0,
           "rgb(247,251,255)"
          ],
          [
           0.125,
           "rgb(222,235,247)"
          ],
          [
           0.25,
           "rgb(198,219,239)"
          ],
          [
           0.375,
           "rgb(158,202,225)"
          ],
          [
           0.5,
           "rgb(107,174,214)"
          ],
          [
           0.625,
           "rgb(66,146,198)"
          ],
          [
           0.75,
           "rgb(33,113,181)"
          ],
          [
           0.875,
           "rgb(8,81,156)"
          ],
          [
           1,
           "rgb(8,48,107)"
          ]
         ],
         "connectgaps": true,
         "contours": {
          "coloring": "heatmap"
         },
         "hoverinfo": "none",
         "line": {
          "smoothing": 1.3
         },
         "reversescale": false,
         "showscale": false,
         "type": "contour",
         "x": [
          0.0009056354041980357,
          0.001129748991583551,
          0.002102535340997532,
          0.002621000150777214,
          0.0034045074976167614,
          0.0038757719728482955,
          0.005,
          0.00667489535344205,
          0.00691916654544977,
          0.007700374079292978,
          0.00784627729837932,
          0.008131361443503082,
          0.008395605554417146,
          0.01147781207908402,
          0.012993981044991262,
          0.01320411007804864,
          0.018232506295228452,
          0.019600262046321752,
          0.025136744298222623,
          0.025705570579629,
          0.026171471880384028,
          0.04058933625309135,
          0.04322569863337195,
          0.07575647320418369,
          0.08454887194673188,
          0.09409214442516224,
          0.11737671118808882
         ],
         "xaxis": "x12",
         "y": [
          2500,
          50000,
          100000,
          150000,
          200000,
          250000,
          300000,
          350000,
          400000,
          450000,
          500000,
          1000000,
          1047500
         ],
         "yaxis": "y12",
         "z": [
          [
           null,
           null,
           null,
           null,
           null,
           null,
           null,
           null,
           null,
           null,
           null,
           null,
           null,
           null,
           null,
           null,
           null,
           null,
           null,
           null,
           null,
           null,
           null,
           null,
           null,
           null,
           null
          ],
          [
           null,
           null,
           null,
           null,
           null,
           null,
           null,
           null,
           null,
           null,
           null,
           null,
           null,
           null,
           -55981.33999999999,
           null,
           null,
           null,
           null,
           null,
           null,
           null,
           null,
           null,
           null,
           null,
           null
          ],
          [
           null,
           -57631.78400000001,
           null,
           null,
           null,
           null,
           null,
           null,
           null,
           null,
           null,
           null,
           null,
           null,
           null,
           null,
           null,
           null,
           null,
           null,
           null,
           null,
           null,
           null,
           null,
           null,
           null
          ],
          [
           null,
           null,
           null,
           null,
           null,
           null,
           null,
           null,
           null,
           null,
           null,
           null,
           null,
           null,
           null,
           null,
           null,
           -55168.012,
           null,
           null,
           null,
           null,
           null,
           null,
           null,
           null,
           null
          ],
          [
           null,
           null,
           null,
           null,
           -19807164.772000004,
           null,
           null,
           null,
           null,
           null,
           null,
           null,
           null,
           -57037.62999999999,
           null,
           null,
           null,
           null,
           null,
           null,
           null,
           null,
           -56271.886,
           null,
           null,
           null,
           null
          ],
          [
           null,
           null,
           null,
           -56978.46800000001,
           null,
           null,
           null,
           null,
           null,
           -54697.085999999996,
           null,
           null,
           null,
           null,
           null,
           -57591.476,
           null,
           null,
           null,
           -56952.996,
           null,
           null,
           null,
           null,
           null,
           null,
           null
          ],
          [
           null,
           null,
           null,
           null,
           null,
           -56538.89200000001,
           null,
           null,
           null,
           null,
           null,
           null,
           -56492.34000000001,
           null,
           null,
           null,
           null,
           null,
           -55144.46,
           null,
           -56055.846,
           null,
           null,
           null,
           null,
           null,
           null
          ],
          [
           null,
           null,
           null,
           null,
           null,
           null,
           null,
           null,
           null,
           null,
           -55503.768000000004,
           -50682.386000000006,
           null,
           null,
           null,
           null,
           -56822.038,
           null,
           null,
           null,
           null,
           null,
           null,
           null,
           null,
           -55592.636,
           null
          ],
          [
           null,
           null,
           null,
           null,
           null,
           null,
           null,
           -57628.757999999994,
           -55051.342000000004,
           null,
           null,
           null,
           null,
           null,
           null,
           null,
           null,
           null,
           null,
           null,
           null,
           null,
           null,
           -57185.664000000004,
           null,
           null,
           null
          ],
          [
           null,
           null,
           -56057.909999999996,
           null,
           null,
           null,
           null,
           null,
           null,
           null,
           null,
           null,
           null,
           null,
           null,
           null,
           null,
           null,
           null,
           null,
           null,
           null,
           null,
           null,
           null,
           null,
           null
          ],
          [
           null,
           null,
           null,
           null,
           null,
           null,
           null,
           null,
           null,
           null,
           null,
           null,
           null,
           null,
           null,
           null,
           null,
           null,
           null,
           null,
           null,
           -57882.712,
           null,
           null,
           -56958.224,
           null,
           null
          ],
          [
           null,
           null,
           null,
           null,
           null,
           null,
           -56008.922,
           null,
           null,
           null,
           null,
           null,
           null,
           null,
           null,
           null,
           null,
           null,
           null,
           null,
           null,
           null,
           null,
           null,
           null,
           null,
           null
          ],
          [
           null,
           null,
           null,
           null,
           null,
           null,
           null,
           null,
           null,
           null,
           null,
           null,
           null,
           null,
           null,
           null,
           null,
           null,
           null,
           null,
           null,
           null,
           null,
           null,
           null,
           null,
           null
          ]
         ]
        },
        {
         "marker": {
          "color": "black",
          "line": {
           "color": "Gray",
           "width": 2
          }
         },
         "mode": "markers",
         "name": "Feasible Trial",
         "showlegend": false,
         "type": "scatter",
         "x": [
          0.005,
          0.001129748991583551,
          0.01147781207908402,
          0.019600262046321752,
          0.07575647320418369,
          0.007700374079292978,
          0.09409214442516224,
          0.08454887194673188,
          0.00667489535344205,
          0.002621000150777214,
          0.025136744298222623,
          0.026171471880384028,
          0.025705570579629,
          0.012993981044991262,
          0.04058933625309135,
          0.0038757719728482955,
          0.04322569863337195,
          0.008131361443503082,
          0.002102535340997532,
          0.00784627729837932,
          0.0034045074976167614,
          0.018232506295228452,
          0.008395605554417146,
          0.01320411007804864,
          0.00691916654544977
         ],
         "xaxis": "x12",
         "y": [
          1000000,
          100000,
          200000,
          150000,
          400000,
          250000,
          350000,
          500000,
          400000,
          250000,
          300000,
          300000,
          250000,
          50000,
          500000,
          300000,
          200000,
          350000,
          450000,
          350000,
          200000,
          350000,
          300000,
          250000,
          400000
         ],
         "yaxis": "y12"
        },
        {
         "colorbar": {
          "title": {
           "text": "Objective Value"
          }
         },
         "colorscale": [
          [
           0,
           "rgb(247,251,255)"
          ],
          [
           0.125,
           "rgb(222,235,247)"
          ],
          [
           0.25,
           "rgb(198,219,239)"
          ],
          [
           0.375,
           "rgb(158,202,225)"
          ],
          [
           0.5,
           "rgb(107,174,214)"
          ],
          [
           0.625,
           "rgb(66,146,198)"
          ],
          [
           0.75,
           "rgb(33,113,181)"
          ],
          [
           0.875,
           "rgb(8,81,156)"
          ],
          [
           1,
           "rgb(8,48,107)"
          ]
         ],
         "connectgaps": true,
         "contours": {
          "coloring": "heatmap"
         },
         "hoverinfo": "none",
         "line": {
          "smoothing": 1.3
         },
         "reversescale": false,
         "showscale": false,
         "type": "contour",
         "x": [
          0.0009056354041980357,
          0.001129748991583551,
          0.002102535340997532,
          0.002621000150777214,
          0.0034045074976167614,
          0.0038757719728482955,
          0.005,
          0.00667489535344205,
          0.00691916654544977,
          0.007700374079292978,
          0.00784627729837932,
          0.008131361443503082,
          0.008395605554417146,
          0.01147781207908402,
          0.012993981044991262,
          0.01320411007804864,
          0.018232506295228452,
          0.019600262046321752,
          0.025136744298222623,
          0.025705570579629,
          0.026171471880384028,
          0.04058933625309135,
          0.04322569863337195,
          0.07575647320418369,
          0.08454887194673188,
          0.09409214442516224,
          0.11737671118808882
         ],
         "xaxis": "x18",
         "y": [
          0.8967217550694253,
          0.9015332924589152,
          0.9023110447959488,
          0.9041181747731538,
          0.9132761126176273,
          0.9135549843660378,
          0.9184950584749083,
          0.9235802548081983,
          0.9267518483044083,
          0.92885650612723,
          0.9344907511949925,
          0.9407264655316708,
          0.9425865440966986,
          0.9432979930735299,
          0.944717636907831,
          0.9524456507336426,
          0.9528706435979579,
          0.9551137737400753,
          0.9621466953758586,
          0.962212074959442,
          0.9672812275108122,
          0.9744324353443722,
          0.9788684016478556,
          0.99,
          0.9942072840510408,
          0.9977640402487132,
          1.002575577638203
         ],
         "yaxis": "y18",
         "z": [
          [
           null,
           null,
           null,
           null,
           null,
           null,
           null,
           null,
           null,
           null,
           null,
           null,
           null,
           null,
           null,
           null,
           null,
           null,
           null,
           null,
           null,
           null,
           null,
           null,
           null,
           null,
           null
          ],
          [
           null,
           null,
           null,
           null,
           null,
           null,
           null,
           null,
           null,
           null,
           -55503.768000000004,
           null,
           null,
           null,
           null,
           null,
           null,
           null,
           null,
           null,
           null,
           null,
           null,
           null,
           null,
           null,
           null
          ],
          [
           null,
           null,
           -56057.909999999996,
           null,
           null,
           null,
           null,
           null,
           null,
           null,
           null,
           null,
           null,
           null,
           null,
           null,
           null,
           null,
           null,
           null,
           null,
           null,
           null,
           null,
           null,
           null,
           null
          ],
          [
           null,
           null,
           null,
           null,
           null,
           null,
           null,
           null,
           null,
           null,
           null,
           -50682.386000000006,
           null,
           null,
           null,
           null,
           null,
           null,
           null,
           null,
           null,
           null,
           null,
           null,
           null,
           null,
           null
          ],
          [
           null,
           null,
           null,
           null,
           null,
           null,
           null,
           null,
           null,
           null,
           null,
           null,
           null,
           null,
           null,
           null,
           -56822.038,
           null,
           null,
           null,
           null,
           null,
           null,
           null,
           null,
           null,
           null
          ],
          [
           null,
           null,
           null,
           null,
           null,
           null,
           null,
           null,
           null,
           null,
           null,
           null,
           null,
           null,
           null,
           null,
           null,
           null,
           null,
           null,
           null,
           null,
           null,
           -57185.664000000004,
           null,
           null,
           null
          ],
          [
           null,
           null,
           null,
           null,
           null,
           null,
           null,
           null,
           -55051.342000000004,
           null,
           null,
           null,
           null,
           null,
           null,
           null,
           null,
           null,
           null,
           null,
           null,
           null,
           null,
           null,
           null,
           null,
           null
          ],
          [
           null,
           null,
           null,
           null,
           null,
           null,
           null,
           null,
           null,
           null,
           null,
           null,
           null,
           -57037.62999999999,
           null,
           null,
           null,
           null,
           null,
           null,
           null,
           null,
           null,
           null,
           null,
           null,
           null
          ],
          [
           null,
           -57631.78400000001,
           null,
           null,
           null,
           null,
           null,
           null,
           null,
           null,
           null,
           null,
           null,
           null,
           null,
           null,
           null,
           null,
           null,
           null,
           null,
           null,
           null,
           null,
           null,
           null,
           null
          ],
          [
           null,
           null,
           null,
           -56978.46800000001,
           null,
           null,
           null,
           null,
           null,
           null,
           null,
           null,
           null,
           null,
           null,
           null,
           null,
           null,
           null,
           null,
           null,
           null,
           null,
           null,
           null,
           null,
           null
          ],
          [
           null,
           null,
           null,
           null,
           -19807164.772000004,
           null,
           null,
           null,
           null,
           null,
           null,
           null,
           null,
           null,
           null,
           null,
           null,
           null,
           null,
           null,
           null,
           null,
           null,
           null,
           null,
           null,
           null
          ],
          [
           null,
           null,
           null,
           null,
           null,
           null,
           null,
           null,
           null,
           null,
           null,
           null,
           null,
           null,
           null,
           -57591.476,
           null,
           null,
           null,
           null,
           null,
           null,
           null,
           null,
           null,
           null,
           null
          ],
          [
           null,
           null,
           null,
           null,
           null,
           null,
           null,
           null,
           null,
           null,
           null,
           null,
           null,
           null,
           null,
           null,
           null,
           null,
           null,
           null,
           -56055.846,
           null,
           null,
           null,
           null,
           null,
           null
          ],
          [
           null,
           null,
           null,
           null,
           null,
           null,
           null,
           null,
           null,
           null,
           null,
           null,
           null,
           null,
           null,
           null,
           null,
           null,
           null,
           null,
           null,
           -57882.712,
           null,
           null,
           null,
           null,
           null
          ],
          [
           null,
           null,
           null,
           null,
           null,
           null,
           null,
           null,
           null,
           null,
           null,
           null,
           null,
           null,
           null,
           null,
           null,
           null,
           -55144.46,
           null,
           null,
           null,
           null,
           null,
           null,
           null,
           null
          ],
          [
           null,
           null,
           null,
           null,
           null,
           -56538.89200000001,
           null,
           null,
           null,
           null,
           null,
           null,
           null,
           null,
           null,
           null,
           null,
           null,
           null,
           null,
           null,
           null,
           null,
           null,
           null,
           null,
           null
          ],
          [
           null,
           null,
           null,
           null,
           null,
           null,
           null,
           null,
           null,
           null,
           null,
           null,
           null,
           null,
           null,
           null,
           null,
           null,
           null,
           -56952.996,
           null,
           null,
           null,
           null,
           null,
           null,
           null
          ],
          [
           null,
           null,
           null,
           null,
           null,
           null,
           null,
           null,
           null,
           -54697.085999999996,
           null,
           null,
           null,
           null,
           null,
           null,
           null,
           null,
           null,
           null,
           null,
           null,
           null,
           null,
           null,
           null,
           null
          ],
          [
           null,
           null,
           null,
           null,
           null,
           null,
           null,
           null,
           null,
           null,
           null,
           null,
           null,
           null,
           null,
           null,
           null,
           null,
           null,
           null,
           null,
           null,
           null,
           null,
           null,
           -55592.636,
           null
          ],
          [
           null,
           null,
           null,
           null,
           null,
           null,
           null,
           null,
           null,
           null,
           null,
           null,
           -56492.34000000001,
           null,
           null,
           null,
           null,
           null,
           null,
           null,
           null,
           null,
           null,
           null,
           null,
           null,
           null
          ],
          [
           null,
           null,
           null,
           null,
           null,
           null,
           null,
           null,
           null,
           null,
           null,
           null,
           null,
           null,
           null,
           null,
           null,
           -55168.012,
           null,
           null,
           null,
           null,
           null,
           null,
           null,
           null,
           null
          ],
          [
           null,
           null,
           null,
           null,
           null,
           null,
           null,
           null,
           null,
           null,
           null,
           null,
           null,
           null,
           -55981.33999999999,
           null,
           null,
           null,
           null,
           null,
           null,
           null,
           null,
           null,
           null,
           null,
           null
          ],
          [
           null,
           null,
           null,
           null,
           null,
           null,
           null,
           null,
           null,
           null,
           null,
           null,
           null,
           null,
           null,
           null,
           null,
           null,
           null,
           null,
           null,
           null,
           -56271.886,
           null,
           null,
           null,
           null
          ],
          [
           null,
           null,
           null,
           null,
           null,
           null,
           -56008.922,
           null,
           null,
           null,
           null,
           null,
           null,
           null,
           null,
           null,
           null,
           null,
           null,
           null,
           null,
           null,
           null,
           null,
           null,
           null,
           null
          ],
          [
           null,
           null,
           null,
           null,
           null,
           null,
           null,
           null,
           null,
           null,
           null,
           null,
           null,
           null,
           null,
           null,
           null,
           null,
           null,
           null,
           null,
           null,
           null,
           null,
           -56958.224,
           null,
           null
          ],
          [
           null,
           null,
           null,
           null,
           null,
           null,
           null,
           -57628.757999999994,
           null,
           null,
           null,
           null,
           null,
           null,
           null,
           null,
           null,
           null,
           null,
           null,
           null,
           null,
           null,
           null,
           null,
           null,
           null
          ],
          [
           null,
           null,
           null,
           null,
           null,
           null,
           null,
           null,
           null,
           null,
           null,
           null,
           null,
           null,
           null,
           null,
           null,
           null,
           null,
           null,
           null,
           null,
           null,
           null,
           null,
           null,
           null
          ]
         ]
        },
        {
         "marker": {
          "color": "black",
          "line": {
           "color": "Gray",
           "width": 2
          }
         },
         "mode": "markers",
         "name": "Feasible Trial",
         "showlegend": false,
         "type": "scatter",
         "x": [
          0.005,
          0.001129748991583551,
          0.01147781207908402,
          0.019600262046321752,
          0.07575647320418369,
          0.007700374079292978,
          0.09409214442516224,
          0.08454887194673188,
          0.00667489535344205,
          0.002621000150777214,
          0.025136744298222623,
          0.026171471880384028,
          0.025705570579629,
          0.012993981044991262,
          0.04058933625309135,
          0.0038757719728482955,
          0.04322569863337195,
          0.008131361443503082,
          0.002102535340997532,
          0.00784627729837932,
          0.0034045074976167614,
          0.018232506295228452,
          0.008395605554417146,
          0.01320411007804864,
          0.00691916654544977
         ],
         "xaxis": "x18",
         "y": [
          0.99,
          0.9267518483044083,
          0.9235802548081983,
          0.9672812275108122,
          0.9135549843660378,
          0.9551137737400753,
          0.9621466953758586,
          0.9942072840510408,
          0.9977640402487132,
          0.92885650612723,
          0.944717636907831,
          0.9425865440966986,
          0.9528706435979579,
          0.9744324353443722,
          0.9432979930735299,
          0.9524456507336426,
          0.9788684016478556,
          0.9041181747731538,
          0.9023110447959488,
          0.9015332924589152,
          0.9344907511949925,
          0.9132761126176273,
          0.962212074959442,
          0.9407264655316708,
          0.9184950584749083
         ],
         "yaxis": "y18"
        },
        {
         "colorbar": {
          "title": {
           "text": "Objective Value"
          }
         },
         "colorscale": [
          [
           0,
           "rgb(247,251,255)"
          ],
          [
           0.125,
           "rgb(222,235,247)"
          ],
          [
           0.25,
           "rgb(198,219,239)"
          ],
          [
           0.375,
           "rgb(158,202,225)"
          ],
          [
           0.5,
           "rgb(107,174,214)"
          ],
          [
           0.625,
           "rgb(66,146,198)"
          ],
          [
           0.75,
           "rgb(33,113,181)"
          ],
          [
           0.875,
           "rgb(8,81,156)"
          ],
          [
           1,
           "rgb(8,48,107)"
          ]
         ],
         "connectgaps": true,
         "contours": {
          "coloring": "heatmap"
         },
         "hoverinfo": "none",
         "line": {
          "smoothing": 1.3
         },
         "reversescale": false,
         "showscale": false,
         "type": "contour",
         "x": [
          0.0009056354041980357,
          0.001129748991583551,
          0.002102535340997532,
          0.002621000150777214,
          0.0034045074976167614,
          0.0038757719728482955,
          0.005,
          0.00667489535344205,
          0.00691916654544977,
          0.007700374079292978,
          0.00784627729837932,
          0.008131361443503082,
          0.008395605554417146,
          0.01147781207908402,
          0.012993981044991262,
          0.01320411007804864,
          0.018232506295228452,
          0.019600262046321752,
          0.025136744298222623,
          0.025705570579629,
          0.026171471880384028,
          0.04058933625309135,
          0.04322569863337195,
          0.07575647320418369,
          0.08454887194673188,
          0.09409214442516224,
          0.11737671118808882
         ],
         "xaxis": "x24",
         "y": [
          0.00000935321866931526,
          0.00001168374280981023,
          0.000011725185367375389,
          0.000018457592502541072,
          0.000019361100467397984,
          0.000029473700406656617,
          0.000030023649525123333,
          0.00003004969440006251,
          0.000031887871798989554,
          0.000037656338089744616,
          0.00004531034871593193,
          0.00005048035533561577,
          0.00005611816797749212,
          0.00006205304996490255,
          0.0000644037276257185,
          0.00006976425460110442,
          0.00007229091027503433,
          0.00010062612259505235,
          0.0001047196587513247,
          0.00013300818313200042,
          0.00015377020282693002,
          0.00021997213915881885,
          0.00025892512702773,
          0.0003713120921827322,
          0.0005561876608894562,
          0.001,
          0.0012491681444528437
         ],
         "yaxis": "y24",
         "z": [
          [
           null,
           null,
           null,
           null,
           null,
           null,
           null,
           null,
           null,
           null,
           null,
           null,
           null,
           null,
           null,
           null,
           null,
           null,
           null,
           null,
           null,
           null,
           null,
           null,
           null,
           null,
           null
          ],
          [
           null,
           null,
           null,
           null,
           null,
           null,
           null,
           -57628.757999999994,
           null,
           null,
           null,
           null,
           null,
           null,
           null,
           null,
           null,
           null,
           null,
           null,
           null,
           null,
           null,
           null,
           null,
           null,
           null
          ],
          [
           null,
           null,
           null,
           null,
           null,
           null,
           null,
           null,
           null,
           null,
           null,
           null,
           null,
           -57037.62999999999,
           null,
           null,
           null,
           null,
           null,
           null,
           null,
           null,
           null,
           null,
           null,
           null,
           null
          ],
          [
           null,
           null,
           null,
           null,
           null,
           null,
           null,
           null,
           null,
           null,
           null,
           null,
           null,
           null,
           null,
           null,
           null,
           null,
           null,
           null,
           null,
           null,
           -56271.886,
           null,
           null,
           null,
           null
          ],
          [
           null,
           null,
           null,
           null,
           null,
           null,
           null,
           null,
           null,
           null,
           null,
           null,
           -56492.34000000001,
           null,
           null,
           null,
           null,
           null,
           null,
           null,
           null,
           null,
           null,
           null,
           null,
           null,
           null
          ],
          [
           null,
           null,
           null,
           null,
           null,
           null,
           null,
           null,
           null,
           null,
           null,
           null,
           null,
           null,
           null,
           null,
           null,
           null,
           null,
           null,
           -56055.846,
           null,
           null,
           null,
           null,
           null,
           null
          ],
          [
           null,
           null,
           null,
           null,
           null,
           null,
           null,
           null,
           null,
           null,
           null,
           null,
           null,
           null,
           -55981.33999999999,
           null,
           null,
           null,
           null,
           null,
           null,
           null,
           null,
           null,
           null,
           null,
           null
          ],
          [
           null,
           null,
           null,
           null,
           null,
           null,
           null,
           null,
           null,
           null,
           null,
           null,
           null,
           null,
           null,
           null,
           null,
           null,
           null,
           -56952.996,
           null,
           null,
           null,
           null,
           null,
           null,
           null
          ],
          [
           null,
           null,
           null,
           null,
           null,
           null,
           null,
           null,
           null,
           null,
           null,
           null,
           null,
           null,
           null,
           null,
           null,
           null,
           -55144.46,
           null,
           null,
           null,
           null,
           null,
           null,
           null,
           null
          ],
          [
           null,
           null,
           null,
           null,
           null,
           -56538.89200000001,
           null,
           null,
           null,
           null,
           null,
           null,
           null,
           null,
           null,
           null,
           null,
           null,
           null,
           null,
           null,
           null,
           null,
           null,
           null,
           null,
           null
          ],
          [
           null,
           null,
           null,
           null,
           null,
           null,
           null,
           null,
           null,
           null,
           null,
           null,
           null,
           null,
           null,
           null,
           -56822.038,
           null,
           null,
           null,
           null,
           null,
           null,
           null,
           null,
           null,
           null
          ],
          [
           null,
           null,
           null,
           null,
           null,
           null,
           null,
           null,
           null,
           null,
           null,
           null,
           null,
           null,
           null,
           -57591.476,
           null,
           null,
           null,
           null,
           null,
           null,
           null,
           null,
           null,
           null,
           null
          ],
          [
           null,
           null,
           null,
           null,
           null,
           null,
           null,
           null,
           null,
           null,
           null,
           -50682.386000000006,
           null,
           null,
           null,
           null,
           null,
           null,
           null,
           null,
           null,
           null,
           null,
           null,
           null,
           null,
           null
          ],
          [
           null,
           null,
           null,
           null,
           null,
           null,
           null,
           null,
           null,
           null,
           -55503.768000000004,
           null,
           null,
           null,
           null,
           null,
           null,
           null,
           null,
           null,
           null,
           null,
           null,
           null,
           null,
           null,
           null
          ],
          [
           null,
           null,
           null,
           null,
           null,
           null,
           null,
           null,
           null,
           null,
           null,
           null,
           null,
           null,
           null,
           null,
           null,
           null,
           null,
           null,
           null,
           null,
           null,
           null,
           -56958.224,
           null,
           null
          ],
          [
           null,
           -57631.78400000001,
           null,
           null,
           null,
           null,
           null,
           null,
           null,
           null,
           null,
           null,
           null,
           null,
           null,
           null,
           null,
           null,
           null,
           null,
           null,
           null,
           null,
           null,
           null,
           null,
           null
          ],
          [
           null,
           null,
           null,
           null,
           null,
           null,
           null,
           null,
           null,
           -54697.085999999996,
           null,
           null,
           null,
           null,
           null,
           null,
           null,
           null,
           null,
           null,
           null,
           null,
           null,
           null,
           null,
           null,
           null
          ],
          [
           null,
           null,
           null,
           null,
           null,
           null,
           null,
           null,
           null,
           null,
           null,
           null,
           null,
           null,
           null,
           null,
           null,
           null,
           null,
           null,
           null,
           null,
           null,
           null,
           null,
           -55592.636,
           null
          ],
          [
           null,
           null,
           null,
           null,
           null,
           null,
           null,
           null,
           null,
           null,
           null,
           null,
           null,
           null,
           null,
           null,
           null,
           null,
           null,
           null,
           null,
           null,
           null,
           -57185.664000000004,
           null,
           null,
           null
          ],
          [
           null,
           null,
           null,
           null,
           null,
           null,
           null,
           null,
           -55051.342000000004,
           null,
           null,
           null,
           null,
           null,
           null,
           null,
           null,
           null,
           null,
           null,
           null,
           null,
           null,
           null,
           null,
           null,
           null
          ],
          [
           null,
           null,
           null,
           null,
           null,
           null,
           null,
           null,
           null,
           null,
           null,
           null,
           null,
           null,
           null,
           null,
           null,
           -55168.012,
           null,
           null,
           null,
           null,
           null,
           null,
           null,
           null,
           null
          ],
          [
           null,
           null,
           null,
           null,
           null,
           null,
           null,
           null,
           null,
           null,
           null,
           null,
           null,
           null,
           null,
           null,
           null,
           null,
           null,
           null,
           null,
           -57882.712,
           null,
           null,
           null,
           null,
           null
          ],
          [
           null,
           null,
           -56057.909999999996,
           null,
           null,
           null,
           null,
           null,
           null,
           null,
           null,
           null,
           null,
           null,
           null,
           null,
           null,
           null,
           null,
           null,
           null,
           null,
           null,
           null,
           null,
           null,
           null
          ],
          [
           null,
           null,
           null,
           -56978.46800000001,
           null,
           null,
           null,
           null,
           null,
           null,
           null,
           null,
           null,
           null,
           null,
           null,
           null,
           null,
           null,
           null,
           null,
           null,
           null,
           null,
           null,
           null,
           null
          ],
          [
           null,
           null,
           null,
           null,
           -19807164.772000004,
           null,
           null,
           null,
           null,
           null,
           null,
           null,
           null,
           null,
           null,
           null,
           null,
           null,
           null,
           null,
           null,
           null,
           null,
           null,
           null,
           null,
           null
          ],
          [
           null,
           null,
           null,
           null,
           null,
           null,
           -56008.922,
           null,
           null,
           null,
           null,
           null,
           null,
           null,
           null,
           null,
           null,
           null,
           null,
           null,
           null,
           null,
           null,
           null,
           null,
           null,
           null
          ],
          [
           null,
           null,
           null,
           null,
           null,
           null,
           null,
           null,
           null,
           null,
           null,
           null,
           null,
           null,
           null,
           null,
           null,
           null,
           null,
           null,
           null,
           null,
           null,
           null,
           null,
           null,
           null
          ]
         ]
        },
        {
         "marker": {
          "color": "black",
          "line": {
           "color": "Gray",
           "width": 2
          }
         },
         "mode": "markers",
         "name": "Feasible Trial",
         "showlegend": false,
         "type": "scatter",
         "x": [
          0.005,
          0.001129748991583551,
          0.01147781207908402,
          0.019600262046321752,
          0.07575647320418369,
          0.007700374079292978,
          0.09409214442516224,
          0.08454887194673188,
          0.00667489535344205,
          0.002621000150777214,
          0.025136744298222623,
          0.026171471880384028,
          0.025705570579629,
          0.012993981044991262,
          0.04058933625309135,
          0.0038757719728482955,
          0.04322569863337195,
          0.008131361443503082,
          0.002102535340997532,
          0.00784627729837932,
          0.0034045074976167614,
          0.018232506295228452,
          0.008395605554417146,
          0.01320411007804864,
          0.00691916654544977
         ],
         "xaxis": "x24",
         "y": [
          0.001,
          0.00006976425460110442,
          0.000011725185367375389,
          0.00015377020282693002,
          0.0001047196587513247,
          0.00007229091027503433,
          0.00010062612259505235,
          0.0000644037276257185,
          0.00001168374280981023,
          0.0003713120921827322,
          0.000031887871798989554,
          0.000029473700406656617,
          0.00003004969440006251,
          0.000030023649525123333,
          0.00021997213915881885,
          0.000037656338089744616,
          0.000018457592502541072,
          0.00005611816797749212,
          0.00025892512702773,
          0.00006205304996490255,
          0.0005561876608894562,
          0.00004531034871593193,
          0.000019361100467397984,
          0.00005048035533561577,
          0.00013300818313200042
         ],
         "yaxis": "y24"
        },
        {
         "colorbar": {
          "title": {
           "text": "Objective Value"
          }
         },
         "colorscale": [
          [
           0,
           "rgb(247,251,255)"
          ],
          [
           0.125,
           "rgb(222,235,247)"
          ],
          [
           0.25,
           "rgb(198,219,239)"
          ],
          [
           0.375,
           "rgb(158,202,225)"
          ],
          [
           0.5,
           "rgb(107,174,214)"
          ],
          [
           0.625,
           "rgb(66,146,198)"
          ],
          [
           0.75,
           "rgb(33,113,181)"
          ],
          [
           0.875,
           "rgb(8,81,156)"
          ],
          [
           1,
           "rgb(8,48,107)"
          ]
         ],
         "connectgaps": true,
         "contours": {
          "coloring": "heatmap"
         },
         "hoverinfo": "none",
         "line": {
          "smoothing": 1.3
         },
         "reversescale": false,
         "showscale": false,
         "type": "contour",
         "x": [
          0.0009056354041980357,
          0.001129748991583551,
          0.002102535340997532,
          0.002621000150777214,
          0.0034045074976167614,
          0.0038757719728482955,
          0.005,
          0.00667489535344205,
          0.00691916654544977,
          0.007700374079292978,
          0.00784627729837932,
          0.008131361443503082,
          0.008395605554417146,
          0.01147781207908402,
          0.012993981044991262,
          0.01320411007804864,
          0.018232506295228452,
          0.019600262046321752,
          0.025136744298222623,
          0.025705570579629,
          0.026171471880384028,
          0.04058933625309135,
          0.04322569863337195,
          0.07575647320418369,
          0.08454887194673188,
          0.09409214442516224,
          0.11737671118808882
         ],
         "xaxis": "x30",
         "y": [
          0.08032245661512658,
          0.1,
          0.1654154641690807,
          0.1824965480742499,
          0.1846254107627201,
          0.2336509516388875,
          0.25223977462615943,
          0.25999463686631985,
          0.29520782619802766,
          0.29982729752599724,
          0.3089102531195254,
          0.33230321497675425,
          0.33570162160966355,
          0.3384563312235688,
          0.35253555109892754,
          0.3626713081468701,
          0.3685526207563853,
          0.37760012541074667,
          0.38142026193522827,
          0.3872212330741873,
          0.3944172007358767,
          0.41240050168747416,
          0.43377033478622673,
          0.44451684148788306,
          0.4761675059645748,
          0.49355086769746864,
          0.5132284110823421
         ],
         "yaxis": "y30",
         "z": [
          [
           null,
           null,
           null,
           null,
           null,
           null,
           null,
           null,
           null,
           null,
           null,
           null,
           null,
           null,
           null,
           null,
           null,
           null,
           null,
           null,
           null,
           null,
           null,
           null,
           null,
           null,
           null
          ],
          [
           null,
           null,
           null,
           null,
           null,
           null,
           -56008.922,
           null,
           null,
           null,
           null,
           null,
           null,
           null,
           null,
           null,
           null,
           null,
           null,
           null,
           null,
           null,
           null,
           null,
           null,
           null,
           null
          ],
          [
           null,
           null,
           null,
           -56978.46800000001,
           null,
           null,
           null,
           null,
           null,
           null,
           null,
           null,
           null,
           null,
           null,
           null,
           null,
           null,
           null,
           null,
           null,
           null,
           null,
           null,
           null,
           null,
           null
          ],
          [
           null,
           null,
           null,
           null,
           null,
           null,
           null,
           -57628.757999999994,
           null,
           null,
           null,
           null,
           null,
           null,
           null,
           null,
           null,
           null,
           null,
           null,
           null,
           null,
           null,
           null,
           null,
           null,
           null
          ],
          [
           null,
           null,
           null,
           null,
           null,
           null,
           null,
           null,
           null,
           null,
           null,
           null,
           null,
           null,
           null,
           null,
           null,
           null,
           null,
           null,
           null,
           null,
           null,
           -57185.664000000004,
           null,
           null,
           null
          ],
          [
           null,
           null,
           null,
           null,
           null,
           null,
           null,
           null,
           null,
           null,
           null,
           null,
           null,
           null,
           null,
           null,
           null,
           -55168.012,
           null,
           null,
           null,
           null,
           null,
           null,
           null,
           null,
           null
          ],
          [
           null,
           null,
           -56057.909999999996,
           null,
           null,
           null,
           null,
           null,
           null,
           null,
           null,
           null,
           null,
           null,
           null,
           null,
           null,
           null,
           null,
           null,
           null,
           null,
           null,
           null,
           null,
           null,
           null
          ],
          [
           null,
           null,
           null,
           null,
           null,
           null,
           null,
           null,
           null,
           null,
           null,
           null,
           null,
           null,
           null,
           -57591.476,
           null,
           null,
           null,
           null,
           null,
           null,
           null,
           null,
           null,
           null,
           null
          ],
          [
           null,
           -57631.78400000001,
           null,
           null,
           null,
           null,
           null,
           null,
           null,
           null,
           null,
           null,
           null,
           null,
           null,
           null,
           null,
           null,
           null,
           null,
           null,
           null,
           null,
           null,
           null,
           null,
           null
          ],
          [
           null,
           null,
           null,
           null,
           null,
           -56538.89200000001,
           null,
           null,
           null,
           null,
           null,
           null,
           null,
           null,
           null,
           null,
           null,
           null,
           null,
           null,
           null,
           null,
           null,
           null,
           null,
           null,
           null
          ],
          [
           null,
           null,
           null,
           null,
           null,
           null,
           null,
           null,
           null,
           null,
           null,
           null,
           null,
           -57037.62999999999,
           null,
           null,
           null,
           null,
           null,
           null,
           null,
           null,
           null,
           null,
           null,
           null,
           null
          ],
          [
           null,
           null,
           null,
           null,
           null,
           null,
           null,
           null,
           null,
           null,
           null,
           null,
           -56492.34000000001,
           null,
           null,
           null,
           null,
           null,
           null,
           null,
           null,
           null,
           null,
           null,
           null,
           null,
           null
          ],
          [
           null,
           null,
           null,
           null,
           null,
           null,
           null,
           null,
           null,
           null,
           -55503.768000000004,
           null,
           null,
           null,
           null,
           null,
           null,
           null,
           null,
           null,
           null,
           null,
           null,
           null,
           null,
           null,
           null
          ],
          [
           null,
           null,
           null,
           null,
           null,
           null,
           null,
           null,
           null,
           null,
           null,
           -50682.386000000006,
           null,
           null,
           null,
           null,
           null,
           null,
           null,
           null,
           null,
           null,
           null,
           null,
           null,
           null,
           null
          ],
          [
           null,
           null,
           null,
           null,
           null,
           null,
           null,
           null,
           null,
           null,
           null,
           null,
           null,
           null,
           -55981.33999999999,
           null,
           null,
           null,
           null,
           null,
           null,
           null,
           null,
           null,
           null,
           null,
           null
          ],
          [
           null,
           null,
           null,
           null,
           null,
           null,
           null,
           null,
           null,
           -54697.085999999996,
           null,
           null,
           null,
           null,
           null,
           null,
           null,
           null,
           null,
           null,
           null,
           null,
           null,
           null,
           null,
           null,
           null
          ],
          [
           null,
           null,
           null,
           null,
           null,
           null,
           null,
           null,
           null,
           null,
           null,
           null,
           null,
           null,
           null,
           null,
           null,
           null,
           null,
           -56952.996,
           null,
           null,
           null,
           null,
           null,
           null,
           null
          ],
          [
           null,
           null,
           null,
           null,
           null,
           null,
           null,
           null,
           -55051.342000000004,
           null,
           null,
           null,
           null,
           null,
           null,
           null,
           null,
           null,
           null,
           null,
           null,
           null,
           null,
           null,
           null,
           null,
           null
          ],
          [
           null,
           null,
           null,
           null,
           null,
           null,
           null,
           null,
           null,
           null,
           null,
           null,
           null,
           null,
           null,
           null,
           null,
           null,
           -55144.46,
           null,
           null,
           null,
           null,
           null,
           null,
           null,
           null
          ],
          [
           null,
           null,
           null,
           null,
           null,
           null,
           null,
           null,
           null,
           null,
           null,
           null,
           null,
           null,
           null,
           null,
           -56822.038,
           null,
           null,
           null,
           null,
           null,
           null,
           null,
           null,
           null,
           null
          ],
          [
           null,
           null,
           null,
           null,
           null,
           null,
           null,
           null,
           null,
           null,
           null,
           null,
           null,
           null,
           null,
           null,
           null,
           null,
           null,
           null,
           -56055.846,
           null,
           null,
           null,
           null,
           null,
           null
          ],
          [
           null,
           null,
           null,
           null,
           null,
           null,
           null,
           null,
           null,
           null,
           null,
           null,
           null,
           null,
           null,
           null,
           null,
           null,
           null,
           null,
           null,
           null,
           -56271.886,
           null,
           null,
           null,
           null
          ],
          [
           null,
           null,
           null,
           null,
           null,
           null,
           null,
           null,
           null,
           null,
           null,
           null,
           null,
           null,
           null,
           null,
           null,
           null,
           null,
           null,
           null,
           null,
           null,
           null,
           null,
           -55592.636,
           null
          ],
          [
           null,
           null,
           null,
           null,
           -19807164.772000004,
           null,
           null,
           null,
           null,
           null,
           null,
           null,
           null,
           null,
           null,
           null,
           null,
           null,
           null,
           null,
           null,
           null,
           null,
           null,
           null,
           null,
           null
          ],
          [
           null,
           null,
           null,
           null,
           null,
           null,
           null,
           null,
           null,
           null,
           null,
           null,
           null,
           null,
           null,
           null,
           null,
           null,
           null,
           null,
           null,
           null,
           null,
           null,
           -56958.224,
           null,
           null
          ],
          [
           null,
           null,
           null,
           null,
           null,
           null,
           null,
           null,
           null,
           null,
           null,
           null,
           null,
           null,
           null,
           null,
           null,
           null,
           null,
           null,
           null,
           -57882.712,
           null,
           null,
           null,
           null,
           null
          ],
          [
           null,
           null,
           null,
           null,
           null,
           null,
           null,
           null,
           null,
           null,
           null,
           null,
           null,
           null,
           null,
           null,
           null,
           null,
           null,
           null,
           null,
           null,
           null,
           null,
           null,
           null,
           null
          ]
         ]
        },
        {
         "marker": {
          "color": "black",
          "line": {
           "color": "Gray",
           "width": 2
          }
         },
         "mode": "markers",
         "name": "Feasible Trial",
         "showlegend": false,
         "type": "scatter",
         "x": [
          0.005,
          0.001129748991583551,
          0.01147781207908402,
          0.019600262046321752,
          0.07575647320418369,
          0.007700374079292978,
          0.09409214442516224,
          0.08454887194673188,
          0.00667489535344205,
          0.002621000150777214,
          0.025136744298222623,
          0.026171471880384028,
          0.025705570579629,
          0.012993981044991262,
          0.04058933625309135,
          0.0038757719728482955,
          0.04322569863337195,
          0.008131361443503082,
          0.002102535340997532,
          0.00784627729837932,
          0.0034045074976167614,
          0.018232506295228452,
          0.008395605554417146,
          0.01320411007804864,
          0.00691916654544977
         ],
         "xaxis": "x30",
         "y": [
          0.1,
          0.29520782619802766,
          0.3089102531195254,
          0.2336509516388875,
          0.1846254107627201,
          0.3626713081468701,
          0.43377033478622673,
          0.4761675059645748,
          0.1824965480742499,
          0.1654154641690807,
          0.38142026193522827,
          0.3944172007358767,
          0.3685526207563853,
          0.35253555109892754,
          0.49355086769746864,
          0.29982729752599724,
          0.41240050168747416,
          0.3384563312235688,
          0.25223977462615943,
          0.33570162160966355,
          0.44451684148788306,
          0.3872212330741873,
          0.33230321497675425,
          0.25999463686631985,
          0.37760012541074667
         ],
         "yaxis": "y30"
        },
        {
         "type": "scatter",
         "xaxis": "x36",
         "yaxis": "y36"
        }
       ],
       "layout": {
        "template": {
         "data": {
          "bar": [
           {
            "error_x": {
             "color": "#2a3f5f"
            },
            "error_y": {
             "color": "#2a3f5f"
            },
            "marker": {
             "line": {
              "color": "#E5ECF6",
              "width": 0.5
             },
             "pattern": {
              "fillmode": "overlay",
              "size": 10,
              "solidity": 0.2
             }
            },
            "type": "bar"
           }
          ],
          "barpolar": [
           {
            "marker": {
             "line": {
              "color": "#E5ECF6",
              "width": 0.5
             },
             "pattern": {
              "fillmode": "overlay",
              "size": 10,
              "solidity": 0.2
             }
            },
            "type": "barpolar"
           }
          ],
          "carpet": [
           {
            "aaxis": {
             "endlinecolor": "#2a3f5f",
             "gridcolor": "white",
             "linecolor": "white",
             "minorgridcolor": "white",
             "startlinecolor": "#2a3f5f"
            },
            "baxis": {
             "endlinecolor": "#2a3f5f",
             "gridcolor": "white",
             "linecolor": "white",
             "minorgridcolor": "white",
             "startlinecolor": "#2a3f5f"
            },
            "type": "carpet"
           }
          ],
          "choropleth": [
           {
            "colorbar": {
             "outlinewidth": 0,
             "ticks": ""
            },
            "type": "choropleth"
           }
          ],
          "contour": [
           {
            "colorbar": {
             "outlinewidth": 0,
             "ticks": ""
            },
            "colorscale": [
             [
              0,
              "#0d0887"
             ],
             [
              0.1111111111111111,
              "#46039f"
             ],
             [
              0.2222222222222222,
              "#7201a8"
             ],
             [
              0.3333333333333333,
              "#9c179e"
             ],
             [
              0.4444444444444444,
              "#bd3786"
             ],
             [
              0.5555555555555556,
              "#d8576b"
             ],
             [
              0.6666666666666666,
              "#ed7953"
             ],
             [
              0.7777777777777778,
              "#fb9f3a"
             ],
             [
              0.8888888888888888,
              "#fdca26"
             ],
             [
              1,
              "#f0f921"
             ]
            ],
            "type": "contour"
           }
          ],
          "contourcarpet": [
           {
            "colorbar": {
             "outlinewidth": 0,
             "ticks": ""
            },
            "type": "contourcarpet"
           }
          ],
          "heatmap": [
           {
            "colorbar": {
             "outlinewidth": 0,
             "ticks": ""
            },
            "colorscale": [
             [
              0,
              "#0d0887"
             ],
             [
              0.1111111111111111,
              "#46039f"
             ],
             [
              0.2222222222222222,
              "#7201a8"
             ],
             [
              0.3333333333333333,
              "#9c179e"
             ],
             [
              0.4444444444444444,
              "#bd3786"
             ],
             [
              0.5555555555555556,
              "#d8576b"
             ],
             [
              0.6666666666666666,
              "#ed7953"
             ],
             [
              0.7777777777777778,
              "#fb9f3a"
             ],
             [
              0.8888888888888888,
              "#fdca26"
             ],
             [
              1,
              "#f0f921"
             ]
            ],
            "type": "heatmap"
           }
          ],
          "heatmapgl": [
           {
            "colorbar": {
             "outlinewidth": 0,
             "ticks": ""
            },
            "colorscale": [
             [
              0,
              "#0d0887"
             ],
             [
              0.1111111111111111,
              "#46039f"
             ],
             [
              0.2222222222222222,
              "#7201a8"
             ],
             [
              0.3333333333333333,
              "#9c179e"
             ],
             [
              0.4444444444444444,
              "#bd3786"
             ],
             [
              0.5555555555555556,
              "#d8576b"
             ],
             [
              0.6666666666666666,
              "#ed7953"
             ],
             [
              0.7777777777777778,
              "#fb9f3a"
             ],
             [
              0.8888888888888888,
              "#fdca26"
             ],
             [
              1,
              "#f0f921"
             ]
            ],
            "type": "heatmapgl"
           }
          ],
          "histogram": [
           {
            "marker": {
             "pattern": {
              "fillmode": "overlay",
              "size": 10,
              "solidity": 0.2
             }
            },
            "type": "histogram"
           }
          ],
          "histogram2d": [
           {
            "colorbar": {
             "outlinewidth": 0,
             "ticks": ""
            },
            "colorscale": [
             [
              0,
              "#0d0887"
             ],
             [
              0.1111111111111111,
              "#46039f"
             ],
             [
              0.2222222222222222,
              "#7201a8"
             ],
             [
              0.3333333333333333,
              "#9c179e"
             ],
             [
              0.4444444444444444,
              "#bd3786"
             ],
             [
              0.5555555555555556,
              "#d8576b"
             ],
             [
              0.6666666666666666,
              "#ed7953"
             ],
             [
              0.7777777777777778,
              "#fb9f3a"
             ],
             [
              0.8888888888888888,
              "#fdca26"
             ],
             [
              1,
              "#f0f921"
             ]
            ],
            "type": "histogram2d"
           }
          ],
          "histogram2dcontour": [
           {
            "colorbar": {
             "outlinewidth": 0,
             "ticks": ""
            },
            "colorscale": [
             [
              0,
              "#0d0887"
             ],
             [
              0.1111111111111111,
              "#46039f"
             ],
             [
              0.2222222222222222,
              "#7201a8"
             ],
             [
              0.3333333333333333,
              "#9c179e"
             ],
             [
              0.4444444444444444,
              "#bd3786"
             ],
             [
              0.5555555555555556,
              "#d8576b"
             ],
             [
              0.6666666666666666,
              "#ed7953"
             ],
             [
              0.7777777777777778,
              "#fb9f3a"
             ],
             [
              0.8888888888888888,
              "#fdca26"
             ],
             [
              1,
              "#f0f921"
             ]
            ],
            "type": "histogram2dcontour"
           }
          ],
          "mesh3d": [
           {
            "colorbar": {
             "outlinewidth": 0,
             "ticks": ""
            },
            "type": "mesh3d"
           }
          ],
          "parcoords": [
           {
            "line": {
             "colorbar": {
              "outlinewidth": 0,
              "ticks": ""
             }
            },
            "type": "parcoords"
           }
          ],
          "pie": [
           {
            "automargin": true,
            "type": "pie"
           }
          ],
          "scatter": [
           {
            "fillpattern": {
             "fillmode": "overlay",
             "size": 10,
             "solidity": 0.2
            },
            "type": "scatter"
           }
          ],
          "scatter3d": [
           {
            "line": {
             "colorbar": {
              "outlinewidth": 0,
              "ticks": ""
             }
            },
            "marker": {
             "colorbar": {
              "outlinewidth": 0,
              "ticks": ""
             }
            },
            "type": "scatter3d"
           }
          ],
          "scattercarpet": [
           {
            "marker": {
             "colorbar": {
              "outlinewidth": 0,
              "ticks": ""
             }
            },
            "type": "scattercarpet"
           }
          ],
          "scattergeo": [
           {
            "marker": {
             "colorbar": {
              "outlinewidth": 0,
              "ticks": ""
             }
            },
            "type": "scattergeo"
           }
          ],
          "scattergl": [
           {
            "marker": {
             "colorbar": {
              "outlinewidth": 0,
              "ticks": ""
             }
            },
            "type": "scattergl"
           }
          ],
          "scattermapbox": [
           {
            "marker": {
             "colorbar": {
              "outlinewidth": 0,
              "ticks": ""
             }
            },
            "type": "scattermapbox"
           }
          ],
          "scatterpolar": [
           {
            "marker": {
             "colorbar": {
              "outlinewidth": 0,
              "ticks": ""
             }
            },
            "type": "scatterpolar"
           }
          ],
          "scatterpolargl": [
           {
            "marker": {
             "colorbar": {
              "outlinewidth": 0,
              "ticks": ""
             }
            },
            "type": "scatterpolargl"
           }
          ],
          "scatterternary": [
           {
            "marker": {
             "colorbar": {
              "outlinewidth": 0,
              "ticks": ""
             }
            },
            "type": "scatterternary"
           }
          ],
          "surface": [
           {
            "colorbar": {
             "outlinewidth": 0,
             "ticks": ""
            },
            "colorscale": [
             [
              0,
              "#0d0887"
             ],
             [
              0.1111111111111111,
              "#46039f"
             ],
             [
              0.2222222222222222,
              "#7201a8"
             ],
             [
              0.3333333333333333,
              "#9c179e"
             ],
             [
              0.4444444444444444,
              "#bd3786"
             ],
             [
              0.5555555555555556,
              "#d8576b"
             ],
             [
              0.6666666666666666,
              "#ed7953"
             ],
             [
              0.7777777777777778,
              "#fb9f3a"
             ],
             [
              0.8888888888888888,
              "#fdca26"
             ],
             [
              1,
              "#f0f921"
             ]
            ],
            "type": "surface"
           }
          ],
          "table": [
           {
            "cells": {
             "fill": {
              "color": "#EBF0F8"
             },
             "line": {
              "color": "white"
             }
            },
            "header": {
             "fill": {
              "color": "#C8D4E3"
             },
             "line": {
              "color": "white"
             }
            },
            "type": "table"
           }
          ]
         },
         "layout": {
          "annotationdefaults": {
           "arrowcolor": "#2a3f5f",
           "arrowhead": 0,
           "arrowwidth": 1
          },
          "autotypenumbers": "strict",
          "coloraxis": {
           "colorbar": {
            "outlinewidth": 0,
            "ticks": ""
           }
          },
          "colorscale": {
           "diverging": [
            [
             0,
             "#8e0152"
            ],
            [
             0.1,
             "#c51b7d"
            ],
            [
             0.2,
             "#de77ae"
            ],
            [
             0.3,
             "#f1b6da"
            ],
            [
             0.4,
             "#fde0ef"
            ],
            [
             0.5,
             "#f7f7f7"
            ],
            [
             0.6,
             "#e6f5d0"
            ],
            [
             0.7,
             "#b8e186"
            ],
            [
             0.8,
             "#7fbc41"
            ],
            [
             0.9,
             "#4d9221"
            ],
            [
             1,
             "#276419"
            ]
           ],
           "sequential": [
            [
             0,
             "#0d0887"
            ],
            [
             0.1111111111111111,
             "#46039f"
            ],
            [
             0.2222222222222222,
             "#7201a8"
            ],
            [
             0.3333333333333333,
             "#9c179e"
            ],
            [
             0.4444444444444444,
             "#bd3786"
            ],
            [
             0.5555555555555556,
             "#d8576b"
            ],
            [
             0.6666666666666666,
             "#ed7953"
            ],
            [
             0.7777777777777778,
             "#fb9f3a"
            ],
            [
             0.8888888888888888,
             "#fdca26"
            ],
            [
             1,
             "#f0f921"
            ]
           ],
           "sequentialminus": [
            [
             0,
             "#0d0887"
            ],
            [
             0.1111111111111111,
             "#46039f"
            ],
            [
             0.2222222222222222,
             "#7201a8"
            ],
            [
             0.3333333333333333,
             "#9c179e"
            ],
            [
             0.4444444444444444,
             "#bd3786"
            ],
            [
             0.5555555555555556,
             "#d8576b"
            ],
            [
             0.6666666666666666,
             "#ed7953"
            ],
            [
             0.7777777777777778,
             "#fb9f3a"
            ],
            [
             0.8888888888888888,
             "#fdca26"
            ],
            [
             1,
             "#f0f921"
            ]
           ]
          },
          "colorway": [
           "#636efa",
           "#EF553B",
           "#00cc96",
           "#ab63fa",
           "#FFA15A",
           "#19d3f3",
           "#FF6692",
           "#B6E880",
           "#FF97FF",
           "#FECB52"
          ],
          "font": {
           "color": "#2a3f5f"
          },
          "geo": {
           "bgcolor": "white",
           "lakecolor": "white",
           "landcolor": "#E5ECF6",
           "showlakes": true,
           "showland": true,
           "subunitcolor": "white"
          },
          "hoverlabel": {
           "align": "left"
          },
          "hovermode": "closest",
          "mapbox": {
           "style": "light"
          },
          "paper_bgcolor": "white",
          "plot_bgcolor": "#E5ECF6",
          "polar": {
           "angularaxis": {
            "gridcolor": "white",
            "linecolor": "white",
            "ticks": ""
           },
           "bgcolor": "#E5ECF6",
           "radialaxis": {
            "gridcolor": "white",
            "linecolor": "white",
            "ticks": ""
           }
          },
          "scene": {
           "xaxis": {
            "backgroundcolor": "#E5ECF6",
            "gridcolor": "white",
            "gridwidth": 2,
            "linecolor": "white",
            "showbackground": true,
            "ticks": "",
            "zerolinecolor": "white"
           },
           "yaxis": {
            "backgroundcolor": "#E5ECF6",
            "gridcolor": "white",
            "gridwidth": 2,
            "linecolor": "white",
            "showbackground": true,
            "ticks": "",
            "zerolinecolor": "white"
           },
           "zaxis": {
            "backgroundcolor": "#E5ECF6",
            "gridcolor": "white",
            "gridwidth": 2,
            "linecolor": "white",
            "showbackground": true,
            "ticks": "",
            "zerolinecolor": "white"
           }
          },
          "shapedefaults": {
           "line": {
            "color": "#2a3f5f"
           }
          },
          "ternary": {
           "aaxis": {
            "gridcolor": "white",
            "linecolor": "white",
            "ticks": ""
           },
           "baxis": {
            "gridcolor": "white",
            "linecolor": "white",
            "ticks": ""
           },
           "bgcolor": "#E5ECF6",
           "caxis": {
            "gridcolor": "white",
            "linecolor": "white",
            "ticks": ""
           }
          },
          "title": {
           "x": 0.05
          },
          "xaxis": {
           "automargin": true,
           "gridcolor": "white",
           "linecolor": "white",
           "ticks": "",
           "title": {
            "standoff": 15
           },
           "zerolinecolor": "white",
           "zerolinewidth": 2
          },
          "yaxis": {
           "automargin": true,
           "gridcolor": "white",
           "linecolor": "white",
           "ticks": "",
           "title": {
            "standoff": 15
           },
           "zerolinecolor": "white",
           "zerolinewidth": 2
          }
         }
        },
        "title": {
         "text": "Contour Plot"
        },
        "xaxis": {
         "anchor": "y",
         "domain": [
          0,
          0.1388888888888889
         ],
         "matches": "x31",
         "range": [
          20.799999999999997,
          267.2
         ],
         "showticklabels": false
        },
        "xaxis10": {
         "anchor": "y10",
         "domain": [
          0.5166666666666667,
          0.6555555555555557
         ],
         "matches": "x34",
         "range": [
          -5.029038912145878,
          -2.903379099421625
         ],
         "showticklabels": false,
         "type": "log"
        },
        "xaxis11": {
         "anchor": "y11",
         "domain": [
          0.6888888888888889,
          0.8277777777777777
         ],
         "matches": "x35",
         "range": [
          0.08032245661512658,
          0.5132284110823421
         ],
         "showticklabels": false
        },
        "xaxis12": {
         "anchor": "y12",
         "domain": [
          0.861111111111111,
          1
         ],
         "matches": "x36",
         "range": [
          -3.043046607857114,
          -0.9304180632742686
         ],
         "showticklabels": false,
         "type": "log"
        },
        "xaxis13": {
         "anchor": "y13",
         "domain": [
          0,
          0.1388888888888889
         ],
         "matches": "x31",
         "range": [
          20.799999999999997,
          267.2
         ],
         "showticklabels": false
        },
        "xaxis14": {
         "anchor": "y14",
         "domain": [
          0.17222222222222222,
          0.3111111111111111
         ],
         "matches": "x32",
         "range": [
          2500,
          1047500
         ],
         "showticklabels": false
        },
        "xaxis15": {
         "anchor": "y15",
         "domain": [
          0.34444444444444444,
          0.48333333333333334
         ],
         "matches": "x33",
         "range": [
          0.8967217550694253,
          1.002575577638203
         ],
         "showticklabels": false
        },
        "xaxis16": {
         "anchor": "y16",
         "domain": [
          0.5166666666666667,
          0.6555555555555557
         ],
         "matches": "x34",
         "range": [
          -5.029038912145878,
          -2.903379099421625
         ],
         "showticklabels": false,
         "type": "log"
        },
        "xaxis17": {
         "anchor": "y17",
         "domain": [
          0.6888888888888889,
          0.8277777777777777
         ],
         "matches": "x35",
         "range": [
          0.08032245661512658,
          0.5132284110823421
         ],
         "showticklabels": false
        },
        "xaxis18": {
         "anchor": "y18",
         "domain": [
          0.861111111111111,
          1
         ],
         "matches": "x36",
         "range": [
          -3.043046607857114,
          -0.9304180632742686
         ],
         "showticklabels": false,
         "type": "log"
        },
        "xaxis19": {
         "anchor": "y19",
         "domain": [
          0,
          0.1388888888888889
         ],
         "matches": "x31",
         "range": [
          20.799999999999997,
          267.2
         ],
         "showticklabels": false
        },
        "xaxis2": {
         "anchor": "y2",
         "domain": [
          0.17222222222222222,
          0.3111111111111111
         ],
         "matches": "x32",
         "range": [
          2500,
          1047500
         ],
         "showticklabels": false
        },
        "xaxis20": {
         "anchor": "y20",
         "domain": [
          0.17222222222222222,
          0.3111111111111111
         ],
         "matches": "x32",
         "range": [
          2500,
          1047500
         ],
         "showticklabels": false
        },
        "xaxis21": {
         "anchor": "y21",
         "domain": [
          0.34444444444444444,
          0.48333333333333334
         ],
         "matches": "x33",
         "range": [
          0.8967217550694253,
          1.002575577638203
         ],
         "showticklabels": false
        },
        "xaxis22": {
         "anchor": "y22",
         "domain": [
          0.5166666666666667,
          0.6555555555555557
         ],
         "matches": "x34",
         "range": [
          -5.029038912145878,
          -2.903379099421625
         ],
         "showticklabels": false,
         "type": "log"
        },
        "xaxis23": {
         "anchor": "y23",
         "domain": [
          0.6888888888888889,
          0.8277777777777777
         ],
         "matches": "x35",
         "range": [
          0.08032245661512658,
          0.5132284110823421
         ],
         "showticklabels": false
        },
        "xaxis24": {
         "anchor": "y24",
         "domain": [
          0.861111111111111,
          1
         ],
         "matches": "x36",
         "range": [
          -3.043046607857114,
          -0.9304180632742686
         ],
         "showticklabels": false,
         "type": "log"
        },
        "xaxis25": {
         "anchor": "y25",
         "domain": [
          0,
          0.1388888888888889
         ],
         "matches": "x31",
         "range": [
          20.799999999999997,
          267.2
         ],
         "showticklabels": false
        },
        "xaxis26": {
         "anchor": "y26",
         "domain": [
          0.17222222222222222,
          0.3111111111111111
         ],
         "matches": "x32",
         "range": [
          2500,
          1047500
         ],
         "showticklabels": false
        },
        "xaxis27": {
         "anchor": "y27",
         "domain": [
          0.34444444444444444,
          0.48333333333333334
         ],
         "matches": "x33",
         "range": [
          0.8967217550694253,
          1.002575577638203
         ],
         "showticklabels": false
        },
        "xaxis28": {
         "anchor": "y28",
         "domain": [
          0.5166666666666667,
          0.6555555555555557
         ],
         "matches": "x34",
         "range": [
          -5.029038912145878,
          -2.903379099421625
         ],
         "showticklabels": false,
         "type": "log"
        },
        "xaxis29": {
         "anchor": "y29",
         "domain": [
          0.6888888888888889,
          0.8277777777777777
         ],
         "matches": "x35",
         "range": [
          0.08032245661512658,
          0.5132284110823421
         ],
         "showticklabels": false
        },
        "xaxis3": {
         "anchor": "y3",
         "domain": [
          0.34444444444444444,
          0.48333333333333334
         ],
         "matches": "x33",
         "range": [
          0.8967217550694253,
          1.002575577638203
         ],
         "showticklabels": false
        },
        "xaxis30": {
         "anchor": "y30",
         "domain": [
          0.861111111111111,
          1
         ],
         "matches": "x36",
         "range": [
          -3.043046607857114,
          -0.9304180632742686
         ],
         "showticklabels": false,
         "type": "log"
        },
        "xaxis31": {
         "anchor": "y31",
         "domain": [
          0,
          0.1388888888888889
         ],
         "range": [
          20.799999999999997,
          267.2
         ],
         "title": {
          "text": "batch_size"
         }
        },
        "xaxis32": {
         "anchor": "y32",
         "domain": [
          0.17222222222222222,
          0.3111111111111111
         ],
         "range": [
          2500,
          1047500
         ],
         "title": {
          "text": "buffer_size"
         }
        },
        "xaxis33": {
         "anchor": "y33",
         "domain": [
          0.34444444444444444,
          0.48333333333333334
         ],
         "range": [
          0.8967217550694253,
          1.002575577638203
         ],
         "title": {
          "text": "gamma"
         }
        },
        "xaxis34": {
         "anchor": "y34",
         "domain": [
          0.5166666666666667,
          0.6555555555555557
         ],
         "range": [
          -5.029038912145878,
          -2.903379099421625
         ],
         "title": {
          "text": "learning_rate"
         },
         "type": "log"
        },
        "xaxis35": {
         "anchor": "y35",
         "domain": [
          0.6888888888888889,
          0.8277777777777777
         ],
         "range": [
          0.08032245661512658,
          0.5132284110823421
         ],
         "title": {
          "text": "noise_std"
         }
        },
        "xaxis36": {
         "anchor": "y36",
         "domain": [
          0.861111111111111,
          1
         ],
         "range": [
          -3.043046607857114,
          -0.9304180632742686
         ],
         "title": {
          "text": "tau"
         },
         "type": "log"
        },
        "xaxis4": {
         "anchor": "y4",
         "domain": [
          0.5166666666666667,
          0.6555555555555557
         ],
         "matches": "x34",
         "range": [
          -5.029038912145878,
          -2.903379099421625
         ],
         "showticklabels": false,
         "type": "log"
        },
        "xaxis5": {
         "anchor": "y5",
         "domain": [
          0.6888888888888889,
          0.8277777777777777
         ],
         "matches": "x35",
         "range": [
          0.08032245661512658,
          0.5132284110823421
         ],
         "showticklabels": false
        },
        "xaxis6": {
         "anchor": "y6",
         "domain": [
          0.861111111111111,
          1
         ],
         "matches": "x36",
         "range": [
          -3.043046607857114,
          -0.9304180632742686
         ],
         "showticklabels": false,
         "type": "log"
        },
        "xaxis7": {
         "anchor": "y7",
         "domain": [
          0,
          0.1388888888888889
         ],
         "matches": "x31",
         "range": [
          20.799999999999997,
          267.2
         ],
         "showticklabels": false
        },
        "xaxis8": {
         "anchor": "y8",
         "domain": [
          0.17222222222222222,
          0.3111111111111111
         ],
         "matches": "x32",
         "range": [
          2500,
          1047500
         ],
         "showticklabels": false
        },
        "xaxis9": {
         "anchor": "y9",
         "domain": [
          0.34444444444444444,
          0.48333333333333334
         ],
         "matches": "x33",
         "range": [
          0.8967217550694253,
          1.002575577638203
         ],
         "showticklabels": false
        },
        "yaxis": {
         "anchor": "x",
         "domain": [
          0.875,
          1
         ],
         "range": [
          20.799999999999997,
          267.2
         ],
         "title": {
          "text": "batch_size"
         }
        },
        "yaxis10": {
         "anchor": "x10",
         "domain": [
          0.7,
          0.825
         ],
         "matches": "y7",
         "range": [
          2500,
          1047500
         ],
         "showticklabels": false
        },
        "yaxis11": {
         "anchor": "x11",
         "domain": [
          0.7,
          0.825
         ],
         "matches": "y7",
         "range": [
          2500,
          1047500
         ],
         "showticklabels": false
        },
        "yaxis12": {
         "anchor": "x12",
         "domain": [
          0.7,
          0.825
         ],
         "matches": "y7",
         "range": [
          2500,
          1047500
         ],
         "showticklabels": false
        },
        "yaxis13": {
         "anchor": "x13",
         "domain": [
          0.525,
          0.65
         ],
         "range": [
          0.8967217550694253,
          1.002575577638203
         ],
         "title": {
          "text": "gamma"
         }
        },
        "yaxis14": {
         "anchor": "x14",
         "domain": [
          0.525,
          0.65
         ],
         "matches": "y13",
         "range": [
          0.8967217550694253,
          1.002575577638203
         ],
         "showticklabels": false
        },
        "yaxis15": {
         "anchor": "x15",
         "domain": [
          0.525,
          0.65
         ],
         "matches": "y13",
         "range": [
          0.8967217550694253,
          1.002575577638203
         ],
         "showticklabels": false
        },
        "yaxis16": {
         "anchor": "x16",
         "domain": [
          0.525,
          0.65
         ],
         "matches": "y13",
         "range": [
          0.8967217550694253,
          1.002575577638203
         ],
         "showticklabels": false
        },
        "yaxis17": {
         "anchor": "x17",
         "domain": [
          0.525,
          0.65
         ],
         "matches": "y13",
         "range": [
          0.8967217550694253,
          1.002575577638203
         ],
         "showticklabels": false
        },
        "yaxis18": {
         "anchor": "x18",
         "domain": [
          0.525,
          0.65
         ],
         "matches": "y13",
         "range": [
          0.8967217550694253,
          1.002575577638203
         ],
         "showticklabels": false
        },
        "yaxis19": {
         "anchor": "x19",
         "domain": [
          0.35,
          0.475
         ],
         "range": [
          -5.029038912145878,
          -2.903379099421625
         ],
         "title": {
          "text": "learning_rate"
         },
         "type": "log"
        },
        "yaxis2": {
         "anchor": "x2",
         "domain": [
          0.875,
          1
         ],
         "matches": "y",
         "range": [
          20.799999999999997,
          267.2
         ],
         "showticklabels": false
        },
        "yaxis20": {
         "anchor": "x20",
         "domain": [
          0.35,
          0.475
         ],
         "matches": "y19",
         "range": [
          -5.029038912145878,
          -2.903379099421625
         ],
         "showticklabels": false,
         "type": "log"
        },
        "yaxis21": {
         "anchor": "x21",
         "domain": [
          0.35,
          0.475
         ],
         "matches": "y19",
         "range": [
          -5.029038912145878,
          -2.903379099421625
         ],
         "showticklabels": false,
         "type": "log"
        },
        "yaxis22": {
         "anchor": "x22",
         "domain": [
          0.35,
          0.475
         ],
         "matches": "y19",
         "range": [
          -5.029038912145878,
          -2.903379099421625
         ],
         "showticklabels": false,
         "type": "log"
        },
        "yaxis23": {
         "anchor": "x23",
         "domain": [
          0.35,
          0.475
         ],
         "matches": "y19",
         "range": [
          -5.029038912145878,
          -2.903379099421625
         ],
         "showticklabels": false,
         "type": "log"
        },
        "yaxis24": {
         "anchor": "x24",
         "domain": [
          0.35,
          0.475
         ],
         "matches": "y19",
         "range": [
          -5.029038912145878,
          -2.903379099421625
         ],
         "showticklabels": false,
         "type": "log"
        },
        "yaxis25": {
         "anchor": "x25",
         "domain": [
          0.175,
          0.3
         ],
         "range": [
          0.08032245661512658,
          0.5132284110823421
         ],
         "title": {
          "text": "noise_std"
         }
        },
        "yaxis26": {
         "anchor": "x26",
         "domain": [
          0.175,
          0.3
         ],
         "matches": "y25",
         "range": [
          0.08032245661512658,
          0.5132284110823421
         ],
         "showticklabels": false
        },
        "yaxis27": {
         "anchor": "x27",
         "domain": [
          0.175,
          0.3
         ],
         "matches": "y25",
         "range": [
          0.08032245661512658,
          0.5132284110823421
         ],
         "showticklabels": false
        },
        "yaxis28": {
         "anchor": "x28",
         "domain": [
          0.175,
          0.3
         ],
         "matches": "y25",
         "range": [
          0.08032245661512658,
          0.5132284110823421
         ],
         "showticklabels": false
        },
        "yaxis29": {
         "anchor": "x29",
         "domain": [
          0.175,
          0.3
         ],
         "matches": "y25",
         "range": [
          0.08032245661512658,
          0.5132284110823421
         ],
         "showticklabels": false
        },
        "yaxis3": {
         "anchor": "x3",
         "domain": [
          0.875,
          1
         ],
         "matches": "y",
         "range": [
          20.799999999999997,
          267.2
         ],
         "showticklabels": false
        },
        "yaxis30": {
         "anchor": "x30",
         "domain": [
          0.175,
          0.3
         ],
         "matches": "y25",
         "range": [
          0.08032245661512658,
          0.5132284110823421
         ],
         "showticklabels": false
        },
        "yaxis31": {
         "anchor": "x31",
         "domain": [
          0,
          0.125
         ],
         "range": [
          -3.043046607857114,
          -0.9304180632742686
         ],
         "title": {
          "text": "tau"
         },
         "type": "log"
        },
        "yaxis32": {
         "anchor": "x32",
         "domain": [
          0,
          0.125
         ],
         "matches": "y31",
         "range": [
          -3.043046607857114,
          -0.9304180632742686
         ],
         "showticklabels": false,
         "type": "log"
        },
        "yaxis33": {
         "anchor": "x33",
         "domain": [
          0,
          0.125
         ],
         "matches": "y31",
         "range": [
          -3.043046607857114,
          -0.9304180632742686
         ],
         "showticklabels": false,
         "type": "log"
        },
        "yaxis34": {
         "anchor": "x34",
         "domain": [
          0,
          0.125
         ],
         "matches": "y31",
         "range": [
          -3.043046607857114,
          -0.9304180632742686
         ],
         "showticklabels": false,
         "type": "log"
        },
        "yaxis35": {
         "anchor": "x35",
         "domain": [
          0,
          0.125
         ],
         "matches": "y31",
         "range": [
          -3.043046607857114,
          -0.9304180632742686
         ],
         "showticklabels": false,
         "type": "log"
        },
        "yaxis36": {
         "anchor": "x36",
         "domain": [
          0,
          0.125
         ],
         "matches": "y31",
         "range": [
          -3.043046607857114,
          -0.9304180632742686
         ],
         "showticklabels": false,
         "type": "log"
        },
        "yaxis4": {
         "anchor": "x4",
         "domain": [
          0.875,
          1
         ],
         "matches": "y",
         "range": [
          20.799999999999997,
          267.2
         ],
         "showticklabels": false
        },
        "yaxis5": {
         "anchor": "x5",
         "domain": [
          0.875,
          1
         ],
         "matches": "y",
         "range": [
          20.799999999999997,
          267.2
         ],
         "showticklabels": false
        },
        "yaxis6": {
         "anchor": "x6",
         "domain": [
          0.875,
          1
         ],
         "matches": "y",
         "range": [
          20.799999999999997,
          267.2
         ],
         "showticklabels": false
        },
        "yaxis7": {
         "anchor": "x7",
         "domain": [
          0.7,
          0.825
         ],
         "range": [
          2500,
          1047500
         ],
         "title": {
          "text": "buffer_size"
         }
        },
        "yaxis8": {
         "anchor": "x8",
         "domain": [
          0.7,
          0.825
         ],
         "matches": "y7",
         "range": [
          2500,
          1047500
         ],
         "showticklabels": false
        },
        "yaxis9": {
         "anchor": "x9",
         "domain": [
          0.7,
          0.825
         ],
         "matches": "y7",
         "range": [
          2500,
          1047500
         ],
         "showticklabels": false
        }
       }
      }
     },
     "metadata": {},
     "output_type": "display_data"
    }
   ],
   "source": [
    "from optuna.visualization import plot_contour\n",
    "\n",
    "fig = plot_contour(study)\n",
    "fig.show()"
   ]
  }
 ],
 "metadata": {
  "kernelspec": {
   "display_name": "rl-scm",
   "language": "python",
   "name": "python3"
  },
  "language_info": {
   "codemirror_mode": {
    "name": "ipython",
    "version": 3
   },
   "file_extension": ".py",
   "mimetype": "text/x-python",
   "name": "python",
   "nbconvert_exporter": "python",
   "pygments_lexer": "ipython3",
   "version": "3.12.3"
  }
 },
 "nbformat": 4,
 "nbformat_minor": 2
}
