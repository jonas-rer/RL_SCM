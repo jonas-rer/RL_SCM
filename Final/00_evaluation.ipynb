{
 "cells": [
  {
   "cell_type": "code",
   "execution_count": null,
   "metadata": {},
   "outputs": [],
   "source": [
    "import matplotlib.pyplot as plt\n",
    "import numpy as np\n",
    "import pandas as pd\n",
    "\n",
    "from Functions.visualization_functions import *"
   ]
  },
  {
   "cell_type": "code",
   "execution_count": null,
   "metadata": {},
   "outputs": [],
   "source": [
    "# TODO change the path to the csv files\n",
    "# Runs to compare\n",
    "df_ppo = pd.read_csv('ppo.csv')\n",
    "df_a2c = pd.read_csv('a2c.csv')\n",
    "df_dqn = pd.read_csv('dqn.csv')\n",
    "df_heuristic = pd.read_csv('heuristic.csv')\n",
    "df_greedy = pd.read_csv('greedy.csv')\n",
    "\n",
    "# Dataframes to compare\n",
    "df_rl = [df_ppo, df_a2c, df_dqn]\n",
    "df_all = [df_ppo, df_a2c, df_dqn, df_heuristic, df_greedy]\n",
    "\n",
    "# Labels for the plots\n",
    "label_rl = ['PPO', 'A2C', 'DQN']\n",
    "labels_al = ['PPO', 'A2C', 'DQN', 'Heuristic', 'Greedy']"
   ]
  },
  {
   "cell_type": "code",
   "execution_count": null,
   "metadata": {},
   "outputs": [],
   "source": [
    "benchmark_plot(df_rl, label_rl)"
   ]
  },
  {
   "cell_type": "code",
   "execution_count": null,
   "metadata": {},
   "outputs": [],
   "source": [
    "benchmark_plot(df_all, labels_al)"
   ]
  }
 ],
 "metadata": {
  "language_info": {
   "name": "python"
  }
 },
 "nbformat": 4,
 "nbformat_minor": 2
}
