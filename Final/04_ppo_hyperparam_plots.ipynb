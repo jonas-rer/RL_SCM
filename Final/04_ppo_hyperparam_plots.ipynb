{
 "cells": [
  {
   "cell_type": "code",
   "execution_count": 1,
   "metadata": {},
   "outputs": [
    {
     "name": "stderr",
     "output_type": "stream",
     "text": [
      "/Users/jonasrenfer/miniconda3/envs/rl-scm/lib/python3.12/site-packages/tqdm/auto.py:21: TqdmWarning: IProgress not found. Please update jupyter and ipywidgets. See https://ipywidgets.readthedocs.io/en/stable/user_install.html\n",
      "  from .autonotebook import tqdm as notebook_tqdm\n"
     ]
    }
   ],
   "source": [
    "# Import helpers\n",
    "import numpy as np\n",
    "import pandas as pd\n",
    "import random\n",
    "import os\n",
    "import json\n",
    "import csv\n",
    "import matplotlib.pyplot as plt\n",
    "import seaborn as sns\n",
    "import optuna\n",
    "import pickle\n",
    "\n",
    "from collections import deque\n",
    "\n",
    "# Import tensorflow\n",
    "import tensorflow as tf\n",
    "\n",
    "# Import custom classes\n",
    "from Environment.env_v9 import *\n",
    "from Functions.visualization_functions import *\n",
    "\n",
    "# Import custom functions\n",
    "from Functions.greedy_algorithm import *"
   ]
  },
  {
   "cell_type": "code",
   "execution_count": 2,
   "metadata": {},
   "outputs": [
    {
     "name": "stdout",
     "output_type": "stream",
     "text": [
      "Best parameters from loaded study: {'learning_rate': 7.489266809258986e-05, 'gamma': 0.999, 'ent_coef': 0.018390985691451717, 'vf_coef': 0.7554611876239332, 'n_steps': 512, 'batch_size': 32, 'clip_range': 0.321193255089133}\n"
     ]
    }
   ],
   "source": [
    "# Load the study from a file\n",
    "with open(\"./Training/Tuning/PPO_optuna_study_2024-12-18_08_26.pkl\", \"rb\") as f:\n",
    "    study = pickle.load(f)\n",
    "\n",
    "print(\"Best parameters from loaded study:\", study.best_params)"
   ]
  },
  {
   "cell_type": "markdown",
   "metadata": {},
   "source": [
    "**Plot Optimization History**\n",
    "\n",
    "This plot shows the best trial value at each step of the optimization process."
   ]
  },
  {
   "cell_type": "code",
   "execution_count": 3,
   "metadata": {},
   "outputs": [
    {
     "data": {
      "application/vnd.plotly.v1+json": {
       "config": {
        "plotlyServerURL": "https://plot.ly"
       },
       "data": [
        {
         "mode": "markers",
         "name": "Objective Value",
         "type": "scatter",
         "x": [
          0,
          1,
          2,
          3,
          4,
          5,
          6,
          7,
          8,
          9,
          10,
          11,
          12,
          13,
          14,
          15,
          16,
          17,
          18,
          19
         ],
         "y": [
          -55354.58200000001,
          -55475.382000000005,
          -55846.478,
          -55350.331999999995,
          -6277071.776,
          -54913.414000000004,
          -53867.774,
          -53744.19,
          -55281.102,
          -8354784.425999999,
          -54174.15,
          -54222.221999999994,
          -52956.621999999996,
          -52825.71799999999,
          -54416.482,
          -53528.034,
          -54039.402,
          -54188.288,
          -6877743.058,
          -55504.724
         ]
        },
        {
         "mode": "lines",
         "name": "Best Value",
         "type": "scatter",
         "x": [
          0,
          1,
          2,
          3,
          4,
          5,
          6,
          7,
          8,
          9,
          10,
          11,
          12,
          13,
          14,
          15,
          16,
          17,
          18,
          19
         ],
         "y": [
          -55354.58200000001,
          -55354.58200000001,
          -55354.58200000001,
          -55350.331999999995,
          -55350.331999999995,
          -54913.414000000004,
          -53867.774,
          -53744.19,
          -53744.19,
          -53744.19,
          -53744.19,
          -53744.19,
          -52956.621999999996,
          -52825.71799999999,
          -52825.71799999999,
          -52825.71799999999,
          -52825.71799999999,
          -52825.71799999999,
          -52825.71799999999,
          -52825.71799999999
         ]
        },
        {
         "marker": {
          "color": "#cccccc"
         },
         "mode": "markers",
         "name": "Infeasible Trial",
         "showlegend": false,
         "type": "scatter",
         "x": [],
         "y": []
        }
       ],
       "layout": {
        "template": {
         "data": {
          "bar": [
           {
            "error_x": {
             "color": "#2a3f5f"
            },
            "error_y": {
             "color": "#2a3f5f"
            },
            "marker": {
             "line": {
              "color": "#E5ECF6",
              "width": 0.5
             },
             "pattern": {
              "fillmode": "overlay",
              "size": 10,
              "solidity": 0.2
             }
            },
            "type": "bar"
           }
          ],
          "barpolar": [
           {
            "marker": {
             "line": {
              "color": "#E5ECF6",
              "width": 0.5
             },
             "pattern": {
              "fillmode": "overlay",
              "size": 10,
              "solidity": 0.2
             }
            },
            "type": "barpolar"
           }
          ],
          "carpet": [
           {
            "aaxis": {
             "endlinecolor": "#2a3f5f",
             "gridcolor": "white",
             "linecolor": "white",
             "minorgridcolor": "white",
             "startlinecolor": "#2a3f5f"
            },
            "baxis": {
             "endlinecolor": "#2a3f5f",
             "gridcolor": "white",
             "linecolor": "white",
             "minorgridcolor": "white",
             "startlinecolor": "#2a3f5f"
            },
            "type": "carpet"
           }
          ],
          "choropleth": [
           {
            "colorbar": {
             "outlinewidth": 0,
             "ticks": ""
            },
            "type": "choropleth"
           }
          ],
          "contour": [
           {
            "colorbar": {
             "outlinewidth": 0,
             "ticks": ""
            },
            "colorscale": [
             [
              0,
              "#0d0887"
             ],
             [
              0.1111111111111111,
              "#46039f"
             ],
             [
              0.2222222222222222,
              "#7201a8"
             ],
             [
              0.3333333333333333,
              "#9c179e"
             ],
             [
              0.4444444444444444,
              "#bd3786"
             ],
             [
              0.5555555555555556,
              "#d8576b"
             ],
             [
              0.6666666666666666,
              "#ed7953"
             ],
             [
              0.7777777777777778,
              "#fb9f3a"
             ],
             [
              0.8888888888888888,
              "#fdca26"
             ],
             [
              1,
              "#f0f921"
             ]
            ],
            "type": "contour"
           }
          ],
          "contourcarpet": [
           {
            "colorbar": {
             "outlinewidth": 0,
             "ticks": ""
            },
            "type": "contourcarpet"
           }
          ],
          "heatmap": [
           {
            "colorbar": {
             "outlinewidth": 0,
             "ticks": ""
            },
            "colorscale": [
             [
              0,
              "#0d0887"
             ],
             [
              0.1111111111111111,
              "#46039f"
             ],
             [
              0.2222222222222222,
              "#7201a8"
             ],
             [
              0.3333333333333333,
              "#9c179e"
             ],
             [
              0.4444444444444444,
              "#bd3786"
             ],
             [
              0.5555555555555556,
              "#d8576b"
             ],
             [
              0.6666666666666666,
              "#ed7953"
             ],
             [
              0.7777777777777778,
              "#fb9f3a"
             ],
             [
              0.8888888888888888,
              "#fdca26"
             ],
             [
              1,
              "#f0f921"
             ]
            ],
            "type": "heatmap"
           }
          ],
          "heatmapgl": [
           {
            "colorbar": {
             "outlinewidth": 0,
             "ticks": ""
            },
            "colorscale": [
             [
              0,
              "#0d0887"
             ],
             [
              0.1111111111111111,
              "#46039f"
             ],
             [
              0.2222222222222222,
              "#7201a8"
             ],
             [
              0.3333333333333333,
              "#9c179e"
             ],
             [
              0.4444444444444444,
              "#bd3786"
             ],
             [
              0.5555555555555556,
              "#d8576b"
             ],
             [
              0.6666666666666666,
              "#ed7953"
             ],
             [
              0.7777777777777778,
              "#fb9f3a"
             ],
             [
              0.8888888888888888,
              "#fdca26"
             ],
             [
              1,
              "#f0f921"
             ]
            ],
            "type": "heatmapgl"
           }
          ],
          "histogram": [
           {
            "marker": {
             "pattern": {
              "fillmode": "overlay",
              "size": 10,
              "solidity": 0.2
             }
            },
            "type": "histogram"
           }
          ],
          "histogram2d": [
           {
            "colorbar": {
             "outlinewidth": 0,
             "ticks": ""
            },
            "colorscale": [
             [
              0,
              "#0d0887"
             ],
             [
              0.1111111111111111,
              "#46039f"
             ],
             [
              0.2222222222222222,
              "#7201a8"
             ],
             [
              0.3333333333333333,
              "#9c179e"
             ],
             [
              0.4444444444444444,
              "#bd3786"
             ],
             [
              0.5555555555555556,
              "#d8576b"
             ],
             [
              0.6666666666666666,
              "#ed7953"
             ],
             [
              0.7777777777777778,
              "#fb9f3a"
             ],
             [
              0.8888888888888888,
              "#fdca26"
             ],
             [
              1,
              "#f0f921"
             ]
            ],
            "type": "histogram2d"
           }
          ],
          "histogram2dcontour": [
           {
            "colorbar": {
             "outlinewidth": 0,
             "ticks": ""
            },
            "colorscale": [
             [
              0,
              "#0d0887"
             ],
             [
              0.1111111111111111,
              "#46039f"
             ],
             [
              0.2222222222222222,
              "#7201a8"
             ],
             [
              0.3333333333333333,
              "#9c179e"
             ],
             [
              0.4444444444444444,
              "#bd3786"
             ],
             [
              0.5555555555555556,
              "#d8576b"
             ],
             [
              0.6666666666666666,
              "#ed7953"
             ],
             [
              0.7777777777777778,
              "#fb9f3a"
             ],
             [
              0.8888888888888888,
              "#fdca26"
             ],
             [
              1,
              "#f0f921"
             ]
            ],
            "type": "histogram2dcontour"
           }
          ],
          "mesh3d": [
           {
            "colorbar": {
             "outlinewidth": 0,
             "ticks": ""
            },
            "type": "mesh3d"
           }
          ],
          "parcoords": [
           {
            "line": {
             "colorbar": {
              "outlinewidth": 0,
              "ticks": ""
             }
            },
            "type": "parcoords"
           }
          ],
          "pie": [
           {
            "automargin": true,
            "type": "pie"
           }
          ],
          "scatter": [
           {
            "fillpattern": {
             "fillmode": "overlay",
             "size": 10,
             "solidity": 0.2
            },
            "type": "scatter"
           }
          ],
          "scatter3d": [
           {
            "line": {
             "colorbar": {
              "outlinewidth": 0,
              "ticks": ""
             }
            },
            "marker": {
             "colorbar": {
              "outlinewidth": 0,
              "ticks": ""
             }
            },
            "type": "scatter3d"
           }
          ],
          "scattercarpet": [
           {
            "marker": {
             "colorbar": {
              "outlinewidth": 0,
              "ticks": ""
             }
            },
            "type": "scattercarpet"
           }
          ],
          "scattergeo": [
           {
            "marker": {
             "colorbar": {
              "outlinewidth": 0,
              "ticks": ""
             }
            },
            "type": "scattergeo"
           }
          ],
          "scattergl": [
           {
            "marker": {
             "colorbar": {
              "outlinewidth": 0,
              "ticks": ""
             }
            },
            "type": "scattergl"
           }
          ],
          "scattermapbox": [
           {
            "marker": {
             "colorbar": {
              "outlinewidth": 0,
              "ticks": ""
             }
            },
            "type": "scattermapbox"
           }
          ],
          "scatterpolar": [
           {
            "marker": {
             "colorbar": {
              "outlinewidth": 0,
              "ticks": ""
             }
            },
            "type": "scatterpolar"
           }
          ],
          "scatterpolargl": [
           {
            "marker": {
             "colorbar": {
              "outlinewidth": 0,
              "ticks": ""
             }
            },
            "type": "scatterpolargl"
           }
          ],
          "scatterternary": [
           {
            "marker": {
             "colorbar": {
              "outlinewidth": 0,
              "ticks": ""
             }
            },
            "type": "scatterternary"
           }
          ],
          "surface": [
           {
            "colorbar": {
             "outlinewidth": 0,
             "ticks": ""
            },
            "colorscale": [
             [
              0,
              "#0d0887"
             ],
             [
              0.1111111111111111,
              "#46039f"
             ],
             [
              0.2222222222222222,
              "#7201a8"
             ],
             [
              0.3333333333333333,
              "#9c179e"
             ],
             [
              0.4444444444444444,
              "#bd3786"
             ],
             [
              0.5555555555555556,
              "#d8576b"
             ],
             [
              0.6666666666666666,
              "#ed7953"
             ],
             [
              0.7777777777777778,
              "#fb9f3a"
             ],
             [
              0.8888888888888888,
              "#fdca26"
             ],
             [
              1,
              "#f0f921"
             ]
            ],
            "type": "surface"
           }
          ],
          "table": [
           {
            "cells": {
             "fill": {
              "color": "#EBF0F8"
             },
             "line": {
              "color": "white"
             }
            },
            "header": {
             "fill": {
              "color": "#C8D4E3"
             },
             "line": {
              "color": "white"
             }
            },
            "type": "table"
           }
          ]
         },
         "layout": {
          "annotationdefaults": {
           "arrowcolor": "#2a3f5f",
           "arrowhead": 0,
           "arrowwidth": 1
          },
          "autotypenumbers": "strict",
          "coloraxis": {
           "colorbar": {
            "outlinewidth": 0,
            "ticks": ""
           }
          },
          "colorscale": {
           "diverging": [
            [
             0,
             "#8e0152"
            ],
            [
             0.1,
             "#c51b7d"
            ],
            [
             0.2,
             "#de77ae"
            ],
            [
             0.3,
             "#f1b6da"
            ],
            [
             0.4,
             "#fde0ef"
            ],
            [
             0.5,
             "#f7f7f7"
            ],
            [
             0.6,
             "#e6f5d0"
            ],
            [
             0.7,
             "#b8e186"
            ],
            [
             0.8,
             "#7fbc41"
            ],
            [
             0.9,
             "#4d9221"
            ],
            [
             1,
             "#276419"
            ]
           ],
           "sequential": [
            [
             0,
             "#0d0887"
            ],
            [
             0.1111111111111111,
             "#46039f"
            ],
            [
             0.2222222222222222,
             "#7201a8"
            ],
            [
             0.3333333333333333,
             "#9c179e"
            ],
            [
             0.4444444444444444,
             "#bd3786"
            ],
            [
             0.5555555555555556,
             "#d8576b"
            ],
            [
             0.6666666666666666,
             "#ed7953"
            ],
            [
             0.7777777777777778,
             "#fb9f3a"
            ],
            [
             0.8888888888888888,
             "#fdca26"
            ],
            [
             1,
             "#f0f921"
            ]
           ],
           "sequentialminus": [
            [
             0,
             "#0d0887"
            ],
            [
             0.1111111111111111,
             "#46039f"
            ],
            [
             0.2222222222222222,
             "#7201a8"
            ],
            [
             0.3333333333333333,
             "#9c179e"
            ],
            [
             0.4444444444444444,
             "#bd3786"
            ],
            [
             0.5555555555555556,
             "#d8576b"
            ],
            [
             0.6666666666666666,
             "#ed7953"
            ],
            [
             0.7777777777777778,
             "#fb9f3a"
            ],
            [
             0.8888888888888888,
             "#fdca26"
            ],
            [
             1,
             "#f0f921"
            ]
           ]
          },
          "colorway": [
           "#636efa",
           "#EF553B",
           "#00cc96",
           "#ab63fa",
           "#FFA15A",
           "#19d3f3",
           "#FF6692",
           "#B6E880",
           "#FF97FF",
           "#FECB52"
          ],
          "font": {
           "color": "#2a3f5f"
          },
          "geo": {
           "bgcolor": "white",
           "lakecolor": "white",
           "landcolor": "#E5ECF6",
           "showlakes": true,
           "showland": true,
           "subunitcolor": "white"
          },
          "hoverlabel": {
           "align": "left"
          },
          "hovermode": "closest",
          "mapbox": {
           "style": "light"
          },
          "paper_bgcolor": "white",
          "plot_bgcolor": "#E5ECF6",
          "polar": {
           "angularaxis": {
            "gridcolor": "white",
            "linecolor": "white",
            "ticks": ""
           },
           "bgcolor": "#E5ECF6",
           "radialaxis": {
            "gridcolor": "white",
            "linecolor": "white",
            "ticks": ""
           }
          },
          "scene": {
           "xaxis": {
            "backgroundcolor": "#E5ECF6",
            "gridcolor": "white",
            "gridwidth": 2,
            "linecolor": "white",
            "showbackground": true,
            "ticks": "",
            "zerolinecolor": "white"
           },
           "yaxis": {
            "backgroundcolor": "#E5ECF6",
            "gridcolor": "white",
            "gridwidth": 2,
            "linecolor": "white",
            "showbackground": true,
            "ticks": "",
            "zerolinecolor": "white"
           },
           "zaxis": {
            "backgroundcolor": "#E5ECF6",
            "gridcolor": "white",
            "gridwidth": 2,
            "linecolor": "white",
            "showbackground": true,
            "ticks": "",
            "zerolinecolor": "white"
           }
          },
          "shapedefaults": {
           "line": {
            "color": "#2a3f5f"
           }
          },
          "ternary": {
           "aaxis": {
            "gridcolor": "white",
            "linecolor": "white",
            "ticks": ""
           },
           "baxis": {
            "gridcolor": "white",
            "linecolor": "white",
            "ticks": ""
           },
           "bgcolor": "#E5ECF6",
           "caxis": {
            "gridcolor": "white",
            "linecolor": "white",
            "ticks": ""
           }
          },
          "title": {
           "x": 0.05
          },
          "xaxis": {
           "automargin": true,
           "gridcolor": "white",
           "linecolor": "white",
           "ticks": "",
           "title": {
            "standoff": 15
           },
           "zerolinecolor": "white",
           "zerolinewidth": 2
          },
          "yaxis": {
           "automargin": true,
           "gridcolor": "white",
           "linecolor": "white",
           "ticks": "",
           "title": {
            "standoff": 15
           },
           "zerolinecolor": "white",
           "zerolinewidth": 2
          }
         }
        },
        "title": {
         "text": "Optimization History Plot"
        },
        "xaxis": {
         "title": {
          "text": "Trial"
         }
        },
        "yaxis": {
         "title": {
          "text": "Objective Value"
         }
        }
       }
      }
     },
     "metadata": {},
     "output_type": "display_data"
    }
   ],
   "source": [
    "from optuna.visualization import plot_optimization_history\n",
    "\n",
    "fig = plot_optimization_history(study)\n",
    "fig.show()"
   ]
  },
  {
   "cell_type": "markdown",
   "metadata": {},
   "source": [
    "**Plot Hyperparameter Importance**\n",
    "\n",
    "This plot estimates the relative importance of each hyperparameter based on how they affect the objective function."
   ]
  },
  {
   "cell_type": "code",
   "execution_count": 4,
   "metadata": {},
   "outputs": [
    {
     "data": {
      "application/vnd.plotly.v1+json": {
       "config": {
        "plotlyServerURL": "https://plot.ly"
       },
       "data": [
        {
         "cliponaxis": false,
         "hovertemplate": [
          "batch_size (CategoricalDistribution): 0.0027541501559394665<extra></extra>",
          "clip_range (FloatDistribution): 0.01587624472629201<extra></extra>",
          "learning_rate (FloatDistribution): 0.01602760459304348<extra></extra>",
          "gamma (CategoricalDistribution): 0.016891333170752552<extra></extra>",
          "n_steps (CategoricalDistribution): 0.01859460376160038<extra></extra>",
          "vf_coef (FloatDistribution): 0.032479006956783504<extra></extra>",
          "ent_coef (FloatDistribution): 0.8973770566355886<extra></extra>"
         ],
         "name": "Objective Value",
         "orientation": "h",
         "text": [
          "<0.01",
          "0.02",
          "0.02",
          "0.02",
          "0.02",
          "0.03",
          "0.90"
         ],
         "textposition": "outside",
         "type": "bar",
         "x": [
          0.0027541501559394665,
          0.01587624472629201,
          0.01602760459304348,
          0.016891333170752552,
          0.01859460376160038,
          0.032479006956783504,
          0.8973770566355886
         ],
         "y": [
          "batch_size",
          "clip_range",
          "learning_rate",
          "gamma",
          "n_steps",
          "vf_coef",
          "ent_coef"
         ]
        }
       ],
       "layout": {
        "template": {
         "data": {
          "bar": [
           {
            "error_x": {
             "color": "#2a3f5f"
            },
            "error_y": {
             "color": "#2a3f5f"
            },
            "marker": {
             "line": {
              "color": "#E5ECF6",
              "width": 0.5
             },
             "pattern": {
              "fillmode": "overlay",
              "size": 10,
              "solidity": 0.2
             }
            },
            "type": "bar"
           }
          ],
          "barpolar": [
           {
            "marker": {
             "line": {
              "color": "#E5ECF6",
              "width": 0.5
             },
             "pattern": {
              "fillmode": "overlay",
              "size": 10,
              "solidity": 0.2
             }
            },
            "type": "barpolar"
           }
          ],
          "carpet": [
           {
            "aaxis": {
             "endlinecolor": "#2a3f5f",
             "gridcolor": "white",
             "linecolor": "white",
             "minorgridcolor": "white",
             "startlinecolor": "#2a3f5f"
            },
            "baxis": {
             "endlinecolor": "#2a3f5f",
             "gridcolor": "white",
             "linecolor": "white",
             "minorgridcolor": "white",
             "startlinecolor": "#2a3f5f"
            },
            "type": "carpet"
           }
          ],
          "choropleth": [
           {
            "colorbar": {
             "outlinewidth": 0,
             "ticks": ""
            },
            "type": "choropleth"
           }
          ],
          "contour": [
           {
            "colorbar": {
             "outlinewidth": 0,
             "ticks": ""
            },
            "colorscale": [
             [
              0,
              "#0d0887"
             ],
             [
              0.1111111111111111,
              "#46039f"
             ],
             [
              0.2222222222222222,
              "#7201a8"
             ],
             [
              0.3333333333333333,
              "#9c179e"
             ],
             [
              0.4444444444444444,
              "#bd3786"
             ],
             [
              0.5555555555555556,
              "#d8576b"
             ],
             [
              0.6666666666666666,
              "#ed7953"
             ],
             [
              0.7777777777777778,
              "#fb9f3a"
             ],
             [
              0.8888888888888888,
              "#fdca26"
             ],
             [
              1,
              "#f0f921"
             ]
            ],
            "type": "contour"
           }
          ],
          "contourcarpet": [
           {
            "colorbar": {
             "outlinewidth": 0,
             "ticks": ""
            },
            "type": "contourcarpet"
           }
          ],
          "heatmap": [
           {
            "colorbar": {
             "outlinewidth": 0,
             "ticks": ""
            },
            "colorscale": [
             [
              0,
              "#0d0887"
             ],
             [
              0.1111111111111111,
              "#46039f"
             ],
             [
              0.2222222222222222,
              "#7201a8"
             ],
             [
              0.3333333333333333,
              "#9c179e"
             ],
             [
              0.4444444444444444,
              "#bd3786"
             ],
             [
              0.5555555555555556,
              "#d8576b"
             ],
             [
              0.6666666666666666,
              "#ed7953"
             ],
             [
              0.7777777777777778,
              "#fb9f3a"
             ],
             [
              0.8888888888888888,
              "#fdca26"
             ],
             [
              1,
              "#f0f921"
             ]
            ],
            "type": "heatmap"
           }
          ],
          "heatmapgl": [
           {
            "colorbar": {
             "outlinewidth": 0,
             "ticks": ""
            },
            "colorscale": [
             [
              0,
              "#0d0887"
             ],
             [
              0.1111111111111111,
              "#46039f"
             ],
             [
              0.2222222222222222,
              "#7201a8"
             ],
             [
              0.3333333333333333,
              "#9c179e"
             ],
             [
              0.4444444444444444,
              "#bd3786"
             ],
             [
              0.5555555555555556,
              "#d8576b"
             ],
             [
              0.6666666666666666,
              "#ed7953"
             ],
             [
              0.7777777777777778,
              "#fb9f3a"
             ],
             [
              0.8888888888888888,
              "#fdca26"
             ],
             [
              1,
              "#f0f921"
             ]
            ],
            "type": "heatmapgl"
           }
          ],
          "histogram": [
           {
            "marker": {
             "pattern": {
              "fillmode": "overlay",
              "size": 10,
              "solidity": 0.2
             }
            },
            "type": "histogram"
           }
          ],
          "histogram2d": [
           {
            "colorbar": {
             "outlinewidth": 0,
             "ticks": ""
            },
            "colorscale": [
             [
              0,
              "#0d0887"
             ],
             [
              0.1111111111111111,
              "#46039f"
             ],
             [
              0.2222222222222222,
              "#7201a8"
             ],
             [
              0.3333333333333333,
              "#9c179e"
             ],
             [
              0.4444444444444444,
              "#bd3786"
             ],
             [
              0.5555555555555556,
              "#d8576b"
             ],
             [
              0.6666666666666666,
              "#ed7953"
             ],
             [
              0.7777777777777778,
              "#fb9f3a"
             ],
             [
              0.8888888888888888,
              "#fdca26"
             ],
             [
              1,
              "#f0f921"
             ]
            ],
            "type": "histogram2d"
           }
          ],
          "histogram2dcontour": [
           {
            "colorbar": {
             "outlinewidth": 0,
             "ticks": ""
            },
            "colorscale": [
             [
              0,
              "#0d0887"
             ],
             [
              0.1111111111111111,
              "#46039f"
             ],
             [
              0.2222222222222222,
              "#7201a8"
             ],
             [
              0.3333333333333333,
              "#9c179e"
             ],
             [
              0.4444444444444444,
              "#bd3786"
             ],
             [
              0.5555555555555556,
              "#d8576b"
             ],
             [
              0.6666666666666666,
              "#ed7953"
             ],
             [
              0.7777777777777778,
              "#fb9f3a"
             ],
             [
              0.8888888888888888,
              "#fdca26"
             ],
             [
              1,
              "#f0f921"
             ]
            ],
            "type": "histogram2dcontour"
           }
          ],
          "mesh3d": [
           {
            "colorbar": {
             "outlinewidth": 0,
             "ticks": ""
            },
            "type": "mesh3d"
           }
          ],
          "parcoords": [
           {
            "line": {
             "colorbar": {
              "outlinewidth": 0,
              "ticks": ""
             }
            },
            "type": "parcoords"
           }
          ],
          "pie": [
           {
            "automargin": true,
            "type": "pie"
           }
          ],
          "scatter": [
           {
            "fillpattern": {
             "fillmode": "overlay",
             "size": 10,
             "solidity": 0.2
            },
            "type": "scatter"
           }
          ],
          "scatter3d": [
           {
            "line": {
             "colorbar": {
              "outlinewidth": 0,
              "ticks": ""
             }
            },
            "marker": {
             "colorbar": {
              "outlinewidth": 0,
              "ticks": ""
             }
            },
            "type": "scatter3d"
           }
          ],
          "scattercarpet": [
           {
            "marker": {
             "colorbar": {
              "outlinewidth": 0,
              "ticks": ""
             }
            },
            "type": "scattercarpet"
           }
          ],
          "scattergeo": [
           {
            "marker": {
             "colorbar": {
              "outlinewidth": 0,
              "ticks": ""
             }
            },
            "type": "scattergeo"
           }
          ],
          "scattergl": [
           {
            "marker": {
             "colorbar": {
              "outlinewidth": 0,
              "ticks": ""
             }
            },
            "type": "scattergl"
           }
          ],
          "scattermapbox": [
           {
            "marker": {
             "colorbar": {
              "outlinewidth": 0,
              "ticks": ""
             }
            },
            "type": "scattermapbox"
           }
          ],
          "scatterpolar": [
           {
            "marker": {
             "colorbar": {
              "outlinewidth": 0,
              "ticks": ""
             }
            },
            "type": "scatterpolar"
           }
          ],
          "scatterpolargl": [
           {
            "marker": {
             "colorbar": {
              "outlinewidth": 0,
              "ticks": ""
             }
            },
            "type": "scatterpolargl"
           }
          ],
          "scatterternary": [
           {
            "marker": {
             "colorbar": {
              "outlinewidth": 0,
              "ticks": ""
             }
            },
            "type": "scatterternary"
           }
          ],
          "surface": [
           {
            "colorbar": {
             "outlinewidth": 0,
             "ticks": ""
            },
            "colorscale": [
             [
              0,
              "#0d0887"
             ],
             [
              0.1111111111111111,
              "#46039f"
             ],
             [
              0.2222222222222222,
              "#7201a8"
             ],
             [
              0.3333333333333333,
              "#9c179e"
             ],
             [
              0.4444444444444444,
              "#bd3786"
             ],
             [
              0.5555555555555556,
              "#d8576b"
             ],
             [
              0.6666666666666666,
              "#ed7953"
             ],
             [
              0.7777777777777778,
              "#fb9f3a"
             ],
             [
              0.8888888888888888,
              "#fdca26"
             ],
             [
              1,
              "#f0f921"
             ]
            ],
            "type": "surface"
           }
          ],
          "table": [
           {
            "cells": {
             "fill": {
              "color": "#EBF0F8"
             },
             "line": {
              "color": "white"
             }
            },
            "header": {
             "fill": {
              "color": "#C8D4E3"
             },
             "line": {
              "color": "white"
             }
            },
            "type": "table"
           }
          ]
         },
         "layout": {
          "annotationdefaults": {
           "arrowcolor": "#2a3f5f",
           "arrowhead": 0,
           "arrowwidth": 1
          },
          "autotypenumbers": "strict",
          "coloraxis": {
           "colorbar": {
            "outlinewidth": 0,
            "ticks": ""
           }
          },
          "colorscale": {
           "diverging": [
            [
             0,
             "#8e0152"
            ],
            [
             0.1,
             "#c51b7d"
            ],
            [
             0.2,
             "#de77ae"
            ],
            [
             0.3,
             "#f1b6da"
            ],
            [
             0.4,
             "#fde0ef"
            ],
            [
             0.5,
             "#f7f7f7"
            ],
            [
             0.6,
             "#e6f5d0"
            ],
            [
             0.7,
             "#b8e186"
            ],
            [
             0.8,
             "#7fbc41"
            ],
            [
             0.9,
             "#4d9221"
            ],
            [
             1,
             "#276419"
            ]
           ],
           "sequential": [
            [
             0,
             "#0d0887"
            ],
            [
             0.1111111111111111,
             "#46039f"
            ],
            [
             0.2222222222222222,
             "#7201a8"
            ],
            [
             0.3333333333333333,
             "#9c179e"
            ],
            [
             0.4444444444444444,
             "#bd3786"
            ],
            [
             0.5555555555555556,
             "#d8576b"
            ],
            [
             0.6666666666666666,
             "#ed7953"
            ],
            [
             0.7777777777777778,
             "#fb9f3a"
            ],
            [
             0.8888888888888888,
             "#fdca26"
            ],
            [
             1,
             "#f0f921"
            ]
           ],
           "sequentialminus": [
            [
             0,
             "#0d0887"
            ],
            [
             0.1111111111111111,
             "#46039f"
            ],
            [
             0.2222222222222222,
             "#7201a8"
            ],
            [
             0.3333333333333333,
             "#9c179e"
            ],
            [
             0.4444444444444444,
             "#bd3786"
            ],
            [
             0.5555555555555556,
             "#d8576b"
            ],
            [
             0.6666666666666666,
             "#ed7953"
            ],
            [
             0.7777777777777778,
             "#fb9f3a"
            ],
            [
             0.8888888888888888,
             "#fdca26"
            ],
            [
             1,
             "#f0f921"
            ]
           ]
          },
          "colorway": [
           "#636efa",
           "#EF553B",
           "#00cc96",
           "#ab63fa",
           "#FFA15A",
           "#19d3f3",
           "#FF6692",
           "#B6E880",
           "#FF97FF",
           "#FECB52"
          ],
          "font": {
           "color": "#2a3f5f"
          },
          "geo": {
           "bgcolor": "white",
           "lakecolor": "white",
           "landcolor": "#E5ECF6",
           "showlakes": true,
           "showland": true,
           "subunitcolor": "white"
          },
          "hoverlabel": {
           "align": "left"
          },
          "hovermode": "closest",
          "mapbox": {
           "style": "light"
          },
          "paper_bgcolor": "white",
          "plot_bgcolor": "#E5ECF6",
          "polar": {
           "angularaxis": {
            "gridcolor": "white",
            "linecolor": "white",
            "ticks": ""
           },
           "bgcolor": "#E5ECF6",
           "radialaxis": {
            "gridcolor": "white",
            "linecolor": "white",
            "ticks": ""
           }
          },
          "scene": {
           "xaxis": {
            "backgroundcolor": "#E5ECF6",
            "gridcolor": "white",
            "gridwidth": 2,
            "linecolor": "white",
            "showbackground": true,
            "ticks": "",
            "zerolinecolor": "white"
           },
           "yaxis": {
            "backgroundcolor": "#E5ECF6",
            "gridcolor": "white",
            "gridwidth": 2,
            "linecolor": "white",
            "showbackground": true,
            "ticks": "",
            "zerolinecolor": "white"
           },
           "zaxis": {
            "backgroundcolor": "#E5ECF6",
            "gridcolor": "white",
            "gridwidth": 2,
            "linecolor": "white",
            "showbackground": true,
            "ticks": "",
            "zerolinecolor": "white"
           }
          },
          "shapedefaults": {
           "line": {
            "color": "#2a3f5f"
           }
          },
          "ternary": {
           "aaxis": {
            "gridcolor": "white",
            "linecolor": "white",
            "ticks": ""
           },
           "baxis": {
            "gridcolor": "white",
            "linecolor": "white",
            "ticks": ""
           },
           "bgcolor": "#E5ECF6",
           "caxis": {
            "gridcolor": "white",
            "linecolor": "white",
            "ticks": ""
           }
          },
          "title": {
           "x": 0.05
          },
          "xaxis": {
           "automargin": true,
           "gridcolor": "white",
           "linecolor": "white",
           "ticks": "",
           "title": {
            "standoff": 15
           },
           "zerolinecolor": "white",
           "zerolinewidth": 2
          },
          "yaxis": {
           "automargin": true,
           "gridcolor": "white",
           "linecolor": "white",
           "ticks": "",
           "title": {
            "standoff": 15
           },
           "zerolinecolor": "white",
           "zerolinewidth": 2
          }
         }
        },
        "title": {
         "text": "Hyperparameter Importances"
        },
        "xaxis": {
         "title": {
          "text": "Hyperparameter Importance"
         }
        },
        "yaxis": {
         "title": {
          "text": "Hyperparameter"
         }
        }
       }
      }
     },
     "metadata": {},
     "output_type": "display_data"
    }
   ],
   "source": [
    "from optuna.visualization import plot_param_importances\n",
    "\n",
    "fig = plot_param_importances(study)\n",
    "fig.show()"
   ]
  },
  {
   "cell_type": "markdown",
   "metadata": {},
   "source": [
    "**Parallel Coordinate Plot**\n",
    "\n",
    "This plot helps visualize the relationships between hyperparameters and the objective value. It’s useful for spotting trends or correlations."
   ]
  },
  {
   "cell_type": "code",
   "execution_count": 5,
   "metadata": {},
   "outputs": [
    {
     "data": {
      "application/vnd.plotly.v1+json": {
       "config": {
        "plotlyServerURL": "https://plot.ly"
       },
       "data": [
        {
         "dimensions": [
          {
           "label": "Objective Value",
           "range": [
            -8354784.425999999,
            -52825.71799999999
           ],
           "values": [
            -54174.15,
            -6877743.058,
            -8354784.425999999,
            -54416.482,
            -52825.71799999999,
            -54039.402,
            -53528.034,
            -52956.621999999996,
            -54188.288,
            -55504.724,
            -53867.774,
            -55281.102,
            -55846.478,
            -55354.58200000001,
            -54913.414000000004,
            -55350.331999999995,
            -55475.382000000005,
            -6277071.776,
            -53744.19,
            -54222.221999999994
           ]
          },
          {
           "label": "batch_size",
           "range": [
            0,
            4
           ],
           "ticktext": [
            "16",
            "32",
            "64",
            "128",
            "256"
           ],
           "tickvals": [
            0,
            1,
            2,
            3,
            4
           ],
           "values": [
            0,
            0,
            1,
            1,
            1,
            1,
            1,
            1,
            1,
            1,
            2,
            2,
            2,
            2,
            3,
            3,
            4,
            4,
            4,
            4
           ]
          },
          {
           "label": "clip_range",
           "range": [
            0.10285132204679967,
            0.3981623321568483
           ],
           "values": [
            0.37860999961664626,
            0.10285132204679967,
            0.17438453927970288,
            0.26637499877020604,
            0.321193255089133,
            0.2849693518063551,
            0.3981623321568483,
            0.2630764493126711,
            0.2207549059953295,
            0.33276105076848844,
            0.2944147149109724,
            0.3567410957919658,
            0.25041073728025975,
            0.15,
            0.15459451637855975,
            0.18565335675148947,
            0.18681078435765253,
            0.24251179186061247,
            0.3363076909153072,
            0.31429606364138596
           ]
          },
          {
           "label": "ent_coef",
           "range": [
            -3.9770139381877385,
            -1.0195673976509776
           ],
           "ticktext": [
            "0.000105",
            "0.001",
            "0.01",
            "0.0956"
           ],
           "tickvals": [
            -3.9770139381877385,
            -3,
            -2,
            -1.0195673976509776
           ],
           "values": [
            -3.9770139381877385,
            -1.0195673976509776,
            -1.0941310343143353,
            -1.6144016661697942,
            -1.7353949934978474,
            -2.0266417530326746,
            -1.4558130092496209,
            -1.9022958831287968,
            -3.0346075729063644,
            -2.1305615681617174,
            -2.397048828679018,
            -3.6607801950707164,
            -2.396057610977443,
            -2,
            -1.720631943641925,
            -3.0971097648486277,
            -2.5137716919042865,
            -1.2686311558889358,
            -1.9502319015848748,
            -2.7480476737189656
           ]
          },
          {
           "label": "gamma",
           "range": [
            0,
            3
           ],
           "ticktext": [
            "0.95",
            "0.97",
            "0.99",
            "0.999"
           ],
           "tickvals": [
            0,
            1,
            2,
            3
           ],
           "values": [
            3,
            3,
            2,
            3,
            3,
            3,
            3,
            3,
            3,
            3,
            0,
            1,
            2,
            2,
            0,
            0,
            0,
            1,
            1,
            1
           ]
          },
          {
           "label": "learning_rate",
           "range": [
            -4.9639659736368476,
            -2.007418250695147
           ],
           "ticktext": [
            "1.09e-05",
            "0.0001",
            "0.001",
            "0.00983"
           ],
           "tickvals": [
            -4.9639659736368476,
            -4,
            -3,
            -2.007418250695147
           ],
           "values": [
            -4.9639659736368476,
            -4.616870304667242,
            -3.608319102237523,
            -4.585086312035466,
            -4.125560697157544,
            -4.208154082744341,
            -2.9196081356615524,
            -4.043485086952086,
            -3.2200927889399176,
            -2.007418250695147,
            -4.1036491398662,
            -2.857098056181843,
            -3.690212502393749,
            -3.5228787452803374,
            -3.3490525877804096,
            -4.517175850449192,
            -2.319250363612508,
            -2.588818251635155,
            -3.851065218221786,
            -4.207660540078128
           ]
          },
          {
           "label": "n_steps",
           "range": [
            0,
            4
           ],
           "ticktext": [
            "128",
            "256",
            "512",
            "1024",
            "2048"
           ],
           "tickvals": [
            0,
            1,
            2,
            3,
            4
           ],
           "values": [
            2,
            2,
            0,
            0,
            2,
            2,
            3,
            4,
            4,
            4,
            4,
            2,
            1,
            4,
            1,
            3,
            1,
            1,
            2,
            4
           ]
          },
          {
           "label": "vf_coef",
           "range": [
            0.10687633648985499,
            0.95638517507878
           ],
           "values": [
            0.7660662297530773,
            0.8102344169718921,
            0.95638517507878,
            0.10687633648985499,
            0.7554611876239332,
            0.6490619246022484,
            0.3276379009688698,
            0.11492751627263009,
            0.5003494908161767,
            0.25815310478046444,
            0.2213326366249019,
            0.8311182480602305,
            0.9380400576794671,
            0.5,
            0.6209676850887675,
            0.3252961331886048,
            0.6236556946071977,
            0.41879709330381787,
            0.7551510755325068,
            0.15531908586787582
           ]
          }
         ],
         "labelangle": 30,
         "labelside": "bottom",
         "line": {
          "color": [
           -54174.15,
           -6877743.058,
           -8354784.425999999,
           -54416.482,
           -52825.71799999999,
           -54039.402,
           -53528.034,
           -52956.621999999996,
           -54188.288,
           -55504.724,
           -53867.774,
           -55281.102,
           -55846.478,
           -55354.58200000001,
           -54913.414000000004,
           -55350.331999999995,
           -55475.382000000005,
           -6277071.776,
           -53744.19,
           -54222.221999999994
          ],
          "colorbar": {
           "title": {
            "text": "Objective Value"
           }
          },
          "colorscale": [
           [
            0,
            "rgb(247,251,255)"
           ],
           [
            0.125,
            "rgb(222,235,247)"
           ],
           [
            0.25,
            "rgb(198,219,239)"
           ],
           [
            0.375,
            "rgb(158,202,225)"
           ],
           [
            0.5,
            "rgb(107,174,214)"
           ],
           [
            0.625,
            "rgb(66,146,198)"
           ],
           [
            0.75,
            "rgb(33,113,181)"
           ],
           [
            0.875,
            "rgb(8,81,156)"
           ],
           [
            1,
            "rgb(8,48,107)"
           ]
          ],
          "reversescale": false,
          "showscale": true
         },
         "type": "parcoords"
        }
       ],
       "layout": {
        "template": {
         "data": {
          "bar": [
           {
            "error_x": {
             "color": "#2a3f5f"
            },
            "error_y": {
             "color": "#2a3f5f"
            },
            "marker": {
             "line": {
              "color": "#E5ECF6",
              "width": 0.5
             },
             "pattern": {
              "fillmode": "overlay",
              "size": 10,
              "solidity": 0.2
             }
            },
            "type": "bar"
           }
          ],
          "barpolar": [
           {
            "marker": {
             "line": {
              "color": "#E5ECF6",
              "width": 0.5
             },
             "pattern": {
              "fillmode": "overlay",
              "size": 10,
              "solidity": 0.2
             }
            },
            "type": "barpolar"
           }
          ],
          "carpet": [
           {
            "aaxis": {
             "endlinecolor": "#2a3f5f",
             "gridcolor": "white",
             "linecolor": "white",
             "minorgridcolor": "white",
             "startlinecolor": "#2a3f5f"
            },
            "baxis": {
             "endlinecolor": "#2a3f5f",
             "gridcolor": "white",
             "linecolor": "white",
             "minorgridcolor": "white",
             "startlinecolor": "#2a3f5f"
            },
            "type": "carpet"
           }
          ],
          "choropleth": [
           {
            "colorbar": {
             "outlinewidth": 0,
             "ticks": ""
            },
            "type": "choropleth"
           }
          ],
          "contour": [
           {
            "colorbar": {
             "outlinewidth": 0,
             "ticks": ""
            },
            "colorscale": [
             [
              0,
              "#0d0887"
             ],
             [
              0.1111111111111111,
              "#46039f"
             ],
             [
              0.2222222222222222,
              "#7201a8"
             ],
             [
              0.3333333333333333,
              "#9c179e"
             ],
             [
              0.4444444444444444,
              "#bd3786"
             ],
             [
              0.5555555555555556,
              "#d8576b"
             ],
             [
              0.6666666666666666,
              "#ed7953"
             ],
             [
              0.7777777777777778,
              "#fb9f3a"
             ],
             [
              0.8888888888888888,
              "#fdca26"
             ],
             [
              1,
              "#f0f921"
             ]
            ],
            "type": "contour"
           }
          ],
          "contourcarpet": [
           {
            "colorbar": {
             "outlinewidth": 0,
             "ticks": ""
            },
            "type": "contourcarpet"
           }
          ],
          "heatmap": [
           {
            "colorbar": {
             "outlinewidth": 0,
             "ticks": ""
            },
            "colorscale": [
             [
              0,
              "#0d0887"
             ],
             [
              0.1111111111111111,
              "#46039f"
             ],
             [
              0.2222222222222222,
              "#7201a8"
             ],
             [
              0.3333333333333333,
              "#9c179e"
             ],
             [
              0.4444444444444444,
              "#bd3786"
             ],
             [
              0.5555555555555556,
              "#d8576b"
             ],
             [
              0.6666666666666666,
              "#ed7953"
             ],
             [
              0.7777777777777778,
              "#fb9f3a"
             ],
             [
              0.8888888888888888,
              "#fdca26"
             ],
             [
              1,
              "#f0f921"
             ]
            ],
            "type": "heatmap"
           }
          ],
          "heatmapgl": [
           {
            "colorbar": {
             "outlinewidth": 0,
             "ticks": ""
            },
            "colorscale": [
             [
              0,
              "#0d0887"
             ],
             [
              0.1111111111111111,
              "#46039f"
             ],
             [
              0.2222222222222222,
              "#7201a8"
             ],
             [
              0.3333333333333333,
              "#9c179e"
             ],
             [
              0.4444444444444444,
              "#bd3786"
             ],
             [
              0.5555555555555556,
              "#d8576b"
             ],
             [
              0.6666666666666666,
              "#ed7953"
             ],
             [
              0.7777777777777778,
              "#fb9f3a"
             ],
             [
              0.8888888888888888,
              "#fdca26"
             ],
             [
              1,
              "#f0f921"
             ]
            ],
            "type": "heatmapgl"
           }
          ],
          "histogram": [
           {
            "marker": {
             "pattern": {
              "fillmode": "overlay",
              "size": 10,
              "solidity": 0.2
             }
            },
            "type": "histogram"
           }
          ],
          "histogram2d": [
           {
            "colorbar": {
             "outlinewidth": 0,
             "ticks": ""
            },
            "colorscale": [
             [
              0,
              "#0d0887"
             ],
             [
              0.1111111111111111,
              "#46039f"
             ],
             [
              0.2222222222222222,
              "#7201a8"
             ],
             [
              0.3333333333333333,
              "#9c179e"
             ],
             [
              0.4444444444444444,
              "#bd3786"
             ],
             [
              0.5555555555555556,
              "#d8576b"
             ],
             [
              0.6666666666666666,
              "#ed7953"
             ],
             [
              0.7777777777777778,
              "#fb9f3a"
             ],
             [
              0.8888888888888888,
              "#fdca26"
             ],
             [
              1,
              "#f0f921"
             ]
            ],
            "type": "histogram2d"
           }
          ],
          "histogram2dcontour": [
           {
            "colorbar": {
             "outlinewidth": 0,
             "ticks": ""
            },
            "colorscale": [
             [
              0,
              "#0d0887"
             ],
             [
              0.1111111111111111,
              "#46039f"
             ],
             [
              0.2222222222222222,
              "#7201a8"
             ],
             [
              0.3333333333333333,
              "#9c179e"
             ],
             [
              0.4444444444444444,
              "#bd3786"
             ],
             [
              0.5555555555555556,
              "#d8576b"
             ],
             [
              0.6666666666666666,
              "#ed7953"
             ],
             [
              0.7777777777777778,
              "#fb9f3a"
             ],
             [
              0.8888888888888888,
              "#fdca26"
             ],
             [
              1,
              "#f0f921"
             ]
            ],
            "type": "histogram2dcontour"
           }
          ],
          "mesh3d": [
           {
            "colorbar": {
             "outlinewidth": 0,
             "ticks": ""
            },
            "type": "mesh3d"
           }
          ],
          "parcoords": [
           {
            "line": {
             "colorbar": {
              "outlinewidth": 0,
              "ticks": ""
             }
            },
            "type": "parcoords"
           }
          ],
          "pie": [
           {
            "automargin": true,
            "type": "pie"
           }
          ],
          "scatter": [
           {
            "fillpattern": {
             "fillmode": "overlay",
             "size": 10,
             "solidity": 0.2
            },
            "type": "scatter"
           }
          ],
          "scatter3d": [
           {
            "line": {
             "colorbar": {
              "outlinewidth": 0,
              "ticks": ""
             }
            },
            "marker": {
             "colorbar": {
              "outlinewidth": 0,
              "ticks": ""
             }
            },
            "type": "scatter3d"
           }
          ],
          "scattercarpet": [
           {
            "marker": {
             "colorbar": {
              "outlinewidth": 0,
              "ticks": ""
             }
            },
            "type": "scattercarpet"
           }
          ],
          "scattergeo": [
           {
            "marker": {
             "colorbar": {
              "outlinewidth": 0,
              "ticks": ""
             }
            },
            "type": "scattergeo"
           }
          ],
          "scattergl": [
           {
            "marker": {
             "colorbar": {
              "outlinewidth": 0,
              "ticks": ""
             }
            },
            "type": "scattergl"
           }
          ],
          "scattermapbox": [
           {
            "marker": {
             "colorbar": {
              "outlinewidth": 0,
              "ticks": ""
             }
            },
            "type": "scattermapbox"
           }
          ],
          "scatterpolar": [
           {
            "marker": {
             "colorbar": {
              "outlinewidth": 0,
              "ticks": ""
             }
            },
            "type": "scatterpolar"
           }
          ],
          "scatterpolargl": [
           {
            "marker": {
             "colorbar": {
              "outlinewidth": 0,
              "ticks": ""
             }
            },
            "type": "scatterpolargl"
           }
          ],
          "scatterternary": [
           {
            "marker": {
             "colorbar": {
              "outlinewidth": 0,
              "ticks": ""
             }
            },
            "type": "scatterternary"
           }
          ],
          "surface": [
           {
            "colorbar": {
             "outlinewidth": 0,
             "ticks": ""
            },
            "colorscale": [
             [
              0,
              "#0d0887"
             ],
             [
              0.1111111111111111,
              "#46039f"
             ],
             [
              0.2222222222222222,
              "#7201a8"
             ],
             [
              0.3333333333333333,
              "#9c179e"
             ],
             [
              0.4444444444444444,
              "#bd3786"
             ],
             [
              0.5555555555555556,
              "#d8576b"
             ],
             [
              0.6666666666666666,
              "#ed7953"
             ],
             [
              0.7777777777777778,
              "#fb9f3a"
             ],
             [
              0.8888888888888888,
              "#fdca26"
             ],
             [
              1,
              "#f0f921"
             ]
            ],
            "type": "surface"
           }
          ],
          "table": [
           {
            "cells": {
             "fill": {
              "color": "#EBF0F8"
             },
             "line": {
              "color": "white"
             }
            },
            "header": {
             "fill": {
              "color": "#C8D4E3"
             },
             "line": {
              "color": "white"
             }
            },
            "type": "table"
           }
          ]
         },
         "layout": {
          "annotationdefaults": {
           "arrowcolor": "#2a3f5f",
           "arrowhead": 0,
           "arrowwidth": 1
          },
          "autotypenumbers": "strict",
          "coloraxis": {
           "colorbar": {
            "outlinewidth": 0,
            "ticks": ""
           }
          },
          "colorscale": {
           "diverging": [
            [
             0,
             "#8e0152"
            ],
            [
             0.1,
             "#c51b7d"
            ],
            [
             0.2,
             "#de77ae"
            ],
            [
             0.3,
             "#f1b6da"
            ],
            [
             0.4,
             "#fde0ef"
            ],
            [
             0.5,
             "#f7f7f7"
            ],
            [
             0.6,
             "#e6f5d0"
            ],
            [
             0.7,
             "#b8e186"
            ],
            [
             0.8,
             "#7fbc41"
            ],
            [
             0.9,
             "#4d9221"
            ],
            [
             1,
             "#276419"
            ]
           ],
           "sequential": [
            [
             0,
             "#0d0887"
            ],
            [
             0.1111111111111111,
             "#46039f"
            ],
            [
             0.2222222222222222,
             "#7201a8"
            ],
            [
             0.3333333333333333,
             "#9c179e"
            ],
            [
             0.4444444444444444,
             "#bd3786"
            ],
            [
             0.5555555555555556,
             "#d8576b"
            ],
            [
             0.6666666666666666,
             "#ed7953"
            ],
            [
             0.7777777777777778,
             "#fb9f3a"
            ],
            [
             0.8888888888888888,
             "#fdca26"
            ],
            [
             1,
             "#f0f921"
            ]
           ],
           "sequentialminus": [
            [
             0,
             "#0d0887"
            ],
            [
             0.1111111111111111,
             "#46039f"
            ],
            [
             0.2222222222222222,
             "#7201a8"
            ],
            [
             0.3333333333333333,
             "#9c179e"
            ],
            [
             0.4444444444444444,
             "#bd3786"
            ],
            [
             0.5555555555555556,
             "#d8576b"
            ],
            [
             0.6666666666666666,
             "#ed7953"
            ],
            [
             0.7777777777777778,
             "#fb9f3a"
            ],
            [
             0.8888888888888888,
             "#fdca26"
            ],
            [
             1,
             "#f0f921"
            ]
           ]
          },
          "colorway": [
           "#636efa",
           "#EF553B",
           "#00cc96",
           "#ab63fa",
           "#FFA15A",
           "#19d3f3",
           "#FF6692",
           "#B6E880",
           "#FF97FF",
           "#FECB52"
          ],
          "font": {
           "color": "#2a3f5f"
          },
          "geo": {
           "bgcolor": "white",
           "lakecolor": "white",
           "landcolor": "#E5ECF6",
           "showlakes": true,
           "showland": true,
           "subunitcolor": "white"
          },
          "hoverlabel": {
           "align": "left"
          },
          "hovermode": "closest",
          "mapbox": {
           "style": "light"
          },
          "paper_bgcolor": "white",
          "plot_bgcolor": "#E5ECF6",
          "polar": {
           "angularaxis": {
            "gridcolor": "white",
            "linecolor": "white",
            "ticks": ""
           },
           "bgcolor": "#E5ECF6",
           "radialaxis": {
            "gridcolor": "white",
            "linecolor": "white",
            "ticks": ""
           }
          },
          "scene": {
           "xaxis": {
            "backgroundcolor": "#E5ECF6",
            "gridcolor": "white",
            "gridwidth": 2,
            "linecolor": "white",
            "showbackground": true,
            "ticks": "",
            "zerolinecolor": "white"
           },
           "yaxis": {
            "backgroundcolor": "#E5ECF6",
            "gridcolor": "white",
            "gridwidth": 2,
            "linecolor": "white",
            "showbackground": true,
            "ticks": "",
            "zerolinecolor": "white"
           },
           "zaxis": {
            "backgroundcolor": "#E5ECF6",
            "gridcolor": "white",
            "gridwidth": 2,
            "linecolor": "white",
            "showbackground": true,
            "ticks": "",
            "zerolinecolor": "white"
           }
          },
          "shapedefaults": {
           "line": {
            "color": "#2a3f5f"
           }
          },
          "ternary": {
           "aaxis": {
            "gridcolor": "white",
            "linecolor": "white",
            "ticks": ""
           },
           "baxis": {
            "gridcolor": "white",
            "linecolor": "white",
            "ticks": ""
           },
           "bgcolor": "#E5ECF6",
           "caxis": {
            "gridcolor": "white",
            "linecolor": "white",
            "ticks": ""
           }
          },
          "title": {
           "x": 0.05
          },
          "xaxis": {
           "automargin": true,
           "gridcolor": "white",
           "linecolor": "white",
           "ticks": "",
           "title": {
            "standoff": 15
           },
           "zerolinecolor": "white",
           "zerolinewidth": 2
          },
          "yaxis": {
           "automargin": true,
           "gridcolor": "white",
           "linecolor": "white",
           "ticks": "",
           "title": {
            "standoff": 15
           },
           "zerolinecolor": "white",
           "zerolinewidth": 2
          }
         }
        },
        "title": {
         "text": "Parallel Coordinate Plot"
        }
       }
      }
     },
     "metadata": {},
     "output_type": "display_data"
    }
   ],
   "source": [
    "from optuna.visualization import plot_parallel_coordinate\n",
    "\n",
    "fig = plot_parallel_coordinate(study)\n",
    "fig.show()"
   ]
  },
  {
   "cell_type": "markdown",
   "metadata": {},
   "source": [
    "**Slice Plot**\n",
    "\n",
    "This plot visualizes the objective value across the range of each hyperparameter, helping understand how each parameter influences the outcome."
   ]
  },
  {
   "cell_type": "code",
   "execution_count": 6,
   "metadata": {},
   "outputs": [
    {
     "data": {
      "application/vnd.plotly.v1+json": {
       "config": {
        "plotlyServerURL": "https://plot.ly"
       },
       "data": [
        {
         "marker": {
          "color": [
           0,
           1,
           2,
           3,
           4,
           5,
           6,
           7,
           8,
           9,
           10,
           11,
           12,
           13,
           14,
           15,
           16,
           17,
           18,
           19
          ],
          "colorbar": {
           "title": {
            "text": "Trial"
           },
           "x": 1,
           "xpad": 40
          },
          "colorscale": [
           [
            0,
            "rgb(247,251,255)"
           ],
           [
            0.125,
            "rgb(222,235,247)"
           ],
           [
            0.25,
            "rgb(198,219,239)"
           ],
           [
            0.375,
            "rgb(158,202,225)"
           ],
           [
            0.5,
            "rgb(107,174,214)"
           ],
           [
            0.625,
            "rgb(66,146,198)"
           ],
           [
            0.75,
            "rgb(33,113,181)"
           ],
           [
            0.875,
            "rgb(8,81,156)"
           ],
           [
            1,
            "rgb(8,48,107)"
           ]
          ],
          "line": {
           "color": "Grey",
           "width": 0.5
          },
          "showscale": true
         },
         "mode": "markers",
         "name": "Feasible Trial",
         "showlegend": false,
         "type": "scatter",
         "x": [
          64,
          256,
          64,
          128,
          256,
          128,
          64,
          256,
          64,
          32,
          16,
          256,
          32,
          32,
          32,
          32,
          32,
          32,
          16,
          32
         ],
         "xaxis": "x",
         "y": [
          -55354.58200000001,
          -55475.382000000005,
          -55846.478,
          -55350.331999999995,
          -6277071.776,
          -54913.414000000004,
          -53867.774,
          -53744.19,
          -55281.102,
          -8354784.425999999,
          -54174.15,
          -54222.221999999994,
          -52956.621999999996,
          -52825.71799999999,
          -54416.482,
          -53528.034,
          -54039.402,
          -54188.288,
          -6877743.058,
          -55504.724
         ],
         "yaxis": "y"
        },
        {
         "marker": {
          "color": [
           0,
           1,
           2,
           3,
           4,
           5,
           6,
           7,
           8,
           9,
           10,
           11,
           12,
           13,
           14,
           15,
           16,
           17,
           18,
           19
          ],
          "colorbar": {
           "title": {
            "text": "Trial"
           },
           "x": 1,
           "xpad": 40
          },
          "colorscale": [
           [
            0,
            "rgb(247,251,255)"
           ],
           [
            0.125,
            "rgb(222,235,247)"
           ],
           [
            0.25,
            "rgb(198,219,239)"
           ],
           [
            0.375,
            "rgb(158,202,225)"
           ],
           [
            0.5,
            "rgb(107,174,214)"
           ],
           [
            0.625,
            "rgb(66,146,198)"
           ],
           [
            0.75,
            "rgb(33,113,181)"
           ],
           [
            0.875,
            "rgb(8,81,156)"
           ],
           [
            1,
            "rgb(8,48,107)"
           ]
          ],
          "line": {
           "color": "Grey",
           "width": 0.5
          },
          "showscale": false
         },
         "mode": "markers",
         "name": "Feasible Trial",
         "showlegend": false,
         "type": "scatter",
         "x": [
          0.15,
          0.18681078435765253,
          0.25041073728025975,
          0.18565335675148947,
          0.24251179186061247,
          0.15459451637855975,
          0.2944147149109724,
          0.3363076909153072,
          0.3567410957919658,
          0.17438453927970288,
          0.37860999961664626,
          0.31429606364138596,
          0.2630764493126711,
          0.321193255089133,
          0.26637499877020604,
          0.3981623321568483,
          0.2849693518063551,
          0.2207549059953295,
          0.10285132204679967,
          0.33276105076848844
         ],
         "xaxis": "x2",
         "y": [
          -55354.58200000001,
          -55475.382000000005,
          -55846.478,
          -55350.331999999995,
          -6277071.776,
          -54913.414000000004,
          -53867.774,
          -53744.19,
          -55281.102,
          -8354784.425999999,
          -54174.15,
          -54222.221999999994,
          -52956.621999999996,
          -52825.71799999999,
          -54416.482,
          -53528.034,
          -54039.402,
          -54188.288,
          -6877743.058,
          -55504.724
         ],
         "yaxis": "y2"
        },
        {
         "marker": {
          "color": [
           0,
           1,
           2,
           3,
           4,
           5,
           6,
           7,
           8,
           9,
           10,
           11,
           12,
           13,
           14,
           15,
           16,
           17,
           18,
           19
          ],
          "colorbar": {
           "title": {
            "text": "Trial"
           },
           "x": 1,
           "xpad": 40
          },
          "colorscale": [
           [
            0,
            "rgb(247,251,255)"
           ],
           [
            0.125,
            "rgb(222,235,247)"
           ],
           [
            0.25,
            "rgb(198,219,239)"
           ],
           [
            0.375,
            "rgb(158,202,225)"
           ],
           [
            0.5,
            "rgb(107,174,214)"
           ],
           [
            0.625,
            "rgb(66,146,198)"
           ],
           [
            0.75,
            "rgb(33,113,181)"
           ],
           [
            0.875,
            "rgb(8,81,156)"
           ],
           [
            1,
            "rgb(8,48,107)"
           ]
          ],
          "line": {
           "color": "Grey",
           "width": 0.5
          },
          "showscale": false
         },
         "mode": "markers",
         "name": "Feasible Trial",
         "showlegend": false,
         "type": "scatter",
         "x": [
          0.01,
          0.0030635735274230193,
          0.004017375151542843,
          0.0007996321281186954,
          0.053872712650775374,
          0.019026900906968597,
          0.0040082164983855865,
          0.011214194865239198,
          0.0002183834913739417,
          0.08051354809558334,
          0.00010543530575853422,
          0.0017862914778816626,
          0.012522877055348854,
          0.018390985691451717,
          0.02429955575166297,
          0.035009587260110664,
          0.009404988026095698,
          0.000923405436469188,
          0.095594433162897,
          0.007403523032770856
         ],
         "xaxis": "x3",
         "y": [
          -55354.58200000001,
          -55475.382000000005,
          -55846.478,
          -55350.331999999995,
          -6277071.776,
          -54913.414000000004,
          -53867.774,
          -53744.19,
          -55281.102,
          -8354784.425999999,
          -54174.15,
          -54222.221999999994,
          -52956.621999999996,
          -52825.71799999999,
          -54416.482,
          -53528.034,
          -54039.402,
          -54188.288,
          -6877743.058,
          -55504.724
         ],
         "yaxis": "y3"
        },
        {
         "marker": {
          "color": [
           0,
           1,
           2,
           3,
           4,
           5,
           6,
           7,
           8,
           9,
           10,
           11,
           12,
           13,
           14,
           15,
           16,
           17,
           18,
           19
          ],
          "colorbar": {
           "title": {
            "text": "Trial"
           },
           "x": 1,
           "xpad": 40
          },
          "colorscale": [
           [
            0,
            "rgb(247,251,255)"
           ],
           [
            0.125,
            "rgb(222,235,247)"
           ],
           [
            0.25,
            "rgb(198,219,239)"
           ],
           [
            0.375,
            "rgb(158,202,225)"
           ],
           [
            0.5,
            "rgb(107,174,214)"
           ],
           [
            0.625,
            "rgb(66,146,198)"
           ],
           [
            0.75,
            "rgb(33,113,181)"
           ],
           [
            0.875,
            "rgb(8,81,156)"
           ],
           [
            1,
            "rgb(8,48,107)"
           ]
          ],
          "line": {
           "color": "Grey",
           "width": 0.5
          },
          "showscale": false
         },
         "mode": "markers",
         "name": "Feasible Trial",
         "showlegend": false,
         "type": "scatter",
         "x": [
          0.99,
          0.95,
          0.99,
          0.95,
          0.97,
          0.95,
          0.95,
          0.97,
          0.97,
          0.99,
          0.999,
          0.97,
          0.999,
          0.999,
          0.999,
          0.999,
          0.999,
          0.999,
          0.999,
          0.999
         ],
         "xaxis": "x4",
         "y": [
          -55354.58200000001,
          -55475.382000000005,
          -55846.478,
          -55350.331999999995,
          -6277071.776,
          -54913.414000000004,
          -53867.774,
          -53744.19,
          -55281.102,
          -8354784.425999999,
          -54174.15,
          -54222.221999999994,
          -52956.621999999996,
          -52825.71799999999,
          -54416.482,
          -53528.034,
          -54039.402,
          -54188.288,
          -6877743.058,
          -55504.724
         ],
         "yaxis": "y4"
        },
        {
         "marker": {
          "color": [
           0,
           1,
           2,
           3,
           4,
           5,
           6,
           7,
           8,
           9,
           10,
           11,
           12,
           13,
           14,
           15,
           16,
           17,
           18,
           19
          ],
          "colorbar": {
           "title": {
            "text": "Trial"
           },
           "x": 1,
           "xpad": 40
          },
          "colorscale": [
           [
            0,
            "rgb(247,251,255)"
           ],
           [
            0.125,
            "rgb(222,235,247)"
           ],
           [
            0.25,
            "rgb(198,219,239)"
           ],
           [
            0.375,
            "rgb(158,202,225)"
           ],
           [
            0.5,
            "rgb(107,174,214)"
           ],
           [
            0.625,
            "rgb(66,146,198)"
           ],
           [
            0.75,
            "rgb(33,113,181)"
           ],
           [
            0.875,
            "rgb(8,81,156)"
           ],
           [
            1,
            "rgb(8,48,107)"
           ]
          ],
          "line": {
           "color": "Grey",
           "width": 0.5
          },
          "showscale": false
         },
         "mode": "markers",
         "name": "Feasible Trial",
         "showlegend": false,
         "type": "scatter",
         "x": [
          0.0003,
          0.004794569699089756,
          0.0002040739156778681,
          0.000030396539882732285,
          0.00257739955004777,
          0.0004476590948218718,
          0.00007876818893430757,
          0.0001409077180700703,
          0.0013896388393775268,
          0.00024642280555448395,
          0.00001086510746874547,
          0.00006199254413961387,
          0.00009047215040400252,
          0.00007489266809258986,
          0.000025996428567044415,
          0.001203349728557282,
          0.00006192213434077147,
          0.0006024308603014506,
          0.000024161822821989798,
          0.009830639023539483
         ],
         "xaxis": "x5",
         "y": [
          -55354.58200000001,
          -55475.382000000005,
          -55846.478,
          -55350.331999999995,
          -6277071.776,
          -54913.414000000004,
          -53867.774,
          -53744.19,
          -55281.102,
          -8354784.425999999,
          -54174.15,
          -54222.221999999994,
          -52956.621999999996,
          -52825.71799999999,
          -54416.482,
          -53528.034,
          -54039.402,
          -54188.288,
          -6877743.058,
          -55504.724
         ],
         "yaxis": "y5"
        },
        {
         "marker": {
          "color": [
           0,
           1,
           2,
           3,
           4,
           5,
           6,
           7,
           8,
           9,
           10,
           11,
           12,
           13,
           14,
           15,
           16,
           17,
           18,
           19
          ],
          "colorbar": {
           "title": {
            "text": "Trial"
           },
           "x": 1,
           "xpad": 40
          },
          "colorscale": [
           [
            0,
            "rgb(247,251,255)"
           ],
           [
            0.125,
            "rgb(222,235,247)"
           ],
           [
            0.25,
            "rgb(198,219,239)"
           ],
           [
            0.375,
            "rgb(158,202,225)"
           ],
           [
            0.5,
            "rgb(107,174,214)"
           ],
           [
            0.625,
            "rgb(66,146,198)"
           ],
           [
            0.75,
            "rgb(33,113,181)"
           ],
           [
            0.875,
            "rgb(8,81,156)"
           ],
           [
            1,
            "rgb(8,48,107)"
           ]
          ],
          "line": {
           "color": "Grey",
           "width": 0.5
          },
          "showscale": false
         },
         "mode": "markers",
         "name": "Feasible Trial",
         "showlegend": false,
         "type": "scatter",
         "x": [
          2048,
          256,
          256,
          1024,
          256,
          256,
          2048,
          512,
          512,
          128,
          512,
          2048,
          2048,
          512,
          128,
          1024,
          512,
          2048,
          512,
          2048
         ],
         "xaxis": "x6",
         "y": [
          -55354.58200000001,
          -55475.382000000005,
          -55846.478,
          -55350.331999999995,
          -6277071.776,
          -54913.414000000004,
          -53867.774,
          -53744.19,
          -55281.102,
          -8354784.425999999,
          -54174.15,
          -54222.221999999994,
          -52956.621999999996,
          -52825.71799999999,
          -54416.482,
          -53528.034,
          -54039.402,
          -54188.288,
          -6877743.058,
          -55504.724
         ],
         "yaxis": "y6"
        },
        {
         "marker": {
          "color": [
           0,
           1,
           2,
           3,
           4,
           5,
           6,
           7,
           8,
           9,
           10,
           11,
           12,
           13,
           14,
           15,
           16,
           17,
           18,
           19
          ],
          "colorbar": {
           "title": {
            "text": "Trial"
           },
           "x": 1,
           "xpad": 40
          },
          "colorscale": [
           [
            0,
            "rgb(247,251,255)"
           ],
           [
            0.125,
            "rgb(222,235,247)"
           ],
           [
            0.25,
            "rgb(198,219,239)"
           ],
           [
            0.375,
            "rgb(158,202,225)"
           ],
           [
            0.5,
            "rgb(107,174,214)"
           ],
           [
            0.625,
            "rgb(66,146,198)"
           ],
           [
            0.75,
            "rgb(33,113,181)"
           ],
           [
            0.875,
            "rgb(8,81,156)"
           ],
           [
            1,
            "rgb(8,48,107)"
           ]
          ],
          "line": {
           "color": "Grey",
           "width": 0.5
          },
          "showscale": false
         },
         "mode": "markers",
         "name": "Feasible Trial",
         "showlegend": false,
         "type": "scatter",
         "x": [
          0.5,
          0.6236556946071977,
          0.9380400576794671,
          0.3252961331886048,
          0.41879709330381787,
          0.6209676850887675,
          0.2213326366249019,
          0.7551510755325068,
          0.8311182480602305,
          0.95638517507878,
          0.7660662297530773,
          0.15531908586787582,
          0.11492751627263009,
          0.7554611876239332,
          0.10687633648985499,
          0.3276379009688698,
          0.6490619246022484,
          0.5003494908161767,
          0.8102344169718921,
          0.25815310478046444
         ],
         "xaxis": "x7",
         "y": [
          -55354.58200000001,
          -55475.382000000005,
          -55846.478,
          -55350.331999999995,
          -6277071.776,
          -54913.414000000004,
          -53867.774,
          -53744.19,
          -55281.102,
          -8354784.425999999,
          -54174.15,
          -54222.221999999994,
          -52956.621999999996,
          -52825.71799999999,
          -54416.482,
          -53528.034,
          -54039.402,
          -54188.288,
          -6877743.058,
          -55504.724
         ],
         "yaxis": "y7"
        }
       ],
       "layout": {
        "template": {
         "data": {
          "bar": [
           {
            "error_x": {
             "color": "#2a3f5f"
            },
            "error_y": {
             "color": "#2a3f5f"
            },
            "marker": {
             "line": {
              "color": "#E5ECF6",
              "width": 0.5
             },
             "pattern": {
              "fillmode": "overlay",
              "size": 10,
              "solidity": 0.2
             }
            },
            "type": "bar"
           }
          ],
          "barpolar": [
           {
            "marker": {
             "line": {
              "color": "#E5ECF6",
              "width": 0.5
             },
             "pattern": {
              "fillmode": "overlay",
              "size": 10,
              "solidity": 0.2
             }
            },
            "type": "barpolar"
           }
          ],
          "carpet": [
           {
            "aaxis": {
             "endlinecolor": "#2a3f5f",
             "gridcolor": "white",
             "linecolor": "white",
             "minorgridcolor": "white",
             "startlinecolor": "#2a3f5f"
            },
            "baxis": {
             "endlinecolor": "#2a3f5f",
             "gridcolor": "white",
             "linecolor": "white",
             "minorgridcolor": "white",
             "startlinecolor": "#2a3f5f"
            },
            "type": "carpet"
           }
          ],
          "choropleth": [
           {
            "colorbar": {
             "outlinewidth": 0,
             "ticks": ""
            },
            "type": "choropleth"
           }
          ],
          "contour": [
           {
            "colorbar": {
             "outlinewidth": 0,
             "ticks": ""
            },
            "colorscale": [
             [
              0,
              "#0d0887"
             ],
             [
              0.1111111111111111,
              "#46039f"
             ],
             [
              0.2222222222222222,
              "#7201a8"
             ],
             [
              0.3333333333333333,
              "#9c179e"
             ],
             [
              0.4444444444444444,
              "#bd3786"
             ],
             [
              0.5555555555555556,
              "#d8576b"
             ],
             [
              0.6666666666666666,
              "#ed7953"
             ],
             [
              0.7777777777777778,
              "#fb9f3a"
             ],
             [
              0.8888888888888888,
              "#fdca26"
             ],
             [
              1,
              "#f0f921"
             ]
            ],
            "type": "contour"
           }
          ],
          "contourcarpet": [
           {
            "colorbar": {
             "outlinewidth": 0,
             "ticks": ""
            },
            "type": "contourcarpet"
           }
          ],
          "heatmap": [
           {
            "colorbar": {
             "outlinewidth": 0,
             "ticks": ""
            },
            "colorscale": [
             [
              0,
              "#0d0887"
             ],
             [
              0.1111111111111111,
              "#46039f"
             ],
             [
              0.2222222222222222,
              "#7201a8"
             ],
             [
              0.3333333333333333,
              "#9c179e"
             ],
             [
              0.4444444444444444,
              "#bd3786"
             ],
             [
              0.5555555555555556,
              "#d8576b"
             ],
             [
              0.6666666666666666,
              "#ed7953"
             ],
             [
              0.7777777777777778,
              "#fb9f3a"
             ],
             [
              0.8888888888888888,
              "#fdca26"
             ],
             [
              1,
              "#f0f921"
             ]
            ],
            "type": "heatmap"
           }
          ],
          "heatmapgl": [
           {
            "colorbar": {
             "outlinewidth": 0,
             "ticks": ""
            },
            "colorscale": [
             [
              0,
              "#0d0887"
             ],
             [
              0.1111111111111111,
              "#46039f"
             ],
             [
              0.2222222222222222,
              "#7201a8"
             ],
             [
              0.3333333333333333,
              "#9c179e"
             ],
             [
              0.4444444444444444,
              "#bd3786"
             ],
             [
              0.5555555555555556,
              "#d8576b"
             ],
             [
              0.6666666666666666,
              "#ed7953"
             ],
             [
              0.7777777777777778,
              "#fb9f3a"
             ],
             [
              0.8888888888888888,
              "#fdca26"
             ],
             [
              1,
              "#f0f921"
             ]
            ],
            "type": "heatmapgl"
           }
          ],
          "histogram": [
           {
            "marker": {
             "pattern": {
              "fillmode": "overlay",
              "size": 10,
              "solidity": 0.2
             }
            },
            "type": "histogram"
           }
          ],
          "histogram2d": [
           {
            "colorbar": {
             "outlinewidth": 0,
             "ticks": ""
            },
            "colorscale": [
             [
              0,
              "#0d0887"
             ],
             [
              0.1111111111111111,
              "#46039f"
             ],
             [
              0.2222222222222222,
              "#7201a8"
             ],
             [
              0.3333333333333333,
              "#9c179e"
             ],
             [
              0.4444444444444444,
              "#bd3786"
             ],
             [
              0.5555555555555556,
              "#d8576b"
             ],
             [
              0.6666666666666666,
              "#ed7953"
             ],
             [
              0.7777777777777778,
              "#fb9f3a"
             ],
             [
              0.8888888888888888,
              "#fdca26"
             ],
             [
              1,
              "#f0f921"
             ]
            ],
            "type": "histogram2d"
           }
          ],
          "histogram2dcontour": [
           {
            "colorbar": {
             "outlinewidth": 0,
             "ticks": ""
            },
            "colorscale": [
             [
              0,
              "#0d0887"
             ],
             [
              0.1111111111111111,
              "#46039f"
             ],
             [
              0.2222222222222222,
              "#7201a8"
             ],
             [
              0.3333333333333333,
              "#9c179e"
             ],
             [
              0.4444444444444444,
              "#bd3786"
             ],
             [
              0.5555555555555556,
              "#d8576b"
             ],
             [
              0.6666666666666666,
              "#ed7953"
             ],
             [
              0.7777777777777778,
              "#fb9f3a"
             ],
             [
              0.8888888888888888,
              "#fdca26"
             ],
             [
              1,
              "#f0f921"
             ]
            ],
            "type": "histogram2dcontour"
           }
          ],
          "mesh3d": [
           {
            "colorbar": {
             "outlinewidth": 0,
             "ticks": ""
            },
            "type": "mesh3d"
           }
          ],
          "parcoords": [
           {
            "line": {
             "colorbar": {
              "outlinewidth": 0,
              "ticks": ""
             }
            },
            "type": "parcoords"
           }
          ],
          "pie": [
           {
            "automargin": true,
            "type": "pie"
           }
          ],
          "scatter": [
           {
            "fillpattern": {
             "fillmode": "overlay",
             "size": 10,
             "solidity": 0.2
            },
            "type": "scatter"
           }
          ],
          "scatter3d": [
           {
            "line": {
             "colorbar": {
              "outlinewidth": 0,
              "ticks": ""
             }
            },
            "marker": {
             "colorbar": {
              "outlinewidth": 0,
              "ticks": ""
             }
            },
            "type": "scatter3d"
           }
          ],
          "scattercarpet": [
           {
            "marker": {
             "colorbar": {
              "outlinewidth": 0,
              "ticks": ""
             }
            },
            "type": "scattercarpet"
           }
          ],
          "scattergeo": [
           {
            "marker": {
             "colorbar": {
              "outlinewidth": 0,
              "ticks": ""
             }
            },
            "type": "scattergeo"
           }
          ],
          "scattergl": [
           {
            "marker": {
             "colorbar": {
              "outlinewidth": 0,
              "ticks": ""
             }
            },
            "type": "scattergl"
           }
          ],
          "scattermapbox": [
           {
            "marker": {
             "colorbar": {
              "outlinewidth": 0,
              "ticks": ""
             }
            },
            "type": "scattermapbox"
           }
          ],
          "scatterpolar": [
           {
            "marker": {
             "colorbar": {
              "outlinewidth": 0,
              "ticks": ""
             }
            },
            "type": "scatterpolar"
           }
          ],
          "scatterpolargl": [
           {
            "marker": {
             "colorbar": {
              "outlinewidth": 0,
              "ticks": ""
             }
            },
            "type": "scatterpolargl"
           }
          ],
          "scatterternary": [
           {
            "marker": {
             "colorbar": {
              "outlinewidth": 0,
              "ticks": ""
             }
            },
            "type": "scatterternary"
           }
          ],
          "surface": [
           {
            "colorbar": {
             "outlinewidth": 0,
             "ticks": ""
            },
            "colorscale": [
             [
              0,
              "#0d0887"
             ],
             [
              0.1111111111111111,
              "#46039f"
             ],
             [
              0.2222222222222222,
              "#7201a8"
             ],
             [
              0.3333333333333333,
              "#9c179e"
             ],
             [
              0.4444444444444444,
              "#bd3786"
             ],
             [
              0.5555555555555556,
              "#d8576b"
             ],
             [
              0.6666666666666666,
              "#ed7953"
             ],
             [
              0.7777777777777778,
              "#fb9f3a"
             ],
             [
              0.8888888888888888,
              "#fdca26"
             ],
             [
              1,
              "#f0f921"
             ]
            ],
            "type": "surface"
           }
          ],
          "table": [
           {
            "cells": {
             "fill": {
              "color": "#EBF0F8"
             },
             "line": {
              "color": "white"
             }
            },
            "header": {
             "fill": {
              "color": "#C8D4E3"
             },
             "line": {
              "color": "white"
             }
            },
            "type": "table"
           }
          ]
         },
         "layout": {
          "annotationdefaults": {
           "arrowcolor": "#2a3f5f",
           "arrowhead": 0,
           "arrowwidth": 1
          },
          "autotypenumbers": "strict",
          "coloraxis": {
           "colorbar": {
            "outlinewidth": 0,
            "ticks": ""
           }
          },
          "colorscale": {
           "diverging": [
            [
             0,
             "#8e0152"
            ],
            [
             0.1,
             "#c51b7d"
            ],
            [
             0.2,
             "#de77ae"
            ],
            [
             0.3,
             "#f1b6da"
            ],
            [
             0.4,
             "#fde0ef"
            ],
            [
             0.5,
             "#f7f7f7"
            ],
            [
             0.6,
             "#e6f5d0"
            ],
            [
             0.7,
             "#b8e186"
            ],
            [
             0.8,
             "#7fbc41"
            ],
            [
             0.9,
             "#4d9221"
            ],
            [
             1,
             "#276419"
            ]
           ],
           "sequential": [
            [
             0,
             "#0d0887"
            ],
            [
             0.1111111111111111,
             "#46039f"
            ],
            [
             0.2222222222222222,
             "#7201a8"
            ],
            [
             0.3333333333333333,
             "#9c179e"
            ],
            [
             0.4444444444444444,
             "#bd3786"
            ],
            [
             0.5555555555555556,
             "#d8576b"
            ],
            [
             0.6666666666666666,
             "#ed7953"
            ],
            [
             0.7777777777777778,
             "#fb9f3a"
            ],
            [
             0.8888888888888888,
             "#fdca26"
            ],
            [
             1,
             "#f0f921"
            ]
           ],
           "sequentialminus": [
            [
             0,
             "#0d0887"
            ],
            [
             0.1111111111111111,
             "#46039f"
            ],
            [
             0.2222222222222222,
             "#7201a8"
            ],
            [
             0.3333333333333333,
             "#9c179e"
            ],
            [
             0.4444444444444444,
             "#bd3786"
            ],
            [
             0.5555555555555556,
             "#d8576b"
            ],
            [
             0.6666666666666666,
             "#ed7953"
            ],
            [
             0.7777777777777778,
             "#fb9f3a"
            ],
            [
             0.8888888888888888,
             "#fdca26"
            ],
            [
             1,
             "#f0f921"
            ]
           ]
          },
          "colorway": [
           "#636efa",
           "#EF553B",
           "#00cc96",
           "#ab63fa",
           "#FFA15A",
           "#19d3f3",
           "#FF6692",
           "#B6E880",
           "#FF97FF",
           "#FECB52"
          ],
          "font": {
           "color": "#2a3f5f"
          },
          "geo": {
           "bgcolor": "white",
           "lakecolor": "white",
           "landcolor": "#E5ECF6",
           "showlakes": true,
           "showland": true,
           "subunitcolor": "white"
          },
          "hoverlabel": {
           "align": "left"
          },
          "hovermode": "closest",
          "mapbox": {
           "style": "light"
          },
          "paper_bgcolor": "white",
          "plot_bgcolor": "#E5ECF6",
          "polar": {
           "angularaxis": {
            "gridcolor": "white",
            "linecolor": "white",
            "ticks": ""
           },
           "bgcolor": "#E5ECF6",
           "radialaxis": {
            "gridcolor": "white",
            "linecolor": "white",
            "ticks": ""
           }
          },
          "scene": {
           "xaxis": {
            "backgroundcolor": "#E5ECF6",
            "gridcolor": "white",
            "gridwidth": 2,
            "linecolor": "white",
            "showbackground": true,
            "ticks": "",
            "zerolinecolor": "white"
           },
           "yaxis": {
            "backgroundcolor": "#E5ECF6",
            "gridcolor": "white",
            "gridwidth": 2,
            "linecolor": "white",
            "showbackground": true,
            "ticks": "",
            "zerolinecolor": "white"
           },
           "zaxis": {
            "backgroundcolor": "#E5ECF6",
            "gridcolor": "white",
            "gridwidth": 2,
            "linecolor": "white",
            "showbackground": true,
            "ticks": "",
            "zerolinecolor": "white"
           }
          },
          "shapedefaults": {
           "line": {
            "color": "#2a3f5f"
           }
          },
          "ternary": {
           "aaxis": {
            "gridcolor": "white",
            "linecolor": "white",
            "ticks": ""
           },
           "baxis": {
            "gridcolor": "white",
            "linecolor": "white",
            "ticks": ""
           },
           "bgcolor": "#E5ECF6",
           "caxis": {
            "gridcolor": "white",
            "linecolor": "white",
            "ticks": ""
           }
          },
          "title": {
           "x": 0.05
          },
          "xaxis": {
           "automargin": true,
           "gridcolor": "white",
           "linecolor": "white",
           "ticks": "",
           "title": {
            "standoff": 15
           },
           "zerolinecolor": "white",
           "zerolinewidth": 2
          },
          "yaxis": {
           "automargin": true,
           "gridcolor": "white",
           "linecolor": "white",
           "ticks": "",
           "title": {
            "standoff": 15
           },
           "zerolinecolor": "white",
           "zerolinewidth": 2
          }
         }
        },
        "title": {
         "text": "Slice Plot"
        },
        "width": 2100,
        "xaxis": {
         "anchor": "y",
         "categoryarray": [
          16,
          32,
          64,
          128,
          256
         ],
         "categoryorder": "array",
         "domain": [
          0,
          0.1183673469387755
         ],
         "title": {
          "text": "batch_size"
         },
         "type": "category"
        },
        "xaxis2": {
         "anchor": "y2",
         "domain": [
          0.14693877551020407,
          0.26530612244897955
         ],
         "title": {
          "text": "clip_range"
         }
        },
        "xaxis3": {
         "anchor": "y3",
         "domain": [
          0.29387755102040813,
          0.4122448979591836
         ],
         "title": {
          "text": "ent_coef"
         },
         "type": "log"
        },
        "xaxis4": {
         "anchor": "y4",
         "categoryarray": [
          0.95,
          0.97,
          0.99,
          0.999
         ],
         "categoryorder": "array",
         "domain": [
          0.4408163265306122,
          0.5591836734693877
         ],
         "title": {
          "text": "gamma"
         },
         "type": "category"
        },
        "xaxis5": {
         "anchor": "y5",
         "domain": [
          0.5877551020408163,
          0.7061224489795918
         ],
         "title": {
          "text": "learning_rate"
         },
         "type": "log"
        },
        "xaxis6": {
         "anchor": "y6",
         "categoryarray": [
          128,
          256,
          512,
          1024,
          2048
         ],
         "categoryorder": "array",
         "domain": [
          0.7346938775510204,
          0.8530612244897959
         ],
         "title": {
          "text": "n_steps"
         },
         "type": "category"
        },
        "xaxis7": {
         "anchor": "y7",
         "domain": [
          0.8816326530612244,
          0.9999999999999999
         ],
         "title": {
          "text": "vf_coef"
         }
        },
        "yaxis": {
         "anchor": "x",
         "domain": [
          0,
          1
         ],
         "title": {
          "text": "Objective Value"
         }
        },
        "yaxis2": {
         "anchor": "x2",
         "domain": [
          0,
          1
         ],
         "matches": "y",
         "showticklabels": false
        },
        "yaxis3": {
         "anchor": "x3",
         "domain": [
          0,
          1
         ],
         "matches": "y",
         "showticklabels": false
        },
        "yaxis4": {
         "anchor": "x4",
         "domain": [
          0,
          1
         ],
         "matches": "y",
         "showticklabels": false
        },
        "yaxis5": {
         "anchor": "x5",
         "domain": [
          0,
          1
         ],
         "matches": "y",
         "showticklabels": false
        },
        "yaxis6": {
         "anchor": "x6",
         "domain": [
          0,
          1
         ],
         "matches": "y",
         "showticklabels": false
        },
        "yaxis7": {
         "anchor": "x7",
         "domain": [
          0,
          1
         ],
         "matches": "y",
         "showticklabels": false
        }
       }
      }
     },
     "metadata": {},
     "output_type": "display_data"
    }
   ],
   "source": [
    "from optuna.visualization import plot_slice\n",
    "\n",
    "fig = plot_slice(study)\n",
    "fig.show()"
   ]
  },
  {
   "cell_type": "markdown",
   "metadata": {},
   "source": [
    "**Contour Plot**\n",
    "\n",
    "This plot shows the relationship between two hyperparameters and their influence on the objective value."
   ]
  },
  {
   "cell_type": "code",
   "execution_count": 7,
   "metadata": {},
   "outputs": [
    {
     "data": {
      "application/vnd.plotly.v1+json": {
       "config": {
        "plotlyServerURL": "https://plot.ly"
       },
       "data": [
        {
         "type": "scatter",
         "xaxis": "x",
         "yaxis": "y"
        },
        {
         "colorbar": {
          "title": {
           "text": "Objective Value"
          }
         },
         "colorscale": [
          [
           0,
           "rgb(247,251,255)"
          ],
          [
           0.125,
           "rgb(222,235,247)"
          ],
          [
           0.25,
           "rgb(198,219,239)"
          ],
          [
           0.375,
           "rgb(158,202,225)"
          ],
          [
           0.5,
           "rgb(107,174,214)"
          ],
          [
           0.625,
           "rgb(66,146,198)"
          ],
          [
           0.75,
           "rgb(33,113,181)"
          ],
          [
           0.875,
           "rgb(8,81,156)"
          ],
          [
           1,
           "rgb(8,48,107)"
          ]
         ],
         "connectgaps": true,
         "contours": {
          "coloring": "heatmap"
         },
         "hoverinfo": "none",
         "line": {
          "smoothing": 1.3
         },
         "reversescale": false,
         "showscale": true,
         "type": "contour",
         "x": [
          4,
          16,
          32,
          64,
          128,
          256,
          268
         ],
         "xaxis": "x8",
         "y": [
          0.08808577154129724,
          0.10285132204679967,
          0.15,
          0.15459451637855975,
          0.17438453927970288,
          0.18565335675148947,
          0.18681078435765253,
          0.2207549059953295,
          0.24251179186061247,
          0.25041073728025975,
          0.2630764493126711,
          0.26637499877020604,
          0.2849693518063551,
          0.2944147149109724,
          0.31429606364138596,
          0.321193255089133,
          0.33276105076848844,
          0.3363076909153072,
          0.3567410957919658,
          0.37860999961664626,
          0.3981623321568483,
          0.41292788266235075
         ],
         "yaxis": "y8",
         "z": [
          [
           null,
           null,
           null,
           null,
           null,
           null,
           null
          ],
          [
           null,
           -6877743.058,
           null,
           null,
           null,
           null,
           null
          ],
          [
           null,
           null,
           null,
           -55354.58200000001,
           null,
           null,
           null
          ],
          [
           null,
           null,
           null,
           null,
           -54913.414000000004,
           null,
           null
          ],
          [
           null,
           null,
           -8354784.425999999,
           null,
           null,
           null,
           null
          ],
          [
           null,
           null,
           null,
           null,
           -55350.331999999995,
           null,
           null
          ],
          [
           null,
           null,
           null,
           null,
           null,
           -55475.382000000005,
           null
          ],
          [
           null,
           null,
           -54188.288,
           null,
           null,
           null,
           null
          ],
          [
           null,
           null,
           null,
           null,
           null,
           -6277071.776,
           null
          ],
          [
           null,
           null,
           null,
           -55846.478,
           null,
           null,
           null
          ],
          [
           null,
           null,
           -52956.621999999996,
           null,
           null,
           null,
           null
          ],
          [
           null,
           null,
           -54416.482,
           null,
           null,
           null,
           null
          ],
          [
           null,
           null,
           -54039.402,
           null,
           null,
           null,
           null
          ],
          [
           null,
           null,
           null,
           -53867.774,
           null,
           null,
           null
          ],
          [
           null,
           null,
           null,
           null,
           null,
           -54222.221999999994,
           null
          ],
          [
           null,
           null,
           -52825.71799999999,
           null,
           null,
           null,
           null
          ],
          [
           null,
           null,
           -55504.724,
           null,
           null,
           null,
           null
          ],
          [
           null,
           null,
           null,
           null,
           null,
           -53744.19,
           null
          ],
          [
           null,
           null,
           null,
           -55281.102,
           null,
           null,
           null
          ],
          [
           null,
           -54174.15,
           null,
           null,
           null,
           null,
           null
          ],
          [
           null,
           null,
           -53528.034,
           null,
           null,
           null,
           null
          ],
          [
           null,
           null,
           null,
           null,
           null,
           null,
           null
          ]
         ]
        },
        {
         "marker": {
          "color": "black",
          "line": {
           "color": "Gray",
           "width": 2
          }
         },
         "mode": "markers",
         "name": "Feasible Trial",
         "showlegend": false,
         "type": "scatter",
         "x": [
          64,
          256,
          64,
          128,
          256,
          128,
          64,
          256,
          64,
          32,
          16,
          256,
          32,
          32,
          32,
          32,
          32,
          32,
          16,
          32
         ],
         "xaxis": "x8",
         "y": [
          0.15,
          0.18681078435765253,
          0.25041073728025975,
          0.18565335675148947,
          0.24251179186061247,
          0.15459451637855975,
          0.2944147149109724,
          0.3363076909153072,
          0.3567410957919658,
          0.17438453927970288,
          0.37860999961664626,
          0.31429606364138596,
          0.2630764493126711,
          0.321193255089133,
          0.26637499877020604,
          0.3981623321568483,
          0.2849693518063551,
          0.2207549059953295,
          0.10285132204679967,
          0.33276105076848844
         ],
         "yaxis": "y8"
        },
        {
         "colorbar": {
          "title": {
           "text": "Objective Value"
          }
         },
         "colorscale": [
          [
           0,
           "rgb(247,251,255)"
          ],
          [
           0.125,
           "rgb(222,235,247)"
          ],
          [
           0.25,
           "rgb(198,219,239)"
          ],
          [
           0.375,
           "rgb(158,202,225)"
          ],
          [
           0.5,
           "rgb(107,174,214)"
          ],
          [
           0.625,
           "rgb(66,146,198)"
          ],
          [
           0.75,
           "rgb(33,113,181)"
          ],
          [
           0.875,
           "rgb(8,81,156)"
          ],
          [
           1,
           "rgb(8,48,107)"
          ]
         ],
         "connectgaps": true,
         "contours": {
          "coloring": "heatmap"
         },
         "hoverinfo": "none",
         "line": {
          "smoothing": 1.3
         },
         "reversescale": false,
         "showscale": false,
         "type": "contour",
         "x": [
          4,
          16,
          32,
          64,
          128,
          256,
          268
         ],
         "xaxis": "x15",
         "y": [
          0.0000750090620361006,
          0.00010543530575853422,
          0.0002183834913739417,
          0.0007996321281186954,
          0.000923405436469188,
          0.0017862914778816626,
          0.0030635735274230193,
          0.0040082164983855865,
          0.004017375151542843,
          0.007403523032770856,
          0.009404988026095698,
          0.01,
          0.011214194865239198,
          0.012522877055348854,
          0.018390985691451717,
          0.019026900906968597,
          0.02429955575166297,
          0.035009587260110664,
          0.053872712650775374,
          0.08051354809558334,
          0.095594433162897,
          0.1343708082163851
         ],
         "yaxis": "y15",
         "z": [
          [
           null,
           null,
           null,
           null,
           null,
           null,
           null
          ],
          [
           null,
           -54174.15,
           null,
           null,
           null,
           null,
           null
          ],
          [
           null,
           null,
           null,
           -55281.102,
           null,
           null,
           null
          ],
          [
           null,
           null,
           null,
           null,
           -55350.331999999995,
           null,
           null
          ],
          [
           null,
           null,
           -54188.288,
           null,
           null,
           null,
           null
          ],
          [
           null,
           null,
           null,
           null,
           null,
           -54222.221999999994,
           null
          ],
          [
           null,
           null,
           null,
           null,
           null,
           -55475.382000000005,
           null
          ],
          [
           null,
           null,
           null,
           -53867.774,
           null,
           null,
           null
          ],
          [
           null,
           null,
           null,
           -55846.478,
           null,
           null,
           null
          ],
          [
           null,
           null,
           -55504.724,
           null,
           null,
           null,
           null
          ],
          [
           null,
           null,
           -54039.402,
           null,
           null,
           null,
           null
          ],
          [
           null,
           null,
           null,
           -55354.58200000001,
           null,
           null,
           null
          ],
          [
           null,
           null,
           null,
           null,
           null,
           -53744.19,
           null
          ],
          [
           null,
           null,
           -52956.621999999996,
           null,
           null,
           null,
           null
          ],
          [
           null,
           null,
           -52825.71799999999,
           null,
           null,
           null,
           null
          ],
          [
           null,
           null,
           null,
           null,
           -54913.414000000004,
           null,
           null
          ],
          [
           null,
           null,
           -54416.482,
           null,
           null,
           null,
           null
          ],
          [
           null,
           null,
           -53528.034,
           null,
           null,
           null,
           null
          ],
          [
           null,
           null,
           null,
           null,
           null,
           -6277071.776,
           null
          ],
          [
           null,
           null,
           -8354784.425999999,
           null,
           null,
           null,
           null
          ],
          [
           null,
           -6877743.058,
           null,
           null,
           null,
           null,
           null
          ],
          [
           null,
           null,
           null,
           null,
           null,
           null,
           null
          ]
         ]
        },
        {
         "marker": {
          "color": "black",
          "line": {
           "color": "Gray",
           "width": 2
          }
         },
         "mode": "markers",
         "name": "Feasible Trial",
         "showlegend": false,
         "type": "scatter",
         "x": [
          64,
          256,
          64,
          128,
          256,
          128,
          64,
          256,
          64,
          32,
          16,
          256,
          32,
          32,
          32,
          32,
          32,
          32,
          16,
          32
         ],
         "xaxis": "x15",
         "y": [
          0.01,
          0.0030635735274230193,
          0.004017375151542843,
          0.0007996321281186954,
          0.053872712650775374,
          0.019026900906968597,
          0.0040082164983855865,
          0.011214194865239198,
          0.0002183834913739417,
          0.08051354809558334,
          0.00010543530575853422,
          0.0017862914778816626,
          0.012522877055348854,
          0.018390985691451717,
          0.02429955575166297,
          0.035009587260110664,
          0.009404988026095698,
          0.000923405436469188,
          0.095594433162897,
          0.007403523032770856
         ],
         "yaxis": "y15"
        },
        {
         "colorbar": {
          "title": {
           "text": "Objective Value"
          }
         },
         "colorscale": [
          [
           0,
           "rgb(247,251,255)"
          ],
          [
           0.125,
           "rgb(222,235,247)"
          ],
          [
           0.25,
           "rgb(198,219,239)"
          ],
          [
           0.375,
           "rgb(158,202,225)"
          ],
          [
           0.5,
           "rgb(107,174,214)"
          ],
          [
           0.625,
           "rgb(66,146,198)"
          ],
          [
           0.75,
           "rgb(33,113,181)"
          ],
          [
           0.875,
           "rgb(8,81,156)"
          ],
          [
           1,
           "rgb(8,48,107)"
          ]
         ],
         "connectgaps": true,
         "contours": {
          "coloring": "heatmap"
         },
         "hoverinfo": "none",
         "line": {
          "smoothing": 1.3
         },
         "reversescale": false,
         "showscale": false,
         "type": "contour",
         "x": [
          4,
          16,
          32,
          64,
          128,
          256,
          268
         ],
         "xaxis": "x22",
         "y": [
          0.94755,
          0.95,
          0.97,
          0.99,
          0.999,
          1.00145
         ],
         "yaxis": "y22",
         "z": [
          [
           null,
           null,
           null,
           null,
           null,
           null,
           null
          ],
          [
           null,
           null,
           null,
           -53867.774,
           -54913.414000000004,
           -55475.382000000005,
           null
          ],
          [
           null,
           null,
           null,
           -55281.102,
           null,
           -53744.19,
           null
          ],
          [
           null,
           null,
           -8354784.425999999,
           -55354.58200000001,
           null,
           null,
           null
          ],
          [
           null,
           -54174.15,
           -52825.71799999999,
           null,
           null,
           null,
           null
          ],
          [
           null,
           null,
           null,
           null,
           null,
           null,
           null
          ]
         ]
        },
        {
         "marker": {
          "color": "black",
          "line": {
           "color": "Gray",
           "width": 2
          }
         },
         "mode": "markers",
         "name": "Feasible Trial",
         "showlegend": false,
         "type": "scatter",
         "x": [
          64,
          256,
          64,
          128,
          256,
          128,
          64,
          256,
          64,
          32,
          16,
          256,
          32,
          32,
          32,
          32,
          32,
          32,
          16,
          32
         ],
         "xaxis": "x22",
         "y": [
          0.99,
          0.95,
          0.99,
          0.95,
          0.97,
          0.95,
          0.95,
          0.97,
          0.97,
          0.99,
          0.999,
          0.97,
          0.999,
          0.999,
          0.999,
          0.999,
          0.999,
          0.999,
          0.999,
          0.999
         ],
         "yaxis": "y22"
        },
        {
         "colorbar": {
          "title": {
           "text": "Objective Value"
          }
         },
         "colorscale": [
          [
           0,
           "rgb(247,251,255)"
          ],
          [
           0.125,
           "rgb(222,235,247)"
          ],
          [
           0.25,
           "rgb(198,219,239)"
          ],
          [
           0.375,
           "rgb(158,202,225)"
          ],
          [
           0.5,
           "rgb(107,174,214)"
          ],
          [
           0.625,
           "rgb(66,146,198)"
          ],
          [
           0.75,
           "rgb(33,113,181)"
          ],
          [
           0.875,
           "rgb(8,81,156)"
          ],
          [
           1,
           "rgb(8,48,107)"
          ]
         ],
         "connectgaps": true,
         "contours": {
          "coloring": "heatmap"
         },
         "hoverinfo": "none",
         "line": {
          "smoothing": 1.3
         },
         "reversescale": false,
         "showscale": false,
         "type": "contour",
         "x": [
          4,
          16,
          32,
          64,
          128,
          256,
          268
         ],
         "xaxis": "x29",
         "y": [
          0.00000773048319158694,
          0.00001086510746874547,
          0.000024161822821989798,
          0.000025996428567044415,
          0.000030396539882732285,
          0.00006192213434077147,
          0.00006199254413961387,
          0.00007489266809258986,
          0.00007876818893430757,
          0.00009047215040400252,
          0.0001409077180700703,
          0.0002040739156778681,
          0.00024642280555448395,
          0.0003,
          0.0004476590948218718,
          0.0006024308603014506,
          0.001203349728557282,
          0.0013896388393775268,
          0.00257739955004777,
          0.004794569699089756,
          0.009830639023539483,
          0.01381685294826609
         ],
         "yaxis": "y29",
         "z": [
          [
           null,
           null,
           null,
           null,
           null,
           null,
           null
          ],
          [
           null,
           -54174.15,
           null,
           null,
           null,
           null,
           null
          ],
          [
           null,
           -6877743.058,
           null,
           null,
           null,
           null,
           null
          ],
          [
           null,
           null,
           -54416.482,
           null,
           null,
           null,
           null
          ],
          [
           null,
           null,
           null,
           null,
           -55350.331999999995,
           null,
           null
          ],
          [
           null,
           null,
           -54039.402,
           null,
           null,
           null,
           null
          ],
          [
           null,
           null,
           null,
           null,
           null,
           -54222.221999999994,
           null
          ],
          [
           null,
           null,
           -52825.71799999999,
           null,
           null,
           null,
           null
          ],
          [
           null,
           null,
           null,
           -53867.774,
           null,
           null,
           null
          ],
          [
           null,
           null,
           -52956.621999999996,
           null,
           null,
           null,
           null
          ],
          [
           null,
           null,
           null,
           null,
           null,
           -53744.19,
           null
          ],
          [
           null,
           null,
           null,
           -55846.478,
           null,
           null,
           null
          ],
          [
           null,
           null,
           -8354784.425999999,
           null,
           null,
           null,
           null
          ],
          [
           null,
           null,
           null,
           -55354.58200000001,
           null,
           null,
           null
          ],
          [
           null,
           null,
           null,
           null,
           -54913.414000000004,
           null,
           null
          ],
          [
           null,
           null,
           -54188.288,
           null,
           null,
           null,
           null
          ],
          [
           null,
           null,
           -53528.034,
           null,
           null,
           null,
           null
          ],
          [
           null,
           null,
           null,
           -55281.102,
           null,
           null,
           null
          ],
          [
           null,
           null,
           null,
           null,
           null,
           -6277071.776,
           null
          ],
          [
           null,
           null,
           null,
           null,
           null,
           -55475.382000000005,
           null
          ],
          [
           null,
           null,
           -55504.724,
           null,
           null,
           null,
           null
          ],
          [
           null,
           null,
           null,
           null,
           null,
           null,
           null
          ]
         ]
        },
        {
         "marker": {
          "color": "black",
          "line": {
           "color": "Gray",
           "width": 2
          }
         },
         "mode": "markers",
         "name": "Feasible Trial",
         "showlegend": false,
         "type": "scatter",
         "x": [
          64,
          256,
          64,
          128,
          256,
          128,
          64,
          256,
          64,
          32,
          16,
          256,
          32,
          32,
          32,
          32,
          32,
          32,
          16,
          32
         ],
         "xaxis": "x29",
         "y": [
          0.0003,
          0.004794569699089756,
          0.0002040739156778681,
          0.000030396539882732285,
          0.00257739955004777,
          0.0004476590948218718,
          0.00007876818893430757,
          0.0001409077180700703,
          0.0013896388393775268,
          0.00024642280555448395,
          0.00001086510746874547,
          0.00006199254413961387,
          0.00009047215040400252,
          0.00007489266809258986,
          0.000025996428567044415,
          0.001203349728557282,
          0.00006192213434077147,
          0.0006024308603014506,
          0.000024161822821989798,
          0.009830639023539483
         ],
         "yaxis": "y29"
        },
        {
         "colorbar": {
          "title": {
           "text": "Objective Value"
          }
         },
         "colorscale": [
          [
           0,
           "rgb(247,251,255)"
          ],
          [
           0.125,
           "rgb(222,235,247)"
          ],
          [
           0.25,
           "rgb(198,219,239)"
          ],
          [
           0.375,
           "rgb(158,202,225)"
          ],
          [
           0.5,
           "rgb(107,174,214)"
          ],
          [
           0.625,
           "rgb(66,146,198)"
          ],
          [
           0.75,
           "rgb(33,113,181)"
          ],
          [
           0.875,
           "rgb(8,81,156)"
          ],
          [
           1,
           "rgb(8,48,107)"
          ]
         ],
         "connectgaps": true,
         "contours": {
          "coloring": "heatmap"
         },
         "hoverinfo": "none",
         "line": {
          "smoothing": 1.3
         },
         "reversescale": false,
         "showscale": false,
         "type": "contour",
         "x": [
          4,
          16,
          32,
          64,
          128,
          256,
          268
         ],
         "xaxis": "x36",
         "y": [
          32,
          128,
          256,
          512,
          1024,
          2048,
          2144
         ],
         "yaxis": "y36",
         "z": [
          [
           null,
           null,
           null,
           null,
           null,
           null,
           null
          ],
          [
           null,
           null,
           -54416.482,
           null,
           null,
           null,
           null
          ],
          [
           null,
           null,
           null,
           -55846.478,
           -54913.414000000004,
           -55475.382000000005,
           null
          ],
          [
           null,
           -54174.15,
           -52825.71799999999,
           -55281.102,
           null,
           -53744.19,
           null
          ],
          [
           null,
           null,
           -53528.034,
           null,
           -55350.331999999995,
           null,
           null
          ],
          [
           null,
           null,
           -52956.621999999996,
           -53867.774,
           null,
           -54222.221999999994,
           null
          ],
          [
           null,
           null,
           null,
           null,
           null,
           null,
           null
          ]
         ]
        },
        {
         "marker": {
          "color": "black",
          "line": {
           "color": "Gray",
           "width": 2
          }
         },
         "mode": "markers",
         "name": "Feasible Trial",
         "showlegend": false,
         "type": "scatter",
         "x": [
          64,
          256,
          64,
          128,
          256,
          128,
          64,
          256,
          64,
          32,
          16,
          256,
          32,
          32,
          32,
          32,
          32,
          32,
          16,
          32
         ],
         "xaxis": "x36",
         "y": [
          2048,
          256,
          256,
          1024,
          256,
          256,
          2048,
          512,
          512,
          128,
          512,
          2048,
          2048,
          512,
          128,
          1024,
          512,
          2048,
          512,
          2048
         ],
         "yaxis": "y36"
        },
        {
         "colorbar": {
          "title": {
           "text": "Objective Value"
          }
         },
         "colorscale": [
          [
           0,
           "rgb(247,251,255)"
          ],
          [
           0.125,
           "rgb(222,235,247)"
          ],
          [
           0.25,
           "rgb(198,219,239)"
          ],
          [
           0.375,
           "rgb(158,202,225)"
          ],
          [
           0.5,
           "rgb(107,174,214)"
          ],
          [
           0.625,
           "rgb(66,146,198)"
          ],
          [
           0.75,
           "rgb(33,113,181)"
          ],
          [
           0.875,
           "rgb(8,81,156)"
          ],
          [
           1,
           "rgb(8,48,107)"
          ]
         ],
         "connectgaps": true,
         "contours": {
          "coloring": "heatmap"
         },
         "hoverinfo": "none",
         "line": {
          "smoothing": 1.3
         },
         "reversescale": false,
         "showscale": false,
         "type": "contour",
         "x": [
          4,
          16,
          32,
          64,
          128,
          256,
          268
         ],
         "xaxis": "x43",
         "y": [
          0.06440089456040873,
          0.10687633648985499,
          0.11492751627263009,
          0.15531908586787582,
          0.2213326366249019,
          0.25815310478046444,
          0.3252961331886048,
          0.3276379009688698,
          0.41879709330381787,
          0.5,
          0.5003494908161767,
          0.6209676850887675,
          0.6236556946071977,
          0.6490619246022484,
          0.7551510755325068,
          0.7554611876239332,
          0.7660662297530773,
          0.8102344169718921,
          0.8311182480602305,
          0.9380400576794671,
          0.95638517507878,
          0.9988606170082263
         ],
         "yaxis": "y43",
         "z": [
          [
           null,
           null,
           null,
           null,
           null,
           null,
           null
          ],
          [
           null,
           null,
           -54416.482,
           null,
           null,
           null,
           null
          ],
          [
           null,
           null,
           -52956.621999999996,
           null,
           null,
           null,
           null
          ],
          [
           null,
           null,
           null,
           null,
           null,
           -54222.221999999994,
           null
          ],
          [
           null,
           null,
           null,
           -53867.774,
           null,
           null,
           null
          ],
          [
           null,
           null,
           -55504.724,
           null,
           null,
           null,
           null
          ],
          [
           null,
           null,
           null,
           null,
           -55350.331999999995,
           null,
           null
          ],
          [
           null,
           null,
           -53528.034,
           null,
           null,
           null,
           null
          ],
          [
           null,
           null,
           null,
           null,
           null,
           -6277071.776,
           null
          ],
          [
           null,
           null,
           null,
           -55354.58200000001,
           null,
           null,
           null
          ],
          [
           null,
           null,
           -54188.288,
           null,
           null,
           null,
           null
          ],
          [
           null,
           null,
           null,
           null,
           -54913.414000000004,
           null,
           null
          ],
          [
           null,
           null,
           null,
           null,
           null,
           -55475.382000000005,
           null
          ],
          [
           null,
           null,
           -54039.402,
           null,
           null,
           null,
           null
          ],
          [
           null,
           null,
           null,
           null,
           null,
           -53744.19,
           null
          ],
          [
           null,
           null,
           -52825.71799999999,
           null,
           null,
           null,
           null
          ],
          [
           null,
           -54174.15,
           null,
           null,
           null,
           null,
           null
          ],
          [
           null,
           -6877743.058,
           null,
           null,
           null,
           null,
           null
          ],
          [
           null,
           null,
           null,
           -55281.102,
           null,
           null,
           null
          ],
          [
           null,
           null,
           null,
           -55846.478,
           null,
           null,
           null
          ],
          [
           null,
           null,
           -8354784.425999999,
           null,
           null,
           null,
           null
          ],
          [
           null,
           null,
           null,
           null,
           null,
           null,
           null
          ]
         ]
        },
        {
         "marker": {
          "color": "black",
          "line": {
           "color": "Gray",
           "width": 2
          }
         },
         "mode": "markers",
         "name": "Feasible Trial",
         "showlegend": false,
         "type": "scatter",
         "x": [
          64,
          256,
          64,
          128,
          256,
          128,
          64,
          256,
          64,
          32,
          16,
          256,
          32,
          32,
          32,
          32,
          32,
          32,
          16,
          32
         ],
         "xaxis": "x43",
         "y": [
          0.5,
          0.6236556946071977,
          0.9380400576794671,
          0.3252961331886048,
          0.41879709330381787,
          0.6209676850887675,
          0.2213326366249019,
          0.7551510755325068,
          0.8311182480602305,
          0.95638517507878,
          0.7660662297530773,
          0.15531908586787582,
          0.11492751627263009,
          0.7554611876239332,
          0.10687633648985499,
          0.3276379009688698,
          0.6490619246022484,
          0.5003494908161767,
          0.8102344169718921,
          0.25815310478046444
         ],
         "yaxis": "y43"
        },
        {
         "colorbar": {
          "title": {
           "text": "Objective Value"
          }
         },
         "colorscale": [
          [
           0,
           "rgb(247,251,255)"
          ],
          [
           0.125,
           "rgb(222,235,247)"
          ],
          [
           0.25,
           "rgb(198,219,239)"
          ],
          [
           0.375,
           "rgb(158,202,225)"
          ],
          [
           0.5,
           "rgb(107,174,214)"
          ],
          [
           0.625,
           "rgb(66,146,198)"
          ],
          [
           0.75,
           "rgb(33,113,181)"
          ],
          [
           0.875,
           "rgb(8,81,156)"
          ],
          [
           1,
           "rgb(8,48,107)"
          ]
         ],
         "connectgaps": true,
         "contours": {
          "coloring": "heatmap"
         },
         "hoverinfo": "none",
         "line": {
          "smoothing": 1.3
         },
         "reversescale": false,
         "showscale": false,
         "type": "contour",
         "x": [
          0.08808577154129724,
          0.10285132204679967,
          0.15,
          0.15459451637855975,
          0.17438453927970288,
          0.18565335675148947,
          0.18681078435765253,
          0.2207549059953295,
          0.24251179186061247,
          0.25041073728025975,
          0.2630764493126711,
          0.26637499877020604,
          0.2849693518063551,
          0.2944147149109724,
          0.31429606364138596,
          0.321193255089133,
          0.33276105076848844,
          0.3363076909153072,
          0.3567410957919658,
          0.37860999961664626,
          0.3981623321568483,
          0.41292788266235075
         ],
         "xaxis": "x2",
         "y": [
          4,
          16,
          32,
          64,
          128,
          256,
          268
         ],
         "yaxis": "y2",
         "z": [
          [
           null,
           null,
           null,
           null,
           null,
           null,
           null,
           null,
           null,
           null,
           null,
           null,
           null,
           null,
           null,
           null,
           null,
           null,
           null,
           null,
           null,
           null
          ],
          [
           null,
           -6877743.058,
           null,
           null,
           null,
           null,
           null,
           null,
           null,
           null,
           null,
           null,
           null,
           null,
           null,
           null,
           null,
           null,
           null,
           -54174.15,
           null,
           null
          ],
          [
           null,
           null,
           null,
           null,
           -8354784.425999999,
           null,
           null,
           -54188.288,
           null,
           null,
           -52956.621999999996,
           -54416.482,
           -54039.402,
           null,
           null,
           -52825.71799999999,
           -55504.724,
           null,
           null,
           null,
           -53528.034,
           null
          ],
          [
           null,
           null,
           -55354.58200000001,
           null,
           null,
           null,
           null,
           null,
           null,
           -55846.478,
           null,
           null,
           null,
           -53867.774,
           null,
           null,
           null,
           null,
           -55281.102,
           null,
           null,
           null
          ],
          [
           null,
           null,
           null,
           -54913.414000000004,
           null,
           -55350.331999999995,
           null,
           null,
           null,
           null,
           null,
           null,
           null,
           null,
           null,
           null,
           null,
           null,
           null,
           null,
           null,
           null
          ],
          [
           null,
           null,
           null,
           null,
           null,
           null,
           -55475.382000000005,
           null,
           -6277071.776,
           null,
           null,
           null,
           null,
           null,
           -54222.221999999994,
           null,
           null,
           -53744.19,
           null,
           null,
           null,
           null
          ],
          [
           null,
           null,
           null,
           null,
           null,
           null,
           null,
           null,
           null,
           null,
           null,
           null,
           null,
           null,
           null,
           null,
           null,
           null,
           null,
           null,
           null,
           null
          ]
         ]
        },
        {
         "marker": {
          "color": "black",
          "line": {
           "color": "Gray",
           "width": 2
          }
         },
         "mode": "markers",
         "name": "Feasible Trial",
         "showlegend": false,
         "type": "scatter",
         "x": [
          0.15,
          0.18681078435765253,
          0.25041073728025975,
          0.18565335675148947,
          0.24251179186061247,
          0.15459451637855975,
          0.2944147149109724,
          0.3363076909153072,
          0.3567410957919658,
          0.17438453927970288,
          0.37860999961664626,
          0.31429606364138596,
          0.2630764493126711,
          0.321193255089133,
          0.26637499877020604,
          0.3981623321568483,
          0.2849693518063551,
          0.2207549059953295,
          0.10285132204679967,
          0.33276105076848844
         ],
         "xaxis": "x2",
         "y": [
          64,
          256,
          64,
          128,
          256,
          128,
          64,
          256,
          64,
          32,
          16,
          256,
          32,
          32,
          32,
          32,
          32,
          32,
          16,
          32
         ],
         "yaxis": "y2"
        },
        {
         "type": "scatter",
         "xaxis": "x9",
         "yaxis": "y9"
        },
        {
         "colorbar": {
          "title": {
           "text": "Objective Value"
          }
         },
         "colorscale": [
          [
           0,
           "rgb(247,251,255)"
          ],
          [
           0.125,
           "rgb(222,235,247)"
          ],
          [
           0.25,
           "rgb(198,219,239)"
          ],
          [
           0.375,
           "rgb(158,202,225)"
          ],
          [
           0.5,
           "rgb(107,174,214)"
          ],
          [
           0.625,
           "rgb(66,146,198)"
          ],
          [
           0.75,
           "rgb(33,113,181)"
          ],
          [
           0.875,
           "rgb(8,81,156)"
          ],
          [
           1,
           "rgb(8,48,107)"
          ]
         ],
         "connectgaps": true,
         "contours": {
          "coloring": "heatmap"
         },
         "hoverinfo": "none",
         "line": {
          "smoothing": 1.3
         },
         "reversescale": false,
         "showscale": false,
         "type": "contour",
         "x": [
          0.08808577154129724,
          0.10285132204679967,
          0.15,
          0.15459451637855975,
          0.17438453927970288,
          0.18565335675148947,
          0.18681078435765253,
          0.2207549059953295,
          0.24251179186061247,
          0.25041073728025975,
          0.2630764493126711,
          0.26637499877020604,
          0.2849693518063551,
          0.2944147149109724,
          0.31429606364138596,
          0.321193255089133,
          0.33276105076848844,
          0.3363076909153072,
          0.3567410957919658,
          0.37860999961664626,
          0.3981623321568483,
          0.41292788266235075
         ],
         "xaxis": "x16",
         "y": [
          0.0000750090620361006,
          0.00010543530575853422,
          0.0002183834913739417,
          0.0007996321281186954,
          0.000923405436469188,
          0.0017862914778816626,
          0.0030635735274230193,
          0.0040082164983855865,
          0.004017375151542843,
          0.007403523032770856,
          0.009404988026095698,
          0.01,
          0.011214194865239198,
          0.012522877055348854,
          0.018390985691451717,
          0.019026900906968597,
          0.02429955575166297,
          0.035009587260110664,
          0.053872712650775374,
          0.08051354809558334,
          0.095594433162897,
          0.1343708082163851
         ],
         "yaxis": "y16",
         "z": [
          [
           null,
           null,
           null,
           null,
           null,
           null,
           null,
           null,
           null,
           null,
           null,
           null,
           null,
           null,
           null,
           null,
           null,
           null,
           null,
           null,
           null,
           null
          ],
          [
           null,
           null,
           null,
           null,
           null,
           null,
           null,
           null,
           null,
           null,
           null,
           null,
           null,
           null,
           null,
           null,
           null,
           null,
           null,
           -54174.15,
           null,
           null
          ],
          [
           null,
           null,
           null,
           null,
           null,
           null,
           null,
           null,
           null,
           null,
           null,
           null,
           null,
           null,
           null,
           null,
           null,
           null,
           -55281.102,
           null,
           null,
           null
          ],
          [
           null,
           null,
           null,
           null,
           null,
           -55350.331999999995,
           null,
           null,
           null,
           null,
           null,
           null,
           null,
           null,
           null,
           null,
           null,
           null,
           null,
           null,
           null,
           null
          ],
          [
           null,
           null,
           null,
           null,
           null,
           null,
           null,
           -54188.288,
           null,
           null,
           null,
           null,
           null,
           null,
           null,
           null,
           null,
           null,
           null,
           null,
           null,
           null
          ],
          [
           null,
           null,
           null,
           null,
           null,
           null,
           null,
           null,
           null,
           null,
           null,
           null,
           null,
           null,
           -54222.221999999994,
           null,
           null,
           null,
           null,
           null,
           null,
           null
          ],
          [
           null,
           null,
           null,
           null,
           null,
           null,
           -55475.382000000005,
           null,
           null,
           null,
           null,
           null,
           null,
           null,
           null,
           null,
           null,
           null,
           null,
           null,
           null,
           null
          ],
          [
           null,
           null,
           null,
           null,
           null,
           null,
           null,
           null,
           null,
           null,
           null,
           null,
           null,
           -53867.774,
           null,
           null,
           null,
           null,
           null,
           null,
           null,
           null
          ],
          [
           null,
           null,
           null,
           null,
           null,
           null,
           null,
           null,
           null,
           -55846.478,
           null,
           null,
           null,
           null,
           null,
           null,
           null,
           null,
           null,
           null,
           null,
           null
          ],
          [
           null,
           null,
           null,
           null,
           null,
           null,
           null,
           null,
           null,
           null,
           null,
           null,
           null,
           null,
           null,
           null,
           -55504.724,
           null,
           null,
           null,
           null,
           null
          ],
          [
           null,
           null,
           null,
           null,
           null,
           null,
           null,
           null,
           null,
           null,
           null,
           null,
           -54039.402,
           null,
           null,
           null,
           null,
           null,
           null,
           null,
           null,
           null
          ],
          [
           null,
           null,
           -55354.58200000001,
           null,
           null,
           null,
           null,
           null,
           null,
           null,
           null,
           null,
           null,
           null,
           null,
           null,
           null,
           null,
           null,
           null,
           null,
           null
          ],
          [
           null,
           null,
           null,
           null,
           null,
           null,
           null,
           null,
           null,
           null,
           null,
           null,
           null,
           null,
           null,
           null,
           null,
           -53744.19,
           null,
           null,
           null,
           null
          ],
          [
           null,
           null,
           null,
           null,
           null,
           null,
           null,
           null,
           null,
           null,
           -52956.621999999996,
           null,
           null,
           null,
           null,
           null,
           null,
           null,
           null,
           null,
           null,
           null
          ],
          [
           null,
           null,
           null,
           null,
           null,
           null,
           null,
           null,
           null,
           null,
           null,
           null,
           null,
           null,
           null,
           -52825.71799999999,
           null,
           null,
           null,
           null,
           null,
           null
          ],
          [
           null,
           null,
           null,
           -54913.414000000004,
           null,
           null,
           null,
           null,
           null,
           null,
           null,
           null,
           null,
           null,
           null,
           null,
           null,
           null,
           null,
           null,
           null,
           null
          ],
          [
           null,
           null,
           null,
           null,
           null,
           null,
           null,
           null,
           null,
           null,
           null,
           -54416.482,
           null,
           null,
           null,
           null,
           null,
           null,
           null,
           null,
           null,
           null
          ],
          [
           null,
           null,
           null,
           null,
           null,
           null,
           null,
           null,
           null,
           null,
           null,
           null,
           null,
           null,
           null,
           null,
           null,
           null,
           null,
           null,
           -53528.034,
           null
          ],
          [
           null,
           null,
           null,
           null,
           null,
           null,
           null,
           null,
           -6277071.776,
           null,
           null,
           null,
           null,
           null,
           null,
           null,
           null,
           null,
           null,
           null,
           null,
           null
          ],
          [
           null,
           null,
           null,
           null,
           -8354784.425999999,
           null,
           null,
           null,
           null,
           null,
           null,
           null,
           null,
           null,
           null,
           null,
           null,
           null,
           null,
           null,
           null,
           null
          ],
          [
           null,
           -6877743.058,
           null,
           null,
           null,
           null,
           null,
           null,
           null,
           null,
           null,
           null,
           null,
           null,
           null,
           null,
           null,
           null,
           null,
           null,
           null,
           null
          ],
          [
           null,
           null,
           null,
           null,
           null,
           null,
           null,
           null,
           null,
           null,
           null,
           null,
           null,
           null,
           null,
           null,
           null,
           null,
           null,
           null,
           null,
           null
          ]
         ]
        },
        {
         "marker": {
          "color": "black",
          "line": {
           "color": "Gray",
           "width": 2
          }
         },
         "mode": "markers",
         "name": "Feasible Trial",
         "showlegend": false,
         "type": "scatter",
         "x": [
          0.15,
          0.18681078435765253,
          0.25041073728025975,
          0.18565335675148947,
          0.24251179186061247,
          0.15459451637855975,
          0.2944147149109724,
          0.3363076909153072,
          0.3567410957919658,
          0.17438453927970288,
          0.37860999961664626,
          0.31429606364138596,
          0.2630764493126711,
          0.321193255089133,
          0.26637499877020604,
          0.3981623321568483,
          0.2849693518063551,
          0.2207549059953295,
          0.10285132204679967,
          0.33276105076848844
         ],
         "xaxis": "x16",
         "y": [
          0.01,
          0.0030635735274230193,
          0.004017375151542843,
          0.0007996321281186954,
          0.053872712650775374,
          0.019026900906968597,
          0.0040082164983855865,
          0.011214194865239198,
          0.0002183834913739417,
          0.08051354809558334,
          0.00010543530575853422,
          0.0017862914778816626,
          0.012522877055348854,
          0.018390985691451717,
          0.02429955575166297,
          0.035009587260110664,
          0.009404988026095698,
          0.000923405436469188,
          0.095594433162897,
          0.007403523032770856
         ],
         "yaxis": "y16"
        },
        {
         "colorbar": {
          "title": {
           "text": "Objective Value"
          }
         },
         "colorscale": [
          [
           0,
           "rgb(247,251,255)"
          ],
          [
           0.125,
           "rgb(222,235,247)"
          ],
          [
           0.25,
           "rgb(198,219,239)"
          ],
          [
           0.375,
           "rgb(158,202,225)"
          ],
          [
           0.5,
           "rgb(107,174,214)"
          ],
          [
           0.625,
           "rgb(66,146,198)"
          ],
          [
           0.75,
           "rgb(33,113,181)"
          ],
          [
           0.875,
           "rgb(8,81,156)"
          ],
          [
           1,
           "rgb(8,48,107)"
          ]
         ],
         "connectgaps": true,
         "contours": {
          "coloring": "heatmap"
         },
         "hoverinfo": "none",
         "line": {
          "smoothing": 1.3
         },
         "reversescale": false,
         "showscale": false,
         "type": "contour",
         "x": [
          0.08808577154129724,
          0.10285132204679967,
          0.15,
          0.15459451637855975,
          0.17438453927970288,
          0.18565335675148947,
          0.18681078435765253,
          0.2207549059953295,
          0.24251179186061247,
          0.25041073728025975,
          0.2630764493126711,
          0.26637499877020604,
          0.2849693518063551,
          0.2944147149109724,
          0.31429606364138596,
          0.321193255089133,
          0.33276105076848844,
          0.3363076909153072,
          0.3567410957919658,
          0.37860999961664626,
          0.3981623321568483,
          0.41292788266235075
         ],
         "xaxis": "x23",
         "y": [
          0.94755,
          0.95,
          0.97,
          0.99,
          0.999,
          1.00145
         ],
         "yaxis": "y23",
         "z": [
          [
           null,
           null,
           null,
           null,
           null,
           null,
           null,
           null,
           null,
           null,
           null,
           null,
           null,
           null,
           null,
           null,
           null,
           null,
           null,
           null,
           null,
           null
          ],
          [
           null,
           null,
           null,
           -54913.414000000004,
           null,
           -55350.331999999995,
           -55475.382000000005,
           null,
           null,
           null,
           null,
           null,
           null,
           -53867.774,
           null,
           null,
           null,
           null,
           null,
           null,
           null,
           null
          ],
          [
           null,
           null,
           null,
           null,
           null,
           null,
           null,
           null,
           -6277071.776,
           null,
           null,
           null,
           null,
           null,
           -54222.221999999994,
           null,
           null,
           -53744.19,
           -55281.102,
           null,
           null,
           null
          ],
          [
           null,
           null,
           -55354.58200000001,
           null,
           -8354784.425999999,
           null,
           null,
           null,
           null,
           -55846.478,
           null,
           null,
           null,
           null,
           null,
           null,
           null,
           null,
           null,
           null,
           null,
           null
          ],
          [
           null,
           -6877743.058,
           null,
           null,
           null,
           null,
           null,
           -54188.288,
           null,
           null,
           -52956.621999999996,
           -54416.482,
           -54039.402,
           null,
           null,
           -52825.71799999999,
           -55504.724,
           null,
           null,
           -54174.15,
           -53528.034,
           null
          ],
          [
           null,
           null,
           null,
           null,
           null,
           null,
           null,
           null,
           null,
           null,
           null,
           null,
           null,
           null,
           null,
           null,
           null,
           null,
           null,
           null,
           null,
           null
          ]
         ]
        },
        {
         "marker": {
          "color": "black",
          "line": {
           "color": "Gray",
           "width": 2
          }
         },
         "mode": "markers",
         "name": "Feasible Trial",
         "showlegend": false,
         "type": "scatter",
         "x": [
          0.15,
          0.18681078435765253,
          0.25041073728025975,
          0.18565335675148947,
          0.24251179186061247,
          0.15459451637855975,
          0.2944147149109724,
          0.3363076909153072,
          0.3567410957919658,
          0.17438453927970288,
          0.37860999961664626,
          0.31429606364138596,
          0.2630764493126711,
          0.321193255089133,
          0.26637499877020604,
          0.3981623321568483,
          0.2849693518063551,
          0.2207549059953295,
          0.10285132204679967,
          0.33276105076848844
         ],
         "xaxis": "x23",
         "y": [
          0.99,
          0.95,
          0.99,
          0.95,
          0.97,
          0.95,
          0.95,
          0.97,
          0.97,
          0.99,
          0.999,
          0.97,
          0.999,
          0.999,
          0.999,
          0.999,
          0.999,
          0.999,
          0.999,
          0.999
         ],
         "yaxis": "y23"
        },
        {
         "colorbar": {
          "title": {
           "text": "Objective Value"
          }
         },
         "colorscale": [
          [
           0,
           "rgb(247,251,255)"
          ],
          [
           0.125,
           "rgb(222,235,247)"
          ],
          [
           0.25,
           "rgb(198,219,239)"
          ],
          [
           0.375,
           "rgb(158,202,225)"
          ],
          [
           0.5,
           "rgb(107,174,214)"
          ],
          [
           0.625,
           "rgb(66,146,198)"
          ],
          [
           0.75,
           "rgb(33,113,181)"
          ],
          [
           0.875,
           "rgb(8,81,156)"
          ],
          [
           1,
           "rgb(8,48,107)"
          ]
         ],
         "connectgaps": true,
         "contours": {
          "coloring": "heatmap"
         },
         "hoverinfo": "none",
         "line": {
          "smoothing": 1.3
         },
         "reversescale": false,
         "showscale": false,
         "type": "contour",
         "x": [
          0.08808577154129724,
          0.10285132204679967,
          0.15,
          0.15459451637855975,
          0.17438453927970288,
          0.18565335675148947,
          0.18681078435765253,
          0.2207549059953295,
          0.24251179186061247,
          0.25041073728025975,
          0.2630764493126711,
          0.26637499877020604,
          0.2849693518063551,
          0.2944147149109724,
          0.31429606364138596,
          0.321193255089133,
          0.33276105076848844,
          0.3363076909153072,
          0.3567410957919658,
          0.37860999961664626,
          0.3981623321568483,
          0.41292788266235075
         ],
         "xaxis": "x30",
         "y": [
          0.00000773048319158694,
          0.00001086510746874547,
          0.000024161822821989798,
          0.000025996428567044415,
          0.000030396539882732285,
          0.00006192213434077147,
          0.00006199254413961387,
          0.00007489266809258986,
          0.00007876818893430757,
          0.00009047215040400252,
          0.0001409077180700703,
          0.0002040739156778681,
          0.00024642280555448395,
          0.0003,
          0.0004476590948218718,
          0.0006024308603014506,
          0.001203349728557282,
          0.0013896388393775268,
          0.00257739955004777,
          0.004794569699089756,
          0.009830639023539483,
          0.01381685294826609
         ],
         "yaxis": "y30",
         "z": [
          [
           null,
           null,
           null,
           null,
           null,
           null,
           null,
           null,
           null,
           null,
           null,
           null,
           null,
           null,
           null,
           null,
           null,
           null,
           null,
           null,
           null,
           null
          ],
          [
           null,
           null,
           null,
           null,
           null,
           null,
           null,
           null,
           null,
           null,
           null,
           null,
           null,
           null,
           null,
           null,
           null,
           null,
           null,
           -54174.15,
           null,
           null
          ],
          [
           null,
           -6877743.058,
           null,
           null,
           null,
           null,
           null,
           null,
           null,
           null,
           null,
           null,
           null,
           null,
           null,
           null,
           null,
           null,
           null,
           null,
           null,
           null
          ],
          [
           null,
           null,
           null,
           null,
           null,
           null,
           null,
           null,
           null,
           null,
           null,
           -54416.482,
           null,
           null,
           null,
           null,
           null,
           null,
           null,
           null,
           null,
           null
          ],
          [
           null,
           null,
           null,
           null,
           null,
           -55350.331999999995,
           null,
           null,
           null,
           null,
           null,
           null,
           null,
           null,
           null,
           null,
           null,
           null,
           null,
           null,
           null,
           null
          ],
          [
           null,
           null,
           null,
           null,
           null,
           null,
           null,
           null,
           null,
           null,
           null,
           null,
           -54039.402,
           null,
           null,
           null,
           null,
           null,
           null,
           null,
           null,
           null
          ],
          [
           null,
           null,
           null,
           null,
           null,
           null,
           null,
           null,
           null,
           null,
           null,
           null,
           null,
           null,
           -54222.221999999994,
           null,
           null,
           null,
           null,
           null,
           null,
           null
          ],
          [
           null,
           null,
           null,
           null,
           null,
           null,
           null,
           null,
           null,
           null,
           null,
           null,
           null,
           null,
           null,
           -52825.71799999999,
           null,
           null,
           null,
           null,
           null,
           null
          ],
          [
           null,
           null,
           null,
           null,
           null,
           null,
           null,
           null,
           null,
           null,
           null,
           null,
           null,
           -53867.774,
           null,
           null,
           null,
           null,
           null,
           null,
           null,
           null
          ],
          [
           null,
           null,
           null,
           null,
           null,
           null,
           null,
           null,
           null,
           null,
           -52956.621999999996,
           null,
           null,
           null,
           null,
           null,
           null,
           null,
           null,
           null,
           null,
           null
          ],
          [
           null,
           null,
           null,
           null,
           null,
           null,
           null,
           null,
           null,
           null,
           null,
           null,
           null,
           null,
           null,
           null,
           null,
           -53744.19,
           null,
           null,
           null,
           null
          ],
          [
           null,
           null,
           null,
           null,
           null,
           null,
           null,
           null,
           null,
           -55846.478,
           null,
           null,
           null,
           null,
           null,
           null,
           null,
           null,
           null,
           null,
           null,
           null
          ],
          [
           null,
           null,
           null,
           null,
           -8354784.425999999,
           null,
           null,
           null,
           null,
           null,
           null,
           null,
           null,
           null,
           null,
           null,
           null,
           null,
           null,
           null,
           null,
           null
          ],
          [
           null,
           null,
           -55354.58200000001,
           null,
           null,
           null,
           null,
           null,
           null,
           null,
           null,
           null,
           null,
           null,
           null,
           null,
           null,
           null,
           null,
           null,
           null,
           null
          ],
          [
           null,
           null,
           null,
           -54913.414000000004,
           null,
           null,
           null,
           null,
           null,
           null,
           null,
           null,
           null,
           null,
           null,
           null,
           null,
           null,
           null,
           null,
           null,
           null
          ],
          [
           null,
           null,
           null,
           null,
           null,
           null,
           null,
           -54188.288,
           null,
           null,
           null,
           null,
           null,
           null,
           null,
           null,
           null,
           null,
           null,
           null,
           null,
           null
          ],
          [
           null,
           null,
           null,
           null,
           null,
           null,
           null,
           null,
           null,
           null,
           null,
           null,
           null,
           null,
           null,
           null,
           null,
           null,
           null,
           null,
           -53528.034,
           null
          ],
          [
           null,
           null,
           null,
           null,
           null,
           null,
           null,
           null,
           null,
           null,
           null,
           null,
           null,
           null,
           null,
           null,
           null,
           null,
           -55281.102,
           null,
           null,
           null
          ],
          [
           null,
           null,
           null,
           null,
           null,
           null,
           null,
           null,
           -6277071.776,
           null,
           null,
           null,
           null,
           null,
           null,
           null,
           null,
           null,
           null,
           null,
           null,
           null
          ],
          [
           null,
           null,
           null,
           null,
           null,
           null,
           -55475.382000000005,
           null,
           null,
           null,
           null,
           null,
           null,
           null,
           null,
           null,
           null,
           null,
           null,
           null,
           null,
           null
          ],
          [
           null,
           null,
           null,
           null,
           null,
           null,
           null,
           null,
           null,
           null,
           null,
           null,
           null,
           null,
           null,
           null,
           -55504.724,
           null,
           null,
           null,
           null,
           null
          ],
          [
           null,
           null,
           null,
           null,
           null,
           null,
           null,
           null,
           null,
           null,
           null,
           null,
           null,
           null,
           null,
           null,
           null,
           null,
           null,
           null,
           null,
           null
          ]
         ]
        },
        {
         "marker": {
          "color": "black",
          "line": {
           "color": "Gray",
           "width": 2
          }
         },
         "mode": "markers",
         "name": "Feasible Trial",
         "showlegend": false,
         "type": "scatter",
         "x": [
          0.15,
          0.18681078435765253,
          0.25041073728025975,
          0.18565335675148947,
          0.24251179186061247,
          0.15459451637855975,
          0.2944147149109724,
          0.3363076909153072,
          0.3567410957919658,
          0.17438453927970288,
          0.37860999961664626,
          0.31429606364138596,
          0.2630764493126711,
          0.321193255089133,
          0.26637499877020604,
          0.3981623321568483,
          0.2849693518063551,
          0.2207549059953295,
          0.10285132204679967,
          0.33276105076848844
         ],
         "xaxis": "x30",
         "y": [
          0.0003,
          0.004794569699089756,
          0.0002040739156778681,
          0.000030396539882732285,
          0.00257739955004777,
          0.0004476590948218718,
          0.00007876818893430757,
          0.0001409077180700703,
          0.0013896388393775268,
          0.00024642280555448395,
          0.00001086510746874547,
          0.00006199254413961387,
          0.00009047215040400252,
          0.00007489266809258986,
          0.000025996428567044415,
          0.001203349728557282,
          0.00006192213434077147,
          0.0006024308603014506,
          0.000024161822821989798,
          0.009830639023539483
         ],
         "yaxis": "y30"
        },
        {
         "colorbar": {
          "title": {
           "text": "Objective Value"
          }
         },
         "colorscale": [
          [
           0,
           "rgb(247,251,255)"
          ],
          [
           0.125,
           "rgb(222,235,247)"
          ],
          [
           0.25,
           "rgb(198,219,239)"
          ],
          [
           0.375,
           "rgb(158,202,225)"
          ],
          [
           0.5,
           "rgb(107,174,214)"
          ],
          [
           0.625,
           "rgb(66,146,198)"
          ],
          [
           0.75,
           "rgb(33,113,181)"
          ],
          [
           0.875,
           "rgb(8,81,156)"
          ],
          [
           1,
           "rgb(8,48,107)"
          ]
         ],
         "connectgaps": true,
         "contours": {
          "coloring": "heatmap"
         },
         "hoverinfo": "none",
         "line": {
          "smoothing": 1.3
         },
         "reversescale": false,
         "showscale": false,
         "type": "contour",
         "x": [
          0.08808577154129724,
          0.10285132204679967,
          0.15,
          0.15459451637855975,
          0.17438453927970288,
          0.18565335675148947,
          0.18681078435765253,
          0.2207549059953295,
          0.24251179186061247,
          0.25041073728025975,
          0.2630764493126711,
          0.26637499877020604,
          0.2849693518063551,
          0.2944147149109724,
          0.31429606364138596,
          0.321193255089133,
          0.33276105076848844,
          0.3363076909153072,
          0.3567410957919658,
          0.37860999961664626,
          0.3981623321568483,
          0.41292788266235075
         ],
         "xaxis": "x37",
         "y": [
          32,
          128,
          256,
          512,
          1024,
          2048,
          2144
         ],
         "yaxis": "y37",
         "z": [
          [
           null,
           null,
           null,
           null,
           null,
           null,
           null,
           null,
           null,
           null,
           null,
           null,
           null,
           null,
           null,
           null,
           null,
           null,
           null,
           null,
           null,
           null
          ],
          [
           null,
           null,
           null,
           null,
           -8354784.425999999,
           null,
           null,
           null,
           null,
           null,
           null,
           -54416.482,
           null,
           null,
           null,
           null,
           null,
           null,
           null,
           null,
           null,
           null
          ],
          [
           null,
           null,
           null,
           -54913.414000000004,
           null,
           null,
           -55475.382000000005,
           null,
           -6277071.776,
           -55846.478,
           null,
           null,
           null,
           null,
           null,
           null,
           null,
           null,
           null,
           null,
           null,
           null
          ],
          [
           null,
           -6877743.058,
           null,
           null,
           null,
           null,
           null,
           null,
           null,
           null,
           null,
           null,
           -54039.402,
           null,
           null,
           -52825.71799999999,
           null,
           -53744.19,
           -55281.102,
           -54174.15,
           null,
           null
          ],
          [
           null,
           null,
           null,
           null,
           null,
           -55350.331999999995,
           null,
           null,
           null,
           null,
           null,
           null,
           null,
           null,
           null,
           null,
           null,
           null,
           null,
           null,
           -53528.034,
           null
          ],
          [
           null,
           null,
           -55354.58200000001,
           null,
           null,
           null,
           null,
           -54188.288,
           null,
           null,
           -52956.621999999996,
           null,
           null,
           -53867.774,
           -54222.221999999994,
           null,
           -55504.724,
           null,
           null,
           null,
           null,
           null
          ],
          [
           null,
           null,
           null,
           null,
           null,
           null,
           null,
           null,
           null,
           null,
           null,
           null,
           null,
           null,
           null,
           null,
           null,
           null,
           null,
           null,
           null,
           null
          ]
         ]
        },
        {
         "marker": {
          "color": "black",
          "line": {
           "color": "Gray",
           "width": 2
          }
         },
         "mode": "markers",
         "name": "Feasible Trial",
         "showlegend": false,
         "type": "scatter",
         "x": [
          0.15,
          0.18681078435765253,
          0.25041073728025975,
          0.18565335675148947,
          0.24251179186061247,
          0.15459451637855975,
          0.2944147149109724,
          0.3363076909153072,
          0.3567410957919658,
          0.17438453927970288,
          0.37860999961664626,
          0.31429606364138596,
          0.2630764493126711,
          0.321193255089133,
          0.26637499877020604,
          0.3981623321568483,
          0.2849693518063551,
          0.2207549059953295,
          0.10285132204679967,
          0.33276105076848844
         ],
         "xaxis": "x37",
         "y": [
          2048,
          256,
          256,
          1024,
          256,
          256,
          2048,
          512,
          512,
          128,
          512,
          2048,
          2048,
          512,
          128,
          1024,
          512,
          2048,
          512,
          2048
         ],
         "yaxis": "y37"
        },
        {
         "colorbar": {
          "title": {
           "text": "Objective Value"
          }
         },
         "colorscale": [
          [
           0,
           "rgb(247,251,255)"
          ],
          [
           0.125,
           "rgb(222,235,247)"
          ],
          [
           0.25,
           "rgb(198,219,239)"
          ],
          [
           0.375,
           "rgb(158,202,225)"
          ],
          [
           0.5,
           "rgb(107,174,214)"
          ],
          [
           0.625,
           "rgb(66,146,198)"
          ],
          [
           0.75,
           "rgb(33,113,181)"
          ],
          [
           0.875,
           "rgb(8,81,156)"
          ],
          [
           1,
           "rgb(8,48,107)"
          ]
         ],
         "connectgaps": true,
         "contours": {
          "coloring": "heatmap"
         },
         "hoverinfo": "none",
         "line": {
          "smoothing": 1.3
         },
         "reversescale": false,
         "showscale": false,
         "type": "contour",
         "x": [
          0.08808577154129724,
          0.10285132204679967,
          0.15,
          0.15459451637855975,
          0.17438453927970288,
          0.18565335675148947,
          0.18681078435765253,
          0.2207549059953295,
          0.24251179186061247,
          0.25041073728025975,
          0.2630764493126711,
          0.26637499877020604,
          0.2849693518063551,
          0.2944147149109724,
          0.31429606364138596,
          0.321193255089133,
          0.33276105076848844,
          0.3363076909153072,
          0.3567410957919658,
          0.37860999961664626,
          0.3981623321568483,
          0.41292788266235075
         ],
         "xaxis": "x44",
         "y": [
          0.06440089456040873,
          0.10687633648985499,
          0.11492751627263009,
          0.15531908586787582,
          0.2213326366249019,
          0.25815310478046444,
          0.3252961331886048,
          0.3276379009688698,
          0.41879709330381787,
          0.5,
          0.5003494908161767,
          0.6209676850887675,
          0.6236556946071977,
          0.6490619246022484,
          0.7551510755325068,
          0.7554611876239332,
          0.7660662297530773,
          0.8102344169718921,
          0.8311182480602305,
          0.9380400576794671,
          0.95638517507878,
          0.9988606170082263
         ],
         "yaxis": "y44",
         "z": [
          [
           null,
           null,
           null,
           null,
           null,
           null,
           null,
           null,
           null,
           null,
           null,
           null,
           null,
           null,
           null,
           null,
           null,
           null,
           null,
           null,
           null,
           null
          ],
          [
           null,
           null,
           null,
           null,
           null,
           null,
           null,
           null,
           null,
           null,
           null,
           -54416.482,
           null,
           null,
           null,
           null,
           null,
           null,
           null,
           null,
           null,
           null
          ],
          [
           null,
           null,
           null,
           null,
           null,
           null,
           null,
           null,
           null,
           null,
           -52956.621999999996,
           null,
           null,
           null,
           null,
           null,
           null,
           null,
           null,
           null,
           null,
           null
          ],
          [
           null,
           null,
           null,
           null,
           null,
           null,
           null,
           null,
           null,
           null,
           null,
           null,
           null,
           null,
           -54222.221999999994,
           null,
           null,
           null,
           null,
           null,
           null,
           null
          ],
          [
           null,
           null,
           null,
           null,
           null,
           null,
           null,
           null,
           null,
           null,
           null,
           null,
           null,
           -53867.774,
           null,
           null,
           null,
           null,
           null,
           null,
           null,
           null
          ],
          [
           null,
           null,
           null,
           null,
           null,
           null,
           null,
           null,
           null,
           null,
           null,
           null,
           null,
           null,
           null,
           null,
           -55504.724,
           null,
           null,
           null,
           null,
           null
          ],
          [
           null,
           null,
           null,
           null,
           null,
           -55350.331999999995,
           null,
           null,
           null,
           null,
           null,
           null,
           null,
           null,
           null,
           null,
           null,
           null,
           null,
           null,
           null,
           null
          ],
          [
           null,
           null,
           null,
           null,
           null,
           null,
           null,
           null,
           null,
           null,
           null,
           null,
           null,
           null,
           null,
           null,
           null,
           null,
           null,
           null,
           -53528.034,
           null
          ],
          [
           null,
           null,
           null,
           null,
           null,
           null,
           null,
           null,
           -6277071.776,
           null,
           null,
           null,
           null,
           null,
           null,
           null,
           null,
           null,
           null,
           null,
           null,
           null
          ],
          [
           null,
           null,
           -55354.58200000001,
           null,
           null,
           null,
           null,
           null,
           null,
           null,
           null,
           null,
           null,
           null,
           null,
           null,
           null,
           null,
           null,
           null,
           null,
           null
          ],
          [
           null,
           null,
           null,
           null,
           null,
           null,
           null,
           -54188.288,
           null,
           null,
           null,
           null,
           null,
           null,
           null,
           null,
           null,
           null,
           null,
           null,
           null,
           null
          ],
          [
           null,
           null,
           null,
           -54913.414000000004,
           null,
           null,
           null,
           null,
           null,
           null,
           null,
           null,
           null,
           null,
           null,
           null,
           null,
           null,
           null,
           null,
           null,
           null
          ],
          [
           null,
           null,
           null,
           null,
           null,
           null,
           -55475.382000000005,
           null,
           null,
           null,
           null,
           null,
           null,
           null,
           null,
           null,
           null,
           null,
           null,
           null,
           null,
           null
          ],
          [
           null,
           null,
           null,
           null,
           null,
           null,
           null,
           null,
           null,
           null,
           null,
           null,
           -54039.402,
           null,
           null,
           null,
           null,
           null,
           null,
           null,
           null,
           null
          ],
          [
           null,
           null,
           null,
           null,
           null,
           null,
           null,
           null,
           null,
           null,
           null,
           null,
           null,
           null,
           null,
           null,
           null,
           -53744.19,
           null,
           null,
           null,
           null
          ],
          [
           null,
           null,
           null,
           null,
           null,
           null,
           null,
           null,
           null,
           null,
           null,
           null,
           null,
           null,
           null,
           -52825.71799999999,
           null,
           null,
           null,
           null,
           null,
           null
          ],
          [
           null,
           null,
           null,
           null,
           null,
           null,
           null,
           null,
           null,
           null,
           null,
           null,
           null,
           null,
           null,
           null,
           null,
           null,
           null,
           -54174.15,
           null,
           null
          ],
          [
           null,
           -6877743.058,
           null,
           null,
           null,
           null,
           null,
           null,
           null,
           null,
           null,
           null,
           null,
           null,
           null,
           null,
           null,
           null,
           null,
           null,
           null,
           null
          ],
          [
           null,
           null,
           null,
           null,
           null,
           null,
           null,
           null,
           null,
           null,
           null,
           null,
           null,
           null,
           null,
           null,
           null,
           null,
           -55281.102,
           null,
           null,
           null
          ],
          [
           null,
           null,
           null,
           null,
           null,
           null,
           null,
           null,
           null,
           -55846.478,
           null,
           null,
           null,
           null,
           null,
           null,
           null,
           null,
           null,
           null,
           null,
           null
          ],
          [
           null,
           null,
           null,
           null,
           -8354784.425999999,
           null,
           null,
           null,
           null,
           null,
           null,
           null,
           null,
           null,
           null,
           null,
           null,
           null,
           null,
           null,
           null,
           null
          ],
          [
           null,
           null,
           null,
           null,
           null,
           null,
           null,
           null,
           null,
           null,
           null,
           null,
           null,
           null,
           null,
           null,
           null,
           null,
           null,
           null,
           null,
           null
          ]
         ]
        },
        {
         "marker": {
          "color": "black",
          "line": {
           "color": "Gray",
           "width": 2
          }
         },
         "mode": "markers",
         "name": "Feasible Trial",
         "showlegend": false,
         "type": "scatter",
         "x": [
          0.15,
          0.18681078435765253,
          0.25041073728025975,
          0.18565335675148947,
          0.24251179186061247,
          0.15459451637855975,
          0.2944147149109724,
          0.3363076909153072,
          0.3567410957919658,
          0.17438453927970288,
          0.37860999961664626,
          0.31429606364138596,
          0.2630764493126711,
          0.321193255089133,
          0.26637499877020604,
          0.3981623321568483,
          0.2849693518063551,
          0.2207549059953295,
          0.10285132204679967,
          0.33276105076848844
         ],
         "xaxis": "x44",
         "y": [
          0.5,
          0.6236556946071977,
          0.9380400576794671,
          0.3252961331886048,
          0.41879709330381787,
          0.6209676850887675,
          0.2213326366249019,
          0.7551510755325068,
          0.8311182480602305,
          0.95638517507878,
          0.7660662297530773,
          0.15531908586787582,
          0.11492751627263009,
          0.7554611876239332,
          0.10687633648985499,
          0.3276379009688698,
          0.6490619246022484,
          0.5003494908161767,
          0.8102344169718921,
          0.25815310478046444
         ],
         "yaxis": "y44"
        },
        {
         "colorbar": {
          "title": {
           "text": "Objective Value"
          }
         },
         "colorscale": [
          [
           0,
           "rgb(247,251,255)"
          ],
          [
           0.125,
           "rgb(222,235,247)"
          ],
          [
           0.25,
           "rgb(198,219,239)"
          ],
          [
           0.375,
           "rgb(158,202,225)"
          ],
          [
           0.5,
           "rgb(107,174,214)"
          ],
          [
           0.625,
           "rgb(66,146,198)"
          ],
          [
           0.75,
           "rgb(33,113,181)"
          ],
          [
           0.875,
           "rgb(8,81,156)"
          ],
          [
           1,
           "rgb(8,48,107)"
          ]
         ],
         "connectgaps": true,
         "contours": {
          "coloring": "heatmap"
         },
         "hoverinfo": "none",
         "line": {
          "smoothing": 1.3
         },
         "reversescale": false,
         "showscale": false,
         "type": "contour",
         "x": [
          0.0000750090620361006,
          0.00010543530575853422,
          0.0002183834913739417,
          0.0007996321281186954,
          0.000923405436469188,
          0.0017862914778816626,
          0.0030635735274230193,
          0.0040082164983855865,
          0.004017375151542843,
          0.007403523032770856,
          0.009404988026095698,
          0.01,
          0.011214194865239198,
          0.012522877055348854,
          0.018390985691451717,
          0.019026900906968597,
          0.02429955575166297,
          0.035009587260110664,
          0.053872712650775374,
          0.08051354809558334,
          0.095594433162897,
          0.1343708082163851
         ],
         "xaxis": "x3",
         "y": [
          4,
          16,
          32,
          64,
          128,
          256,
          268
         ],
         "yaxis": "y3",
         "z": [
          [
           null,
           null,
           null,
           null,
           null,
           null,
           null,
           null,
           null,
           null,
           null,
           null,
           null,
           null,
           null,
           null,
           null,
           null,
           null,
           null,
           null,
           null
          ],
          [
           null,
           -54174.15,
           null,
           null,
           null,
           null,
           null,
           null,
           null,
           null,
           null,
           null,
           null,
           null,
           null,
           null,
           null,
           null,
           null,
           null,
           -6877743.058,
           null
          ],
          [
           null,
           null,
           null,
           null,
           -54188.288,
           null,
           null,
           null,
           null,
           -55504.724,
           -54039.402,
           null,
           null,
           -52956.621999999996,
           -52825.71799999999,
           null,
           -54416.482,
           -53528.034,
           null,
           -8354784.425999999,
           null,
           null
          ],
          [
           null,
           null,
           -55281.102,
           null,
           null,
           null,
           null,
           -53867.774,
           -55846.478,
           null,
           null,
           -55354.58200000001,
           null,
           null,
           null,
           null,
           null,
           null,
           null,
           null,
           null,
           null
          ],
          [
           null,
           null,
           null,
           -55350.331999999995,
           null,
           null,
           null,
           null,
           null,
           null,
           null,
           null,
           null,
           null,
           null,
           -54913.414000000004,
           null,
           null,
           null,
           null,
           null,
           null
          ],
          [
           null,
           null,
           null,
           null,
           null,
           -54222.221999999994,
           -55475.382000000005,
           null,
           null,
           null,
           null,
           null,
           -53744.19,
           null,
           null,
           null,
           null,
           null,
           -6277071.776,
           null,
           null,
           null
          ],
          [
           null,
           null,
           null,
           null,
           null,
           null,
           null,
           null,
           null,
           null,
           null,
           null,
           null,
           null,
           null,
           null,
           null,
           null,
           null,
           null,
           null,
           null
          ]
         ]
        },
        {
         "marker": {
          "color": "black",
          "line": {
           "color": "Gray",
           "width": 2
          }
         },
         "mode": "markers",
         "name": "Feasible Trial",
         "showlegend": false,
         "type": "scatter",
         "x": [
          0.01,
          0.0030635735274230193,
          0.004017375151542843,
          0.0007996321281186954,
          0.053872712650775374,
          0.019026900906968597,
          0.0040082164983855865,
          0.011214194865239198,
          0.0002183834913739417,
          0.08051354809558334,
          0.00010543530575853422,
          0.0017862914778816626,
          0.012522877055348854,
          0.018390985691451717,
          0.02429955575166297,
          0.035009587260110664,
          0.009404988026095698,
          0.000923405436469188,
          0.095594433162897,
          0.007403523032770856
         ],
         "xaxis": "x3",
         "y": [
          64,
          256,
          64,
          128,
          256,
          128,
          64,
          256,
          64,
          32,
          16,
          256,
          32,
          32,
          32,
          32,
          32,
          32,
          16,
          32
         ],
         "yaxis": "y3"
        },
        {
         "colorbar": {
          "title": {
           "text": "Objective Value"
          }
         },
         "colorscale": [
          [
           0,
           "rgb(247,251,255)"
          ],
          [
           0.125,
           "rgb(222,235,247)"
          ],
          [
           0.25,
           "rgb(198,219,239)"
          ],
          [
           0.375,
           "rgb(158,202,225)"
          ],
          [
           0.5,
           "rgb(107,174,214)"
          ],
          [
           0.625,
           "rgb(66,146,198)"
          ],
          [
           0.75,
           "rgb(33,113,181)"
          ],
          [
           0.875,
           "rgb(8,81,156)"
          ],
          [
           1,
           "rgb(8,48,107)"
          ]
         ],
         "connectgaps": true,
         "contours": {
          "coloring": "heatmap"
         },
         "hoverinfo": "none",
         "line": {
          "smoothing": 1.3
         },
         "reversescale": false,
         "showscale": false,
         "type": "contour",
         "x": [
          0.0000750090620361006,
          0.00010543530575853422,
          0.0002183834913739417,
          0.0007996321281186954,
          0.000923405436469188,
          0.0017862914778816626,
          0.0030635735274230193,
          0.0040082164983855865,
          0.004017375151542843,
          0.007403523032770856,
          0.009404988026095698,
          0.01,
          0.011214194865239198,
          0.012522877055348854,
          0.018390985691451717,
          0.019026900906968597,
          0.02429955575166297,
          0.035009587260110664,
          0.053872712650775374,
          0.08051354809558334,
          0.095594433162897,
          0.1343708082163851
         ],
         "xaxis": "x10",
         "y": [
          0.08808577154129724,
          0.10285132204679967,
          0.15,
          0.15459451637855975,
          0.17438453927970288,
          0.18565335675148947,
          0.18681078435765253,
          0.2207549059953295,
          0.24251179186061247,
          0.25041073728025975,
          0.2630764493126711,
          0.26637499877020604,
          0.2849693518063551,
          0.2944147149109724,
          0.31429606364138596,
          0.321193255089133,
          0.33276105076848844,
          0.3363076909153072,
          0.3567410957919658,
          0.37860999961664626,
          0.3981623321568483,
          0.41292788266235075
         ],
         "yaxis": "y10",
         "z": [
          [
           null,
           null,
           null,
           null,
           null,
           null,
           null,
           null,
           null,
           null,
           null,
           null,
           null,
           null,
           null,
           null,
           null,
           null,
           null,
           null,
           null,
           null
          ],
          [
           null,
           null,
           null,
           null,
           null,
           null,
           null,
           null,
           null,
           null,
           null,
           null,
           null,
           null,
           null,
           null,
           null,
           null,
           null,
           null,
           -6877743.058,
           null
          ],
          [
           null,
           null,
           null,
           null,
           null,
           null,
           null,
           null,
           null,
           null,
           null,
           -55354.58200000001,
           null,
           null,
           null,
           null,
           null,
           null,
           null,
           null,
           null,
           null
          ],
          [
           null,
           null,
           null,
           null,
           null,
           null,
           null,
           null,
           null,
           null,
           null,
           null,
           null,
           null,
           null,
           -54913.414000000004,
           null,
           null,
           null,
           null,
           null,
           null
          ],
          [
           null,
           null,
           null,
           null,
           null,
           null,
           null,
           null,
           null,
           null,
           null,
           null,
           null,
           null,
           null,
           null,
           null,
           null,
           null,
           -8354784.425999999,
           null,
           null
          ],
          [
           null,
           null,
           null,
           -55350.331999999995,
           null,
           null,
           null,
           null,
           null,
           null,
           null,
           null,
           null,
           null,
           null,
           null,
           null,
           null,
           null,
           null,
           null,
           null
          ],
          [
           null,
           null,
           null,
           null,
           null,
           null,
           -55475.382000000005,
           null,
           null,
           null,
           null,
           null,
           null,
           null,
           null,
           null,
           null,
           null,
           null,
           null,
           null,
           null
          ],
          [
           null,
           null,
           null,
           null,
           -54188.288,
           null,
           null,
           null,
           null,
           null,
           null,
           null,
           null,
           null,
           null,
           null,
           null,
           null,
           null,
           null,
           null,
           null
          ],
          [
           null,
           null,
           null,
           null,
           null,
           null,
           null,
           null,
           null,
           null,
           null,
           null,
           null,
           null,
           null,
           null,
           null,
           null,
           -6277071.776,
           null,
           null,
           null
          ],
          [
           null,
           null,
           null,
           null,
           null,
           null,
           null,
           null,
           -55846.478,
           null,
           null,
           null,
           null,
           null,
           null,
           null,
           null,
           null,
           null,
           null,
           null,
           null
          ],
          [
           null,
           null,
           null,
           null,
           null,
           null,
           null,
           null,
           null,
           null,
           null,
           null,
           null,
           -52956.621999999996,
           null,
           null,
           null,
           null,
           null,
           null,
           null,
           null
          ],
          [
           null,
           null,
           null,
           null,
           null,
           null,
           null,
           null,
           null,
           null,
           null,
           null,
           null,
           null,
           null,
           null,
           -54416.482,
           null,
           null,
           null,
           null,
           null
          ],
          [
           null,
           null,
           null,
           null,
           null,
           null,
           null,
           null,
           null,
           null,
           -54039.402,
           null,
           null,
           null,
           null,
           null,
           null,
           null,
           null,
           null,
           null,
           null
          ],
          [
           null,
           null,
           null,
           null,
           null,
           null,
           null,
           -53867.774,
           null,
           null,
           null,
           null,
           null,
           null,
           null,
           null,
           null,
           null,
           null,
           null,
           null,
           null
          ],
          [
           null,
           null,
           null,
           null,
           null,
           -54222.221999999994,
           null,
           null,
           null,
           null,
           null,
           null,
           null,
           null,
           null,
           null,
           null,
           null,
           null,
           null,
           null,
           null
          ],
          [
           null,
           null,
           null,
           null,
           null,
           null,
           null,
           null,
           null,
           null,
           null,
           null,
           null,
           null,
           -52825.71799999999,
           null,
           null,
           null,
           null,
           null,
           null,
           null
          ],
          [
           null,
           null,
           null,
           null,
           null,
           null,
           null,
           null,
           null,
           -55504.724,
           null,
           null,
           null,
           null,
           null,
           null,
           null,
           null,
           null,
           null,
           null,
           null
          ],
          [
           null,
           null,
           null,
           null,
           null,
           null,
           null,
           null,
           null,
           null,
           null,
           null,
           -53744.19,
           null,
           null,
           null,
           null,
           null,
           null,
           null,
           null,
           null
          ],
          [
           null,
           null,
           -55281.102,
           null,
           null,
           null,
           null,
           null,
           null,
           null,
           null,
           null,
           null,
           null,
           null,
           null,
           null,
           null,
           null,
           null,
           null,
           null
          ],
          [
           null,
           -54174.15,
           null,
           null,
           null,
           null,
           null,
           null,
           null,
           null,
           null,
           null,
           null,
           null,
           null,
           null,
           null,
           null,
           null,
           null,
           null,
           null
          ],
          [
           null,
           null,
           null,
           null,
           null,
           null,
           null,
           null,
           null,
           null,
           null,
           null,
           null,
           null,
           null,
           null,
           null,
           -53528.034,
           null,
           null,
           null,
           null
          ],
          [
           null,
           null,
           null,
           null,
           null,
           null,
           null,
           null,
           null,
           null,
           null,
           null,
           null,
           null,
           null,
           null,
           null,
           null,
           null,
           null,
           null,
           null
          ]
         ]
        },
        {
         "marker": {
          "color": "black",
          "line": {
           "color": "Gray",
           "width": 2
          }
         },
         "mode": "markers",
         "name": "Feasible Trial",
         "showlegend": false,
         "type": "scatter",
         "x": [
          0.01,
          0.0030635735274230193,
          0.004017375151542843,
          0.0007996321281186954,
          0.053872712650775374,
          0.019026900906968597,
          0.0040082164983855865,
          0.011214194865239198,
          0.0002183834913739417,
          0.08051354809558334,
          0.00010543530575853422,
          0.0017862914778816626,
          0.012522877055348854,
          0.018390985691451717,
          0.02429955575166297,
          0.035009587260110664,
          0.009404988026095698,
          0.000923405436469188,
          0.095594433162897,
          0.007403523032770856
         ],
         "xaxis": "x10",
         "y": [
          0.15,
          0.18681078435765253,
          0.25041073728025975,
          0.18565335675148947,
          0.24251179186061247,
          0.15459451637855975,
          0.2944147149109724,
          0.3363076909153072,
          0.3567410957919658,
          0.17438453927970288,
          0.37860999961664626,
          0.31429606364138596,
          0.2630764493126711,
          0.321193255089133,
          0.26637499877020604,
          0.3981623321568483,
          0.2849693518063551,
          0.2207549059953295,
          0.10285132204679967,
          0.33276105076848844
         ],
         "yaxis": "y10"
        },
        {
         "type": "scatter",
         "xaxis": "x17",
         "yaxis": "y17"
        },
        {
         "colorbar": {
          "title": {
           "text": "Objective Value"
          }
         },
         "colorscale": [
          [
           0,
           "rgb(247,251,255)"
          ],
          [
           0.125,
           "rgb(222,235,247)"
          ],
          [
           0.25,
           "rgb(198,219,239)"
          ],
          [
           0.375,
           "rgb(158,202,225)"
          ],
          [
           0.5,
           "rgb(107,174,214)"
          ],
          [
           0.625,
           "rgb(66,146,198)"
          ],
          [
           0.75,
           "rgb(33,113,181)"
          ],
          [
           0.875,
           "rgb(8,81,156)"
          ],
          [
           1,
           "rgb(8,48,107)"
          ]
         ],
         "connectgaps": true,
         "contours": {
          "coloring": "heatmap"
         },
         "hoverinfo": "none",
         "line": {
          "smoothing": 1.3
         },
         "reversescale": false,
         "showscale": false,
         "type": "contour",
         "x": [
          0.0000750090620361006,
          0.00010543530575853422,
          0.0002183834913739417,
          0.0007996321281186954,
          0.000923405436469188,
          0.0017862914778816626,
          0.0030635735274230193,
          0.0040082164983855865,
          0.004017375151542843,
          0.007403523032770856,
          0.009404988026095698,
          0.01,
          0.011214194865239198,
          0.012522877055348854,
          0.018390985691451717,
          0.019026900906968597,
          0.02429955575166297,
          0.035009587260110664,
          0.053872712650775374,
          0.08051354809558334,
          0.095594433162897,
          0.1343708082163851
         ],
         "xaxis": "x24",
         "y": [
          0.94755,
          0.95,
          0.97,
          0.99,
          0.999,
          1.00145
         ],
         "yaxis": "y24",
         "z": [
          [
           null,
           null,
           null,
           null,
           null,
           null,
           null,
           null,
           null,
           null,
           null,
           null,
           null,
           null,
           null,
           null,
           null,
           null,
           null,
           null,
           null,
           null
          ],
          [
           null,
           null,
           null,
           -55350.331999999995,
           null,
           null,
           -55475.382000000005,
           -53867.774,
           null,
           null,
           null,
           null,
           null,
           null,
           null,
           -54913.414000000004,
           null,
           null,
           null,
           null,
           null,
           null
          ],
          [
           null,
           null,
           -55281.102,
           null,
           null,
           -54222.221999999994,
           null,
           null,
           null,
           null,
           null,
           null,
           -53744.19,
           null,
           null,
           null,
           null,
           null,
           -6277071.776,
           null,
           null,
           null
          ],
          [
           null,
           null,
           null,
           null,
           null,
           null,
           null,
           null,
           -55846.478,
           null,
           null,
           -55354.58200000001,
           null,
           null,
           null,
           null,
           null,
           null,
           null,
           -8354784.425999999,
           null,
           null
          ],
          [
           null,
           -54174.15,
           null,
           null,
           -54188.288,
           null,
           null,
           null,
           null,
           -55504.724,
           -54039.402,
           null,
           null,
           -52956.621999999996,
           -52825.71799999999,
           null,
           -54416.482,
           -53528.034,
           null,
           null,
           -6877743.058,
           null
          ],
          [
           null,
           null,
           null,
           null,
           null,
           null,
           null,
           null,
           null,
           null,
           null,
           null,
           null,
           null,
           null,
           null,
           null,
           null,
           null,
           null,
           null,
           null
          ]
         ]
        },
        {
         "marker": {
          "color": "black",
          "line": {
           "color": "Gray",
           "width": 2
          }
         },
         "mode": "markers",
         "name": "Feasible Trial",
         "showlegend": false,
         "type": "scatter",
         "x": [
          0.01,
          0.0030635735274230193,
          0.004017375151542843,
          0.0007996321281186954,
          0.053872712650775374,
          0.019026900906968597,
          0.0040082164983855865,
          0.011214194865239198,
          0.0002183834913739417,
          0.08051354809558334,
          0.00010543530575853422,
          0.0017862914778816626,
          0.012522877055348854,
          0.018390985691451717,
          0.02429955575166297,
          0.035009587260110664,
          0.009404988026095698,
          0.000923405436469188,
          0.095594433162897,
          0.007403523032770856
         ],
         "xaxis": "x24",
         "y": [
          0.99,
          0.95,
          0.99,
          0.95,
          0.97,
          0.95,
          0.95,
          0.97,
          0.97,
          0.99,
          0.999,
          0.97,
          0.999,
          0.999,
          0.999,
          0.999,
          0.999,
          0.999,
          0.999,
          0.999
         ],
         "yaxis": "y24"
        },
        {
         "colorbar": {
          "title": {
           "text": "Objective Value"
          }
         },
         "colorscale": [
          [
           0,
           "rgb(247,251,255)"
          ],
          [
           0.125,
           "rgb(222,235,247)"
          ],
          [
           0.25,
           "rgb(198,219,239)"
          ],
          [
           0.375,
           "rgb(158,202,225)"
          ],
          [
           0.5,
           "rgb(107,174,214)"
          ],
          [
           0.625,
           "rgb(66,146,198)"
          ],
          [
           0.75,
           "rgb(33,113,181)"
          ],
          [
           0.875,
           "rgb(8,81,156)"
          ],
          [
           1,
           "rgb(8,48,107)"
          ]
         ],
         "connectgaps": true,
         "contours": {
          "coloring": "heatmap"
         },
         "hoverinfo": "none",
         "line": {
          "smoothing": 1.3
         },
         "reversescale": false,
         "showscale": false,
         "type": "contour",
         "x": [
          0.0000750090620361006,
          0.00010543530575853422,
          0.0002183834913739417,
          0.0007996321281186954,
          0.000923405436469188,
          0.0017862914778816626,
          0.0030635735274230193,
          0.0040082164983855865,
          0.004017375151542843,
          0.007403523032770856,
          0.009404988026095698,
          0.01,
          0.011214194865239198,
          0.012522877055348854,
          0.018390985691451717,
          0.019026900906968597,
          0.02429955575166297,
          0.035009587260110664,
          0.053872712650775374,
          0.08051354809558334,
          0.095594433162897,
          0.1343708082163851
         ],
         "xaxis": "x31",
         "y": [
          0.00000773048319158694,
          0.00001086510746874547,
          0.000024161822821989798,
          0.000025996428567044415,
          0.000030396539882732285,
          0.00006192213434077147,
          0.00006199254413961387,
          0.00007489266809258986,
          0.00007876818893430757,
          0.00009047215040400252,
          0.0001409077180700703,
          0.0002040739156778681,
          0.00024642280555448395,
          0.0003,
          0.0004476590948218718,
          0.0006024308603014506,
          0.001203349728557282,
          0.0013896388393775268,
          0.00257739955004777,
          0.004794569699089756,
          0.009830639023539483,
          0.01381685294826609
         ],
         "yaxis": "y31",
         "z": [
          [
           null,
           null,
           null,
           null,
           null,
           null,
           null,
           null,
           null,
           null,
           null,
           null,
           null,
           null,
           null,
           null,
           null,
           null,
           null,
           null,
           null,
           null
          ],
          [
           null,
           -54174.15,
           null,
           null,
           null,
           null,
           null,
           null,
           null,
           null,
           null,
           null,
           null,
           null,
           null,
           null,
           null,
           null,
           null,
           null,
           null,
           null
          ],
          [
           null,
           null,
           null,
           null,
           null,
           null,
           null,
           null,
           null,
           null,
           null,
           null,
           null,
           null,
           null,
           null,
           null,
           null,
           null,
           null,
           -6877743.058,
           null
          ],
          [
           null,
           null,
           null,
           null,
           null,
           null,
           null,
           null,
           null,
           null,
           null,
           null,
           null,
           null,
           null,
           null,
           -54416.482,
           null,
           null,
           null,
           null,
           null
          ],
          [
           null,
           null,
           null,
           -55350.331999999995,
           null,
           null,
           null,
           null,
           null,
           null,
           null,
           null,
           null,
           null,
           null,
           null,
           null,
           null,
           null,
           null,
           null,
           null
          ],
          [
           null,
           null,
           null,
           null,
           null,
           null,
           null,
           null,
           null,
           null,
           -54039.402,
           null,
           null,
           null,
           null,
           null,
           null,
           null,
           null,
           null,
           null,
           null
          ],
          [
           null,
           null,
           null,
           null,
           null,
           -54222.221999999994,
           null,
           null,
           null,
           null,
           null,
           null,
           null,
           null,
           null,
           null,
           null,
           null,
           null,
           null,
           null,
           null
          ],
          [
           null,
           null,
           null,
           null,
           null,
           null,
           null,
           null,
           null,
           null,
           null,
           null,
           null,
           null,
           -52825.71799999999,
           null,
           null,
           null,
           null,
           null,
           null,
           null
          ],
          [
           null,
           null,
           null,
           null,
           null,
           null,
           null,
           -53867.774,
           null,
           null,
           null,
           null,
           null,
           null,
           null,
           null,
           null,
           null,
           null,
           null,
           null,
           null
          ],
          [
           null,
           null,
           null,
           null,
           null,
           null,
           null,
           null,
           null,
           null,
           null,
           null,
           null,
           -52956.621999999996,
           null,
           null,
           null,
           null,
           null,
           null,
           null,
           null
          ],
          [
           null,
           null,
           null,
           null,
           null,
           null,
           null,
           null,
           null,
           null,
           null,
           null,
           -53744.19,
           null,
           null,
           null,
           null,
           null,
           null,
           null,
           null,
           null
          ],
          [
           null,
           null,
           null,
           null,
           null,
           null,
           null,
           null,
           -55846.478,
           null,
           null,
           null,
           null,
           null,
           null,
           null,
           null,
           null,
           null,
           null,
           null,
           null
          ],
          [
           null,
           null,
           null,
           null,
           null,
           null,
           null,
           null,
           null,
           null,
           null,
           null,
           null,
           null,
           null,
           null,
           null,
           null,
           null,
           -8354784.425999999,
           null,
           null
          ],
          [
           null,
           null,
           null,
           null,
           null,
           null,
           null,
           null,
           null,
           null,
           null,
           -55354.58200000001,
           null,
           null,
           null,
           null,
           null,
           null,
           null,
           null,
           null,
           null
          ],
          [
           null,
           null,
           null,
           null,
           null,
           null,
           null,
           null,
           null,
           null,
           null,
           null,
           null,
           null,
           null,
           -54913.414000000004,
           null,
           null,
           null,
           null,
           null,
           null
          ],
          [
           null,
           null,
           null,
           null,
           -54188.288,
           null,
           null,
           null,
           null,
           null,
           null,
           null,
           null,
           null,
           null,
           null,
           null,
           null,
           null,
           null,
           null,
           null
          ],
          [
           null,
           null,
           null,
           null,
           null,
           null,
           null,
           null,
           null,
           null,
           null,
           null,
           null,
           null,
           null,
           null,
           null,
           -53528.034,
           null,
           null,
           null,
           null
          ],
          [
           null,
           null,
           -55281.102,
           null,
           null,
           null,
           null,
           null,
           null,
           null,
           null,
           null,
           null,
           null,
           null,
           null,
           null,
           null,
           null,
           null,
           null,
           null
          ],
          [
           null,
           null,
           null,
           null,
           null,
           null,
           null,
           null,
           null,
           null,
           null,
           null,
           null,
           null,
           null,
           null,
           null,
           null,
           -6277071.776,
           null,
           null,
           null
          ],
          [
           null,
           null,
           null,
           null,
           null,
           null,
           -55475.382000000005,
           null,
           null,
           null,
           null,
           null,
           null,
           null,
           null,
           null,
           null,
           null,
           null,
           null,
           null,
           null
          ],
          [
           null,
           null,
           null,
           null,
           null,
           null,
           null,
           null,
           null,
           -55504.724,
           null,
           null,
           null,
           null,
           null,
           null,
           null,
           null,
           null,
           null,
           null,
           null
          ],
          [
           null,
           null,
           null,
           null,
           null,
           null,
           null,
           null,
           null,
           null,
           null,
           null,
           null,
           null,
           null,
           null,
           null,
           null,
           null,
           null,
           null,
           null
          ]
         ]
        },
        {
         "marker": {
          "color": "black",
          "line": {
           "color": "Gray",
           "width": 2
          }
         },
         "mode": "markers",
         "name": "Feasible Trial",
         "showlegend": false,
         "type": "scatter",
         "x": [
          0.01,
          0.0030635735274230193,
          0.004017375151542843,
          0.0007996321281186954,
          0.053872712650775374,
          0.019026900906968597,
          0.0040082164983855865,
          0.011214194865239198,
          0.0002183834913739417,
          0.08051354809558334,
          0.00010543530575853422,
          0.0017862914778816626,
          0.012522877055348854,
          0.018390985691451717,
          0.02429955575166297,
          0.035009587260110664,
          0.009404988026095698,
          0.000923405436469188,
          0.095594433162897,
          0.007403523032770856
         ],
         "xaxis": "x31",
         "y": [
          0.0003,
          0.004794569699089756,
          0.0002040739156778681,
          0.000030396539882732285,
          0.00257739955004777,
          0.0004476590948218718,
          0.00007876818893430757,
          0.0001409077180700703,
          0.0013896388393775268,
          0.00024642280555448395,
          0.00001086510746874547,
          0.00006199254413961387,
          0.00009047215040400252,
          0.00007489266809258986,
          0.000025996428567044415,
          0.001203349728557282,
          0.00006192213434077147,
          0.0006024308603014506,
          0.000024161822821989798,
          0.009830639023539483
         ],
         "yaxis": "y31"
        },
        {
         "colorbar": {
          "title": {
           "text": "Objective Value"
          }
         },
         "colorscale": [
          [
           0,
           "rgb(247,251,255)"
          ],
          [
           0.125,
           "rgb(222,235,247)"
          ],
          [
           0.25,
           "rgb(198,219,239)"
          ],
          [
           0.375,
           "rgb(158,202,225)"
          ],
          [
           0.5,
           "rgb(107,174,214)"
          ],
          [
           0.625,
           "rgb(66,146,198)"
          ],
          [
           0.75,
           "rgb(33,113,181)"
          ],
          [
           0.875,
           "rgb(8,81,156)"
          ],
          [
           1,
           "rgb(8,48,107)"
          ]
         ],
         "connectgaps": true,
         "contours": {
          "coloring": "heatmap"
         },
         "hoverinfo": "none",
         "line": {
          "smoothing": 1.3
         },
         "reversescale": false,
         "showscale": false,
         "type": "contour",
         "x": [
          0.0000750090620361006,
          0.00010543530575853422,
          0.0002183834913739417,
          0.0007996321281186954,
          0.000923405436469188,
          0.0017862914778816626,
          0.0030635735274230193,
          0.0040082164983855865,
          0.004017375151542843,
          0.007403523032770856,
          0.009404988026095698,
          0.01,
          0.011214194865239198,
          0.012522877055348854,
          0.018390985691451717,
          0.019026900906968597,
          0.02429955575166297,
          0.035009587260110664,
          0.053872712650775374,
          0.08051354809558334,
          0.095594433162897,
          0.1343708082163851
         ],
         "xaxis": "x38",
         "y": [
          32,
          128,
          256,
          512,
          1024,
          2048,
          2144
         ],
         "yaxis": "y38",
         "z": [
          [
           null,
           null,
           null,
           null,
           null,
           null,
           null,
           null,
           null,
           null,
           null,
           null,
           null,
           null,
           null,
           null,
           null,
           null,
           null,
           null,
           null,
           null
          ],
          [
           null,
           null,
           null,
           null,
           null,
           null,
           null,
           null,
           null,
           null,
           null,
           null,
           null,
           null,
           null,
           null,
           -54416.482,
           null,
           null,
           -8354784.425999999,
           null,
           null
          ],
          [
           null,
           null,
           null,
           null,
           null,
           null,
           -55475.382000000005,
           null,
           -55846.478,
           null,
           null,
           null,
           null,
           null,
           null,
           -54913.414000000004,
           null,
           null,
           -6277071.776,
           null,
           null,
           null
          ],
          [
           null,
           -54174.15,
           -55281.102,
           null,
           null,
           null,
           null,
           null,
           null,
           null,
           -54039.402,
           null,
           -53744.19,
           null,
           -52825.71799999999,
           null,
           null,
           null,
           null,
           null,
           -6877743.058,
           null
          ],
          [
           null,
           null,
           null,
           -55350.331999999995,
           null,
           null,
           null,
           null,
           null,
           null,
           null,
           null,
           null,
           null,
           null,
           null,
           null,
           -53528.034,
           null,
           null,
           null,
           null
          ],
          [
           null,
           null,
           null,
           null,
           -54188.288,
           -54222.221999999994,
           null,
           -53867.774,
           null,
           -55504.724,
           null,
           -55354.58200000001,
           null,
           -52956.621999999996,
           null,
           null,
           null,
           null,
           null,
           null,
           null,
           null
          ],
          [
           null,
           null,
           null,
           null,
           null,
           null,
           null,
           null,
           null,
           null,
           null,
           null,
           null,
           null,
           null,
           null,
           null,
           null,
           null,
           null,
           null,
           null
          ]
         ]
        },
        {
         "marker": {
          "color": "black",
          "line": {
           "color": "Gray",
           "width": 2
          }
         },
         "mode": "markers",
         "name": "Feasible Trial",
         "showlegend": false,
         "type": "scatter",
         "x": [
          0.01,
          0.0030635735274230193,
          0.004017375151542843,
          0.0007996321281186954,
          0.053872712650775374,
          0.019026900906968597,
          0.0040082164983855865,
          0.011214194865239198,
          0.0002183834913739417,
          0.08051354809558334,
          0.00010543530575853422,
          0.0017862914778816626,
          0.012522877055348854,
          0.018390985691451717,
          0.02429955575166297,
          0.035009587260110664,
          0.009404988026095698,
          0.000923405436469188,
          0.095594433162897,
          0.007403523032770856
         ],
         "xaxis": "x38",
         "y": [
          2048,
          256,
          256,
          1024,
          256,
          256,
          2048,
          512,
          512,
          128,
          512,
          2048,
          2048,
          512,
          128,
          1024,
          512,
          2048,
          512,
          2048
         ],
         "yaxis": "y38"
        },
        {
         "colorbar": {
          "title": {
           "text": "Objective Value"
          }
         },
         "colorscale": [
          [
           0,
           "rgb(247,251,255)"
          ],
          [
           0.125,
           "rgb(222,235,247)"
          ],
          [
           0.25,
           "rgb(198,219,239)"
          ],
          [
           0.375,
           "rgb(158,202,225)"
          ],
          [
           0.5,
           "rgb(107,174,214)"
          ],
          [
           0.625,
           "rgb(66,146,198)"
          ],
          [
           0.75,
           "rgb(33,113,181)"
          ],
          [
           0.875,
           "rgb(8,81,156)"
          ],
          [
           1,
           "rgb(8,48,107)"
          ]
         ],
         "connectgaps": true,
         "contours": {
          "coloring": "heatmap"
         },
         "hoverinfo": "none",
         "line": {
          "smoothing": 1.3
         },
         "reversescale": false,
         "showscale": false,
         "type": "contour",
         "x": [
          0.0000750090620361006,
          0.00010543530575853422,
          0.0002183834913739417,
          0.0007996321281186954,
          0.000923405436469188,
          0.0017862914778816626,
          0.0030635735274230193,
          0.0040082164983855865,
          0.004017375151542843,
          0.007403523032770856,
          0.009404988026095698,
          0.01,
          0.011214194865239198,
          0.012522877055348854,
          0.018390985691451717,
          0.019026900906968597,
          0.02429955575166297,
          0.035009587260110664,
          0.053872712650775374,
          0.08051354809558334,
          0.095594433162897,
          0.1343708082163851
         ],
         "xaxis": "x45",
         "y": [
          0.06440089456040873,
          0.10687633648985499,
          0.11492751627263009,
          0.15531908586787582,
          0.2213326366249019,
          0.25815310478046444,
          0.3252961331886048,
          0.3276379009688698,
          0.41879709330381787,
          0.5,
          0.5003494908161767,
          0.6209676850887675,
          0.6236556946071977,
          0.6490619246022484,
          0.7551510755325068,
          0.7554611876239332,
          0.7660662297530773,
          0.8102344169718921,
          0.8311182480602305,
          0.9380400576794671,
          0.95638517507878,
          0.9988606170082263
         ],
         "yaxis": "y45",
         "z": [
          [
           null,
           null,
           null,
           null,
           null,
           null,
           null,
           null,
           null,
           null,
           null,
           null,
           null,
           null,
           null,
           null,
           null,
           null,
           null,
           null,
           null,
           null
          ],
          [
           null,
           null,
           null,
           null,
           null,
           null,
           null,
           null,
           null,
           null,
           null,
           null,
           null,
           null,
           null,
           null,
           -54416.482,
           null,
           null,
           null,
           null,
           null
          ],
          [
           null,
           null,
           null,
           null,
           null,
           null,
           null,
           null,
           null,
           null,
           null,
           null,
           null,
           -52956.621999999996,
           null,
           null,
           null,
           null,
           null,
           null,
           null,
           null
          ],
          [
           null,
           null,
           null,
           null,
           null,
           -54222.221999999994,
           null,
           null,
           null,
           null,
           null,
           null,
           null,
           null,
           null,
           null,
           null,
           null,
           null,
           null,
           null,
           null
          ],
          [
           null,
           null,
           null,
           null,
           null,
           null,
           null,
           -53867.774,
           null,
           null,
           null,
           null,
           null,
           null,
           null,
           null,
           null,
           null,
           null,
           null,
           null,
           null
          ],
          [
           null,
           null,
           null,
           null,
           null,
           null,
           null,
           null,
           null,
           -55504.724,
           null,
           null,
           null,
           null,
           null,
           null,
           null,
           null,
           null,
           null,
           null,
           null
          ],
          [
           null,
           null,
           null,
           -55350.331999999995,
           null,
           null,
           null,
           null,
           null,
           null,
           null,
           null,
           null,
           null,
           null,
           null,
           null,
           null,
           null,
           null,
           null,
           null
          ],
          [
           null,
           null,
           null,
           null,
           null,
           null,
           null,
           null,
           null,
           null,
           null,
           null,
           null,
           null,
           null,
           null,
           null,
           -53528.034,
           null,
           null,
           null,
           null
          ],
          [
           null,
           null,
           null,
           null,
           null,
           null,
           null,
           null,
           null,
           null,
           null,
           null,
           null,
           null,
           null,
           null,
           null,
           null,
           -6277071.776,
           null,
           null,
           null
          ],
          [
           null,
           null,
           null,
           null,
           null,
           null,
           null,
           null,
           null,
           null,
           null,
           -55354.58200000001,
           null,
           null,
           null,
           null,
           null,
           null,
           null,
           null,
           null,
           null
          ],
          [
           null,
           null,
           null,
           null,
           -54188.288,
           null,
           null,
           null,
           null,
           null,
           null,
           null,
           null,
           null,
           null,
           null,
           null,
           null,
           null,
           null,
           null,
           null
          ],
          [
           null,
           null,
           null,
           null,
           null,
           null,
           null,
           null,
           null,
           null,
           null,
           null,
           null,
           null,
           null,
           -54913.414000000004,
           null,
           null,
           null,
           null,
           null,
           null
          ],
          [
           null,
           null,
           null,
           null,
           null,
           null,
           -55475.382000000005,
           null,
           null,
           null,
           null,
           null,
           null,
           null,
           null,
           null,
           null,
           null,
           null,
           null,
           null,
           null
          ],
          [
           null,
           null,
           null,
           null,
           null,
           null,
           null,
           null,
           null,
           null,
           -54039.402,
           null,
           null,
           null,
           null,
           null,
           null,
           null,
           null,
           null,
           null,
           null
          ],
          [
           null,
           null,
           null,
           null,
           null,
           null,
           null,
           null,
           null,
           null,
           null,
           null,
           -53744.19,
           null,
           null,
           null,
           null,
           null,
           null,
           null,
           null,
           null
          ],
          [
           null,
           null,
           null,
           null,
           null,
           null,
           null,
           null,
           null,
           null,
           null,
           null,
           null,
           null,
           -52825.71799999999,
           null,
           null,
           null,
           null,
           null,
           null,
           null
          ],
          [
           null,
           -54174.15,
           null,
           null,
           null,
           null,
           null,
           null,
           null,
           null,
           null,
           null,
           null,
           null,
           null,
           null,
           null,
           null,
           null,
           null,
           null,
           null
          ],
          [
           null,
           null,
           null,
           null,
           null,
           null,
           null,
           null,
           null,
           null,
           null,
           null,
           null,
           null,
           null,
           null,
           null,
           null,
           null,
           null,
           -6877743.058,
           null
          ],
          [
           null,
           null,
           -55281.102,
           null,
           null,
           null,
           null,
           null,
           null,
           null,
           null,
           null,
           null,
           null,
           null,
           null,
           null,
           null,
           null,
           null,
           null,
           null
          ],
          [
           null,
           null,
           null,
           null,
           null,
           null,
           null,
           null,
           -55846.478,
           null,
           null,
           null,
           null,
           null,
           null,
           null,
           null,
           null,
           null,
           null,
           null,
           null
          ],
          [
           null,
           null,
           null,
           null,
           null,
           null,
           null,
           null,
           null,
           null,
           null,
           null,
           null,
           null,
           null,
           null,
           null,
           null,
           null,
           -8354784.425999999,
           null,
           null
          ],
          [
           null,
           null,
           null,
           null,
           null,
           null,
           null,
           null,
           null,
           null,
           null,
           null,
           null,
           null,
           null,
           null,
           null,
           null,
           null,
           null,
           null,
           null
          ]
         ]
        },
        {
         "marker": {
          "color": "black",
          "line": {
           "color": "Gray",
           "width": 2
          }
         },
         "mode": "markers",
         "name": "Feasible Trial",
         "showlegend": false,
         "type": "scatter",
         "x": [
          0.01,
          0.0030635735274230193,
          0.004017375151542843,
          0.0007996321281186954,
          0.053872712650775374,
          0.019026900906968597,
          0.0040082164983855865,
          0.011214194865239198,
          0.0002183834913739417,
          0.08051354809558334,
          0.00010543530575853422,
          0.0017862914778816626,
          0.012522877055348854,
          0.018390985691451717,
          0.02429955575166297,
          0.035009587260110664,
          0.009404988026095698,
          0.000923405436469188,
          0.095594433162897,
          0.007403523032770856
         ],
         "xaxis": "x45",
         "y": [
          0.5,
          0.6236556946071977,
          0.9380400576794671,
          0.3252961331886048,
          0.41879709330381787,
          0.6209676850887675,
          0.2213326366249019,
          0.7551510755325068,
          0.8311182480602305,
          0.95638517507878,
          0.7660662297530773,
          0.15531908586787582,
          0.11492751627263009,
          0.7554611876239332,
          0.10687633648985499,
          0.3276379009688698,
          0.6490619246022484,
          0.5003494908161767,
          0.8102344169718921,
          0.25815310478046444
         ],
         "yaxis": "y45"
        },
        {
         "colorbar": {
          "title": {
           "text": "Objective Value"
          }
         },
         "colorscale": [
          [
           0,
           "rgb(247,251,255)"
          ],
          [
           0.125,
           "rgb(222,235,247)"
          ],
          [
           0.25,
           "rgb(198,219,239)"
          ],
          [
           0.375,
           "rgb(158,202,225)"
          ],
          [
           0.5,
           "rgb(107,174,214)"
          ],
          [
           0.625,
           "rgb(66,146,198)"
          ],
          [
           0.75,
           "rgb(33,113,181)"
          ],
          [
           0.875,
           "rgb(8,81,156)"
          ],
          [
           1,
           "rgb(8,48,107)"
          ]
         ],
         "connectgaps": true,
         "contours": {
          "coloring": "heatmap"
         },
         "hoverinfo": "none",
         "line": {
          "smoothing": 1.3
         },
         "reversescale": false,
         "showscale": false,
         "type": "contour",
         "x": [
          0.94755,
          0.95,
          0.97,
          0.99,
          0.999,
          1.00145
         ],
         "xaxis": "x4",
         "y": [
          4,
          16,
          32,
          64,
          128,
          256,
          268
         ],
         "yaxis": "y4",
         "z": [
          [
           null,
           null,
           null,
           null,
           null,
           null
          ],
          [
           null,
           null,
           null,
           null,
           -54174.15,
           null
          ],
          [
           null,
           null,
           null,
           -8354784.425999999,
           -52825.71799999999,
           null
          ],
          [
           null,
           -53867.774,
           -55281.102,
           -55354.58200000001,
           null,
           null
          ],
          [
           null,
           -54913.414000000004,
           null,
           null,
           null,
           null
          ],
          [
           null,
           -55475.382000000005,
           -53744.19,
           null,
           null,
           null
          ],
          [
           null,
           null,
           null,
           null,
           null,
           null
          ]
         ]
        },
        {
         "marker": {
          "color": "black",
          "line": {
           "color": "Gray",
           "width": 2
          }
         },
         "mode": "markers",
         "name": "Feasible Trial",
         "showlegend": false,
         "type": "scatter",
         "x": [
          0.99,
          0.95,
          0.99,
          0.95,
          0.97,
          0.95,
          0.95,
          0.97,
          0.97,
          0.99,
          0.999,
          0.97,
          0.999,
          0.999,
          0.999,
          0.999,
          0.999,
          0.999,
          0.999,
          0.999
         ],
         "xaxis": "x4",
         "y": [
          64,
          256,
          64,
          128,
          256,
          128,
          64,
          256,
          64,
          32,
          16,
          256,
          32,
          32,
          32,
          32,
          32,
          32,
          16,
          32
         ],
         "yaxis": "y4"
        },
        {
         "colorbar": {
          "title": {
           "text": "Objective Value"
          }
         },
         "colorscale": [
          [
           0,
           "rgb(247,251,255)"
          ],
          [
           0.125,
           "rgb(222,235,247)"
          ],
          [
           0.25,
           "rgb(198,219,239)"
          ],
          [
           0.375,
           "rgb(158,202,225)"
          ],
          [
           0.5,
           "rgb(107,174,214)"
          ],
          [
           0.625,
           "rgb(66,146,198)"
          ],
          [
           0.75,
           "rgb(33,113,181)"
          ],
          [
           0.875,
           "rgb(8,81,156)"
          ],
          [
           1,
           "rgb(8,48,107)"
          ]
         ],
         "connectgaps": true,
         "contours": {
          "coloring": "heatmap"
         },
         "hoverinfo": "none",
         "line": {
          "smoothing": 1.3
         },
         "reversescale": false,
         "showscale": false,
         "type": "contour",
         "x": [
          0.94755,
          0.95,
          0.97,
          0.99,
          0.999,
          1.00145
         ],
         "xaxis": "x11",
         "y": [
          0.08808577154129724,
          0.10285132204679967,
          0.15,
          0.15459451637855975,
          0.17438453927970288,
          0.18565335675148947,
          0.18681078435765253,
          0.2207549059953295,
          0.24251179186061247,
          0.25041073728025975,
          0.2630764493126711,
          0.26637499877020604,
          0.2849693518063551,
          0.2944147149109724,
          0.31429606364138596,
          0.321193255089133,
          0.33276105076848844,
          0.3363076909153072,
          0.3567410957919658,
          0.37860999961664626,
          0.3981623321568483,
          0.41292788266235075
         ],
         "yaxis": "y11",
         "z": [
          [
           null,
           null,
           null,
           null,
           null,
           null
          ],
          [
           null,
           null,
           null,
           null,
           -6877743.058,
           null
          ],
          [
           null,
           null,
           null,
           -55354.58200000001,
           null,
           null
          ],
          [
           null,
           -54913.414000000004,
           null,
           null,
           null,
           null
          ],
          [
           null,
           null,
           null,
           -8354784.425999999,
           null,
           null
          ],
          [
           null,
           -55350.331999999995,
           null,
           null,
           null,
           null
          ],
          [
           null,
           -55475.382000000005,
           null,
           null,
           null,
           null
          ],
          [
           null,
           null,
           null,
           null,
           -54188.288,
           null
          ],
          [
           null,
           null,
           -6277071.776,
           null,
           null,
           null
          ],
          [
           null,
           null,
           null,
           -55846.478,
           null,
           null
          ],
          [
           null,
           null,
           null,
           null,
           -52956.621999999996,
           null
          ],
          [
           null,
           null,
           null,
           null,
           -54416.482,
           null
          ],
          [
           null,
           null,
           null,
           null,
           -54039.402,
           null
          ],
          [
           null,
           -53867.774,
           null,
           null,
           null,
           null
          ],
          [
           null,
           null,
           -54222.221999999994,
           null,
           null,
           null
          ],
          [
           null,
           null,
           null,
           null,
           -52825.71799999999,
           null
          ],
          [
           null,
           null,
           null,
           null,
           -55504.724,
           null
          ],
          [
           null,
           null,
           -53744.19,
           null,
           null,
           null
          ],
          [
           null,
           null,
           -55281.102,
           null,
           null,
           null
          ],
          [
           null,
           null,
           null,
           null,
           -54174.15,
           null
          ],
          [
           null,
           null,
           null,
           null,
           -53528.034,
           null
          ],
          [
           null,
           null,
           null,
           null,
           null,
           null
          ]
         ]
        },
        {
         "marker": {
          "color": "black",
          "line": {
           "color": "Gray",
           "width": 2
          }
         },
         "mode": "markers",
         "name": "Feasible Trial",
         "showlegend": false,
         "type": "scatter",
         "x": [
          0.99,
          0.95,
          0.99,
          0.95,
          0.97,
          0.95,
          0.95,
          0.97,
          0.97,
          0.99,
          0.999,
          0.97,
          0.999,
          0.999,
          0.999,
          0.999,
          0.999,
          0.999,
          0.999,
          0.999
         ],
         "xaxis": "x11",
         "y": [
          0.15,
          0.18681078435765253,
          0.25041073728025975,
          0.18565335675148947,
          0.24251179186061247,
          0.15459451637855975,
          0.2944147149109724,
          0.3363076909153072,
          0.3567410957919658,
          0.17438453927970288,
          0.37860999961664626,
          0.31429606364138596,
          0.2630764493126711,
          0.321193255089133,
          0.26637499877020604,
          0.3981623321568483,
          0.2849693518063551,
          0.2207549059953295,
          0.10285132204679967,
          0.33276105076848844
         ],
         "yaxis": "y11"
        },
        {
         "colorbar": {
          "title": {
           "text": "Objective Value"
          }
         },
         "colorscale": [
          [
           0,
           "rgb(247,251,255)"
          ],
          [
           0.125,
           "rgb(222,235,247)"
          ],
          [
           0.25,
           "rgb(198,219,239)"
          ],
          [
           0.375,
           "rgb(158,202,225)"
          ],
          [
           0.5,
           "rgb(107,174,214)"
          ],
          [
           0.625,
           "rgb(66,146,198)"
          ],
          [
           0.75,
           "rgb(33,113,181)"
          ],
          [
           0.875,
           "rgb(8,81,156)"
          ],
          [
           1,
           "rgb(8,48,107)"
          ]
         ],
         "connectgaps": true,
         "contours": {
          "coloring": "heatmap"
         },
         "hoverinfo": "none",
         "line": {
          "smoothing": 1.3
         },
         "reversescale": false,
         "showscale": false,
         "type": "contour",
         "x": [
          0.94755,
          0.95,
          0.97,
          0.99,
          0.999,
          1.00145
         ],
         "xaxis": "x18",
         "y": [
          0.0000750090620361006,
          0.00010543530575853422,
          0.0002183834913739417,
          0.0007996321281186954,
          0.000923405436469188,
          0.0017862914778816626,
          0.0030635735274230193,
          0.0040082164983855865,
          0.004017375151542843,
          0.007403523032770856,
          0.009404988026095698,
          0.01,
          0.011214194865239198,
          0.012522877055348854,
          0.018390985691451717,
          0.019026900906968597,
          0.02429955575166297,
          0.035009587260110664,
          0.053872712650775374,
          0.08051354809558334,
          0.095594433162897,
          0.1343708082163851
         ],
         "yaxis": "y18",
         "z": [
          [
           null,
           null,
           null,
           null,
           null,
           null
          ],
          [
           null,
           null,
           null,
           null,
           -54174.15,
           null
          ],
          [
           null,
           null,
           -55281.102,
           null,
           null,
           null
          ],
          [
           null,
           -55350.331999999995,
           null,
           null,
           null,
           null
          ],
          [
           null,
           null,
           null,
           null,
           -54188.288,
           null
          ],
          [
           null,
           null,
           -54222.221999999994,
           null,
           null,
           null
          ],
          [
           null,
           -55475.382000000005,
           null,
           null,
           null,
           null
          ],
          [
           null,
           -53867.774,
           null,
           null,
           null,
           null
          ],
          [
           null,
           null,
           null,
           -55846.478,
           null,
           null
          ],
          [
           null,
           null,
           null,
           null,
           -55504.724,
           null
          ],
          [
           null,
           null,
           null,
           null,
           -54039.402,
           null
          ],
          [
           null,
           null,
           null,
           -55354.58200000001,
           null,
           null
          ],
          [
           null,
           null,
           -53744.19,
           null,
           null,
           null
          ],
          [
           null,
           null,
           null,
           null,
           -52956.621999999996,
           null
          ],
          [
           null,
           null,
           null,
           null,
           -52825.71799999999,
           null
          ],
          [
           null,
           -54913.414000000004,
           null,
           null,
           null,
           null
          ],
          [
           null,
           null,
           null,
           null,
           -54416.482,
           null
          ],
          [
           null,
           null,
           null,
           null,
           -53528.034,
           null
          ],
          [
           null,
           null,
           -6277071.776,
           null,
           null,
           null
          ],
          [
           null,
           null,
           null,
           -8354784.425999999,
           null,
           null
          ],
          [
           null,
           null,
           null,
           null,
           -6877743.058,
           null
          ],
          [
           null,
           null,
           null,
           null,
           null,
           null
          ]
         ]
        },
        {
         "marker": {
          "color": "black",
          "line": {
           "color": "Gray",
           "width": 2
          }
         },
         "mode": "markers",
         "name": "Feasible Trial",
         "showlegend": false,
         "type": "scatter",
         "x": [
          0.99,
          0.95,
          0.99,
          0.95,
          0.97,
          0.95,
          0.95,
          0.97,
          0.97,
          0.99,
          0.999,
          0.97,
          0.999,
          0.999,
          0.999,
          0.999,
          0.999,
          0.999,
          0.999,
          0.999
         ],
         "xaxis": "x18",
         "y": [
          0.01,
          0.0030635735274230193,
          0.004017375151542843,
          0.0007996321281186954,
          0.053872712650775374,
          0.019026900906968597,
          0.0040082164983855865,
          0.011214194865239198,
          0.0002183834913739417,
          0.08051354809558334,
          0.00010543530575853422,
          0.0017862914778816626,
          0.012522877055348854,
          0.018390985691451717,
          0.02429955575166297,
          0.035009587260110664,
          0.009404988026095698,
          0.000923405436469188,
          0.095594433162897,
          0.007403523032770856
         ],
         "yaxis": "y18"
        },
        {
         "type": "scatter",
         "xaxis": "x25",
         "yaxis": "y25"
        },
        {
         "colorbar": {
          "title": {
           "text": "Objective Value"
          }
         },
         "colorscale": [
          [
           0,
           "rgb(247,251,255)"
          ],
          [
           0.125,
           "rgb(222,235,247)"
          ],
          [
           0.25,
           "rgb(198,219,239)"
          ],
          [
           0.375,
           "rgb(158,202,225)"
          ],
          [
           0.5,
           "rgb(107,174,214)"
          ],
          [
           0.625,
           "rgb(66,146,198)"
          ],
          [
           0.75,
           "rgb(33,113,181)"
          ],
          [
           0.875,
           "rgb(8,81,156)"
          ],
          [
           1,
           "rgb(8,48,107)"
          ]
         ],
         "connectgaps": true,
         "contours": {
          "coloring": "heatmap"
         },
         "hoverinfo": "none",
         "line": {
          "smoothing": 1.3
         },
         "reversescale": false,
         "showscale": false,
         "type": "contour",
         "x": [
          0.94755,
          0.95,
          0.97,
          0.99,
          0.999,
          1.00145
         ],
         "xaxis": "x32",
         "y": [
          0.00000773048319158694,
          0.00001086510746874547,
          0.000024161822821989798,
          0.000025996428567044415,
          0.000030396539882732285,
          0.00006192213434077147,
          0.00006199254413961387,
          0.00007489266809258986,
          0.00007876818893430757,
          0.00009047215040400252,
          0.0001409077180700703,
          0.0002040739156778681,
          0.00024642280555448395,
          0.0003,
          0.0004476590948218718,
          0.0006024308603014506,
          0.001203349728557282,
          0.0013896388393775268,
          0.00257739955004777,
          0.004794569699089756,
          0.009830639023539483,
          0.01381685294826609
         ],
         "yaxis": "y32",
         "z": [
          [
           null,
           null,
           null,
           null,
           null,
           null
          ],
          [
           null,
           null,
           null,
           null,
           -54174.15,
           null
          ],
          [
           null,
           null,
           null,
           null,
           -6877743.058,
           null
          ],
          [
           null,
           null,
           null,
           null,
           -54416.482,
           null
          ],
          [
           null,
           -55350.331999999995,
           null,
           null,
           null,
           null
          ],
          [
           null,
           null,
           null,
           null,
           -54039.402,
           null
          ],
          [
           null,
           null,
           -54222.221999999994,
           null,
           null,
           null
          ],
          [
           null,
           null,
           null,
           null,
           -52825.71799999999,
           null
          ],
          [
           null,
           -53867.774,
           null,
           null,
           null,
           null
          ],
          [
           null,
           null,
           null,
           null,
           -52956.621999999996,
           null
          ],
          [
           null,
           null,
           -53744.19,
           null,
           null,
           null
          ],
          [
           null,
           null,
           null,
           -55846.478,
           null,
           null
          ],
          [
           null,
           null,
           null,
           -8354784.425999999,
           null,
           null
          ],
          [
           null,
           null,
           null,
           -55354.58200000001,
           null,
           null
          ],
          [
           null,
           -54913.414000000004,
           null,
           null,
           null,
           null
          ],
          [
           null,
           null,
           null,
           null,
           -54188.288,
           null
          ],
          [
           null,
           null,
           null,
           null,
           -53528.034,
           null
          ],
          [
           null,
           null,
           -55281.102,
           null,
           null,
           null
          ],
          [
           null,
           null,
           -6277071.776,
           null,
           null,
           null
          ],
          [
           null,
           -55475.382000000005,
           null,
           null,
           null,
           null
          ],
          [
           null,
           null,
           null,
           null,
           -55504.724,
           null
          ],
          [
           null,
           null,
           null,
           null,
           null,
           null
          ]
         ]
        },
        {
         "marker": {
          "color": "black",
          "line": {
           "color": "Gray",
           "width": 2
          }
         },
         "mode": "markers",
         "name": "Feasible Trial",
         "showlegend": false,
         "type": "scatter",
         "x": [
          0.99,
          0.95,
          0.99,
          0.95,
          0.97,
          0.95,
          0.95,
          0.97,
          0.97,
          0.99,
          0.999,
          0.97,
          0.999,
          0.999,
          0.999,
          0.999,
          0.999,
          0.999,
          0.999,
          0.999
         ],
         "xaxis": "x32",
         "y": [
          0.0003,
          0.004794569699089756,
          0.0002040739156778681,
          0.000030396539882732285,
          0.00257739955004777,
          0.0004476590948218718,
          0.00007876818893430757,
          0.0001409077180700703,
          0.0013896388393775268,
          0.00024642280555448395,
          0.00001086510746874547,
          0.00006199254413961387,
          0.00009047215040400252,
          0.00007489266809258986,
          0.000025996428567044415,
          0.001203349728557282,
          0.00006192213434077147,
          0.0006024308603014506,
          0.000024161822821989798,
          0.009830639023539483
         ],
         "yaxis": "y32"
        },
        {
         "colorbar": {
          "title": {
           "text": "Objective Value"
          }
         },
         "colorscale": [
          [
           0,
           "rgb(247,251,255)"
          ],
          [
           0.125,
           "rgb(222,235,247)"
          ],
          [
           0.25,
           "rgb(198,219,239)"
          ],
          [
           0.375,
           "rgb(158,202,225)"
          ],
          [
           0.5,
           "rgb(107,174,214)"
          ],
          [
           0.625,
           "rgb(66,146,198)"
          ],
          [
           0.75,
           "rgb(33,113,181)"
          ],
          [
           0.875,
           "rgb(8,81,156)"
          ],
          [
           1,
           "rgb(8,48,107)"
          ]
         ],
         "connectgaps": true,
         "contours": {
          "coloring": "heatmap"
         },
         "hoverinfo": "none",
         "line": {
          "smoothing": 1.3
         },
         "reversescale": false,
         "showscale": false,
         "type": "contour",
         "x": [
          0.94755,
          0.95,
          0.97,
          0.99,
          0.999,
          1.00145
         ],
         "xaxis": "x39",
         "y": [
          32,
          128,
          256,
          512,
          1024,
          2048,
          2144
         ],
         "yaxis": "y39",
         "z": [
          [
           null,
           null,
           null,
           null,
           null,
           null
          ],
          [
           null,
           null,
           null,
           -8354784.425999999,
           -54416.482,
           null
          ],
          [
           null,
           -54913.414000000004,
           -6277071.776,
           -55846.478,
           null,
           null
          ],
          [
           null,
           null,
           -53744.19,
           null,
           -52825.71799999999,
           null
          ],
          [
           null,
           -55350.331999999995,
           null,
           null,
           -53528.034,
           null
          ],
          [
           null,
           -53867.774,
           -54222.221999999994,
           -55354.58200000001,
           -52956.621999999996,
           null
          ],
          [
           null,
           null,
           null,
           null,
           null,
           null
          ]
         ]
        },
        {
         "marker": {
          "color": "black",
          "line": {
           "color": "Gray",
           "width": 2
          }
         },
         "mode": "markers",
         "name": "Feasible Trial",
         "showlegend": false,
         "type": "scatter",
         "x": [
          0.99,
          0.95,
          0.99,
          0.95,
          0.97,
          0.95,
          0.95,
          0.97,
          0.97,
          0.99,
          0.999,
          0.97,
          0.999,
          0.999,
          0.999,
          0.999,
          0.999,
          0.999,
          0.999,
          0.999
         ],
         "xaxis": "x39",
         "y": [
          2048,
          256,
          256,
          1024,
          256,
          256,
          2048,
          512,
          512,
          128,
          512,
          2048,
          2048,
          512,
          128,
          1024,
          512,
          2048,
          512,
          2048
         ],
         "yaxis": "y39"
        },
        {
         "colorbar": {
          "title": {
           "text": "Objective Value"
          }
         },
         "colorscale": [
          [
           0,
           "rgb(247,251,255)"
          ],
          [
           0.125,
           "rgb(222,235,247)"
          ],
          [
           0.25,
           "rgb(198,219,239)"
          ],
          [
           0.375,
           "rgb(158,202,225)"
          ],
          [
           0.5,
           "rgb(107,174,214)"
          ],
          [
           0.625,
           "rgb(66,146,198)"
          ],
          [
           0.75,
           "rgb(33,113,181)"
          ],
          [
           0.875,
           "rgb(8,81,156)"
          ],
          [
           1,
           "rgb(8,48,107)"
          ]
         ],
         "connectgaps": true,
         "contours": {
          "coloring": "heatmap"
         },
         "hoverinfo": "none",
         "line": {
          "smoothing": 1.3
         },
         "reversescale": false,
         "showscale": false,
         "type": "contour",
         "x": [
          0.94755,
          0.95,
          0.97,
          0.99,
          0.999,
          1.00145
         ],
         "xaxis": "x46",
         "y": [
          0.06440089456040873,
          0.10687633648985499,
          0.11492751627263009,
          0.15531908586787582,
          0.2213326366249019,
          0.25815310478046444,
          0.3252961331886048,
          0.3276379009688698,
          0.41879709330381787,
          0.5,
          0.5003494908161767,
          0.6209676850887675,
          0.6236556946071977,
          0.6490619246022484,
          0.7551510755325068,
          0.7554611876239332,
          0.7660662297530773,
          0.8102344169718921,
          0.8311182480602305,
          0.9380400576794671,
          0.95638517507878,
          0.9988606170082263
         ],
         "yaxis": "y46",
         "z": [
          [
           null,
           null,
           null,
           null,
           null,
           null
          ],
          [
           null,
           null,
           null,
           null,
           -54416.482,
           null
          ],
          [
           null,
           null,
           null,
           null,
           -52956.621999999996,
           null
          ],
          [
           null,
           null,
           -54222.221999999994,
           null,
           null,
           null
          ],
          [
           null,
           -53867.774,
           null,
           null,
           null,
           null
          ],
          [
           null,
           null,
           null,
           null,
           -55504.724,
           null
          ],
          [
           null,
           -55350.331999999995,
           null,
           null,
           null,
           null
          ],
          [
           null,
           null,
           null,
           null,
           -53528.034,
           null
          ],
          [
           null,
           null,
           -6277071.776,
           null,
           null,
           null
          ],
          [
           null,
           null,
           null,
           -55354.58200000001,
           null,
           null
          ],
          [
           null,
           null,
           null,
           null,
           -54188.288,
           null
          ],
          [
           null,
           -54913.414000000004,
           null,
           null,
           null,
           null
          ],
          [
           null,
           -55475.382000000005,
           null,
           null,
           null,
           null
          ],
          [
           null,
           null,
           null,
           null,
           -54039.402,
           null
          ],
          [
           null,
           null,
           -53744.19,
           null,
           null,
           null
          ],
          [
           null,
           null,
           null,
           null,
           -52825.71799999999,
           null
          ],
          [
           null,
           null,
           null,
           null,
           -54174.15,
           null
          ],
          [
           null,
           null,
           null,
           null,
           -6877743.058,
           null
          ],
          [
           null,
           null,
           -55281.102,
           null,
           null,
           null
          ],
          [
           null,
           null,
           null,
           -55846.478,
           null,
           null
          ],
          [
           null,
           null,
           null,
           -8354784.425999999,
           null,
           null
          ],
          [
           null,
           null,
           null,
           null,
           null,
           null
          ]
         ]
        },
        {
         "marker": {
          "color": "black",
          "line": {
           "color": "Gray",
           "width": 2
          }
         },
         "mode": "markers",
         "name": "Feasible Trial",
         "showlegend": false,
         "type": "scatter",
         "x": [
          0.99,
          0.95,
          0.99,
          0.95,
          0.97,
          0.95,
          0.95,
          0.97,
          0.97,
          0.99,
          0.999,
          0.97,
          0.999,
          0.999,
          0.999,
          0.999,
          0.999,
          0.999,
          0.999,
          0.999
         ],
         "xaxis": "x46",
         "y": [
          0.5,
          0.6236556946071977,
          0.9380400576794671,
          0.3252961331886048,
          0.41879709330381787,
          0.6209676850887675,
          0.2213326366249019,
          0.7551510755325068,
          0.8311182480602305,
          0.95638517507878,
          0.7660662297530773,
          0.15531908586787582,
          0.11492751627263009,
          0.7554611876239332,
          0.10687633648985499,
          0.3276379009688698,
          0.6490619246022484,
          0.5003494908161767,
          0.8102344169718921,
          0.25815310478046444
         ],
         "yaxis": "y46"
        },
        {
         "colorbar": {
          "title": {
           "text": "Objective Value"
          }
         },
         "colorscale": [
          [
           0,
           "rgb(247,251,255)"
          ],
          [
           0.125,
           "rgb(222,235,247)"
          ],
          [
           0.25,
           "rgb(198,219,239)"
          ],
          [
           0.375,
           "rgb(158,202,225)"
          ],
          [
           0.5,
           "rgb(107,174,214)"
          ],
          [
           0.625,
           "rgb(66,146,198)"
          ],
          [
           0.75,
           "rgb(33,113,181)"
          ],
          [
           0.875,
           "rgb(8,81,156)"
          ],
          [
           1,
           "rgb(8,48,107)"
          ]
         ],
         "connectgaps": true,
         "contours": {
          "coloring": "heatmap"
         },
         "hoverinfo": "none",
         "line": {
          "smoothing": 1.3
         },
         "reversescale": false,
         "showscale": false,
         "type": "contour",
         "x": [
          0.00000773048319158694,
          0.00001086510746874547,
          0.000024161822821989798,
          0.000025996428567044415,
          0.000030396539882732285,
          0.00006192213434077147,
          0.00006199254413961387,
          0.00007489266809258986,
          0.00007876818893430757,
          0.00009047215040400252,
          0.0001409077180700703,
          0.0002040739156778681,
          0.00024642280555448395,
          0.0003,
          0.0004476590948218718,
          0.0006024308603014506,
          0.001203349728557282,
          0.0013896388393775268,
          0.00257739955004777,
          0.004794569699089756,
          0.009830639023539483,
          0.01381685294826609
         ],
         "xaxis": "x5",
         "y": [
          4,
          16,
          32,
          64,
          128,
          256,
          268
         ],
         "yaxis": "y5",
         "z": [
          [
           null,
           null,
           null,
           null,
           null,
           null,
           null,
           null,
           null,
           null,
           null,
           null,
           null,
           null,
           null,
           null,
           null,
           null,
           null,
           null,
           null,
           null
          ],
          [
           null,
           -54174.15,
           -6877743.058,
           null,
           null,
           null,
           null,
           null,
           null,
           null,
           null,
           null,
           null,
           null,
           null,
           null,
           null,
           null,
           null,
           null,
           null,
           null
          ],
          [
           null,
           null,
           null,
           -54416.482,
           null,
           -54039.402,
           null,
           -52825.71799999999,
           null,
           -52956.621999999996,
           null,
           null,
           -8354784.425999999,
           null,
           null,
           -54188.288,
           -53528.034,
           null,
           null,
           null,
           -55504.724,
           null
          ],
          [
           null,
           null,
           null,
           null,
           null,
           null,
           null,
           null,
           -53867.774,
           null,
           null,
           -55846.478,
           null,
           -55354.58200000001,
           null,
           null,
           null,
           -55281.102,
           null,
           null,
           null,
           null
          ],
          [
           null,
           null,
           null,
           null,
           -55350.331999999995,
           null,
           null,
           null,
           null,
           null,
           null,
           null,
           null,
           null,
           -54913.414000000004,
           null,
           null,
           null,
           null,
           null,
           null,
           null
          ],
          [
           null,
           null,
           null,
           null,
           null,
           null,
           -54222.221999999994,
           null,
           null,
           null,
           -53744.19,
           null,
           null,
           null,
           null,
           null,
           null,
           null,
           -6277071.776,
           -55475.382000000005,
           null,
           null
          ],
          [
           null,
           null,
           null,
           null,
           null,
           null,
           null,
           null,
           null,
           null,
           null,
           null,
           null,
           null,
           null,
           null,
           null,
           null,
           null,
           null,
           null,
           null
          ]
         ]
        },
        {
         "marker": {
          "color": "black",
          "line": {
           "color": "Gray",
           "width": 2
          }
         },
         "mode": "markers",
         "name": "Feasible Trial",
         "showlegend": false,
         "type": "scatter",
         "x": [
          0.0003,
          0.004794569699089756,
          0.0002040739156778681,
          0.000030396539882732285,
          0.00257739955004777,
          0.0004476590948218718,
          0.00007876818893430757,
          0.0001409077180700703,
          0.0013896388393775268,
          0.00024642280555448395,
          0.00001086510746874547,
          0.00006199254413961387,
          0.00009047215040400252,
          0.00007489266809258986,
          0.000025996428567044415,
          0.001203349728557282,
          0.00006192213434077147,
          0.0006024308603014506,
          0.000024161822821989798,
          0.009830639023539483
         ],
         "xaxis": "x5",
         "y": [
          64,
          256,
          64,
          128,
          256,
          128,
          64,
          256,
          64,
          32,
          16,
          256,
          32,
          32,
          32,
          32,
          32,
          32,
          16,
          32
         ],
         "yaxis": "y5"
        },
        {
         "colorbar": {
          "title": {
           "text": "Objective Value"
          }
         },
         "colorscale": [
          [
           0,
           "rgb(247,251,255)"
          ],
          [
           0.125,
           "rgb(222,235,247)"
          ],
          [
           0.25,
           "rgb(198,219,239)"
          ],
          [
           0.375,
           "rgb(158,202,225)"
          ],
          [
           0.5,
           "rgb(107,174,214)"
          ],
          [
           0.625,
           "rgb(66,146,198)"
          ],
          [
           0.75,
           "rgb(33,113,181)"
          ],
          [
           0.875,
           "rgb(8,81,156)"
          ],
          [
           1,
           "rgb(8,48,107)"
          ]
         ],
         "connectgaps": true,
         "contours": {
          "coloring": "heatmap"
         },
         "hoverinfo": "none",
         "line": {
          "smoothing": 1.3
         },
         "reversescale": false,
         "showscale": false,
         "type": "contour",
         "x": [
          0.00000773048319158694,
          0.00001086510746874547,
          0.000024161822821989798,
          0.000025996428567044415,
          0.000030396539882732285,
          0.00006192213434077147,
          0.00006199254413961387,
          0.00007489266809258986,
          0.00007876818893430757,
          0.00009047215040400252,
          0.0001409077180700703,
          0.0002040739156778681,
          0.00024642280555448395,
          0.0003,
          0.0004476590948218718,
          0.0006024308603014506,
          0.001203349728557282,
          0.0013896388393775268,
          0.00257739955004777,
          0.004794569699089756,
          0.009830639023539483,
          0.01381685294826609
         ],
         "xaxis": "x12",
         "y": [
          0.08808577154129724,
          0.10285132204679967,
          0.15,
          0.15459451637855975,
          0.17438453927970288,
          0.18565335675148947,
          0.18681078435765253,
          0.2207549059953295,
          0.24251179186061247,
          0.25041073728025975,
          0.2630764493126711,
          0.26637499877020604,
          0.2849693518063551,
          0.2944147149109724,
          0.31429606364138596,
          0.321193255089133,
          0.33276105076848844,
          0.3363076909153072,
          0.3567410957919658,
          0.37860999961664626,
          0.3981623321568483,
          0.41292788266235075
         ],
         "yaxis": "y12",
         "z": [
          [
           null,
           null,
           null,
           null,
           null,
           null,
           null,
           null,
           null,
           null,
           null,
           null,
           null,
           null,
           null,
           null,
           null,
           null,
           null,
           null,
           null,
           null
          ],
          [
           null,
           null,
           -6877743.058,
           null,
           null,
           null,
           null,
           null,
           null,
           null,
           null,
           null,
           null,
           null,
           null,
           null,
           null,
           null,
           null,
           null,
           null,
           null
          ],
          [
           null,
           null,
           null,
           null,
           null,
           null,
           null,
           null,
           null,
           null,
           null,
           null,
           null,
           -55354.58200000001,
           null,
           null,
           null,
           null,
           null,
           null,
           null,
           null
          ],
          [
           null,
           null,
           null,
           null,
           null,
           null,
           null,
           null,
           null,
           null,
           null,
           null,
           null,
           null,
           -54913.414000000004,
           null,
           null,
           null,
           null,
           null,
           null,
           null
          ],
          [
           null,
           null,
           null,
           null,
           null,
           null,
           null,
           null,
           null,
           null,
           null,
           null,
           -8354784.425999999,
           null,
           null,
           null,
           null,
           null,
           null,
           null,
           null,
           null
          ],
          [
           null,
           null,
           null,
           null,
           -55350.331999999995,
           null,
           null,
           null,
           null,
           null,
           null,
           null,
           null,
           null,
           null,
           null,
           null,
           null,
           null,
           null,
           null,
           null
          ],
          [
           null,
           null,
           null,
           null,
           null,
           null,
           null,
           null,
           null,
           null,
           null,
           null,
           null,
           null,
           null,
           null,
           null,
           null,
           null,
           -55475.382000000005,
           null,
           null
          ],
          [
           null,
           null,
           null,
           null,
           null,
           null,
           null,
           null,
           null,
           null,
           null,
           null,
           null,
           null,
           null,
           -54188.288,
           null,
           null,
           null,
           null,
           null,
           null
          ],
          [
           null,
           null,
           null,
           null,
           null,
           null,
           null,
           null,
           null,
           null,
           null,
           null,
           null,
           null,
           null,
           null,
           null,
           null,
           -6277071.776,
           null,
           null,
           null
          ],
          [
           null,
           null,
           null,
           null,
           null,
           null,
           null,
           null,
           null,
           null,
           null,
           -55846.478,
           null,
           null,
           null,
           null,
           null,
           null,
           null,
           null,
           null,
           null
          ],
          [
           null,
           null,
           null,
           null,
           null,
           null,
           null,
           null,
           null,
           -52956.621999999996,
           null,
           null,
           null,
           null,
           null,
           null,
           null,
           null,
           null,
           null,
           null,
           null
          ],
          [
           null,
           null,
           null,
           -54416.482,
           null,
           null,
           null,
           null,
           null,
           null,
           null,
           null,
           null,
           null,
           null,
           null,
           null,
           null,
           null,
           null,
           null,
           null
          ],
          [
           null,
           null,
           null,
           null,
           null,
           -54039.402,
           null,
           null,
           null,
           null,
           null,
           null,
           null,
           null,
           null,
           null,
           null,
           null,
           null,
           null,
           null,
           null
          ],
          [
           null,
           null,
           null,
           null,
           null,
           null,
           null,
           null,
           -53867.774,
           null,
           null,
           null,
           null,
           null,
           null,
           null,
           null,
           null,
           null,
           null,
           null,
           null
          ],
          [
           null,
           null,
           null,
           null,
           null,
           null,
           -54222.221999999994,
           null,
           null,
           null,
           null,
           null,
           null,
           null,
           null,
           null,
           null,
           null,
           null,
           null,
           null,
           null
          ],
          [
           null,
           null,
           null,
           null,
           null,
           null,
           null,
           -52825.71799999999,
           null,
           null,
           null,
           null,
           null,
           null,
           null,
           null,
           null,
           null,
           null,
           null,
           null,
           null
          ],
          [
           null,
           null,
           null,
           null,
           null,
           null,
           null,
           null,
           null,
           null,
           null,
           null,
           null,
           null,
           null,
           null,
           null,
           null,
           null,
           null,
           -55504.724,
           null
          ],
          [
           null,
           null,
           null,
           null,
           null,
           null,
           null,
           null,
           null,
           null,
           -53744.19,
           null,
           null,
           null,
           null,
           null,
           null,
           null,
           null,
           null,
           null,
           null
          ],
          [
           null,
           null,
           null,
           null,
           null,
           null,
           null,
           null,
           null,
           null,
           null,
           null,
           null,
           null,
           null,
           null,
           null,
           -55281.102,
           null,
           null,
           null,
           null
          ],
          [
           null,
           -54174.15,
           null,
           null,
           null,
           null,
           null,
           null,
           null,
           null,
           null,
           null,
           null,
           null,
           null,
           null,
           null,
           null,
           null,
           null,
           null,
           null
          ],
          [
           null,
           null,
           null,
           null,
           null,
           null,
           null,
           null,
           null,
           null,
           null,
           null,
           null,
           null,
           null,
           null,
           -53528.034,
           null,
           null,
           null,
           null,
           null
          ],
          [
           null,
           null,
           null,
           null,
           null,
           null,
           null,
           null,
           null,
           null,
           null,
           null,
           null,
           null,
           null,
           null,
           null,
           null,
           null,
           null,
           null,
           null
          ]
         ]
        },
        {
         "marker": {
          "color": "black",
          "line": {
           "color": "Gray",
           "width": 2
          }
         },
         "mode": "markers",
         "name": "Feasible Trial",
         "showlegend": false,
         "type": "scatter",
         "x": [
          0.0003,
          0.004794569699089756,
          0.0002040739156778681,
          0.000030396539882732285,
          0.00257739955004777,
          0.0004476590948218718,
          0.00007876818893430757,
          0.0001409077180700703,
          0.0013896388393775268,
          0.00024642280555448395,
          0.00001086510746874547,
          0.00006199254413961387,
          0.00009047215040400252,
          0.00007489266809258986,
          0.000025996428567044415,
          0.001203349728557282,
          0.00006192213434077147,
          0.0006024308603014506,
          0.000024161822821989798,
          0.009830639023539483
         ],
         "xaxis": "x12",
         "y": [
          0.15,
          0.18681078435765253,
          0.25041073728025975,
          0.18565335675148947,
          0.24251179186061247,
          0.15459451637855975,
          0.2944147149109724,
          0.3363076909153072,
          0.3567410957919658,
          0.17438453927970288,
          0.37860999961664626,
          0.31429606364138596,
          0.2630764493126711,
          0.321193255089133,
          0.26637499877020604,
          0.3981623321568483,
          0.2849693518063551,
          0.2207549059953295,
          0.10285132204679967,
          0.33276105076848844
         ],
         "yaxis": "y12"
        },
        {
         "colorbar": {
          "title": {
           "text": "Objective Value"
          }
         },
         "colorscale": [
          [
           0,
           "rgb(247,251,255)"
          ],
          [
           0.125,
           "rgb(222,235,247)"
          ],
          [
           0.25,
           "rgb(198,219,239)"
          ],
          [
           0.375,
           "rgb(158,202,225)"
          ],
          [
           0.5,
           "rgb(107,174,214)"
          ],
          [
           0.625,
           "rgb(66,146,198)"
          ],
          [
           0.75,
           "rgb(33,113,181)"
          ],
          [
           0.875,
           "rgb(8,81,156)"
          ],
          [
           1,
           "rgb(8,48,107)"
          ]
         ],
         "connectgaps": true,
         "contours": {
          "coloring": "heatmap"
         },
         "hoverinfo": "none",
         "line": {
          "smoothing": 1.3
         },
         "reversescale": false,
         "showscale": false,
         "type": "contour",
         "x": [
          0.00000773048319158694,
          0.00001086510746874547,
          0.000024161822821989798,
          0.000025996428567044415,
          0.000030396539882732285,
          0.00006192213434077147,
          0.00006199254413961387,
          0.00007489266809258986,
          0.00007876818893430757,
          0.00009047215040400252,
          0.0001409077180700703,
          0.0002040739156778681,
          0.00024642280555448395,
          0.0003,
          0.0004476590948218718,
          0.0006024308603014506,
          0.001203349728557282,
          0.0013896388393775268,
          0.00257739955004777,
          0.004794569699089756,
          0.009830639023539483,
          0.01381685294826609
         ],
         "xaxis": "x19",
         "y": [
          0.0000750090620361006,
          0.00010543530575853422,
          0.0002183834913739417,
          0.0007996321281186954,
          0.000923405436469188,
          0.0017862914778816626,
          0.0030635735274230193,
          0.0040082164983855865,
          0.004017375151542843,
          0.007403523032770856,
          0.009404988026095698,
          0.01,
          0.011214194865239198,
          0.012522877055348854,
          0.018390985691451717,
          0.019026900906968597,
          0.02429955575166297,
          0.035009587260110664,
          0.053872712650775374,
          0.08051354809558334,
          0.095594433162897,
          0.1343708082163851
         ],
         "yaxis": "y19",
         "z": [
          [
           null,
           null,
           null,
           null,
           null,
           null,
           null,
           null,
           null,
           null,
           null,
           null,
           null,
           null,
           null,
           null,
           null,
           null,
           null,
           null,
           null,
           null
          ],
          [
           null,
           -54174.15,
           null,
           null,
           null,
           null,
           null,
           null,
           null,
           null,
           null,
           null,
           null,
           null,
           null,
           null,
           null,
           null,
           null,
           null,
           null,
           null
          ],
          [
           null,
           null,
           null,
           null,
           null,
           null,
           null,
           null,
           null,
           null,
           null,
           null,
           null,
           null,
           null,
           null,
           null,
           -55281.102,
           null,
           null,
           null,
           null
          ],
          [
           null,
           null,
           null,
           null,
           -55350.331999999995,
           null,
           null,
           null,
           null,
           null,
           null,
           null,
           null,
           null,
           null,
           null,
           null,
           null,
           null,
           null,
           null,
           null
          ],
          [
           null,
           null,
           null,
           null,
           null,
           null,
           null,
           null,
           null,
           null,
           null,
           null,
           null,
           null,
           null,
           -54188.288,
           null,
           null,
           null,
           null,
           null,
           null
          ],
          [
           null,
           null,
           null,
           null,
           null,
           null,
           -54222.221999999994,
           null,
           null,
           null,
           null,
           null,
           null,
           null,
           null,
           null,
           null,
           null,
           null,
           null,
           null,
           null
          ],
          [
           null,
           null,
           null,
           null,
           null,
           null,
           null,
           null,
           null,
           null,
           null,
           null,
           null,
           null,
           null,
           null,
           null,
           null,
           null,
           -55475.382000000005,
           null,
           null
          ],
          [
           null,
           null,
           null,
           null,
           null,
           null,
           null,
           null,
           -53867.774,
           null,
           null,
           null,
           null,
           null,
           null,
           null,
           null,
           null,
           null,
           null,
           null,
           null
          ],
          [
           null,
           null,
           null,
           null,
           null,
           null,
           null,
           null,
           null,
           null,
           null,
           -55846.478,
           null,
           null,
           null,
           null,
           null,
           null,
           null,
           null,
           null,
           null
          ],
          [
           null,
           null,
           null,
           null,
           null,
           null,
           null,
           null,
           null,
           null,
           null,
           null,
           null,
           null,
           null,
           null,
           null,
           null,
           null,
           null,
           -55504.724,
           null
          ],
          [
           null,
           null,
           null,
           null,
           null,
           -54039.402,
           null,
           null,
           null,
           null,
           null,
           null,
           null,
           null,
           null,
           null,
           null,
           null,
           null,
           null,
           null,
           null
          ],
          [
           null,
           null,
           null,
           null,
           null,
           null,
           null,
           null,
           null,
           null,
           null,
           null,
           null,
           -55354.58200000001,
           null,
           null,
           null,
           null,
           null,
           null,
           null,
           null
          ],
          [
           null,
           null,
           null,
           null,
           null,
           null,
           null,
           null,
           null,
           null,
           -53744.19,
           null,
           null,
           null,
           null,
           null,
           null,
           null,
           null,
           null,
           null,
           null
          ],
          [
           null,
           null,
           null,
           null,
           null,
           null,
           null,
           null,
           null,
           -52956.621999999996,
           null,
           null,
           null,
           null,
           null,
           null,
           null,
           null,
           null,
           null,
           null,
           null
          ],
          [
           null,
           null,
           null,
           null,
           null,
           null,
           null,
           -52825.71799999999,
           null,
           null,
           null,
           null,
           null,
           null,
           null,
           null,
           null,
           null,
           null,
           null,
           null,
           null
          ],
          [
           null,
           null,
           null,
           null,
           null,
           null,
           null,
           null,
           null,
           null,
           null,
           null,
           null,
           null,
           -54913.414000000004,
           null,
           null,
           null,
           null,
           null,
           null,
           null
          ],
          [
           null,
           null,
           null,
           -54416.482,
           null,
           null,
           null,
           null,
           null,
           null,
           null,
           null,
           null,
           null,
           null,
           null,
           null,
           null,
           null,
           null,
           null,
           null
          ],
          [
           null,
           null,
           null,
           null,
           null,
           null,
           null,
           null,
           null,
           null,
           null,
           null,
           null,
           null,
           null,
           null,
           -53528.034,
           null,
           null,
           null,
           null,
           null
          ],
          [
           null,
           null,
           null,
           null,
           null,
           null,
           null,
           null,
           null,
           null,
           null,
           null,
           null,
           null,
           null,
           null,
           null,
           null,
           -6277071.776,
           null,
           null,
           null
          ],
          [
           null,
           null,
           null,
           null,
           null,
           null,
           null,
           null,
           null,
           null,
           null,
           null,
           -8354784.425999999,
           null,
           null,
           null,
           null,
           null,
           null,
           null,
           null,
           null
          ],
          [
           null,
           null,
           -6877743.058,
           null,
           null,
           null,
           null,
           null,
           null,
           null,
           null,
           null,
           null,
           null,
           null,
           null,
           null,
           null,
           null,
           null,
           null,
           null
          ],
          [
           null,
           null,
           null,
           null,
           null,
           null,
           null,
           null,
           null,
           null,
           null,
           null,
           null,
           null,
           null,
           null,
           null,
           null,
           null,
           null,
           null,
           null
          ]
         ]
        },
        {
         "marker": {
          "color": "black",
          "line": {
           "color": "Gray",
           "width": 2
          }
         },
         "mode": "markers",
         "name": "Feasible Trial",
         "showlegend": false,
         "type": "scatter",
         "x": [
          0.0003,
          0.004794569699089756,
          0.0002040739156778681,
          0.000030396539882732285,
          0.00257739955004777,
          0.0004476590948218718,
          0.00007876818893430757,
          0.0001409077180700703,
          0.0013896388393775268,
          0.00024642280555448395,
          0.00001086510746874547,
          0.00006199254413961387,
          0.00009047215040400252,
          0.00007489266809258986,
          0.000025996428567044415,
          0.001203349728557282,
          0.00006192213434077147,
          0.0006024308603014506,
          0.000024161822821989798,
          0.009830639023539483
         ],
         "xaxis": "x19",
         "y": [
          0.01,
          0.0030635735274230193,
          0.004017375151542843,
          0.0007996321281186954,
          0.053872712650775374,
          0.019026900906968597,
          0.0040082164983855865,
          0.011214194865239198,
          0.0002183834913739417,
          0.08051354809558334,
          0.00010543530575853422,
          0.0017862914778816626,
          0.012522877055348854,
          0.018390985691451717,
          0.02429955575166297,
          0.035009587260110664,
          0.009404988026095698,
          0.000923405436469188,
          0.095594433162897,
          0.007403523032770856
         ],
         "yaxis": "y19"
        },
        {
         "colorbar": {
          "title": {
           "text": "Objective Value"
          }
         },
         "colorscale": [
          [
           0,
           "rgb(247,251,255)"
          ],
          [
           0.125,
           "rgb(222,235,247)"
          ],
          [
           0.25,
           "rgb(198,219,239)"
          ],
          [
           0.375,
           "rgb(158,202,225)"
          ],
          [
           0.5,
           "rgb(107,174,214)"
          ],
          [
           0.625,
           "rgb(66,146,198)"
          ],
          [
           0.75,
           "rgb(33,113,181)"
          ],
          [
           0.875,
           "rgb(8,81,156)"
          ],
          [
           1,
           "rgb(8,48,107)"
          ]
         ],
         "connectgaps": true,
         "contours": {
          "coloring": "heatmap"
         },
         "hoverinfo": "none",
         "line": {
          "smoothing": 1.3
         },
         "reversescale": false,
         "showscale": false,
         "type": "contour",
         "x": [
          0.00000773048319158694,
          0.00001086510746874547,
          0.000024161822821989798,
          0.000025996428567044415,
          0.000030396539882732285,
          0.00006192213434077147,
          0.00006199254413961387,
          0.00007489266809258986,
          0.00007876818893430757,
          0.00009047215040400252,
          0.0001409077180700703,
          0.0002040739156778681,
          0.00024642280555448395,
          0.0003,
          0.0004476590948218718,
          0.0006024308603014506,
          0.001203349728557282,
          0.0013896388393775268,
          0.00257739955004777,
          0.004794569699089756,
          0.009830639023539483,
          0.01381685294826609
         ],
         "xaxis": "x26",
         "y": [
          0.94755,
          0.95,
          0.97,
          0.99,
          0.999,
          1.00145
         ],
         "yaxis": "y26",
         "z": [
          [
           null,
           null,
           null,
           null,
           null,
           null,
           null,
           null,
           null,
           null,
           null,
           null,
           null,
           null,
           null,
           null,
           null,
           null,
           null,
           null,
           null,
           null
          ],
          [
           null,
           null,
           null,
           null,
           -55350.331999999995,
           null,
           null,
           null,
           -53867.774,
           null,
           null,
           null,
           null,
           null,
           -54913.414000000004,
           null,
           null,
           null,
           null,
           -55475.382000000005,
           null,
           null
          ],
          [
           null,
           null,
           null,
           null,
           null,
           null,
           -54222.221999999994,
           null,
           null,
           null,
           -53744.19,
           null,
           null,
           null,
           null,
           null,
           null,
           -55281.102,
           -6277071.776,
           null,
           null,
           null
          ],
          [
           null,
           null,
           null,
           null,
           null,
           null,
           null,
           null,
           null,
           null,
           null,
           -55846.478,
           -8354784.425999999,
           -55354.58200000001,
           null,
           null,
           null,
           null,
           null,
           null,
           null,
           null
          ],
          [
           null,
           -54174.15,
           -6877743.058,
           -54416.482,
           null,
           -54039.402,
           null,
           -52825.71799999999,
           null,
           -52956.621999999996,
           null,
           null,
           null,
           null,
           null,
           -54188.288,
           -53528.034,
           null,
           null,
           null,
           -55504.724,
           null
          ],
          [
           null,
           null,
           null,
           null,
           null,
           null,
           null,
           null,
           null,
           null,
           null,
           null,
           null,
           null,
           null,
           null,
           null,
           null,
           null,
           null,
           null,
           null
          ]
         ]
        },
        {
         "marker": {
          "color": "black",
          "line": {
           "color": "Gray",
           "width": 2
          }
         },
         "mode": "markers",
         "name": "Feasible Trial",
         "showlegend": false,
         "type": "scatter",
         "x": [
          0.0003,
          0.004794569699089756,
          0.0002040739156778681,
          0.000030396539882732285,
          0.00257739955004777,
          0.0004476590948218718,
          0.00007876818893430757,
          0.0001409077180700703,
          0.0013896388393775268,
          0.00024642280555448395,
          0.00001086510746874547,
          0.00006199254413961387,
          0.00009047215040400252,
          0.00007489266809258986,
          0.000025996428567044415,
          0.001203349728557282,
          0.00006192213434077147,
          0.0006024308603014506,
          0.000024161822821989798,
          0.009830639023539483
         ],
         "xaxis": "x26",
         "y": [
          0.99,
          0.95,
          0.99,
          0.95,
          0.97,
          0.95,
          0.95,
          0.97,
          0.97,
          0.99,
          0.999,
          0.97,
          0.999,
          0.999,
          0.999,
          0.999,
          0.999,
          0.999,
          0.999,
          0.999
         ],
         "yaxis": "y26"
        },
        {
         "type": "scatter",
         "xaxis": "x33",
         "yaxis": "y33"
        },
        {
         "colorbar": {
          "title": {
           "text": "Objective Value"
          }
         },
         "colorscale": [
          [
           0,
           "rgb(247,251,255)"
          ],
          [
           0.125,
           "rgb(222,235,247)"
          ],
          [
           0.25,
           "rgb(198,219,239)"
          ],
          [
           0.375,
           "rgb(158,202,225)"
          ],
          [
           0.5,
           "rgb(107,174,214)"
          ],
          [
           0.625,
           "rgb(66,146,198)"
          ],
          [
           0.75,
           "rgb(33,113,181)"
          ],
          [
           0.875,
           "rgb(8,81,156)"
          ],
          [
           1,
           "rgb(8,48,107)"
          ]
         ],
         "connectgaps": true,
         "contours": {
          "coloring": "heatmap"
         },
         "hoverinfo": "none",
         "line": {
          "smoothing": 1.3
         },
         "reversescale": false,
         "showscale": false,
         "type": "contour",
         "x": [
          0.00000773048319158694,
          0.00001086510746874547,
          0.000024161822821989798,
          0.000025996428567044415,
          0.000030396539882732285,
          0.00006192213434077147,
          0.00006199254413961387,
          0.00007489266809258986,
          0.00007876818893430757,
          0.00009047215040400252,
          0.0001409077180700703,
          0.0002040739156778681,
          0.00024642280555448395,
          0.0003,
          0.0004476590948218718,
          0.0006024308603014506,
          0.001203349728557282,
          0.0013896388393775268,
          0.00257739955004777,
          0.004794569699089756,
          0.009830639023539483,
          0.01381685294826609
         ],
         "xaxis": "x40",
         "y": [
          32,
          128,
          256,
          512,
          1024,
          2048,
          2144
         ],
         "yaxis": "y40",
         "z": [
          [
           null,
           null,
           null,
           null,
           null,
           null,
           null,
           null,
           null,
           null,
           null,
           null,
           null,
           null,
           null,
           null,
           null,
           null,
           null,
           null,
           null,
           null
          ],
          [
           null,
           null,
           null,
           -54416.482,
           null,
           null,
           null,
           null,
           null,
           null,
           null,
           null,
           -8354784.425999999,
           null,
           null,
           null,
           null,
           null,
           null,
           null,
           null,
           null
          ],
          [
           null,
           null,
           null,
           null,
           null,
           null,
           null,
           null,
           null,
           null,
           null,
           -55846.478,
           null,
           null,
           -54913.414000000004,
           null,
           null,
           null,
           -6277071.776,
           -55475.382000000005,
           null,
           null
          ],
          [
           null,
           -54174.15,
           -6877743.058,
           null,
           null,
           -54039.402,
           null,
           -52825.71799999999,
           null,
           null,
           -53744.19,
           null,
           null,
           null,
           null,
           null,
           null,
           -55281.102,
           null,
           null,
           null,
           null
          ],
          [
           null,
           null,
           null,
           null,
           -55350.331999999995,
           null,
           null,
           null,
           null,
           null,
           null,
           null,
           null,
           null,
           null,
           null,
           -53528.034,
           null,
           null,
           null,
           null,
           null
          ],
          [
           null,
           null,
           null,
           null,
           null,
           null,
           -54222.221999999994,
           null,
           -53867.774,
           -52956.621999999996,
           null,
           null,
           null,
           -55354.58200000001,
           null,
           -54188.288,
           null,
           null,
           null,
           null,
           -55504.724,
           null
          ],
          [
           null,
           null,
           null,
           null,
           null,
           null,
           null,
           null,
           null,
           null,
           null,
           null,
           null,
           null,
           null,
           null,
           null,
           null,
           null,
           null,
           null,
           null
          ]
         ]
        },
        {
         "marker": {
          "color": "black",
          "line": {
           "color": "Gray",
           "width": 2
          }
         },
         "mode": "markers",
         "name": "Feasible Trial",
         "showlegend": false,
         "type": "scatter",
         "x": [
          0.0003,
          0.004794569699089756,
          0.0002040739156778681,
          0.000030396539882732285,
          0.00257739955004777,
          0.0004476590948218718,
          0.00007876818893430757,
          0.0001409077180700703,
          0.0013896388393775268,
          0.00024642280555448395,
          0.00001086510746874547,
          0.00006199254413961387,
          0.00009047215040400252,
          0.00007489266809258986,
          0.000025996428567044415,
          0.001203349728557282,
          0.00006192213434077147,
          0.0006024308603014506,
          0.000024161822821989798,
          0.009830639023539483
         ],
         "xaxis": "x40",
         "y": [
          2048,
          256,
          256,
          1024,
          256,
          256,
          2048,
          512,
          512,
          128,
          512,
          2048,
          2048,
          512,
          128,
          1024,
          512,
          2048,
          512,
          2048
         ],
         "yaxis": "y40"
        },
        {
         "colorbar": {
          "title": {
           "text": "Objective Value"
          }
         },
         "colorscale": [
          [
           0,
           "rgb(247,251,255)"
          ],
          [
           0.125,
           "rgb(222,235,247)"
          ],
          [
           0.25,
           "rgb(198,219,239)"
          ],
          [
           0.375,
           "rgb(158,202,225)"
          ],
          [
           0.5,
           "rgb(107,174,214)"
          ],
          [
           0.625,
           "rgb(66,146,198)"
          ],
          [
           0.75,
           "rgb(33,113,181)"
          ],
          [
           0.875,
           "rgb(8,81,156)"
          ],
          [
           1,
           "rgb(8,48,107)"
          ]
         ],
         "connectgaps": true,
         "contours": {
          "coloring": "heatmap"
         },
         "hoverinfo": "none",
         "line": {
          "smoothing": 1.3
         },
         "reversescale": false,
         "showscale": false,
         "type": "contour",
         "x": [
          0.00000773048319158694,
          0.00001086510746874547,
          0.000024161822821989798,
          0.000025996428567044415,
          0.000030396539882732285,
          0.00006192213434077147,
          0.00006199254413961387,
          0.00007489266809258986,
          0.00007876818893430757,
          0.00009047215040400252,
          0.0001409077180700703,
          0.0002040739156778681,
          0.00024642280555448395,
          0.0003,
          0.0004476590948218718,
          0.0006024308603014506,
          0.001203349728557282,
          0.0013896388393775268,
          0.00257739955004777,
          0.004794569699089756,
          0.009830639023539483,
          0.01381685294826609
         ],
         "xaxis": "x47",
         "y": [
          0.06440089456040873,
          0.10687633648985499,
          0.11492751627263009,
          0.15531908586787582,
          0.2213326366249019,
          0.25815310478046444,
          0.3252961331886048,
          0.3276379009688698,
          0.41879709330381787,
          0.5,
          0.5003494908161767,
          0.6209676850887675,
          0.6236556946071977,
          0.6490619246022484,
          0.7551510755325068,
          0.7554611876239332,
          0.7660662297530773,
          0.8102344169718921,
          0.8311182480602305,
          0.9380400576794671,
          0.95638517507878,
          0.9988606170082263
         ],
         "yaxis": "y47",
         "z": [
          [
           null,
           null,
           null,
           null,
           null,
           null,
           null,
           null,
           null,
           null,
           null,
           null,
           null,
           null,
           null,
           null,
           null,
           null,
           null,
           null,
           null,
           null
          ],
          [
           null,
           null,
           null,
           -54416.482,
           null,
           null,
           null,
           null,
           null,
           null,
           null,
           null,
           null,
           null,
           null,
           null,
           null,
           null,
           null,
           null,
           null,
           null
          ],
          [
           null,
           null,
           null,
           null,
           null,
           null,
           null,
           null,
           null,
           -52956.621999999996,
           null,
           null,
           null,
           null,
           null,
           null,
           null,
           null,
           null,
           null,
           null,
           null
          ],
          [
           null,
           null,
           null,
           null,
           null,
           null,
           -54222.221999999994,
           null,
           null,
           null,
           null,
           null,
           null,
           null,
           null,
           null,
           null,
           null,
           null,
           null,
           null,
           null
          ],
          [
           null,
           null,
           null,
           null,
           null,
           null,
           null,
           null,
           -53867.774,
           null,
           null,
           null,
           null,
           null,
           null,
           null,
           null,
           null,
           null,
           null,
           null,
           null
          ],
          [
           null,
           null,
           null,
           null,
           null,
           null,
           null,
           null,
           null,
           null,
           null,
           null,
           null,
           null,
           null,
           null,
           null,
           null,
           null,
           null,
           -55504.724,
           null
          ],
          [
           null,
           null,
           null,
           null,
           -55350.331999999995,
           null,
           null,
           null,
           null,
           null,
           null,
           null,
           null,
           null,
           null,
           null,
           null,
           null,
           null,
           null,
           null,
           null
          ],
          [
           null,
           null,
           null,
           null,
           null,
           null,
           null,
           null,
           null,
           null,
           null,
           null,
           null,
           null,
           null,
           null,
           -53528.034,
           null,
           null,
           null,
           null,
           null
          ],
          [
           null,
           null,
           null,
           null,
           null,
           null,
           null,
           null,
           null,
           null,
           null,
           null,
           null,
           null,
           null,
           null,
           null,
           null,
           -6277071.776,
           null,
           null,
           null
          ],
          [
           null,
           null,
           null,
           null,
           null,
           null,
           null,
           null,
           null,
           null,
           null,
           null,
           null,
           -55354.58200000001,
           null,
           null,
           null,
           null,
           null,
           null,
           null,
           null
          ],
          [
           null,
           null,
           null,
           null,
           null,
           null,
           null,
           null,
           null,
           null,
           null,
           null,
           null,
           null,
           null,
           -54188.288,
           null,
           null,
           null,
           null,
           null,
           null
          ],
          [
           null,
           null,
           null,
           null,
           null,
           null,
           null,
           null,
           null,
           null,
           null,
           null,
           null,
           null,
           -54913.414000000004,
           null,
           null,
           null,
           null,
           null,
           null,
           null
          ],
          [
           null,
           null,
           null,
           null,
           null,
           null,
           null,
           null,
           null,
           null,
           null,
           null,
           null,
           null,
           null,
           null,
           null,
           null,
           null,
           -55475.382000000005,
           null,
           null
          ],
          [
           null,
           null,
           null,
           null,
           null,
           -54039.402,
           null,
           null,
           null,
           null,
           null,
           null,
           null,
           null,
           null,
           null,
           null,
           null,
           null,
           null,
           null,
           null
          ],
          [
           null,
           null,
           null,
           null,
           null,
           null,
           null,
           null,
           null,
           null,
           -53744.19,
           null,
           null,
           null,
           null,
           null,
           null,
           null,
           null,
           null,
           null,
           null
          ],
          [
           null,
           null,
           null,
           null,
           null,
           null,
           null,
           -52825.71799999999,
           null,
           null,
           null,
           null,
           null,
           null,
           null,
           null,
           null,
           null,
           null,
           null,
           null,
           null
          ],
          [
           null,
           -54174.15,
           null,
           null,
           null,
           null,
           null,
           null,
           null,
           null,
           null,
           null,
           null,
           null,
           null,
           null,
           null,
           null,
           null,
           null,
           null,
           null
          ],
          [
           null,
           null,
           -6877743.058,
           null,
           null,
           null,
           null,
           null,
           null,
           null,
           null,
           null,
           null,
           null,
           null,
           null,
           null,
           null,
           null,
           null,
           null,
           null
          ],
          [
           null,
           null,
           null,
           null,
           null,
           null,
           null,
           null,
           null,
           null,
           null,
           null,
           null,
           null,
           null,
           null,
           null,
           -55281.102,
           null,
           null,
           null,
           null
          ],
          [
           null,
           null,
           null,
           null,
           null,
           null,
           null,
           null,
           null,
           null,
           null,
           -55846.478,
           null,
           null,
           null,
           null,
           null,
           null,
           null,
           null,
           null,
           null
          ],
          [
           null,
           null,
           null,
           null,
           null,
           null,
           null,
           null,
           null,
           null,
           null,
           null,
           -8354784.425999999,
           null,
           null,
           null,
           null,
           null,
           null,
           null,
           null,
           null
          ],
          [
           null,
           null,
           null,
           null,
           null,
           null,
           null,
           null,
           null,
           null,
           null,
           null,
           null,
           null,
           null,
           null,
           null,
           null,
           null,
           null,
           null,
           null
          ]
         ]
        },
        {
         "marker": {
          "color": "black",
          "line": {
           "color": "Gray",
           "width": 2
          }
         },
         "mode": "markers",
         "name": "Feasible Trial",
         "showlegend": false,
         "type": "scatter",
         "x": [
          0.0003,
          0.004794569699089756,
          0.0002040739156778681,
          0.000030396539882732285,
          0.00257739955004777,
          0.0004476590948218718,
          0.00007876818893430757,
          0.0001409077180700703,
          0.0013896388393775268,
          0.00024642280555448395,
          0.00001086510746874547,
          0.00006199254413961387,
          0.00009047215040400252,
          0.00007489266809258986,
          0.000025996428567044415,
          0.001203349728557282,
          0.00006192213434077147,
          0.0006024308603014506,
          0.000024161822821989798,
          0.009830639023539483
         ],
         "xaxis": "x47",
         "y": [
          0.5,
          0.6236556946071977,
          0.9380400576794671,
          0.3252961331886048,
          0.41879709330381787,
          0.6209676850887675,
          0.2213326366249019,
          0.7551510755325068,
          0.8311182480602305,
          0.95638517507878,
          0.7660662297530773,
          0.15531908586787582,
          0.11492751627263009,
          0.7554611876239332,
          0.10687633648985499,
          0.3276379009688698,
          0.6490619246022484,
          0.5003494908161767,
          0.8102344169718921,
          0.25815310478046444
         ],
         "yaxis": "y47"
        },
        {
         "colorbar": {
          "title": {
           "text": "Objective Value"
          }
         },
         "colorscale": [
          [
           0,
           "rgb(247,251,255)"
          ],
          [
           0.125,
           "rgb(222,235,247)"
          ],
          [
           0.25,
           "rgb(198,219,239)"
          ],
          [
           0.375,
           "rgb(158,202,225)"
          ],
          [
           0.5,
           "rgb(107,174,214)"
          ],
          [
           0.625,
           "rgb(66,146,198)"
          ],
          [
           0.75,
           "rgb(33,113,181)"
          ],
          [
           0.875,
           "rgb(8,81,156)"
          ],
          [
           1,
           "rgb(8,48,107)"
          ]
         ],
         "connectgaps": true,
         "contours": {
          "coloring": "heatmap"
         },
         "hoverinfo": "none",
         "line": {
          "smoothing": 1.3
         },
         "reversescale": false,
         "showscale": false,
         "type": "contour",
         "x": [
          32,
          128,
          256,
          512,
          1024,
          2048,
          2144
         ],
         "xaxis": "x6",
         "y": [
          4,
          16,
          32,
          64,
          128,
          256,
          268
         ],
         "yaxis": "y6",
         "z": [
          [
           null,
           null,
           null,
           null,
           null,
           null,
           null
          ],
          [
           null,
           null,
           null,
           -54174.15,
           null,
           null,
           null
          ],
          [
           null,
           -54416.482,
           null,
           -52825.71799999999,
           -53528.034,
           -52956.621999999996,
           null
          ],
          [
           null,
           null,
           -55846.478,
           -55281.102,
           null,
           -53867.774,
           null
          ],
          [
           null,
           null,
           -54913.414000000004,
           null,
           -55350.331999999995,
           null,
           null
          ],
          [
           null,
           null,
           -55475.382000000005,
           -53744.19,
           null,
           -54222.221999999994,
           null
          ],
          [
           null,
           null,
           null,
           null,
           null,
           null,
           null
          ]
         ]
        },
        {
         "marker": {
          "color": "black",
          "line": {
           "color": "Gray",
           "width": 2
          }
         },
         "mode": "markers",
         "name": "Feasible Trial",
         "showlegend": false,
         "type": "scatter",
         "x": [
          2048,
          256,
          256,
          1024,
          256,
          256,
          2048,
          512,
          512,
          128,
          512,
          2048,
          2048,
          512,
          128,
          1024,
          512,
          2048,
          512,
          2048
         ],
         "xaxis": "x6",
         "y": [
          64,
          256,
          64,
          128,
          256,
          128,
          64,
          256,
          64,
          32,
          16,
          256,
          32,
          32,
          32,
          32,
          32,
          32,
          16,
          32
         ],
         "yaxis": "y6"
        },
        {
         "colorbar": {
          "title": {
           "text": "Objective Value"
          }
         },
         "colorscale": [
          [
           0,
           "rgb(247,251,255)"
          ],
          [
           0.125,
           "rgb(222,235,247)"
          ],
          [
           0.25,
           "rgb(198,219,239)"
          ],
          [
           0.375,
           "rgb(158,202,225)"
          ],
          [
           0.5,
           "rgb(107,174,214)"
          ],
          [
           0.625,
           "rgb(66,146,198)"
          ],
          [
           0.75,
           "rgb(33,113,181)"
          ],
          [
           0.875,
           "rgb(8,81,156)"
          ],
          [
           1,
           "rgb(8,48,107)"
          ]
         ],
         "connectgaps": true,
         "contours": {
          "coloring": "heatmap"
         },
         "hoverinfo": "none",
         "line": {
          "smoothing": 1.3
         },
         "reversescale": false,
         "showscale": false,
         "type": "contour",
         "x": [
          32,
          128,
          256,
          512,
          1024,
          2048,
          2144
         ],
         "xaxis": "x13",
         "y": [
          0.08808577154129724,
          0.10285132204679967,
          0.15,
          0.15459451637855975,
          0.17438453927970288,
          0.18565335675148947,
          0.18681078435765253,
          0.2207549059953295,
          0.24251179186061247,
          0.25041073728025975,
          0.2630764493126711,
          0.26637499877020604,
          0.2849693518063551,
          0.2944147149109724,
          0.31429606364138596,
          0.321193255089133,
          0.33276105076848844,
          0.3363076909153072,
          0.3567410957919658,
          0.37860999961664626,
          0.3981623321568483,
          0.41292788266235075
         ],
         "yaxis": "y13",
         "z": [
          [
           null,
           null,
           null,
           null,
           null,
           null,
           null
          ],
          [
           null,
           null,
           null,
           -6877743.058,
           null,
           null,
           null
          ],
          [
           null,
           null,
           null,
           null,
           null,
           -55354.58200000001,
           null
          ],
          [
           null,
           null,
           -54913.414000000004,
           null,
           null,
           null,
           null
          ],
          [
           null,
           -8354784.425999999,
           null,
           null,
           null,
           null,
           null
          ],
          [
           null,
           null,
           null,
           null,
           -55350.331999999995,
           null,
           null
          ],
          [
           null,
           null,
           -55475.382000000005,
           null,
           null,
           null,
           null
          ],
          [
           null,
           null,
           null,
           null,
           null,
           -54188.288,
           null
          ],
          [
           null,
           null,
           -6277071.776,
           null,
           null,
           null,
           null
          ],
          [
           null,
           null,
           -55846.478,
           null,
           null,
           null,
           null
          ],
          [
           null,
           null,
           null,
           null,
           null,
           -52956.621999999996,
           null
          ],
          [
           null,
           -54416.482,
           null,
           null,
           null,
           null,
           null
          ],
          [
           null,
           null,
           null,
           -54039.402,
           null,
           null,
           null
          ],
          [
           null,
           null,
           null,
           null,
           null,
           -53867.774,
           null
          ],
          [
           null,
           null,
           null,
           null,
           null,
           -54222.221999999994,
           null
          ],
          [
           null,
           null,
           null,
           -52825.71799999999,
           null,
           null,
           null
          ],
          [
           null,
           null,
           null,
           null,
           null,
           -55504.724,
           null
          ],
          [
           null,
           null,
           null,
           -53744.19,
           null,
           null,
           null
          ],
          [
           null,
           null,
           null,
           -55281.102,
           null,
           null,
           null
          ],
          [
           null,
           null,
           null,
           -54174.15,
           null,
           null,
           null
          ],
          [
           null,
           null,
           null,
           null,
           -53528.034,
           null,
           null
          ],
          [
           null,
           null,
           null,
           null,
           null,
           null,
           null
          ]
         ]
        },
        {
         "marker": {
          "color": "black",
          "line": {
           "color": "Gray",
           "width": 2
          }
         },
         "mode": "markers",
         "name": "Feasible Trial",
         "showlegend": false,
         "type": "scatter",
         "x": [
          2048,
          256,
          256,
          1024,
          256,
          256,
          2048,
          512,
          512,
          128,
          512,
          2048,
          2048,
          512,
          128,
          1024,
          512,
          2048,
          512,
          2048
         ],
         "xaxis": "x13",
         "y": [
          0.15,
          0.18681078435765253,
          0.25041073728025975,
          0.18565335675148947,
          0.24251179186061247,
          0.15459451637855975,
          0.2944147149109724,
          0.3363076909153072,
          0.3567410957919658,
          0.17438453927970288,
          0.37860999961664626,
          0.31429606364138596,
          0.2630764493126711,
          0.321193255089133,
          0.26637499877020604,
          0.3981623321568483,
          0.2849693518063551,
          0.2207549059953295,
          0.10285132204679967,
          0.33276105076848844
         ],
         "yaxis": "y13"
        },
        {
         "colorbar": {
          "title": {
           "text": "Objective Value"
          }
         },
         "colorscale": [
          [
           0,
           "rgb(247,251,255)"
          ],
          [
           0.125,
           "rgb(222,235,247)"
          ],
          [
           0.25,
           "rgb(198,219,239)"
          ],
          [
           0.375,
           "rgb(158,202,225)"
          ],
          [
           0.5,
           "rgb(107,174,214)"
          ],
          [
           0.625,
           "rgb(66,146,198)"
          ],
          [
           0.75,
           "rgb(33,113,181)"
          ],
          [
           0.875,
           "rgb(8,81,156)"
          ],
          [
           1,
           "rgb(8,48,107)"
          ]
         ],
         "connectgaps": true,
         "contours": {
          "coloring": "heatmap"
         },
         "hoverinfo": "none",
         "line": {
          "smoothing": 1.3
         },
         "reversescale": false,
         "showscale": false,
         "type": "contour",
         "x": [
          32,
          128,
          256,
          512,
          1024,
          2048,
          2144
         ],
         "xaxis": "x20",
         "y": [
          0.0000750090620361006,
          0.00010543530575853422,
          0.0002183834913739417,
          0.0007996321281186954,
          0.000923405436469188,
          0.0017862914778816626,
          0.0030635735274230193,
          0.0040082164983855865,
          0.004017375151542843,
          0.007403523032770856,
          0.009404988026095698,
          0.01,
          0.011214194865239198,
          0.012522877055348854,
          0.018390985691451717,
          0.019026900906968597,
          0.02429955575166297,
          0.035009587260110664,
          0.053872712650775374,
          0.08051354809558334,
          0.095594433162897,
          0.1343708082163851
         ],
         "yaxis": "y20",
         "z": [
          [
           null,
           null,
           null,
           null,
           null,
           null,
           null
          ],
          [
           null,
           null,
           null,
           -54174.15,
           null,
           null,
           null
          ],
          [
           null,
           null,
           null,
           -55281.102,
           null,
           null,
           null
          ],
          [
           null,
           null,
           null,
           null,
           -55350.331999999995,
           null,
           null
          ],
          [
           null,
           null,
           null,
           null,
           null,
           -54188.288,
           null
          ],
          [
           null,
           null,
           null,
           null,
           null,
           -54222.221999999994,
           null
          ],
          [
           null,
           null,
           -55475.382000000005,
           null,
           null,
           null,
           null
          ],
          [
           null,
           null,
           null,
           null,
           null,
           -53867.774,
           null
          ],
          [
           null,
           null,
           -55846.478,
           null,
           null,
           null,
           null
          ],
          [
           null,
           null,
           null,
           null,
           null,
           -55504.724,
           null
          ],
          [
           null,
           null,
           null,
           -54039.402,
           null,
           null,
           null
          ],
          [
           null,
           null,
           null,
           null,
           null,
           -55354.58200000001,
           null
          ],
          [
           null,
           null,
           null,
           -53744.19,
           null,
           null,
           null
          ],
          [
           null,
           null,
           null,
           null,
           null,
           -52956.621999999996,
           null
          ],
          [
           null,
           null,
           null,
           -52825.71799999999,
           null,
           null,
           null
          ],
          [
           null,
           null,
           -54913.414000000004,
           null,
           null,
           null,
           null
          ],
          [
           null,
           -54416.482,
           null,
           null,
           null,
           null,
           null
          ],
          [
           null,
           null,
           null,
           null,
           -53528.034,
           null,
           null
          ],
          [
           null,
           null,
           -6277071.776,
           null,
           null,
           null,
           null
          ],
          [
           null,
           -8354784.425999999,
           null,
           null,
           null,
           null,
           null
          ],
          [
           null,
           null,
           null,
           -6877743.058,
           null,
           null,
           null
          ],
          [
           null,
           null,
           null,
           null,
           null,
           null,
           null
          ]
         ]
        },
        {
         "marker": {
          "color": "black",
          "line": {
           "color": "Gray",
           "width": 2
          }
         },
         "mode": "markers",
         "name": "Feasible Trial",
         "showlegend": false,
         "type": "scatter",
         "x": [
          2048,
          256,
          256,
          1024,
          256,
          256,
          2048,
          512,
          512,
          128,
          512,
          2048,
          2048,
          512,
          128,
          1024,
          512,
          2048,
          512,
          2048
         ],
         "xaxis": "x20",
         "y": [
          0.01,
          0.0030635735274230193,
          0.004017375151542843,
          0.0007996321281186954,
          0.053872712650775374,
          0.019026900906968597,
          0.0040082164983855865,
          0.011214194865239198,
          0.0002183834913739417,
          0.08051354809558334,
          0.00010543530575853422,
          0.0017862914778816626,
          0.012522877055348854,
          0.018390985691451717,
          0.02429955575166297,
          0.035009587260110664,
          0.009404988026095698,
          0.000923405436469188,
          0.095594433162897,
          0.007403523032770856
         ],
         "yaxis": "y20"
        },
        {
         "colorbar": {
          "title": {
           "text": "Objective Value"
          }
         },
         "colorscale": [
          [
           0,
           "rgb(247,251,255)"
          ],
          [
           0.125,
           "rgb(222,235,247)"
          ],
          [
           0.25,
           "rgb(198,219,239)"
          ],
          [
           0.375,
           "rgb(158,202,225)"
          ],
          [
           0.5,
           "rgb(107,174,214)"
          ],
          [
           0.625,
           "rgb(66,146,198)"
          ],
          [
           0.75,
           "rgb(33,113,181)"
          ],
          [
           0.875,
           "rgb(8,81,156)"
          ],
          [
           1,
           "rgb(8,48,107)"
          ]
         ],
         "connectgaps": true,
         "contours": {
          "coloring": "heatmap"
         },
         "hoverinfo": "none",
         "line": {
          "smoothing": 1.3
         },
         "reversescale": false,
         "showscale": false,
         "type": "contour",
         "x": [
          32,
          128,
          256,
          512,
          1024,
          2048,
          2144
         ],
         "xaxis": "x27",
         "y": [
          0.94755,
          0.95,
          0.97,
          0.99,
          0.999,
          1.00145
         ],
         "yaxis": "y27",
         "z": [
          [
           null,
           null,
           null,
           null,
           null,
           null,
           null
          ],
          [
           null,
           null,
           -54913.414000000004,
           null,
           -55350.331999999995,
           -53867.774,
           null
          ],
          [
           null,
           null,
           -6277071.776,
           -53744.19,
           null,
           -54222.221999999994,
           null
          ],
          [
           null,
           -8354784.425999999,
           -55846.478,
           null,
           null,
           -55354.58200000001,
           null
          ],
          [
           null,
           -54416.482,
           null,
           -52825.71799999999,
           -53528.034,
           -52956.621999999996,
           null
          ],
          [
           null,
           null,
           null,
           null,
           null,
           null,
           null
          ]
         ]
        },
        {
         "marker": {
          "color": "black",
          "line": {
           "color": "Gray",
           "width": 2
          }
         },
         "mode": "markers",
         "name": "Feasible Trial",
         "showlegend": false,
         "type": "scatter",
         "x": [
          2048,
          256,
          256,
          1024,
          256,
          256,
          2048,
          512,
          512,
          128,
          512,
          2048,
          2048,
          512,
          128,
          1024,
          512,
          2048,
          512,
          2048
         ],
         "xaxis": "x27",
         "y": [
          0.99,
          0.95,
          0.99,
          0.95,
          0.97,
          0.95,
          0.95,
          0.97,
          0.97,
          0.99,
          0.999,
          0.97,
          0.999,
          0.999,
          0.999,
          0.999,
          0.999,
          0.999,
          0.999,
          0.999
         ],
         "yaxis": "y27"
        },
        {
         "colorbar": {
          "title": {
           "text": "Objective Value"
          }
         },
         "colorscale": [
          [
           0,
           "rgb(247,251,255)"
          ],
          [
           0.125,
           "rgb(222,235,247)"
          ],
          [
           0.25,
           "rgb(198,219,239)"
          ],
          [
           0.375,
           "rgb(158,202,225)"
          ],
          [
           0.5,
           "rgb(107,174,214)"
          ],
          [
           0.625,
           "rgb(66,146,198)"
          ],
          [
           0.75,
           "rgb(33,113,181)"
          ],
          [
           0.875,
           "rgb(8,81,156)"
          ],
          [
           1,
           "rgb(8,48,107)"
          ]
         ],
         "connectgaps": true,
         "contours": {
          "coloring": "heatmap"
         },
         "hoverinfo": "none",
         "line": {
          "smoothing": 1.3
         },
         "reversescale": false,
         "showscale": false,
         "type": "contour",
         "x": [
          32,
          128,
          256,
          512,
          1024,
          2048,
          2144
         ],
         "xaxis": "x34",
         "y": [
          0.00000773048319158694,
          0.00001086510746874547,
          0.000024161822821989798,
          0.000025996428567044415,
          0.000030396539882732285,
          0.00006192213434077147,
          0.00006199254413961387,
          0.00007489266809258986,
          0.00007876818893430757,
          0.00009047215040400252,
          0.0001409077180700703,
          0.0002040739156778681,
          0.00024642280555448395,
          0.0003,
          0.0004476590948218718,
          0.0006024308603014506,
          0.001203349728557282,
          0.0013896388393775268,
          0.00257739955004777,
          0.004794569699089756,
          0.009830639023539483,
          0.01381685294826609
         ],
         "yaxis": "y34",
         "z": [
          [
           null,
           null,
           null,
           null,
           null,
           null,
           null
          ],
          [
           null,
           null,
           null,
           -54174.15,
           null,
           null,
           null
          ],
          [
           null,
           null,
           null,
           -6877743.058,
           null,
           null,
           null
          ],
          [
           null,
           -54416.482,
           null,
           null,
           null,
           null,
           null
          ],
          [
           null,
           null,
           null,
           null,
           -55350.331999999995,
           null,
           null
          ],
          [
           null,
           null,
           null,
           -54039.402,
           null,
           null,
           null
          ],
          [
           null,
           null,
           null,
           null,
           null,
           -54222.221999999994,
           null
          ],
          [
           null,
           null,
           null,
           -52825.71799999999,
           null,
           null,
           null
          ],
          [
           null,
           null,
           null,
           null,
           null,
           -53867.774,
           null
          ],
          [
           null,
           null,
           null,
           null,
           null,
           -52956.621999999996,
           null
          ],
          [
           null,
           null,
           null,
           -53744.19,
           null,
           null,
           null
          ],
          [
           null,
           null,
           -55846.478,
           null,
           null,
           null,
           null
          ],
          [
           null,
           -8354784.425999999,
           null,
           null,
           null,
           null,
           null
          ],
          [
           null,
           null,
           null,
           null,
           null,
           -55354.58200000001,
           null
          ],
          [
           null,
           null,
           -54913.414000000004,
           null,
           null,
           null,
           null
          ],
          [
           null,
           null,
           null,
           null,
           null,
           -54188.288,
           null
          ],
          [
           null,
           null,
           null,
           null,
           -53528.034,
           null,
           null
          ],
          [
           null,
           null,
           null,
           -55281.102,
           null,
           null,
           null
          ],
          [
           null,
           null,
           -6277071.776,
           null,
           null,
           null,
           null
          ],
          [
           null,
           null,
           -55475.382000000005,
           null,
           null,
           null,
           null
          ],
          [
           null,
           null,
           null,
           null,
           null,
           -55504.724,
           null
          ],
          [
           null,
           null,
           null,
           null,
           null,
           null,
           null
          ]
         ]
        },
        {
         "marker": {
          "color": "black",
          "line": {
           "color": "Gray",
           "width": 2
          }
         },
         "mode": "markers",
         "name": "Feasible Trial",
         "showlegend": false,
         "type": "scatter",
         "x": [
          2048,
          256,
          256,
          1024,
          256,
          256,
          2048,
          512,
          512,
          128,
          512,
          2048,
          2048,
          512,
          128,
          1024,
          512,
          2048,
          512,
          2048
         ],
         "xaxis": "x34",
         "y": [
          0.0003,
          0.004794569699089756,
          0.0002040739156778681,
          0.000030396539882732285,
          0.00257739955004777,
          0.0004476590948218718,
          0.00007876818893430757,
          0.0001409077180700703,
          0.0013896388393775268,
          0.00024642280555448395,
          0.00001086510746874547,
          0.00006199254413961387,
          0.00009047215040400252,
          0.00007489266809258986,
          0.000025996428567044415,
          0.001203349728557282,
          0.00006192213434077147,
          0.0006024308603014506,
          0.000024161822821989798,
          0.009830639023539483
         ],
         "yaxis": "y34"
        },
        {
         "type": "scatter",
         "xaxis": "x41",
         "yaxis": "y41"
        },
        {
         "colorbar": {
          "title": {
           "text": "Objective Value"
          }
         },
         "colorscale": [
          [
           0,
           "rgb(247,251,255)"
          ],
          [
           0.125,
           "rgb(222,235,247)"
          ],
          [
           0.25,
           "rgb(198,219,239)"
          ],
          [
           0.375,
           "rgb(158,202,225)"
          ],
          [
           0.5,
           "rgb(107,174,214)"
          ],
          [
           0.625,
           "rgb(66,146,198)"
          ],
          [
           0.75,
           "rgb(33,113,181)"
          ],
          [
           0.875,
           "rgb(8,81,156)"
          ],
          [
           1,
           "rgb(8,48,107)"
          ]
         ],
         "connectgaps": true,
         "contours": {
          "coloring": "heatmap"
         },
         "hoverinfo": "none",
         "line": {
          "smoothing": 1.3
         },
         "reversescale": false,
         "showscale": false,
         "type": "contour",
         "x": [
          32,
          128,
          256,
          512,
          1024,
          2048,
          2144
         ],
         "xaxis": "x48",
         "y": [
          0.06440089456040873,
          0.10687633648985499,
          0.11492751627263009,
          0.15531908586787582,
          0.2213326366249019,
          0.25815310478046444,
          0.3252961331886048,
          0.3276379009688698,
          0.41879709330381787,
          0.5,
          0.5003494908161767,
          0.6209676850887675,
          0.6236556946071977,
          0.6490619246022484,
          0.7551510755325068,
          0.7554611876239332,
          0.7660662297530773,
          0.8102344169718921,
          0.8311182480602305,
          0.9380400576794671,
          0.95638517507878,
          0.9988606170082263
         ],
         "yaxis": "y48",
         "z": [
          [
           null,
           null,
           null,
           null,
           null,
           null,
           null
          ],
          [
           null,
           -54416.482,
           null,
           null,
           null,
           null,
           null
          ],
          [
           null,
           null,
           null,
           null,
           null,
           -52956.621999999996,
           null
          ],
          [
           null,
           null,
           null,
           null,
           null,
           -54222.221999999994,
           null
          ],
          [
           null,
           null,
           null,
           null,
           null,
           -53867.774,
           null
          ],
          [
           null,
           null,
           null,
           null,
           null,
           -55504.724,
           null
          ],
          [
           null,
           null,
           null,
           null,
           -55350.331999999995,
           null,
           null
          ],
          [
           null,
           null,
           null,
           null,
           -53528.034,
           null,
           null
          ],
          [
           null,
           null,
           -6277071.776,
           null,
           null,
           null,
           null
          ],
          [
           null,
           null,
           null,
           null,
           null,
           -55354.58200000001,
           null
          ],
          [
           null,
           null,
           null,
           null,
           null,
           -54188.288,
           null
          ],
          [
           null,
           null,
           -54913.414000000004,
           null,
           null,
           null,
           null
          ],
          [
           null,
           null,
           -55475.382000000005,
           null,
           null,
           null,
           null
          ],
          [
           null,
           null,
           null,
           -54039.402,
           null,
           null,
           null
          ],
          [
           null,
           null,
           null,
           -53744.19,
           null,
           null,
           null
          ],
          [
           null,
           null,
           null,
           -52825.71799999999,
           null,
           null,
           null
          ],
          [
           null,
           null,
           null,
           -54174.15,
           null,
           null,
           null
          ],
          [
           null,
           null,
           null,
           -6877743.058,
           null,
           null,
           null
          ],
          [
           null,
           null,
           null,
           -55281.102,
           null,
           null,
           null
          ],
          [
           null,
           null,
           -55846.478,
           null,
           null,
           null,
           null
          ],
          [
           null,
           -8354784.425999999,
           null,
           null,
           null,
           null,
           null
          ],
          [
           null,
           null,
           null,
           null,
           null,
           null,
           null
          ]
         ]
        },
        {
         "marker": {
          "color": "black",
          "line": {
           "color": "Gray",
           "width": 2
          }
         },
         "mode": "markers",
         "name": "Feasible Trial",
         "showlegend": false,
         "type": "scatter",
         "x": [
          2048,
          256,
          256,
          1024,
          256,
          256,
          2048,
          512,
          512,
          128,
          512,
          2048,
          2048,
          512,
          128,
          1024,
          512,
          2048,
          512,
          2048
         ],
         "xaxis": "x48",
         "y": [
          0.5,
          0.6236556946071977,
          0.9380400576794671,
          0.3252961331886048,
          0.41879709330381787,
          0.6209676850887675,
          0.2213326366249019,
          0.7551510755325068,
          0.8311182480602305,
          0.95638517507878,
          0.7660662297530773,
          0.15531908586787582,
          0.11492751627263009,
          0.7554611876239332,
          0.10687633648985499,
          0.3276379009688698,
          0.6490619246022484,
          0.5003494908161767,
          0.8102344169718921,
          0.25815310478046444
         ],
         "yaxis": "y48"
        },
        {
         "colorbar": {
          "title": {
           "text": "Objective Value"
          }
         },
         "colorscale": [
          [
           0,
           "rgb(247,251,255)"
          ],
          [
           0.125,
           "rgb(222,235,247)"
          ],
          [
           0.25,
           "rgb(198,219,239)"
          ],
          [
           0.375,
           "rgb(158,202,225)"
          ],
          [
           0.5,
           "rgb(107,174,214)"
          ],
          [
           0.625,
           "rgb(66,146,198)"
          ],
          [
           0.75,
           "rgb(33,113,181)"
          ],
          [
           0.875,
           "rgb(8,81,156)"
          ],
          [
           1,
           "rgb(8,48,107)"
          ]
         ],
         "connectgaps": true,
         "contours": {
          "coloring": "heatmap"
         },
         "hoverinfo": "none",
         "line": {
          "smoothing": 1.3
         },
         "reversescale": false,
         "showscale": false,
         "type": "contour",
         "x": [
          0.06440089456040873,
          0.10687633648985499,
          0.11492751627263009,
          0.15531908586787582,
          0.2213326366249019,
          0.25815310478046444,
          0.3252961331886048,
          0.3276379009688698,
          0.41879709330381787,
          0.5,
          0.5003494908161767,
          0.6209676850887675,
          0.6236556946071977,
          0.6490619246022484,
          0.7551510755325068,
          0.7554611876239332,
          0.7660662297530773,
          0.8102344169718921,
          0.8311182480602305,
          0.9380400576794671,
          0.95638517507878,
          0.9988606170082263
         ],
         "xaxis": "x7",
         "y": [
          4,
          16,
          32,
          64,
          128,
          256,
          268
         ],
         "yaxis": "y7",
         "z": [
          [
           null,
           null,
           null,
           null,
           null,
           null,
           null,
           null,
           null,
           null,
           null,
           null,
           null,
           null,
           null,
           null,
           null,
           null,
           null,
           null,
           null,
           null
          ],
          [
           null,
           null,
           null,
           null,
           null,
           null,
           null,
           null,
           null,
           null,
           null,
           null,
           null,
           null,
           null,
           null,
           -54174.15,
           -6877743.058,
           null,
           null,
           null,
           null
          ],
          [
           null,
           -54416.482,
           -52956.621999999996,
           null,
           null,
           -55504.724,
           null,
           -53528.034,
           null,
           null,
           -54188.288,
           null,
           null,
           -54039.402,
           null,
           -52825.71799999999,
           null,
           null,
           null,
           null,
           -8354784.425999999,
           null
          ],
          [
           null,
           null,
           null,
           null,
           -53867.774,
           null,
           null,
           null,
           null,
           -55354.58200000001,
           null,
           null,
           null,
           null,
           null,
           null,
           null,
           null,
           -55281.102,
           -55846.478,
           null,
           null
          ],
          [
           null,
           null,
           null,
           null,
           null,
           null,
           -55350.331999999995,
           null,
           null,
           null,
           null,
           -54913.414000000004,
           null,
           null,
           null,
           null,
           null,
           null,
           null,
           null,
           null,
           null
          ],
          [
           null,
           null,
           null,
           -54222.221999999994,
           null,
           null,
           null,
           null,
           -6277071.776,
           null,
           null,
           null,
           -55475.382000000005,
           null,
           -53744.19,
           null,
           null,
           null,
           null,
           null,
           null,
           null
          ],
          [
           null,
           null,
           null,
           null,
           null,
           null,
           null,
           null,
           null,
           null,
           null,
           null,
           null,
           null,
           null,
           null,
           null,
           null,
           null,
           null,
           null,
           null
          ]
         ]
        },
        {
         "marker": {
          "color": "black",
          "line": {
           "color": "Gray",
           "width": 2
          }
         },
         "mode": "markers",
         "name": "Feasible Trial",
         "showlegend": false,
         "type": "scatter",
         "x": [
          0.5,
          0.6236556946071977,
          0.9380400576794671,
          0.3252961331886048,
          0.41879709330381787,
          0.6209676850887675,
          0.2213326366249019,
          0.7551510755325068,
          0.8311182480602305,
          0.95638517507878,
          0.7660662297530773,
          0.15531908586787582,
          0.11492751627263009,
          0.7554611876239332,
          0.10687633648985499,
          0.3276379009688698,
          0.6490619246022484,
          0.5003494908161767,
          0.8102344169718921,
          0.25815310478046444
         ],
         "xaxis": "x7",
         "y": [
          64,
          256,
          64,
          128,
          256,
          128,
          64,
          256,
          64,
          32,
          16,
          256,
          32,
          32,
          32,
          32,
          32,
          32,
          16,
          32
         ],
         "yaxis": "y7"
        },
        {
         "colorbar": {
          "title": {
           "text": "Objective Value"
          }
         },
         "colorscale": [
          [
           0,
           "rgb(247,251,255)"
          ],
          [
           0.125,
           "rgb(222,235,247)"
          ],
          [
           0.25,
           "rgb(198,219,239)"
          ],
          [
           0.375,
           "rgb(158,202,225)"
          ],
          [
           0.5,
           "rgb(107,174,214)"
          ],
          [
           0.625,
           "rgb(66,146,198)"
          ],
          [
           0.75,
           "rgb(33,113,181)"
          ],
          [
           0.875,
           "rgb(8,81,156)"
          ],
          [
           1,
           "rgb(8,48,107)"
          ]
         ],
         "connectgaps": true,
         "contours": {
          "coloring": "heatmap"
         },
         "hoverinfo": "none",
         "line": {
          "smoothing": 1.3
         },
         "reversescale": false,
         "showscale": false,
         "type": "contour",
         "x": [
          0.06440089456040873,
          0.10687633648985499,
          0.11492751627263009,
          0.15531908586787582,
          0.2213326366249019,
          0.25815310478046444,
          0.3252961331886048,
          0.3276379009688698,
          0.41879709330381787,
          0.5,
          0.5003494908161767,
          0.6209676850887675,
          0.6236556946071977,
          0.6490619246022484,
          0.7551510755325068,
          0.7554611876239332,
          0.7660662297530773,
          0.8102344169718921,
          0.8311182480602305,
          0.9380400576794671,
          0.95638517507878,
          0.9988606170082263
         ],
         "xaxis": "x14",
         "y": [
          0.08808577154129724,
          0.10285132204679967,
          0.15,
          0.15459451637855975,
          0.17438453927970288,
          0.18565335675148947,
          0.18681078435765253,
          0.2207549059953295,
          0.24251179186061247,
          0.25041073728025975,
          0.2630764493126711,
          0.26637499877020604,
          0.2849693518063551,
          0.2944147149109724,
          0.31429606364138596,
          0.321193255089133,
          0.33276105076848844,
          0.3363076909153072,
          0.3567410957919658,
          0.37860999961664626,
          0.3981623321568483,
          0.41292788266235075
         ],
         "yaxis": "y14",
         "z": [
          [
           null,
           null,
           null,
           null,
           null,
           null,
           null,
           null,
           null,
           null,
           null,
           null,
           null,
           null,
           null,
           null,
           null,
           null,
           null,
           null,
           null,
           null
          ],
          [
           null,
           null,
           null,
           null,
           null,
           null,
           null,
           null,
           null,
           null,
           null,
           null,
           null,
           null,
           null,
           null,
           null,
           -6877743.058,
           null,
           null,
           null,
           null
          ],
          [
           null,
           null,
           null,
           null,
           null,
           null,
           null,
           null,
           null,
           -55354.58200000001,
           null,
           null,
           null,
           null,
           null,
           null,
           null,
           null,
           null,
           null,
           null,
           null
          ],
          [
           null,
           null,
           null,
           null,
           null,
           null,
           null,
           null,
           null,
           null,
           null,
           -54913.414000000004,
           null,
           null,
           null,
           null,
           null,
           null,
           null,
           null,
           null,
           null
          ],
          [
           null,
           null,
           null,
           null,
           null,
           null,
           null,
           null,
           null,
           null,
           null,
           null,
           null,
           null,
           null,
           null,
           null,
           null,
           null,
           null,
           -8354784.425999999,
           null
          ],
          [
           null,
           null,
           null,
           null,
           null,
           null,
           -55350.331999999995,
           null,
           null,
           null,
           null,
           null,
           null,
           null,
           null,
           null,
           null,
           null,
           null,
           null,
           null,
           null
          ],
          [
           null,
           null,
           null,
           null,
           null,
           null,
           null,
           null,
           null,
           null,
           null,
           null,
           -55475.382000000005,
           null,
           null,
           null,
           null,
           null,
           null,
           null,
           null,
           null
          ],
          [
           null,
           null,
           null,
           null,
           null,
           null,
           null,
           null,
           null,
           null,
           -54188.288,
           null,
           null,
           null,
           null,
           null,
           null,
           null,
           null,
           null,
           null,
           null
          ],
          [
           null,
           null,
           null,
           null,
           null,
           null,
           null,
           null,
           -6277071.776,
           null,
           null,
           null,
           null,
           null,
           null,
           null,
           null,
           null,
           null,
           null,
           null,
           null
          ],
          [
           null,
           null,
           null,
           null,
           null,
           null,
           null,
           null,
           null,
           null,
           null,
           null,
           null,
           null,
           null,
           null,
           null,
           null,
           null,
           -55846.478,
           null,
           null
          ],
          [
           null,
           null,
           -52956.621999999996,
           null,
           null,
           null,
           null,
           null,
           null,
           null,
           null,
           null,
           null,
           null,
           null,
           null,
           null,
           null,
           null,
           null,
           null,
           null
          ],
          [
           null,
           -54416.482,
           null,
           null,
           null,
           null,
           null,
           null,
           null,
           null,
           null,
           null,
           null,
           null,
           null,
           null,
           null,
           null,
           null,
           null,
           null,
           null
          ],
          [
           null,
           null,
           null,
           null,
           null,
           null,
           null,
           null,
           null,
           null,
           null,
           null,
           null,
           -54039.402,
           null,
           null,
           null,
           null,
           null,
           null,
           null,
           null
          ],
          [
           null,
           null,
           null,
           null,
           -53867.774,
           null,
           null,
           null,
           null,
           null,
           null,
           null,
           null,
           null,
           null,
           null,
           null,
           null,
           null,
           null,
           null,
           null
          ],
          [
           null,
           null,
           null,
           -54222.221999999994,
           null,
           null,
           null,
           null,
           null,
           null,
           null,
           null,
           null,
           null,
           null,
           null,
           null,
           null,
           null,
           null,
           null,
           null
          ],
          [
           null,
           null,
           null,
           null,
           null,
           null,
           null,
           null,
           null,
           null,
           null,
           null,
           null,
           null,
           null,
           -52825.71799999999,
           null,
           null,
           null,
           null,
           null,
           null
          ],
          [
           null,
           null,
           null,
           null,
           null,
           -55504.724,
           null,
           null,
           null,
           null,
           null,
           null,
           null,
           null,
           null,
           null,
           null,
           null,
           null,
           null,
           null,
           null
          ],
          [
           null,
           null,
           null,
           null,
           null,
           null,
           null,
           null,
           null,
           null,
           null,
           null,
           null,
           null,
           -53744.19,
           null,
           null,
           null,
           null,
           null,
           null,
           null
          ],
          [
           null,
           null,
           null,
           null,
           null,
           null,
           null,
           null,
           null,
           null,
           null,
           null,
           null,
           null,
           null,
           null,
           null,
           null,
           -55281.102,
           null,
           null,
           null
          ],
          [
           null,
           null,
           null,
           null,
           null,
           null,
           null,
           null,
           null,
           null,
           null,
           null,
           null,
           null,
           null,
           null,
           -54174.15,
           null,
           null,
           null,
           null,
           null
          ],
          [
           null,
           null,
           null,
           null,
           null,
           null,
           null,
           -53528.034,
           null,
           null,
           null,
           null,
           null,
           null,
           null,
           null,
           null,
           null,
           null,
           null,
           null,
           null
          ],
          [
           null,
           null,
           null,
           null,
           null,
           null,
           null,
           null,
           null,
           null,
           null,
           null,
           null,
           null,
           null,
           null,
           null,
           null,
           null,
           null,
           null,
           null
          ]
         ]
        },
        {
         "marker": {
          "color": "black",
          "line": {
           "color": "Gray",
           "width": 2
          }
         },
         "mode": "markers",
         "name": "Feasible Trial",
         "showlegend": false,
         "type": "scatter",
         "x": [
          0.5,
          0.6236556946071977,
          0.9380400576794671,
          0.3252961331886048,
          0.41879709330381787,
          0.6209676850887675,
          0.2213326366249019,
          0.7551510755325068,
          0.8311182480602305,
          0.95638517507878,
          0.7660662297530773,
          0.15531908586787582,
          0.11492751627263009,
          0.7554611876239332,
          0.10687633648985499,
          0.3276379009688698,
          0.6490619246022484,
          0.5003494908161767,
          0.8102344169718921,
          0.25815310478046444
         ],
         "xaxis": "x14",
         "y": [
          0.15,
          0.18681078435765253,
          0.25041073728025975,
          0.18565335675148947,
          0.24251179186061247,
          0.15459451637855975,
          0.2944147149109724,
          0.3363076909153072,
          0.3567410957919658,
          0.17438453927970288,
          0.37860999961664626,
          0.31429606364138596,
          0.2630764493126711,
          0.321193255089133,
          0.26637499877020604,
          0.3981623321568483,
          0.2849693518063551,
          0.2207549059953295,
          0.10285132204679967,
          0.33276105076848844
         ],
         "yaxis": "y14"
        },
        {
         "colorbar": {
          "title": {
           "text": "Objective Value"
          }
         },
         "colorscale": [
          [
           0,
           "rgb(247,251,255)"
          ],
          [
           0.125,
           "rgb(222,235,247)"
          ],
          [
           0.25,
           "rgb(198,219,239)"
          ],
          [
           0.375,
           "rgb(158,202,225)"
          ],
          [
           0.5,
           "rgb(107,174,214)"
          ],
          [
           0.625,
           "rgb(66,146,198)"
          ],
          [
           0.75,
           "rgb(33,113,181)"
          ],
          [
           0.875,
           "rgb(8,81,156)"
          ],
          [
           1,
           "rgb(8,48,107)"
          ]
         ],
         "connectgaps": true,
         "contours": {
          "coloring": "heatmap"
         },
         "hoverinfo": "none",
         "line": {
          "smoothing": 1.3
         },
         "reversescale": false,
         "showscale": false,
         "type": "contour",
         "x": [
          0.06440089456040873,
          0.10687633648985499,
          0.11492751627263009,
          0.15531908586787582,
          0.2213326366249019,
          0.25815310478046444,
          0.3252961331886048,
          0.3276379009688698,
          0.41879709330381787,
          0.5,
          0.5003494908161767,
          0.6209676850887675,
          0.6236556946071977,
          0.6490619246022484,
          0.7551510755325068,
          0.7554611876239332,
          0.7660662297530773,
          0.8102344169718921,
          0.8311182480602305,
          0.9380400576794671,
          0.95638517507878,
          0.9988606170082263
         ],
         "xaxis": "x21",
         "y": [
          0.0000750090620361006,
          0.00010543530575853422,
          0.0002183834913739417,
          0.0007996321281186954,
          0.000923405436469188,
          0.0017862914778816626,
          0.0030635735274230193,
          0.0040082164983855865,
          0.004017375151542843,
          0.007403523032770856,
          0.009404988026095698,
          0.01,
          0.011214194865239198,
          0.012522877055348854,
          0.018390985691451717,
          0.019026900906968597,
          0.02429955575166297,
          0.035009587260110664,
          0.053872712650775374,
          0.08051354809558334,
          0.095594433162897,
          0.1343708082163851
         ],
         "yaxis": "y21",
         "z": [
          [
           null,
           null,
           null,
           null,
           null,
           null,
           null,
           null,
           null,
           null,
           null,
           null,
           null,
           null,
           null,
           null,
           null,
           null,
           null,
           null,
           null,
           null
          ],
          [
           null,
           null,
           null,
           null,
           null,
           null,
           null,
           null,
           null,
           null,
           null,
           null,
           null,
           null,
           null,
           null,
           -54174.15,
           null,
           null,
           null,
           null,
           null
          ],
          [
           null,
           null,
           null,
           null,
           null,
           null,
           null,
           null,
           null,
           null,
           null,
           null,
           null,
           null,
           null,
           null,
           null,
           null,
           -55281.102,
           null,
           null,
           null
          ],
          [
           null,
           null,
           null,
           null,
           null,
           null,
           -55350.331999999995,
           null,
           null,
           null,
           null,
           null,
           null,
           null,
           null,
           null,
           null,
           null,
           null,
           null,
           null,
           null
          ],
          [
           null,
           null,
           null,
           null,
           null,
           null,
           null,
           null,
           null,
           null,
           -54188.288,
           null,
           null,
           null,
           null,
           null,
           null,
           null,
           null,
           null,
           null,
           null
          ],
          [
           null,
           null,
           null,
           -54222.221999999994,
           null,
           null,
           null,
           null,
           null,
           null,
           null,
           null,
           null,
           null,
           null,
           null,
           null,
           null,
           null,
           null,
           null,
           null
          ],
          [
           null,
           null,
           null,
           null,
           null,
           null,
           null,
           null,
           null,
           null,
           null,
           null,
           -55475.382000000005,
           null,
           null,
           null,
           null,
           null,
           null,
           null,
           null,
           null
          ],
          [
           null,
           null,
           null,
           null,
           -53867.774,
           null,
           null,
           null,
           null,
           null,
           null,
           null,
           null,
           null,
           null,
           null,
           null,
           null,
           null,
           null,
           null,
           null
          ],
          [
           null,
           null,
           null,
           null,
           null,
           null,
           null,
           null,
           null,
           null,
           null,
           null,
           null,
           null,
           null,
           null,
           null,
           null,
           null,
           -55846.478,
           null,
           null
          ],
          [
           null,
           null,
           null,
           null,
           null,
           -55504.724,
           null,
           null,
           null,
           null,
           null,
           null,
           null,
           null,
           null,
           null,
           null,
           null,
           null,
           null,
           null,
           null
          ],
          [
           null,
           null,
           null,
           null,
           null,
           null,
           null,
           null,
           null,
           null,
           null,
           null,
           null,
           -54039.402,
           null,
           null,
           null,
           null,
           null,
           null,
           null,
           null
          ],
          [
           null,
           null,
           null,
           null,
           null,
           null,
           null,
           null,
           null,
           -55354.58200000001,
           null,
           null,
           null,
           null,
           null,
           null,
           null,
           null,
           null,
           null,
           null,
           null
          ],
          [
           null,
           null,
           null,
           null,
           null,
           null,
           null,
           null,
           null,
           null,
           null,
           null,
           null,
           null,
           -53744.19,
           null,
           null,
           null,
           null,
           null,
           null,
           null
          ],
          [
           null,
           null,
           -52956.621999999996,
           null,
           null,
           null,
           null,
           null,
           null,
           null,
           null,
           null,
           null,
           null,
           null,
           null,
           null,
           null,
           null,
           null,
           null,
           null
          ],
          [
           null,
           null,
           null,
           null,
           null,
           null,
           null,
           null,
           null,
           null,
           null,
           null,
           null,
           null,
           null,
           -52825.71799999999,
           null,
           null,
           null,
           null,
           null,
           null
          ],
          [
           null,
           null,
           null,
           null,
           null,
           null,
           null,
           null,
           null,
           null,
           null,
           -54913.414000000004,
           null,
           null,
           null,
           null,
           null,
           null,
           null,
           null,
           null,
           null
          ],
          [
           null,
           -54416.482,
           null,
           null,
           null,
           null,
           null,
           null,
           null,
           null,
           null,
           null,
           null,
           null,
           null,
           null,
           null,
           null,
           null,
           null,
           null,
           null
          ],
          [
           null,
           null,
           null,
           null,
           null,
           null,
           null,
           -53528.034,
           null,
           null,
           null,
           null,
           null,
           null,
           null,
           null,
           null,
           null,
           null,
           null,
           null,
           null
          ],
          [
           null,
           null,
           null,
           null,
           null,
           null,
           null,
           null,
           -6277071.776,
           null,
           null,
           null,
           null,
           null,
           null,
           null,
           null,
           null,
           null,
           null,
           null,
           null
          ],
          [
           null,
           null,
           null,
           null,
           null,
           null,
           null,
           null,
           null,
           null,
           null,
           null,
           null,
           null,
           null,
           null,
           null,
           null,
           null,
           null,
           -8354784.425999999,
           null
          ],
          [
           null,
           null,
           null,
           null,
           null,
           null,
           null,
           null,
           null,
           null,
           null,
           null,
           null,
           null,
           null,
           null,
           null,
           -6877743.058,
           null,
           null,
           null,
           null
          ],
          [
           null,
           null,
           null,
           null,
           null,
           null,
           null,
           null,
           null,
           null,
           null,
           null,
           null,
           null,
           null,
           null,
           null,
           null,
           null,
           null,
           null,
           null
          ]
         ]
        },
        {
         "marker": {
          "color": "black",
          "line": {
           "color": "Gray",
           "width": 2
          }
         },
         "mode": "markers",
         "name": "Feasible Trial",
         "showlegend": false,
         "type": "scatter",
         "x": [
          0.5,
          0.6236556946071977,
          0.9380400576794671,
          0.3252961331886048,
          0.41879709330381787,
          0.6209676850887675,
          0.2213326366249019,
          0.7551510755325068,
          0.8311182480602305,
          0.95638517507878,
          0.7660662297530773,
          0.15531908586787582,
          0.11492751627263009,
          0.7554611876239332,
          0.10687633648985499,
          0.3276379009688698,
          0.6490619246022484,
          0.5003494908161767,
          0.8102344169718921,
          0.25815310478046444
         ],
         "xaxis": "x21",
         "y": [
          0.01,
          0.0030635735274230193,
          0.004017375151542843,
          0.0007996321281186954,
          0.053872712650775374,
          0.019026900906968597,
          0.0040082164983855865,
          0.011214194865239198,
          0.0002183834913739417,
          0.08051354809558334,
          0.00010543530575853422,
          0.0017862914778816626,
          0.012522877055348854,
          0.018390985691451717,
          0.02429955575166297,
          0.035009587260110664,
          0.009404988026095698,
          0.000923405436469188,
          0.095594433162897,
          0.007403523032770856
         ],
         "yaxis": "y21"
        },
        {
         "colorbar": {
          "title": {
           "text": "Objective Value"
          }
         },
         "colorscale": [
          [
           0,
           "rgb(247,251,255)"
          ],
          [
           0.125,
           "rgb(222,235,247)"
          ],
          [
           0.25,
           "rgb(198,219,239)"
          ],
          [
           0.375,
           "rgb(158,202,225)"
          ],
          [
           0.5,
           "rgb(107,174,214)"
          ],
          [
           0.625,
           "rgb(66,146,198)"
          ],
          [
           0.75,
           "rgb(33,113,181)"
          ],
          [
           0.875,
           "rgb(8,81,156)"
          ],
          [
           1,
           "rgb(8,48,107)"
          ]
         ],
         "connectgaps": true,
         "contours": {
          "coloring": "heatmap"
         },
         "hoverinfo": "none",
         "line": {
          "smoothing": 1.3
         },
         "reversescale": false,
         "showscale": false,
         "type": "contour",
         "x": [
          0.06440089456040873,
          0.10687633648985499,
          0.11492751627263009,
          0.15531908586787582,
          0.2213326366249019,
          0.25815310478046444,
          0.3252961331886048,
          0.3276379009688698,
          0.41879709330381787,
          0.5,
          0.5003494908161767,
          0.6209676850887675,
          0.6236556946071977,
          0.6490619246022484,
          0.7551510755325068,
          0.7554611876239332,
          0.7660662297530773,
          0.8102344169718921,
          0.8311182480602305,
          0.9380400576794671,
          0.95638517507878,
          0.9988606170082263
         ],
         "xaxis": "x28",
         "y": [
          0.94755,
          0.95,
          0.97,
          0.99,
          0.999,
          1.00145
         ],
         "yaxis": "y28",
         "z": [
          [
           null,
           null,
           null,
           null,
           null,
           null,
           null,
           null,
           null,
           null,
           null,
           null,
           null,
           null,
           null,
           null,
           null,
           null,
           null,
           null,
           null,
           null
          ],
          [
           null,
           null,
           null,
           null,
           -53867.774,
           null,
           -55350.331999999995,
           null,
           null,
           null,
           null,
           -54913.414000000004,
           -55475.382000000005,
           null,
           null,
           null,
           null,
           null,
           null,
           null,
           null,
           null
          ],
          [
           null,
           null,
           null,
           -54222.221999999994,
           null,
           null,
           null,
           null,
           -6277071.776,
           null,
           null,
           null,
           null,
           null,
           -53744.19,
           null,
           null,
           null,
           -55281.102,
           null,
           null,
           null
          ],
          [
           null,
           null,
           null,
           null,
           null,
           null,
           null,
           null,
           null,
           -55354.58200000001,
           null,
           null,
           null,
           null,
           null,
           null,
           null,
           null,
           null,
           -55846.478,
           -8354784.425999999,
           null
          ],
          [
           null,
           -54416.482,
           -52956.621999999996,
           null,
           null,
           -55504.724,
           null,
           -53528.034,
           null,
           null,
           -54188.288,
           null,
           null,
           -54039.402,
           null,
           -52825.71799999999,
           -54174.15,
           -6877743.058,
           null,
           null,
           null,
           null
          ],
          [
           null,
           null,
           null,
           null,
           null,
           null,
           null,
           null,
           null,
           null,
           null,
           null,
           null,
           null,
           null,
           null,
           null,
           null,
           null,
           null,
           null,
           null
          ]
         ]
        },
        {
         "marker": {
          "color": "black",
          "line": {
           "color": "Gray",
           "width": 2
          }
         },
         "mode": "markers",
         "name": "Feasible Trial",
         "showlegend": false,
         "type": "scatter",
         "x": [
          0.5,
          0.6236556946071977,
          0.9380400576794671,
          0.3252961331886048,
          0.41879709330381787,
          0.6209676850887675,
          0.2213326366249019,
          0.7551510755325068,
          0.8311182480602305,
          0.95638517507878,
          0.7660662297530773,
          0.15531908586787582,
          0.11492751627263009,
          0.7554611876239332,
          0.10687633648985499,
          0.3276379009688698,
          0.6490619246022484,
          0.5003494908161767,
          0.8102344169718921,
          0.25815310478046444
         ],
         "xaxis": "x28",
         "y": [
          0.99,
          0.95,
          0.99,
          0.95,
          0.97,
          0.95,
          0.95,
          0.97,
          0.97,
          0.99,
          0.999,
          0.97,
          0.999,
          0.999,
          0.999,
          0.999,
          0.999,
          0.999,
          0.999,
          0.999
         ],
         "yaxis": "y28"
        },
        {
         "colorbar": {
          "title": {
           "text": "Objective Value"
          }
         },
         "colorscale": [
          [
           0,
           "rgb(247,251,255)"
          ],
          [
           0.125,
           "rgb(222,235,247)"
          ],
          [
           0.25,
           "rgb(198,219,239)"
          ],
          [
           0.375,
           "rgb(158,202,225)"
          ],
          [
           0.5,
           "rgb(107,174,214)"
          ],
          [
           0.625,
           "rgb(66,146,198)"
          ],
          [
           0.75,
           "rgb(33,113,181)"
          ],
          [
           0.875,
           "rgb(8,81,156)"
          ],
          [
           1,
           "rgb(8,48,107)"
          ]
         ],
         "connectgaps": true,
         "contours": {
          "coloring": "heatmap"
         },
         "hoverinfo": "none",
         "line": {
          "smoothing": 1.3
         },
         "reversescale": false,
         "showscale": false,
         "type": "contour",
         "x": [
          0.06440089456040873,
          0.10687633648985499,
          0.11492751627263009,
          0.15531908586787582,
          0.2213326366249019,
          0.25815310478046444,
          0.3252961331886048,
          0.3276379009688698,
          0.41879709330381787,
          0.5,
          0.5003494908161767,
          0.6209676850887675,
          0.6236556946071977,
          0.6490619246022484,
          0.7551510755325068,
          0.7554611876239332,
          0.7660662297530773,
          0.8102344169718921,
          0.8311182480602305,
          0.9380400576794671,
          0.95638517507878,
          0.9988606170082263
         ],
         "xaxis": "x35",
         "y": [
          0.00000773048319158694,
          0.00001086510746874547,
          0.000024161822821989798,
          0.000025996428567044415,
          0.000030396539882732285,
          0.00006192213434077147,
          0.00006199254413961387,
          0.00007489266809258986,
          0.00007876818893430757,
          0.00009047215040400252,
          0.0001409077180700703,
          0.0002040739156778681,
          0.00024642280555448395,
          0.0003,
          0.0004476590948218718,
          0.0006024308603014506,
          0.001203349728557282,
          0.0013896388393775268,
          0.00257739955004777,
          0.004794569699089756,
          0.009830639023539483,
          0.01381685294826609
         ],
         "yaxis": "y35",
         "z": [
          [
           null,
           null,
           null,
           null,
           null,
           null,
           null,
           null,
           null,
           null,
           null,
           null,
           null,
           null,
           null,
           null,
           null,
           null,
           null,
           null,
           null,
           null
          ],
          [
           null,
           null,
           null,
           null,
           null,
           null,
           null,
           null,
           null,
           null,
           null,
           null,
           null,
           null,
           null,
           null,
           -54174.15,
           null,
           null,
           null,
           null,
           null
          ],
          [
           null,
           null,
           null,
           null,
           null,
           null,
           null,
           null,
           null,
           null,
           null,
           null,
           null,
           null,
           null,
           null,
           null,
           -6877743.058,
           null,
           null,
           null,
           null
          ],
          [
           null,
           -54416.482,
           null,
           null,
           null,
           null,
           null,
           null,
           null,
           null,
           null,
           null,
           null,
           null,
           null,
           null,
           null,
           null,
           null,
           null,
           null,
           null
          ],
          [
           null,
           null,
           null,
           null,
           null,
           null,
           -55350.331999999995,
           null,
           null,
           null,
           null,
           null,
           null,
           null,
           null,
           null,
           null,
           null,
           null,
           null,
           null,
           null
          ],
          [
           null,
           null,
           null,
           null,
           null,
           null,
           null,
           null,
           null,
           null,
           null,
           null,
           null,
           -54039.402,
           null,
           null,
           null,
           null,
           null,
           null,
           null,
           null
          ],
          [
           null,
           null,
           null,
           -54222.221999999994,
           null,
           null,
           null,
           null,
           null,
           null,
           null,
           null,
           null,
           null,
           null,
           null,
           null,
           null,
           null,
           null,
           null,
           null
          ],
          [
           null,
           null,
           null,
           null,
           null,
           null,
           null,
           null,
           null,
           null,
           null,
           null,
           null,
           null,
           null,
           -52825.71799999999,
           null,
           null,
           null,
           null,
           null,
           null
          ],
          [
           null,
           null,
           null,
           null,
           -53867.774,
           null,
           null,
           null,
           null,
           null,
           null,
           null,
           null,
           null,
           null,
           null,
           null,
           null,
           null,
           null,
           null,
           null
          ],
          [
           null,
           null,
           -52956.621999999996,
           null,
           null,
           null,
           null,
           null,
           null,
           null,
           null,
           null,
           null,
           null,
           null,
           null,
           null,
           null,
           null,
           null,
           null,
           null
          ],
          [
           null,
           null,
           null,
           null,
           null,
           null,
           null,
           null,
           null,
           null,
           null,
           null,
           null,
           null,
           -53744.19,
           null,
           null,
           null,
           null,
           null,
           null,
           null
          ],
          [
           null,
           null,
           null,
           null,
           null,
           null,
           null,
           null,
           null,
           null,
           null,
           null,
           null,
           null,
           null,
           null,
           null,
           null,
           null,
           -55846.478,
           null,
           null
          ],
          [
           null,
           null,
           null,
           null,
           null,
           null,
           null,
           null,
           null,
           null,
           null,
           null,
           null,
           null,
           null,
           null,
           null,
           null,
           null,
           null,
           -8354784.425999999,
           null
          ],
          [
           null,
           null,
           null,
           null,
           null,
           null,
           null,
           null,
           null,
           -55354.58200000001,
           null,
           null,
           null,
           null,
           null,
           null,
           null,
           null,
           null,
           null,
           null,
           null
          ],
          [
           null,
           null,
           null,
           null,
           null,
           null,
           null,
           null,
           null,
           null,
           null,
           -54913.414000000004,
           null,
           null,
           null,
           null,
           null,
           null,
           null,
           null,
           null,
           null
          ],
          [
           null,
           null,
           null,
           null,
           null,
           null,
           null,
           null,
           null,
           null,
           -54188.288,
           null,
           null,
           null,
           null,
           null,
           null,
           null,
           null,
           null,
           null,
           null
          ],
          [
           null,
           null,
           null,
           null,
           null,
           null,
           null,
           -53528.034,
           null,
           null,
           null,
           null,
           null,
           null,
           null,
           null,
           null,
           null,
           null,
           null,
           null,
           null
          ],
          [
           null,
           null,
           null,
           null,
           null,
           null,
           null,
           null,
           null,
           null,
           null,
           null,
           null,
           null,
           null,
           null,
           null,
           null,
           -55281.102,
           null,
           null,
           null
          ],
          [
           null,
           null,
           null,
           null,
           null,
           null,
           null,
           null,
           -6277071.776,
           null,
           null,
           null,
           null,
           null,
           null,
           null,
           null,
           null,
           null,
           null,
           null,
           null
          ],
          [
           null,
           null,
           null,
           null,
           null,
           null,
           null,
           null,
           null,
           null,
           null,
           null,
           -55475.382000000005,
           null,
           null,
           null,
           null,
           null,
           null,
           null,
           null,
           null
          ],
          [
           null,
           null,
           null,
           null,
           null,
           -55504.724,
           null,
           null,
           null,
           null,
           null,
           null,
           null,
           null,
           null,
           null,
           null,
           null,
           null,
           null,
           null,
           null
          ],
          [
           null,
           null,
           null,
           null,
           null,
           null,
           null,
           null,
           null,
           null,
           null,
           null,
           null,
           null,
           null,
           null,
           null,
           null,
           null,
           null,
           null,
           null
          ]
         ]
        },
        {
         "marker": {
          "color": "black",
          "line": {
           "color": "Gray",
           "width": 2
          }
         },
         "mode": "markers",
         "name": "Feasible Trial",
         "showlegend": false,
         "type": "scatter",
         "x": [
          0.5,
          0.6236556946071977,
          0.9380400576794671,
          0.3252961331886048,
          0.41879709330381787,
          0.6209676850887675,
          0.2213326366249019,
          0.7551510755325068,
          0.8311182480602305,
          0.95638517507878,
          0.7660662297530773,
          0.15531908586787582,
          0.11492751627263009,
          0.7554611876239332,
          0.10687633648985499,
          0.3276379009688698,
          0.6490619246022484,
          0.5003494908161767,
          0.8102344169718921,
          0.25815310478046444
         ],
         "xaxis": "x35",
         "y": [
          0.0003,
          0.004794569699089756,
          0.0002040739156778681,
          0.000030396539882732285,
          0.00257739955004777,
          0.0004476590948218718,
          0.00007876818893430757,
          0.0001409077180700703,
          0.0013896388393775268,
          0.00024642280555448395,
          0.00001086510746874547,
          0.00006199254413961387,
          0.00009047215040400252,
          0.00007489266809258986,
          0.000025996428567044415,
          0.001203349728557282,
          0.00006192213434077147,
          0.0006024308603014506,
          0.000024161822821989798,
          0.009830639023539483
         ],
         "yaxis": "y35"
        },
        {
         "colorbar": {
          "title": {
           "text": "Objective Value"
          }
         },
         "colorscale": [
          [
           0,
           "rgb(247,251,255)"
          ],
          [
           0.125,
           "rgb(222,235,247)"
          ],
          [
           0.25,
           "rgb(198,219,239)"
          ],
          [
           0.375,
           "rgb(158,202,225)"
          ],
          [
           0.5,
           "rgb(107,174,214)"
          ],
          [
           0.625,
           "rgb(66,146,198)"
          ],
          [
           0.75,
           "rgb(33,113,181)"
          ],
          [
           0.875,
           "rgb(8,81,156)"
          ],
          [
           1,
           "rgb(8,48,107)"
          ]
         ],
         "connectgaps": true,
         "contours": {
          "coloring": "heatmap"
         },
         "hoverinfo": "none",
         "line": {
          "smoothing": 1.3
         },
         "reversescale": false,
         "showscale": false,
         "type": "contour",
         "x": [
          0.06440089456040873,
          0.10687633648985499,
          0.11492751627263009,
          0.15531908586787582,
          0.2213326366249019,
          0.25815310478046444,
          0.3252961331886048,
          0.3276379009688698,
          0.41879709330381787,
          0.5,
          0.5003494908161767,
          0.6209676850887675,
          0.6236556946071977,
          0.6490619246022484,
          0.7551510755325068,
          0.7554611876239332,
          0.7660662297530773,
          0.8102344169718921,
          0.8311182480602305,
          0.9380400576794671,
          0.95638517507878,
          0.9988606170082263
         ],
         "xaxis": "x42",
         "y": [
          32,
          128,
          256,
          512,
          1024,
          2048,
          2144
         ],
         "yaxis": "y42",
         "z": [
          [
           null,
           null,
           null,
           null,
           null,
           null,
           null,
           null,
           null,
           null,
           null,
           null,
           null,
           null,
           null,
           null,
           null,
           null,
           null,
           null,
           null,
           null
          ],
          [
           null,
           -54416.482,
           null,
           null,
           null,
           null,
           null,
           null,
           null,
           null,
           null,
           null,
           null,
           null,
           null,
           null,
           null,
           null,
           null,
           null,
           -8354784.425999999,
           null
          ],
          [
           null,
           null,
           null,
           null,
           null,
           null,
           null,
           null,
           -6277071.776,
           null,
           null,
           -54913.414000000004,
           -55475.382000000005,
           null,
           null,
           null,
           null,
           null,
           null,
           -55846.478,
           null,
           null
          ],
          [
           null,
           null,
           null,
           null,
           null,
           null,
           null,
           null,
           null,
           null,
           null,
           null,
           null,
           -54039.402,
           -53744.19,
           -52825.71799999999,
           -54174.15,
           -6877743.058,
           -55281.102,
           null,
           null,
           null
          ],
          [
           null,
           null,
           null,
           null,
           null,
           null,
           -55350.331999999995,
           -53528.034,
           null,
           null,
           null,
           null,
           null,
           null,
           null,
           null,
           null,
           null,
           null,
           null,
           null,
           null
          ],
          [
           null,
           null,
           -52956.621999999996,
           -54222.221999999994,
           -53867.774,
           -55504.724,
           null,
           null,
           null,
           -55354.58200000001,
           -54188.288,
           null,
           null,
           null,
           null,
           null,
           null,
           null,
           null,
           null,
           null,
           null
          ],
          [
           null,
           null,
           null,
           null,
           null,
           null,
           null,
           null,
           null,
           null,
           null,
           null,
           null,
           null,
           null,
           null,
           null,
           null,
           null,
           null,
           null,
           null
          ]
         ]
        },
        {
         "marker": {
          "color": "black",
          "line": {
           "color": "Gray",
           "width": 2
          }
         },
         "mode": "markers",
         "name": "Feasible Trial",
         "showlegend": false,
         "type": "scatter",
         "x": [
          0.5,
          0.6236556946071977,
          0.9380400576794671,
          0.3252961331886048,
          0.41879709330381787,
          0.6209676850887675,
          0.2213326366249019,
          0.7551510755325068,
          0.8311182480602305,
          0.95638517507878,
          0.7660662297530773,
          0.15531908586787582,
          0.11492751627263009,
          0.7554611876239332,
          0.10687633648985499,
          0.3276379009688698,
          0.6490619246022484,
          0.5003494908161767,
          0.8102344169718921,
          0.25815310478046444
         ],
         "xaxis": "x42",
         "y": [
          2048,
          256,
          256,
          1024,
          256,
          256,
          2048,
          512,
          512,
          128,
          512,
          2048,
          2048,
          512,
          128,
          1024,
          512,
          2048,
          512,
          2048
         ],
         "yaxis": "y42"
        },
        {
         "type": "scatter",
         "xaxis": "x49",
         "yaxis": "y49"
        }
       ],
       "layout": {
        "template": {
         "data": {
          "bar": [
           {
            "error_x": {
             "color": "#2a3f5f"
            },
            "error_y": {
             "color": "#2a3f5f"
            },
            "marker": {
             "line": {
              "color": "#E5ECF6",
              "width": 0.5
             },
             "pattern": {
              "fillmode": "overlay",
              "size": 10,
              "solidity": 0.2
             }
            },
            "type": "bar"
           }
          ],
          "barpolar": [
           {
            "marker": {
             "line": {
              "color": "#E5ECF6",
              "width": 0.5
             },
             "pattern": {
              "fillmode": "overlay",
              "size": 10,
              "solidity": 0.2
             }
            },
            "type": "barpolar"
           }
          ],
          "carpet": [
           {
            "aaxis": {
             "endlinecolor": "#2a3f5f",
             "gridcolor": "white",
             "linecolor": "white",
             "minorgridcolor": "white",
             "startlinecolor": "#2a3f5f"
            },
            "baxis": {
             "endlinecolor": "#2a3f5f",
             "gridcolor": "white",
             "linecolor": "white",
             "minorgridcolor": "white",
             "startlinecolor": "#2a3f5f"
            },
            "type": "carpet"
           }
          ],
          "choropleth": [
           {
            "colorbar": {
             "outlinewidth": 0,
             "ticks": ""
            },
            "type": "choropleth"
           }
          ],
          "contour": [
           {
            "colorbar": {
             "outlinewidth": 0,
             "ticks": ""
            },
            "colorscale": [
             [
              0,
              "#0d0887"
             ],
             [
              0.1111111111111111,
              "#46039f"
             ],
             [
              0.2222222222222222,
              "#7201a8"
             ],
             [
              0.3333333333333333,
              "#9c179e"
             ],
             [
              0.4444444444444444,
              "#bd3786"
             ],
             [
              0.5555555555555556,
              "#d8576b"
             ],
             [
              0.6666666666666666,
              "#ed7953"
             ],
             [
              0.7777777777777778,
              "#fb9f3a"
             ],
             [
              0.8888888888888888,
              "#fdca26"
             ],
             [
              1,
              "#f0f921"
             ]
            ],
            "type": "contour"
           }
          ],
          "contourcarpet": [
           {
            "colorbar": {
             "outlinewidth": 0,
             "ticks": ""
            },
            "type": "contourcarpet"
           }
          ],
          "heatmap": [
           {
            "colorbar": {
             "outlinewidth": 0,
             "ticks": ""
            },
            "colorscale": [
             [
              0,
              "#0d0887"
             ],
             [
              0.1111111111111111,
              "#46039f"
             ],
             [
              0.2222222222222222,
              "#7201a8"
             ],
             [
              0.3333333333333333,
              "#9c179e"
             ],
             [
              0.4444444444444444,
              "#bd3786"
             ],
             [
              0.5555555555555556,
              "#d8576b"
             ],
             [
              0.6666666666666666,
              "#ed7953"
             ],
             [
              0.7777777777777778,
              "#fb9f3a"
             ],
             [
              0.8888888888888888,
              "#fdca26"
             ],
             [
              1,
              "#f0f921"
             ]
            ],
            "type": "heatmap"
           }
          ],
          "heatmapgl": [
           {
            "colorbar": {
             "outlinewidth": 0,
             "ticks": ""
            },
            "colorscale": [
             [
              0,
              "#0d0887"
             ],
             [
              0.1111111111111111,
              "#46039f"
             ],
             [
              0.2222222222222222,
              "#7201a8"
             ],
             [
              0.3333333333333333,
              "#9c179e"
             ],
             [
              0.4444444444444444,
              "#bd3786"
             ],
             [
              0.5555555555555556,
              "#d8576b"
             ],
             [
              0.6666666666666666,
              "#ed7953"
             ],
             [
              0.7777777777777778,
              "#fb9f3a"
             ],
             [
              0.8888888888888888,
              "#fdca26"
             ],
             [
              1,
              "#f0f921"
             ]
            ],
            "type": "heatmapgl"
           }
          ],
          "histogram": [
           {
            "marker": {
             "pattern": {
              "fillmode": "overlay",
              "size": 10,
              "solidity": 0.2
             }
            },
            "type": "histogram"
           }
          ],
          "histogram2d": [
           {
            "colorbar": {
             "outlinewidth": 0,
             "ticks": ""
            },
            "colorscale": [
             [
              0,
              "#0d0887"
             ],
             [
              0.1111111111111111,
              "#46039f"
             ],
             [
              0.2222222222222222,
              "#7201a8"
             ],
             [
              0.3333333333333333,
              "#9c179e"
             ],
             [
              0.4444444444444444,
              "#bd3786"
             ],
             [
              0.5555555555555556,
              "#d8576b"
             ],
             [
              0.6666666666666666,
              "#ed7953"
             ],
             [
              0.7777777777777778,
              "#fb9f3a"
             ],
             [
              0.8888888888888888,
              "#fdca26"
             ],
             [
              1,
              "#f0f921"
             ]
            ],
            "type": "histogram2d"
           }
          ],
          "histogram2dcontour": [
           {
            "colorbar": {
             "outlinewidth": 0,
             "ticks": ""
            },
            "colorscale": [
             [
              0,
              "#0d0887"
             ],
             [
              0.1111111111111111,
              "#46039f"
             ],
             [
              0.2222222222222222,
              "#7201a8"
             ],
             [
              0.3333333333333333,
              "#9c179e"
             ],
             [
              0.4444444444444444,
              "#bd3786"
             ],
             [
              0.5555555555555556,
              "#d8576b"
             ],
             [
              0.6666666666666666,
              "#ed7953"
             ],
             [
              0.7777777777777778,
              "#fb9f3a"
             ],
             [
              0.8888888888888888,
              "#fdca26"
             ],
             [
              1,
              "#f0f921"
             ]
            ],
            "type": "histogram2dcontour"
           }
          ],
          "mesh3d": [
           {
            "colorbar": {
             "outlinewidth": 0,
             "ticks": ""
            },
            "type": "mesh3d"
           }
          ],
          "parcoords": [
           {
            "line": {
             "colorbar": {
              "outlinewidth": 0,
              "ticks": ""
             }
            },
            "type": "parcoords"
           }
          ],
          "pie": [
           {
            "automargin": true,
            "type": "pie"
           }
          ],
          "scatter": [
           {
            "fillpattern": {
             "fillmode": "overlay",
             "size": 10,
             "solidity": 0.2
            },
            "type": "scatter"
           }
          ],
          "scatter3d": [
           {
            "line": {
             "colorbar": {
              "outlinewidth": 0,
              "ticks": ""
             }
            },
            "marker": {
             "colorbar": {
              "outlinewidth": 0,
              "ticks": ""
             }
            },
            "type": "scatter3d"
           }
          ],
          "scattercarpet": [
           {
            "marker": {
             "colorbar": {
              "outlinewidth": 0,
              "ticks": ""
             }
            },
            "type": "scattercarpet"
           }
          ],
          "scattergeo": [
           {
            "marker": {
             "colorbar": {
              "outlinewidth": 0,
              "ticks": ""
             }
            },
            "type": "scattergeo"
           }
          ],
          "scattergl": [
           {
            "marker": {
             "colorbar": {
              "outlinewidth": 0,
              "ticks": ""
             }
            },
            "type": "scattergl"
           }
          ],
          "scattermapbox": [
           {
            "marker": {
             "colorbar": {
              "outlinewidth": 0,
              "ticks": ""
             }
            },
            "type": "scattermapbox"
           }
          ],
          "scatterpolar": [
           {
            "marker": {
             "colorbar": {
              "outlinewidth": 0,
              "ticks": ""
             }
            },
            "type": "scatterpolar"
           }
          ],
          "scatterpolargl": [
           {
            "marker": {
             "colorbar": {
              "outlinewidth": 0,
              "ticks": ""
             }
            },
            "type": "scatterpolargl"
           }
          ],
          "scatterternary": [
           {
            "marker": {
             "colorbar": {
              "outlinewidth": 0,
              "ticks": ""
             }
            },
            "type": "scatterternary"
           }
          ],
          "surface": [
           {
            "colorbar": {
             "outlinewidth": 0,
             "ticks": ""
            },
            "colorscale": [
             [
              0,
              "#0d0887"
             ],
             [
              0.1111111111111111,
              "#46039f"
             ],
             [
              0.2222222222222222,
              "#7201a8"
             ],
             [
              0.3333333333333333,
              "#9c179e"
             ],
             [
              0.4444444444444444,
              "#bd3786"
             ],
             [
              0.5555555555555556,
              "#d8576b"
             ],
             [
              0.6666666666666666,
              "#ed7953"
             ],
             [
              0.7777777777777778,
              "#fb9f3a"
             ],
             [
              0.8888888888888888,
              "#fdca26"
             ],
             [
              1,
              "#f0f921"
             ]
            ],
            "type": "surface"
           }
          ],
          "table": [
           {
            "cells": {
             "fill": {
              "color": "#EBF0F8"
             },
             "line": {
              "color": "white"
             }
            },
            "header": {
             "fill": {
              "color": "#C8D4E3"
             },
             "line": {
              "color": "white"
             }
            },
            "type": "table"
           }
          ]
         },
         "layout": {
          "annotationdefaults": {
           "arrowcolor": "#2a3f5f",
           "arrowhead": 0,
           "arrowwidth": 1
          },
          "autotypenumbers": "strict",
          "coloraxis": {
           "colorbar": {
            "outlinewidth": 0,
            "ticks": ""
           }
          },
          "colorscale": {
           "diverging": [
            [
             0,
             "#8e0152"
            ],
            [
             0.1,
             "#c51b7d"
            ],
            [
             0.2,
             "#de77ae"
            ],
            [
             0.3,
             "#f1b6da"
            ],
            [
             0.4,
             "#fde0ef"
            ],
            [
             0.5,
             "#f7f7f7"
            ],
            [
             0.6,
             "#e6f5d0"
            ],
            [
             0.7,
             "#b8e186"
            ],
            [
             0.8,
             "#7fbc41"
            ],
            [
             0.9,
             "#4d9221"
            ],
            [
             1,
             "#276419"
            ]
           ],
           "sequential": [
            [
             0,
             "#0d0887"
            ],
            [
             0.1111111111111111,
             "#46039f"
            ],
            [
             0.2222222222222222,
             "#7201a8"
            ],
            [
             0.3333333333333333,
             "#9c179e"
            ],
            [
             0.4444444444444444,
             "#bd3786"
            ],
            [
             0.5555555555555556,
             "#d8576b"
            ],
            [
             0.6666666666666666,
             "#ed7953"
            ],
            [
             0.7777777777777778,
             "#fb9f3a"
            ],
            [
             0.8888888888888888,
             "#fdca26"
            ],
            [
             1,
             "#f0f921"
            ]
           ],
           "sequentialminus": [
            [
             0,
             "#0d0887"
            ],
            [
             0.1111111111111111,
             "#46039f"
            ],
            [
             0.2222222222222222,
             "#7201a8"
            ],
            [
             0.3333333333333333,
             "#9c179e"
            ],
            [
             0.4444444444444444,
             "#bd3786"
            ],
            [
             0.5555555555555556,
             "#d8576b"
            ],
            [
             0.6666666666666666,
             "#ed7953"
            ],
            [
             0.7777777777777778,
             "#fb9f3a"
            ],
            [
             0.8888888888888888,
             "#fdca26"
            ],
            [
             1,
             "#f0f921"
            ]
           ]
          },
          "colorway": [
           "#636efa",
           "#EF553B",
           "#00cc96",
           "#ab63fa",
           "#FFA15A",
           "#19d3f3",
           "#FF6692",
           "#B6E880",
           "#FF97FF",
           "#FECB52"
          ],
          "font": {
           "color": "#2a3f5f"
          },
          "geo": {
           "bgcolor": "white",
           "lakecolor": "white",
           "landcolor": "#E5ECF6",
           "showlakes": true,
           "showland": true,
           "subunitcolor": "white"
          },
          "hoverlabel": {
           "align": "left"
          },
          "hovermode": "closest",
          "mapbox": {
           "style": "light"
          },
          "paper_bgcolor": "white",
          "plot_bgcolor": "#E5ECF6",
          "polar": {
           "angularaxis": {
            "gridcolor": "white",
            "linecolor": "white",
            "ticks": ""
           },
           "bgcolor": "#E5ECF6",
           "radialaxis": {
            "gridcolor": "white",
            "linecolor": "white",
            "ticks": ""
           }
          },
          "scene": {
           "xaxis": {
            "backgroundcolor": "#E5ECF6",
            "gridcolor": "white",
            "gridwidth": 2,
            "linecolor": "white",
            "showbackground": true,
            "ticks": "",
            "zerolinecolor": "white"
           },
           "yaxis": {
            "backgroundcolor": "#E5ECF6",
            "gridcolor": "white",
            "gridwidth": 2,
            "linecolor": "white",
            "showbackground": true,
            "ticks": "",
            "zerolinecolor": "white"
           },
           "zaxis": {
            "backgroundcolor": "#E5ECF6",
            "gridcolor": "white",
            "gridwidth": 2,
            "linecolor": "white",
            "showbackground": true,
            "ticks": "",
            "zerolinecolor": "white"
           }
          },
          "shapedefaults": {
           "line": {
            "color": "#2a3f5f"
           }
          },
          "ternary": {
           "aaxis": {
            "gridcolor": "white",
            "linecolor": "white",
            "ticks": ""
           },
           "baxis": {
            "gridcolor": "white",
            "linecolor": "white",
            "ticks": ""
           },
           "bgcolor": "#E5ECF6",
           "caxis": {
            "gridcolor": "white",
            "linecolor": "white",
            "ticks": ""
           }
          },
          "title": {
           "x": 0.05
          },
          "xaxis": {
           "automargin": true,
           "gridcolor": "white",
           "linecolor": "white",
           "ticks": "",
           "title": {
            "standoff": 15
           },
           "zerolinecolor": "white",
           "zerolinewidth": 2
          },
          "yaxis": {
           "automargin": true,
           "gridcolor": "white",
           "linecolor": "white",
           "ticks": "",
           "title": {
            "standoff": 15
           },
           "zerolinecolor": "white",
           "zerolinewidth": 2
          }
         }
        },
        "title": {
         "text": "Contour Plot"
        },
        "xaxis": {
         "anchor": "y",
         "domain": [
          0,
          0.1183673469387755
         ],
         "matches": "x43",
         "range": [
          4,
          268
         ],
         "showticklabels": false
        },
        "xaxis10": {
         "anchor": "y10",
         "domain": [
          0.29387755102040813,
          0.4122448979591836
         ],
         "matches": "x45",
         "range": [
          -4.124886265214577,
          -0.8716950706241395
         ],
         "showticklabels": false,
         "type": "log"
        },
        "xaxis11": {
         "anchor": "y11",
         "domain": [
          0.4408163265306122,
          0.5591836734693877
         ],
         "matches": "x46",
         "range": [
          0.94755,
          1.00145
         ],
         "showticklabels": false
        },
        "xaxis12": {
         "anchor": "y12",
         "domain": [
          0.5877551020408163,
          0.7061224489795918
         ],
         "matches": "x47",
         "range": [
          -5.111793359783933,
          -1.8595908645480617
         ],
         "showticklabels": false,
         "type": "log"
        },
        "xaxis13": {
         "anchor": "y13",
         "domain": [
          0.7346938775510204,
          0.8530612244897959
         ],
         "matches": "x48",
         "range": [
          32,
          2144
         ],
         "showticklabels": false
        },
        "xaxis14": {
         "anchor": "y14",
         "domain": [
          0.8816326530612244,
          0.9999999999999999
         ],
         "matches": "x49",
         "range": [
          0.06440089456040873,
          0.9988606170082263
         ],
         "showticklabels": false
        },
        "xaxis15": {
         "anchor": "y15",
         "domain": [
          0,
          0.1183673469387755
         ],
         "matches": "x43",
         "range": [
          4,
          268
         ],
         "showticklabels": false
        },
        "xaxis16": {
         "anchor": "y16",
         "domain": [
          0.14693877551020407,
          0.26530612244897955
         ],
         "matches": "x44",
         "range": [
          0.08808577154129724,
          0.41292788266235075
         ],
         "showticklabels": false
        },
        "xaxis17": {
         "anchor": "y17",
         "domain": [
          0.29387755102040813,
          0.4122448979591836
         ],
         "matches": "x45",
         "range": [
          -4.124886265214577,
          -0.8716950706241395
         ],
         "showticklabels": false,
         "type": "log"
        },
        "xaxis18": {
         "anchor": "y18",
         "domain": [
          0.4408163265306122,
          0.5591836734693877
         ],
         "matches": "x46",
         "range": [
          0.94755,
          1.00145
         ],
         "showticklabels": false
        },
        "xaxis19": {
         "anchor": "y19",
         "domain": [
          0.5877551020408163,
          0.7061224489795918
         ],
         "matches": "x47",
         "range": [
          -5.111793359783933,
          -1.8595908645480617
         ],
         "showticklabels": false,
         "type": "log"
        },
        "xaxis2": {
         "anchor": "y2",
         "domain": [
          0.14693877551020407,
          0.26530612244897955
         ],
         "matches": "x44",
         "range": [
          0.08808577154129724,
          0.41292788266235075
         ],
         "showticklabels": false
        },
        "xaxis20": {
         "anchor": "y20",
         "domain": [
          0.7346938775510204,
          0.8530612244897959
         ],
         "matches": "x48",
         "range": [
          32,
          2144
         ],
         "showticklabels": false
        },
        "xaxis21": {
         "anchor": "y21",
         "domain": [
          0.8816326530612244,
          0.9999999999999999
         ],
         "matches": "x49",
         "range": [
          0.06440089456040873,
          0.9988606170082263
         ],
         "showticklabels": false
        },
        "xaxis22": {
         "anchor": "y22",
         "domain": [
          0,
          0.1183673469387755
         ],
         "matches": "x43",
         "range": [
          4,
          268
         ],
         "showticklabels": false
        },
        "xaxis23": {
         "anchor": "y23",
         "domain": [
          0.14693877551020407,
          0.26530612244897955
         ],
         "matches": "x44",
         "range": [
          0.08808577154129724,
          0.41292788266235075
         ],
         "showticklabels": false
        },
        "xaxis24": {
         "anchor": "y24",
         "domain": [
          0.29387755102040813,
          0.4122448979591836
         ],
         "matches": "x45",
         "range": [
          -4.124886265214577,
          -0.8716950706241395
         ],
         "showticklabels": false,
         "type": "log"
        },
        "xaxis25": {
         "anchor": "y25",
         "domain": [
          0.4408163265306122,
          0.5591836734693877
         ],
         "matches": "x46",
         "range": [
          0.94755,
          1.00145
         ],
         "showticklabels": false
        },
        "xaxis26": {
         "anchor": "y26",
         "domain": [
          0.5877551020408163,
          0.7061224489795918
         ],
         "matches": "x47",
         "range": [
          -5.111793359783933,
          -1.8595908645480617
         ],
         "showticklabels": false,
         "type": "log"
        },
        "xaxis27": {
         "anchor": "y27",
         "domain": [
          0.7346938775510204,
          0.8530612244897959
         ],
         "matches": "x48",
         "range": [
          32,
          2144
         ],
         "showticklabels": false
        },
        "xaxis28": {
         "anchor": "y28",
         "domain": [
          0.8816326530612244,
          0.9999999999999999
         ],
         "matches": "x49",
         "range": [
          0.06440089456040873,
          0.9988606170082263
         ],
         "showticklabels": false
        },
        "xaxis29": {
         "anchor": "y29",
         "domain": [
          0,
          0.1183673469387755
         ],
         "matches": "x43",
         "range": [
          4,
          268
         ],
         "showticklabels": false
        },
        "xaxis3": {
         "anchor": "y3",
         "domain": [
          0.29387755102040813,
          0.4122448979591836
         ],
         "matches": "x45",
         "range": [
          -4.124886265214577,
          -0.8716950706241395
         ],
         "showticklabels": false,
         "type": "log"
        },
        "xaxis30": {
         "anchor": "y30",
         "domain": [
          0.14693877551020407,
          0.26530612244897955
         ],
         "matches": "x44",
         "range": [
          0.08808577154129724,
          0.41292788266235075
         ],
         "showticklabels": false
        },
        "xaxis31": {
         "anchor": "y31",
         "domain": [
          0.29387755102040813,
          0.4122448979591836
         ],
         "matches": "x45",
         "range": [
          -4.124886265214577,
          -0.8716950706241395
         ],
         "showticklabels": false,
         "type": "log"
        },
        "xaxis32": {
         "anchor": "y32",
         "domain": [
          0.4408163265306122,
          0.5591836734693877
         ],
         "matches": "x46",
         "range": [
          0.94755,
          1.00145
         ],
         "showticklabels": false
        },
        "xaxis33": {
         "anchor": "y33",
         "domain": [
          0.5877551020408163,
          0.7061224489795918
         ],
         "matches": "x47",
         "range": [
          -5.111793359783933,
          -1.8595908645480617
         ],
         "showticklabels": false,
         "type": "log"
        },
        "xaxis34": {
         "anchor": "y34",
         "domain": [
          0.7346938775510204,
          0.8530612244897959
         ],
         "matches": "x48",
         "range": [
          32,
          2144
         ],
         "showticklabels": false
        },
        "xaxis35": {
         "anchor": "y35",
         "domain": [
          0.8816326530612244,
          0.9999999999999999
         ],
         "matches": "x49",
         "range": [
          0.06440089456040873,
          0.9988606170082263
         ],
         "showticklabels": false
        },
        "xaxis36": {
         "anchor": "y36",
         "domain": [
          0,
          0.1183673469387755
         ],
         "matches": "x43",
         "range": [
          4,
          268
         ],
         "showticklabels": false
        },
        "xaxis37": {
         "anchor": "y37",
         "domain": [
          0.14693877551020407,
          0.26530612244897955
         ],
         "matches": "x44",
         "range": [
          0.08808577154129724,
          0.41292788266235075
         ],
         "showticklabels": false
        },
        "xaxis38": {
         "anchor": "y38",
         "domain": [
          0.29387755102040813,
          0.4122448979591836
         ],
         "matches": "x45",
         "range": [
          -4.124886265214577,
          -0.8716950706241395
         ],
         "showticklabels": false,
         "type": "log"
        },
        "xaxis39": {
         "anchor": "y39",
         "domain": [
          0.4408163265306122,
          0.5591836734693877
         ],
         "matches": "x46",
         "range": [
          0.94755,
          1.00145
         ],
         "showticklabels": false
        },
        "xaxis4": {
         "anchor": "y4",
         "domain": [
          0.4408163265306122,
          0.5591836734693877
         ],
         "matches": "x46",
         "range": [
          0.94755,
          1.00145
         ],
         "showticklabels": false
        },
        "xaxis40": {
         "anchor": "y40",
         "domain": [
          0.5877551020408163,
          0.7061224489795918
         ],
         "matches": "x47",
         "range": [
          -5.111793359783933,
          -1.8595908645480617
         ],
         "showticklabels": false,
         "type": "log"
        },
        "xaxis41": {
         "anchor": "y41",
         "domain": [
          0.7346938775510204,
          0.8530612244897959
         ],
         "matches": "x48",
         "range": [
          32,
          2144
         ],
         "showticklabels": false
        },
        "xaxis42": {
         "anchor": "y42",
         "domain": [
          0.8816326530612244,
          0.9999999999999999
         ],
         "matches": "x49",
         "range": [
          0.06440089456040873,
          0.9988606170082263
         ],
         "showticklabels": false
        },
        "xaxis43": {
         "anchor": "y43",
         "domain": [
          0,
          0.1183673469387755
         ],
         "range": [
          4,
          268
         ],
         "title": {
          "text": "batch_size"
         }
        },
        "xaxis44": {
         "anchor": "y44",
         "domain": [
          0.14693877551020407,
          0.26530612244897955
         ],
         "range": [
          0.08808577154129724,
          0.41292788266235075
         ],
         "title": {
          "text": "clip_range"
         }
        },
        "xaxis45": {
         "anchor": "y45",
         "domain": [
          0.29387755102040813,
          0.4122448979591836
         ],
         "range": [
          -4.124886265214577,
          -0.8716950706241395
         ],
         "title": {
          "text": "ent_coef"
         },
         "type": "log"
        },
        "xaxis46": {
         "anchor": "y46",
         "domain": [
          0.4408163265306122,
          0.5591836734693877
         ],
         "range": [
          0.94755,
          1.00145
         ],
         "title": {
          "text": "gamma"
         }
        },
        "xaxis47": {
         "anchor": "y47",
         "domain": [
          0.5877551020408163,
          0.7061224489795918
         ],
         "range": [
          -5.111793359783933,
          -1.8595908645480617
         ],
         "title": {
          "text": "learning_rate"
         },
         "type": "log"
        },
        "xaxis48": {
         "anchor": "y48",
         "domain": [
          0.7346938775510204,
          0.8530612244897959
         ],
         "range": [
          32,
          2144
         ],
         "title": {
          "text": "n_steps"
         }
        },
        "xaxis49": {
         "anchor": "y49",
         "domain": [
          0.8816326530612244,
          0.9999999999999999
         ],
         "range": [
          0.06440089456040873,
          0.9988606170082263
         ],
         "title": {
          "text": "vf_coef"
         }
        },
        "xaxis5": {
         "anchor": "y5",
         "domain": [
          0.5877551020408163,
          0.7061224489795918
         ],
         "matches": "x47",
         "range": [
          -5.111793359783933,
          -1.8595908645480617
         ],
         "showticklabels": false,
         "type": "log"
        },
        "xaxis6": {
         "anchor": "y6",
         "domain": [
          0.7346938775510204,
          0.8530612244897959
         ],
         "matches": "x48",
         "range": [
          32,
          2144
         ],
         "showticklabels": false
        },
        "xaxis7": {
         "anchor": "y7",
         "domain": [
          0.8816326530612244,
          0.9999999999999999
         ],
         "matches": "x49",
         "range": [
          0.06440089456040873,
          0.9988606170082263
         ],
         "showticklabels": false
        },
        "xaxis8": {
         "anchor": "y8",
         "domain": [
          0,
          0.1183673469387755
         ],
         "matches": "x43",
         "range": [
          4,
          268
         ],
         "showticklabels": false
        },
        "xaxis9": {
         "anchor": "y9",
         "domain": [
          0.14693877551020407,
          0.26530612244897955
         ],
         "matches": "x44",
         "range": [
          0.08808577154129724,
          0.41292788266235075
         ],
         "showticklabels": false
        },
        "yaxis": {
         "anchor": "x",
         "domain": [
          0.8938775510204082,
          1
         ],
         "range": [
          4,
          268
         ],
         "title": {
          "text": "batch_size"
         }
        },
        "yaxis10": {
         "anchor": "x10",
         "domain": [
          0.7448979591836735,
          0.8510204081632654
         ],
         "matches": "y8",
         "range": [
          0.08808577154129724,
          0.41292788266235075
         ],
         "showticklabels": false
        },
        "yaxis11": {
         "anchor": "x11",
         "domain": [
          0.7448979591836735,
          0.8510204081632654
         ],
         "matches": "y8",
         "range": [
          0.08808577154129724,
          0.41292788266235075
         ],
         "showticklabels": false
        },
        "yaxis12": {
         "anchor": "x12",
         "domain": [
          0.7448979591836735,
          0.8510204081632654
         ],
         "matches": "y8",
         "range": [
          0.08808577154129724,
          0.41292788266235075
         ],
         "showticklabels": false
        },
        "yaxis13": {
         "anchor": "x13",
         "domain": [
          0.7448979591836735,
          0.8510204081632654
         ],
         "matches": "y8",
         "range": [
          0.08808577154129724,
          0.41292788266235075
         ],
         "showticklabels": false
        },
        "yaxis14": {
         "anchor": "x14",
         "domain": [
          0.7448979591836735,
          0.8510204081632654
         ],
         "matches": "y8",
         "range": [
          0.08808577154129724,
          0.41292788266235075
         ],
         "showticklabels": false
        },
        "yaxis15": {
         "anchor": "x15",
         "domain": [
          0.5959183673469388,
          0.7020408163265307
         ],
         "range": [
          -4.124886265214577,
          -0.8716950706241395
         ],
         "title": {
          "text": "ent_coef"
         },
         "type": "log"
        },
        "yaxis16": {
         "anchor": "x16",
         "domain": [
          0.5959183673469388,
          0.7020408163265307
         ],
         "matches": "y15",
         "range": [
          -4.124886265214577,
          -0.8716950706241395
         ],
         "showticklabels": false,
         "type": "log"
        },
        "yaxis17": {
         "anchor": "x17",
         "domain": [
          0.5959183673469388,
          0.7020408163265307
         ],
         "matches": "y15",
         "range": [
          -4.124886265214577,
          -0.8716950706241395
         ],
         "showticklabels": false,
         "type": "log"
        },
        "yaxis18": {
         "anchor": "x18",
         "domain": [
          0.5959183673469388,
          0.7020408163265307
         ],
         "matches": "y15",
         "range": [
          -4.124886265214577,
          -0.8716950706241395
         ],
         "showticklabels": false,
         "type": "log"
        },
        "yaxis19": {
         "anchor": "x19",
         "domain": [
          0.5959183673469388,
          0.7020408163265307
         ],
         "matches": "y15",
         "range": [
          -4.124886265214577,
          -0.8716950706241395
         ],
         "showticklabels": false,
         "type": "log"
        },
        "yaxis2": {
         "anchor": "x2",
         "domain": [
          0.8938775510204082,
          1
         ],
         "matches": "y",
         "range": [
          4,
          268
         ],
         "showticklabels": false
        },
        "yaxis20": {
         "anchor": "x20",
         "domain": [
          0.5959183673469388,
          0.7020408163265307
         ],
         "matches": "y15",
         "range": [
          -4.124886265214577,
          -0.8716950706241395
         ],
         "showticklabels": false,
         "type": "log"
        },
        "yaxis21": {
         "anchor": "x21",
         "domain": [
          0.5959183673469388,
          0.7020408163265307
         ],
         "matches": "y15",
         "range": [
          -4.124886265214577,
          -0.8716950706241395
         ],
         "showticklabels": false,
         "type": "log"
        },
        "yaxis22": {
         "anchor": "x22",
         "domain": [
          0.4469387755102041,
          0.553061224489796
         ],
         "range": [
          0.94755,
          1.00145
         ],
         "title": {
          "text": "gamma"
         }
        },
        "yaxis23": {
         "anchor": "x23",
         "domain": [
          0.4469387755102041,
          0.553061224489796
         ],
         "matches": "y22",
         "range": [
          0.94755,
          1.00145
         ],
         "showticklabels": false
        },
        "yaxis24": {
         "anchor": "x24",
         "domain": [
          0.4469387755102041,
          0.553061224489796
         ],
         "matches": "y22",
         "range": [
          0.94755,
          1.00145
         ],
         "showticklabels": false
        },
        "yaxis25": {
         "anchor": "x25",
         "domain": [
          0.4469387755102041,
          0.553061224489796
         ],
         "matches": "y22",
         "range": [
          0.94755,
          1.00145
         ],
         "showticklabels": false
        },
        "yaxis26": {
         "anchor": "x26",
         "domain": [
          0.4469387755102041,
          0.553061224489796
         ],
         "matches": "y22",
         "range": [
          0.94755,
          1.00145
         ],
         "showticklabels": false
        },
        "yaxis27": {
         "anchor": "x27",
         "domain": [
          0.4469387755102041,
          0.553061224489796
         ],
         "matches": "y22",
         "range": [
          0.94755,
          1.00145
         ],
         "showticklabels": false
        },
        "yaxis28": {
         "anchor": "x28",
         "domain": [
          0.4469387755102041,
          0.553061224489796
         ],
         "matches": "y22",
         "range": [
          0.94755,
          1.00145
         ],
         "showticklabels": false
        },
        "yaxis29": {
         "anchor": "x29",
         "domain": [
          0.2979591836734694,
          0.40408163265306124
         ],
         "range": [
          -5.111793359783933,
          -1.8595908645480617
         ],
         "title": {
          "text": "learning_rate"
         },
         "type": "log"
        },
        "yaxis3": {
         "anchor": "x3",
         "domain": [
          0.8938775510204082,
          1
         ],
         "matches": "y",
         "range": [
          4,
          268
         ],
         "showticklabels": false
        },
        "yaxis30": {
         "anchor": "x30",
         "domain": [
          0.2979591836734694,
          0.40408163265306124
         ],
         "matches": "y29",
         "range": [
          -5.111793359783933,
          -1.8595908645480617
         ],
         "showticklabels": false,
         "type": "log"
        },
        "yaxis31": {
         "anchor": "x31",
         "domain": [
          0.2979591836734694,
          0.40408163265306124
         ],
         "matches": "y29",
         "range": [
          -5.111793359783933,
          -1.8595908645480617
         ],
         "showticklabels": false,
         "type": "log"
        },
        "yaxis32": {
         "anchor": "x32",
         "domain": [
          0.2979591836734694,
          0.40408163265306124
         ],
         "matches": "y29",
         "range": [
          -5.111793359783933,
          -1.8595908645480617
         ],
         "showticklabels": false,
         "type": "log"
        },
        "yaxis33": {
         "anchor": "x33",
         "domain": [
          0.2979591836734694,
          0.40408163265306124
         ],
         "matches": "y29",
         "range": [
          -5.111793359783933,
          -1.8595908645480617
         ],
         "showticklabels": false,
         "type": "log"
        },
        "yaxis34": {
         "anchor": "x34",
         "domain": [
          0.2979591836734694,
          0.40408163265306124
         ],
         "matches": "y29",
         "range": [
          -5.111793359783933,
          -1.8595908645480617
         ],
         "showticklabels": false,
         "type": "log"
        },
        "yaxis35": {
         "anchor": "x35",
         "domain": [
          0.2979591836734694,
          0.40408163265306124
         ],
         "matches": "y29",
         "range": [
          -5.111793359783933,
          -1.8595908645480617
         ],
         "showticklabels": false,
         "type": "log"
        },
        "yaxis36": {
         "anchor": "x36",
         "domain": [
          0.1489795918367347,
          0.25510204081632654
         ],
         "range": [
          32,
          2144
         ],
         "title": {
          "text": "n_steps"
         }
        },
        "yaxis37": {
         "anchor": "x37",
         "domain": [
          0.1489795918367347,
          0.25510204081632654
         ],
         "matches": "y36",
         "range": [
          32,
          2144
         ],
         "showticklabels": false
        },
        "yaxis38": {
         "anchor": "x38",
         "domain": [
          0.1489795918367347,
          0.25510204081632654
         ],
         "matches": "y36",
         "range": [
          32,
          2144
         ],
         "showticklabels": false
        },
        "yaxis39": {
         "anchor": "x39",
         "domain": [
          0.1489795918367347,
          0.25510204081632654
         ],
         "matches": "y36",
         "range": [
          32,
          2144
         ],
         "showticklabels": false
        },
        "yaxis4": {
         "anchor": "x4",
         "domain": [
          0.8938775510204082,
          1
         ],
         "matches": "y",
         "range": [
          4,
          268
         ],
         "showticklabels": false
        },
        "yaxis40": {
         "anchor": "x40",
         "domain": [
          0.1489795918367347,
          0.25510204081632654
         ],
         "matches": "y36",
         "range": [
          32,
          2144
         ],
         "showticklabels": false
        },
        "yaxis41": {
         "anchor": "x41",
         "domain": [
          0.1489795918367347,
          0.25510204081632654
         ],
         "matches": "y36",
         "range": [
          32,
          2144
         ],
         "showticklabels": false
        },
        "yaxis42": {
         "anchor": "x42",
         "domain": [
          0.1489795918367347,
          0.25510204081632654
         ],
         "matches": "y36",
         "range": [
          32,
          2144
         ],
         "showticklabels": false
        },
        "yaxis43": {
         "anchor": "x43",
         "domain": [
          0,
          0.10612244897959185
         ],
         "range": [
          0.06440089456040873,
          0.9988606170082263
         ],
         "title": {
          "text": "vf_coef"
         }
        },
        "yaxis44": {
         "anchor": "x44",
         "domain": [
          0,
          0.10612244897959185
         ],
         "matches": "y43",
         "range": [
          0.06440089456040873,
          0.9988606170082263
         ],
         "showticklabels": false
        },
        "yaxis45": {
         "anchor": "x45",
         "domain": [
          0,
          0.10612244897959185
         ],
         "matches": "y43",
         "range": [
          0.06440089456040873,
          0.9988606170082263
         ],
         "showticklabels": false
        },
        "yaxis46": {
         "anchor": "x46",
         "domain": [
          0,
          0.10612244897959185
         ],
         "matches": "y43",
         "range": [
          0.06440089456040873,
          0.9988606170082263
         ],
         "showticklabels": false
        },
        "yaxis47": {
         "anchor": "x47",
         "domain": [
          0,
          0.10612244897959185
         ],
         "matches": "y43",
         "range": [
          0.06440089456040873,
          0.9988606170082263
         ],
         "showticklabels": false
        },
        "yaxis48": {
         "anchor": "x48",
         "domain": [
          0,
          0.10612244897959185
         ],
         "matches": "y43",
         "range": [
          0.06440089456040873,
          0.9988606170082263
         ],
         "showticklabels": false
        },
        "yaxis49": {
         "anchor": "x49",
         "domain": [
          0,
          0.10612244897959185
         ],
         "matches": "y43",
         "range": [
          0.06440089456040873,
          0.9988606170082263
         ],
         "showticklabels": false
        },
        "yaxis5": {
         "anchor": "x5",
         "domain": [
          0.8938775510204082,
          1
         ],
         "matches": "y",
         "range": [
          4,
          268
         ],
         "showticklabels": false
        },
        "yaxis6": {
         "anchor": "x6",
         "domain": [
          0.8938775510204082,
          1
         ],
         "matches": "y",
         "range": [
          4,
          268
         ],
         "showticklabels": false
        },
        "yaxis7": {
         "anchor": "x7",
         "domain": [
          0.8938775510204082,
          1
         ],
         "matches": "y",
         "range": [
          4,
          268
         ],
         "showticklabels": false
        },
        "yaxis8": {
         "anchor": "x8",
         "domain": [
          0.7448979591836735,
          0.8510204081632654
         ],
         "range": [
          0.08808577154129724,
          0.41292788266235075
         ],
         "title": {
          "text": "clip_range"
         }
        },
        "yaxis9": {
         "anchor": "x9",
         "domain": [
          0.7448979591836735,
          0.8510204081632654
         ],
         "matches": "y8",
         "range": [
          0.08808577154129724,
          0.41292788266235075
         ],
         "showticklabels": false
        }
       }
      }
     },
     "metadata": {},
     "output_type": "display_data"
    }
   ],
   "source": [
    "from optuna.visualization import plot_contour\n",
    "\n",
    "fig = plot_contour(study)\n",
    "fig.show()"
   ]
  }
 ],
 "metadata": {
  "kernelspec": {
   "display_name": "rl-scm",
   "language": "python",
   "name": "python3"
  },
  "language_info": {
   "codemirror_mode": {
    "name": "ipython",
    "version": 3
   },
   "file_extension": ".py",
   "mimetype": "text/x-python",
   "name": "python",
   "nbconvert_exporter": "python",
   "pygments_lexer": "ipython3",
   "version": "3.12.3"
  }
 },
 "nbformat": 4,
 "nbformat_minor": 2
}
