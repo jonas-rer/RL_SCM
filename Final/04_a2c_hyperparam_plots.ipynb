{
 "cells": [
  {
   "cell_type": "code",
   "execution_count": 1,
   "metadata": {},
   "outputs": [
    {
     "name": "stderr",
     "output_type": "stream",
     "text": [
      "/Users/jonasrenfer/miniconda3/envs/rl-scm/lib/python3.12/site-packages/tqdm/auto.py:21: TqdmWarning: IProgress not found. Please update jupyter and ipywidgets. See https://ipywidgets.readthedocs.io/en/stable/user_install.html\n",
      "  from .autonotebook import tqdm as notebook_tqdm\n"
     ]
    }
   ],
   "source": [
    "# Import helpers\n",
    "import numpy as np\n",
    "import pandas as pd\n",
    "import random\n",
    "import os\n",
    "import json\n",
    "import csv\n",
    "import matplotlib.pyplot as plt\n",
    "import seaborn as sns\n",
    "import optuna\n",
    "import pickle\n",
    "\n",
    "from collections import deque\n",
    "\n",
    "# Import tensorflow\n",
    "import tensorflow as tf\n",
    "\n",
    "# Import custom classes\n",
    "from Environment.env_v9 import *\n",
    "from Functions.visualization_functions import *\n",
    "\n",
    "# Import custom functions\n",
    "from Functions.greedy_algorithm import *"
   ]
  },
  {
   "cell_type": "code",
   "execution_count": 2,
   "metadata": {},
   "outputs": [
    {
     "name": "stdout",
     "output_type": "stream",
     "text": [
      "Best parameters from loaded study: {'learning_rate': 0.0005, 'gamma': 0.95, 'ent_coef': 0.1, 'vf_coef': 1.0, 'n_steps': 64, 'max_grad_norm': 0.5, 'use_rms_prop': True, 'gae_lambda': 0.99}\n"
     ]
    }
   ],
   "source": [
    "# Load the study from a file\n",
    "with open(\"./Training/Tuning/A2C_optuna_study_2024-12-18_06_00.pkl\", \"rb\") as f:\n",
    "    study = pickle.load(f)\n",
    "\n",
    "print(\"Best parameters from loaded study:\", study.best_params)"
   ]
  },
  {
   "cell_type": "markdown",
   "metadata": {},
   "source": [
    "**Plot Optimization History**\n",
    "\n",
    "This plot shows the best trial value at each step of the optimization process."
   ]
  },
  {
   "cell_type": "code",
   "execution_count": 3,
   "metadata": {},
   "outputs": [
    {
     "data": {
      "application/vnd.plotly.v1+json": {
       "config": {
        "plotlyServerURL": "https://plot.ly"
       },
       "data": [
        {
         "mode": "markers",
         "name": "Objective Value",
         "type": "scatter",
         "x": [
          0,
          1,
          2,
          3,
          4,
          5,
          6,
          7,
          8,
          9,
          10,
          11,
          12,
          13,
          14,
          15,
          16,
          17,
          18,
          19,
          20,
          21,
          22,
          23,
          24,
          25,
          26,
          27,
          28,
          29
         ],
         "y": [
          -15439279.933999997,
          -54074.33200000001,
          -496387.61,
          -148321.918,
          -53585.530000000006,
          -981859.756,
          -54100.452000000005,
          -55333.14400000001,
          -53298.936,
          -162989.24,
          -56028.742000000006,
          -54710.79400000001,
          -19615312.228,
          -52973.64,
          -55912.018000000004,
          -54059.202000000005,
          -51588.186,
          -51312.146,
          -52911.588,
          -51706.758,
          -14030727.930000002,
          -1064937.056,
          -970721.1719999999,
          -1937570.4899999998,
          -3321995.586,
          -51026.018000000004,
          -54619.212,
          -56618.726,
          -56245.27200000001,
          -801064.538
         ]
        },
        {
         "mode": "lines",
         "name": "Best Value",
         "type": "scatter",
         "x": [
          0,
          1,
          2,
          3,
          4,
          5,
          6,
          7,
          8,
          9,
          10,
          11,
          12,
          13,
          14,
          15,
          16,
          17,
          18,
          19,
          20,
          21,
          22,
          23,
          24,
          25,
          26,
          27,
          28,
          29
         ],
         "y": [
          -15439279.933999997,
          -54074.33200000001,
          -54074.33200000001,
          -54074.33200000001,
          -53585.530000000006,
          -53585.530000000006,
          -53585.530000000006,
          -53585.530000000006,
          -53298.936,
          -53298.936,
          -53298.936,
          -53298.936,
          -53298.936,
          -52973.64,
          -52973.64,
          -52973.64,
          -51588.186,
          -51312.146,
          -51312.146,
          -51312.146,
          -51312.146,
          -51312.146,
          -51312.146,
          -51312.146,
          -51312.146,
          -51026.018000000004,
          -51026.018000000004,
          -51026.018000000004,
          -51026.018000000004,
          -51026.018000000004
         ]
        },
        {
         "marker": {
          "color": "#cccccc"
         },
         "mode": "markers",
         "name": "Infeasible Trial",
         "showlegend": false,
         "type": "scatter",
         "x": [],
         "y": []
        }
       ],
       "layout": {
        "template": {
         "data": {
          "bar": [
           {
            "error_x": {
             "color": "#2a3f5f"
            },
            "error_y": {
             "color": "#2a3f5f"
            },
            "marker": {
             "line": {
              "color": "#E5ECF6",
              "width": 0.5
             },
             "pattern": {
              "fillmode": "overlay",
              "size": 10,
              "solidity": 0.2
             }
            },
            "type": "bar"
           }
          ],
          "barpolar": [
           {
            "marker": {
             "line": {
              "color": "#E5ECF6",
              "width": 0.5
             },
             "pattern": {
              "fillmode": "overlay",
              "size": 10,
              "solidity": 0.2
             }
            },
            "type": "barpolar"
           }
          ],
          "carpet": [
           {
            "aaxis": {
             "endlinecolor": "#2a3f5f",
             "gridcolor": "white",
             "linecolor": "white",
             "minorgridcolor": "white",
             "startlinecolor": "#2a3f5f"
            },
            "baxis": {
             "endlinecolor": "#2a3f5f",
             "gridcolor": "white",
             "linecolor": "white",
             "minorgridcolor": "white",
             "startlinecolor": "#2a3f5f"
            },
            "type": "carpet"
           }
          ],
          "choropleth": [
           {
            "colorbar": {
             "outlinewidth": 0,
             "ticks": ""
            },
            "type": "choropleth"
           }
          ],
          "contour": [
           {
            "colorbar": {
             "outlinewidth": 0,
             "ticks": ""
            },
            "colorscale": [
             [
              0,
              "#0d0887"
             ],
             [
              0.1111111111111111,
              "#46039f"
             ],
             [
              0.2222222222222222,
              "#7201a8"
             ],
             [
              0.3333333333333333,
              "#9c179e"
             ],
             [
              0.4444444444444444,
              "#bd3786"
             ],
             [
              0.5555555555555556,
              "#d8576b"
             ],
             [
              0.6666666666666666,
              "#ed7953"
             ],
             [
              0.7777777777777778,
              "#fb9f3a"
             ],
             [
              0.8888888888888888,
              "#fdca26"
             ],
             [
              1,
              "#f0f921"
             ]
            ],
            "type": "contour"
           }
          ],
          "contourcarpet": [
           {
            "colorbar": {
             "outlinewidth": 0,
             "ticks": ""
            },
            "type": "contourcarpet"
           }
          ],
          "heatmap": [
           {
            "colorbar": {
             "outlinewidth": 0,
             "ticks": ""
            },
            "colorscale": [
             [
              0,
              "#0d0887"
             ],
             [
              0.1111111111111111,
              "#46039f"
             ],
             [
              0.2222222222222222,
              "#7201a8"
             ],
             [
              0.3333333333333333,
              "#9c179e"
             ],
             [
              0.4444444444444444,
              "#bd3786"
             ],
             [
              0.5555555555555556,
              "#d8576b"
             ],
             [
              0.6666666666666666,
              "#ed7953"
             ],
             [
              0.7777777777777778,
              "#fb9f3a"
             ],
             [
              0.8888888888888888,
              "#fdca26"
             ],
             [
              1,
              "#f0f921"
             ]
            ],
            "type": "heatmap"
           }
          ],
          "heatmapgl": [
           {
            "colorbar": {
             "outlinewidth": 0,
             "ticks": ""
            },
            "colorscale": [
             [
              0,
              "#0d0887"
             ],
             [
              0.1111111111111111,
              "#46039f"
             ],
             [
              0.2222222222222222,
              "#7201a8"
             ],
             [
              0.3333333333333333,
              "#9c179e"
             ],
             [
              0.4444444444444444,
              "#bd3786"
             ],
             [
              0.5555555555555556,
              "#d8576b"
             ],
             [
              0.6666666666666666,
              "#ed7953"
             ],
             [
              0.7777777777777778,
              "#fb9f3a"
             ],
             [
              0.8888888888888888,
              "#fdca26"
             ],
             [
              1,
              "#f0f921"
             ]
            ],
            "type": "heatmapgl"
           }
          ],
          "histogram": [
           {
            "marker": {
             "pattern": {
              "fillmode": "overlay",
              "size": 10,
              "solidity": 0.2
             }
            },
            "type": "histogram"
           }
          ],
          "histogram2d": [
           {
            "colorbar": {
             "outlinewidth": 0,
             "ticks": ""
            },
            "colorscale": [
             [
              0,
              "#0d0887"
             ],
             [
              0.1111111111111111,
              "#46039f"
             ],
             [
              0.2222222222222222,
              "#7201a8"
             ],
             [
              0.3333333333333333,
              "#9c179e"
             ],
             [
              0.4444444444444444,
              "#bd3786"
             ],
             [
              0.5555555555555556,
              "#d8576b"
             ],
             [
              0.6666666666666666,
              "#ed7953"
             ],
             [
              0.7777777777777778,
              "#fb9f3a"
             ],
             [
              0.8888888888888888,
              "#fdca26"
             ],
             [
              1,
              "#f0f921"
             ]
            ],
            "type": "histogram2d"
           }
          ],
          "histogram2dcontour": [
           {
            "colorbar": {
             "outlinewidth": 0,
             "ticks": ""
            },
            "colorscale": [
             [
              0,
              "#0d0887"
             ],
             [
              0.1111111111111111,
              "#46039f"
             ],
             [
              0.2222222222222222,
              "#7201a8"
             ],
             [
              0.3333333333333333,
              "#9c179e"
             ],
             [
              0.4444444444444444,
              "#bd3786"
             ],
             [
              0.5555555555555556,
              "#d8576b"
             ],
             [
              0.6666666666666666,
              "#ed7953"
             ],
             [
              0.7777777777777778,
              "#fb9f3a"
             ],
             [
              0.8888888888888888,
              "#fdca26"
             ],
             [
              1,
              "#f0f921"
             ]
            ],
            "type": "histogram2dcontour"
           }
          ],
          "mesh3d": [
           {
            "colorbar": {
             "outlinewidth": 0,
             "ticks": ""
            },
            "type": "mesh3d"
           }
          ],
          "parcoords": [
           {
            "line": {
             "colorbar": {
              "outlinewidth": 0,
              "ticks": ""
             }
            },
            "type": "parcoords"
           }
          ],
          "pie": [
           {
            "automargin": true,
            "type": "pie"
           }
          ],
          "scatter": [
           {
            "fillpattern": {
             "fillmode": "overlay",
             "size": 10,
             "solidity": 0.2
            },
            "type": "scatter"
           }
          ],
          "scatter3d": [
           {
            "line": {
             "colorbar": {
              "outlinewidth": 0,
              "ticks": ""
             }
            },
            "marker": {
             "colorbar": {
              "outlinewidth": 0,
              "ticks": ""
             }
            },
            "type": "scatter3d"
           }
          ],
          "scattercarpet": [
           {
            "marker": {
             "colorbar": {
              "outlinewidth": 0,
              "ticks": ""
             }
            },
            "type": "scattercarpet"
           }
          ],
          "scattergeo": [
           {
            "marker": {
             "colorbar": {
              "outlinewidth": 0,
              "ticks": ""
             }
            },
            "type": "scattergeo"
           }
          ],
          "scattergl": [
           {
            "marker": {
             "colorbar": {
              "outlinewidth": 0,
              "ticks": ""
             }
            },
            "type": "scattergl"
           }
          ],
          "scattermapbox": [
           {
            "marker": {
             "colorbar": {
              "outlinewidth": 0,
              "ticks": ""
             }
            },
            "type": "scattermapbox"
           }
          ],
          "scatterpolar": [
           {
            "marker": {
             "colorbar": {
              "outlinewidth": 0,
              "ticks": ""
             }
            },
            "type": "scatterpolar"
           }
          ],
          "scatterpolargl": [
           {
            "marker": {
             "colorbar": {
              "outlinewidth": 0,
              "ticks": ""
             }
            },
            "type": "scatterpolargl"
           }
          ],
          "scatterternary": [
           {
            "marker": {
             "colorbar": {
              "outlinewidth": 0,
              "ticks": ""
             }
            },
            "type": "scatterternary"
           }
          ],
          "surface": [
           {
            "colorbar": {
             "outlinewidth": 0,
             "ticks": ""
            },
            "colorscale": [
             [
              0,
              "#0d0887"
             ],
             [
              0.1111111111111111,
              "#46039f"
             ],
             [
              0.2222222222222222,
              "#7201a8"
             ],
             [
              0.3333333333333333,
              "#9c179e"
             ],
             [
              0.4444444444444444,
              "#bd3786"
             ],
             [
              0.5555555555555556,
              "#d8576b"
             ],
             [
              0.6666666666666666,
              "#ed7953"
             ],
             [
              0.7777777777777778,
              "#fb9f3a"
             ],
             [
              0.8888888888888888,
              "#fdca26"
             ],
             [
              1,
              "#f0f921"
             ]
            ],
            "type": "surface"
           }
          ],
          "table": [
           {
            "cells": {
             "fill": {
              "color": "#EBF0F8"
             },
             "line": {
              "color": "white"
             }
            },
            "header": {
             "fill": {
              "color": "#C8D4E3"
             },
             "line": {
              "color": "white"
             }
            },
            "type": "table"
           }
          ]
         },
         "layout": {
          "annotationdefaults": {
           "arrowcolor": "#2a3f5f",
           "arrowhead": 0,
           "arrowwidth": 1
          },
          "autotypenumbers": "strict",
          "coloraxis": {
           "colorbar": {
            "outlinewidth": 0,
            "ticks": ""
           }
          },
          "colorscale": {
           "diverging": [
            [
             0,
             "#8e0152"
            ],
            [
             0.1,
             "#c51b7d"
            ],
            [
             0.2,
             "#de77ae"
            ],
            [
             0.3,
             "#f1b6da"
            ],
            [
             0.4,
             "#fde0ef"
            ],
            [
             0.5,
             "#f7f7f7"
            ],
            [
             0.6,
             "#e6f5d0"
            ],
            [
             0.7,
             "#b8e186"
            ],
            [
             0.8,
             "#7fbc41"
            ],
            [
             0.9,
             "#4d9221"
            ],
            [
             1,
             "#276419"
            ]
           ],
           "sequential": [
            [
             0,
             "#0d0887"
            ],
            [
             0.1111111111111111,
             "#46039f"
            ],
            [
             0.2222222222222222,
             "#7201a8"
            ],
            [
             0.3333333333333333,
             "#9c179e"
            ],
            [
             0.4444444444444444,
             "#bd3786"
            ],
            [
             0.5555555555555556,
             "#d8576b"
            ],
            [
             0.6666666666666666,
             "#ed7953"
            ],
            [
             0.7777777777777778,
             "#fb9f3a"
            ],
            [
             0.8888888888888888,
             "#fdca26"
            ],
            [
             1,
             "#f0f921"
            ]
           ],
           "sequentialminus": [
            [
             0,
             "#0d0887"
            ],
            [
             0.1111111111111111,
             "#46039f"
            ],
            [
             0.2222222222222222,
             "#7201a8"
            ],
            [
             0.3333333333333333,
             "#9c179e"
            ],
            [
             0.4444444444444444,
             "#bd3786"
            ],
            [
             0.5555555555555556,
             "#d8576b"
            ],
            [
             0.6666666666666666,
             "#ed7953"
            ],
            [
             0.7777777777777778,
             "#fb9f3a"
            ],
            [
             0.8888888888888888,
             "#fdca26"
            ],
            [
             1,
             "#f0f921"
            ]
           ]
          },
          "colorway": [
           "#636efa",
           "#EF553B",
           "#00cc96",
           "#ab63fa",
           "#FFA15A",
           "#19d3f3",
           "#FF6692",
           "#B6E880",
           "#FF97FF",
           "#FECB52"
          ],
          "font": {
           "color": "#2a3f5f"
          },
          "geo": {
           "bgcolor": "white",
           "lakecolor": "white",
           "landcolor": "#E5ECF6",
           "showlakes": true,
           "showland": true,
           "subunitcolor": "white"
          },
          "hoverlabel": {
           "align": "left"
          },
          "hovermode": "closest",
          "mapbox": {
           "style": "light"
          },
          "paper_bgcolor": "white",
          "plot_bgcolor": "#E5ECF6",
          "polar": {
           "angularaxis": {
            "gridcolor": "white",
            "linecolor": "white",
            "ticks": ""
           },
           "bgcolor": "#E5ECF6",
           "radialaxis": {
            "gridcolor": "white",
            "linecolor": "white",
            "ticks": ""
           }
          },
          "scene": {
           "xaxis": {
            "backgroundcolor": "#E5ECF6",
            "gridcolor": "white",
            "gridwidth": 2,
            "linecolor": "white",
            "showbackground": true,
            "ticks": "",
            "zerolinecolor": "white"
           },
           "yaxis": {
            "backgroundcolor": "#E5ECF6",
            "gridcolor": "white",
            "gridwidth": 2,
            "linecolor": "white",
            "showbackground": true,
            "ticks": "",
            "zerolinecolor": "white"
           },
           "zaxis": {
            "backgroundcolor": "#E5ECF6",
            "gridcolor": "white",
            "gridwidth": 2,
            "linecolor": "white",
            "showbackground": true,
            "ticks": "",
            "zerolinecolor": "white"
           }
          },
          "shapedefaults": {
           "line": {
            "color": "#2a3f5f"
           }
          },
          "ternary": {
           "aaxis": {
            "gridcolor": "white",
            "linecolor": "white",
            "ticks": ""
           },
           "baxis": {
            "gridcolor": "white",
            "linecolor": "white",
            "ticks": ""
           },
           "bgcolor": "#E5ECF6",
           "caxis": {
            "gridcolor": "white",
            "linecolor": "white",
            "ticks": ""
           }
          },
          "title": {
           "x": 0.05
          },
          "xaxis": {
           "automargin": true,
           "gridcolor": "white",
           "linecolor": "white",
           "ticks": "",
           "title": {
            "standoff": 15
           },
           "zerolinecolor": "white",
           "zerolinewidth": 2
          },
          "yaxis": {
           "automargin": true,
           "gridcolor": "white",
           "linecolor": "white",
           "ticks": "",
           "title": {
            "standoff": 15
           },
           "zerolinecolor": "white",
           "zerolinewidth": 2
          }
         }
        },
        "title": {
         "text": "Optimization History Plot"
        },
        "xaxis": {
         "title": {
          "text": "Trial"
         }
        },
        "yaxis": {
         "title": {
          "text": "Objective Value"
         }
        }
       }
      }
     },
     "metadata": {},
     "output_type": "display_data"
    }
   ],
   "source": [
    "from optuna.visualization import plot_optimization_history\n",
    "\n",
    "fig = plot_optimization_history(study)\n",
    "fig.show()"
   ]
  },
  {
   "cell_type": "markdown",
   "metadata": {},
   "source": [
    "**Plot Hyperparameter Importance**\n",
    "\n",
    "This plot estimates the relative importance of each hyperparameter based on how they affect the objective function."
   ]
  },
  {
   "cell_type": "code",
   "execution_count": 4,
   "metadata": {},
   "outputs": [
    {
     "data": {
      "application/vnd.plotly.v1+json": {
       "config": {
        "plotlyServerURL": "https://plot.ly"
       },
       "data": [
        {
         "cliponaxis": false,
         "hovertemplate": [
          "ent_coef (CategoricalDistribution): 0.04328086715475403<extra></extra>",
          "gamma (CategoricalDistribution): 0.06957866528512312<extra></extra>",
          "vf_coef (CategoricalDistribution): 0.0772069572635577<extra></extra>",
          "use_rms_prop (CategoricalDistribution): 0.07732076593893676<extra></extra>",
          "max_grad_norm (CategoricalDistribution): 0.08195033882205761<extra></extra>",
          "learning_rate (CategoricalDistribution): 0.1218853728850023<extra></extra>",
          "gae_lambda (CategoricalDistribution): 0.2305149735159116<extra></extra>",
          "n_steps (CategoricalDistribution): 0.2982620591346571<extra></extra>"
         ],
         "name": "Objective Value",
         "orientation": "h",
         "text": [
          "0.04",
          "0.07",
          "0.08",
          "0.08",
          "0.08",
          "0.12",
          "0.23",
          "0.30"
         ],
         "textposition": "outside",
         "type": "bar",
         "x": [
          0.04328086715475403,
          0.06957866528512312,
          0.0772069572635577,
          0.07732076593893676,
          0.08195033882205761,
          0.1218853728850023,
          0.2305149735159116,
          0.2982620591346571
         ],
         "y": [
          "ent_coef",
          "gamma",
          "vf_coef",
          "use_rms_prop",
          "max_grad_norm",
          "learning_rate",
          "gae_lambda",
          "n_steps"
         ]
        }
       ],
       "layout": {
        "template": {
         "data": {
          "bar": [
           {
            "error_x": {
             "color": "#2a3f5f"
            },
            "error_y": {
             "color": "#2a3f5f"
            },
            "marker": {
             "line": {
              "color": "#E5ECF6",
              "width": 0.5
             },
             "pattern": {
              "fillmode": "overlay",
              "size": 10,
              "solidity": 0.2
             }
            },
            "type": "bar"
           }
          ],
          "barpolar": [
           {
            "marker": {
             "line": {
              "color": "#E5ECF6",
              "width": 0.5
             },
             "pattern": {
              "fillmode": "overlay",
              "size": 10,
              "solidity": 0.2
             }
            },
            "type": "barpolar"
           }
          ],
          "carpet": [
           {
            "aaxis": {
             "endlinecolor": "#2a3f5f",
             "gridcolor": "white",
             "linecolor": "white",
             "minorgridcolor": "white",
             "startlinecolor": "#2a3f5f"
            },
            "baxis": {
             "endlinecolor": "#2a3f5f",
             "gridcolor": "white",
             "linecolor": "white",
             "minorgridcolor": "white",
             "startlinecolor": "#2a3f5f"
            },
            "type": "carpet"
           }
          ],
          "choropleth": [
           {
            "colorbar": {
             "outlinewidth": 0,
             "ticks": ""
            },
            "type": "choropleth"
           }
          ],
          "contour": [
           {
            "colorbar": {
             "outlinewidth": 0,
             "ticks": ""
            },
            "colorscale": [
             [
              0,
              "#0d0887"
             ],
             [
              0.1111111111111111,
              "#46039f"
             ],
             [
              0.2222222222222222,
              "#7201a8"
             ],
             [
              0.3333333333333333,
              "#9c179e"
             ],
             [
              0.4444444444444444,
              "#bd3786"
             ],
             [
              0.5555555555555556,
              "#d8576b"
             ],
             [
              0.6666666666666666,
              "#ed7953"
             ],
             [
              0.7777777777777778,
              "#fb9f3a"
             ],
             [
              0.8888888888888888,
              "#fdca26"
             ],
             [
              1,
              "#f0f921"
             ]
            ],
            "type": "contour"
           }
          ],
          "contourcarpet": [
           {
            "colorbar": {
             "outlinewidth": 0,
             "ticks": ""
            },
            "type": "contourcarpet"
           }
          ],
          "heatmap": [
           {
            "colorbar": {
             "outlinewidth": 0,
             "ticks": ""
            },
            "colorscale": [
             [
              0,
              "#0d0887"
             ],
             [
              0.1111111111111111,
              "#46039f"
             ],
             [
              0.2222222222222222,
              "#7201a8"
             ],
             [
              0.3333333333333333,
              "#9c179e"
             ],
             [
              0.4444444444444444,
              "#bd3786"
             ],
             [
              0.5555555555555556,
              "#d8576b"
             ],
             [
              0.6666666666666666,
              "#ed7953"
             ],
             [
              0.7777777777777778,
              "#fb9f3a"
             ],
             [
              0.8888888888888888,
              "#fdca26"
             ],
             [
              1,
              "#f0f921"
             ]
            ],
            "type": "heatmap"
           }
          ],
          "heatmapgl": [
           {
            "colorbar": {
             "outlinewidth": 0,
             "ticks": ""
            },
            "colorscale": [
             [
              0,
              "#0d0887"
             ],
             [
              0.1111111111111111,
              "#46039f"
             ],
             [
              0.2222222222222222,
              "#7201a8"
             ],
             [
              0.3333333333333333,
              "#9c179e"
             ],
             [
              0.4444444444444444,
              "#bd3786"
             ],
             [
              0.5555555555555556,
              "#d8576b"
             ],
             [
              0.6666666666666666,
              "#ed7953"
             ],
             [
              0.7777777777777778,
              "#fb9f3a"
             ],
             [
              0.8888888888888888,
              "#fdca26"
             ],
             [
              1,
              "#f0f921"
             ]
            ],
            "type": "heatmapgl"
           }
          ],
          "histogram": [
           {
            "marker": {
             "pattern": {
              "fillmode": "overlay",
              "size": 10,
              "solidity": 0.2
             }
            },
            "type": "histogram"
           }
          ],
          "histogram2d": [
           {
            "colorbar": {
             "outlinewidth": 0,
             "ticks": ""
            },
            "colorscale": [
             [
              0,
              "#0d0887"
             ],
             [
              0.1111111111111111,
              "#46039f"
             ],
             [
              0.2222222222222222,
              "#7201a8"
             ],
             [
              0.3333333333333333,
              "#9c179e"
             ],
             [
              0.4444444444444444,
              "#bd3786"
             ],
             [
              0.5555555555555556,
              "#d8576b"
             ],
             [
              0.6666666666666666,
              "#ed7953"
             ],
             [
              0.7777777777777778,
              "#fb9f3a"
             ],
             [
              0.8888888888888888,
              "#fdca26"
             ],
             [
              1,
              "#f0f921"
             ]
            ],
            "type": "histogram2d"
           }
          ],
          "histogram2dcontour": [
           {
            "colorbar": {
             "outlinewidth": 0,
             "ticks": ""
            },
            "colorscale": [
             [
              0,
              "#0d0887"
             ],
             [
              0.1111111111111111,
              "#46039f"
             ],
             [
              0.2222222222222222,
              "#7201a8"
             ],
             [
              0.3333333333333333,
              "#9c179e"
             ],
             [
              0.4444444444444444,
              "#bd3786"
             ],
             [
              0.5555555555555556,
              "#d8576b"
             ],
             [
              0.6666666666666666,
              "#ed7953"
             ],
             [
              0.7777777777777778,
              "#fb9f3a"
             ],
             [
              0.8888888888888888,
              "#fdca26"
             ],
             [
              1,
              "#f0f921"
             ]
            ],
            "type": "histogram2dcontour"
           }
          ],
          "mesh3d": [
           {
            "colorbar": {
             "outlinewidth": 0,
             "ticks": ""
            },
            "type": "mesh3d"
           }
          ],
          "parcoords": [
           {
            "line": {
             "colorbar": {
              "outlinewidth": 0,
              "ticks": ""
             }
            },
            "type": "parcoords"
           }
          ],
          "pie": [
           {
            "automargin": true,
            "type": "pie"
           }
          ],
          "scatter": [
           {
            "fillpattern": {
             "fillmode": "overlay",
             "size": 10,
             "solidity": 0.2
            },
            "type": "scatter"
           }
          ],
          "scatter3d": [
           {
            "line": {
             "colorbar": {
              "outlinewidth": 0,
              "ticks": ""
             }
            },
            "marker": {
             "colorbar": {
              "outlinewidth": 0,
              "ticks": ""
             }
            },
            "type": "scatter3d"
           }
          ],
          "scattercarpet": [
           {
            "marker": {
             "colorbar": {
              "outlinewidth": 0,
              "ticks": ""
             }
            },
            "type": "scattercarpet"
           }
          ],
          "scattergeo": [
           {
            "marker": {
             "colorbar": {
              "outlinewidth": 0,
              "ticks": ""
             }
            },
            "type": "scattergeo"
           }
          ],
          "scattergl": [
           {
            "marker": {
             "colorbar": {
              "outlinewidth": 0,
              "ticks": ""
             }
            },
            "type": "scattergl"
           }
          ],
          "scattermapbox": [
           {
            "marker": {
             "colorbar": {
              "outlinewidth": 0,
              "ticks": ""
             }
            },
            "type": "scattermapbox"
           }
          ],
          "scatterpolar": [
           {
            "marker": {
             "colorbar": {
              "outlinewidth": 0,
              "ticks": ""
             }
            },
            "type": "scatterpolar"
           }
          ],
          "scatterpolargl": [
           {
            "marker": {
             "colorbar": {
              "outlinewidth": 0,
              "ticks": ""
             }
            },
            "type": "scatterpolargl"
           }
          ],
          "scatterternary": [
           {
            "marker": {
             "colorbar": {
              "outlinewidth": 0,
              "ticks": ""
             }
            },
            "type": "scatterternary"
           }
          ],
          "surface": [
           {
            "colorbar": {
             "outlinewidth": 0,
             "ticks": ""
            },
            "colorscale": [
             [
              0,
              "#0d0887"
             ],
             [
              0.1111111111111111,
              "#46039f"
             ],
             [
              0.2222222222222222,
              "#7201a8"
             ],
             [
              0.3333333333333333,
              "#9c179e"
             ],
             [
              0.4444444444444444,
              "#bd3786"
             ],
             [
              0.5555555555555556,
              "#d8576b"
             ],
             [
              0.6666666666666666,
              "#ed7953"
             ],
             [
              0.7777777777777778,
              "#fb9f3a"
             ],
             [
              0.8888888888888888,
              "#fdca26"
             ],
             [
              1,
              "#f0f921"
             ]
            ],
            "type": "surface"
           }
          ],
          "table": [
           {
            "cells": {
             "fill": {
              "color": "#EBF0F8"
             },
             "line": {
              "color": "white"
             }
            },
            "header": {
             "fill": {
              "color": "#C8D4E3"
             },
             "line": {
              "color": "white"
             }
            },
            "type": "table"
           }
          ]
         },
         "layout": {
          "annotationdefaults": {
           "arrowcolor": "#2a3f5f",
           "arrowhead": 0,
           "arrowwidth": 1
          },
          "autotypenumbers": "strict",
          "coloraxis": {
           "colorbar": {
            "outlinewidth": 0,
            "ticks": ""
           }
          },
          "colorscale": {
           "diverging": [
            [
             0,
             "#8e0152"
            ],
            [
             0.1,
             "#c51b7d"
            ],
            [
             0.2,
             "#de77ae"
            ],
            [
             0.3,
             "#f1b6da"
            ],
            [
             0.4,
             "#fde0ef"
            ],
            [
             0.5,
             "#f7f7f7"
            ],
            [
             0.6,
             "#e6f5d0"
            ],
            [
             0.7,
             "#b8e186"
            ],
            [
             0.8,
             "#7fbc41"
            ],
            [
             0.9,
             "#4d9221"
            ],
            [
             1,
             "#276419"
            ]
           ],
           "sequential": [
            [
             0,
             "#0d0887"
            ],
            [
             0.1111111111111111,
             "#46039f"
            ],
            [
             0.2222222222222222,
             "#7201a8"
            ],
            [
             0.3333333333333333,
             "#9c179e"
            ],
            [
             0.4444444444444444,
             "#bd3786"
            ],
            [
             0.5555555555555556,
             "#d8576b"
            ],
            [
             0.6666666666666666,
             "#ed7953"
            ],
            [
             0.7777777777777778,
             "#fb9f3a"
            ],
            [
             0.8888888888888888,
             "#fdca26"
            ],
            [
             1,
             "#f0f921"
            ]
           ],
           "sequentialminus": [
            [
             0,
             "#0d0887"
            ],
            [
             0.1111111111111111,
             "#46039f"
            ],
            [
             0.2222222222222222,
             "#7201a8"
            ],
            [
             0.3333333333333333,
             "#9c179e"
            ],
            [
             0.4444444444444444,
             "#bd3786"
            ],
            [
             0.5555555555555556,
             "#d8576b"
            ],
            [
             0.6666666666666666,
             "#ed7953"
            ],
            [
             0.7777777777777778,
             "#fb9f3a"
            ],
            [
             0.8888888888888888,
             "#fdca26"
            ],
            [
             1,
             "#f0f921"
            ]
           ]
          },
          "colorway": [
           "#636efa",
           "#EF553B",
           "#00cc96",
           "#ab63fa",
           "#FFA15A",
           "#19d3f3",
           "#FF6692",
           "#B6E880",
           "#FF97FF",
           "#FECB52"
          ],
          "font": {
           "color": "#2a3f5f"
          },
          "geo": {
           "bgcolor": "white",
           "lakecolor": "white",
           "landcolor": "#E5ECF6",
           "showlakes": true,
           "showland": true,
           "subunitcolor": "white"
          },
          "hoverlabel": {
           "align": "left"
          },
          "hovermode": "closest",
          "mapbox": {
           "style": "light"
          },
          "paper_bgcolor": "white",
          "plot_bgcolor": "#E5ECF6",
          "polar": {
           "angularaxis": {
            "gridcolor": "white",
            "linecolor": "white",
            "ticks": ""
           },
           "bgcolor": "#E5ECF6",
           "radialaxis": {
            "gridcolor": "white",
            "linecolor": "white",
            "ticks": ""
           }
          },
          "scene": {
           "xaxis": {
            "backgroundcolor": "#E5ECF6",
            "gridcolor": "white",
            "gridwidth": 2,
            "linecolor": "white",
            "showbackground": true,
            "ticks": "",
            "zerolinecolor": "white"
           },
           "yaxis": {
            "backgroundcolor": "#E5ECF6",
            "gridcolor": "white",
            "gridwidth": 2,
            "linecolor": "white",
            "showbackground": true,
            "ticks": "",
            "zerolinecolor": "white"
           },
           "zaxis": {
            "backgroundcolor": "#E5ECF6",
            "gridcolor": "white",
            "gridwidth": 2,
            "linecolor": "white",
            "showbackground": true,
            "ticks": "",
            "zerolinecolor": "white"
           }
          },
          "shapedefaults": {
           "line": {
            "color": "#2a3f5f"
           }
          },
          "ternary": {
           "aaxis": {
            "gridcolor": "white",
            "linecolor": "white",
            "ticks": ""
           },
           "baxis": {
            "gridcolor": "white",
            "linecolor": "white",
            "ticks": ""
           },
           "bgcolor": "#E5ECF6",
           "caxis": {
            "gridcolor": "white",
            "linecolor": "white",
            "ticks": ""
           }
          },
          "title": {
           "x": 0.05
          },
          "xaxis": {
           "automargin": true,
           "gridcolor": "white",
           "linecolor": "white",
           "ticks": "",
           "title": {
            "standoff": 15
           },
           "zerolinecolor": "white",
           "zerolinewidth": 2
          },
          "yaxis": {
           "automargin": true,
           "gridcolor": "white",
           "linecolor": "white",
           "ticks": "",
           "title": {
            "standoff": 15
           },
           "zerolinecolor": "white",
           "zerolinewidth": 2
          }
         }
        },
        "title": {
         "text": "Hyperparameter Importances"
        },
        "xaxis": {
         "title": {
          "text": "Hyperparameter Importance"
         }
        },
        "yaxis": {
         "title": {
          "text": "Hyperparameter"
         }
        }
       }
      }
     },
     "metadata": {},
     "output_type": "display_data"
    }
   ],
   "source": [
    "from optuna.visualization import plot_param_importances\n",
    "\n",
    "fig = plot_param_importances(study)\n",
    "fig.show()"
   ]
  },
  {
   "cell_type": "markdown",
   "metadata": {},
   "source": [
    "**Parallel Coordinate Plot**\n",
    "\n",
    "This plot helps visualize the relationships between hyperparameters and the objective value. It’s useful for spotting trends or correlations."
   ]
  },
  {
   "cell_type": "code",
   "execution_count": 8,
   "metadata": {},
   "outputs": [
    {
     "data": {
      "application/vnd.plotly.v1+json": {
       "config": {
        "plotlyServerURL": "https://plot.ly"
       },
       "data": [
        {
         "dimensions": [
          {
           "label": "Objective Value",
           "range": [
            -19615312.228,
            -51026.018000000004
           ],
           "values": [
            -54059.202000000005,
            -15439279.933999997,
            -55333.14400000001,
            -53298.936,
            -56028.742000000006,
            -55912.018000000004,
            -54710.79400000001,
            -52973.64,
            -19615312.228,
            -53585.530000000006,
            -148321.918,
            -54100.452000000005,
            -496387.61,
            -54074.33200000001,
            -51706.758,
            -1064937.056,
            -970721.1719999999,
            -1937570.4899999998,
            -3321995.586,
            -162989.24,
            -981859.756,
            -51588.186,
            -52911.588,
            -54619.212,
            -56245.27200000001,
            -51026.018000000004,
            -801064.538,
            -14030727.930000002,
            -51312.146,
            -56618.726
           ]
          },
          {
           "label": "ent_coef",
           "range": [
            0,
            2
           ],
           "ticktext": [
            "0.01",
            "0.05",
            "0.1"
           ],
           "tickvals": [
            0,
            1,
            2
           ],
           "values": [
            0,
            0,
            0,
            0,
            0,
            0,
            0,
            0,
            0,
            0,
            1,
            1,
            1,
            1,
            2,
            2,
            2,
            2,
            2,
            2,
            2,
            2,
            2,
            2,
            2,
            2,
            2,
            2,
            2,
            2
           ]
          },
          {
           "label": "gae_lambda",
           "range": [
            0,
            3
           ],
           "ticktext": [
            "0.8",
            "0.9",
            "0.95",
            "0.99"
           ],
           "tickvals": [
            0,
            1,
            2,
            3
           ],
           "values": [
            0,
            0,
            2,
            3,
            3,
            3,
            3,
            3,
            3,
            3,
            1,
            1,
            2,
            2,
            0,
            0,
            0,
            0,
            0,
            1,
            1,
            3,
            3,
            3,
            3,
            3,
            3,
            3,
            3,
            3
           ]
          },
          {
           "label": "gamma",
           "range": [
            0,
            1
           ],
           "ticktext": [
            "0.95",
            "0.99"
           ],
           "tickvals": [
            0,
            1
           ],
           "values": [
            0,
            1,
            1,
            0,
            0,
            0,
            0,
            0,
            1,
            1,
            0,
            1,
            1,
            1,
            0,
            0,
            0,
            0,
            0,
            0,
            0,
            0,
            0,
            0,
            0,
            0,
            0,
            0,
            0,
            0
           ]
          },
          {
           "label": "learning_rate",
           "range": [
            0,
            2
           ],
           "ticktext": [
            "0.0001",
            "0.0005",
            "0.001"
           ],
           "tickvals": [
            0,
            1,
            2
           ],
           "values": [
            2,
            0,
            2,
            0,
            1,
            1,
            2,
            2,
            0,
            2,
            1,
            2,
            0,
            2,
            1,
            1,
            1,
            1,
            1,
            0,
            0,
            0,
            0,
            0,
            0,
            1,
            1,
            2,
            2,
            2
           ]
          },
          {
           "label": "max_grad_norm",
           "range": [
            0,
            1
           ],
           "ticktext": [
            "0.5",
            "1.0"
           ],
           "tickvals": [
            0,
            1
           ],
           "values": [
            0,
            1,
            1,
            0,
            0,
            0,
            0,
            0,
            1,
            1,
            0,
            0,
            1,
            1,
            0,
            0,
            0,
            0,
            0,
            0,
            1,
            0,
            0,
            0,
            0,
            0,
            0,
            0,
            0,
            0
           ]
          },
          {
           "label": "n_steps",
           "range": [
            0,
            3
           ],
           "ticktext": [
            "8",
            "16",
            "32",
            "64"
           ],
           "tickvals": [
            0,
            1,
            2,
            3
           ],
           "values": [
            3,
            3,
            0,
            3,
            3,
            3,
            2,
            3,
            2,
            2,
            2,
            2,
            1,
            3,
            1,
            1,
            1,
            1,
            1,
            1,
            0,
            3,
            3,
            3,
            3,
            3,
            3,
            0,
            3,
            3
           ]
          },
          {
           "label": "use_rms_prop",
           "range": [
            0,
            1
           ],
           "ticktext": [
            "False",
            "True"
           ],
           "tickvals": [
            0,
            1
           ],
           "values": [
            1,
            0,
            1,
            1,
            1,
            1,
            1,
            1,
            1,
            1,
            1,
            0,
            0,
            1,
            1,
            1,
            1,
            1,
            1,
            0,
            0,
            1,
            1,
            0,
            1,
            1,
            0,
            1,
            1,
            1
           ]
          },
          {
           "label": "vf_coef",
           "range": [
            0,
            2
           ],
           "ticktext": [
            "0.5",
            "0.8",
            "1.0"
           ],
           "tickvals": [
            0,
            1,
            2
           ],
           "values": [
            0,
            2,
            1,
            0,
            0,
            0,
            0,
            0,
            1,
            1,
            1,
            0,
            1,
            2,
            0,
            0,
            0,
            0,
            0,
            1,
            0,
            0,
            2,
            2,
            2,
            2,
            2,
            0,
            0,
            2
           ]
          }
         ],
         "labelangle": 30,
         "labelside": "bottom",
         "line": {
          "color": [
           -54059.202000000005,
           -15439279.933999997,
           -55333.14400000001,
           -53298.936,
           -56028.742000000006,
           -55912.018000000004,
           -54710.79400000001,
           -52973.64,
           -19615312.228,
           -53585.530000000006,
           -148321.918,
           -54100.452000000005,
           -496387.61,
           -54074.33200000001,
           -51706.758,
           -1064937.056,
           -970721.1719999999,
           -1937570.4899999998,
           -3321995.586,
           -162989.24,
           -981859.756,
           -51588.186,
           -52911.588,
           -54619.212,
           -56245.27200000001,
           -51026.018000000004,
           -801064.538,
           -14030727.930000002,
           -51312.146,
           -56618.726
          ],
          "colorbar": {
           "title": {
            "text": "Objective Value"
           }
          },
          "colorscale": [
           [
            0,
            "rgb(247,251,255)"
           ],
           [
            0.125,
            "rgb(222,235,247)"
           ],
           [
            0.25,
            "rgb(198,219,239)"
           ],
           [
            0.375,
            "rgb(158,202,225)"
           ],
           [
            0.5,
            "rgb(107,174,214)"
           ],
           [
            0.625,
            "rgb(66,146,198)"
           ],
           [
            0.75,
            "rgb(33,113,181)"
           ],
           [
            0.875,
            "rgb(8,81,156)"
           ],
           [
            1,
            "rgb(8,48,107)"
           ]
          ],
          "reversescale": false,
          "showscale": true
         },
         "type": "parcoords"
        }
       ],
       "layout": {
        "template": {
         "data": {
          "bar": [
           {
            "error_x": {
             "color": "#2a3f5f"
            },
            "error_y": {
             "color": "#2a3f5f"
            },
            "marker": {
             "line": {
              "color": "#E5ECF6",
              "width": 0.5
             },
             "pattern": {
              "fillmode": "overlay",
              "size": 10,
              "solidity": 0.2
             }
            },
            "type": "bar"
           }
          ],
          "barpolar": [
           {
            "marker": {
             "line": {
              "color": "#E5ECF6",
              "width": 0.5
             },
             "pattern": {
              "fillmode": "overlay",
              "size": 10,
              "solidity": 0.2
             }
            },
            "type": "barpolar"
           }
          ],
          "carpet": [
           {
            "aaxis": {
             "endlinecolor": "#2a3f5f",
             "gridcolor": "white",
             "linecolor": "white",
             "minorgridcolor": "white",
             "startlinecolor": "#2a3f5f"
            },
            "baxis": {
             "endlinecolor": "#2a3f5f",
             "gridcolor": "white",
             "linecolor": "white",
             "minorgridcolor": "white",
             "startlinecolor": "#2a3f5f"
            },
            "type": "carpet"
           }
          ],
          "choropleth": [
           {
            "colorbar": {
             "outlinewidth": 0,
             "ticks": ""
            },
            "type": "choropleth"
           }
          ],
          "contour": [
           {
            "colorbar": {
             "outlinewidth": 0,
             "ticks": ""
            },
            "colorscale": [
             [
              0,
              "#0d0887"
             ],
             [
              0.1111111111111111,
              "#46039f"
             ],
             [
              0.2222222222222222,
              "#7201a8"
             ],
             [
              0.3333333333333333,
              "#9c179e"
             ],
             [
              0.4444444444444444,
              "#bd3786"
             ],
             [
              0.5555555555555556,
              "#d8576b"
             ],
             [
              0.6666666666666666,
              "#ed7953"
             ],
             [
              0.7777777777777778,
              "#fb9f3a"
             ],
             [
              0.8888888888888888,
              "#fdca26"
             ],
             [
              1,
              "#f0f921"
             ]
            ],
            "type": "contour"
           }
          ],
          "contourcarpet": [
           {
            "colorbar": {
             "outlinewidth": 0,
             "ticks": ""
            },
            "type": "contourcarpet"
           }
          ],
          "heatmap": [
           {
            "colorbar": {
             "outlinewidth": 0,
             "ticks": ""
            },
            "colorscale": [
             [
              0,
              "#0d0887"
             ],
             [
              0.1111111111111111,
              "#46039f"
             ],
             [
              0.2222222222222222,
              "#7201a8"
             ],
             [
              0.3333333333333333,
              "#9c179e"
             ],
             [
              0.4444444444444444,
              "#bd3786"
             ],
             [
              0.5555555555555556,
              "#d8576b"
             ],
             [
              0.6666666666666666,
              "#ed7953"
             ],
             [
              0.7777777777777778,
              "#fb9f3a"
             ],
             [
              0.8888888888888888,
              "#fdca26"
             ],
             [
              1,
              "#f0f921"
             ]
            ],
            "type": "heatmap"
           }
          ],
          "heatmapgl": [
           {
            "colorbar": {
             "outlinewidth": 0,
             "ticks": ""
            },
            "colorscale": [
             [
              0,
              "#0d0887"
             ],
             [
              0.1111111111111111,
              "#46039f"
             ],
             [
              0.2222222222222222,
              "#7201a8"
             ],
             [
              0.3333333333333333,
              "#9c179e"
             ],
             [
              0.4444444444444444,
              "#bd3786"
             ],
             [
              0.5555555555555556,
              "#d8576b"
             ],
             [
              0.6666666666666666,
              "#ed7953"
             ],
             [
              0.7777777777777778,
              "#fb9f3a"
             ],
             [
              0.8888888888888888,
              "#fdca26"
             ],
             [
              1,
              "#f0f921"
             ]
            ],
            "type": "heatmapgl"
           }
          ],
          "histogram": [
           {
            "marker": {
             "pattern": {
              "fillmode": "overlay",
              "size": 10,
              "solidity": 0.2
             }
            },
            "type": "histogram"
           }
          ],
          "histogram2d": [
           {
            "colorbar": {
             "outlinewidth": 0,
             "ticks": ""
            },
            "colorscale": [
             [
              0,
              "#0d0887"
             ],
             [
              0.1111111111111111,
              "#46039f"
             ],
             [
              0.2222222222222222,
              "#7201a8"
             ],
             [
              0.3333333333333333,
              "#9c179e"
             ],
             [
              0.4444444444444444,
              "#bd3786"
             ],
             [
              0.5555555555555556,
              "#d8576b"
             ],
             [
              0.6666666666666666,
              "#ed7953"
             ],
             [
              0.7777777777777778,
              "#fb9f3a"
             ],
             [
              0.8888888888888888,
              "#fdca26"
             ],
             [
              1,
              "#f0f921"
             ]
            ],
            "type": "histogram2d"
           }
          ],
          "histogram2dcontour": [
           {
            "colorbar": {
             "outlinewidth": 0,
             "ticks": ""
            },
            "colorscale": [
             [
              0,
              "#0d0887"
             ],
             [
              0.1111111111111111,
              "#46039f"
             ],
             [
              0.2222222222222222,
              "#7201a8"
             ],
             [
              0.3333333333333333,
              "#9c179e"
             ],
             [
              0.4444444444444444,
              "#bd3786"
             ],
             [
              0.5555555555555556,
              "#d8576b"
             ],
             [
              0.6666666666666666,
              "#ed7953"
             ],
             [
              0.7777777777777778,
              "#fb9f3a"
             ],
             [
              0.8888888888888888,
              "#fdca26"
             ],
             [
              1,
              "#f0f921"
             ]
            ],
            "type": "histogram2dcontour"
           }
          ],
          "mesh3d": [
           {
            "colorbar": {
             "outlinewidth": 0,
             "ticks": ""
            },
            "type": "mesh3d"
           }
          ],
          "parcoords": [
           {
            "line": {
             "colorbar": {
              "outlinewidth": 0,
              "ticks": ""
             }
            },
            "type": "parcoords"
           }
          ],
          "pie": [
           {
            "automargin": true,
            "type": "pie"
           }
          ],
          "scatter": [
           {
            "fillpattern": {
             "fillmode": "overlay",
             "size": 10,
             "solidity": 0.2
            },
            "type": "scatter"
           }
          ],
          "scatter3d": [
           {
            "line": {
             "colorbar": {
              "outlinewidth": 0,
              "ticks": ""
             }
            },
            "marker": {
             "colorbar": {
              "outlinewidth": 0,
              "ticks": ""
             }
            },
            "type": "scatter3d"
           }
          ],
          "scattercarpet": [
           {
            "marker": {
             "colorbar": {
              "outlinewidth": 0,
              "ticks": ""
             }
            },
            "type": "scattercarpet"
           }
          ],
          "scattergeo": [
           {
            "marker": {
             "colorbar": {
              "outlinewidth": 0,
              "ticks": ""
             }
            },
            "type": "scattergeo"
           }
          ],
          "scattergl": [
           {
            "marker": {
             "colorbar": {
              "outlinewidth": 0,
              "ticks": ""
             }
            },
            "type": "scattergl"
           }
          ],
          "scattermapbox": [
           {
            "marker": {
             "colorbar": {
              "outlinewidth": 0,
              "ticks": ""
             }
            },
            "type": "scattermapbox"
           }
          ],
          "scatterpolar": [
           {
            "marker": {
             "colorbar": {
              "outlinewidth": 0,
              "ticks": ""
             }
            },
            "type": "scatterpolar"
           }
          ],
          "scatterpolargl": [
           {
            "marker": {
             "colorbar": {
              "outlinewidth": 0,
              "ticks": ""
             }
            },
            "type": "scatterpolargl"
           }
          ],
          "scatterternary": [
           {
            "marker": {
             "colorbar": {
              "outlinewidth": 0,
              "ticks": ""
             }
            },
            "type": "scatterternary"
           }
          ],
          "surface": [
           {
            "colorbar": {
             "outlinewidth": 0,
             "ticks": ""
            },
            "colorscale": [
             [
              0,
              "#0d0887"
             ],
             [
              0.1111111111111111,
              "#46039f"
             ],
             [
              0.2222222222222222,
              "#7201a8"
             ],
             [
              0.3333333333333333,
              "#9c179e"
             ],
             [
              0.4444444444444444,
              "#bd3786"
             ],
             [
              0.5555555555555556,
              "#d8576b"
             ],
             [
              0.6666666666666666,
              "#ed7953"
             ],
             [
              0.7777777777777778,
              "#fb9f3a"
             ],
             [
              0.8888888888888888,
              "#fdca26"
             ],
             [
              1,
              "#f0f921"
             ]
            ],
            "type": "surface"
           }
          ],
          "table": [
           {
            "cells": {
             "fill": {
              "color": "#EBF0F8"
             },
             "line": {
              "color": "white"
             }
            },
            "header": {
             "fill": {
              "color": "#C8D4E3"
             },
             "line": {
              "color": "white"
             }
            },
            "type": "table"
           }
          ]
         },
         "layout": {
          "annotationdefaults": {
           "arrowcolor": "#2a3f5f",
           "arrowhead": 0,
           "arrowwidth": 1
          },
          "autotypenumbers": "strict",
          "coloraxis": {
           "colorbar": {
            "outlinewidth": 0,
            "ticks": ""
           }
          },
          "colorscale": {
           "diverging": [
            [
             0,
             "#8e0152"
            ],
            [
             0.1,
             "#c51b7d"
            ],
            [
             0.2,
             "#de77ae"
            ],
            [
             0.3,
             "#f1b6da"
            ],
            [
             0.4,
             "#fde0ef"
            ],
            [
             0.5,
             "#f7f7f7"
            ],
            [
             0.6,
             "#e6f5d0"
            ],
            [
             0.7,
             "#b8e186"
            ],
            [
             0.8,
             "#7fbc41"
            ],
            [
             0.9,
             "#4d9221"
            ],
            [
             1,
             "#276419"
            ]
           ],
           "sequential": [
            [
             0,
             "#0d0887"
            ],
            [
             0.1111111111111111,
             "#46039f"
            ],
            [
             0.2222222222222222,
             "#7201a8"
            ],
            [
             0.3333333333333333,
             "#9c179e"
            ],
            [
             0.4444444444444444,
             "#bd3786"
            ],
            [
             0.5555555555555556,
             "#d8576b"
            ],
            [
             0.6666666666666666,
             "#ed7953"
            ],
            [
             0.7777777777777778,
             "#fb9f3a"
            ],
            [
             0.8888888888888888,
             "#fdca26"
            ],
            [
             1,
             "#f0f921"
            ]
           ],
           "sequentialminus": [
            [
             0,
             "#0d0887"
            ],
            [
             0.1111111111111111,
             "#46039f"
            ],
            [
             0.2222222222222222,
             "#7201a8"
            ],
            [
             0.3333333333333333,
             "#9c179e"
            ],
            [
             0.4444444444444444,
             "#bd3786"
            ],
            [
             0.5555555555555556,
             "#d8576b"
            ],
            [
             0.6666666666666666,
             "#ed7953"
            ],
            [
             0.7777777777777778,
             "#fb9f3a"
            ],
            [
             0.8888888888888888,
             "#fdca26"
            ],
            [
             1,
             "#f0f921"
            ]
           ]
          },
          "colorway": [
           "#636efa",
           "#EF553B",
           "#00cc96",
           "#ab63fa",
           "#FFA15A",
           "#19d3f3",
           "#FF6692",
           "#B6E880",
           "#FF97FF",
           "#FECB52"
          ],
          "font": {
           "color": "#2a3f5f"
          },
          "geo": {
           "bgcolor": "white",
           "lakecolor": "white",
           "landcolor": "#E5ECF6",
           "showlakes": true,
           "showland": true,
           "subunitcolor": "white"
          },
          "hoverlabel": {
           "align": "left"
          },
          "hovermode": "closest",
          "mapbox": {
           "style": "light"
          },
          "paper_bgcolor": "white",
          "plot_bgcolor": "#E5ECF6",
          "polar": {
           "angularaxis": {
            "gridcolor": "white",
            "linecolor": "white",
            "ticks": ""
           },
           "bgcolor": "#E5ECF6",
           "radialaxis": {
            "gridcolor": "white",
            "linecolor": "white",
            "ticks": ""
           }
          },
          "scene": {
           "xaxis": {
            "backgroundcolor": "#E5ECF6",
            "gridcolor": "white",
            "gridwidth": 2,
            "linecolor": "white",
            "showbackground": true,
            "ticks": "",
            "zerolinecolor": "white"
           },
           "yaxis": {
            "backgroundcolor": "#E5ECF6",
            "gridcolor": "white",
            "gridwidth": 2,
            "linecolor": "white",
            "showbackground": true,
            "ticks": "",
            "zerolinecolor": "white"
           },
           "zaxis": {
            "backgroundcolor": "#E5ECF6",
            "gridcolor": "white",
            "gridwidth": 2,
            "linecolor": "white",
            "showbackground": true,
            "ticks": "",
            "zerolinecolor": "white"
           }
          },
          "shapedefaults": {
           "line": {
            "color": "#2a3f5f"
           }
          },
          "ternary": {
           "aaxis": {
            "gridcolor": "white",
            "linecolor": "white",
            "ticks": ""
           },
           "baxis": {
            "gridcolor": "white",
            "linecolor": "white",
            "ticks": ""
           },
           "bgcolor": "#E5ECF6",
           "caxis": {
            "gridcolor": "white",
            "linecolor": "white",
            "ticks": ""
           }
          },
          "title": {
           "x": 0.05
          },
          "xaxis": {
           "automargin": true,
           "gridcolor": "white",
           "linecolor": "white",
           "ticks": "",
           "title": {
            "standoff": 15
           },
           "zerolinecolor": "white",
           "zerolinewidth": 2
          },
          "yaxis": {
           "automargin": true,
           "gridcolor": "white",
           "linecolor": "white",
           "ticks": "",
           "title": {
            "standoff": 15
           },
           "zerolinecolor": "white",
           "zerolinewidth": 2
          }
         }
        },
        "title": {
         "text": "Parallel Coordinate Plot"
        }
       }
      }
     },
     "metadata": {},
     "output_type": "display_data"
    }
   ],
   "source": [
    "from optuna.visualization import plot_parallel_coordinate\n",
    "\n",
    "fig = plot_parallel_coordinate(study)\n",
    "fig.show()"
   ]
  },
  {
   "cell_type": "markdown",
   "metadata": {},
   "source": [
    "**Slice Plot**\n",
    "\n",
    "This plot visualizes the objective value across the range of each hyperparameter, helping understand how each parameter influences the outcome."
   ]
  },
  {
   "cell_type": "code",
   "execution_count": 9,
   "metadata": {},
   "outputs": [
    {
     "data": {
      "application/vnd.plotly.v1+json": {
       "config": {
        "plotlyServerURL": "https://plot.ly"
       },
       "data": [
        {
         "marker": {
          "color": [
           0,
           1,
           2,
           3,
           4,
           5,
           6,
           7,
           8,
           9,
           10,
           11,
           12,
           13,
           14,
           15,
           16,
           17,
           18,
           19,
           20,
           21,
           22,
           23,
           24,
           25,
           26,
           27,
           28,
           29
          ],
          "colorbar": {
           "title": {
            "text": "Trial"
           },
           "x": 1,
           "xpad": 40
          },
          "colorscale": [
           [
            0,
            "rgb(247,251,255)"
           ],
           [
            0.125,
            "rgb(222,235,247)"
           ],
           [
            0.25,
            "rgb(198,219,239)"
           ],
           [
            0.375,
            "rgb(158,202,225)"
           ],
           [
            0.5,
            "rgb(107,174,214)"
           ],
           [
            0.625,
            "rgb(66,146,198)"
           ],
           [
            0.75,
            "rgb(33,113,181)"
           ],
           [
            0.875,
            "rgb(8,81,156)"
           ],
           [
            1,
            "rgb(8,48,107)"
           ]
          ],
          "line": {
           "color": "Grey",
           "width": 0.5
          },
          "showscale": true
         },
         "mode": "markers",
         "name": "Feasible Trial",
         "showlegend": false,
         "type": "scatter",
         "x": [
          0.01,
          0.05,
          0.05,
          0.05,
          0.01,
          0.1,
          0.05,
          0.01,
          0.01,
          0.1,
          0.01,
          0.01,
          0.01,
          0.01,
          0.01,
          0.01,
          0.1,
          0.1,
          0.1,
          0.1,
          0.1,
          0.1,
          0.1,
          0.1,
          0.1,
          0.1,
          0.1,
          0.1,
          0.1,
          0.1
         ],
         "xaxis": "x",
         "y": [
          -15439279.933999997,
          -54074.33200000001,
          -496387.61,
          -148321.918,
          -53585.530000000006,
          -981859.756,
          -54100.452000000005,
          -55333.14400000001,
          -53298.936,
          -162989.24,
          -56028.742000000006,
          -54710.79400000001,
          -19615312.228,
          -52973.64,
          -55912.018000000004,
          -54059.202000000005,
          -51588.186,
          -51312.146,
          -52911.588,
          -51706.758,
          -14030727.930000002,
          -1064937.056,
          -970721.1719999999,
          -1937570.4899999998,
          -3321995.586,
          -51026.018000000004,
          -54619.212,
          -56618.726,
          -56245.27200000001,
          -801064.538
         ],
         "yaxis": "y"
        },
        {
         "marker": {
          "color": [
           0,
           1,
           2,
           3,
           4,
           5,
           6,
           7,
           8,
           9,
           10,
           11,
           12,
           13,
           14,
           15,
           16,
           17,
           18,
           19,
           20,
           21,
           22,
           23,
           24,
           25,
           26,
           27,
           28,
           29
          ],
          "colorbar": {
           "title": {
            "text": "Trial"
           },
           "x": 1,
           "xpad": 40
          },
          "colorscale": [
           [
            0,
            "rgb(247,251,255)"
           ],
           [
            0.125,
            "rgb(222,235,247)"
           ],
           [
            0.25,
            "rgb(198,219,239)"
           ],
           [
            0.375,
            "rgb(158,202,225)"
           ],
           [
            0.5,
            "rgb(107,174,214)"
           ],
           [
            0.625,
            "rgb(66,146,198)"
           ],
           [
            0.75,
            "rgb(33,113,181)"
           ],
           [
            0.875,
            "rgb(8,81,156)"
           ],
           [
            1,
            "rgb(8,48,107)"
           ]
          ],
          "line": {
           "color": "Grey",
           "width": 0.5
          },
          "showscale": false
         },
         "mode": "markers",
         "name": "Feasible Trial",
         "showlegend": false,
         "type": "scatter",
         "x": [
          0.8,
          0.95,
          0.95,
          0.9,
          0.99,
          0.9,
          0.9,
          0.95,
          0.99,
          0.9,
          0.99,
          0.99,
          0.99,
          0.99,
          0.99,
          0.8,
          0.99,
          0.99,
          0.99,
          0.8,
          0.99,
          0.8,
          0.8,
          0.8,
          0.8,
          0.99,
          0.99,
          0.99,
          0.99,
          0.99
         ],
         "xaxis": "x2",
         "y": [
          -15439279.933999997,
          -54074.33200000001,
          -496387.61,
          -148321.918,
          -53585.530000000006,
          -981859.756,
          -54100.452000000005,
          -55333.14400000001,
          -53298.936,
          -162989.24,
          -56028.742000000006,
          -54710.79400000001,
          -19615312.228,
          -52973.64,
          -55912.018000000004,
          -54059.202000000005,
          -51588.186,
          -51312.146,
          -52911.588,
          -51706.758,
          -14030727.930000002,
          -1064937.056,
          -970721.1719999999,
          -1937570.4899999998,
          -3321995.586,
          -51026.018000000004,
          -54619.212,
          -56618.726,
          -56245.27200000001,
          -801064.538
         ],
         "yaxis": "y2"
        },
        {
         "marker": {
          "color": [
           0,
           1,
           2,
           3,
           4,
           5,
           6,
           7,
           8,
           9,
           10,
           11,
           12,
           13,
           14,
           15,
           16,
           17,
           18,
           19,
           20,
           21,
           22,
           23,
           24,
           25,
           26,
           27,
           28,
           29
          ],
          "colorbar": {
           "title": {
            "text": "Trial"
           },
           "x": 1,
           "xpad": 40
          },
          "colorscale": [
           [
            0,
            "rgb(247,251,255)"
           ],
           [
            0.125,
            "rgb(222,235,247)"
           ],
           [
            0.25,
            "rgb(198,219,239)"
           ],
           [
            0.375,
            "rgb(158,202,225)"
           ],
           [
            0.5,
            "rgb(107,174,214)"
           ],
           [
            0.625,
            "rgb(66,146,198)"
           ],
           [
            0.75,
            "rgb(33,113,181)"
           ],
           [
            0.875,
            "rgb(8,81,156)"
           ],
           [
            1,
            "rgb(8,48,107)"
           ]
          ],
          "line": {
           "color": "Grey",
           "width": 0.5
          },
          "showscale": false
         },
         "mode": "markers",
         "name": "Feasible Trial",
         "showlegend": false,
         "type": "scatter",
         "x": [
          0.99,
          0.99,
          0.99,
          0.95,
          0.99,
          0.95,
          0.99,
          0.99,
          0.95,
          0.95,
          0.95,
          0.95,
          0.99,
          0.95,
          0.95,
          0.95,
          0.95,
          0.95,
          0.95,
          0.95,
          0.95,
          0.95,
          0.95,
          0.95,
          0.95,
          0.95,
          0.95,
          0.95,
          0.95,
          0.95
         ],
         "xaxis": "x3",
         "y": [
          -15439279.933999997,
          -54074.33200000001,
          -496387.61,
          -148321.918,
          -53585.530000000006,
          -981859.756,
          -54100.452000000005,
          -55333.14400000001,
          -53298.936,
          -162989.24,
          -56028.742000000006,
          -54710.79400000001,
          -19615312.228,
          -52973.64,
          -55912.018000000004,
          -54059.202000000005,
          -51588.186,
          -51312.146,
          -52911.588,
          -51706.758,
          -14030727.930000002,
          -1064937.056,
          -970721.1719999999,
          -1937570.4899999998,
          -3321995.586,
          -51026.018000000004,
          -54619.212,
          -56618.726,
          -56245.27200000001,
          -801064.538
         ],
         "yaxis": "y3"
        },
        {
         "marker": {
          "color": [
           0,
           1,
           2,
           3,
           4,
           5,
           6,
           7,
           8,
           9,
           10,
           11,
           12,
           13,
           14,
           15,
           16,
           17,
           18,
           19,
           20,
           21,
           22,
           23,
           24,
           25,
           26,
           27,
           28,
           29
          ],
          "colorbar": {
           "title": {
            "text": "Trial"
           },
           "x": 1,
           "xpad": 40
          },
          "colorscale": [
           [
            0,
            "rgb(247,251,255)"
           ],
           [
            0.125,
            "rgb(222,235,247)"
           ],
           [
            0.25,
            "rgb(198,219,239)"
           ],
           [
            0.375,
            "rgb(158,202,225)"
           ],
           [
            0.5,
            "rgb(107,174,214)"
           ],
           [
            0.625,
            "rgb(66,146,198)"
           ],
           [
            0.75,
            "rgb(33,113,181)"
           ],
           [
            0.875,
            "rgb(8,81,156)"
           ],
           [
            1,
            "rgb(8,48,107)"
           ]
          ],
          "line": {
           "color": "Grey",
           "width": 0.5
          },
          "showscale": false
         },
         "mode": "markers",
         "name": "Feasible Trial",
         "showlegend": false,
         "type": "scatter",
         "x": [
          0.0001,
          0.001,
          0.0001,
          0.0005,
          0.001,
          0.0001,
          0.001,
          0.001,
          0.0001,
          0.0001,
          0.0005,
          0.001,
          0.0001,
          0.001,
          0.0005,
          0.001,
          0.0001,
          0.001,
          0.0001,
          0.0005,
          0.001,
          0.0005,
          0.0005,
          0.0005,
          0.0005,
          0.0005,
          0.0001,
          0.001,
          0.0001,
          0.0005
         ],
         "xaxis": "x4",
         "y": [
          -15439279.933999997,
          -54074.33200000001,
          -496387.61,
          -148321.918,
          -53585.530000000006,
          -981859.756,
          -54100.452000000005,
          -55333.14400000001,
          -53298.936,
          -162989.24,
          -56028.742000000006,
          -54710.79400000001,
          -19615312.228,
          -52973.64,
          -55912.018000000004,
          -54059.202000000005,
          -51588.186,
          -51312.146,
          -52911.588,
          -51706.758,
          -14030727.930000002,
          -1064937.056,
          -970721.1719999999,
          -1937570.4899999998,
          -3321995.586,
          -51026.018000000004,
          -54619.212,
          -56618.726,
          -56245.27200000001,
          -801064.538
         ],
         "yaxis": "y4"
        },
        {
         "marker": {
          "color": [
           0,
           1,
           2,
           3,
           4,
           5,
           6,
           7,
           8,
           9,
           10,
           11,
           12,
           13,
           14,
           15,
           16,
           17,
           18,
           19,
           20,
           21,
           22,
           23,
           24,
           25,
           26,
           27,
           28,
           29
          ],
          "colorbar": {
           "title": {
            "text": "Trial"
           },
           "x": 1,
           "xpad": 40
          },
          "colorscale": [
           [
            0,
            "rgb(247,251,255)"
           ],
           [
            0.125,
            "rgb(222,235,247)"
           ],
           [
            0.25,
            "rgb(198,219,239)"
           ],
           [
            0.375,
            "rgb(158,202,225)"
           ],
           [
            0.5,
            "rgb(107,174,214)"
           ],
           [
            0.625,
            "rgb(66,146,198)"
           ],
           [
            0.75,
            "rgb(33,113,181)"
           ],
           [
            0.875,
            "rgb(8,81,156)"
           ],
           [
            1,
            "rgb(8,48,107)"
           ]
          ],
          "line": {
           "color": "Grey",
           "width": 0.5
          },
          "showscale": false
         },
         "mode": "markers",
         "name": "Feasible Trial",
         "showlegend": false,
         "type": "scatter",
         "x": [
          1,
          1,
          1,
          0.5,
          1,
          1,
          0.5,
          1,
          0.5,
          0.5,
          0.5,
          0.5,
          1,
          0.5,
          0.5,
          0.5,
          0.5,
          0.5,
          0.5,
          0.5,
          0.5,
          0.5,
          0.5,
          0.5,
          0.5,
          0.5,
          0.5,
          0.5,
          0.5,
          0.5
         ],
         "xaxis": "x5",
         "y": [
          -15439279.933999997,
          -54074.33200000001,
          -496387.61,
          -148321.918,
          -53585.530000000006,
          -981859.756,
          -54100.452000000005,
          -55333.14400000001,
          -53298.936,
          -162989.24,
          -56028.742000000006,
          -54710.79400000001,
          -19615312.228,
          -52973.64,
          -55912.018000000004,
          -54059.202000000005,
          -51588.186,
          -51312.146,
          -52911.588,
          -51706.758,
          -14030727.930000002,
          -1064937.056,
          -970721.1719999999,
          -1937570.4899999998,
          -3321995.586,
          -51026.018000000004,
          -54619.212,
          -56618.726,
          -56245.27200000001,
          -801064.538
         ],
         "yaxis": "y5"
        },
        {
         "marker": {
          "color": [
           0,
           1,
           2,
           3,
           4,
           5,
           6,
           7,
           8,
           9,
           10,
           11,
           12,
           13,
           14,
           15,
           16,
           17,
           18,
           19,
           20,
           21,
           22,
           23,
           24,
           25,
           26,
           27,
           28,
           29
          ],
          "colorbar": {
           "title": {
            "text": "Trial"
           },
           "x": 1,
           "xpad": 40
          },
          "colorscale": [
           [
            0,
            "rgb(247,251,255)"
           ],
           [
            0.125,
            "rgb(222,235,247)"
           ],
           [
            0.25,
            "rgb(198,219,239)"
           ],
           [
            0.375,
            "rgb(158,202,225)"
           ],
           [
            0.5,
            "rgb(107,174,214)"
           ],
           [
            0.625,
            "rgb(66,146,198)"
           ],
           [
            0.75,
            "rgb(33,113,181)"
           ],
           [
            0.875,
            "rgb(8,81,156)"
           ],
           [
            1,
            "rgb(8,48,107)"
           ]
          ],
          "line": {
           "color": "Grey",
           "width": 0.5
          },
          "showscale": false
         },
         "mode": "markers",
         "name": "Feasible Trial",
         "showlegend": false,
         "type": "scatter",
         "x": [
          64,
          64,
          16,
          32,
          32,
          8,
          32,
          8,
          64,
          16,
          64,
          32,
          32,
          64,
          64,
          64,
          64,
          64,
          64,
          16,
          8,
          16,
          16,
          16,
          16,
          64,
          64,
          64,
          64,
          64
         ],
         "xaxis": "x6",
         "y": [
          -15439279.933999997,
          -54074.33200000001,
          -496387.61,
          -148321.918,
          -53585.530000000006,
          -981859.756,
          -54100.452000000005,
          -55333.14400000001,
          -53298.936,
          -162989.24,
          -56028.742000000006,
          -54710.79400000001,
          -19615312.228,
          -52973.64,
          -55912.018000000004,
          -54059.202000000005,
          -51588.186,
          -51312.146,
          -52911.588,
          -51706.758,
          -14030727.930000002,
          -1064937.056,
          -970721.1719999999,
          -1937570.4899999998,
          -3321995.586,
          -51026.018000000004,
          -54619.212,
          -56618.726,
          -56245.27200000001,
          -801064.538
         ],
         "yaxis": "y6"
        },
        {
         "marker": {
          "color": [
           0,
           1,
           2,
           3,
           4,
           5,
           6,
           7,
           8,
           9,
           10,
           11,
           12,
           13,
           14,
           15,
           16,
           17,
           18,
           19,
           20,
           21,
           22,
           23,
           24,
           25,
           26,
           27,
           28,
           29
          ],
          "colorbar": {
           "title": {
            "text": "Trial"
           },
           "x": 1,
           "xpad": 40
          },
          "colorscale": [
           [
            0,
            "rgb(247,251,255)"
           ],
           [
            0.125,
            "rgb(222,235,247)"
           ],
           [
            0.25,
            "rgb(198,219,239)"
           ],
           [
            0.375,
            "rgb(158,202,225)"
           ],
           [
            0.5,
            "rgb(107,174,214)"
           ],
           [
            0.625,
            "rgb(66,146,198)"
           ],
           [
            0.75,
            "rgb(33,113,181)"
           ],
           [
            0.875,
            "rgb(8,81,156)"
           ],
           [
            1,
            "rgb(8,48,107)"
           ]
          ],
          "line": {
           "color": "Grey",
           "width": 0.5
          },
          "showscale": false
         },
         "mode": "markers",
         "name": "Feasible Trial",
         "showlegend": false,
         "type": "scatter",
         "x": [
          false,
          true,
          false,
          true,
          true,
          false,
          false,
          true,
          true,
          false,
          true,
          true,
          true,
          true,
          true,
          true,
          true,
          true,
          true,
          true,
          true,
          true,
          true,
          true,
          true,
          true,
          false,
          true,
          true,
          false
         ],
         "xaxis": "x7",
         "y": [
          -15439279.933999997,
          -54074.33200000001,
          -496387.61,
          -148321.918,
          -53585.530000000006,
          -981859.756,
          -54100.452000000005,
          -55333.14400000001,
          -53298.936,
          -162989.24,
          -56028.742000000006,
          -54710.79400000001,
          -19615312.228,
          -52973.64,
          -55912.018000000004,
          -54059.202000000005,
          -51588.186,
          -51312.146,
          -52911.588,
          -51706.758,
          -14030727.930000002,
          -1064937.056,
          -970721.1719999999,
          -1937570.4899999998,
          -3321995.586,
          -51026.018000000004,
          -54619.212,
          -56618.726,
          -56245.27200000001,
          -801064.538
         ],
         "yaxis": "y7"
        },
        {
         "marker": {
          "color": [
           0,
           1,
           2,
           3,
           4,
           5,
           6,
           7,
           8,
           9,
           10,
           11,
           12,
           13,
           14,
           15,
           16,
           17,
           18,
           19,
           20,
           21,
           22,
           23,
           24,
           25,
           26,
           27,
           28,
           29
          ],
          "colorbar": {
           "title": {
            "text": "Trial"
           },
           "x": 1,
           "xpad": 40
          },
          "colorscale": [
           [
            0,
            "rgb(247,251,255)"
           ],
           [
            0.125,
            "rgb(222,235,247)"
           ],
           [
            0.25,
            "rgb(198,219,239)"
           ],
           [
            0.375,
            "rgb(158,202,225)"
           ],
           [
            0.5,
            "rgb(107,174,214)"
           ],
           [
            0.625,
            "rgb(66,146,198)"
           ],
           [
            0.75,
            "rgb(33,113,181)"
           ],
           [
            0.875,
            "rgb(8,81,156)"
           ],
           [
            1,
            "rgb(8,48,107)"
           ]
          ],
          "line": {
           "color": "Grey",
           "width": 0.5
          },
          "showscale": false
         },
         "mode": "markers",
         "name": "Feasible Trial",
         "showlegend": false,
         "type": "scatter",
         "x": [
          1,
          1,
          0.8,
          0.8,
          0.8,
          0.5,
          0.5,
          0.8,
          0.5,
          0.8,
          0.5,
          0.5,
          0.8,
          0.5,
          0.5,
          0.5,
          0.5,
          0.5,
          1,
          0.5,
          0.5,
          0.5,
          0.5,
          0.5,
          0.5,
          1,
          1,
          1,
          1,
          1
         ],
         "xaxis": "x8",
         "y": [
          -15439279.933999997,
          -54074.33200000001,
          -496387.61,
          -148321.918,
          -53585.530000000006,
          -981859.756,
          -54100.452000000005,
          -55333.14400000001,
          -53298.936,
          -162989.24,
          -56028.742000000006,
          -54710.79400000001,
          -19615312.228,
          -52973.64,
          -55912.018000000004,
          -54059.202000000005,
          -51588.186,
          -51312.146,
          -52911.588,
          -51706.758,
          -14030727.930000002,
          -1064937.056,
          -970721.1719999999,
          -1937570.4899999998,
          -3321995.586,
          -51026.018000000004,
          -54619.212,
          -56618.726,
          -56245.27200000001,
          -801064.538
         ],
         "yaxis": "y8"
        }
       ],
       "layout": {
        "template": {
         "data": {
          "bar": [
           {
            "error_x": {
             "color": "#2a3f5f"
            },
            "error_y": {
             "color": "#2a3f5f"
            },
            "marker": {
             "line": {
              "color": "#E5ECF6",
              "width": 0.5
             },
             "pattern": {
              "fillmode": "overlay",
              "size": 10,
              "solidity": 0.2
             }
            },
            "type": "bar"
           }
          ],
          "barpolar": [
           {
            "marker": {
             "line": {
              "color": "#E5ECF6",
              "width": 0.5
             },
             "pattern": {
              "fillmode": "overlay",
              "size": 10,
              "solidity": 0.2
             }
            },
            "type": "barpolar"
           }
          ],
          "carpet": [
           {
            "aaxis": {
             "endlinecolor": "#2a3f5f",
             "gridcolor": "white",
             "linecolor": "white",
             "minorgridcolor": "white",
             "startlinecolor": "#2a3f5f"
            },
            "baxis": {
             "endlinecolor": "#2a3f5f",
             "gridcolor": "white",
             "linecolor": "white",
             "minorgridcolor": "white",
             "startlinecolor": "#2a3f5f"
            },
            "type": "carpet"
           }
          ],
          "choropleth": [
           {
            "colorbar": {
             "outlinewidth": 0,
             "ticks": ""
            },
            "type": "choropleth"
           }
          ],
          "contour": [
           {
            "colorbar": {
             "outlinewidth": 0,
             "ticks": ""
            },
            "colorscale": [
             [
              0,
              "#0d0887"
             ],
             [
              0.1111111111111111,
              "#46039f"
             ],
             [
              0.2222222222222222,
              "#7201a8"
             ],
             [
              0.3333333333333333,
              "#9c179e"
             ],
             [
              0.4444444444444444,
              "#bd3786"
             ],
             [
              0.5555555555555556,
              "#d8576b"
             ],
             [
              0.6666666666666666,
              "#ed7953"
             ],
             [
              0.7777777777777778,
              "#fb9f3a"
             ],
             [
              0.8888888888888888,
              "#fdca26"
             ],
             [
              1,
              "#f0f921"
             ]
            ],
            "type": "contour"
           }
          ],
          "contourcarpet": [
           {
            "colorbar": {
             "outlinewidth": 0,
             "ticks": ""
            },
            "type": "contourcarpet"
           }
          ],
          "heatmap": [
           {
            "colorbar": {
             "outlinewidth": 0,
             "ticks": ""
            },
            "colorscale": [
             [
              0,
              "#0d0887"
             ],
             [
              0.1111111111111111,
              "#46039f"
             ],
             [
              0.2222222222222222,
              "#7201a8"
             ],
             [
              0.3333333333333333,
              "#9c179e"
             ],
             [
              0.4444444444444444,
              "#bd3786"
             ],
             [
              0.5555555555555556,
              "#d8576b"
             ],
             [
              0.6666666666666666,
              "#ed7953"
             ],
             [
              0.7777777777777778,
              "#fb9f3a"
             ],
             [
              0.8888888888888888,
              "#fdca26"
             ],
             [
              1,
              "#f0f921"
             ]
            ],
            "type": "heatmap"
           }
          ],
          "heatmapgl": [
           {
            "colorbar": {
             "outlinewidth": 0,
             "ticks": ""
            },
            "colorscale": [
             [
              0,
              "#0d0887"
             ],
             [
              0.1111111111111111,
              "#46039f"
             ],
             [
              0.2222222222222222,
              "#7201a8"
             ],
             [
              0.3333333333333333,
              "#9c179e"
             ],
             [
              0.4444444444444444,
              "#bd3786"
             ],
             [
              0.5555555555555556,
              "#d8576b"
             ],
             [
              0.6666666666666666,
              "#ed7953"
             ],
             [
              0.7777777777777778,
              "#fb9f3a"
             ],
             [
              0.8888888888888888,
              "#fdca26"
             ],
             [
              1,
              "#f0f921"
             ]
            ],
            "type": "heatmapgl"
           }
          ],
          "histogram": [
           {
            "marker": {
             "pattern": {
              "fillmode": "overlay",
              "size": 10,
              "solidity": 0.2
             }
            },
            "type": "histogram"
           }
          ],
          "histogram2d": [
           {
            "colorbar": {
             "outlinewidth": 0,
             "ticks": ""
            },
            "colorscale": [
             [
              0,
              "#0d0887"
             ],
             [
              0.1111111111111111,
              "#46039f"
             ],
             [
              0.2222222222222222,
              "#7201a8"
             ],
             [
              0.3333333333333333,
              "#9c179e"
             ],
             [
              0.4444444444444444,
              "#bd3786"
             ],
             [
              0.5555555555555556,
              "#d8576b"
             ],
             [
              0.6666666666666666,
              "#ed7953"
             ],
             [
              0.7777777777777778,
              "#fb9f3a"
             ],
             [
              0.8888888888888888,
              "#fdca26"
             ],
             [
              1,
              "#f0f921"
             ]
            ],
            "type": "histogram2d"
           }
          ],
          "histogram2dcontour": [
           {
            "colorbar": {
             "outlinewidth": 0,
             "ticks": ""
            },
            "colorscale": [
             [
              0,
              "#0d0887"
             ],
             [
              0.1111111111111111,
              "#46039f"
             ],
             [
              0.2222222222222222,
              "#7201a8"
             ],
             [
              0.3333333333333333,
              "#9c179e"
             ],
             [
              0.4444444444444444,
              "#bd3786"
             ],
             [
              0.5555555555555556,
              "#d8576b"
             ],
             [
              0.6666666666666666,
              "#ed7953"
             ],
             [
              0.7777777777777778,
              "#fb9f3a"
             ],
             [
              0.8888888888888888,
              "#fdca26"
             ],
             [
              1,
              "#f0f921"
             ]
            ],
            "type": "histogram2dcontour"
           }
          ],
          "mesh3d": [
           {
            "colorbar": {
             "outlinewidth": 0,
             "ticks": ""
            },
            "type": "mesh3d"
           }
          ],
          "parcoords": [
           {
            "line": {
             "colorbar": {
              "outlinewidth": 0,
              "ticks": ""
             }
            },
            "type": "parcoords"
           }
          ],
          "pie": [
           {
            "automargin": true,
            "type": "pie"
           }
          ],
          "scatter": [
           {
            "fillpattern": {
             "fillmode": "overlay",
             "size": 10,
             "solidity": 0.2
            },
            "type": "scatter"
           }
          ],
          "scatter3d": [
           {
            "line": {
             "colorbar": {
              "outlinewidth": 0,
              "ticks": ""
             }
            },
            "marker": {
             "colorbar": {
              "outlinewidth": 0,
              "ticks": ""
             }
            },
            "type": "scatter3d"
           }
          ],
          "scattercarpet": [
           {
            "marker": {
             "colorbar": {
              "outlinewidth": 0,
              "ticks": ""
             }
            },
            "type": "scattercarpet"
           }
          ],
          "scattergeo": [
           {
            "marker": {
             "colorbar": {
              "outlinewidth": 0,
              "ticks": ""
             }
            },
            "type": "scattergeo"
           }
          ],
          "scattergl": [
           {
            "marker": {
             "colorbar": {
              "outlinewidth": 0,
              "ticks": ""
             }
            },
            "type": "scattergl"
           }
          ],
          "scattermapbox": [
           {
            "marker": {
             "colorbar": {
              "outlinewidth": 0,
              "ticks": ""
             }
            },
            "type": "scattermapbox"
           }
          ],
          "scatterpolar": [
           {
            "marker": {
             "colorbar": {
              "outlinewidth": 0,
              "ticks": ""
             }
            },
            "type": "scatterpolar"
           }
          ],
          "scatterpolargl": [
           {
            "marker": {
             "colorbar": {
              "outlinewidth": 0,
              "ticks": ""
             }
            },
            "type": "scatterpolargl"
           }
          ],
          "scatterternary": [
           {
            "marker": {
             "colorbar": {
              "outlinewidth": 0,
              "ticks": ""
             }
            },
            "type": "scatterternary"
           }
          ],
          "surface": [
           {
            "colorbar": {
             "outlinewidth": 0,
             "ticks": ""
            },
            "colorscale": [
             [
              0,
              "#0d0887"
             ],
             [
              0.1111111111111111,
              "#46039f"
             ],
             [
              0.2222222222222222,
              "#7201a8"
             ],
             [
              0.3333333333333333,
              "#9c179e"
             ],
             [
              0.4444444444444444,
              "#bd3786"
             ],
             [
              0.5555555555555556,
              "#d8576b"
             ],
             [
              0.6666666666666666,
              "#ed7953"
             ],
             [
              0.7777777777777778,
              "#fb9f3a"
             ],
             [
              0.8888888888888888,
              "#fdca26"
             ],
             [
              1,
              "#f0f921"
             ]
            ],
            "type": "surface"
           }
          ],
          "table": [
           {
            "cells": {
             "fill": {
              "color": "#EBF0F8"
             },
             "line": {
              "color": "white"
             }
            },
            "header": {
             "fill": {
              "color": "#C8D4E3"
             },
             "line": {
              "color": "white"
             }
            },
            "type": "table"
           }
          ]
         },
         "layout": {
          "annotationdefaults": {
           "arrowcolor": "#2a3f5f",
           "arrowhead": 0,
           "arrowwidth": 1
          },
          "autotypenumbers": "strict",
          "coloraxis": {
           "colorbar": {
            "outlinewidth": 0,
            "ticks": ""
           }
          },
          "colorscale": {
           "diverging": [
            [
             0,
             "#8e0152"
            ],
            [
             0.1,
             "#c51b7d"
            ],
            [
             0.2,
             "#de77ae"
            ],
            [
             0.3,
             "#f1b6da"
            ],
            [
             0.4,
             "#fde0ef"
            ],
            [
             0.5,
             "#f7f7f7"
            ],
            [
             0.6,
             "#e6f5d0"
            ],
            [
             0.7,
             "#b8e186"
            ],
            [
             0.8,
             "#7fbc41"
            ],
            [
             0.9,
             "#4d9221"
            ],
            [
             1,
             "#276419"
            ]
           ],
           "sequential": [
            [
             0,
             "#0d0887"
            ],
            [
             0.1111111111111111,
             "#46039f"
            ],
            [
             0.2222222222222222,
             "#7201a8"
            ],
            [
             0.3333333333333333,
             "#9c179e"
            ],
            [
             0.4444444444444444,
             "#bd3786"
            ],
            [
             0.5555555555555556,
             "#d8576b"
            ],
            [
             0.6666666666666666,
             "#ed7953"
            ],
            [
             0.7777777777777778,
             "#fb9f3a"
            ],
            [
             0.8888888888888888,
             "#fdca26"
            ],
            [
             1,
             "#f0f921"
            ]
           ],
           "sequentialminus": [
            [
             0,
             "#0d0887"
            ],
            [
             0.1111111111111111,
             "#46039f"
            ],
            [
             0.2222222222222222,
             "#7201a8"
            ],
            [
             0.3333333333333333,
             "#9c179e"
            ],
            [
             0.4444444444444444,
             "#bd3786"
            ],
            [
             0.5555555555555556,
             "#d8576b"
            ],
            [
             0.6666666666666666,
             "#ed7953"
            ],
            [
             0.7777777777777778,
             "#fb9f3a"
            ],
            [
             0.8888888888888888,
             "#fdca26"
            ],
            [
             1,
             "#f0f921"
            ]
           ]
          },
          "colorway": [
           "#636efa",
           "#EF553B",
           "#00cc96",
           "#ab63fa",
           "#FFA15A",
           "#19d3f3",
           "#FF6692",
           "#B6E880",
           "#FF97FF",
           "#FECB52"
          ],
          "font": {
           "color": "#2a3f5f"
          },
          "geo": {
           "bgcolor": "white",
           "lakecolor": "white",
           "landcolor": "#E5ECF6",
           "showlakes": true,
           "showland": true,
           "subunitcolor": "white"
          },
          "hoverlabel": {
           "align": "left"
          },
          "hovermode": "closest",
          "mapbox": {
           "style": "light"
          },
          "paper_bgcolor": "white",
          "plot_bgcolor": "#E5ECF6",
          "polar": {
           "angularaxis": {
            "gridcolor": "white",
            "linecolor": "white",
            "ticks": ""
           },
           "bgcolor": "#E5ECF6",
           "radialaxis": {
            "gridcolor": "white",
            "linecolor": "white",
            "ticks": ""
           }
          },
          "scene": {
           "xaxis": {
            "backgroundcolor": "#E5ECF6",
            "gridcolor": "white",
            "gridwidth": 2,
            "linecolor": "white",
            "showbackground": true,
            "ticks": "",
            "zerolinecolor": "white"
           },
           "yaxis": {
            "backgroundcolor": "#E5ECF6",
            "gridcolor": "white",
            "gridwidth": 2,
            "linecolor": "white",
            "showbackground": true,
            "ticks": "",
            "zerolinecolor": "white"
           },
           "zaxis": {
            "backgroundcolor": "#E5ECF6",
            "gridcolor": "white",
            "gridwidth": 2,
            "linecolor": "white",
            "showbackground": true,
            "ticks": "",
            "zerolinecolor": "white"
           }
          },
          "shapedefaults": {
           "line": {
            "color": "#2a3f5f"
           }
          },
          "ternary": {
           "aaxis": {
            "gridcolor": "white",
            "linecolor": "white",
            "ticks": ""
           },
           "baxis": {
            "gridcolor": "white",
            "linecolor": "white",
            "ticks": ""
           },
           "bgcolor": "#E5ECF6",
           "caxis": {
            "gridcolor": "white",
            "linecolor": "white",
            "ticks": ""
           }
          },
          "title": {
           "x": 0.05
          },
          "xaxis": {
           "automargin": true,
           "gridcolor": "white",
           "linecolor": "white",
           "ticks": "",
           "title": {
            "standoff": 15
           },
           "zerolinecolor": "white",
           "zerolinewidth": 2
          },
          "yaxis": {
           "automargin": true,
           "gridcolor": "white",
           "linecolor": "white",
           "ticks": "",
           "title": {
            "standoff": 15
           },
           "zerolinecolor": "white",
           "zerolinewidth": 2
          }
         }
        },
        "title": {
         "text": "Slice Plot"
        },
        "width": 2400,
        "xaxis": {
         "anchor": "y",
         "categoryarray": [
          0.01,
          0.05,
          0.1
         ],
         "categoryorder": "array",
         "domain": [
          0,
          0.103125
         ],
         "title": {
          "text": "ent_coef"
         },
         "type": "category"
        },
        "xaxis2": {
         "anchor": "y2",
         "categoryarray": [
          0.8,
          0.9,
          0.95,
          0.99
         ],
         "categoryorder": "array",
         "domain": [
          0.128125,
          0.23124999999999998
         ],
         "title": {
          "text": "gae_lambda"
         },
         "type": "category"
        },
        "xaxis3": {
         "anchor": "y3",
         "categoryarray": [
          0.95,
          0.99
         ],
         "categoryorder": "array",
         "domain": [
          0.25625,
          0.359375
         ],
         "title": {
          "text": "gamma"
         },
         "type": "category"
        },
        "xaxis4": {
         "anchor": "y4",
         "categoryarray": [
          0.0001,
          0.0005,
          0.001
         ],
         "categoryorder": "array",
         "domain": [
          0.38437499999999997,
          0.48749999999999993
         ],
         "title": {
          "text": "learning_rate"
         },
         "type": "category"
        },
        "xaxis5": {
         "anchor": "y5",
         "categoryarray": [
          0.5,
          1
         ],
         "categoryorder": "array",
         "domain": [
          0.5125,
          0.615625
         ],
         "title": {
          "text": "max_grad_norm"
         },
         "type": "category"
        },
        "xaxis6": {
         "anchor": "y6",
         "categoryarray": [
          8,
          16,
          32,
          64
         ],
         "categoryorder": "array",
         "domain": [
          0.640625,
          0.74375
         ],
         "title": {
          "text": "n_steps"
         },
         "type": "category"
        },
        "xaxis7": {
         "anchor": "y7",
         "categoryarray": [
          true,
          false
         ],
         "categoryorder": "array",
         "domain": [
          0.7687499999999999,
          0.871875
         ],
         "title": {
          "text": "use_rms_prop"
         },
         "type": "category"
        },
        "xaxis8": {
         "anchor": "y8",
         "categoryarray": [
          0.5,
          0.8,
          1
         ],
         "categoryorder": "array",
         "domain": [
          0.896875,
          1
         ],
         "title": {
          "text": "vf_coef"
         },
         "type": "category"
        },
        "yaxis": {
         "anchor": "x",
         "domain": [
          0,
          1
         ],
         "title": {
          "text": "Objective Value"
         }
        },
        "yaxis2": {
         "anchor": "x2",
         "domain": [
          0,
          1
         ],
         "matches": "y",
         "showticklabels": false
        },
        "yaxis3": {
         "anchor": "x3",
         "domain": [
          0,
          1
         ],
         "matches": "y",
         "showticklabels": false
        },
        "yaxis4": {
         "anchor": "x4",
         "domain": [
          0,
          1
         ],
         "matches": "y",
         "showticklabels": false
        },
        "yaxis5": {
         "anchor": "x5",
         "domain": [
          0,
          1
         ],
         "matches": "y",
         "showticklabels": false
        },
        "yaxis6": {
         "anchor": "x6",
         "domain": [
          0,
          1
         ],
         "matches": "y",
         "showticklabels": false
        },
        "yaxis7": {
         "anchor": "x7",
         "domain": [
          0,
          1
         ],
         "matches": "y",
         "showticklabels": false
        },
        "yaxis8": {
         "anchor": "x8",
         "domain": [
          0,
          1
         ],
         "matches": "y",
         "showticklabels": false
        }
       }
      }
     },
     "metadata": {},
     "output_type": "display_data"
    }
   ],
   "source": [
    "from optuna.visualization import plot_slice\n",
    "\n",
    "fig = plot_slice(study)\n",
    "fig.show()"
   ]
  },
  {
   "cell_type": "markdown",
   "metadata": {},
   "source": [
    "**Contour Plot**\n",
    "\n",
    "This plot shows the relationship between two hyperparameters and their influence on the objective value."
   ]
  },
  {
   "cell_type": "code",
   "execution_count": 7,
   "metadata": {},
   "outputs": [
    {
     "data": {
      "application/vnd.plotly.v1+json": {
       "config": {
        "plotlyServerURL": "https://plot.ly"
       },
       "data": [
        {
         "type": "scatter",
         "xaxis": "x",
         "yaxis": "y"
        },
        {
         "colorbar": {
          "title": {
           "text": "Objective Value"
          }
         },
         "colorscale": [
          [
           0,
           "rgb(247,251,255)"
          ],
          [
           0.125,
           "rgb(222,235,247)"
          ],
          [
           0.25,
           "rgb(198,219,239)"
          ],
          [
           0.375,
           "rgb(158,202,225)"
          ],
          [
           0.5,
           "rgb(107,174,214)"
          ],
          [
           0.625,
           "rgb(66,146,198)"
          ],
          [
           0.75,
           "rgb(33,113,181)"
          ],
          [
           0.875,
           "rgb(8,81,156)"
          ],
          [
           1,
           "rgb(8,48,107)"
          ]
         ],
         "connectgaps": true,
         "contours": {
          "coloring": "heatmap"
         },
         "hoverinfo": "none",
         "line": {
          "smoothing": 1.3
         },
         "reversescale": false,
         "showscale": true,
         "type": "contour",
         "x": [
          0.0055,
          0.01,
          0.05,
          0.1,
          0.10450000000000001
         ],
         "xaxis": "x9",
         "y": [
          0.7905000000000001,
          0.8,
          0.9,
          0.95,
          0.99,
          0.9994999999999999
         ],
         "yaxis": "y9",
         "z": [
          [
           null,
           null,
           null,
           null,
           null
          ],
          [
           null,
           -54059.202000000005,
           null,
           -51706.758,
           null
          ],
          [
           null,
           null,
           -54100.452000000005,
           -162989.24,
           null
          ],
          [
           null,
           -55333.14400000001,
           -54074.33200000001,
           null,
           null
          ],
          [
           null,
           -52973.64,
           null,
           -51026.018000000004,
           null
          ],
          [
           null,
           null,
           null,
           null,
           null
          ]
         ]
        },
        {
         "marker": {
          "color": "black",
          "line": {
           "color": "Gray",
           "width": 2
          }
         },
         "mode": "markers",
         "name": "Feasible Trial",
         "showlegend": false,
         "type": "scatter",
         "x": [
          0.01,
          0.05,
          0.05,
          0.05,
          0.01,
          0.1,
          0.05,
          0.01,
          0.01,
          0.1,
          0.01,
          0.01,
          0.01,
          0.01,
          0.01,
          0.01,
          0.1,
          0.1,
          0.1,
          0.1,
          0.1,
          0.1,
          0.1,
          0.1,
          0.1,
          0.1,
          0.1,
          0.1,
          0.1,
          0.1
         ],
         "xaxis": "x9",
         "y": [
          0.8,
          0.95,
          0.95,
          0.9,
          0.99,
          0.9,
          0.9,
          0.95,
          0.99,
          0.9,
          0.99,
          0.99,
          0.99,
          0.99,
          0.99,
          0.8,
          0.99,
          0.99,
          0.99,
          0.8,
          0.99,
          0.8,
          0.8,
          0.8,
          0.8,
          0.99,
          0.99,
          0.99,
          0.99,
          0.99
         ],
         "yaxis": "y9"
        },
        {
         "colorbar": {
          "title": {
           "text": "Objective Value"
          }
         },
         "colorscale": [
          [
           0,
           "rgb(247,251,255)"
          ],
          [
           0.125,
           "rgb(222,235,247)"
          ],
          [
           0.25,
           "rgb(198,219,239)"
          ],
          [
           0.375,
           "rgb(158,202,225)"
          ],
          [
           0.5,
           "rgb(107,174,214)"
          ],
          [
           0.625,
           "rgb(66,146,198)"
          ],
          [
           0.75,
           "rgb(33,113,181)"
          ],
          [
           0.875,
           "rgb(8,81,156)"
          ],
          [
           1,
           "rgb(8,48,107)"
          ]
         ],
         "connectgaps": true,
         "contours": {
          "coloring": "heatmap"
         },
         "hoverinfo": "none",
         "line": {
          "smoothing": 1.3
         },
         "reversescale": false,
         "showscale": false,
         "type": "contour",
         "x": [
          0.0055,
          0.01,
          0.05,
          0.1,
          0.10450000000000001
         ],
         "xaxis": "x17",
         "y": [
          0.948,
          0.95,
          0.99,
          0.992
         ],
         "yaxis": "y17",
         "z": [
          [
           null,
           null,
           null,
           null,
           null
          ],
          [
           null,
           -52973.64,
           -148321.918,
           -51026.018000000004,
           null
          ],
          [
           null,
           -53585.530000000006,
           -54074.33200000001,
           null,
           null
          ],
          [
           null,
           null,
           null,
           null,
           null
          ]
         ]
        },
        {
         "marker": {
          "color": "black",
          "line": {
           "color": "Gray",
           "width": 2
          }
         },
         "mode": "markers",
         "name": "Feasible Trial",
         "showlegend": false,
         "type": "scatter",
         "x": [
          0.01,
          0.05,
          0.05,
          0.05,
          0.01,
          0.1,
          0.05,
          0.01,
          0.01,
          0.1,
          0.01,
          0.01,
          0.01,
          0.01,
          0.01,
          0.01,
          0.1,
          0.1,
          0.1,
          0.1,
          0.1,
          0.1,
          0.1,
          0.1,
          0.1,
          0.1,
          0.1,
          0.1,
          0.1,
          0.1
         ],
         "xaxis": "x17",
         "y": [
          0.99,
          0.99,
          0.99,
          0.95,
          0.99,
          0.95,
          0.99,
          0.99,
          0.95,
          0.95,
          0.95,
          0.95,
          0.99,
          0.95,
          0.95,
          0.95,
          0.95,
          0.95,
          0.95,
          0.95,
          0.95,
          0.95,
          0.95,
          0.95,
          0.95,
          0.95,
          0.95,
          0.95,
          0.95,
          0.95
         ],
         "yaxis": "y17"
        },
        {
         "colorbar": {
          "title": {
           "text": "Objective Value"
          }
         },
         "colorscale": [
          [
           0,
           "rgb(247,251,255)"
          ],
          [
           0.125,
           "rgb(222,235,247)"
          ],
          [
           0.25,
           "rgb(198,219,239)"
          ],
          [
           0.375,
           "rgb(158,202,225)"
          ],
          [
           0.5,
           "rgb(107,174,214)"
          ],
          [
           0.625,
           "rgb(66,146,198)"
          ],
          [
           0.75,
           "rgb(33,113,181)"
          ],
          [
           0.875,
           "rgb(8,81,156)"
          ],
          [
           1,
           "rgb(8,48,107)"
          ]
         ],
         "connectgaps": true,
         "contours": {
          "coloring": "heatmap"
         },
         "hoverinfo": "none",
         "line": {
          "smoothing": 1.3
         },
         "reversescale": false,
         "showscale": false,
         "type": "contour",
         "x": [
          0.0055,
          0.01,
          0.05,
          0.1,
          0.10450000000000001
         ],
         "xaxis": "x25",
         "y": [
          0.000055,
          0.0001,
          0.0005,
          0.001,
          0.001045
         ],
         "yaxis": "y25",
         "z": [
          [
           null,
           null,
           null,
           null,
           null
          ],
          [
           null,
           -53298.936,
           -496387.61,
           -51588.186,
           null
          ],
          [
           null,
           -55912.018000000004,
           -148321.918,
           -51026.018000000004,
           null
          ],
          [
           null,
           -52973.64,
           -54074.33200000001,
           -51312.146,
           null
          ],
          [
           null,
           null,
           null,
           null,
           null
          ]
         ]
        },
        {
         "marker": {
          "color": "black",
          "line": {
           "color": "Gray",
           "width": 2
          }
         },
         "mode": "markers",
         "name": "Feasible Trial",
         "showlegend": false,
         "type": "scatter",
         "x": [
          0.01,
          0.05,
          0.05,
          0.05,
          0.01,
          0.1,
          0.05,
          0.01,
          0.01,
          0.1,
          0.01,
          0.01,
          0.01,
          0.01,
          0.01,
          0.01,
          0.1,
          0.1,
          0.1,
          0.1,
          0.1,
          0.1,
          0.1,
          0.1,
          0.1,
          0.1,
          0.1,
          0.1,
          0.1,
          0.1
         ],
         "xaxis": "x25",
         "y": [
          0.0001,
          0.001,
          0.0001,
          0.0005,
          0.001,
          0.0001,
          0.001,
          0.001,
          0.0001,
          0.0001,
          0.0005,
          0.001,
          0.0001,
          0.001,
          0.0005,
          0.001,
          0.0001,
          0.001,
          0.0001,
          0.0005,
          0.001,
          0.0005,
          0.0005,
          0.0005,
          0.0005,
          0.0005,
          0.0001,
          0.001,
          0.0001,
          0.0005
         ],
         "yaxis": "y25"
        },
        {
         "colorbar": {
          "title": {
           "text": "Objective Value"
          }
         },
         "colorscale": [
          [
           0,
           "rgb(247,251,255)"
          ],
          [
           0.125,
           "rgb(222,235,247)"
          ],
          [
           0.25,
           "rgb(198,219,239)"
          ],
          [
           0.375,
           "rgb(158,202,225)"
          ],
          [
           0.5,
           "rgb(107,174,214)"
          ],
          [
           0.625,
           "rgb(66,146,198)"
          ],
          [
           0.75,
           "rgb(33,113,181)"
          ],
          [
           0.875,
           "rgb(8,81,156)"
          ],
          [
           1,
           "rgb(8,48,107)"
          ]
         ],
         "connectgaps": true,
         "contours": {
          "coloring": "heatmap"
         },
         "hoverinfo": "none",
         "line": {
          "smoothing": 1.3
         },
         "reversescale": false,
         "showscale": false,
         "type": "contour",
         "x": [
          0.0055,
          0.01,
          0.05,
          0.1,
          0.10450000000000001
         ],
         "xaxis": "x33",
         "y": [
          0.475,
          0.5,
          1,
          1.025
         ],
         "yaxis": "y33",
         "z": [
          [
           null,
           null,
           null,
           null,
           null
          ],
          [
           null,
           -52973.64,
           -54100.452000000005,
           -51026.018000000004,
           null
          ],
          [
           null,
           -53585.530000000006,
           -54074.33200000001,
           -981859.756,
           null
          ],
          [
           null,
           null,
           null,
           null,
           null
          ]
         ]
        },
        {
         "marker": {
          "color": "black",
          "line": {
           "color": "Gray",
           "width": 2
          }
         },
         "mode": "markers",
         "name": "Feasible Trial",
         "showlegend": false,
         "type": "scatter",
         "x": [
          0.01,
          0.05,
          0.05,
          0.05,
          0.01,
          0.1,
          0.05,
          0.01,
          0.01,
          0.1,
          0.01,
          0.01,
          0.01,
          0.01,
          0.01,
          0.01,
          0.1,
          0.1,
          0.1,
          0.1,
          0.1,
          0.1,
          0.1,
          0.1,
          0.1,
          0.1,
          0.1,
          0.1,
          0.1,
          0.1
         ],
         "xaxis": "x33",
         "y": [
          1,
          1,
          1,
          0.5,
          1,
          1,
          0.5,
          1,
          0.5,
          0.5,
          0.5,
          0.5,
          1,
          0.5,
          0.5,
          0.5,
          0.5,
          0.5,
          0.5,
          0.5,
          0.5,
          0.5,
          0.5,
          0.5,
          0.5,
          0.5,
          0.5,
          0.5,
          0.5,
          0.5
         ],
         "yaxis": "y33"
        },
        {
         "colorbar": {
          "title": {
           "text": "Objective Value"
          }
         },
         "colorscale": [
          [
           0,
           "rgb(247,251,255)"
          ],
          [
           0.125,
           "rgb(222,235,247)"
          ],
          [
           0.25,
           "rgb(198,219,239)"
          ],
          [
           0.375,
           "rgb(158,202,225)"
          ],
          [
           0.5,
           "rgb(107,174,214)"
          ],
          [
           0.625,
           "rgb(66,146,198)"
          ],
          [
           0.75,
           "rgb(33,113,181)"
          ],
          [
           0.875,
           "rgb(8,81,156)"
          ],
          [
           1,
           "rgb(8,48,107)"
          ]
         ],
         "connectgaps": true,
         "contours": {
          "coloring": "heatmap"
         },
         "hoverinfo": "none",
         "line": {
          "smoothing": 1.3
         },
         "reversescale": false,
         "showscale": false,
         "type": "contour",
         "x": [
          0.0055,
          0.01,
          0.05,
          0.1,
          0.10450000000000001
         ],
         "xaxis": "x41",
         "y": [
          5.199999999999999,
          8,
          16,
          32,
          64,
          66.8
         ],
         "yaxis": "y41",
         "z": [
          [
           null,
           null,
           null,
           null,
           null
          ],
          [
           null,
           -55333.14400000001,
           null,
           -981859.756,
           null
          ],
          [
           null,
           null,
           -496387.61,
           -51706.758,
           null
          ],
          [
           null,
           -53585.530000000006,
           -54100.452000000005,
           null,
           null
          ],
          [
           null,
           -52973.64,
           -54074.33200000001,
           -51026.018000000004,
           null
          ],
          [
           null,
           null,
           null,
           null,
           null
          ]
         ]
        },
        {
         "marker": {
          "color": "black",
          "line": {
           "color": "Gray",
           "width": 2
          }
         },
         "mode": "markers",
         "name": "Feasible Trial",
         "showlegend": false,
         "type": "scatter",
         "x": [
          0.01,
          0.05,
          0.05,
          0.05,
          0.01,
          0.1,
          0.05,
          0.01,
          0.01,
          0.1,
          0.01,
          0.01,
          0.01,
          0.01,
          0.01,
          0.01,
          0.1,
          0.1,
          0.1,
          0.1,
          0.1,
          0.1,
          0.1,
          0.1,
          0.1,
          0.1,
          0.1,
          0.1,
          0.1,
          0.1
         ],
         "xaxis": "x41",
         "y": [
          64,
          64,
          16,
          32,
          32,
          8,
          32,
          8,
          64,
          16,
          64,
          32,
          32,
          64,
          64,
          64,
          64,
          64,
          64,
          16,
          8,
          16,
          16,
          16,
          16,
          64,
          64,
          64,
          64,
          64
         ],
         "yaxis": "y41"
        },
        {
         "colorbar": {
          "title": {
           "text": "Objective Value"
          }
         },
         "colorscale": [
          [
           0,
           "rgb(247,251,255)"
          ],
          [
           0.125,
           "rgb(222,235,247)"
          ],
          [
           0.25,
           "rgb(198,219,239)"
          ],
          [
           0.375,
           "rgb(158,202,225)"
          ],
          [
           0.5,
           "rgb(107,174,214)"
          ],
          [
           0.625,
           "rgb(66,146,198)"
          ],
          [
           0.75,
           "rgb(33,113,181)"
          ],
          [
           0.875,
           "rgb(8,81,156)"
          ],
          [
           1,
           "rgb(8,48,107)"
          ]
         ],
         "connectgaps": true,
         "contours": {
          "coloring": "heatmap"
         },
         "hoverinfo": "none",
         "line": {
          "smoothing": 1.3
         },
         "reversescale": false,
         "showscale": false,
         "type": "contour",
         "x": [
          0.0055,
          0.01,
          0.05,
          0.1,
          0.10450000000000001
         ],
         "xaxis": "x49",
         "y": [
          "False",
          "True"
         ],
         "yaxis": "y49",
         "z": [
          [
           null,
           -15439279.933999997,
           -54100.452000000005,
           -54619.212,
           null
          ],
          [
           null,
           -52973.64,
           -54074.33200000001,
           -51026.018000000004,
           null
          ]
         ]
        },
        {
         "marker": {
          "color": "black",
          "line": {
           "color": "Gray",
           "width": 2
          }
         },
         "mode": "markers",
         "name": "Feasible Trial",
         "showlegend": false,
         "type": "scatter",
         "x": [
          0.01,
          0.05,
          0.05,
          0.05,
          0.01,
          0.1,
          0.05,
          0.01,
          0.01,
          0.1,
          0.01,
          0.01,
          0.01,
          0.01,
          0.01,
          0.01,
          0.1,
          0.1,
          0.1,
          0.1,
          0.1,
          0.1,
          0.1,
          0.1,
          0.1,
          0.1,
          0.1,
          0.1,
          0.1,
          0.1
         ],
         "xaxis": "x49",
         "y": [
          "False",
          "True",
          "False",
          "True",
          "True",
          "False",
          "False",
          "True",
          "True",
          "False",
          "True",
          "True",
          "True",
          "True",
          "True",
          "True",
          "True",
          "True",
          "True",
          "True",
          "True",
          "True",
          "True",
          "True",
          "True",
          "True",
          "False",
          "True",
          "True",
          "False"
         ],
         "yaxis": "y49"
        },
        {
         "colorbar": {
          "title": {
           "text": "Objective Value"
          }
         },
         "colorscale": [
          [
           0,
           "rgb(247,251,255)"
          ],
          [
           0.125,
           "rgb(222,235,247)"
          ],
          [
           0.25,
           "rgb(198,219,239)"
          ],
          [
           0.375,
           "rgb(158,202,225)"
          ],
          [
           0.5,
           "rgb(107,174,214)"
          ],
          [
           0.625,
           "rgb(66,146,198)"
          ],
          [
           0.75,
           "rgb(33,113,181)"
          ],
          [
           0.875,
           "rgb(8,81,156)"
          ],
          [
           1,
           "rgb(8,48,107)"
          ]
         ],
         "connectgaps": true,
         "contours": {
          "coloring": "heatmap"
         },
         "hoverinfo": "none",
         "line": {
          "smoothing": 1.3
         },
         "reversescale": false,
         "showscale": false,
         "type": "contour",
         "x": [
          0.0055,
          0.01,
          0.05,
          0.1,
          0.10450000000000001
         ],
         "xaxis": "x57",
         "y": [
          0.475,
          0.5,
          0.8,
          1,
          1.025
         ],
         "yaxis": "y57",
         "z": [
          [
           null,
           null,
           null,
           null,
           null
          ],
          [
           null,
           -52973.64,
           -54100.452000000005,
           -51312.146,
           null
          ],
          [
           null,
           -53585.530000000006,
           -148321.918,
           -162989.24,
           null
          ],
          [
           null,
           -15439279.933999997,
           -54074.33200000001,
           -51026.018000000004,
           null
          ],
          [
           null,
           null,
           null,
           null,
           null
          ]
         ]
        },
        {
         "marker": {
          "color": "black",
          "line": {
           "color": "Gray",
           "width": 2
          }
         },
         "mode": "markers",
         "name": "Feasible Trial",
         "showlegend": false,
         "type": "scatter",
         "x": [
          0.01,
          0.05,
          0.05,
          0.05,
          0.01,
          0.1,
          0.05,
          0.01,
          0.01,
          0.1,
          0.01,
          0.01,
          0.01,
          0.01,
          0.01,
          0.01,
          0.1,
          0.1,
          0.1,
          0.1,
          0.1,
          0.1,
          0.1,
          0.1,
          0.1,
          0.1,
          0.1,
          0.1,
          0.1,
          0.1
         ],
         "xaxis": "x57",
         "y": [
          1,
          1,
          0.8,
          0.8,
          0.8,
          0.5,
          0.5,
          0.8,
          0.5,
          0.8,
          0.5,
          0.5,
          0.8,
          0.5,
          0.5,
          0.5,
          0.5,
          0.5,
          1,
          0.5,
          0.5,
          0.5,
          0.5,
          0.5,
          0.5,
          1,
          1,
          1,
          1,
          1
         ],
         "yaxis": "y57"
        },
        {
         "colorbar": {
          "title": {
           "text": "Objective Value"
          }
         },
         "colorscale": [
          [
           0,
           "rgb(247,251,255)"
          ],
          [
           0.125,
           "rgb(222,235,247)"
          ],
          [
           0.25,
           "rgb(198,219,239)"
          ],
          [
           0.375,
           "rgb(158,202,225)"
          ],
          [
           0.5,
           "rgb(107,174,214)"
          ],
          [
           0.625,
           "rgb(66,146,198)"
          ],
          [
           0.75,
           "rgb(33,113,181)"
          ],
          [
           0.875,
           "rgb(8,81,156)"
          ],
          [
           1,
           "rgb(8,48,107)"
          ]
         ],
         "connectgaps": true,
         "contours": {
          "coloring": "heatmap"
         },
         "hoverinfo": "none",
         "line": {
          "smoothing": 1.3
         },
         "reversescale": false,
         "showscale": false,
         "type": "contour",
         "x": [
          0.7905000000000001,
          0.8,
          0.9,
          0.95,
          0.99,
          0.9994999999999999
         ],
         "xaxis": "x2",
         "y": [
          0.0055,
          0.01,
          0.05,
          0.1,
          0.10450000000000001
         ],
         "yaxis": "y2",
         "z": [
          [
           null,
           null,
           null,
           null,
           null,
           null
          ],
          [
           null,
           -54059.202000000005,
           null,
           -55333.14400000001,
           -52973.64,
           null
          ],
          [
           null,
           null,
           -54100.452000000005,
           -54074.33200000001,
           null,
           null
          ],
          [
           null,
           -51706.758,
           -162989.24,
           null,
           -51026.018000000004,
           null
          ],
          [
           null,
           null,
           null,
           null,
           null,
           null
          ]
         ]
        },
        {
         "marker": {
          "color": "black",
          "line": {
           "color": "Gray",
           "width": 2
          }
         },
         "mode": "markers",
         "name": "Feasible Trial",
         "showlegend": false,
         "type": "scatter",
         "x": [
          0.8,
          0.95,
          0.95,
          0.9,
          0.99,
          0.9,
          0.9,
          0.95,
          0.99,
          0.9,
          0.99,
          0.99,
          0.99,
          0.99,
          0.99,
          0.8,
          0.99,
          0.99,
          0.99,
          0.8,
          0.99,
          0.8,
          0.8,
          0.8,
          0.8,
          0.99,
          0.99,
          0.99,
          0.99,
          0.99
         ],
         "xaxis": "x2",
         "y": [
          0.01,
          0.05,
          0.05,
          0.05,
          0.01,
          0.1,
          0.05,
          0.01,
          0.01,
          0.1,
          0.01,
          0.01,
          0.01,
          0.01,
          0.01,
          0.01,
          0.1,
          0.1,
          0.1,
          0.1,
          0.1,
          0.1,
          0.1,
          0.1,
          0.1,
          0.1,
          0.1,
          0.1,
          0.1,
          0.1
         ],
         "yaxis": "y2"
        },
        {
         "type": "scatter",
         "xaxis": "x10",
         "yaxis": "y10"
        },
        {
         "colorbar": {
          "title": {
           "text": "Objective Value"
          }
         },
         "colorscale": [
          [
           0,
           "rgb(247,251,255)"
          ],
          [
           0.125,
           "rgb(222,235,247)"
          ],
          [
           0.25,
           "rgb(198,219,239)"
          ],
          [
           0.375,
           "rgb(158,202,225)"
          ],
          [
           0.5,
           "rgb(107,174,214)"
          ],
          [
           0.625,
           "rgb(66,146,198)"
          ],
          [
           0.75,
           "rgb(33,113,181)"
          ],
          [
           0.875,
           "rgb(8,81,156)"
          ],
          [
           1,
           "rgb(8,48,107)"
          ]
         ],
         "connectgaps": true,
         "contours": {
          "coloring": "heatmap"
         },
         "hoverinfo": "none",
         "line": {
          "smoothing": 1.3
         },
         "reversescale": false,
         "showscale": false,
         "type": "contour",
         "x": [
          0.7905000000000001,
          0.8,
          0.9,
          0.95,
          0.99,
          0.9994999999999999
         ],
         "xaxis": "x18",
         "y": [
          0.948,
          0.95,
          0.99,
          0.992
         ],
         "yaxis": "y18",
         "z": [
          [
           null,
           null,
           null,
           null,
           null,
           null
          ],
          [
           null,
           -51706.758,
           -148321.918,
           null,
           -51026.018000000004,
           null
          ],
          [
           null,
           -15439279.933999997,
           -54100.452000000005,
           -54074.33200000001,
           -53585.530000000006,
           null
          ],
          [
           null,
           null,
           null,
           null,
           null,
           null
          ]
         ]
        },
        {
         "marker": {
          "color": "black",
          "line": {
           "color": "Gray",
           "width": 2
          }
         },
         "mode": "markers",
         "name": "Feasible Trial",
         "showlegend": false,
         "type": "scatter",
         "x": [
          0.8,
          0.95,
          0.95,
          0.9,
          0.99,
          0.9,
          0.9,
          0.95,
          0.99,
          0.9,
          0.99,
          0.99,
          0.99,
          0.99,
          0.99,
          0.8,
          0.99,
          0.99,
          0.99,
          0.8,
          0.99,
          0.8,
          0.8,
          0.8,
          0.8,
          0.99,
          0.99,
          0.99,
          0.99,
          0.99
         ],
         "xaxis": "x18",
         "y": [
          0.99,
          0.99,
          0.99,
          0.95,
          0.99,
          0.95,
          0.99,
          0.99,
          0.95,
          0.95,
          0.95,
          0.95,
          0.99,
          0.95,
          0.95,
          0.95,
          0.95,
          0.95,
          0.95,
          0.95,
          0.95,
          0.95,
          0.95,
          0.95,
          0.95,
          0.95,
          0.95,
          0.95,
          0.95,
          0.95
         ],
         "yaxis": "y18"
        },
        {
         "colorbar": {
          "title": {
           "text": "Objective Value"
          }
         },
         "colorscale": [
          [
           0,
           "rgb(247,251,255)"
          ],
          [
           0.125,
           "rgb(222,235,247)"
          ],
          [
           0.25,
           "rgb(198,219,239)"
          ],
          [
           0.375,
           "rgb(158,202,225)"
          ],
          [
           0.5,
           "rgb(107,174,214)"
          ],
          [
           0.625,
           "rgb(66,146,198)"
          ],
          [
           0.75,
           "rgb(33,113,181)"
          ],
          [
           0.875,
           "rgb(8,81,156)"
          ],
          [
           1,
           "rgb(8,48,107)"
          ]
         ],
         "connectgaps": true,
         "contours": {
          "coloring": "heatmap"
         },
         "hoverinfo": "none",
         "line": {
          "smoothing": 1.3
         },
         "reversescale": false,
         "showscale": false,
         "type": "contour",
         "x": [
          0.7905000000000001,
          0.8,
          0.9,
          0.95,
          0.99,
          0.9994999999999999
         ],
         "xaxis": "x26",
         "y": [
          0.000055,
          0.0001,
          0.0005,
          0.001,
          0.001045
         ],
         "yaxis": "y26",
         "z": [
          [
           null,
           null,
           null,
           null,
           null,
           null
          ],
          [
           null,
           -15439279.933999997,
           -162989.24,
           -496387.61,
           -51588.186,
           null
          ],
          [
           null,
           -51706.758,
           -148321.918,
           null,
           -51026.018000000004,
           null
          ],
          [
           null,
           -54059.202000000005,
           -54100.452000000005,
           -54074.33200000001,
           -51312.146,
           null
          ],
          [
           null,
           null,
           null,
           null,
           null,
           null
          ]
         ]
        },
        {
         "marker": {
          "color": "black",
          "line": {
           "color": "Gray",
           "width": 2
          }
         },
         "mode": "markers",
         "name": "Feasible Trial",
         "showlegend": false,
         "type": "scatter",
         "x": [
          0.8,
          0.95,
          0.95,
          0.9,
          0.99,
          0.9,
          0.9,
          0.95,
          0.99,
          0.9,
          0.99,
          0.99,
          0.99,
          0.99,
          0.99,
          0.8,
          0.99,
          0.99,
          0.99,
          0.8,
          0.99,
          0.8,
          0.8,
          0.8,
          0.8,
          0.99,
          0.99,
          0.99,
          0.99,
          0.99
         ],
         "xaxis": "x26",
         "y": [
          0.0001,
          0.001,
          0.0001,
          0.0005,
          0.001,
          0.0001,
          0.001,
          0.001,
          0.0001,
          0.0001,
          0.0005,
          0.001,
          0.0001,
          0.001,
          0.0005,
          0.001,
          0.0001,
          0.001,
          0.0001,
          0.0005,
          0.001,
          0.0005,
          0.0005,
          0.0005,
          0.0005,
          0.0005,
          0.0001,
          0.001,
          0.0001,
          0.0005
         ],
         "yaxis": "y26"
        },
        {
         "colorbar": {
          "title": {
           "text": "Objective Value"
          }
         },
         "colorscale": [
          [
           0,
           "rgb(247,251,255)"
          ],
          [
           0.125,
           "rgb(222,235,247)"
          ],
          [
           0.25,
           "rgb(198,219,239)"
          ],
          [
           0.375,
           "rgb(158,202,225)"
          ],
          [
           0.5,
           "rgb(107,174,214)"
          ],
          [
           0.625,
           "rgb(66,146,198)"
          ],
          [
           0.75,
           "rgb(33,113,181)"
          ],
          [
           0.875,
           "rgb(8,81,156)"
          ],
          [
           1,
           "rgb(8,48,107)"
          ]
         ],
         "connectgaps": true,
         "contours": {
          "coloring": "heatmap"
         },
         "hoverinfo": "none",
         "line": {
          "smoothing": 1.3
         },
         "reversescale": false,
         "showscale": false,
         "type": "contour",
         "x": [
          0.7905000000000001,
          0.8,
          0.9,
          0.95,
          0.99,
          0.9994999999999999
         ],
         "xaxis": "x34",
         "y": [
          0.475,
          0.5,
          1,
          1.025
         ],
         "yaxis": "y34",
         "z": [
          [
           null,
           null,
           null,
           null,
           null,
           null
          ],
          [
           null,
           -51706.758,
           -54100.452000000005,
           null,
           -51026.018000000004,
           null
          ],
          [
           null,
           -15439279.933999997,
           -981859.756,
           -54074.33200000001,
           -53585.530000000006,
           null
          ],
          [
           null,
           null,
           null,
           null,
           null,
           null
          ]
         ]
        },
        {
         "marker": {
          "color": "black",
          "line": {
           "color": "Gray",
           "width": 2
          }
         },
         "mode": "markers",
         "name": "Feasible Trial",
         "showlegend": false,
         "type": "scatter",
         "x": [
          0.8,
          0.95,
          0.95,
          0.9,
          0.99,
          0.9,
          0.9,
          0.95,
          0.99,
          0.9,
          0.99,
          0.99,
          0.99,
          0.99,
          0.99,
          0.8,
          0.99,
          0.99,
          0.99,
          0.8,
          0.99,
          0.8,
          0.8,
          0.8,
          0.8,
          0.99,
          0.99,
          0.99,
          0.99,
          0.99
         ],
         "xaxis": "x34",
         "y": [
          1,
          1,
          1,
          0.5,
          1,
          1,
          0.5,
          1,
          0.5,
          0.5,
          0.5,
          0.5,
          1,
          0.5,
          0.5,
          0.5,
          0.5,
          0.5,
          0.5,
          0.5,
          0.5,
          0.5,
          0.5,
          0.5,
          0.5,
          0.5,
          0.5,
          0.5,
          0.5,
          0.5
         ],
         "yaxis": "y34"
        },
        {
         "colorbar": {
          "title": {
           "text": "Objective Value"
          }
         },
         "colorscale": [
          [
           0,
           "rgb(247,251,255)"
          ],
          [
           0.125,
           "rgb(222,235,247)"
          ],
          [
           0.25,
           "rgb(198,219,239)"
          ],
          [
           0.375,
           "rgb(158,202,225)"
          ],
          [
           0.5,
           "rgb(107,174,214)"
          ],
          [
           0.625,
           "rgb(66,146,198)"
          ],
          [
           0.75,
           "rgb(33,113,181)"
          ],
          [
           0.875,
           "rgb(8,81,156)"
          ],
          [
           1,
           "rgb(8,48,107)"
          ]
         ],
         "connectgaps": true,
         "contours": {
          "coloring": "heatmap"
         },
         "hoverinfo": "none",
         "line": {
          "smoothing": 1.3
         },
         "reversescale": false,
         "showscale": false,
         "type": "contour",
         "x": [
          0.7905000000000001,
          0.8,
          0.9,
          0.95,
          0.99,
          0.9994999999999999
         ],
         "xaxis": "x42",
         "y": [
          5.199999999999999,
          8,
          16,
          32,
          64,
          66.8
         ],
         "yaxis": "y42",
         "z": [
          [
           null,
           null,
           null,
           null,
           null,
           null
          ],
          [
           null,
           null,
           -981859.756,
           -55333.14400000001,
           -14030727.930000002,
           null
          ],
          [
           null,
           -51706.758,
           -162989.24,
           -496387.61,
           null,
           null
          ],
          [
           null,
           null,
           -54100.452000000005,
           null,
           -53585.530000000006,
           null
          ],
          [
           null,
           -54059.202000000005,
           null,
           -54074.33200000001,
           -51026.018000000004,
           null
          ],
          [
           null,
           null,
           null,
           null,
           null,
           null
          ]
         ]
        },
        {
         "marker": {
          "color": "black",
          "line": {
           "color": "Gray",
           "width": 2
          }
         },
         "mode": "markers",
         "name": "Feasible Trial",
         "showlegend": false,
         "type": "scatter",
         "x": [
          0.8,
          0.95,
          0.95,
          0.9,
          0.99,
          0.9,
          0.9,
          0.95,
          0.99,
          0.9,
          0.99,
          0.99,
          0.99,
          0.99,
          0.99,
          0.8,
          0.99,
          0.99,
          0.99,
          0.8,
          0.99,
          0.8,
          0.8,
          0.8,
          0.8,
          0.99,
          0.99,
          0.99,
          0.99,
          0.99
         ],
         "xaxis": "x42",
         "y": [
          64,
          64,
          16,
          32,
          32,
          8,
          32,
          8,
          64,
          16,
          64,
          32,
          32,
          64,
          64,
          64,
          64,
          64,
          64,
          16,
          8,
          16,
          16,
          16,
          16,
          64,
          64,
          64,
          64,
          64
         ],
         "yaxis": "y42"
        },
        {
         "colorbar": {
          "title": {
           "text": "Objective Value"
          }
         },
         "colorscale": [
          [
           0,
           "rgb(247,251,255)"
          ],
          [
           0.125,
           "rgb(222,235,247)"
          ],
          [
           0.25,
           "rgb(198,219,239)"
          ],
          [
           0.375,
           "rgb(158,202,225)"
          ],
          [
           0.5,
           "rgb(107,174,214)"
          ],
          [
           0.625,
           "rgb(66,146,198)"
          ],
          [
           0.75,
           "rgb(33,113,181)"
          ],
          [
           0.875,
           "rgb(8,81,156)"
          ],
          [
           1,
           "rgb(8,48,107)"
          ]
         ],
         "connectgaps": true,
         "contours": {
          "coloring": "heatmap"
         },
         "hoverinfo": "none",
         "line": {
          "smoothing": 1.3
         },
         "reversescale": false,
         "showscale": false,
         "type": "contour",
         "x": [
          0.7905000000000001,
          0.8,
          0.9,
          0.95,
          0.99,
          0.9994999999999999
         ],
         "xaxis": "x50",
         "y": [
          "False",
          "True"
         ],
         "yaxis": "y50",
         "z": [
          [
           null,
           -15439279.933999997,
           -54100.452000000005,
           -496387.61,
           -54619.212,
           null
          ],
          [
           null,
           -51706.758,
           -148321.918,
           -54074.33200000001,
           -51026.018000000004,
           null
          ]
         ]
        },
        {
         "marker": {
          "color": "black",
          "line": {
           "color": "Gray",
           "width": 2
          }
         },
         "mode": "markers",
         "name": "Feasible Trial",
         "showlegend": false,
         "type": "scatter",
         "x": [
          0.8,
          0.95,
          0.95,
          0.9,
          0.99,
          0.9,
          0.9,
          0.95,
          0.99,
          0.9,
          0.99,
          0.99,
          0.99,
          0.99,
          0.99,
          0.8,
          0.99,
          0.99,
          0.99,
          0.8,
          0.99,
          0.8,
          0.8,
          0.8,
          0.8,
          0.99,
          0.99,
          0.99,
          0.99,
          0.99
         ],
         "xaxis": "x50",
         "y": [
          "False",
          "True",
          "False",
          "True",
          "True",
          "False",
          "False",
          "True",
          "True",
          "False",
          "True",
          "True",
          "True",
          "True",
          "True",
          "True",
          "True",
          "True",
          "True",
          "True",
          "True",
          "True",
          "True",
          "True",
          "True",
          "True",
          "False",
          "True",
          "True",
          "False"
         ],
         "yaxis": "y50"
        },
        {
         "colorbar": {
          "title": {
           "text": "Objective Value"
          }
         },
         "colorscale": [
          [
           0,
           "rgb(247,251,255)"
          ],
          [
           0.125,
           "rgb(222,235,247)"
          ],
          [
           0.25,
           "rgb(198,219,239)"
          ],
          [
           0.375,
           "rgb(158,202,225)"
          ],
          [
           0.5,
           "rgb(107,174,214)"
          ],
          [
           0.625,
           "rgb(66,146,198)"
          ],
          [
           0.75,
           "rgb(33,113,181)"
          ],
          [
           0.875,
           "rgb(8,81,156)"
          ],
          [
           1,
           "rgb(8,48,107)"
          ]
         ],
         "connectgaps": true,
         "contours": {
          "coloring": "heatmap"
         },
         "hoverinfo": "none",
         "line": {
          "smoothing": 1.3
         },
         "reversescale": false,
         "showscale": false,
         "type": "contour",
         "x": [
          0.7905000000000001,
          0.8,
          0.9,
          0.95,
          0.99,
          0.9994999999999999
         ],
         "xaxis": "x58",
         "y": [
          0.475,
          0.5,
          0.8,
          1,
          1.025
         ],
         "yaxis": "y58",
         "z": [
          [
           null,
           null,
           null,
           null,
           null,
           null
          ],
          [
           null,
           -51706.758,
           -54100.452000000005,
           null,
           -51312.146,
           null
          ],
          [
           null,
           null,
           -148321.918,
           -55333.14400000001,
           -53585.530000000006,
           null
          ],
          [
           null,
           -15439279.933999997,
           null,
           -54074.33200000001,
           -51026.018000000004,
           null
          ],
          [
           null,
           null,
           null,
           null,
           null,
           null
          ]
         ]
        },
        {
         "marker": {
          "color": "black",
          "line": {
           "color": "Gray",
           "width": 2
          }
         },
         "mode": "markers",
         "name": "Feasible Trial",
         "showlegend": false,
         "type": "scatter",
         "x": [
          0.8,
          0.95,
          0.95,
          0.9,
          0.99,
          0.9,
          0.9,
          0.95,
          0.99,
          0.9,
          0.99,
          0.99,
          0.99,
          0.99,
          0.99,
          0.8,
          0.99,
          0.99,
          0.99,
          0.8,
          0.99,
          0.8,
          0.8,
          0.8,
          0.8,
          0.99,
          0.99,
          0.99,
          0.99,
          0.99
         ],
         "xaxis": "x58",
         "y": [
          1,
          1,
          0.8,
          0.8,
          0.8,
          0.5,
          0.5,
          0.8,
          0.5,
          0.8,
          0.5,
          0.5,
          0.8,
          0.5,
          0.5,
          0.5,
          0.5,
          0.5,
          1,
          0.5,
          0.5,
          0.5,
          0.5,
          0.5,
          0.5,
          1,
          1,
          1,
          1,
          1
         ],
         "yaxis": "y58"
        },
        {
         "colorbar": {
          "title": {
           "text": "Objective Value"
          }
         },
         "colorscale": [
          [
           0,
           "rgb(247,251,255)"
          ],
          [
           0.125,
           "rgb(222,235,247)"
          ],
          [
           0.25,
           "rgb(198,219,239)"
          ],
          [
           0.375,
           "rgb(158,202,225)"
          ],
          [
           0.5,
           "rgb(107,174,214)"
          ],
          [
           0.625,
           "rgb(66,146,198)"
          ],
          [
           0.75,
           "rgb(33,113,181)"
          ],
          [
           0.875,
           "rgb(8,81,156)"
          ],
          [
           1,
           "rgb(8,48,107)"
          ]
         ],
         "connectgaps": true,
         "contours": {
          "coloring": "heatmap"
         },
         "hoverinfo": "none",
         "line": {
          "smoothing": 1.3
         },
         "reversescale": false,
         "showscale": false,
         "type": "contour",
         "x": [
          0.948,
          0.95,
          0.99,
          0.992
         ],
         "xaxis": "x3",
         "y": [
          0.0055,
          0.01,
          0.05,
          0.1,
          0.10450000000000001
         ],
         "yaxis": "y3",
         "z": [
          [
           null,
           null,
           null,
           null
          ],
          [
           null,
           -52973.64,
           -53585.530000000006,
           null
          ],
          [
           null,
           -148321.918,
           -54074.33200000001,
           null
          ],
          [
           null,
           -51026.018000000004,
           null,
           null
          ],
          [
           null,
           null,
           null,
           null
          ]
         ]
        },
        {
         "marker": {
          "color": "black",
          "line": {
           "color": "Gray",
           "width": 2
          }
         },
         "mode": "markers",
         "name": "Feasible Trial",
         "showlegend": false,
         "type": "scatter",
         "x": [
          0.99,
          0.99,
          0.99,
          0.95,
          0.99,
          0.95,
          0.99,
          0.99,
          0.95,
          0.95,
          0.95,
          0.95,
          0.99,
          0.95,
          0.95,
          0.95,
          0.95,
          0.95,
          0.95,
          0.95,
          0.95,
          0.95,
          0.95,
          0.95,
          0.95,
          0.95,
          0.95,
          0.95,
          0.95,
          0.95
         ],
         "xaxis": "x3",
         "y": [
          0.01,
          0.05,
          0.05,
          0.05,
          0.01,
          0.1,
          0.05,
          0.01,
          0.01,
          0.1,
          0.01,
          0.01,
          0.01,
          0.01,
          0.01,
          0.01,
          0.1,
          0.1,
          0.1,
          0.1,
          0.1,
          0.1,
          0.1,
          0.1,
          0.1,
          0.1,
          0.1,
          0.1,
          0.1,
          0.1
         ],
         "yaxis": "y3"
        },
        {
         "colorbar": {
          "title": {
           "text": "Objective Value"
          }
         },
         "colorscale": [
          [
           0,
           "rgb(247,251,255)"
          ],
          [
           0.125,
           "rgb(222,235,247)"
          ],
          [
           0.25,
           "rgb(198,219,239)"
          ],
          [
           0.375,
           "rgb(158,202,225)"
          ],
          [
           0.5,
           "rgb(107,174,214)"
          ],
          [
           0.625,
           "rgb(66,146,198)"
          ],
          [
           0.75,
           "rgb(33,113,181)"
          ],
          [
           0.875,
           "rgb(8,81,156)"
          ],
          [
           1,
           "rgb(8,48,107)"
          ]
         ],
         "connectgaps": true,
         "contours": {
          "coloring": "heatmap"
         },
         "hoverinfo": "none",
         "line": {
          "smoothing": 1.3
         },
         "reversescale": false,
         "showscale": false,
         "type": "contour",
         "x": [
          0.948,
          0.95,
          0.99,
          0.992
         ],
         "xaxis": "x11",
         "y": [
          0.7905000000000001,
          0.8,
          0.9,
          0.95,
          0.99,
          0.9994999999999999
         ],
         "yaxis": "y11",
         "z": [
          [
           null,
           null,
           null,
           null
          ],
          [
           null,
           -51706.758,
           -15439279.933999997,
           null
          ],
          [
           null,
           -148321.918,
           -54100.452000000005,
           null
          ],
          [
           null,
           null,
           -54074.33200000001,
           null
          ],
          [
           null,
           -51026.018000000004,
           -53585.530000000006,
           null
          ],
          [
           null,
           null,
           null,
           null
          ]
         ]
        },
        {
         "marker": {
          "color": "black",
          "line": {
           "color": "Gray",
           "width": 2
          }
         },
         "mode": "markers",
         "name": "Feasible Trial",
         "showlegend": false,
         "type": "scatter",
         "x": [
          0.99,
          0.99,
          0.99,
          0.95,
          0.99,
          0.95,
          0.99,
          0.99,
          0.95,
          0.95,
          0.95,
          0.95,
          0.99,
          0.95,
          0.95,
          0.95,
          0.95,
          0.95,
          0.95,
          0.95,
          0.95,
          0.95,
          0.95,
          0.95,
          0.95,
          0.95,
          0.95,
          0.95,
          0.95,
          0.95
         ],
         "xaxis": "x11",
         "y": [
          0.8,
          0.95,
          0.95,
          0.9,
          0.99,
          0.9,
          0.9,
          0.95,
          0.99,
          0.9,
          0.99,
          0.99,
          0.99,
          0.99,
          0.99,
          0.8,
          0.99,
          0.99,
          0.99,
          0.8,
          0.99,
          0.8,
          0.8,
          0.8,
          0.8,
          0.99,
          0.99,
          0.99,
          0.99,
          0.99
         ],
         "yaxis": "y11"
        },
        {
         "type": "scatter",
         "xaxis": "x19",
         "yaxis": "y19"
        },
        {
         "colorbar": {
          "title": {
           "text": "Objective Value"
          }
         },
         "colorscale": [
          [
           0,
           "rgb(247,251,255)"
          ],
          [
           0.125,
           "rgb(222,235,247)"
          ],
          [
           0.25,
           "rgb(198,219,239)"
          ],
          [
           0.375,
           "rgb(158,202,225)"
          ],
          [
           0.5,
           "rgb(107,174,214)"
          ],
          [
           0.625,
           "rgb(66,146,198)"
          ],
          [
           0.75,
           "rgb(33,113,181)"
          ],
          [
           0.875,
           "rgb(8,81,156)"
          ],
          [
           1,
           "rgb(8,48,107)"
          ]
         ],
         "connectgaps": true,
         "contours": {
          "coloring": "heatmap"
         },
         "hoverinfo": "none",
         "line": {
          "smoothing": 1.3
         },
         "reversescale": false,
         "showscale": false,
         "type": "contour",
         "x": [
          0.948,
          0.95,
          0.99,
          0.992
         ],
         "xaxis": "x27",
         "y": [
          0.000055,
          0.0001,
          0.0005,
          0.001,
          0.001045
         ],
         "yaxis": "y27",
         "z": [
          [
           null,
           null,
           null,
           null
          ],
          [
           null,
           -51588.186,
           -496387.61,
           null
          ],
          [
           null,
           -51026.018000000004,
           null,
           null
          ],
          [
           null,
           -51312.146,
           -53585.530000000006,
           null
          ],
          [
           null,
           null,
           null,
           null
          ]
         ]
        },
        {
         "marker": {
          "color": "black",
          "line": {
           "color": "Gray",
           "width": 2
          }
         },
         "mode": "markers",
         "name": "Feasible Trial",
         "showlegend": false,
         "type": "scatter",
         "x": [
          0.99,
          0.99,
          0.99,
          0.95,
          0.99,
          0.95,
          0.99,
          0.99,
          0.95,
          0.95,
          0.95,
          0.95,
          0.99,
          0.95,
          0.95,
          0.95,
          0.95,
          0.95,
          0.95,
          0.95,
          0.95,
          0.95,
          0.95,
          0.95,
          0.95,
          0.95,
          0.95,
          0.95,
          0.95,
          0.95
         ],
         "xaxis": "x27",
         "y": [
          0.0001,
          0.001,
          0.0001,
          0.0005,
          0.001,
          0.0001,
          0.001,
          0.001,
          0.0001,
          0.0001,
          0.0005,
          0.001,
          0.0001,
          0.001,
          0.0005,
          0.001,
          0.0001,
          0.001,
          0.0001,
          0.0005,
          0.001,
          0.0005,
          0.0005,
          0.0005,
          0.0005,
          0.0005,
          0.0001,
          0.001,
          0.0001,
          0.0005
         ],
         "yaxis": "y27"
        },
        {
         "colorbar": {
          "title": {
           "text": "Objective Value"
          }
         },
         "colorscale": [
          [
           0,
           "rgb(247,251,255)"
          ],
          [
           0.125,
           "rgb(222,235,247)"
          ],
          [
           0.25,
           "rgb(198,219,239)"
          ],
          [
           0.375,
           "rgb(158,202,225)"
          ],
          [
           0.5,
           "rgb(107,174,214)"
          ],
          [
           0.625,
           "rgb(66,146,198)"
          ],
          [
           0.75,
           "rgb(33,113,181)"
          ],
          [
           0.875,
           "rgb(8,81,156)"
          ],
          [
           1,
           "rgb(8,48,107)"
          ]
         ],
         "connectgaps": true,
         "contours": {
          "coloring": "heatmap"
         },
         "hoverinfo": "none",
         "line": {
          "smoothing": 1.3
         },
         "reversescale": false,
         "showscale": false,
         "type": "contour",
         "x": [
          0.948,
          0.95,
          0.99,
          0.992
         ],
         "xaxis": "x35",
         "y": [
          0.475,
          0.5,
          1,
          1.025
         ],
         "yaxis": "y35",
         "z": [
          [
           null,
           null,
           null,
           null
          ],
          [
           null,
           -51026.018000000004,
           -54100.452000000005,
           null
          ],
          [
           null,
           -981859.756,
           -53585.530000000006,
           null
          ],
          [
           null,
           null,
           null,
           null
          ]
         ]
        },
        {
         "marker": {
          "color": "black",
          "line": {
           "color": "Gray",
           "width": 2
          }
         },
         "mode": "markers",
         "name": "Feasible Trial",
         "showlegend": false,
         "type": "scatter",
         "x": [
          0.99,
          0.99,
          0.99,
          0.95,
          0.99,
          0.95,
          0.99,
          0.99,
          0.95,
          0.95,
          0.95,
          0.95,
          0.99,
          0.95,
          0.95,
          0.95,
          0.95,
          0.95,
          0.95,
          0.95,
          0.95,
          0.95,
          0.95,
          0.95,
          0.95,
          0.95,
          0.95,
          0.95,
          0.95,
          0.95
         ],
         "xaxis": "x35",
         "y": [
          1,
          1,
          1,
          0.5,
          1,
          1,
          0.5,
          1,
          0.5,
          0.5,
          0.5,
          0.5,
          1,
          0.5,
          0.5,
          0.5,
          0.5,
          0.5,
          0.5,
          0.5,
          0.5,
          0.5,
          0.5,
          0.5,
          0.5,
          0.5,
          0.5,
          0.5,
          0.5,
          0.5
         ],
         "yaxis": "y35"
        },
        {
         "colorbar": {
          "title": {
           "text": "Objective Value"
          }
         },
         "colorscale": [
          [
           0,
           "rgb(247,251,255)"
          ],
          [
           0.125,
           "rgb(222,235,247)"
          ],
          [
           0.25,
           "rgb(198,219,239)"
          ],
          [
           0.375,
           "rgb(158,202,225)"
          ],
          [
           0.5,
           "rgb(107,174,214)"
          ],
          [
           0.625,
           "rgb(66,146,198)"
          ],
          [
           0.75,
           "rgb(33,113,181)"
          ],
          [
           0.875,
           "rgb(8,81,156)"
          ],
          [
           1,
           "rgb(8,48,107)"
          ]
         ],
         "connectgaps": true,
         "contours": {
          "coloring": "heatmap"
         },
         "hoverinfo": "none",
         "line": {
          "smoothing": 1.3
         },
         "reversescale": false,
         "showscale": false,
         "type": "contour",
         "x": [
          0.948,
          0.95,
          0.99,
          0.992
         ],
         "xaxis": "x43",
         "y": [
          5.199999999999999,
          8,
          16,
          32,
          64,
          66.8
         ],
         "yaxis": "y43",
         "z": [
          [
           null,
           null,
           null,
           null
          ],
          [
           null,
           -981859.756,
           -55333.14400000001,
           null
          ],
          [
           null,
           -51706.758,
           -496387.61,
           null
          ],
          [
           null,
           -54710.79400000001,
           -53585.530000000006,
           null
          ],
          [
           null,
           -51026.018000000004,
           -54074.33200000001,
           null
          ],
          [
           null,
           null,
           null,
           null
          ]
         ]
        },
        {
         "marker": {
          "color": "black",
          "line": {
           "color": "Gray",
           "width": 2
          }
         },
         "mode": "markers",
         "name": "Feasible Trial",
         "showlegend": false,
         "type": "scatter",
         "x": [
          0.99,
          0.99,
          0.99,
          0.95,
          0.99,
          0.95,
          0.99,
          0.99,
          0.95,
          0.95,
          0.95,
          0.95,
          0.99,
          0.95,
          0.95,
          0.95,
          0.95,
          0.95,
          0.95,
          0.95,
          0.95,
          0.95,
          0.95,
          0.95,
          0.95,
          0.95,
          0.95,
          0.95,
          0.95,
          0.95
         ],
         "xaxis": "x43",
         "y": [
          64,
          64,
          16,
          32,
          32,
          8,
          32,
          8,
          64,
          16,
          64,
          32,
          32,
          64,
          64,
          64,
          64,
          64,
          64,
          16,
          8,
          16,
          16,
          16,
          16,
          64,
          64,
          64,
          64,
          64
         ],
         "yaxis": "y43"
        },
        {
         "colorbar": {
          "title": {
           "text": "Objective Value"
          }
         },
         "colorscale": [
          [
           0,
           "rgb(247,251,255)"
          ],
          [
           0.125,
           "rgb(222,235,247)"
          ],
          [
           0.25,
           "rgb(198,219,239)"
          ],
          [
           0.375,
           "rgb(158,202,225)"
          ],
          [
           0.5,
           "rgb(107,174,214)"
          ],
          [
           0.625,
           "rgb(66,146,198)"
          ],
          [
           0.75,
           "rgb(33,113,181)"
          ],
          [
           0.875,
           "rgb(8,81,156)"
          ],
          [
           1,
           "rgb(8,48,107)"
          ]
         ],
         "connectgaps": true,
         "contours": {
          "coloring": "heatmap"
         },
         "hoverinfo": "none",
         "line": {
          "smoothing": 1.3
         },
         "reversescale": false,
         "showscale": false,
         "type": "contour",
         "x": [
          0.948,
          0.95,
          0.99,
          0.992
         ],
         "xaxis": "x51",
         "y": [
          "False",
          "True"
         ],
         "yaxis": "y51",
         "z": [
          [
           null,
           -54619.212,
           -54100.452000000005,
           null
          ],
          [
           null,
           -51026.018000000004,
           -53585.530000000006,
           null
          ]
         ]
        },
        {
         "marker": {
          "color": "black",
          "line": {
           "color": "Gray",
           "width": 2
          }
         },
         "mode": "markers",
         "name": "Feasible Trial",
         "showlegend": false,
         "type": "scatter",
         "x": [
          0.99,
          0.99,
          0.99,
          0.95,
          0.99,
          0.95,
          0.99,
          0.99,
          0.95,
          0.95,
          0.95,
          0.95,
          0.99,
          0.95,
          0.95,
          0.95,
          0.95,
          0.95,
          0.95,
          0.95,
          0.95,
          0.95,
          0.95,
          0.95,
          0.95,
          0.95,
          0.95,
          0.95,
          0.95,
          0.95
         ],
         "xaxis": "x51",
         "y": [
          "False",
          "True",
          "False",
          "True",
          "True",
          "False",
          "False",
          "True",
          "True",
          "False",
          "True",
          "True",
          "True",
          "True",
          "True",
          "True",
          "True",
          "True",
          "True",
          "True",
          "True",
          "True",
          "True",
          "True",
          "True",
          "True",
          "False",
          "True",
          "True",
          "False"
         ],
         "yaxis": "y51"
        },
        {
         "colorbar": {
          "title": {
           "text": "Objective Value"
          }
         },
         "colorscale": [
          [
           0,
           "rgb(247,251,255)"
          ],
          [
           0.125,
           "rgb(222,235,247)"
          ],
          [
           0.25,
           "rgb(198,219,239)"
          ],
          [
           0.375,
           "rgb(158,202,225)"
          ],
          [
           0.5,
           "rgb(107,174,214)"
          ],
          [
           0.625,
           "rgb(66,146,198)"
          ],
          [
           0.75,
           "rgb(33,113,181)"
          ],
          [
           0.875,
           "rgb(8,81,156)"
          ],
          [
           1,
           "rgb(8,48,107)"
          ]
         ],
         "connectgaps": true,
         "contours": {
          "coloring": "heatmap"
         },
         "hoverinfo": "none",
         "line": {
          "smoothing": 1.3
         },
         "reversescale": false,
         "showscale": false,
         "type": "contour",
         "x": [
          0.948,
          0.95,
          0.99,
          0.992
         ],
         "xaxis": "x59",
         "y": [
          0.475,
          0.5,
          0.8,
          1,
          1.025
         ],
         "yaxis": "y59",
         "z": [
          [
           null,
           null,
           null,
           null
          ],
          [
           null,
           -51312.146,
           -54100.452000000005,
           null
          ],
          [
           null,
           -148321.918,
           -53585.530000000006,
           null
          ],
          [
           null,
           -51026.018000000004,
           -54074.33200000001,
           null
          ],
          [
           null,
           null,
           null,
           null
          ]
         ]
        },
        {
         "marker": {
          "color": "black",
          "line": {
           "color": "Gray",
           "width": 2
          }
         },
         "mode": "markers",
         "name": "Feasible Trial",
         "showlegend": false,
         "type": "scatter",
         "x": [
          0.99,
          0.99,
          0.99,
          0.95,
          0.99,
          0.95,
          0.99,
          0.99,
          0.95,
          0.95,
          0.95,
          0.95,
          0.99,
          0.95,
          0.95,
          0.95,
          0.95,
          0.95,
          0.95,
          0.95,
          0.95,
          0.95,
          0.95,
          0.95,
          0.95,
          0.95,
          0.95,
          0.95,
          0.95,
          0.95
         ],
         "xaxis": "x59",
         "y": [
          1,
          1,
          0.8,
          0.8,
          0.8,
          0.5,
          0.5,
          0.8,
          0.5,
          0.8,
          0.5,
          0.5,
          0.8,
          0.5,
          0.5,
          0.5,
          0.5,
          0.5,
          1,
          0.5,
          0.5,
          0.5,
          0.5,
          0.5,
          0.5,
          1,
          1,
          1,
          1,
          1
         ],
         "yaxis": "y59"
        },
        {
         "colorbar": {
          "title": {
           "text": "Objective Value"
          }
         },
         "colorscale": [
          [
           0,
           "rgb(247,251,255)"
          ],
          [
           0.125,
           "rgb(222,235,247)"
          ],
          [
           0.25,
           "rgb(198,219,239)"
          ],
          [
           0.375,
           "rgb(158,202,225)"
          ],
          [
           0.5,
           "rgb(107,174,214)"
          ],
          [
           0.625,
           "rgb(66,146,198)"
          ],
          [
           0.75,
           "rgb(33,113,181)"
          ],
          [
           0.875,
           "rgb(8,81,156)"
          ],
          [
           1,
           "rgb(8,48,107)"
          ]
         ],
         "connectgaps": true,
         "contours": {
          "coloring": "heatmap"
         },
         "hoverinfo": "none",
         "line": {
          "smoothing": 1.3
         },
         "reversescale": false,
         "showscale": false,
         "type": "contour",
         "x": [
          0.000055,
          0.0001,
          0.0005,
          0.001,
          0.001045
         ],
         "xaxis": "x4",
         "y": [
          0.0055,
          0.01,
          0.05,
          0.1,
          0.10450000000000001
         ],
         "yaxis": "y4",
         "z": [
          [
           null,
           null,
           null,
           null,
           null
          ],
          [
           null,
           -53298.936,
           -55912.018000000004,
           -52973.64,
           null
          ],
          [
           null,
           -496387.61,
           -148321.918,
           -54074.33200000001,
           null
          ],
          [
           null,
           -51588.186,
           -51026.018000000004,
           -51312.146,
           null
          ],
          [
           null,
           null,
           null,
           null,
           null
          ]
         ]
        },
        {
         "marker": {
          "color": "black",
          "line": {
           "color": "Gray",
           "width": 2
          }
         },
         "mode": "markers",
         "name": "Feasible Trial",
         "showlegend": false,
         "type": "scatter",
         "x": [
          0.0001,
          0.001,
          0.0001,
          0.0005,
          0.001,
          0.0001,
          0.001,
          0.001,
          0.0001,
          0.0001,
          0.0005,
          0.001,
          0.0001,
          0.001,
          0.0005,
          0.001,
          0.0001,
          0.001,
          0.0001,
          0.0005,
          0.001,
          0.0005,
          0.0005,
          0.0005,
          0.0005,
          0.0005,
          0.0001,
          0.001,
          0.0001,
          0.0005
         ],
         "xaxis": "x4",
         "y": [
          0.01,
          0.05,
          0.05,
          0.05,
          0.01,
          0.1,
          0.05,
          0.01,
          0.01,
          0.1,
          0.01,
          0.01,
          0.01,
          0.01,
          0.01,
          0.01,
          0.1,
          0.1,
          0.1,
          0.1,
          0.1,
          0.1,
          0.1,
          0.1,
          0.1,
          0.1,
          0.1,
          0.1,
          0.1,
          0.1
         ],
         "yaxis": "y4"
        },
        {
         "colorbar": {
          "title": {
           "text": "Objective Value"
          }
         },
         "colorscale": [
          [
           0,
           "rgb(247,251,255)"
          ],
          [
           0.125,
           "rgb(222,235,247)"
          ],
          [
           0.25,
           "rgb(198,219,239)"
          ],
          [
           0.375,
           "rgb(158,202,225)"
          ],
          [
           0.5,
           "rgb(107,174,214)"
          ],
          [
           0.625,
           "rgb(66,146,198)"
          ],
          [
           0.75,
           "rgb(33,113,181)"
          ],
          [
           0.875,
           "rgb(8,81,156)"
          ],
          [
           1,
           "rgb(8,48,107)"
          ]
         ],
         "connectgaps": true,
         "contours": {
          "coloring": "heatmap"
         },
         "hoverinfo": "none",
         "line": {
          "smoothing": 1.3
         },
         "reversescale": false,
         "showscale": false,
         "type": "contour",
         "x": [
          0.000055,
          0.0001,
          0.0005,
          0.001,
          0.001045
         ],
         "xaxis": "x12",
         "y": [
          0.7905000000000001,
          0.8,
          0.9,
          0.95,
          0.99,
          0.9994999999999999
         ],
         "yaxis": "y12",
         "z": [
          [
           null,
           null,
           null,
           null,
           null
          ],
          [
           null,
           -15439279.933999997,
           -51706.758,
           -54059.202000000005,
           null
          ],
          [
           null,
           -162989.24,
           -148321.918,
           -54100.452000000005,
           null
          ],
          [
           null,
           -496387.61,
           null,
           -54074.33200000001,
           null
          ],
          [
           null,
           -51588.186,
           -51026.018000000004,
           -51312.146,
           null
          ],
          [
           null,
           null,
           null,
           null,
           null
          ]
         ]
        },
        {
         "marker": {
          "color": "black",
          "line": {
           "color": "Gray",
           "width": 2
          }
         },
         "mode": "markers",
         "name": "Feasible Trial",
         "showlegend": false,
         "type": "scatter",
         "x": [
          0.0001,
          0.001,
          0.0001,
          0.0005,
          0.001,
          0.0001,
          0.001,
          0.001,
          0.0001,
          0.0001,
          0.0005,
          0.001,
          0.0001,
          0.001,
          0.0005,
          0.001,
          0.0001,
          0.001,
          0.0001,
          0.0005,
          0.001,
          0.0005,
          0.0005,
          0.0005,
          0.0005,
          0.0005,
          0.0001,
          0.001,
          0.0001,
          0.0005
         ],
         "xaxis": "x12",
         "y": [
          0.8,
          0.95,
          0.95,
          0.9,
          0.99,
          0.9,
          0.9,
          0.95,
          0.99,
          0.9,
          0.99,
          0.99,
          0.99,
          0.99,
          0.99,
          0.8,
          0.99,
          0.99,
          0.99,
          0.8,
          0.99,
          0.8,
          0.8,
          0.8,
          0.8,
          0.99,
          0.99,
          0.99,
          0.99,
          0.99
         ],
         "yaxis": "y12"
        },
        {
         "colorbar": {
          "title": {
           "text": "Objective Value"
          }
         },
         "colorscale": [
          [
           0,
           "rgb(247,251,255)"
          ],
          [
           0.125,
           "rgb(222,235,247)"
          ],
          [
           0.25,
           "rgb(198,219,239)"
          ],
          [
           0.375,
           "rgb(158,202,225)"
          ],
          [
           0.5,
           "rgb(107,174,214)"
          ],
          [
           0.625,
           "rgb(66,146,198)"
          ],
          [
           0.75,
           "rgb(33,113,181)"
          ],
          [
           0.875,
           "rgb(8,81,156)"
          ],
          [
           1,
           "rgb(8,48,107)"
          ]
         ],
         "connectgaps": true,
         "contours": {
          "coloring": "heatmap"
         },
         "hoverinfo": "none",
         "line": {
          "smoothing": 1.3
         },
         "reversescale": false,
         "showscale": false,
         "type": "contour",
         "x": [
          0.000055,
          0.0001,
          0.0005,
          0.001,
          0.001045
         ],
         "xaxis": "x20",
         "y": [
          0.948,
          0.95,
          0.99,
          0.992
         ],
         "yaxis": "y20",
         "z": [
          [
           null,
           null,
           null,
           null,
           null
          ],
          [
           null,
           -51588.186,
           -51026.018000000004,
           -51312.146,
           null
          ],
          [
           null,
           -496387.61,
           null,
           -53585.530000000006,
           null
          ],
          [
           null,
           null,
           null,
           null,
           null
          ]
         ]
        },
        {
         "marker": {
          "color": "black",
          "line": {
           "color": "Gray",
           "width": 2
          }
         },
         "mode": "markers",
         "name": "Feasible Trial",
         "showlegend": false,
         "type": "scatter",
         "x": [
          0.0001,
          0.001,
          0.0001,
          0.0005,
          0.001,
          0.0001,
          0.001,
          0.001,
          0.0001,
          0.0001,
          0.0005,
          0.001,
          0.0001,
          0.001,
          0.0005,
          0.001,
          0.0001,
          0.001,
          0.0001,
          0.0005,
          0.001,
          0.0005,
          0.0005,
          0.0005,
          0.0005,
          0.0005,
          0.0001,
          0.001,
          0.0001,
          0.0005
         ],
         "xaxis": "x20",
         "y": [
          0.99,
          0.99,
          0.99,
          0.95,
          0.99,
          0.95,
          0.99,
          0.99,
          0.95,
          0.95,
          0.95,
          0.95,
          0.99,
          0.95,
          0.95,
          0.95,
          0.95,
          0.95,
          0.95,
          0.95,
          0.95,
          0.95,
          0.95,
          0.95,
          0.95,
          0.95,
          0.95,
          0.95,
          0.95,
          0.95
         ],
         "yaxis": "y20"
        },
        {
         "type": "scatter",
         "xaxis": "x28",
         "yaxis": "y28"
        },
        {
         "colorbar": {
          "title": {
           "text": "Objective Value"
          }
         },
         "colorscale": [
          [
           0,
           "rgb(247,251,255)"
          ],
          [
           0.125,
           "rgb(222,235,247)"
          ],
          [
           0.25,
           "rgb(198,219,239)"
          ],
          [
           0.375,
           "rgb(158,202,225)"
          ],
          [
           0.5,
           "rgb(107,174,214)"
          ],
          [
           0.625,
           "rgb(66,146,198)"
          ],
          [
           0.75,
           "rgb(33,113,181)"
          ],
          [
           0.875,
           "rgb(8,81,156)"
          ],
          [
           1,
           "rgb(8,48,107)"
          ]
         ],
         "connectgaps": true,
         "contours": {
          "coloring": "heatmap"
         },
         "hoverinfo": "none",
         "line": {
          "smoothing": 1.3
         },
         "reversescale": false,
         "showscale": false,
         "type": "contour",
         "x": [
          0.000055,
          0.0001,
          0.0005,
          0.001,
          0.001045
         ],
         "xaxis": "x36",
         "y": [
          0.475,
          0.5,
          1,
          1.025
         ],
         "yaxis": "y36",
         "z": [
          [
           null,
           null,
           null,
           null,
           null
          ],
          [
           null,
           -51588.186,
           -51026.018000000004,
           -51312.146,
           null
          ],
          [
           null,
           -496387.61,
           null,
           -53585.530000000006,
           null
          ],
          [
           null,
           null,
           null,
           null,
           null
          ]
         ]
        },
        {
         "marker": {
          "color": "black",
          "line": {
           "color": "Gray",
           "width": 2
          }
         },
         "mode": "markers",
         "name": "Feasible Trial",
         "showlegend": false,
         "type": "scatter",
         "x": [
          0.0001,
          0.001,
          0.0001,
          0.0005,
          0.001,
          0.0001,
          0.001,
          0.001,
          0.0001,
          0.0001,
          0.0005,
          0.001,
          0.0001,
          0.001,
          0.0005,
          0.001,
          0.0001,
          0.001,
          0.0001,
          0.0005,
          0.001,
          0.0005,
          0.0005,
          0.0005,
          0.0005,
          0.0005,
          0.0001,
          0.001,
          0.0001,
          0.0005
         ],
         "xaxis": "x36",
         "y": [
          1,
          1,
          1,
          0.5,
          1,
          1,
          0.5,
          1,
          0.5,
          0.5,
          0.5,
          0.5,
          1,
          0.5,
          0.5,
          0.5,
          0.5,
          0.5,
          0.5,
          0.5,
          0.5,
          0.5,
          0.5,
          0.5,
          0.5,
          0.5,
          0.5,
          0.5,
          0.5,
          0.5
         ],
         "yaxis": "y36"
        },
        {
         "colorbar": {
          "title": {
           "text": "Objective Value"
          }
         },
         "colorscale": [
          [
           0,
           "rgb(247,251,255)"
          ],
          [
           0.125,
           "rgb(222,235,247)"
          ],
          [
           0.25,
           "rgb(198,219,239)"
          ],
          [
           0.375,
           "rgb(158,202,225)"
          ],
          [
           0.5,
           "rgb(107,174,214)"
          ],
          [
           0.625,
           "rgb(66,146,198)"
          ],
          [
           0.75,
           "rgb(33,113,181)"
          ],
          [
           0.875,
           "rgb(8,81,156)"
          ],
          [
           1,
           "rgb(8,48,107)"
          ]
         ],
         "connectgaps": true,
         "contours": {
          "coloring": "heatmap"
         },
         "hoverinfo": "none",
         "line": {
          "smoothing": 1.3
         },
         "reversescale": false,
         "showscale": false,
         "type": "contour",
         "x": [
          0.000055,
          0.0001,
          0.0005,
          0.001,
          0.001045
         ],
         "xaxis": "x44",
         "y": [
          5.199999999999999,
          8,
          16,
          32,
          64,
          66.8
         ],
         "yaxis": "y44",
         "z": [
          [
           null,
           null,
           null,
           null,
           null
          ],
          [
           null,
           -981859.756,
           null,
           -55333.14400000001,
           null
          ],
          [
           null,
           -162989.24,
           -51706.758,
           null,
           null
          ],
          [
           null,
           -19615312.228,
           -148321.918,
           -53585.530000000006,
           null
          ],
          [
           null,
           -51588.186,
           -51026.018000000004,
           -51312.146,
           null
          ],
          [
           null,
           null,
           null,
           null,
           null
          ]
         ]
        },
        {
         "marker": {
          "color": "black",
          "line": {
           "color": "Gray",
           "width": 2
          }
         },
         "mode": "markers",
         "name": "Feasible Trial",
         "showlegend": false,
         "type": "scatter",
         "x": [
          0.0001,
          0.001,
          0.0001,
          0.0005,
          0.001,
          0.0001,
          0.001,
          0.001,
          0.0001,
          0.0001,
          0.0005,
          0.001,
          0.0001,
          0.001,
          0.0005,
          0.001,
          0.0001,
          0.001,
          0.0001,
          0.0005,
          0.001,
          0.0005,
          0.0005,
          0.0005,
          0.0005,
          0.0005,
          0.0001,
          0.001,
          0.0001,
          0.0005
         ],
         "xaxis": "x44",
         "y": [
          64,
          64,
          16,
          32,
          32,
          8,
          32,
          8,
          64,
          16,
          64,
          32,
          32,
          64,
          64,
          64,
          64,
          64,
          64,
          16,
          8,
          16,
          16,
          16,
          16,
          64,
          64,
          64,
          64,
          64
         ],
         "yaxis": "y44"
        },
        {
         "colorbar": {
          "title": {
           "text": "Objective Value"
          }
         },
         "colorscale": [
          [
           0,
           "rgb(247,251,255)"
          ],
          [
           0.125,
           "rgb(222,235,247)"
          ],
          [
           0.25,
           "rgb(198,219,239)"
          ],
          [
           0.375,
           "rgb(158,202,225)"
          ],
          [
           0.5,
           "rgb(107,174,214)"
          ],
          [
           0.625,
           "rgb(66,146,198)"
          ],
          [
           0.75,
           "rgb(33,113,181)"
          ],
          [
           0.875,
           "rgb(8,81,156)"
          ],
          [
           1,
           "rgb(8,48,107)"
          ]
         ],
         "connectgaps": true,
         "contours": {
          "coloring": "heatmap"
         },
         "hoverinfo": "none",
         "line": {
          "smoothing": 1.3
         },
         "reversescale": false,
         "showscale": false,
         "type": "contour",
         "x": [
          0.000055,
          0.0001,
          0.0005,
          0.001,
          0.001045
         ],
         "xaxis": "x52",
         "y": [
          "False",
          "True"
         ],
         "yaxis": "y52",
         "z": [
          [
           null,
           -54619.212,
           -801064.538,
           -54100.452000000005,
           null
          ],
          [
           null,
           -51588.186,
           -51026.018000000004,
           -51312.146,
           null
          ]
         ]
        },
        {
         "marker": {
          "color": "black",
          "line": {
           "color": "Gray",
           "width": 2
          }
         },
         "mode": "markers",
         "name": "Feasible Trial",
         "showlegend": false,
         "type": "scatter",
         "x": [
          0.0001,
          0.001,
          0.0001,
          0.0005,
          0.001,
          0.0001,
          0.001,
          0.001,
          0.0001,
          0.0001,
          0.0005,
          0.001,
          0.0001,
          0.001,
          0.0005,
          0.001,
          0.0001,
          0.001,
          0.0001,
          0.0005,
          0.001,
          0.0005,
          0.0005,
          0.0005,
          0.0005,
          0.0005,
          0.0001,
          0.001,
          0.0001,
          0.0005
         ],
         "xaxis": "x52",
         "y": [
          "False",
          "True",
          "False",
          "True",
          "True",
          "False",
          "False",
          "True",
          "True",
          "False",
          "True",
          "True",
          "True",
          "True",
          "True",
          "True",
          "True",
          "True",
          "True",
          "True",
          "True",
          "True",
          "True",
          "True",
          "True",
          "True",
          "False",
          "True",
          "True",
          "False"
         ],
         "yaxis": "y52"
        },
        {
         "colorbar": {
          "title": {
           "text": "Objective Value"
          }
         },
         "colorscale": [
          [
           0,
           "rgb(247,251,255)"
          ],
          [
           0.125,
           "rgb(222,235,247)"
          ],
          [
           0.25,
           "rgb(198,219,239)"
          ],
          [
           0.375,
           "rgb(158,202,225)"
          ],
          [
           0.5,
           "rgb(107,174,214)"
          ],
          [
           0.625,
           "rgb(66,146,198)"
          ],
          [
           0.75,
           "rgb(33,113,181)"
          ],
          [
           0.875,
           "rgb(8,81,156)"
          ],
          [
           1,
           "rgb(8,48,107)"
          ]
         ],
         "connectgaps": true,
         "contours": {
          "coloring": "heatmap"
         },
         "hoverinfo": "none",
         "line": {
          "smoothing": 1.3
         },
         "reversescale": false,
         "showscale": false,
         "type": "contour",
         "x": [
          0.000055,
          0.0001,
          0.0005,
          0.001,
          0.001045
         ],
         "xaxis": "x60",
         "y": [
          0.475,
          0.5,
          0.8,
          1,
          1.025
         ],
         "yaxis": "y60",
         "z": [
          [
           null,
           null,
           null,
           null,
           null
          ],
          [
           null,
           -51588.186,
           -51706.758,
           -51312.146,
           null
          ],
          [
           null,
           -162989.24,
           -148321.918,
           -53585.530000000006,
           null
          ],
          [
           null,
           -52911.588,
           -51026.018000000004,
           -54074.33200000001,
           null
          ],
          [
           null,
           null,
           null,
           null,
           null
          ]
         ]
        },
        {
         "marker": {
          "color": "black",
          "line": {
           "color": "Gray",
           "width": 2
          }
         },
         "mode": "markers",
         "name": "Feasible Trial",
         "showlegend": false,
         "type": "scatter",
         "x": [
          0.0001,
          0.001,
          0.0001,
          0.0005,
          0.001,
          0.0001,
          0.001,
          0.001,
          0.0001,
          0.0001,
          0.0005,
          0.001,
          0.0001,
          0.001,
          0.0005,
          0.001,
          0.0001,
          0.001,
          0.0001,
          0.0005,
          0.001,
          0.0005,
          0.0005,
          0.0005,
          0.0005,
          0.0005,
          0.0001,
          0.001,
          0.0001,
          0.0005
         ],
         "xaxis": "x60",
         "y": [
          1,
          1,
          0.8,
          0.8,
          0.8,
          0.5,
          0.5,
          0.8,
          0.5,
          0.8,
          0.5,
          0.5,
          0.8,
          0.5,
          0.5,
          0.5,
          0.5,
          0.5,
          1,
          0.5,
          0.5,
          0.5,
          0.5,
          0.5,
          0.5,
          1,
          1,
          1,
          1,
          1
         ],
         "yaxis": "y60"
        },
        {
         "colorbar": {
          "title": {
           "text": "Objective Value"
          }
         },
         "colorscale": [
          [
           0,
           "rgb(247,251,255)"
          ],
          [
           0.125,
           "rgb(222,235,247)"
          ],
          [
           0.25,
           "rgb(198,219,239)"
          ],
          [
           0.375,
           "rgb(158,202,225)"
          ],
          [
           0.5,
           "rgb(107,174,214)"
          ],
          [
           0.625,
           "rgb(66,146,198)"
          ],
          [
           0.75,
           "rgb(33,113,181)"
          ],
          [
           0.875,
           "rgb(8,81,156)"
          ],
          [
           1,
           "rgb(8,48,107)"
          ]
         ],
         "connectgaps": true,
         "contours": {
          "coloring": "heatmap"
         },
         "hoverinfo": "none",
         "line": {
          "smoothing": 1.3
         },
         "reversescale": false,
         "showscale": false,
         "type": "contour",
         "x": [
          0.475,
          0.5,
          1,
          1.025
         ],
         "xaxis": "x5",
         "y": [
          0.0055,
          0.01,
          0.05,
          0.1,
          0.10450000000000001
         ],
         "yaxis": "y5",
         "z": [
          [
           null,
           null,
           null,
           null
          ],
          [
           null,
           -52973.64,
           -53585.530000000006,
           null
          ],
          [
           null,
           -54100.452000000005,
           -54074.33200000001,
           null
          ],
          [
           null,
           -51026.018000000004,
           -981859.756,
           null
          ],
          [
           null,
           null,
           null,
           null
          ]
         ]
        },
        {
         "marker": {
          "color": "black",
          "line": {
           "color": "Gray",
           "width": 2
          }
         },
         "mode": "markers",
         "name": "Feasible Trial",
         "showlegend": false,
         "type": "scatter",
         "x": [
          1,
          1,
          1,
          0.5,
          1,
          1,
          0.5,
          1,
          0.5,
          0.5,
          0.5,
          0.5,
          1,
          0.5,
          0.5,
          0.5,
          0.5,
          0.5,
          0.5,
          0.5,
          0.5,
          0.5,
          0.5,
          0.5,
          0.5,
          0.5,
          0.5,
          0.5,
          0.5,
          0.5
         ],
         "xaxis": "x5",
         "y": [
          0.01,
          0.05,
          0.05,
          0.05,
          0.01,
          0.1,
          0.05,
          0.01,
          0.01,
          0.1,
          0.01,
          0.01,
          0.01,
          0.01,
          0.01,
          0.01,
          0.1,
          0.1,
          0.1,
          0.1,
          0.1,
          0.1,
          0.1,
          0.1,
          0.1,
          0.1,
          0.1,
          0.1,
          0.1,
          0.1
         ],
         "yaxis": "y5"
        },
        {
         "colorbar": {
          "title": {
           "text": "Objective Value"
          }
         },
         "colorscale": [
          [
           0,
           "rgb(247,251,255)"
          ],
          [
           0.125,
           "rgb(222,235,247)"
          ],
          [
           0.25,
           "rgb(198,219,239)"
          ],
          [
           0.375,
           "rgb(158,202,225)"
          ],
          [
           0.5,
           "rgb(107,174,214)"
          ],
          [
           0.625,
           "rgb(66,146,198)"
          ],
          [
           0.75,
           "rgb(33,113,181)"
          ],
          [
           0.875,
           "rgb(8,81,156)"
          ],
          [
           1,
           "rgb(8,48,107)"
          ]
         ],
         "connectgaps": true,
         "contours": {
          "coloring": "heatmap"
         },
         "hoverinfo": "none",
         "line": {
          "smoothing": 1.3
         },
         "reversescale": false,
         "showscale": false,
         "type": "contour",
         "x": [
          0.475,
          0.5,
          1,
          1.025
         ],
         "xaxis": "x13",
         "y": [
          0.7905000000000001,
          0.8,
          0.9,
          0.95,
          0.99,
          0.9994999999999999
         ],
         "yaxis": "y13",
         "z": [
          [
           null,
           null,
           null,
           null
          ],
          [
           null,
           -51706.758,
           -15439279.933999997,
           null
          ],
          [
           null,
           -54100.452000000005,
           -981859.756,
           null
          ],
          [
           null,
           null,
           -54074.33200000001,
           null
          ],
          [
           null,
           -51026.018000000004,
           -53585.530000000006,
           null
          ],
          [
           null,
           null,
           null,
           null
          ]
         ]
        },
        {
         "marker": {
          "color": "black",
          "line": {
           "color": "Gray",
           "width": 2
          }
         },
         "mode": "markers",
         "name": "Feasible Trial",
         "showlegend": false,
         "type": "scatter",
         "x": [
          1,
          1,
          1,
          0.5,
          1,
          1,
          0.5,
          1,
          0.5,
          0.5,
          0.5,
          0.5,
          1,
          0.5,
          0.5,
          0.5,
          0.5,
          0.5,
          0.5,
          0.5,
          0.5,
          0.5,
          0.5,
          0.5,
          0.5,
          0.5,
          0.5,
          0.5,
          0.5,
          0.5
         ],
         "xaxis": "x13",
         "y": [
          0.8,
          0.95,
          0.95,
          0.9,
          0.99,
          0.9,
          0.9,
          0.95,
          0.99,
          0.9,
          0.99,
          0.99,
          0.99,
          0.99,
          0.99,
          0.8,
          0.99,
          0.99,
          0.99,
          0.8,
          0.99,
          0.8,
          0.8,
          0.8,
          0.8,
          0.99,
          0.99,
          0.99,
          0.99,
          0.99
         ],
         "yaxis": "y13"
        },
        {
         "colorbar": {
          "title": {
           "text": "Objective Value"
          }
         },
         "colorscale": [
          [
           0,
           "rgb(247,251,255)"
          ],
          [
           0.125,
           "rgb(222,235,247)"
          ],
          [
           0.25,
           "rgb(198,219,239)"
          ],
          [
           0.375,
           "rgb(158,202,225)"
          ],
          [
           0.5,
           "rgb(107,174,214)"
          ],
          [
           0.625,
           "rgb(66,146,198)"
          ],
          [
           0.75,
           "rgb(33,113,181)"
          ],
          [
           0.875,
           "rgb(8,81,156)"
          ],
          [
           1,
           "rgb(8,48,107)"
          ]
         ],
         "connectgaps": true,
         "contours": {
          "coloring": "heatmap"
         },
         "hoverinfo": "none",
         "line": {
          "smoothing": 1.3
         },
         "reversescale": false,
         "showscale": false,
         "type": "contour",
         "x": [
          0.475,
          0.5,
          1,
          1.025
         ],
         "xaxis": "x21",
         "y": [
          0.948,
          0.95,
          0.99,
          0.992
         ],
         "yaxis": "y21",
         "z": [
          [
           null,
           null,
           null,
           null
          ],
          [
           null,
           -51026.018000000004,
           -981859.756,
           null
          ],
          [
           null,
           -54100.452000000005,
           -53585.530000000006,
           null
          ],
          [
           null,
           null,
           null,
           null
          ]
         ]
        },
        {
         "marker": {
          "color": "black",
          "line": {
           "color": "Gray",
           "width": 2
          }
         },
         "mode": "markers",
         "name": "Feasible Trial",
         "showlegend": false,
         "type": "scatter",
         "x": [
          1,
          1,
          1,
          0.5,
          1,
          1,
          0.5,
          1,
          0.5,
          0.5,
          0.5,
          0.5,
          1,
          0.5,
          0.5,
          0.5,
          0.5,
          0.5,
          0.5,
          0.5,
          0.5,
          0.5,
          0.5,
          0.5,
          0.5,
          0.5,
          0.5,
          0.5,
          0.5,
          0.5
         ],
         "xaxis": "x21",
         "y": [
          0.99,
          0.99,
          0.99,
          0.95,
          0.99,
          0.95,
          0.99,
          0.99,
          0.95,
          0.95,
          0.95,
          0.95,
          0.99,
          0.95,
          0.95,
          0.95,
          0.95,
          0.95,
          0.95,
          0.95,
          0.95,
          0.95,
          0.95,
          0.95,
          0.95,
          0.95,
          0.95,
          0.95,
          0.95,
          0.95
         ],
         "yaxis": "y21"
        },
        {
         "colorbar": {
          "title": {
           "text": "Objective Value"
          }
         },
         "colorscale": [
          [
           0,
           "rgb(247,251,255)"
          ],
          [
           0.125,
           "rgb(222,235,247)"
          ],
          [
           0.25,
           "rgb(198,219,239)"
          ],
          [
           0.375,
           "rgb(158,202,225)"
          ],
          [
           0.5,
           "rgb(107,174,214)"
          ],
          [
           0.625,
           "rgb(66,146,198)"
          ],
          [
           0.75,
           "rgb(33,113,181)"
          ],
          [
           0.875,
           "rgb(8,81,156)"
          ],
          [
           1,
           "rgb(8,48,107)"
          ]
         ],
         "connectgaps": true,
         "contours": {
          "coloring": "heatmap"
         },
         "hoverinfo": "none",
         "line": {
          "smoothing": 1.3
         },
         "reversescale": false,
         "showscale": false,
         "type": "contour",
         "x": [
          0.475,
          0.5,
          1,
          1.025
         ],
         "xaxis": "x29",
         "y": [
          0.000055,
          0.0001,
          0.0005,
          0.001,
          0.001045
         ],
         "yaxis": "y29",
         "z": [
          [
           null,
           null,
           null,
           null
          ],
          [
           null,
           -51588.186,
           -496387.61,
           null
          ],
          [
           null,
           -51026.018000000004,
           null,
           null
          ],
          [
           null,
           -51312.146,
           -53585.530000000006,
           null
          ],
          [
           null,
           null,
           null,
           null
          ]
         ]
        },
        {
         "marker": {
          "color": "black",
          "line": {
           "color": "Gray",
           "width": 2
          }
         },
         "mode": "markers",
         "name": "Feasible Trial",
         "showlegend": false,
         "type": "scatter",
         "x": [
          1,
          1,
          1,
          0.5,
          1,
          1,
          0.5,
          1,
          0.5,
          0.5,
          0.5,
          0.5,
          1,
          0.5,
          0.5,
          0.5,
          0.5,
          0.5,
          0.5,
          0.5,
          0.5,
          0.5,
          0.5,
          0.5,
          0.5,
          0.5,
          0.5,
          0.5,
          0.5,
          0.5
         ],
         "xaxis": "x29",
         "y": [
          0.0001,
          0.001,
          0.0001,
          0.0005,
          0.001,
          0.0001,
          0.001,
          0.001,
          0.0001,
          0.0001,
          0.0005,
          0.001,
          0.0001,
          0.001,
          0.0005,
          0.001,
          0.0001,
          0.001,
          0.0001,
          0.0005,
          0.001,
          0.0005,
          0.0005,
          0.0005,
          0.0005,
          0.0005,
          0.0001,
          0.001,
          0.0001,
          0.0005
         ],
         "yaxis": "y29"
        },
        {
         "type": "scatter",
         "xaxis": "x37",
         "yaxis": "y37"
        },
        {
         "colorbar": {
          "title": {
           "text": "Objective Value"
          }
         },
         "colorscale": [
          [
           0,
           "rgb(247,251,255)"
          ],
          [
           0.125,
           "rgb(222,235,247)"
          ],
          [
           0.25,
           "rgb(198,219,239)"
          ],
          [
           0.375,
           "rgb(158,202,225)"
          ],
          [
           0.5,
           "rgb(107,174,214)"
          ],
          [
           0.625,
           "rgb(66,146,198)"
          ],
          [
           0.75,
           "rgb(33,113,181)"
          ],
          [
           0.875,
           "rgb(8,81,156)"
          ],
          [
           1,
           "rgb(8,48,107)"
          ]
         ],
         "connectgaps": true,
         "contours": {
          "coloring": "heatmap"
         },
         "hoverinfo": "none",
         "line": {
          "smoothing": 1.3
         },
         "reversescale": false,
         "showscale": false,
         "type": "contour",
         "x": [
          0.475,
          0.5,
          1,
          1.025
         ],
         "xaxis": "x45",
         "y": [
          5.199999999999999,
          8,
          16,
          32,
          64,
          66.8
         ],
         "yaxis": "y45",
         "z": [
          [
           null,
           null,
           null,
           null
          ],
          [
           null,
           -14030727.930000002,
           -55333.14400000001,
           null
          ],
          [
           null,
           -51706.758,
           -496387.61,
           null
          ],
          [
           null,
           -54100.452000000005,
           -53585.530000000006,
           null
          ],
          [
           null,
           -51026.018000000004,
           -54074.33200000001,
           null
          ],
          [
           null,
           null,
           null,
           null
          ]
         ]
        },
        {
         "marker": {
          "color": "black",
          "line": {
           "color": "Gray",
           "width": 2
          }
         },
         "mode": "markers",
         "name": "Feasible Trial",
         "showlegend": false,
         "type": "scatter",
         "x": [
          1,
          1,
          1,
          0.5,
          1,
          1,
          0.5,
          1,
          0.5,
          0.5,
          0.5,
          0.5,
          1,
          0.5,
          0.5,
          0.5,
          0.5,
          0.5,
          0.5,
          0.5,
          0.5,
          0.5,
          0.5,
          0.5,
          0.5,
          0.5,
          0.5,
          0.5,
          0.5,
          0.5
         ],
         "xaxis": "x45",
         "y": [
          64,
          64,
          16,
          32,
          32,
          8,
          32,
          8,
          64,
          16,
          64,
          32,
          32,
          64,
          64,
          64,
          64,
          64,
          64,
          16,
          8,
          16,
          16,
          16,
          16,
          64,
          64,
          64,
          64,
          64
         ],
         "yaxis": "y45"
        },
        {
         "colorbar": {
          "title": {
           "text": "Objective Value"
          }
         },
         "colorscale": [
          [
           0,
           "rgb(247,251,255)"
          ],
          [
           0.125,
           "rgb(222,235,247)"
          ],
          [
           0.25,
           "rgb(198,219,239)"
          ],
          [
           0.375,
           "rgb(158,202,225)"
          ],
          [
           0.5,
           "rgb(107,174,214)"
          ],
          [
           0.625,
           "rgb(66,146,198)"
          ],
          [
           0.75,
           "rgb(33,113,181)"
          ],
          [
           0.875,
           "rgb(8,81,156)"
          ],
          [
           1,
           "rgb(8,48,107)"
          ]
         ],
         "connectgaps": true,
         "contours": {
          "coloring": "heatmap"
         },
         "hoverinfo": "none",
         "line": {
          "smoothing": 1.3
         },
         "reversescale": false,
         "showscale": false,
         "type": "contour",
         "x": [
          0.475,
          0.5,
          1,
          1.025
         ],
         "xaxis": "x53",
         "y": [
          "False",
          "True"
         ],
         "yaxis": "y53",
         "z": [
          [
           null,
           -54100.452000000005,
           -496387.61,
           null
          ],
          [
           null,
           -51026.018000000004,
           -53585.530000000006,
           null
          ]
         ]
        },
        {
         "marker": {
          "color": "black",
          "line": {
           "color": "Gray",
           "width": 2
          }
         },
         "mode": "markers",
         "name": "Feasible Trial",
         "showlegend": false,
         "type": "scatter",
         "x": [
          1,
          1,
          1,
          0.5,
          1,
          1,
          0.5,
          1,
          0.5,
          0.5,
          0.5,
          0.5,
          1,
          0.5,
          0.5,
          0.5,
          0.5,
          0.5,
          0.5,
          0.5,
          0.5,
          0.5,
          0.5,
          0.5,
          0.5,
          0.5,
          0.5,
          0.5,
          0.5,
          0.5
         ],
         "xaxis": "x53",
         "y": [
          "False",
          "True",
          "False",
          "True",
          "True",
          "False",
          "False",
          "True",
          "True",
          "False",
          "True",
          "True",
          "True",
          "True",
          "True",
          "True",
          "True",
          "True",
          "True",
          "True",
          "True",
          "True",
          "True",
          "True",
          "True",
          "True",
          "False",
          "True",
          "True",
          "False"
         ],
         "yaxis": "y53"
        },
        {
         "colorbar": {
          "title": {
           "text": "Objective Value"
          }
         },
         "colorscale": [
          [
           0,
           "rgb(247,251,255)"
          ],
          [
           0.125,
           "rgb(222,235,247)"
          ],
          [
           0.25,
           "rgb(198,219,239)"
          ],
          [
           0.375,
           "rgb(158,202,225)"
          ],
          [
           0.5,
           "rgb(107,174,214)"
          ],
          [
           0.625,
           "rgb(66,146,198)"
          ],
          [
           0.75,
           "rgb(33,113,181)"
          ],
          [
           0.875,
           "rgb(8,81,156)"
          ],
          [
           1,
           "rgb(8,48,107)"
          ]
         ],
         "connectgaps": true,
         "contours": {
          "coloring": "heatmap"
         },
         "hoverinfo": "none",
         "line": {
          "smoothing": 1.3
         },
         "reversescale": false,
         "showscale": false,
         "type": "contour",
         "x": [
          0.475,
          0.5,
          1,
          1.025
         ],
         "xaxis": "x61",
         "y": [
          0.475,
          0.5,
          0.8,
          1,
          1.025
         ],
         "yaxis": "y61",
         "z": [
          [
           null,
           null,
           null,
           null
          ],
          [
           null,
           -51312.146,
           -981859.756,
           null
          ],
          [
           null,
           -148321.918,
           -53585.530000000006,
           null
          ],
          [
           null,
           -51026.018000000004,
           -54074.33200000001,
           null
          ],
          [
           null,
           null,
           null,
           null
          ]
         ]
        },
        {
         "marker": {
          "color": "black",
          "line": {
           "color": "Gray",
           "width": 2
          }
         },
         "mode": "markers",
         "name": "Feasible Trial",
         "showlegend": false,
         "type": "scatter",
         "x": [
          1,
          1,
          1,
          0.5,
          1,
          1,
          0.5,
          1,
          0.5,
          0.5,
          0.5,
          0.5,
          1,
          0.5,
          0.5,
          0.5,
          0.5,
          0.5,
          0.5,
          0.5,
          0.5,
          0.5,
          0.5,
          0.5,
          0.5,
          0.5,
          0.5,
          0.5,
          0.5,
          0.5
         ],
         "xaxis": "x61",
         "y": [
          1,
          1,
          0.8,
          0.8,
          0.8,
          0.5,
          0.5,
          0.8,
          0.5,
          0.8,
          0.5,
          0.5,
          0.8,
          0.5,
          0.5,
          0.5,
          0.5,
          0.5,
          1,
          0.5,
          0.5,
          0.5,
          0.5,
          0.5,
          0.5,
          1,
          1,
          1,
          1,
          1
         ],
         "yaxis": "y61"
        },
        {
         "colorbar": {
          "title": {
           "text": "Objective Value"
          }
         },
         "colorscale": [
          [
           0,
           "rgb(247,251,255)"
          ],
          [
           0.125,
           "rgb(222,235,247)"
          ],
          [
           0.25,
           "rgb(198,219,239)"
          ],
          [
           0.375,
           "rgb(158,202,225)"
          ],
          [
           0.5,
           "rgb(107,174,214)"
          ],
          [
           0.625,
           "rgb(66,146,198)"
          ],
          [
           0.75,
           "rgb(33,113,181)"
          ],
          [
           0.875,
           "rgb(8,81,156)"
          ],
          [
           1,
           "rgb(8,48,107)"
          ]
         ],
         "connectgaps": true,
         "contours": {
          "coloring": "heatmap"
         },
         "hoverinfo": "none",
         "line": {
          "smoothing": 1.3
         },
         "reversescale": false,
         "showscale": false,
         "type": "contour",
         "x": [
          5.199999999999999,
          8,
          16,
          32,
          64,
          66.8
         ],
         "xaxis": "x6",
         "y": [
          0.0055,
          0.01,
          0.05,
          0.1,
          0.10450000000000001
         ],
         "yaxis": "y6",
         "z": [
          [
           null,
           null,
           null,
           null,
           null,
           null
          ],
          [
           null,
           -55333.14400000001,
           null,
           -53585.530000000006,
           -52973.64,
           null
          ],
          [
           null,
           null,
           -496387.61,
           -54100.452000000005,
           -54074.33200000001,
           null
          ],
          [
           null,
           -981859.756,
           -51706.758,
           null,
           -51026.018000000004,
           null
          ],
          [
           null,
           null,
           null,
           null,
           null,
           null
          ]
         ]
        },
        {
         "marker": {
          "color": "black",
          "line": {
           "color": "Gray",
           "width": 2
          }
         },
         "mode": "markers",
         "name": "Feasible Trial",
         "showlegend": false,
         "type": "scatter",
         "x": [
          64,
          64,
          16,
          32,
          32,
          8,
          32,
          8,
          64,
          16,
          64,
          32,
          32,
          64,
          64,
          64,
          64,
          64,
          64,
          16,
          8,
          16,
          16,
          16,
          16,
          64,
          64,
          64,
          64,
          64
         ],
         "xaxis": "x6",
         "y": [
          0.01,
          0.05,
          0.05,
          0.05,
          0.01,
          0.1,
          0.05,
          0.01,
          0.01,
          0.1,
          0.01,
          0.01,
          0.01,
          0.01,
          0.01,
          0.01,
          0.1,
          0.1,
          0.1,
          0.1,
          0.1,
          0.1,
          0.1,
          0.1,
          0.1,
          0.1,
          0.1,
          0.1,
          0.1,
          0.1
         ],
         "yaxis": "y6"
        },
        {
         "colorbar": {
          "title": {
           "text": "Objective Value"
          }
         },
         "colorscale": [
          [
           0,
           "rgb(247,251,255)"
          ],
          [
           0.125,
           "rgb(222,235,247)"
          ],
          [
           0.25,
           "rgb(198,219,239)"
          ],
          [
           0.375,
           "rgb(158,202,225)"
          ],
          [
           0.5,
           "rgb(107,174,214)"
          ],
          [
           0.625,
           "rgb(66,146,198)"
          ],
          [
           0.75,
           "rgb(33,113,181)"
          ],
          [
           0.875,
           "rgb(8,81,156)"
          ],
          [
           1,
           "rgb(8,48,107)"
          ]
         ],
         "connectgaps": true,
         "contours": {
          "coloring": "heatmap"
         },
         "hoverinfo": "none",
         "line": {
          "smoothing": 1.3
         },
         "reversescale": false,
         "showscale": false,
         "type": "contour",
         "x": [
          5.199999999999999,
          8,
          16,
          32,
          64,
          66.8
         ],
         "xaxis": "x14",
         "y": [
          0.7905000000000001,
          0.8,
          0.9,
          0.95,
          0.99,
          0.9994999999999999
         ],
         "yaxis": "y14",
         "z": [
          [
           null,
           null,
           null,
           null,
           null,
           null
          ],
          [
           null,
           null,
           -51706.758,
           null,
           -54059.202000000005,
           null
          ],
          [
           null,
           -981859.756,
           -162989.24,
           -54100.452000000005,
           null,
           null
          ],
          [
           null,
           -55333.14400000001,
           -496387.61,
           null,
           -54074.33200000001,
           null
          ],
          [
           null,
           -14030727.930000002,
           null,
           -53585.530000000006,
           -51026.018000000004,
           null
          ],
          [
           null,
           null,
           null,
           null,
           null,
           null
          ]
         ]
        },
        {
         "marker": {
          "color": "black",
          "line": {
           "color": "Gray",
           "width": 2
          }
         },
         "mode": "markers",
         "name": "Feasible Trial",
         "showlegend": false,
         "type": "scatter",
         "x": [
          64,
          64,
          16,
          32,
          32,
          8,
          32,
          8,
          64,
          16,
          64,
          32,
          32,
          64,
          64,
          64,
          64,
          64,
          64,
          16,
          8,
          16,
          16,
          16,
          16,
          64,
          64,
          64,
          64,
          64
         ],
         "xaxis": "x14",
         "y": [
          0.8,
          0.95,
          0.95,
          0.9,
          0.99,
          0.9,
          0.9,
          0.95,
          0.99,
          0.9,
          0.99,
          0.99,
          0.99,
          0.99,
          0.99,
          0.8,
          0.99,
          0.99,
          0.99,
          0.8,
          0.99,
          0.8,
          0.8,
          0.8,
          0.8,
          0.99,
          0.99,
          0.99,
          0.99,
          0.99
         ],
         "yaxis": "y14"
        },
        {
         "colorbar": {
          "title": {
           "text": "Objective Value"
          }
         },
         "colorscale": [
          [
           0,
           "rgb(247,251,255)"
          ],
          [
           0.125,
           "rgb(222,235,247)"
          ],
          [
           0.25,
           "rgb(198,219,239)"
          ],
          [
           0.375,
           "rgb(158,202,225)"
          ],
          [
           0.5,
           "rgb(107,174,214)"
          ],
          [
           0.625,
           "rgb(66,146,198)"
          ],
          [
           0.75,
           "rgb(33,113,181)"
          ],
          [
           0.875,
           "rgb(8,81,156)"
          ],
          [
           1,
           "rgb(8,48,107)"
          ]
         ],
         "connectgaps": true,
         "contours": {
          "coloring": "heatmap"
         },
         "hoverinfo": "none",
         "line": {
          "smoothing": 1.3
         },
         "reversescale": false,
         "showscale": false,
         "type": "contour",
         "x": [
          5.199999999999999,
          8,
          16,
          32,
          64,
          66.8
         ],
         "xaxis": "x22",
         "y": [
          0.948,
          0.95,
          0.99,
          0.992
         ],
         "yaxis": "y22",
         "z": [
          [
           null,
           null,
           null,
           null,
           null,
           null
          ],
          [
           null,
           -981859.756,
           -51706.758,
           -54710.79400000001,
           -51026.018000000004,
           null
          ],
          [
           null,
           -55333.14400000001,
           -496387.61,
           -53585.530000000006,
           -54074.33200000001,
           null
          ],
          [
           null,
           null,
           null,
           null,
           null,
           null
          ]
         ]
        },
        {
         "marker": {
          "color": "black",
          "line": {
           "color": "Gray",
           "width": 2
          }
         },
         "mode": "markers",
         "name": "Feasible Trial",
         "showlegend": false,
         "type": "scatter",
         "x": [
          64,
          64,
          16,
          32,
          32,
          8,
          32,
          8,
          64,
          16,
          64,
          32,
          32,
          64,
          64,
          64,
          64,
          64,
          64,
          16,
          8,
          16,
          16,
          16,
          16,
          64,
          64,
          64,
          64,
          64
         ],
         "xaxis": "x22",
         "y": [
          0.99,
          0.99,
          0.99,
          0.95,
          0.99,
          0.95,
          0.99,
          0.99,
          0.95,
          0.95,
          0.95,
          0.95,
          0.99,
          0.95,
          0.95,
          0.95,
          0.95,
          0.95,
          0.95,
          0.95,
          0.95,
          0.95,
          0.95,
          0.95,
          0.95,
          0.95,
          0.95,
          0.95,
          0.95,
          0.95
         ],
         "yaxis": "y22"
        },
        {
         "colorbar": {
          "title": {
           "text": "Objective Value"
          }
         },
         "colorscale": [
          [
           0,
           "rgb(247,251,255)"
          ],
          [
           0.125,
           "rgb(222,235,247)"
          ],
          [
           0.25,
           "rgb(198,219,239)"
          ],
          [
           0.375,
           "rgb(158,202,225)"
          ],
          [
           0.5,
           "rgb(107,174,214)"
          ],
          [
           0.625,
           "rgb(66,146,198)"
          ],
          [
           0.75,
           "rgb(33,113,181)"
          ],
          [
           0.875,
           "rgb(8,81,156)"
          ],
          [
           1,
           "rgb(8,48,107)"
          ]
         ],
         "connectgaps": true,
         "contours": {
          "coloring": "heatmap"
         },
         "hoverinfo": "none",
         "line": {
          "smoothing": 1.3
         },
         "reversescale": false,
         "showscale": false,
         "type": "contour",
         "x": [
          5.199999999999999,
          8,
          16,
          32,
          64,
          66.8
         ],
         "xaxis": "x30",
         "y": [
          0.000055,
          0.0001,
          0.0005,
          0.001,
          0.001045
         ],
         "yaxis": "y30",
         "z": [
          [
           null,
           null,
           null,
           null,
           null,
           null
          ],
          [
           null,
           -981859.756,
           -162989.24,
           -19615312.228,
           -51588.186,
           null
          ],
          [
           null,
           null,
           -51706.758,
           -148321.918,
           -51026.018000000004,
           null
          ],
          [
           null,
           -55333.14400000001,
           null,
           -53585.530000000006,
           -51312.146,
           null
          ],
          [
           null,
           null,
           null,
           null,
           null,
           null
          ]
         ]
        },
        {
         "marker": {
          "color": "black",
          "line": {
           "color": "Gray",
           "width": 2
          }
         },
         "mode": "markers",
         "name": "Feasible Trial",
         "showlegend": false,
         "type": "scatter",
         "x": [
          64,
          64,
          16,
          32,
          32,
          8,
          32,
          8,
          64,
          16,
          64,
          32,
          32,
          64,
          64,
          64,
          64,
          64,
          64,
          16,
          8,
          16,
          16,
          16,
          16,
          64,
          64,
          64,
          64,
          64
         ],
         "xaxis": "x30",
         "y": [
          0.0001,
          0.001,
          0.0001,
          0.0005,
          0.001,
          0.0001,
          0.001,
          0.001,
          0.0001,
          0.0001,
          0.0005,
          0.001,
          0.0001,
          0.001,
          0.0005,
          0.001,
          0.0001,
          0.001,
          0.0001,
          0.0005,
          0.001,
          0.0005,
          0.0005,
          0.0005,
          0.0005,
          0.0005,
          0.0001,
          0.001,
          0.0001,
          0.0005
         ],
         "yaxis": "y30"
        },
        {
         "colorbar": {
          "title": {
           "text": "Objective Value"
          }
         },
         "colorscale": [
          [
           0,
           "rgb(247,251,255)"
          ],
          [
           0.125,
           "rgb(222,235,247)"
          ],
          [
           0.25,
           "rgb(198,219,239)"
          ],
          [
           0.375,
           "rgb(158,202,225)"
          ],
          [
           0.5,
           "rgb(107,174,214)"
          ],
          [
           0.625,
           "rgb(66,146,198)"
          ],
          [
           0.75,
           "rgb(33,113,181)"
          ],
          [
           0.875,
           "rgb(8,81,156)"
          ],
          [
           1,
           "rgb(8,48,107)"
          ]
         ],
         "connectgaps": true,
         "contours": {
          "coloring": "heatmap"
         },
         "hoverinfo": "none",
         "line": {
          "smoothing": 1.3
         },
         "reversescale": false,
         "showscale": false,
         "type": "contour",
         "x": [
          5.199999999999999,
          8,
          16,
          32,
          64,
          66.8
         ],
         "xaxis": "x38",
         "y": [
          0.475,
          0.5,
          1,
          1.025
         ],
         "yaxis": "y38",
         "z": [
          [
           null,
           null,
           null,
           null,
           null,
           null
          ],
          [
           null,
           -14030727.930000002,
           -51706.758,
           -54100.452000000005,
           -51026.018000000004,
           null
          ],
          [
           null,
           -55333.14400000001,
           -496387.61,
           -53585.530000000006,
           -54074.33200000001,
           null
          ],
          [
           null,
           null,
           null,
           null,
           null,
           null
          ]
         ]
        },
        {
         "marker": {
          "color": "black",
          "line": {
           "color": "Gray",
           "width": 2
          }
         },
         "mode": "markers",
         "name": "Feasible Trial",
         "showlegend": false,
         "type": "scatter",
         "x": [
          64,
          64,
          16,
          32,
          32,
          8,
          32,
          8,
          64,
          16,
          64,
          32,
          32,
          64,
          64,
          64,
          64,
          64,
          64,
          16,
          8,
          16,
          16,
          16,
          16,
          64,
          64,
          64,
          64,
          64
         ],
         "xaxis": "x38",
         "y": [
          1,
          1,
          1,
          0.5,
          1,
          1,
          0.5,
          1,
          0.5,
          0.5,
          0.5,
          0.5,
          1,
          0.5,
          0.5,
          0.5,
          0.5,
          0.5,
          0.5,
          0.5,
          0.5,
          0.5,
          0.5,
          0.5,
          0.5,
          0.5,
          0.5,
          0.5,
          0.5,
          0.5
         ],
         "yaxis": "y38"
        },
        {
         "type": "scatter",
         "xaxis": "x46",
         "yaxis": "y46"
        },
        {
         "colorbar": {
          "title": {
           "text": "Objective Value"
          }
         },
         "colorscale": [
          [
           0,
           "rgb(247,251,255)"
          ],
          [
           0.125,
           "rgb(222,235,247)"
          ],
          [
           0.25,
           "rgb(198,219,239)"
          ],
          [
           0.375,
           "rgb(158,202,225)"
          ],
          [
           0.5,
           "rgb(107,174,214)"
          ],
          [
           0.625,
           "rgb(66,146,198)"
          ],
          [
           0.75,
           "rgb(33,113,181)"
          ],
          [
           0.875,
           "rgb(8,81,156)"
          ],
          [
           1,
           "rgb(8,48,107)"
          ]
         ],
         "connectgaps": true,
         "contours": {
          "coloring": "heatmap"
         },
         "hoverinfo": "none",
         "line": {
          "smoothing": 1.3
         },
         "reversescale": false,
         "showscale": false,
         "type": "contour",
         "x": [
          5.199999999999999,
          8,
          16,
          32,
          64,
          66.8
         ],
         "xaxis": "x54",
         "y": [
          "False",
          "True"
         ],
         "yaxis": "y54",
         "z": [
          [
           null,
           -981859.756,
           -162989.24,
           -54100.452000000005,
           -54619.212,
           null
          ],
          [
           null,
           -55333.14400000001,
           -51706.758,
           -53585.530000000006,
           -51026.018000000004,
           null
          ]
         ]
        },
        {
         "marker": {
          "color": "black",
          "line": {
           "color": "Gray",
           "width": 2
          }
         },
         "mode": "markers",
         "name": "Feasible Trial",
         "showlegend": false,
         "type": "scatter",
         "x": [
          64,
          64,
          16,
          32,
          32,
          8,
          32,
          8,
          64,
          16,
          64,
          32,
          32,
          64,
          64,
          64,
          64,
          64,
          64,
          16,
          8,
          16,
          16,
          16,
          16,
          64,
          64,
          64,
          64,
          64
         ],
         "xaxis": "x54",
         "y": [
          "False",
          "True",
          "False",
          "True",
          "True",
          "False",
          "False",
          "True",
          "True",
          "False",
          "True",
          "True",
          "True",
          "True",
          "True",
          "True",
          "True",
          "True",
          "True",
          "True",
          "True",
          "True",
          "True",
          "True",
          "True",
          "True",
          "False",
          "True",
          "True",
          "False"
         ],
         "yaxis": "y54"
        },
        {
         "colorbar": {
          "title": {
           "text": "Objective Value"
          }
         },
         "colorscale": [
          [
           0,
           "rgb(247,251,255)"
          ],
          [
           0.125,
           "rgb(222,235,247)"
          ],
          [
           0.25,
           "rgb(198,219,239)"
          ],
          [
           0.375,
           "rgb(158,202,225)"
          ],
          [
           0.5,
           "rgb(107,174,214)"
          ],
          [
           0.625,
           "rgb(66,146,198)"
          ],
          [
           0.75,
           "rgb(33,113,181)"
          ],
          [
           0.875,
           "rgb(8,81,156)"
          ],
          [
           1,
           "rgb(8,48,107)"
          ]
         ],
         "connectgaps": true,
         "contours": {
          "coloring": "heatmap"
         },
         "hoverinfo": "none",
         "line": {
          "smoothing": 1.3
         },
         "reversescale": false,
         "showscale": false,
         "type": "contour",
         "x": [
          5.199999999999999,
          8,
          16,
          32,
          64,
          66.8
         ],
         "xaxis": "x62",
         "y": [
          0.475,
          0.5,
          0.8,
          1,
          1.025
         ],
         "yaxis": "y62",
         "z": [
          [
           null,
           null,
           null,
           null,
           null,
           null
          ],
          [
           null,
           -981859.756,
           -51706.758,
           -54100.452000000005,
           -51312.146,
           null
          ],
          [
           null,
           -55333.14400000001,
           -162989.24,
           -53585.530000000006,
           null,
           null
          ],
          [
           null,
           null,
           null,
           null,
           -51026.018000000004,
           null
          ],
          [
           null,
           null,
           null,
           null,
           null,
           null
          ]
         ]
        },
        {
         "marker": {
          "color": "black",
          "line": {
           "color": "Gray",
           "width": 2
          }
         },
         "mode": "markers",
         "name": "Feasible Trial",
         "showlegend": false,
         "type": "scatter",
         "x": [
          64,
          64,
          16,
          32,
          32,
          8,
          32,
          8,
          64,
          16,
          64,
          32,
          32,
          64,
          64,
          64,
          64,
          64,
          64,
          16,
          8,
          16,
          16,
          16,
          16,
          64,
          64,
          64,
          64,
          64
         ],
         "xaxis": "x62",
         "y": [
          1,
          1,
          0.8,
          0.8,
          0.8,
          0.5,
          0.5,
          0.8,
          0.5,
          0.8,
          0.5,
          0.5,
          0.8,
          0.5,
          0.5,
          0.5,
          0.5,
          0.5,
          1,
          0.5,
          0.5,
          0.5,
          0.5,
          0.5,
          0.5,
          1,
          1,
          1,
          1,
          1
         ],
         "yaxis": "y62"
        },
        {
         "colorbar": {
          "title": {
           "text": "Objective Value"
          }
         },
         "colorscale": [
          [
           0,
           "rgb(247,251,255)"
          ],
          [
           0.125,
           "rgb(222,235,247)"
          ],
          [
           0.25,
           "rgb(198,219,239)"
          ],
          [
           0.375,
           "rgb(158,202,225)"
          ],
          [
           0.5,
           "rgb(107,174,214)"
          ],
          [
           0.625,
           "rgb(66,146,198)"
          ],
          [
           0.75,
           "rgb(33,113,181)"
          ],
          [
           0.875,
           "rgb(8,81,156)"
          ],
          [
           1,
           "rgb(8,48,107)"
          ]
         ],
         "connectgaps": true,
         "contours": {
          "coloring": "heatmap"
         },
         "hoverinfo": "none",
         "line": {
          "smoothing": 1.3
         },
         "reversescale": false,
         "showscale": false,
         "type": "contour",
         "x": [
          "False",
          "True"
         ],
         "xaxis": "x7",
         "y": [
          0.0055,
          0.01,
          0.05,
          0.1,
          0.10450000000000001
         ],
         "yaxis": "y7",
         "z": [
          [
           null,
           null
          ],
          [
           -15439279.933999997,
           -52973.64
          ],
          [
           -54100.452000000005,
           -54074.33200000001
          ],
          [
           -54619.212,
           -51026.018000000004
          ],
          [
           null,
           null
          ]
         ]
        },
        {
         "marker": {
          "color": "black",
          "line": {
           "color": "Gray",
           "width": 2
          }
         },
         "mode": "markers",
         "name": "Feasible Trial",
         "showlegend": false,
         "type": "scatter",
         "x": [
          "False",
          "True",
          "False",
          "True",
          "True",
          "False",
          "False",
          "True",
          "True",
          "False",
          "True",
          "True",
          "True",
          "True",
          "True",
          "True",
          "True",
          "True",
          "True",
          "True",
          "True",
          "True",
          "True",
          "True",
          "True",
          "True",
          "False",
          "True",
          "True",
          "False"
         ],
         "xaxis": "x7",
         "y": [
          0.01,
          0.05,
          0.05,
          0.05,
          0.01,
          0.1,
          0.05,
          0.01,
          0.01,
          0.1,
          0.01,
          0.01,
          0.01,
          0.01,
          0.01,
          0.01,
          0.1,
          0.1,
          0.1,
          0.1,
          0.1,
          0.1,
          0.1,
          0.1,
          0.1,
          0.1,
          0.1,
          0.1,
          0.1,
          0.1
         ],
         "yaxis": "y7"
        },
        {
         "colorbar": {
          "title": {
           "text": "Objective Value"
          }
         },
         "colorscale": [
          [
           0,
           "rgb(247,251,255)"
          ],
          [
           0.125,
           "rgb(222,235,247)"
          ],
          [
           0.25,
           "rgb(198,219,239)"
          ],
          [
           0.375,
           "rgb(158,202,225)"
          ],
          [
           0.5,
           "rgb(107,174,214)"
          ],
          [
           0.625,
           "rgb(66,146,198)"
          ],
          [
           0.75,
           "rgb(33,113,181)"
          ],
          [
           0.875,
           "rgb(8,81,156)"
          ],
          [
           1,
           "rgb(8,48,107)"
          ]
         ],
         "connectgaps": true,
         "contours": {
          "coloring": "heatmap"
         },
         "hoverinfo": "none",
         "line": {
          "smoothing": 1.3
         },
         "reversescale": false,
         "showscale": false,
         "type": "contour",
         "x": [
          "False",
          "True"
         ],
         "xaxis": "x15",
         "y": [
          0.7905000000000001,
          0.8,
          0.9,
          0.95,
          0.99,
          0.9994999999999999
         ],
         "yaxis": "y15",
         "z": [
          [
           null,
           null
          ],
          [
           -15439279.933999997,
           -51706.758
          ],
          [
           -54100.452000000005,
           -148321.918
          ],
          [
           -496387.61,
           -54074.33200000001
          ],
          [
           -54619.212,
           -51026.018000000004
          ],
          [
           null,
           null
          ]
         ]
        },
        {
         "marker": {
          "color": "black",
          "line": {
           "color": "Gray",
           "width": 2
          }
         },
         "mode": "markers",
         "name": "Feasible Trial",
         "showlegend": false,
         "type": "scatter",
         "x": [
          "False",
          "True",
          "False",
          "True",
          "True",
          "False",
          "False",
          "True",
          "True",
          "False",
          "True",
          "True",
          "True",
          "True",
          "True",
          "True",
          "True",
          "True",
          "True",
          "True",
          "True",
          "True",
          "True",
          "True",
          "True",
          "True",
          "False",
          "True",
          "True",
          "False"
         ],
         "xaxis": "x15",
         "y": [
          0.8,
          0.95,
          0.95,
          0.9,
          0.99,
          0.9,
          0.9,
          0.95,
          0.99,
          0.9,
          0.99,
          0.99,
          0.99,
          0.99,
          0.99,
          0.8,
          0.99,
          0.99,
          0.99,
          0.8,
          0.99,
          0.8,
          0.8,
          0.8,
          0.8,
          0.99,
          0.99,
          0.99,
          0.99,
          0.99
         ],
         "yaxis": "y15"
        },
        {
         "colorbar": {
          "title": {
           "text": "Objective Value"
          }
         },
         "colorscale": [
          [
           0,
           "rgb(247,251,255)"
          ],
          [
           0.125,
           "rgb(222,235,247)"
          ],
          [
           0.25,
           "rgb(198,219,239)"
          ],
          [
           0.375,
           "rgb(158,202,225)"
          ],
          [
           0.5,
           "rgb(107,174,214)"
          ],
          [
           0.625,
           "rgb(66,146,198)"
          ],
          [
           0.75,
           "rgb(33,113,181)"
          ],
          [
           0.875,
           "rgb(8,81,156)"
          ],
          [
           1,
           "rgb(8,48,107)"
          ]
         ],
         "connectgaps": true,
         "contours": {
          "coloring": "heatmap"
         },
         "hoverinfo": "none",
         "line": {
          "smoothing": 1.3
         },
         "reversescale": false,
         "showscale": false,
         "type": "contour",
         "x": [
          "False",
          "True"
         ],
         "xaxis": "x23",
         "y": [
          0.948,
          0.95,
          0.99,
          0.992
         ],
         "yaxis": "y23",
         "z": [
          [
           null,
           null
          ],
          [
           -54619.212,
           -51026.018000000004
          ],
          [
           -54100.452000000005,
           -53585.530000000006
          ],
          [
           null,
           null
          ]
         ]
        },
        {
         "marker": {
          "color": "black",
          "line": {
           "color": "Gray",
           "width": 2
          }
         },
         "mode": "markers",
         "name": "Feasible Trial",
         "showlegend": false,
         "type": "scatter",
         "x": [
          "False",
          "True",
          "False",
          "True",
          "True",
          "False",
          "False",
          "True",
          "True",
          "False",
          "True",
          "True",
          "True",
          "True",
          "True",
          "True",
          "True",
          "True",
          "True",
          "True",
          "True",
          "True",
          "True",
          "True",
          "True",
          "True",
          "False",
          "True",
          "True",
          "False"
         ],
         "xaxis": "x23",
         "y": [
          0.99,
          0.99,
          0.99,
          0.95,
          0.99,
          0.95,
          0.99,
          0.99,
          0.95,
          0.95,
          0.95,
          0.95,
          0.99,
          0.95,
          0.95,
          0.95,
          0.95,
          0.95,
          0.95,
          0.95,
          0.95,
          0.95,
          0.95,
          0.95,
          0.95,
          0.95,
          0.95,
          0.95,
          0.95,
          0.95
         ],
         "yaxis": "y23"
        },
        {
         "colorbar": {
          "title": {
           "text": "Objective Value"
          }
         },
         "colorscale": [
          [
           0,
           "rgb(247,251,255)"
          ],
          [
           0.125,
           "rgb(222,235,247)"
          ],
          [
           0.25,
           "rgb(198,219,239)"
          ],
          [
           0.375,
           "rgb(158,202,225)"
          ],
          [
           0.5,
           "rgb(107,174,214)"
          ],
          [
           0.625,
           "rgb(66,146,198)"
          ],
          [
           0.75,
           "rgb(33,113,181)"
          ],
          [
           0.875,
           "rgb(8,81,156)"
          ],
          [
           1,
           "rgb(8,48,107)"
          ]
         ],
         "connectgaps": true,
         "contours": {
          "coloring": "heatmap"
         },
         "hoverinfo": "none",
         "line": {
          "smoothing": 1.3
         },
         "reversescale": false,
         "showscale": false,
         "type": "contour",
         "x": [
          "False",
          "True"
         ],
         "xaxis": "x31",
         "y": [
          0.000055,
          0.0001,
          0.0005,
          0.001,
          0.001045
         ],
         "yaxis": "y31",
         "z": [
          [
           null,
           null
          ],
          [
           -54619.212,
           -51588.186
          ],
          [
           -801064.538,
           -51026.018000000004
          ],
          [
           -54100.452000000005,
           -51312.146
          ],
          [
           null,
           null
          ]
         ]
        },
        {
         "marker": {
          "color": "black",
          "line": {
           "color": "Gray",
           "width": 2
          }
         },
         "mode": "markers",
         "name": "Feasible Trial",
         "showlegend": false,
         "type": "scatter",
         "x": [
          "False",
          "True",
          "False",
          "True",
          "True",
          "False",
          "False",
          "True",
          "True",
          "False",
          "True",
          "True",
          "True",
          "True",
          "True",
          "True",
          "True",
          "True",
          "True",
          "True",
          "True",
          "True",
          "True",
          "True",
          "True",
          "True",
          "False",
          "True",
          "True",
          "False"
         ],
         "xaxis": "x31",
         "y": [
          0.0001,
          0.001,
          0.0001,
          0.0005,
          0.001,
          0.0001,
          0.001,
          0.001,
          0.0001,
          0.0001,
          0.0005,
          0.001,
          0.0001,
          0.001,
          0.0005,
          0.001,
          0.0001,
          0.001,
          0.0001,
          0.0005,
          0.001,
          0.0005,
          0.0005,
          0.0005,
          0.0005,
          0.0005,
          0.0001,
          0.001,
          0.0001,
          0.0005
         ],
         "yaxis": "y31"
        },
        {
         "colorbar": {
          "title": {
           "text": "Objective Value"
          }
         },
         "colorscale": [
          [
           0,
           "rgb(247,251,255)"
          ],
          [
           0.125,
           "rgb(222,235,247)"
          ],
          [
           0.25,
           "rgb(198,219,239)"
          ],
          [
           0.375,
           "rgb(158,202,225)"
          ],
          [
           0.5,
           "rgb(107,174,214)"
          ],
          [
           0.625,
           "rgb(66,146,198)"
          ],
          [
           0.75,
           "rgb(33,113,181)"
          ],
          [
           0.875,
           "rgb(8,81,156)"
          ],
          [
           1,
           "rgb(8,48,107)"
          ]
         ],
         "connectgaps": true,
         "contours": {
          "coloring": "heatmap"
         },
         "hoverinfo": "none",
         "line": {
          "smoothing": 1.3
         },
         "reversescale": false,
         "showscale": false,
         "type": "contour",
         "x": [
          "False",
          "True"
         ],
         "xaxis": "x39",
         "y": [
          0.475,
          0.5,
          1,
          1.025
         ],
         "yaxis": "y39",
         "z": [
          [
           null,
           null
          ],
          [
           -54100.452000000005,
           -51026.018000000004
          ],
          [
           -496387.61,
           -53585.530000000006
          ],
          [
           null,
           null
          ]
         ]
        },
        {
         "marker": {
          "color": "black",
          "line": {
           "color": "Gray",
           "width": 2
          }
         },
         "mode": "markers",
         "name": "Feasible Trial",
         "showlegend": false,
         "type": "scatter",
         "x": [
          "False",
          "True",
          "False",
          "True",
          "True",
          "False",
          "False",
          "True",
          "True",
          "False",
          "True",
          "True",
          "True",
          "True",
          "True",
          "True",
          "True",
          "True",
          "True",
          "True",
          "True",
          "True",
          "True",
          "True",
          "True",
          "True",
          "False",
          "True",
          "True",
          "False"
         ],
         "xaxis": "x39",
         "y": [
          1,
          1,
          1,
          0.5,
          1,
          1,
          0.5,
          1,
          0.5,
          0.5,
          0.5,
          0.5,
          1,
          0.5,
          0.5,
          0.5,
          0.5,
          0.5,
          0.5,
          0.5,
          0.5,
          0.5,
          0.5,
          0.5,
          0.5,
          0.5,
          0.5,
          0.5,
          0.5,
          0.5
         ],
         "yaxis": "y39"
        },
        {
         "colorbar": {
          "title": {
           "text": "Objective Value"
          }
         },
         "colorscale": [
          [
           0,
           "rgb(247,251,255)"
          ],
          [
           0.125,
           "rgb(222,235,247)"
          ],
          [
           0.25,
           "rgb(198,219,239)"
          ],
          [
           0.375,
           "rgb(158,202,225)"
          ],
          [
           0.5,
           "rgb(107,174,214)"
          ],
          [
           0.625,
           "rgb(66,146,198)"
          ],
          [
           0.75,
           "rgb(33,113,181)"
          ],
          [
           0.875,
           "rgb(8,81,156)"
          ],
          [
           1,
           "rgb(8,48,107)"
          ]
         ],
         "connectgaps": true,
         "contours": {
          "coloring": "heatmap"
         },
         "hoverinfo": "none",
         "line": {
          "smoothing": 1.3
         },
         "reversescale": false,
         "showscale": false,
         "type": "contour",
         "x": [
          "False",
          "True"
         ],
         "xaxis": "x47",
         "y": [
          5.199999999999999,
          8,
          16,
          32,
          64,
          66.8
         ],
         "yaxis": "y47",
         "z": [
          [
           null,
           null
          ],
          [
           -981859.756,
           -55333.14400000001
          ],
          [
           -162989.24,
           -51706.758
          ],
          [
           -54100.452000000005,
           -53585.530000000006
          ],
          [
           -54619.212,
           -51026.018000000004
          ],
          [
           null,
           null
          ]
         ]
        },
        {
         "marker": {
          "color": "black",
          "line": {
           "color": "Gray",
           "width": 2
          }
         },
         "mode": "markers",
         "name": "Feasible Trial",
         "showlegend": false,
         "type": "scatter",
         "x": [
          "False",
          "True",
          "False",
          "True",
          "True",
          "False",
          "False",
          "True",
          "True",
          "False",
          "True",
          "True",
          "True",
          "True",
          "True",
          "True",
          "True",
          "True",
          "True",
          "True",
          "True",
          "True",
          "True",
          "True",
          "True",
          "True",
          "False",
          "True",
          "True",
          "False"
         ],
         "xaxis": "x47",
         "y": [
          64,
          64,
          16,
          32,
          32,
          8,
          32,
          8,
          64,
          16,
          64,
          32,
          32,
          64,
          64,
          64,
          64,
          64,
          64,
          16,
          8,
          16,
          16,
          16,
          16,
          64,
          64,
          64,
          64,
          64
         ],
         "yaxis": "y47"
        },
        {
         "type": "scatter",
         "xaxis": "x55",
         "yaxis": "y55"
        },
        {
         "colorbar": {
          "title": {
           "text": "Objective Value"
          }
         },
         "colorscale": [
          [
           0,
           "rgb(247,251,255)"
          ],
          [
           0.125,
           "rgb(222,235,247)"
          ],
          [
           0.25,
           "rgb(198,219,239)"
          ],
          [
           0.375,
           "rgb(158,202,225)"
          ],
          [
           0.5,
           "rgb(107,174,214)"
          ],
          [
           0.625,
           "rgb(66,146,198)"
          ],
          [
           0.75,
           "rgb(33,113,181)"
          ],
          [
           0.875,
           "rgb(8,81,156)"
          ],
          [
           1,
           "rgb(8,48,107)"
          ]
         ],
         "connectgaps": true,
         "contours": {
          "coloring": "heatmap"
         },
         "hoverinfo": "none",
         "line": {
          "smoothing": 1.3
         },
         "reversescale": false,
         "showscale": false,
         "type": "contour",
         "x": [
          "False",
          "True"
         ],
         "xaxis": "x63",
         "y": [
          0.475,
          0.5,
          0.8,
          1,
          1.025
         ],
         "yaxis": "y63",
         "z": [
          [
           null,
           null
          ],
          [
           -54100.452000000005,
           -51312.146
          ],
          [
           -162989.24,
           -53585.530000000006
          ],
          [
           -54619.212,
           -51026.018000000004
          ],
          [
           null,
           null
          ]
         ]
        },
        {
         "marker": {
          "color": "black",
          "line": {
           "color": "Gray",
           "width": 2
          }
         },
         "mode": "markers",
         "name": "Feasible Trial",
         "showlegend": false,
         "type": "scatter",
         "x": [
          "False",
          "True",
          "False",
          "True",
          "True",
          "False",
          "False",
          "True",
          "True",
          "False",
          "True",
          "True",
          "True",
          "True",
          "True",
          "True",
          "True",
          "True",
          "True",
          "True",
          "True",
          "True",
          "True",
          "True",
          "True",
          "True",
          "False",
          "True",
          "True",
          "False"
         ],
         "xaxis": "x63",
         "y": [
          1,
          1,
          0.8,
          0.8,
          0.8,
          0.5,
          0.5,
          0.8,
          0.5,
          0.8,
          0.5,
          0.5,
          0.8,
          0.5,
          0.5,
          0.5,
          0.5,
          0.5,
          1,
          0.5,
          0.5,
          0.5,
          0.5,
          0.5,
          0.5,
          1,
          1,
          1,
          1,
          1
         ],
         "yaxis": "y63"
        },
        {
         "colorbar": {
          "title": {
           "text": "Objective Value"
          }
         },
         "colorscale": [
          [
           0,
           "rgb(247,251,255)"
          ],
          [
           0.125,
           "rgb(222,235,247)"
          ],
          [
           0.25,
           "rgb(198,219,239)"
          ],
          [
           0.375,
           "rgb(158,202,225)"
          ],
          [
           0.5,
           "rgb(107,174,214)"
          ],
          [
           0.625,
           "rgb(66,146,198)"
          ],
          [
           0.75,
           "rgb(33,113,181)"
          ],
          [
           0.875,
           "rgb(8,81,156)"
          ],
          [
           1,
           "rgb(8,48,107)"
          ]
         ],
         "connectgaps": true,
         "contours": {
          "coloring": "heatmap"
         },
         "hoverinfo": "none",
         "line": {
          "smoothing": 1.3
         },
         "reversescale": false,
         "showscale": false,
         "type": "contour",
         "x": [
          0.475,
          0.5,
          0.8,
          1,
          1.025
         ],
         "xaxis": "x8",
         "y": [
          0.0055,
          0.01,
          0.05,
          0.1,
          0.10450000000000001
         ],
         "yaxis": "y8",
         "z": [
          [
           null,
           null,
           null,
           null,
           null
          ],
          [
           null,
           -52973.64,
           -53585.530000000006,
           -15439279.933999997,
           null
          ],
          [
           null,
           -54100.452000000005,
           -148321.918,
           -54074.33200000001,
           null
          ],
          [
           null,
           -51312.146,
           -162989.24,
           -51026.018000000004,
           null
          ],
          [
           null,
           null,
           null,
           null,
           null
          ]
         ]
        },
        {
         "marker": {
          "color": "black",
          "line": {
           "color": "Gray",
           "width": 2
          }
         },
         "mode": "markers",
         "name": "Feasible Trial",
         "showlegend": false,
         "type": "scatter",
         "x": [
          1,
          1,
          0.8,
          0.8,
          0.8,
          0.5,
          0.5,
          0.8,
          0.5,
          0.8,
          0.5,
          0.5,
          0.8,
          0.5,
          0.5,
          0.5,
          0.5,
          0.5,
          1,
          0.5,
          0.5,
          0.5,
          0.5,
          0.5,
          0.5,
          1,
          1,
          1,
          1,
          1
         ],
         "xaxis": "x8",
         "y": [
          0.01,
          0.05,
          0.05,
          0.05,
          0.01,
          0.1,
          0.05,
          0.01,
          0.01,
          0.1,
          0.01,
          0.01,
          0.01,
          0.01,
          0.01,
          0.01,
          0.1,
          0.1,
          0.1,
          0.1,
          0.1,
          0.1,
          0.1,
          0.1,
          0.1,
          0.1,
          0.1,
          0.1,
          0.1,
          0.1
         ],
         "yaxis": "y8"
        },
        {
         "colorbar": {
          "title": {
           "text": "Objective Value"
          }
         },
         "colorscale": [
          [
           0,
           "rgb(247,251,255)"
          ],
          [
           0.125,
           "rgb(222,235,247)"
          ],
          [
           0.25,
           "rgb(198,219,239)"
          ],
          [
           0.375,
           "rgb(158,202,225)"
          ],
          [
           0.5,
           "rgb(107,174,214)"
          ],
          [
           0.625,
           "rgb(66,146,198)"
          ],
          [
           0.75,
           "rgb(33,113,181)"
          ],
          [
           0.875,
           "rgb(8,81,156)"
          ],
          [
           1,
           "rgb(8,48,107)"
          ]
         ],
         "connectgaps": true,
         "contours": {
          "coloring": "heatmap"
         },
         "hoverinfo": "none",
         "line": {
          "smoothing": 1.3
         },
         "reversescale": false,
         "showscale": false,
         "type": "contour",
         "x": [
          0.475,
          0.5,
          0.8,
          1,
          1.025
         ],
         "xaxis": "x16",
         "y": [
          0.7905000000000001,
          0.8,
          0.9,
          0.95,
          0.99,
          0.9994999999999999
         ],
         "yaxis": "y16",
         "z": [
          [
           null,
           null,
           null,
           null,
           null
          ],
          [
           null,
           -51706.758,
           null,
           -15439279.933999997,
           null
          ],
          [
           null,
           -54100.452000000005,
           -148321.918,
           null,
           null
          ],
          [
           null,
           null,
           -55333.14400000001,
           -54074.33200000001,
           null
          ],
          [
           null,
           -51312.146,
           -53585.530000000006,
           -51026.018000000004,
           null
          ],
          [
           null,
           null,
           null,
           null,
           null
          ]
         ]
        },
        {
         "marker": {
          "color": "black",
          "line": {
           "color": "Gray",
           "width": 2
          }
         },
         "mode": "markers",
         "name": "Feasible Trial",
         "showlegend": false,
         "type": "scatter",
         "x": [
          1,
          1,
          0.8,
          0.8,
          0.8,
          0.5,
          0.5,
          0.8,
          0.5,
          0.8,
          0.5,
          0.5,
          0.8,
          0.5,
          0.5,
          0.5,
          0.5,
          0.5,
          1,
          0.5,
          0.5,
          0.5,
          0.5,
          0.5,
          0.5,
          1,
          1,
          1,
          1,
          1
         ],
         "xaxis": "x16",
         "y": [
          0.8,
          0.95,
          0.95,
          0.9,
          0.99,
          0.9,
          0.9,
          0.95,
          0.99,
          0.9,
          0.99,
          0.99,
          0.99,
          0.99,
          0.99,
          0.8,
          0.99,
          0.99,
          0.99,
          0.8,
          0.99,
          0.8,
          0.8,
          0.8,
          0.8,
          0.99,
          0.99,
          0.99,
          0.99,
          0.99
         ],
         "yaxis": "y16"
        },
        {
         "colorbar": {
          "title": {
           "text": "Objective Value"
          }
         },
         "colorscale": [
          [
           0,
           "rgb(247,251,255)"
          ],
          [
           0.125,
           "rgb(222,235,247)"
          ],
          [
           0.25,
           "rgb(198,219,239)"
          ],
          [
           0.375,
           "rgb(158,202,225)"
          ],
          [
           0.5,
           "rgb(107,174,214)"
          ],
          [
           0.625,
           "rgb(66,146,198)"
          ],
          [
           0.75,
           "rgb(33,113,181)"
          ],
          [
           0.875,
           "rgb(8,81,156)"
          ],
          [
           1,
           "rgb(8,48,107)"
          ]
         ],
         "connectgaps": true,
         "contours": {
          "coloring": "heatmap"
         },
         "hoverinfo": "none",
         "line": {
          "smoothing": 1.3
         },
         "reversescale": false,
         "showscale": false,
         "type": "contour",
         "x": [
          0.475,
          0.5,
          0.8,
          1,
          1.025
         ],
         "xaxis": "x24",
         "y": [
          0.948,
          0.95,
          0.99,
          0.992
         ],
         "yaxis": "y24",
         "z": [
          [
           null,
           null,
           null,
           null,
           null
          ],
          [
           null,
           -51312.146,
           -148321.918,
           -51026.018000000004,
           null
          ],
          [
           null,
           -54100.452000000005,
           -53585.530000000006,
           -54074.33200000001,
           null
          ],
          [
           null,
           null,
           null,
           null,
           null
          ]
         ]
        },
        {
         "marker": {
          "color": "black",
          "line": {
           "color": "Gray",
           "width": 2
          }
         },
         "mode": "markers",
         "name": "Feasible Trial",
         "showlegend": false,
         "type": "scatter",
         "x": [
          1,
          1,
          0.8,
          0.8,
          0.8,
          0.5,
          0.5,
          0.8,
          0.5,
          0.8,
          0.5,
          0.5,
          0.8,
          0.5,
          0.5,
          0.5,
          0.5,
          0.5,
          1,
          0.5,
          0.5,
          0.5,
          0.5,
          0.5,
          0.5,
          1,
          1,
          1,
          1,
          1
         ],
         "xaxis": "x24",
         "y": [
          0.99,
          0.99,
          0.99,
          0.95,
          0.99,
          0.95,
          0.99,
          0.99,
          0.95,
          0.95,
          0.95,
          0.95,
          0.99,
          0.95,
          0.95,
          0.95,
          0.95,
          0.95,
          0.95,
          0.95,
          0.95,
          0.95,
          0.95,
          0.95,
          0.95,
          0.95,
          0.95,
          0.95,
          0.95,
          0.95
         ],
         "yaxis": "y24"
        },
        {
         "colorbar": {
          "title": {
           "text": "Objective Value"
          }
         },
         "colorscale": [
          [
           0,
           "rgb(247,251,255)"
          ],
          [
           0.125,
           "rgb(222,235,247)"
          ],
          [
           0.25,
           "rgb(198,219,239)"
          ],
          [
           0.375,
           "rgb(158,202,225)"
          ],
          [
           0.5,
           "rgb(107,174,214)"
          ],
          [
           0.625,
           "rgb(66,146,198)"
          ],
          [
           0.75,
           "rgb(33,113,181)"
          ],
          [
           0.875,
           "rgb(8,81,156)"
          ],
          [
           1,
           "rgb(8,48,107)"
          ]
         ],
         "connectgaps": true,
         "contours": {
          "coloring": "heatmap"
         },
         "hoverinfo": "none",
         "line": {
          "smoothing": 1.3
         },
         "reversescale": false,
         "showscale": false,
         "type": "contour",
         "x": [
          0.475,
          0.5,
          0.8,
          1,
          1.025
         ],
         "xaxis": "x32",
         "y": [
          0.000055,
          0.0001,
          0.0005,
          0.001,
          0.001045
         ],
         "yaxis": "y32",
         "z": [
          [
           null,
           null,
           null,
           null,
           null
          ],
          [
           null,
           -51588.186,
           -162989.24,
           -52911.588,
           null
          ],
          [
           null,
           -51706.758,
           -148321.918,
           -51026.018000000004,
           null
          ],
          [
           null,
           -51312.146,
           -53585.530000000006,
           -54074.33200000001,
           null
          ],
          [
           null,
           null,
           null,
           null,
           null
          ]
         ]
        },
        {
         "marker": {
          "color": "black",
          "line": {
           "color": "Gray",
           "width": 2
          }
         },
         "mode": "markers",
         "name": "Feasible Trial",
         "showlegend": false,
         "type": "scatter",
         "x": [
          1,
          1,
          0.8,
          0.8,
          0.8,
          0.5,
          0.5,
          0.8,
          0.5,
          0.8,
          0.5,
          0.5,
          0.8,
          0.5,
          0.5,
          0.5,
          0.5,
          0.5,
          1,
          0.5,
          0.5,
          0.5,
          0.5,
          0.5,
          0.5,
          1,
          1,
          1,
          1,
          1
         ],
         "xaxis": "x32",
         "y": [
          0.0001,
          0.001,
          0.0001,
          0.0005,
          0.001,
          0.0001,
          0.001,
          0.001,
          0.0001,
          0.0001,
          0.0005,
          0.001,
          0.0001,
          0.001,
          0.0005,
          0.001,
          0.0001,
          0.001,
          0.0001,
          0.0005,
          0.001,
          0.0005,
          0.0005,
          0.0005,
          0.0005,
          0.0005,
          0.0001,
          0.001,
          0.0001,
          0.0005
         ],
         "yaxis": "y32"
        },
        {
         "colorbar": {
          "title": {
           "text": "Objective Value"
          }
         },
         "colorscale": [
          [
           0,
           "rgb(247,251,255)"
          ],
          [
           0.125,
           "rgb(222,235,247)"
          ],
          [
           0.25,
           "rgb(198,219,239)"
          ],
          [
           0.375,
           "rgb(158,202,225)"
          ],
          [
           0.5,
           "rgb(107,174,214)"
          ],
          [
           0.625,
           "rgb(66,146,198)"
          ],
          [
           0.75,
           "rgb(33,113,181)"
          ],
          [
           0.875,
           "rgb(8,81,156)"
          ],
          [
           1,
           "rgb(8,48,107)"
          ]
         ],
         "connectgaps": true,
         "contours": {
          "coloring": "heatmap"
         },
         "hoverinfo": "none",
         "line": {
          "smoothing": 1.3
         },
         "reversescale": false,
         "showscale": false,
         "type": "contour",
         "x": [
          0.475,
          0.5,
          0.8,
          1,
          1.025
         ],
         "xaxis": "x40",
         "y": [
          0.475,
          0.5,
          1,
          1.025
         ],
         "yaxis": "y40",
         "z": [
          [
           null,
           null,
           null,
           null,
           null
          ],
          [
           null,
           -51312.146,
           -148321.918,
           -51026.018000000004,
           null
          ],
          [
           null,
           -981859.756,
           -53585.530000000006,
           -54074.33200000001,
           null
          ],
          [
           null,
           null,
           null,
           null,
           null
          ]
         ]
        },
        {
         "marker": {
          "color": "black",
          "line": {
           "color": "Gray",
           "width": 2
          }
         },
         "mode": "markers",
         "name": "Feasible Trial",
         "showlegend": false,
         "type": "scatter",
         "x": [
          1,
          1,
          0.8,
          0.8,
          0.8,
          0.5,
          0.5,
          0.8,
          0.5,
          0.8,
          0.5,
          0.5,
          0.8,
          0.5,
          0.5,
          0.5,
          0.5,
          0.5,
          1,
          0.5,
          0.5,
          0.5,
          0.5,
          0.5,
          0.5,
          1,
          1,
          1,
          1,
          1
         ],
         "xaxis": "x40",
         "y": [
          1,
          1,
          1,
          0.5,
          1,
          1,
          0.5,
          1,
          0.5,
          0.5,
          0.5,
          0.5,
          1,
          0.5,
          0.5,
          0.5,
          0.5,
          0.5,
          0.5,
          0.5,
          0.5,
          0.5,
          0.5,
          0.5,
          0.5,
          0.5,
          0.5,
          0.5,
          0.5,
          0.5
         ],
         "yaxis": "y40"
        },
        {
         "colorbar": {
          "title": {
           "text": "Objective Value"
          }
         },
         "colorscale": [
          [
           0,
           "rgb(247,251,255)"
          ],
          [
           0.125,
           "rgb(222,235,247)"
          ],
          [
           0.25,
           "rgb(198,219,239)"
          ],
          [
           0.375,
           "rgb(158,202,225)"
          ],
          [
           0.5,
           "rgb(107,174,214)"
          ],
          [
           0.625,
           "rgb(66,146,198)"
          ],
          [
           0.75,
           "rgb(33,113,181)"
          ],
          [
           0.875,
           "rgb(8,81,156)"
          ],
          [
           1,
           "rgb(8,48,107)"
          ]
         ],
         "connectgaps": true,
         "contours": {
          "coloring": "heatmap"
         },
         "hoverinfo": "none",
         "line": {
          "smoothing": 1.3
         },
         "reversescale": false,
         "showscale": false,
         "type": "contour",
         "x": [
          0.475,
          0.5,
          0.8,
          1,
          1.025
         ],
         "xaxis": "x48",
         "y": [
          5.199999999999999,
          8,
          16,
          32,
          64,
          66.8
         ],
         "yaxis": "y48",
         "z": [
          [
           null,
           null,
           null,
           null,
           null
          ],
          [
           null,
           -981859.756,
           -55333.14400000001,
           null,
           null
          ],
          [
           null,
           -51706.758,
           -162989.24,
           null,
           null
          ],
          [
           null,
           -54100.452000000005,
           -53585.530000000006,
           null,
           null
          ],
          [
           null,
           -51312.146,
           null,
           -51026.018000000004,
           null
          ],
          [
           null,
           null,
           null,
           null,
           null
          ]
         ]
        },
        {
         "marker": {
          "color": "black",
          "line": {
           "color": "Gray",
           "width": 2
          }
         },
         "mode": "markers",
         "name": "Feasible Trial",
         "showlegend": false,
         "type": "scatter",
         "x": [
          1,
          1,
          0.8,
          0.8,
          0.8,
          0.5,
          0.5,
          0.8,
          0.5,
          0.8,
          0.5,
          0.5,
          0.8,
          0.5,
          0.5,
          0.5,
          0.5,
          0.5,
          1,
          0.5,
          0.5,
          0.5,
          0.5,
          0.5,
          0.5,
          1,
          1,
          1,
          1,
          1
         ],
         "xaxis": "x48",
         "y": [
          64,
          64,
          16,
          32,
          32,
          8,
          32,
          8,
          64,
          16,
          64,
          32,
          32,
          64,
          64,
          64,
          64,
          64,
          64,
          16,
          8,
          16,
          16,
          16,
          16,
          64,
          64,
          64,
          64,
          64
         ],
         "yaxis": "y48"
        },
        {
         "colorbar": {
          "title": {
           "text": "Objective Value"
          }
         },
         "colorscale": [
          [
           0,
           "rgb(247,251,255)"
          ],
          [
           0.125,
           "rgb(222,235,247)"
          ],
          [
           0.25,
           "rgb(198,219,239)"
          ],
          [
           0.375,
           "rgb(158,202,225)"
          ],
          [
           0.5,
           "rgb(107,174,214)"
          ],
          [
           0.625,
           "rgb(66,146,198)"
          ],
          [
           0.75,
           "rgb(33,113,181)"
          ],
          [
           0.875,
           "rgb(8,81,156)"
          ],
          [
           1,
           "rgb(8,48,107)"
          ]
         ],
         "connectgaps": true,
         "contours": {
          "coloring": "heatmap"
         },
         "hoverinfo": "none",
         "line": {
          "smoothing": 1.3
         },
         "reversescale": false,
         "showscale": false,
         "type": "contour",
         "x": [
          0.475,
          0.5,
          0.8,
          1,
          1.025
         ],
         "xaxis": "x56",
         "y": [
          "False",
          "True"
         ],
         "yaxis": "y56",
         "z": [
          [
           null,
           -54100.452000000005,
           -162989.24,
           -54619.212,
           null
          ],
          [
           null,
           -51312.146,
           -53585.530000000006,
           -51026.018000000004,
           null
          ]
         ]
        },
        {
         "marker": {
          "color": "black",
          "line": {
           "color": "Gray",
           "width": 2
          }
         },
         "mode": "markers",
         "name": "Feasible Trial",
         "showlegend": false,
         "type": "scatter",
         "x": [
          1,
          1,
          0.8,
          0.8,
          0.8,
          0.5,
          0.5,
          0.8,
          0.5,
          0.8,
          0.5,
          0.5,
          0.8,
          0.5,
          0.5,
          0.5,
          0.5,
          0.5,
          1,
          0.5,
          0.5,
          0.5,
          0.5,
          0.5,
          0.5,
          1,
          1,
          1,
          1,
          1
         ],
         "xaxis": "x56",
         "y": [
          "False",
          "True",
          "False",
          "True",
          "True",
          "False",
          "False",
          "True",
          "True",
          "False",
          "True",
          "True",
          "True",
          "True",
          "True",
          "True",
          "True",
          "True",
          "True",
          "True",
          "True",
          "True",
          "True",
          "True",
          "True",
          "True",
          "False",
          "True",
          "True",
          "False"
         ],
         "yaxis": "y56"
        },
        {
         "type": "scatter",
         "xaxis": "x64",
         "yaxis": "y64"
        }
       ],
       "layout": {
        "template": {
         "data": {
          "bar": [
           {
            "error_x": {
             "color": "#2a3f5f"
            },
            "error_y": {
             "color": "#2a3f5f"
            },
            "marker": {
             "line": {
              "color": "#E5ECF6",
              "width": 0.5
             },
             "pattern": {
              "fillmode": "overlay",
              "size": 10,
              "solidity": 0.2
             }
            },
            "type": "bar"
           }
          ],
          "barpolar": [
           {
            "marker": {
             "line": {
              "color": "#E5ECF6",
              "width": 0.5
             },
             "pattern": {
              "fillmode": "overlay",
              "size": 10,
              "solidity": 0.2
             }
            },
            "type": "barpolar"
           }
          ],
          "carpet": [
           {
            "aaxis": {
             "endlinecolor": "#2a3f5f",
             "gridcolor": "white",
             "linecolor": "white",
             "minorgridcolor": "white",
             "startlinecolor": "#2a3f5f"
            },
            "baxis": {
             "endlinecolor": "#2a3f5f",
             "gridcolor": "white",
             "linecolor": "white",
             "minorgridcolor": "white",
             "startlinecolor": "#2a3f5f"
            },
            "type": "carpet"
           }
          ],
          "choropleth": [
           {
            "colorbar": {
             "outlinewidth": 0,
             "ticks": ""
            },
            "type": "choropleth"
           }
          ],
          "contour": [
           {
            "colorbar": {
             "outlinewidth": 0,
             "ticks": ""
            },
            "colorscale": [
             [
              0,
              "#0d0887"
             ],
             [
              0.1111111111111111,
              "#46039f"
             ],
             [
              0.2222222222222222,
              "#7201a8"
             ],
             [
              0.3333333333333333,
              "#9c179e"
             ],
             [
              0.4444444444444444,
              "#bd3786"
             ],
             [
              0.5555555555555556,
              "#d8576b"
             ],
             [
              0.6666666666666666,
              "#ed7953"
             ],
             [
              0.7777777777777778,
              "#fb9f3a"
             ],
             [
              0.8888888888888888,
              "#fdca26"
             ],
             [
              1,
              "#f0f921"
             ]
            ],
            "type": "contour"
           }
          ],
          "contourcarpet": [
           {
            "colorbar": {
             "outlinewidth": 0,
             "ticks": ""
            },
            "type": "contourcarpet"
           }
          ],
          "heatmap": [
           {
            "colorbar": {
             "outlinewidth": 0,
             "ticks": ""
            },
            "colorscale": [
             [
              0,
              "#0d0887"
             ],
             [
              0.1111111111111111,
              "#46039f"
             ],
             [
              0.2222222222222222,
              "#7201a8"
             ],
             [
              0.3333333333333333,
              "#9c179e"
             ],
             [
              0.4444444444444444,
              "#bd3786"
             ],
             [
              0.5555555555555556,
              "#d8576b"
             ],
             [
              0.6666666666666666,
              "#ed7953"
             ],
             [
              0.7777777777777778,
              "#fb9f3a"
             ],
             [
              0.8888888888888888,
              "#fdca26"
             ],
             [
              1,
              "#f0f921"
             ]
            ],
            "type": "heatmap"
           }
          ],
          "heatmapgl": [
           {
            "colorbar": {
             "outlinewidth": 0,
             "ticks": ""
            },
            "colorscale": [
             [
              0,
              "#0d0887"
             ],
             [
              0.1111111111111111,
              "#46039f"
             ],
             [
              0.2222222222222222,
              "#7201a8"
             ],
             [
              0.3333333333333333,
              "#9c179e"
             ],
             [
              0.4444444444444444,
              "#bd3786"
             ],
             [
              0.5555555555555556,
              "#d8576b"
             ],
             [
              0.6666666666666666,
              "#ed7953"
             ],
             [
              0.7777777777777778,
              "#fb9f3a"
             ],
             [
              0.8888888888888888,
              "#fdca26"
             ],
             [
              1,
              "#f0f921"
             ]
            ],
            "type": "heatmapgl"
           }
          ],
          "histogram": [
           {
            "marker": {
             "pattern": {
              "fillmode": "overlay",
              "size": 10,
              "solidity": 0.2
             }
            },
            "type": "histogram"
           }
          ],
          "histogram2d": [
           {
            "colorbar": {
             "outlinewidth": 0,
             "ticks": ""
            },
            "colorscale": [
             [
              0,
              "#0d0887"
             ],
             [
              0.1111111111111111,
              "#46039f"
             ],
             [
              0.2222222222222222,
              "#7201a8"
             ],
             [
              0.3333333333333333,
              "#9c179e"
             ],
             [
              0.4444444444444444,
              "#bd3786"
             ],
             [
              0.5555555555555556,
              "#d8576b"
             ],
             [
              0.6666666666666666,
              "#ed7953"
             ],
             [
              0.7777777777777778,
              "#fb9f3a"
             ],
             [
              0.8888888888888888,
              "#fdca26"
             ],
             [
              1,
              "#f0f921"
             ]
            ],
            "type": "histogram2d"
           }
          ],
          "histogram2dcontour": [
           {
            "colorbar": {
             "outlinewidth": 0,
             "ticks": ""
            },
            "colorscale": [
             [
              0,
              "#0d0887"
             ],
             [
              0.1111111111111111,
              "#46039f"
             ],
             [
              0.2222222222222222,
              "#7201a8"
             ],
             [
              0.3333333333333333,
              "#9c179e"
             ],
             [
              0.4444444444444444,
              "#bd3786"
             ],
             [
              0.5555555555555556,
              "#d8576b"
             ],
             [
              0.6666666666666666,
              "#ed7953"
             ],
             [
              0.7777777777777778,
              "#fb9f3a"
             ],
             [
              0.8888888888888888,
              "#fdca26"
             ],
             [
              1,
              "#f0f921"
             ]
            ],
            "type": "histogram2dcontour"
           }
          ],
          "mesh3d": [
           {
            "colorbar": {
             "outlinewidth": 0,
             "ticks": ""
            },
            "type": "mesh3d"
           }
          ],
          "parcoords": [
           {
            "line": {
             "colorbar": {
              "outlinewidth": 0,
              "ticks": ""
             }
            },
            "type": "parcoords"
           }
          ],
          "pie": [
           {
            "automargin": true,
            "type": "pie"
           }
          ],
          "scatter": [
           {
            "fillpattern": {
             "fillmode": "overlay",
             "size": 10,
             "solidity": 0.2
            },
            "type": "scatter"
           }
          ],
          "scatter3d": [
           {
            "line": {
             "colorbar": {
              "outlinewidth": 0,
              "ticks": ""
             }
            },
            "marker": {
             "colorbar": {
              "outlinewidth": 0,
              "ticks": ""
             }
            },
            "type": "scatter3d"
           }
          ],
          "scattercarpet": [
           {
            "marker": {
             "colorbar": {
              "outlinewidth": 0,
              "ticks": ""
             }
            },
            "type": "scattercarpet"
           }
          ],
          "scattergeo": [
           {
            "marker": {
             "colorbar": {
              "outlinewidth": 0,
              "ticks": ""
             }
            },
            "type": "scattergeo"
           }
          ],
          "scattergl": [
           {
            "marker": {
             "colorbar": {
              "outlinewidth": 0,
              "ticks": ""
             }
            },
            "type": "scattergl"
           }
          ],
          "scattermapbox": [
           {
            "marker": {
             "colorbar": {
              "outlinewidth": 0,
              "ticks": ""
             }
            },
            "type": "scattermapbox"
           }
          ],
          "scatterpolar": [
           {
            "marker": {
             "colorbar": {
              "outlinewidth": 0,
              "ticks": ""
             }
            },
            "type": "scatterpolar"
           }
          ],
          "scatterpolargl": [
           {
            "marker": {
             "colorbar": {
              "outlinewidth": 0,
              "ticks": ""
             }
            },
            "type": "scatterpolargl"
           }
          ],
          "scatterternary": [
           {
            "marker": {
             "colorbar": {
              "outlinewidth": 0,
              "ticks": ""
             }
            },
            "type": "scatterternary"
           }
          ],
          "surface": [
           {
            "colorbar": {
             "outlinewidth": 0,
             "ticks": ""
            },
            "colorscale": [
             [
              0,
              "#0d0887"
             ],
             [
              0.1111111111111111,
              "#46039f"
             ],
             [
              0.2222222222222222,
              "#7201a8"
             ],
             [
              0.3333333333333333,
              "#9c179e"
             ],
             [
              0.4444444444444444,
              "#bd3786"
             ],
             [
              0.5555555555555556,
              "#d8576b"
             ],
             [
              0.6666666666666666,
              "#ed7953"
             ],
             [
              0.7777777777777778,
              "#fb9f3a"
             ],
             [
              0.8888888888888888,
              "#fdca26"
             ],
             [
              1,
              "#f0f921"
             ]
            ],
            "type": "surface"
           }
          ],
          "table": [
           {
            "cells": {
             "fill": {
              "color": "#EBF0F8"
             },
             "line": {
              "color": "white"
             }
            },
            "header": {
             "fill": {
              "color": "#C8D4E3"
             },
             "line": {
              "color": "white"
             }
            },
            "type": "table"
           }
          ]
         },
         "layout": {
          "annotationdefaults": {
           "arrowcolor": "#2a3f5f",
           "arrowhead": 0,
           "arrowwidth": 1
          },
          "autotypenumbers": "strict",
          "coloraxis": {
           "colorbar": {
            "outlinewidth": 0,
            "ticks": ""
           }
          },
          "colorscale": {
           "diverging": [
            [
             0,
             "#8e0152"
            ],
            [
             0.1,
             "#c51b7d"
            ],
            [
             0.2,
             "#de77ae"
            ],
            [
             0.3,
             "#f1b6da"
            ],
            [
             0.4,
             "#fde0ef"
            ],
            [
             0.5,
             "#f7f7f7"
            ],
            [
             0.6,
             "#e6f5d0"
            ],
            [
             0.7,
             "#b8e186"
            ],
            [
             0.8,
             "#7fbc41"
            ],
            [
             0.9,
             "#4d9221"
            ],
            [
             1,
             "#276419"
            ]
           ],
           "sequential": [
            [
             0,
             "#0d0887"
            ],
            [
             0.1111111111111111,
             "#46039f"
            ],
            [
             0.2222222222222222,
             "#7201a8"
            ],
            [
             0.3333333333333333,
             "#9c179e"
            ],
            [
             0.4444444444444444,
             "#bd3786"
            ],
            [
             0.5555555555555556,
             "#d8576b"
            ],
            [
             0.6666666666666666,
             "#ed7953"
            ],
            [
             0.7777777777777778,
             "#fb9f3a"
            ],
            [
             0.8888888888888888,
             "#fdca26"
            ],
            [
             1,
             "#f0f921"
            ]
           ],
           "sequentialminus": [
            [
             0,
             "#0d0887"
            ],
            [
             0.1111111111111111,
             "#46039f"
            ],
            [
             0.2222222222222222,
             "#7201a8"
            ],
            [
             0.3333333333333333,
             "#9c179e"
            ],
            [
             0.4444444444444444,
             "#bd3786"
            ],
            [
             0.5555555555555556,
             "#d8576b"
            ],
            [
             0.6666666666666666,
             "#ed7953"
            ],
            [
             0.7777777777777778,
             "#fb9f3a"
            ],
            [
             0.8888888888888888,
             "#fdca26"
            ],
            [
             1,
             "#f0f921"
            ]
           ]
          },
          "colorway": [
           "#636efa",
           "#EF553B",
           "#00cc96",
           "#ab63fa",
           "#FFA15A",
           "#19d3f3",
           "#FF6692",
           "#B6E880",
           "#FF97FF",
           "#FECB52"
          ],
          "font": {
           "color": "#2a3f5f"
          },
          "geo": {
           "bgcolor": "white",
           "lakecolor": "white",
           "landcolor": "#E5ECF6",
           "showlakes": true,
           "showland": true,
           "subunitcolor": "white"
          },
          "hoverlabel": {
           "align": "left"
          },
          "hovermode": "closest",
          "mapbox": {
           "style": "light"
          },
          "paper_bgcolor": "white",
          "plot_bgcolor": "#E5ECF6",
          "polar": {
           "angularaxis": {
            "gridcolor": "white",
            "linecolor": "white",
            "ticks": ""
           },
           "bgcolor": "#E5ECF6",
           "radialaxis": {
            "gridcolor": "white",
            "linecolor": "white",
            "ticks": ""
           }
          },
          "scene": {
           "xaxis": {
            "backgroundcolor": "#E5ECF6",
            "gridcolor": "white",
            "gridwidth": 2,
            "linecolor": "white",
            "showbackground": true,
            "ticks": "",
            "zerolinecolor": "white"
           },
           "yaxis": {
            "backgroundcolor": "#E5ECF6",
            "gridcolor": "white",
            "gridwidth": 2,
            "linecolor": "white",
            "showbackground": true,
            "ticks": "",
            "zerolinecolor": "white"
           },
           "zaxis": {
            "backgroundcolor": "#E5ECF6",
            "gridcolor": "white",
            "gridwidth": 2,
            "linecolor": "white",
            "showbackground": true,
            "ticks": "",
            "zerolinecolor": "white"
           }
          },
          "shapedefaults": {
           "line": {
            "color": "#2a3f5f"
           }
          },
          "ternary": {
           "aaxis": {
            "gridcolor": "white",
            "linecolor": "white",
            "ticks": ""
           },
           "baxis": {
            "gridcolor": "white",
            "linecolor": "white",
            "ticks": ""
           },
           "bgcolor": "#E5ECF6",
           "caxis": {
            "gridcolor": "white",
            "linecolor": "white",
            "ticks": ""
           }
          },
          "title": {
           "x": 0.05
          },
          "xaxis": {
           "automargin": true,
           "gridcolor": "white",
           "linecolor": "white",
           "ticks": "",
           "title": {
            "standoff": 15
           },
           "zerolinecolor": "white",
           "zerolinewidth": 2
          },
          "yaxis": {
           "automargin": true,
           "gridcolor": "white",
           "linecolor": "white",
           "ticks": "",
           "title": {
            "standoff": 15
           },
           "zerolinecolor": "white",
           "zerolinewidth": 2
          }
         }
        },
        "title": {
         "text": "Contour Plot"
        },
        "xaxis": {
         "anchor": "y",
         "domain": [
          0,
          0.103125
         ],
         "matches": "x57",
         "range": [
          0.0055,
          0.10450000000000001
         ],
         "showticklabels": false
        },
        "xaxis10": {
         "anchor": "y10",
         "domain": [
          0.128125,
          0.23124999999999998
         ],
         "matches": "x58",
         "range": [
          0.7905000000000001,
          0.9994999999999999
         ],
         "showticklabels": false
        },
        "xaxis11": {
         "anchor": "y11",
         "domain": [
          0.25625,
          0.359375
         ],
         "matches": "x59",
         "range": [
          0.948,
          0.992
         ],
         "showticklabels": false
        },
        "xaxis12": {
         "anchor": "y12",
         "domain": [
          0.38437499999999997,
          0.48749999999999993
         ],
         "matches": "x60",
         "range": [
          0.000055,
          0.001045
         ],
         "showticklabels": false
        },
        "xaxis13": {
         "anchor": "y13",
         "domain": [
          0.5125,
          0.615625
         ],
         "matches": "x61",
         "range": [
          0.475,
          1.025
         ],
         "showticklabels": false
        },
        "xaxis14": {
         "anchor": "y14",
         "domain": [
          0.640625,
          0.74375
         ],
         "matches": "x62",
         "range": [
          5.199999999999999,
          66.8
         ],
         "showticklabels": false
        },
        "xaxis15": {
         "anchor": "y15",
         "domain": [
          0.7687499999999999,
          0.871875
         ],
         "matches": "x63",
         "range": [
          -0.05,
          1.05
         ],
         "showticklabels": false,
         "type": "category"
        },
        "xaxis16": {
         "anchor": "y16",
         "domain": [
          0.896875,
          1
         ],
         "matches": "x64",
         "range": [
          0.475,
          1.025
         ],
         "showticklabels": false
        },
        "xaxis17": {
         "anchor": "y17",
         "domain": [
          0,
          0.103125
         ],
         "matches": "x57",
         "range": [
          0.0055,
          0.10450000000000001
         ],
         "showticklabels": false
        },
        "xaxis18": {
         "anchor": "y18",
         "domain": [
          0.128125,
          0.23124999999999998
         ],
         "matches": "x58",
         "range": [
          0.7905000000000001,
          0.9994999999999999
         ],
         "showticklabels": false
        },
        "xaxis19": {
         "anchor": "y19",
         "domain": [
          0.25625,
          0.359375
         ],
         "matches": "x59",
         "range": [
          0.948,
          0.992
         ],
         "showticklabels": false
        },
        "xaxis2": {
         "anchor": "y2",
         "domain": [
          0.128125,
          0.23124999999999998
         ],
         "matches": "x58",
         "range": [
          0.7905000000000001,
          0.9994999999999999
         ],
         "showticklabels": false
        },
        "xaxis20": {
         "anchor": "y20",
         "domain": [
          0.38437499999999997,
          0.48749999999999993
         ],
         "matches": "x60",
         "range": [
          0.000055,
          0.001045
         ],
         "showticklabels": false
        },
        "xaxis21": {
         "anchor": "y21",
         "domain": [
          0.5125,
          0.615625
         ],
         "matches": "x61",
         "range": [
          0.475,
          1.025
         ],
         "showticklabels": false
        },
        "xaxis22": {
         "anchor": "y22",
         "domain": [
          0.640625,
          0.74375
         ],
         "matches": "x62",
         "range": [
          5.199999999999999,
          66.8
         ],
         "showticklabels": false
        },
        "xaxis23": {
         "anchor": "y23",
         "domain": [
          0.7687499999999999,
          0.871875
         ],
         "matches": "x63",
         "range": [
          -0.05,
          1.05
         ],
         "showticklabels": false,
         "type": "category"
        },
        "xaxis24": {
         "anchor": "y24",
         "domain": [
          0.896875,
          1
         ],
         "matches": "x64",
         "range": [
          0.475,
          1.025
         ],
         "showticklabels": false
        },
        "xaxis25": {
         "anchor": "y25",
         "domain": [
          0,
          0.103125
         ],
         "matches": "x57",
         "range": [
          0.0055,
          0.10450000000000001
         ],
         "showticklabels": false
        },
        "xaxis26": {
         "anchor": "y26",
         "domain": [
          0.128125,
          0.23124999999999998
         ],
         "matches": "x58",
         "range": [
          0.7905000000000001,
          0.9994999999999999
         ],
         "showticklabels": false
        },
        "xaxis27": {
         "anchor": "y27",
         "domain": [
          0.25625,
          0.359375
         ],
         "matches": "x59",
         "range": [
          0.948,
          0.992
         ],
         "showticklabels": false
        },
        "xaxis28": {
         "anchor": "y28",
         "domain": [
          0.38437499999999997,
          0.48749999999999993
         ],
         "matches": "x60",
         "range": [
          0.000055,
          0.001045
         ],
         "showticklabels": false
        },
        "xaxis29": {
         "anchor": "y29",
         "domain": [
          0.5125,
          0.615625
         ],
         "matches": "x61",
         "range": [
          0.475,
          1.025
         ],
         "showticklabels": false
        },
        "xaxis3": {
         "anchor": "y3",
         "domain": [
          0.25625,
          0.359375
         ],
         "matches": "x59",
         "range": [
          0.948,
          0.992
         ],
         "showticklabels": false
        },
        "xaxis30": {
         "anchor": "y30",
         "domain": [
          0.640625,
          0.74375
         ],
         "matches": "x62",
         "range": [
          5.199999999999999,
          66.8
         ],
         "showticklabels": false
        },
        "xaxis31": {
         "anchor": "y31",
         "domain": [
          0.7687499999999999,
          0.871875
         ],
         "matches": "x63",
         "range": [
          -0.05,
          1.05
         ],
         "showticklabels": false,
         "type": "category"
        },
        "xaxis32": {
         "anchor": "y32",
         "domain": [
          0.896875,
          1
         ],
         "matches": "x64",
         "range": [
          0.475,
          1.025
         ],
         "showticklabels": false
        },
        "xaxis33": {
         "anchor": "y33",
         "domain": [
          0,
          0.103125
         ],
         "matches": "x57",
         "range": [
          0.0055,
          0.10450000000000001
         ],
         "showticklabels": false
        },
        "xaxis34": {
         "anchor": "y34",
         "domain": [
          0.128125,
          0.23124999999999998
         ],
         "matches": "x58",
         "range": [
          0.7905000000000001,
          0.9994999999999999
         ],
         "showticklabels": false
        },
        "xaxis35": {
         "anchor": "y35",
         "domain": [
          0.25625,
          0.359375
         ],
         "matches": "x59",
         "range": [
          0.948,
          0.992
         ],
         "showticklabels": false
        },
        "xaxis36": {
         "anchor": "y36",
         "domain": [
          0.38437499999999997,
          0.48749999999999993
         ],
         "matches": "x60",
         "range": [
          0.000055,
          0.001045
         ],
         "showticklabels": false
        },
        "xaxis37": {
         "anchor": "y37",
         "domain": [
          0.5125,
          0.615625
         ],
         "matches": "x61",
         "range": [
          0.475,
          1.025
         ],
         "showticklabels": false
        },
        "xaxis38": {
         "anchor": "y38",
         "domain": [
          0.640625,
          0.74375
         ],
         "matches": "x62",
         "range": [
          5.199999999999999,
          66.8
         ],
         "showticklabels": false
        },
        "xaxis39": {
         "anchor": "y39",
         "domain": [
          0.7687499999999999,
          0.871875
         ],
         "matches": "x63",
         "range": [
          -0.05,
          1.05
         ],
         "showticklabels": false,
         "type": "category"
        },
        "xaxis4": {
         "anchor": "y4",
         "domain": [
          0.38437499999999997,
          0.48749999999999993
         ],
         "matches": "x60",
         "range": [
          0.000055,
          0.001045
         ],
         "showticklabels": false
        },
        "xaxis40": {
         "anchor": "y40",
         "domain": [
          0.896875,
          1
         ],
         "matches": "x64",
         "range": [
          0.475,
          1.025
         ],
         "showticklabels": false
        },
        "xaxis41": {
         "anchor": "y41",
         "domain": [
          0,
          0.103125
         ],
         "matches": "x57",
         "range": [
          0.0055,
          0.10450000000000001
         ],
         "showticklabels": false
        },
        "xaxis42": {
         "anchor": "y42",
         "domain": [
          0.128125,
          0.23124999999999998
         ],
         "matches": "x58",
         "range": [
          0.7905000000000001,
          0.9994999999999999
         ],
         "showticklabels": false
        },
        "xaxis43": {
         "anchor": "y43",
         "domain": [
          0.25625,
          0.359375
         ],
         "matches": "x59",
         "range": [
          0.948,
          0.992
         ],
         "showticklabels": false
        },
        "xaxis44": {
         "anchor": "y44",
         "domain": [
          0.38437499999999997,
          0.48749999999999993
         ],
         "matches": "x60",
         "range": [
          0.000055,
          0.001045
         ],
         "showticklabels": false
        },
        "xaxis45": {
         "anchor": "y45",
         "domain": [
          0.5125,
          0.615625
         ],
         "matches": "x61",
         "range": [
          0.475,
          1.025
         ],
         "showticklabels": false
        },
        "xaxis46": {
         "anchor": "y46",
         "domain": [
          0.640625,
          0.74375
         ],
         "matches": "x62",
         "range": [
          5.199999999999999,
          66.8
         ],
         "showticklabels": false
        },
        "xaxis47": {
         "anchor": "y47",
         "domain": [
          0.7687499999999999,
          0.871875
         ],
         "matches": "x63",
         "range": [
          -0.05,
          1.05
         ],
         "showticklabels": false,
         "type": "category"
        },
        "xaxis48": {
         "anchor": "y48",
         "domain": [
          0.896875,
          1
         ],
         "matches": "x64",
         "range": [
          0.475,
          1.025
         ],
         "showticklabels": false
        },
        "xaxis49": {
         "anchor": "y49",
         "domain": [
          0,
          0.103125
         ],
         "matches": "x57",
         "range": [
          0.0055,
          0.10450000000000001
         ],
         "showticklabels": false
        },
        "xaxis5": {
         "anchor": "y5",
         "domain": [
          0.5125,
          0.615625
         ],
         "matches": "x61",
         "range": [
          0.475,
          1.025
         ],
         "showticklabels": false
        },
        "xaxis50": {
         "anchor": "y50",
         "domain": [
          0.128125,
          0.23124999999999998
         ],
         "matches": "x58",
         "range": [
          0.7905000000000001,
          0.9994999999999999
         ],
         "showticklabels": false
        },
        "xaxis51": {
         "anchor": "y51",
         "domain": [
          0.25625,
          0.359375
         ],
         "matches": "x59",
         "range": [
          0.948,
          0.992
         ],
         "showticklabels": false
        },
        "xaxis52": {
         "anchor": "y52",
         "domain": [
          0.38437499999999997,
          0.48749999999999993
         ],
         "matches": "x60",
         "range": [
          0.000055,
          0.001045
         ],
         "showticklabels": false
        },
        "xaxis53": {
         "anchor": "y53",
         "domain": [
          0.5125,
          0.615625
         ],
         "matches": "x61",
         "range": [
          0.475,
          1.025
         ],
         "showticklabels": false
        },
        "xaxis54": {
         "anchor": "y54",
         "domain": [
          0.640625,
          0.74375
         ],
         "matches": "x62",
         "range": [
          5.199999999999999,
          66.8
         ],
         "showticklabels": false
        },
        "xaxis55": {
         "anchor": "y55",
         "domain": [
          0.7687499999999999,
          0.871875
         ],
         "matches": "x63",
         "range": [
          -0.05,
          1.05
         ],
         "showticklabels": false,
         "type": "category"
        },
        "xaxis56": {
         "anchor": "y56",
         "domain": [
          0.896875,
          1
         ],
         "matches": "x64",
         "range": [
          0.475,
          1.025
         ],
         "showticklabels": false
        },
        "xaxis57": {
         "anchor": "y57",
         "domain": [
          0,
          0.103125
         ],
         "range": [
          0.0055,
          0.10450000000000001
         ],
         "title": {
          "text": "ent_coef"
         }
        },
        "xaxis58": {
         "anchor": "y58",
         "domain": [
          0.128125,
          0.23124999999999998
         ],
         "range": [
          0.7905000000000001,
          0.9994999999999999
         ],
         "title": {
          "text": "gae_lambda"
         }
        },
        "xaxis59": {
         "anchor": "y59",
         "domain": [
          0.25625,
          0.359375
         ],
         "range": [
          0.948,
          0.992
         ],
         "title": {
          "text": "gamma"
         }
        },
        "xaxis6": {
         "anchor": "y6",
         "domain": [
          0.640625,
          0.74375
         ],
         "matches": "x62",
         "range": [
          5.199999999999999,
          66.8
         ],
         "showticklabels": false
        },
        "xaxis60": {
         "anchor": "y60",
         "domain": [
          0.38437499999999997,
          0.48749999999999993
         ],
         "range": [
          0.000055,
          0.001045
         ],
         "title": {
          "text": "learning_rate"
         }
        },
        "xaxis61": {
         "anchor": "y61",
         "domain": [
          0.5125,
          0.615625
         ],
         "range": [
          0.475,
          1.025
         ],
         "title": {
          "text": "max_grad_norm"
         }
        },
        "xaxis62": {
         "anchor": "y62",
         "domain": [
          0.640625,
          0.74375
         ],
         "range": [
          5.199999999999999,
          66.8
         ],
         "title": {
          "text": "n_steps"
         }
        },
        "xaxis63": {
         "anchor": "y63",
         "domain": [
          0.7687499999999999,
          0.871875
         ],
         "range": [
          -0.05,
          1.05
         ],
         "title": {
          "text": "use_rms_prop"
         },
         "type": "category"
        },
        "xaxis64": {
         "anchor": "y64",
         "domain": [
          0.896875,
          1
         ],
         "range": [
          0.475,
          1.025
         ],
         "title": {
          "text": "vf_coef"
         }
        },
        "xaxis7": {
         "anchor": "y7",
         "domain": [
          0.7687499999999999,
          0.871875
         ],
         "matches": "x63",
         "range": [
          -0.05,
          1.05
         ],
         "showticklabels": false,
         "type": "category"
        },
        "xaxis8": {
         "anchor": "y8",
         "domain": [
          0.896875,
          1
         ],
         "matches": "x64",
         "range": [
          0.475,
          1.025
         ],
         "showticklabels": false
        },
        "xaxis9": {
         "anchor": "y9",
         "domain": [
          0,
          0.103125
         ],
         "matches": "x57",
         "range": [
          0.0055,
          0.10450000000000001
         ],
         "showticklabels": false
        },
        "yaxis": {
         "anchor": "x",
         "domain": [
          0.9078125000000001,
          1
         ],
         "range": [
          0.0055,
          0.10450000000000001
         ],
         "title": {
          "text": "ent_coef"
         }
        },
        "yaxis10": {
         "anchor": "x10",
         "domain": [
          0.7781250000000001,
          0.8703125
         ],
         "matches": "y9",
         "range": [
          0.7905000000000001,
          0.9994999999999999
         ],
         "showticklabels": false
        },
        "yaxis11": {
         "anchor": "x11",
         "domain": [
          0.7781250000000001,
          0.8703125
         ],
         "matches": "y9",
         "range": [
          0.7905000000000001,
          0.9994999999999999
         ],
         "showticklabels": false
        },
        "yaxis12": {
         "anchor": "x12",
         "domain": [
          0.7781250000000001,
          0.8703125
         ],
         "matches": "y9",
         "range": [
          0.7905000000000001,
          0.9994999999999999
         ],
         "showticklabels": false
        },
        "yaxis13": {
         "anchor": "x13",
         "domain": [
          0.7781250000000001,
          0.8703125
         ],
         "matches": "y9",
         "range": [
          0.7905000000000001,
          0.9994999999999999
         ],
         "showticklabels": false
        },
        "yaxis14": {
         "anchor": "x14",
         "domain": [
          0.7781250000000001,
          0.8703125
         ],
         "matches": "y9",
         "range": [
          0.7905000000000001,
          0.9994999999999999
         ],
         "showticklabels": false
        },
        "yaxis15": {
         "anchor": "x15",
         "domain": [
          0.7781250000000001,
          0.8703125
         ],
         "matches": "y9",
         "range": [
          0.7905000000000001,
          0.9994999999999999
         ],
         "showticklabels": false
        },
        "yaxis16": {
         "anchor": "x16",
         "domain": [
          0.7781250000000001,
          0.8703125
         ],
         "matches": "y9",
         "range": [
          0.7905000000000001,
          0.9994999999999999
         ],
         "showticklabels": false
        },
        "yaxis17": {
         "anchor": "x17",
         "domain": [
          0.6484375,
          0.740625
         ],
         "range": [
          0.948,
          0.992
         ],
         "title": {
          "text": "gamma"
         }
        },
        "yaxis18": {
         "anchor": "x18",
         "domain": [
          0.6484375,
          0.740625
         ],
         "matches": "y17",
         "range": [
          0.948,
          0.992
         ],
         "showticklabels": false
        },
        "yaxis19": {
         "anchor": "x19",
         "domain": [
          0.6484375,
          0.740625
         ],
         "matches": "y17",
         "range": [
          0.948,
          0.992
         ],
         "showticklabels": false
        },
        "yaxis2": {
         "anchor": "x2",
         "domain": [
          0.9078125000000001,
          1
         ],
         "matches": "y",
         "range": [
          0.0055,
          0.10450000000000001
         ],
         "showticklabels": false
        },
        "yaxis20": {
         "anchor": "x20",
         "domain": [
          0.6484375,
          0.740625
         ],
         "matches": "y17",
         "range": [
          0.948,
          0.992
         ],
         "showticklabels": false
        },
        "yaxis21": {
         "anchor": "x21",
         "domain": [
          0.6484375,
          0.740625
         ],
         "matches": "y17",
         "range": [
          0.948,
          0.992
         ],
         "showticklabels": false
        },
        "yaxis22": {
         "anchor": "x22",
         "domain": [
          0.6484375,
          0.740625
         ],
         "matches": "y17",
         "range": [
          0.948,
          0.992
         ],
         "showticklabels": false
        },
        "yaxis23": {
         "anchor": "x23",
         "domain": [
          0.6484375,
          0.740625
         ],
         "matches": "y17",
         "range": [
          0.948,
          0.992
         ],
         "showticklabels": false
        },
        "yaxis24": {
         "anchor": "x24",
         "domain": [
          0.6484375,
          0.740625
         ],
         "matches": "y17",
         "range": [
          0.948,
          0.992
         ],
         "showticklabels": false
        },
        "yaxis25": {
         "anchor": "x25",
         "domain": [
          0.51875,
          0.6109375
         ],
         "range": [
          0.000055,
          0.001045
         ],
         "title": {
          "text": "learning_rate"
         }
        },
        "yaxis26": {
         "anchor": "x26",
         "domain": [
          0.51875,
          0.6109375
         ],
         "matches": "y25",
         "range": [
          0.000055,
          0.001045
         ],
         "showticklabels": false
        },
        "yaxis27": {
         "anchor": "x27",
         "domain": [
          0.51875,
          0.6109375
         ],
         "matches": "y25",
         "range": [
          0.000055,
          0.001045
         ],
         "showticklabels": false
        },
        "yaxis28": {
         "anchor": "x28",
         "domain": [
          0.51875,
          0.6109375
         ],
         "matches": "y25",
         "range": [
          0.000055,
          0.001045
         ],
         "showticklabels": false
        },
        "yaxis29": {
         "anchor": "x29",
         "domain": [
          0.51875,
          0.6109375
         ],
         "matches": "y25",
         "range": [
          0.000055,
          0.001045
         ],
         "showticklabels": false
        },
        "yaxis3": {
         "anchor": "x3",
         "domain": [
          0.9078125000000001,
          1
         ],
         "matches": "y",
         "range": [
          0.0055,
          0.10450000000000001
         ],
         "showticklabels": false
        },
        "yaxis30": {
         "anchor": "x30",
         "domain": [
          0.51875,
          0.6109375
         ],
         "matches": "y25",
         "range": [
          0.000055,
          0.001045
         ],
         "showticklabels": false
        },
        "yaxis31": {
         "anchor": "x31",
         "domain": [
          0.51875,
          0.6109375
         ],
         "matches": "y25",
         "range": [
          0.000055,
          0.001045
         ],
         "showticklabels": false
        },
        "yaxis32": {
         "anchor": "x32",
         "domain": [
          0.51875,
          0.6109375
         ],
         "matches": "y25",
         "range": [
          0.000055,
          0.001045
         ],
         "showticklabels": false
        },
        "yaxis33": {
         "anchor": "x33",
         "domain": [
          0.38906250000000003,
          0.48125000000000007
         ],
         "range": [
          0.475,
          1.025
         ],
         "title": {
          "text": "max_grad_norm"
         }
        },
        "yaxis34": {
         "anchor": "x34",
         "domain": [
          0.38906250000000003,
          0.48125000000000007
         ],
         "matches": "y33",
         "range": [
          0.475,
          1.025
         ],
         "showticklabels": false
        },
        "yaxis35": {
         "anchor": "x35",
         "domain": [
          0.38906250000000003,
          0.48125000000000007
         ],
         "matches": "y33",
         "range": [
          0.475,
          1.025
         ],
         "showticklabels": false
        },
        "yaxis36": {
         "anchor": "x36",
         "domain": [
          0.38906250000000003,
          0.48125000000000007
         ],
         "matches": "y33",
         "range": [
          0.475,
          1.025
         ],
         "showticklabels": false
        },
        "yaxis37": {
         "anchor": "x37",
         "domain": [
          0.38906250000000003,
          0.48125000000000007
         ],
         "matches": "y33",
         "range": [
          0.475,
          1.025
         ],
         "showticklabels": false
        },
        "yaxis38": {
         "anchor": "x38",
         "domain": [
          0.38906250000000003,
          0.48125000000000007
         ],
         "matches": "y33",
         "range": [
          0.475,
          1.025
         ],
         "showticklabels": false
        },
        "yaxis39": {
         "anchor": "x39",
         "domain": [
          0.38906250000000003,
          0.48125000000000007
         ],
         "matches": "y33",
         "range": [
          0.475,
          1.025
         ],
         "showticklabels": false
        },
        "yaxis4": {
         "anchor": "x4",
         "domain": [
          0.9078125000000001,
          1
         ],
         "matches": "y",
         "range": [
          0.0055,
          0.10450000000000001
         ],
         "showticklabels": false
        },
        "yaxis40": {
         "anchor": "x40",
         "domain": [
          0.38906250000000003,
          0.48125000000000007
         ],
         "matches": "y33",
         "range": [
          0.475,
          1.025
         ],
         "showticklabels": false
        },
        "yaxis41": {
         "anchor": "x41",
         "domain": [
          0.259375,
          0.3515625
         ],
         "range": [
          5.199999999999999,
          66.8
         ],
         "title": {
          "text": "n_steps"
         }
        },
        "yaxis42": {
         "anchor": "x42",
         "domain": [
          0.259375,
          0.3515625
         ],
         "matches": "y41",
         "range": [
          5.199999999999999,
          66.8
         ],
         "showticklabels": false
        },
        "yaxis43": {
         "anchor": "x43",
         "domain": [
          0.259375,
          0.3515625
         ],
         "matches": "y41",
         "range": [
          5.199999999999999,
          66.8
         ],
         "showticklabels": false
        },
        "yaxis44": {
         "anchor": "x44",
         "domain": [
          0.259375,
          0.3515625
         ],
         "matches": "y41",
         "range": [
          5.199999999999999,
          66.8
         ],
         "showticklabels": false
        },
        "yaxis45": {
         "anchor": "x45",
         "domain": [
          0.259375,
          0.3515625
         ],
         "matches": "y41",
         "range": [
          5.199999999999999,
          66.8
         ],
         "showticklabels": false
        },
        "yaxis46": {
         "anchor": "x46",
         "domain": [
          0.259375,
          0.3515625
         ],
         "matches": "y41",
         "range": [
          5.199999999999999,
          66.8
         ],
         "showticklabels": false
        },
        "yaxis47": {
         "anchor": "x47",
         "domain": [
          0.259375,
          0.3515625
         ],
         "matches": "y41",
         "range": [
          5.199999999999999,
          66.8
         ],
         "showticklabels": false
        },
        "yaxis48": {
         "anchor": "x48",
         "domain": [
          0.259375,
          0.3515625
         ],
         "matches": "y41",
         "range": [
          5.199999999999999,
          66.8
         ],
         "showticklabels": false
        },
        "yaxis49": {
         "anchor": "x49",
         "domain": [
          0.1296875,
          0.22187500000000002
         ],
         "range": [
          -0.05,
          1.05
         ],
         "title": {
          "text": "use_rms_prop"
         },
         "type": "category"
        },
        "yaxis5": {
         "anchor": "x5",
         "domain": [
          0.9078125000000001,
          1
         ],
         "matches": "y",
         "range": [
          0.0055,
          0.10450000000000001
         ],
         "showticklabels": false
        },
        "yaxis50": {
         "anchor": "x50",
         "domain": [
          0.1296875,
          0.22187500000000002
         ],
         "matches": "y49",
         "range": [
          -0.05,
          1.05
         ],
         "showticklabels": false,
         "type": "category"
        },
        "yaxis51": {
         "anchor": "x51",
         "domain": [
          0.1296875,
          0.22187500000000002
         ],
         "matches": "y49",
         "range": [
          -0.05,
          1.05
         ],
         "showticklabels": false,
         "type": "category"
        },
        "yaxis52": {
         "anchor": "x52",
         "domain": [
          0.1296875,
          0.22187500000000002
         ],
         "matches": "y49",
         "range": [
          -0.05,
          1.05
         ],
         "showticklabels": false,
         "type": "category"
        },
        "yaxis53": {
         "anchor": "x53",
         "domain": [
          0.1296875,
          0.22187500000000002
         ],
         "matches": "y49",
         "range": [
          -0.05,
          1.05
         ],
         "showticklabels": false,
         "type": "category"
        },
        "yaxis54": {
         "anchor": "x54",
         "domain": [
          0.1296875,
          0.22187500000000002
         ],
         "matches": "y49",
         "range": [
          -0.05,
          1.05
         ],
         "showticklabels": false,
         "type": "category"
        },
        "yaxis55": {
         "anchor": "x55",
         "domain": [
          0.1296875,
          0.22187500000000002
         ],
         "matches": "y49",
         "range": [
          -0.05,
          1.05
         ],
         "showticklabels": false,
         "type": "category"
        },
        "yaxis56": {
         "anchor": "x56",
         "domain": [
          0.1296875,
          0.22187500000000002
         ],
         "matches": "y49",
         "range": [
          -0.05,
          1.05
         ],
         "showticklabels": false,
         "type": "category"
        },
        "yaxis57": {
         "anchor": "x57",
         "domain": [
          0,
          0.0921875
         ],
         "range": [
          0.475,
          1.025
         ],
         "title": {
          "text": "vf_coef"
         }
        },
        "yaxis58": {
         "anchor": "x58",
         "domain": [
          0,
          0.0921875
         ],
         "matches": "y57",
         "range": [
          0.475,
          1.025
         ],
         "showticklabels": false
        },
        "yaxis59": {
         "anchor": "x59",
         "domain": [
          0,
          0.0921875
         ],
         "matches": "y57",
         "range": [
          0.475,
          1.025
         ],
         "showticklabels": false
        },
        "yaxis6": {
         "anchor": "x6",
         "domain": [
          0.9078125000000001,
          1
         ],
         "matches": "y",
         "range": [
          0.0055,
          0.10450000000000001
         ],
         "showticklabels": false
        },
        "yaxis60": {
         "anchor": "x60",
         "domain": [
          0,
          0.0921875
         ],
         "matches": "y57",
         "range": [
          0.475,
          1.025
         ],
         "showticklabels": false
        },
        "yaxis61": {
         "anchor": "x61",
         "domain": [
          0,
          0.0921875
         ],
         "matches": "y57",
         "range": [
          0.475,
          1.025
         ],
         "showticklabels": false
        },
        "yaxis62": {
         "anchor": "x62",
         "domain": [
          0,
          0.0921875
         ],
         "matches": "y57",
         "range": [
          0.475,
          1.025
         ],
         "showticklabels": false
        },
        "yaxis63": {
         "anchor": "x63",
         "domain": [
          0,
          0.0921875
         ],
         "matches": "y57",
         "range": [
          0.475,
          1.025
         ],
         "showticklabels": false
        },
        "yaxis64": {
         "anchor": "x64",
         "domain": [
          0,
          0.0921875
         ],
         "matches": "y57",
         "range": [
          0.475,
          1.025
         ],
         "showticklabels": false
        },
        "yaxis7": {
         "anchor": "x7",
         "domain": [
          0.9078125000000001,
          1
         ],
         "matches": "y",
         "range": [
          0.0055,
          0.10450000000000001
         ],
         "showticklabels": false
        },
        "yaxis8": {
         "anchor": "x8",
         "domain": [
          0.9078125000000001,
          1
         ],
         "matches": "y",
         "range": [
          0.0055,
          0.10450000000000001
         ],
         "showticklabels": false
        },
        "yaxis9": {
         "anchor": "x9",
         "domain": [
          0.7781250000000001,
          0.8703125
         ],
         "range": [
          0.7905000000000001,
          0.9994999999999999
         ],
         "title": {
          "text": "gae_lambda"
         }
        }
       }
      }
     },
     "metadata": {},
     "output_type": "display_data"
    }
   ],
   "source": [
    "from optuna.visualization import plot_contour\n",
    "\n",
    "fig = plot_contour(study)\n",
    "fig.show()"
   ]
  }
 ],
 "metadata": {
  "kernelspec": {
   "display_name": "rl-scm",
   "language": "python",
   "name": "python3"
  },
  "language_info": {
   "codemirror_mode": {
    "name": "ipython",
    "version": 3
   },
   "file_extension": ".py",
   "mimetype": "text/x-python",
   "name": "python",
   "nbconvert_exporter": "python",
   "pygments_lexer": "ipython3",
   "version": "3.12.3"
  }
 },
 "nbformat": 4,
 "nbformat_minor": 2
}
