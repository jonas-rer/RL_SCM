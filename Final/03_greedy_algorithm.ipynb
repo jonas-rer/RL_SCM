{
 "cells": [
  {
   "cell_type": "code",
   "execution_count": null,
   "metadata": {},
   "outputs": [],
   "source": [
    "# Imports\n",
    "import networkx as nx\n",
    "from networkx.drawing.nx_agraph import graphviz_layout\n",
    "\n",
    "# Import helpers\n",
    "import numpy as np\n",
    "import pandas as pd\n",
    "import random\n",
    "import os\n",
    "import json\n",
    "import matplotlib.pyplot as plt\n",
    "import seaborn as sns\n",
    "\n",
    "# Import custom classes\n",
    "from Environment.env_v9 import *\n",
    "from Functions.visualization_functions import *\n",
    "\n",
    "# Import custom functions\n",
    "from Functions.greedy_algorithm import *"
   ]
  },
  {
   "cell_type": "code",
   "execution_count": null,
   "metadata": {},
   "outputs": [],
   "source": [
    "# Configuration of the network\n",
    "with open('./Config/network_config_v1.json') as file:\n",
    "    network_config = file.read()\n",
    "\n",
    "EP_LENGTH = 100 # Length of the episode"
   ]
  },
  {
   "cell_type": "code",
   "execution_count": null,
   "metadata": {},
   "outputs": [],
   "source": [
    "def load_config(config_file):\n",
    "\n",
    "    with open(config_file, \"r\") as f:\n",
    "        config = json.load(f)\n",
    "    return config\n",
    "\n",
    "def make_env(config_file=\"config.json\"):\n",
    "\n",
    "    config = load_config(config_file)\n",
    "\n",
    "    env = SS_Mngmt_Env(\n",
    "        network_config=network_config,\n",
    "        EP_LENGTH=EP_LENGTH,\n",
    "        render_mode=\"human\",\n",
    "        model_type=\"greedy\",\n",
    "        stockout_cost=config[\"stockout_cost\"],\n",
    "        order_cost=config[\"order_cost\"],\n",
    "        item_cost=config[\"item_cost\"],\n",
    "        stock_cost=config[\"stock_cost\"],\n",
    "        item_prize=config[\"item_prize\"],\n",
    "        progressive_stock_cost=config[\"progressive_stock_cost\"],\n",
    "        stock_out_max=1000,\n",
    "        order_quantities=config[\"order_quantities\"],\n",
    "        demand_mean=config[\"demand_mean\"],\n",
    "        demand_std=config[\"demand_std\"],\n",
    "        demand_noise=config[\"demand_noise\"],\n",
    "        demand_noise_std=config[\"demand_noise_std\"],\n",
    "        demand_prob=config[\"demand_prob\"],\n",
    "        extreme=True,\n",
    "        seasonality=True,\n",
    "        intermediate_reward=1000,\n",
    "    )\n",
    "\n",
    "    return env\n",
    "\n",
    "env = make_env(\"./Config/env_config_v0.json\")\n",
    "\n",
    "check_env(env, warn=True)"
   ]
  },
  {
   "cell_type": "code",
   "execution_count": null,
   "metadata": {},
   "outputs": [],
   "source": [
    "greedy_algorithm(env,\n",
    "                 num_episodes=1,\n",
    "                 episode_length=EP_LENGTH)"
   ]
  },
  {
   "cell_type": "code",
   "execution_count": null,
   "metadata": {},
   "outputs": [],
   "source": [
    "df = pd.read_csv('./Data/2024-12-04_environment_data_greedy.csv')\n",
    "plot_data(df)"
   ]
  },
  {
   "cell_type": "code",
   "execution_count": null,
   "metadata": {},
   "outputs": [],
   "source": [
    "# def load_config(config_file):\n",
    "\n",
    "#     with open(config_file, \"r\") as f:\n",
    "#         config = json.load(f)\n",
    "#     return config\n",
    "\n",
    "# def make_env(config_file=\"config.json\"):\n",
    "\n",
    "#     config = load_config(config_file)\n",
    "\n",
    "#     env = SS_Mngmt_Env(\n",
    "#         network_config=network_config,\n",
    "#         EP_LENGTH=EP_LENGTH,\n",
    "#         render_mode=\"human\",\n",
    "#         model_type=\"monte_carlo\",\n",
    "#         stockout_cost=config[\"stockout_cost\"],\n",
    "#         order_cost=config[\"order_cost\"],\n",
    "#         item_cost=config[\"item_cost\"],\n",
    "#         stock_cost=config[\"stock_cost\"],\n",
    "#         item_prize=config[\"item_prize\"],\n",
    "#         progressive_stock_cost=config[\"progressive_stock_cost\"],\n",
    "#         stock_out_max=1000,\n",
    "#         order_quantities=config[\"order_quantities\"],\n",
    "#         demand_mean=config[\"demand_mean\"],\n",
    "#         demand_std=config[\"demand_std\"],\n",
    "#         demand_noise=config[\"demand_noise\"],\n",
    "#         demand_noise_std=config[\"demand_noise_std\"],\n",
    "#         demand_prob=config[\"demand_prob\"],\n",
    "#         extreme=True,\n",
    "#         seasonality=True,\n",
    "#         intermediate_reward=1000,\n",
    "#     )\n",
    "\n",
    "#     return env\n",
    "\n",
    "# env = make_env(\"./Config/env_config_v0.json\")\n",
    "\n",
    "# check_env(env, warn=True)"
   ]
  },
  {
   "cell_type": "code",
   "execution_count": null,
   "metadata": {},
   "outputs": [],
   "source": [
    "# num_episodes = 10\n",
    "# episode_length = 100\n",
    "# lookahead_depth = 3\n",
    "# discount_factor = 0.9\n",
    "# num_rollouts = 10\n",
    "# rollout_length = 5\n",
    "\n",
    "# total_rewards = monte_carlo_agent(\n",
    "#     env,\n",
    "#     num_episodes,\n",
    "#     episode_length,\n",
    "#     lookahead_depth,\n",
    "#     discount_factor,\n",
    "#     num_rollouts,\n",
    "#     rollout_length\n",
    "# )\n",
    "\n",
    "# total_rewards"
   ]
  },
  {
   "cell_type": "code",
   "execution_count": null,
   "metadata": {},
   "outputs": [],
   "source": [
    "# df = pd.read_csv('./Data/2024-12-04_environment_data_monte_carlo.csv')\n",
    "# plot_data(df)"
   ]
  }
 ],
 "metadata": {
  "kernelspec": {
   "display_name": "rl-scm",
   "language": "python",
   "name": "python3"
  },
  "language_info": {
   "codemirror_mode": {
    "name": "ipython",
    "version": 3
   },
   "file_extension": ".py",
   "mimetype": "text/x-python",
   "name": "python",
   "nbconvert_exporter": "python",
   "pygments_lexer": "ipython3",
   "version": "3.12.3"
  }
 },
 "nbformat": 4,
 "nbformat_minor": 2
}
