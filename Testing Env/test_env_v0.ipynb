{
 "cells": [
  {
   "cell_type": "markdown",
   "metadata": {},
   "source": [
    "**Importing Dependencies**"
   ]
  },
  {
   "cell_type": "code",
   "execution_count": null,
   "metadata": {},
   "outputs": [],
   "source": [
    "# Gymnasium imports\n",
    "import gymnasium as gym \n",
    "from gymnasium import Env\n",
    "from gymnasium.spaces import Discrete, Box, Dict, Tuple, MultiBinary, MultiDiscrete \n",
    "\n",
    "# Import helpers\n",
    "import numpy as np\n",
    "import random\n",
    "import os\n",
    "\n",
    "# Import stable baselines\n",
    "# Probably not needed\n",
    "from stable_baselines3 import PPO\n",
    "from stable_baselines3.common.vec_env import VecFrameStack\n",
    "from stable_baselines3.common.evaluation import evaluate_policy"
   ]
  },
  {
   "cell_type": "markdown",
   "metadata": {},
   "source": [
    "**Building the environment**\n",
    "\n",
    "Description of the environemnt:\n",
    "\n",
    "- Lorem\n",
    "- Lorem\n",
    "- Lorem\n",
    "\n",
    "Is there a length definition for the class? For how long should the simulation run?\n",
    "\n",
    "What is the initial state of the environment?"
   ]
  },
  {
   "cell_type": "code",
   "execution_count": null,
   "metadata": {},
   "outputs": [],
   "source": [
    "class sefety_stock_management(Env):\n",
    "    \n",
    "    # Define the action and observation space\n",
    "    def __init__(self):\n",
    "\n",
    "        # Define action and observation space\n",
    "        self.action_space = None\n",
    "        \n",
    "        self.observation_space = None\n",
    "\n",
    "        self.state = None\n",
    "\n",
    "        pass\n",
    "\n",
    "    # Defining the step function\n",
    "    def step(self, action):\n",
    "\n",
    "        # Returns the next state, reward and whether the episode is done\n",
    "\n",
    "        pass\n",
    "\n",
    "    def render(self):\n",
    "        # not needed since visualization is hardly possible for this\n",
    "        pass\n",
    "\n",
    "    def reset(self):\n",
    "        # Reset the state of the environment back to an initial state\n",
    "\n",
    "\n",
    "        pass\n"
   ]
  }
 ],
 "metadata": {
  "language_info": {
   "name": "python"
  }
 },
 "nbformat": 4,
 "nbformat_minor": 2
}
